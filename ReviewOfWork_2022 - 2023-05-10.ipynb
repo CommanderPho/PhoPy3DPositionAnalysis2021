{
 "cells": [
  {
   "cell_type": "code",
   "execution_count": 88,
   "id": "0056bc66-7629-4ef7-8c87-f28f8fcd9dc8",
   "metadata": {
    "autorun": true,
    "tags": [
     "imports",
     "REQUIRED",
     "ACTIVE"
    ]
   },
   "outputs": [
    {
     "name": "stdout",
     "output_type": "stream",
     "text": [
      "Automatic pdb calling has been turned OFF\n",
      "The autoreload extension is already loaded. To reload it, use:\n",
      "  %reload_ext autoreload\n"
     ]
    }
   ],
   "source": [
    "%config IPCompleter.use_jedi = False\n",
    "%pdb off\n",
    "# %load_ext viztracer\n",
    "# from viztracer import VizTracer\n",
    "%load_ext autoreload\n",
    "%autoreload 3\n",
    "import sys\n",
    "from pathlib import Path\n",
    "\n",
    "# required to enable non-blocking interaction:\n",
    "%gui qt5\n",
    "\n",
    "from copy import deepcopy\n",
    "from numba import jit\n",
    "import numpy as np\n",
    "import pandas as pd\n",
    "\n",
    "# Pho's Formatting Preferences\n",
    "# from pyphocorehelpers.preferences_helpers import set_pho_preferences, set_pho_preferences_concise, set_pho_preferences_verbose\n",
    "# set_pho_preferences_concise()\n",
    "\n",
    "## Pho's Custom Libraries:\n",
    "from pyphocorehelpers.general_helpers import CodeConversion\n",
    "from pyphocorehelpers.function_helpers import function_attributes\n",
    "from pyphocorehelpers.print_helpers import print_keys_if_possible, print_value_overview_only, document_active_variables, objsize, print_object_memory_usage, debug_dump_object_member_shapes, TypePrintMode\n",
    "from pyphocorehelpers.print_helpers import get_now_day_str, get_now_time_str, get_now_time_precise_str\n",
    "from pyphocorehelpers.programming_helpers import IPythonHelpers\n",
    "from pyphocorehelpers.Filesystem.path_helpers import find_first_extant_path\n",
    "\n",
    "# NeuroPy (Diba Lab Python Repo) Loading\n",
    "# from neuropy import core\n",
    "from neuropy.analyses.placefields import PlacefieldComputationParameters\n",
    "from neuropy.core.epoch import NamedTimerange, Epoch\n",
    "from neuropy.core.ratemap import Ratemap\n",
    "from neuropy.core.session.Formats.BaseDataSessionFormats import DataSessionFormatRegistryHolder\n",
    "from neuropy.core.session.Formats.Specific.BapunDataSessionFormat import BapunDataSessionFormatRegisteredClass\n",
    "from neuropy.core.session.Formats.Specific.KDibaOldDataSessionFormat import KDibaOldDataSessionFormatRegisteredClass\n",
    "from neuropy.core.session.Formats.Specific.RachelDataSessionFormat import RachelDataSessionFormat\n",
    "from neuropy.core.session.Formats.Specific.HiroDataSessionFormat import HiroDataSessionFormatRegisteredClass\n",
    "\n",
    "## For computation parameters:\n",
    "from neuropy.analyses.placefields import PlacefieldComputationParameters\n",
    "from neuropy.utils.dynamic_container import DynamicContainer\n",
    "from neuropy.utils.result_context import IdentifyingContext\n",
    "from neuropy.core.session.Formats.BaseDataSessionFormats import find_local_session_paths\n",
    "\n",
    "# pyPhoPlaceCellAnalysis:\n",
    "from pyphoplacecellanalysis.General.Pipeline.NeuropyPipeline import NeuropyPipeline # get_neuron_identities\n",
    "from pyphoplacecellanalysis.General.Mixins.ExportHelpers import export_pyqtgraph_plot\n",
    "from pyphoplacecellanalysis.General.Batch.NonInteractiveWrapper import batch_load_session, batch_extended_computations, SessionBatchProgress, batch_programmatic_figures, batch_extended_programmatic_figures\n",
    "from pyphoplacecellanalysis.General.Pipeline.NeuropyPipeline import PipelineSavingScheme\n",
    "from pyphoplacecellanalysis.Pho2D.matplotlib.visualize_heatmap import visualize_heatmap\n",
    "\n",
    "# from PendingNotebookCode import _perform_batch_plot, _build_batch_plot_kwargs\n",
    "\n",
    "session_batch_status = {}\n",
    "session_batch_errors = {}\n",
    "enable_saving_to_disk = False\n",
    "\n",
    "global_data_root_parent_path = find_first_extant_path([Path(r'W:\\Data'), Path(r'/media/MAX/Data'), Path(r'/Volumes/MoverNew/data'), Path(r'/home/halechr/turbo/Data')])\n",
    "assert global_data_root_parent_path.exists(), f\"global_data_root_parent_path: {global_data_root_parent_path} does not exist! Is the right computer's config commented out above?\""
   ]
  },
  {
   "attachments": {},
   "cell_type": "markdown",
   "id": "a1538e2a-4e39-4d11-90b5-a9fef9258058",
   "metadata": {
    "tags": [
     "REQUIRED",
     "ACTIVE"
    ]
   },
   "source": [
    "# Load Pipeline"
   ]
  },
  {
   "cell_type": "code",
   "execution_count": null,
   "id": "f917bad9-8fe7-4882-b83b-71cf878fffd2",
   "metadata": {
    "tags": [
     "load",
     "REQUIRED"
    ]
   },
   "outputs": [],
   "source": [
    "# ==================================================================================================================== #\n",
    "# Load Data                                                                                                            #\n",
    "# ==================================================================================================================== #\n",
    "\n",
    "active_data_mode_name = 'kdiba'\n",
    "\n",
    "## Data must be pre-processed using the MATLAB script located here: \n",
    "#     neuropy/data_session_pre_processing_scripts/KDIBA/IIDataMat_Export_ToPython_2022_08_01.m\n",
    "# From pre-computed .mat files:\n",
    "\n",
    "local_session_root_parent_context = IdentifyingContext(format_name=active_data_mode_name) # , animal_name='', configuration_name='one', session_name=self.session_name\n",
    "local_session_root_parent_path = global_data_root_parent_path.joinpath('KDIBA')\n",
    "\n",
    "# # Animal `gor01`:\n",
    "local_session_parent_context = local_session_root_parent_context.adding_context(collision_prefix='animal', animal='gor01', exper_name='one') # IdentifyingContext<('kdiba', 'gor01', 'one')>\n",
    "local_session_parent_path = local_session_root_parent_path.joinpath(local_session_parent_context.animal, local_session_parent_context.exper_name) # 'gor01', 'one'\n",
    "local_session_paths_list, local_session_names_list =  find_local_session_paths(local_session_parent_path, blacklist=['PhoHelpers', 'Spike3D-Minimal-Test', 'Unused'])\n",
    "\n",
    "# local_session_parent_context = local_session_root_parent_context.adding_context(collision_prefix='animal', animal='gor01', exper_name='two')\n",
    "# local_session_parent_path = local_session_root_parent_path.joinpath(local_session_parent_context.animal, local_session_parent_context.exper_name)\n",
    "# local_session_paths_list, local_session_names_list =  find_local_session_paths(local_session_parent_path, blacklist=[])\n",
    "\n",
    "# ## Animal `vvp01`:\n",
    "# local_session_parent_context = local_session_root_parent_context.adding_context(collision_prefix='animal', animal='vvp01', exper_name='one')\n",
    "# local_session_parent_path = local_session_root_parent_path.joinpath(local_session_parent_context.animal, local_session_parent_context.exper_name)\n",
    "# local_session_paths_list, local_session_names_list =  find_local_session_paths(local_session_parent_path, blacklist=[])\n",
    "\n",
    "# local_session_parent_context = local_session_root_parent_context.adding_context(collision_prefix='animal', animal='vvp01', exper_name='two')\n",
    "# local_session_parent_path = local_session_root_parent_path.joinpath(local_session_parent_context.animal, local_session_parent_context.exper_name)\n",
    "# local_session_paths_list, local_session_names_list =  find_local_session_paths(local_session_parent_path, blacklist=[])\n",
    "\n",
    "# ### Animal `pin01`:\n",
    "# local_session_parent_context = local_session_root_parent_context.adding_context(collision_prefix='animal', animal='pin01', exper_name='one')\n",
    "# local_session_parent_path = local_session_root_parent_path.joinpath(local_session_parent_context.animal, local_session_parent_context.exper_name) # no exper_name ('one' or 'two') folders for this animal.\n",
    "# local_session_paths_list, local_session_names_list =  find_local_session_paths(local_session_parent_path, blacklist=['redundant','showclus','sleep','tmaze'])\n",
    "\n",
    "## Build session contexts list:\n",
    "local_session_contexts_list = [local_session_parent_context.adding_context(collision_prefix='sess', session_name=a_name) for a_name in local_session_names_list] # [IdentifyingContext<('kdiba', 'gor01', 'one', '2006-6-07_11-26-53')>, ..., IdentifyingContext<('kdiba', 'gor01', 'one', '2006-6-13_14-42-6')>]\n",
    "\n",
    "## Initialize `session_batch_status` with the NOT_STARTED status if it doesn't already have a different status\n",
    "for curr_session_basedir in local_session_paths_list:\n",
    "    curr_session_status = session_batch_status.get(curr_session_basedir, None)\n",
    "    if curr_session_status is None:\n",
    "        session_batch_status[curr_session_basedir] = SessionBatchProgress.NOT_STARTED # set to not started if not present\n",
    "        # session_batch_status[curr_session_basedir] = SessionBatchProgress.COMPLETED # set to not started if not present\n",
    "\n",
    "session_batch_status"
   ]
  },
  {
   "cell_type": "code",
   "execution_count": null,
   "id": "d13e68b4-03e0-4388-a35c-87a352a6e6b3",
   "metadata": {
    "tags": [
     "load",
     "single_session",
     "REQUIRED"
    ]
   },
   "outputs": [],
   "source": [
    "%pdb off\n",
    "# %%viztracer\n",
    "basedir = local_session_paths_list[1] # NOT 3\n",
    "print(f'basedir: {str(basedir)}')\n",
    "\n",
    "# Read if possible:\n",
    "saving_mode = PipelineSavingScheme.SKIP_SAVING\n",
    "force_reload = False\n",
    "\n",
    "# # Force write:\n",
    "# saving_mode = PipelineSavingScheme.OVERWRITE_IN_PLACE\n",
    "# force_reload = True\n",
    "\n",
    "# ==================================================================================================================== #\n",
    "# Load Pipeline                                                                                                        #\n",
    "# ==================================================================================================================== #\n",
    "# epoch_name_whitelist = ['maze']\n",
    "epoch_name_whitelist = None\n",
    "active_computation_functions_name_whitelist=['_perform_baseline_placefield_computation', '_perform_time_dependent_placefield_computation', '_perform_extended_statistics_computation',\n",
    "                                        '_perform_position_decoding_computation', \n",
    "                                        '_perform_firing_rate_trends_computation',\n",
    "                                        # '_perform_pf_find_ratemap_peaks_computation',\n",
    "                                        '_perform_time_dependent_pf_sequential_surprise_computation'\n",
    "                                        '_perform_two_step_position_decoding_computation',\n",
    "                                        # '_perform_recursive_latent_placefield_decoding'\n",
    "                                    ]\n",
    "curr_active_pipeline = batch_load_session(global_data_root_parent_path, active_data_mode_name, basedir, epoch_name_whitelist=epoch_name_whitelist,\n",
    "                                          computation_functions_name_whitelist=active_computation_functions_name_whitelist,\n",
    "                                          saving_mode=saving_mode, force_reload=force_reload,\n",
    "                                          skip_extended_batch_computations=True, debug_print=False, fail_on_exception=True)"
   ]
  },
  {
   "cell_type": "code",
   "execution_count": null,
   "id": "e403d1fb",
   "metadata": {},
   "outputs": [],
   "source": [
    "from pyphoplacecellanalysis.General.Mixins.ExportHelpers import create_daily_programmatic_display_function_testing_folder_if_needed, session_context_to_relative_path\n",
    "# 2023-01-* - Call extended computations to build `_display_short_long_firing_rate_index_comparison` figures:\n",
    "extended_computations_include_whitelist=['long_short_fr_indicies_analyses', 'jonathan_firing_rate_analysis', 'long_short_decoding_analyses'] # do only specifiedl\n",
    "newly_computed_values = batch_extended_computations(curr_active_pipeline, include_whitelist=extended_computations_include_whitelist, include_global_functions=True, fail_on_exception=True, progress_print=True, force_recompute=True, debug_print=False)\n",
    "newly_computed_values"
   ]
  },
  {
   "cell_type": "code",
   "execution_count": null,
   "id": "7870fbe1",
   "metadata": {},
   "outputs": [],
   "source": [
    "_perform_long_short_decoding_analyses"
   ]
  },
  {
   "cell_type": "code",
   "execution_count": null,
   "id": "dda48261",
   "metadata": {},
   "outputs": [],
   "source": [
    "## long_short_decoding_analyses:\n",
    "curr_long_short_decoding_analyses = curr_active_pipeline.global_computation_results.computed_data['long_short_leave_one_out_decoding_analysis']\n",
    "## Extract variables from results object:\n",
    "long_one_step_decoder_1D, short_one_step_decoder_1D, long_replays, short_replays, global_replays, long_shared_aclus_only_decoder, short_shared_aclus_only_decoder, shared_aclus, long_short_pf_neurons_diff, n_neurons, long_results_obj, short_results_obj, is_global = curr_long_short_decoding_analyses.long_decoder, curr_long_short_decoding_analyses.short_decoder, curr_long_short_decoding_analyses.long_replays, curr_long_short_decoding_analyses.short_replays, curr_long_short_decoding_analyses.global_replays, curr_long_short_decoding_analyses.long_shared_aclus_only_decoder, curr_long_short_decoding_analyses.short_shared_aclus_only_decoder, curr_long_short_decoding_analyses.shared_aclus, curr_long_short_decoding_analyses.long_short_pf_neurons_diff, curr_long_short_decoding_analyses.n_neurons, curr_long_short_decoding_analyses.long_results_obj, curr_long_short_decoding_analyses.short_results_obj, curr_long_short_decoding_analyses.is_global\n",
    "\n",
    "# (long_one_step_decoder_1D, short_one_step_decoder_1D), (long_one_step_decoder_2D, short_one_step_decoder_2D) = compute_short_long_constrained_decoders(curr_active_pipeline, recalculate_anyway=True)\n",
    "long_epoch_name, short_epoch_name, global_epoch_name = curr_active_pipeline.find_LongShortGlobal_epoch_names()\n",
    "long_epoch_context, short_epoch_context, global_epoch_context = [curr_active_pipeline.filtered_contexts[a_name] for a_name in (long_epoch_name, short_epoch_name, global_epoch_name)]\n",
    "long_session, short_session, global_session = [curr_active_pipeline.filtered_sessions[an_epoch_name] for an_epoch_name in [long_epoch_name, short_epoch_name, global_epoch_name]]\n",
    "long_results, short_results, global_results = [curr_active_pipeline.computation_results[an_epoch_name]['computed_data'] for an_epoch_name in [long_epoch_name, short_epoch_name, global_epoch_name]]\n",
    "long_pf1D, short_pf1D, global_pf1D = long_results.pf1D, short_results.pf1D, global_results.pf1D\n",
    "long_pf2D, short_pf2D, global_pf2D = long_results.pf2D, short_results.pf2D, global_results.pf2D\n",
    "decoding_time_bin_size = long_one_step_decoder_1D.time_bin_size # 1.0/30.0 # 0.03333333333333333"
   ]
  },
  {
   "cell_type": "code",
   "execution_count": null,
   "id": "9a763108",
   "metadata": {},
   "outputs": [],
   "source": [
    "global_session.replay"
   ]
  },
  {
   "cell_type": "code",
   "execution_count": null,
   "id": "3518e690",
   "metadata": {},
   "outputs": [],
   "source": [
    "long_results_obj.active_filter_epochs"
   ]
  },
  {
   "cell_type": "code",
   "execution_count": null,
   "id": "f2eaef73",
   "metadata": {},
   "outputs": [],
   "source": [
    "global_session.get_output_path()"
   ]
  },
  {
   "cell_type": "code",
   "execution_count": null,
   "id": "074889cb",
   "metadata": {},
   "outputs": [],
   "source": [
    "long_results_obj.active_filter_epochs"
   ]
  },
  {
   "cell_type": "code",
   "execution_count": 151,
   "id": "1f004af7",
   "metadata": {},
   "outputs": [
    {
     "data": {
      "text/plain": [
       "{2: 0.0,\n",
       " 3: 3.5240238671668336,\n",
       " 4: 5.45636121658812,\n",
       " 5: 5.612399201388204,\n",
       " 6: 56.242654480413115,\n",
       " 7: 2.0891659488791414,\n",
       " 8: 1.0663324739621252,\n",
       " 9: 11.591117925119503,\n",
       " 10: 9.896100987923246,\n",
       " 11: 2.961471296531577,\n",
       " 12: 102.5269567711694,\n",
       " 13: 1.6180856129932144,\n",
       " 14: 6.900302827342532,\n",
       " 15: 4.45719684570725,\n",
       " 16: 2.166239048419014,\n",
       " 17: 0.5167876888228234,\n",
       " 18: 7.420919269826718,\n",
       " 19: 1.8149142336719806,\n",
       " 20: 43.049752471241675,\n",
       " 21: 1.4107566102872957,\n",
       " 22: 2.2670341607590196,\n",
       " 23: 0.49940179884005514,\n",
       " 24: 0.0,\n",
       " 25: 2.202361831386971,\n",
       " 26: 0.2890938664448221,\n",
       " 27: 1.447337533220852,\n",
       " 28: 0.0,\n",
       " 29: 39.51293108308353,\n",
       " 30: 5.486710677199816,\n",
       " 31: 9.397785061471893,\n",
       " 32: 3.939118143167563,\n",
       " 33: 4.117001318119649,\n",
       " 34: 0.6421732024528712,\n",
       " 35: 3.6279766087658305,\n",
       " 36: 8.60579876535322,\n",
       " 37: 4.357272903758823,\n",
       " 38: 4.940047279359042,\n",
       " 39: 9.386430601556238,\n",
       " 40: 44.2032665997469,\n",
       " 41: 5.514012694353516,\n",
       " 42: 31.941533145335235,\n",
       " 43: 4.665856064751075,\n",
       " 44: 5.825912006545132,\n",
       " 45: 3.19290704892697,\n",
       " 46: 1.9094989342314523,\n",
       " 47: 13.716592056436488,\n",
       " 48: 14.158692819707314,\n",
       " 49: 12.04790588235314,\n",
       " 50: 12.278960505588012,\n",
       " 51: 1.4660484299102228,\n",
       " 52: 4.121814952693291,\n",
       " 53: 3.102698114979353,\n",
       " 54: 0.29648341408078893,\n",
       " 55: 9.652431168986695,\n",
       " 56: 6.295793915027575,\n",
       " 57: 4.3045300446897485,\n",
       " 58: 3.292019710971868,\n",
       " 59: 6.332399275911549,\n",
       " 60: 5.269800177852387,\n",
       " 61: 5.453392845512808,\n",
       " 62: 11.509830922785346,\n",
       " 63: 5.53682927723935,\n",
       " 64: 10.725230596861302,\n",
       " 65: 54.61097002097811,\n",
       " 66: 8.621802012765997,\n",
       " 67: 0.8477310521090066,\n",
       " 68: 0.8497783702189646,\n",
       " 69: 1.6941673873484329,\n",
       " 70: 0.9715890608165567,\n",
       " 71: 3.5707080558723354,\n",
       " 72: 8.121258238216644,\n",
       " 73: 0.37894492203102453,\n",
       " 74: 0.8265361935277283,\n",
       " 75: 21.208768189263978,\n",
       " 76: 3.736115454246382,\n",
       " 77: 97.93627075657538,\n",
       " 78: 7.010379029703327,\n",
       " 79: 2.8146176956765525,\n",
       " 80: 23.17207882274909,\n",
       " 81: 1.469488015474076,\n",
       " 82: 0.7713952484072796,\n",
       " 83: 7.695199618794317,\n",
       " 84: 1.909226507008445,\n",
       " 85: 5.8479377037997855,\n",
       " 86: 5.984461345919264,\n",
       " 87: 0.7326396548475868,\n",
       " 88: 8.0295569479654,\n",
       " 89: 4.780708735381466,\n",
       " 90: 8.393084203452496,\n",
       " 91: 6.502152509348093,\n",
       " 92: 1.9711847146982768,\n",
       " 93: 4.915907483624558,\n",
       " 94: 87.12812092437369,\n",
       " 95: 4.133339279008049,\n",
       " 96: 1.5299806920776593,\n",
       " 97: 0.0,\n",
       " 98: 3.1243323430088563,\n",
       " 99: 1.844978180775042,\n",
       " 100: 2.2882100954517233,\n",
       " 101: 10.250217280306897,\n",
       " 102: 1.4174778143263211,\n",
       " 103: 11.16880244007955,\n",
       " 104: 55.1628094542489,\n",
       " 105: 0.25366919926510656,\n",
       " 106: 61.237068053328734,\n",
       " 107: 3.6193957828987307,\n",
       " 108: 20.072019534583887,\n",
       " 109: 0.4598737357154769}"
      ]
     },
     "execution_count": 151,
     "metadata": {},
     "output_type": "execute_result"
    }
   ],
   "source": [
    "curr_active_pipeline.global_computation_results.computed_data['long_short_fr_indicies_analysis'].long_mean_replays_frs\n",
    "curr_active_pipeline.global_computation_results.computed_data['long_short_fr_indicies_analysis'].short_mean_replays_frs\n",
    "\n",
    "\n",
    "# curr_active_pipeline.global_computation_results.computed_data.long_short_fr_indicies_analysis\n"
   ]
  },
  {
   "cell_type": "code",
   "execution_count": 153,
   "id": "5af84b0f",
   "metadata": {},
   "outputs": [],
   "source": [
    "\n",
    "\n",
    "# Add Right-click > 'Insert reference' in the \"WATCH\" panel of \"RUN AND DEBUG\" to insert a reference to that variable in the notebook. Could also have a \"Copy reference\".\n",
    "\t# Currently has a \"Copy Value\" option that is close but only copies the value.\n",
    "\t# DISCOVERY: It already exists under the normal \"VARIABLES\" section, and is called \"Copy as Expression\"!!\n",
    "\n",
    "rr_aclus = np.array(list(curr_active_pipeline.global_computation_results.computed_data.long_short_fr_indicies_analysis.y_frs_index.keys()))\n",
    "rr_neuron_type = np.array([global_session.neurons.aclu_to_neuron_type_map[aclu] for aclu in rr_aclus])\n",
    "rr_laps = np.array(list(curr_active_pipeline.global_computation_results.computed_data.long_short_fr_indicies_analysis.y_frs_index.values()))\n",
    "rr_replays = np.array(list(curr_active_pipeline.global_computation_results.computed_data.long_short_fr_indicies_analysis.x_frs_index.values()))\n",
    "rr_skew = rr_laps / rr_replays\n",
    "\n",
    "## Sort on 'rr_replays'\n",
    "sort_indicies = np.argsort(rr_replays)\n",
    "\n",
    "## Sort all the variables:\n",
    "rr_aclus = rr_aclus[sort_indicies]\n",
    "rr_neuron_type = rr_neuron_type[sort_indicies]\n",
    "rr_laps = rr_laps[sort_indicies]\n",
    "rr_replays = rr_replays[sort_indicies]\n",
    "rr_skew = rr_skew[sort_indicies]\n",
    "\n",
    "# Build dataframe:\n",
    "rate_remapping_df = pd.DataFrame({'aclu': rr_aclus, 'neuron_type': rr_neuron_type, 'laps': rr_laps, 'replays': rr_replays, 'skew': rr_skew})\n",
    "rate_remapping_df.set_index('aclu', inplace=True)\n",
    "rate_remapping_df.dropna('index', subset=['laps','replays'], how='any', inplace=True) # drop any cells that don't have any replays at all.\n",
    "\n",
    "## Add distances from the center to indicate how much remapping that cell engaged in so we can find the cells that remapped the most:\n",
    "rate_remapping_df['max_axis_distance_from_center'] =  np.max(np.vstack((np.abs(rate_remapping_df['laps'].to_numpy()), np.abs(rate_remapping_df['replays'].to_numpy()))), axis=0)\n",
    "rate_remapping_df['distance_from_center'] = np.sqrt(rate_remapping_df['laps'].to_numpy() ** 2 + rate_remapping_df['replays'].to_numpy() ** 2)\n",
    "\n",
    "\n",
    "rate_remapping_df\n",
    "# rate_remapping_df.to_clipboard(index=False)\n",
    "\n",
    "# rate_remapping_df.to_csv(f'C:/Users/pho/repos/Spike3DWorkEnv/Spike3D/data/rate_remapping_df.csv', index=False)\n",
    "\n",
    "# rate_remapping_df = pd.read_csv(f'C:/Users/pho/repos/Spike3DWorkEnv/Spike3D/data/rate_remapping_df.csv')\n",
    "# rate_remapping_df"
   ]
  },
  {
   "cell_type": "code",
   "execution_count": 180,
   "id": "8a29f65b",
   "metadata": {},
   "outputs": [
    {
     "data": {
      "text/html": [
       "<div>\n",
       "<style scoped>\n",
       "    .dataframe tbody tr th:only-of-type {\n",
       "        vertical-align: middle;\n",
       "    }\n",
       "\n",
       "    .dataframe tbody tr th {\n",
       "        vertical-align: top;\n",
       "    }\n",
       "\n",
       "    .dataframe thead th {\n",
       "        text-align: right;\n",
       "    }\n",
       "</style>\n",
       "<table border=\"1\" class=\"dataframe\">\n",
       "  <thead>\n",
       "    <tr style=\"text-align: right;\">\n",
       "      <th></th>\n",
       "      <th>neuron_type</th>\n",
       "      <th>laps</th>\n",
       "      <th>replays</th>\n",
       "      <th>skew</th>\n",
       "      <th>max_axis_distance_from_center</th>\n",
       "      <th>distance_from_center</th>\n",
       "      <th>has_considerable_remapping</th>\n",
       "    </tr>\n",
       "    <tr>\n",
       "      <th>aclu</th>\n",
       "      <th></th>\n",
       "      <th></th>\n",
       "      <th></th>\n",
       "      <th></th>\n",
       "      <th></th>\n",
       "      <th></th>\n",
       "      <th></th>\n",
       "    </tr>\n",
       "  </thead>\n",
       "  <tbody>\n",
       "    <tr>\n",
       "      <th>4</th>\n",
       "      <td>NeuronType.PYRAMIDAL</td>\n",
       "      <td>-0.970214</td>\n",
       "      <td>-1.000000</td>\n",
       "      <td>0.970214</td>\n",
       "      <td>1.000000</td>\n",
       "      <td>1.393311</td>\n",
       "      <td>True</td>\n",
       "    </tr>\n",
       "    <tr>\n",
       "      <th>89</th>\n",
       "      <td>NeuronType.PYRAMIDAL</td>\n",
       "      <td>-0.191437</td>\n",
       "      <td>-1.000000</td>\n",
       "      <td>0.191437</td>\n",
       "      <td>1.000000</td>\n",
       "      <td>1.018159</td>\n",
       "      <td>True</td>\n",
       "    </tr>\n",
       "    <tr>\n",
       "      <th>25</th>\n",
       "      <td>NeuronType.PYRAMIDAL</td>\n",
       "      <td>-0.460861</td>\n",
       "      <td>-0.846932</td>\n",
       "      <td>0.544154</td>\n",
       "      <td>0.846932</td>\n",
       "      <td>0.964203</td>\n",
       "      <td>True</td>\n",
       "    </tr>\n",
       "    <tr>\n",
       "      <th>79</th>\n",
       "      <td>NeuronType.CONTAMINATED</td>\n",
       "      <td>-0.158822</td>\n",
       "      <td>-0.748029</td>\n",
       "      <td>0.212321</td>\n",
       "      <td>0.748029</td>\n",
       "      <td>0.764704</td>\n",
       "      <td>True</td>\n",
       "    </tr>\n",
       "    <tr>\n",
       "      <th>56</th>\n",
       "      <td>NeuronType.PYRAMIDAL</td>\n",
       "      <td>-0.390185</td>\n",
       "      <td>-0.738485</td>\n",
       "      <td>0.528359</td>\n",
       "      <td>0.738485</td>\n",
       "      <td>0.835227</td>\n",
       "      <td>True</td>\n",
       "    </tr>\n",
       "    <tr>\n",
       "      <th>3</th>\n",
       "      <td>NeuronType.PYRAMIDAL</td>\n",
       "      <td>-0.852888</td>\n",
       "      <td>-0.671109</td>\n",
       "      <td>1.270863</td>\n",
       "      <td>0.852888</td>\n",
       "      <td>1.085268</td>\n",
       "      <td>True</td>\n",
       "    </tr>\n",
       "    <tr>\n",
       "      <th>13</th>\n",
       "      <td>NeuronType.PYRAMIDAL</td>\n",
       "      <td>-0.883209</td>\n",
       "      <td>-0.612142</td>\n",
       "      <td>1.442816</td>\n",
       "      <td>0.883209</td>\n",
       "      <td>1.074605</td>\n",
       "      <td>True</td>\n",
       "    </tr>\n",
       "    <tr>\n",
       "      <th>58</th>\n",
       "      <td>NeuronType.PYRAMIDAL</td>\n",
       "      <td>-0.867777</td>\n",
       "      <td>-0.539014</td>\n",
       "      <td>1.609933</td>\n",
       "      <td>0.867777</td>\n",
       "      <td>1.021554</td>\n",
       "      <td>True</td>\n",
       "    </tr>\n",
       "    <tr>\n",
       "      <th>8</th>\n",
       "      <td>NeuronType.PYRAMIDAL</td>\n",
       "      <td>0.946429</td>\n",
       "      <td>-0.200761</td>\n",
       "      <td>-4.714205</td>\n",
       "      <td>0.946429</td>\n",
       "      <td>0.967488</td>\n",
       "      <td>True</td>\n",
       "    </tr>\n",
       "    <tr>\n",
       "      <th>23</th>\n",
       "      <td>NeuronType.PYRAMIDAL</td>\n",
       "      <td>-0.888623</td>\n",
       "      <td>-0.046840</td>\n",
       "      <td>18.971309</td>\n",
       "      <td>0.888623</td>\n",
       "      <td>0.889857</td>\n",
       "      <td>True</td>\n",
       "    </tr>\n",
       "    <tr>\n",
       "      <th>105</th>\n",
       "      <td>NeuronType.PYRAMIDAL</td>\n",
       "      <td>1.000000</td>\n",
       "      <td>0.098320</td>\n",
       "      <td>10.170838</td>\n",
       "      <td>1.000000</td>\n",
       "      <td>1.004822</td>\n",
       "      <td>True</td>\n",
       "    </tr>\n",
       "    <tr>\n",
       "      <th>19</th>\n",
       "      <td>NeuronType.PYRAMIDAL</td>\n",
       "      <td>-0.920454</td>\n",
       "      <td>0.101323</td>\n",
       "      <td>-9.084354</td>\n",
       "      <td>0.920454</td>\n",
       "      <td>0.926014</td>\n",
       "      <td>True</td>\n",
       "    </tr>\n",
       "    <tr>\n",
       "      <th>109</th>\n",
       "      <td>NeuronType.PYRAMIDAL</td>\n",
       "      <td>0.806462</td>\n",
       "      <td>0.299646</td>\n",
       "      <td>2.691382</td>\n",
       "      <td>0.806462</td>\n",
       "      <td>0.860331</td>\n",
       "      <td>True</td>\n",
       "    </tr>\n",
       "    <tr>\n",
       "      <th>82</th>\n",
       "      <td>NeuronType.PYRAMIDAL</td>\n",
       "      <td>0.742834</td>\n",
       "      <td>0.370587</td>\n",
       "      <td>2.004481</td>\n",
       "      <td>0.742834</td>\n",
       "      <td>0.830143</td>\n",
       "      <td>True</td>\n",
       "    </tr>\n",
       "    <tr>\n",
       "      <th>73</th>\n",
       "      <td>NeuronType.PYRAMIDAL</td>\n",
       "      <td>0.578067</td>\n",
       "      <td>0.779007</td>\n",
       "      <td>0.742055</td>\n",
       "      <td>0.779007</td>\n",
       "      <td>0.970058</td>\n",
       "      <td>True</td>\n",
       "    </tr>\n",
       "    <tr>\n",
       "      <th>97</th>\n",
       "      <td>NeuronType.INTERNEURONS</td>\n",
       "      <td>0.936531</td>\n",
       "      <td>1.000000</td>\n",
       "      <td>0.936531</td>\n",
       "      <td>1.000000</td>\n",
       "      <td>1.370069</td>\n",
       "      <td>True</td>\n",
       "    </tr>\n",
       "    <tr>\n",
       "      <th>28</th>\n",
       "      <td>NeuronType.PYRAMIDAL</td>\n",
       "      <td>0.716208</td>\n",
       "      <td>1.000000</td>\n",
       "      <td>0.716208</td>\n",
       "      <td>1.000000</td>\n",
       "      <td>1.230022</td>\n",
       "      <td>True</td>\n",
       "    </tr>\n",
       "    <tr>\n",
       "      <th>2</th>\n",
       "      <td>NeuronType.PYRAMIDAL</td>\n",
       "      <td>0.939641</td>\n",
       "      <td>1.000000</td>\n",
       "      <td>0.939641</td>\n",
       "      <td>1.000000</td>\n",
       "      <td>1.372197</td>\n",
       "      <td>True</td>\n",
       "    </tr>\n",
       "  </tbody>\n",
       "</table>\n",
       "</div>"
      ],
      "text/plain": [
       "                  neuron_type      laps   replays       skew  \\\n",
       "aclu                                                           \n",
       "4        NeuronType.PYRAMIDAL -0.970214 -1.000000   0.970214   \n",
       "89       NeuronType.PYRAMIDAL -0.191437 -1.000000   0.191437   \n",
       "25       NeuronType.PYRAMIDAL -0.460861 -0.846932   0.544154   \n",
       "79    NeuronType.CONTAMINATED -0.158822 -0.748029   0.212321   \n",
       "56       NeuronType.PYRAMIDAL -0.390185 -0.738485   0.528359   \n",
       "3        NeuronType.PYRAMIDAL -0.852888 -0.671109   1.270863   \n",
       "13       NeuronType.PYRAMIDAL -0.883209 -0.612142   1.442816   \n",
       "58       NeuronType.PYRAMIDAL -0.867777 -0.539014   1.609933   \n",
       "8        NeuronType.PYRAMIDAL  0.946429 -0.200761  -4.714205   \n",
       "23       NeuronType.PYRAMIDAL -0.888623 -0.046840  18.971309   \n",
       "105      NeuronType.PYRAMIDAL  1.000000  0.098320  10.170838   \n",
       "19       NeuronType.PYRAMIDAL -0.920454  0.101323  -9.084354   \n",
       "109      NeuronType.PYRAMIDAL  0.806462  0.299646   2.691382   \n",
       "82       NeuronType.PYRAMIDAL  0.742834  0.370587   2.004481   \n",
       "73       NeuronType.PYRAMIDAL  0.578067  0.779007   0.742055   \n",
       "97    NeuronType.INTERNEURONS  0.936531  1.000000   0.936531   \n",
       "28       NeuronType.PYRAMIDAL  0.716208  1.000000   0.716208   \n",
       "2        NeuronType.PYRAMIDAL  0.939641  1.000000   0.939641   \n",
       "\n",
       "      max_axis_distance_from_center  distance_from_center  \\\n",
       "aclu                                                        \n",
       "4                          1.000000              1.393311   \n",
       "89                         1.000000              1.018159   \n",
       "25                         0.846932              0.964203   \n",
       "79                         0.748029              0.764704   \n",
       "56                         0.738485              0.835227   \n",
       "3                          0.852888              1.085268   \n",
       "13                         0.883209              1.074605   \n",
       "58                         0.867777              1.021554   \n",
       "8                          0.946429              0.967488   \n",
       "23                         0.888623              0.889857   \n",
       "105                        1.000000              1.004822   \n",
       "19                         0.920454              0.926014   \n",
       "109                        0.806462              0.860331   \n",
       "82                         0.742834              0.830143   \n",
       "73                         0.779007              0.970058   \n",
       "97                         1.000000              1.370069   \n",
       "28                         1.000000              1.230022   \n",
       "2                          1.000000              1.372197   \n",
       "\n",
       "      has_considerable_remapping  \n",
       "aclu                              \n",
       "4                           True  \n",
       "89                          True  \n",
       "25                          True  \n",
       "79                          True  \n",
       "56                          True  \n",
       "3                           True  \n",
       "13                          True  \n",
       "58                          True  \n",
       "8                           True  \n",
       "23                          True  \n",
       "105                         True  \n",
       "19                          True  \n",
       "109                         True  \n",
       "82                          True  \n",
       "73                          True  \n",
       "97                          True  \n",
       "28                          True  \n",
       "2                           True  "
      ]
     },
     "execution_count": 180,
     "metadata": {},
     "output_type": "execute_result"
    }
   ],
   "source": [
    "## Find only the cells that exhibit considerable remapping:\n",
    "considerable_remapping_threshold = 0.7 # cells exhibit \"considerable remapping\" when they exceed 0.7\n",
    "rate_remapping_df['has_considerable_remapping'] = rate_remapping_df['max_axis_distance_from_center'] > considerable_remapping_threshold\n",
    "\n",
    "high_remapping_cells_only = rate_remapping_df[rate_remapping_df['has_considerable_remapping']] \n",
    "high_remapping_cells_only"
   ]
  },
  {
   "cell_type": "code",
   "execution_count": 170,
   "id": "4fa8168b",
   "metadata": {},
   "outputs": [],
   "source": [
    "rate_remapping_df.to_clipboard()\n"
   ]
  },
  {
   "cell_type": "code",
   "execution_count": null,
   "id": "40c6762f",
   "metadata": {},
   "outputs": [],
   "source": [
    "from neuropy.core.neurons import NeuronType\n",
    "\n",
    "# Get color corresponding to each neuron type:\n",
    "a_neuron_type: NeuronType = rr_neuron_type[0]\n",
    "a_neuron_type\n",
    "\n",
    "a_neuron_type.renderColor"
   ]
  },
  {
   "cell_type": "code",
   "execution_count": null,
   "id": "a8b0f3ee",
   "metadata": {},
   "outputs": [],
   "source": [
    "from pyphoplacecellanalysis.General.Pipeline.Stages.DisplayFunctions.MultiContextComparingDisplayFunctions.LongShortTrackComparingDisplayFunctions import LongShortTrackComparingDisplayFunctions, plot_rr_aclu\n",
    "\n",
    "## Single plot\n",
    "n_debug_limit = 20\n",
    "fig, ax, sort_indicies = plot_rr_aclu([str(aclu) for aclu in rr_aclus[:n_debug_limit]], rr_laps=rr_laps[:n_debug_limit], rr_replays=rr_replays[:n_debug_limit], rr_neuron_types=rr_neuron_type[:n_debug_limit])"
   ]
  },
  {
   "cell_type": "code",
   "execution_count": null,
   "id": "79483e2d",
   "metadata": {},
   "outputs": [],
   "source": [
    "# Plot using Paginator:\n",
    "import matplotlib.pyplot as plt\n",
    "%matplotlib qt\n",
    "\n",
    "from pyphocorehelpers.indexing_helpers import Paginator\n",
    "from pyphoplacecellanalysis.General.Pipeline.Stages.DisplayFunctions.MultiContextComparingDisplayFunctions.LongShortTrackComparingDisplayFunctions import RateRemappingPaginatedFigureController\n",
    "## Paginated multi-plot\n",
    "# Provide a tuple or list containing equally sized sequences of items:\n",
    "a_paginator = Paginator.init_from_data((rr_aclus, rr_laps, rr_replays, rr_neuron_type), max_num_columns=1, max_subplots_per_page=20, data_indicies=None, last_figure_subplots_same_layout=False)\n",
    "\n",
    "## Build GUI components:\n",
    "active_identifying_session_ctx = curr_active_pipeline.sess.get_context()\n",
    "_out_rr_pagination_controller = RateRemappingPaginatedFigureController.init_from_paginator(a_paginator, a_name='TestRateRemappingPaginatedFigureController', active_context=active_identifying_session_ctx)\n",
    "# _out_rr_pagination_controller"
   ]
  },
  {
   "cell_type": "code",
   "execution_count": null,
   "id": "fd8fd5b0",
   "metadata": {},
   "outputs": [],
   "source": [
    "## Not needed, integrated into `RateRemappingPaginatedFigureController` now\n",
    "\n",
    "from neuropy.utils.misc import split_list_of_dicts\n",
    "from pyphoplacecellanalysis.General.Mixins.ExportHelpers import build_figure_basename_from_display_context, session_context_to_relative_path, create_daily_programmatic_display_function_testing_folder_if_needed\n",
    "\n",
    "\n",
    "## paginated outputs for shared cells\n",
    "included_unit_indicies_pages = [[curr_included_unit_index for (a_linear_index, curr_row, curr_col, curr_included_unit_index) in v] for page_idx, v in enumerate(a_paginator.included_combined_indicies_pages)] # a list of length `num_pages` containing up to 10 items\n",
    "\n",
    "active_identifying_session_ctx = curr_active_pipeline.sess.get_context()\n",
    "paginated_shared_cells_kwarg_list = [dict(active_identifying_ctx=active_identifying_session_ctx.adding_context(collision_prefix='_RateRemapping_plot_test', display_fn_name='plot_rr_aclu', plot_result_set='shared', page=f'{page_idx+1}of{a_paginator.num_pages}', aclus=f\"{curr_included_unit_indicies}\"),\n",
    "\tfignum=f'shared_{page_idx}', fig_idx=page_idx, n_max_page_rows=a_paginator.max_num_items_per_page) for page_idx, curr_included_unit_indicies in enumerate(included_unit_indicies_pages)]\n",
    "\n",
    "# Can build a list of keyword arguments that will be provided to the function of interest ahead of time\n",
    "# paginated_shared_cells_kwarg_list = [dict(included_unit_neuron_IDs=curr_included_unit_indicies,\n",
    "# \tactive_identifying_ctx=active_identifying_session_ctx.adding_context(collision_prefix='_RateRemapping_plot_test', display_fn_name='RateRemapping_plot_test', plot_result_set='shared', page=f'{page_idx+1}of{a_paginator.num_pages}', aclus=f\"{curr_included_unit_indicies}\"),\n",
    "# \tfignum=f'shared_{page_idx}', fig_idx=page_idx, n_max_page_rows=a_paginator.max_num_items_per_page) for page_idx, curr_included_unit_indicies in enumerate(included_unit_indicies_pages)]\n",
    "\n",
    "paginated_dict_of_lists = split_list_of_dicts(paginated_shared_cells_kwarg_list)\n",
    "active_identifying_ctxs, fignums, fig_idxs = paginated_dict_of_lists['active_identifying_ctx'], paginated_dict_of_lists['fignum'], paginated_dict_of_lists['fig_idx']\n",
    "\n",
    "# figures_parent_out_path = create_daily_programmatic_display_function_testing_folder_if_needed()\n",
    "# active_session_figures_out_path = session_context_to_relative_path(figures_parent_out_path, active_identifying_session_ctx)\n",
    "# print(f'curr_session_parent_out_path: {active_session_figures_out_path}')\n",
    "# active_session_figures_out_path.mkdir(parents=True, exist_ok=True) # make folder if needed\n",
    "\n",
    "# # # Add in the desired display variable:\n",
    "# active_identifying_ctx = active_identifying_display_ctx.adding_context('filter_epochs', **active_display_fn_kwargs) # , filter_epochs='ripple' ## TODO: this is only right for a single function!\n",
    "\n",
    "active_identifying_ctx = active_identifying_ctxs[0]\n",
    "final_context = active_identifying_ctx # Display/Variable context mode\n",
    "\n",
    "active_identifying_ctx_string = final_context.get_description(separator='|') # Get final discription string\n",
    "print(f'active_identifying_ctx_string: \"{active_identifying_ctx_string}\"')\n",
    "\n",
    "active_figure_save_basename = build_figure_basename_from_display_context(final_context)\n",
    "# _out_rr_pagination_controller.curr_page_index\n",
    "\n",
    "\n",
    "_out_rr_pagination_controller.update_titles(active_identifying_ctx_string)\n"
   ]
  },
  {
   "cell_type": "code",
   "execution_count": null,
   "id": "dd0866c3",
   "metadata": {},
   "outputs": [],
   "source": [
    "\n",
    "_out_rr_pagination_controller.ui.mw.ui.paginator_controller_widget.current_page_idx\n",
    "# curr_page_index"
   ]
  },
  {
   "cell_type": "code",
   "execution_count": null,
   "id": "4c5d7529",
   "metadata": {},
   "outputs": [],
   "source": [
    "\n",
    "active_identifying_ctx = active_identifying_ctxs[0]\n",
    "final_context = active_identifying_ctx # Display/Variable context mode\n",
    "\n",
    "active_identifying_ctx_string = final_context.get_description(separator='|') # Get final discription string\n",
    "print(f'active_identifying_ctx_string: \"{active_identifying_ctx_string}\"')\n",
    "\n",
    "build_figure_basename_from_display_context(final_context)\n"
   ]
  },
  {
   "cell_type": "code",
   "execution_count": null,
   "id": "183508e7",
   "metadata": {},
   "outputs": [],
   "source": [
    "curr_active_pipeline.save_pipeline(saving_mode=PipelineSavingScheme.TEMP_THEN_OVERWRITE) # AttributeError: 'PfND_TimeDependent' object has no attribute '_included_thresh_neurons_indx'\n",
    "# TypeError: cannot pickle 'MplMultiTab' object"
   ]
  },
  {
   "cell_type": "code",
   "execution_count": null,
   "id": "b17e4b90",
   "metadata": {},
   "outputs": [],
   "source": [
    "curr_active_pipeline.save_pipeline(saving_mode=PipelineSavingScheme.OVERWRITE_IN_PLACE)"
   ]
  },
  {
   "cell_type": "code",
   "execution_count": 91,
   "id": "a16a3469",
   "metadata": {},
   "outputs": [
    {
     "data": {
      "text/plain": [
       "<pyphoplacecellanalysis.General.Pipeline.Stages.Display.Plot at 0x1b69e7ef250>"
      ]
     },
     "execution_count": 91,
     "metadata": {},
     "output_type": "execute_result"
    }
   ],
   "source": [
    "_plot_obj = curr_active_pipeline.plot\n",
    "# _plot_obj._display_spike_rasters_window()\n",
    "_plot_obj"
   ]
  },
  {
   "cell_type": "code",
   "execution_count": 87,
   "id": "f98203a4",
   "metadata": {},
   "outputs": [],
   "source": [
    "curr_active_pipeline.reload_default_display_functions()\n",
    "curr_active_pipeline.plot._display_jonathan_interactive_replay_firing_rate_comparison\n"
   ]
  },
  {
   "cell_type": "code",
   "execution_count": 95,
   "id": "636806ee",
   "metadata": {},
   "outputs": [
    {
     "ename": "TypeError",
     "evalue": "_display_batch_pho_jonathan_replay_firing_rate_comparison() missing 2 required positional arguments: 'computation_results' and 'active_configs'",
     "output_type": "error",
     "traceback": [
      "\u001b[1;31m---------------------------------------------------------------------------\u001b[0m",
      "\u001b[1;31mTypeError\u001b[0m                                 Traceback (most recent call last)",
      "Cell \u001b[1;32mIn[95], line 1\u001b[0m\n\u001b[1;32m----> 1\u001b[0m curr_active_pipeline\u001b[39m.\u001b[39;49mplot\u001b[39m.\u001b[39;49m_display_batch_pho_jonathan_replay_firing_rate_comparison()\n",
      "File \u001b[1;32m~\\repos\\Spike3DWorkEnv\\pyPhoPlaceCellAnalysis\\src\\pyphoplacecellanalysis\\General\\Pipeline\\Stages\\Display.py:62\u001b[0m, in \u001b[0;36mPlot.__getattr__.<locals>.display_wrapper\u001b[1;34m(*args, **kwargs)\u001b[0m\n\u001b[0;32m     59\u001b[0m \u001b[39mif\u001b[39;00m \u001b[39misinstance\u001b[39m(active_session_configuration_context, \u001b[39mstr\u001b[39m):\n\u001b[0;32m     60\u001b[0m         \u001b[39m# if first arg is context, remove it from args:\u001b[39;00m\n\u001b[0;32m     61\u001b[0m         active_session_configuration_context \u001b[39m=\u001b[39m \u001b[39mself\u001b[39m\u001b[39m.\u001b[39m_pipeline_reference\u001b[39m.\u001b[39mfiltered_contexts[active_session_configuration_context] \u001b[39m# if the passed argument is a string (like 'maze1'), find it in the filtered contexts dict\u001b[39;00m\n\u001b[1;32m---> 62\u001b[0m \u001b[39mreturn\u001b[39;00m \u001b[39mself\u001b[39m\u001b[39m.\u001b[39m_pipeline_reference\u001b[39m.\u001b[39mdisplay(display_function\u001b[39m=\u001b[39mk, active_session_configuration_context\u001b[39m=\u001b[39mactive_session_configuration_context, \u001b[39m*\u001b[39margs, \u001b[39m*\u001b[39m\u001b[39m*\u001b[39mkwargs)\n",
      "File \u001b[1;32m~\\repos\\Spike3DWorkEnv\\pyPhoPlaceCellAnalysis\\src\\pyphoplacecellanalysis\\General\\Pipeline\\Stages\\Display.py:407\u001b[0m, in \u001b[0;36mPipelineWithDisplayPipelineStageMixin.display\u001b[1;34m(self, display_function, active_session_configuration_context, **kwargs)\u001b[0m\n\u001b[0;32m    403\u001b[0m active_display_fn_identifying_ctx \u001b[39m=\u001b[39m active_session_configuration_context\u001b[39m.\u001b[39madding_context(\u001b[39m'\u001b[39m\u001b[39mdisplay_fn\u001b[39m\u001b[39m'\u001b[39m, display_fn_name\u001b[39m=\u001b[39mdisplay_fn_name) \u001b[39m# display_fn_name should be like '_display_1d_placefields'\u001b[39;00m\n\u001b[0;32m    405\u001b[0m \u001b[39m# Add the display outputs to the active context. Each display function should return a structure like: dict(fig=active_figure, ax=ax_pf_1D)\u001b[39;00m\n\u001b[0;32m    406\u001b[0m \u001b[39m# owning_pipeline.display_output[active_display_fn_identifying_ctx] = (active_figure, ax_pf_1D)\u001b[39;00m\n\u001b[1;32m--> 407\u001b[0m curr_display_output \u001b[39m=\u001b[39m display_function(\u001b[39mself\u001b[39m\u001b[39m.\u001b[39mcomputation_results[active_session_configuration_name], \u001b[39mself\u001b[39m\u001b[39m.\u001b[39mactive_configs[active_session_configuration_name], owning_pipeline\u001b[39m=\u001b[39m\u001b[39mself\u001b[39m, active_config_name\u001b[39m=\u001b[39mactive_session_configuration_name, \u001b[39m*\u001b[39m\u001b[39m*\u001b[39mkwargs)\n\u001b[0;32m    408\u001b[0m \u001b[39mself\u001b[39m\u001b[39m.\u001b[39mdisplay_output[active_display_fn_identifying_ctx] \u001b[39m=\u001b[39m curr_display_output \u001b[39m# sets the internal display reference to that item\u001b[39;00m\n\u001b[0;32m    410\u001b[0m \u001b[39mreturn\u001b[39;00m curr_display_output\n",
      "\u001b[1;31mTypeError\u001b[0m: _display_batch_pho_jonathan_replay_firing_rate_comparison() missing 2 required positional arguments: 'computation_results' and 'active_configs'"
     ]
    }
   ],
   "source": [
    "curr_active_pipeline.plot._display_batch_pho_jonathan_replay_firing_rate_comparison()\n"
   ]
  },
  {
   "cell_type": "code",
   "execution_count": 93,
   "id": "fd820a45",
   "metadata": {},
   "outputs": [
    {
     "ename": "TypeError",
     "evalue": "_display_short_long_firing_rate_index_comparison() missing 2 required positional arguments: 'computation_results' and 'active_configs'",
     "output_type": "error",
     "traceback": [
      "\u001b[1;31m---------------------------------------------------------------------------\u001b[0m",
      "\u001b[1;31mTypeError\u001b[0m                                 Traceback (most recent call last)",
      "Cell \u001b[1;32mIn[93], line 1\u001b[0m\n\u001b[1;32m----> 1\u001b[0m curr_active_pipeline\u001b[39m.\u001b[39;49mplot\u001b[39m.\u001b[39;49m_display_short_long_firing_rate_index_comparison()\n",
      "File \u001b[1;32m~\\repos\\Spike3DWorkEnv\\pyPhoPlaceCellAnalysis\\src\\pyphoplacecellanalysis\\General\\Pipeline\\Stages\\Display.py:62\u001b[0m, in \u001b[0;36mPlot.__getattr__.<locals>.display_wrapper\u001b[1;34m(*args, **kwargs)\u001b[0m\n\u001b[0;32m     59\u001b[0m \u001b[39mif\u001b[39;00m \u001b[39misinstance\u001b[39m(active_session_configuration_context, \u001b[39mstr\u001b[39m):\n\u001b[0;32m     60\u001b[0m         \u001b[39m# if first arg is context, remove it from args:\u001b[39;00m\n\u001b[0;32m     61\u001b[0m         active_session_configuration_context \u001b[39m=\u001b[39m \u001b[39mself\u001b[39m\u001b[39m.\u001b[39m_pipeline_reference\u001b[39m.\u001b[39mfiltered_contexts[active_session_configuration_context] \u001b[39m# if the passed argument is a string (like 'maze1'), find it in the filtered contexts dict\u001b[39;00m\n\u001b[1;32m---> 62\u001b[0m \u001b[39mreturn\u001b[39;00m \u001b[39mself\u001b[39m\u001b[39m.\u001b[39m_pipeline_reference\u001b[39m.\u001b[39mdisplay(display_function\u001b[39m=\u001b[39mk, active_session_configuration_context\u001b[39m=\u001b[39mactive_session_configuration_context, \u001b[39m*\u001b[39margs, \u001b[39m*\u001b[39m\u001b[39m*\u001b[39mkwargs)\n",
      "File \u001b[1;32m~\\repos\\Spike3DWorkEnv\\pyPhoPlaceCellAnalysis\\src\\pyphoplacecellanalysis\\General\\Pipeline\\Stages\\Display.py:407\u001b[0m, in \u001b[0;36mPipelineWithDisplayPipelineStageMixin.display\u001b[1;34m(self, display_function, active_session_configuration_context, **kwargs)\u001b[0m\n\u001b[0;32m    403\u001b[0m active_display_fn_identifying_ctx \u001b[39m=\u001b[39m active_session_configuration_context\u001b[39m.\u001b[39madding_context(\u001b[39m'\u001b[39m\u001b[39mdisplay_fn\u001b[39m\u001b[39m'\u001b[39m, display_fn_name\u001b[39m=\u001b[39mdisplay_fn_name) \u001b[39m# display_fn_name should be like '_display_1d_placefields'\u001b[39;00m\n\u001b[0;32m    405\u001b[0m \u001b[39m# Add the display outputs to the active context. Each display function should return a structure like: dict(fig=active_figure, ax=ax_pf_1D)\u001b[39;00m\n\u001b[0;32m    406\u001b[0m \u001b[39m# owning_pipeline.display_output[active_display_fn_identifying_ctx] = (active_figure, ax_pf_1D)\u001b[39;00m\n\u001b[1;32m--> 407\u001b[0m curr_display_output \u001b[39m=\u001b[39m display_function(\u001b[39mself\u001b[39m\u001b[39m.\u001b[39mcomputation_results[active_session_configuration_name], \u001b[39mself\u001b[39m\u001b[39m.\u001b[39mactive_configs[active_session_configuration_name], owning_pipeline\u001b[39m=\u001b[39m\u001b[39mself\u001b[39m, active_config_name\u001b[39m=\u001b[39mactive_session_configuration_name, \u001b[39m*\u001b[39m\u001b[39m*\u001b[39mkwargs)\n\u001b[0;32m    408\u001b[0m \u001b[39mself\u001b[39m\u001b[39m.\u001b[39mdisplay_output[active_display_fn_identifying_ctx] \u001b[39m=\u001b[39m curr_display_output \u001b[39m# sets the internal display reference to that item\u001b[39;00m\n\u001b[0;32m    410\u001b[0m \u001b[39mreturn\u001b[39;00m curr_display_output\n",
      "\u001b[1;31mTypeError\u001b[0m: _display_short_long_firing_rate_index_comparison() missing 2 required positional arguments: 'computation_results' and 'active_configs'"
     ]
    }
   ],
   "source": [
    "curr_active_pipeline.plot._display_short_long_firing_rate_index_comparison()\n"
   ]
  },
  {
   "cell_type": "code",
   "execution_count": 96,
   "id": "fafcd248",
   "metadata": {},
   "outputs": [
    {
     "name": "stderr",
     "output_type": "stream",
     "text": [
      "[autoreload of pyphoplacecellanalysis.General.Batch.NonInteractiveWrapper failed: Traceback (most recent call last):\n",
      "  File \"c:\\Users\\pho\\AppData\\Local\\pypoetry\\Cache\\virtualenvs\\spike3d-WtdfU5rp-py3.9\\lib\\site-packages\\IPython\\extensions\\autoreload.py\", line 271, in check\n",
      "    superreload(m, reload, self.old_objects, self.shell)\n",
      "  File \"c:\\Users\\pho\\AppData\\Local\\pypoetry\\Cache\\virtualenvs\\spike3d-WtdfU5rp-py3.9\\lib\\site-packages\\IPython\\extensions\\autoreload.py\", line 496, in superreload\n",
      "    update_generic(old_obj, new_obj)\n",
      "  File \"c:\\Users\\pho\\AppData\\Local\\pypoetry\\Cache\\virtualenvs\\spike3d-WtdfU5rp-py3.9\\lib\\site-packages\\IPython\\extensions\\autoreload.py\", line 393, in update_generic\n",
      "    update(a, b)\n",
      "  File \"c:\\Users\\pho\\AppData\\Local\\pypoetry\\Cache\\virtualenvs\\spike3d-WtdfU5rp-py3.9\\lib\\site-packages\\IPython\\extensions\\autoreload.py\", line 361, in update_class\n",
      "    update_instances(old, new)\n",
      "  File \"c:\\Users\\pho\\AppData\\Local\\pypoetry\\Cache\\virtualenvs\\spike3d-WtdfU5rp-py3.9\\lib\\site-packages\\IPython\\extensions\\autoreload.py\", line 319, in update_instances\n",
      "    object.__setattr__(ref, \"__class__\", new)\n",
      "TypeError: can't apply this __setattr__ to DataSessionFormatRegistryHolder object\n",
      "]\n"
     ]
    },
    {
     "name": "stdout",
     "output_type": "stream",
     "text": [
      "shared_aclus: [3, 5, 6, 7, 9, 10, 11, 12, 14, 15, 17, 18, 20, 21, 22, 24, 25, 26, 27, 28, 29, 30, 31, 32, 33, 34, 35, 36, 37, 38, 39, 40, 41, 42, 43, 44, 45, 46, 47, 48, 49, 50, 51, 52, 53, 54, 55, 56, 57, 59, 60, 61, 62, 63, 64, 65, 66, 67, 68, 69, 70, 71, 72, 73, 74, 75, 76, 77, 78, 79, 80, 81, 82, 83, 84, 85, 86, 87, 88, 89, 90, 91, 92, 93, 94, 95, 96, 97, 98, 99, 100, 101, 102, 103, 104, 106, 107, 108]\n",
      "long_only_aclus: [2, 8, 16, 19, 105, 109]\n",
      "short_only_aclus: [4, 13, 23, 58]\n",
      "curr_session_parent_out_path: C:\\Users\\pho\\repos\\Spike3DWorkEnv\\Spike3D\\EXTERNAL\\Screenshots\\ProgrammaticDisplayFunctionTesting\\2023-05-12\\kdiba\\gor01\\one\\2006-6-08_14-26-15\n",
      "shared_aclus: [3, 5, 6, 7, 9, 10, 11, 12, 14, 15, 17, 18, 20, 21, 22, 24, 25, 26, 27, 28, 29, 30, 31, 32, 33, 34, 35, 36, 37, 38, 39, 40, 41, 42, 43, 44, 45, 46, 47, 48, 49, 50, 51, 52, 53, 54, 55, 56, 57, 59, 60, 61, 62, 63, 64, 65, 66, 67, 68, 69, 70, 71, 72, 73, 74, 75, 76, 77, 78, 79, 80, 81, 82, 83, 84, 85, 86, 87, 88, 89, 90, 91, 92, 93, 94, 95, 96, 97, 98, 99, 100, 101, 102, 103, 104, 106, 107, 108]\n",
      "long_only_aclus: [2, 8, 16, 19, 105, 109]\n",
      "short_only_aclus: [4, 13, 23, 58]\n",
      "curr_session_parent_out_path: C:\\Users\\pho\\repos\\Spike3DWorkEnv\\Spike3D\\EXTERNAL\\Screenshots\\ProgrammaticDisplayFunctionTesting\\2023-05-12\\kdiba\\gor01\\one\\2006-6-08_14-26-15\n",
      "include_whitelist: ['maze1', 'maze2', 'maze']\n",
      "long_epoch_name: maze1, short_epoch_name: maze2, global_epoch_name: maze\n"
     ]
    },
    {
     "name": "stderr",
     "output_type": "stream",
     "text": [
      "C:\\Users\\pho\\repos\\Spike3DWorkEnv\\pyPhoPlaceCellAnalysis\\src\\pyphoplacecellanalysis\\General\\Pipeline\\Stages\\DisplayFunctions\\MultiContextComparingDisplayFunctions\\LongShortTrackComparingDisplayFunctions.py:679: SettingWithCopyWarning: \n",
      "A value is trying to be set on a copy of a slice from a DataFrame.\n",
      "Try using .loc[row_indexer,col_indexer] = value instead\n",
      "\n",
      "See the caveats in the documentation: https://pandas.pydata.org/pandas-docs/stable/user_guide/indexing.html#returning-a-view-versus-a-copy\n",
      "  cell_df.loc[:, 'x'] = spk_x\n",
      "C:\\Users\\pho\\repos\\Spike3DWorkEnv\\pyPhoPlaceCellAnalysis\\src\\pyphoplacecellanalysis\\General\\Mixins\\CrossComputationComparisonHelpers.py:208: RuntimeWarning: invalid value encountered in divide\n",
      "  _long_to_short_balances = (rdf.num_short_only_neuron_participating.values - rdf.num_long_only_neuron_participating.values) / (rdf.num_short_only_neuron_participating.values + rdf.num_long_only_neuron_participating.values) ## Working but (0, 1, 1) would clip to 0.5 despite (1, 13, 0) going all the way down to -1.0\n",
      "C:\\Users\\pho\\repos\\Spike3DWorkEnv\\pyPhoPlaceCellAnalysis\\src\\pyphoplacecellanalysis\\General\\Mixins\\CrossComputationComparisonHelpers.py:238: RuntimeWarning: invalid value encountered in divide\n",
      "  _long_to_short_balances = (rdf.num_short_only_neuron_participating.values - rdf.num_long_only_neuron_participating.values) / (rdf.num_short_only_neuron_participating.values + rdf.num_long_only_neuron_participating.values) ## Working but (0, 1, 1) would clip to 0.5 despite (1, 13, 0) going all the way down to -1.0\n"
     ]
    },
    {
     "name": "stdout",
     "output_type": "stream",
     "text": [
      "WARNING: aclu 19 is not present in the pf1D_all ratemaps. Which contain aclus: [2, 3, 4, 5, 8, 10, 11, 14, 15, 16, 21, 23, 24, 25, 26, 27, 28, 31, 32, 33, 34, 36, 37, 41, 49, 50, 51, 52, 53, 54, 55, 56, 57, 58, 59, 60, 61, 62, 63, 64, 66, 67, 68, 69, 70, 73, 74, 75, 76, 78, 81, 82, 83, 85, 86, 87, 88, 89, 90, 92, 93, 96, 98, 100, 102, 108, 109]\n",
      "WARNING: aclu 105 is not present in the pf1D_all ratemaps. Which contain aclus: [2, 3, 4, 5, 8, 10, 11, 14, 15, 16, 21, 23, 24, 25, 26, 27, 28, 31, 32, 33, 34, 36, 37, 41, 49, 50, 51, 52, 53, 54, 55, 56, 57, 58, 59, 60, 61, 62, 63, 64, 66, 67, 68, 69, 70, 73, 74, 75, 76, 78, 81, 82, 83, 85, 86, 87, 88, 89, 90, 92, 93, 96, 98, 100, 102, 108, 109]\n"
     ]
    },
    {
     "name": "stderr",
     "output_type": "stream",
     "text": [
      "C:\\Users\\pho\\repos\\Spike3DWorkEnv\\pyPhoPlaceCellAnalysis\\src\\pyphoplacecellanalysis\\General\\Pipeline\\Stages\\DisplayFunctions\\MultiContextComparingDisplayFunctions\\LongShortTrackComparingDisplayFunctions.py:913: UserWarning: Matplotlib is currently using agg, which is a non-GUI backend, so cannot show the figure.\n",
      "  fig.show()\n"
     ]
    },
    {
     "name": "stdout",
     "output_type": "stream",
     "text": [
      "\t saved C:\\Users\\pho\\repos\\Spike3DWorkEnv\\Spike3D\\EXTERNAL\\Screenshots\\ProgrammaticDisplayFunctionTesting\\2023-05-12\\kdiba\\gor01\\one\\2006-6-08_14-26-15\\kdiba_gor01_one_2006-6-08_14-26-15_batch_plot_test_long_only_[2, 8, 16, 19, 105, 109].png\n",
      "include_whitelist: ['maze1', 'maze2', 'maze']\n",
      "long_epoch_name: maze1, short_epoch_name: maze2, global_epoch_name: maze\n"
     ]
    },
    {
     "name": "stderr",
     "output_type": "stream",
     "text": [
      "C:\\Users\\pho\\repos\\Spike3DWorkEnv\\pyPhoPlaceCellAnalysis\\src\\pyphoplacecellanalysis\\General\\Pipeline\\Stages\\DisplayFunctions\\MultiContextComparingDisplayFunctions\\LongShortTrackComparingDisplayFunctions.py:679: SettingWithCopyWarning: \n",
      "A value is trying to be set on a copy of a slice from a DataFrame.\n",
      "Try using .loc[row_indexer,col_indexer] = value instead\n",
      "\n",
      "See the caveats in the documentation: https://pandas.pydata.org/pandas-docs/stable/user_guide/indexing.html#returning-a-view-versus-a-copy\n",
      "  cell_df.loc[:, 'x'] = spk_x\n",
      "C:\\Users\\pho\\repos\\Spike3DWorkEnv\\pyPhoPlaceCellAnalysis\\src\\pyphoplacecellanalysis\\General\\Mixins\\CrossComputationComparisonHelpers.py:208: RuntimeWarning: invalid value encountered in divide\n",
      "  _long_to_short_balances = (rdf.num_short_only_neuron_participating.values - rdf.num_long_only_neuron_participating.values) / (rdf.num_short_only_neuron_participating.values + rdf.num_long_only_neuron_participating.values) ## Working but (0, 1, 1) would clip to 0.5 despite (1, 13, 0) going all the way down to -1.0\n",
      "C:\\Users\\pho\\repos\\Spike3DWorkEnv\\pyPhoPlaceCellAnalysis\\src\\pyphoplacecellanalysis\\General\\Mixins\\CrossComputationComparisonHelpers.py:238: RuntimeWarning: invalid value encountered in divide\n",
      "  _long_to_short_balances = (rdf.num_short_only_neuron_participating.values - rdf.num_long_only_neuron_participating.values) / (rdf.num_short_only_neuron_participating.values + rdf.num_long_only_neuron_participating.values) ## Working but (0, 1, 1) would clip to 0.5 despite (1, 13, 0) going all the way down to -1.0\n"
     ]
    },
    {
     "name": "stdout",
     "output_type": "stream",
     "text": [
      "WARNING: aclu 13 is not present in the pf1D_all ratemaps. Which contain aclus: [2, 3, 4, 5, 8, 10, 11, 14, 15, 16, 21, 23, 24, 25, 26, 27, 28, 31, 32, 33, 34, 36, 37, 41, 49, 50, 51, 52, 53, 54, 55, 56, 57, 58, 59, 60, 61, 62, 63, 64, 66, 67, 68, 69, 70, 73, 74, 75, 76, 78, 81, 82, 83, 85, 86, 87, 88, 89, 90, 92, 93, 96, 98, 100, 102, 108, 109]\n"
     ]
    },
    {
     "name": "stderr",
     "output_type": "stream",
     "text": [
      "C:\\Users\\pho\\repos\\Spike3DWorkEnv\\pyPhoPlaceCellAnalysis\\src\\pyphoplacecellanalysis\\General\\Pipeline\\Stages\\DisplayFunctions\\MultiContextComparingDisplayFunctions\\LongShortTrackComparingDisplayFunctions.py:913: UserWarning: Matplotlib is currently using agg, which is a non-GUI backend, so cannot show the figure.\n",
      "  fig.show()\n"
     ]
    },
    {
     "name": "stdout",
     "output_type": "stream",
     "text": [
      "\t saved C:\\Users\\pho\\repos\\Spike3DWorkEnv\\Spike3D\\EXTERNAL\\Screenshots\\ProgrammaticDisplayFunctionTesting\\2023-05-12\\kdiba\\gor01\\one\\2006-6-08_14-26-15\\kdiba_gor01_one_2006-6-08_14-26-15_batch_plot_test_short_only_[4, 13, 23, 58].png\n",
      "include_whitelist: ['maze1', 'maze2', 'maze']\n",
      "long_epoch_name: maze1, short_epoch_name: maze2, global_epoch_name: maze\n"
     ]
    },
    {
     "name": "stderr",
     "output_type": "stream",
     "text": [
      "C:\\Users\\pho\\repos\\Spike3DWorkEnv\\pyPhoPlaceCellAnalysis\\src\\pyphoplacecellanalysis\\General\\Pipeline\\Stages\\DisplayFunctions\\MultiContextComparingDisplayFunctions\\LongShortTrackComparingDisplayFunctions.py:679: SettingWithCopyWarning: \n",
      "A value is trying to be set on a copy of a slice from a DataFrame.\n",
      "Try using .loc[row_indexer,col_indexer] = value instead\n",
      "\n",
      "See the caveats in the documentation: https://pandas.pydata.org/pandas-docs/stable/user_guide/indexing.html#returning-a-view-versus-a-copy\n",
      "  cell_df.loc[:, 'x'] = spk_x\n",
      "C:\\Users\\pho\\repos\\Spike3DWorkEnv\\pyPhoPlaceCellAnalysis\\src\\pyphoplacecellanalysis\\General\\Mixins\\CrossComputationComparisonHelpers.py:208: RuntimeWarning: invalid value encountered in divide\n",
      "  _long_to_short_balances = (rdf.num_short_only_neuron_participating.values - rdf.num_long_only_neuron_participating.values) / (rdf.num_short_only_neuron_participating.values + rdf.num_long_only_neuron_participating.values) ## Working but (0, 1, 1) would clip to 0.5 despite (1, 13, 0) going all the way down to -1.0\n",
      "C:\\Users\\pho\\repos\\Spike3DWorkEnv\\pyPhoPlaceCellAnalysis\\src\\pyphoplacecellanalysis\\General\\Mixins\\CrossComputationComparisonHelpers.py:238: RuntimeWarning: invalid value encountered in divide\n",
      "  _long_to_short_balances = (rdf.num_short_only_neuron_participating.values - rdf.num_long_only_neuron_participating.values) / (rdf.num_short_only_neuron_participating.values + rdf.num_long_only_neuron_participating.values) ## Working but (0, 1, 1) would clip to 0.5 despite (1, 13, 0) going all the way down to -1.0\n"
     ]
    },
    {
     "name": "stdout",
     "output_type": "stream",
     "text": [
      "WARNING: aclu 6 is not present in the pf1D_all ratemaps. Which contain aclus: [2, 3, 4, 5, 8, 10, 11, 14, 15, 16, 21, 23, 24, 25, 26, 27, 28, 31, 32, 33, 34, 36, 37, 41, 49, 50, 51, 52, 53, 54, 55, 56, 57, 58, 59, 60, 61, 62, 63, 64, 66, 67, 68, 69, 70, 73, 74, 75, 76, 78, 81, 82, 83, 85, 86, 87, 88, 89, 90, 92, 93, 96, 98, 100, 102, 108, 109]\n",
      "WARNING: aclu 7 is not present in the pf1D_all ratemaps. Which contain aclus: [2, 3, 4, 5, 8, 10, 11, 14, 15, 16, 21, 23, 24, 25, 26, 27, 28, 31, 32, 33, 34, 36, 37, 41, 49, 50, 51, 52, 53, 54, 55, 56, 57, 58, 59, 60, 61, 62, 63, 64, 66, 67, 68, 69, 70, 73, 74, 75, 76, 78, 81, 82, 83, 85, 86, 87, 88, 89, 90, 92, 93, 96, 98, 100, 102, 108, 109]\n",
      "WARNING: aclu 9 is not present in the pf1D_all ratemaps. Which contain aclus: [2, 3, 4, 5, 8, 10, 11, 14, 15, 16, 21, 23, 24, 25, 26, 27, 28, 31, 32, 33, 34, 36, 37, 41, 49, 50, 51, 52, 53, 54, 55, 56, 57, 58, 59, 60, 61, 62, 63, 64, 66, 67, 68, 69, 70, 73, 74, 75, 76, 78, 81, 82, 83, 85, 86, 87, 88, 89, 90, 92, 93, 96, 98, 100, 102, 108, 109]\n",
      "WARNING: aclu 12 is not present in the pf1D_all ratemaps. Which contain aclus: [2, 3, 4, 5, 8, 10, 11, 14, 15, 16, 21, 23, 24, 25, 26, 27, 28, 31, 32, 33, 34, 36, 37, 41, 49, 50, 51, 52, 53, 54, 55, 56, 57, 58, 59, 60, 61, 62, 63, 64, 66, 67, 68, 69, 70, 73, 74, 75, 76, 78, 81, 82, 83, 85, 86, 87, 88, 89, 90, 92, 93, 96, 98, 100, 102, 108, 109]\n"
     ]
    },
    {
     "name": "stderr",
     "output_type": "stream",
     "text": [
      "C:\\Users\\pho\\repos\\Spike3DWorkEnv\\pyPhoPlaceCellAnalysis\\src\\pyphoplacecellanalysis\\General\\Pipeline\\Stages\\DisplayFunctions\\MultiContextComparingDisplayFunctions\\LongShortTrackComparingDisplayFunctions.py:913: UserWarning: Matplotlib is currently using agg, which is a non-GUI backend, so cannot show the figure.\n",
      "  fig.show()\n"
     ]
    },
    {
     "name": "stdout",
     "output_type": "stream",
     "text": [
      "\t saved C:\\Users\\pho\\repos\\Spike3DWorkEnv\\Spike3D\\EXTERNAL\\Screenshots\\ProgrammaticDisplayFunctionTesting\\2023-05-12\\kdiba\\gor01\\one\\2006-6-08_14-26-15\\kdiba_gor01_one_2006-6-08_14-26-15_batch_plot_test_shared_1of10_[3, 5, 6, 7, 9, 10, 11, 12, 14, 15].png\n",
      "include_whitelist: ['maze1', 'maze2', 'maze']\n",
      "long_epoch_name: maze1, short_epoch_name: maze2, global_epoch_name: maze\n"
     ]
    },
    {
     "name": "stderr",
     "output_type": "stream",
     "text": [
      "C:\\Users\\pho\\repos\\Spike3DWorkEnv\\pyPhoPlaceCellAnalysis\\src\\pyphoplacecellanalysis\\General\\Pipeline\\Stages\\DisplayFunctions\\MultiContextComparingDisplayFunctions\\LongShortTrackComparingDisplayFunctions.py:679: SettingWithCopyWarning: \n",
      "A value is trying to be set on a copy of a slice from a DataFrame.\n",
      "Try using .loc[row_indexer,col_indexer] = value instead\n",
      "\n",
      "See the caveats in the documentation: https://pandas.pydata.org/pandas-docs/stable/user_guide/indexing.html#returning-a-view-versus-a-copy\n",
      "  cell_df.loc[:, 'x'] = spk_x\n",
      "C:\\Users\\pho\\repos\\Spike3DWorkEnv\\pyPhoPlaceCellAnalysis\\src\\pyphoplacecellanalysis\\General\\Mixins\\CrossComputationComparisonHelpers.py:208: RuntimeWarning: invalid value encountered in divide\n",
      "  _long_to_short_balances = (rdf.num_short_only_neuron_participating.values - rdf.num_long_only_neuron_participating.values) / (rdf.num_short_only_neuron_participating.values + rdf.num_long_only_neuron_participating.values) ## Working but (0, 1, 1) would clip to 0.5 despite (1, 13, 0) going all the way down to -1.0\n",
      "C:\\Users\\pho\\repos\\Spike3DWorkEnv\\pyPhoPlaceCellAnalysis\\src\\pyphoplacecellanalysis\\General\\Mixins\\CrossComputationComparisonHelpers.py:238: RuntimeWarning: invalid value encountered in divide\n",
      "  _long_to_short_balances = (rdf.num_short_only_neuron_participating.values - rdf.num_long_only_neuron_participating.values) / (rdf.num_short_only_neuron_participating.values + rdf.num_long_only_neuron_participating.values) ## Working but (0, 1, 1) would clip to 0.5 despite (1, 13, 0) going all the way down to -1.0\n"
     ]
    },
    {
     "name": "stdout",
     "output_type": "stream",
     "text": [
      "WARNING: aclu 17 is not present in the pf1D_all ratemaps. Which contain aclus: [2, 3, 4, 5, 8, 10, 11, 14, 15, 16, 21, 23, 24, 25, 26, 27, 28, 31, 32, 33, 34, 36, 37, 41, 49, 50, 51, 52, 53, 54, 55, 56, 57, 58, 59, 60, 61, 62, 63, 64, 66, 67, 68, 69, 70, 73, 74, 75, 76, 78, 81, 82, 83, 85, 86, 87, 88, 89, 90, 92, 93, 96, 98, 100, 102, 108, 109]\n",
      "WARNING: aclu 18 is not present in the pf1D_all ratemaps. Which contain aclus: [2, 3, 4, 5, 8, 10, 11, 14, 15, 16, 21, 23, 24, 25, 26, 27, 28, 31, 32, 33, 34, 36, 37, 41, 49, 50, 51, 52, 53, 54, 55, 56, 57, 58, 59, 60, 61, 62, 63, 64, 66, 67, 68, 69, 70, 73, 74, 75, 76, 78, 81, 82, 83, 85, 86, 87, 88, 89, 90, 92, 93, 96, 98, 100, 102, 108, 109]\n",
      "WARNING: aclu 20 is not present in the pf1D_all ratemaps. Which contain aclus: [2, 3, 4, 5, 8, 10, 11, 14, 15, 16, 21, 23, 24, 25, 26, 27, 28, 31, 32, 33, 34, 36, 37, 41, 49, 50, 51, 52, 53, 54, 55, 56, 57, 58, 59, 60, 61, 62, 63, 64, 66, 67, 68, 69, 70, 73, 74, 75, 76, 78, 81, 82, 83, 85, 86, 87, 88, 89, 90, 92, 93, 96, 98, 100, 102, 108, 109]\n",
      "WARNING: aclu 22 is not present in the pf1D_all ratemaps. Which contain aclus: [2, 3, 4, 5, 8, 10, 11, 14, 15, 16, 21, 23, 24, 25, 26, 27, 28, 31, 32, 33, 34, 36, 37, 41, 49, 50, 51, 52, 53, 54, 55, 56, 57, 58, 59, 60, 61, 62, 63, 64, 66, 67, 68, 69, 70, 73, 74, 75, 76, 78, 81, 82, 83, 85, 86, 87, 88, 89, 90, 92, 93, 96, 98, 100, 102, 108, 109]\n"
     ]
    },
    {
     "name": "stderr",
     "output_type": "stream",
     "text": [
      "C:\\Users\\pho\\repos\\Spike3DWorkEnv\\pyPhoPlaceCellAnalysis\\src\\pyphoplacecellanalysis\\General\\Pipeline\\Stages\\DisplayFunctions\\MultiContextComparingDisplayFunctions\\LongShortTrackComparingDisplayFunctions.py:913: UserWarning: Matplotlib is currently using agg, which is a non-GUI backend, so cannot show the figure.\n",
      "  fig.show()\n"
     ]
    },
    {
     "name": "stdout",
     "output_type": "stream",
     "text": [
      "\t saved C:\\Users\\pho\\repos\\Spike3DWorkEnv\\Spike3D\\EXTERNAL\\Screenshots\\ProgrammaticDisplayFunctionTesting\\2023-05-12\\kdiba\\gor01\\one\\2006-6-08_14-26-15\\kdiba_gor01_one_2006-6-08_14-26-15_batch_plot_test_shared_2of10_[17, 18, 20, 21, 22, 24, 25, 26, 27, 28].png\n",
      "include_whitelist: ['maze1', 'maze2', 'maze']\n",
      "long_epoch_name: maze1, short_epoch_name: maze2, global_epoch_name: maze\n"
     ]
    },
    {
     "name": "stderr",
     "output_type": "stream",
     "text": [
      "C:\\Users\\pho\\repos\\Spike3DWorkEnv\\pyPhoPlaceCellAnalysis\\src\\pyphoplacecellanalysis\\General\\Pipeline\\Stages\\DisplayFunctions\\MultiContextComparingDisplayFunctions\\LongShortTrackComparingDisplayFunctions.py:679: SettingWithCopyWarning: \n",
      "A value is trying to be set on a copy of a slice from a DataFrame.\n",
      "Try using .loc[row_indexer,col_indexer] = value instead\n",
      "\n",
      "See the caveats in the documentation: https://pandas.pydata.org/pandas-docs/stable/user_guide/indexing.html#returning-a-view-versus-a-copy\n",
      "  cell_df.loc[:, 'x'] = spk_x\n",
      "C:\\Users\\pho\\repos\\Spike3DWorkEnv\\pyPhoPlaceCellAnalysis\\src\\pyphoplacecellanalysis\\General\\Mixins\\CrossComputationComparisonHelpers.py:208: RuntimeWarning: invalid value encountered in divide\n",
      "  _long_to_short_balances = (rdf.num_short_only_neuron_participating.values - rdf.num_long_only_neuron_participating.values) / (rdf.num_short_only_neuron_participating.values + rdf.num_long_only_neuron_participating.values) ## Working but (0, 1, 1) would clip to 0.5 despite (1, 13, 0) going all the way down to -1.0\n",
      "C:\\Users\\pho\\repos\\Spike3DWorkEnv\\pyPhoPlaceCellAnalysis\\src\\pyphoplacecellanalysis\\General\\Mixins\\CrossComputationComparisonHelpers.py:238: RuntimeWarning: invalid value encountered in divide\n",
      "  _long_to_short_balances = (rdf.num_short_only_neuron_participating.values - rdf.num_long_only_neuron_participating.values) / (rdf.num_short_only_neuron_participating.values + rdf.num_long_only_neuron_participating.values) ## Working but (0, 1, 1) would clip to 0.5 despite (1, 13, 0) going all the way down to -1.0\n"
     ]
    },
    {
     "name": "stdout",
     "output_type": "stream",
     "text": [
      "WARNING: aclu 29 is not present in the pf1D_all ratemaps. Which contain aclus: [2, 3, 4, 5, 8, 10, 11, 14, 15, 16, 21, 23, 24, 25, 26, 27, 28, 31, 32, 33, 34, 36, 37, 41, 49, 50, 51, 52, 53, 54, 55, 56, 57, 58, 59, 60, 61, 62, 63, 64, 66, 67, 68, 69, 70, 73, 74, 75, 76, 78, 81, 82, 83, 85, 86, 87, 88, 89, 90, 92, 93, 96, 98, 100, 102, 108, 109]\n",
      "WARNING: aclu 30 is not present in the pf1D_all ratemaps. Which contain aclus: [2, 3, 4, 5, 8, 10, 11, 14, 15, 16, 21, 23, 24, 25, 26, 27, 28, 31, 32, 33, 34, 36, 37, 41, 49, 50, 51, 52, 53, 54, 55, 56, 57, 58, 59, 60, 61, 62, 63, 64, 66, 67, 68, 69, 70, 73, 74, 75, 76, 78, 81, 82, 83, 85, 86, 87, 88, 89, 90, 92, 93, 96, 98, 100, 102, 108, 109]\n",
      "WARNING: aclu 35 is not present in the pf1D_all ratemaps. Which contain aclus: [2, 3, 4, 5, 8, 10, 11, 14, 15, 16, 21, 23, 24, 25, 26, 27, 28, 31, 32, 33, 34, 36, 37, 41, 49, 50, 51, 52, 53, 54, 55, 56, 57, 58, 59, 60, 61, 62, 63, 64, 66, 67, 68, 69, 70, 73, 74, 75, 76, 78, 81, 82, 83, 85, 86, 87, 88, 89, 90, 92, 93, 96, 98, 100, 102, 108, 109]\n",
      "WARNING: aclu 38 is not present in the pf1D_all ratemaps. Which contain aclus: [2, 3, 4, 5, 8, 10, 11, 14, 15, 16, 21, 23, 24, 25, 26, 27, 28, 31, 32, 33, 34, 36, 37, 41, 49, 50, 51, 52, 53, 54, 55, 56, 57, 58, 59, 60, 61, 62, 63, 64, 66, 67, 68, 69, 70, 73, 74, 75, 76, 78, 81, 82, 83, 85, 86, 87, 88, 89, 90, 92, 93, 96, 98, 100, 102, 108, 109]\n"
     ]
    },
    {
     "name": "stderr",
     "output_type": "stream",
     "text": [
      "C:\\Users\\pho\\repos\\Spike3DWorkEnv\\pyPhoPlaceCellAnalysis\\src\\pyphoplacecellanalysis\\General\\Pipeline\\Stages\\DisplayFunctions\\MultiContextComparingDisplayFunctions\\LongShortTrackComparingDisplayFunctions.py:913: UserWarning: Matplotlib is currently using agg, which is a non-GUI backend, so cannot show the figure.\n",
      "  fig.show()\n"
     ]
    },
    {
     "name": "stdout",
     "output_type": "stream",
     "text": [
      "\t saved C:\\Users\\pho\\repos\\Spike3DWorkEnv\\Spike3D\\EXTERNAL\\Screenshots\\ProgrammaticDisplayFunctionTesting\\2023-05-12\\kdiba\\gor01\\one\\2006-6-08_14-26-15\\kdiba_gor01_one_2006-6-08_14-26-15_batch_plot_test_shared_3of10_[29, 30, 31, 32, 33, 34, 35, 36, 37, 38].png\n",
      "include_whitelist: ['maze1', 'maze2', 'maze']\n",
      "long_epoch_name: maze1, short_epoch_name: maze2, global_epoch_name: maze\n"
     ]
    },
    {
     "name": "stderr",
     "output_type": "stream",
     "text": [
      "C:\\Users\\pho\\repos\\Spike3DWorkEnv\\pyPhoPlaceCellAnalysis\\src\\pyphoplacecellanalysis\\General\\Pipeline\\Stages\\DisplayFunctions\\MultiContextComparingDisplayFunctions\\LongShortTrackComparingDisplayFunctions.py:679: SettingWithCopyWarning: \n",
      "A value is trying to be set on a copy of a slice from a DataFrame.\n",
      "Try using .loc[row_indexer,col_indexer] = value instead\n",
      "\n",
      "See the caveats in the documentation: https://pandas.pydata.org/pandas-docs/stable/user_guide/indexing.html#returning-a-view-versus-a-copy\n",
      "  cell_df.loc[:, 'x'] = spk_x\n",
      "C:\\Users\\pho\\repos\\Spike3DWorkEnv\\pyPhoPlaceCellAnalysis\\src\\pyphoplacecellanalysis\\General\\Mixins\\CrossComputationComparisonHelpers.py:208: RuntimeWarning: invalid value encountered in divide\n",
      "  _long_to_short_balances = (rdf.num_short_only_neuron_participating.values - rdf.num_long_only_neuron_participating.values) / (rdf.num_short_only_neuron_participating.values + rdf.num_long_only_neuron_participating.values) ## Working but (0, 1, 1) would clip to 0.5 despite (1, 13, 0) going all the way down to -1.0\n",
      "C:\\Users\\pho\\repos\\Spike3DWorkEnv\\pyPhoPlaceCellAnalysis\\src\\pyphoplacecellanalysis\\General\\Mixins\\CrossComputationComparisonHelpers.py:238: RuntimeWarning: invalid value encountered in divide\n",
      "  _long_to_short_balances = (rdf.num_short_only_neuron_participating.values - rdf.num_long_only_neuron_participating.values) / (rdf.num_short_only_neuron_participating.values + rdf.num_long_only_neuron_participating.values) ## Working but (0, 1, 1) would clip to 0.5 despite (1, 13, 0) going all the way down to -1.0\n"
     ]
    },
    {
     "name": "stdout",
     "output_type": "stream",
     "text": [
      "WARNING: aclu 39 is not present in the pf1D_all ratemaps. Which contain aclus: [2, 3, 4, 5, 8, 10, 11, 14, 15, 16, 21, 23, 24, 25, 26, 27, 28, 31, 32, 33, 34, 36, 37, 41, 49, 50, 51, 52, 53, 54, 55, 56, 57, 58, 59, 60, 61, 62, 63, 64, 66, 67, 68, 69, 70, 73, 74, 75, 76, 78, 81, 82, 83, 85, 86, 87, 88, 89, 90, 92, 93, 96, 98, 100, 102, 108, 109]\n",
      "WARNING: aclu 40 is not present in the pf1D_all ratemaps. Which contain aclus: [2, 3, 4, 5, 8, 10, 11, 14, 15, 16, 21, 23, 24, 25, 26, 27, 28, 31, 32, 33, 34, 36, 37, 41, 49, 50, 51, 52, 53, 54, 55, 56, 57, 58, 59, 60, 61, 62, 63, 64, 66, 67, 68, 69, 70, 73, 74, 75, 76, 78, 81, 82, 83, 85, 86, 87, 88, 89, 90, 92, 93, 96, 98, 100, 102, 108, 109]\n",
      "WARNING: aclu 42 is not present in the pf1D_all ratemaps. Which contain aclus: [2, 3, 4, 5, 8, 10, 11, 14, 15, 16, 21, 23, 24, 25, 26, 27, 28, 31, 32, 33, 34, 36, 37, 41, 49, 50, 51, 52, 53, 54, 55, 56, 57, 58, 59, 60, 61, 62, 63, 64, 66, 67, 68, 69, 70, 73, 74, 75, 76, 78, 81, 82, 83, 85, 86, 87, 88, 89, 90, 92, 93, 96, 98, 100, 102, 108, 109]\n",
      "WARNING: aclu 43 is not present in the pf1D_all ratemaps. Which contain aclus: [2, 3, 4, 5, 8, 10, 11, 14, 15, 16, 21, 23, 24, 25, 26, 27, 28, 31, 32, 33, 34, 36, 37, 41, 49, 50, 51, 52, 53, 54, 55, 56, 57, 58, 59, 60, 61, 62, 63, 64, 66, 67, 68, 69, 70, 73, 74, 75, 76, 78, 81, 82, 83, 85, 86, 87, 88, 89, 90, 92, 93, 96, 98, 100, 102, 108, 109]\n",
      "WARNING: aclu 44 is not present in the pf1D_all ratemaps. Which contain aclus: [2, 3, 4, 5, 8, 10, 11, 14, 15, 16, 21, 23, 24, 25, 26, 27, 28, 31, 32, 33, 34, 36, 37, 41, 49, 50, 51, 52, 53, 54, 55, 56, 57, 58, 59, 60, 61, 62, 63, 64, 66, 67, 68, 69, 70, 73, 74, 75, 76, 78, 81, 82, 83, 85, 86, 87, 88, 89, 90, 92, 93, 96, 98, 100, 102, 108, 109]\n",
      "WARNING: aclu 45 is not present in the pf1D_all ratemaps. Which contain aclus: [2, 3, 4, 5, 8, 10, 11, 14, 15, 16, 21, 23, 24, 25, 26, 27, 28, 31, 32, 33, 34, 36, 37, 41, 49, 50, 51, 52, 53, 54, 55, 56, 57, 58, 59, 60, 61, 62, 63, 64, 66, 67, 68, 69, 70, 73, 74, 75, 76, 78, 81, 82, 83, 85, 86, 87, 88, 89, 90, 92, 93, 96, 98, 100, 102, 108, 109]\n",
      "WARNING: aclu 46 is not present in the pf1D_all ratemaps. Which contain aclus: [2, 3, 4, 5, 8, 10, 11, 14, 15, 16, 21, 23, 24, 25, 26, 27, 28, 31, 32, 33, 34, 36, 37, 41, 49, 50, 51, 52, 53, 54, 55, 56, 57, 58, 59, 60, 61, 62, 63, 64, 66, 67, 68, 69, 70, 73, 74, 75, 76, 78, 81, 82, 83, 85, 86, 87, 88, 89, 90, 92, 93, 96, 98, 100, 102, 108, 109]\n",
      "WARNING: aclu 47 is not present in the pf1D_all ratemaps. Which contain aclus: [2, 3, 4, 5, 8, 10, 11, 14, 15, 16, 21, 23, 24, 25, 26, 27, 28, 31, 32, 33, 34, 36, 37, 41, 49, 50, 51, 52, 53, 54, 55, 56, 57, 58, 59, 60, 61, 62, 63, 64, 66, 67, 68, 69, 70, 73, 74, 75, 76, 78, 81, 82, 83, 85, 86, 87, 88, 89, 90, 92, 93, 96, 98, 100, 102, 108, 109]\n",
      "WARNING: aclu 48 is not present in the pf1D_all ratemaps. Which contain aclus: [2, 3, 4, 5, 8, 10, 11, 14, 15, 16, 21, 23, 24, 25, 26, 27, 28, 31, 32, 33, 34, 36, 37, 41, 49, 50, 51, 52, 53, 54, 55, 56, 57, 58, 59, 60, 61, 62, 63, 64, 66, 67, 68, 69, 70, 73, 74, 75, 76, 78, 81, 82, 83, 85, 86, 87, 88, 89, 90, 92, 93, 96, 98, 100, 102, 108, 109]\n"
     ]
    },
    {
     "name": "stderr",
     "output_type": "stream",
     "text": [
      "C:\\Users\\pho\\repos\\Spike3DWorkEnv\\pyPhoPlaceCellAnalysis\\src\\pyphoplacecellanalysis\\General\\Pipeline\\Stages\\DisplayFunctions\\MultiContextComparingDisplayFunctions\\LongShortTrackComparingDisplayFunctions.py:913: UserWarning: Matplotlib is currently using agg, which is a non-GUI backend, so cannot show the figure.\n",
      "  fig.show()\n"
     ]
    },
    {
     "name": "stdout",
     "output_type": "stream",
     "text": [
      "\t saved C:\\Users\\pho\\repos\\Spike3DWorkEnv\\Spike3D\\EXTERNAL\\Screenshots\\ProgrammaticDisplayFunctionTesting\\2023-05-12\\kdiba\\gor01\\one\\2006-6-08_14-26-15\\kdiba_gor01_one_2006-6-08_14-26-15_batch_plot_test_shared_4of10_[39, 40, 41, 42, 43, 44, 45, 46, 47, 48].png\n",
      "include_whitelist: ['maze1', 'maze2', 'maze']\n",
      "long_epoch_name: maze1, short_epoch_name: maze2, global_epoch_name: maze\n"
     ]
    },
    {
     "name": "stderr",
     "output_type": "stream",
     "text": [
      "C:\\Users\\pho\\repos\\Spike3DWorkEnv\\pyPhoPlaceCellAnalysis\\src\\pyphoplacecellanalysis\\General\\Pipeline\\Stages\\DisplayFunctions\\MultiContextComparingDisplayFunctions\\LongShortTrackComparingDisplayFunctions.py:679: SettingWithCopyWarning: \n",
      "A value is trying to be set on a copy of a slice from a DataFrame.\n",
      "Try using .loc[row_indexer,col_indexer] = value instead\n",
      "\n",
      "See the caveats in the documentation: https://pandas.pydata.org/pandas-docs/stable/user_guide/indexing.html#returning-a-view-versus-a-copy\n",
      "  cell_df.loc[:, 'x'] = spk_x\n",
      "C:\\Users\\pho\\repos\\Spike3DWorkEnv\\pyPhoPlaceCellAnalysis\\src\\pyphoplacecellanalysis\\General\\Mixins\\CrossComputationComparisonHelpers.py:208: RuntimeWarning: invalid value encountered in divide\n",
      "  _long_to_short_balances = (rdf.num_short_only_neuron_participating.values - rdf.num_long_only_neuron_participating.values) / (rdf.num_short_only_neuron_participating.values + rdf.num_long_only_neuron_participating.values) ## Working but (0, 1, 1) would clip to 0.5 despite (1, 13, 0) going all the way down to -1.0\n",
      "C:\\Users\\pho\\repos\\Spike3DWorkEnv\\pyPhoPlaceCellAnalysis\\src\\pyphoplacecellanalysis\\General\\Mixins\\CrossComputationComparisonHelpers.py:238: RuntimeWarning: invalid value encountered in divide\n",
      "  _long_to_short_balances = (rdf.num_short_only_neuron_participating.values - rdf.num_long_only_neuron_participating.values) / (rdf.num_short_only_neuron_participating.values + rdf.num_long_only_neuron_participating.values) ## Working but (0, 1, 1) would clip to 0.5 despite (1, 13, 0) going all the way down to -1.0\n",
      "C:\\Users\\pho\\repos\\Spike3DWorkEnv\\pyPhoPlaceCellAnalysis\\src\\pyphoplacecellanalysis\\General\\Pipeline\\Stages\\DisplayFunctions\\MultiContextComparingDisplayFunctions\\LongShortTrackComparingDisplayFunctions.py:913: UserWarning: Matplotlib is currently using agg, which is a non-GUI backend, so cannot show the figure.\n",
      "  fig.show()\n"
     ]
    },
    {
     "name": "stdout",
     "output_type": "stream",
     "text": [
      "\t saved C:\\Users\\pho\\repos\\Spike3DWorkEnv\\Spike3D\\EXTERNAL\\Screenshots\\ProgrammaticDisplayFunctionTesting\\2023-05-12\\kdiba\\gor01\\one\\2006-6-08_14-26-15\\kdiba_gor01_one_2006-6-08_14-26-15_batch_plot_test_shared_5of10_[49, 50, 51, 52, 53, 54, 55, 56, 57, 59].png\n",
      "include_whitelist: ['maze1', 'maze2', 'maze']\n",
      "long_epoch_name: maze1, short_epoch_name: maze2, global_epoch_name: maze\n"
     ]
    },
    {
     "name": "stderr",
     "output_type": "stream",
     "text": [
      "C:\\Users\\pho\\repos\\Spike3DWorkEnv\\pyPhoPlaceCellAnalysis\\src\\pyphoplacecellanalysis\\General\\Pipeline\\Stages\\DisplayFunctions\\MultiContextComparingDisplayFunctions\\LongShortTrackComparingDisplayFunctions.py:679: SettingWithCopyWarning: \n",
      "A value is trying to be set on a copy of a slice from a DataFrame.\n",
      "Try using .loc[row_indexer,col_indexer] = value instead\n",
      "\n",
      "See the caveats in the documentation: https://pandas.pydata.org/pandas-docs/stable/user_guide/indexing.html#returning-a-view-versus-a-copy\n",
      "  cell_df.loc[:, 'x'] = spk_x\n",
      "C:\\Users\\pho\\repos\\Spike3DWorkEnv\\pyPhoPlaceCellAnalysis\\src\\pyphoplacecellanalysis\\General\\Mixins\\CrossComputationComparisonHelpers.py:208: RuntimeWarning: invalid value encountered in divide\n",
      "  _long_to_short_balances = (rdf.num_short_only_neuron_participating.values - rdf.num_long_only_neuron_participating.values) / (rdf.num_short_only_neuron_participating.values + rdf.num_long_only_neuron_participating.values) ## Working but (0, 1, 1) would clip to 0.5 despite (1, 13, 0) going all the way down to -1.0\n",
      "C:\\Users\\pho\\repos\\Spike3DWorkEnv\\pyPhoPlaceCellAnalysis\\src\\pyphoplacecellanalysis\\General\\Mixins\\CrossComputationComparisonHelpers.py:238: RuntimeWarning: invalid value encountered in divide\n",
      "  _long_to_short_balances = (rdf.num_short_only_neuron_participating.values - rdf.num_long_only_neuron_participating.values) / (rdf.num_short_only_neuron_participating.values + rdf.num_long_only_neuron_participating.values) ## Working but (0, 1, 1) would clip to 0.5 despite (1, 13, 0) going all the way down to -1.0\n"
     ]
    },
    {
     "name": "stdout",
     "output_type": "stream",
     "text": [
      "WARNING: aclu 65 is not present in the pf1D_all ratemaps. Which contain aclus: [2, 3, 4, 5, 8, 10, 11, 14, 15, 16, 21, 23, 24, 25, 26, 27, 28, 31, 32, 33, 34, 36, 37, 41, 49, 50, 51, 52, 53, 54, 55, 56, 57, 58, 59, 60, 61, 62, 63, 64, 66, 67, 68, 69, 70, 73, 74, 75, 76, 78, 81, 82, 83, 85, 86, 87, 88, 89, 90, 92, 93, 96, 98, 100, 102, 108, 109]\n"
     ]
    },
    {
     "name": "stderr",
     "output_type": "stream",
     "text": [
      "C:\\Users\\pho\\repos\\Spike3DWorkEnv\\pyPhoPlaceCellAnalysis\\src\\pyphoplacecellanalysis\\General\\Pipeline\\Stages\\DisplayFunctions\\MultiContextComparingDisplayFunctions\\LongShortTrackComparingDisplayFunctions.py:913: UserWarning: Matplotlib is currently using agg, which is a non-GUI backend, so cannot show the figure.\n",
      "  fig.show()\n"
     ]
    },
    {
     "name": "stdout",
     "output_type": "stream",
     "text": [
      "\t saved C:\\Users\\pho\\repos\\Spike3DWorkEnv\\Spike3D\\EXTERNAL\\Screenshots\\ProgrammaticDisplayFunctionTesting\\2023-05-12\\kdiba\\gor01\\one\\2006-6-08_14-26-15\\kdiba_gor01_one_2006-6-08_14-26-15_batch_plot_test_shared_6of10_[60, 61, 62, 63, 64, 65, 66, 67, 68, 69].png\n",
      "include_whitelist: ['maze1', 'maze2', 'maze']\n",
      "long_epoch_name: maze1, short_epoch_name: maze2, global_epoch_name: maze\n"
     ]
    },
    {
     "name": "stderr",
     "output_type": "stream",
     "text": [
      "C:\\Users\\pho\\repos\\Spike3DWorkEnv\\pyPhoPlaceCellAnalysis\\src\\pyphoplacecellanalysis\\General\\Pipeline\\Stages\\DisplayFunctions\\MultiContextComparingDisplayFunctions\\LongShortTrackComparingDisplayFunctions.py:679: SettingWithCopyWarning: \n",
      "A value is trying to be set on a copy of a slice from a DataFrame.\n",
      "Try using .loc[row_indexer,col_indexer] = value instead\n",
      "\n",
      "See the caveats in the documentation: https://pandas.pydata.org/pandas-docs/stable/user_guide/indexing.html#returning-a-view-versus-a-copy\n",
      "  cell_df.loc[:, 'x'] = spk_x\n",
      "C:\\Users\\pho\\repos\\Spike3DWorkEnv\\pyPhoPlaceCellAnalysis\\src\\pyphoplacecellanalysis\\General\\Mixins\\CrossComputationComparisonHelpers.py:208: RuntimeWarning: invalid value encountered in divide\n",
      "  _long_to_short_balances = (rdf.num_short_only_neuron_participating.values - rdf.num_long_only_neuron_participating.values) / (rdf.num_short_only_neuron_participating.values + rdf.num_long_only_neuron_participating.values) ## Working but (0, 1, 1) would clip to 0.5 despite (1, 13, 0) going all the way down to -1.0\n",
      "C:\\Users\\pho\\repos\\Spike3DWorkEnv\\pyPhoPlaceCellAnalysis\\src\\pyphoplacecellanalysis\\General\\Mixins\\CrossComputationComparisonHelpers.py:238: RuntimeWarning: invalid value encountered in divide\n",
      "  _long_to_short_balances = (rdf.num_short_only_neuron_participating.values - rdf.num_long_only_neuron_participating.values) / (rdf.num_short_only_neuron_participating.values + rdf.num_long_only_neuron_participating.values) ## Working but (0, 1, 1) would clip to 0.5 despite (1, 13, 0) going all the way down to -1.0\n"
     ]
    },
    {
     "name": "stdout",
     "output_type": "stream",
     "text": [
      "WARNING: aclu 71 is not present in the pf1D_all ratemaps. Which contain aclus: [2, 3, 4, 5, 8, 10, 11, 14, 15, 16, 21, 23, 24, 25, 26, 27, 28, 31, 32, 33, 34, 36, 37, 41, 49, 50, 51, 52, 53, 54, 55, 56, 57, 58, 59, 60, 61, 62, 63, 64, 66, 67, 68, 69, 70, 73, 74, 75, 76, 78, 81, 82, 83, 85, 86, 87, 88, 89, 90, 92, 93, 96, 98, 100, 102, 108, 109]\n",
      "WARNING: aclu 72 is not present in the pf1D_all ratemaps. Which contain aclus: [2, 3, 4, 5, 8, 10, 11, 14, 15, 16, 21, 23, 24, 25, 26, 27, 28, 31, 32, 33, 34, 36, 37, 41, 49, 50, 51, 52, 53, 54, 55, 56, 57, 58, 59, 60, 61, 62, 63, 64, 66, 67, 68, 69, 70, 73, 74, 75, 76, 78, 81, 82, 83, 85, 86, 87, 88, 89, 90, 92, 93, 96, 98, 100, 102, 108, 109]\n",
      "WARNING: aclu 77 is not present in the pf1D_all ratemaps. Which contain aclus: [2, 3, 4, 5, 8, 10, 11, 14, 15, 16, 21, 23, 24, 25, 26, 27, 28, 31, 32, 33, 34, 36, 37, 41, 49, 50, 51, 52, 53, 54, 55, 56, 57, 58, 59, 60, 61, 62, 63, 64, 66, 67, 68, 69, 70, 73, 74, 75, 76, 78, 81, 82, 83, 85, 86, 87, 88, 89, 90, 92, 93, 96, 98, 100, 102, 108, 109]\n",
      "WARNING: aclu 79 is not present in the pf1D_all ratemaps. Which contain aclus: [2, 3, 4, 5, 8, 10, 11, 14, 15, 16, 21, 23, 24, 25, 26, 27, 28, 31, 32, 33, 34, 36, 37, 41, 49, 50, 51, 52, 53, 54, 55, 56, 57, 58, 59, 60, 61, 62, 63, 64, 66, 67, 68, 69, 70, 73, 74, 75, 76, 78, 81, 82, 83, 85, 86, 87, 88, 89, 90, 92, 93, 96, 98, 100, 102, 108, 109]\n"
     ]
    },
    {
     "name": "stderr",
     "output_type": "stream",
     "text": [
      "C:\\Users\\pho\\repos\\Spike3DWorkEnv\\pyPhoPlaceCellAnalysis\\src\\pyphoplacecellanalysis\\General\\Pipeline\\Stages\\DisplayFunctions\\MultiContextComparingDisplayFunctions\\LongShortTrackComparingDisplayFunctions.py:913: UserWarning: Matplotlib is currently using agg, which is a non-GUI backend, so cannot show the figure.\n",
      "  fig.show()\n"
     ]
    },
    {
     "name": "stdout",
     "output_type": "stream",
     "text": [
      "\t saved C:\\Users\\pho\\repos\\Spike3DWorkEnv\\Spike3D\\EXTERNAL\\Screenshots\\ProgrammaticDisplayFunctionTesting\\2023-05-12\\kdiba\\gor01\\one\\2006-6-08_14-26-15\\kdiba_gor01_one_2006-6-08_14-26-15_batch_plot_test_shared_7of10_[70, 71, 72, 73, 74, 75, 76, 77, 78, 79].png\n",
      "include_whitelist: ['maze1', 'maze2', 'maze']\n",
      "long_epoch_name: maze1, short_epoch_name: maze2, global_epoch_name: maze\n"
     ]
    },
    {
     "name": "stderr",
     "output_type": "stream",
     "text": [
      "C:\\Users\\pho\\repos\\Spike3DWorkEnv\\pyPhoPlaceCellAnalysis\\src\\pyphoplacecellanalysis\\General\\Pipeline\\Stages\\DisplayFunctions\\MultiContextComparingDisplayFunctions\\LongShortTrackComparingDisplayFunctions.py:679: SettingWithCopyWarning: \n",
      "A value is trying to be set on a copy of a slice from a DataFrame.\n",
      "Try using .loc[row_indexer,col_indexer] = value instead\n",
      "\n",
      "See the caveats in the documentation: https://pandas.pydata.org/pandas-docs/stable/user_guide/indexing.html#returning-a-view-versus-a-copy\n",
      "  cell_df.loc[:, 'x'] = spk_x\n",
      "C:\\Users\\pho\\repos\\Spike3DWorkEnv\\pyPhoPlaceCellAnalysis\\src\\pyphoplacecellanalysis\\General\\Mixins\\CrossComputationComparisonHelpers.py:208: RuntimeWarning: invalid value encountered in divide\n",
      "  _long_to_short_balances = (rdf.num_short_only_neuron_participating.values - rdf.num_long_only_neuron_participating.values) / (rdf.num_short_only_neuron_participating.values + rdf.num_long_only_neuron_participating.values) ## Working but (0, 1, 1) would clip to 0.5 despite (1, 13, 0) going all the way down to -1.0\n",
      "C:\\Users\\pho\\repos\\Spike3DWorkEnv\\pyPhoPlaceCellAnalysis\\src\\pyphoplacecellanalysis\\General\\Mixins\\CrossComputationComparisonHelpers.py:238: RuntimeWarning: invalid value encountered in divide\n",
      "  _long_to_short_balances = (rdf.num_short_only_neuron_participating.values - rdf.num_long_only_neuron_participating.values) / (rdf.num_short_only_neuron_participating.values + rdf.num_long_only_neuron_participating.values) ## Working but (0, 1, 1) would clip to 0.5 despite (1, 13, 0) going all the way down to -1.0\n"
     ]
    },
    {
     "name": "stdout",
     "output_type": "stream",
     "text": [
      "WARNING: aclu 80 is not present in the pf1D_all ratemaps. Which contain aclus: [2, 3, 4, 5, 8, 10, 11, 14, 15, 16, 21, 23, 24, 25, 26, 27, 28, 31, 32, 33, 34, 36, 37, 41, 49, 50, 51, 52, 53, 54, 55, 56, 57, 58, 59, 60, 61, 62, 63, 64, 66, 67, 68, 69, 70, 73, 74, 75, 76, 78, 81, 82, 83, 85, 86, 87, 88, 89, 90, 92, 93, 96, 98, 100, 102, 108, 109]\n",
      "WARNING: aclu 84 is not present in the pf1D_all ratemaps. Which contain aclus: [2, 3, 4, 5, 8, 10, 11, 14, 15, 16, 21, 23, 24, 25, 26, 27, 28, 31, 32, 33, 34, 36, 37, 41, 49, 50, 51, 52, 53, 54, 55, 56, 57, 58, 59, 60, 61, 62, 63, 64, 66, 67, 68, 69, 70, 73, 74, 75, 76, 78, 81, 82, 83, 85, 86, 87, 88, 89, 90, 92, 93, 96, 98, 100, 102, 108, 109]\n"
     ]
    },
    {
     "name": "stderr",
     "output_type": "stream",
     "text": [
      "C:\\Users\\pho\\repos\\Spike3DWorkEnv\\pyPhoPlaceCellAnalysis\\src\\pyphoplacecellanalysis\\General\\Pipeline\\Stages\\DisplayFunctions\\MultiContextComparingDisplayFunctions\\LongShortTrackComparingDisplayFunctions.py:913: UserWarning: Matplotlib is currently using agg, which is a non-GUI backend, so cannot show the figure.\n",
      "  fig.show()\n"
     ]
    },
    {
     "name": "stdout",
     "output_type": "stream",
     "text": [
      "\t saved C:\\Users\\pho\\repos\\Spike3DWorkEnv\\Spike3D\\EXTERNAL\\Screenshots\\ProgrammaticDisplayFunctionTesting\\2023-05-12\\kdiba\\gor01\\one\\2006-6-08_14-26-15\\kdiba_gor01_one_2006-6-08_14-26-15_batch_plot_test_shared_8of10_[80, 81, 82, 83, 84, 85, 86, 87, 88, 89].png\n",
      "include_whitelist: ['maze1', 'maze2', 'maze']\n",
      "long_epoch_name: maze1, short_epoch_name: maze2, global_epoch_name: maze\n"
     ]
    },
    {
     "name": "stderr",
     "output_type": "stream",
     "text": [
      "C:\\Users\\pho\\repos\\Spike3DWorkEnv\\pyPhoPlaceCellAnalysis\\src\\pyphoplacecellanalysis\\General\\Pipeline\\Stages\\DisplayFunctions\\MultiContextComparingDisplayFunctions\\LongShortTrackComparingDisplayFunctions.py:679: SettingWithCopyWarning: \n",
      "A value is trying to be set on a copy of a slice from a DataFrame.\n",
      "Try using .loc[row_indexer,col_indexer] = value instead\n",
      "\n",
      "See the caveats in the documentation: https://pandas.pydata.org/pandas-docs/stable/user_guide/indexing.html#returning-a-view-versus-a-copy\n",
      "  cell_df.loc[:, 'x'] = spk_x\n",
      "C:\\Users\\pho\\repos\\Spike3DWorkEnv\\pyPhoPlaceCellAnalysis\\src\\pyphoplacecellanalysis\\General\\Mixins\\CrossComputationComparisonHelpers.py:208: RuntimeWarning: invalid value encountered in divide\n",
      "  _long_to_short_balances = (rdf.num_short_only_neuron_participating.values - rdf.num_long_only_neuron_participating.values) / (rdf.num_short_only_neuron_participating.values + rdf.num_long_only_neuron_participating.values) ## Working but (0, 1, 1) would clip to 0.5 despite (1, 13, 0) going all the way down to -1.0\n",
      "C:\\Users\\pho\\repos\\Spike3DWorkEnv\\pyPhoPlaceCellAnalysis\\src\\pyphoplacecellanalysis\\General\\Mixins\\CrossComputationComparisonHelpers.py:238: RuntimeWarning: invalid value encountered in divide\n",
      "  _long_to_short_balances = (rdf.num_short_only_neuron_participating.values - rdf.num_long_only_neuron_participating.values) / (rdf.num_short_only_neuron_participating.values + rdf.num_long_only_neuron_participating.values) ## Working but (0, 1, 1) would clip to 0.5 despite (1, 13, 0) going all the way down to -1.0\n"
     ]
    },
    {
     "name": "stdout",
     "output_type": "stream",
     "text": [
      "WARNING: aclu 91 is not present in the pf1D_all ratemaps. Which contain aclus: [2, 3, 4, 5, 8, 10, 11, 14, 15, 16, 21, 23, 24, 25, 26, 27, 28, 31, 32, 33, 34, 36, 37, 41, 49, 50, 51, 52, 53, 54, 55, 56, 57, 58, 59, 60, 61, 62, 63, 64, 66, 67, 68, 69, 70, 73, 74, 75, 76, 78, 81, 82, 83, 85, 86, 87, 88, 89, 90, 92, 93, 96, 98, 100, 102, 108, 109]\n",
      "WARNING: aclu 94 is not present in the pf1D_all ratemaps. Which contain aclus: [2, 3, 4, 5, 8, 10, 11, 14, 15, 16, 21, 23, 24, 25, 26, 27, 28, 31, 32, 33, 34, 36, 37, 41, 49, 50, 51, 52, 53, 54, 55, 56, 57, 58, 59, 60, 61, 62, 63, 64, 66, 67, 68, 69, 70, 73, 74, 75, 76, 78, 81, 82, 83, 85, 86, 87, 88, 89, 90, 92, 93, 96, 98, 100, 102, 108, 109]\n",
      "WARNING: aclu 95 is not present in the pf1D_all ratemaps. Which contain aclus: [2, 3, 4, 5, 8, 10, 11, 14, 15, 16, 21, 23, 24, 25, 26, 27, 28, 31, 32, 33, 34, 36, 37, 41, 49, 50, 51, 52, 53, 54, 55, 56, 57, 58, 59, 60, 61, 62, 63, 64, 66, 67, 68, 69, 70, 73, 74, 75, 76, 78, 81, 82, 83, 85, 86, 87, 88, 89, 90, 92, 93, 96, 98, 100, 102, 108, 109]\n",
      "WARNING: aclu 97 is not present in the pf1D_all ratemaps. Which contain aclus: [2, 3, 4, 5, 8, 10, 11, 14, 15, 16, 21, 23, 24, 25, 26, 27, 28, 31, 32, 33, 34, 36, 37, 41, 49, 50, 51, 52, 53, 54, 55, 56, 57, 58, 59, 60, 61, 62, 63, 64, 66, 67, 68, 69, 70, 73, 74, 75, 76, 78, 81, 82, 83, 85, 86, 87, 88, 89, 90, 92, 93, 96, 98, 100, 102, 108, 109]\n",
      "WARNING: aclu 99 is not present in the pf1D_all ratemaps. Which contain aclus: [2, 3, 4, 5, 8, 10, 11, 14, 15, 16, 21, 23, 24, 25, 26, 27, 28, 31, 32, 33, 34, 36, 37, 41, 49, 50, 51, 52, 53, 54, 55, 56, 57, 58, 59, 60, 61, 62, 63, 64, 66, 67, 68, 69, 70, 73, 74, 75, 76, 78, 81, 82, 83, 85, 86, 87, 88, 89, 90, 92, 93, 96, 98, 100, 102, 108, 109]\n"
     ]
    },
    {
     "name": "stderr",
     "output_type": "stream",
     "text": [
      "C:\\Users\\pho\\repos\\Spike3DWorkEnv\\pyPhoPlaceCellAnalysis\\src\\pyphoplacecellanalysis\\General\\Pipeline\\Stages\\DisplayFunctions\\MultiContextComparingDisplayFunctions\\LongShortTrackComparingDisplayFunctions.py:913: UserWarning: Matplotlib is currently using agg, which is a non-GUI backend, so cannot show the figure.\n",
      "  fig.show()\n"
     ]
    },
    {
     "name": "stdout",
     "output_type": "stream",
     "text": [
      "\t saved C:\\Users\\pho\\repos\\Spike3DWorkEnv\\Spike3D\\EXTERNAL\\Screenshots\\ProgrammaticDisplayFunctionTesting\\2023-05-12\\kdiba\\gor01\\one\\2006-6-08_14-26-15\\kdiba_gor01_one_2006-6-08_14-26-15_batch_plot_test_shared_9of10_[90, 91, 92, 93, 94, 95, 96, 97, 98, 99].png\n",
      "include_whitelist: ['maze1', 'maze2', 'maze']\n",
      "long_epoch_name: maze1, short_epoch_name: maze2, global_epoch_name: maze\n"
     ]
    },
    {
     "name": "stderr",
     "output_type": "stream",
     "text": [
      "C:\\Users\\pho\\repos\\Spike3DWorkEnv\\pyPhoPlaceCellAnalysis\\src\\pyphoplacecellanalysis\\General\\Pipeline\\Stages\\DisplayFunctions\\MultiContextComparingDisplayFunctions\\LongShortTrackComparingDisplayFunctions.py:679: SettingWithCopyWarning: \n",
      "A value is trying to be set on a copy of a slice from a DataFrame.\n",
      "Try using .loc[row_indexer,col_indexer] = value instead\n",
      "\n",
      "See the caveats in the documentation: https://pandas.pydata.org/pandas-docs/stable/user_guide/indexing.html#returning-a-view-versus-a-copy\n",
      "  cell_df.loc[:, 'x'] = spk_x\n",
      "C:\\Users\\pho\\repos\\Spike3DWorkEnv\\pyPhoPlaceCellAnalysis\\src\\pyphoplacecellanalysis\\General\\Mixins\\CrossComputationComparisonHelpers.py:208: RuntimeWarning: invalid value encountered in divide\n",
      "  _long_to_short_balances = (rdf.num_short_only_neuron_participating.values - rdf.num_long_only_neuron_participating.values) / (rdf.num_short_only_neuron_participating.values + rdf.num_long_only_neuron_participating.values) ## Working but (0, 1, 1) would clip to 0.5 despite (1, 13, 0) going all the way down to -1.0\n",
      "C:\\Users\\pho\\repos\\Spike3DWorkEnv\\pyPhoPlaceCellAnalysis\\src\\pyphoplacecellanalysis\\General\\Mixins\\CrossComputationComparisonHelpers.py:238: RuntimeWarning: invalid value encountered in divide\n",
      "  _long_to_short_balances = (rdf.num_short_only_neuron_participating.values - rdf.num_long_only_neuron_participating.values) / (rdf.num_short_only_neuron_participating.values + rdf.num_long_only_neuron_participating.values) ## Working but (0, 1, 1) would clip to 0.5 despite (1, 13, 0) going all the way down to -1.0\n"
     ]
    },
    {
     "name": "stdout",
     "output_type": "stream",
     "text": [
      "WARNING: aclu 101 is not present in the pf1D_all ratemaps. Which contain aclus: [2, 3, 4, 5, 8, 10, 11, 14, 15, 16, 21, 23, 24, 25, 26, 27, 28, 31, 32, 33, 34, 36, 37, 41, 49, 50, 51, 52, 53, 54, 55, 56, 57, 58, 59, 60, 61, 62, 63, 64, 66, 67, 68, 69, 70, 73, 74, 75, 76, 78, 81, 82, 83, 85, 86, 87, 88, 89, 90, 92, 93, 96, 98, 100, 102, 108, 109]\n",
      "WARNING: aclu 103 is not present in the pf1D_all ratemaps. Which contain aclus: [2, 3, 4, 5, 8, 10, 11, 14, 15, 16, 21, 23, 24, 25, 26, 27, 28, 31, 32, 33, 34, 36, 37, 41, 49, 50, 51, 52, 53, 54, 55, 56, 57, 58, 59, 60, 61, 62, 63, 64, 66, 67, 68, 69, 70, 73, 74, 75, 76, 78, 81, 82, 83, 85, 86, 87, 88, 89, 90, 92, 93, 96, 98, 100, 102, 108, 109]\n",
      "WARNING: aclu 104 is not present in the pf1D_all ratemaps. Which contain aclus: [2, 3, 4, 5, 8, 10, 11, 14, 15, 16, 21, 23, 24, 25, 26, 27, 28, 31, 32, 33, 34, 36, 37, 41, 49, 50, 51, 52, 53, 54, 55, 56, 57, 58, 59, 60, 61, 62, 63, 64, 66, 67, 68, 69, 70, 73, 74, 75, 76, 78, 81, 82, 83, 85, 86, 87, 88, 89, 90, 92, 93, 96, 98, 100, 102, 108, 109]\n",
      "WARNING: aclu 106 is not present in the pf1D_all ratemaps. Which contain aclus: [2, 3, 4, 5, 8, 10, 11, 14, 15, 16, 21, 23, 24, 25, 26, 27, 28, 31, 32, 33, 34, 36, 37, 41, 49, 50, 51, 52, 53, 54, 55, 56, 57, 58, 59, 60, 61, 62, 63, 64, 66, 67, 68, 69, 70, 73, 74, 75, 76, 78, 81, 82, 83, 85, 86, 87, 88, 89, 90, 92, 93, 96, 98, 100, 102, 108, 109]\n",
      "WARNING: aclu 107 is not present in the pf1D_all ratemaps. Which contain aclus: [2, 3, 4, 5, 8, 10, 11, 14, 15, 16, 21, 23, 24, 25, 26, 27, 28, 31, 32, 33, 34, 36, 37, 41, 49, 50, 51, 52, 53, 54, 55, 56, 57, 58, 59, 60, 61, 62, 63, 64, 66, 67, 68, 69, 70, 73, 74, 75, 76, 78, 81, 82, 83, 85, 86, 87, 88, 89, 90, 92, 93, 96, 98, 100, 102, 108, 109]\n"
     ]
    },
    {
     "name": "stderr",
     "output_type": "stream",
     "text": [
      "C:\\Users\\pho\\repos\\Spike3DWorkEnv\\pyPhoPlaceCellAnalysis\\src\\pyphoplacecellanalysis\\General\\Pipeline\\Stages\\DisplayFunctions\\MultiContextComparingDisplayFunctions\\LongShortTrackComparingDisplayFunctions.py:913: UserWarning: Matplotlib is currently using agg, which is a non-GUI backend, so cannot show the figure.\n",
      "  fig.show()\n"
     ]
    },
    {
     "name": "stdout",
     "output_type": "stream",
     "text": [
      "\t saved C:\\Users\\pho\\repos\\Spike3DWorkEnv\\Spike3D\\EXTERNAL\\Screenshots\\ProgrammaticDisplayFunctionTesting\\2023-05-12\\kdiba\\gor01\\one\\2006-6-08_14-26-15\\kdiba_gor01_one_2006-6-08_14-26-15_batch_plot_test_shared_10of10_[100, 101, 102, 103, 104, 106, 107, 108].png\n",
      "Saving plot_long_short_firing_rate_indicies results results : C:\\Users\\pho\\repos\\Spike3DWorkEnv\\Spike3D\\EXTERNAL\\Screenshots\\ProgrammaticDisplayFunctionTesting\\2023-05-12\\kdiba\\gor01\\one\\2006-6-08_14-26-15\\kdiba_gor01_one_2006-6-08_14-26-15_long_short_firing_rate_indicies.png... done.\n"
     ]
    }
   ],
   "source": [
    "active_identifying_session_ctx, active_session_figures_out_path, active_out_figures_list = batch_programmatic_figures(curr_active_pipeline)"
   ]
  },
  {
   "cell_type": "code",
   "execution_count": null,
   "id": "e60597ba",
   "metadata": {},
   "outputs": [],
   "source": [
    "\n",
    "curr_active_pipeline.plot._display_context_nested_docks\n",
    "\n",
    "_display_short_long_firing_rate_index_comparison"
   ]
  },
  {
   "cell_type": "code",
   "execution_count": 98,
   "id": "bc5cdbc9",
   "metadata": {},
   "outputs": [
    {
     "data": {
      "text/plain": [
       "{'long_short_fr_indicies_analysis_results': DynamicParameters({'long_laps': 35 epochs\n",
       " array([[   5.73892314,   13.90835   ],\n",
       "        [  30.53504997,   39.76855564],\n",
       "        [ 135.83449301,  144.1481502 ],\n",
       "        [ 161.5538168 ,  167.31814537],\n",
       "        [ 234.47012635,  239.73553166],\n",
       "        [ 255.25081331,  262.68154743],\n",
       "        [ 294.55684887,  299.86354183],\n",
       "        [ 313.88371257,  319.41764126],\n",
       "        [ 499.2982634 ,  504.74141453],\n",
       "        [ 511.58078895,  518.38704723],\n",
       "        [ 558.24625754,  565.53211621],\n",
       "        [ 584.28583717,  591.15980229],\n",
       "        [ 599.27239717,  604.70150927],\n",
       "        [ 616.77704357,  625.65610206],\n",
       "        [ 692.41993604,  697.52098943],\n",
       "        [ 712.59417979,  721.66861739],\n",
       "        [ 734.30912291,  740.66232286],\n",
       "        [ 750.56020963,  755.13588985],\n",
       "        [ 763.15076447,  768.97127989],\n",
       "        [ 783.13030496,  787.93021034],\n",
       "        [ 804.52732696,  812.14480786],\n",
       "        [ 825.79335895,  832.09866645],\n",
       "        [ 848.69077571,  853.68673603],\n",
       "        [ 923.92813367,  933.59405384],\n",
       "        [ 941.8437213 ,  951.48641716],\n",
       "        [ 994.57021206, 1001.80688803],\n",
       "        [1035.51002854, 1040.73936858],\n",
       "        [1052.40138117, 1059.67525905],\n",
       "        [1068.05505636, 1074.32411427],\n",
       "        [1087.35992455, 1093.56576073],\n",
       "        [1104.65963793, 1110.07382012],\n",
       "        [1123.53897291, 1130.33109999],\n",
       "        [1163.50536525, 1167.77129586],\n",
       "        [1178.95398454, 1187.1945896 ],\n",
       "        [1195.00179712, 1203.58837064]])\n",
       " , 'long_replays': 35 epochs\n",
       " array([[  44.58873621,   44.82994953],\n",
       "        [  61.52819634,   61.66207403],\n",
       "        [  64.88460038,   65.11392506],\n",
       "        [  72.77770098,   72.95169897],\n",
       "        [ 191.18757315,  191.29306558],\n",
       "        [ 193.64762949,  193.89308217],\n",
       "        [ 195.4320305 ,  195.52102629],\n",
       "        [ 200.41389035,  200.51354598],\n",
       "        [ 263.07245923,  263.21601371],\n",
       "        [ 267.60596091,  267.7736613 ],\n",
       "        [ 324.11973421,  324.43141917],\n",
       "        [ 335.73446874,  335.86610388],\n",
       "        [ 341.70892201,  342.0275804 ],\n",
       "        [ 366.00228557,  366.18030788],\n",
       "        [ 380.25878515,  380.48380903],\n",
       "        [ 398.6011348 ,  399.04703537],\n",
       "        [ 409.82099465,  409.90876165],\n",
       "        [ 419.65138962,  419.74385677],\n",
       "        [ 434.1020395 ,  434.31575843],\n",
       "        [ 444.86908679,  445.01101311],\n",
       "        [ 446.73351335,  446.94640284],\n",
       "        [ 447.11477908,  447.15228818],\n",
       "        [ 449.6167682 ,  449.82833673],\n",
       "        [ 491.17752772,  491.41410232],\n",
       "        [ 523.85084219,  523.9492383 ],\n",
       "        [ 571.06091466,  571.22462145],\n",
       "        [ 689.08064303,  689.28462373],\n",
       "        [ 854.17278762,  854.36487969],\n",
       "        [ 856.02136268,  856.11975879],\n",
       "        [ 858.12789344,  858.21937755],\n",
       "        [ 907.46888834,  907.78588785],\n",
       "        [1004.64670482, 1004.91031301],\n",
       "        [1097.53045118, 1097.65999736],\n",
       "        [1158.83731004, 1159.07892271],\n",
       "        [1169.16100651, 1169.289969  ]])\n",
       " , 'short_laps': 32 epochs\n",
       " array([[1238.54943306, 1244.47811355],\n",
       "        [1258.38047315, 1265.50409958],\n",
       "        [1330.59400162, 1337.33313673],\n",
       "        [1342.79717745, 1346.29120702],\n",
       "        [1362.60367227, 1366.91555998],\n",
       "        [1380.05025789, 1383.95642677],\n",
       "        [1394.39821087, 1400.40535019],\n",
       "        [1405.59186658, 1409.96092418],\n",
       "        [1413.90856504, 1422.25496973],\n",
       "        [1431.70308521, 1436.03702987],\n",
       "        [1551.50113203, 1558.76262975],\n",
       "        [1561.14223046, 1567.00283545],\n",
       "        [1574.71680783, 1583.28126296],\n",
       "        [1584.47261467, 1592.62010746],\n",
       "        [1603.85591099, 1610.0010752 ],\n",
       "        [1611.12874438, 1617.55315325],\n",
       "        [1627.4640653 , 1633.00241766],\n",
       "        [1636.33412284, 1643.74243136],\n",
       "        [1645.96185807, 1655.69056989],\n",
       "        [1665.25563635, 1669.54030616],\n",
       "        [1679.01010995, 1683.00610406],\n",
       "        [1692.97397096, 1697.13201299],\n",
       "        [1706.96716955, 1711.04340427],\n",
       "        [1715.4215857 , 1721.39843512],\n",
       "        [1743.69137475, 1748.68281923],\n",
       "        [1751.34787003, 1756.39491769],\n",
       "        [1917.87789421, 1923.36721748],\n",
       "        [1926.29947069, 1933.59872328],\n",
       "        [1999.01809714, 2008.27236952],\n",
       "        [2019.1085675 , 2023.62271559],\n",
       "        [2026.15047877, 2031.41889463],\n",
       "        [2037.50212736, 2042.16941457]])\n",
       " , 'short_replays': 29 epochs\n",
       " array([[1227.44812163, 1227.55659389],\n",
       "        [1266.00735436, 1266.11785415],\n",
       "        [1285.37098989, 1285.50849254],\n",
       "        [1291.95376028, 1292.06929814],\n",
       "        [1294.72777486, 1295.01740287],\n",
       "        [1299.49923354, 1299.78741771],\n",
       "        [1300.26370034, 1300.36264941],\n",
       "        [1311.82538147, 1311.93194909],\n",
       "        [1316.97715355, 1317.11118484],\n",
       "        [1318.30751319, 1318.50046541],\n",
       "        [1325.17604087, 1325.33888751],\n",
       "        [1388.51416652, 1388.64509509],\n",
       "        [1456.8766992 , 1457.12540819],\n",
       "        [1461.5322821 , 1461.67995306],\n",
       "        [1467.94925673, 1468.20979292],\n",
       "        [1485.88785363, 1486.14562501],\n",
       "        [1504.29984548, 1504.47510299],\n",
       "        [1530.54653924, 1530.78093272],\n",
       "        [1539.01978674, 1539.12300589],\n",
       "        [1540.99904461, 1541.24124096],\n",
       "        [1732.07703958, 1732.21297551],\n",
       "        [1769.9580365 , 1770.09787387],\n",
       "        [1780.35690478, 1780.49173479],\n",
       "        [1787.67422071, 1787.84588398],\n",
       "        [1789.76145932, 1790.00433152],\n",
       "        [1797.03632024, 1797.12018579],\n",
       "        [1807.3398644 , 1807.47684481],\n",
       "        [1886.12550342, 1886.31544509],\n",
       "        [1889.34019618, 1889.45650204]])\n",
       " , 'global_laps': 67 epochs\n",
       " array([[   5.73892314,   13.90835   ],\n",
       "        [  30.53504997,   39.76855564],\n",
       "        [ 135.83449301,  144.1481502 ],\n",
       "        [ 161.5538168 ,  167.31814537],\n",
       "        [ 234.47012635,  239.73553166],\n",
       "        [ 255.25081331,  262.68154743],\n",
       "        [ 294.55684887,  299.86354183],\n",
       "        [ 313.88371257,  319.41764126],\n",
       "        [ 499.2982634 ,  504.74141453],\n",
       "        [ 511.58078895,  518.38704723],\n",
       "        [ 558.24625754,  565.53211621],\n",
       "        [ 584.28583717,  591.15980229],\n",
       "        [ 599.27239717,  604.70150927],\n",
       "        [ 616.77704357,  625.65610206],\n",
       "        [ 692.41993604,  697.52098943],\n",
       "        [ 712.59417979,  721.66861739],\n",
       "        [ 734.30912291,  740.66232286],\n",
       "        [ 750.56020963,  755.13588985],\n",
       "        [ 763.15076447,  768.97127989],\n",
       "        [ 783.13030496,  787.93021034],\n",
       "        [ 804.52732696,  812.14480786],\n",
       "        [ 825.79335895,  832.09866645],\n",
       "        [ 848.69077571,  853.68673603],\n",
       "        [ 923.92813367,  933.59405384],\n",
       "        [ 941.8437213 ,  951.48641716],\n",
       "        [ 994.57021206, 1001.80688803],\n",
       "        [1035.51002854, 1040.73936858],\n",
       "        [1052.40138117, 1059.67525905],\n",
       "        [1068.05505636, 1074.32411427],\n",
       "        [1087.35992455, 1093.56576073],\n",
       "        [1104.65963793, 1110.07382012],\n",
       "        [1123.53897291, 1130.33109999],\n",
       "        [1163.50536525, 1167.77129586],\n",
       "        [1178.95398454, 1187.1945896 ],\n",
       "        [1195.00179712, 1203.58837064],\n",
       "        [1238.54943306, 1244.47811355],\n",
       "        [1258.38047315, 1265.50409958],\n",
       "        [1330.59400162, 1337.33313673],\n",
       "        [1342.79717745, 1346.29120702],\n",
       "        [1362.60367227, 1366.91555998],\n",
       "        [1380.05025789, 1383.95642677],\n",
       "        [1394.39821087, 1400.40535019],\n",
       "        [1405.59186658, 1409.96092418],\n",
       "        [1413.90856504, 1422.25496973],\n",
       "        [1431.70308521, 1436.03702987],\n",
       "        [1551.50113203, 1558.76262975],\n",
       "        [1561.14223046, 1567.00283545],\n",
       "        [1574.71680783, 1583.28126296],\n",
       "        [1584.47261467, 1592.62010746],\n",
       "        [1603.85591099, 1610.0010752 ],\n",
       "        [1611.12874438, 1617.55315325],\n",
       "        [1627.4640653 , 1633.00241766],\n",
       "        [1636.33412284, 1643.74243136],\n",
       "        [1645.96185807, 1655.69056989],\n",
       "        [1665.25563635, 1669.54030616],\n",
       "        [1679.01010995, 1683.00610406],\n",
       "        [1692.97397096, 1697.13201299],\n",
       "        [1706.96716955, 1711.04340427],\n",
       "        [1715.4215857 , 1721.39843512],\n",
       "        [1743.69137475, 1748.68281923],\n",
       "        [1751.34787003, 1756.39491769],\n",
       "        [1917.87789421, 1923.36721748],\n",
       "        [1926.29947069, 1933.59872328],\n",
       "        [1999.01809714, 2008.27236952],\n",
       "        [2019.1085675 , 2023.62271559],\n",
       "        [2026.15047877, 2031.41889463],\n",
       "        [2037.50212736, 2042.16941457]])\n",
       " , 'global_replays': 60 epochs\n",
       " array([[  44.58873621,   44.82994953],\n",
       "        [  61.52819634,   61.66207403],\n",
       "        [  64.88460038,   65.11392506],\n",
       "        [  72.77770098,   72.95169897],\n",
       "        [ 191.18757315,  191.29306558],\n",
       "        [ 193.64762949,  193.89308217],\n",
       "        [ 195.4320305 ,  195.52102629],\n",
       "        [ 200.41389035,  200.51354598],\n",
       "        [ 263.07245923,  263.21601371],\n",
       "        [ 267.60596091,  267.7736613 ],\n",
       "        [ 324.11973421,  324.43141917],\n",
       "        [ 335.73446874,  335.86610388],\n",
       "        [ 341.70892201,  342.0275804 ],\n",
       "        [ 366.00228557,  366.18030788],\n",
       "        [ 380.25878515,  380.48380903],\n",
       "        [ 398.6011348 ,  399.04703537],\n",
       "        [ 409.82099465,  409.90876165],\n",
       "        [ 419.65138962,  419.74385677],\n",
       "        [ 434.1020395 ,  434.31575843],\n",
       "        [ 444.86908679,  445.01101311],\n",
       "        [ 446.73351335,  446.94640284],\n",
       "        [ 447.11477908,  447.15228818],\n",
       "        [ 449.6167682 ,  449.82833673],\n",
       "        [ 491.17752772,  491.41410232],\n",
       "        [ 523.85084219,  523.9492383 ],\n",
       "        [ 571.06091466,  571.22462145],\n",
       "        [ 689.08064303,  689.28462373],\n",
       "        [ 854.17278762,  854.36487969],\n",
       "        [ 856.02136268,  856.11975879],\n",
       "        [ 858.12789344,  858.21937755],\n",
       "        [ 907.46888834,  907.78588785],\n",
       "        [1004.64670482, 1004.91031301],\n",
       "        [1097.53045118, 1097.65999736],\n",
       "        [1158.83731004, 1159.07892271],\n",
       "        [1169.16100651, 1169.289969  ],\n",
       "        [1227.44812163, 1227.55659389],\n",
       "        [1285.37098989, 1285.50849254],\n",
       "        [1291.95376028, 1292.06929814],\n",
       "        [1294.72777486, 1295.01740287],\n",
       "        [1299.49923354, 1299.78741771],\n",
       "        [1300.26370034, 1300.36264941],\n",
       "        [1311.82538147, 1311.93194909],\n",
       "        [1316.97715355, 1317.11118484],\n",
       "        [1318.30751319, 1318.31749718],\n",
       "        [1325.17604087, 1325.33888751],\n",
       "        [1388.51416652, 1388.64509509],\n",
       "        [1456.8766992 , 1457.12540819],\n",
       "        [1461.6732561 , 1461.67995306],\n",
       "        [1485.88785363, 1486.14562501],\n",
       "        [1504.29984548, 1504.34374434],\n",
       "        [1530.7064982 , 1530.78093272],\n",
       "        [1539.01978674, 1539.12300589],\n",
       "        [1540.99904461, 1541.24124096],\n",
       "        [1732.07703958, 1732.21297551],\n",
       "        [1787.67422071, 1787.84588398],\n",
       "        [1789.76145932, 1790.00433152],\n",
       "        [1797.03632024, 1797.12018579],\n",
       "        [1807.3398644 , 1807.47684481],\n",
       "        [1886.12550342, 1886.31544509],\n",
       "        [1889.34019618, 1889.45650204]])\n",
       " , 'long_mean_laps_frs': {2: 0.25708510937075035, 3: 0.19580967128100654, 4: 0.015854993929629364, 5: 2.1007928330851726, 6: 42.15043723697831, 7: 2.7707568935383966, 8: 0.5778723285173827, 9: 2.2952036711234785, 10: 1.9622037099257088, 11: 0.25437720809427583, 12: 33.156488263846136, 13: 0.007534004959129376, 14: 0.6050755549964945, 15: 0.2989903287882217, 16: 0.3018001131672604, 17: 2.3062116720412957, 18: 35.04377826292758, 19: 0.013326625353559777, 20: 15.634106290839355, 21: 0.24881835392057913, 22: 1.2721394153672099, 23: 0.06991163896292574, 24: 0.6565994051209778, 25: 0.7257236540380905, 26: 0.499014964722212, 27: 0.17779894365441742, 28: 0.156043836693552, 29: 8.865132396850667, 30: 56.059550198614254, 31: 1.3936863478587165, 32: 1.1762510488280675, 33: 0.804458329177427, 34: 0.6658006704992768, 35: 0.6401984462323933, 36: 0.4449021086626978, 37: 0.2437599300160595, 38: 0.8700270314346915, 39: 1.781805635136408, 40: 20.331128536494624, 41: 1.2192856800175123, 42: 14.603416086660676, 43: 10.651325210440843, 44: 16.50740179336014, 45: 1.8007158255174853, 46: 1.6227618267467232, 47: 58.589677054450604, 48: 4.59950282132894, 49: 2.2058206526507336, 50: 1.601809015965189, 51: 0.4061677437101426, 52: 0.3469093488663902, 53: 0.9551198959765149, 54: 0.8407188978691599, 55: 1.3374976405406234, 56: 0.949229777289582, 57: 0.9177071147763144, 58: 0.135420845426853, 59: 2.21732113476466, 60: 0.15711477168148025, 61: 2.358394494316484, 62: 1.1684092938711375, 63: 1.7497961710085717, 64: 1.448678326546264, 65: 44.071329667925326, 66: 1.753634069434637, 67: 0.5490155371273012, 68: 1.4921677091530223, 69: 3.315986076984875, 70: 0.4294469031697513, 71: 1.9376066260875962, 72: 2.4530112077860293, 73: 0.2682258023604515, 74: 1.4313940541713344, 75: 4.364564491909372, 76: 1.1469898741515896, 77: 59.11946485029543, 78: 4.747066887841477, 79: 0.7224535066816155, 80: 35.9728569133337, 81: 0.5745679306151756, 82: 2.0535934598761947, 83: 4.396939081214778, 84: 1.2604600838233362, 85: 1.170991037194625, 86: 3.490737140076212, 87: 0.060618400477377474, 88: 3.4857844790026036, 89: 0.6531786876326866, 90: 4.597038381091348, 91: 3.9488108961073296, 92: 2.174479473774445, 93: 1.7808481976823614, 94: 25.45924520694642, 95: 2.316037517443901, 96: 1.7627321587692102, 97: 1.1036342282570724, 98: 0.7290060042759845, 99: 1.455164391215403, 100: 0.9284079554457746, 101: 4.61135319889986, 102: 0.856769860401341, 103: 17.79935194088079, 104: 26.23067891724881, 105: 0.09816754026826116, 106: 28.20705214512527, 107: 2.459609252226036, 108: 4.606423066287326, 109: 0.4862623679484536}, 'long_mean_replays_frs': {2: 1.822788489428329, 3: 0.6935622330575717, 4: 0.0, 5: 5.119620998287278, 6: 133.2508117718878, 7: 1.9585486061722626, 8: 0.7097618784383759, 9: 4.060362393896176, 10: 4.753076903961448, 11: 2.045863510494099, 12: 91.89760796720903, 13: 0.38928747497946464, 14: 4.158878305491131, 15: 0.9944505650896794, 16: 8.657657438394152, 17: 2.052934335452731, 18: 3.8203740065026026, 19: 2.224166167045133, 20: 50.86978293695629, 21: 0.8197282783459083, 22: 5.048457693261486, 23: 0.45471079452134483, 24: 0.0, 25: 0.1825245865002284, 26: 0.7811203358691937, 27: 3.1540687781363266, 28: 0.2891592880630555, 29: 26.588229920350823, 30: 5.99670521586808, 31: 6.273545659874044, 32: 4.714317268776926, 33: 2.8835825070239958, 34: 0.851415129737817, 35: 6.272668272738169, 36: 5.5064250616624175, 37: 1.4939690393447091, 38: 4.247116384314305, 39: 4.9601469841530745, 40: 76.62150050998162, 41: 6.946919851693955, 42: 34.214874720053395, 43: 3.687681607540909, 44: 3.435600025718912, 45: 3.3844381963004397, 46: 2.695034857001063, 47: 15.104802104401301, 48: 9.625530804791778, 49: 9.380618656992542, 50: 7.40644086878255, 51: 2.275720185767655, 52: 1.1814769161474765, 53: 4.7858515622042805, 54: 0.9705123294291038, 55: 2.6892148163901335, 56: 0.9470575655344754, 57: 2.9798539550227106, 58: 0.9860688021923124, 59: 6.018177434098905, 60: 3.099673567840327, 61: 6.367198577518838, 62: 10.675332736863433, 63: 3.3871230441783724, 64: 4.4867471799289165, 65: 62.69289587072154, 66: 3.2464630999992914, 67: 0.5991073729204484, 68: 0.4606429354561179, 69: 2.3452590612053257, 70: 0.3089900333122767, 71: 4.538922212850268, 72: 4.1473841949820995, 73: 3.0505344928777602, 74: 2.154165302904119, 75: 16.652537672122644, 76: 4.984214933030022, 77: 86.01067771968584, 78: 8.931356924742085, 79: 0.40571537579377537, 80: 15.969178825845093, 81: 0.4912978694465244, 82: 1.6797614534375969, 83: 3.944594344177425, 84: 2.956963003707297, 85: 1.3953225394594886, 86: 8.479565320420635, 87: 1.1760651701644962, 88: 7.144444744761153, 89: 0.0, 90: 2.467066335925809, 91: 5.268562972011234, 92: 2.64966928172994, 93: 6.013771719531956, 94: 91.17739737319896, 95: 5.975504537346232, 96: 1.3509026664458248, 97: 2.1295398837002444, 98: 1.3626446553532696, 99: 2.2753424570083043, 100: 1.8153862806814653, 101: 13.959897097577283, 102: 1.854893184052577, 103: 10.29758626540563, 104: 58.39503515643316, 105: 0.3089900333122767, 106: 58.803943956530134, 107: 8.35273643983217, 108: 11.747627434370777, 109: 0.8533875550049446}, 'short_mean_laps_frs': {2: 0.008000166137330745, 3: 2.466241048028694, 4: 1.0487500452318406, 5: 1.7010256968696325, 6: 18.385177392921317, 7: 3.1991252856882424, 8: 0.015904643574104167, 9: 1.5494347622191493, 10: 1.4428323927535338, 11: 1.065508024923493, 12: 33.58601897823836, 13: 0.12148251740805686, 14: 2.0325343919800765, 15: 0.6494200715951224, 16: 0.22975407751918597, 17: 0.8729015817483452, 18: 37.0927415724733, 19: 0.3217421207634269, 20: 15.213516120556207, 21: 0.31712438230915474, 22: 0.9158684403844521, 23: 1.185499147781051, 24: 1.967021672486361, 25: 1.9664354124944143, 26: 0.3771955649528419, 27: 0.3424376715570351, 28: 0.025803392735464725, 29: 12.926515959877767, 30: 49.94303627805694, 31: 1.5483752198595242, 32: 0.718578899385822, 33: 1.1428836337965056, 34: 2.18996925437738, 35: 0.39374751337873126, 36: 0.491963011195494, 37: 0.13526686064576043, 38: 1.225794935304899, 39: 2.3519529991602557, 40: 17.336558616228878, 41: 0.8510186180147316, 42: 15.484737623915754, 43: 9.18903996159949, 44: 11.905700499974461, 45: 1.4835954292172668, 46: 1.2605871632528443, 47: 55.591387571673245, 48: 5.3800948248466, 49: 1.7874895071386077, 50: 2.1646084544330293, 51: 0.5758385390514638, 52: 1.8981219093239943, 53: 0.8542619039881997, 54: 0.6236999997566663, 55: 2.973638782901846, 56: 2.163943238244099, 57: 1.5122818439704173, 58: 1.9129483209979143, 59: 0.7269012966444637, 60: 0.49979128926919614, 61: 1.8992132531159711, 62: 2.3819963295057933, 63: 1.2365342430608264, 64: 1.161727806069594, 65: 40.3128549049527, 66: 2.52933149585965, 67: 1.5825061064017363, 68: 0.5965196888078022, 69: 2.6478798749545973, 70: 0.6692151973600396, 71: 1.425969684104115, 72: 3.5733330047287737, 73: 0.07171651032595232, 74: 0.2957314305309943, 75: 4.722863802734588, 76: 1.1566033490784107, 77: 56.480110140442584, 78: 2.209683895300011, 79: 0.9952649057752669, 80: 39.440927404757815, 81: 0.8374031609125869, 82: 0.30302035640310326, 83: 4.753412029609845, 84: 1.734958155968974, 85: 3.160479851447059, 86: 3.0758824397973856, 87: 0.050278709996590384, 88: 1.3553595152034452, 89: 0.9624736722038049, 90: 3.973064275931984, 91: 3.711147475422156, 92: 1.2958499642302712, 93: 1.4202731890215272, 94: 24.162284199964233, 95: 1.2482764347543318, 96: 0.9338387367873804, 97: 0.03617131712175442, 98: 1.069740090581587, 99: 0.8578257746207987, 100: 1.142253595215645, 101: 2.857837392764274, 102: 1.66112392914255, 103: 17.813202120040398, 104: 21.40821552729574, 105: 0.0, 106: 26.553823858499406, 107: 0.6905930740665014, 108: 5.043699400254933, 109: 0.052096312947323906}, 'short_mean_replays_frs': {2: 0.0, 3: 3.5240238671668336, 4: 5.45636121658812, 5: 5.612399201388204, 6: 56.242654480413115, 7: 2.0891659488791414, 8: 1.0663324739621252, 9: 11.591117925119503, 10: 9.896100987923246, 11: 2.961471296531577, 12: 102.5269567711694, 13: 1.6180856129932144, 14: 6.900302827342532, 15: 4.45719684570725, 16: 2.166239048419014, 17: 0.5167876888228234, 18: 7.420919269826718, 19: 1.8149142336719806, 20: 43.049752471241675, 21: 1.4107566102872957, 22: 2.2670341607590196, 23: 0.49940179884005514, 24: 0.0, 25: 2.202361831386971, 26: 0.2890938664448221, 27: 1.447337533220852, 28: 0.0, 29: 39.51293108308353, 30: 5.486710677199816, 31: 9.397785061471893, 32: 3.939118143167563, 33: 4.117001318119649, 34: 0.6421732024528712, 35: 3.6279766087658305, 36: 8.60579876535322, 37: 4.357272903758823, 38: 4.940047279359042, 39: 9.386430601556238, 40: 44.2032665997469, 41: 5.514012694353516, 42: 31.941533145335235, 43: 4.665856064751075, 44: 5.825912006545132, 45: 3.19290704892697, 46: 1.9094989342314523, 47: 13.716592056436488, 48: 14.158692819707314, 49: 12.04790588235314, 50: 12.278960505588012, 51: 1.4660484299102228, 52: 4.121814952693291, 53: 3.102698114979353, 54: 0.29648341408078893, 55: 9.652431168986695, 56: 6.295793915027575, 57: 4.3045300446897485, 58: 3.292019710971868, 59: 6.332399275911549, 60: 5.269800177852387, 61: 5.453392845512808, 62: 11.509830922785346, 63: 5.53682927723935, 64: 10.725230596861302, 65: 54.61097002097811, 66: 8.621802012765997, 67: 0.8477310521090066, 68: 0.8497783702189646, 69: 1.6941673873484329, 70: 0.9715890608165567, 71: 3.5707080558723354, 72: 8.121258238216644, 73: 0.37894492203102453, 74: 0.8265361935277283, 75: 21.208768189263978, 76: 3.736115454246382, 77: 97.93627075657538, 78: 7.010379029703327, 79: 2.8146176956765525, 80: 23.17207882274909, 81: 1.469488015474076, 82: 0.7713952484072796, 83: 7.695199618794317, 84: 1.909226507008445, 85: 5.8479377037997855, 86: 5.984461345919264, 87: 0.7326396548475868, 88: 8.0295569479654, 89: 4.780708735381466, 90: 8.393084203452496, 91: 6.502152509348093, 92: 1.9711847146982768, 93: 4.915907483624558, 94: 87.12812092437369, 95: 4.133339279008049, 96: 1.5299806920776593, 97: 0.0, 98: 3.1243323430088563, 99: 1.844978180775042, 100: 2.2882100954517233, 101: 10.250217280306897, 102: 1.4174778143263211, 103: 11.16880244007955, 104: 55.1628094542489, 105: 0.25366919926510656, 106: 61.237068053328734, 107: 3.6193957828987307, 108: 20.072019534583887, 109: 0.4598737357154769}, 'long_mean_laps_all_frs': {2: [0.8568532557309269, 0.10830122766629084, 0.6014200356930467, 0.3469614849606364, 0.0, 0.13457620532066233, 0.942206386344746, 0.3614068979294332, 1.1023026649903664, 0.0, 0.2745043639617055, 0.0, 0.18419218124991454, 0.4504982147325125, 0.0, 0.44079866753152114, 0.0, 0.43709348229024086, 0.17180609067273095, 0.0, 0.5251079789528061, 0.15859654764459857, 0.8006468711140653, 0.20691253027162507, 0.10370543821109007, 0.13818499038546728, 0.19122871946736217, 0.0, 0.15951360065990355, 0.0, 0.1847001015665615, 0.0, 0.0, 0.0, 0.1164608906280474], 3: [0.12240760796156099, 0.0, 0.0, 0.0, 0.18991890315344806, 0.0, 0.0, 0.0, 0.18371711083172773, 0.14692360465479007, 0.0, 0.0, 0.0, 0.0, 0.0, 0.22039933376576057, 0.15740099608340835, 0.21854674114512043, 0.0, 0.20833744007895502, 0.0, 0.31719309528919715, 0.0, 0.41382506054325013, 0.10370543821109007, 0.41455497115640183, 0.0, 0.6873912492730089, 0.3190272013198071, 1.2891091167473383, 0.1847001015665615, 0.5889171317659232, 0.0, 0.9708025006598318, 0.1164608906280474], 4: [0.0, 0.0, 0.0, 0.0, 0.0, 0.0, 0.0, 0.0, 0.0, 0.0, 0.0, 0.0, 0.0, 0.0, 0.0, 0.0, 0.0, 0.21854674114512043, 0.0, 0.0, 0.0, 0.0, 0.0, 0.10345626513581253, 0.0, 0.0, 0.0, 0.0, 0.0, 0.0, 0.0, 0.0, 0.0, 0.0, 0.2329217812560948], 5: [1.7137065114618537, 1.407915959661781, 1.2028400713860934, 3.643095592086682, 1.1395134189206884, 2.9606765170545715, 0.7537651090757967, 3.9754758772237655, 0.36743422166345546, 3.8200137210245417, 2.7450436396170557, 1.0183351060508834, 4.420612349997949, 0.7883718757818968, 4.704910569154986, 0.8815973350630423, 3.935024902085209, 0.8741869645804817, 3.7797339948000808, 0.625012320236865, 1.181492952643814, 0.31719309528919715, 2.401940613342196, 0.6207375908148752, 2.2815196406439817, 2.7636998077093455, 4.589489267216692, 0.4124347495638053, 2.7117312112183605, 0.1611386395934173, 3.6940020313312303, 0.5889171317659232, 3.047400712931451, 0.9708025006598318, 3.0279831563292325], 6: [48.35100514481659, 43.97029843251408, 53.28581516240394, 40.76797448287478, 45.39061785367409, 42.5260808813293, 55.96705934887791, 40.116165670167085, 49.78733703539821, 39.522449652138526, 38.84236750058133, 46.55246199089753, 40.890664237481026, 44.824572365885, 36.07098103018823, 41.765673748611626, 39.19284802476868, 45.23917541703993, 41.57707394280089, 47.7092737780807, 34.132018631932404, 43.13826095933081, 40.83299042681733, 42.417068705683135, 37.74877950883678, 45.73923181758967, 37.289600296135625, 39.043822958706905, 41.31402257091502, 35.12822343136497, 41.00342254777666, 36.807320735370205, 40.31945558647766, 36.890495025073605, 41.11069439170073], 7: [0.0, 0.0, 0.12028400713860934, 0.0, 0.0, 0.0, 0.0, 0.0, 1.8371711083172773, 1.0284652325835304, 3.9803132774447305, 4.073340424203534, 2.02611399374906, 4.3923575936419965, 2.5484932249589507, 5.399783677261134, 0.0, 6.119308752063373, 1.5462548160545786, 6.666798082526561, 1.4440469421202171, 8.564213572808322, 3.202587484456261, 6.621200968692002, 1.8666978877996212, 1.52003489424014, 1.5298297557388973, 3.9868692457834514, 2.3927040098985533, 9.346041096418203, 2.585801421931861, 7.067005581191079, 0.0, 5.946165316541469, 1.164608906280474], 8: [0.48963043184624394, 1.29961473199549, 0.0, 1.734807424803182, 0.0, 1.2111858478859612, 0.0, 1.2649241427530162, 0.0, 1.1753888372383205, 0.9607652738659694, 0.0, 1.1051530874994873, 0.0, 1.9603794038145776, 0.33059900064864084, 1.1018069725838584, 0.0, 0.6872243626909238, 0.0, 0.7876619684292093, 0.0, 1.0008085888925815, 0.0, 0.5185271910554503, 0.6909249519273364, 0.38245743893472434, 0.0, 0.7975680032995178, 0.0, 0.738800406266246, 0.0, 1.1720771972813273, 0.0, 0.8152262343963318], 9: [0.0, 0.0, 0.12028400713860934, 2.9491726221654093, 0.0, 1.7494906691686105, 0.0, 3.2526620813648988, 0.0, 2.6446248837862214, 1.5097740017893806, 0.0, 2.762882718748718, 0.0, 1.568303523051662, 0.11019966688288028, 11.647673710172219, 0.21854674114512043, 4.638764448163736, 0.0, 8.795558647459504, 0.0, 4.203396073348843, 0.0, 9.955722068264647, 2.487329826938411, 5.545632864553503, 0.13747824985460178, 3.349785613857975, 0.48341591878025186, 3.3246018281981073, 0.0, 3.2818161523877163, 0.12135031258247897, 5.473661859518228], 10: [2.9377825910774638, 0.7581085936640358, 3.849088228435499, 0.3469614849606364, 2.658864644148273, 0.13457620532066233, 4.7110319317237295, 0.1807034489647166, 7.5324015441008365, 0.4407708139643702, 0.0, 4.364293311646643, 0.9209609062495727, 2.365115627345691, 0.0, 2.424392671423366, 0.15740099608340835, 6.337855493208493, 0.3436121813454619, 6.458460642447606, 0.26255398947640307, 4.282106786404161, 0.0, 3.2071442192101887, 0.20741087642218015, 0.0, 0.5736861584020865, 4.261825745492655, 0.0, 1.77252503552759, 0.5541003046996845, 3.386273507654059, 0.0, 2.5483565642320585, 0.6987653437682844], 11: [0.48963043184624394, 0.43320491066516337, 0.2405680142772187, 0.0, 0.0, 0.13457620532066233, 0.3768825545378984, 0.0, 0.5511513324951832, 0.29384720930958014, 0.41175654594255834, 0.0, 0.7367687249996582, 0.3378736610493844, 0.0, 0.11019966688288028, 0.0, 0.43709348229024086, 0.3436121813454619, 0.41667488015791004, 0.0, 0.15859654764459857, 0.0, 0.5172813256790627, 0.6222326292665404, 0.13818499038546728, 0.0, 0.0, 0.0, 0.0, 0.0, 0.0, 0.4688308789125309, 1.3348534384072688, 0.3493826718841422], 12: [44.066738866161955, 34.65639285321307, 27.78560564901876, 40.24753225543382, 35.324915986541335, 37.143032668502805, 34.67319501748665, 39.75475877223765, 36.19227083385036, 33.49858186129214, 34.5875498591749, 28.07695363826007, 38.12778151873231, 26.354145561851983, 40.97192953972467, 24.35412638111654, 38.24844204826823, 33.00055791291319, 34.70483031589165, 29.583916491211614, 35.70734256879082, 33.62246810065489, 38.431049813475134, 27.00208520044707, 32.148685845437925, 32.19710275981387, 38.24574389347243, 26.120867472374336, 30.148070524721774, 26.265598253727017, 34.90831919608012, 20.759328894748794, 36.09997767626488, 27.303820331057768, 30.163370672664275], 13: [0.0, 0.0, 0.0, 0.0, 0.0, 0.0, 0.0, 0.0, 0.0, 0.0, 0.0, 0.0, 0.0, 0.0, 0.0, 0.0, 0.0, 0.0, 0.0, 0.0, 0.0, 0.0, 0.0, 0.0, 0.0, 0.0, 0.0, 0.0, 0.0, 0.0, 0.0, 0.1472292829414808, 0.0, 0.0, 0.1164608906280474], 14: [0.24481521592312197, 0.21660245533258168, 1.082556064247484, 1.3878459398425456, 1.3294323220741364, 0.26915241064132467, 1.130647663613695, 0.9035172448235831, 0.5511513324951832, 0.0, 0.41175654594255834, 0.5819057748862191, 0.18419218124991454, 1.013620983148153, 0.0, 0.771397668180162, 0.0, 0.8741869645804817, 0.0, 0.41667488015791004, 0.13127699473820154, 0.6343861905783943, 0.20016171777851632, 1.2414751816297505, 0.20741087642218015, 0.0, 0.0, 0.9623477489822124, 0.0, 2.094802314714425, 0.369400203133123, 1.3250635464733274, 0.23441543945626545, 1.9416050013196635, 0.4658435625121896], 15: [1.3464836875771709, 0.0, 0.6014200356930467, 0.0, 0.7596756126137922, 0.0, 0.1884412772689492, 0.1807034489647166, 0.0, 0.0, 0.0, 0.0, 0.0, 0.0, 0.0, 0.0, 0.0, 0.21854674114512043, 0.0, 0.0, 0.0, 0.15859654764459857, 0.0, 0.10345626513581253, 0.0, 0.0, 0.19122871946736217, 1.237304248691416, 0.0, 3.867327350242015, 0.0, 0.8833756976488849, 0.0, 0.7281018754948738, 0.0], 16: [2.2033369433080976, 1.407915959661781, 2.044828121356359, 0.1734807424803182, 0.0, 0.0, 0.0, 0.0, 0.18371711083172773, 0.4407708139643702, 0.41175654594255834, 0.7273822186077739, 0.0, 0.5631227684156406, 0.0, 0.5509983344144014, 0.0, 0.0, 0.6872243626909238, 0.0, 0.0, 0.0, 0.0, 0.41382506054325013, 0.3111163146332702, 0.0, 0.0, 0.13747824985460178, 0.0, 0.0, 0.1847001015665615, 0.0, 0.0, 0.12135031258247897, 0.0], 17: [0.9792608636924879, 6.49807365997745, 0.8419880499702654, 3.8165763345670003, 0.5697567094603442, 4.9793195968645065, 0.3768825545378984, 3.6140689792943324, 0.0, 3.2323193024053816, 4.117565459425583, 0.5819057748862191, 3.4996514437483763, 0.900996429465025, 6.861327913351022, 0.8815973350630423, 0.0, 0.6556402234353613, 3.092509632109157, 1.4583620805526851, 4.069586836884248, 0.47578964293379566, 3.6029109200132936, 1.551843977037188, 2.4889305170661618, 3.1782547788657474, 4.39826054774933, 0.5499129994184071, 3.0307584125381677, 1.2891091167473383, 3.6940020313312303, 1.0306049805903656, 1.1720771972813273, 2.0629553139021426, 1.164608906280474], 18: [39.04802693973795, 42.02087633452084, 38.37059827721638, 39.20664780055191, 41.782158693758575, 33.913203740806914, 34.484753740217705, 34.8757656501903, 34.35509972553309, 30.119338954231964, 34.450297677194044, 36.805540261553354, 36.47005188748308, 32.09799779969151, 32.73833604370345, 31.51710472850376, 36.83183308351756, 34.53038510092903, 31.0969024117643, 32.70897809239594, 34.78840360562341, 30.291940600118323, 35.42862404679739, 33.209461108595825, 21.052203956851283, 33.717137654054014, 35.56854182092936, 36.29425796161487, 37.64520975573724, 36.73960982729914, 35.46241950077981, 34.00996435948207, 39.61620926810886, 38.83210002639327, 36.45225876657884], 19: [0.12240760796156099, 0.0, 0.2405680142772187, 0.0, 0.0, 0.0, 0.0, 0.0, 0.0, 0.0, 0.0, 0.0, 0.0, 0.0, 0.0, 0.0, 0.0, 0.0, 0.0, 0.0, 0.0, 0.0, 0.0, 0.10345626513581253, 0.0, 0.0, 0.0, 0.0, 0.0, 0.0, 0.0, 0.0, 0.0, 0.0, 0.0], 20: [15.912989035002928, 16.136882922277334, 12.8703887638312, 16.827632020590865, 18.42213360588446, 17.36033048636544, 15.452184736053834, 16.444013855789212, 16.35082286402377, 15.280054884098167, 16.47026183770233, 17.748126134029683, 14.55118231874325, 15.767437515637937, 12.938504065176213, 16.419750365549163, 18.888119530009003, 12.894257727562106, 15.634354251218516, 15.000295685684762, 12.73386848960555, 13.480706549790877, 16.613422575616855, 16.553002421730007, 15.03728854060806, 17.68767876933981, 14.915840118454248, 12.37304248691416, 16.429900867970066, 14.663616203000974, 15.514808531591166, 13.839552596499196, 17.581157959219908, 15.047438760227392, 17.352672703579064], 21: [0.36722282388468297, 0.10830122766629084, 0.2405680142772187, 0.0, 0.0, 0.6728810266033117, 0.0, 0.0, 0.0, 0.29384720930958014, 0.2745043639617055, 0.29095288744310954, 0.5525765437497436, 0.22524910736625625, 0.3920758807629155, 0.0, 0.0, 0.6556402234353613, 0.17180609067273095, 0.20833744007895502, 0.13127699473820154, 0.47578964293379566, 0.0, 0.20691253027162507, 0.0, 0.0, 0.0, 0.27495649970920355, 0.3190272013198071, 1.4502477563407556, 0.1847001015665615, 0.736146414707404, 0.0, 0.24270062516495794, 0.2329217812560948], 22: [0.12240760796156099, 1.5162171873280716, 0.360852021415828, 2.9491726221654093, 0.18991890315344806, 1.6149144638479482, 0.1884412772689492, 1.2649241427530162, 0.7348684433269109, 1.7630832558574807, 2.0587827297127914, 0.14547644372155477, 2.762882718748718, 0.22524910736625625, 1.9603794038145776, 0.11019966688288028, 2.6758169334179422, 0.6556402234353613, 2.920703541436426, 0.0, 0.9189389631674109, 0.15859654764459857, 2.001617177785163, 0.0, 1.348170696744171, 2.3491448365529437, 2.67720207254307, 0.0, 2.073676808578746, 0.1611386395934173, 2.0317011172321764, 0.1472292829414808, 3.5162315918439817, 0.24270062516495794, 2.67860048444509], 23: [0.0, 0.10830122766629084, 0.0, 0.1734807424803182, 1.7092701283810325, 0.0, 0.0, 0.0, 0.18371711083172773, 0.0, 0.0, 0.0, 0.0, 0.11262455368312813, 0.0, 0.0, 0.0, 0.0, 0.0, 0.0, 0.0, 0.0, 0.0, 0.0, 0.0, 0.0, 0.0, 0.0, 0.15951360065990355, 0.0, 0.0, 0.0, 0.0, 0.0, 0.0], 24: [0.0, 0.0, 0.0, 0.0, 0.0, 0.0, 0.0, 0.0, 0.0, 0.0, 0.0, 0.0, 0.0, 0.0, 0.0, 0.0, 3.3054209177515754, 0.0, 1.8898669974000404, 0.0, 0.5251079789528061, 0.0, 0.600485153335549, 0.0, 0.4148217528443603, 0.5527399615418691, 0.19122871946736217, 0.0, 0.6380544026396142, 0.0, 0.1847001015665615, 0.0, 0.7032463183687964, 0.0, 13.975306875365687], 25: [0.12240760796156099, 0.8664098213303267, 0.12028400713860934, 1.2143651973622274, 0.18991890315344806, 1.0766096425652987, 0.5653238318068475, 0.5421103468941498, 0.18371711083172773, 0.7346180232739503, 1.5097740017893806, 0.0, 0.3683843624998291, 0.0, 0.3920758807629155, 0.0, 4.722029882502251, 0.0, 1.7180609067273094, 0.0, 0.9189389631674109, 0.0, 1.0008085888925815, 0.0, 1.451876134955261, 1.1054799230837382, 1.5298297557388973, 0.0, 2.073676808578746, 0.48341591878025186, 1.108200609399369, 0.0, 0.7032463183687964, 0.0, 0.6987653437682844], 26: [0.0, 1.0830122766629084, 0.360852021415828, 1.0408844548819092, 0.18991890315344806, 0.8074572319239741, 0.0, 0.5421103468941498, 0.0, 0.5876944186191603, 0.6862609099042639, 0.0, 1.1051530874994873, 0.0, 0.5881138211443733, 0.0, 2.3610149412511254, 0.0, 0.6872243626909238, 0.0, 0.5251079789528061, 0.0, 0.8006468711140653, 0.0, 0.4148217528443603, 0.5527399615418691, 0.9561435973368108, 0.0, 0.47854080197971066, 0.0, 1.477600812532492, 0.0, 1.1720771972813273, 0.0, 1.0481480156524265], 27: [0.48963043184624394, 0.21660245533258168, 0.360852021415828, 0.3469614849606364, 0.18991890315344806, 0.26915241064132467, 0.3768825545378984, 0.0, 0.18371711083172773, 0.29384720930958014, 0.0, 0.14547644372155477, 0.0, 0.0, 0.0, 0.0, 0.3148019921668167, 0.21854674114512043, 0.3436121813454619, 0.0, 0.0, 0.0, 0.20016171777851632, 0.3103687954074376, 0.20741087642218015, 0.41455497115640183, 0.0, 0.0, 0.3190272013198071, 0.0, 0.5541003046996845, 0.0, 0.23441543945626545, 0.0, 0.2329217812560948], 28: [0.9792608636924879, 0.0, 0.0, 0.0, 0.0, 0.0, 0.0, 1.9877379386118827, 0.0, 0.0, 0.0, 0.0, 0.18419218124991454, 0.0, 0.0, 0.0, 1.2592079686672668, 0.0, 0.0, 0.0, 0.0, 0.0, 0.0, 0.0, 0.0, 0.0, 0.0, 0.0, 0.0, 0.0, 0.0, 0.0, 0.4688308789125309, 0.0, 0.582304453140237], 29: [5.7531575741933665, 5.415061383314542, 8.419880499702654, 7.633152669134001, 9.306026254518954, 6.7288102660331175, 11.68335919067485, 8.312358652376965, 9.920723984913296, 8.374645465323034, 7.41161782696605, 8.874063067014841, 9.209609062495726, 8.897339740967121, 6.469252032588106, 8.48537434998178, 5.981237851169517, 12.020070762981625, 6.8722436269092375, 12.708583844816257, 6.4325727421718755, 9.99158250160971, 10.408409324482848, 9.000695066815691, 5.185271910554503, 8.014729442357103, 9.561435973368107, 11.273216488077345, 8.613734435634791, 10.635150213165542, 10.897305992427128, 12.808947615908831, 10.31427933607568, 9.46532438143336, 9.200410359615745], 30: [53.85934750308683, 60.323783810124, 56.29291534086917, 68.87185476468632, 51.08818494827753, 59.213530341091435, 47.86408442631309, 61.077765750074214, 51.99194236537895, 53.039421280379216, 58.332177341862426, 53.826284176975264, 57.467960549973334, 48.65380719111135, 59.00742005481879, 48.15725442781868, 58.71057153911132, 49.39156349879722, 58.24226473805579, 52.29269745981771, 60.51869457431091, 50.11650905569314, 60.849162204668964, 57.52168341551177, 38.6821284527366, 50.85207646185196, 62.53179126582743, 57.60338668907814, 57.584409838225184, 57.68763297444339, 58.18053199346687, 56.683273932470115, 62.82333777427914, 63.466213480636505, 59.27859332967613], 31: [3.0601901990390243, 0.649807365997745, 2.5259641499107963, 0.5204422274409546, 2.848783547301721, 0.5383048212826493, 2.072854049958441, 0.1807034489647166, 2.3883224408124604, 0.8815416279287404, 0.2745043639617055, 2.7640524307095404, 0.5525765437497436, 2.1398665199794342, 0.784151761525831, 1.212196335711683, 1.8888119530009002, 2.8411076348865656, 0.5154182720181928, 3.541736481342235, 0.5251079789528061, 2.3789482146689784, 0.600485153335549, 1.758756507308813, 0.5185271910554503, 0.5527399615418691, 0.9561435973368108, 2.474608497382832, 0.15951360065990355, 1.9336636751210075, 0.369400203133123, 2.208439244122212, 0.23441543945626545, 1.5775540635722267, 0.3493826718841422], 32: [2.8153749831159027, 0.8664098213303267, 0.721704042831656, 1.9082881672835001, 2.658864644148273, 1.3457620532066235, 0.5653238318068475, 1.4456275917177328, 2.7557566624759158, 1.7630832558574807, 1.9215305477319389, 1.309287993493993, 2.394498356248889, 0.5631227684156406, 1.1762276422887465, 1.4325956694774435, 1.731410956917492, 1.5298271880158432, 1.5462548160545786, 0.8333497603158201, 0.9189389631674109, 1.1101758335121898, 0.20016171777851632, 1.0345626513581254, 2.1778142024328915, 0.13818499038546728, 0.38245743893472434, 0.8248694991276107, 0.3190272013198071, 0.6445545583736692, 0.0, 0.5889171317659232, 0.23441543945626545, 0.7281018754948738, 0.582304453140237], 33: [0.7344456477693659, 0.10830122766629084, 1.5636920928019216, 0.0, 1.8991890315344806, 0.26915241064132467, 1.884412772689492, 0.1807034489647166, 2.7557566624759158, 0.14692360465479007, 0.13725218198085276, 1.4547644372155477, 0.18419218124991454, 1.013620983148153, 0.19603794038145775, 0.5509983344144014, 0.15740099608340835, 1.3112804468707226, 0.3436121813454619, 2.50004928094746, 0.0, 2.2203516670243797, 0.0, 1.0345626513581254, 0.0, 0.27636998077093455, 0.0, 0.8248694991276107, 0.15951360065990355, 2.4170795939012595, 0.1847001015665615, 2.7973563758881355, 0.0, 0.8494521880773528, 0.0], 34: [0.12240760796156099, 0.0, 0.0, 0.0, 0.0, 0.13457620532066233, 0.0, 0.0, 0.0, 0.0, 0.2745043639617055, 0.0, 0.0, 0.22524910736625625, 1.568303523051662, 0.5509983344144014, 0.0, 0.0, 1.8898669974000404, 0.20833744007895502, 1.4440469421202171, 0.0, 1.4011320244496142, 0.6207375908148752, 4.1482175284436025, 1.3818499038546728, 1.9122871946736215, 0.4124347495638053, 2.073676808578746, 0.9668318375605037, 1.8470010156656151, 0.5889171317659232, 0.4688308789125309, 0.3640509377474369, 0.6987653437682844], 35: [0.36722282388468297, 0.10830122766629084, 0.2405680142772187, 2.2552496522441365, 0.0, 2.5569479010925846, 0.0, 2.8912551834354656, 0.5511513324951832, 2.497701279131431, 1.6470261837702334, 0.0, 1.4735374499993164, 0.22524910736625625, 0.784151761525831, 0.5509983344144014, 0.6296039843336334, 0.0, 0.8590304533636547, 0.0, 0.26255398947640307, 0.0, 0.600485153335549, 0.0, 1.0370543821109006, 0.41455497115640183, 0.7649148778694487, 0.0, 0.3190272013198071, 0.0, 0.1847001015665615, 0.0, 0.23441543945626545, 0.4854012503299159, 0.4658435625121896], 36: [1.2240760796156098, 1.0830122766629084, 0.2405680142772187, 1.734807424803182, 0.0, 1.2111858478859612, 0.0, 0.7228137958588664, 0.0, 2.203854069821851, 0.8235130918851167, 0.0, 0.9209609062495727, 0.0, 0.19603794038145775, 0.0, 0.47220298825022505, 0.0, 0.3436121813454619, 0.0, 0.26255398947640307, 0.0, 0.20016171777851632, 0.0, 0.6222326292665404, 0.13818499038546728, 0.19122871946736217, 0.0, 0.15951360065990355, 0.0, 0.369400203133123, 0.0, 0.9376617578250618, 0.0, 1.5139915781646163], 37: [1.4688912955387319, 0.649807365997745, 0.12028400713860934, 1.2143651973622274, 0.0, 0.6728810266033117, 0.0, 0.3614068979294332, 0.0, 0.7346180232739503, 0.13725218198085276, 0.0, 0.18419218124991454, 0.0, 0.0, 0.0, 0.47220298825022505, 0.0, 0.17180609067273095, 0.0, 0.26255398947640307, 0.0, 0.0, 0.0, 0.4148217528443603, 0.0, 0.38245743893472434, 0.0, 0.0, 0.0, 0.0, 0.0, 0.4688308789125309, 0.0, 0.8152262343963318], 38: [0.6120380398078049, 1.29961473199549, 0.9622720571088748, 1.5613266823228638, 0.3798378063068961, 0.9420334372446364, 0.3768825545378984, 1.4456275917177328, 0.7348684433269109, 0.4407708139643702, 1.098017455846822, 0.7273822186077739, 1.2893452687494018, 0.3378736610493844, 0.0, 0.44079866753152114, 1.1018069725838584, 0.6556402234353613, 1.2026426347091166, 0.8333497603158201, 1.4440469421202171, 0.7929827382229928, 0.40032343555703265, 0.20691253027162507, 2.1778142024328915, 0.5527399615418691, 0.5736861584020865, 0.9623477489822124, 0.15951360065990355, 0.8056931979670865, 0.5541003046996845, 1.472292829414808, 0.7032463183687964, 1.4562037509897476, 1.746913359420711], 39: [1.9585217273849758, 1.0830122766629084, 2.044828121356359, 1.9082881672835001, 1.8991890315344806, 1.3457620532066235, 1.5075302181515935, 3.2526620813648988, 2.3883224408124604, 1.9100068605122709, 1.7842783657510861, 1.4547644372155477, 1.2893452687494018, 0.900996429465025, 1.568303523051662, 1.542795336360324, 1.4166089647506752, 1.7483739291609635, 1.7180609067273094, 2.2917118408685053, 1.8378779263348217, 1.9031585717351827, 1.8014554600066468, 2.5864066283953133, 0.8296435056887206, 1.1054799230837382, 0.9561435973368108, 2.1996519976736284, 1.1165952046193248, 1.127970477153921, 1.2929007109659305, 2.502897810005174, 1.4064926367375927, 4.004560315221806, 2.67860048444509], 40: [15.668173819079806, 15.59537678394588, 26.221913556216837, 19.603323900275957, 18.42213360588446, 25.97320762688783, 24.308924767694446, 24.57566905920146, 22.046053299807326, 25.27086000062389, 26.352418940323734, 23.712660326613427, 25.050136649988378, 19.033549572448653, 17.839452574712656, 18.84414303697253, 19.517723514342638, 16.828099068174275, 17.524221248618556, 17.292007526553267, 20.873042163374045, 24.741061432557377, 27.422155335656736, 19.863602906076007, 19.185506069051662, 21.41867350974743, 16.254441154725782, 16.909824732116018, 18.663091277208718, 14.663616203000974, 16.623009140990536, 15.164616142972523, 19.6908969143263, 15.047438760227392, 25.388474156914334], 41: [1.2240760796156098, 1.0830122766629084, 1.2028400713860934, 1.3878459398425456, 0.18991890315344806, 1.8840668744892728, 0.3768825545378984, 1.4456275917177328, 0.9185855541586386, 1.6161596512026908, 0.9607652738659694, 1.309287993493993, 2.394498356248889, 0.5631227684156406, 0.5881138211443733, 0.771397668180162, 1.5740099608340836, 1.3112804468707226, 1.7180609067273094, 0.625012320236865, 1.3127699473820156, 0.6343861905783943, 2.2017788955636797, 0.41382506054325013, 1.8666978877996212, 1.7964048750110746, 1.9122871946736215, 0.8248694991276107, 2.073676808578746, 0.3222772791868346, 1.477600812532492, 1.0306049805903656, 1.4064926367375927, 1.0921528132423108, 1.164608906280474], 42: [13.954467307617952, 9.422206806967303, 16.358624970850872, 15.613266823228637, 11.964890898667226, 12.381010889500935, 13.94465451790224, 15.901903508895062, 15.799671531528585, 14.986207674788586, 13.176209470161867, 13.965738597269256, 14.919566681243078, 13.064448227242863, 14.506807588227874, 15.427953363603239, 12.749480682756078, 12.020070762981625, 13.916293344491207, 14.583620805526852, 13.784084447511162, 16.335444407393652, 18.214716317844985, 16.035721096050942, 12.548358023541898, 16.444013855870605, 18.54918578833413, 15.672520483424602, 14.834764861371031, 10.151734294385289, 16.438309039423974, 13.103406181791792, 17.581157959219908, 15.532840010557308, 17.236211812951016], 43: [8.446124949347707, 8.339194530304395, 10.94584464961345, 10.408844548819092, 9.685864060825851, 10.227791604370339, 11.494917913405901, 10.842206937882997, 11.574177982398847, 8.962339883942194, 11.39193110441078, 12.947403491218374, 12.893452687494017, 9.122588848333379, 10.978124661361635, 10.138369353224986, 11.332871718005402, 12.238617504126745, 10.823783712382049, 10.41687200394775, 10.764713568532526, 12.529127263923286, 12.610188220046528, 10.552539043852878, 8.192729618676115, 11.192984221222849, 13.003552923780626, 10.585825238804336, 9.41130243893431, 9.184902456824785, 10.158505586160883, 11.04219622061106, 10.079863896619415, 8.979923131103444, 11.296706390920598], 44: [14.199282523541074, 20.144028345930096, 18.52373709934584, 18.38895870291373, 20.891079346879287, 17.091178075724116, 19.974775390508615, 16.263310406824495, 21.67861907814387, 15.133131279443377, 17.70553147553001, 14.69312081587703, 15.656335406242736, 14.303318317757272, 18.623604336238486, 15.31775369672036, 17.31410956917492, 15.735365362448672, 15.806160341891246, 15.625308005921626, 16.672178331751596, 14.590882383303068, 19.615848342294598, 16.34608989145838, 14.10393959670825, 12.71301911546299, 18.357957068866767, 11.685651237641151, 14.675251260711127, 16.7584185177154, 18.100609953523026, 15.311845425914004, 15.94024988302605, 14.562037509897477, 15.25637667227421], 45: [0.36722282388468297, 1.407915959661781, 1.3231240785247027, 0.3469614849606364, 2.0891079346879287, 1.2111858478859612, 3.768825545378984, 0.3614068979294332, 2.3883224408124604, 0.5876944186191603, 0.9607652738659694, 2.036670212101767, 1.2893452687494018, 3.0408629494444592, 0.9801897019072888, 2.9753910058377673, 0.15740099608340835, 3.0596543760316863, 0.5154182720181928, 3.541736481342235, 1.181492952643814, 3.8063171434703653, 1.200970306671098, 2.793319158666938, 1.2444652585330809, 0.9672949326982709, 0.38245743893472434, 2.887043246946637, 1.435622405939132, 4.834159187802519, 1.477600812532492, 3.6807320735370204, 0.23441543945626545, 4.489961565551722, 0.0], 46: [0.48963043184624394, 0.9747110489966175, 0.8419880499702654, 1.2143651973622274, 1.3294323220741364, 0.9420334372446364, 1.3190889408826443, 0.5421103468941498, 1.1023026649903664, 1.4692360465479006, 1.6470261837702334, 2.9095288744310954, 1.1051530874994873, 1.80199285893005, 1.568303523051662, 2.5345923383062465, 0.6296039843336334, 2.1854674114512043, 2.061673088072771, 2.9167241611053702, 1.4440469421202171, 2.3789482146689784, 2.2017788955636797, 2.1725815678520632, 0.9333489438998106, 0.8291099423128037, 0.5736861584020865, 2.612086747237434, 1.1165952046193248, 4.350743269022267, 1.2929007109659305, 3.2390442247125777, 0.7032463183687964, 2.5483565642320585, 0.8152262343963318], 47: [62.672695276319224, 64.87243537210821, 63.87080779060156, 53.60554942641832, 64.95226487847924, 59.34810654641209, 57.286148289760554, 54.93384848527385, 64.66842301276816, 55.97789337347501, 60.93996879949863, 59.64534192583745, 56.546999643723765, 56.087027734197804, 52.930243902993595, 56.09163044338606, 53.988541656609065, 60.10035381490812, 50.68279674845563, 59.584507862581134, 59.3372016216671, 56.30177441383249, 57.84673643799122, 65.07399077042608, 42.20811335191366, 59.00499089459453, 59.28090303488227, 59.80303868675177, 56.14878743228605, 61.87723760387224, 60.58163331383218, 55.94712751776271, 59.77593706134769, 65.89321973228608, 62.772420048517546], 48: [1.4688912955387319, 4.548651561984215, 0.4811360285544374, 7.459671926653682, 0.18991890315344806, 9.420334372446364, 0.1884412772689492, 8.854468999271115, 0.5511513324951832, 10.725423139799675, 8.784139646774577, 0.7273822186077739, 11.235723056244787, 0.4504982147325125, 9.60585907869143, 1.212196335711683, 6.925643827669968, 0.0, 8.590304533636548, 0.0, 6.9576807211246825, 0.15859654764459857, 9.607762453368784, 0.10345626513581253, 6.9482643601430345, 5.527399615418691, 8.222834937096573, 0.6873912492730089, 7.17811202969566, 0.48341591878025186, 7.942104367362145, 0.8833756976488849, 8.204540380969291, 0.4854012503299159, 6.172427203286512], 49: [2.2033369433080976, 1.5162171873280716, 3.247668192742452, 2.0817689097638183, 3.9882969662224093, 0.9420334372446364, 3.768825545378984, 1.2649241427530162, 3.858059327466282, 0.5876944186191603, 0.9607652738659694, 2.7640524307095404, 0.7367687249996582, 4.6176067010082535, 0.9801897019072888, 1.7631946701260846, 1.1018069725838584, 5.02657504633777, 0.17180609067273095, 5.625110882131786, 0.9189389631674109, 4.440703334048759, 0.40032343555703265, 2.793319158666938, 0.20741087642218015, 0.9672949326982709, 0.19122871946736217, 4.399303995347257, 0.7975680032995178, 4.834159187802519, 1.108200609399369, 4.858566337068867, 0.4688308789125309, 2.9124075019794953, 0.6987653437682844], 50: [1.7137065114618537, 1.0830122766629084, 2.5259641499107963, 0.6939229699212728, 3.608459159915513, 0.9420334372446364, 3.015060436303187, 0.9035172448235831, 2.5720395516441883, 0.29384720930958014, 0.549008727923411, 2.9095288744310954, 0.3683843624998291, 2.590364734711947, 0.784151761525831, 2.3141930045404857, 0.47220298825022505, 3.496747858321927, 0.17180609067273095, 3.3333990412632803, 0.13127699473820154, 3.4891240481811683, 0.0, 1.965669037580438, 0.5185271910554503, 0.8291099423128037, 0.5736861584020865, 2.612086747237434, 0.3190272013198071, 2.255940954307842, 1.2929007109659305, 4.269649205302944, 0.7032463183687964, 2.0629553139021426, 0.6987653437682844], 51: [0.0, 0.21660245533258168, 0.4811360285544374, 0.6939229699212728, 0.0, 0.0, 0.0, 1.0842206937882997, 0.0, 0.5876944186191603, 0.13725218198085276, 0.14547644372155477, 0.18419218124991454, 0.0, 0.5881138211443733, 0.0, 0.0, 0.0, 1.2026426347091166, 0.41667488015791004, 0.7876619684292093, 0.0, 1.200970306671098, 0.41382506054325013, 1.0370543821109006, 0.6909249519273364, 1.147372316804173, 0.0, 0.3190272013198071, 0.0, 1.477600812532492, 0.0, 0.9376617578250618, 0.0, 0.4658435625121896], 52: [0.24481521592312197, 0.10830122766629084, 0.4811360285544374, 0.5204422274409546, 0.5697567094603442, 0.26915241064132467, 0.5653238318068475, 0.3614068979294332, 0.18371711083172773, 1.6161596512026908, 0.41175654594255834, 0.0, 0.5525765437497436, 0.0, 0.5881138211443733, 0.11019966688288028, 0.0, 0.0, 0.17180609067273095, 0.20833744007895502, 0.13127699473820154, 0.0, 0.0, 0.0, 0.10370543821109007, 0.13818499038546728, 0.19122871946736217, 0.13747824985460178, 0.15951360065990355, 1.4502477563407556, 0.369400203133123, 0.5889171317659232, 0.23441543945626545, 1.0921528132423108, 0.582304453140237], 53: [1.4688912955387319, 1.7328196426606535, 0.4811360285544374, 1.5613266823228638, 0.5697567094603442, 1.0766096425652987, 0.3768825545378984, 0.7228137958588664, 0.7348684433269109, 1.0284652325835304, 1.235269637827675, 0.8728586623293285, 1.8419218124991454, 1.013620983148153, 1.568303523051662, 0.8815973350630423, 0.6296039843336334, 0.6556402234353613, 1.3744487253818476, 0.20833744007895502, 0.6563849736910078, 0.47578964293379566, 1.200970306671098, 0.6207375908148752, 0.9333489438998106, 0.27636998077093455, 1.9122871946736215, 0.9623477489822124, 0.6380544026396142, 0.3222772791868346, 1.8470010156656151, 0.736146414707404, 1.1720771972813273, 0.24270062516495794, 1.3975306875365687], 54: [0.0, 0.7581085936640358, 0.8419880499702654, 0.3469614849606364, 1.5193512252275845, 0.40372861596198706, 1.6959714954205427, 0.1807034489647166, 2.204605329980733, 0.4407708139643702, 0.8235130918851167, 0.8728586623293285, 0.5525765437497436, 1.3514946441975375, 0.5881138211443733, 1.1019966688288028, 0.15740099608340835, 1.5298271880158432, 0.6872243626909238, 1.6666995206316402, 0.9189389631674109, 1.427368928801387, 1.0008085888925815, 1.3449314467655629, 0.7259380674776305, 1.3818499038546728, 0.0, 0.27495649970920355, 1.1165952046193248, 0.6445545583736692, 1.2929007109659305, 0.736146414707404, 0.23441543945626545, 0.4854012503299159, 0.1164608906280474], 55: [0.6120380398078049, 0.7581085936640358, 0.9622720571088748, 1.3878459398425456, 0.7596756126137922, 1.0766096425652987, 0.942206386344746, 0.9035172448235831, 0.36743422166345546, 1.7630832558574807, 1.3725218198085278, 0.14547644372155477, 1.657729631249231, 0.4504982147325125, 3.136607046103324, 0.33059900064864084, 2.8332179295013504, 0.43709348229024086, 3.60792790412735, 0.0, 1.9691549210730233, 0.31719309528919715, 3.202587484456261, 0.3103687954074376, 2.1778142024328915, 1.7964048750110746, 1.9122871946736215, 0.27495649970920355, 2.2331904092386496, 0.1611386395934173, 2.7705015234984227, 0.44168784882444245, 3.047400712931451, 0.3640509377474369, 2.329217812560948], 56: [0.0, 0.9747110489966175, 0.0, 0.3469614849606364, 0.0, 0.8074572319239741, 0.0, 0.9035172448235831, 0.0, 0.7346180232739503, 1.098017455846822, 0.0, 1.8419218124991454, 0.22524910736625625, 0.784151761525831, 0.0, 1.5740099608340836, 0.0, 1.5462548160545786, 0.0, 1.0502159579056123, 0.0, 2.2017788955636797, 0.0, 1.348170696744171, 2.7636998077093455, 2.67720207254307, 0.0, 2.3927040098985533, 0.0, 3.5093019297646686, 0.0, 5.15713966803784, 0.12135031258247897, 1.164608906280474], 57: [2.2033369433080976, 0.8664098213303267, 0.6014200356930467, 1.5613266823228638, 0.0, 0.8074572319239741, 0.0, 1.8070344896471662, 0.36743422166345546, 1.1753888372383205, 0.9607652738659694, 0.14547644372155477, 0.9209609062495727, 0.22524910736625625, 0.3920758807629155, 0.22039933376576057, 1.5740099608340836, 0.21854674114512043, 0.6872243626909238, 0.8333497603158201, 1.4440469421202171, 0.31719309528919715, 0.8006468711140653, 0.5172813256790627, 2.1778142024328915, 0.9672949326982709, 1.338601036271535, 0.4124347495638053, 1.5951360065990356, 0.1611386395934173, 1.108200609399369, 0.2944585658829616, 2.57856983401892, 1.0921528132423108, 1.746913359420711], 58: [0.12240760796156099, 0.43320491066516337, 0.12028400713860934, 0.1734807424803182, 0.0, 0.0, 0.0, 0.0, 0.0, 0.14692360465479007, 0.13725218198085276, 0.14547644372155477, 0.0, 0.0, 0.0, 0.11019966688288028, 0.15740099608340835, 0.0, 0.3436121813454619, 0.20833744007895502, 0.0, 0.0, 0.0, 0.0, 0.0, 0.0, 0.0, 0.13747824985460178, 0.0, 0.1611386395934173, 0.1847001015665615, 0.2944585658829616, 0.0, 0.0, 1.8633742500487585], 59: [0.12240760796156099, 2.166024553325817, 0.12028400713860934, 4.163537819527637, 0.0, 3.498981338337221, 0.1884412772689492, 4.517586224117915, 0.5511513324951832, 4.701555348953282, 3.156800185559614, 0.7273822186077739, 4.604804531247863, 0.0, 5.29302439029936, 0.5509983344144014, 4.092425898168617, 0.21854674114512043, 4.638764448163736, 0.20833744007895502, 4.069586836884248, 0.15859654764459857, 4.803881226684392, 0.10345626513581253, 2.903752269910522, 3.3164397692512146, 4.780717986684054, 0.27495649970920355, 3.349785613857975, 0.0, 2.955201625064984, 0.0, 4.219477910212778, 0.12135031258247897, 3.0279831563292325], 60: [1.7137065114618537, 0.0, 0.0, 0.1734807424803182, 0.0, 0.13457620532066233, 0.0, 0.5421103468941498, 0.0, 0.14692360465479007, 0.13725218198085276, 0.0, 0.0, 0.0, 0.19603794038145775, 0.5509983344144014, 0.15740099608340835, 0.0, 0.0, 0.0, 0.0, 0.0, 0.40032343555703265, 0.0, 0.7259380674776305, 0.0, 0.38245743893472434, 0.0, 0.0, 0.0, 0.0, 0.0, 0.0, 0.12135031258247897, 0.1164608906280474], 61: [0.9792608636924879, 1.8411208703269442, 2.405680142772187, 2.2552496522441365, 2.848783547301721, 2.5569479010925846, 3.203501713572136, 1.6263310406824494, 3.858059327466282, 1.7630832558574807, 3.5685567315021722, 2.473099543266431, 1.4735374499993164, 2.590364734711947, 1.9603794038145776, 2.3141930045404857, 2.0462129490843086, 1.7483739291609635, 1.0308365440363856, 4.7917611218159655, 2.2317089105494263, 3.33052750053657, 2.2017788955636797, 2.482950363259501, 1.2444652585330809, 3.1782547788657474, 1.7210584752062594, 1.9246954979644249, 2.871244811878264, 1.9336636751210075, 2.7705015234984227, 3.2390442247125777, 1.8753235156501236, 3.1551081271444534, 1.0481480156524265], 62: [7.344456477693659, 1.7328196426606535, 3.7288042212968895, 1.2143651973622274, 0.0, 0.6728810266033117, 1.3190889408826443, 0.5421103468941498, 0.9185855541586386, 1.0284652325835304, 1.235269637827675, 2.7640524307095404, 0.7367687249996582, 1.80199285893005, 0.3920758807629155, 1.983594003891845, 0.6296039843336334, 0.21854674114512043, 1.2026426347091166, 0.0, 0.6563849736910078, 0.0, 1.200970306671098, 1.4483877119013755, 0.8296435056887206, 0.41455497115640183, 0.38245743893472434, 2.474608497382832, 0.15951360065990355, 0.1611386395934173, 0.369400203133123, 0.44168784882444245, 0.23441543945626545, 2.3056559390671003, 0.3493826718841422], 63: [0.12240760796156099, 0.7581085936640358, 0.8419880499702654, 1.5613266823228638, 1.5193512252275845, 0.6728810266033117, 0.7537651090757967, 1.6263310406824494, 0.5511513324951832, 1.7630832558574807, 1.5097740017893806, 1.309287993493993, 3.1312670812485472, 1.2388700905144094, 2.7445311653404088, 0.8815973350630423, 2.6758169334179422, 1.3112804468707226, 3.9515400854728115, 0.41667488015791004, 2.4942629000258294, 0.9515792858675913, 3.202587484456261, 1.4483877119013755, 2.903752269910522, 2.3491448365529437, 2.294744633608346, 0.9623477489822124, 2.871244811878264, 1.4502477563407556, 2.7705015234984227, 1.0306049805903656, 3.047400712931451, 1.2135031258247897, 2.911522265701185], 64: [1.9585217273849758, 0.43320491066516337, 1.8042601070791402, 0.1734807424803182, 6.83708051352413, 0.26915241064132467, 2.8266191590342378, 0.0, 2.020888219149005, 0.0, 0.0, 1.8911937683802118, 0.5525765437497436, 1.689368305246922, 0.0, 2.5345923383062465, 0.0, 2.1854674114512043, 0.0, 2.50004928094746, 0.13127699473820154, 1.2687723811567886, 0.0, 2.069125302716251, 0.0, 0.0, 0.38245743893472434, 2.33713024752823, 0.15951360065990355, 6.284406944143274, 0.9235005078328076, 1.7667513952977698, 0.23441543945626545, 6.188865941706427, 1.2810697969085214], 65: [52.88008663939434, 51.76798682448702, 48.71502289113678, 43.890627847520506, 45.39061785367409, 45.21760498774255, 49.748497199002585, 43.73023464946142, 51.62450814371549, 41.57938011730559, 42.82268077802607, 45.9705562160113, 42.364201687480346, 41.55846030907428, 42.14815718201342, 39.341281077188256, 41.55386296601981, 50.2657504633777, 38.828176492037194, 49.584310738791295, 40.03948339515147, 41.55229548288482, 40.23250527348178, 46.45186304597983, 33.18574022754882, 45.87741680797514, 41.68786084388495, 47.704952699546816, 45.14234898675271, 43.02401677144242, 43.219823766575395, 40.046364960082784, 41.96036366267152, 43.44341190452747, 39.946085485420255], 66: [0.12240760796156099, 1.5162171873280716, 0.2405680142772187, 1.0408844548819092, 0.18991890315344806, 1.4803382585272857, 0.0, 1.0842206937882997, 0.0, 1.1753888372383205, 0.9607652738659694, 0.14547644372155477, 3.683843624998291, 0.11262455368312813, 2.352455284577493, 0.44079866753152114, 4.722029882502251, 0.0, 3.4361218134546188, 0.0, 6.038741757957271, 0.0, 5.004042944462908, 0.0, 5.703799101609953, 2.487329826938411, 4.780717986684054, 0.13747824985460178, 3.6688128151777817, 0.0, 2.955201625064984, 0.2944585658829616, 2.8129852734751855, 0.3640509377474369, 4.425513843865801], 67: [0.0, 1.7328196426606535, 0.0, 0.3469614849606364, 0.0, 0.9420334372446364, 0.0, 0.3614068979294332, 0.0, 0.4407708139643702, 0.0, 0.14547644372155477, 0.5525765437497436, 0.0, 0.19603794038145775, 0.33059900064864084, 2.0462129490843086, 0.0, 2.748897450763695, 0.0, 2.1004319158112246, 0.0, 1.0008085888925815, 0.0, 1.8666978877996212, 0.27636998077093455, 1.147372316804173, 0.0, 0.7975680032995178, 0.1611386395934173, 0.738800406266246, 0.0, 0.23441543945626545, 0.0, 1.0481480156524265], 68: [0.0, 5.956567521645996, 1.3231240785247027, 2.602211137204773, 1.8991890315344806, 4.9793195968645065, 1.884412772689492, 0.0, 1.4697368866538219, 1.9100068605122709, 2.0587827297127914, 0.14547644372155477, 2.394498356248889, 0.5631227684156406, 1.7643414634331198, 0.33059900064864084, 0.0, 1.0927337057256021, 3.4361218134546188, 0.20833744007895502, 4.725971810575256, 0.15859654764459857, 1.4011320244496142, 0.8276501210865003, 0.5185271910554503, 2.487329826938411, 1.7210584752062594, 0.13747824985460178, 2.552217610558457, 0.1611386395934173, 1.6623009140990537, 0.44168784882444245, 0.0, 0.3640509377474369, 1.0481480156524265], 69: [0.12240760796156099, 5.19845892798196, 0.721704042831656, 7.459671926653682, 0.3798378063068961, 6.055929239429806, 0.5653238318068475, 7.228137958588665, 0.36743422166345546, 5.583096976882023, 3.8430610954638778, 0.43642933116466426, 5.70995761874735, 0.22524910736625625, 7.841517615258311, 0.22039933376576057, 7.083044823753376, 0.21854674114512043, 6.013213173545583, 0.0, 4.332140826360651, 0.15859654764459857, 6.205013251134006, 0.20691253027162507, 3.9408066520214224, 4.283734701949486, 6.119319022955589, 0.27495649970920355, 4.147353617157492, 0.1611386395934173, 6.279803453263091, 0.2944585658829616, 8.204540380969291, 0.12135031258247897, 6.055966312658465], 70: [0.0, 0.3249036829988725, 0.6014200356930467, 0.1734807424803182, 0.3798378063068961, 0.26915241064132467, 0.5653238318068475, 0.0, 0.36743422166345546, 0.0, 0.13725218198085276, 0.14547644372155477, 0.3683843624998291, 0.4504982147325125, 0.0, 0.11019966688288028, 0.0, 0.0, 0.0, 0.0, 0.0, 0.15859654764459857, 1.0008085888925815, 1.1380189164939378, 0.10370543821109007, 0.6909249519273364, 0.19122871946736217, 1.237304248691416, 1.1165952046193248, 1.77252503552759, 1.108200609399369, 1.1778342635318464, 0.0, 1.0921528132423108, 0.3493826718841422], 71: [0.0, 0.0, 2.044828121356359, 0.0, 4.747972578836201, 0.26915241064132467, 4.52259065445478, 0.0, 4.776644881624921, 0.0, 0.41175654594255834, 4.509769755368198, 0.18419218124991454, 2.590364734711947, 0.0, 3.7467886740179295, 0.0, 6.993495716643854, 0.0, 4.7917611218159655, 0.26255398947640307, 5.392282619916351, 0.20016171777851632, 3.103687954074376, 0.10370543821109007, 0.27636998077093455, 0.0, 3.5744344962196464, 0.6380544026396142, 6.606684223330109, 0.1847001015665615, 4.122419922361463, 0.0, 3.761859690056848, 0.0], 72: [1.5912989035002927, 0.9747110489966175, 3.6085202141582804, 0.6939229699212728, 7.026999416677578, 0.5383048212826493, 3.957266822647933, 0.5421103468941498, 4.409210659961466, 0.8815416279287404, 1.5097740017893806, 4.509769755368198, 0.3683843624998291, 4.504982147325125, 1.1762276422887465, 3.8569883409008097, 0.3148019921668167, 6.337855493208493, 0.17180609067273095, 5.208436001973875, 0.26255398947640307, 5.233686072271753, 0.40032343555703265, 3.6209692797534387, 0.3111163146332702, 1.52003489424014, 0.38245743893472434, 4.67426049505646, 0.7975680032995178, 4.995297827395936, 0.369400203133123, 4.858566337068867, 0.7032463183687964, 4.611311878134201, 0.9316871250243792], 73: [1.1016684716540488, 0.649807365997745, 1.3231240785247027, 1.0408844548819092, 0.0, 0.40372861596198706, 0.3768825545378984, 0.0, 0.9185855541586386, 0.14692360465479007, 0.0, 0.14547644372155477, 0.0, 0.22524910736625625, 0.0, 0.44079866753152114, 0.0, 0.0, 0.17180609067273095, 0.8333497603158201, 0.0, 0.0, 0.0, 0.9311063862223128, 0.4148217528443603, 0.0, 0.0, 0.0, 0.0, 0.0, 0.0, 0.1472292829414808, 0.0, 0.0, 0.1164608906280474], 74: [0.7344456477693659, 5.631663838647124, 0.6014200356930467, 2.2552496522441365, 0.7596756126137922, 4.441014775581857, 0.5653238318068475, 3.2526620813648988, 1.2860197758220941, 2.350777674476641, 2.196034911693644, 0.14547644372155477, 1.657729631249231, 0.4504982147325125, 1.7643414634331198, 0.22039933376576057, 0.47220298825022505, 0.8741869645804817, 1.2026426347091166, 1.041687200394775, 1.7066009315966202, 0.31719309528919715, 2.2017788955636797, 1.4483877119013755, 0.9333489438998106, 1.3818499038546728, 2.294744633608346, 0.9623477489822124, 1.5951360065990356, 0.0, 1.6623009140990537, 0.2944585658829616, 2.3441543945626546, 0.12135031258247897, 0.9316871250243792], 75: [11.995945580232977, 0.9747110489966175, 9.983572592504576, 0.3469614849606364, 2.4689457409948248, 0.26915241064132467, 15.075302181515935, 1.2649241427530162, 12.12532931489403, 0.4407708139643702, 0.2745043639617055, 7.273822186077738, 0.0, 6.64484866730456, 0.0, 6.722179679855697, 0.15740099608340835, 9.39750986924018, 0.0, 9.583522243631931, 0.0, 9.515792858675914, 0.40032343555703265, 10.345626513581253, 0.0, 0.27636998077093455, 0.0, 9.34852099011292, 0.7975680032995178, 6.928961502516944, 0.369400203133123, 6.330859166483675, 0.23441543945626545, 12.863133133742771, 0.3493826718841422], 76: [1.8361141194234147, 0.9747110489966175, 0.4811360285544374, 2.4287303947244547, 0.3798378063068961, 1.4803382585272857, 0.3768825545378984, 1.2649241427530162, 0.36743422166345546, 1.0284652325835304, 1.6470261837702334, 0.29095288744310954, 2.02611399374906, 0.22524910736625625, 1.1762276422887465, 0.22039933376576057, 1.1018069725838584, 0.21854674114512043, 0.6872243626909238, 0.0, 0.5251079789528061, 0.31719309528919715, 1.0008085888925815, 0.3103687954074376, 0.9333489438998106, 1.2436649134692055, 2.485973353075708, 0.0, 2.552217610558457, 0.6445545583736692, 3.6940020313312303, 0.5889171317659232, 3.5162315918439817, 1.0921528132423108, 3.0279831563292325], 77: [59.85732029320332, 53.500806467147676, 61.224559633552154, 66.26964362748156, 63.2429947500982, 57.194887261281494, 64.25847554871167, 63.60761403558025, 66.50559412108544, 52.157879652450475, 54.3518640644177, 60.663677031888334, 59.67826672497231, 54.17241032158463, 58.027230352911495, 50.80204643300781, 63.11779942944675, 65.56402234353614, 54.9779490152739, 65.20961874471293, 51.72313592685141, 61.059670843170444, 58.24705987354825, 53.59034534035089, 39.82288827305859, 50.29933650031009, 65.01776461890313, 61.8652124345708, 56.46781463360586, 60.91040576631173, 63.72153504046372, 57.566649630118995, 71.02787815524843, 61.40325816673436, 62.073654704749266], 78: [3.5498206308852684, 5.306760155648251, 5.6533483355146394, 6.071825986811136, 2.4689457409948248, 4.9793195968645065, 4.899473208992679, 7.408841407553381, 5.878947546615287, 4.995402558262862, 4.8038263693298475, 3.2004817618742045, 4.788996712497778, 2.815613842078203, 7.4494417344953945, 1.983594003891845, 6.610841835503151, 4.152388081757288, 6.700437536236507, 3.9584113615001453, 4.988525800051659, 2.3789482146689784, 6.00485153335549, 3.8278818100250636, 3.8371012138103326, 3.8691797307930837, 6.693005181357676, 2.7495649970920355, 6.061516825076335, 0.8056931979670865, 7.018603859529337, 1.9139806782392506, 7.266878623144229, 2.6697068768145376, 8.385184125219412], 79: [0.12240760796156099, 1.6245184149943626, 0.8419880499702654, 1.0408844548819092, 0.3798378063068961, 0.9420334372446364, 0.0, 1.2649241427530162, 0.36743422166345546, 1.0284652325835304, 1.3725218198085278, 0.0, 0.7367687249996582, 0.4504982147325125, 0.784151761525831, 0.22039933376576057, 1.4166089647506752, 0.21854674114512043, 0.5154182720181928, 0.0, 1.181492952643814, 0.0, 0.600485153335549, 0.10345626513581253, 0.4148217528443603, 1.2436649134692055, 1.5298297557388973, 0.13747824985460178, 1.435622405939132, 0.3222772791868346, 2.0317011172321764, 0.1472292829414808, 1.6409080761938581, 0.12135031258247897, 1.0481480156524265], 80: [46.02526059354693, 42.77898492818488, 40.17485838429552, 30.87957216149664, 41.782158693758575, 32.1637130716383, 36.18072523563824, 30.538882875037107, 35.64111950135518, 29.090873721648432, 38.01885440869622, 48.8800850904424, 27.07625064373744, 41.55846030907428, 22.544363143867642, 34.93329440187305, 35.7300261109337, 34.31183835978391, 27.832586688982413, 33.54232785271176, 34.91968060036161, 38.38036452999285, 31.42538969122706, 43.86545641758451, 25.615243238139247, 35.37535753867962, 29.831680236908497, 47.97990919925602, 34.454937742539165, 41.41263037550824, 32.137817672581704, 36.21840360360428, 32.34933064496463, 47.08392128200184, 38.315633016627594], 81: [0.36722282388468297, 0.649807365997745, 0.721704042831656, 0.1734807424803182, 0.9495945157672403, 0.40372861596198706, 0.1884412772689492, 0.0, 0.7348684433269109, 0.4407708139643702, 0.9607652738659694, 0.0, 0.5525765437497436, 0.900996429465025, 0.0, 0.33059900064864084, 0.15740099608340835, 0.21854674114512043, 0.3436121813454619, 0.625012320236865, 0.26255398947640307, 0.31719309528919715, 1.0008085888925815, 1.3449314467655629, 0.10370543821109007, 1.7964048750110746, 0.19122871946736217, 0.8248694991276107, 1.2761088052792284, 1.127970477153921, 1.108200609399369, 0.736146414707404, 0.0, 0.4854012503299159, 0.8152262343963318], 82: [0.24481521592312197, 0.3249036829988725, 0.4811360285544374, 5.030941531929227, 0.18991890315344806, 3.2298289276958965, 0.0, 3.6140689792943324, 0.5511513324951832, 3.085395697750591, 3.2940523675404667, 0.14547644372155477, 3.315459262498462, 1.80199285893005, 2.7445311653404088, 0.771397668180162, 3.935024902085209, 0.21854674114512043, 4.982376629509197, 1.041687200394775, 3.6757558526696434, 0.31719309528919715, 5.604528097798457, 0.10345626513581253, 2.3852250788550715, 2.7636998077093455, 3.442116950412519, 0.13747824985460178, 2.7117312112183605, 0.0, 4.2481023360309145, 0.0, 3.9850624707565125, 0.12135031258247897, 3.3773658282133745], 83: [3.1825978070005854, 2.9241331469898526, 6.134484364069077, 5.377903016889864, 5.507648191449993, 3.498981338337221, 6.030120872606374, 5.4211034689414985, 7.1649673224373815, 4.113860930334122, 2.8822958215979084, 3.7823875367604236, 5.525765437497436, 4.730231254691382, 4.116796748010613, 4.0773876746665705, 4.722029882502251, 5.245121787482891, 4.638764448163736, 4.7917611218159655, 4.332140826360651, 4.440703334048759, 5.40436638001994, 4.965900726519002, 3.111163146332702, 2.3491448365529437, 5.736861584020865, 3.5744344962196464, 2.7117312112183605, 2.255940954307842, 5.171602843863722, 4.269649205302944, 5.3915551074941055, 3.397808752309411, 2.911522265701185], 84: [0.0, 1.7328196426606535, 1.8042601070791402, 1.734807424803182, 2.0891079346879287, 1.3457620532066235, 1.884412772689492, 0.5421103468941498, 1.6534539974855496, 0.7346180232739503, 0.9607652738659694, 1.745717324658657, 0.5525765437497436, 1.4641191978806656, 0.3920758807629155, 1.212196335711683, 0.47220298825022505, 1.5298271880158432, 1.0308365440363856, 2.2917118408685053, 0.39383098421460466, 2.0617551193797814, 1.200970306671098, 1.4483877119013755, 0.6222326292665404, 1.3818499038546728, 0.19122871946736217, 1.9246954979644249, 1.9141632079188426, 2.4170795939012595, 1.6623009140990537, 1.3250635464733274, 0.23441543945626545, 1.6989043761547056, 0.4658435625121896], 85: [0.0, 0.21660245533258168, 1.2028400713860934, 0.1734807424803182, 3.038702450455169, 0.0, 3.5803842681100346, 0.0, 5.144079103288377, 0.0, 0.0, 3.2004817618742045, 0.0, 1.80199285893005, 0.0, 2.2039933376576055, 0.15740099608340835, 3.2782011171768066, 0.17180609067273095, 2.50004928094746, 0.13127699473820154, 2.3789482146689784, 0.0, 3.517513014617626, 0.20741087642218015, 0.13818499038546728, 0.0, 1.7872172481098232, 0.15951360065990355, 1.2891091167473383, 0.369400203133123, 1.9139806782392506, 0.0, 2.3056559390671003, 0.1164608906280474], 86: [3.5498206308852684, 4.873555244983088, 3.247668192742452, 5.377903016889864, 1.3294323220741364, 3.902709954299208, 2.072854049958441, 3.7947724282590487, 1.2860197758220941, 3.9669373256793317, 3.019548003578761, 2.036670212101767, 5.157381074997607, 1.914617412613178, 6.273214092206648, 1.6529950032432041, 1.5740099608340836, 2.1854674114512043, 4.295152266818274, 1.4583620805526851, 3.6757558526696434, 1.5859654764459856, 5.604528097798457, 2.793319158666938, 3.9408066520214224, 4.974659653876822, 5.928090303488227, 2.612086747237434, 7.975680032995178, 1.4502477563407556, 4.432802437597476, 2.208439244122212, 5.15713966803784, 2.791057189397016, 4.076131171981659], 87: [0.0, 0.0, 0.0, 0.0, 0.0, 0.5383048212826493, 0.0, 0.0, 0.0, 0.0, 0.6862609099042639, 0.0, 0.0, 0.0, 0.0, 0.0, 0.15740099608340835, 0.21854674114512043, 0.0, 0.0, 0.0, 0.15859654764459857, 0.0, 0.0, 0.10370543821109007, 0.0, 0.0, 0.13747824985460178, 0.0, 0.0, 0.0, 0.0, 0.0, 0.12135031258247897, 0.0], 88: [2.2033369433080976, 4.7652540173167965, 0.721704042831656, 7.459671926653682, 0.3798378063068961, 5.786776828788481, 0.1884412772689492, 6.686027611694515, 0.0, 6.317715000155973, 4.8038263693298475, 0.5819057748862191, 6.446726343747009, 0.6757473220987688, 6.665289972969564, 0.44079866753152114, 4.8794308785856595, 0.43709348229024086, 4.982376629509197, 0.41667488015791004, 3.5444788579314417, 0.15859654764459857, 6.605336686691039, 0.20691253027162507, 4.770450157710143, 4.421919692334953, 7.0754626202924, 0.6873912492730089, 6.380544026396143, 0.3222772791868346, 7.203303961095899, 0.44168784882444245, 9.376617578250618, 0.7281018754948738, 5.240740078262133], 89: [0.6120380398078049, 0.10830122766629084, 0.12028400713860934, 0.1734807424803182, 0.18991890315344806, 0.13457620532066233, 0.3768825545378984, 0.3614068979294332, 0.0, 0.29384720930958014, 0.41175654594255834, 0.14547644372155477, 0.5525765437497436, 0.0, 0.5881138211443733, 0.0, 0.6296039843336334, 0.0, 1.0308365440363856, 0.0, 1.0502159579056123, 0.15859654764459857, 1.4011320244496142, 0.3103687954074376, 2.2815196406439817, 1.1054799230837382, 2.294744633608346, 0.0, 1.9141632079188426, 0.0, 1.6623009140990537, 0.1472292829414808, 1.8753235156501236, 0.4854012503299159, 2.4456787031889955], 90: [1.9585217273849758, 3.249036829988725, 3.0071001784652336, 6.939229699212728, 2.0891079346879287, 4.9793195968645065, 2.6381778817652886, 5.782510366870931, 1.8371711083172773, 5.436173372227232, 5.627339461214964, 1.1638115497724382, 6.815110706246838, 2.815613842078203, 7.253403794113937, 4.297787008432331, 5.8238368550861095, 4.152388081757288, 6.528631445563776, 4.375086241658056, 4.857248805313457, 3.4891240481811683, 7.806306993362137, 2.482950363259501, 3.5259848991770624, 4.283734701949486, 7.840377498161849, 1.6497389982552213, 5.5829760230966246, 4.18960462942885, 6.279803453263091, 3.827961356478501, 8.673371259881822, 2.1843056264846217, 7.453497000195034], 91: [2.3257445512696586, 4.332049106651634, 3.6085202141582804, 2.775691879685091, 6.457242707217234, 3.7681337489785456, 8.479857477102714, 2.5298482855060325, 7.1649673224373815, 3.673090116369752, 3.8430610954638778, 6.255487080026855, 2.9470748999986327, 4.16710848627574, 3.332644986484782, 5.730382677909774, 0.6296039843336334, 6.993495716643854, 1.5462548160545786, 6.458460642447606, 2.4942629000258294, 7.454037739296132, 2.401940613342196, 5.69009458246969, 0.6222326292665404, 3.04006978848028, 1.338601036271535, 4.67426049505646, 2.871244811878264, 5.96212966495644, 2.0317011172321764, 4.711337054127386, 0.9376617578250618, 5.096713128464117, 1.8633742500487585], 92: [0.9792608636924879, 0.9747110489966175, 2.766532164188015, 1.734807424803182, 3.038702450455169, 1.6149144638479482, 3.768825545378984, 1.0842206937882997, 2.9394737733076437, 1.7630832558574807, 1.9215305477319389, 3.3459582055957595, 1.8419218124991454, 4.054483932592612, 2.5484932249589507, 2.5345923383062465, 2.203613945167717, 6.119308752063373, 0.3436121813454619, 3.3333990412632803, 1.3127699473820156, 2.0617551193797814, 1.8014554600066468, 3.0002316889385634, 1.1407598203219909, 0.9672949326982709, 0.9561435973368108, 3.2994779965104426, 0.9570816039594213, 1.127970477153921, 2.4011013203652998, 2.7973563758881355, 1.4064926367375927, 3.0337578145619744, 0.9316871250243792], 93: [2.3257445512696586, 0.649807365997745, 4.570792271267155, 1.0408844548819092, 2.848783547301721, 1.4803382585272857, 3.768825545378984, 0.3614068979294332, 3.306907994971099, 1.0284652325835304, 0.6862609099042639, 3.05500531815265, 0.9209609062495727, 3.0408629494444592, 0.9801897019072888, 2.6447920051891267, 0.0, 4.152388081757288, 0.6872243626909238, 4.7917611218159655, 0.26255398947640307, 2.6961413099581755, 0.0, 2.482950363259501, 0.20741087642218015, 0.9672949326982709, 0.19122871946736217, 2.33713024752823, 0.15951360065990355, 2.7393568730880937, 0.5541003046996845, 2.7973563758881355, 0.23441543945626545, 4.125910627804285, 0.2329217812560948], 94: [28.398565047082148, 21.118739394926713, 31.51440987031565, 22.899458007402, 27.918078763556863, 21.666769056626638, 32.60034096752821, 19.877379386118825, 33.43651417137445, 18.659297791158338, 19.627062023261946, 31.859341175020493, 21.55048520624, 30.07075583339521, 21.95624932272327, 25.896921717476864, 17.786312557425145, 32.344917689477825, 20.61673088072771, 33.12565297255385, 22.97347407918527, 29.023168218961537, 22.81843582675086, 27.726279056397757, 19.600327821896023, 20.036823605892756, 22.18253145821401, 31.2075627169946, 24.884121702944956, 30.616341522749284, 23.64161300051987, 30.91814941771097, 21.331804990520155, 30.458928458202223, 20.730038531792438], 95: [2.5705597671927807, 2.59922946399098, 3.6085202141582804, 1.3878459398425456, 4.9378914819896496, 2.018643079809935, 4.7110319317237295, 1.0842206937882997, 5.144079103288377, 1.3223124418931107, 1.6470261837702334, 8.001204404685511, 1.8419218124991454, 4.6176067010082535, 1.1762276422887465, 2.9753910058377673, 0.0, 4.152388081757288, 1.0308365440363856, 5.208436001973875, 0.9189389631674109, 2.537544762313577, 1.0008085888925815, 3.6209692797534387, 0.8296435056887206, 0.8291099423128037, 0.0, 2.887043246946637, 0.6380544026396142, 1.4502477563407556, 0.738800406266246, 1.6195221123562888, 0.7032463183687964, 2.6697068768145376, 0.582304453140237], 96: [0.24481521592312197, 2.0577233256595258, 0.2405680142772187, 5.030941531929227, 0.18991890315344806, 3.6335575436578833, 0.3768825545378984, 4.517586224117915, 0.0, 3.5261665117149614, 4.392069823387288, 0.0, 2.762882718748718, 0.11262455368312813, 3.332644986484782, 0.22039933376576057, 3.935024902085209, 0.0, 2.920703541436426, 0.0, 2.1004319158112246, 0.0, 3.002425766677745, 0.10345626513581253, 2.1778142024328915, 1.7964048750110746, 2.485973353075708, 0.0, 1.9141632079188426, 0.1611386395934173, 2.4011013203652998, 0.0, 3.5162315918439817, 0.0, 4.541974734493849], 97: [0.12240760796156099, 3.357338057655016, 0.6014200356930467, 3.469614849606364, 0.7596756126137922, 4.9793195968645065, 0.0, 1.4456275917177328, 0.5511513324951832, 2.7915484884410113, 3.2940523675404667, 0.0, 2.9470748999986327, 0.3378736610493844, 3.136607046103324, 0.33059900064864084, 0.15740099608340835, 0.0, 1.5462548160545786, 0.20833744007895502, 1.181492952643814, 0.0, 1.6012937422281306, 0.20691253027162507, 2.4889305170661618, 1.1054799230837382, 0.7649148778694487, 0.0, 0.6380544026396142, 0.0, 0.369400203133123, 0.0, 0.23441543945626545, 0.0, 0.0], 98: [0.24481521592312197, 1.1913135043291991, 1.9245441142177495, 1.734807424803182, 1.5193512252275845, 0.8074572319239741, 0.0, 3.4333655303296156, 0.5511513324951832, 0.7346180232739503, 0.2745043639617055, 0.0, 0.18419218124991454, 0.11262455368312813, 1.1762276422887465, 0.44079866753152114, 2.3610149412511254, 0.43709348229024086, 2.748897450763695, 0.20833744007895502, 0.9189389631674109, 0.15859654764459857, 0.40032343555703265, 0.41382506054325013, 0.20741087642218015, 0.13818499038546728, 0.19122871946736217, 0.13747824985460178, 0.15951360065990355, 0.1611386395934173, 0.369400203133123, 0.1472292829414808, 0.4688308789125309, 1.0921528132423108, 0.4658435625121896], 99: [5.6307499662318055, 2.0577233256595258, 3.7288042212968895, 1.2143651973622274, 5.317729288296546, 0.6728810266033117, 4.52259065445478, 0.7228137958588664, 4.592927770793193, 0.7346180232739503, 1.235269637827675, 2.1821466558233213, 0.18419218124991454, 2.590364734711947, 0.5881138211443733, 1.4325956694774435, 0.3148019921668167, 1.0927337057256021, 0.3436121813454619, 1.8750369607105952, 0.39383098421460466, 1.7445620240905841, 0.0, 2.069125302716251, 0.5185271910554503, 0.13818499038546728, 0.19122871946736217, 0.8248694991276107, 0.3190272013198071, 0.6445545583736692, 0.0, 1.6195221123562888, 0.23441543945626545, 0.8494521880773528, 0.3493826718841422], 100: [1.7137065114618537, 0.8664098213303267, 1.082556064247484, 0.867403712401591, 0.3798378063068961, 0.8074572319239741, 0.5653238318068475, 0.3614068979294332, 0.7348684433269109, 0.5876944186191603, 0.0, 0.5819057748862191, 0.7367687249996582, 0.3378736610493844, 0.19603794038145775, 0.44079866753152114, 0.3148019921668167, 0.43709348229024086, 0.8590304533636547, 0.8333497603158201, 1.8378779263348217, 0.6343861905783943, 0.8006468711140653, 0.7241938559506877, 1.0370543821109006, 3.1782547788657474, 1.9122871946736215, 0.5499129994184071, 1.9141632079188426, 0.1611386395934173, 2.7705015234984227, 0.1472292829414808, 1.8753235156501236, 0.8494521880773528, 1.3975306875365687], 101: [7.589271693616781, 1.5162171873280716, 10.224140606781795, 0.6939229699212728, 9.116107351365507, 0.6728810266033117, 9.610505140716409, 0.5421103468941498, 10.47187531740848, 0.4407708139643702, 0.13725218198085276, 9.74692172934417, 0.5525765437497436, 10.136209831481532, 0.5881138211443733, 7.603777014918739, 0.15740099608340835, 11.582977280691383, 0.5154182720181928, 11.250221764263571, 0.6563849736910078, 8.088423929874526, 0.0, 6.310832173284564, 0.3111163146332702, 0.0, 0.5736861584020865, 8.798607990694514, 0.15951360065990355, 10.957427492352375, 0.369400203133123, 11.483884069435504, 0.23441543945626545, 10.072075944345755, 0.2329217812560948], 102: [0.36722282388468297, 1.0830122766629084, 0.9622720571088748, 0.3469614849606364, 1.7092701283810325, 0.8074572319239741, 1.3190889408826443, 0.1807034489647166, 1.1023026649903664, 0.29384720930958014, 1.098017455846822, 0.8728586623293285, 0.7367687249996582, 1.013620983148153, 0.19603794038145775, 0.8815973350630423, 0.7870049804170418, 0.6556402234353613, 0.0, 1.4583620805526851, 0.6563849736910078, 1.7445620240905841, 0.600485153335549, 1.4483877119013755, 2.3852250788550715, 1.52003489424014, 0.5736861584020865, 1.3747824985460178, 0.47854080197971066, 0.8056931979670865, 0.369400203133123, 0.736146414707404, 0.7032463183687964, 0.4854012503299159, 0.2329217812560948], 103: [20.564478137542245, 17.544798881939116, 14.193512842355902, 12.49061345858291, 18.42213360588446, 15.745416022517494, 17.336597508743324, 15.359793162000912, 16.35082286402377, 14.398513256169426, 17.84278365751086, 19.930272789853003, 15.287951043742908, 18.58305135771614, 13.526617886320585, 18.072745368792365, 18.573317537842186, 22.291767596802284, 17.180609067273096, 19.167044487263862, 17.328563305442604, 20.93474428908701, 15.812775704502789, 24.001853511508507, 12.859474338175168, 16.858568827027007, 15.298297557388972, 25.43347622310133, 16.11087366665026, 18.36980491364957, 17.915909851956467, 18.550889650626583, 18.284404277588706, 22.20710720259365, 20.1477340786522], 104: [29.98986395058244, 26.317198322908673, 32.95781795597896, 27.062995826929637, 34.3753214707741, 26.107783832208494, 34.484753740217705, 28.551144936425224, 37.845724831335914, 23.21392953545683, 22.78386220882156, 30.113623850361837, 23.57659919998906, 27.59301565236639, 22.152287263104725, 23.4725290460535, 23.767550408594662, 32.78201117176807, 22.678403968800485, 36.25071457373817, 19.691549210730233, 26.32702690900336, 21.81762723785828, 27.622822791261946, 17.31880818125204, 19.069528673194483, 23.329903775018185, 27.08321522135655, 22.4914176930464, 26.1044596141336, 20.87111147702145, 25.028978100051738, 22.503882187801484, 28.39597314430008, 24.340326141261908], 105: [1.5912989035002927, 0.0, 0.2405680142772187, 0.0, 0.0, 0.0, 0.0, 0.0, 0.0, 0.0, 0.0, 0.14547644372155477, 0.0, 0.0, 0.0, 0.0, 0.3148019921668167, 0.0, 0.0, 0.8333497603158201, 0.0, 0.0, 0.0, 0.3103687954074376, 0.0, 0.0, 0.0, 0.0, 0.0, 0.0, 0.0, 0.0, 0.0, 0.0, 0.0], 106: [29.86745634262088, 34.98129653621194, 31.75497788459287, 27.236476569409955, 30.956781214012032, 29.472188965225055, 31.658134581183464, 27.82833114056636, 34.35509972553309, 27.32779046579095, 29.920975671825904, 32.87767628107137, 29.470748999986327, 27.367766545000134, 28.229463414929917, 26.998918386305668, 26.443367342012603, 27.755436125430297, 28.176198870327873, 32.292303212238025, 29.274769826618947, 28.70597512367234, 27.622317053435253, 28.657385442620072, 20.429971327584745, 26.531518154009717, 28.3018504811696, 28.45799771990257, 23.927040098985533, 25.137627776573098, 26.227414422451734, 22.820538855929527, 24.848036582364138, 25.362215329738106, 25.97077861005457], 107: [0.6120380398078049, 5.19845892798196, 0.9622720571088748, 7.459671926653682, 0.0, 5.921353034109143, 0.0, 5.059696571012065, 0.7348684433269109, 3.5261665117149614, 3.156800185559614, 0.8728586623293285, 4.420612349997949, 0.5631227684156406, 4.312834688392071, 0.33059900064864084, 2.9906189255847586, 0.0, 2.920703541436426, 0.0, 1.3127699473820156, 2.537544762313577, 3.4027492022347774, 0.20691253027162507, 1.7629924495885312, 2.3491448365529437, 4.780717986684054, 3.161999746655841, 3.509299214517878, 0.1611386395934173, 3.5093019297646686, 0.44168784882444245, 4.219477910212778, 2.4270062516495794, 3.260904937585327], 108: [1.8361141194234147, 4.656952789650506, 0.4811360285544374, 8.500556381535592, 0.18991890315344806, 9.68948678308769, 0.7537651090757967, 8.49306210134168, 0.5511513324951832, 7.6400274420490835, 7.548870008946903, 0.7273822186077739, 9.209609062495726, 0.3378736610493844, 9.801897019072888, 0.9917970019459225, 8.184851796337234, 0.21854674114512043, 8.762110624309278, 0.625012320236865, 7.482788700077489, 0.47578964293379566, 9.807924171147299, 0.6207375908148752, 5.600093663398864, 5.941954586575093, 8.605292376031297, 0.6873912492730089, 6.859084828375853, 0.3222772791868346, 7.757404265795583, 0.2944585658829616, 9.611033017706884, 0.9708025006598318, 6.987653437682844], 109: [0.6120380398078049, 0.5415061383314542, 0.12028400713860934, 0.3469614849606364, 0.0, 0.6728810266033117, 0.0, 0.3614068979294332, 0.0, 0.29384720930958014, 0.41175654594255834, 0.0, 0.3683843624998291, 0.0, 1.7643414634331198, 0.0, 1.1018069725838584, 0.0, 0.8590304533636547, 0.0, 0.7876619684292093, 0.0, 2.001617177785163, 0.0, 0.20741087642218015, 0.8291099423128037, 1.338601036271535, 0.13747824985460178, 1.435622405939132, 0.0, 0.369400203133123, 0.0, 1.1720771972813273, 0.12135031258247897, 1.164608906280474]}, 'long_mean_replays_all_frs': {2: [0.0, 0.0, 4.36062960425329, 5.747192793081509, 0.0, 4.074105131242254, 0.0, 0.0, 0.0, 0.0, 0.0, 15.193512239510865, 0.0, 0.0, 0.0, 0.0, 0.0, 21.629302331859368, 0.0, 0.0, 0.0, 0.0, 0.0, 0.0, 0.0, 0.0, 0.0, 5.2058371987953675, 0.0, 0.0, 0.0, 7.587017831248862, 0.0, 0.0, 0.0], 3: [0.0, 0.0, 0.0, 0.0, 0.0, 0.0, 0.0, 0.0, 0.0, 0.0, 0.0, 0.0, 0.0, 0.0, 0.0, 0.0, 0.0, 0.0, 0.0, 0.0, 0.0, 0.0, 0.0, 0.0, 0.0, 0.0, 0.0, 0.0, 0.0, 0.0, 0.0, 0.0, 7.719255398225588, 16.555422758789422, 0.0], 4: [0.0, 0.0, 0.0, 0.0, 0.0, 0.0, 0.0, 0.0, 0.0, 0.0, 0.0, 0.0, 0.0, 0.0, 0.0, 0.0, 0.0, 0.0, 0.0, 0.0, 0.0, 0.0, 0.0, 0.0, 0.0, 0.0, 0.0, 0.0, 0.0, 0.0, 0.0, 0.0, 0.0, 0.0, 0.0], 5: [0.0, 7.469504352803763, 0.0, 0.0, 9.479353525546681, 0.0, 0.0, 10.034556110974737, 0.0, 0.0, 6.416735657682824, 0.0, 6.276313506462164, 5.6172735078294105, 0.0, 29.15448157405438, 45.57521875671377, 10.814651165929684, 4.679042692648143, 0.0, 0.0, 0.0, 4.726600841724659, 8.453992989814932, 0.0, 0.0, 0.0, 0.0, 30.489010257869577, 0.0, 0.0, 0.0, 0.0, 0.0, 0.0], 6: [91.20557817216077, 141.9205827032715, 170.06455456587835, 189.6573621716898, 161.1490099342936, 158.8901001184479, 134.83783209075733, 80.2764488877979, 111.45593840768194, 137.14934966850592, 118.70960966713224, 159.53187851486408, 116.11179986955003, 129.19729068007646, 142.20712620369585, 98.6767068660302, 125.33185158096286, 151.4051163230156, 140.37128077944428, 147.96409087018526, 126.82636363769244, 79.98058978899495, 146.52462609346443, 84.53992989814932, 193.09706519496612, 158.82052923307344, 122.5606174633917, 171.79262756024713, 121.9560410314783, 153.03203477723628, 100.94652581525827, 159.32737445622612, 100.35032017693264, 144.85994913940743, 93.05030967411356], 7: [0.0, 0.0, 0.0, 0.0, 9.479353525546681, 0.0, 0.0, 0.0, 0.0, 0.0, 0.0, 0.0, 0.0, 0.0, 0.0, 0.0, 0.0, 0.0, 0.0, 0.0, 0.0, 0.0, 0.0, 0.0, 0.0, 0.0, 4.902424698535667, 0.0, 0.0, 0.0, 3.154578931726821, 0.0, 38.596276991127944, 12.416567069092068, 0.0], 8: [0.0, 0.0, 0.0, 5.747192793081509, 0.0, 0.0, 0.0, 0.0, 0.0, 0.0, 0.0, 0.0, 0.0, 16.851820523488232, 0.0, 2.2426524287734138, 0.0, 0.0, 0.0, 0.0, 0.0, 0.0, 0.0, 0.0, 0.0, 0.0, 0.0, 0.0, 0.0, 0.0, 0.0, 0.0, 0.0, 0.0, 0.0], 9: [16.582832394938322, 0.0, 0.0, 0.0, 0.0, 0.0, 0.0, 20.069112221949474, 13.931992300960243, 0.0, 0.0, 0.0, 0.0, 5.6172735078294105, 0.0, 6.727957286320241, 0.0, 0.0, 0.0, 0.0, 0.0, 0.0, 0.0, 0.0, 0.0, 0.0, 9.804849397071335, 0.0, 0.0, 65.58515776167269, 0.0, 3.793508915624431, 0.0, 0.0, 0.0], 10: [4.1457080987345805, 0.0, 0.0, 22.988771172326036, 0.0, 20.370525656211267, 0.0, 0.0, 0.0, 23.852060811914075, 12.833471315365648, 0.0, 0.0, 0.0, 17.77589077546198, 0.0, 0.0, 10.814651165929684, 0.0, 0.0, 0.0, 0.0, 14.179802525173978, 0.0, 0.0, 0.0, 14.707274095607003, 0.0, 0.0, 0.0, 12.618315726907284, 3.793508915624431, 0.0, 8.277711379394711, 0.0], 11: [8.291416197469161, 7.469504352803763, 0.0, 0.0, 18.958707051093363, 0.0, 0.0, 0.0, 6.965996150480121, 0.0, 0.0, 0.0, 0.0, 11.234547015658821, 0.0, 0.0, 0.0, 0.0, 0.0, 0.0, 0.0, 0.0, 0.0, 0.0, 0.0, 0.0, 0.0, 0.0, 0.0, 10.930859626945448, 0.0, 0.0, 0.0, 0.0, 7.754192472842797], 12: [95.35128627089536, 119.5120696448602, 113.37636971058556, 57.47192793081509, 113.75224230656018, 85.55620775608733, 101.12837406806798, 120.41467333169685, 83.59195380576145, 77.51919763872074, 77.00082789219388, 91.16107343706518, 87.86838909047029, 73.02455560178234, 66.65959040798242, 74.00753014952265, 102.54424220260597, 97.33186049336716, 79.54372577501843, 77.50499997962085, 131.5236363650144, 186.62137617432154, 99.25861767621785, 54.95095443379706, 121.95604117576808, 91.62722840369622, 83.34121987510635, 72.88172078313514, 111.79303761218844, 65.58515776167269, 82.01905222489734, 106.21824963748408, 61.754043185804704, 82.77711379394711, 69.78773225558517], 13: [4.1457080987345805, 0.0, 0.0, 0.0, 9.479353525546681, 0.0, 0.0, 0.0, 0.0, 0.0, 0.0, 0.0, 0.0, 0.0, 0.0, 0.0, 0.0, 0.0, 0.0, 0.0, 0.0, 0.0, 0.0, 0.0, 0.0, 0.0, 0.0, 0.0, 0.0, 0.0, 0.0, 0.0, 0.0, 0.0, 0.0], 14: [4.1457080987345805, 0.0, 0.0, 0.0, 28.438060576640044, 4.074105131242254, 0.0, 0.0, 13.931992300960243, 5.963015202978519, 12.833471315365648, 0.0, 0.0, 0.0, 0.0, 0.0, 11.393804689178442, 0.0, 0.0, 7.04590908905644, 9.394545454643884, 0.0, 9.453201683449318, 4.226996494907466, 0.0, 0.0, 0.0, 0.0, 0.0, 0.0, 3.154578931726821, 0.0, 7.719255398225588, 8.277711379394711, 15.508384945685593], 15: [0.0, 0.0, 0.0, 0.0, 0.0, 0.0, 0.0, 0.0, 0.0, 0.0, 3.208367828841412, 0.0, 0.0, 0.0, 0.0, 0.0, 0.0, 0.0, 0.0, 0.0, 0.0, 0.0, 4.726600841724659, 0.0, 0.0, 0.0, 0.0, 0.0, 0.0, 0.0, 3.154578931726821, 0.0, 15.438510796451176, 8.277711379394711, 0.0], 16: [8.291416197469161, 22.408513058411287, 0.0, 17.241578379244526, 28.438060576640044, 0.0, 11.23648600756311, 40.13822444389895, 13.931992300960243, 0.0, 6.416735657682824, 7.596756119755432, 0.0, 11.234547015658821, 0.0, 0.0, 34.18141406753532, 0.0, 18.716170770592573, 0.0, 0.0, 0.0, 0.0, 12.6809894847224, 0.0, 0.0, 0.0, 5.2058371987953675, 30.489010257869577, 0.0, 0.0, 3.793508915624431, 0.0, 0.0, 31.016769891371187], 17: [0.0, 0.0, 0.0, 22.988771172326036, 9.479353525546681, 0.0, 0.0, 0.0, 6.965996150480121, 0.0, 0.0, 0.0, 6.276313506462164, 0.0, 0.0, 6.727957286320241, 11.393804689178442, 0.0, 0.0, 0.0, 0.0, 0.0, 0.0, 4.226996494907466, 0.0, 0.0, 0.0, 0.0, 0.0, 0.0, 0.0, 3.793508915624431, 0.0, 0.0, 0.0], 18: [4.1457080987345805, 0.0, 0.0, 5.747192793081509, 0.0, 4.074105131242254, 0.0, 0.0, 0.0, 0.0, 0.0, 0.0, 0.0, 0.0, 8.88794538773099, 0.0, 0.0, 10.814651165929684, 0.0, 7.04590908905644, 0.0, 0.0, 0.0, 33.81597195925973, 0.0, 6.108481893579748, 0.0, 0.0, 0.0, 21.861719253890897, 15.772894658634103, 0.0, 15.438510796451176, 0.0, 0.0], 19: [4.1457080987345805, 0.0, 0.0, 0.0, 9.479353525546681, 0.0, 0.0, 0.0, 20.897988451440362, 0.0, 3.208367828841412, 0.0, 0.0, 16.851820523488232, 0.0, 0.0, 0.0, 0.0, 0.0, 0.0, 0.0, 0.0, 0.0, 0.0, 0.0, 0.0, 0.0, 0.0, 0.0, 0.0, 0.0, 0.0, 0.0, 0.0, 23.26257741852839], 20: [37.311372888611224, 74.69504352803763, 52.32755525103949, 40.23034955157056, 66.35547467882677, 48.889261574907046, 56.18243003781555, 40.13822444389895, 41.795976902880724, 35.778091217871115, 48.12551743262118, 75.96756119755432, 37.657881038772985, 56.17273507829411, 57.771645020251434, 40.36774371792145, 45.57521875671377, 32.44395349778905, 56.148512311777715, 56.36727271245152, 46.97272727321943, 53.320393192663296, 28.359605050347955, 29.588975464352263, 132.1190446070821, 42.759373255058236, 44.12182228682101, 93.70506957831661, 71.14102393502901, 32.792578880836345, 25.236631453814567, 37.93508915624431, 23.157766194676764, 41.388556896973554, 77.54192472842797], 21: [4.1457080987345805, 0.0, 0.0, 0.0, 9.479353525546681, 0.0, 0.0, 0.0, 0.0, 0.0, 0.0, 0.0, 0.0, 0.0, 0.0, 0.0, 0.0, 0.0, 0.0, 0.0, 0.0, 0.0, 0.0, 0.0, 0.0, 0.0, 4.902424698535667, 0.0, 10.16300341928986, 0.0, 0.0, 0.0, 0.0, 0.0, 0.0], 22: [0.0, 0.0, 13.081888812759873, 5.747192793081509, 18.958707051093363, 0.0, 0.0, 0.0, 6.965996150480121, 0.0, 0.0, 0.0, 6.276313506462164, 11.234547015658821, 0.0, 6.727957286320241, 0.0, 0.0, 9.358085385296286, 0.0, 0.0, 0.0, 0.0, 0.0, 50.81501715657003, 12.216963787159496, 4.902424698535667, 0.0, 0.0, 10.930859626945448, 0.0, 7.587017831248862, 0.0, 4.138855689697356, 7.754192472842797], 23: [8.291416197469161, 0.0, 0.0, 0.0, 0.0, 0.0, 0.0, 0.0, 0.0, 0.0, 0.0, 0.0, 3.138156753231082, 0.0, 0.0, 4.4853048575468275, 0.0, 0.0, 0.0, 0.0, 0.0, 0.0, 0.0, 0.0, 0.0, 0.0, 0.0, 0.0, 0.0, 0.0, 0.0, 0.0, 0.0, 0.0, 0.0], 24: [0.0, 0.0, 0.0, 0.0, 0.0, 0.0, 0.0, 0.0, 0.0, 0.0, 0.0, 0.0, 0.0, 0.0, 0.0, 0.0, 0.0, 0.0, 0.0, 0.0, 0.0, 0.0, 0.0, 0.0, 0.0, 0.0, 0.0, 0.0, 0.0, 0.0, 0.0, 0.0, 0.0, 0.0, 0.0], 25: [4.1457080987345805, 0.0, 0.0, 0.0, 0.0, 0.0, 0.0, 0.0, 0.0, 0.0, 0.0, 0.0, 0.0, 0.0, 0.0, 2.2426524287734138, 0.0, 0.0, 0.0, 0.0, 0.0, 0.0, 0.0, 0.0, 0.0, 0.0, 0.0, 0.0, 0.0, 0.0, 0.0, 0.0, 0.0, 0.0, 0.0], 26: [0.0, 0.0, 4.36062960425329, 0.0, 0.0, 0.0, 0.0, 0.0, 0.0, 0.0, 0.0, 0.0, 6.276313506462164, 0.0, 0.0, 4.4853048575468275, 0.0, 0.0, 0.0, 0.0, 0.0, 0.0, 0.0, 0.0, 0.0, 12.216963787159496, 0.0, 0.0, 0.0, 0.0, 0.0, 0.0, 0.0, 0.0, 0.0], 27: [4.1457080987345805, 0.0, 0.0, 0.0, 18.958707051093363, 4.074105131242254, 0.0, 10.034556110974737, 0.0, 5.963015202978519, 9.625103486524235, 0.0, 0.0, 11.234547015658821, 4.443972693865495, 0.0, 0.0, 0.0, 0.0, 0.0, 0.0, 0.0, 0.0, 0.0, 0.0, 0.0, 0.0, 0.0, 0.0, 10.930859626945448, 0.0, 0.0, 7.719255398225588, 0.0, 23.26257741852839], 28: [0.0, 0.0, 0.0, 0.0, 0.0, 0.0, 0.0, 0.0, 6.965996150480121, 0.0, 0.0, 0.0, 0.0, 0.0, 0.0, 0.0, 0.0, 0.0, 0.0, 0.0, 0.0, 0.0, 0.0, 0.0, 0.0, 0.0, 0.0, 0.0, 0.0, 0.0, 3.154578931726821, 0.0, 0.0, 0.0, 0.0], 29: [20.728540493672902, 22.408513058411287, 26.163777625519746, 40.23034955157056, 18.958707051093363, 28.518735918695775, 44.94594403025244, 30.10366833292421, 27.863984601920485, 23.852060811914075, 22.458574801889885, 22.790268359266296, 21.967097272617572, 39.320914554805874, 39.99575424478945, 11.213262143867068, 11.393804689178442, 21.629302331859368, 28.074256155888857, 42.27545453433864, 32.8809090912536, 26.660196596331648, 37.812806733797274, 8.453992989814932, 20.326006862628013, 24.433927574318993, 24.512123492678338, 26.02918599397684, 20.32600683857972, 10.930859626945448, 15.772894658634103, 26.55456240937102, 38.596276991127944, 41.388556896973554, 31.016769891371187], 30: [4.1457080987345805, 7.469504352803763, 4.36062960425329, 0.0, 0.0, 0.0, 0.0, 10.034556110974737, 27.863984601920485, 5.963015202978519, 0.0, 15.193512239510865, 3.138156753231082, 5.6172735078294105, 4.443972693865495, 2.2426524287734138, 11.393804689178442, 0.0, 0.0, 0.0, 0.0, 0.0, 4.726600841724659, 38.042968454167195, 0.0, 6.108481893579748, 0.0, 0.0, 0.0, 32.792578880836345, 3.154578931726821, 0.0, 15.438510796451176, 0.0, 7.754192472842797], 31: [8.291416197469161, 0.0, 13.081888812759873, 0.0, 0.0, 16.296420524969015, 11.23648600756311, 10.034556110974737, 0.0, 17.889045608935557, 6.416735657682824, 0.0, 0.0, 0.0, 8.88794538773099, 0.0, 0.0, 0.0, 0.0, 7.04590908905644, 0.0, 0.0, 14.179802525173978, 0.0, 10.163003431314007, 36.65089136147849, 14.707274095607003, 0.0, 0.0, 0.0, 9.463736795180463, 3.793508915624431, 23.157766194676764, 8.277711379394711, 0.0], 32: [8.291416197469161, 0.0, 0.0, 0.0, 9.479353525546681, 0.0, 11.23648600756311, 0.0, 0.0, 5.963015202978519, 3.208367828841412, 0.0, 12.552627012924328, 0.0, 0.0, 6.727957286320241, 0.0, 0.0, 0.0, 0.0, 4.697272727321942, 0.0, 4.726600841724659, 16.907985979629863, 10.163003431314007, 6.108481893579748, 14.707274095607003, 10.411674397590735, 10.16300341928986, 10.930859626945448, 6.309157863453642, 0.0, 0.0, 12.416567069092068, 0.0], 33: [0.0, 7.469504352803763, 4.36062960425329, 0.0, 0.0, 8.148210262484508, 0.0, 0.0, 0.0, 11.926030405957038, 6.416735657682824, 0.0, 0.0, 0.0, 8.88794538773099, 0.0, 0.0, 0.0, 0.0, 0.0, 4.697272727321942, 26.660196596331648, 0.0, 0.0, 10.163003431314007, 0.0, 4.902424698535667, 0.0, 0.0, 0.0, 3.154578931726821, 0.0, 0.0, 4.138855689697356, 0.0], 34: [16.582832394938322, 7.469504352803763, 0.0, 5.747192793081509, 0.0, 0.0, 0.0, 0.0, 0.0, 0.0, 0.0, 0.0, 0.0, 0.0, 0.0, 0.0, 0.0, 0.0, 0.0, 0.0, 0.0, 0.0, 0.0, 0.0, 0.0, 0.0, 0.0, 0.0, 0.0, 0.0, 0.0, 0.0, 0.0, 0.0, 0.0], 35: [0.0, 0.0, 0.0, 0.0, 28.438060576640044, 0.0, 22.47297201512622, 20.069112221949474, 20.897988451440362, 0.0, 9.625103486524235, 0.0, 6.276313506462164, 0.0, 0.0, 2.2426524287734138, 45.57521875671377, 0.0, 9.358085385296286, 0.0, 4.697272727321942, 0.0, 0.0, 16.907985979629863, 0.0, 0.0, 4.902424698535667, 0.0, 20.32600683857972, 0.0, 0.0, 0.0, 0.0, 0.0, 7.754192472842797], 36: [16.582832394938322, 0.0, 8.72125920850658, 0.0, 18.958707051093363, 0.0, 11.23648600756311, 20.069112221949474, 34.82998075240061, 0.0, 0.0, 0.0, 0.0, 0.0, 0.0, 4.4853048575468275, 0.0, 0.0, 0.0, 0.0, 0.0, 0.0, 0.0, 4.226996494907466, 0.0, 0.0, 9.804849397071335, 0.0, 0.0, 32.792578880836345, 0.0, 0.0, 0.0, 0.0, 31.016769891371187], 37: [0.0, 7.469504352803763, 0.0, 0.0, 9.479353525546681, 0.0, 11.23648600756311, 10.034556110974737, 0.0, 0.0, 0.0, 0.0, 3.138156753231082, 0.0, 0.0, 0.0, 0.0, 0.0, 0.0, 0.0, 0.0, 0.0, 0.0, 0.0, 0.0, 0.0, 0.0, 0.0, 0.0, 10.930859626945448, 0.0, 0.0, 0.0, 0.0, 0.0], 38: [4.1457080987345805, 0.0, 4.36062960425329, 5.747192793081509, 37.917414102186726, 0.0, 0.0, 10.034556110974737, 13.931992300960243, 5.963015202978519, 6.416735657682824, 0.0, 0.0, 5.6172735078294105, 0.0, 2.2426524287734138, 0.0, 0.0, 4.679042692648143, 7.04590908905644, 9.394545454643884, 0.0, 0.0, 0.0, 0.0, 0.0, 4.902424698535667, 0.0, 0.0, 0.0, 3.154578931726821, 7.587017831248862, 0.0, 0.0, 15.508384945685593], 39: [0.0, 0.0, 13.081888812759873, 5.747192793081509, 9.479353525546681, 8.148210262484508, 11.23648600756311, 0.0, 0.0, 0.0, 6.416735657682824, 0.0, 0.0, 11.234547015658821, 4.443972693865495, 6.727957286320241, 0.0, 0.0, 9.358085385296286, 14.09181817811288, 0.0, 0.0, 9.453201683449318, 0.0, 0.0, 6.108481893579748, 0.0, 5.2058371987953675, 0.0, 21.861719253890897, 3.154578931726821, 0.0, 15.438510796451176, 12.416567069092068, 0.0], 40: [62.18562148101871, 89.63405223364515, 100.2944808978257, 91.95508468930414, 104.27288878101349, 77.40799749360282, 89.89188806050488, 100.34556110974736, 69.65996150480122, 59.63015202978519, 64.16735657682824, 98.75782955682062, 75.31576207754597, 44.938188062635284, 66.65959040798242, 69.52222529197583, 102.54424220260597, 64.8879069955781, 84.22276846766657, 105.68863633584661, 108.03727272840467, 159.9611795779899, 80.35221430931921, 46.49696144398213, 91.46703088182606, 61.084818935797486, 44.12182228682101, 57.26420918674904, 60.97802051573915, 76.51601738861814, 50.473262907629135, 53.10912481874204, 46.31553238935353, 53.80512396606562, 69.78773225558517], 41: [0.0, 7.469504352803763, 13.081888812759873, 17.241578379244526, 0.0, 0.0, 22.47297201512622, 30.10366833292421, 6.965996150480121, 0.0, 6.416735657682824, 0.0, 6.276313506462164, 0.0, 8.88794538773099, 6.727957286320241, 34.18141406753532, 10.814651165929684, 4.679042692648143, 0.0, 0.0, 0.0, 0.0, 4.226996494907466, 10.163003431314007, 6.108481893579748, 0.0, 15.617511596386102, 20.32600683857972, 0.0, 0.0, 11.380526746873294, 0.0, 0.0, 0.0], 42: [20.728540493672902, 37.347521764018815, 21.803148021266455, 34.48315675848905, 47.396767627733404, 16.296420524969015, 44.94594403025244, 60.20733666584842, 20.897988451440362, 47.70412162382815, 28.875310459572706, 37.98378059877716, 37.657881038772985, 28.086367539147055, 44.43972693865495, 42.61039614669486, 34.18141406753532, 32.44395349778905, 42.111384233833284, 7.04590908905644, 37.57818181857554, 106.64078638532659, 23.633004208623298, 16.907985979629863, 30.48901029394202, 48.867855148637986, 19.60969879414267, 46.852534789158305, 0.0, 0.0, 31.545789317268206, 53.10912481874204, 23.157766194676764, 33.110845517578845, 38.770962364213986], 43: [16.582832394938322, 0.0, 0.0, 0.0, 9.479353525546681, 4.074105131242254, 0.0, 10.034556110974737, 6.965996150480121, 11.926030405957038, 6.416735657682824, 0.0, 3.138156753231082, 5.6172735078294105, 0.0, 0.0, 11.393804689178442, 0.0, 0.0, 14.09181817811288, 0.0, 0.0, 4.726600841724659, 4.226996494907466, 0.0, 0.0, 0.0, 0.0, 0.0, 10.930859626945448, 9.463736795180463, 0.0, 0.0, 0.0, 0.0], 44: [0.0, 0.0, 4.36062960425329, 11.494385586163018, 0.0, 4.074105131242254, 0.0, 0.0, 0.0, 0.0, 0.0, 0.0, 0.0, 0.0, 4.443972693865495, 0.0, 0.0, 0.0, 4.679042692648143, 0.0, 9.394545454643884, 26.660196596331648, 0.0, 4.226996494907466, 10.163003431314007, 0.0, 4.902424698535667, 5.2058371987953675, 0.0, 10.930859626945448, 3.154578931726821, 0.0, 0.0, 16.555422758789422, 0.0], 45: [0.0, 0.0, 4.36062960425329, 0.0, 0.0, 4.074105131242254, 0.0, 0.0, 6.965996150480121, 0.0, 9.625103486524235, 0.0, 0.0, 5.6172735078294105, 4.443972693865495, 4.4853048575468275, 0.0, 0.0, 0.0, 0.0, 4.697272727321942, 0.0, 9.453201683449318, 0.0, 0.0, 0.0, 9.804849397071335, 0.0, 0.0, 0.0, 15.772894658634103, 0.0, 30.877021592902352, 8.277711379394711, 0.0], 46: [4.1457080987345805, 7.469504352803763, 4.36062960425329, 0.0, 0.0, 4.074105131242254, 0.0, 10.034556110974737, 0.0, 0.0, 0.0, 0.0, 0.0, 5.6172735078294105, 4.443972693865495, 2.2426524287734138, 0.0, 0.0, 9.358085385296286, 7.04590908905644, 0.0, 0.0, 9.453201683449318, 0.0, 0.0, 6.108481893579748, 4.902424698535667, 0.0, 0.0, 10.930859626945448, 0.0, 0.0, 0.0, 4.138855689697356, 0.0], 47: [16.582832394938322, 0.0, 8.72125920850658, 0.0, 9.479353525546681, 16.296420524969015, 22.47297201512622, 0.0, 6.965996150480121, 11.926030405957038, 3.208367828841412, 30.38702447902173, 9.414470259693246, 22.469094031317642, 22.219863469327475, 17.94121943018731, 0.0, 10.814651165929684, 0.0, 21.13772726716932, 14.091818181965827, 0.0, 4.726600841724659, 50.7239579388896, 30.48901029394202, 6.108481893579748, 9.804849397071335, 5.2058371987953675, 0.0, 43.72343850778179, 44.16410504417549, 18.967544578122155, 46.31553238935353, 16.555422758789422, 7.754192472842797], 48: [16.582832394938322, 14.939008705607526, 17.44251841701316, 5.747192793081509, 47.396767627733404, 0.0, 33.70945802268933, 50.17278055487368, 13.931992300960243, 0.0, 3.208367828841412, 0.0, 6.276313506462164, 11.234547015658821, 4.443972693865495, 8.970609715093655, 11.393804689178442, 0.0, 18.716170770592573, 7.04590908905644, 0.0, 0.0, 0.0, 12.6809894847224, 0.0, 0.0, 19.60969879414267, 0.0, 10.16300341928986, 0.0, 0.0, 0.0, 7.719255398225588, 0.0, 15.508384945685593], 49: [0.0, 0.0, 8.72125920850658, 0.0, 0.0, 16.296420524969015, 0.0, 0.0, 0.0, 23.852060811914075, 16.04183914420706, 0.0, 0.0, 0.0, 22.219863469327475, 0.0, 0.0, 0.0, 18.716170770592573, 49.32136362339509, 18.78909090928777, 0.0, 33.08620589207261, 0.0, 0.0, 24.433927574318993, 19.60969879414267, 0.0, 0.0, 0.0, 22.082052522087746, 0.0, 38.596276991127944, 16.555422758789422, 0.0], 50: [0.0, 0.0, 21.803148021266455, 0.0, 0.0, 20.370525656211267, 0.0, 0.0, 0.0, 11.926030405957038, 12.833471315365648, 0.0, 3.138156753231082, 0.0, 13.331918081596484, 2.2426524287734138, 0.0, 0.0, 9.358085385296286, 21.13772726716932, 0.0, 0.0, 18.906403366898637, 0.0, 30.48901029394202, 18.325445680739247, 14.707274095607003, 15.617511596386102, 0.0, 0.0, 9.463736795180463, 0.0, 23.157766194676764, 12.416567069092068, 0.0], 51: [12.437124296203741, 7.469504352803763, 0.0, 0.0, 9.479353525546681, 0.0, 0.0, 0.0, 20.897988451440362, 0.0, 6.416735657682824, 7.596756119755432, 0.0, 0.0, 4.443972693865495, 0.0, 0.0, 0.0, 0.0, 0.0, 0.0, 0.0, 0.0, 0.0, 0.0, 0.0, 0.0, 0.0, 0.0, 0.0, 3.154578931726821, 0.0, 0.0, 0.0, 7.754192472842797], 52: [0.0, 0.0, 0.0, 0.0, 0.0, 0.0, 0.0, 0.0, 13.931992300960243, 0.0, 0.0, 0.0, 0.0, 0.0, 0.0, 0.0, 0.0, 0.0, 0.0, 0.0, 0.0, 0.0, 0.0, 4.226996494907466, 0.0, 0.0, 0.0, 0.0, 0.0, 0.0, 0.0, 0.0, 15.438510796451176, 0.0, 7.754192472842797], 53: [0.0, 14.939008705607526, 4.36062960425329, 5.747192793081509, 0.0, 4.074105131242254, 33.70945802268933, 20.069112221949474, 6.965996150480121, 0.0, 0.0, 0.0, 9.414470259693246, 5.6172735078294105, 0.0, 2.2426524287734138, 34.18141406753532, 10.814651165929684, 0.0, 0.0, 0.0, 0.0, 0.0, 0.0, 0.0, 0.0, 0.0, 5.2058371987953675, 10.16300341928986, 0.0, 0.0, 0.0, 0.0, 0.0, 0.0], 54: [0.0, 0.0, 0.0, 0.0, 0.0, 0.0, 0.0, 0.0, 0.0, 0.0, 0.0, 0.0, 6.276313506462164, 0.0, 0.0, 8.970609715093655, 0.0, 0.0, 4.679042692648143, 0.0, 4.697272727321942, 0.0, 0.0, 0.0, 0.0, 0.0, 0.0, 5.2058371987953675, 0.0, 0.0, 0.0, 0.0, 0.0, 4.138855689697356, 0.0], 55: [0.0, 7.469504352803763, 0.0, 0.0, 9.479353525546681, 4.074105131242254, 0.0, 0.0, 0.0, 11.926030405957038, 3.208367828841412, 0.0, 12.552627012924328, 5.6172735078294105, 13.331918081596484, 6.727957286320241, 0.0, 0.0, 0.0, 0.0, 0.0, 0.0, 0.0, 4.226996494907466, 0.0, 0.0, 0.0, 0.0, 0.0, 0.0, 0.0, 0.0, 0.0, 0.0, 15.508384945685593], 56: [0.0, 7.469504352803763, 8.72125920850658, 0.0, 0.0, 0.0, 0.0, 10.034556110974737, 0.0, 0.0, 0.0, 0.0, 0.0, 0.0, 0.0, 2.2426524287734138, 0.0, 0.0, 4.679042692648143, 0.0, 0.0, 0.0, 0.0, 0.0, 0.0, 0.0, 0.0, 0.0, 0.0, 0.0, 0.0, 0.0, 0.0, 0.0, 0.0], 57: [8.291416197469161, 0.0, 0.0, 0.0, 0.0, 4.074105131242254, 11.23648600756311, 0.0, 6.965996150480121, 0.0, 6.416735657682824, 0.0, 0.0, 5.6172735078294105, 0.0, 0.0, 0.0, 0.0, 0.0, 0.0, 9.394545454643884, 26.660196596331648, 0.0, 0.0, 0.0, 0.0, 14.707274095607003, 0.0, 0.0, 10.930859626945448, 0.0, 0.0, 0.0, 0.0, 0.0], 58: [12.437124296203741, 0.0, 0.0, 5.747192793081509, 0.0, 0.0, 0.0, 0.0, 0.0, 0.0, 0.0, 0.0, 0.0, 0.0, 0.0, 2.2426524287734138, 0.0, 0.0, 0.0, 0.0, 0.0, 0.0, 0.0, 0.0, 0.0, 0.0, 0.0, 0.0, 0.0, 10.930859626945448, 3.154578931726821, 0.0, 0.0, 0.0, 0.0], 59: [4.1457080987345805, 14.939008705607526, 13.081888812759873, 0.0, 28.438060576640044, 0.0, 56.18243003781555, 20.069112221949474, 6.965996150480121, 0.0, 3.208367828841412, 0.0, 12.552627012924328, 0.0, 0.0, 4.4853048575468275, 0.0, 0.0, 9.358085385296286, 0.0, 0.0, 0.0, 0.0, 4.226996494907466, 0.0, 0.0, 4.902424698535667, 0.0, 20.32600683857972, 0.0, 0.0, 0.0, 0.0, 0.0, 7.754192472842797], 60: [0.0, 0.0, 0.0, 0.0, 18.958707051093363, 0.0, 0.0, 0.0, 6.965996150480121, 0.0, 6.416735657682824, 0.0, 18.828940519386492, 11.234547015658821, 0.0, 0.0, 22.787609378356883, 0.0, 4.679042692648143, 0.0, 0.0, 0.0, 0.0, 8.453992989814932, 0.0, 0.0, 0.0, 0.0, 10.16300341928986, 0.0, 0.0, 0.0, 0.0, 0.0, 0.0], 61: [0.0, 0.0, 4.36062960425329, 22.988771172326036, 0.0, 8.148210262484508, 0.0, 0.0, 0.0, 5.963015202978519, 12.833471315365648, 15.193512239510865, 12.552627012924328, 5.6172735078294105, 4.443972693865495, 4.4853048575468275, 0.0, 10.814651165929684, 28.074256155888857, 14.09181817811288, 0.0, 0.0, 9.453201683449318, 4.226996494907466, 0.0, 6.108481893579748, 4.902424698535667, 15.617511596386102, 10.16300341928986, 0.0, 3.154578931726821, 11.380526746873294, 0.0, 8.277711379394711, 0.0], 62: [4.1457080987345805, 22.408513058411287, 0.0, 22.988771172326036, 9.479353525546681, 0.0, 33.70945802268933, 30.10366833292421, 6.965996150480121, 5.963015202978519, 9.625103486524235, 0.0, 0.0, 33.703641046976465, 0.0, 0.0, 34.18141406753532, 32.44395349778905, 9.358085385296286, 0.0, 4.697272727321942, 0.0, 0.0, 21.13498247453733, 0.0, 0.0, 0.0, 0.0, 50.815017096449296, 10.930859626945448, 0.0, 0.0, 7.719255398225588, 0.0, 23.26257741852839], 63: [8.291416197469161, 0.0, 0.0, 17.241578379244526, 0.0, 0.0, 0.0, 0.0, 20.897988451440362, 0.0, 0.0, 0.0, 6.276313506462164, 0.0, 0.0, 4.4853048575468275, 0.0, 0.0, 0.0, 0.0, 0.0, 26.660196596331648, 0.0, 0.0, 0.0, 0.0, 4.902424698535667, 0.0, 0.0, 21.861719253890897, 0.0, 3.793508915624431, 0.0, 4.138855689697356, 0.0], 64: [0.0, 0.0, 0.0, 11.494385586163018, 0.0, 4.074105131242254, 0.0, 0.0, 0.0, 17.889045608935557, 12.833471315365648, 0.0, 0.0, 0.0, 22.219863469327475, 0.0, 0.0, 43.258604663718735, 0.0, 0.0, 0.0, 0.0, 18.906403366898637, 0.0, 0.0, 0.0, 9.804849397071335, 0.0, 0.0, 0.0, 0.0, 0.0, 0.0, 16.555422758789422, 0.0], 65: [53.894205283549546, 59.7560348224301, 61.04881445954607, 68.9663135169781, 66.35547467882677, 57.03747183739155, 56.18243003781555, 60.20733666584842, 48.76197305336085, 53.66713682680667, 54.542253090304, 83.56431731730976, 43.934194545235144, 50.5554615704647, 62.21561771411693, 49.3383534330151, 56.969023445892205, 64.8879069955781, 84.22276846766657, 84.55090906867729, 79.85363636447302, 53.320393192663296, 56.71921010069591, 46.49696144398213, 60.97802058788404, 67.19330082937724, 44.12182228682101, 83.29339518072588, 60.97802051573915, 65.58515776167269, 63.09157863453641, 83.45719614373749, 84.91180938048147, 53.80512396606562, 69.78773225558517], 66: [16.582832394938322, 7.469504352803763, 0.0, 0.0, 0.0, 0.0, 0.0, 0.0, 0.0, 0.0, 0.0, 0.0, 0.0, 0.0, 0.0, 4.4853048575468275, 0.0, 0.0, 0.0, 0.0, 0.0, 0.0, 0.0, 0.0, 20.326006862628013, 0.0, 4.902424698535667, 5.2058371987953675, 0.0, 54.65429813472724, 0.0, 0.0, 0.0, 0.0, 0.0], 67: [0.0, 0.0, 0.0, 0.0, 0.0, 0.0, 0.0, 0.0, 0.0, 0.0, 0.0, 0.0, 0.0, 0.0, 0.0, 0.0, 0.0, 0.0, 0.0, 0.0, 4.697272727321942, 0.0, 0.0, 0.0, 10.163003431314007, 6.108481893579748, 0.0, 0.0, 0.0, 0.0, 0.0, 0.0, 0.0, 0.0, 0.0], 68: [0.0, 0.0, 0.0, 0.0, 0.0, 0.0, 0.0, 0.0, 0.0, 0.0, 0.0, 0.0, 0.0, 0.0, 0.0, 6.727957286320241, 0.0, 0.0, 0.0, 0.0, 9.394545454643884, 0.0, 0.0, 0.0, 0.0, 0.0, 0.0, 0.0, 0.0, 0.0, 0.0, 0.0, 0.0, 0.0, 0.0], 69: [0.0, 0.0, 13.081888812759873, 5.747192793081509, 0.0, 0.0, 0.0, 0.0, 0.0, 0.0, 0.0, 0.0, 15.690783766155409, 0.0, 0.0, 6.727957286320241, 0.0, 0.0, 18.716170770592573, 0.0, 4.697272727321942, 0.0, 0.0, 0.0, 0.0, 12.216963787159496, 0.0, 5.2058371987953675, 0.0, 0.0, 0.0, 0.0, 0.0, 0.0, 0.0], 70: [0.0, 0.0, 0.0, 0.0, 0.0, 0.0, 0.0, 0.0, 0.0, 0.0, 0.0, 0.0, 0.0, 0.0, 0.0, 0.0, 0.0, 10.814651165929684, 0.0, 0.0, 0.0, 0.0, 0.0, 0.0, 0.0, 0.0, 0.0, 0.0, 0.0, 0.0, 0.0, 0.0, 0.0, 0.0, 0.0], 71: [0.0, 0.0, 8.72125920850658, 0.0, 0.0, 12.222315393726761, 0.0, 0.0, 0.0, 0.0, 6.416735657682824, 0.0, 0.0, 0.0, 22.219863469327475, 0.0, 0.0, 0.0, 14.037128077944429, 35.229545445282206, 4.697272727321942, 0.0, 23.633004208623298, 0.0, 0.0, 0.0, 9.804849397071335, 0.0, 0.0, 0.0, 9.463736795180463, 0.0, 0.0, 12.416567069092068, 0.0], 72: [0.0, 0.0, 17.44251841701316, 0.0, 0.0, 12.222315393726761, 0.0, 0.0, 0.0, 0.0, 6.416735657682824, 7.596756119755432, 3.138156753231082, 0.0, 4.443972693865495, 0.0, 0.0, 0.0, 9.358085385296286, 7.04590908905644, 0.0, 0.0, 9.453201683449318, 0.0, 0.0, 12.216963787159496, 4.902424698535667, 0.0, 0.0, 0.0, 18.927473590360925, 0.0, 15.438510796451176, 16.555422758789422, 0.0], 73: [8.291416197469161, 14.939008705607526, 4.36062960425329, 0.0, 18.958707051093363, 4.074105131242254, 0.0, 0.0, 0.0, 0.0, 0.0, 15.193512239510865, 0.0, 0.0, 0.0, 2.2426524287734138, 0.0, 0.0, 0.0, 0.0, 14.091818181965827, 0.0, 0.0, 0.0, 0.0, 0.0, 0.0, 20.82334879518147, 0.0, 0.0, 0.0, 3.793508915624431, 0.0, 0.0, 0.0], 74: [12.437124296203741, 0.0, 0.0, 11.494385586163018, 0.0, 0.0, 0.0, 0.0, 0.0, 0.0, 0.0, 0.0, 6.276313506462164, 0.0, 0.0, 6.727957286320241, 0.0, 0.0, 0.0, 0.0, 14.091818181965827, 0.0, 0.0, 0.0, 10.163003431314007, 0.0, 0.0, 10.411674397590735, 0.0, 0.0, 0.0, 3.793508915624431, 0.0, 0.0, 0.0], 75: [0.0, 0.0, 21.803148021266455, 45.97754234465207, 0.0, 44.81515644366479, 0.0, 0.0, 0.0, 5.963015202978519, 19.25020697304847, 15.193512239510865, 0.0, 0.0, 39.99575424478945, 0.0, 0.0, 64.8879069955781, 18.716170770592573, 28.18363635622576, 9.394545454643884, 79.98058978899495, 42.539407575521935, 12.6809894847224, 10.163003431314007, 18.325445680739247, 19.60969879414267, 0.0, 10.16300341928986, 0.0, 18.927473590360925, 0.0, 23.157766194676764, 33.110845517578845, 0.0], 76: [0.0, 0.0, 0.0, 5.747192793081509, 0.0, 0.0, 0.0, 0.0, 0.0, 5.963015202978519, 6.416735657682824, 7.596756119755432, 3.138156753231082, 0.0, 4.443972693865495, 0.0, 0.0, 0.0, 0.0, 0.0, 28.183636363931655, 53.320393192663296, 4.726600841724659, 0.0, 20.326006862628013, 0.0, 0.0, 15.617511596386102, 0.0, 0.0, 0.0, 18.967544578122155, 0.0, 0.0, 0.0], 77: [58.039913382284126, 97.10355658644892, 82.85196248081253, 80.46069910314112, 132.71094935765353, 89.63031288732958, 101.12837406806798, 90.31100499877263, 76.62595765528133, 77.51919763872074, 80.2091957210353, 91.16107343706518, 65.90129181785272, 89.87637612527057, 93.32342657117539, 76.25018257829606, 113.93804689178441, 97.33186049336716, 84.22276846766657, 70.45909089056441, 70.45909090982913, 79.98058978899495, 75.62561346759455, 84.53992989814932, 91.46703088182606, 79.41026461653672, 88.24364457364202, 88.49923237952125, 91.46703077360873, 65.58515776167269, 82.01905222489734, 87.25070505936192, 84.91180938048147, 91.05482517334183, 100.80450214695635], 78: [0.0, 22.408513058411287, 4.36062960425329, 17.241578379244526, 0.0, 16.296420524969015, 0.0, 0.0, 6.965996150480121, 5.963015202978519, 9.625103486524235, 0.0, 12.552627012924328, 11.234547015658821, 22.219863469327475, 11.213262143867068, 11.393804689178442, 43.258604663718735, 9.358085385296286, 0.0, 0.0, 0.0, 18.906403366898637, 12.6809894847224, 0.0, 12.216963787159496, 4.902424698535667, 0.0, 20.32600683857972, 0.0, 0.0, 3.793508915624431, 0.0, 12.416567069092068, 23.26257741852839], 79: [0.0, 0.0, 4.36062960425329, 0.0, 0.0, 0.0, 0.0, 0.0, 0.0, 0.0, 0.0, 7.596756119755432, 0.0, 0.0, 0.0, 2.2426524287734138, 0.0, 0.0, 0.0, 0.0, 0.0, 0.0, 0.0, 0.0, 0.0, 0.0, 0.0, 0.0, 0.0, 0.0, 0.0, 0.0, 0.0, 0.0, 0.0], 80: [12.437124296203741, 29.87801741121505, 30.524407229773036, 17.241578379244526, 0.0, 0.0, 44.94594403025244, 50.17278055487368, 34.82998075240061, 17.889045608935557, 6.416735657682824, 7.596756119755432, 18.828940519386492, 11.234547015658821, 4.443972693865495, 17.94121943018731, 11.393804689178442, 0.0, 4.679042692648143, 28.18363635622576, 0.0, 0.0, 9.453201683449318, 21.13498247453733, 10.163003431314007, 12.216963787159496, 14.707274095607003, 10.411674397590735, 0.0, 98.37773664250903, 6.309157863453642, 3.793508915624431, 15.438510796451176, 8.277711379394711, 0.0], 81: [0.0, 0.0, 0.0, 0.0, 0.0, 0.0, 0.0, 0.0, 0.0, 0.0, 0.0, 0.0, 0.0, 0.0, 0.0, 0.0, 0.0, 0.0, 0.0, 0.0, 0.0, 0.0, 0.0, 0.0, 0.0, 6.108481893579748, 0.0, 0.0, 0.0, 0.0, 3.154578931726821, 3.793508915624431, 0.0, 4.138855689697356, 0.0], 82: [0.0, 0.0, 13.081888812759873, 5.747192793081509, 0.0, 0.0, 0.0, 0.0, 0.0, 5.963015202978519, 0.0, 0.0, 6.276313506462164, 0.0, 0.0, 8.970609715093655, 0.0, 0.0, 9.358085385296286, 0.0, 9.394545454643884, 0.0, 0.0, 0.0, 0.0, 0.0, 0.0, 0.0, 0.0, 0.0, 0.0, 0.0, 0.0, 0.0, 0.0], 83: [0.0, 0.0, 0.0, 5.747192793081509, 0.0, 20.370525656211267, 0.0, 0.0, 0.0, 11.926030405957038, 6.416735657682824, 0.0, 6.276313506462164, 0.0, 8.88794538773099, 15.698567001413895, 0.0, 10.814651165929684, 0.0, 7.04590908905644, 0.0, 0.0, 9.453201683449318, 0.0, 0.0, 18.325445680739247, 9.804849397071335, 0.0, 0.0, 0.0, 3.154578931726821, 0.0, 0.0, 4.138855689697356, 0.0], 84: [0.0, 0.0, 0.0, 0.0, 0.0, 4.074105131242254, 0.0, 0.0, 0.0, 0.0, 0.0, 0.0, 3.138156753231082, 0.0, 0.0, 4.4853048575468275, 0.0, 0.0, 4.679042692648143, 35.229545445282206, 0.0, 0.0, 9.453201683449318, 0.0, 0.0, 0.0, 4.902424698535667, 0.0, 0.0, 0.0, 9.463736795180463, 3.793508915624431, 7.719255398225588, 16.555422758789422, 0.0], 85: [0.0, 0.0, 0.0, 0.0, 0.0, 4.074105131242254, 0.0, 0.0, 0.0, 5.963015202978519, 6.416735657682824, 0.0, 0.0, 0.0, 4.443972693865495, 0.0, 0.0, 21.629302331859368, 0.0, 0.0, 0.0, 0.0, 0.0, 0.0, 0.0, 0.0, 0.0, 0.0, 0.0, 0.0, 6.309157863453642, 0.0, 0.0, 0.0, 0.0], 86: [0.0, 7.469504352803763, 13.081888812759873, 17.241578379244526, 0.0, 12.222315393726761, 11.23648600756311, 0.0, 0.0, 11.926030405957038, 0.0, 0.0, 18.828940519386492, 0.0, 0.0, 13.455914572640483, 11.393804689178442, 32.44395349778905, 18.716170770592573, 21.13772726716932, 4.697272727321942, 26.660196596331648, 4.726600841724659, 0.0, 20.326006862628013, 18.325445680739247, 0.0, 0.0, 10.16300341928986, 0.0, 3.154578931726821, 0.0, 15.438510796451176, 4.138855689697356, 0.0], 87: [0.0, 0.0, 0.0, 0.0, 0.0, 4.074105131242254, 0.0, 0.0, 0.0, 0.0, 3.208367828841412, 0.0, 0.0, 0.0, 0.0, 0.0, 0.0, 0.0, 4.679042692648143, 14.09181817811288, 4.697272727321942, 0.0, 0.0, 0.0, 0.0, 0.0, 0.0, 10.411674397590735, 0.0, 0.0, 0.0, 0.0, 0.0, 0.0, 0.0], 88: [8.291416197469161, 37.347521764018815, 17.44251841701316, 11.494385586163018, 28.438060576640044, 0.0, 22.47297201512622, 20.069112221949474, 6.965996150480121, 0.0, 0.0, 0.0, 12.552627012924328, 0.0, 0.0, 8.970609715093655, 0.0, 0.0, 4.679042692648143, 0.0, 4.697272727321942, 26.660196596331648, 0.0, 8.453992989814932, 0.0, 0.0, 4.902424698535667, 0.0, 0.0, 10.930859626945448, 0.0, 3.793508915624431, 0.0, 4.138855689697356, 7.754192472842797], 89: [0.0, 0.0, 0.0, 0.0, 0.0, 0.0, 0.0, 0.0, 0.0, 0.0, 0.0, 0.0, 0.0, 0.0, 0.0, 0.0, 0.0, 0.0, 0.0, 0.0, 0.0, 0.0, 0.0, 0.0, 0.0, 0.0, 0.0, 0.0, 0.0, 0.0, 0.0, 0.0, 0.0, 0.0, 0.0], 90: [0.0, 0.0, 8.72125920850658, 5.747192793081509, 0.0, 8.148210262484508, 0.0, 0.0, 0.0, 0.0, 3.208367828841412, 0.0, 6.276313506462164, 0.0, 0.0, 8.970609715093655, 0.0, 0.0, 9.358085385296286, 0.0, 0.0, 0.0, 9.453201683449318, 0.0, 0.0, 12.216963787159496, 4.902424698535667, 5.2058371987953675, 0.0, 0.0, 0.0, 0.0, 0.0, 4.138855689697356, 0.0], 91: [0.0, 0.0, 0.0, 5.747192793081509, 0.0, 8.148210262484508, 0.0, 0.0, 6.965996150480121, 5.963015202978519, 6.416735657682824, 7.596756119755432, 0.0, 5.6172735078294105, 22.219863469327475, 2.2426524287734138, 0.0, 0.0, 4.679042692648143, 7.04590908905644, 14.091818181965827, 0.0, 14.179802525173978, 0.0, 0.0, 0.0, 14.707274095607003, 0.0, 0.0, 10.930859626945448, 12.618315726907284, 3.793508915624431, 23.157766194676764, 8.277711379394711, 0.0], 92: [0.0, 0.0, 0.0, 0.0, 0.0, 8.148210262484508, 0.0, 0.0, 0.0, 23.852060811914075, 6.416735657682824, 0.0, 0.0, 0.0, 8.88794538773099, 0.0, 0.0, 10.814651165929684, 4.679042692648143, 7.04590908905644, 0.0, 0.0, 4.726600841724659, 0.0, 0.0, 0.0, 0.0, 0.0, 0.0, 0.0, 6.309157863453642, 0.0, 7.719255398225588, 4.138855689697356, 0.0], 93: [0.0, 0.0, 4.36062960425329, 0.0, 9.479353525546681, 8.148210262484508, 0.0, 0.0, 0.0, 5.963015202978519, 6.416735657682824, 37.98378059877716, 0.0, 0.0, 4.443972693865495, 4.4853048575468275, 0.0, 10.814651165929684, 0.0, 14.09181817811288, 0.0, 53.320393192663296, 0.0, 0.0, 0.0, 0.0, 4.902424698535667, 0.0, 10.16300341928986, 0.0, 15.772894658634103, 0.0, 7.719255398225588, 12.416567069092068, 0.0], 94: [70.47703767848787, 97.10355658644892, 69.77007366805265, 86.20789189622263, 113.75224230656018, 114.0749436747831, 78.65540205294177, 90.31100499877263, 90.55794995624157, 95.4082432476563, 99.45940269408376, 91.16107343706518, 75.31576207754597, 123.58001717224704, 106.65534465277187, 62.79426800565558, 113.93804689178441, 75.7025581615078, 98.259896545611, 105.68863633584661, 103.34000000108273, 79.98058978899495, 108.71181935966717, 59.177950928704526, 111.79303774445407, 91.62722840369622, 93.14606927217768, 62.47004638554441, 91.46703077360873, 65.58515776167269, 72.55531542971687, 98.6312318062352, 84.91180938048147, 115.88795931152596, 93.05030967411356], 95: [0.0, 14.939008705607526, 8.72125920850658, 22.988771172326036, 0.0, 4.074105131242254, 22.47297201512622, 0.0, 0.0, 0.0, 9.625103486524235, 7.596756119755432, 0.0, 0.0, 4.443972693865495, 2.2426524287734138, 0.0, 10.814651165929684, 4.679042692648143, 14.09181817811288, 14.091818181965827, 0.0, 4.726600841724659, 0.0, 0.0, 0.0, 14.707274095607003, 0.0, 10.16300341928986, 0.0, 3.154578931726821, 0.0, 15.438510796451176, 12.416567069092068, 7.754192472842797], 96: [0.0, 0.0, 8.72125920850658, 0.0, 0.0, 0.0, 0.0, 0.0, 0.0, 0.0, 0.0, 0.0, 9.414470259693246, 0.0, 0.0, 13.455914572640483, 0.0, 0.0, 4.679042692648143, 0.0, 0.0, 0.0, 0.0, 0.0, 0.0, 6.108481893579748, 4.902424698535667, 0.0, 0.0, 0.0, 0.0, 0.0, 0.0, 0.0, 0.0], 97: [0.0, 0.0, 0.0, 11.494385586163018, 0.0, 0.0, 0.0, 0.0, 0.0, 0.0, 0.0, 15.193512239510865, 6.276313506462164, 0.0, 0.0, 8.970609715093655, 0.0, 0.0, 0.0, 0.0, 9.394545454643884, 0.0, 0.0, 0.0, 0.0, 0.0, 0.0, 15.617511596386102, 0.0, 0.0, 0.0, 7.587017831248862, 0.0, 0.0, 0.0], 98: [4.1457080987345805, 0.0, 0.0, 0.0, 0.0, 0.0, 0.0, 0.0, 13.931992300960243, 0.0, 3.208367828841412, 0.0, 0.0, 0.0, 0.0, 0.0, 11.393804689178442, 0.0, 0.0, 0.0, 0.0, 0.0, 0.0, 0.0, 0.0, 0.0, 0.0, 0.0, 0.0, 0.0, 3.154578931726821, 0.0, 7.719255398225588, 4.138855689697356, 0.0], 99: [0.0, 0.0, 0.0, 5.747192793081509, 0.0, 4.074105131242254, 0.0, 0.0, 0.0, 0.0, 6.416735657682824, 0.0, 0.0, 11.234547015658821, 4.443972693865495, 2.2426524287734138, 0.0, 0.0, 4.679042692648143, 7.04590908905644, 0.0, 0.0, 4.726600841724659, 0.0, 0.0, 0.0, 0.0, 0.0, 10.16300341928986, 10.930859626945448, 0.0, 3.793508915624431, 0.0, 4.138855689697356, 0.0], 100: [0.0, 14.939008705607526, 0.0, 0.0, 9.479353525546681, 0.0, 11.23648600756311, 0.0, 0.0, 0.0, 0.0, 0.0, 0.0, 0.0, 0.0, 2.2426524287734138, 0.0, 0.0, 0.0, 0.0, 0.0, 0.0, 0.0, 12.6809894847224, 0.0, 0.0, 0.0, 5.2058371987953675, 0.0, 0.0, 0.0, 0.0, 0.0, 0.0, 7.754192472842797], 101: [8.291416197469161, 0.0, 8.72125920850658, 5.747192793081509, 0.0, 28.518735918695775, 0.0, 0.0, 0.0, 41.74110642084963, 22.458574801889885, 22.790268359266296, 0.0, 5.6172735078294105, 48.88369963252045, 0.0, 11.393804689178442, 21.629302331859368, 4.679042692648143, 28.18363635622576, 4.697272727321942, 53.320393192663296, 18.906403366898637, 0.0, 30.48901029394202, 18.325445680739247, 29.414548191214006, 0.0, 0.0, 0.0, 31.545789317268206, 18.967544578122155, 7.719255398225588, 16.555422758789422, 0.0], 102: [0.0, 0.0, 0.0, 0.0, 0.0, 0.0, 0.0, 0.0, 0.0, 0.0, 6.416735657682824, 0.0, 3.138156753231082, 0.0, 0.0, 2.2426524287734138, 11.393804689178442, 0.0, 0.0, 0.0, 0.0, 26.660196596331648, 0.0, 0.0, 0.0, 0.0, 0.0, 0.0, 0.0, 10.930859626945448, 0.0, 0.0, 0.0, 4.138855689697356, 0.0], 103: [4.1457080987345805, 7.469504352803763, 13.081888812759873, 5.747192793081509, 0.0, 8.148210262484508, 11.23648600756311, 10.034556110974737, 6.965996150480121, 0.0, 9.625103486524235, 0.0, 12.552627012924328, 39.320914554805874, 8.88794538773099, 2.2426524287734138, 34.18141406753532, 10.814651165929684, 0.0, 0.0, 9.394545454643884, 0.0, 4.726600841724659, 21.13498247453733, 0.0, 6.108481893579748, 4.902424698535667, 0.0, 10.16300341928986, 43.72343850778179, 12.618315726907284, 3.793508915624431, 15.438510796451176, 20.694278448486777, 23.26257741852839], 104: [41.457080987345805, 29.87801741121505, 47.9669256467862, 51.72473513773358, 75.83482820437345, 81.48210262484507, 22.47297201512622, 60.20733666584842, 55.72796920384097, 77.51919763872074, 73.79246006335248, 68.37080507779889, 69.03944857108381, 56.17273507829411, 79.9915084895789, 62.79426800565558, 45.57521875671377, 32.44395349778905, 84.22276846766657, 49.32136362339509, 112.73454545572662, 53.320393192663296, 70.89901262586989, 4.226996494907466, 40.652013725256026, 109.95267408443547, 63.73152108096368, 52.05837198795368, 60.97802051573915, 32.792578880836345, 59.936999702809594, 45.522106987493174, 30.877021592902352, 70.36054672485504, 69.78773225558517], 105: [0.0, 0.0, 0.0, 0.0, 0.0, 0.0, 0.0, 0.0, 0.0, 0.0, 0.0, 0.0, 0.0, 0.0, 0.0, 0.0, 0.0, 10.814651165929684, 0.0, 0.0, 0.0, 0.0, 0.0, 0.0, 0.0, 0.0, 0.0, 0.0, 0.0, 0.0, 0.0, 0.0, 0.0, 0.0, 0.0], 106: [45.602789086080385, 29.87801741121505, 30.524407229773036, 57.47192793081509, 56.87612115328009, 65.18568209987606, 44.94594403025244, 70.24189277682316, 55.72796920384097, 71.55618243574223, 89.83429920755954, 53.177292838288025, 40.796037792004064, 84.25910261744116, 62.21561771411693, 51.58100586178852, 68.36282813507064, 43.258604663718735, 51.46946961912957, 77.50499997962085, 65.7618181825072, 106.64078638532659, 61.44581094242057, 38.042968454167195, 30.48901029394202, 91.62722840369622, 63.73152108096368, 46.852534789158305, 60.97802051573915, 54.65429813472724, 41.00952611244867, 68.28316048123976, 54.03478778757912, 62.08283534546033, 62.03353978274237], 107: [0.0, 7.469504352803763, 17.44251841701316, 5.747192793081509, 0.0, 0.0, 0.0, 0.0, 0.0, 0.0, 0.0, 7.596756119755432, 0.0, 0.0, 0.0, 8.970609715093655, 34.18141406753532, 0.0, 14.037128077944429, 0.0, 14.091818181965827, 53.320393192663296, 0.0, 8.453992989814932, 0.0, 18.325445680739247, 0.0, 26.02918599397684, 30.489010257869577, 0.0, 0.0, 15.174035662497724, 0.0, 0.0, 31.016769891371187], 108: [16.582832394938322, 29.87801741121505, 17.44251841701316, 11.494385586163018, 47.396767627733404, 4.074105131242254, 44.94594403025244, 50.17278055487368, 6.965996150480121, 11.926030405957038, 0.0, 7.596756119755432, 12.552627012924328, 0.0, 0.0, 13.455914572640483, 0.0, 0.0, 4.679042692648143, 7.04590908905644, 4.697272727321942, 0.0, 4.726600841724659, 16.907985979629863, 10.163003431314007, 0.0, 24.512123492678338, 5.2058371987953675, 20.32600683857972, 0.0, 3.154578931726821, 3.793508915624431, 15.438510796451176, 8.277711379394711, 7.754192472842797], 109: [0.0, 0.0, 0.0, 0.0, 0.0, 0.0, 0.0, 0.0, 0.0, 0.0, 3.208367828841412, 0.0, 0.0, 0.0, 0.0, 0.0, 0.0, 0.0, 0.0, 0.0, 0.0, 26.660196596331648, 0.0, 0.0, 0.0, 0.0, 0.0, 0.0, 0.0, 0.0, 0.0, 0.0, 0.0, 0.0, 0.0]}, 'short_mean_laps_all_frs': {2: [0.0, 0.0, 0.0, 0.0, 0.0, 0.25600531639458385, 0.0, 0.0, 0.0, 0.0, 0.0, 0.0, 0.0, 0.0, 0.0, 0.0, 0.0, 0.0, 0.0, 0.0, 0.0, 0.0, 0.0, 0.0, 0.0, 0.0, 0.0, 0.0, 0.0, 0.0, 0.0, 0.0], 3: [0.8433579804215697, 2.9479367283370763, 1.7806439260921785, 5.437847509349439, 3.014920811321945, 5.632116960680845, 2.1640916413165487, 5.264293147166885, 1.0783086056629836, 3.4610501917841705, 0.6885631850804553, 3.241986109235574, 0.7005699610174535, 3.0684286134366783, 0.813647906891143, 3.2687832332114795, 0.7222364589298673, 3.509573056434991, 0.7195197195975805, 4.901194479163763, 0.5005012377147543, 6.733938664045289, 1.2266222021614606, 2.5096834378687896, 1.0017140360029104, 4.358984004189573, 0.3643436361504279, 2.8770068937923936, 1.1886401811042968, 0.22152574092357408, 3.6063971592255184, 1.0712861186066016], 4: [0.0, 1.2634014550016042, 0.4451609815230446, 4.579240007873212, 0.9276679419452137, 1.2800265819729193, 0.8323429389679033, 2.288823107463863, 0.8386844710712094, 2.5381034739750583, 0.5508505480643643, 2.7300935656720626, 0.23352332033915116, 0.9818971562997371, 0.6509183255129144, 1.4009070999477768, 0.0, 1.2148522118428815, 1.1306738450819123, 2.100511919641613, 0.0, 1.4429868565811335, 0.24532444043229212, 1.1711856043387685, 0.6010284216017462, 1.1888138193244289, 0.7286872723008558, 0.548001313103313, 0.6483491896932527, 0.0, 0.5694311304040292, 0.42851444744264067], 5: [1.3493727686745114, 3.088314667781699, 1.4838699384101488, 1.4310125024603786, 3.4787547822945517, 3.5840744295241738, 2.4970288169037103, 3.2043523504494082, 2.156617211325967, 1.8458934356182242, 1.9279769182252748, 1.3650467828360313, 0.8173316211870291, 1.9637943125994741, 0.9763774882693715, 1.4009070999477768, 1.986150262057135, 1.4848193700301884, 2.980867409761405, 1.8671217063481003, 0.25025061885737715, 1.9239824754415111, 0.9812977617291685, 2.342371208677537, 1.0017140360029104, 0.9906781827703575, 0.5465154542256419, 0.9590022979307978, 0.8644655862576703, 0.6645772227707223, 1.5184830144107446, 1.4998005660492424], 6: [49.92679244095692, 48.2900111689502, 33.38707361422835, 28.047845048223422, 28.757706200301627, 25.3445263230638, 25.136756756830682, 21.05717258866754, 20.00861523841314, 19.84335443289591, 17.076366989995293, 18.42813156828642, 15.295777482214401, 16.814988801632996, 17.900253951605144, 17.589166921566534, 14.083610949132412, 15.928062333051113, 15.72664529977569, 14.936973650784802, 12.512530942868858, 13.708375137520767, 12.266222021614606, 15.392725085595243, 14.42468211844191, 11.88813819324429, 9.290762721835913, 7.809018711722211, 6.699608293496945, 7.0888237095543705, 7.022983941649693, 6.64197393536093], 7: [5.228819478613732, 1.1230235155569814, 7.122575704368714, 0.0, 4.638339709726069, 2.048042531156671, 4.8275890460138395, 1.373293864478318, 3.3547378842848374, 0.46147335890455604, 2.8919653773379124, 3.9245095006535897, 2.9190415042393894, 3.3139029025116122, 4.719157859968629, 3.2687832332114795, 3.791741409381803, 2.9696387400603768, 2.878078878390322, 0.0, 5.505513614862298, 1.2024890471509444, 6.133111010807303, 3.1789323546338, 4.8082273728139695, 3.96271273108143, 3.2790927253538515, 0.9590022979307978, 3.3498041467484727, 4.430514818471481, 1.7082933912120877, 2.999601132098485], 8: [0.0, 0.0, 0.0, 0.0, 0.0, 0.0, 0.0, 0.0, 0.0, 0.0, 0.27542527403218214, 0.0, 0.23352332033915116, 0.0, 0.0, 0.0, 0.0, 0.0, 0.0, 0.0, 0.0, 0.0, 0.0, 0.0, 0.0, 0.0, 0.0, 0.0, 0.0, 0.0, 0.0, 0.0], 9: [0.0, 1.5441573338908494, 0.0, 4.00683500688906, 0.23191698548630343, 4.096085062313342, 0.33293717558716135, 3.4332346611957947, 1.3179327402547576, 3.6917868712364483, 0.13771263701609107, 2.3888318699630546, 4.20341976610472, 1.2273714453746714, 0.0, 3.4244395776501215, 0.0, 1.2148522118428815, 1.541827970566244, 4.434414052576738, 0.25025061885737715, 3.3669693320226446, 0.0, 2.1750589794862845, 0.0, 2.9720345483110724, 0.0, 1.096002626206626, 0.21611639656441758, 0.0, 2.2777245216161166, 0.0], 10: [2.867417133433337, 0.5615117577784907, 2.6709658891382677, 0.0, 4.174505738753462, 0.0, 3.3293717558716134, 0.0, 1.7971810094383058, 0.0, 4.9576549325792785, 0.0, 2.568756523730663, 0.49094857814986853, 2.1154845579169717, 0.31131268887728375, 3.4306231799168696, 0.269967158187307, 1.3362509078240783, 0.0, 1.0010024754295086, 0.0, 1.962595523458337, 0.0, 3.8065133368110597, 0.396271273108143, 2.3682336349777815, 0.548001313103313, 1.5128147759509232, 1.5506801864650186, 0.0, 2.1425722372132032], 11: [1.0120295765058835, 0.0, 0.2967739876820297, 0.8586075014762271, 0.9276679419452137, 0.25600531639458385, 1.8311544657293874, 0.2288823107463863, 1.5575568748465318, 0.46147335890455604, 3.7182411994344586, 1.0237850871270233, 2.685518183900238, 0.6136857226873357, 1.4645662324040574, 0.31131268887728375, 1.4444729178597346, 0.0, 2.5697132842770736, 0.9335608531740501, 0.25025061885737715, 0.0, 1.717271083026045, 0.0, 3.4058277224098954, 0.1981356365540715, 1.6395463626769258, 0.13700032827582825, 0.6483491896932527, 2.2152574092357407, 0.18981037680134308, 1.4998005660492424], 12: [29.854872506923567, 35.09448486115567, 26.709658891382677, 45.21999507774797, 33.8598798810003, 45.82495163463051, 30.29728297843168, 40.96993362360315, 25.400158266728056, 39.455972186339544, 25.476837847976846, 39.2450950065359, 23.00204705340639, 32.648080446966254, 28.640406322568232, 34.400052120939854, 25.819953406742755, 33.20596045703876, 26.313864030997234, 43.64396988588685, 28.778821168598373, 48.09956188603778, 31.646852815765683, 38.64912494317936, 32.054849152093134, 41.014076766692796, 26.232741802830812, 30.140072220682217, 32.63357588122705, 30.34902650652965, 39.86017912828204, 30.210268544706167], 13: [0.0, 0.14037793944462268, 0.14838699384101486, 0.0, 0.0, 0.0, 0.0, 0.0, 1.5575568748465318, 0.23073667945227802, 0.0, 0.0, 0.35028498050872675, 0.12273714453746713, 0.0, 0.0, 0.0, 0.1349835790936535, 0.3083655941132488, 0.46678042658702507, 0.0, 0.0, 0.0, 0.0, 0.0, 0.0, 0.18217181807521396, 0.13700032827582825, 0.10805819828220879, 0.0, 0.0, 0.0], 14: [4.216789902107848, 0.42113381833386804, 2.8193528829792824, 0.5724050009841515, 4.8702566952123725, 0.7680159491837515, 3.3293717558716134, 0.2288823107463863, 2.7556775478054023, 0.46147335890455604, 1.6525516441930928, 0.34126169570900783, 2.3352332033915113, 0.7364228672248028, 2.766402883429886, 0.7782817221932095, 3.4306231799168696, 0.9448850536555745, 2.055770627421659, 1.4003412797610753, 3.7537592828606576, 0.2404978094301889, 4.415839927781258, 1.003873375147516, 4.407541758412806, 0.792542546216286, 2.9147490892034233, 0.2740006565516565, 2.161163965644176, 3.7659375957007595, 0.5694311304040292, 3.856630026983766], 15: [1.5180443647588253, 0.14037793944462268, 0.7419349692050744, 0.28620250049207574, 1.8553358838904275, 0.0, 0.33293717558716135, 0.0, 0.5990603364794352, 0.0, 0.5508505480643643, 0.0, 1.05085494152618, 0.3682114336124014, 3.091862046186343, 0.15565634443864187, 1.2639138031272676, 0.1349835790936535, 0.6167311882264976, 0.46678042658702507, 1.2512530942868858, 0.0, 0.49064888086458425, 0.16731222919125263, 1.2020568432034924, 0.396271273108143, 0.5465154542256419, 0.0, 0.7564073879754616, 1.1076287046178703, 0.18981037680134308, 1.4998005660492424], 16: [0.0, 0.0, 0.0, 0.0, 0.46383397097260687, 0.0, 1.8311544657293874, 0.0, 0.3594362018876612, 0.0, 0.13771263701609107, 0.0, 0.35028498050872675, 0.12273714453746713, 0.0, 0.0, 1.6250320325922014, 0.1349835790936535, 0.4111541254843318, 0.46678042658702507, 0.0, 0.0, 0.0, 0.6692489167650105, 0.0, 0.0, 0.0, 0.13700032827582825, 0.0, 0.0, 0.0, 0.642771671163961], 17: [0.16867159608431392, 1.8249132127800949, 1.7806439260921785, 0.28620250049207574, 0.0, 1.2800265819729193, 0.0, 1.373293864478318, 0.0, 2.076630115070502, 0.13771263701609107, 1.0237850871270233, 0.35028498050872675, 0.9818971562997371, 0.48818874413468577, 2.1791888221409863, 0.0, 1.4848193700301884, 0.2055770627421659, 1.4003412797610753, 0.5005012377147543, 0.4809956188603778, 0.24532444043229212, 1.003873375147516, 0.2003428072005821, 1.981356365540715, 0.18217181807521396, 2.7400065655165653, 1.4047565776687143, 0.44305148184714815, 1.7082933912120877, 0.0], 18: [52.28819478613732, 51.65908171562115, 36.50320048488966, 50.94404508758948, 39.88972150364419, 48.64101011497093, 31.961968856367488, 46.00534446002365, 37.620989130908534, 35.76418531510309, 41.864641652891684, 34.808692962318794, 34.09440476951607, 24.915640341105828, 30.918620461863433, 32.687832332114795, 35.20902737283103, 28.346551609667234, 31.556079130922463, 31.97445922121122, 40.79085087375248, 40.40363198427173, 31.401528375333392, 38.147188255605606, 38.065133368110594, 33.48492257763808, 35.52350452466672, 32.60607812964712, 30.47241191558288, 42.08989077547908, 33.97605744744041, 32.35284078191937], 19: [0.0, 0.0, 0.0, 0.0, 0.0, 0.5120106327891677, 0.0, 0.0, 2.9953016823971765, 0.692210038356834, 0.0, 0.6825233914180157, 0.23352332033915116, 0.3682114336124014, 0.0, 0.7782817221932095, 0.0, 0.809901474561921, 0.7195197195975805, 1.1669510664675626, 0.0, 0.2404978094301889, 0.0, 0.0, 0.0, 0.1981356365540715, 0.0, 0.41100098482748476, 0.10805819828220879, 0.0, 0.37962075360268616, 0.0], 20: [19.903248337949044, 19.231777703913306, 16.767730304034682, 12.879112522143407, 17.161856925986456, 22.78447315911796, 15.14864148921584, 15.563997130754268, 16.17462908494475, 13.844200767136682, 11.843286783383832, 13.479836980505809, 14.828730841536098, 16.078565934408193, 17.41206520747046, 16.188259821618757, 11.91690157234281, 14.443242963020925, 14.493182923322694, 17.037485570426416, 15.265287750300008, 16.113353231822657, 14.719466425937528, 16.731222919125265, 11.820225624834343, 15.454579651217577, 12.023339992964122, 15.75503775172025, 13.615332983558309, 11.962390009873001, 12.90710562249133, 13.28394787072186], 21: [0.33734319216862785, 0.0, 0.5935479753640595, 0.0, 0.9276679419452137, 0.25600531639458385, 0.16646858779358067, 0.0, 0.47924826918354824, 0.0, 0.4131379110482732, 0.17063084785450391, 0.23352332033915116, 0.0, 0.6509183255129144, 0.46696903331592565, 0.36111822946493366, 0.0, 0.2055770627421659, 0.0, 0.7507518565721315, 0.2404978094301889, 0.0, 0.33462445838250526, 0.2003428072005821, 0.0, 0.3643436361504279, 0.13700032827582825, 0.32417459484662636, 1.1076287046178703, 0.5694311304040292, 0.8570288948852813], 22: [0.16867159608431392, 1.6845352733354721, 0.2967739876820297, 4.579240007873212, 0.0, 3.5840744295241738, 0.0, 2.5177054182102494, 0.47924826918354824, 0.692210038356834, 0.13771263701609107, 1.706308478545039, 0.5838083008478778, 0.9818971562997371, 0.1627295813782286, 1.556563444386419, 0.0, 1.619802949123842, 0.0, 1.4003412797610753, 0.0, 1.9239824754415111, 0.0, 0.6692489167650105, 0.2003428072005821, 1.1888138193244289, 0.18217181807521396, 0.6850016413791413, 0.7564073879754616, 0.22152574092357408, 1.3286726376094016, 0.0], 23: [0.0, 2.667180849447831, 0.14838699384101486, 4.579240007873212, 0.0, 4.352090378707925, 0.0, 2.746587728956636, 0.0, 5.537680306854672, 0.0, 2.2182010221085506, 0.0, 1.841057168062007, 0.3254591627564572, 1.7122197888250608, 0.0, 1.2148522118428815, 0.0, 1.6337314930545879, 0.0, 2.1644802848717, 0.0, 1.5058100627212738, 0.0, 0.9906781827703575, 0.0, 1.7810042675857674, 1.1886401811042968, 0.0, 1.3286726376094016, 0.0], 24: [0.16867159608431392, 0.28075587888924536, 0.14838699384101486, 1.4310125024603786, 0.0, 1.0240212655783354, 0.0, 0.686646932239159, 0.0, 0.46147335890455604, 0.0, 3.07135526138107, 0.0, 2.4547428907493427, 0.1627295813782286, 3.4244395776501215, 0.18055911473246683, 3.9145237937159516, 0.2055770627421659, 7.001706398805377, 0.5005012377147543, 8.41742333005661, 0.0, 6.3578647092676, 0.2003428072005821, 6.142204733176216, 0.0, 4.795011489653989, 4.322327931288352, 0.0, 7.592415072053723, 0.0], 25: [0.0, 1.8249132127800949, 0.0, 2.5758225044286815, 0.46383397097260687, 5.120106327891677, 0.16646858779358067, 4.577646214927726, 0.8386844710712094, 3.4610501917841705, 0.6885631850804553, 2.900724413526566, 0.5838083008478778, 2.4547428907493427, 1.3018366510258288, 2.646157855456912, 0.9027955736623341, 2.69967158187307, 0.5139426568554147, 3.7342434126962005, 1.0010024754295086, 5.771947426324534, 0.9812977617291685, 3.0116201254425476, 1.6027424576046567, 3.170170184865144, 0.7286872723008558, 1.9180045958615957, 1.7289311725153407, 0.6645772227707223, 3.6063971592255184, 1.285543342327922], 26: [0.0, 0.5615117577784907, 0.0, 1.144810001968303, 0.0, 1.0240212655783354, 0.16646858779358067, 0.686646932239159, 0.0, 0.9229467178091121, 0.0, 0.6825233914180157, 0.0, 0.7364228672248028, 0.0, 0.46696903331592565, 0.0, 0.539934316374614, 0.0, 0.7001706398805376, 0.0, 1.4429868565811335, 0.0, 0.8365611459562632, 0.0, 0.9906781827703575, 0.0, 0.2740006565516565, 0.32417459484662636, 0.0, 0.5694311304040292, 0.0], 27: [0.16867159608431392, 0.28075587888924536, 0.14838699384101486, 0.5724050009841515, 0.23191698548630343, 1.2800265819729193, 0.0, 0.0, 0.5990603364794352, 0.46147335890455604, 0.0, 0.6825233914180157, 0.35028498050872675, 0.3682114336124014, 0.1627295813782286, 0.31131268887728375, 0.36111822946493366, 0.269967158187307, 1.1306738450819123, 0.7001706398805376, 0.25025061885737715, 0.4809956188603778, 0.0, 0.33462445838250526, 0.0, 0.0, 0.18217181807521396, 0.548001313103313, 0.43223279312883517, 0.22152574092357408, 0.0, 0.42851444744264067], 28: [0.0, 0.0, 0.0, 0.0, 0.0, 0.0, 0.33293717558716135, 0.0, 0.0, 0.0, 0.0, 0.0, 0.0, 0.0, 0.3254591627564572, 0.0, 0.0, 0.0, 0.0, 0.0, 0.0, 0.0, 0.0, 0.16731222919125263, 0.0, 0.0, 0.0, 0.0, 0.0, 0.0, 0.0, 0.0], 29: [13.156384494576487, 10.949479276680568, 17.65805226708077, 8.872277515254348, 16.92993994050015, 12.800265819729193, 13.650424199073615, 9.38417474060184, 13.41895153713935, 10.152413895900233, 13.08270051652865, 10.92037426268825, 13.19406759916204, 13.010137320971516, 13.343825673014745, 12.763820243968635, 14.625288293329813, 12.958423592990735, 12.026258170416703, 12.136291091262652, 12.262280324011481, 13.22737951866039, 11.53024870031773, 13.21766610610896, 15.827081768845984, 11.88813819324429, 15.302432718317974, 11.782028231721231, 12.210576405889594, 15.506801864650186, 12.147864115285957, 13.712462318164501], 30: [59.54107341776282, 63.31045068952483, 48.374159992170846, 66.1127776136695, 50.09406886504154, 60.673259985516374, 41.95008412398233, 61.34045928003153, 56.311671629066915, 48.22396600552611, 48.33713559264796, 49.48294587780613, 48.57285063054344, 35.225560482253066, 40.03147701904423, 51.677906353629105, 46.764810715708904, 39.01025435806586, 50.777534497314974, 41.776848179538746, 55.55563738633773, 53.15001588407175, 39.98788379046362, 48.52054646546327, 52.08912987215134, 47.35441713642309, 51.736796333360765, 50.55312113378063, 44.519977692270025, 54.7168580081228, 46.123921562726366, 46.27956032380519], 31: [3.0360887295176506, 1.2634014550016042, 2.0774179137742084, 1.7172150029524542, 2.7830038258356415, 1.0240212655783354, 1.997623053522968, 0.4577646214927726, 1.4377448075506447, 0.9229467178091121, 1.2394137331448196, 0.8531542392725195, 1.6346632423740581, 0.9818971562997371, 2.9291324648081147, 1.0895944110704932, 1.986150262057135, 0.9448850536555745, 1.541827970566244, 1.1669510664675626, 1.7517543320016402, 0.9619912377207556, 1.2266222021614606, 1.338497833530021, 1.8030852648052387, 1.3869494558785005, 2.0038899988273537, 0.8220019696549695, 1.8369893707975495, 2.2152574092357407, 0.7592415072053723, 2.3568294609345237], 32: [0.6746863843372557, 0.42113381833386804, 0.4451609815230446, 0.0, 1.3915019129178208, 1.536031898367503, 0.8323429389679033, 0.686646932239159, 1.4377448075506447, 2.30736679452278, 1.3771263701609107, 0.0, 0.5838083008478778, 0.8591600117622699, 0.3254591627564572, 0.15565634443864187, 0.18055911473246683, 0.269967158187307, 1.952982096050576, 0.46678042658702507, 0.7507518565721315, 0.0, 0.49064888086458425, 0.8365611459562632, 0.8013712288023284, 0.396271273108143, 1.6395463626769258, 0.548001313103313, 0.43223279312883517, 0.22152574092357408, 0.7592415072053723, 0.21425722372132033], 33: [1.5180443647588253, 0.14037793944462268, 1.9290309199331934, 1.144810001968303, 2.087252869376731, 1.0240212655783354, 1.6646858779358067, 0.2288823107463863, 0.9584965383670965, 0.692210038356834, 1.5148390071770017, 0.5118925435635117, 1.2843782618653314, 0.24547428907493427, 1.7900253951605145, 0.46696903331592565, 2.5278276062545353, 0.1349835790936535, 1.2334623764529953, 0.23339021329351253, 2.5025061885737716, 0.4809956188603778, 3.1892177256197978, 0.501936687573758, 2.203770879206403, 0.0, 1.4573745446017117, 0.2740006565516565, 0.9725237845398792, 1.9937316683121669, 0.37962075360268616, 1.285543342327922], 34: [0.0, 5.75549551722953, 2.225804907615223, 0.28620250049207574, 0.23191698548630343, 2.3040478475512547, 1.1652801145550646, 2.746587728956636, 0.7188724037753224, 9.921677216447955, 0.5508505480643643, 3.412616957090078, 0.4670466406783023, 2.2092686016744083, 1.1391070696476002, 9.183724321879872, 0.7222364589298673, 2.159737265498456, 0.2055770627421659, 0.7001706398805376, 1.2512530942868858, 1.9239824754415111, 0.9812977617291685, 2.844307896251295, 0.4006856144011642, 2.575763275202929, 0.18217181807521396, 6.3020151006881, 4.646502526134978, 1.1076287046178703, 1.3286726376094016, 0.42851444744264067], 35: [0.0, 0.5615117577784907, 0.0, 0.0, 1.3915019129178208, 0.25600531639458385, 0.8323429389679033, 0.2288823107463863, 1.916993076734193, 0.23073667945227802, 1.3771263701609107, 0.0, 0.5838083008478778, 0.24547428907493427, 0.0, 0.0, 0.7222364589298673, 0.4049507372809605, 2.980867409761405, 0.7001706398805376, 0.0, 0.0, 0.0, 0.16731222919125263, 0.0, 0.0, 0.0, 0.0, 0.0, 0.0, 0.0, 0.0], 36: [0.0, 0.14037793944462268, 0.0, 0.8586075014762271, 0.0, 1.2800265819729193, 0.16646858779358067, 0.0, 2.2764292786218543, 1.15368339726139, 0.0, 1.1944159349815273, 0.5838083008478778, 0.9818971562997371, 0.0, 0.46696903331592565, 0.0, 0.809901474561921, 1.0278853137108295, 1.8671217063481003, 0.0, 0.7214934282905667, 0.0, 0.0, 0.0, 0.9906781827703575, 0.0, 0.2740006565516565, 0.0, 0.0, 0.9490518840067154, 0.0], 37: [0.0, 0.28075587888924536, 0.14838699384101486, 0.0, 0.0, 0.25600531639458385, 0.0, 0.2288823107463863, 0.3594362018876612, 0.23073667945227802, 0.6885631850804553, 0.0, 0.8173316211870291, 0.12273714453746713, 0.0, 0.0, 0.0, 0.0, 0.2055770627421659, 0.0, 0.0, 0.0, 0.0, 0.16731222919125263, 0.0, 0.1981356365540715, 0.0, 0.13700032827582825, 0.10805819828220879, 0.0, 0.37962075360268616, 0.0], 38: [0.8433579804215697, 1.2634014550016042, 1.0387089568871042, 1.4310125024603786, 0.9276679419452137, 2.048042531156671, 0.6658743511743227, 0.686646932239159, 2.2764292786218543, 1.15368339726139, 0.13771263701609107, 2.900724413526566, 0.9340932813566046, 2.2092686016744083, 1.1391070696476002, 1.556563444386419, 0.9027955736623341, 1.7547865282174955, 2.2613476901638245, 2.100511919641613, 0.25025061885737715, 1.9239824754415111, 0.24532444043229212, 1.8404345211037791, 0.4006856144011642, 1.981356365540715, 0.5465154542256419, 0.6850016413791413, 0.540290991411044, 0.44305148184714815, 1.7082933912120877, 0.42851444744264067], 39: [3.373431921686279, 0.8422676366677361, 1.9290309199331934, 2.5758225044286815, 2.087252869376731, 1.2800265819729193, 2.663497404697291, 2.288823107463863, 2.8754896151012894, 3.2303135123318922, 3.1673906513700945, 1.8769393263995429, 2.685518183900238, 2.2092686016744083, 1.627295813782286, 2.49050151101827, 2.3472684915220685, 2.8346551609667237, 2.3641362215349075, 2.3339021329351253, 3.003007426288526, 2.885973713162267, 2.453244404322921, 2.5096834378687896, 1.2020568432034924, 2.575763275202929, 1.8217181807521396, 2.0550049241374237, 1.9450475690797584, 1.5506801864650186, 3.6063971592255184, 2.571086684655844], 40: [19.397233549696104, 14.739683641685382, 17.9548262547628, 13.451517523127558, 16.698022955013847, 15.36031898367503, 14.81570431362868, 18.76834948120368, 16.534065286832416, 10.613887254804789, 14.735252160721744, 14.503622067632833, 14.478445861027371, 18.042360247007668, 20.178468090900346, 14.631696377232338, 15.166965637527213, 18.627733914924182, 17.16568473897085, 16.33731493054588, 20.270300127447552, 20.682811610996247, 17.908684151557324, 25.93339552464416, 23.640451249668686, 22.58746256716415, 20.038899988273535, 16.30303906482356, 14.155623974969352, 17.057482051115205, 15.564450897710131, 18.42612124003355], 41: [0.8433579804215697, 0.5615117577784907, 0.8903219630460892, 1.4310125024603786, 1.1595849274315173, 1.2800265819729193, 1.4982172901422262, 1.1444115537319315, 0.8386844710712094, 0.692210038356834, 0.9639884591126374, 0.8531542392725195, 0.8173316211870291, 0.49094857814986853, 0.48818874413468577, 0.7782817221932095, 0.5416773441974004, 1.349835790936535, 1.74740503330841, 0.9335608531740501, 0.0, 1.4429868565811335, 0.49064888086458425, 0.8365611459562632, 0.4006856144011642, 0.792542546216286, 0.7286872723008558, 0.2740006565516565, 0.8644655862576703, 0.8861029636942963, 0.5694311304040292, 0.642771671163961], 42: [15.349115243672568, 15.441573338908494, 14.245151408737428, 17.172150029524545, 15.074604056609724, 16.896350882042533, 16.313921603770908, 16.479526373739812, 14.856696344689995, 14.305674126041238, 22.30944719660675, 20.13444004683146, 15.062254161875249, 13.992034477271252, 12.530177766123602, 18.056135954882457, 15.166965637527213, 16.19802949123842, 14.287605860580529, 12.136291091262652, 11.011027229724595, 16.353851041252845, 14.96479086636982, 14.388851710447728, 16.628452997648314, 15.256444014663504, 15.484604536393187, 16.166038736547733, 14.155623974969352, 13.956121678185168, 14.425588636902074, 16.712063450262985], 43: [11.638340129817662, 10.107211640012833, 9.348380611983936, 10.875695018698877, 9.50859640493844, 10.496217972177938, 8.989303740853357, 9.613057051348225, 8.14722057612032, 10.383150575352511, 9.2267466800781, 9.725958327706723, 8.056554551700716, 9.082548695772568, 8.299208650289659, 9.806349699634438, 9.02795573662334, 10.123768432024013, 8.531448103799883, 8.635437891859965, 6.756766709149184, 10.341405805498123, 8.341030974697933, 8.19829923037138, 8.815083516825611, 8.12356109871693, 8.926419085685485, 9.042021666204665, 8.752714060858912, 8.63950389601939, 9.490518840067153, 8.998803396295454], 44: [15.180443647588254, 15.16081746001925, 13.948377421055397, 16.313542528048316, 16.234188984041243, 11.008228604967105, 13.983361374660777, 8.239763186869906, 12.819891200659915, 13.382727408232125, 9.08903404306201, 9.725958327706723, 10.158264434753075, 7.732440105860429, 13.181096091636515, 11.5185694884595, 10.472428654483075, 9.583834115649399, 11.820681107674538, 13.303242157730216, 10.010024754295086, 10.8224014243585, 11.53024870031773, 12.883041647726454, 13.422968082438999, 11.095595647028004, 11.658996356813693, 9.590022979307978, 10.157470638527627, 13.513070196338019, 9.30070846326581, 14.140976765607142], 45: [1.5180443647588253, 0.9826455761123587, 2.6709658891382677, 0.5724050009841515, 1.623418898404124, 0.5120106327891677, 2.663497404697291, 1.1444115537319315, 1.6773689421424187, 0.23073667945227802, 1.1017010961287286, 1.1944159349815273, 0.9340932813566046, 1.4728457344496055, 2.2782141392952004, 2.3348451665796284, 1.4444729178597346, 2.2947208445921095, 1.439039439195161, 0.23339021329351253, 2.2522555697163944, 1.9239824754415111, 0.24532444043229212, 0.8365611459562632, 2.003428072005821, 2.9720345483110724, 1.4573745446017117, 2.7400065655165653, 2.0531057673619673, 0.8861029636942963, 1.1388622608080583, 0.642771671163961], 46: [0.8433579804215697, 1.5441573338908494, 0.8903219630460892, 2.289620003936606, 0.46383397097260687, 1.536031898367503, 0.8323429389679033, 1.6021761752247041, 1.1981206729588705, 1.384420076713668, 0.27542527403218214, 1.3650467828360313, 0.8173316211870291, 2.086531457136941, 0.9763774882693715, 2.0235324777023447, 0.7222364589298673, 2.69967158187307, 0.9250967823397465, 1.6337314930545879, 1.2512530942868858, 0.9619912377207556, 0.49064888086458425, 1.5058100627212738, 1.6027424576046567, 2.1794920020947863, 1.2752027265264978, 1.2330029544824543, 0.8644655862576703, 1.1076287046178703, 1.3286726376094016, 0.42851444744264067], 47: [77.08291941053147, 70.75048148008983, 53.419317782765354, 59.24391760185967, 57.97924637157586, 63.48931846585679, 51.27232504042285, 64.54481163048094, 57.749416436617565, 55.607539747999006, 58.803296005870884, 60.40332014049438, 51.49189213478283, 41.23968056458895, 49.63252232035972, 54.16840786464738, 49.65375655142837, 46.29936762912315, 54.78628722078721, 48.54516436505061, 60.81090038234265, 59.16246111982647, 46.6116436821355, 57.72271907098216, 54.69358636575891, 54.091028779261514, 56.655435421391545, 54.66313098205548, 50.67929499435593, 56.267538194587814, 52.76728475077337, 48.63638978473971], 48: [0.16867159608431392, 6.457385214452644, 0.2967739876820297, 14.310125024603787, 1.1595849274315173, 11.008228604967105, 1.1652801145550646, 8.239763186869906, 3.953798220764273, 11.075360613709345, 0.6885631850804553, 9.21406578414321, 1.05085494152618, 6.382331515948291, 0.813647906891143, 6.848879155300243, 1.0833546883948009, 6.884162533776329, 3.803175660730069, 15.63714429066534, 0.25025061885737715, 14.189370756381145, 0.0, 9.536797063901401, 1.0017140360029104, 10.897460010473932, 0.9108590903760698, 7.398017726894726, 4.430386129570561, 0.44305148184714815, 11.578432984881927, 1.285543342327922], 49: [4.554133094276477, 1.2634014550016042, 4.006448833707402, 0.0, 6.02984162264389, 0.7680159491837515, 2.8299659924908713, 0.4577646214927726, 2.2764292786218543, 0.23073667945227802, 2.065689555241366, 1.0237850871270233, 2.685518183900238, 0.49094857814986853, 3.905509953077486, 0.6226253777545675, 2.3472684915220685, 1.4848193700301884, 2.4669247529059906, 0.46678042658702507, 2.2522555697163944, 0.0, 1.962595523458337, 0.501936687573758, 2.4041136864069848, 0.396271273108143, 2.9147490892034233, 0.2740006565516565, 1.9450475690797584, 2.2152574092357407, 0.0, 2.3568294609345237], 50: [3.2047603256019648, 1.9652911522247174, 2.374191901456238, 1.144810001968303, 5.566007651671283, 0.25600531639458385, 2.1640916413165487, 0.9155292429855452, 2.8754896151012894, 0.9229467178091121, 2.8919653773379124, 0.6825233914180157, 2.568756523730663, 0.49094857814986853, 2.9291324648081147, 0.7782817221932095, 3.069504950451936, 0.809901474561921, 2.4669247529059906, 0.9335608531740501, 3.003007426288526, 0.2404978094301889, 5.151813249078135, 1.003873375147516, 3.8065133368110597, 1.3869494558785005, 3.8256081795794934, 0.2740006565516565, 2.3772803622085936, 4.430514818471481, 1.3286726376094016, 3.4281155795411253], 51: [0.0, 1.2634014550016042, 0.0, 0.8586075014762271, 0.23191698548630343, 1.536031898367503, 0.33293717558716135, 0.9155292429855452, 1.1981206729588705, 1.6151567561659461, 0.13771263701609107, 0.5118925435635117, 0.11676166016957558, 0.7364228672248028, 0.0, 0.9339380666318513, 0.0, 0.9448850536555745, 0.7195197195975805, 1.8671217063481003, 0.0, 0.9619912377207556, 0.0, 0.6692489167650105, 0.0, 0.792542546216286, 0.18217181807521396, 0.6850016413791413, 0.43223279312883517, 0.0, 0.5694311304040292, 0.21425722372132033], 52: [2.361402345180395, 1.9652911522247174, 0.8903219630460892, 0.8586075014762271, 0.46383397097260687, 0.25600531639458385, 1.4982172901422262, 2.288823107463863, 2.8754896151012894, 3.6917868712364483, 1.2394137331448196, 2.3888318699630546, 0.35028498050872675, 2.822954324361744, 0.3254591627564572, 3.580095922088763, 0.36111822946493366, 2.8346551609667237, 2.158559158792742, 3.7342434126962005, 0.25025061885737715, 4.809956188603778, 0.24532444043229212, 2.5096834378687896, 1.2020568432034924, 3.7645770945273584, 0.9108590903760698, 2.7400065655165653, 1.8369893707975495, 0.44305148184714815, 3.7962075360268615, 1.285543342327922], 53: [0.6746863843372557, 0.5615117577784907, 0.4451609815230446, 2.00341750344453, 0.23191698548630343, 1.0240212655783354, 0.998811526761484, 0.9155292429855452, 0.47924826918354824, 1.384420076713668, 1.3771263701609107, 0.8531542392725195, 0.5838083008478778, 0.8591600117622699, 0.6509183255129144, 0.7782817221932095, 0.7222364589298673, 0.539934316374614, 1.3362509078240783, 1.6337314930545879, 0.25025061885737715, 1.4429868565811335, 0.0, 0.6692489167650105, 1.0017140360029104, 0.9906781827703575, 1.0930309084512837, 0.41100098482748476, 0.7564073879754616, 0.8861029636942963, 1.1388622608080583, 0.642771671163961], 54: [0.6746863843372557, 0.42113381833386804, 1.187095950728119, 0.0, 0.0, 1.0240212655783354, 0.499405763380742, 0.4577646214927726, 0.3594362018876612, 0.23073667945227802, 0.0, 1.535677630690535, 0.23352332033915116, 1.1046343008372042, 0.813647906891143, 1.245250755509135, 0.5416773441974004, 1.619802949123842, 0.2055770627421659, 0.0, 1.2512530942868858, 0.9619912377207556, 0.24532444043229212, 1.1711856043387685, 0.2003428072005821, 1.585085092432572, 0.18217181807521396, 0.548001313103313, 0.43223279312883517, 0.44305148184714815, 0.5694311304040292, 0.21425722372132033], 55: [1.1807011725901975, 1.5441573338908494, 3.1161268706613123, 2.5758225044286815, 4.174505738753462, 2.8160584803404225, 2.1640916413165487, 5.035410836420499, 3.2349258169889508, 2.5381034739750583, 2.6165401033057303, 3.583247804944582, 2.802279844069814, 1.4728457344496055, 3.091862046186343, 2.3348451665796284, 1.6250320325922014, 2.2947208445921095, 2.878078878390322, 3.7342434126962005, 3.7537592828606576, 2.1644802848717, 3.43454216605209, 3.1789323546338, 3.8065133368110597, 3.368305821419215, 2.1860618169025674, 2.0550049241374237, 3.3498041467484727, 4.652040559395056, 3.0369660288214892, 5.356430593033008], 56: [0.0, 2.9479367283370763, 0.0, 6.296455010825666, 1.3915019129178208, 5.8881222770754285, 0.6658743511743227, 4.806528525674112, 1.7971810094383058, 2.5381034739750583, 0.6885631850804553, 4.095140348508093, 0.35028498050872675, 2.086531457136941, 0.6509183255129144, 2.646157855456912, 0.36111822946493366, 2.8346551609667237, 1.541827970566244, 5.834755332337814, 0.25025061885737715, 4.569458379173589, 0.24532444043229212, 3.6808690422075583, 0.4006856144011642, 3.96271273108143, 0.0, 1.9180045958615957, 2.161163965644176, 0.22152574092357408, 3.9860179128282045, 0.42851444744264067], 57: [1.6867159608431395, 0.5615117577784907, 0.7419349692050744, 0.8586075014762271, 0.46383397097260687, 3.072063796735006, 0.998811526761484, 3.2043523504494082, 1.5575568748465318, 5.076206947950117, 1.9279769182252748, 2.3888318699630546, 0.9340932813566046, 1.4728457344496055, 0.1627295813782286, 1.7122197888250608, 1.2639138031272676, 1.7547865282174955, 0.7195197195975805, 2.567292346228638, 0.0, 3.8479649508830223, 0.24532444043229212, 0.8365611459562632, 1.0017140360029104, 1.981356365540715, 0.7286872723008558, 0.9590022979307978, 1.1886401811042968, 0.44305148184714815, 3.6063971592255184, 0.42851444744264067], 58: [0.16867159608431392, 0.7018896972231133, 0.8903219630460892, 4.293037507381136, 2.087252869376731, 2.048042531156671, 1.997623053522968, 2.975470039703022, 2.03680514403008, 1.6151567561659461, 2.8919653773379124, 1.8769393263995429, 1.1676166016957557, 1.3501085899121383, 2.1154845579169717, 2.1791888221409863, 0.7222364589298673, 2.159737265498456, 1.541827970566244, 3.034072772815663, 0.0, 3.3669693320226446, 1.2266222021614606, 1.8404345211037791, 1.8030852648052387, 3.170170184865144, 1.8217181807521396, 1.9180045958615957, 2.0531057673619673, 1.5506801864650186, 2.4675348984174597, 2.1425722372132032], 59: [0.16867159608431392, 1.4037793944462267, 0.0, 3.148227505412833, 0.46383397097260687, 2.8160584803404225, 0.33293717558716135, 1.373293864478318, 0.9584965383670965, 1.8458934356182242, 0.8262758220965464, 1.1944159349815273, 0.5838083008478778, 0.7364228672248028, 0.1627295813782286, 0.31131268887728375, 0.18055911473246683, 0.269967158187307, 0.6167311882264976, 0.46678042658702507, 0.0, 0.2404978094301889, 0.24532444043229212, 0.8365611459562632, 0.2003428072005821, 1.1888138193244289, 0.0, 0.8220019696549695, 0.32417459484662636, 0.0, 1.3286726376094016, 0.21425722372132033], 60: [0.0, 0.42113381833386804, 0.0, 0.0, 2.3191698548630346, 0.25600531639458385, 0.33293717558716135, 0.0, 0.9584965383670965, 0.46147335890455604, 2.6165401033057303, 0.0, 3.035803164408965, 0.24547428907493427, 0.1627295813782286, 0.0, 0.36111822946493366, 0.4049507372809605, 2.3641362215349075, 0.7001706398805376, 0.0, 0.0, 0.0, 0.8365611459562632, 0.0, 0.0, 0.0, 0.13700032827582825, 0.0, 0.0, 0.37962075360268616, 0.0], 61: [1.6867159608431395, 0.5615117577784907, 1.9290309199331934, 0.28620250049207574, 1.1595849274315173, 1.7920372147620869, 2.9964345802844523, 0.4577646214927726, 1.3179327402547576, 0.23073667945227802, 0.9639884591126374, 2.7300935656720626, 1.5179015822044826, 3.682114336124014, 1.7900253951605145, 2.0235324777023447, 1.986150262057135, 3.1046223191540303, 1.439039439195161, 0.0, 3.003007426288526, 0.7214934282905667, 3.679866606484382, 2.1750589794862845, 3.8065133368110597, 1.1888138193244289, 2.1860618169025674, 2.3290055806890804, 2.2692221639263845, 3.101360372930037, 2.0879141448147736, 2.571086684655844], 62: [1.0120295765058835, 0.7018896972231133, 1.6322569322511635, 1.144810001968303, 3.9425887532671586, 0.5120106327891677, 3.4958403436651944, 1.6021761752247041, 4.433046489947821, 1.8458934356182242, 5.921643391691916, 0.8531542392725195, 3.9698964457655697, 1.3501085899121383, 2.766402883429886, 0.9339380666318513, 5.597332556706472, 0.6749178954682675, 3.49481006661682, 1.8671217063481003, 0.5005012377147543, 1.2024890471509444, 2.9438932851875057, 1.1711856043387685, 5.409255794415716, 0.5944069096622144, 4.0077799976547075, 0.548001313103313, 1.4047565776687143, 3.7659375957007595, 1.1388622608080583, 5.784945040475649], 63: [0.6746863843372557, 1.2634014550016042, 2.0774179137742084, 1.4310125024603786, 0.23191698548630343, 2.3040478475512547, 0.8323429389679033, 2.288823107463863, 1.916993076734193, 1.8458934356182242, 0.27542527403218214, 3.07135526138107, 0.35028498050872675, 2.5774800352868095, 0.6509183255129144, 1.8678761332637026, 0.36111822946493366, 1.4848193700301884, 0.9250967823397465, 1.1669510664675626, 1.0010024754295086, 0.9619912377207556, 0.49064888086458425, 1.003873375147516, 0.6010284216017462, 1.3869494558785005, 0.18217181807521396, 1.2330029544824543, 1.2966983793865055, 1.1076287046178703, 2.2777245216161166, 0.42851444744264067], 64: [5.228819478613732, 1.5441573338908494, 0.7419349692050744, 3.148227505412833, 1.623418898404124, 0.0, 1.1652801145550646, 0.0, 1.4377448075506447, 1.384420076713668, 3.3051032883861855, 0.0, 1.1676166016957557, 0.3682114336124014, 1.3018366510258288, 0.31131268887728375, 1.0833546883948009, 0.539934316374614, 0.4111541254843318, 0.0, 2.2522555697163944, 0.0, 0.9812977617291685, 0.0, 2.4041136864069848, 0.1981356365540715, 2.5504054530529956, 0.0, 0.540290991411044, 1.7722059273885926, 0.0, 1.7140577897705627], 65: [54.81826872740203, 56.291553717293695, 47.038677047601716, 41.49936257135098, 47.3110650392059, 43.520903787079256, 40.118929658252945, 41.19881593434953, 42.29365975544813, 35.533448635650814, 41.589216378859504, 41.633926876498954, 37.013446273755456, 35.1028233377156, 37.5905332983708, 39.53671148741504, 37.19517763488817, 35.90563203891183, 35.77040891713686, 28.706996235102043, 47.79786820175904, 38.960645127690604, 39.006586028734446, 38.31450048479685, 38.66616178971234, 38.240177854935794, 39.34911270424622, 38.36009191723191, 37.172020209079825, 43.64057096194409, 32.26776405622832, 38.56630026983766], 66: [0.5060147882529418, 2.3864249705585854, 0.2967739876820297, 4.8654425083652875, 1.1595849274315173, 4.864101011497093, 0.8323429389679033, 5.264293147166885, 2.156617211325967, 5.3069436274023944, 0.6885631850804553, 3.241986109235574, 0.5838083008478778, 3.804851480661481, 0.48818874413468577, 3.891408610966047, 0.7222364589298673, 3.239605898247684, 1.1306738450819123, 8.635437891859965, 0.5005012377147543, 7.214934282905667, 0.7359733212968764, 3.3462445838250527, 0.6010284216017462, 4.953390913851787, 0.3643436361504279, 2.7400065655165653, 1.8369893707975495, 0.0, 4.365638666430891, 0.21425722372132033], 67: [0.16867159608431392, 1.1230235155569814, 0.14838699384101486, 2.862025004920757, 0.0, 2.3040478475512547, 0.6658743511743227, 2.288823107463863, 0.7188724037753224, 3.6917868712364483, 0.4131379110482732, 2.900724413526566, 0.23352332033915116, 2.5774800352868095, 0.48818874413468577, 2.1791888221409863, 0.0, 2.2947208445921095, 1.0278853137108295, 3.5008531994026884, 0.25025061885737715, 5.531449616894345, 0.24532444043229212, 3.1789323546338, 0.4006856144011642, 4.160848367635501, 0.0, 2.4660059089649087, 1.1886401811042968, 0.0, 3.4165867824241754, 0.21425722372132033], 68: [0.33734319216862785, 0.28075587888924536, 1.0387089568871042, 0.0, 0.0, 1.7920372147620869, 1.1652801145550646, 0.9155292429855452, 0.3594362018876612, 0.23073667945227802, 0.0, 1.1944159349815273, 0.35028498050872675, 1.841057168062007, 1.1391070696476002, 0.31131268887728375, 0.5416773441974004, 0.809901474561921, 0.3083655941132488, 0.0, 0.5005012377147543, 0.2404978094301889, 0.0, 1.5058100627212738, 0.0, 1.3869494558785005, 0.0, 0.6850016413791413, 0.540290991411044, 0.6645772227707223, 0.9490518840067154, 0.0], 69: [0.5060147882529418, 4.632472001672548, 0.14838699384101486, 9.730885016730575, 0.9276679419452137, 10.752223288572521, 0.33293717558716135, 6.4087047008988165, 0.23962413459177412, 5.537680306854672, 0.13771263701609107, 5.118925435635117, 0.23352332033915116, 3.0684286134366783, 0.0, 3.2687832332114795, 0.0, 3.3745894773413374, 0.0, 6.068145545631326, 0.7507518565721315, 5.531449616894345, 0.0, 3.1789323546338, 0.4006856144011642, 3.5664414579732866, 0.0, 3.288007878619878, 2.9175713536196373, 0.22152574092357408, 4.175828289629547, 0.21425722372132033], 70: [1.0120295765058835, 0.28075587888924536, 0.2967739876820297, 0.0, 0.0, 1.0240212655783354, 1.3317487023486454, 0.9155292429855452, 0.8386844710712094, 0.23073667945227802, 1.2394137331448196, 0.17063084785450391, 1.05085494152618, 0.8591600117622699, 0.6509183255129144, 0.7782817221932095, 1.0833546883948009, 2.159737265498456, 0.9250967823397465, 0.0, 0.5005012377147543, 0.2404978094301889, 0.49064888086458425, 1.003873375147516, 1.2020568432034924, 0.396271273108143, 0.5465154542256419, 0.548001313103313, 0.32417459484662636, 0.8861029636942963, 0.0, 0.42851444744264067], 71: [1.8553875569274534, 0.14037793944462268, 2.225804907615223, 0.0, 2.3191698548630346, 0.0, 0.998811526761484, 0.0, 0.9584965383670965, 0.23073667945227802, 3.0296780143540034, 0.6825233914180157, 3.1525648245785405, 0.7364228672248028, 3.254591627564572, 0.31131268887728375, 3.4306231799168696, 0.539934316374614, 0.6167311882264976, 0.23339021329351253, 4.504511139432789, 0.0, 2.207919963890629, 0.0, 1.6027424576046567, 0.5944069096622144, 3.2790927253538515, 0.548001313103313, 1.7289311725153407, 2.879834632006463, 0.5694311304040292, 2.999601132098485], 72: [6.4095206512039296, 0.9826455761123587, 4.748383802912476, 1.144810001968303, 5.102173680698676, 1.2800265819729193, 6.159337748362485, 2.5177054182102494, 3.5943620188766117, 0.46147335890455604, 5.0953675695953695, 3.412616957090078, 4.20341976610472, 2.5774800352868095, 6.183724092372686, 2.646157855456912, 6.319569015636339, 1.889770107311149, 2.980867409761405, 0.23339021329351253, 8.508521041150823, 1.4429868565811335, 4.661164368213551, 0.8365611459562632, 7.412683866421537, 0.9906781827703575, 5.465154542256419, 0.8220019696549695, 4.430386129570561, 5.981195004936501, 1.1388622608080583, 4.7136589218690474], 73: [0.0, 0.0, 0.0, 0.0, 0.0, 0.25600531639458385, 0.0, 0.0, 0.0, 0.23073667945227802, 0.0, 0.17063084785450391, 0.5838083008478778, 0.0, 0.0, 0.31131268887728375, 0.0, 0.0, 0.0, 0.0, 0.0, 0.2404978094301889, 0.0, 0.501936687573758, 0.0, 0.0, 0.0, 0.0, 0.0, 0.0, 0.0, 0.0], 74: [0.6746863843372557, 1.9652911522247174, 0.0, 1.144810001968303, 0.23191698548630343, 0.5120106327891677, 0.33293717558716135, 0.4577646214927726, 0.0, 0.0, 0.0, 0.34126169570900783, 0.0, 0.0, 0.0, 1.4009070999477768, 0.18055911473246683, 0.1349835790936535, 0.0, 0.23339021329351253, 0.25025061885737715, 0.2404978094301889, 0.0, 0.16731222919125263, 0.0, 0.0, 0.0, 0.13700032827582825, 0.43223279312883517, 0.22152574092357408, 0.18981037680134308, 0.21425722372132033], 75: [13.831070878913742, 2.246047031113963, 5.935479753640595, 0.8586075014762271, 6.261758608130193, 0.0, 5.326994809394582, 0.0, 2.7556775478054023, 0.692210038356834, 4.131379110482732, 0.8531542392725195, 5.721321348309203, 2.086531457136941, 7.811019906154972, 1.0895944110704932, 7.583482818763606, 1.349835790936535, 4.8310609744408985, 0.7001706398805376, 12.262280324011481, 1.4429868565811335, 8.831679855562516, 0.6692489167650105, 9.816797552828522, 0.5944069096622144, 8.74424726761027, 0.6850016413791413, 4.754560724417187, 14.842224641879463, 1.1388622608080583, 13.28394787072186], 76: [2.361402345180395, 1.6845352733354721, 2.0774179137742084, 1.144810001968303, 0.6957509564589104, 0.25600531639458385, 1.3317487023486454, 0.9155292429855452, 0.9584965383670965, 0.692210038356834, 2.8919653773379124, 0.5118925435635117, 1.6346632423740581, 0.6136857226873357, 1.4645662324040574, 0.46696903331592565, 1.6250320325922014, 0.9448850536555745, 0.5139426568554147, 0.46678042658702507, 1.0010024754295086, 0.9619912377207556, 0.9812977617291685, 0.6692489167650105, 2.4041136864069848, 0.396271273108143, 2.0038899988273537, 0.2740006565516565, 0.9725237845398792, 2.2152574092357407, 0.37962075360268616, 1.4998005660492424], 77: [70.1673839710746, 57.274199293406056, 53.27093078892434, 64.39556261071704, 73.51768439915818, 56.83318023959762, 60.761034544656944, 56.30504844361103, 56.790919898250465, 51.454279517858, 67.34147950086853, 54.772502161295755, 58.84787672546609, 43.44894916626336, 60.04721552856635, 52.14487538694503, 61.39009900903872, 41.43995878175162, 55.403018409013704, 51.81262735115978, 58.30839419376888, 56.2764874066642, 59.1231901441824, 51.03022990333206, 66.31346918339267, 50.52458732128823, 59.02366905636932, 43.56610439171339, 50.895411390920344, 61.58415597675359, 41.37866214269279, 61.92033765546157], 78: [2.698745537349023, 3.228692607226322, 1.3354829445691339, 3.7206325063969845, 0.9276679419452137, 2.3040478475512547, 1.3317487023486454, 2.5177054182102494, 2.156617211325967, 2.076630115070502, 3.7182411994344586, 2.3888318699630546, 1.5179015822044826, 1.841057168062007, 3.254591627564572, 1.4009070999477768, 3.069504950451936, 1.349835790936535, 1.3362509078240783, 1.6337314930545879, 1.7517543320016402, 1.6834846660113223, 1.2266222021614606, 1.338497833530021, 4.6078845656133876, 1.585085092432572, 3.0969209072786374, 1.096002626206626, 1.7289311725153407, 3.7659375957007595, 0.9490518840067154, 4.070887250705086], 79: [0.0, 0.9826455761123587, 0.0, 3.7206325063969845, 0.23191698548630343, 1.2800265819729193, 0.16646858779358067, 1.1444115537319315, 1.6773689421424187, 2.30736679452278, 0.27542527403218214, 2.2182010221085506, 0.4670466406783023, 1.4728457344496055, 0.3254591627564572, 1.556563444386419, 0.18055911473246683, 1.4848193700301884, 0.10278853137108294, 2.3339021329351253, 0.25025061885737715, 1.6834846660113223, 0.24532444043229212, 1.6731222919125264, 0.2003428072005821, 1.585085092432572, 0.18217181807521396, 0.8220019696549695, 0.540290991411044, 0.22152574092357408, 2.0879141448147736, 0.42851444744264067], 80: [48.57741967228241, 55.168530201736715, 47.780612016806785, 26.616832545763042, 36.17904973586334, 32.51267518211215, 35.79074637561985, 39.138875137632056, 55.23336302340393, 35.533448635650814, 52.88165261417897, 36.34437059300933, 43.43533758308212, 25.529326063793164, 29.779513392215833, 37.668835354151334, 39.00076878221283, 28.481535188760887, 45.43253086601866, 22.63885068947072, 61.81190285777216, 34.15068893908683, 38.761261588302155, 30.785450171190487, 48.88364495694203, 33.28678694108401, 48.63987542608213, 37.94909093240443, 34.03833245889577, 47.62803429856843, 33.0270055634337, 39.423329164722944], 81: [1.1807011725901975, 0.14037793944462268, 0.2967739876820297, 0.0, 0.23191698548630343, 1.536031898367503, 0.998811526761484, 1.373293864478318, 0.7188724037753224, 0.0, 0.8262758220965464, 1.1944159349815273, 0.5838083008478778, 1.2273714453746714, 0.9763774882693715, 0.7782817221932095, 0.9027955736623341, 2.69967158187307, 0.6167311882264976, 0.23339021329351253, 0.5005012377147543, 0.4809956188603778, 0.49064888086458425, 1.338497833530021, 1.2020568432034924, 1.585085092432572, 0.5465154542256419, 0.13700032827582825, 0.8644655862576703, 1.3291544455414446, 0.9490518840067154, 0.8570288948852813], 82: [0.8433579804215697, 1.2634014550016042, 0.2967739876820297, 1.144810001968303, 0.46383397097260687, 0.0, 0.0, 0.4577646214927726, 0.23962413459177412, 0.23073667945227802, 0.0, 0.6825233914180157, 0.0, 0.24547428907493427, 1.1391070696476002, 0.15565634443864187, 0.0, 0.1349835790936535, 0.0, 0.7001706398805376, 0.7507518565721315, 0.0, 0.0, 0.0, 0.0, 0.1981356365540715, 0.18217181807521396, 0.13700032827582825, 0.21611639656441758, 0.0, 0.0, 0.21425722372132033], 83: [6.072177459035301, 3.930582304449435, 4.006448833707402, 3.7206325063969845, 5.102173680698676, 3.8400797459187577, 4.1617146948395165, 5.493175457913272, 2.635865480509515, 3.4610501917841705, 6.610206576772371, 4.436402044217101, 2.10170988305236, 3.9275886251989482, 7.485560743398515, 3.580095922088763, 5.958450786171405, 3.239605898247684, 3.3920215352457372, 4.6678042658702505, 5.505513614862298, 6.733938664045289, 7.114408772536471, 4.182805729781316, 5.80994140881688, 3.96271273108143, 6.193841814557275, 2.7400065655165653, 5.510968112392648, 6.424246486783648, 3.0369660288214892, 7.070488382803571], 84: [2.024059153011767, 1.8249132127800949, 3.858061839866387, 0.28620250049207574, 0.46383397097260687, 1.2800265819729193, 1.8311544657293874, 0.686646932239159, 0.7188724037753224, 1.15368339726139, 0.8262758220965464, 3.07135526138107, 0.7005699610174535, 4.295800058811349, 1.4645662324040574, 4.669690333159257, 1.4444729178597346, 1.889770107311149, 0.3083655941132488, 0.0, 2.752756807431149, 1.2024890471509444, 1.962595523458337, 1.338497833530021, 1.8030852648052387, 1.7832207289866433, 1.6395463626769258, 5.480013131033131, 2.70145495705522, 1.1076287046178703, 0.9490518840067154, 0.0], 85: [3.8794467099392205, 0.0, 4.599996809071461, 0.5724050009841515, 10.204347361397351, 0.7680159491837515, 6.492274923949647, 0.0, 5.391543028314918, 0.23073667945227802, 10.32844777620683, 0.34126169570900783, 5.0207513872917495, 0.49094857814986853, 5.695535348238001, 0.15565634443864187, 7.222364589298673, 0.1349835790936535, 3.700387129358986, 0.46678042658702507, 1.501503713144263, 0.2404978094301889, 4.906488808645842, 0.16731222919125263, 7.813369480822701, 0.0, 5.647326360331633, 0.13700032827582825, 2.8095131553374286, 6.645772227707223, 0.0, 5.570687816754329], 86: [4.048118306023534, 3.509448486115567, 1.9290309199331934, 4.293037507381136, 3.014920811321945, 4.608095695102509, 1.3317487023486454, 4.119881593434953, 0.9584965383670965, 2.768840153427336, 2.4788274662896392, 4.777663739926109, 1.05085494152618, 3.804851480661481, 3.091862046186343, 4.669690333159257, 1.0833546883948009, 3.239605898247684, 0.6167311882264976, 4.6678042658702505, 0.0, 5.531449616894345, 0.9812977617291685, 5.186679104928832, 1.6027424576046567, 6.73661164283843, 1.2752027265264978, 4.521010833102332, 3.3498041467484727, 1.7722059273885926, 5.694311304040292, 1.7140577897705627], 87: [0.0, 0.7018896972231133, 0.0, 0.0, 0.0, 0.0, 0.0, 0.0, 0.0, 0.0, 0.0, 0.0, 0.0, 0.24547428907493427, 0.0, 0.0, 0.18055911473246683, 0.0, 0.0, 0.0, 0.0, 0.4809956188603778, 0.0, 0.0, 0.0, 0.0, 0.0, 0.0, 0.0, 0.0, 0.0, 0.0], 88: [0.0, 4.351716122783303, 0.4451609815230446, 5.437847509349439, 0.46383397097260687, 4.352090378707925, 0.8323429389679033, 2.975470039703022, 1.3179327402547576, 2.768840153427336, 0.27542527403218214, 2.3888318699630546, 0.4670466406783023, 0.9818971562997371, 0.1627295813782286, 1.4009070999477768, 0.36111822946493366, 0.809901474561921, 1.0278853137108295, 3.034072772815663, 0.7507518565721315, 1.9239824754415111, 0.7359733212968764, 2.1750589794862845, 0.2003428072005821, 1.3869494558785005, 0.0, 0.41100098482748476, 0.540290991411044, 0.44305148184714815, 0.9490518840067154, 0.0], 89: [0.16867159608431392, 1.8249132127800949, 0.14838699384101486, 2.289620003936606, 0.9276679419452137, 2.8160584803404225, 0.33293717558716135, 2.5177054182102494, 0.11981206729588706, 2.076630115070502, 0.4131379110482732, 1.3650467828360313, 0.7005699610174535, 1.1046343008372042, 0.3254591627564572, 0.7782817221932095, 0.5416773441974004, 1.7547865282174955, 0.10278853137108294, 1.8671217063481003, 0.25025061885737715, 2.1644802848717, 0.0, 0.8365611459562632, 1.2020568432034924, 0.9906781827703575, 0.0, 1.096002626206626, 0.540290991411044, 0.0, 1.3286726376094016, 0.21425722372132033], 90: [5.228819478613732, 3.6498264255601898, 3.264513864502327, 9.4446825162385, 5.797924637157586, 6.65613822625918, 1.997623053522968, 5.722057768659657, 2.516053413213628, 4.61473358904556, 2.7542527403218213, 4.607032892071605, 2.10170988305236, 3.804851480661481, 1.7900253951605145, 4.202721299843331, 3.069504950451936, 4.049507372809605, 2.2613476901638245, 6.068145545631326, 3.253258045145903, 4.809956188603778, 2.453244404322921, 4.015493500590064, 4.006856144011642, 3.7645770945273584, 3.2790927253538515, 3.288007878619878, 3.890095138159517, 3.7659375957007595, 3.7962075360268615, 3.213858355819805], 91: [4.72280469036079, 1.2634014550016042, 8.161284661255818, 1.4310125024603786, 9.276679419452138, 1.7920372147620869, 4.8275890460138395, 2.746587728956636, 5.391543028314918, 0.692210038356834, 4.544517021531005, 2.900724413526566, 4.553704746613447, 2.3320057462118755, 4.719157859968629, 1.8678761332637026, 5.597332556706472, 2.2947208445921095, 2.878078878390322, 0.46678042658702507, 9.509523516580332, 2.404978094301889, 4.661164368213551, 1.6731222919125264, 4.8082273728139695, 1.1888138193244289, 3.461264543429065, 1.096002626206626, 2.2692221639263845, 5.759669264012926, 3.0369660288214892, 6.42771671163961], 92: [1.0120295765058835, 2.9479367283370763, 0.7419349692050744, 1.144810001968303, 1.8553358838904275, 1.536031898367503, 0.6658743511743227, 0.9155292429855452, 0.3594362018876612, 1.384420076713668, 2.065689555241366, 0.6825233914180157, 0.8173316211870291, 1.5955828789870727, 1.7900253951605145, 1.245250755509135, 1.6250320325922014, 1.2148522118428815, 0.9250967823397465, 0.7001706398805376, 1.2512530942868858, 1.6834846660113223, 1.962595523458337, 1.003873375147516, 1.4023996504040745, 0.792542546216286, 1.2752027265264978, 1.096002626206626, 2.0531057673619673, 1.1076287046178703, 1.3286726376094016, 1.285543342327922], 93: [4.3854614981921625, 1.2634014550016042, 2.6709658891382677, 0.8586075014762271, 3.246837796808248, 0.5120106327891677, 1.4982172901422262, 0.4577646214927726, 1.916993076734193, 0.692210038356834, 2.203402192257457, 0.34126169570900783, 1.401139922034907, 0.24547428907493427, 2.766402883429886, 0.46696903331592565, 2.1667093767896017, 0.9448850536555745, 1.439039439195161, 0.0, 3.5035086640032804, 0.2404978094301889, 2.453244404322921, 0.0, 2.604456493607567, 0.0, 1.8217181807521396, 0.2740006565516565, 1.4047565776687143, 1.5506801864650186, 0.18981037680134308, 1.928315013491883], 94: [28.67417133433337, 25.689162918365952, 24.335466989926438, 26.903035046255116, 32.700294953568786, 27.39256885422047, 24.9702881690371, 27.236994978819972, 23.962413459177412, 23.30440462468008, 24.6505620258803, 26.959673961011617, 24.169663655102145, 24.179217473881025, 26.036733020516575, 27.551172965639612, 22.931007571023287, 24.567011395044936, 22.202322776153917, 22.63885068947072, 18.268295176588534, 27.416750275041533, 18.154008591989616, 28.275766733321696, 21.03599475606112, 27.342717844461866, 17.85283817137097, 23.153055478614977, 20.8552322684663, 20.380368164968814, 20.119899940942364, 19.28315013491883], 95: [2.530073941264709, 0.42113381833386804, 1.7806439260921785, 0.0, 2.087252869376731, 1.0240212655783354, 2.663497404697291, 1.373293864478318, 1.6773689421424187, 1.15368339726139, 1.2394137331448196, 0.6825233914180157, 2.3352332033915113, 1.1046343008372042, 0.813647906891143, 0.7782817221932095, 1.6250320325922014, 1.4848193700301884, 1.2334623764529953, 0.46678042658702507, 0.5005012377147543, 0.7214934282905667, 1.962595523458337, 0.6692489167650105, 1.0017140360029104, 0.5944069096622144, 1.8217181807521396, 1.507003611034111, 0.8644655862576703, 1.3291544455414446, 0.5694311304040292, 1.928315013491883], 96: [0.8433579804215697, 2.667180849447831, 0.14838699384101486, 3.148227505412833, 0.0, 2.8160584803404225, 0.0, 1.8310584859710903, 0.11981206729588706, 1.15368339726139, 0.0, 3.07135526138107, 0.0, 1.1046343008372042, 0.0, 1.4009070999477768, 0.0, 1.079868632749228, 0.10278853137108294, 1.6337314930545879, 0.0, 1.6834846660113223, 0.0, 1.5058100627212738, 0.2003428072005821, 2.575763275202929, 0.0, 0.6850016413791413, 0.9725237845398792, 0.0, 1.1388622608080583, 0.0], 97: [0.33734319216862785, 0.14037793944462268, 0.0, 0.0, 0.0, 0.0, 0.0, 0.0, 0.0, 0.23073667945227802, 0.0, 0.17063084785450391, 0.0, 0.12273714453746713, 0.0, 0.15565634443864187, 0.0, 0.0, 0.0, 0.0, 0.0, 0.0, 0.0, 0.0, 0.0, 0.0, 0.0, 0.0, 0.0, 0.0, 0.0, 0.0], 98: [0.16867159608431392, 0.42113381833386804, 0.8903219630460892, 0.8586075014762271, 3.014920811321945, 1.2800265819729193, 3.4958403436651944, 1.1444115537319315, 3.953798220764273, 2.5381034739750583, 2.4788274662896392, 0.0, 2.568756523730663, 0.24547428907493427, 0.0, 1.0895944110704932, 3.069504950451936, 0.1349835790936535, 3.803175660730069, 0.23339021329351253, 0.0, 0.0, 0.24532444043229212, 0.33462445838250526, 0.0, 0.0, 0.0, 0.41100098482748476, 0.10805819828220879, 0.8861029636942963, 0.0, 0.8570288948852813], 99: [1.3493727686745114, 0.7018896972231133, 1.0387089568871042, 0.5724050009841515, 0.6957509564589104, 0.25600531639458385, 0.8323429389679033, 0.2288823107463863, 0.3594362018876612, 0.692210038356834, 1.3771263701609107, 0.8531542392725195, 0.7005699610174535, 0.3682114336124014, 0.813647906891143, 0.6226253777545675, 0.7222364589298673, 0.4049507372809605, 1.1306738450819123, 0.23339021329351253, 2.2522555697163944, 0.4809956188603778, 1.2266222021614606, 0.8365611459562632, 1.2020568432034924, 0.5944069096622144, 1.8217181807521396, 0.6850016413791413, 1.1886401811042968, 1.3291544455414446, 0.37962075360268616, 1.4998005660492424], 100: [0.33734319216862785, 0.9826455761123587, 1.0387089568871042, 2.862025004920757, 1.623418898404124, 3.072063796735006, 0.33293717558716135, 1.8310584859710903, 0.8386844710712094, 2.076630115070502, 0.8262758220965464, 2.7300935656720626, 0.4670466406783023, 1.5955828789870727, 0.813647906891143, 1.0895944110704932, 0.36111822946493366, 1.349835790936535, 1.1306738450819123, 1.4003412797610753, 1.7517543320016402, 0.4809956188603778, 0.24532444043229212, 1.338497833530021, 0.2003428072005821, 1.1888138193244289, 0.9108590903760698, 0.9590022979307978, 0.8644655862576703, 0.6645772227707223, 0.7592415072053723, 0.42851444744264067], 101: [8.770922996384325, 0.9826455761123587, 4.896770796753491, 0.5724050009841515, 9.276679419452138, 0.25600531639458385, 3.8287775192523554, 0.4577646214927726, 3.3547378842848374, 0.692210038356834, 5.233080206611461, 0.5118925435635117, 4.320181426274297, 0.49094857814986853, 4.881887441346858, 0.31131268887728375, 5.055655212509071, 0.809901474561921, 2.7752903470192396, 0.0, 6.006014852577052, 0.4809956188603778, 4.1705154873489665, 0.33462445838250526, 4.6078845656133876, 0.396271273108143, 4.372123633805135, 0.0, 2.70145495705522, 5.759669264012926, 0.0, 5.142173369311688], 102: [1.1807011725901975, 0.5615117577784907, 2.374191901456238, 0.0, 0.6957509564589104, 0.0, 2.663497404697291, 0.4577646214927726, 1.0783086056629836, 0.9229467178091121, 1.3771263701609107, 1.8769393263995429, 1.8681865627132093, 2.822954324361744, 2.2782141392952004, 2.49050151101827, 1.986150262057135, 1.619802949123842, 1.74740503330841, 0.7001706398805376, 2.5025061885737716, 0.9619912377207556, 2.9438932851875057, 0.6692489167650105, 2.604456493607567, 1.585085092432572, 2.1860618169025674, 1.644003939309939, 2.3772803622085936, 2.436783150159315, 1.3286726376094016, 3.213858355819805], 103: [26.481440585237287, 26.812186433922932, 20.625792143901066, 18.03075753100077, 17.161856925986456, 17.15235619843712, 14.81570431362868, 17.395055616725358, 21.805796247851443, 19.151144394539077, 23.686573566767663, 19.793178351122453, 15.646062462723128, 13.869297332733785, 15.947498975066402, 19.92401208814616, 14.805847408062279, 14.713210121208231, 17.576838864455183, 11.202730238088602, 22.27230507830657, 14.429868565811335, 15.700764187666696, 15.392725085595243, 19.032566684055297, 17.832207289866435, 19.67455635212311, 20.55004924137424, 13.507274785276099, 16.39290482834448, 13.856157506498043, 14.783748436771102], 104: [27.8308133539118, 28.77747758614765, 23.593532020721366, 30.6236675526521, 25.04703443252077, 25.600531639458385, 24.9702881690371, 24.71928956060972, 20.248239373004914, 23.0736679452278, 22.860297744671115, 22.352641068940013, 22.067953772049783, 19.76068027053221, 18.225713114361604, 20.70229381033937, 19.500384391106415, 20.11255328495437, 17.4740503330841, 20.071558343242078, 15.515538369157385, 23.8092831335887, 20.85257743674483, 20.077467502950316, 21.637023177662865, 20.407970565069363, 15.484604536393187, 16.029038408271905, 18.477951906257704, 19.93731668312167, 17.652365042524906, 17.569092345148267], 105: [0.0, 0.0, 0.0, 0.0, 0.0, 0.0, 0.0, 0.0, 0.0, 0.0, 0.0, 0.0, 0.0, 0.0, 0.0, 0.0, 0.0, 0.0, 0.0, 0.0, 0.0, 0.0, 0.0, 0.0, 0.0, 0.0, 0.0, 0.0, 0.0, 0.0, 0.0, 0.0], 106: [39.30048188764515, 28.496721707258402, 26.709658891382677, 28.620250049207574, 33.627962895514, 30.208627334560894, 29.132002863876618, 24.948171871356106, 26.238842737799267, 23.0736679452278, 31.39848123966876, 28.665982439556657, 29.423938362733043, 26.265748931017963, 28.803135903946462, 27.08420393232369, 26.361630750940154, 23.487142762295708, 21.174437462443088, 19.371387703361542, 24.524560648022963, 24.771274371309456, 30.420230613604225, 23.758336545157874, 26.845936164877997, 24.370683296150794, 23.500164531702602, 22.87905482206332, 23.556687225521518, 26.804614651752463, 21.258762201750425, 24.639580727951838], 107: [0.6746863843372557, 0.14037793944462268, 2.225804907615223, 0.28620250049207574, 3.246837796808248, 0.25600531639458385, 1.3317487023486454, 0.0, 0.9584965383670965, 0.9229467178091121, 0.8262758220965464, 0.17063084785450391, 0.9340932813566046, 0.0, 0.6509183255129144, 0.46696903331592565, 2.1667093767896017, 0.4049507372809605, 1.541827970566244, 0.9335608531740501, 0.25025061885737715, 0.0, 0.0, 0.8365611459562632, 0.4006856144011642, 0.1981356365540715, 1.4573745446017117, 0.41100098482748476, 0.21611639656441758, 0.0, 0.18981037680134308, 0.0], 108: [0.5060147882529418, 6.176629335563398, 0.4451609815230446, 7.727467513286045, 2.3191698548630346, 9.472196706599602, 1.997623053522968, 4.577646214927726, 2.516053413213628, 9.22946717809112, 2.065689555241366, 9.896589175561227, 2.685518183900238, 8.10065153947283, 0.48818874413468577, 9.183724321879872, 0.5416773441974004, 7.694064008338249, 4.522695380327649, 15.870534503958853, 0.0, 12.024890471509446, 0.49064888086458425, 11.209919355813927, 0.4006856144011642, 9.510510554595431, 0.18217181807521396, 6.7130160855155845, 4.322327931288352, 0.44305148184714815, 9.870139593669839, 0.21425722372132033], 109: [0.0, 0.0, 0.0, 0.28620250049207574, 0.0, 0.25600531639458385, 0.0, 0.2288823107463863, 0.0, 0.0, 0.0, 0.0, 0.11676166016957558, 0.0, 0.0, 0.0, 0.0, 0.0, 0.10278853137108294, 0.23339021329351253, 0.0, 0.0, 0.0, 0.0, 0.0, 0.0, 0.0, 0.0, 0.0, 0.44305148184714815, 0.0, 0.0]}, 'short_mean_replays_all_frs': {2: [0.0, 0.0, 0.0, 0.0, 0.0, 0.0, 0.0, 0.0, 0.0, 0.0, 0.0, 0.0, 0.0, 0.0, 0.0, 0.0, 0.0, 0.0, 0.0, 0.0, 0.0, 0.0, 0.0, 0.0, 0.0, 0.0, 0.0, 0.0, 0.0], 3: [9.218946481768667, 0.0, 0.0, 0.0, 3.452704708826538, 0.0, 0.0, 0.0, 0.0, 0.0, 18.422241088097415, 7.637752228929579, 0.0, 6.771811942354729, 0.0, 3.8794065066035954, 5.705889570401366, 0.0, 0.0, 8.257762558751832, 0.0, 0.0, 7.416746413055179, 0.0, 8.234783707960327, 0.0, 14.60062793274606, 0.0, 8.59801900834288], 4: [0.0, 0.0, 0.0, 17.310343003562068, 6.905409417653076, 0.0, 20.21241849294886, 18.767425794319674, 0.0, 20.73052062476287, 0.0, 0.0, 0.0, 6.771811942354729, 0.0, 0.0, 0.0, 8.532660545839356, 0.0, 4.128881279375916, 14.712813557376181, 7.151164323978456, 14.833492826110358, 5.825357910833448, 12.352175561940491, 0.0, 0.0, 0.0, 0.0], 5: [0.0, 9.049791493323387, 7.272587133085428, 25.9655145053431, 6.905409417653076, 3.470003197662592, 0.0, 0.0, 7.460944305679957, 5.182630156190718, 0.0, 0.0, 12.0622900163761, 20.315435827064185, 0.0, 3.8794065066035954, 0.0, 4.266330272919678, 0.0, 0.0, 22.06922033606427, 0.0, 0.0, 5.825357910833448, 16.469567415920654, 0.0, 7.30031396637303, 5.264774379164681, 0.0], 6: [119.84630426299266, 117.64728941320402, 123.63398126245227, 86.55171501781034, 51.79057063239807, 100.63009273221516, 90.95588321826988, 75.0697031772787, 89.53133166815948, 51.82630156190718, 61.40747029365806, 38.1887611446479, 52.26992340429643, 40.63087165412837, 61.41181463874009, 77.58813013207191, 39.94122699280956, 29.864311910437742, 38.75249998583707, 49.54657535251099, 36.78203389344045, 21.45349297193537, 37.083732065275896, 17.476073732500346, 37.056526685821474, 35.77153849501667, 29.20125586549212, 10.529548758329362, 8.59801900834288], 7: [0.0, 0.0, 7.272587133085428, 0.0, 0.0, 0.0, 0.0, 0.0, 0.0, 0.0, 12.281494058731612, 7.637752228929579, 8.041526677584066, 0.0, 0.0, 0.0, 17.117668711204097, 0.0, 0.0, 0.0, 0.0, 0.0, 0.0, 0.0, 8.234783707960327, 0.0, 0.0, 0.0, 0.0], 8: [0.0, 0.0, 0.0, 0.0, 0.0, 0.0, 0.0, 0.0, 0.0, 0.0, 0.0, 0.0, 0.0, 6.771811942354729, 0.0, 0.0, 0.0, 4.266330272919678, 0.0, 0.0, 0.0, 0.0, 0.0, 11.650715821666896, 8.234783707960327, 0.0, 0.0, 0.0, 0.0], 9: [0.0, 27.14937447997016, 0.0, 0.0, 13.810818835306153, 6.940006395325184, 40.42483698589772, 37.53485158863935, 0.0, 20.73052062476287, 0.0, 0.0, 0.0, 27.087247769418916, 0.0, 0.0, 0.0, 0.0, 19.376249992918535, 12.386643838127748, 0.0, 35.75582161989228, 7.416746413055179, 29.126789554167242, 0.0, 0.0, 58.40251173098424, 0.0, 0.0], 10: [27.656839445305998, 0.0, 29.09034853234171, 0.0, 3.452704708826538, 6.940006395325184, 0.0, 0.0, 37.30472152839978, 0.0, 18.422241088097415, 0.0, 16.083053355168133, 0.0, 11.514715244763767, 19.397032533017978, 17.117668711204097, 8.532660545839356, 0.0, 12.386643838127748, 0.0, 0.0, 22.250239239165538, 0.0, 0.0, 23.847692330011117, 0.0, 15.794323137494043, 17.19603801668576], 11: [0.0, 0.0, 0.0, 8.655171501781034, 3.452704708826538, 3.470003197662592, 0.0, 0.0, 7.460944305679957, 0.0, 0.0, 0.0, 0.0, 0.0, 3.8382384149212556, 3.8794065066035954, 0.0, 0.0, 0.0, 0.0, 0.0, 7.151164323978456, 0.0, 17.476073732500346, 0.0, 0.0, 21.900941899119086, 0.0, 8.59801900834288], 12: [55.313678890611996, 144.79666389317418, 94.54363273011056, 86.55171501781034, 55.24327534122461, 111.04010232520294, 121.27451095769317, 103.22084186875821, 82.07038736247952, 103.65260312381436, 85.97045841112129, 114.56628343394368, 92.47755679221676, 101.57717913532093, 122.82362927748018, 85.3469431452791, 79.88245398561912, 81.06027518547387, 106.56937496105195, 107.35091326377382, 125.05891523769753, 135.87212215559066, 140.9181818480484, 116.50715821666897, 90.5826207875636, 107.31461548505003, 160.60690726020664, 57.912518170811495, 103.17622810011456], 13: [0.0, 0.0, 0.0, 0.0, 0.0, 3.470003197662592, 0.0, 0.0, 7.460944305679957, 0.0, 6.140747029365806, 0.0, 0.0, 0.0, 0.0, 0.0, 0.0, 4.266330272919678, 9.688124996459267, 0.0, 0.0, 0.0, 0.0, 0.0, 0.0, 0.0, 7.30031396637303, 0.0, 8.59801900834288], 14: [9.218946481768667, 0.0, 7.272587133085428, 0.0, 0.0, 10.410009592987775, 0.0, 0.0, 7.460944305679957, 0.0, 6.140747029365806, 15.275504457859158, 4.020763338792033, 0.0, 0.0, 3.8794065066035954, 5.705889570401366, 8.532660545839356, 29.064374989377804, 4.128881279375916, 0.0, 0.0, 7.416746413055179, 0.0, 4.1173918539801635, 35.77153849501667, 7.30031396637303, 0.0, 34.39207603337152], 15: [0.0, 0.0, 14.545174266170855, 0.0, 0.0, 0.0, 0.0, 0.0, 14.921888611359915, 0.0, 12.281494058731612, 0.0, 4.020763338792033, 0.0, 3.8382384149212556, 7.758813013207191, 0.0, 4.266330272919678, 0.0, 4.128881279375916, 0.0, 0.0, 0.0, 0.0, 0.0, 35.77153849501667, 0.0, 10.529548758329362, 17.19603801668576], 16: [0.0, 18.099582986646773, 0.0, 0.0, 0.0, 0.0, 0.0, 0.0, 0.0, 0.0, 0.0, 0.0, 4.020763338792033, 0.0, 19.191192074606278, 0.0, 0.0, 4.266330272919678, 0.0, 0.0, 0.0, 0.0, 0.0, 5.825357910833448, 4.1173918539801635, 0.0, 7.30031396637303, 0.0, 0.0], 17: [0.0, 0.0, 0.0, 0.0, 3.452704708826538, 0.0, 0.0, 0.0, 0.0, 0.0, 0.0, 0.0, 0.0, 0.0, 0.0, 0.0, 0.0, 0.0, 0.0, 0.0, 0.0, 0.0, 7.416746413055179, 0.0, 4.1173918539801635, 0.0, 0.0, 0.0, 0.0], 18: [9.218946481768667, 0.0, 0.0, 43.27585750890517, 48.337865923571535, 0.0, 0.0, 0.0, 0.0, 15.547890468572152, 0.0, 0.0, 0.0, 13.543623884709458, 0.0, 0.0, 0.0, 0.0, 19.376249992918535, 4.128881279375916, 7.356406778688091, 0.0, 7.416746413055179, 5.825357910833448, 4.1173918539801635, 0.0, 14.60062793274606, 5.264774379164681, 17.19603801668576], 19: [0.0, 0.0, 0.0, 0.0, 0.0, 13.880012790650367, 0.0, 0.0, 0.0, 0.0, 0.0, 0.0, 0.0, 0.0, 0.0, 0.0, 0.0, 0.0, 38.75249998583707, 0.0, 0.0, 0.0, 0.0, 0.0, 0.0, 0.0, 0.0, 0.0, 0.0], 20: [27.656839445305998, 99.54770642655724, 87.27104559702514, 25.9655145053431, 20.71622825295923, 31.230028778963327, 50.53104623237215, 37.53485158863935, 52.2266101397597, 25.91315078095359, 30.70373514682903, 68.73977006036621, 56.290686743088465, 33.85905971177365, 38.382384149212555, 42.67347157263955, 45.64711656321093, 55.46229354795581, 19.376249992918535, 45.41769407313508, 66.20766100819282, 21.45349297193537, 29.666985652220717, 46.602863286667585, 37.056526685821474, 59.61923082502779, 51.102197764611205, 15.794323137494043, 25.79405702502864], 21: [0.0, 9.049791493323387, 0.0, 0.0, 0.0, 0.0, 0.0, 0.0, 0.0, 0.0, 6.140747029365806, 0.0, 0.0, 0.0, 0.0, 0.0, 5.705889570401366, 4.266330272919678, 0.0, 0.0, 0.0, 7.151164323978456, 0.0, 0.0, 0.0, 0.0, 0.0, 0.0, 8.59801900834288], 22: [0.0, 0.0, 7.272587133085428, 0.0, 0.0, 13.880012790650367, 0.0, 0.0, 0.0, 0.0, 0.0, 0.0, 0.0, 0.0, 0.0, 0.0, 0.0, 8.532660545839356, 19.376249992918535, 0.0, 0.0, 0.0, 0.0, 0.0, 4.1173918539801635, 0.0, 7.30031396637303, 5.264774379164681, 0.0], 23: [0.0, 0.0, 0.0, 0.0, 0.0, 0.0, 0.0, 0.0, 0.0, 10.365260312381436, 0.0, 0.0, 0.0, 0.0, 0.0, 0.0, 0.0, 0.0, 0.0, 0.0, 0.0, 0.0, 0.0, 0.0, 4.1173918539801635, 0.0, 0.0, 0.0, 0.0], 24: [0.0, 0.0, 0.0, 0.0, 0.0, 0.0, 0.0, 0.0, 0.0, 0.0, 0.0, 0.0, 0.0, 0.0, 0.0, 0.0, 0.0, 0.0, 0.0, 0.0, 0.0, 0.0, 0.0, 0.0, 0.0, 0.0, 0.0, 0.0, 0.0], 25: [0.0, 0.0, 0.0, 0.0, 3.452704708826538, 0.0, 0.0, 0.0, 0.0, 5.182630156190718, 0.0, 0.0, 0.0, 0.0, 0.0, 0.0, 0.0, 8.532660545839356, 0.0, 4.128881279375916, 0.0, 7.151164323978456, 14.833492826110358, 0.0, 20.586959269900817, 0.0, 0.0, 0.0, 0.0], 26: [0.0, 0.0, 0.0, 0.0, 0.0, 0.0, 0.0, 0.0, 0.0, 0.0, 0.0, 0.0, 0.0, 0.0, 0.0, 0.0, 0.0, 4.266330272919678, 0.0, 0.0, 0.0, 0.0, 0.0, 0.0, 4.1173918539801635, 0.0, 0.0, 0.0, 0.0], 27: [0.0, 0.0, 0.0, 0.0, 0.0, 10.410009592987775, 0.0, 0.0, 0.0, 0.0, 0.0, 0.0, 0.0, 0.0, 3.8382384149212556, 3.8794065066035954, 0.0, 0.0, 0.0, 4.128881279375916, 0.0, 7.151164323978456, 0.0, 0.0, 0.0, 0.0, 7.30031396637303, 5.264774379164681, 0.0], 28: [0.0, 0.0, 0.0, 0.0, 0.0, 0.0, 0.0, 0.0, 0.0, 0.0, 0.0, 0.0, 0.0, 0.0, 0.0, 0.0, 0.0, 0.0, 0.0, 0.0, 0.0, 0.0, 0.0, 0.0, 0.0, 0.0, 0.0, 0.0, 0.0], 29: [64.53262537238066, 18.099582986646773, 43.63552279851257, 69.24137201424827, 31.074342379438843, 31.230028778963327, 20.21241849294886, 37.53485158863935, 52.2266101397597, 31.095780937144305, 55.26672326429225, 45.82651337357748, 28.145343371544232, 27.087247769418916, 34.5441457342913, 27.155845546225166, 34.23533742240819, 51.195963275036135, 29.064374989377804, 45.41769407313508, 36.78203389344045, 35.75582161989228, 51.917224891386255, 40.77750537583414, 41.17391853980163, 35.77153849501667, 36.50156983186515, 47.38296941248213, 42.9900950417144], 30: [9.218946481768667, 0.0, 0.0, 8.655171501781034, 79.41220830301037, 0.0, 0.0, 9.383712897159837, 0.0, 15.547890468572152, 0.0, 7.637752228929579, 0.0, 6.771811942354729, 0.0, 0.0, 0.0, 12.798990818759034, 9.688124996459267, 0.0, 0.0, 0.0, 0.0, 0.0, 0.0, 0.0, 0.0, 0.0, 0.0], 31: [9.218946481768667, 0.0, 14.545174266170855, 0.0, 0.0, 3.470003197662592, 10.10620924647443, 0.0, 14.921888611359915, 0.0, 6.140747029365806, 30.551008915718317, 12.0622900163761, 6.771811942354729, 7.676476829842511, 11.638219519810786, 11.411779140802732, 8.532660545839356, 0.0, 8.257762558751832, 7.356406778688091, 7.151164323978456, 7.416746413055179, 11.650715821666896, 8.234783707960327, 47.695384660022235, 0.0, 10.529548758329362, 17.19603801668576], 32: [0.0, 0.0, 7.272587133085428, 0.0, 3.452704708826538, 0.0, 0.0, 18.767425794319674, 7.460944305679957, 10.365260312381436, 0.0, 0.0, 12.0622900163761, 6.771811942354729, 0.0, 0.0, 0.0, 4.266330272919678, 9.688124996459267, 8.257762558751832, 0.0, 7.151164323978456, 0.0, 0.0, 4.1173918539801635, 0.0, 14.60062793274606, 0.0, 0.0], 33: [0.0, 0.0, 14.545174266170855, 0.0, 0.0, 0.0, 0.0, 0.0, 29.84377722271983, 0.0, 6.140747029365806, 0.0, 4.020763338792033, 0.0, 7.676476829842511, 3.8794065066035954, 0.0, 0.0, 0.0, 4.128881279375916, 7.356406778688091, 0.0, 7.416746413055179, 0.0, 0.0, 11.923846165005559, 0.0, 5.264774379164681, 17.19603801668576], 34: [0.0, 0.0, 0.0, 0.0, 0.0, 0.0, 0.0, 0.0, 0.0, 10.365260312381436, 0.0, 0.0, 0.0, 0.0, 0.0, 0.0, 0.0, 0.0, 0.0, 8.257762558751832, 0.0, 0.0, 0.0, 0.0, 0.0, 0.0, 0.0, 0.0, 0.0], 35: [0.0, 27.14937447997016, 0.0, 8.655171501781034, 6.905409417653076, 0.0, 0.0, 0.0, 0.0, 0.0, 0.0, 0.0, 16.083053355168133, 0.0, 0.0, 0.0, 0.0, 0.0, 9.688124996459267, 0.0, 14.712813557376181, 0.0, 7.416746413055179, 0.0, 0.0, 0.0, 14.60062793274606, 0.0, 0.0], 36: [0.0, 18.099582986646773, 0.0, 0.0, 13.810818835306153, 17.35001598831296, 0.0, 37.53485158863935, 0.0, 10.365260312381436, 0.0, 0.0, 0.0, 6.771811942354729, 0.0, 0.0, 0.0, 0.0, 77.50499997167414, 0.0, 0.0, 21.45349297193537, 0.0, 17.476073732500346, 0.0, 0.0, 29.20125586549212, 0.0, 0.0], 37: [0.0, 9.049791493323387, 0.0, 0.0, 55.24327534122461, 10.410009592987775, 0.0, 0.0, 0.0, 0.0, 0.0, 0.0, 0.0, 0.0, 0.0, 0.0, 0.0, 4.266330272919678, 19.376249992918535, 0.0, 7.356406778688091, 0.0, 14.833492826110358, 5.825357910833448, 0.0, 0.0, 0.0, 0.0, 0.0], 38: [9.218946481768667, 0.0, 14.545174266170855, 0.0, 6.905409417653076, 6.940006395325184, 0.0, 0.0, 0.0, 0.0, 0.0, 7.637752228929579, 4.020763338792033, 13.543623884709458, 0.0, 0.0, 0.0, 0.0, 29.064374989377804, 4.128881279375916, 14.712813557376181, 21.45349297193537, 0.0, 5.825357910833448, 0.0, 0.0, 0.0, 5.264774379164681, 0.0], 39: [18.437892963537333, 0.0, 29.09034853234171, 17.310343003562068, 10.358114126479615, 0.0, 10.10620924647443, 18.767425794319674, 14.921888611359915, 5.182630156190718, 18.422241088097415, 15.275504457859158, 12.0622900163761, 0.0, 11.514715244763767, 11.638219519810786, 17.117668711204097, 0.0, 0.0, 0.0, 0.0, 0.0, 37.083732065275896, 0.0, 12.352175561940491, 0.0, 7.30031396637303, 5.264774379164681, 0.0], 40: [9.218946481768667, 18.099582986646773, 65.45328419776885, 17.310343003562068, 20.71622825295923, 38.170035174288515, 40.42483698589772, 65.68599028011886, 7.460944305679957, 36.27841109333502, 18.422241088097415, 7.637752228929579, 36.186870049128295, 20.315435827064185, 30.705907319370045, 23.27643903962157, 74.17656441521775, 38.3969724562771, 67.81687497521487, 37.159931514383246, 73.5640677868809, 92.96513621171992, 89.00095695666215, 64.07893701916794, 61.76087780970246, 35.77153849501667, 87.60376759647635, 52.64774379164681, 51.58811405005728], 41: [0.0, 0.0, 0.0, 8.655171501781034, 3.452704708826538, 0.0, 20.21241849294886, 0.0, 7.460944305679957, 5.182630156190718, 0.0, 0.0, 4.020763338792033, 6.771811942354729, 3.8382384149212556, 0.0, 0.0, 8.532660545839356, 0.0, 8.257762558751832, 7.356406778688091, 7.151164323978456, 0.0, 11.650715821666896, 12.352175561940491, 23.847692330011117, 7.30031396637303, 5.264774379164681, 8.59801900834288], 42: [36.875785927074666, 27.14937447997016, 29.09034853234171, 8.655171501781034, 17.263523544132692, 48.580044767276284, 40.42483698589772, 37.53485158863935, 44.76566583407974, 31.095780937144305, 24.562988117463224, 15.275504457859158, 36.186870049128295, 20.315435827064185, 26.86766890444879, 42.67347157263955, 39.94122699280956, 29.864311910437742, 48.44062498229634, 20.64440639687958, 44.13844067212854, 14.302328647956912, 22.250239239165538, 34.95214746500069, 37.056526685821474, 59.61923082502779, 14.60062793274606, 47.38296941248213, 25.79405702502864], 43: [9.218946481768667, 0.0, 0.0, 8.655171501781034, 10.358114126479615, 6.940006395325184, 10.10620924647443, 0.0, 0.0, 5.182630156190718, 12.281494058731612, 7.637752228929579, 0.0, 0.0, 0.0, 0.0, 0.0, 0.0, 9.688124996459267, 4.128881279375916, 0.0, 28.604657295913825, 0.0, 5.825357910833448, 4.1173918539801635, 0.0, 7.30031396637303, 5.264774379164681, 0.0], 44: [0.0, 18.099582986646773, 0.0, 17.310343003562068, 3.452704708826538, 3.470003197662592, 0.0, 0.0, 0.0, 10.365260312381436, 0.0, 15.275504457859158, 12.0622900163761, 0.0, 0.0, 0.0, 5.705889570401366, 0.0, 9.688124996459267, 4.128881279375916, 0.0, 14.302328647956912, 14.833492826110358, 11.650715821666896, 4.1173918539801635, 11.923846165005559, 7.30031396637303, 5.264774379164681, 0.0], 45: [18.437892963537333, 0.0, 7.272587133085428, 0.0, 0.0, 0.0, 0.0, 0.0, 0.0, 0.0, 12.281494058731612, 22.91325668678874, 4.020763338792033, 0.0, 0.0, 0.0, 0.0, 0.0, 9.688124996459267, 0.0, 0.0, 0.0, 0.0, 0.0, 4.1173918539801635, 0.0, 0.0, 5.264774379164681, 8.59801900834288], 46: [9.218946481768667, 0.0, 7.272587133085428, 0.0, 0.0, 0.0, 0.0, 0.0, 0.0, 0.0, 6.140747029365806, 0.0, 4.020763338792033, 0.0, 0.0, 0.0, 11.411779140802732, 0.0, 0.0, 4.128881279375916, 7.356406778688091, 0.0, 0.0, 5.825357910833448, 0.0, 0.0, 0.0, 0.0, 0.0], 47: [18.437892963537333, 27.14937447997016, 7.272587133085428, 25.9655145053431, 65.60138946770422, 3.470003197662592, 0.0, 9.383712897159837, 7.460944305679957, 20.73052062476287, 18.422241088097415, 22.91325668678874, 8.041526677584066, 6.771811942354729, 3.8382384149212556, 7.758813013207191, 5.705889570401366, 4.266330272919678, 19.376249992918535, 4.128881279375916, 7.356406778688091, 21.45349297193537, 22.250239239165538, 11.650715821666896, 4.1173918539801635, 0.0, 14.60062793274606, 21.059097516658724, 8.59801900834288], 48: [0.0, 0.0, 0.0, 25.9655145053431, 17.263523544132692, 10.410009592987775, 50.53104623237215, 46.91856448579919, 7.460944305679957, 25.91315078095359, 0.0, 0.0, 4.020763338792033, 33.85905971177365, 23.029430489527535, 0.0, 0.0, 12.798990818759034, 0.0, 24.773287676255496, 22.06922033606427, 21.45349297193537, 22.250239239165538, 23.301431643333792, 4.1173918539801635, 0.0, 29.20125586549212, 5.264774379164681, 0.0], 49: [36.875785927074666, 0.0, 36.36293566542714, 17.310343003562068, 0.0, 0.0, 0.0, 0.0, 14.921888611359915, 0.0, 24.562988117463224, 38.1887611446479, 12.0622900163761, 0.0, 19.191192074606278, 15.517626026414382, 22.823558281605465, 12.798990818759034, 0.0, 12.386643838127748, 0.0, 0.0, 0.0, 0.0, 12.352175561940491, 23.847692330011117, 0.0, 15.794323137494043, 34.39207603337152], 50: [36.875785927074666, 0.0, 21.817761399256284, 17.310343003562068, 0.0, 0.0, 0.0, 0.0, 29.84377722271983, 0.0, 12.281494058731612, 30.551008915718317, 16.083053355168133, 6.771811942354729, 7.676476829842511, 15.517626026414382, 22.823558281605465, 21.33165136459839, 0.0, 12.386643838127748, 0.0, 0.0, 0.0, 0.0, 8.234783707960327, 47.695384660022235, 7.30031396637303, 15.794323137494043, 25.79405702502864], 51: [0.0, 0.0, 0.0, 0.0, 3.452704708826538, 13.880012790650367, 0.0, 0.0, 0.0, 0.0, 0.0, 0.0, 4.020763338792033, 0.0, 0.0, 0.0, 0.0, 0.0, 9.688124996459267, 0.0, 7.356406778688091, 0.0, 0.0, 0.0, 4.1173918539801635, 0.0, 0.0, 0.0, 0.0], 52: [0.0, 0.0, 0.0, 0.0, 0.0, 3.470003197662592, 10.10620924647443, 9.383712897159837, 0.0, 0.0, 12.281494058731612, 0.0, 4.020763338792033, 33.85905971177365, 0.0, 0.0, 0.0, 4.266330272919678, 0.0, 0.0, 0.0, 14.302328647956912, 7.416746413055179, 5.825357910833448, 0.0, 0.0, 14.60062793274606, 0.0, 0.0], 53: [9.218946481768667, 9.049791493323387, 0.0, 17.310343003562068, 3.452704708826538, 6.940006395325184, 0.0, 9.383712897159837, 0.0, 0.0, 0.0, 0.0, 0.0, 0.0, 11.514715244763767, 0.0, 0.0, 4.266330272919678, 0.0, 4.128881279375916, 14.712813557376181, 0.0, 0.0, 0.0, 0.0, 0.0, 0.0, 0.0, 0.0], 54: [0.0, 0.0, 0.0, 0.0, 0.0, 0.0, 0.0, 0.0, 0.0, 0.0, 0.0, 0.0, 0.0, 0.0, 0.0, 0.0, 0.0, 0.0, 0.0, 0.0, 0.0, 0.0, 0.0, 0.0, 0.0, 0.0, 0.0, 0.0, 8.59801900834288], 55: [9.218946481768667, 0.0, 0.0, 8.655171501781034, 6.905409417653076, 10.410009592987775, 0.0, 9.383712897159837, 0.0, 5.182630156190718, 6.140747029365806, 15.275504457859158, 8.041526677584066, 0.0, 0.0, 11.638219519810786, 17.117668711204097, 21.33165136459839, 9.688124996459267, 8.257762558751832, 0.0, 7.151164323978456, 7.416746413055179, 0.0, 28.821742977861145, 47.695384660022235, 0.0, 15.794323137494043, 25.79405702502864], 56: [0.0, 0.0, 0.0, 8.655171501781034, 3.452704708826538, 0.0, 30.31862773942329, 28.151138691479513, 0.0, 10.365260312381436, 0.0, 0.0, 0.0, 20.315435827064185, 0.0, 0.0, 0.0, 0.0, 0.0, 4.128881279375916, 22.06922033606427, 21.45349297193537, 7.416746413055179, 11.650715821666896, 0.0, 0.0, 14.60062793274606, 0.0, 0.0], 57: [0.0, 36.199165973293546, 0.0, 0.0, 10.358114126479615, 3.470003197662592, 0.0, 0.0, 0.0, 5.182630156190718, 0.0, 0.0, 0.0, 6.771811942354729, 0.0, 3.8794065066035954, 0.0, 0.0, 9.688124996459267, 8.257762558751832, 7.356406778688091, 0.0, 22.250239239165538, 0.0, 4.1173918539801635, 0.0, 7.30031396637303, 0.0, 0.0], 58: [0.0, 0.0, 0.0, 8.655171501781034, 3.452704708826538, 0.0, 0.0, 9.383712897159837, 0.0, 15.547890468572152, 0.0, 0.0, 0.0, 6.771811942354729, 0.0, 0.0, 0.0, 0.0, 0.0, 4.128881279375916, 0.0, 0.0, 0.0, 0.0, 16.469567415920654, 0.0, 0.0, 5.264774379164681, 25.79405702502864], 59: [0.0, 18.099582986646773, 0.0, 0.0, 13.810818835306153, 0.0, 20.21241849294886, 18.767425794319674, 0.0, 15.547890468572152, 0.0, 0.0, 8.041526677584066, 13.543623884709458, 0.0, 3.8794065066035954, 0.0, 0.0, 19.376249992918535, 4.128881279375916, 14.712813557376181, 7.151164323978456, 7.416746413055179, 11.650715821666896, 0.0, 0.0, 7.30031396637303, 0.0, 0.0], 60: [0.0, 27.14937447997016, 0.0, 8.655171501781034, 6.905409417653076, 0.0, 0.0, 0.0, 0.0, 0.0, 0.0, 0.0, 12.0622900163761, 13.543623884709458, 0.0, 0.0, 0.0, 0.0, 29.064374989377804, 0.0, 29.425627114752363, 0.0, 0.0, 0.0, 4.1173918539801635, 0.0, 21.900941899119086, 0.0, 0.0], 61: [27.656839445305998, 0.0, 7.272587133085428, 0.0, 3.452704708826538, 0.0, 20.21241849294886, 9.383712897159837, 0.0, 0.0, 12.281494058731612, 7.637752228929579, 4.020763338792033, 6.771811942354729, 0.0, 3.8794065066035954, 11.411779140802732, 4.266330272919678, 0.0, 4.128881279375916, 14.712813557376181, 0.0, 0.0, 0.0, 0.0, 0.0, 0.0, 21.059097516658724, 0.0], 62: [0.0, 36.199165973293546, 0.0, 25.9655145053431, 3.452704708826538, 6.940006395325184, 0.0, 18.767425794319674, 0.0, 0.0, 0.0, 0.0, 12.0622900163761, 20.315435827064185, 11.514715244763767, 19.397032533017978, 0.0, 12.798990818759034, 9.688124996459267, 8.257762558751832, 0.0, 14.302328647956912, 44.500478478331075, 34.95214746500069, 12.352175561940491, 11.923846165005559, 14.60062793274606, 15.794323137494043, 0.0], 63: [0.0, 18.099582986646773, 7.272587133085428, 0.0, 3.452704708826538, 6.940006395325184, 20.21241849294886, 18.767425794319674, 0.0, 20.73052062476287, 0.0, 0.0, 0.0, 6.771811942354729, 0.0, 0.0, 0.0, 0.0, 9.688124996459267, 8.257762558751832, 0.0, 7.151164323978456, 14.833492826110358, 5.825357910833448, 0.0, 0.0, 7.30031396637303, 5.264774379164681, 0.0], 64: [46.09473240884333, 0.0, 21.817761399256284, 0.0, 0.0, 10.410009592987775, 0.0, 0.0, 29.84377722271983, 0.0, 30.70373514682903, 0.0, 16.083053355168133, 0.0, 19.191192074606278, 23.27643903962157, 28.52944785200683, 0.0, 0.0, 0.0, 0.0, 21.45349297193537, 44.500478478331075, 0.0, 0.0, 0.0, 0.0, 10.529548758329362, 8.59801900834288], 65: [46.09473240884333, 45.24895746661693, 50.908109931598, 43.27585750890517, 44.885161214745, 62.46005755792665, 50.53104623237215, 28.151138691479513, 74.60944305679956, 57.00893171809789, 67.54821732302386, 84.01527451822537, 40.20763338792033, 54.17449553883783, 61.41181463874009, 62.07050410565753, 57.05889570401366, 63.994954093795165, 67.81687497521487, 57.80433791126283, 36.78203389344045, 42.90698594387074, 51.917224891386255, 52.42822119750103, 53.526094101742125, 71.54307699003334, 51.102197764611205, 52.64774379164681, 51.58811405005728], 66: [0.0, 18.099582986646773, 0.0, 0.0, 13.810818835306153, 0.0, 40.42483698589772, 18.767425794319674, 0.0, 20.73052062476287, 6.140747029365806, 15.275504457859158, 8.041526677584066, 20.315435827064185, 7.676476829842511, 0.0, 0.0, 0.0, 0.0, 12.386643838127748, 14.712813557376181, 0.0, 14.833492826110358, 11.650715821666896, 0.0, 0.0, 21.900941899119086, 5.264774379164681, 0.0], 67: [0.0, 0.0, 0.0, 0.0, 0.0, 3.470003197662592, 10.10620924647443, 0.0, 0.0, 5.182630156190718, 0.0, 0.0, 0.0, 0.0, 0.0, 0.0, 0.0, 0.0, 0.0, 0.0, 0.0, 0.0, 0.0, 5.825357910833448, 0.0, 0.0, 0.0, 0.0, 0.0], 68: [0.0, 0.0, 7.272587133085428, 0.0, 0.0, 0.0, 0.0, 0.0, 0.0, 0.0, 0.0, 0.0, 0.0, 0.0, 0.0, 0.0, 0.0, 0.0, 0.0, 4.128881279375916, 0.0, 0.0, 7.416746413055179, 5.825357910833448, 0.0, 0.0, 0.0, 0.0, 0.0], 69: [0.0, 0.0, 0.0, 0.0, 6.905409417653076, 3.470003197662592, 0.0, 0.0, 0.0, 10.365260312381436, 0.0, 0.0, 0.0, 0.0, 0.0, 0.0, 0.0, 12.798990818759034, 0.0, 0.0, 7.356406778688091, 0.0, 0.0, 0.0, 8.234783707960327, 0.0, 0.0, 0.0, 0.0], 70: [0.0, 0.0, 0.0, 0.0, 0.0, 0.0, 0.0, 0.0, 0.0, 0.0, 0.0, 0.0, 4.020763338792033, 0.0, 0.0, 0.0, 0.0, 0.0, 0.0, 0.0, 7.356406778688091, 0.0, 7.416746413055179, 0.0, 4.1173918539801635, 0.0, 0.0, 5.264774379164681, 0.0], 71: [0.0, 0.0, 14.545174266170855, 0.0, 0.0, 0.0, 0.0, 0.0, 0.0, 0.0, 12.281494058731612, 22.91325668678874, 12.0622900163761, 0.0, 0.0, 0.0, 22.823558281605465, 4.266330272919678, 0.0, 4.128881279375916, 0.0, 0.0, 0.0, 0.0, 0.0, 0.0, 0.0, 10.529548758329362, 0.0], 72: [18.437892963537333, 0.0, 21.817761399256284, 8.655171501781034, 3.452704708826538, 0.0, 0.0, 0.0, 22.38283291703987, 0.0, 12.281494058731612, 30.551008915718317, 8.041526677584066, 0.0, 3.8382384149212556, 7.758813013207191, 11.411779140802732, 12.798990818759034, 0.0, 8.257762558751832, 0.0, 0.0, 7.416746413055179, 0.0, 8.234783707960327, 11.923846165005559, 0.0, 21.059097516658724, 17.19603801668576], 73: [0.0, 0.0, 0.0, 0.0, 0.0, 0.0, 0.0, 0.0, 0.0, 0.0, 0.0, 0.0, 0.0, 0.0, 3.8382384149212556, 0.0, 0.0, 0.0, 0.0, 0.0, 0.0, 7.151164323978456, 0.0, 0.0, 0.0, 0.0, 0.0, 0.0, 0.0], 74: [0.0, 0.0, 0.0, 0.0, 0.0, 3.470003197662592, 0.0, 0.0, 0.0, 5.182630156190718, 0.0, 0.0, 4.020763338792033, 0.0, 0.0, 3.8794065066035954, 0.0, 0.0, 0.0, 0.0, 0.0, 0.0, 7.416746413055179, 0.0, 0.0, 0.0, 0.0, 0.0, 0.0], 75: [36.875785927074666, 0.0, 50.908109931598, 0.0, 0.0, 13.880012790650367, 0.0, 0.0, 29.84377722271983, 0.0, 30.70373514682903, 45.82651337357748, 28.145343371544232, 0.0, 34.5441457342913, 54.31169109245033, 45.64711656321093, 21.33165136459839, 0.0, 28.902168955631414, 0.0, 21.45349297193537, 51.917224891386255, 0.0, 12.352175561940491, 47.695384660022235, 0.0, 26.323871895823405, 34.39207603337152], 76: [9.218946481768667, 0.0, 14.545174266170855, 0.0, 0.0, 0.0, 0.0, 0.0, 14.921888611359915, 0.0, 0.0, 0.0, 0.0, 0.0, 7.676476829842511, 3.8794065066035954, 0.0, 4.266330272919678, 0.0, 4.128881279375916, 0.0, 7.151164323978456, 14.833492826110358, 0.0, 0.0, 0.0, 0.0, 10.529548758329362, 17.19603801668576], 77: [101.40841129945532, 108.59749791988064, 109.08880699628142, 95.20688651959136, 69.05409417653077, 83.2800767439022, 90.95588321826988, 112.60455476591805, 96.99227597383944, 77.73945234286076, 67.54821732302386, 76.3775222892958, 104.53984680859286, 108.34899107767566, 88.27948354318889, 104.74397567829708, 102.70601226722458, 98.12559627715258, 96.88124996459268, 111.47979454314974, 80.920474565569, 85.81397188774147, 111.25119619582769, 93.20572657333517, 94.70001264154376, 131.16230781506113, 116.80502346196847, 110.56026196245831, 111.77424710845743], 78: [18.437892963537333, 18.099582986646773, 7.272587133085428, 8.655171501781034, 6.905409417653076, 10.410009592987775, 0.0, 0.0, 0.0, 15.547890468572152, 6.140747029365806, 7.637752228929579, 8.041526677584066, 0.0, 19.191192074606278, 11.638219519810786, 5.705889570401366, 4.266330272919678, 0.0, 0.0, 0.0, 14.302328647956912, 14.833492826110358, 0.0, 12.352175561940491, 0.0, 0.0, 5.264774379164681, 8.59801900834288], 79: [0.0, 9.049791493323387, 0.0, 8.655171501781034, 0.0, 0.0, 10.10620924647443, 9.383712897159837, 0.0, 5.182630156190718, 0.0, 0.0, 0.0, 0.0, 3.8382384149212556, 0.0, 0.0, 0.0, 9.688124996459267, 0.0, 0.0, 14.302328647956912, 0.0, 0.0, 4.1173918539801635, 0.0, 7.30031396637303, 0.0, 0.0], 80: [0.0, 0.0, 0.0, 60.58620051246724, 103.58114126479614, 10.410009592987775, 50.53104623237215, 56.302277382959026, 14.921888611359915, 36.27841109333502, 6.140747029365806, 45.82651337357748, 4.020763338792033, 60.946307481192555, 3.8382384149212556, 3.8794065066035954, 0.0, 34.13064218335742, 29.064374989377804, 12.386643838127748, 14.712813557376181, 7.151164323978456, 7.416746413055179, 17.476073732500346, 12.352175561940491, 23.847692330011117, 14.60062793274606, 15.794323137494043, 25.79405702502864], 81: [0.0, 18.099582986646773, 0.0, 0.0, 0.0, 0.0, 0.0, 0.0, 0.0, 0.0, 0.0, 7.637752228929579, 4.020763338792033, 0.0, 0.0, 0.0, 5.705889570401366, 0.0, 0.0, 0.0, 0.0, 7.151164323978456, 0.0, 0.0, 0.0, 0.0, 0.0, 0.0, 0.0], 82: [0.0, 0.0, 0.0, 8.655171501781034, 0.0, 0.0, 0.0, 0.0, 0.0, 5.182630156190718, 0.0, 0.0, 0.0, 0.0, 0.0, 0.0, 0.0, 8.532660545839356, 0.0, 0.0, 0.0, 0.0, 0.0, 0.0, 0.0, 0.0, 0.0, 0.0, 0.0], 83: [27.656839445305998, 0.0, 14.545174266170855, 0.0, 0.0, 3.470003197662592, 0.0, 0.0, 22.38283291703987, 0.0, 12.281494058731612, 0.0, 12.0622900163761, 0.0, 7.676476829842511, 15.517626026414382, 11.411779140802732, 0.0, 0.0, 16.515525117503664, 0.0, 7.151164323978456, 7.416746413055179, 0.0, 8.234783707960327, 23.847692330011117, 0.0, 15.794323137494043, 17.19603801668576], 84: [0.0, 0.0, 7.272587133085428, 0.0, 0.0, 0.0, 0.0, 0.0, 0.0, 0.0, 6.140747029365806, 7.637752228929579, 0.0, 0.0, 0.0, 0.0, 11.411779140802732, 0.0, 0.0, 8.257762558751832, 0.0, 0.0, 0.0, 0.0, 4.1173918539801635, 0.0, 0.0, 10.529548758329362, 0.0], 85: [9.218946481768667, 9.049791493323387, 7.272587133085428, 0.0, 0.0, 0.0, 0.0, 0.0, 22.38283291703987, 0.0, 6.140747029365806, 0.0, 8.041526677584066, 0.0, 3.8382384149212556, 15.517626026414382, 11.411779140802732, 0.0, 0.0, 4.128881279375916, 0.0, 7.151164323978456, 0.0, 0.0, 0.0, 23.847692330011117, 0.0, 15.794323137494043, 25.79405702502864], 86: [9.218946481768667, 0.0, 7.272587133085428, 8.655171501781034, 6.905409417653076, 0.0, 10.10620924647443, 9.383712897159837, 0.0, 10.365260312381436, 12.281494058731612, 7.637752228929579, 12.0622900163761, 0.0, 7.676476829842511, 3.8794065066035954, 5.705889570401366, 17.06532109167871, 0.0, 4.128881279375916, 14.712813557376181, 7.151164323978456, 7.416746413055179, 0.0, 0.0, 11.923846165005559, 0.0, 0.0, 0.0], 87: [0.0, 0.0, 0.0, 0.0, 0.0, 0.0, 0.0, 0.0, 0.0, 0.0, 0.0, 0.0, 0.0, 0.0, 0.0, 0.0, 17.117668711204097, 0.0, 0.0, 4.128881279375916, 0.0, 0.0, 0.0, 0.0, 0.0, 0.0, 0.0, 0.0, 0.0], 88: [0.0, 0.0, 0.0, 17.310343003562068, 10.358114126479615, 0.0, 40.42483698589772, 37.53485158863935, 0.0, 10.365260312381436, 0.0, 0.0, 4.020763338792033, 6.771811942354729, 0.0, 3.8794065066035954, 11.411779140802732, 0.0, 0.0, 24.773287676255496, 7.356406778688091, 14.302328647956912, 7.416746413055179, 11.650715821666896, 4.1173918539801635, 0.0, 7.30031396637303, 5.264774379164681, 8.59801900834288], 89: [0.0, 9.049791493323387, 0.0, 0.0, 10.358114126479615, 10.410009592987775, 20.21241849294886, 18.767425794319674, 0.0, 10.365260312381436, 0.0, 0.0, 0.0, 13.543623884709458, 0.0, 0.0, 0.0, 0.0, 0.0, 12.386643838127748, 14.712813557376181, 0.0, 7.416746413055179, 0.0, 4.1173918539801635, 0.0, 7.30031396637303, 0.0, 0.0], 90: [18.437892963537333, 0.0, 14.545174266170855, 8.655171501781034, 3.452704708826538, 10.410009592987775, 0.0, 0.0, 14.921888611359915, 15.547890468572152, 12.281494058731612, 7.637752228929579, 12.0622900163761, 0.0, 3.8382384149212556, 15.517626026414382, 17.117668711204097, 8.532660545839356, 0.0, 16.515525117503664, 0.0, 0.0, 0.0, 0.0, 12.352175561940491, 23.847692330011117, 0.0, 10.529548758329362, 17.19603801668576], 91: [0.0, 0.0, 7.272587133085428, 0.0, 3.452704708826538, 0.0, 0.0, 9.383712897159837, 7.460944305679957, 0.0, 0.0, 22.91325668678874, 16.083053355168133, 0.0, 15.352953659685022, 0.0, 22.823558281605465, 17.06532109167871, 0.0, 0.0, 0.0, 0.0, 7.416746413055179, 5.825357910833448, 0.0, 11.923846165005559, 0.0, 15.794323137494043, 25.79405702502864], 92: [0.0, 0.0, 0.0, 8.655171501781034, 0.0, 3.470003197662592, 0.0, 0.0, 0.0, 0.0, 6.140747029365806, 7.637752228929579, 4.020763338792033, 0.0, 7.676476829842511, 3.8794065066035954, 0.0, 4.266330272919678, 0.0, 0.0, 0.0, 0.0, 0.0, 0.0, 4.1173918539801635, 0.0, 7.30031396637303, 0.0, 0.0], 93: [9.218946481768667, 0.0, 14.545174266170855, 0.0, 0.0, 0.0, 0.0, 0.0, 22.38283291703987, 0.0, 12.281494058731612, 15.275504457859158, 4.020763338792033, 0.0, 3.8382384149212556, 0.0, 5.705889570401366, 8.532660545839356, 0.0, 8.257762558751832, 0.0, 0.0, 0.0, 0.0, 4.1173918539801635, 11.923846165005559, 0.0, 5.264774379164681, 17.19603801668576], 94: [55.313678890611996, 63.3485404532637, 116.36139412936684, 43.27585750890517, 34.527047088265384, 93.69008633688998, 80.84967397179544, 112.60455476591805, 111.91416458519936, 77.73945234286076, 79.82971138175547, 114.56628343394368, 92.47755679221676, 74.48993136590201, 92.11772195811014, 96.98516266508987, 79.88245398561912, 93.85926600423291, 67.81687497521487, 99.09315070502198, 73.5640677868809, 157.32561512752602, 59.333971304441434, 99.03108448416862, 98.81740449552393, 71.54307699003334, 131.40565139471454, 94.76593882496427, 60.18613305840016], 95: [0.0, 18.099582986646773, 0.0, 0.0, 0.0, 0.0, 0.0, 0.0, 0.0, 5.182630156190718, 12.281494058731612, 0.0, 8.041526677584066, 6.771811942354729, 11.514715244763767, 7.758813013207191, 0.0, 8.532660545839356, 0.0, 0.0, 0.0, 7.151164323978456, 0.0, 11.650715821666896, 12.352175561940491, 0.0, 0.0, 10.529548758329362, 0.0], 96: [0.0, 0.0, 0.0, 8.655171501781034, 3.452704708826538, 0.0, 0.0, 0.0, 0.0, 10.365260312381436, 0.0, 0.0, 0.0, 0.0, 3.8382384149212556, 0.0, 5.705889570401366, 0.0, 0.0, 0.0, 0.0, 0.0, 0.0, 0.0, 12.352175561940491, 0.0, 0.0, 0.0, 0.0], 97: [0.0, 0.0, 0.0, 0.0, 0.0, 0.0, 0.0, 0.0, 0.0, 0.0, 0.0, 0.0, 0.0, 0.0, 0.0, 0.0, 0.0, 0.0, 0.0, 0.0, 0.0, 0.0, 0.0, 0.0, 0.0, 0.0, 0.0, 0.0, 0.0], 98: [0.0, 9.049791493323387, 7.272587133085428, 17.310343003562068, 10.358114126479615, 0.0, 0.0, 0.0, 0.0, 0.0, 0.0, 0.0, 0.0, 6.771811942354729, 0.0, 0.0, 0.0, 0.0, 0.0, 0.0, 14.712813557376181, 0.0, 0.0, 0.0, 0.0, 0.0, 14.60062793274606, 10.529548758329362, 0.0], 99: [0.0, 0.0, 0.0, 0.0, 3.452704708826538, 0.0, 0.0, 0.0, 7.460944305679957, 0.0, 0.0, 0.0, 0.0, 0.0, 0.0, 11.638219519810786, 5.705889570401366, 0.0, 0.0, 0.0, 0.0, 0.0, 7.416746413055179, 0.0, 0.0, 0.0, 7.30031396637303, 10.529548758329362, 0.0], 100: [0.0, 0.0, 0.0, 0.0, 3.452704708826538, 0.0, 10.10620924647443, 0.0, 0.0, 5.182630156190718, 0.0, 0.0, 0.0, 0.0, 7.676476829842511, 0.0, 0.0, 4.266330272919678, 9.688124996459267, 0.0, 0.0, 7.151164323978456, 7.416746413055179, 0.0, 4.1173918539801635, 0.0, 7.30031396637303, 0.0, 0.0], 101: [18.437892963537333, 0.0, 43.63552279851257, 0.0, 0.0, 0.0, 0.0, 0.0, 14.921888611359915, 0.0, 30.70373514682903, 7.637752228929579, 20.103816693960166, 0.0, 15.352953659685022, 19.397032533017978, 22.823558281605465, 4.266330272919678, 0.0, 16.515525117503664, 0.0, 7.151164323978456, 0.0, 0.0, 4.1173918539801635, 47.695384660022235, 7.30031396637303, 0.0, 17.19603801668576], 102: [0.0, 0.0, 0.0, 0.0, 0.0, 3.470003197662592, 0.0, 0.0, 0.0, 0.0, 0.0, 0.0, 0.0, 0.0, 0.0, 0.0, 11.411779140802732, 4.266330272919678, 0.0, 4.128881279375916, 0.0, 0.0, 0.0, 0.0, 0.0, 0.0, 7.30031396637303, 10.529548758329362, 0.0], 103: [9.218946481768667, 0.0, 7.272587133085428, 0.0, 24.168932961785767, 3.470003197662592, 20.21241849294886, 9.383712897159837, 7.460944305679957, 25.91315078095359, 6.140747029365806, 7.637752228929579, 4.020763338792033, 60.946307481192555, 3.8382384149212556, 3.8794065066035954, 5.705889570401366, 8.532660545839356, 19.376249992918535, 8.257762558751832, 14.712813557376181, 7.151164323978456, 0.0, 0.0, 12.352175561940491, 23.847692330011117, 14.60062793274606, 15.794323137494043, 0.0], 104: [27.656839445305998, 36.199165973293546, 94.54363273011056, 51.9310290106862, 20.71622825295923, 62.46005755792665, 80.84967397179544, 18.767425794319674, 96.99227597383944, 36.27841109333502, 73.68896435238966, 45.82651337357748, 52.26992340429643, 60.946307481192555, 80.60300671334637, 65.94991061226112, 79.88245398561912, 46.929633002116454, 77.50499997167414, 45.41769407313508, 58.851254229504725, 57.20931459182765, 29.666985652220717, 75.72965284083483, 69.99566151766278, 35.77153849501667, 51.102197764611205, 31.588646274988086, 34.39207603337152], 105: [0.0, 0.0, 0.0, 0.0, 0.0, 0.0, 0.0, 0.0, 0.0, 0.0, 0.0, 0.0, 0.0, 0.0, 0.0, 0.0, 0.0, 0.0, 0.0, 0.0, 7.356406778688091, 0.0, 0.0, 0.0, 0.0, 0.0, 0.0, 0.0, 0.0], 106: [36.875785927074666, 9.049791493323387, 79.99845846393971, 60.58620051246724, 31.074342379438843, 58.99005436026406, 30.31862773942329, 46.91856448579919, 82.07038736247952, 57.00893171809789, 55.26672326429225, 91.65302674715495, 76.39450343704863, 54.17449553883783, 72.92652988350386, 77.58813013207191, 102.70601226722458, 72.52761463963452, 77.50499997167414, 57.80433791126283, 44.13844067212854, 85.81397188774147, 51.917224891386255, 75.72965284083483, 65.87826966368262, 59.61923082502779, 65.70282569735727, 52.64774379164681, 42.9900950417144], 107: [0.0, 18.099582986646773, 0.0, 0.0, 0.0, 13.880012790650367, 0.0, 0.0, 0.0, 0.0, 0.0, 0.0, 8.041526677584066, 0.0, 7.676476829842511, 0.0, 0.0, 25.597981637518068, 0.0, 12.386643838127748, 7.356406778688091, 0.0, 0.0, 0.0, 0.0, 11.923846165005559, 0.0, 0.0, 0.0], 108: [9.218946481768667, 36.199165973293546, 0.0, 34.620686007124135, 31.074342379438843, 17.35001598831296, 30.31862773942329, 28.151138691479513, 7.460944305679957, 20.73052062476287, 6.140747029365806, 22.91325668678874, 0.0, 33.85905971177365, 15.352953659685022, 15.517626026414382, 0.0, 17.06532109167871, 38.75249998583707, 28.902168955631414, 29.425627114752363, 28.604657295913825, 37.083732065275896, 29.126789554167242, 0.0, 11.923846165005559, 36.50156983186515, 15.794323137494043, 0.0], 109: [9.218946481768667, 0.0, 0.0, 0.0, 0.0, 0.0, 0.0, 0.0, 0.0, 0.0, 0.0, 0.0, 0.0, 0.0, 0.0, 0.0, 0.0, 0.0, 0.0, 0.0, 0.0, 0.0, 0.0, 0.0, 4.1173918539801635, 0.0, 0.0, 0.0, 0.0]}, 'x_frs_index': {2: 1.0, 3: -0.6711093897902075, 4: -1.0, 5: -0.045916630227347745, 6: 0.4063895120739533, 7: -0.03226940559429346, 8: -0.20076106601083557, 9: -0.4811529246900613, 10: -0.35107936581280197, 11: -0.18285331844653357, 12: -0.054670811881530675, 13: -0.6121423792000513, 14: -0.24788675480794609, 15: -0.6351742913086489, 16: 0.5997302725394392, 17: 0.5977870882991602, 18: -0.32029635512719407, 19: 0.10132304702339978, 20: 0.08326308719189031, 21: -0.26497751002633224, 22: 0.38021005121806406, 23: -0.04684038826199855, 24: nan, 25: -0.8469322604789463, 26: 0.45974578580672226, 27: 0.3709151353800087, 28: 1.0, 29: -0.19552910972412707, 30: 0.04441139669739985, 31: -0.19936018562497182, 32: 0.08958281754080495, 33: -0.17618799258793888, 34: 0.1400934399226624, 35: 0.26712317183631634, 36: -0.21962333801406542, 37: -0.4893497640768211, 38: -0.07542381091833947, 39: -0.3085254020312276, 40: 0.2683078534783659, 41: 0.11499196806060456, 42: 0.034363135001885654, 43: -0.11709703069331842, 44: -0.25809090054617045, 45: 0.02911982574009579, 46: 0.17060053381850476, 47: 0.04816595755978726, 48: -0.19059533270811177, 49: -0.12447367621896208, 50: -0.24751944571215329, 51: 0.21638744642438235, 52: -0.5544363971030195, 53: 0.21336665370735758, 54: 0.5319898814190862, 55: -0.5642048362792957, 56: -0.738484885938602, 57: -0.1818514907670062, 58: -0.5390143054973907, 59: -0.02544187605085353, 60: -0.25929068851299036, 61: 0.07730626153151182, 62: -0.03761514671355477, 63: -0.24089172102607778, 64: -0.41010337435877636, 65: 0.06889735294150529, 66: -0.4529169901155216, 67: -0.17183928411598326, 68: -0.29695444745716953, 69: 0.16118418843596077, 70: -0.5174213998511668, 71: 0.11939066577574592, 72: -0.32390495239157896, 73: 0.7790073208291274, 74: 0.4454082741816566, 75: -0.1203400256140681, 76: 0.14312525137862983, 77: -0.06483169813729507, 78: 0.1204999192389136, 79: -0.748028935647619, 80: -0.18402321309066824, 81: -0.4988765747195095, 82: 0.3705867537341168, 83: -0.32222265158199836, 84: 0.21530943141274128, 85: -0.614725277679204, 86: 0.17250410498121357, 87: 0.23231749063876464, 88: -0.05833083593423566, 89: -1.0, 90: -0.5456662728605164, 91: -0.10480157636045409, 92: 0.14683099001961797, 93: 0.10044798346783432, 94: 0.022709765168722727, 95: 0.18223303196730503, 96: -0.06216080394300168, 97: 1.0, 98: -0.3926224021871859, 99: 0.10444921987061423, 100: -0.11522181311988558, 101: 0.15322851265251186, 102: 0.13366924775428807, 103: -0.0405851299269216, 104: 0.028463253360131256, 105: 0.09832031688836065, 106: -0.02026910683324438, 107: 0.39536321257348606, 108: -0.2616117051309505, 109: 0.2996462486711963}, 'y_frs_index': {2: 0.9396408108900274, 3: -0.8528880987423244, 4: -0.9702143173357184, 5: 0.10515155656845422, 6: 0.39258310978342503, 7: -0.07175491563978206, 8: 0.9464288973077466, 9: 0.19397634441685024, 10: 0.1525303407982985, 11: -0.6145464746011726, 12: -0.006435639476866715, 13: -0.8832086802388411, 14: -0.5411940604105789, 15: -0.3694916701306294, 16: 0.13553845856249302, 17: 0.4508521640694564, 18: -0.028403966731705203, 19: -0.9204543813292161, 20: 0.013634443675236899, 21: -0.12069423992191332, 22: 0.16282892862848766, 23: -0.8886234853147184, 24: -0.49947085672922237, 25: -0.4608612373169903, 26: 0.13902982861270488, 27: -0.3164689356509432, 28: 0.7162080190445028, 29: -0.18637339849388213, 30: 0.05770155355504864, 31: -0.052578393905189064, 32: 0.24153732100004957, 33: -0.17378832842601707, 34: -0.5337154686731052, 35: 0.23835958790955986, 36: -0.05023231363327899, 37: 0.28624116300818464, 38: -0.16975101392971143, 39: -0.1379246865778498, 40: 0.07949970244056327, 41: 0.17788064409314439, 42: -0.02929131330997156, 43: 0.07370253703304064, 44: 0.16195701707888424, 45: 0.09655613360123805, 46: 0.1256090278180073, 47: 0.026259078005578262, 48: -0.07821878508466762, 49: 0.10475798993138918, 50: -0.1494256658724388, 51: -0.17277974522135597, 52: -0.6909536581276665, 53: 0.055741685911885545, 54: 0.14819454902168575, 55: -0.3795150469988499, 56: -0.39018501538253975, 57: -0.24468207028428443, 58: -0.8677769147802422, 59: 0.506218491585526, 60: -0.5216522391219734, 61: 0.1078495879469924, 62: -0.3418164470121488, 63: 0.1718704419074432, 64: 0.10992562302522642, 65: 0.04454003770963308, 66: -0.18111222576960265, 67: -0.48486046220170886, 68: 0.4288090315571574, 69: 0.11202569061985825, 70: -0.21823661167038397, 71: 0.15211099579730356, 72: -0.18590405018953146, 73: 0.5780665857144375, 74: 0.6575449402485496, 75: -0.03942802069056158, 76: -0.004173251956932514, 77: 0.022831872090051494, 78: 0.36473679619088634, 79: -0.15882195656472273, 80: -0.04598722266470503, 81: -0.18614774188685532, 82: 0.742834100088981, 83: -0.03895729727500505, 84: -0.15840795313396283, 85: -0.45931021248911647, 86: 0.0631762956925871, 87: 0.09323678891718502, 88: 0.4400664318906609, 89: -0.19143659382419356, 90: 0.07280824164317423, 91: 0.031026724840766833, 92: 0.25318331450669024, 93: 0.11264021731837819, 94: 0.026137062329271186, 95: 0.29956987431790205, 96: 0.30738795829461796, 97: 0.9365307226861536, 98: -0.18942867327396898, 99: 0.25825385054270306, 100: -0.10327406702537308, 101: 0.23476650978655822, 102: -0.31945512240487134, 103: -0.00038891282933301285, 104: 0.10122954040352045, 105: 1.0, 106: 0.0301899532526915, 107: 0.5615563684258604, 108: -0.045313034677402164, 109: 0.8064624392769496}, 'active_context': IdentifyingContext<('kdiba', 'gor01', 'one', '2006-6-08_14-26-15', 'long_short_firing_rate_indicies')>}),\n",
       " 'active_context': IdentifyingContext<('kdiba', 'gor01', 'one', '2006-6-08_14-26-15', 'long_short_firing_rate_indicies')>}"
      ]
     },
     "execution_count": 98,
     "metadata": {},
     "output_type": "execute_result"
    }
   ],
   "source": [
    "from pyphocorehelpers.programming_helpers import IPythonHelpers\n",
    "\n",
    "long_short_fr_indicies_analysis_results = curr_active_pipeline.global_computation_results.computed_data['long_short_fr_indicies_analysis']\n",
    "x_frs_index, y_frs_index = long_short_fr_indicies_analysis_results['x_frs_index'], long_short_fr_indicies_analysis_results['y_frs_index'] # use the all_results_dict as the computed data value\n",
    "active_context = long_short_fr_indicies_analysis_results['active_context']\n",
    "\n",
    "IPythonHelpers.cell_vars(lambda: globals())"
   ]
  },
  {
   "cell_type": "code",
   "execution_count": 119,
   "id": "39f99839",
   "metadata": {},
   "outputs": [],
   "source": [
    "long_short_fr_indicies_df = pd.DataFrame({'aclu': list(x_frs_index.keys()), 'replay_fr_idx': list(x_frs_index.values()), 'laps_fr_idx': list(y_frs_index.values())}) # , columns=['aclu','replay_frs']\n",
    "long_short_fr_indicies_df.set_index('aclu', inplace=True)\n",
    "# long_short_fr_indicies_df\n",
    "long_short_fr_indicies_df.to_clipboard()"
   ]
  },
  {
   "cell_type": "code",
   "execution_count": 99,
   "id": "58696b73",
   "metadata": {},
   "outputs": [
    {
     "data": {
      "text/plain": [
       "DynamicParameters({'long_laps': 35 epochs\n",
       "array([[   5.73892314,   13.90835   ],\n",
       "       [  30.53504997,   39.76855564],\n",
       "       [ 135.83449301,  144.1481502 ],\n",
       "       [ 161.5538168 ,  167.31814537],\n",
       "       [ 234.47012635,  239.73553166],\n",
       "       [ 255.25081331,  262.68154743],\n",
       "       [ 294.55684887,  299.86354183],\n",
       "       [ 313.88371257,  319.41764126],\n",
       "       [ 499.2982634 ,  504.74141453],\n",
       "       [ 511.58078895,  518.38704723],\n",
       "       [ 558.24625754,  565.53211621],\n",
       "       [ 584.28583717,  591.15980229],\n",
       "       [ 599.27239717,  604.70150927],\n",
       "       [ 616.77704357,  625.65610206],\n",
       "       [ 692.41993604,  697.52098943],\n",
       "       [ 712.59417979,  721.66861739],\n",
       "       [ 734.30912291,  740.66232286],\n",
       "       [ 750.56020963,  755.13588985],\n",
       "       [ 763.15076447,  768.97127989],\n",
       "       [ 783.13030496,  787.93021034],\n",
       "       [ 804.52732696,  812.14480786],\n",
       "       [ 825.79335895,  832.09866645],\n",
       "       [ 848.69077571,  853.68673603],\n",
       "       [ 923.92813367,  933.59405384],\n",
       "       [ 941.8437213 ,  951.48641716],\n",
       "       [ 994.57021206, 1001.80688803],\n",
       "       [1035.51002854, 1040.73936858],\n",
       "       [1052.40138117, 1059.67525905],\n",
       "       [1068.05505636, 1074.32411427],\n",
       "       [1087.35992455, 1093.56576073],\n",
       "       [1104.65963793, 1110.07382012],\n",
       "       [1123.53897291, 1130.33109999],\n",
       "       [1163.50536525, 1167.77129586],\n",
       "       [1178.95398454, 1187.1945896 ],\n",
       "       [1195.00179712, 1203.58837064]])\n",
       ", 'long_replays': 35 epochs\n",
       "array([[  44.58873621,   44.82994953],\n",
       "       [  61.52819634,   61.66207403],\n",
       "       [  64.88460038,   65.11392506],\n",
       "       [  72.77770098,   72.95169897],\n",
       "       [ 191.18757315,  191.29306558],\n",
       "       [ 193.64762949,  193.89308217],\n",
       "       [ 195.4320305 ,  195.52102629],\n",
       "       [ 200.41389035,  200.51354598],\n",
       "       [ 263.07245923,  263.21601371],\n",
       "       [ 267.60596091,  267.7736613 ],\n",
       "       [ 324.11973421,  324.43141917],\n",
       "       [ 335.73446874,  335.86610388],\n",
       "       [ 341.70892201,  342.0275804 ],\n",
       "       [ 366.00228557,  366.18030788],\n",
       "       [ 380.25878515,  380.48380903],\n",
       "       [ 398.6011348 ,  399.04703537],\n",
       "       [ 409.82099465,  409.90876165],\n",
       "       [ 419.65138962,  419.74385677],\n",
       "       [ 434.1020395 ,  434.31575843],\n",
       "       [ 444.86908679,  445.01101311],\n",
       "       [ 446.73351335,  446.94640284],\n",
       "       [ 447.11477908,  447.15228818],\n",
       "       [ 449.6167682 ,  449.82833673],\n",
       "       [ 491.17752772,  491.41410232],\n",
       "       [ 523.85084219,  523.9492383 ],\n",
       "       [ 571.06091466,  571.22462145],\n",
       "       [ 689.08064303,  689.28462373],\n",
       "       [ 854.17278762,  854.36487969],\n",
       "       [ 856.02136268,  856.11975879],\n",
       "       [ 858.12789344,  858.21937755],\n",
       "       [ 907.46888834,  907.78588785],\n",
       "       [1004.64670482, 1004.91031301],\n",
       "       [1097.53045118, 1097.65999736],\n",
       "       [1158.83731004, 1159.07892271],\n",
       "       [1169.16100651, 1169.289969  ]])\n",
       ", 'short_laps': 32 epochs\n",
       "array([[1238.54943306, 1244.47811355],\n",
       "       [1258.38047315, 1265.50409958],\n",
       "       [1330.59400162, 1337.33313673],\n",
       "       [1342.79717745, 1346.29120702],\n",
       "       [1362.60367227, 1366.91555998],\n",
       "       [1380.05025789, 1383.95642677],\n",
       "       [1394.39821087, 1400.40535019],\n",
       "       [1405.59186658, 1409.96092418],\n",
       "       [1413.90856504, 1422.25496973],\n",
       "       [1431.70308521, 1436.03702987],\n",
       "       [1551.50113203, 1558.76262975],\n",
       "       [1561.14223046, 1567.00283545],\n",
       "       [1574.71680783, 1583.28126296],\n",
       "       [1584.47261467, 1592.62010746],\n",
       "       [1603.85591099, 1610.0010752 ],\n",
       "       [1611.12874438, 1617.55315325],\n",
       "       [1627.4640653 , 1633.00241766],\n",
       "       [1636.33412284, 1643.74243136],\n",
       "       [1645.96185807, 1655.69056989],\n",
       "       [1665.25563635, 1669.54030616],\n",
       "       [1679.01010995, 1683.00610406],\n",
       "       [1692.97397096, 1697.13201299],\n",
       "       [1706.96716955, 1711.04340427],\n",
       "       [1715.4215857 , 1721.39843512],\n",
       "       [1743.69137475, 1748.68281923],\n",
       "       [1751.34787003, 1756.39491769],\n",
       "       [1917.87789421, 1923.36721748],\n",
       "       [1926.29947069, 1933.59872328],\n",
       "       [1999.01809714, 2008.27236952],\n",
       "       [2019.1085675 , 2023.62271559],\n",
       "       [2026.15047877, 2031.41889463],\n",
       "       [2037.50212736, 2042.16941457]])\n",
       ", 'short_replays': 29 epochs\n",
       "array([[1227.44812163, 1227.55659389],\n",
       "       [1266.00735436, 1266.11785415],\n",
       "       [1285.37098989, 1285.50849254],\n",
       "       [1291.95376028, 1292.06929814],\n",
       "       [1294.72777486, 1295.01740287],\n",
       "       [1299.49923354, 1299.78741771],\n",
       "       [1300.26370034, 1300.36264941],\n",
       "       [1311.82538147, 1311.93194909],\n",
       "       [1316.97715355, 1317.11118484],\n",
       "       [1318.30751319, 1318.50046541],\n",
       "       [1325.17604087, 1325.33888751],\n",
       "       [1388.51416652, 1388.64509509],\n",
       "       [1456.8766992 , 1457.12540819],\n",
       "       [1461.5322821 , 1461.67995306],\n",
       "       [1467.94925673, 1468.20979292],\n",
       "       [1485.88785363, 1486.14562501],\n",
       "       [1504.29984548, 1504.47510299],\n",
       "       [1530.54653924, 1530.78093272],\n",
       "       [1539.01978674, 1539.12300589],\n",
       "       [1540.99904461, 1541.24124096],\n",
       "       [1732.07703958, 1732.21297551],\n",
       "       [1769.9580365 , 1770.09787387],\n",
       "       [1780.35690478, 1780.49173479],\n",
       "       [1787.67422071, 1787.84588398],\n",
       "       [1789.76145932, 1790.00433152],\n",
       "       [1797.03632024, 1797.12018579],\n",
       "       [1807.3398644 , 1807.47684481],\n",
       "       [1886.12550342, 1886.31544509],\n",
       "       [1889.34019618, 1889.45650204]])\n",
       ", 'global_laps': 67 epochs\n",
       "array([[   5.73892314,   13.90835   ],\n",
       "       [  30.53504997,   39.76855564],\n",
       "       [ 135.83449301,  144.1481502 ],\n",
       "       [ 161.5538168 ,  167.31814537],\n",
       "       [ 234.47012635,  239.73553166],\n",
       "       [ 255.25081331,  262.68154743],\n",
       "       [ 294.55684887,  299.86354183],\n",
       "       [ 313.88371257,  319.41764126],\n",
       "       [ 499.2982634 ,  504.74141453],\n",
       "       [ 511.58078895,  518.38704723],\n",
       "       [ 558.24625754,  565.53211621],\n",
       "       [ 584.28583717,  591.15980229],\n",
       "       [ 599.27239717,  604.70150927],\n",
       "       [ 616.77704357,  625.65610206],\n",
       "       [ 692.41993604,  697.52098943],\n",
       "       [ 712.59417979,  721.66861739],\n",
       "       [ 734.30912291,  740.66232286],\n",
       "       [ 750.56020963,  755.13588985],\n",
       "       [ 763.15076447,  768.97127989],\n",
       "       [ 783.13030496,  787.93021034],\n",
       "       [ 804.52732696,  812.14480786],\n",
       "       [ 825.79335895,  832.09866645],\n",
       "       [ 848.69077571,  853.68673603],\n",
       "       [ 923.92813367,  933.59405384],\n",
       "       [ 941.8437213 ,  951.48641716],\n",
       "       [ 994.57021206, 1001.80688803],\n",
       "       [1035.51002854, 1040.73936858],\n",
       "       [1052.40138117, 1059.67525905],\n",
       "       [1068.05505636, 1074.32411427],\n",
       "       [1087.35992455, 1093.56576073],\n",
       "       [1104.65963793, 1110.07382012],\n",
       "       [1123.53897291, 1130.33109999],\n",
       "       [1163.50536525, 1167.77129586],\n",
       "       [1178.95398454, 1187.1945896 ],\n",
       "       [1195.00179712, 1203.58837064],\n",
       "       [1238.54943306, 1244.47811355],\n",
       "       [1258.38047315, 1265.50409958],\n",
       "       [1330.59400162, 1337.33313673],\n",
       "       [1342.79717745, 1346.29120702],\n",
       "       [1362.60367227, 1366.91555998],\n",
       "       [1380.05025789, 1383.95642677],\n",
       "       [1394.39821087, 1400.40535019],\n",
       "       [1405.59186658, 1409.96092418],\n",
       "       [1413.90856504, 1422.25496973],\n",
       "       [1431.70308521, 1436.03702987],\n",
       "       [1551.50113203, 1558.76262975],\n",
       "       [1561.14223046, 1567.00283545],\n",
       "       [1574.71680783, 1583.28126296],\n",
       "       [1584.47261467, 1592.62010746],\n",
       "       [1603.85591099, 1610.0010752 ],\n",
       "       [1611.12874438, 1617.55315325],\n",
       "       [1627.4640653 , 1633.00241766],\n",
       "       [1636.33412284, 1643.74243136],\n",
       "       [1645.96185807, 1655.69056989],\n",
       "       [1665.25563635, 1669.54030616],\n",
       "       [1679.01010995, 1683.00610406],\n",
       "       [1692.97397096, 1697.13201299],\n",
       "       [1706.96716955, 1711.04340427],\n",
       "       [1715.4215857 , 1721.39843512],\n",
       "       [1743.69137475, 1748.68281923],\n",
       "       [1751.34787003, 1756.39491769],\n",
       "       [1917.87789421, 1923.36721748],\n",
       "       [1926.29947069, 1933.59872328],\n",
       "       [1999.01809714, 2008.27236952],\n",
       "       [2019.1085675 , 2023.62271559],\n",
       "       [2026.15047877, 2031.41889463],\n",
       "       [2037.50212736, 2042.16941457]])\n",
       ", 'global_replays': 60 epochs\n",
       "array([[  44.58873621,   44.82994953],\n",
       "       [  61.52819634,   61.66207403],\n",
       "       [  64.88460038,   65.11392506],\n",
       "       [  72.77770098,   72.95169897],\n",
       "       [ 191.18757315,  191.29306558],\n",
       "       [ 193.64762949,  193.89308217],\n",
       "       [ 195.4320305 ,  195.52102629],\n",
       "       [ 200.41389035,  200.51354598],\n",
       "       [ 263.07245923,  263.21601371],\n",
       "       [ 267.60596091,  267.7736613 ],\n",
       "       [ 324.11973421,  324.43141917],\n",
       "       [ 335.73446874,  335.86610388],\n",
       "       [ 341.70892201,  342.0275804 ],\n",
       "       [ 366.00228557,  366.18030788],\n",
       "       [ 380.25878515,  380.48380903],\n",
       "       [ 398.6011348 ,  399.04703537],\n",
       "       [ 409.82099465,  409.90876165],\n",
       "       [ 419.65138962,  419.74385677],\n",
       "       [ 434.1020395 ,  434.31575843],\n",
       "       [ 444.86908679,  445.01101311],\n",
       "       [ 446.73351335,  446.94640284],\n",
       "       [ 447.11477908,  447.15228818],\n",
       "       [ 449.6167682 ,  449.82833673],\n",
       "       [ 491.17752772,  491.41410232],\n",
       "       [ 523.85084219,  523.9492383 ],\n",
       "       [ 571.06091466,  571.22462145],\n",
       "       [ 689.08064303,  689.28462373],\n",
       "       [ 854.17278762,  854.36487969],\n",
       "       [ 856.02136268,  856.11975879],\n",
       "       [ 858.12789344,  858.21937755],\n",
       "       [ 907.46888834,  907.78588785],\n",
       "       [1004.64670482, 1004.91031301],\n",
       "       [1097.53045118, 1097.65999736],\n",
       "       [1158.83731004, 1159.07892271],\n",
       "       [1169.16100651, 1169.289969  ],\n",
       "       [1227.44812163, 1227.55659389],\n",
       "       [1285.37098989, 1285.50849254],\n",
       "       [1291.95376028, 1292.06929814],\n",
       "       [1294.72777486, 1295.01740287],\n",
       "       [1299.49923354, 1299.78741771],\n",
       "       [1300.26370034, 1300.36264941],\n",
       "       [1311.82538147, 1311.93194909],\n",
       "       [1316.97715355, 1317.11118484],\n",
       "       [1318.30751319, 1318.31749718],\n",
       "       [1325.17604087, 1325.33888751],\n",
       "       [1388.51416652, 1388.64509509],\n",
       "       [1456.8766992 , 1457.12540819],\n",
       "       [1461.6732561 , 1461.67995306],\n",
       "       [1485.88785363, 1486.14562501],\n",
       "       [1504.29984548, 1504.34374434],\n",
       "       [1530.7064982 , 1530.78093272],\n",
       "       [1539.01978674, 1539.12300589],\n",
       "       [1540.99904461, 1541.24124096],\n",
       "       [1732.07703958, 1732.21297551],\n",
       "       [1787.67422071, 1787.84588398],\n",
       "       [1789.76145932, 1790.00433152],\n",
       "       [1797.03632024, 1797.12018579],\n",
       "       [1807.3398644 , 1807.47684481],\n",
       "       [1886.12550342, 1886.31544509],\n",
       "       [1889.34019618, 1889.45650204]])\n",
       ", 'long_mean_laps_frs': {2: 0.25708510937075035, 3: 0.19580967128100654, 4: 0.015854993929629364, 5: 2.1007928330851726, 6: 42.15043723697831, 7: 2.7707568935383966, 8: 0.5778723285173827, 9: 2.2952036711234785, 10: 1.9622037099257088, 11: 0.25437720809427583, 12: 33.156488263846136, 13: 0.007534004959129376, 14: 0.6050755549964945, 15: 0.2989903287882217, 16: 0.3018001131672604, 17: 2.3062116720412957, 18: 35.04377826292758, 19: 0.013326625353559777, 20: 15.634106290839355, 21: 0.24881835392057913, 22: 1.2721394153672099, 23: 0.06991163896292574, 24: 0.6565994051209778, 25: 0.7257236540380905, 26: 0.499014964722212, 27: 0.17779894365441742, 28: 0.156043836693552, 29: 8.865132396850667, 30: 56.059550198614254, 31: 1.3936863478587165, 32: 1.1762510488280675, 33: 0.804458329177427, 34: 0.6658006704992768, 35: 0.6401984462323933, 36: 0.4449021086626978, 37: 0.2437599300160595, 38: 0.8700270314346915, 39: 1.781805635136408, 40: 20.331128536494624, 41: 1.2192856800175123, 42: 14.603416086660676, 43: 10.651325210440843, 44: 16.50740179336014, 45: 1.8007158255174853, 46: 1.6227618267467232, 47: 58.589677054450604, 48: 4.59950282132894, 49: 2.2058206526507336, 50: 1.601809015965189, 51: 0.4061677437101426, 52: 0.3469093488663902, 53: 0.9551198959765149, 54: 0.8407188978691599, 55: 1.3374976405406234, 56: 0.949229777289582, 57: 0.9177071147763144, 58: 0.135420845426853, 59: 2.21732113476466, 60: 0.15711477168148025, 61: 2.358394494316484, 62: 1.1684092938711375, 63: 1.7497961710085717, 64: 1.448678326546264, 65: 44.071329667925326, 66: 1.753634069434637, 67: 0.5490155371273012, 68: 1.4921677091530223, 69: 3.315986076984875, 70: 0.4294469031697513, 71: 1.9376066260875962, 72: 2.4530112077860293, 73: 0.2682258023604515, 74: 1.4313940541713344, 75: 4.364564491909372, 76: 1.1469898741515896, 77: 59.11946485029543, 78: 4.747066887841477, 79: 0.7224535066816155, 80: 35.9728569133337, 81: 0.5745679306151756, 82: 2.0535934598761947, 83: 4.396939081214778, 84: 1.2604600838233362, 85: 1.170991037194625, 86: 3.490737140076212, 87: 0.060618400477377474, 88: 3.4857844790026036, 89: 0.6531786876326866, 90: 4.597038381091348, 91: 3.9488108961073296, 92: 2.174479473774445, 93: 1.7808481976823614, 94: 25.45924520694642, 95: 2.316037517443901, 96: 1.7627321587692102, 97: 1.1036342282570724, 98: 0.7290060042759845, 99: 1.455164391215403, 100: 0.9284079554457746, 101: 4.61135319889986, 102: 0.856769860401341, 103: 17.79935194088079, 104: 26.23067891724881, 105: 0.09816754026826116, 106: 28.20705214512527, 107: 2.459609252226036, 108: 4.606423066287326, 109: 0.4862623679484536}, 'long_mean_replays_frs': {2: 1.822788489428329, 3: 0.6935622330575717, 4: 0.0, 5: 5.119620998287278, 6: 133.2508117718878, 7: 1.9585486061722626, 8: 0.7097618784383759, 9: 4.060362393896176, 10: 4.753076903961448, 11: 2.045863510494099, 12: 91.89760796720903, 13: 0.38928747497946464, 14: 4.158878305491131, 15: 0.9944505650896794, 16: 8.657657438394152, 17: 2.052934335452731, 18: 3.8203740065026026, 19: 2.224166167045133, 20: 50.86978293695629, 21: 0.8197282783459083, 22: 5.048457693261486, 23: 0.45471079452134483, 24: 0.0, 25: 0.1825245865002284, 26: 0.7811203358691937, 27: 3.1540687781363266, 28: 0.2891592880630555, 29: 26.588229920350823, 30: 5.99670521586808, 31: 6.273545659874044, 32: 4.714317268776926, 33: 2.8835825070239958, 34: 0.851415129737817, 35: 6.272668272738169, 36: 5.5064250616624175, 37: 1.4939690393447091, 38: 4.247116384314305, 39: 4.9601469841530745, 40: 76.62150050998162, 41: 6.946919851693955, 42: 34.214874720053395, 43: 3.687681607540909, 44: 3.435600025718912, 45: 3.3844381963004397, 46: 2.695034857001063, 47: 15.104802104401301, 48: 9.625530804791778, 49: 9.380618656992542, 50: 7.40644086878255, 51: 2.275720185767655, 52: 1.1814769161474765, 53: 4.7858515622042805, 54: 0.9705123294291038, 55: 2.6892148163901335, 56: 0.9470575655344754, 57: 2.9798539550227106, 58: 0.9860688021923124, 59: 6.018177434098905, 60: 3.099673567840327, 61: 6.367198577518838, 62: 10.675332736863433, 63: 3.3871230441783724, 64: 4.4867471799289165, 65: 62.69289587072154, 66: 3.2464630999992914, 67: 0.5991073729204484, 68: 0.4606429354561179, 69: 2.3452590612053257, 70: 0.3089900333122767, 71: 4.538922212850268, 72: 4.1473841949820995, 73: 3.0505344928777602, 74: 2.154165302904119, 75: 16.652537672122644, 76: 4.984214933030022, 77: 86.01067771968584, 78: 8.931356924742085, 79: 0.40571537579377537, 80: 15.969178825845093, 81: 0.4912978694465244, 82: 1.6797614534375969, 83: 3.944594344177425, 84: 2.956963003707297, 85: 1.3953225394594886, 86: 8.479565320420635, 87: 1.1760651701644962, 88: 7.144444744761153, 89: 0.0, 90: 2.467066335925809, 91: 5.268562972011234, 92: 2.64966928172994, 93: 6.013771719531956, 94: 91.17739737319896, 95: 5.975504537346232, 96: 1.3509026664458248, 97: 2.1295398837002444, 98: 1.3626446553532696, 99: 2.2753424570083043, 100: 1.8153862806814653, 101: 13.959897097577283, 102: 1.854893184052577, 103: 10.29758626540563, 104: 58.39503515643316, 105: 0.3089900333122767, 106: 58.803943956530134, 107: 8.35273643983217, 108: 11.747627434370777, 109: 0.8533875550049446}, 'short_mean_laps_frs': {2: 0.008000166137330745, 3: 2.466241048028694, 4: 1.0487500452318406, 5: 1.7010256968696325, 6: 18.385177392921317, 7: 3.1991252856882424, 8: 0.015904643574104167, 9: 1.5494347622191493, 10: 1.4428323927535338, 11: 1.065508024923493, 12: 33.58601897823836, 13: 0.12148251740805686, 14: 2.0325343919800765, 15: 0.6494200715951224, 16: 0.22975407751918597, 17: 0.8729015817483452, 18: 37.0927415724733, 19: 0.3217421207634269, 20: 15.213516120556207, 21: 0.31712438230915474, 22: 0.9158684403844521, 23: 1.185499147781051, 24: 1.967021672486361, 25: 1.9664354124944143, 26: 0.3771955649528419, 27: 0.3424376715570351, 28: 0.025803392735464725, 29: 12.926515959877767, 30: 49.94303627805694, 31: 1.5483752198595242, 32: 0.718578899385822, 33: 1.1428836337965056, 34: 2.18996925437738, 35: 0.39374751337873126, 36: 0.491963011195494, 37: 0.13526686064576043, 38: 1.225794935304899, 39: 2.3519529991602557, 40: 17.336558616228878, 41: 0.8510186180147316, 42: 15.484737623915754, 43: 9.18903996159949, 44: 11.905700499974461, 45: 1.4835954292172668, 46: 1.2605871632528443, 47: 55.591387571673245, 48: 5.3800948248466, 49: 1.7874895071386077, 50: 2.1646084544330293, 51: 0.5758385390514638, 52: 1.8981219093239943, 53: 0.8542619039881997, 54: 0.6236999997566663, 55: 2.973638782901846, 56: 2.163943238244099, 57: 1.5122818439704173, 58: 1.9129483209979143, 59: 0.7269012966444637, 60: 0.49979128926919614, 61: 1.8992132531159711, 62: 2.3819963295057933, 63: 1.2365342430608264, 64: 1.161727806069594, 65: 40.3128549049527, 66: 2.52933149585965, 67: 1.5825061064017363, 68: 0.5965196888078022, 69: 2.6478798749545973, 70: 0.6692151973600396, 71: 1.425969684104115, 72: 3.5733330047287737, 73: 0.07171651032595232, 74: 0.2957314305309943, 75: 4.722863802734588, 76: 1.1566033490784107, 77: 56.480110140442584, 78: 2.209683895300011, 79: 0.9952649057752669, 80: 39.440927404757815, 81: 0.8374031609125869, 82: 0.30302035640310326, 83: 4.753412029609845, 84: 1.734958155968974, 85: 3.160479851447059, 86: 3.0758824397973856, 87: 0.050278709996590384, 88: 1.3553595152034452, 89: 0.9624736722038049, 90: 3.973064275931984, 91: 3.711147475422156, 92: 1.2958499642302712, 93: 1.4202731890215272, 94: 24.162284199964233, 95: 1.2482764347543318, 96: 0.9338387367873804, 97: 0.03617131712175442, 98: 1.069740090581587, 99: 0.8578257746207987, 100: 1.142253595215645, 101: 2.857837392764274, 102: 1.66112392914255, 103: 17.813202120040398, 104: 21.40821552729574, 105: 0.0, 106: 26.553823858499406, 107: 0.6905930740665014, 108: 5.043699400254933, 109: 0.052096312947323906}, 'short_mean_replays_frs': {2: 0.0, 3: 3.5240238671668336, 4: 5.45636121658812, 5: 5.612399201388204, 6: 56.242654480413115, 7: 2.0891659488791414, 8: 1.0663324739621252, 9: 11.591117925119503, 10: 9.896100987923246, 11: 2.961471296531577, 12: 102.5269567711694, 13: 1.6180856129932144, 14: 6.900302827342532, 15: 4.45719684570725, 16: 2.166239048419014, 17: 0.5167876888228234, 18: 7.420919269826718, 19: 1.8149142336719806, 20: 43.049752471241675, 21: 1.4107566102872957, 22: 2.2670341607590196, 23: 0.49940179884005514, 24: 0.0, 25: 2.202361831386971, 26: 0.2890938664448221, 27: 1.447337533220852, 28: 0.0, 29: 39.51293108308353, 30: 5.486710677199816, 31: 9.397785061471893, 32: 3.939118143167563, 33: 4.117001318119649, 34: 0.6421732024528712, 35: 3.6279766087658305, 36: 8.60579876535322, 37: 4.357272903758823, 38: 4.940047279359042, 39: 9.386430601556238, 40: 44.2032665997469, 41: 5.514012694353516, 42: 31.941533145335235, 43: 4.665856064751075, 44: 5.825912006545132, 45: 3.19290704892697, 46: 1.9094989342314523, 47: 13.716592056436488, 48: 14.158692819707314, 49: 12.04790588235314, 50: 12.278960505588012, 51: 1.4660484299102228, 52: 4.121814952693291, 53: 3.102698114979353, 54: 0.29648341408078893, 55: 9.652431168986695, 56: 6.295793915027575, 57: 4.3045300446897485, 58: 3.292019710971868, 59: 6.332399275911549, 60: 5.269800177852387, 61: 5.453392845512808, 62: 11.509830922785346, 63: 5.53682927723935, 64: 10.725230596861302, 65: 54.61097002097811, 66: 8.621802012765997, 67: 0.8477310521090066, 68: 0.8497783702189646, 69: 1.6941673873484329, 70: 0.9715890608165567, 71: 3.5707080558723354, 72: 8.121258238216644, 73: 0.37894492203102453, 74: 0.8265361935277283, 75: 21.208768189263978, 76: 3.736115454246382, 77: 97.93627075657538, 78: 7.010379029703327, 79: 2.8146176956765525, 80: 23.17207882274909, 81: 1.469488015474076, 82: 0.7713952484072796, 83: 7.695199618794317, 84: 1.909226507008445, 85: 5.8479377037997855, 86: 5.984461345919264, 87: 0.7326396548475868, 88: 8.0295569479654, 89: 4.780708735381466, 90: 8.393084203452496, 91: 6.502152509348093, 92: 1.9711847146982768, 93: 4.915907483624558, 94: 87.12812092437369, 95: 4.133339279008049, 96: 1.5299806920776593, 97: 0.0, 98: 3.1243323430088563, 99: 1.844978180775042, 100: 2.2882100954517233, 101: 10.250217280306897, 102: 1.4174778143263211, 103: 11.16880244007955, 104: 55.1628094542489, 105: 0.25366919926510656, 106: 61.237068053328734, 107: 3.6193957828987307, 108: 20.072019534583887, 109: 0.4598737357154769}, 'long_mean_laps_all_frs': {2: [0.8568532557309269, 0.10830122766629084, 0.6014200356930467, 0.3469614849606364, 0.0, 0.13457620532066233, 0.942206386344746, 0.3614068979294332, 1.1023026649903664, 0.0, 0.2745043639617055, 0.0, 0.18419218124991454, 0.4504982147325125, 0.0, 0.44079866753152114, 0.0, 0.43709348229024086, 0.17180609067273095, 0.0, 0.5251079789528061, 0.15859654764459857, 0.8006468711140653, 0.20691253027162507, 0.10370543821109007, 0.13818499038546728, 0.19122871946736217, 0.0, 0.15951360065990355, 0.0, 0.1847001015665615, 0.0, 0.0, 0.0, 0.1164608906280474], 3: [0.12240760796156099, 0.0, 0.0, 0.0, 0.18991890315344806, 0.0, 0.0, 0.0, 0.18371711083172773, 0.14692360465479007, 0.0, 0.0, 0.0, 0.0, 0.0, 0.22039933376576057, 0.15740099608340835, 0.21854674114512043, 0.0, 0.20833744007895502, 0.0, 0.31719309528919715, 0.0, 0.41382506054325013, 0.10370543821109007, 0.41455497115640183, 0.0, 0.6873912492730089, 0.3190272013198071, 1.2891091167473383, 0.1847001015665615, 0.5889171317659232, 0.0, 0.9708025006598318, 0.1164608906280474], 4: [0.0, 0.0, 0.0, 0.0, 0.0, 0.0, 0.0, 0.0, 0.0, 0.0, 0.0, 0.0, 0.0, 0.0, 0.0, 0.0, 0.0, 0.21854674114512043, 0.0, 0.0, 0.0, 0.0, 0.0, 0.10345626513581253, 0.0, 0.0, 0.0, 0.0, 0.0, 0.0, 0.0, 0.0, 0.0, 0.0, 0.2329217812560948], 5: [1.7137065114618537, 1.407915959661781, 1.2028400713860934, 3.643095592086682, 1.1395134189206884, 2.9606765170545715, 0.7537651090757967, 3.9754758772237655, 0.36743422166345546, 3.8200137210245417, 2.7450436396170557, 1.0183351060508834, 4.420612349997949, 0.7883718757818968, 4.704910569154986, 0.8815973350630423, 3.935024902085209, 0.8741869645804817, 3.7797339948000808, 0.625012320236865, 1.181492952643814, 0.31719309528919715, 2.401940613342196, 0.6207375908148752, 2.2815196406439817, 2.7636998077093455, 4.589489267216692, 0.4124347495638053, 2.7117312112183605, 0.1611386395934173, 3.6940020313312303, 0.5889171317659232, 3.047400712931451, 0.9708025006598318, 3.0279831563292325], 6: [48.35100514481659, 43.97029843251408, 53.28581516240394, 40.76797448287478, 45.39061785367409, 42.5260808813293, 55.96705934887791, 40.116165670167085, 49.78733703539821, 39.522449652138526, 38.84236750058133, 46.55246199089753, 40.890664237481026, 44.824572365885, 36.07098103018823, 41.765673748611626, 39.19284802476868, 45.23917541703993, 41.57707394280089, 47.7092737780807, 34.132018631932404, 43.13826095933081, 40.83299042681733, 42.417068705683135, 37.74877950883678, 45.73923181758967, 37.289600296135625, 39.043822958706905, 41.31402257091502, 35.12822343136497, 41.00342254777666, 36.807320735370205, 40.31945558647766, 36.890495025073605, 41.11069439170073], 7: [0.0, 0.0, 0.12028400713860934, 0.0, 0.0, 0.0, 0.0, 0.0, 1.8371711083172773, 1.0284652325835304, 3.9803132774447305, 4.073340424203534, 2.02611399374906, 4.3923575936419965, 2.5484932249589507, 5.399783677261134, 0.0, 6.119308752063373, 1.5462548160545786, 6.666798082526561, 1.4440469421202171, 8.564213572808322, 3.202587484456261, 6.621200968692002, 1.8666978877996212, 1.52003489424014, 1.5298297557388973, 3.9868692457834514, 2.3927040098985533, 9.346041096418203, 2.585801421931861, 7.067005581191079, 0.0, 5.946165316541469, 1.164608906280474], 8: [0.48963043184624394, 1.29961473199549, 0.0, 1.734807424803182, 0.0, 1.2111858478859612, 0.0, 1.2649241427530162, 0.0, 1.1753888372383205, 0.9607652738659694, 0.0, 1.1051530874994873, 0.0, 1.9603794038145776, 0.33059900064864084, 1.1018069725838584, 0.0, 0.6872243626909238, 0.0, 0.7876619684292093, 0.0, 1.0008085888925815, 0.0, 0.5185271910554503, 0.6909249519273364, 0.38245743893472434, 0.0, 0.7975680032995178, 0.0, 0.738800406266246, 0.0, 1.1720771972813273, 0.0, 0.8152262343963318], 9: [0.0, 0.0, 0.12028400713860934, 2.9491726221654093, 0.0, 1.7494906691686105, 0.0, 3.2526620813648988, 0.0, 2.6446248837862214, 1.5097740017893806, 0.0, 2.762882718748718, 0.0, 1.568303523051662, 0.11019966688288028, 11.647673710172219, 0.21854674114512043, 4.638764448163736, 0.0, 8.795558647459504, 0.0, 4.203396073348843, 0.0, 9.955722068264647, 2.487329826938411, 5.545632864553503, 0.13747824985460178, 3.349785613857975, 0.48341591878025186, 3.3246018281981073, 0.0, 3.2818161523877163, 0.12135031258247897, 5.473661859518228], 10: [2.9377825910774638, 0.7581085936640358, 3.849088228435499, 0.3469614849606364, 2.658864644148273, 0.13457620532066233, 4.7110319317237295, 0.1807034489647166, 7.5324015441008365, 0.4407708139643702, 0.0, 4.364293311646643, 0.9209609062495727, 2.365115627345691, 0.0, 2.424392671423366, 0.15740099608340835, 6.337855493208493, 0.3436121813454619, 6.458460642447606, 0.26255398947640307, 4.282106786404161, 0.0, 3.2071442192101887, 0.20741087642218015, 0.0, 0.5736861584020865, 4.261825745492655, 0.0, 1.77252503552759, 0.5541003046996845, 3.386273507654059, 0.0, 2.5483565642320585, 0.6987653437682844], 11: [0.48963043184624394, 0.43320491066516337, 0.2405680142772187, 0.0, 0.0, 0.13457620532066233, 0.3768825545378984, 0.0, 0.5511513324951832, 0.29384720930958014, 0.41175654594255834, 0.0, 0.7367687249996582, 0.3378736610493844, 0.0, 0.11019966688288028, 0.0, 0.43709348229024086, 0.3436121813454619, 0.41667488015791004, 0.0, 0.15859654764459857, 0.0, 0.5172813256790627, 0.6222326292665404, 0.13818499038546728, 0.0, 0.0, 0.0, 0.0, 0.0, 0.0, 0.4688308789125309, 1.3348534384072688, 0.3493826718841422], 12: [44.066738866161955, 34.65639285321307, 27.78560564901876, 40.24753225543382, 35.324915986541335, 37.143032668502805, 34.67319501748665, 39.75475877223765, 36.19227083385036, 33.49858186129214, 34.5875498591749, 28.07695363826007, 38.12778151873231, 26.354145561851983, 40.97192953972467, 24.35412638111654, 38.24844204826823, 33.00055791291319, 34.70483031589165, 29.583916491211614, 35.70734256879082, 33.62246810065489, 38.431049813475134, 27.00208520044707, 32.148685845437925, 32.19710275981387, 38.24574389347243, 26.120867472374336, 30.148070524721774, 26.265598253727017, 34.90831919608012, 20.759328894748794, 36.09997767626488, 27.303820331057768, 30.163370672664275], 13: [0.0, 0.0, 0.0, 0.0, 0.0, 0.0, 0.0, 0.0, 0.0, 0.0, 0.0, 0.0, 0.0, 0.0, 0.0, 0.0, 0.0, 0.0, 0.0, 0.0, 0.0, 0.0, 0.0, 0.0, 0.0, 0.0, 0.0, 0.0, 0.0, 0.0, 0.0, 0.1472292829414808, 0.0, 0.0, 0.1164608906280474], 14: [0.24481521592312197, 0.21660245533258168, 1.082556064247484, 1.3878459398425456, 1.3294323220741364, 0.26915241064132467, 1.130647663613695, 0.9035172448235831, 0.5511513324951832, 0.0, 0.41175654594255834, 0.5819057748862191, 0.18419218124991454, 1.013620983148153, 0.0, 0.771397668180162, 0.0, 0.8741869645804817, 0.0, 0.41667488015791004, 0.13127699473820154, 0.6343861905783943, 0.20016171777851632, 1.2414751816297505, 0.20741087642218015, 0.0, 0.0, 0.9623477489822124, 0.0, 2.094802314714425, 0.369400203133123, 1.3250635464733274, 0.23441543945626545, 1.9416050013196635, 0.4658435625121896], 15: [1.3464836875771709, 0.0, 0.6014200356930467, 0.0, 0.7596756126137922, 0.0, 0.1884412772689492, 0.1807034489647166, 0.0, 0.0, 0.0, 0.0, 0.0, 0.0, 0.0, 0.0, 0.0, 0.21854674114512043, 0.0, 0.0, 0.0, 0.15859654764459857, 0.0, 0.10345626513581253, 0.0, 0.0, 0.19122871946736217, 1.237304248691416, 0.0, 3.867327350242015, 0.0, 0.8833756976488849, 0.0, 0.7281018754948738, 0.0], 16: [2.2033369433080976, 1.407915959661781, 2.044828121356359, 0.1734807424803182, 0.0, 0.0, 0.0, 0.0, 0.18371711083172773, 0.4407708139643702, 0.41175654594255834, 0.7273822186077739, 0.0, 0.5631227684156406, 0.0, 0.5509983344144014, 0.0, 0.0, 0.6872243626909238, 0.0, 0.0, 0.0, 0.0, 0.41382506054325013, 0.3111163146332702, 0.0, 0.0, 0.13747824985460178, 0.0, 0.0, 0.1847001015665615, 0.0, 0.0, 0.12135031258247897, 0.0], 17: [0.9792608636924879, 6.49807365997745, 0.8419880499702654, 3.8165763345670003, 0.5697567094603442, 4.9793195968645065, 0.3768825545378984, 3.6140689792943324, 0.0, 3.2323193024053816, 4.117565459425583, 0.5819057748862191, 3.4996514437483763, 0.900996429465025, 6.861327913351022, 0.8815973350630423, 0.0, 0.6556402234353613, 3.092509632109157, 1.4583620805526851, 4.069586836884248, 0.47578964293379566, 3.6029109200132936, 1.551843977037188, 2.4889305170661618, 3.1782547788657474, 4.39826054774933, 0.5499129994184071, 3.0307584125381677, 1.2891091167473383, 3.6940020313312303, 1.0306049805903656, 1.1720771972813273, 2.0629553139021426, 1.164608906280474], 18: [39.04802693973795, 42.02087633452084, 38.37059827721638, 39.20664780055191, 41.782158693758575, 33.913203740806914, 34.484753740217705, 34.8757656501903, 34.35509972553309, 30.119338954231964, 34.450297677194044, 36.805540261553354, 36.47005188748308, 32.09799779969151, 32.73833604370345, 31.51710472850376, 36.83183308351756, 34.53038510092903, 31.0969024117643, 32.70897809239594, 34.78840360562341, 30.291940600118323, 35.42862404679739, 33.209461108595825, 21.052203956851283, 33.717137654054014, 35.56854182092936, 36.29425796161487, 37.64520975573724, 36.73960982729914, 35.46241950077981, 34.00996435948207, 39.61620926810886, 38.83210002639327, 36.45225876657884], 19: [0.12240760796156099, 0.0, 0.2405680142772187, 0.0, 0.0, 0.0, 0.0, 0.0, 0.0, 0.0, 0.0, 0.0, 0.0, 0.0, 0.0, 0.0, 0.0, 0.0, 0.0, 0.0, 0.0, 0.0, 0.0, 0.10345626513581253, 0.0, 0.0, 0.0, 0.0, 0.0, 0.0, 0.0, 0.0, 0.0, 0.0, 0.0], 20: [15.912989035002928, 16.136882922277334, 12.8703887638312, 16.827632020590865, 18.42213360588446, 17.36033048636544, 15.452184736053834, 16.444013855789212, 16.35082286402377, 15.280054884098167, 16.47026183770233, 17.748126134029683, 14.55118231874325, 15.767437515637937, 12.938504065176213, 16.419750365549163, 18.888119530009003, 12.894257727562106, 15.634354251218516, 15.000295685684762, 12.73386848960555, 13.480706549790877, 16.613422575616855, 16.553002421730007, 15.03728854060806, 17.68767876933981, 14.915840118454248, 12.37304248691416, 16.429900867970066, 14.663616203000974, 15.514808531591166, 13.839552596499196, 17.581157959219908, 15.047438760227392, 17.352672703579064], 21: [0.36722282388468297, 0.10830122766629084, 0.2405680142772187, 0.0, 0.0, 0.6728810266033117, 0.0, 0.0, 0.0, 0.29384720930958014, 0.2745043639617055, 0.29095288744310954, 0.5525765437497436, 0.22524910736625625, 0.3920758807629155, 0.0, 0.0, 0.6556402234353613, 0.17180609067273095, 0.20833744007895502, 0.13127699473820154, 0.47578964293379566, 0.0, 0.20691253027162507, 0.0, 0.0, 0.0, 0.27495649970920355, 0.3190272013198071, 1.4502477563407556, 0.1847001015665615, 0.736146414707404, 0.0, 0.24270062516495794, 0.2329217812560948], 22: [0.12240760796156099, 1.5162171873280716, 0.360852021415828, 2.9491726221654093, 0.18991890315344806, 1.6149144638479482, 0.1884412772689492, 1.2649241427530162, 0.7348684433269109, 1.7630832558574807, 2.0587827297127914, 0.14547644372155477, 2.762882718748718, 0.22524910736625625, 1.9603794038145776, 0.11019966688288028, 2.6758169334179422, 0.6556402234353613, 2.920703541436426, 0.0, 0.9189389631674109, 0.15859654764459857, 2.001617177785163, 0.0, 1.348170696744171, 2.3491448365529437, 2.67720207254307, 0.0, 2.073676808578746, 0.1611386395934173, 2.0317011172321764, 0.1472292829414808, 3.5162315918439817, 0.24270062516495794, 2.67860048444509], 23: [0.0, 0.10830122766629084, 0.0, 0.1734807424803182, 1.7092701283810325, 0.0, 0.0, 0.0, 0.18371711083172773, 0.0, 0.0, 0.0, 0.0, 0.11262455368312813, 0.0, 0.0, 0.0, 0.0, 0.0, 0.0, 0.0, 0.0, 0.0, 0.0, 0.0, 0.0, 0.0, 0.0, 0.15951360065990355, 0.0, 0.0, 0.0, 0.0, 0.0, 0.0], 24: [0.0, 0.0, 0.0, 0.0, 0.0, 0.0, 0.0, 0.0, 0.0, 0.0, 0.0, 0.0, 0.0, 0.0, 0.0, 0.0, 3.3054209177515754, 0.0, 1.8898669974000404, 0.0, 0.5251079789528061, 0.0, 0.600485153335549, 0.0, 0.4148217528443603, 0.5527399615418691, 0.19122871946736217, 0.0, 0.6380544026396142, 0.0, 0.1847001015665615, 0.0, 0.7032463183687964, 0.0, 13.975306875365687], 25: [0.12240760796156099, 0.8664098213303267, 0.12028400713860934, 1.2143651973622274, 0.18991890315344806, 1.0766096425652987, 0.5653238318068475, 0.5421103468941498, 0.18371711083172773, 0.7346180232739503, 1.5097740017893806, 0.0, 0.3683843624998291, 0.0, 0.3920758807629155, 0.0, 4.722029882502251, 0.0, 1.7180609067273094, 0.0, 0.9189389631674109, 0.0, 1.0008085888925815, 0.0, 1.451876134955261, 1.1054799230837382, 1.5298297557388973, 0.0, 2.073676808578746, 0.48341591878025186, 1.108200609399369, 0.0, 0.7032463183687964, 0.0, 0.6987653437682844], 26: [0.0, 1.0830122766629084, 0.360852021415828, 1.0408844548819092, 0.18991890315344806, 0.8074572319239741, 0.0, 0.5421103468941498, 0.0, 0.5876944186191603, 0.6862609099042639, 0.0, 1.1051530874994873, 0.0, 0.5881138211443733, 0.0, 2.3610149412511254, 0.0, 0.6872243626909238, 0.0, 0.5251079789528061, 0.0, 0.8006468711140653, 0.0, 0.4148217528443603, 0.5527399615418691, 0.9561435973368108, 0.0, 0.47854080197971066, 0.0, 1.477600812532492, 0.0, 1.1720771972813273, 0.0, 1.0481480156524265], 27: [0.48963043184624394, 0.21660245533258168, 0.360852021415828, 0.3469614849606364, 0.18991890315344806, 0.26915241064132467, 0.3768825545378984, 0.0, 0.18371711083172773, 0.29384720930958014, 0.0, 0.14547644372155477, 0.0, 0.0, 0.0, 0.0, 0.3148019921668167, 0.21854674114512043, 0.3436121813454619, 0.0, 0.0, 0.0, 0.20016171777851632, 0.3103687954074376, 0.20741087642218015, 0.41455497115640183, 0.0, 0.0, 0.3190272013198071, 0.0, 0.5541003046996845, 0.0, 0.23441543945626545, 0.0, 0.2329217812560948], 28: [0.9792608636924879, 0.0, 0.0, 0.0, 0.0, 0.0, 0.0, 1.9877379386118827, 0.0, 0.0, 0.0, 0.0, 0.18419218124991454, 0.0, 0.0, 0.0, 1.2592079686672668, 0.0, 0.0, 0.0, 0.0, 0.0, 0.0, 0.0, 0.0, 0.0, 0.0, 0.0, 0.0, 0.0, 0.0, 0.0, 0.4688308789125309, 0.0, 0.582304453140237], 29: [5.7531575741933665, 5.415061383314542, 8.419880499702654, 7.633152669134001, 9.306026254518954, 6.7288102660331175, 11.68335919067485, 8.312358652376965, 9.920723984913296, 8.374645465323034, 7.41161782696605, 8.874063067014841, 9.209609062495726, 8.897339740967121, 6.469252032588106, 8.48537434998178, 5.981237851169517, 12.020070762981625, 6.8722436269092375, 12.708583844816257, 6.4325727421718755, 9.99158250160971, 10.408409324482848, 9.000695066815691, 5.185271910554503, 8.014729442357103, 9.561435973368107, 11.273216488077345, 8.613734435634791, 10.635150213165542, 10.897305992427128, 12.808947615908831, 10.31427933607568, 9.46532438143336, 9.200410359615745], 30: [53.85934750308683, 60.323783810124, 56.29291534086917, 68.87185476468632, 51.08818494827753, 59.213530341091435, 47.86408442631309, 61.077765750074214, 51.99194236537895, 53.039421280379216, 58.332177341862426, 53.826284176975264, 57.467960549973334, 48.65380719111135, 59.00742005481879, 48.15725442781868, 58.71057153911132, 49.39156349879722, 58.24226473805579, 52.29269745981771, 60.51869457431091, 50.11650905569314, 60.849162204668964, 57.52168341551177, 38.6821284527366, 50.85207646185196, 62.53179126582743, 57.60338668907814, 57.584409838225184, 57.68763297444339, 58.18053199346687, 56.683273932470115, 62.82333777427914, 63.466213480636505, 59.27859332967613], 31: [3.0601901990390243, 0.649807365997745, 2.5259641499107963, 0.5204422274409546, 2.848783547301721, 0.5383048212826493, 2.072854049958441, 0.1807034489647166, 2.3883224408124604, 0.8815416279287404, 0.2745043639617055, 2.7640524307095404, 0.5525765437497436, 2.1398665199794342, 0.784151761525831, 1.212196335711683, 1.8888119530009002, 2.8411076348865656, 0.5154182720181928, 3.541736481342235, 0.5251079789528061, 2.3789482146689784, 0.600485153335549, 1.758756507308813, 0.5185271910554503, 0.5527399615418691, 0.9561435973368108, 2.474608497382832, 0.15951360065990355, 1.9336636751210075, 0.369400203133123, 2.208439244122212, 0.23441543945626545, 1.5775540635722267, 0.3493826718841422], 32: [2.8153749831159027, 0.8664098213303267, 0.721704042831656, 1.9082881672835001, 2.658864644148273, 1.3457620532066235, 0.5653238318068475, 1.4456275917177328, 2.7557566624759158, 1.7630832558574807, 1.9215305477319389, 1.309287993493993, 2.394498356248889, 0.5631227684156406, 1.1762276422887465, 1.4325956694774435, 1.731410956917492, 1.5298271880158432, 1.5462548160545786, 0.8333497603158201, 0.9189389631674109, 1.1101758335121898, 0.20016171777851632, 1.0345626513581254, 2.1778142024328915, 0.13818499038546728, 0.38245743893472434, 0.8248694991276107, 0.3190272013198071, 0.6445545583736692, 0.0, 0.5889171317659232, 0.23441543945626545, 0.7281018754948738, 0.582304453140237], 33: [0.7344456477693659, 0.10830122766629084, 1.5636920928019216, 0.0, 1.8991890315344806, 0.26915241064132467, 1.884412772689492, 0.1807034489647166, 2.7557566624759158, 0.14692360465479007, 0.13725218198085276, 1.4547644372155477, 0.18419218124991454, 1.013620983148153, 0.19603794038145775, 0.5509983344144014, 0.15740099608340835, 1.3112804468707226, 0.3436121813454619, 2.50004928094746, 0.0, 2.2203516670243797, 0.0, 1.0345626513581254, 0.0, 0.27636998077093455, 0.0, 0.8248694991276107, 0.15951360065990355, 2.4170795939012595, 0.1847001015665615, 2.7973563758881355, 0.0, 0.8494521880773528, 0.0], 34: [0.12240760796156099, 0.0, 0.0, 0.0, 0.0, 0.13457620532066233, 0.0, 0.0, 0.0, 0.0, 0.2745043639617055, 0.0, 0.0, 0.22524910736625625, 1.568303523051662, 0.5509983344144014, 0.0, 0.0, 1.8898669974000404, 0.20833744007895502, 1.4440469421202171, 0.0, 1.4011320244496142, 0.6207375908148752, 4.1482175284436025, 1.3818499038546728, 1.9122871946736215, 0.4124347495638053, 2.073676808578746, 0.9668318375605037, 1.8470010156656151, 0.5889171317659232, 0.4688308789125309, 0.3640509377474369, 0.6987653437682844], 35: [0.36722282388468297, 0.10830122766629084, 0.2405680142772187, 2.2552496522441365, 0.0, 2.5569479010925846, 0.0, 2.8912551834354656, 0.5511513324951832, 2.497701279131431, 1.6470261837702334, 0.0, 1.4735374499993164, 0.22524910736625625, 0.784151761525831, 0.5509983344144014, 0.6296039843336334, 0.0, 0.8590304533636547, 0.0, 0.26255398947640307, 0.0, 0.600485153335549, 0.0, 1.0370543821109006, 0.41455497115640183, 0.7649148778694487, 0.0, 0.3190272013198071, 0.0, 0.1847001015665615, 0.0, 0.23441543945626545, 0.4854012503299159, 0.4658435625121896], 36: [1.2240760796156098, 1.0830122766629084, 0.2405680142772187, 1.734807424803182, 0.0, 1.2111858478859612, 0.0, 0.7228137958588664, 0.0, 2.203854069821851, 0.8235130918851167, 0.0, 0.9209609062495727, 0.0, 0.19603794038145775, 0.0, 0.47220298825022505, 0.0, 0.3436121813454619, 0.0, 0.26255398947640307, 0.0, 0.20016171777851632, 0.0, 0.6222326292665404, 0.13818499038546728, 0.19122871946736217, 0.0, 0.15951360065990355, 0.0, 0.369400203133123, 0.0, 0.9376617578250618, 0.0, 1.5139915781646163], 37: [1.4688912955387319, 0.649807365997745, 0.12028400713860934, 1.2143651973622274, 0.0, 0.6728810266033117, 0.0, 0.3614068979294332, 0.0, 0.7346180232739503, 0.13725218198085276, 0.0, 0.18419218124991454, 0.0, 0.0, 0.0, 0.47220298825022505, 0.0, 0.17180609067273095, 0.0, 0.26255398947640307, 0.0, 0.0, 0.0, 0.4148217528443603, 0.0, 0.38245743893472434, 0.0, 0.0, 0.0, 0.0, 0.0, 0.4688308789125309, 0.0, 0.8152262343963318], 38: [0.6120380398078049, 1.29961473199549, 0.9622720571088748, 1.5613266823228638, 0.3798378063068961, 0.9420334372446364, 0.3768825545378984, 1.4456275917177328, 0.7348684433269109, 0.4407708139643702, 1.098017455846822, 0.7273822186077739, 1.2893452687494018, 0.3378736610493844, 0.0, 0.44079866753152114, 1.1018069725838584, 0.6556402234353613, 1.2026426347091166, 0.8333497603158201, 1.4440469421202171, 0.7929827382229928, 0.40032343555703265, 0.20691253027162507, 2.1778142024328915, 0.5527399615418691, 0.5736861584020865, 0.9623477489822124, 0.15951360065990355, 0.8056931979670865, 0.5541003046996845, 1.472292829414808, 0.7032463183687964, 1.4562037509897476, 1.746913359420711], 39: [1.9585217273849758, 1.0830122766629084, 2.044828121356359, 1.9082881672835001, 1.8991890315344806, 1.3457620532066235, 1.5075302181515935, 3.2526620813648988, 2.3883224408124604, 1.9100068605122709, 1.7842783657510861, 1.4547644372155477, 1.2893452687494018, 0.900996429465025, 1.568303523051662, 1.542795336360324, 1.4166089647506752, 1.7483739291609635, 1.7180609067273094, 2.2917118408685053, 1.8378779263348217, 1.9031585717351827, 1.8014554600066468, 2.5864066283953133, 0.8296435056887206, 1.1054799230837382, 0.9561435973368108, 2.1996519976736284, 1.1165952046193248, 1.127970477153921, 1.2929007109659305, 2.502897810005174, 1.4064926367375927, 4.004560315221806, 2.67860048444509], 40: [15.668173819079806, 15.59537678394588, 26.221913556216837, 19.603323900275957, 18.42213360588446, 25.97320762688783, 24.308924767694446, 24.57566905920146, 22.046053299807326, 25.27086000062389, 26.352418940323734, 23.712660326613427, 25.050136649988378, 19.033549572448653, 17.839452574712656, 18.84414303697253, 19.517723514342638, 16.828099068174275, 17.524221248618556, 17.292007526553267, 20.873042163374045, 24.741061432557377, 27.422155335656736, 19.863602906076007, 19.185506069051662, 21.41867350974743, 16.254441154725782, 16.909824732116018, 18.663091277208718, 14.663616203000974, 16.623009140990536, 15.164616142972523, 19.6908969143263, 15.047438760227392, 25.388474156914334], 41: [1.2240760796156098, 1.0830122766629084, 1.2028400713860934, 1.3878459398425456, 0.18991890315344806, 1.8840668744892728, 0.3768825545378984, 1.4456275917177328, 0.9185855541586386, 1.6161596512026908, 0.9607652738659694, 1.309287993493993, 2.394498356248889, 0.5631227684156406, 0.5881138211443733, 0.771397668180162, 1.5740099608340836, 1.3112804468707226, 1.7180609067273094, 0.625012320236865, 1.3127699473820156, 0.6343861905783943, 2.2017788955636797, 0.41382506054325013, 1.8666978877996212, 1.7964048750110746, 1.9122871946736215, 0.8248694991276107, 2.073676808578746, 0.3222772791868346, 1.477600812532492, 1.0306049805903656, 1.4064926367375927, 1.0921528132423108, 1.164608906280474], 42: [13.954467307617952, 9.422206806967303, 16.358624970850872, 15.613266823228637, 11.964890898667226, 12.381010889500935, 13.94465451790224, 15.901903508895062, 15.799671531528585, 14.986207674788586, 13.176209470161867, 13.965738597269256, 14.919566681243078, 13.064448227242863, 14.506807588227874, 15.427953363603239, 12.749480682756078, 12.020070762981625, 13.916293344491207, 14.583620805526852, 13.784084447511162, 16.335444407393652, 18.214716317844985, 16.035721096050942, 12.548358023541898, 16.444013855870605, 18.54918578833413, 15.672520483424602, 14.834764861371031, 10.151734294385289, 16.438309039423974, 13.103406181791792, 17.581157959219908, 15.532840010557308, 17.236211812951016], 43: [8.446124949347707, 8.339194530304395, 10.94584464961345, 10.408844548819092, 9.685864060825851, 10.227791604370339, 11.494917913405901, 10.842206937882997, 11.574177982398847, 8.962339883942194, 11.39193110441078, 12.947403491218374, 12.893452687494017, 9.122588848333379, 10.978124661361635, 10.138369353224986, 11.332871718005402, 12.238617504126745, 10.823783712382049, 10.41687200394775, 10.764713568532526, 12.529127263923286, 12.610188220046528, 10.552539043852878, 8.192729618676115, 11.192984221222849, 13.003552923780626, 10.585825238804336, 9.41130243893431, 9.184902456824785, 10.158505586160883, 11.04219622061106, 10.079863896619415, 8.979923131103444, 11.296706390920598], 44: [14.199282523541074, 20.144028345930096, 18.52373709934584, 18.38895870291373, 20.891079346879287, 17.091178075724116, 19.974775390508615, 16.263310406824495, 21.67861907814387, 15.133131279443377, 17.70553147553001, 14.69312081587703, 15.656335406242736, 14.303318317757272, 18.623604336238486, 15.31775369672036, 17.31410956917492, 15.735365362448672, 15.806160341891246, 15.625308005921626, 16.672178331751596, 14.590882383303068, 19.615848342294598, 16.34608989145838, 14.10393959670825, 12.71301911546299, 18.357957068866767, 11.685651237641151, 14.675251260711127, 16.7584185177154, 18.100609953523026, 15.311845425914004, 15.94024988302605, 14.562037509897477, 15.25637667227421], 45: [0.36722282388468297, 1.407915959661781, 1.3231240785247027, 0.3469614849606364, 2.0891079346879287, 1.2111858478859612, 3.768825545378984, 0.3614068979294332, 2.3883224408124604, 0.5876944186191603, 0.9607652738659694, 2.036670212101767, 1.2893452687494018, 3.0408629494444592, 0.9801897019072888, 2.9753910058377673, 0.15740099608340835, 3.0596543760316863, 0.5154182720181928, 3.541736481342235, 1.181492952643814, 3.8063171434703653, 1.200970306671098, 2.793319158666938, 1.2444652585330809, 0.9672949326982709, 0.38245743893472434, 2.887043246946637, 1.435622405939132, 4.834159187802519, 1.477600812532492, 3.6807320735370204, 0.23441543945626545, 4.489961565551722, 0.0], 46: [0.48963043184624394, 0.9747110489966175, 0.8419880499702654, 1.2143651973622274, 1.3294323220741364, 0.9420334372446364, 1.3190889408826443, 0.5421103468941498, 1.1023026649903664, 1.4692360465479006, 1.6470261837702334, 2.9095288744310954, 1.1051530874994873, 1.80199285893005, 1.568303523051662, 2.5345923383062465, 0.6296039843336334, 2.1854674114512043, 2.061673088072771, 2.9167241611053702, 1.4440469421202171, 2.3789482146689784, 2.2017788955636797, 2.1725815678520632, 0.9333489438998106, 0.8291099423128037, 0.5736861584020865, 2.612086747237434, 1.1165952046193248, 4.350743269022267, 1.2929007109659305, 3.2390442247125777, 0.7032463183687964, 2.5483565642320585, 0.8152262343963318], 47: [62.672695276319224, 64.87243537210821, 63.87080779060156, 53.60554942641832, 64.95226487847924, 59.34810654641209, 57.286148289760554, 54.93384848527385, 64.66842301276816, 55.97789337347501, 60.93996879949863, 59.64534192583745, 56.546999643723765, 56.087027734197804, 52.930243902993595, 56.09163044338606, 53.988541656609065, 60.10035381490812, 50.68279674845563, 59.584507862581134, 59.3372016216671, 56.30177441383249, 57.84673643799122, 65.07399077042608, 42.20811335191366, 59.00499089459453, 59.28090303488227, 59.80303868675177, 56.14878743228605, 61.87723760387224, 60.58163331383218, 55.94712751776271, 59.77593706134769, 65.89321973228608, 62.772420048517546], 48: [1.4688912955387319, 4.548651561984215, 0.4811360285544374, 7.459671926653682, 0.18991890315344806, 9.420334372446364, 0.1884412772689492, 8.854468999271115, 0.5511513324951832, 10.725423139799675, 8.784139646774577, 0.7273822186077739, 11.235723056244787, 0.4504982147325125, 9.60585907869143, 1.212196335711683, 6.925643827669968, 0.0, 8.590304533636548, 0.0, 6.9576807211246825, 0.15859654764459857, 9.607762453368784, 0.10345626513581253, 6.9482643601430345, 5.527399615418691, 8.222834937096573, 0.6873912492730089, 7.17811202969566, 0.48341591878025186, 7.942104367362145, 0.8833756976488849, 8.204540380969291, 0.4854012503299159, 6.172427203286512], 49: [2.2033369433080976, 1.5162171873280716, 3.247668192742452, 2.0817689097638183, 3.9882969662224093, 0.9420334372446364, 3.768825545378984, 1.2649241427530162, 3.858059327466282, 0.5876944186191603, 0.9607652738659694, 2.7640524307095404, 0.7367687249996582, 4.6176067010082535, 0.9801897019072888, 1.7631946701260846, 1.1018069725838584, 5.02657504633777, 0.17180609067273095, 5.625110882131786, 0.9189389631674109, 4.440703334048759, 0.40032343555703265, 2.793319158666938, 0.20741087642218015, 0.9672949326982709, 0.19122871946736217, 4.399303995347257, 0.7975680032995178, 4.834159187802519, 1.108200609399369, 4.858566337068867, 0.4688308789125309, 2.9124075019794953, 0.6987653437682844], 50: [1.7137065114618537, 1.0830122766629084, 2.5259641499107963, 0.6939229699212728, 3.608459159915513, 0.9420334372446364, 3.015060436303187, 0.9035172448235831, 2.5720395516441883, 0.29384720930958014, 0.549008727923411, 2.9095288744310954, 0.3683843624998291, 2.590364734711947, 0.784151761525831, 2.3141930045404857, 0.47220298825022505, 3.496747858321927, 0.17180609067273095, 3.3333990412632803, 0.13127699473820154, 3.4891240481811683, 0.0, 1.965669037580438, 0.5185271910554503, 0.8291099423128037, 0.5736861584020865, 2.612086747237434, 0.3190272013198071, 2.255940954307842, 1.2929007109659305, 4.269649205302944, 0.7032463183687964, 2.0629553139021426, 0.6987653437682844], 51: [0.0, 0.21660245533258168, 0.4811360285544374, 0.6939229699212728, 0.0, 0.0, 0.0, 1.0842206937882997, 0.0, 0.5876944186191603, 0.13725218198085276, 0.14547644372155477, 0.18419218124991454, 0.0, 0.5881138211443733, 0.0, 0.0, 0.0, 1.2026426347091166, 0.41667488015791004, 0.7876619684292093, 0.0, 1.200970306671098, 0.41382506054325013, 1.0370543821109006, 0.6909249519273364, 1.147372316804173, 0.0, 0.3190272013198071, 0.0, 1.477600812532492, 0.0, 0.9376617578250618, 0.0, 0.4658435625121896], 52: [0.24481521592312197, 0.10830122766629084, 0.4811360285544374, 0.5204422274409546, 0.5697567094603442, 0.26915241064132467, 0.5653238318068475, 0.3614068979294332, 0.18371711083172773, 1.6161596512026908, 0.41175654594255834, 0.0, 0.5525765437497436, 0.0, 0.5881138211443733, 0.11019966688288028, 0.0, 0.0, 0.17180609067273095, 0.20833744007895502, 0.13127699473820154, 0.0, 0.0, 0.0, 0.10370543821109007, 0.13818499038546728, 0.19122871946736217, 0.13747824985460178, 0.15951360065990355, 1.4502477563407556, 0.369400203133123, 0.5889171317659232, 0.23441543945626545, 1.0921528132423108, 0.582304453140237], 53: [1.4688912955387319, 1.7328196426606535, 0.4811360285544374, 1.5613266823228638, 0.5697567094603442, 1.0766096425652987, 0.3768825545378984, 0.7228137958588664, 0.7348684433269109, 1.0284652325835304, 1.235269637827675, 0.8728586623293285, 1.8419218124991454, 1.013620983148153, 1.568303523051662, 0.8815973350630423, 0.6296039843336334, 0.6556402234353613, 1.3744487253818476, 0.20833744007895502, 0.6563849736910078, 0.47578964293379566, 1.200970306671098, 0.6207375908148752, 0.9333489438998106, 0.27636998077093455, 1.9122871946736215, 0.9623477489822124, 0.6380544026396142, 0.3222772791868346, 1.8470010156656151, 0.736146414707404, 1.1720771972813273, 0.24270062516495794, 1.3975306875365687], 54: [0.0, 0.7581085936640358, 0.8419880499702654, 0.3469614849606364, 1.5193512252275845, 0.40372861596198706, 1.6959714954205427, 0.1807034489647166, 2.204605329980733, 0.4407708139643702, 0.8235130918851167, 0.8728586623293285, 0.5525765437497436, 1.3514946441975375, 0.5881138211443733, 1.1019966688288028, 0.15740099608340835, 1.5298271880158432, 0.6872243626909238, 1.6666995206316402, 0.9189389631674109, 1.427368928801387, 1.0008085888925815, 1.3449314467655629, 0.7259380674776305, 1.3818499038546728, 0.0, 0.27495649970920355, 1.1165952046193248, 0.6445545583736692, 1.2929007109659305, 0.736146414707404, 0.23441543945626545, 0.4854012503299159, 0.1164608906280474], 55: [0.6120380398078049, 0.7581085936640358, 0.9622720571088748, 1.3878459398425456, 0.7596756126137922, 1.0766096425652987, 0.942206386344746, 0.9035172448235831, 0.36743422166345546, 1.7630832558574807, 1.3725218198085278, 0.14547644372155477, 1.657729631249231, 0.4504982147325125, 3.136607046103324, 0.33059900064864084, 2.8332179295013504, 0.43709348229024086, 3.60792790412735, 0.0, 1.9691549210730233, 0.31719309528919715, 3.202587484456261, 0.3103687954074376, 2.1778142024328915, 1.7964048750110746, 1.9122871946736215, 0.27495649970920355, 2.2331904092386496, 0.1611386395934173, 2.7705015234984227, 0.44168784882444245, 3.047400712931451, 0.3640509377474369, 2.329217812560948], 56: [0.0, 0.9747110489966175, 0.0, 0.3469614849606364, 0.0, 0.8074572319239741, 0.0, 0.9035172448235831, 0.0, 0.7346180232739503, 1.098017455846822, 0.0, 1.8419218124991454, 0.22524910736625625, 0.784151761525831, 0.0, 1.5740099608340836, 0.0, 1.5462548160545786, 0.0, 1.0502159579056123, 0.0, 2.2017788955636797, 0.0, 1.348170696744171, 2.7636998077093455, 2.67720207254307, 0.0, 2.3927040098985533, 0.0, 3.5093019297646686, 0.0, 5.15713966803784, 0.12135031258247897, 1.164608906280474], 57: [2.2033369433080976, 0.8664098213303267, 0.6014200356930467, 1.5613266823228638, 0.0, 0.8074572319239741, 0.0, 1.8070344896471662, 0.36743422166345546, 1.1753888372383205, 0.9607652738659694, 0.14547644372155477, 0.9209609062495727, 0.22524910736625625, 0.3920758807629155, 0.22039933376576057, 1.5740099608340836, 0.21854674114512043, 0.6872243626909238, 0.8333497603158201, 1.4440469421202171, 0.31719309528919715, 0.8006468711140653, 0.5172813256790627, 2.1778142024328915, 0.9672949326982709, 1.338601036271535, 0.4124347495638053, 1.5951360065990356, 0.1611386395934173, 1.108200609399369, 0.2944585658829616, 2.57856983401892, 1.0921528132423108, 1.746913359420711], 58: [0.12240760796156099, 0.43320491066516337, 0.12028400713860934, 0.1734807424803182, 0.0, 0.0, 0.0, 0.0, 0.0, 0.14692360465479007, 0.13725218198085276, 0.14547644372155477, 0.0, 0.0, 0.0, 0.11019966688288028, 0.15740099608340835, 0.0, 0.3436121813454619, 0.20833744007895502, 0.0, 0.0, 0.0, 0.0, 0.0, 0.0, 0.0, 0.13747824985460178, 0.0, 0.1611386395934173, 0.1847001015665615, 0.2944585658829616, 0.0, 0.0, 1.8633742500487585], 59: [0.12240760796156099, 2.166024553325817, 0.12028400713860934, 4.163537819527637, 0.0, 3.498981338337221, 0.1884412772689492, 4.517586224117915, 0.5511513324951832, 4.701555348953282, 3.156800185559614, 0.7273822186077739, 4.604804531247863, 0.0, 5.29302439029936, 0.5509983344144014, 4.092425898168617, 0.21854674114512043, 4.638764448163736, 0.20833744007895502, 4.069586836884248, 0.15859654764459857, 4.803881226684392, 0.10345626513581253, 2.903752269910522, 3.3164397692512146, 4.780717986684054, 0.27495649970920355, 3.349785613857975, 0.0, 2.955201625064984, 0.0, 4.219477910212778, 0.12135031258247897, 3.0279831563292325], 60: [1.7137065114618537, 0.0, 0.0, 0.1734807424803182, 0.0, 0.13457620532066233, 0.0, 0.5421103468941498, 0.0, 0.14692360465479007, 0.13725218198085276, 0.0, 0.0, 0.0, 0.19603794038145775, 0.5509983344144014, 0.15740099608340835, 0.0, 0.0, 0.0, 0.0, 0.0, 0.40032343555703265, 0.0, 0.7259380674776305, 0.0, 0.38245743893472434, 0.0, 0.0, 0.0, 0.0, 0.0, 0.0, 0.12135031258247897, 0.1164608906280474], 61: [0.9792608636924879, 1.8411208703269442, 2.405680142772187, 2.2552496522441365, 2.848783547301721, 2.5569479010925846, 3.203501713572136, 1.6263310406824494, 3.858059327466282, 1.7630832558574807, 3.5685567315021722, 2.473099543266431, 1.4735374499993164, 2.590364734711947, 1.9603794038145776, 2.3141930045404857, 2.0462129490843086, 1.7483739291609635, 1.0308365440363856, 4.7917611218159655, 2.2317089105494263, 3.33052750053657, 2.2017788955636797, 2.482950363259501, 1.2444652585330809, 3.1782547788657474, 1.7210584752062594, 1.9246954979644249, 2.871244811878264, 1.9336636751210075, 2.7705015234984227, 3.2390442247125777, 1.8753235156501236, 3.1551081271444534, 1.0481480156524265], 62: [7.344456477693659, 1.7328196426606535, 3.7288042212968895, 1.2143651973622274, 0.0, 0.6728810266033117, 1.3190889408826443, 0.5421103468941498, 0.9185855541586386, 1.0284652325835304, 1.235269637827675, 2.7640524307095404, 0.7367687249996582, 1.80199285893005, 0.3920758807629155, 1.983594003891845, 0.6296039843336334, 0.21854674114512043, 1.2026426347091166, 0.0, 0.6563849736910078, 0.0, 1.200970306671098, 1.4483877119013755, 0.8296435056887206, 0.41455497115640183, 0.38245743893472434, 2.474608497382832, 0.15951360065990355, 0.1611386395934173, 0.369400203133123, 0.44168784882444245, 0.23441543945626545, 2.3056559390671003, 0.3493826718841422], 63: [0.12240760796156099, 0.7581085936640358, 0.8419880499702654, 1.5613266823228638, 1.5193512252275845, 0.6728810266033117, 0.7537651090757967, 1.6263310406824494, 0.5511513324951832, 1.7630832558574807, 1.5097740017893806, 1.309287993493993, 3.1312670812485472, 1.2388700905144094, 2.7445311653404088, 0.8815973350630423, 2.6758169334179422, 1.3112804468707226, 3.9515400854728115, 0.41667488015791004, 2.4942629000258294, 0.9515792858675913, 3.202587484456261, 1.4483877119013755, 2.903752269910522, 2.3491448365529437, 2.294744633608346, 0.9623477489822124, 2.871244811878264, 1.4502477563407556, 2.7705015234984227, 1.0306049805903656, 3.047400712931451, 1.2135031258247897, 2.911522265701185], 64: [1.9585217273849758, 0.43320491066516337, 1.8042601070791402, 0.1734807424803182, 6.83708051352413, 0.26915241064132467, 2.8266191590342378, 0.0, 2.020888219149005, 0.0, 0.0, 1.8911937683802118, 0.5525765437497436, 1.689368305246922, 0.0, 2.5345923383062465, 0.0, 2.1854674114512043, 0.0, 2.50004928094746, 0.13127699473820154, 1.2687723811567886, 0.0, 2.069125302716251, 0.0, 0.0, 0.38245743893472434, 2.33713024752823, 0.15951360065990355, 6.284406944143274, 0.9235005078328076, 1.7667513952977698, 0.23441543945626545, 6.188865941706427, 1.2810697969085214], 65: [52.88008663939434, 51.76798682448702, 48.71502289113678, 43.890627847520506, 45.39061785367409, 45.21760498774255, 49.748497199002585, 43.73023464946142, 51.62450814371549, 41.57938011730559, 42.82268077802607, 45.9705562160113, 42.364201687480346, 41.55846030907428, 42.14815718201342, 39.341281077188256, 41.55386296601981, 50.2657504633777, 38.828176492037194, 49.584310738791295, 40.03948339515147, 41.55229548288482, 40.23250527348178, 46.45186304597983, 33.18574022754882, 45.87741680797514, 41.68786084388495, 47.704952699546816, 45.14234898675271, 43.02401677144242, 43.219823766575395, 40.046364960082784, 41.96036366267152, 43.44341190452747, 39.946085485420255], 66: [0.12240760796156099, 1.5162171873280716, 0.2405680142772187, 1.0408844548819092, 0.18991890315344806, 1.4803382585272857, 0.0, 1.0842206937882997, 0.0, 1.1753888372383205, 0.9607652738659694, 0.14547644372155477, 3.683843624998291, 0.11262455368312813, 2.352455284577493, 0.44079866753152114, 4.722029882502251, 0.0, 3.4361218134546188, 0.0, 6.038741757957271, 0.0, 5.004042944462908, 0.0, 5.703799101609953, 2.487329826938411, 4.780717986684054, 0.13747824985460178, 3.6688128151777817, 0.0, 2.955201625064984, 0.2944585658829616, 2.8129852734751855, 0.3640509377474369, 4.425513843865801], 67: [0.0, 1.7328196426606535, 0.0, 0.3469614849606364, 0.0, 0.9420334372446364, 0.0, 0.3614068979294332, 0.0, 0.4407708139643702, 0.0, 0.14547644372155477, 0.5525765437497436, 0.0, 0.19603794038145775, 0.33059900064864084, 2.0462129490843086, 0.0, 2.748897450763695, 0.0, 2.1004319158112246, 0.0, 1.0008085888925815, 0.0, 1.8666978877996212, 0.27636998077093455, 1.147372316804173, 0.0, 0.7975680032995178, 0.1611386395934173, 0.738800406266246, 0.0, 0.23441543945626545, 0.0, 1.0481480156524265], 68: [0.0, 5.956567521645996, 1.3231240785247027, 2.602211137204773, 1.8991890315344806, 4.9793195968645065, 1.884412772689492, 0.0, 1.4697368866538219, 1.9100068605122709, 2.0587827297127914, 0.14547644372155477, 2.394498356248889, 0.5631227684156406, 1.7643414634331198, 0.33059900064864084, 0.0, 1.0927337057256021, 3.4361218134546188, 0.20833744007895502, 4.725971810575256, 0.15859654764459857, 1.4011320244496142, 0.8276501210865003, 0.5185271910554503, 2.487329826938411, 1.7210584752062594, 0.13747824985460178, 2.552217610558457, 0.1611386395934173, 1.6623009140990537, 0.44168784882444245, 0.0, 0.3640509377474369, 1.0481480156524265], 69: [0.12240760796156099, 5.19845892798196, 0.721704042831656, 7.459671926653682, 0.3798378063068961, 6.055929239429806, 0.5653238318068475, 7.228137958588665, 0.36743422166345546, 5.583096976882023, 3.8430610954638778, 0.43642933116466426, 5.70995761874735, 0.22524910736625625, 7.841517615258311, 0.22039933376576057, 7.083044823753376, 0.21854674114512043, 6.013213173545583, 0.0, 4.332140826360651, 0.15859654764459857, 6.205013251134006, 0.20691253027162507, 3.9408066520214224, 4.283734701949486, 6.119319022955589, 0.27495649970920355, 4.147353617157492, 0.1611386395934173, 6.279803453263091, 0.2944585658829616, 8.204540380969291, 0.12135031258247897, 6.055966312658465], 70: [0.0, 0.3249036829988725, 0.6014200356930467, 0.1734807424803182, 0.3798378063068961, 0.26915241064132467, 0.5653238318068475, 0.0, 0.36743422166345546, 0.0, 0.13725218198085276, 0.14547644372155477, 0.3683843624998291, 0.4504982147325125, 0.0, 0.11019966688288028, 0.0, 0.0, 0.0, 0.0, 0.0, 0.15859654764459857, 1.0008085888925815, 1.1380189164939378, 0.10370543821109007, 0.6909249519273364, 0.19122871946736217, 1.237304248691416, 1.1165952046193248, 1.77252503552759, 1.108200609399369, 1.1778342635318464, 0.0, 1.0921528132423108, 0.3493826718841422], 71: [0.0, 0.0, 2.044828121356359, 0.0, 4.747972578836201, 0.26915241064132467, 4.52259065445478, 0.0, 4.776644881624921, 0.0, 0.41175654594255834, 4.509769755368198, 0.18419218124991454, 2.590364734711947, 0.0, 3.7467886740179295, 0.0, 6.993495716643854, 0.0, 4.7917611218159655, 0.26255398947640307, 5.392282619916351, 0.20016171777851632, 3.103687954074376, 0.10370543821109007, 0.27636998077093455, 0.0, 3.5744344962196464, 0.6380544026396142, 6.606684223330109, 0.1847001015665615, 4.122419922361463, 0.0, 3.761859690056848, 0.0], 72: [1.5912989035002927, 0.9747110489966175, 3.6085202141582804, 0.6939229699212728, 7.026999416677578, 0.5383048212826493, 3.957266822647933, 0.5421103468941498, 4.409210659961466, 0.8815416279287404, 1.5097740017893806, 4.509769755368198, 0.3683843624998291, 4.504982147325125, 1.1762276422887465, 3.8569883409008097, 0.3148019921668167, 6.337855493208493, 0.17180609067273095, 5.208436001973875, 0.26255398947640307, 5.233686072271753, 0.40032343555703265, 3.6209692797534387, 0.3111163146332702, 1.52003489424014, 0.38245743893472434, 4.67426049505646, 0.7975680032995178, 4.995297827395936, 0.369400203133123, 4.858566337068867, 0.7032463183687964, 4.611311878134201, 0.9316871250243792], 73: [1.1016684716540488, 0.649807365997745, 1.3231240785247027, 1.0408844548819092, 0.0, 0.40372861596198706, 0.3768825545378984, 0.0, 0.9185855541586386, 0.14692360465479007, 0.0, 0.14547644372155477, 0.0, 0.22524910736625625, 0.0, 0.44079866753152114, 0.0, 0.0, 0.17180609067273095, 0.8333497603158201, 0.0, 0.0, 0.0, 0.9311063862223128, 0.4148217528443603, 0.0, 0.0, 0.0, 0.0, 0.0, 0.0, 0.1472292829414808, 0.0, 0.0, 0.1164608906280474], 74: [0.7344456477693659, 5.631663838647124, 0.6014200356930467, 2.2552496522441365, 0.7596756126137922, 4.441014775581857, 0.5653238318068475, 3.2526620813648988, 1.2860197758220941, 2.350777674476641, 2.196034911693644, 0.14547644372155477, 1.657729631249231, 0.4504982147325125, 1.7643414634331198, 0.22039933376576057, 0.47220298825022505, 0.8741869645804817, 1.2026426347091166, 1.041687200394775, 1.7066009315966202, 0.31719309528919715, 2.2017788955636797, 1.4483877119013755, 0.9333489438998106, 1.3818499038546728, 2.294744633608346, 0.9623477489822124, 1.5951360065990356, 0.0, 1.6623009140990537, 0.2944585658829616, 2.3441543945626546, 0.12135031258247897, 0.9316871250243792], 75: [11.995945580232977, 0.9747110489966175, 9.983572592504576, 0.3469614849606364, 2.4689457409948248, 0.26915241064132467, 15.075302181515935, 1.2649241427530162, 12.12532931489403, 0.4407708139643702, 0.2745043639617055, 7.273822186077738, 0.0, 6.64484866730456, 0.0, 6.722179679855697, 0.15740099608340835, 9.39750986924018, 0.0, 9.583522243631931, 0.0, 9.515792858675914, 0.40032343555703265, 10.345626513581253, 0.0, 0.27636998077093455, 0.0, 9.34852099011292, 0.7975680032995178, 6.928961502516944, 0.369400203133123, 6.330859166483675, 0.23441543945626545, 12.863133133742771, 0.3493826718841422], 76: [1.8361141194234147, 0.9747110489966175, 0.4811360285544374, 2.4287303947244547, 0.3798378063068961, 1.4803382585272857, 0.3768825545378984, 1.2649241427530162, 0.36743422166345546, 1.0284652325835304, 1.6470261837702334, 0.29095288744310954, 2.02611399374906, 0.22524910736625625, 1.1762276422887465, 0.22039933376576057, 1.1018069725838584, 0.21854674114512043, 0.6872243626909238, 0.0, 0.5251079789528061, 0.31719309528919715, 1.0008085888925815, 0.3103687954074376, 0.9333489438998106, 1.2436649134692055, 2.485973353075708, 0.0, 2.552217610558457, 0.6445545583736692, 3.6940020313312303, 0.5889171317659232, 3.5162315918439817, 1.0921528132423108, 3.0279831563292325], 77: [59.85732029320332, 53.500806467147676, 61.224559633552154, 66.26964362748156, 63.2429947500982, 57.194887261281494, 64.25847554871167, 63.60761403558025, 66.50559412108544, 52.157879652450475, 54.3518640644177, 60.663677031888334, 59.67826672497231, 54.17241032158463, 58.027230352911495, 50.80204643300781, 63.11779942944675, 65.56402234353614, 54.9779490152739, 65.20961874471293, 51.72313592685141, 61.059670843170444, 58.24705987354825, 53.59034534035089, 39.82288827305859, 50.29933650031009, 65.01776461890313, 61.8652124345708, 56.46781463360586, 60.91040576631173, 63.72153504046372, 57.566649630118995, 71.02787815524843, 61.40325816673436, 62.073654704749266], 78: [3.5498206308852684, 5.306760155648251, 5.6533483355146394, 6.071825986811136, 2.4689457409948248, 4.9793195968645065, 4.899473208992679, 7.408841407553381, 5.878947546615287, 4.995402558262862, 4.8038263693298475, 3.2004817618742045, 4.788996712497778, 2.815613842078203, 7.4494417344953945, 1.983594003891845, 6.610841835503151, 4.152388081757288, 6.700437536236507, 3.9584113615001453, 4.988525800051659, 2.3789482146689784, 6.00485153335549, 3.8278818100250636, 3.8371012138103326, 3.8691797307930837, 6.693005181357676, 2.7495649970920355, 6.061516825076335, 0.8056931979670865, 7.018603859529337, 1.9139806782392506, 7.266878623144229, 2.6697068768145376, 8.385184125219412], 79: [0.12240760796156099, 1.6245184149943626, 0.8419880499702654, 1.0408844548819092, 0.3798378063068961, 0.9420334372446364, 0.0, 1.2649241427530162, 0.36743422166345546, 1.0284652325835304, 1.3725218198085278, 0.0, 0.7367687249996582, 0.4504982147325125, 0.784151761525831, 0.22039933376576057, 1.4166089647506752, 0.21854674114512043, 0.5154182720181928, 0.0, 1.181492952643814, 0.0, 0.600485153335549, 0.10345626513581253, 0.4148217528443603, 1.2436649134692055, 1.5298297557388973, 0.13747824985460178, 1.435622405939132, 0.3222772791868346, 2.0317011172321764, 0.1472292829414808, 1.6409080761938581, 0.12135031258247897, 1.0481480156524265], 80: [46.02526059354693, 42.77898492818488, 40.17485838429552, 30.87957216149664, 41.782158693758575, 32.1637130716383, 36.18072523563824, 30.538882875037107, 35.64111950135518, 29.090873721648432, 38.01885440869622, 48.8800850904424, 27.07625064373744, 41.55846030907428, 22.544363143867642, 34.93329440187305, 35.7300261109337, 34.31183835978391, 27.832586688982413, 33.54232785271176, 34.91968060036161, 38.38036452999285, 31.42538969122706, 43.86545641758451, 25.615243238139247, 35.37535753867962, 29.831680236908497, 47.97990919925602, 34.454937742539165, 41.41263037550824, 32.137817672581704, 36.21840360360428, 32.34933064496463, 47.08392128200184, 38.315633016627594], 81: [0.36722282388468297, 0.649807365997745, 0.721704042831656, 0.1734807424803182, 0.9495945157672403, 0.40372861596198706, 0.1884412772689492, 0.0, 0.7348684433269109, 0.4407708139643702, 0.9607652738659694, 0.0, 0.5525765437497436, 0.900996429465025, 0.0, 0.33059900064864084, 0.15740099608340835, 0.21854674114512043, 0.3436121813454619, 0.625012320236865, 0.26255398947640307, 0.31719309528919715, 1.0008085888925815, 1.3449314467655629, 0.10370543821109007, 1.7964048750110746, 0.19122871946736217, 0.8248694991276107, 1.2761088052792284, 1.127970477153921, 1.108200609399369, 0.736146414707404, 0.0, 0.4854012503299159, 0.8152262343963318], 82: [0.24481521592312197, 0.3249036829988725, 0.4811360285544374, 5.030941531929227, 0.18991890315344806, 3.2298289276958965, 0.0, 3.6140689792943324, 0.5511513324951832, 3.085395697750591, 3.2940523675404667, 0.14547644372155477, 3.315459262498462, 1.80199285893005, 2.7445311653404088, 0.771397668180162, 3.935024902085209, 0.21854674114512043, 4.982376629509197, 1.041687200394775, 3.6757558526696434, 0.31719309528919715, 5.604528097798457, 0.10345626513581253, 2.3852250788550715, 2.7636998077093455, 3.442116950412519, 0.13747824985460178, 2.7117312112183605, 0.0, 4.2481023360309145, 0.0, 3.9850624707565125, 0.12135031258247897, 3.3773658282133745], 83: [3.1825978070005854, 2.9241331469898526, 6.134484364069077, 5.377903016889864, 5.507648191449993, 3.498981338337221, 6.030120872606374, 5.4211034689414985, 7.1649673224373815, 4.113860930334122, 2.8822958215979084, 3.7823875367604236, 5.525765437497436, 4.730231254691382, 4.116796748010613, 4.0773876746665705, 4.722029882502251, 5.245121787482891, 4.638764448163736, 4.7917611218159655, 4.332140826360651, 4.440703334048759, 5.40436638001994, 4.965900726519002, 3.111163146332702, 2.3491448365529437, 5.736861584020865, 3.5744344962196464, 2.7117312112183605, 2.255940954307842, 5.171602843863722, 4.269649205302944, 5.3915551074941055, 3.397808752309411, 2.911522265701185], 84: [0.0, 1.7328196426606535, 1.8042601070791402, 1.734807424803182, 2.0891079346879287, 1.3457620532066235, 1.884412772689492, 0.5421103468941498, 1.6534539974855496, 0.7346180232739503, 0.9607652738659694, 1.745717324658657, 0.5525765437497436, 1.4641191978806656, 0.3920758807629155, 1.212196335711683, 0.47220298825022505, 1.5298271880158432, 1.0308365440363856, 2.2917118408685053, 0.39383098421460466, 2.0617551193797814, 1.200970306671098, 1.4483877119013755, 0.6222326292665404, 1.3818499038546728, 0.19122871946736217, 1.9246954979644249, 1.9141632079188426, 2.4170795939012595, 1.6623009140990537, 1.3250635464733274, 0.23441543945626545, 1.6989043761547056, 0.4658435625121896], 85: [0.0, 0.21660245533258168, 1.2028400713860934, 0.1734807424803182, 3.038702450455169, 0.0, 3.5803842681100346, 0.0, 5.144079103288377, 0.0, 0.0, 3.2004817618742045, 0.0, 1.80199285893005, 0.0, 2.2039933376576055, 0.15740099608340835, 3.2782011171768066, 0.17180609067273095, 2.50004928094746, 0.13127699473820154, 2.3789482146689784, 0.0, 3.517513014617626, 0.20741087642218015, 0.13818499038546728, 0.0, 1.7872172481098232, 0.15951360065990355, 1.2891091167473383, 0.369400203133123, 1.9139806782392506, 0.0, 2.3056559390671003, 0.1164608906280474], 86: [3.5498206308852684, 4.873555244983088, 3.247668192742452, 5.377903016889864, 1.3294323220741364, 3.902709954299208, 2.072854049958441, 3.7947724282590487, 1.2860197758220941, 3.9669373256793317, 3.019548003578761, 2.036670212101767, 5.157381074997607, 1.914617412613178, 6.273214092206648, 1.6529950032432041, 1.5740099608340836, 2.1854674114512043, 4.295152266818274, 1.4583620805526851, 3.6757558526696434, 1.5859654764459856, 5.604528097798457, 2.793319158666938, 3.9408066520214224, 4.974659653876822, 5.928090303488227, 2.612086747237434, 7.975680032995178, 1.4502477563407556, 4.432802437597476, 2.208439244122212, 5.15713966803784, 2.791057189397016, 4.076131171981659], 87: [0.0, 0.0, 0.0, 0.0, 0.0, 0.5383048212826493, 0.0, 0.0, 0.0, 0.0, 0.6862609099042639, 0.0, 0.0, 0.0, 0.0, 0.0, 0.15740099608340835, 0.21854674114512043, 0.0, 0.0, 0.0, 0.15859654764459857, 0.0, 0.0, 0.10370543821109007, 0.0, 0.0, 0.13747824985460178, 0.0, 0.0, 0.0, 0.0, 0.0, 0.12135031258247897, 0.0], 88: [2.2033369433080976, 4.7652540173167965, 0.721704042831656, 7.459671926653682, 0.3798378063068961, 5.786776828788481, 0.1884412772689492, 6.686027611694515, 0.0, 6.317715000155973, 4.8038263693298475, 0.5819057748862191, 6.446726343747009, 0.6757473220987688, 6.665289972969564, 0.44079866753152114, 4.8794308785856595, 0.43709348229024086, 4.982376629509197, 0.41667488015791004, 3.5444788579314417, 0.15859654764459857, 6.605336686691039, 0.20691253027162507, 4.770450157710143, 4.421919692334953, 7.0754626202924, 0.6873912492730089, 6.380544026396143, 0.3222772791868346, 7.203303961095899, 0.44168784882444245, 9.376617578250618, 0.7281018754948738, 5.240740078262133], 89: [0.6120380398078049, 0.10830122766629084, 0.12028400713860934, 0.1734807424803182, 0.18991890315344806, 0.13457620532066233, 0.3768825545378984, 0.3614068979294332, 0.0, 0.29384720930958014, 0.41175654594255834, 0.14547644372155477, 0.5525765437497436, 0.0, 0.5881138211443733, 0.0, 0.6296039843336334, 0.0, 1.0308365440363856, 0.0, 1.0502159579056123, 0.15859654764459857, 1.4011320244496142, 0.3103687954074376, 2.2815196406439817, 1.1054799230837382, 2.294744633608346, 0.0, 1.9141632079188426, 0.0, 1.6623009140990537, 0.1472292829414808, 1.8753235156501236, 0.4854012503299159, 2.4456787031889955], 90: [1.9585217273849758, 3.249036829988725, 3.0071001784652336, 6.939229699212728, 2.0891079346879287, 4.9793195968645065, 2.6381778817652886, 5.782510366870931, 1.8371711083172773, 5.436173372227232, 5.627339461214964, 1.1638115497724382, 6.815110706246838, 2.815613842078203, 7.253403794113937, 4.297787008432331, 5.8238368550861095, 4.152388081757288, 6.528631445563776, 4.375086241658056, 4.857248805313457, 3.4891240481811683, 7.806306993362137, 2.482950363259501, 3.5259848991770624, 4.283734701949486, 7.840377498161849, 1.6497389982552213, 5.5829760230966246, 4.18960462942885, 6.279803453263091, 3.827961356478501, 8.673371259881822, 2.1843056264846217, 7.453497000195034], 91: [2.3257445512696586, 4.332049106651634, 3.6085202141582804, 2.775691879685091, 6.457242707217234, 3.7681337489785456, 8.479857477102714, 2.5298482855060325, 7.1649673224373815, 3.673090116369752, 3.8430610954638778, 6.255487080026855, 2.9470748999986327, 4.16710848627574, 3.332644986484782, 5.730382677909774, 0.6296039843336334, 6.993495716643854, 1.5462548160545786, 6.458460642447606, 2.4942629000258294, 7.454037739296132, 2.401940613342196, 5.69009458246969, 0.6222326292665404, 3.04006978848028, 1.338601036271535, 4.67426049505646, 2.871244811878264, 5.96212966495644, 2.0317011172321764, 4.711337054127386, 0.9376617578250618, 5.096713128464117, 1.8633742500487585], 92: [0.9792608636924879, 0.9747110489966175, 2.766532164188015, 1.734807424803182, 3.038702450455169, 1.6149144638479482, 3.768825545378984, 1.0842206937882997, 2.9394737733076437, 1.7630832558574807, 1.9215305477319389, 3.3459582055957595, 1.8419218124991454, 4.054483932592612, 2.5484932249589507, 2.5345923383062465, 2.203613945167717, 6.119308752063373, 0.3436121813454619, 3.3333990412632803, 1.3127699473820156, 2.0617551193797814, 1.8014554600066468, 3.0002316889385634, 1.1407598203219909, 0.9672949326982709, 0.9561435973368108, 3.2994779965104426, 0.9570816039594213, 1.127970477153921, 2.4011013203652998, 2.7973563758881355, 1.4064926367375927, 3.0337578145619744, 0.9316871250243792], 93: [2.3257445512696586, 0.649807365997745, 4.570792271267155, 1.0408844548819092, 2.848783547301721, 1.4803382585272857, 3.768825545378984, 0.3614068979294332, 3.306907994971099, 1.0284652325835304, 0.6862609099042639, 3.05500531815265, 0.9209609062495727, 3.0408629494444592, 0.9801897019072888, 2.6447920051891267, 0.0, 4.152388081757288, 0.6872243626909238, 4.7917611218159655, 0.26255398947640307, 2.6961413099581755, 0.0, 2.482950363259501, 0.20741087642218015, 0.9672949326982709, 0.19122871946736217, 2.33713024752823, 0.15951360065990355, 2.7393568730880937, 0.5541003046996845, 2.7973563758881355, 0.23441543945626545, 4.125910627804285, 0.2329217812560948], 94: [28.398565047082148, 21.118739394926713, 31.51440987031565, 22.899458007402, 27.918078763556863, 21.666769056626638, 32.60034096752821, 19.877379386118825, 33.43651417137445, 18.659297791158338, 19.627062023261946, 31.859341175020493, 21.55048520624, 30.07075583339521, 21.95624932272327, 25.896921717476864, 17.786312557425145, 32.344917689477825, 20.61673088072771, 33.12565297255385, 22.97347407918527, 29.023168218961537, 22.81843582675086, 27.726279056397757, 19.600327821896023, 20.036823605892756, 22.18253145821401, 31.2075627169946, 24.884121702944956, 30.616341522749284, 23.64161300051987, 30.91814941771097, 21.331804990520155, 30.458928458202223, 20.730038531792438], 95: [2.5705597671927807, 2.59922946399098, 3.6085202141582804, 1.3878459398425456, 4.9378914819896496, 2.018643079809935, 4.7110319317237295, 1.0842206937882997, 5.144079103288377, 1.3223124418931107, 1.6470261837702334, 8.001204404685511, 1.8419218124991454, 4.6176067010082535, 1.1762276422887465, 2.9753910058377673, 0.0, 4.152388081757288, 1.0308365440363856, 5.208436001973875, 0.9189389631674109, 2.537544762313577, 1.0008085888925815, 3.6209692797534387, 0.8296435056887206, 0.8291099423128037, 0.0, 2.887043246946637, 0.6380544026396142, 1.4502477563407556, 0.738800406266246, 1.6195221123562888, 0.7032463183687964, 2.6697068768145376, 0.582304453140237], 96: [0.24481521592312197, 2.0577233256595258, 0.2405680142772187, 5.030941531929227, 0.18991890315344806, 3.6335575436578833, 0.3768825545378984, 4.517586224117915, 0.0, 3.5261665117149614, 4.392069823387288, 0.0, 2.762882718748718, 0.11262455368312813, 3.332644986484782, 0.22039933376576057, 3.935024902085209, 0.0, 2.920703541436426, 0.0, 2.1004319158112246, 0.0, 3.002425766677745, 0.10345626513581253, 2.1778142024328915, 1.7964048750110746, 2.485973353075708, 0.0, 1.9141632079188426, 0.1611386395934173, 2.4011013203652998, 0.0, 3.5162315918439817, 0.0, 4.541974734493849], 97: [0.12240760796156099, 3.357338057655016, 0.6014200356930467, 3.469614849606364, 0.7596756126137922, 4.9793195968645065, 0.0, 1.4456275917177328, 0.5511513324951832, 2.7915484884410113, 3.2940523675404667, 0.0, 2.9470748999986327, 0.3378736610493844, 3.136607046103324, 0.33059900064864084, 0.15740099608340835, 0.0, 1.5462548160545786, 0.20833744007895502, 1.181492952643814, 0.0, 1.6012937422281306, 0.20691253027162507, 2.4889305170661618, 1.1054799230837382, 0.7649148778694487, 0.0, 0.6380544026396142, 0.0, 0.369400203133123, 0.0, 0.23441543945626545, 0.0, 0.0], 98: [0.24481521592312197, 1.1913135043291991, 1.9245441142177495, 1.734807424803182, 1.5193512252275845, 0.8074572319239741, 0.0, 3.4333655303296156, 0.5511513324951832, 0.7346180232739503, 0.2745043639617055, 0.0, 0.18419218124991454, 0.11262455368312813, 1.1762276422887465, 0.44079866753152114, 2.3610149412511254, 0.43709348229024086, 2.748897450763695, 0.20833744007895502, 0.9189389631674109, 0.15859654764459857, 0.40032343555703265, 0.41382506054325013, 0.20741087642218015, 0.13818499038546728, 0.19122871946736217, 0.13747824985460178, 0.15951360065990355, 0.1611386395934173, 0.369400203133123, 0.1472292829414808, 0.4688308789125309, 1.0921528132423108, 0.4658435625121896], 99: [5.6307499662318055, 2.0577233256595258, 3.7288042212968895, 1.2143651973622274, 5.317729288296546, 0.6728810266033117, 4.52259065445478, 0.7228137958588664, 4.592927770793193, 0.7346180232739503, 1.235269637827675, 2.1821466558233213, 0.18419218124991454, 2.590364734711947, 0.5881138211443733, 1.4325956694774435, 0.3148019921668167, 1.0927337057256021, 0.3436121813454619, 1.8750369607105952, 0.39383098421460466, 1.7445620240905841, 0.0, 2.069125302716251, 0.5185271910554503, 0.13818499038546728, 0.19122871946736217, 0.8248694991276107, 0.3190272013198071, 0.6445545583736692, 0.0, 1.6195221123562888, 0.23441543945626545, 0.8494521880773528, 0.3493826718841422], 100: [1.7137065114618537, 0.8664098213303267, 1.082556064247484, 0.867403712401591, 0.3798378063068961, 0.8074572319239741, 0.5653238318068475, 0.3614068979294332, 0.7348684433269109, 0.5876944186191603, 0.0, 0.5819057748862191, 0.7367687249996582, 0.3378736610493844, 0.19603794038145775, 0.44079866753152114, 0.3148019921668167, 0.43709348229024086, 0.8590304533636547, 0.8333497603158201, 1.8378779263348217, 0.6343861905783943, 0.8006468711140653, 0.7241938559506877, 1.0370543821109006, 3.1782547788657474, 1.9122871946736215, 0.5499129994184071, 1.9141632079188426, 0.1611386395934173, 2.7705015234984227, 0.1472292829414808, 1.8753235156501236, 0.8494521880773528, 1.3975306875365687], 101: [7.589271693616781, 1.5162171873280716, 10.224140606781795, 0.6939229699212728, 9.116107351365507, 0.6728810266033117, 9.610505140716409, 0.5421103468941498, 10.47187531740848, 0.4407708139643702, 0.13725218198085276, 9.74692172934417, 0.5525765437497436, 10.136209831481532, 0.5881138211443733, 7.603777014918739, 0.15740099608340835, 11.582977280691383, 0.5154182720181928, 11.250221764263571, 0.6563849736910078, 8.088423929874526, 0.0, 6.310832173284564, 0.3111163146332702, 0.0, 0.5736861584020865, 8.798607990694514, 0.15951360065990355, 10.957427492352375, 0.369400203133123, 11.483884069435504, 0.23441543945626545, 10.072075944345755, 0.2329217812560948], 102: [0.36722282388468297, 1.0830122766629084, 0.9622720571088748, 0.3469614849606364, 1.7092701283810325, 0.8074572319239741, 1.3190889408826443, 0.1807034489647166, 1.1023026649903664, 0.29384720930958014, 1.098017455846822, 0.8728586623293285, 0.7367687249996582, 1.013620983148153, 0.19603794038145775, 0.8815973350630423, 0.7870049804170418, 0.6556402234353613, 0.0, 1.4583620805526851, 0.6563849736910078, 1.7445620240905841, 0.600485153335549, 1.4483877119013755, 2.3852250788550715, 1.52003489424014, 0.5736861584020865, 1.3747824985460178, 0.47854080197971066, 0.8056931979670865, 0.369400203133123, 0.736146414707404, 0.7032463183687964, 0.4854012503299159, 0.2329217812560948], 103: [20.564478137542245, 17.544798881939116, 14.193512842355902, 12.49061345858291, 18.42213360588446, 15.745416022517494, 17.336597508743324, 15.359793162000912, 16.35082286402377, 14.398513256169426, 17.84278365751086, 19.930272789853003, 15.287951043742908, 18.58305135771614, 13.526617886320585, 18.072745368792365, 18.573317537842186, 22.291767596802284, 17.180609067273096, 19.167044487263862, 17.328563305442604, 20.93474428908701, 15.812775704502789, 24.001853511508507, 12.859474338175168, 16.858568827027007, 15.298297557388972, 25.43347622310133, 16.11087366665026, 18.36980491364957, 17.915909851956467, 18.550889650626583, 18.284404277588706, 22.20710720259365, 20.1477340786522], 104: [29.98986395058244, 26.317198322908673, 32.95781795597896, 27.062995826929637, 34.3753214707741, 26.107783832208494, 34.484753740217705, 28.551144936425224, 37.845724831335914, 23.21392953545683, 22.78386220882156, 30.113623850361837, 23.57659919998906, 27.59301565236639, 22.152287263104725, 23.4725290460535, 23.767550408594662, 32.78201117176807, 22.678403968800485, 36.25071457373817, 19.691549210730233, 26.32702690900336, 21.81762723785828, 27.622822791261946, 17.31880818125204, 19.069528673194483, 23.329903775018185, 27.08321522135655, 22.4914176930464, 26.1044596141336, 20.87111147702145, 25.028978100051738, 22.503882187801484, 28.39597314430008, 24.340326141261908], 105: [1.5912989035002927, 0.0, 0.2405680142772187, 0.0, 0.0, 0.0, 0.0, 0.0, 0.0, 0.0, 0.0, 0.14547644372155477, 0.0, 0.0, 0.0, 0.0, 0.3148019921668167, 0.0, 0.0, 0.8333497603158201, 0.0, 0.0, 0.0, 0.3103687954074376, 0.0, 0.0, 0.0, 0.0, 0.0, 0.0, 0.0, 0.0, 0.0, 0.0, 0.0], 106: [29.86745634262088, 34.98129653621194, 31.75497788459287, 27.236476569409955, 30.956781214012032, 29.472188965225055, 31.658134581183464, 27.82833114056636, 34.35509972553309, 27.32779046579095, 29.920975671825904, 32.87767628107137, 29.470748999986327, 27.367766545000134, 28.229463414929917, 26.998918386305668, 26.443367342012603, 27.755436125430297, 28.176198870327873, 32.292303212238025, 29.274769826618947, 28.70597512367234, 27.622317053435253, 28.657385442620072, 20.429971327584745, 26.531518154009717, 28.3018504811696, 28.45799771990257, 23.927040098985533, 25.137627776573098, 26.227414422451734, 22.820538855929527, 24.848036582364138, 25.362215329738106, 25.97077861005457], 107: [0.6120380398078049, 5.19845892798196, 0.9622720571088748, 7.459671926653682, 0.0, 5.921353034109143, 0.0, 5.059696571012065, 0.7348684433269109, 3.5261665117149614, 3.156800185559614, 0.8728586623293285, 4.420612349997949, 0.5631227684156406, 4.312834688392071, 0.33059900064864084, 2.9906189255847586, 0.0, 2.920703541436426, 0.0, 1.3127699473820156, 2.537544762313577, 3.4027492022347774, 0.20691253027162507, 1.7629924495885312, 2.3491448365529437, 4.780717986684054, 3.161999746655841, 3.509299214517878, 0.1611386395934173, 3.5093019297646686, 0.44168784882444245, 4.219477910212778, 2.4270062516495794, 3.260904937585327], 108: [1.8361141194234147, 4.656952789650506, 0.4811360285544374, 8.500556381535592, 0.18991890315344806, 9.68948678308769, 0.7537651090757967, 8.49306210134168, 0.5511513324951832, 7.6400274420490835, 7.548870008946903, 0.7273822186077739, 9.209609062495726, 0.3378736610493844, 9.801897019072888, 0.9917970019459225, 8.184851796337234, 0.21854674114512043, 8.762110624309278, 0.625012320236865, 7.482788700077489, 0.47578964293379566, 9.807924171147299, 0.6207375908148752, 5.600093663398864, 5.941954586575093, 8.605292376031297, 0.6873912492730089, 6.859084828375853, 0.3222772791868346, 7.757404265795583, 0.2944585658829616, 9.611033017706884, 0.9708025006598318, 6.987653437682844], 109: [0.6120380398078049, 0.5415061383314542, 0.12028400713860934, 0.3469614849606364, 0.0, 0.6728810266033117, 0.0, 0.3614068979294332, 0.0, 0.29384720930958014, 0.41175654594255834, 0.0, 0.3683843624998291, 0.0, 1.7643414634331198, 0.0, 1.1018069725838584, 0.0, 0.8590304533636547, 0.0, 0.7876619684292093, 0.0, 2.001617177785163, 0.0, 0.20741087642218015, 0.8291099423128037, 1.338601036271535, 0.13747824985460178, 1.435622405939132, 0.0, 0.369400203133123, 0.0, 1.1720771972813273, 0.12135031258247897, 1.164608906280474]}, 'long_mean_replays_all_frs': {2: [0.0, 0.0, 4.36062960425329, 5.747192793081509, 0.0, 4.074105131242254, 0.0, 0.0, 0.0, 0.0, 0.0, 15.193512239510865, 0.0, 0.0, 0.0, 0.0, 0.0, 21.629302331859368, 0.0, 0.0, 0.0, 0.0, 0.0, 0.0, 0.0, 0.0, 0.0, 5.2058371987953675, 0.0, 0.0, 0.0, 7.587017831248862, 0.0, 0.0, 0.0], 3: [0.0, 0.0, 0.0, 0.0, 0.0, 0.0, 0.0, 0.0, 0.0, 0.0, 0.0, 0.0, 0.0, 0.0, 0.0, 0.0, 0.0, 0.0, 0.0, 0.0, 0.0, 0.0, 0.0, 0.0, 0.0, 0.0, 0.0, 0.0, 0.0, 0.0, 0.0, 0.0, 7.719255398225588, 16.555422758789422, 0.0], 4: [0.0, 0.0, 0.0, 0.0, 0.0, 0.0, 0.0, 0.0, 0.0, 0.0, 0.0, 0.0, 0.0, 0.0, 0.0, 0.0, 0.0, 0.0, 0.0, 0.0, 0.0, 0.0, 0.0, 0.0, 0.0, 0.0, 0.0, 0.0, 0.0, 0.0, 0.0, 0.0, 0.0, 0.0, 0.0], 5: [0.0, 7.469504352803763, 0.0, 0.0, 9.479353525546681, 0.0, 0.0, 10.034556110974737, 0.0, 0.0, 6.416735657682824, 0.0, 6.276313506462164, 5.6172735078294105, 0.0, 29.15448157405438, 45.57521875671377, 10.814651165929684, 4.679042692648143, 0.0, 0.0, 0.0, 4.726600841724659, 8.453992989814932, 0.0, 0.0, 0.0, 0.0, 30.489010257869577, 0.0, 0.0, 0.0, 0.0, 0.0, 0.0], 6: [91.20557817216077, 141.9205827032715, 170.06455456587835, 189.6573621716898, 161.1490099342936, 158.8901001184479, 134.83783209075733, 80.2764488877979, 111.45593840768194, 137.14934966850592, 118.70960966713224, 159.53187851486408, 116.11179986955003, 129.19729068007646, 142.20712620369585, 98.6767068660302, 125.33185158096286, 151.4051163230156, 140.37128077944428, 147.96409087018526, 126.82636363769244, 79.98058978899495, 146.52462609346443, 84.53992989814932, 193.09706519496612, 158.82052923307344, 122.5606174633917, 171.79262756024713, 121.9560410314783, 153.03203477723628, 100.94652581525827, 159.32737445622612, 100.35032017693264, 144.85994913940743, 93.05030967411356], 7: [0.0, 0.0, 0.0, 0.0, 9.479353525546681, 0.0, 0.0, 0.0, 0.0, 0.0, 0.0, 0.0, 0.0, 0.0, 0.0, 0.0, 0.0, 0.0, 0.0, 0.0, 0.0, 0.0, 0.0, 0.0, 0.0, 0.0, 4.902424698535667, 0.0, 0.0, 0.0, 3.154578931726821, 0.0, 38.596276991127944, 12.416567069092068, 0.0], 8: [0.0, 0.0, 0.0, 5.747192793081509, 0.0, 0.0, 0.0, 0.0, 0.0, 0.0, 0.0, 0.0, 0.0, 16.851820523488232, 0.0, 2.2426524287734138, 0.0, 0.0, 0.0, 0.0, 0.0, 0.0, 0.0, 0.0, 0.0, 0.0, 0.0, 0.0, 0.0, 0.0, 0.0, 0.0, 0.0, 0.0, 0.0], 9: [16.582832394938322, 0.0, 0.0, 0.0, 0.0, 0.0, 0.0, 20.069112221949474, 13.931992300960243, 0.0, 0.0, 0.0, 0.0, 5.6172735078294105, 0.0, 6.727957286320241, 0.0, 0.0, 0.0, 0.0, 0.0, 0.0, 0.0, 0.0, 0.0, 0.0, 9.804849397071335, 0.0, 0.0, 65.58515776167269, 0.0, 3.793508915624431, 0.0, 0.0, 0.0], 10: [4.1457080987345805, 0.0, 0.0, 22.988771172326036, 0.0, 20.370525656211267, 0.0, 0.0, 0.0, 23.852060811914075, 12.833471315365648, 0.0, 0.0, 0.0, 17.77589077546198, 0.0, 0.0, 10.814651165929684, 0.0, 0.0, 0.0, 0.0, 14.179802525173978, 0.0, 0.0, 0.0, 14.707274095607003, 0.0, 0.0, 0.0, 12.618315726907284, 3.793508915624431, 0.0, 8.277711379394711, 0.0], 11: [8.291416197469161, 7.469504352803763, 0.0, 0.0, 18.958707051093363, 0.0, 0.0, 0.0, 6.965996150480121, 0.0, 0.0, 0.0, 0.0, 11.234547015658821, 0.0, 0.0, 0.0, 0.0, 0.0, 0.0, 0.0, 0.0, 0.0, 0.0, 0.0, 0.0, 0.0, 0.0, 0.0, 10.930859626945448, 0.0, 0.0, 0.0, 0.0, 7.754192472842797], 12: [95.35128627089536, 119.5120696448602, 113.37636971058556, 57.47192793081509, 113.75224230656018, 85.55620775608733, 101.12837406806798, 120.41467333169685, 83.59195380576145, 77.51919763872074, 77.00082789219388, 91.16107343706518, 87.86838909047029, 73.02455560178234, 66.65959040798242, 74.00753014952265, 102.54424220260597, 97.33186049336716, 79.54372577501843, 77.50499997962085, 131.5236363650144, 186.62137617432154, 99.25861767621785, 54.95095443379706, 121.95604117576808, 91.62722840369622, 83.34121987510635, 72.88172078313514, 111.79303761218844, 65.58515776167269, 82.01905222489734, 106.21824963748408, 61.754043185804704, 82.77711379394711, 69.78773225558517], 13: [4.1457080987345805, 0.0, 0.0, 0.0, 9.479353525546681, 0.0, 0.0, 0.0, 0.0, 0.0, 0.0, 0.0, 0.0, 0.0, 0.0, 0.0, 0.0, 0.0, 0.0, 0.0, 0.0, 0.0, 0.0, 0.0, 0.0, 0.0, 0.0, 0.0, 0.0, 0.0, 0.0, 0.0, 0.0, 0.0, 0.0], 14: [4.1457080987345805, 0.0, 0.0, 0.0, 28.438060576640044, 4.074105131242254, 0.0, 0.0, 13.931992300960243, 5.963015202978519, 12.833471315365648, 0.0, 0.0, 0.0, 0.0, 0.0, 11.393804689178442, 0.0, 0.0, 7.04590908905644, 9.394545454643884, 0.0, 9.453201683449318, 4.226996494907466, 0.0, 0.0, 0.0, 0.0, 0.0, 0.0, 3.154578931726821, 0.0, 7.719255398225588, 8.277711379394711, 15.508384945685593], 15: [0.0, 0.0, 0.0, 0.0, 0.0, 0.0, 0.0, 0.0, 0.0, 0.0, 3.208367828841412, 0.0, 0.0, 0.0, 0.0, 0.0, 0.0, 0.0, 0.0, 0.0, 0.0, 0.0, 4.726600841724659, 0.0, 0.0, 0.0, 0.0, 0.0, 0.0, 0.0, 3.154578931726821, 0.0, 15.438510796451176, 8.277711379394711, 0.0], 16: [8.291416197469161, 22.408513058411287, 0.0, 17.241578379244526, 28.438060576640044, 0.0, 11.23648600756311, 40.13822444389895, 13.931992300960243, 0.0, 6.416735657682824, 7.596756119755432, 0.0, 11.234547015658821, 0.0, 0.0, 34.18141406753532, 0.0, 18.716170770592573, 0.0, 0.0, 0.0, 0.0, 12.6809894847224, 0.0, 0.0, 0.0, 5.2058371987953675, 30.489010257869577, 0.0, 0.0, 3.793508915624431, 0.0, 0.0, 31.016769891371187], 17: [0.0, 0.0, 0.0, 22.988771172326036, 9.479353525546681, 0.0, 0.0, 0.0, 6.965996150480121, 0.0, 0.0, 0.0, 6.276313506462164, 0.0, 0.0, 6.727957286320241, 11.393804689178442, 0.0, 0.0, 0.0, 0.0, 0.0, 0.0, 4.226996494907466, 0.0, 0.0, 0.0, 0.0, 0.0, 0.0, 0.0, 3.793508915624431, 0.0, 0.0, 0.0], 18: [4.1457080987345805, 0.0, 0.0, 5.747192793081509, 0.0, 4.074105131242254, 0.0, 0.0, 0.0, 0.0, 0.0, 0.0, 0.0, 0.0, 8.88794538773099, 0.0, 0.0, 10.814651165929684, 0.0, 7.04590908905644, 0.0, 0.0, 0.0, 33.81597195925973, 0.0, 6.108481893579748, 0.0, 0.0, 0.0, 21.861719253890897, 15.772894658634103, 0.0, 15.438510796451176, 0.0, 0.0], 19: [4.1457080987345805, 0.0, 0.0, 0.0, 9.479353525546681, 0.0, 0.0, 0.0, 20.897988451440362, 0.0, 3.208367828841412, 0.0, 0.0, 16.851820523488232, 0.0, 0.0, 0.0, 0.0, 0.0, 0.0, 0.0, 0.0, 0.0, 0.0, 0.0, 0.0, 0.0, 0.0, 0.0, 0.0, 0.0, 0.0, 0.0, 0.0, 23.26257741852839], 20: [37.311372888611224, 74.69504352803763, 52.32755525103949, 40.23034955157056, 66.35547467882677, 48.889261574907046, 56.18243003781555, 40.13822444389895, 41.795976902880724, 35.778091217871115, 48.12551743262118, 75.96756119755432, 37.657881038772985, 56.17273507829411, 57.771645020251434, 40.36774371792145, 45.57521875671377, 32.44395349778905, 56.148512311777715, 56.36727271245152, 46.97272727321943, 53.320393192663296, 28.359605050347955, 29.588975464352263, 132.1190446070821, 42.759373255058236, 44.12182228682101, 93.70506957831661, 71.14102393502901, 32.792578880836345, 25.236631453814567, 37.93508915624431, 23.157766194676764, 41.388556896973554, 77.54192472842797], 21: [4.1457080987345805, 0.0, 0.0, 0.0, 9.479353525546681, 0.0, 0.0, 0.0, 0.0, 0.0, 0.0, 0.0, 0.0, 0.0, 0.0, 0.0, 0.0, 0.0, 0.0, 0.0, 0.0, 0.0, 0.0, 0.0, 0.0, 0.0, 4.902424698535667, 0.0, 10.16300341928986, 0.0, 0.0, 0.0, 0.0, 0.0, 0.0], 22: [0.0, 0.0, 13.081888812759873, 5.747192793081509, 18.958707051093363, 0.0, 0.0, 0.0, 6.965996150480121, 0.0, 0.0, 0.0, 6.276313506462164, 11.234547015658821, 0.0, 6.727957286320241, 0.0, 0.0, 9.358085385296286, 0.0, 0.0, 0.0, 0.0, 0.0, 50.81501715657003, 12.216963787159496, 4.902424698535667, 0.0, 0.0, 10.930859626945448, 0.0, 7.587017831248862, 0.0, 4.138855689697356, 7.754192472842797], 23: [8.291416197469161, 0.0, 0.0, 0.0, 0.0, 0.0, 0.0, 0.0, 0.0, 0.0, 0.0, 0.0, 3.138156753231082, 0.0, 0.0, 4.4853048575468275, 0.0, 0.0, 0.0, 0.0, 0.0, 0.0, 0.0, 0.0, 0.0, 0.0, 0.0, 0.0, 0.0, 0.0, 0.0, 0.0, 0.0, 0.0, 0.0], 24: [0.0, 0.0, 0.0, 0.0, 0.0, 0.0, 0.0, 0.0, 0.0, 0.0, 0.0, 0.0, 0.0, 0.0, 0.0, 0.0, 0.0, 0.0, 0.0, 0.0, 0.0, 0.0, 0.0, 0.0, 0.0, 0.0, 0.0, 0.0, 0.0, 0.0, 0.0, 0.0, 0.0, 0.0, 0.0], 25: [4.1457080987345805, 0.0, 0.0, 0.0, 0.0, 0.0, 0.0, 0.0, 0.0, 0.0, 0.0, 0.0, 0.0, 0.0, 0.0, 2.2426524287734138, 0.0, 0.0, 0.0, 0.0, 0.0, 0.0, 0.0, 0.0, 0.0, 0.0, 0.0, 0.0, 0.0, 0.0, 0.0, 0.0, 0.0, 0.0, 0.0], 26: [0.0, 0.0, 4.36062960425329, 0.0, 0.0, 0.0, 0.0, 0.0, 0.0, 0.0, 0.0, 0.0, 6.276313506462164, 0.0, 0.0, 4.4853048575468275, 0.0, 0.0, 0.0, 0.0, 0.0, 0.0, 0.0, 0.0, 0.0, 12.216963787159496, 0.0, 0.0, 0.0, 0.0, 0.0, 0.0, 0.0, 0.0, 0.0], 27: [4.1457080987345805, 0.0, 0.0, 0.0, 18.958707051093363, 4.074105131242254, 0.0, 10.034556110974737, 0.0, 5.963015202978519, 9.625103486524235, 0.0, 0.0, 11.234547015658821, 4.443972693865495, 0.0, 0.0, 0.0, 0.0, 0.0, 0.0, 0.0, 0.0, 0.0, 0.0, 0.0, 0.0, 0.0, 0.0, 10.930859626945448, 0.0, 0.0, 7.719255398225588, 0.0, 23.26257741852839], 28: [0.0, 0.0, 0.0, 0.0, 0.0, 0.0, 0.0, 0.0, 6.965996150480121, 0.0, 0.0, 0.0, 0.0, 0.0, 0.0, 0.0, 0.0, 0.0, 0.0, 0.0, 0.0, 0.0, 0.0, 0.0, 0.0, 0.0, 0.0, 0.0, 0.0, 0.0, 3.154578931726821, 0.0, 0.0, 0.0, 0.0], 29: [20.728540493672902, 22.408513058411287, 26.163777625519746, 40.23034955157056, 18.958707051093363, 28.518735918695775, 44.94594403025244, 30.10366833292421, 27.863984601920485, 23.852060811914075, 22.458574801889885, 22.790268359266296, 21.967097272617572, 39.320914554805874, 39.99575424478945, 11.213262143867068, 11.393804689178442, 21.629302331859368, 28.074256155888857, 42.27545453433864, 32.8809090912536, 26.660196596331648, 37.812806733797274, 8.453992989814932, 20.326006862628013, 24.433927574318993, 24.512123492678338, 26.02918599397684, 20.32600683857972, 10.930859626945448, 15.772894658634103, 26.55456240937102, 38.596276991127944, 41.388556896973554, 31.016769891371187], 30: [4.1457080987345805, 7.469504352803763, 4.36062960425329, 0.0, 0.0, 0.0, 0.0, 10.034556110974737, 27.863984601920485, 5.963015202978519, 0.0, 15.193512239510865, 3.138156753231082, 5.6172735078294105, 4.443972693865495, 2.2426524287734138, 11.393804689178442, 0.0, 0.0, 0.0, 0.0, 0.0, 4.726600841724659, 38.042968454167195, 0.0, 6.108481893579748, 0.0, 0.0, 0.0, 32.792578880836345, 3.154578931726821, 0.0, 15.438510796451176, 0.0, 7.754192472842797], 31: [8.291416197469161, 0.0, 13.081888812759873, 0.0, 0.0, 16.296420524969015, 11.23648600756311, 10.034556110974737, 0.0, 17.889045608935557, 6.416735657682824, 0.0, 0.0, 0.0, 8.88794538773099, 0.0, 0.0, 0.0, 0.0, 7.04590908905644, 0.0, 0.0, 14.179802525173978, 0.0, 10.163003431314007, 36.65089136147849, 14.707274095607003, 0.0, 0.0, 0.0, 9.463736795180463, 3.793508915624431, 23.157766194676764, 8.277711379394711, 0.0], 32: [8.291416197469161, 0.0, 0.0, 0.0, 9.479353525546681, 0.0, 11.23648600756311, 0.0, 0.0, 5.963015202978519, 3.208367828841412, 0.0, 12.552627012924328, 0.0, 0.0, 6.727957286320241, 0.0, 0.0, 0.0, 0.0, 4.697272727321942, 0.0, 4.726600841724659, 16.907985979629863, 10.163003431314007, 6.108481893579748, 14.707274095607003, 10.411674397590735, 10.16300341928986, 10.930859626945448, 6.309157863453642, 0.0, 0.0, 12.416567069092068, 0.0], 33: [0.0, 7.469504352803763, 4.36062960425329, 0.0, 0.0, 8.148210262484508, 0.0, 0.0, 0.0, 11.926030405957038, 6.416735657682824, 0.0, 0.0, 0.0, 8.88794538773099, 0.0, 0.0, 0.0, 0.0, 0.0, 4.697272727321942, 26.660196596331648, 0.0, 0.0, 10.163003431314007, 0.0, 4.902424698535667, 0.0, 0.0, 0.0, 3.154578931726821, 0.0, 0.0, 4.138855689697356, 0.0], 34: [16.582832394938322, 7.469504352803763, 0.0, 5.747192793081509, 0.0, 0.0, 0.0, 0.0, 0.0, 0.0, 0.0, 0.0, 0.0, 0.0, 0.0, 0.0, 0.0, 0.0, 0.0, 0.0, 0.0, 0.0, 0.0, 0.0, 0.0, 0.0, 0.0, 0.0, 0.0, 0.0, 0.0, 0.0, 0.0, 0.0, 0.0], 35: [0.0, 0.0, 0.0, 0.0, 28.438060576640044, 0.0, 22.47297201512622, 20.069112221949474, 20.897988451440362, 0.0, 9.625103486524235, 0.0, 6.276313506462164, 0.0, 0.0, 2.2426524287734138, 45.57521875671377, 0.0, 9.358085385296286, 0.0, 4.697272727321942, 0.0, 0.0, 16.907985979629863, 0.0, 0.0, 4.902424698535667, 0.0, 20.32600683857972, 0.0, 0.0, 0.0, 0.0, 0.0, 7.754192472842797], 36: [16.582832394938322, 0.0, 8.72125920850658, 0.0, 18.958707051093363, 0.0, 11.23648600756311, 20.069112221949474, 34.82998075240061, 0.0, 0.0, 0.0, 0.0, 0.0, 0.0, 4.4853048575468275, 0.0, 0.0, 0.0, 0.0, 0.0, 0.0, 0.0, 4.226996494907466, 0.0, 0.0, 9.804849397071335, 0.0, 0.0, 32.792578880836345, 0.0, 0.0, 0.0, 0.0, 31.016769891371187], 37: [0.0, 7.469504352803763, 0.0, 0.0, 9.479353525546681, 0.0, 11.23648600756311, 10.034556110974737, 0.0, 0.0, 0.0, 0.0, 3.138156753231082, 0.0, 0.0, 0.0, 0.0, 0.0, 0.0, 0.0, 0.0, 0.0, 0.0, 0.0, 0.0, 0.0, 0.0, 0.0, 0.0, 10.930859626945448, 0.0, 0.0, 0.0, 0.0, 0.0], 38: [4.1457080987345805, 0.0, 4.36062960425329, 5.747192793081509, 37.917414102186726, 0.0, 0.0, 10.034556110974737, 13.931992300960243, 5.963015202978519, 6.416735657682824, 0.0, 0.0, 5.6172735078294105, 0.0, 2.2426524287734138, 0.0, 0.0, 4.679042692648143, 7.04590908905644, 9.394545454643884, 0.0, 0.0, 0.0, 0.0, 0.0, 4.902424698535667, 0.0, 0.0, 0.0, 3.154578931726821, 7.587017831248862, 0.0, 0.0, 15.508384945685593], 39: [0.0, 0.0, 13.081888812759873, 5.747192793081509, 9.479353525546681, 8.148210262484508, 11.23648600756311, 0.0, 0.0, 0.0, 6.416735657682824, 0.0, 0.0, 11.234547015658821, 4.443972693865495, 6.727957286320241, 0.0, 0.0, 9.358085385296286, 14.09181817811288, 0.0, 0.0, 9.453201683449318, 0.0, 0.0, 6.108481893579748, 0.0, 5.2058371987953675, 0.0, 21.861719253890897, 3.154578931726821, 0.0, 15.438510796451176, 12.416567069092068, 0.0], 40: [62.18562148101871, 89.63405223364515, 100.2944808978257, 91.95508468930414, 104.27288878101349, 77.40799749360282, 89.89188806050488, 100.34556110974736, 69.65996150480122, 59.63015202978519, 64.16735657682824, 98.75782955682062, 75.31576207754597, 44.938188062635284, 66.65959040798242, 69.52222529197583, 102.54424220260597, 64.8879069955781, 84.22276846766657, 105.68863633584661, 108.03727272840467, 159.9611795779899, 80.35221430931921, 46.49696144398213, 91.46703088182606, 61.084818935797486, 44.12182228682101, 57.26420918674904, 60.97802051573915, 76.51601738861814, 50.473262907629135, 53.10912481874204, 46.31553238935353, 53.80512396606562, 69.78773225558517], 41: [0.0, 7.469504352803763, 13.081888812759873, 17.241578379244526, 0.0, 0.0, 22.47297201512622, 30.10366833292421, 6.965996150480121, 0.0, 6.416735657682824, 0.0, 6.276313506462164, 0.0, 8.88794538773099, 6.727957286320241, 34.18141406753532, 10.814651165929684, 4.679042692648143, 0.0, 0.0, 0.0, 0.0, 4.226996494907466, 10.163003431314007, 6.108481893579748, 0.0, 15.617511596386102, 20.32600683857972, 0.0, 0.0, 11.380526746873294, 0.0, 0.0, 0.0], 42: [20.728540493672902, 37.347521764018815, 21.803148021266455, 34.48315675848905, 47.396767627733404, 16.296420524969015, 44.94594403025244, 60.20733666584842, 20.897988451440362, 47.70412162382815, 28.875310459572706, 37.98378059877716, 37.657881038772985, 28.086367539147055, 44.43972693865495, 42.61039614669486, 34.18141406753532, 32.44395349778905, 42.111384233833284, 7.04590908905644, 37.57818181857554, 106.64078638532659, 23.633004208623298, 16.907985979629863, 30.48901029394202, 48.867855148637986, 19.60969879414267, 46.852534789158305, 0.0, 0.0, 31.545789317268206, 53.10912481874204, 23.157766194676764, 33.110845517578845, 38.770962364213986], 43: [16.582832394938322, 0.0, 0.0, 0.0, 9.479353525546681, 4.074105131242254, 0.0, 10.034556110974737, 6.965996150480121, 11.926030405957038, 6.416735657682824, 0.0, 3.138156753231082, 5.6172735078294105, 0.0, 0.0, 11.393804689178442, 0.0, 0.0, 14.09181817811288, 0.0, 0.0, 4.726600841724659, 4.226996494907466, 0.0, 0.0, 0.0, 0.0, 0.0, 10.930859626945448, 9.463736795180463, 0.0, 0.0, 0.0, 0.0], 44: [0.0, 0.0, 4.36062960425329, 11.494385586163018, 0.0, 4.074105131242254, 0.0, 0.0, 0.0, 0.0, 0.0, 0.0, 0.0, 0.0, 4.443972693865495, 0.0, 0.0, 0.0, 4.679042692648143, 0.0, 9.394545454643884, 26.660196596331648, 0.0, 4.226996494907466, 10.163003431314007, 0.0, 4.902424698535667, 5.2058371987953675, 0.0, 10.930859626945448, 3.154578931726821, 0.0, 0.0, 16.555422758789422, 0.0], 45: [0.0, 0.0, 4.36062960425329, 0.0, 0.0, 4.074105131242254, 0.0, 0.0, 6.965996150480121, 0.0, 9.625103486524235, 0.0, 0.0, 5.6172735078294105, 4.443972693865495, 4.4853048575468275, 0.0, 0.0, 0.0, 0.0, 4.697272727321942, 0.0, 9.453201683449318, 0.0, 0.0, 0.0, 9.804849397071335, 0.0, 0.0, 0.0, 15.772894658634103, 0.0, 30.877021592902352, 8.277711379394711, 0.0], 46: [4.1457080987345805, 7.469504352803763, 4.36062960425329, 0.0, 0.0, 4.074105131242254, 0.0, 10.034556110974737, 0.0, 0.0, 0.0, 0.0, 0.0, 5.6172735078294105, 4.443972693865495, 2.2426524287734138, 0.0, 0.0, 9.358085385296286, 7.04590908905644, 0.0, 0.0, 9.453201683449318, 0.0, 0.0, 6.108481893579748, 4.902424698535667, 0.0, 0.0, 10.930859626945448, 0.0, 0.0, 0.0, 4.138855689697356, 0.0], 47: [16.582832394938322, 0.0, 8.72125920850658, 0.0, 9.479353525546681, 16.296420524969015, 22.47297201512622, 0.0, 6.965996150480121, 11.926030405957038, 3.208367828841412, 30.38702447902173, 9.414470259693246, 22.469094031317642, 22.219863469327475, 17.94121943018731, 0.0, 10.814651165929684, 0.0, 21.13772726716932, 14.091818181965827, 0.0, 4.726600841724659, 50.7239579388896, 30.48901029394202, 6.108481893579748, 9.804849397071335, 5.2058371987953675, 0.0, 43.72343850778179, 44.16410504417549, 18.967544578122155, 46.31553238935353, 16.555422758789422, 7.754192472842797], 48: [16.582832394938322, 14.939008705607526, 17.44251841701316, 5.747192793081509, 47.396767627733404, 0.0, 33.70945802268933, 50.17278055487368, 13.931992300960243, 0.0, 3.208367828841412, 0.0, 6.276313506462164, 11.234547015658821, 4.443972693865495, 8.970609715093655, 11.393804689178442, 0.0, 18.716170770592573, 7.04590908905644, 0.0, 0.0, 0.0, 12.6809894847224, 0.0, 0.0, 19.60969879414267, 0.0, 10.16300341928986, 0.0, 0.0, 0.0, 7.719255398225588, 0.0, 15.508384945685593], 49: [0.0, 0.0, 8.72125920850658, 0.0, 0.0, 16.296420524969015, 0.0, 0.0, 0.0, 23.852060811914075, 16.04183914420706, 0.0, 0.0, 0.0, 22.219863469327475, 0.0, 0.0, 0.0, 18.716170770592573, 49.32136362339509, 18.78909090928777, 0.0, 33.08620589207261, 0.0, 0.0, 24.433927574318993, 19.60969879414267, 0.0, 0.0, 0.0, 22.082052522087746, 0.0, 38.596276991127944, 16.555422758789422, 0.0], 50: [0.0, 0.0, 21.803148021266455, 0.0, 0.0, 20.370525656211267, 0.0, 0.0, 0.0, 11.926030405957038, 12.833471315365648, 0.0, 3.138156753231082, 0.0, 13.331918081596484, 2.2426524287734138, 0.0, 0.0, 9.358085385296286, 21.13772726716932, 0.0, 0.0, 18.906403366898637, 0.0, 30.48901029394202, 18.325445680739247, 14.707274095607003, 15.617511596386102, 0.0, 0.0, 9.463736795180463, 0.0, 23.157766194676764, 12.416567069092068, 0.0], 51: [12.437124296203741, 7.469504352803763, 0.0, 0.0, 9.479353525546681, 0.0, 0.0, 0.0, 20.897988451440362, 0.0, 6.416735657682824, 7.596756119755432, 0.0, 0.0, 4.443972693865495, 0.0, 0.0, 0.0, 0.0, 0.0, 0.0, 0.0, 0.0, 0.0, 0.0, 0.0, 0.0, 0.0, 0.0, 0.0, 3.154578931726821, 0.0, 0.0, 0.0, 7.754192472842797], 52: [0.0, 0.0, 0.0, 0.0, 0.0, 0.0, 0.0, 0.0, 13.931992300960243, 0.0, 0.0, 0.0, 0.0, 0.0, 0.0, 0.0, 0.0, 0.0, 0.0, 0.0, 0.0, 0.0, 0.0, 4.226996494907466, 0.0, 0.0, 0.0, 0.0, 0.0, 0.0, 0.0, 0.0, 15.438510796451176, 0.0, 7.754192472842797], 53: [0.0, 14.939008705607526, 4.36062960425329, 5.747192793081509, 0.0, 4.074105131242254, 33.70945802268933, 20.069112221949474, 6.965996150480121, 0.0, 0.0, 0.0, 9.414470259693246, 5.6172735078294105, 0.0, 2.2426524287734138, 34.18141406753532, 10.814651165929684, 0.0, 0.0, 0.0, 0.0, 0.0, 0.0, 0.0, 0.0, 0.0, 5.2058371987953675, 10.16300341928986, 0.0, 0.0, 0.0, 0.0, 0.0, 0.0], 54: [0.0, 0.0, 0.0, 0.0, 0.0, 0.0, 0.0, 0.0, 0.0, 0.0, 0.0, 0.0, 6.276313506462164, 0.0, 0.0, 8.970609715093655, 0.0, 0.0, 4.679042692648143, 0.0, 4.697272727321942, 0.0, 0.0, 0.0, 0.0, 0.0, 0.0, 5.2058371987953675, 0.0, 0.0, 0.0, 0.0, 0.0, 4.138855689697356, 0.0], 55: [0.0, 7.469504352803763, 0.0, 0.0, 9.479353525546681, 4.074105131242254, 0.0, 0.0, 0.0, 11.926030405957038, 3.208367828841412, 0.0, 12.552627012924328, 5.6172735078294105, 13.331918081596484, 6.727957286320241, 0.0, 0.0, 0.0, 0.0, 0.0, 0.0, 0.0, 4.226996494907466, 0.0, 0.0, 0.0, 0.0, 0.0, 0.0, 0.0, 0.0, 0.0, 0.0, 15.508384945685593], 56: [0.0, 7.469504352803763, 8.72125920850658, 0.0, 0.0, 0.0, 0.0, 10.034556110974737, 0.0, 0.0, 0.0, 0.0, 0.0, 0.0, 0.0, 2.2426524287734138, 0.0, 0.0, 4.679042692648143, 0.0, 0.0, 0.0, 0.0, 0.0, 0.0, 0.0, 0.0, 0.0, 0.0, 0.0, 0.0, 0.0, 0.0, 0.0, 0.0], 57: [8.291416197469161, 0.0, 0.0, 0.0, 0.0, 4.074105131242254, 11.23648600756311, 0.0, 6.965996150480121, 0.0, 6.416735657682824, 0.0, 0.0, 5.6172735078294105, 0.0, 0.0, 0.0, 0.0, 0.0, 0.0, 9.394545454643884, 26.660196596331648, 0.0, 0.0, 0.0, 0.0, 14.707274095607003, 0.0, 0.0, 10.930859626945448, 0.0, 0.0, 0.0, 0.0, 0.0], 58: [12.437124296203741, 0.0, 0.0, 5.747192793081509, 0.0, 0.0, 0.0, 0.0, 0.0, 0.0, 0.0, 0.0, 0.0, 0.0, 0.0, 2.2426524287734138, 0.0, 0.0, 0.0, 0.0, 0.0, 0.0, 0.0, 0.0, 0.0, 0.0, 0.0, 0.0, 0.0, 10.930859626945448, 3.154578931726821, 0.0, 0.0, 0.0, 0.0], 59: [4.1457080987345805, 14.939008705607526, 13.081888812759873, 0.0, 28.438060576640044, 0.0, 56.18243003781555, 20.069112221949474, 6.965996150480121, 0.0, 3.208367828841412, 0.0, 12.552627012924328, 0.0, 0.0, 4.4853048575468275, 0.0, 0.0, 9.358085385296286, 0.0, 0.0, 0.0, 0.0, 4.226996494907466, 0.0, 0.0, 4.902424698535667, 0.0, 20.32600683857972, 0.0, 0.0, 0.0, 0.0, 0.0, 7.754192472842797], 60: [0.0, 0.0, 0.0, 0.0, 18.958707051093363, 0.0, 0.0, 0.0, 6.965996150480121, 0.0, 6.416735657682824, 0.0, 18.828940519386492, 11.234547015658821, 0.0, 0.0, 22.787609378356883, 0.0, 4.679042692648143, 0.0, 0.0, 0.0, 0.0, 8.453992989814932, 0.0, 0.0, 0.0, 0.0, 10.16300341928986, 0.0, 0.0, 0.0, 0.0, 0.0, 0.0], 61: [0.0, 0.0, 4.36062960425329, 22.988771172326036, 0.0, 8.148210262484508, 0.0, 0.0, 0.0, 5.963015202978519, 12.833471315365648, 15.193512239510865, 12.552627012924328, 5.6172735078294105, 4.443972693865495, 4.4853048575468275, 0.0, 10.814651165929684, 28.074256155888857, 14.09181817811288, 0.0, 0.0, 9.453201683449318, 4.226996494907466, 0.0, 6.108481893579748, 4.902424698535667, 15.617511596386102, 10.16300341928986, 0.0, 3.154578931726821, 11.380526746873294, 0.0, 8.277711379394711, 0.0], 62: [4.1457080987345805, 22.408513058411287, 0.0, 22.988771172326036, 9.479353525546681, 0.0, 33.70945802268933, 30.10366833292421, 6.965996150480121, 5.963015202978519, 9.625103486524235, 0.0, 0.0, 33.703641046976465, 0.0, 0.0, 34.18141406753532, 32.44395349778905, 9.358085385296286, 0.0, 4.697272727321942, 0.0, 0.0, 21.13498247453733, 0.0, 0.0, 0.0, 0.0, 50.815017096449296, 10.930859626945448, 0.0, 0.0, 7.719255398225588, 0.0, 23.26257741852839], 63: [8.291416197469161, 0.0, 0.0, 17.241578379244526, 0.0, 0.0, 0.0, 0.0, 20.897988451440362, 0.0, 0.0, 0.0, 6.276313506462164, 0.0, 0.0, 4.4853048575468275, 0.0, 0.0, 0.0, 0.0, 0.0, 26.660196596331648, 0.0, 0.0, 0.0, 0.0, 4.902424698535667, 0.0, 0.0, 21.861719253890897, 0.0, 3.793508915624431, 0.0, 4.138855689697356, 0.0], 64: [0.0, 0.0, 0.0, 11.494385586163018, 0.0, 4.074105131242254, 0.0, 0.0, 0.0, 17.889045608935557, 12.833471315365648, 0.0, 0.0, 0.0, 22.219863469327475, 0.0, 0.0, 43.258604663718735, 0.0, 0.0, 0.0, 0.0, 18.906403366898637, 0.0, 0.0, 0.0, 9.804849397071335, 0.0, 0.0, 0.0, 0.0, 0.0, 0.0, 16.555422758789422, 0.0], 65: [53.894205283549546, 59.7560348224301, 61.04881445954607, 68.9663135169781, 66.35547467882677, 57.03747183739155, 56.18243003781555, 60.20733666584842, 48.76197305336085, 53.66713682680667, 54.542253090304, 83.56431731730976, 43.934194545235144, 50.5554615704647, 62.21561771411693, 49.3383534330151, 56.969023445892205, 64.8879069955781, 84.22276846766657, 84.55090906867729, 79.85363636447302, 53.320393192663296, 56.71921010069591, 46.49696144398213, 60.97802058788404, 67.19330082937724, 44.12182228682101, 83.29339518072588, 60.97802051573915, 65.58515776167269, 63.09157863453641, 83.45719614373749, 84.91180938048147, 53.80512396606562, 69.78773225558517], 66: [16.582832394938322, 7.469504352803763, 0.0, 0.0, 0.0, 0.0, 0.0, 0.0, 0.0, 0.0, 0.0, 0.0, 0.0, 0.0, 0.0, 4.4853048575468275, 0.0, 0.0, 0.0, 0.0, 0.0, 0.0, 0.0, 0.0, 20.326006862628013, 0.0, 4.902424698535667, 5.2058371987953675, 0.0, 54.65429813472724, 0.0, 0.0, 0.0, 0.0, 0.0], 67: [0.0, 0.0, 0.0, 0.0, 0.0, 0.0, 0.0, 0.0, 0.0, 0.0, 0.0, 0.0, 0.0, 0.0, 0.0, 0.0, 0.0, 0.0, 0.0, 0.0, 4.697272727321942, 0.0, 0.0, 0.0, 10.163003431314007, 6.108481893579748, 0.0, 0.0, 0.0, 0.0, 0.0, 0.0, 0.0, 0.0, 0.0], 68: [0.0, 0.0, 0.0, 0.0, 0.0, 0.0, 0.0, 0.0, 0.0, 0.0, 0.0, 0.0, 0.0, 0.0, 0.0, 6.727957286320241, 0.0, 0.0, 0.0, 0.0, 9.394545454643884, 0.0, 0.0, 0.0, 0.0, 0.0, 0.0, 0.0, 0.0, 0.0, 0.0, 0.0, 0.0, 0.0, 0.0], 69: [0.0, 0.0, 13.081888812759873, 5.747192793081509, 0.0, 0.0, 0.0, 0.0, 0.0, 0.0, 0.0, 0.0, 15.690783766155409, 0.0, 0.0, 6.727957286320241, 0.0, 0.0, 18.716170770592573, 0.0, 4.697272727321942, 0.0, 0.0, 0.0, 0.0, 12.216963787159496, 0.0, 5.2058371987953675, 0.0, 0.0, 0.0, 0.0, 0.0, 0.0, 0.0], 70: [0.0, 0.0, 0.0, 0.0, 0.0, 0.0, 0.0, 0.0, 0.0, 0.0, 0.0, 0.0, 0.0, 0.0, 0.0, 0.0, 0.0, 10.814651165929684, 0.0, 0.0, 0.0, 0.0, 0.0, 0.0, 0.0, 0.0, 0.0, 0.0, 0.0, 0.0, 0.0, 0.0, 0.0, 0.0, 0.0], 71: [0.0, 0.0, 8.72125920850658, 0.0, 0.0, 12.222315393726761, 0.0, 0.0, 0.0, 0.0, 6.416735657682824, 0.0, 0.0, 0.0, 22.219863469327475, 0.0, 0.0, 0.0, 14.037128077944429, 35.229545445282206, 4.697272727321942, 0.0, 23.633004208623298, 0.0, 0.0, 0.0, 9.804849397071335, 0.0, 0.0, 0.0, 9.463736795180463, 0.0, 0.0, 12.416567069092068, 0.0], 72: [0.0, 0.0, 17.44251841701316, 0.0, 0.0, 12.222315393726761, 0.0, 0.0, 0.0, 0.0, 6.416735657682824, 7.596756119755432, 3.138156753231082, 0.0, 4.443972693865495, 0.0, 0.0, 0.0, 9.358085385296286, 7.04590908905644, 0.0, 0.0, 9.453201683449318, 0.0, 0.0, 12.216963787159496, 4.902424698535667, 0.0, 0.0, 0.0, 18.927473590360925, 0.0, 15.438510796451176, 16.555422758789422, 0.0], 73: [8.291416197469161, 14.939008705607526, 4.36062960425329, 0.0, 18.958707051093363, 4.074105131242254, 0.0, 0.0, 0.0, 0.0, 0.0, 15.193512239510865, 0.0, 0.0, 0.0, 2.2426524287734138, 0.0, 0.0, 0.0, 0.0, 14.091818181965827, 0.0, 0.0, 0.0, 0.0, 0.0, 0.0, 20.82334879518147, 0.0, 0.0, 0.0, 3.793508915624431, 0.0, 0.0, 0.0], 74: [12.437124296203741, 0.0, 0.0, 11.494385586163018, 0.0, 0.0, 0.0, 0.0, 0.0, 0.0, 0.0, 0.0, 6.276313506462164, 0.0, 0.0, 6.727957286320241, 0.0, 0.0, 0.0, 0.0, 14.091818181965827, 0.0, 0.0, 0.0, 10.163003431314007, 0.0, 0.0, 10.411674397590735, 0.0, 0.0, 0.0, 3.793508915624431, 0.0, 0.0, 0.0], 75: [0.0, 0.0, 21.803148021266455, 45.97754234465207, 0.0, 44.81515644366479, 0.0, 0.0, 0.0, 5.963015202978519, 19.25020697304847, 15.193512239510865, 0.0, 0.0, 39.99575424478945, 0.0, 0.0, 64.8879069955781, 18.716170770592573, 28.18363635622576, 9.394545454643884, 79.98058978899495, 42.539407575521935, 12.6809894847224, 10.163003431314007, 18.325445680739247, 19.60969879414267, 0.0, 10.16300341928986, 0.0, 18.927473590360925, 0.0, 23.157766194676764, 33.110845517578845, 0.0], 76: [0.0, 0.0, 0.0, 5.747192793081509, 0.0, 0.0, 0.0, 0.0, 0.0, 5.963015202978519, 6.416735657682824, 7.596756119755432, 3.138156753231082, 0.0, 4.443972693865495, 0.0, 0.0, 0.0, 0.0, 0.0, 28.183636363931655, 53.320393192663296, 4.726600841724659, 0.0, 20.326006862628013, 0.0, 0.0, 15.617511596386102, 0.0, 0.0, 0.0, 18.967544578122155, 0.0, 0.0, 0.0], 77: [58.039913382284126, 97.10355658644892, 82.85196248081253, 80.46069910314112, 132.71094935765353, 89.63031288732958, 101.12837406806798, 90.31100499877263, 76.62595765528133, 77.51919763872074, 80.2091957210353, 91.16107343706518, 65.90129181785272, 89.87637612527057, 93.32342657117539, 76.25018257829606, 113.93804689178441, 97.33186049336716, 84.22276846766657, 70.45909089056441, 70.45909090982913, 79.98058978899495, 75.62561346759455, 84.53992989814932, 91.46703088182606, 79.41026461653672, 88.24364457364202, 88.49923237952125, 91.46703077360873, 65.58515776167269, 82.01905222489734, 87.25070505936192, 84.91180938048147, 91.05482517334183, 100.80450214695635], 78: [0.0, 22.408513058411287, 4.36062960425329, 17.241578379244526, 0.0, 16.296420524969015, 0.0, 0.0, 6.965996150480121, 5.963015202978519, 9.625103486524235, 0.0, 12.552627012924328, 11.234547015658821, 22.219863469327475, 11.213262143867068, 11.393804689178442, 43.258604663718735, 9.358085385296286, 0.0, 0.0, 0.0, 18.906403366898637, 12.6809894847224, 0.0, 12.216963787159496, 4.902424698535667, 0.0, 20.32600683857972, 0.0, 0.0, 3.793508915624431, 0.0, 12.416567069092068, 23.26257741852839], 79: [0.0, 0.0, 4.36062960425329, 0.0, 0.0, 0.0, 0.0, 0.0, 0.0, 0.0, 0.0, 7.596756119755432, 0.0, 0.0, 0.0, 2.2426524287734138, 0.0, 0.0, 0.0, 0.0, 0.0, 0.0, 0.0, 0.0, 0.0, 0.0, 0.0, 0.0, 0.0, 0.0, 0.0, 0.0, 0.0, 0.0, 0.0], 80: [12.437124296203741, 29.87801741121505, 30.524407229773036, 17.241578379244526, 0.0, 0.0, 44.94594403025244, 50.17278055487368, 34.82998075240061, 17.889045608935557, 6.416735657682824, 7.596756119755432, 18.828940519386492, 11.234547015658821, 4.443972693865495, 17.94121943018731, 11.393804689178442, 0.0, 4.679042692648143, 28.18363635622576, 0.0, 0.0, 9.453201683449318, 21.13498247453733, 10.163003431314007, 12.216963787159496, 14.707274095607003, 10.411674397590735, 0.0, 98.37773664250903, 6.309157863453642, 3.793508915624431, 15.438510796451176, 8.277711379394711, 0.0], 81: [0.0, 0.0, 0.0, 0.0, 0.0, 0.0, 0.0, 0.0, 0.0, 0.0, 0.0, 0.0, 0.0, 0.0, 0.0, 0.0, 0.0, 0.0, 0.0, 0.0, 0.0, 0.0, 0.0, 0.0, 0.0, 6.108481893579748, 0.0, 0.0, 0.0, 0.0, 3.154578931726821, 3.793508915624431, 0.0, 4.138855689697356, 0.0], 82: [0.0, 0.0, 13.081888812759873, 5.747192793081509, 0.0, 0.0, 0.0, 0.0, 0.0, 5.963015202978519, 0.0, 0.0, 6.276313506462164, 0.0, 0.0, 8.970609715093655, 0.0, 0.0, 9.358085385296286, 0.0, 9.394545454643884, 0.0, 0.0, 0.0, 0.0, 0.0, 0.0, 0.0, 0.0, 0.0, 0.0, 0.0, 0.0, 0.0, 0.0], 83: [0.0, 0.0, 0.0, 5.747192793081509, 0.0, 20.370525656211267, 0.0, 0.0, 0.0, 11.926030405957038, 6.416735657682824, 0.0, 6.276313506462164, 0.0, 8.88794538773099, 15.698567001413895, 0.0, 10.814651165929684, 0.0, 7.04590908905644, 0.0, 0.0, 9.453201683449318, 0.0, 0.0, 18.325445680739247, 9.804849397071335, 0.0, 0.0, 0.0, 3.154578931726821, 0.0, 0.0, 4.138855689697356, 0.0], 84: [0.0, 0.0, 0.0, 0.0, 0.0, 4.074105131242254, 0.0, 0.0, 0.0, 0.0, 0.0, 0.0, 3.138156753231082, 0.0, 0.0, 4.4853048575468275, 0.0, 0.0, 4.679042692648143, 35.229545445282206, 0.0, 0.0, 9.453201683449318, 0.0, 0.0, 0.0, 4.902424698535667, 0.0, 0.0, 0.0, 9.463736795180463, 3.793508915624431, 7.719255398225588, 16.555422758789422, 0.0], 85: [0.0, 0.0, 0.0, 0.0, 0.0, 4.074105131242254, 0.0, 0.0, 0.0, 5.963015202978519, 6.416735657682824, 0.0, 0.0, 0.0, 4.443972693865495, 0.0, 0.0, 21.629302331859368, 0.0, 0.0, 0.0, 0.0, 0.0, 0.0, 0.0, 0.0, 0.0, 0.0, 0.0, 0.0, 6.309157863453642, 0.0, 0.0, 0.0, 0.0], 86: [0.0, 7.469504352803763, 13.081888812759873, 17.241578379244526, 0.0, 12.222315393726761, 11.23648600756311, 0.0, 0.0, 11.926030405957038, 0.0, 0.0, 18.828940519386492, 0.0, 0.0, 13.455914572640483, 11.393804689178442, 32.44395349778905, 18.716170770592573, 21.13772726716932, 4.697272727321942, 26.660196596331648, 4.726600841724659, 0.0, 20.326006862628013, 18.325445680739247, 0.0, 0.0, 10.16300341928986, 0.0, 3.154578931726821, 0.0, 15.438510796451176, 4.138855689697356, 0.0], 87: [0.0, 0.0, 0.0, 0.0, 0.0, 4.074105131242254, 0.0, 0.0, 0.0, 0.0, 3.208367828841412, 0.0, 0.0, 0.0, 0.0, 0.0, 0.0, 0.0, 4.679042692648143, 14.09181817811288, 4.697272727321942, 0.0, 0.0, 0.0, 0.0, 0.0, 0.0, 10.411674397590735, 0.0, 0.0, 0.0, 0.0, 0.0, 0.0, 0.0], 88: [8.291416197469161, 37.347521764018815, 17.44251841701316, 11.494385586163018, 28.438060576640044, 0.0, 22.47297201512622, 20.069112221949474, 6.965996150480121, 0.0, 0.0, 0.0, 12.552627012924328, 0.0, 0.0, 8.970609715093655, 0.0, 0.0, 4.679042692648143, 0.0, 4.697272727321942, 26.660196596331648, 0.0, 8.453992989814932, 0.0, 0.0, 4.902424698535667, 0.0, 0.0, 10.930859626945448, 0.0, 3.793508915624431, 0.0, 4.138855689697356, 7.754192472842797], 89: [0.0, 0.0, 0.0, 0.0, 0.0, 0.0, 0.0, 0.0, 0.0, 0.0, 0.0, 0.0, 0.0, 0.0, 0.0, 0.0, 0.0, 0.0, 0.0, 0.0, 0.0, 0.0, 0.0, 0.0, 0.0, 0.0, 0.0, 0.0, 0.0, 0.0, 0.0, 0.0, 0.0, 0.0, 0.0], 90: [0.0, 0.0, 8.72125920850658, 5.747192793081509, 0.0, 8.148210262484508, 0.0, 0.0, 0.0, 0.0, 3.208367828841412, 0.0, 6.276313506462164, 0.0, 0.0, 8.970609715093655, 0.0, 0.0, 9.358085385296286, 0.0, 0.0, 0.0, 9.453201683449318, 0.0, 0.0, 12.216963787159496, 4.902424698535667, 5.2058371987953675, 0.0, 0.0, 0.0, 0.0, 0.0, 4.138855689697356, 0.0], 91: [0.0, 0.0, 0.0, 5.747192793081509, 0.0, 8.148210262484508, 0.0, 0.0, 6.965996150480121, 5.963015202978519, 6.416735657682824, 7.596756119755432, 0.0, 5.6172735078294105, 22.219863469327475, 2.2426524287734138, 0.0, 0.0, 4.679042692648143, 7.04590908905644, 14.091818181965827, 0.0, 14.179802525173978, 0.0, 0.0, 0.0, 14.707274095607003, 0.0, 0.0, 10.930859626945448, 12.618315726907284, 3.793508915624431, 23.157766194676764, 8.277711379394711, 0.0], 92: [0.0, 0.0, 0.0, 0.0, 0.0, 8.148210262484508, 0.0, 0.0, 0.0, 23.852060811914075, 6.416735657682824, 0.0, 0.0, 0.0, 8.88794538773099, 0.0, 0.0, 10.814651165929684, 4.679042692648143, 7.04590908905644, 0.0, 0.0, 4.726600841724659, 0.0, 0.0, 0.0, 0.0, 0.0, 0.0, 0.0, 6.309157863453642, 0.0, 7.719255398225588, 4.138855689697356, 0.0], 93: [0.0, 0.0, 4.36062960425329, 0.0, 9.479353525546681, 8.148210262484508, 0.0, 0.0, 0.0, 5.963015202978519, 6.416735657682824, 37.98378059877716, 0.0, 0.0, 4.443972693865495, 4.4853048575468275, 0.0, 10.814651165929684, 0.0, 14.09181817811288, 0.0, 53.320393192663296, 0.0, 0.0, 0.0, 0.0, 4.902424698535667, 0.0, 10.16300341928986, 0.0, 15.772894658634103, 0.0, 7.719255398225588, 12.416567069092068, 0.0], 94: [70.47703767848787, 97.10355658644892, 69.77007366805265, 86.20789189622263, 113.75224230656018, 114.0749436747831, 78.65540205294177, 90.31100499877263, 90.55794995624157, 95.4082432476563, 99.45940269408376, 91.16107343706518, 75.31576207754597, 123.58001717224704, 106.65534465277187, 62.79426800565558, 113.93804689178441, 75.7025581615078, 98.259896545611, 105.68863633584661, 103.34000000108273, 79.98058978899495, 108.71181935966717, 59.177950928704526, 111.79303774445407, 91.62722840369622, 93.14606927217768, 62.47004638554441, 91.46703077360873, 65.58515776167269, 72.55531542971687, 98.6312318062352, 84.91180938048147, 115.88795931152596, 93.05030967411356], 95: [0.0, 14.939008705607526, 8.72125920850658, 22.988771172326036, 0.0, 4.074105131242254, 22.47297201512622, 0.0, 0.0, 0.0, 9.625103486524235, 7.596756119755432, 0.0, 0.0, 4.443972693865495, 2.2426524287734138, 0.0, 10.814651165929684, 4.679042692648143, 14.09181817811288, 14.091818181965827, 0.0, 4.726600841724659, 0.0, 0.0, 0.0, 14.707274095607003, 0.0, 10.16300341928986, 0.0, 3.154578931726821, 0.0, 15.438510796451176, 12.416567069092068, 7.754192472842797], 96: [0.0, 0.0, 8.72125920850658, 0.0, 0.0, 0.0, 0.0, 0.0, 0.0, 0.0, 0.0, 0.0, 9.414470259693246, 0.0, 0.0, 13.455914572640483, 0.0, 0.0, 4.679042692648143, 0.0, 0.0, 0.0, 0.0, 0.0, 0.0, 6.108481893579748, 4.902424698535667, 0.0, 0.0, 0.0, 0.0, 0.0, 0.0, 0.0, 0.0], 97: [0.0, 0.0, 0.0, 11.494385586163018, 0.0, 0.0, 0.0, 0.0, 0.0, 0.0, 0.0, 15.193512239510865, 6.276313506462164, 0.0, 0.0, 8.970609715093655, 0.0, 0.0, 0.0, 0.0, 9.394545454643884, 0.0, 0.0, 0.0, 0.0, 0.0, 0.0, 15.617511596386102, 0.0, 0.0, 0.0, 7.587017831248862, 0.0, 0.0, 0.0], 98: [4.1457080987345805, 0.0, 0.0, 0.0, 0.0, 0.0, 0.0, 0.0, 13.931992300960243, 0.0, 3.208367828841412, 0.0, 0.0, 0.0, 0.0, 0.0, 11.393804689178442, 0.0, 0.0, 0.0, 0.0, 0.0, 0.0, 0.0, 0.0, 0.0, 0.0, 0.0, 0.0, 0.0, 3.154578931726821, 0.0, 7.719255398225588, 4.138855689697356, 0.0], 99: [0.0, 0.0, 0.0, 5.747192793081509, 0.0, 4.074105131242254, 0.0, 0.0, 0.0, 0.0, 6.416735657682824, 0.0, 0.0, 11.234547015658821, 4.443972693865495, 2.2426524287734138, 0.0, 0.0, 4.679042692648143, 7.04590908905644, 0.0, 0.0, 4.726600841724659, 0.0, 0.0, 0.0, 0.0, 0.0, 10.16300341928986, 10.930859626945448, 0.0, 3.793508915624431, 0.0, 4.138855689697356, 0.0], 100: [0.0, 14.939008705607526, 0.0, 0.0, 9.479353525546681, 0.0, 11.23648600756311, 0.0, 0.0, 0.0, 0.0, 0.0, 0.0, 0.0, 0.0, 2.2426524287734138, 0.0, 0.0, 0.0, 0.0, 0.0, 0.0, 0.0, 12.6809894847224, 0.0, 0.0, 0.0, 5.2058371987953675, 0.0, 0.0, 0.0, 0.0, 0.0, 0.0, 7.754192472842797], 101: [8.291416197469161, 0.0, 8.72125920850658, 5.747192793081509, 0.0, 28.518735918695775, 0.0, 0.0, 0.0, 41.74110642084963, 22.458574801889885, 22.790268359266296, 0.0, 5.6172735078294105, 48.88369963252045, 0.0, 11.393804689178442, 21.629302331859368, 4.679042692648143, 28.18363635622576, 4.697272727321942, 53.320393192663296, 18.906403366898637, 0.0, 30.48901029394202, 18.325445680739247, 29.414548191214006, 0.0, 0.0, 0.0, 31.545789317268206, 18.967544578122155, 7.719255398225588, 16.555422758789422, 0.0], 102: [0.0, 0.0, 0.0, 0.0, 0.0, 0.0, 0.0, 0.0, 0.0, 0.0, 6.416735657682824, 0.0, 3.138156753231082, 0.0, 0.0, 2.2426524287734138, 11.393804689178442, 0.0, 0.0, 0.0, 0.0, 26.660196596331648, 0.0, 0.0, 0.0, 0.0, 0.0, 0.0, 0.0, 10.930859626945448, 0.0, 0.0, 0.0, 4.138855689697356, 0.0], 103: [4.1457080987345805, 7.469504352803763, 13.081888812759873, 5.747192793081509, 0.0, 8.148210262484508, 11.23648600756311, 10.034556110974737, 6.965996150480121, 0.0, 9.625103486524235, 0.0, 12.552627012924328, 39.320914554805874, 8.88794538773099, 2.2426524287734138, 34.18141406753532, 10.814651165929684, 0.0, 0.0, 9.394545454643884, 0.0, 4.726600841724659, 21.13498247453733, 0.0, 6.108481893579748, 4.902424698535667, 0.0, 10.16300341928986, 43.72343850778179, 12.618315726907284, 3.793508915624431, 15.438510796451176, 20.694278448486777, 23.26257741852839], 104: [41.457080987345805, 29.87801741121505, 47.9669256467862, 51.72473513773358, 75.83482820437345, 81.48210262484507, 22.47297201512622, 60.20733666584842, 55.72796920384097, 77.51919763872074, 73.79246006335248, 68.37080507779889, 69.03944857108381, 56.17273507829411, 79.9915084895789, 62.79426800565558, 45.57521875671377, 32.44395349778905, 84.22276846766657, 49.32136362339509, 112.73454545572662, 53.320393192663296, 70.89901262586989, 4.226996494907466, 40.652013725256026, 109.95267408443547, 63.73152108096368, 52.05837198795368, 60.97802051573915, 32.792578880836345, 59.936999702809594, 45.522106987493174, 30.877021592902352, 70.36054672485504, 69.78773225558517], 105: [0.0, 0.0, 0.0, 0.0, 0.0, 0.0, 0.0, 0.0, 0.0, 0.0, 0.0, 0.0, 0.0, 0.0, 0.0, 0.0, 0.0, 10.814651165929684, 0.0, 0.0, 0.0, 0.0, 0.0, 0.0, 0.0, 0.0, 0.0, 0.0, 0.0, 0.0, 0.0, 0.0, 0.0, 0.0, 0.0], 106: [45.602789086080385, 29.87801741121505, 30.524407229773036, 57.47192793081509, 56.87612115328009, 65.18568209987606, 44.94594403025244, 70.24189277682316, 55.72796920384097, 71.55618243574223, 89.83429920755954, 53.177292838288025, 40.796037792004064, 84.25910261744116, 62.21561771411693, 51.58100586178852, 68.36282813507064, 43.258604663718735, 51.46946961912957, 77.50499997962085, 65.7618181825072, 106.64078638532659, 61.44581094242057, 38.042968454167195, 30.48901029394202, 91.62722840369622, 63.73152108096368, 46.852534789158305, 60.97802051573915, 54.65429813472724, 41.00952611244867, 68.28316048123976, 54.03478778757912, 62.08283534546033, 62.03353978274237], 107: [0.0, 7.469504352803763, 17.44251841701316, 5.747192793081509, 0.0, 0.0, 0.0, 0.0, 0.0, 0.0, 0.0, 7.596756119755432, 0.0, 0.0, 0.0, 8.970609715093655, 34.18141406753532, 0.0, 14.037128077944429, 0.0, 14.091818181965827, 53.320393192663296, 0.0, 8.453992989814932, 0.0, 18.325445680739247, 0.0, 26.02918599397684, 30.489010257869577, 0.0, 0.0, 15.174035662497724, 0.0, 0.0, 31.016769891371187], 108: [16.582832394938322, 29.87801741121505, 17.44251841701316, 11.494385586163018, 47.396767627733404, 4.074105131242254, 44.94594403025244, 50.17278055487368, 6.965996150480121, 11.926030405957038, 0.0, 7.596756119755432, 12.552627012924328, 0.0, 0.0, 13.455914572640483, 0.0, 0.0, 4.679042692648143, 7.04590908905644, 4.697272727321942, 0.0, 4.726600841724659, 16.907985979629863, 10.163003431314007, 0.0, 24.512123492678338, 5.2058371987953675, 20.32600683857972, 0.0, 3.154578931726821, 3.793508915624431, 15.438510796451176, 8.277711379394711, 7.754192472842797], 109: [0.0, 0.0, 0.0, 0.0, 0.0, 0.0, 0.0, 0.0, 0.0, 0.0, 3.208367828841412, 0.0, 0.0, 0.0, 0.0, 0.0, 0.0, 0.0, 0.0, 0.0, 0.0, 26.660196596331648, 0.0, 0.0, 0.0, 0.0, 0.0, 0.0, 0.0, 0.0, 0.0, 0.0, 0.0, 0.0, 0.0]}, 'short_mean_laps_all_frs': {2: [0.0, 0.0, 0.0, 0.0, 0.0, 0.25600531639458385, 0.0, 0.0, 0.0, 0.0, 0.0, 0.0, 0.0, 0.0, 0.0, 0.0, 0.0, 0.0, 0.0, 0.0, 0.0, 0.0, 0.0, 0.0, 0.0, 0.0, 0.0, 0.0, 0.0, 0.0, 0.0, 0.0], 3: [0.8433579804215697, 2.9479367283370763, 1.7806439260921785, 5.437847509349439, 3.014920811321945, 5.632116960680845, 2.1640916413165487, 5.264293147166885, 1.0783086056629836, 3.4610501917841705, 0.6885631850804553, 3.241986109235574, 0.7005699610174535, 3.0684286134366783, 0.813647906891143, 3.2687832332114795, 0.7222364589298673, 3.509573056434991, 0.7195197195975805, 4.901194479163763, 0.5005012377147543, 6.733938664045289, 1.2266222021614606, 2.5096834378687896, 1.0017140360029104, 4.358984004189573, 0.3643436361504279, 2.8770068937923936, 1.1886401811042968, 0.22152574092357408, 3.6063971592255184, 1.0712861186066016], 4: [0.0, 1.2634014550016042, 0.4451609815230446, 4.579240007873212, 0.9276679419452137, 1.2800265819729193, 0.8323429389679033, 2.288823107463863, 0.8386844710712094, 2.5381034739750583, 0.5508505480643643, 2.7300935656720626, 0.23352332033915116, 0.9818971562997371, 0.6509183255129144, 1.4009070999477768, 0.0, 1.2148522118428815, 1.1306738450819123, 2.100511919641613, 0.0, 1.4429868565811335, 0.24532444043229212, 1.1711856043387685, 0.6010284216017462, 1.1888138193244289, 0.7286872723008558, 0.548001313103313, 0.6483491896932527, 0.0, 0.5694311304040292, 0.42851444744264067], 5: [1.3493727686745114, 3.088314667781699, 1.4838699384101488, 1.4310125024603786, 3.4787547822945517, 3.5840744295241738, 2.4970288169037103, 3.2043523504494082, 2.156617211325967, 1.8458934356182242, 1.9279769182252748, 1.3650467828360313, 0.8173316211870291, 1.9637943125994741, 0.9763774882693715, 1.4009070999477768, 1.986150262057135, 1.4848193700301884, 2.980867409761405, 1.8671217063481003, 0.25025061885737715, 1.9239824754415111, 0.9812977617291685, 2.342371208677537, 1.0017140360029104, 0.9906781827703575, 0.5465154542256419, 0.9590022979307978, 0.8644655862576703, 0.6645772227707223, 1.5184830144107446, 1.4998005660492424], 6: [49.92679244095692, 48.2900111689502, 33.38707361422835, 28.047845048223422, 28.757706200301627, 25.3445263230638, 25.136756756830682, 21.05717258866754, 20.00861523841314, 19.84335443289591, 17.076366989995293, 18.42813156828642, 15.295777482214401, 16.814988801632996, 17.900253951605144, 17.589166921566534, 14.083610949132412, 15.928062333051113, 15.72664529977569, 14.936973650784802, 12.512530942868858, 13.708375137520767, 12.266222021614606, 15.392725085595243, 14.42468211844191, 11.88813819324429, 9.290762721835913, 7.809018711722211, 6.699608293496945, 7.0888237095543705, 7.022983941649693, 6.64197393536093], 7: [5.228819478613732, 1.1230235155569814, 7.122575704368714, 0.0, 4.638339709726069, 2.048042531156671, 4.8275890460138395, 1.373293864478318, 3.3547378842848374, 0.46147335890455604, 2.8919653773379124, 3.9245095006535897, 2.9190415042393894, 3.3139029025116122, 4.719157859968629, 3.2687832332114795, 3.791741409381803, 2.9696387400603768, 2.878078878390322, 0.0, 5.505513614862298, 1.2024890471509444, 6.133111010807303, 3.1789323546338, 4.8082273728139695, 3.96271273108143, 3.2790927253538515, 0.9590022979307978, 3.3498041467484727, 4.430514818471481, 1.7082933912120877, 2.999601132098485], 8: [0.0, 0.0, 0.0, 0.0, 0.0, 0.0, 0.0, 0.0, 0.0, 0.0, 0.27542527403218214, 0.0, 0.23352332033915116, 0.0, 0.0, 0.0, 0.0, 0.0, 0.0, 0.0, 0.0, 0.0, 0.0, 0.0, 0.0, 0.0, 0.0, 0.0, 0.0, 0.0, 0.0, 0.0], 9: [0.0, 1.5441573338908494, 0.0, 4.00683500688906, 0.23191698548630343, 4.096085062313342, 0.33293717558716135, 3.4332346611957947, 1.3179327402547576, 3.6917868712364483, 0.13771263701609107, 2.3888318699630546, 4.20341976610472, 1.2273714453746714, 0.0, 3.4244395776501215, 0.0, 1.2148522118428815, 1.541827970566244, 4.434414052576738, 0.25025061885737715, 3.3669693320226446, 0.0, 2.1750589794862845, 0.0, 2.9720345483110724, 0.0, 1.096002626206626, 0.21611639656441758, 0.0, 2.2777245216161166, 0.0], 10: [2.867417133433337, 0.5615117577784907, 2.6709658891382677, 0.0, 4.174505738753462, 0.0, 3.3293717558716134, 0.0, 1.7971810094383058, 0.0, 4.9576549325792785, 0.0, 2.568756523730663, 0.49094857814986853, 2.1154845579169717, 0.31131268887728375, 3.4306231799168696, 0.269967158187307, 1.3362509078240783, 0.0, 1.0010024754295086, 0.0, 1.962595523458337, 0.0, 3.8065133368110597, 0.396271273108143, 2.3682336349777815, 0.548001313103313, 1.5128147759509232, 1.5506801864650186, 0.0, 2.1425722372132032], 11: [1.0120295765058835, 0.0, 0.2967739876820297, 0.8586075014762271, 0.9276679419452137, 0.25600531639458385, 1.8311544657293874, 0.2288823107463863, 1.5575568748465318, 0.46147335890455604, 3.7182411994344586, 1.0237850871270233, 2.685518183900238, 0.6136857226873357, 1.4645662324040574, 0.31131268887728375, 1.4444729178597346, 0.0, 2.5697132842770736, 0.9335608531740501, 0.25025061885737715, 0.0, 1.717271083026045, 0.0, 3.4058277224098954, 0.1981356365540715, 1.6395463626769258, 0.13700032827582825, 0.6483491896932527, 2.2152574092357407, 0.18981037680134308, 1.4998005660492424], 12: [29.854872506923567, 35.09448486115567, 26.709658891382677, 45.21999507774797, 33.8598798810003, 45.82495163463051, 30.29728297843168, 40.96993362360315, 25.400158266728056, 39.455972186339544, 25.476837847976846, 39.2450950065359, 23.00204705340639, 32.648080446966254, 28.640406322568232, 34.400052120939854, 25.819953406742755, 33.20596045703876, 26.313864030997234, 43.64396988588685, 28.778821168598373, 48.09956188603778, 31.646852815765683, 38.64912494317936, 32.054849152093134, 41.014076766692796, 26.232741802830812, 30.140072220682217, 32.63357588122705, 30.34902650652965, 39.86017912828204, 30.210268544706167], 13: [0.0, 0.14037793944462268, 0.14838699384101486, 0.0, 0.0, 0.0, 0.0, 0.0, 1.5575568748465318, 0.23073667945227802, 0.0, 0.0, 0.35028498050872675, 0.12273714453746713, 0.0, 0.0, 0.0, 0.1349835790936535, 0.3083655941132488, 0.46678042658702507, 0.0, 0.0, 0.0, 0.0, 0.0, 0.0, 0.18217181807521396, 0.13700032827582825, 0.10805819828220879, 0.0, 0.0, 0.0], 14: [4.216789902107848, 0.42113381833386804, 2.8193528829792824, 0.5724050009841515, 4.8702566952123725, 0.7680159491837515, 3.3293717558716134, 0.2288823107463863, 2.7556775478054023, 0.46147335890455604, 1.6525516441930928, 0.34126169570900783, 2.3352332033915113, 0.7364228672248028, 2.766402883429886, 0.7782817221932095, 3.4306231799168696, 0.9448850536555745, 2.055770627421659, 1.4003412797610753, 3.7537592828606576, 0.2404978094301889, 4.415839927781258, 1.003873375147516, 4.407541758412806, 0.792542546216286, 2.9147490892034233, 0.2740006565516565, 2.161163965644176, 3.7659375957007595, 0.5694311304040292, 3.856630026983766], 15: [1.5180443647588253, 0.14037793944462268, 0.7419349692050744, 0.28620250049207574, 1.8553358838904275, 0.0, 0.33293717558716135, 0.0, 0.5990603364794352, 0.0, 0.5508505480643643, 0.0, 1.05085494152618, 0.3682114336124014, 3.091862046186343, 0.15565634443864187, 1.2639138031272676, 0.1349835790936535, 0.6167311882264976, 0.46678042658702507, 1.2512530942868858, 0.0, 0.49064888086458425, 0.16731222919125263, 1.2020568432034924, 0.396271273108143, 0.5465154542256419, 0.0, 0.7564073879754616, 1.1076287046178703, 0.18981037680134308, 1.4998005660492424], 16: [0.0, 0.0, 0.0, 0.0, 0.46383397097260687, 0.0, 1.8311544657293874, 0.0, 0.3594362018876612, 0.0, 0.13771263701609107, 0.0, 0.35028498050872675, 0.12273714453746713, 0.0, 0.0, 1.6250320325922014, 0.1349835790936535, 0.4111541254843318, 0.46678042658702507, 0.0, 0.0, 0.0, 0.6692489167650105, 0.0, 0.0, 0.0, 0.13700032827582825, 0.0, 0.0, 0.0, 0.642771671163961], 17: [0.16867159608431392, 1.8249132127800949, 1.7806439260921785, 0.28620250049207574, 0.0, 1.2800265819729193, 0.0, 1.373293864478318, 0.0, 2.076630115070502, 0.13771263701609107, 1.0237850871270233, 0.35028498050872675, 0.9818971562997371, 0.48818874413468577, 2.1791888221409863, 0.0, 1.4848193700301884, 0.2055770627421659, 1.4003412797610753, 0.5005012377147543, 0.4809956188603778, 0.24532444043229212, 1.003873375147516, 0.2003428072005821, 1.981356365540715, 0.18217181807521396, 2.7400065655165653, 1.4047565776687143, 0.44305148184714815, 1.7082933912120877, 0.0], 18: [52.28819478613732, 51.65908171562115, 36.50320048488966, 50.94404508758948, 39.88972150364419, 48.64101011497093, 31.961968856367488, 46.00534446002365, 37.620989130908534, 35.76418531510309, 41.864641652891684, 34.808692962318794, 34.09440476951607, 24.915640341105828, 30.918620461863433, 32.687832332114795, 35.20902737283103, 28.346551609667234, 31.556079130922463, 31.97445922121122, 40.79085087375248, 40.40363198427173, 31.401528375333392, 38.147188255605606, 38.065133368110594, 33.48492257763808, 35.52350452466672, 32.60607812964712, 30.47241191558288, 42.08989077547908, 33.97605744744041, 32.35284078191937], 19: [0.0, 0.0, 0.0, 0.0, 0.0, 0.5120106327891677, 0.0, 0.0, 2.9953016823971765, 0.692210038356834, 0.0, 0.6825233914180157, 0.23352332033915116, 0.3682114336124014, 0.0, 0.7782817221932095, 0.0, 0.809901474561921, 0.7195197195975805, 1.1669510664675626, 0.0, 0.2404978094301889, 0.0, 0.0, 0.0, 0.1981356365540715, 0.0, 0.41100098482748476, 0.10805819828220879, 0.0, 0.37962075360268616, 0.0], 20: [19.903248337949044, 19.231777703913306, 16.767730304034682, 12.879112522143407, 17.161856925986456, 22.78447315911796, 15.14864148921584, 15.563997130754268, 16.17462908494475, 13.844200767136682, 11.843286783383832, 13.479836980505809, 14.828730841536098, 16.078565934408193, 17.41206520747046, 16.188259821618757, 11.91690157234281, 14.443242963020925, 14.493182923322694, 17.037485570426416, 15.265287750300008, 16.113353231822657, 14.719466425937528, 16.731222919125265, 11.820225624834343, 15.454579651217577, 12.023339992964122, 15.75503775172025, 13.615332983558309, 11.962390009873001, 12.90710562249133, 13.28394787072186], 21: [0.33734319216862785, 0.0, 0.5935479753640595, 0.0, 0.9276679419452137, 0.25600531639458385, 0.16646858779358067, 0.0, 0.47924826918354824, 0.0, 0.4131379110482732, 0.17063084785450391, 0.23352332033915116, 0.0, 0.6509183255129144, 0.46696903331592565, 0.36111822946493366, 0.0, 0.2055770627421659, 0.0, 0.7507518565721315, 0.2404978094301889, 0.0, 0.33462445838250526, 0.2003428072005821, 0.0, 0.3643436361504279, 0.13700032827582825, 0.32417459484662636, 1.1076287046178703, 0.5694311304040292, 0.8570288948852813], 22: [0.16867159608431392, 1.6845352733354721, 0.2967739876820297, 4.579240007873212, 0.0, 3.5840744295241738, 0.0, 2.5177054182102494, 0.47924826918354824, 0.692210038356834, 0.13771263701609107, 1.706308478545039, 0.5838083008478778, 0.9818971562997371, 0.1627295813782286, 1.556563444386419, 0.0, 1.619802949123842, 0.0, 1.4003412797610753, 0.0, 1.9239824754415111, 0.0, 0.6692489167650105, 0.2003428072005821, 1.1888138193244289, 0.18217181807521396, 0.6850016413791413, 0.7564073879754616, 0.22152574092357408, 1.3286726376094016, 0.0], 23: [0.0, 2.667180849447831, 0.14838699384101486, 4.579240007873212, 0.0, 4.352090378707925, 0.0, 2.746587728956636, 0.0, 5.537680306854672, 0.0, 2.2182010221085506, 0.0, 1.841057168062007, 0.3254591627564572, 1.7122197888250608, 0.0, 1.2148522118428815, 0.0, 1.6337314930545879, 0.0, 2.1644802848717, 0.0, 1.5058100627212738, 0.0, 0.9906781827703575, 0.0, 1.7810042675857674, 1.1886401811042968, 0.0, 1.3286726376094016, 0.0], 24: [0.16867159608431392, 0.28075587888924536, 0.14838699384101486, 1.4310125024603786, 0.0, 1.0240212655783354, 0.0, 0.686646932239159, 0.0, 0.46147335890455604, 0.0, 3.07135526138107, 0.0, 2.4547428907493427, 0.1627295813782286, 3.4244395776501215, 0.18055911473246683, 3.9145237937159516, 0.2055770627421659, 7.001706398805377, 0.5005012377147543, 8.41742333005661, 0.0, 6.3578647092676, 0.2003428072005821, 6.142204733176216, 0.0, 4.795011489653989, 4.322327931288352, 0.0, 7.592415072053723, 0.0], 25: [0.0, 1.8249132127800949, 0.0, 2.5758225044286815, 0.46383397097260687, 5.120106327891677, 0.16646858779358067, 4.577646214927726, 0.8386844710712094, 3.4610501917841705, 0.6885631850804553, 2.900724413526566, 0.5838083008478778, 2.4547428907493427, 1.3018366510258288, 2.646157855456912, 0.9027955736623341, 2.69967158187307, 0.5139426568554147, 3.7342434126962005, 1.0010024754295086, 5.771947426324534, 0.9812977617291685, 3.0116201254425476, 1.6027424576046567, 3.170170184865144, 0.7286872723008558, 1.9180045958615957, 1.7289311725153407, 0.6645772227707223, 3.6063971592255184, 1.285543342327922], 26: [0.0, 0.5615117577784907, 0.0, 1.144810001968303, 0.0, 1.0240212655783354, 0.16646858779358067, 0.686646932239159, 0.0, 0.9229467178091121, 0.0, 0.6825233914180157, 0.0, 0.7364228672248028, 0.0, 0.46696903331592565, 0.0, 0.539934316374614, 0.0, 0.7001706398805376, 0.0, 1.4429868565811335, 0.0, 0.8365611459562632, 0.0, 0.9906781827703575, 0.0, 0.2740006565516565, 0.32417459484662636, 0.0, 0.5694311304040292, 0.0], 27: [0.16867159608431392, 0.28075587888924536, 0.14838699384101486, 0.5724050009841515, 0.23191698548630343, 1.2800265819729193, 0.0, 0.0, 0.5990603364794352, 0.46147335890455604, 0.0, 0.6825233914180157, 0.35028498050872675, 0.3682114336124014, 0.1627295813782286, 0.31131268887728375, 0.36111822946493366, 0.269967158187307, 1.1306738450819123, 0.7001706398805376, 0.25025061885737715, 0.4809956188603778, 0.0, 0.33462445838250526, 0.0, 0.0, 0.18217181807521396, 0.548001313103313, 0.43223279312883517, 0.22152574092357408, 0.0, 0.42851444744264067], 28: [0.0, 0.0, 0.0, 0.0, 0.0, 0.0, 0.33293717558716135, 0.0, 0.0, 0.0, 0.0, 0.0, 0.0, 0.0, 0.3254591627564572, 0.0, 0.0, 0.0, 0.0, 0.0, 0.0, 0.0, 0.0, 0.16731222919125263, 0.0, 0.0, 0.0, 0.0, 0.0, 0.0, 0.0, 0.0], 29: [13.156384494576487, 10.949479276680568, 17.65805226708077, 8.872277515254348, 16.92993994050015, 12.800265819729193, 13.650424199073615, 9.38417474060184, 13.41895153713935, 10.152413895900233, 13.08270051652865, 10.92037426268825, 13.19406759916204, 13.010137320971516, 13.343825673014745, 12.763820243968635, 14.625288293329813, 12.958423592990735, 12.026258170416703, 12.136291091262652, 12.262280324011481, 13.22737951866039, 11.53024870031773, 13.21766610610896, 15.827081768845984, 11.88813819324429, 15.302432718317974, 11.782028231721231, 12.210576405889594, 15.506801864650186, 12.147864115285957, 13.712462318164501], 30: [59.54107341776282, 63.31045068952483, 48.374159992170846, 66.1127776136695, 50.09406886504154, 60.673259985516374, 41.95008412398233, 61.34045928003153, 56.311671629066915, 48.22396600552611, 48.33713559264796, 49.48294587780613, 48.57285063054344, 35.225560482253066, 40.03147701904423, 51.677906353629105, 46.764810715708904, 39.01025435806586, 50.777534497314974, 41.776848179538746, 55.55563738633773, 53.15001588407175, 39.98788379046362, 48.52054646546327, 52.08912987215134, 47.35441713642309, 51.736796333360765, 50.55312113378063, 44.519977692270025, 54.7168580081228, 46.123921562726366, 46.27956032380519], 31: [3.0360887295176506, 1.2634014550016042, 2.0774179137742084, 1.7172150029524542, 2.7830038258356415, 1.0240212655783354, 1.997623053522968, 0.4577646214927726, 1.4377448075506447, 0.9229467178091121, 1.2394137331448196, 0.8531542392725195, 1.6346632423740581, 0.9818971562997371, 2.9291324648081147, 1.0895944110704932, 1.986150262057135, 0.9448850536555745, 1.541827970566244, 1.1669510664675626, 1.7517543320016402, 0.9619912377207556, 1.2266222021614606, 1.338497833530021, 1.8030852648052387, 1.3869494558785005, 2.0038899988273537, 0.8220019696549695, 1.8369893707975495, 2.2152574092357407, 0.7592415072053723, 2.3568294609345237], 32: [0.6746863843372557, 0.42113381833386804, 0.4451609815230446, 0.0, 1.3915019129178208, 1.536031898367503, 0.8323429389679033, 0.686646932239159, 1.4377448075506447, 2.30736679452278, 1.3771263701609107, 0.0, 0.5838083008478778, 0.8591600117622699, 0.3254591627564572, 0.15565634443864187, 0.18055911473246683, 0.269967158187307, 1.952982096050576, 0.46678042658702507, 0.7507518565721315, 0.0, 0.49064888086458425, 0.8365611459562632, 0.8013712288023284, 0.396271273108143, 1.6395463626769258, 0.548001313103313, 0.43223279312883517, 0.22152574092357408, 0.7592415072053723, 0.21425722372132033], 33: [1.5180443647588253, 0.14037793944462268, 1.9290309199331934, 1.144810001968303, 2.087252869376731, 1.0240212655783354, 1.6646858779358067, 0.2288823107463863, 0.9584965383670965, 0.692210038356834, 1.5148390071770017, 0.5118925435635117, 1.2843782618653314, 0.24547428907493427, 1.7900253951605145, 0.46696903331592565, 2.5278276062545353, 0.1349835790936535, 1.2334623764529953, 0.23339021329351253, 2.5025061885737716, 0.4809956188603778, 3.1892177256197978, 0.501936687573758, 2.203770879206403, 0.0, 1.4573745446017117, 0.2740006565516565, 0.9725237845398792, 1.9937316683121669, 0.37962075360268616, 1.285543342327922], 34: [0.0, 5.75549551722953, 2.225804907615223, 0.28620250049207574, 0.23191698548630343, 2.3040478475512547, 1.1652801145550646, 2.746587728956636, 0.7188724037753224, 9.921677216447955, 0.5508505480643643, 3.412616957090078, 0.4670466406783023, 2.2092686016744083, 1.1391070696476002, 9.183724321879872, 0.7222364589298673, 2.159737265498456, 0.2055770627421659, 0.7001706398805376, 1.2512530942868858, 1.9239824754415111, 0.9812977617291685, 2.844307896251295, 0.4006856144011642, 2.575763275202929, 0.18217181807521396, 6.3020151006881, 4.646502526134978, 1.1076287046178703, 1.3286726376094016, 0.42851444744264067], 35: [0.0, 0.5615117577784907, 0.0, 0.0, 1.3915019129178208, 0.25600531639458385, 0.8323429389679033, 0.2288823107463863, 1.916993076734193, 0.23073667945227802, 1.3771263701609107, 0.0, 0.5838083008478778, 0.24547428907493427, 0.0, 0.0, 0.7222364589298673, 0.4049507372809605, 2.980867409761405, 0.7001706398805376, 0.0, 0.0, 0.0, 0.16731222919125263, 0.0, 0.0, 0.0, 0.0, 0.0, 0.0, 0.0, 0.0], 36: [0.0, 0.14037793944462268, 0.0, 0.8586075014762271, 0.0, 1.2800265819729193, 0.16646858779358067, 0.0, 2.2764292786218543, 1.15368339726139, 0.0, 1.1944159349815273, 0.5838083008478778, 0.9818971562997371, 0.0, 0.46696903331592565, 0.0, 0.809901474561921, 1.0278853137108295, 1.8671217063481003, 0.0, 0.7214934282905667, 0.0, 0.0, 0.0, 0.9906781827703575, 0.0, 0.2740006565516565, 0.0, 0.0, 0.9490518840067154, 0.0], 37: [0.0, 0.28075587888924536, 0.14838699384101486, 0.0, 0.0, 0.25600531639458385, 0.0, 0.2288823107463863, 0.3594362018876612, 0.23073667945227802, 0.6885631850804553, 0.0, 0.8173316211870291, 0.12273714453746713, 0.0, 0.0, 0.0, 0.0, 0.2055770627421659, 0.0, 0.0, 0.0, 0.0, 0.16731222919125263, 0.0, 0.1981356365540715, 0.0, 0.13700032827582825, 0.10805819828220879, 0.0, 0.37962075360268616, 0.0], 38: [0.8433579804215697, 1.2634014550016042, 1.0387089568871042, 1.4310125024603786, 0.9276679419452137, 2.048042531156671, 0.6658743511743227, 0.686646932239159, 2.2764292786218543, 1.15368339726139, 0.13771263701609107, 2.900724413526566, 0.9340932813566046, 2.2092686016744083, 1.1391070696476002, 1.556563444386419, 0.9027955736623341, 1.7547865282174955, 2.2613476901638245, 2.100511919641613, 0.25025061885737715, 1.9239824754415111, 0.24532444043229212, 1.8404345211037791, 0.4006856144011642, 1.981356365540715, 0.5465154542256419, 0.6850016413791413, 0.540290991411044, 0.44305148184714815, 1.7082933912120877, 0.42851444744264067], 39: [3.373431921686279, 0.8422676366677361, 1.9290309199331934, 2.5758225044286815, 2.087252869376731, 1.2800265819729193, 2.663497404697291, 2.288823107463863, 2.8754896151012894, 3.2303135123318922, 3.1673906513700945, 1.8769393263995429, 2.685518183900238, 2.2092686016744083, 1.627295813782286, 2.49050151101827, 2.3472684915220685, 2.8346551609667237, 2.3641362215349075, 2.3339021329351253, 3.003007426288526, 2.885973713162267, 2.453244404322921, 2.5096834378687896, 1.2020568432034924, 2.575763275202929, 1.8217181807521396, 2.0550049241374237, 1.9450475690797584, 1.5506801864650186, 3.6063971592255184, 2.571086684655844], 40: [19.397233549696104, 14.739683641685382, 17.9548262547628, 13.451517523127558, 16.698022955013847, 15.36031898367503, 14.81570431362868, 18.76834948120368, 16.534065286832416, 10.613887254804789, 14.735252160721744, 14.503622067632833, 14.478445861027371, 18.042360247007668, 20.178468090900346, 14.631696377232338, 15.166965637527213, 18.627733914924182, 17.16568473897085, 16.33731493054588, 20.270300127447552, 20.682811610996247, 17.908684151557324, 25.93339552464416, 23.640451249668686, 22.58746256716415, 20.038899988273535, 16.30303906482356, 14.155623974969352, 17.057482051115205, 15.564450897710131, 18.42612124003355], 41: [0.8433579804215697, 0.5615117577784907, 0.8903219630460892, 1.4310125024603786, 1.1595849274315173, 1.2800265819729193, 1.4982172901422262, 1.1444115537319315, 0.8386844710712094, 0.692210038356834, 0.9639884591126374, 0.8531542392725195, 0.8173316211870291, 0.49094857814986853, 0.48818874413468577, 0.7782817221932095, 0.5416773441974004, 1.349835790936535, 1.74740503330841, 0.9335608531740501, 0.0, 1.4429868565811335, 0.49064888086458425, 0.8365611459562632, 0.4006856144011642, 0.792542546216286, 0.7286872723008558, 0.2740006565516565, 0.8644655862576703, 0.8861029636942963, 0.5694311304040292, 0.642771671163961], 42: [15.349115243672568, 15.441573338908494, 14.245151408737428, 17.172150029524545, 15.074604056609724, 16.896350882042533, 16.313921603770908, 16.479526373739812, 14.856696344689995, 14.305674126041238, 22.30944719660675, 20.13444004683146, 15.062254161875249, 13.992034477271252, 12.530177766123602, 18.056135954882457, 15.166965637527213, 16.19802949123842, 14.287605860580529, 12.136291091262652, 11.011027229724595, 16.353851041252845, 14.96479086636982, 14.388851710447728, 16.628452997648314, 15.256444014663504, 15.484604536393187, 16.166038736547733, 14.155623974969352, 13.956121678185168, 14.425588636902074, 16.712063450262985], 43: [11.638340129817662, 10.107211640012833, 9.348380611983936, 10.875695018698877, 9.50859640493844, 10.496217972177938, 8.989303740853357, 9.613057051348225, 8.14722057612032, 10.383150575352511, 9.2267466800781, 9.725958327706723, 8.056554551700716, 9.082548695772568, 8.299208650289659, 9.806349699634438, 9.02795573662334, 10.123768432024013, 8.531448103799883, 8.635437891859965, 6.756766709149184, 10.341405805498123, 8.341030974697933, 8.19829923037138, 8.815083516825611, 8.12356109871693, 8.926419085685485, 9.042021666204665, 8.752714060858912, 8.63950389601939, 9.490518840067153, 8.998803396295454], 44: [15.180443647588254, 15.16081746001925, 13.948377421055397, 16.313542528048316, 16.234188984041243, 11.008228604967105, 13.983361374660777, 8.239763186869906, 12.819891200659915, 13.382727408232125, 9.08903404306201, 9.725958327706723, 10.158264434753075, 7.732440105860429, 13.181096091636515, 11.5185694884595, 10.472428654483075, 9.583834115649399, 11.820681107674538, 13.303242157730216, 10.010024754295086, 10.8224014243585, 11.53024870031773, 12.883041647726454, 13.422968082438999, 11.095595647028004, 11.658996356813693, 9.590022979307978, 10.157470638527627, 13.513070196338019, 9.30070846326581, 14.140976765607142], 45: [1.5180443647588253, 0.9826455761123587, 2.6709658891382677, 0.5724050009841515, 1.623418898404124, 0.5120106327891677, 2.663497404697291, 1.1444115537319315, 1.6773689421424187, 0.23073667945227802, 1.1017010961287286, 1.1944159349815273, 0.9340932813566046, 1.4728457344496055, 2.2782141392952004, 2.3348451665796284, 1.4444729178597346, 2.2947208445921095, 1.439039439195161, 0.23339021329351253, 2.2522555697163944, 1.9239824754415111, 0.24532444043229212, 0.8365611459562632, 2.003428072005821, 2.9720345483110724, 1.4573745446017117, 2.7400065655165653, 2.0531057673619673, 0.8861029636942963, 1.1388622608080583, 0.642771671163961], 46: [0.8433579804215697, 1.5441573338908494, 0.8903219630460892, 2.289620003936606, 0.46383397097260687, 1.536031898367503, 0.8323429389679033, 1.6021761752247041, 1.1981206729588705, 1.384420076713668, 0.27542527403218214, 1.3650467828360313, 0.8173316211870291, 2.086531457136941, 0.9763774882693715, 2.0235324777023447, 0.7222364589298673, 2.69967158187307, 0.9250967823397465, 1.6337314930545879, 1.2512530942868858, 0.9619912377207556, 0.49064888086458425, 1.5058100627212738, 1.6027424576046567, 2.1794920020947863, 1.2752027265264978, 1.2330029544824543, 0.8644655862576703, 1.1076287046178703, 1.3286726376094016, 0.42851444744264067], 47: [77.08291941053147, 70.75048148008983, 53.419317782765354, 59.24391760185967, 57.97924637157586, 63.48931846585679, 51.27232504042285, 64.54481163048094, 57.749416436617565, 55.607539747999006, 58.803296005870884, 60.40332014049438, 51.49189213478283, 41.23968056458895, 49.63252232035972, 54.16840786464738, 49.65375655142837, 46.29936762912315, 54.78628722078721, 48.54516436505061, 60.81090038234265, 59.16246111982647, 46.6116436821355, 57.72271907098216, 54.69358636575891, 54.091028779261514, 56.655435421391545, 54.66313098205548, 50.67929499435593, 56.267538194587814, 52.76728475077337, 48.63638978473971], 48: [0.16867159608431392, 6.457385214452644, 0.2967739876820297, 14.310125024603787, 1.1595849274315173, 11.008228604967105, 1.1652801145550646, 8.239763186869906, 3.953798220764273, 11.075360613709345, 0.6885631850804553, 9.21406578414321, 1.05085494152618, 6.382331515948291, 0.813647906891143, 6.848879155300243, 1.0833546883948009, 6.884162533776329, 3.803175660730069, 15.63714429066534, 0.25025061885737715, 14.189370756381145, 0.0, 9.536797063901401, 1.0017140360029104, 10.897460010473932, 0.9108590903760698, 7.398017726894726, 4.430386129570561, 0.44305148184714815, 11.578432984881927, 1.285543342327922], 49: [4.554133094276477, 1.2634014550016042, 4.006448833707402, 0.0, 6.02984162264389, 0.7680159491837515, 2.8299659924908713, 0.4577646214927726, 2.2764292786218543, 0.23073667945227802, 2.065689555241366, 1.0237850871270233, 2.685518183900238, 0.49094857814986853, 3.905509953077486, 0.6226253777545675, 2.3472684915220685, 1.4848193700301884, 2.4669247529059906, 0.46678042658702507, 2.2522555697163944, 0.0, 1.962595523458337, 0.501936687573758, 2.4041136864069848, 0.396271273108143, 2.9147490892034233, 0.2740006565516565, 1.9450475690797584, 2.2152574092357407, 0.0, 2.3568294609345237], 50: [3.2047603256019648, 1.9652911522247174, 2.374191901456238, 1.144810001968303, 5.566007651671283, 0.25600531639458385, 2.1640916413165487, 0.9155292429855452, 2.8754896151012894, 0.9229467178091121, 2.8919653773379124, 0.6825233914180157, 2.568756523730663, 0.49094857814986853, 2.9291324648081147, 0.7782817221932095, 3.069504950451936, 0.809901474561921, 2.4669247529059906, 0.9335608531740501, 3.003007426288526, 0.2404978094301889, 5.151813249078135, 1.003873375147516, 3.8065133368110597, 1.3869494558785005, 3.8256081795794934, 0.2740006565516565, 2.3772803622085936, 4.430514818471481, 1.3286726376094016, 3.4281155795411253], 51: [0.0, 1.2634014550016042, 0.0, 0.8586075014762271, 0.23191698548630343, 1.536031898367503, 0.33293717558716135, 0.9155292429855452, 1.1981206729588705, 1.6151567561659461, 0.13771263701609107, 0.5118925435635117, 0.11676166016957558, 0.7364228672248028, 0.0, 0.9339380666318513, 0.0, 0.9448850536555745, 0.7195197195975805, 1.8671217063481003, 0.0, 0.9619912377207556, 0.0, 0.6692489167650105, 0.0, 0.792542546216286, 0.18217181807521396, 0.6850016413791413, 0.43223279312883517, 0.0, 0.5694311304040292, 0.21425722372132033], 52: [2.361402345180395, 1.9652911522247174, 0.8903219630460892, 0.8586075014762271, 0.46383397097260687, 0.25600531639458385, 1.4982172901422262, 2.288823107463863, 2.8754896151012894, 3.6917868712364483, 1.2394137331448196, 2.3888318699630546, 0.35028498050872675, 2.822954324361744, 0.3254591627564572, 3.580095922088763, 0.36111822946493366, 2.8346551609667237, 2.158559158792742, 3.7342434126962005, 0.25025061885737715, 4.809956188603778, 0.24532444043229212, 2.5096834378687896, 1.2020568432034924, 3.7645770945273584, 0.9108590903760698, 2.7400065655165653, 1.8369893707975495, 0.44305148184714815, 3.7962075360268615, 1.285543342327922], 53: [0.6746863843372557, 0.5615117577784907, 0.4451609815230446, 2.00341750344453, 0.23191698548630343, 1.0240212655783354, 0.998811526761484, 0.9155292429855452, 0.47924826918354824, 1.384420076713668, 1.3771263701609107, 0.8531542392725195, 0.5838083008478778, 0.8591600117622699, 0.6509183255129144, 0.7782817221932095, 0.7222364589298673, 0.539934316374614, 1.3362509078240783, 1.6337314930545879, 0.25025061885737715, 1.4429868565811335, 0.0, 0.6692489167650105, 1.0017140360029104, 0.9906781827703575, 1.0930309084512837, 0.41100098482748476, 0.7564073879754616, 0.8861029636942963, 1.1388622608080583, 0.642771671163961], 54: [0.6746863843372557, 0.42113381833386804, 1.187095950728119, 0.0, 0.0, 1.0240212655783354, 0.499405763380742, 0.4577646214927726, 0.3594362018876612, 0.23073667945227802, 0.0, 1.535677630690535, 0.23352332033915116, 1.1046343008372042, 0.813647906891143, 1.245250755509135, 0.5416773441974004, 1.619802949123842, 0.2055770627421659, 0.0, 1.2512530942868858, 0.9619912377207556, 0.24532444043229212, 1.1711856043387685, 0.2003428072005821, 1.585085092432572, 0.18217181807521396, 0.548001313103313, 0.43223279312883517, 0.44305148184714815, 0.5694311304040292, 0.21425722372132033], 55: [1.1807011725901975, 1.5441573338908494, 3.1161268706613123, 2.5758225044286815, 4.174505738753462, 2.8160584803404225, 2.1640916413165487, 5.035410836420499, 3.2349258169889508, 2.5381034739750583, 2.6165401033057303, 3.583247804944582, 2.802279844069814, 1.4728457344496055, 3.091862046186343, 2.3348451665796284, 1.6250320325922014, 2.2947208445921095, 2.878078878390322, 3.7342434126962005, 3.7537592828606576, 2.1644802848717, 3.43454216605209, 3.1789323546338, 3.8065133368110597, 3.368305821419215, 2.1860618169025674, 2.0550049241374237, 3.3498041467484727, 4.652040559395056, 3.0369660288214892, 5.356430593033008], 56: [0.0, 2.9479367283370763, 0.0, 6.296455010825666, 1.3915019129178208, 5.8881222770754285, 0.6658743511743227, 4.806528525674112, 1.7971810094383058, 2.5381034739750583, 0.6885631850804553, 4.095140348508093, 0.35028498050872675, 2.086531457136941, 0.6509183255129144, 2.646157855456912, 0.36111822946493366, 2.8346551609667237, 1.541827970566244, 5.834755332337814, 0.25025061885737715, 4.569458379173589, 0.24532444043229212, 3.6808690422075583, 0.4006856144011642, 3.96271273108143, 0.0, 1.9180045958615957, 2.161163965644176, 0.22152574092357408, 3.9860179128282045, 0.42851444744264067], 57: [1.6867159608431395, 0.5615117577784907, 0.7419349692050744, 0.8586075014762271, 0.46383397097260687, 3.072063796735006, 0.998811526761484, 3.2043523504494082, 1.5575568748465318, 5.076206947950117, 1.9279769182252748, 2.3888318699630546, 0.9340932813566046, 1.4728457344496055, 0.1627295813782286, 1.7122197888250608, 1.2639138031272676, 1.7547865282174955, 0.7195197195975805, 2.567292346228638, 0.0, 3.8479649508830223, 0.24532444043229212, 0.8365611459562632, 1.0017140360029104, 1.981356365540715, 0.7286872723008558, 0.9590022979307978, 1.1886401811042968, 0.44305148184714815, 3.6063971592255184, 0.42851444744264067], 58: [0.16867159608431392, 0.7018896972231133, 0.8903219630460892, 4.293037507381136, 2.087252869376731, 2.048042531156671, 1.997623053522968, 2.975470039703022, 2.03680514403008, 1.6151567561659461, 2.8919653773379124, 1.8769393263995429, 1.1676166016957557, 1.3501085899121383, 2.1154845579169717, 2.1791888221409863, 0.7222364589298673, 2.159737265498456, 1.541827970566244, 3.034072772815663, 0.0, 3.3669693320226446, 1.2266222021614606, 1.8404345211037791, 1.8030852648052387, 3.170170184865144, 1.8217181807521396, 1.9180045958615957, 2.0531057673619673, 1.5506801864650186, 2.4675348984174597, 2.1425722372132032], 59: [0.16867159608431392, 1.4037793944462267, 0.0, 3.148227505412833, 0.46383397097260687, 2.8160584803404225, 0.33293717558716135, 1.373293864478318, 0.9584965383670965, 1.8458934356182242, 0.8262758220965464, 1.1944159349815273, 0.5838083008478778, 0.7364228672248028, 0.1627295813782286, 0.31131268887728375, 0.18055911473246683, 0.269967158187307, 0.6167311882264976, 0.46678042658702507, 0.0, 0.2404978094301889, 0.24532444043229212, 0.8365611459562632, 0.2003428072005821, 1.1888138193244289, 0.0, 0.8220019696549695, 0.32417459484662636, 0.0, 1.3286726376094016, 0.21425722372132033], 60: [0.0, 0.42113381833386804, 0.0, 0.0, 2.3191698548630346, 0.25600531639458385, 0.33293717558716135, 0.0, 0.9584965383670965, 0.46147335890455604, 2.6165401033057303, 0.0, 3.035803164408965, 0.24547428907493427, 0.1627295813782286, 0.0, 0.36111822946493366, 0.4049507372809605, 2.3641362215349075, 0.7001706398805376, 0.0, 0.0, 0.0, 0.8365611459562632, 0.0, 0.0, 0.0, 0.13700032827582825, 0.0, 0.0, 0.37962075360268616, 0.0], 61: [1.6867159608431395, 0.5615117577784907, 1.9290309199331934, 0.28620250049207574, 1.1595849274315173, 1.7920372147620869, 2.9964345802844523, 0.4577646214927726, 1.3179327402547576, 0.23073667945227802, 0.9639884591126374, 2.7300935656720626, 1.5179015822044826, 3.682114336124014, 1.7900253951605145, 2.0235324777023447, 1.986150262057135, 3.1046223191540303, 1.439039439195161, 0.0, 3.003007426288526, 0.7214934282905667, 3.679866606484382, 2.1750589794862845, 3.8065133368110597, 1.1888138193244289, 2.1860618169025674, 2.3290055806890804, 2.2692221639263845, 3.101360372930037, 2.0879141448147736, 2.571086684655844], 62: [1.0120295765058835, 0.7018896972231133, 1.6322569322511635, 1.144810001968303, 3.9425887532671586, 0.5120106327891677, 3.4958403436651944, 1.6021761752247041, 4.433046489947821, 1.8458934356182242, 5.921643391691916, 0.8531542392725195, 3.9698964457655697, 1.3501085899121383, 2.766402883429886, 0.9339380666318513, 5.597332556706472, 0.6749178954682675, 3.49481006661682, 1.8671217063481003, 0.5005012377147543, 1.2024890471509444, 2.9438932851875057, 1.1711856043387685, 5.409255794415716, 0.5944069096622144, 4.0077799976547075, 0.548001313103313, 1.4047565776687143, 3.7659375957007595, 1.1388622608080583, 5.784945040475649], 63: [0.6746863843372557, 1.2634014550016042, 2.0774179137742084, 1.4310125024603786, 0.23191698548630343, 2.3040478475512547, 0.8323429389679033, 2.288823107463863, 1.916993076734193, 1.8458934356182242, 0.27542527403218214, 3.07135526138107, 0.35028498050872675, 2.5774800352868095, 0.6509183255129144, 1.8678761332637026, 0.36111822946493366, 1.4848193700301884, 0.9250967823397465, 1.1669510664675626, 1.0010024754295086, 0.9619912377207556, 0.49064888086458425, 1.003873375147516, 0.6010284216017462, 1.3869494558785005, 0.18217181807521396, 1.2330029544824543, 1.2966983793865055, 1.1076287046178703, 2.2777245216161166, 0.42851444744264067], 64: [5.228819478613732, 1.5441573338908494, 0.7419349692050744, 3.148227505412833, 1.623418898404124, 0.0, 1.1652801145550646, 0.0, 1.4377448075506447, 1.384420076713668, 3.3051032883861855, 0.0, 1.1676166016957557, 0.3682114336124014, 1.3018366510258288, 0.31131268887728375, 1.0833546883948009, 0.539934316374614, 0.4111541254843318, 0.0, 2.2522555697163944, 0.0, 0.9812977617291685, 0.0, 2.4041136864069848, 0.1981356365540715, 2.5504054530529956, 0.0, 0.540290991411044, 1.7722059273885926, 0.0, 1.7140577897705627], 65: [54.81826872740203, 56.291553717293695, 47.038677047601716, 41.49936257135098, 47.3110650392059, 43.520903787079256, 40.118929658252945, 41.19881593434953, 42.29365975544813, 35.533448635650814, 41.589216378859504, 41.633926876498954, 37.013446273755456, 35.1028233377156, 37.5905332983708, 39.53671148741504, 37.19517763488817, 35.90563203891183, 35.77040891713686, 28.706996235102043, 47.79786820175904, 38.960645127690604, 39.006586028734446, 38.31450048479685, 38.66616178971234, 38.240177854935794, 39.34911270424622, 38.36009191723191, 37.172020209079825, 43.64057096194409, 32.26776405622832, 38.56630026983766], 66: [0.5060147882529418, 2.3864249705585854, 0.2967739876820297, 4.8654425083652875, 1.1595849274315173, 4.864101011497093, 0.8323429389679033, 5.264293147166885, 2.156617211325967, 5.3069436274023944, 0.6885631850804553, 3.241986109235574, 0.5838083008478778, 3.804851480661481, 0.48818874413468577, 3.891408610966047, 0.7222364589298673, 3.239605898247684, 1.1306738450819123, 8.635437891859965, 0.5005012377147543, 7.214934282905667, 0.7359733212968764, 3.3462445838250527, 0.6010284216017462, 4.953390913851787, 0.3643436361504279, 2.7400065655165653, 1.8369893707975495, 0.0, 4.365638666430891, 0.21425722372132033], 67: [0.16867159608431392, 1.1230235155569814, 0.14838699384101486, 2.862025004920757, 0.0, 2.3040478475512547, 0.6658743511743227, 2.288823107463863, 0.7188724037753224, 3.6917868712364483, 0.4131379110482732, 2.900724413526566, 0.23352332033915116, 2.5774800352868095, 0.48818874413468577, 2.1791888221409863, 0.0, 2.2947208445921095, 1.0278853137108295, 3.5008531994026884, 0.25025061885737715, 5.531449616894345, 0.24532444043229212, 3.1789323546338, 0.4006856144011642, 4.160848367635501, 0.0, 2.4660059089649087, 1.1886401811042968, 0.0, 3.4165867824241754, 0.21425722372132033], 68: [0.33734319216862785, 0.28075587888924536, 1.0387089568871042, 0.0, 0.0, 1.7920372147620869, 1.1652801145550646, 0.9155292429855452, 0.3594362018876612, 0.23073667945227802, 0.0, 1.1944159349815273, 0.35028498050872675, 1.841057168062007, 1.1391070696476002, 0.31131268887728375, 0.5416773441974004, 0.809901474561921, 0.3083655941132488, 0.0, 0.5005012377147543, 0.2404978094301889, 0.0, 1.5058100627212738, 0.0, 1.3869494558785005, 0.0, 0.6850016413791413, 0.540290991411044, 0.6645772227707223, 0.9490518840067154, 0.0], 69: [0.5060147882529418, 4.632472001672548, 0.14838699384101486, 9.730885016730575, 0.9276679419452137, 10.752223288572521, 0.33293717558716135, 6.4087047008988165, 0.23962413459177412, 5.537680306854672, 0.13771263701609107, 5.118925435635117, 0.23352332033915116, 3.0684286134366783, 0.0, 3.2687832332114795, 0.0, 3.3745894773413374, 0.0, 6.068145545631326, 0.7507518565721315, 5.531449616894345, 0.0, 3.1789323546338, 0.4006856144011642, 3.5664414579732866, 0.0, 3.288007878619878, 2.9175713536196373, 0.22152574092357408, 4.175828289629547, 0.21425722372132033], 70: [1.0120295765058835, 0.28075587888924536, 0.2967739876820297, 0.0, 0.0, 1.0240212655783354, 1.3317487023486454, 0.9155292429855452, 0.8386844710712094, 0.23073667945227802, 1.2394137331448196, 0.17063084785450391, 1.05085494152618, 0.8591600117622699, 0.6509183255129144, 0.7782817221932095, 1.0833546883948009, 2.159737265498456, 0.9250967823397465, 0.0, 0.5005012377147543, 0.2404978094301889, 0.49064888086458425, 1.003873375147516, 1.2020568432034924, 0.396271273108143, 0.5465154542256419, 0.548001313103313, 0.32417459484662636, 0.8861029636942963, 0.0, 0.42851444744264067], 71: [1.8553875569274534, 0.14037793944462268, 2.225804907615223, 0.0, 2.3191698548630346, 0.0, 0.998811526761484, 0.0, 0.9584965383670965, 0.23073667945227802, 3.0296780143540034, 0.6825233914180157, 3.1525648245785405, 0.7364228672248028, 3.254591627564572, 0.31131268887728375, 3.4306231799168696, 0.539934316374614, 0.6167311882264976, 0.23339021329351253, 4.504511139432789, 0.0, 2.207919963890629, 0.0, 1.6027424576046567, 0.5944069096622144, 3.2790927253538515, 0.548001313103313, 1.7289311725153407, 2.879834632006463, 0.5694311304040292, 2.999601132098485], 72: [6.4095206512039296, 0.9826455761123587, 4.748383802912476, 1.144810001968303, 5.102173680698676, 1.2800265819729193, 6.159337748362485, 2.5177054182102494, 3.5943620188766117, 0.46147335890455604, 5.0953675695953695, 3.412616957090078, 4.20341976610472, 2.5774800352868095, 6.183724092372686, 2.646157855456912, 6.319569015636339, 1.889770107311149, 2.980867409761405, 0.23339021329351253, 8.508521041150823, 1.4429868565811335, 4.661164368213551, 0.8365611459562632, 7.412683866421537, 0.9906781827703575, 5.465154542256419, 0.8220019696549695, 4.430386129570561, 5.981195004936501, 1.1388622608080583, 4.7136589218690474], 73: [0.0, 0.0, 0.0, 0.0, 0.0, 0.25600531639458385, 0.0, 0.0, 0.0, 0.23073667945227802, 0.0, 0.17063084785450391, 0.5838083008478778, 0.0, 0.0, 0.31131268887728375, 0.0, 0.0, 0.0, 0.0, 0.0, 0.2404978094301889, 0.0, 0.501936687573758, 0.0, 0.0, 0.0, 0.0, 0.0, 0.0, 0.0, 0.0], 74: [0.6746863843372557, 1.9652911522247174, 0.0, 1.144810001968303, 0.23191698548630343, 0.5120106327891677, 0.33293717558716135, 0.4577646214927726, 0.0, 0.0, 0.0, 0.34126169570900783, 0.0, 0.0, 0.0, 1.4009070999477768, 0.18055911473246683, 0.1349835790936535, 0.0, 0.23339021329351253, 0.25025061885737715, 0.2404978094301889, 0.0, 0.16731222919125263, 0.0, 0.0, 0.0, 0.13700032827582825, 0.43223279312883517, 0.22152574092357408, 0.18981037680134308, 0.21425722372132033], 75: [13.831070878913742, 2.246047031113963, 5.935479753640595, 0.8586075014762271, 6.261758608130193, 0.0, 5.326994809394582, 0.0, 2.7556775478054023, 0.692210038356834, 4.131379110482732, 0.8531542392725195, 5.721321348309203, 2.086531457136941, 7.811019906154972, 1.0895944110704932, 7.583482818763606, 1.349835790936535, 4.8310609744408985, 0.7001706398805376, 12.262280324011481, 1.4429868565811335, 8.831679855562516, 0.6692489167650105, 9.816797552828522, 0.5944069096622144, 8.74424726761027, 0.6850016413791413, 4.754560724417187, 14.842224641879463, 1.1388622608080583, 13.28394787072186], 76: [2.361402345180395, 1.6845352733354721, 2.0774179137742084, 1.144810001968303, 0.6957509564589104, 0.25600531639458385, 1.3317487023486454, 0.9155292429855452, 0.9584965383670965, 0.692210038356834, 2.8919653773379124, 0.5118925435635117, 1.6346632423740581, 0.6136857226873357, 1.4645662324040574, 0.46696903331592565, 1.6250320325922014, 0.9448850536555745, 0.5139426568554147, 0.46678042658702507, 1.0010024754295086, 0.9619912377207556, 0.9812977617291685, 0.6692489167650105, 2.4041136864069848, 0.396271273108143, 2.0038899988273537, 0.2740006565516565, 0.9725237845398792, 2.2152574092357407, 0.37962075360268616, 1.4998005660492424], 77: [70.1673839710746, 57.274199293406056, 53.27093078892434, 64.39556261071704, 73.51768439915818, 56.83318023959762, 60.761034544656944, 56.30504844361103, 56.790919898250465, 51.454279517858, 67.34147950086853, 54.772502161295755, 58.84787672546609, 43.44894916626336, 60.04721552856635, 52.14487538694503, 61.39009900903872, 41.43995878175162, 55.403018409013704, 51.81262735115978, 58.30839419376888, 56.2764874066642, 59.1231901441824, 51.03022990333206, 66.31346918339267, 50.52458732128823, 59.02366905636932, 43.56610439171339, 50.895411390920344, 61.58415597675359, 41.37866214269279, 61.92033765546157], 78: [2.698745537349023, 3.228692607226322, 1.3354829445691339, 3.7206325063969845, 0.9276679419452137, 2.3040478475512547, 1.3317487023486454, 2.5177054182102494, 2.156617211325967, 2.076630115070502, 3.7182411994344586, 2.3888318699630546, 1.5179015822044826, 1.841057168062007, 3.254591627564572, 1.4009070999477768, 3.069504950451936, 1.349835790936535, 1.3362509078240783, 1.6337314930545879, 1.7517543320016402, 1.6834846660113223, 1.2266222021614606, 1.338497833530021, 4.6078845656133876, 1.585085092432572, 3.0969209072786374, 1.096002626206626, 1.7289311725153407, 3.7659375957007595, 0.9490518840067154, 4.070887250705086], 79: [0.0, 0.9826455761123587, 0.0, 3.7206325063969845, 0.23191698548630343, 1.2800265819729193, 0.16646858779358067, 1.1444115537319315, 1.6773689421424187, 2.30736679452278, 0.27542527403218214, 2.2182010221085506, 0.4670466406783023, 1.4728457344496055, 0.3254591627564572, 1.556563444386419, 0.18055911473246683, 1.4848193700301884, 0.10278853137108294, 2.3339021329351253, 0.25025061885737715, 1.6834846660113223, 0.24532444043229212, 1.6731222919125264, 0.2003428072005821, 1.585085092432572, 0.18217181807521396, 0.8220019696549695, 0.540290991411044, 0.22152574092357408, 2.0879141448147736, 0.42851444744264067], 80: [48.57741967228241, 55.168530201736715, 47.780612016806785, 26.616832545763042, 36.17904973586334, 32.51267518211215, 35.79074637561985, 39.138875137632056, 55.23336302340393, 35.533448635650814, 52.88165261417897, 36.34437059300933, 43.43533758308212, 25.529326063793164, 29.779513392215833, 37.668835354151334, 39.00076878221283, 28.481535188760887, 45.43253086601866, 22.63885068947072, 61.81190285777216, 34.15068893908683, 38.761261588302155, 30.785450171190487, 48.88364495694203, 33.28678694108401, 48.63987542608213, 37.94909093240443, 34.03833245889577, 47.62803429856843, 33.0270055634337, 39.423329164722944], 81: [1.1807011725901975, 0.14037793944462268, 0.2967739876820297, 0.0, 0.23191698548630343, 1.536031898367503, 0.998811526761484, 1.373293864478318, 0.7188724037753224, 0.0, 0.8262758220965464, 1.1944159349815273, 0.5838083008478778, 1.2273714453746714, 0.9763774882693715, 0.7782817221932095, 0.9027955736623341, 2.69967158187307, 0.6167311882264976, 0.23339021329351253, 0.5005012377147543, 0.4809956188603778, 0.49064888086458425, 1.338497833530021, 1.2020568432034924, 1.585085092432572, 0.5465154542256419, 0.13700032827582825, 0.8644655862576703, 1.3291544455414446, 0.9490518840067154, 0.8570288948852813], 82: [0.8433579804215697, 1.2634014550016042, 0.2967739876820297, 1.144810001968303, 0.46383397097260687, 0.0, 0.0, 0.4577646214927726, 0.23962413459177412, 0.23073667945227802, 0.0, 0.6825233914180157, 0.0, 0.24547428907493427, 1.1391070696476002, 0.15565634443864187, 0.0, 0.1349835790936535, 0.0, 0.7001706398805376, 0.7507518565721315, 0.0, 0.0, 0.0, 0.0, 0.1981356365540715, 0.18217181807521396, 0.13700032827582825, 0.21611639656441758, 0.0, 0.0, 0.21425722372132033], 83: [6.072177459035301, 3.930582304449435, 4.006448833707402, 3.7206325063969845, 5.102173680698676, 3.8400797459187577, 4.1617146948395165, 5.493175457913272, 2.635865480509515, 3.4610501917841705, 6.610206576772371, 4.436402044217101, 2.10170988305236, 3.9275886251989482, 7.485560743398515, 3.580095922088763, 5.958450786171405, 3.239605898247684, 3.3920215352457372, 4.6678042658702505, 5.505513614862298, 6.733938664045289, 7.114408772536471, 4.182805729781316, 5.80994140881688, 3.96271273108143, 6.193841814557275, 2.7400065655165653, 5.510968112392648, 6.424246486783648, 3.0369660288214892, 7.070488382803571], 84: [2.024059153011767, 1.8249132127800949, 3.858061839866387, 0.28620250049207574, 0.46383397097260687, 1.2800265819729193, 1.8311544657293874, 0.686646932239159, 0.7188724037753224, 1.15368339726139, 0.8262758220965464, 3.07135526138107, 0.7005699610174535, 4.295800058811349, 1.4645662324040574, 4.669690333159257, 1.4444729178597346, 1.889770107311149, 0.3083655941132488, 0.0, 2.752756807431149, 1.2024890471509444, 1.962595523458337, 1.338497833530021, 1.8030852648052387, 1.7832207289866433, 1.6395463626769258, 5.480013131033131, 2.70145495705522, 1.1076287046178703, 0.9490518840067154, 0.0], 85: [3.8794467099392205, 0.0, 4.599996809071461, 0.5724050009841515, 10.204347361397351, 0.7680159491837515, 6.492274923949647, 0.0, 5.391543028314918, 0.23073667945227802, 10.32844777620683, 0.34126169570900783, 5.0207513872917495, 0.49094857814986853, 5.695535348238001, 0.15565634443864187, 7.222364589298673, 0.1349835790936535, 3.700387129358986, 0.46678042658702507, 1.501503713144263, 0.2404978094301889, 4.906488808645842, 0.16731222919125263, 7.813369480822701, 0.0, 5.647326360331633, 0.13700032827582825, 2.8095131553374286, 6.645772227707223, 0.0, 5.570687816754329], 86: [4.048118306023534, 3.509448486115567, 1.9290309199331934, 4.293037507381136, 3.014920811321945, 4.608095695102509, 1.3317487023486454, 4.119881593434953, 0.9584965383670965, 2.768840153427336, 2.4788274662896392, 4.777663739926109, 1.05085494152618, 3.804851480661481, 3.091862046186343, 4.669690333159257, 1.0833546883948009, 3.239605898247684, 0.6167311882264976, 4.6678042658702505, 0.0, 5.531449616894345, 0.9812977617291685, 5.186679104928832, 1.6027424576046567, 6.73661164283843, 1.2752027265264978, 4.521010833102332, 3.3498041467484727, 1.7722059273885926, 5.694311304040292, 1.7140577897705627], 87: [0.0, 0.7018896972231133, 0.0, 0.0, 0.0, 0.0, 0.0, 0.0, 0.0, 0.0, 0.0, 0.0, 0.0, 0.24547428907493427, 0.0, 0.0, 0.18055911473246683, 0.0, 0.0, 0.0, 0.0, 0.4809956188603778, 0.0, 0.0, 0.0, 0.0, 0.0, 0.0, 0.0, 0.0, 0.0, 0.0], 88: [0.0, 4.351716122783303, 0.4451609815230446, 5.437847509349439, 0.46383397097260687, 4.352090378707925, 0.8323429389679033, 2.975470039703022, 1.3179327402547576, 2.768840153427336, 0.27542527403218214, 2.3888318699630546, 0.4670466406783023, 0.9818971562997371, 0.1627295813782286, 1.4009070999477768, 0.36111822946493366, 0.809901474561921, 1.0278853137108295, 3.034072772815663, 0.7507518565721315, 1.9239824754415111, 0.7359733212968764, 2.1750589794862845, 0.2003428072005821, 1.3869494558785005, 0.0, 0.41100098482748476, 0.540290991411044, 0.44305148184714815, 0.9490518840067154, 0.0], 89: [0.16867159608431392, 1.8249132127800949, 0.14838699384101486, 2.289620003936606, 0.9276679419452137, 2.8160584803404225, 0.33293717558716135, 2.5177054182102494, 0.11981206729588706, 2.076630115070502, 0.4131379110482732, 1.3650467828360313, 0.7005699610174535, 1.1046343008372042, 0.3254591627564572, 0.7782817221932095, 0.5416773441974004, 1.7547865282174955, 0.10278853137108294, 1.8671217063481003, 0.25025061885737715, 2.1644802848717, 0.0, 0.8365611459562632, 1.2020568432034924, 0.9906781827703575, 0.0, 1.096002626206626, 0.540290991411044, 0.0, 1.3286726376094016, 0.21425722372132033], 90: [5.228819478613732, 3.6498264255601898, 3.264513864502327, 9.4446825162385, 5.797924637157586, 6.65613822625918, 1.997623053522968, 5.722057768659657, 2.516053413213628, 4.61473358904556, 2.7542527403218213, 4.607032892071605, 2.10170988305236, 3.804851480661481, 1.7900253951605145, 4.202721299843331, 3.069504950451936, 4.049507372809605, 2.2613476901638245, 6.068145545631326, 3.253258045145903, 4.809956188603778, 2.453244404322921, 4.015493500590064, 4.006856144011642, 3.7645770945273584, 3.2790927253538515, 3.288007878619878, 3.890095138159517, 3.7659375957007595, 3.7962075360268615, 3.213858355819805], 91: [4.72280469036079, 1.2634014550016042, 8.161284661255818, 1.4310125024603786, 9.276679419452138, 1.7920372147620869, 4.8275890460138395, 2.746587728956636, 5.391543028314918, 0.692210038356834, 4.544517021531005, 2.900724413526566, 4.553704746613447, 2.3320057462118755, 4.719157859968629, 1.8678761332637026, 5.597332556706472, 2.2947208445921095, 2.878078878390322, 0.46678042658702507, 9.509523516580332, 2.404978094301889, 4.661164368213551, 1.6731222919125264, 4.8082273728139695, 1.1888138193244289, 3.461264543429065, 1.096002626206626, 2.2692221639263845, 5.759669264012926, 3.0369660288214892, 6.42771671163961], 92: [1.0120295765058835, 2.9479367283370763, 0.7419349692050744, 1.144810001968303, 1.8553358838904275, 1.536031898367503, 0.6658743511743227, 0.9155292429855452, 0.3594362018876612, 1.384420076713668, 2.065689555241366, 0.6825233914180157, 0.8173316211870291, 1.5955828789870727, 1.7900253951605145, 1.245250755509135, 1.6250320325922014, 1.2148522118428815, 0.9250967823397465, 0.7001706398805376, 1.2512530942868858, 1.6834846660113223, 1.962595523458337, 1.003873375147516, 1.4023996504040745, 0.792542546216286, 1.2752027265264978, 1.096002626206626, 2.0531057673619673, 1.1076287046178703, 1.3286726376094016, 1.285543342327922], 93: [4.3854614981921625, 1.2634014550016042, 2.6709658891382677, 0.8586075014762271, 3.246837796808248, 0.5120106327891677, 1.4982172901422262, 0.4577646214927726, 1.916993076734193, 0.692210038356834, 2.203402192257457, 0.34126169570900783, 1.401139922034907, 0.24547428907493427, 2.766402883429886, 0.46696903331592565, 2.1667093767896017, 0.9448850536555745, 1.439039439195161, 0.0, 3.5035086640032804, 0.2404978094301889, 2.453244404322921, 0.0, 2.604456493607567, 0.0, 1.8217181807521396, 0.2740006565516565, 1.4047565776687143, 1.5506801864650186, 0.18981037680134308, 1.928315013491883], 94: [28.67417133433337, 25.689162918365952, 24.335466989926438, 26.903035046255116, 32.700294953568786, 27.39256885422047, 24.9702881690371, 27.236994978819972, 23.962413459177412, 23.30440462468008, 24.6505620258803, 26.959673961011617, 24.169663655102145, 24.179217473881025, 26.036733020516575, 27.551172965639612, 22.931007571023287, 24.567011395044936, 22.202322776153917, 22.63885068947072, 18.268295176588534, 27.416750275041533, 18.154008591989616, 28.275766733321696, 21.03599475606112, 27.342717844461866, 17.85283817137097, 23.153055478614977, 20.8552322684663, 20.380368164968814, 20.119899940942364, 19.28315013491883], 95: [2.530073941264709, 0.42113381833386804, 1.7806439260921785, 0.0, 2.087252869376731, 1.0240212655783354, 2.663497404697291, 1.373293864478318, 1.6773689421424187, 1.15368339726139, 1.2394137331448196, 0.6825233914180157, 2.3352332033915113, 1.1046343008372042, 0.813647906891143, 0.7782817221932095, 1.6250320325922014, 1.4848193700301884, 1.2334623764529953, 0.46678042658702507, 0.5005012377147543, 0.7214934282905667, 1.962595523458337, 0.6692489167650105, 1.0017140360029104, 0.5944069096622144, 1.8217181807521396, 1.507003611034111, 0.8644655862576703, 1.3291544455414446, 0.5694311304040292, 1.928315013491883], 96: [0.8433579804215697, 2.667180849447831, 0.14838699384101486, 3.148227505412833, 0.0, 2.8160584803404225, 0.0, 1.8310584859710903, 0.11981206729588706, 1.15368339726139, 0.0, 3.07135526138107, 0.0, 1.1046343008372042, 0.0, 1.4009070999477768, 0.0, 1.079868632749228, 0.10278853137108294, 1.6337314930545879, 0.0, 1.6834846660113223, 0.0, 1.5058100627212738, 0.2003428072005821, 2.575763275202929, 0.0, 0.6850016413791413, 0.9725237845398792, 0.0, 1.1388622608080583, 0.0], 97: [0.33734319216862785, 0.14037793944462268, 0.0, 0.0, 0.0, 0.0, 0.0, 0.0, 0.0, 0.23073667945227802, 0.0, 0.17063084785450391, 0.0, 0.12273714453746713, 0.0, 0.15565634443864187, 0.0, 0.0, 0.0, 0.0, 0.0, 0.0, 0.0, 0.0, 0.0, 0.0, 0.0, 0.0, 0.0, 0.0, 0.0, 0.0], 98: [0.16867159608431392, 0.42113381833386804, 0.8903219630460892, 0.8586075014762271, 3.014920811321945, 1.2800265819729193, 3.4958403436651944, 1.1444115537319315, 3.953798220764273, 2.5381034739750583, 2.4788274662896392, 0.0, 2.568756523730663, 0.24547428907493427, 0.0, 1.0895944110704932, 3.069504950451936, 0.1349835790936535, 3.803175660730069, 0.23339021329351253, 0.0, 0.0, 0.24532444043229212, 0.33462445838250526, 0.0, 0.0, 0.0, 0.41100098482748476, 0.10805819828220879, 0.8861029636942963, 0.0, 0.8570288948852813], 99: [1.3493727686745114, 0.7018896972231133, 1.0387089568871042, 0.5724050009841515, 0.6957509564589104, 0.25600531639458385, 0.8323429389679033, 0.2288823107463863, 0.3594362018876612, 0.692210038356834, 1.3771263701609107, 0.8531542392725195, 0.7005699610174535, 0.3682114336124014, 0.813647906891143, 0.6226253777545675, 0.7222364589298673, 0.4049507372809605, 1.1306738450819123, 0.23339021329351253, 2.2522555697163944, 0.4809956188603778, 1.2266222021614606, 0.8365611459562632, 1.2020568432034924, 0.5944069096622144, 1.8217181807521396, 0.6850016413791413, 1.1886401811042968, 1.3291544455414446, 0.37962075360268616, 1.4998005660492424], 100: [0.33734319216862785, 0.9826455761123587, 1.0387089568871042, 2.862025004920757, 1.623418898404124, 3.072063796735006, 0.33293717558716135, 1.8310584859710903, 0.8386844710712094, 2.076630115070502, 0.8262758220965464, 2.7300935656720626, 0.4670466406783023, 1.5955828789870727, 0.813647906891143, 1.0895944110704932, 0.36111822946493366, 1.349835790936535, 1.1306738450819123, 1.4003412797610753, 1.7517543320016402, 0.4809956188603778, 0.24532444043229212, 1.338497833530021, 0.2003428072005821, 1.1888138193244289, 0.9108590903760698, 0.9590022979307978, 0.8644655862576703, 0.6645772227707223, 0.7592415072053723, 0.42851444744264067], 101: [8.770922996384325, 0.9826455761123587, 4.896770796753491, 0.5724050009841515, 9.276679419452138, 0.25600531639458385, 3.8287775192523554, 0.4577646214927726, 3.3547378842848374, 0.692210038356834, 5.233080206611461, 0.5118925435635117, 4.320181426274297, 0.49094857814986853, 4.881887441346858, 0.31131268887728375, 5.055655212509071, 0.809901474561921, 2.7752903470192396, 0.0, 6.006014852577052, 0.4809956188603778, 4.1705154873489665, 0.33462445838250526, 4.6078845656133876, 0.396271273108143, 4.372123633805135, 0.0, 2.70145495705522, 5.759669264012926, 0.0, 5.142173369311688], 102: [1.1807011725901975, 0.5615117577784907, 2.374191901456238, 0.0, 0.6957509564589104, 0.0, 2.663497404697291, 0.4577646214927726, 1.0783086056629836, 0.9229467178091121, 1.3771263701609107, 1.8769393263995429, 1.8681865627132093, 2.822954324361744, 2.2782141392952004, 2.49050151101827, 1.986150262057135, 1.619802949123842, 1.74740503330841, 0.7001706398805376, 2.5025061885737716, 0.9619912377207556, 2.9438932851875057, 0.6692489167650105, 2.604456493607567, 1.585085092432572, 2.1860618169025674, 1.644003939309939, 2.3772803622085936, 2.436783150159315, 1.3286726376094016, 3.213858355819805], 103: [26.481440585237287, 26.812186433922932, 20.625792143901066, 18.03075753100077, 17.161856925986456, 17.15235619843712, 14.81570431362868, 17.395055616725358, 21.805796247851443, 19.151144394539077, 23.686573566767663, 19.793178351122453, 15.646062462723128, 13.869297332733785, 15.947498975066402, 19.92401208814616, 14.805847408062279, 14.713210121208231, 17.576838864455183, 11.202730238088602, 22.27230507830657, 14.429868565811335, 15.700764187666696, 15.392725085595243, 19.032566684055297, 17.832207289866435, 19.67455635212311, 20.55004924137424, 13.507274785276099, 16.39290482834448, 13.856157506498043, 14.783748436771102], 104: [27.8308133539118, 28.77747758614765, 23.593532020721366, 30.6236675526521, 25.04703443252077, 25.600531639458385, 24.9702881690371, 24.71928956060972, 20.248239373004914, 23.0736679452278, 22.860297744671115, 22.352641068940013, 22.067953772049783, 19.76068027053221, 18.225713114361604, 20.70229381033937, 19.500384391106415, 20.11255328495437, 17.4740503330841, 20.071558343242078, 15.515538369157385, 23.8092831335887, 20.85257743674483, 20.077467502950316, 21.637023177662865, 20.407970565069363, 15.484604536393187, 16.029038408271905, 18.477951906257704, 19.93731668312167, 17.652365042524906, 17.569092345148267], 105: [0.0, 0.0, 0.0, 0.0, 0.0, 0.0, 0.0, 0.0, 0.0, 0.0, 0.0, 0.0, 0.0, 0.0, 0.0, 0.0, 0.0, 0.0, 0.0, 0.0, 0.0, 0.0, 0.0, 0.0, 0.0, 0.0, 0.0, 0.0, 0.0, 0.0, 0.0, 0.0], 106: [39.30048188764515, 28.496721707258402, 26.709658891382677, 28.620250049207574, 33.627962895514, 30.208627334560894, 29.132002863876618, 24.948171871356106, 26.238842737799267, 23.0736679452278, 31.39848123966876, 28.665982439556657, 29.423938362733043, 26.265748931017963, 28.803135903946462, 27.08420393232369, 26.361630750940154, 23.487142762295708, 21.174437462443088, 19.371387703361542, 24.524560648022963, 24.771274371309456, 30.420230613604225, 23.758336545157874, 26.845936164877997, 24.370683296150794, 23.500164531702602, 22.87905482206332, 23.556687225521518, 26.804614651752463, 21.258762201750425, 24.639580727951838], 107: [0.6746863843372557, 0.14037793944462268, 2.225804907615223, 0.28620250049207574, 3.246837796808248, 0.25600531639458385, 1.3317487023486454, 0.0, 0.9584965383670965, 0.9229467178091121, 0.8262758220965464, 0.17063084785450391, 0.9340932813566046, 0.0, 0.6509183255129144, 0.46696903331592565, 2.1667093767896017, 0.4049507372809605, 1.541827970566244, 0.9335608531740501, 0.25025061885737715, 0.0, 0.0, 0.8365611459562632, 0.4006856144011642, 0.1981356365540715, 1.4573745446017117, 0.41100098482748476, 0.21611639656441758, 0.0, 0.18981037680134308, 0.0], 108: [0.5060147882529418, 6.176629335563398, 0.4451609815230446, 7.727467513286045, 2.3191698548630346, 9.472196706599602, 1.997623053522968, 4.577646214927726, 2.516053413213628, 9.22946717809112, 2.065689555241366, 9.896589175561227, 2.685518183900238, 8.10065153947283, 0.48818874413468577, 9.183724321879872, 0.5416773441974004, 7.694064008338249, 4.522695380327649, 15.870534503958853, 0.0, 12.024890471509446, 0.49064888086458425, 11.209919355813927, 0.4006856144011642, 9.510510554595431, 0.18217181807521396, 6.7130160855155845, 4.322327931288352, 0.44305148184714815, 9.870139593669839, 0.21425722372132033], 109: [0.0, 0.0, 0.0, 0.28620250049207574, 0.0, 0.25600531639458385, 0.0, 0.2288823107463863, 0.0, 0.0, 0.0, 0.0, 0.11676166016957558, 0.0, 0.0, 0.0, 0.0, 0.0, 0.10278853137108294, 0.23339021329351253, 0.0, 0.0, 0.0, 0.0, 0.0, 0.0, 0.0, 0.0, 0.0, 0.44305148184714815, 0.0, 0.0]}, 'short_mean_replays_all_frs': {2: [0.0, 0.0, 0.0, 0.0, 0.0, 0.0, 0.0, 0.0, 0.0, 0.0, 0.0, 0.0, 0.0, 0.0, 0.0, 0.0, 0.0, 0.0, 0.0, 0.0, 0.0, 0.0, 0.0, 0.0, 0.0, 0.0, 0.0, 0.0, 0.0], 3: [9.218946481768667, 0.0, 0.0, 0.0, 3.452704708826538, 0.0, 0.0, 0.0, 0.0, 0.0, 18.422241088097415, 7.637752228929579, 0.0, 6.771811942354729, 0.0, 3.8794065066035954, 5.705889570401366, 0.0, 0.0, 8.257762558751832, 0.0, 0.0, 7.416746413055179, 0.0, 8.234783707960327, 0.0, 14.60062793274606, 0.0, 8.59801900834288], 4: [0.0, 0.0, 0.0, 17.310343003562068, 6.905409417653076, 0.0, 20.21241849294886, 18.767425794319674, 0.0, 20.73052062476287, 0.0, 0.0, 0.0, 6.771811942354729, 0.0, 0.0, 0.0, 8.532660545839356, 0.0, 4.128881279375916, 14.712813557376181, 7.151164323978456, 14.833492826110358, 5.825357910833448, 12.352175561940491, 0.0, 0.0, 0.0, 0.0], 5: [0.0, 9.049791493323387, 7.272587133085428, 25.9655145053431, 6.905409417653076, 3.470003197662592, 0.0, 0.0, 7.460944305679957, 5.182630156190718, 0.0, 0.0, 12.0622900163761, 20.315435827064185, 0.0, 3.8794065066035954, 0.0, 4.266330272919678, 0.0, 0.0, 22.06922033606427, 0.0, 0.0, 5.825357910833448, 16.469567415920654, 0.0, 7.30031396637303, 5.264774379164681, 0.0], 6: [119.84630426299266, 117.64728941320402, 123.63398126245227, 86.55171501781034, 51.79057063239807, 100.63009273221516, 90.95588321826988, 75.0697031772787, 89.53133166815948, 51.82630156190718, 61.40747029365806, 38.1887611446479, 52.26992340429643, 40.63087165412837, 61.41181463874009, 77.58813013207191, 39.94122699280956, 29.864311910437742, 38.75249998583707, 49.54657535251099, 36.78203389344045, 21.45349297193537, 37.083732065275896, 17.476073732500346, 37.056526685821474, 35.77153849501667, 29.20125586549212, 10.529548758329362, 8.59801900834288], 7: [0.0, 0.0, 7.272587133085428, 0.0, 0.0, 0.0, 0.0, 0.0, 0.0, 0.0, 12.281494058731612, 7.637752228929579, 8.041526677584066, 0.0, 0.0, 0.0, 17.117668711204097, 0.0, 0.0, 0.0, 0.0, 0.0, 0.0, 0.0, 8.234783707960327, 0.0, 0.0, 0.0, 0.0], 8: [0.0, 0.0, 0.0, 0.0, 0.0, 0.0, 0.0, 0.0, 0.0, 0.0, 0.0, 0.0, 0.0, 6.771811942354729, 0.0, 0.0, 0.0, 4.266330272919678, 0.0, 0.0, 0.0, 0.0, 0.0, 11.650715821666896, 8.234783707960327, 0.0, 0.0, 0.0, 0.0], 9: [0.0, 27.14937447997016, 0.0, 0.0, 13.810818835306153, 6.940006395325184, 40.42483698589772, 37.53485158863935, 0.0, 20.73052062476287, 0.0, 0.0, 0.0, 27.087247769418916, 0.0, 0.0, 0.0, 0.0, 19.376249992918535, 12.386643838127748, 0.0, 35.75582161989228, 7.416746413055179, 29.126789554167242, 0.0, 0.0, 58.40251173098424, 0.0, 0.0], 10: [27.656839445305998, 0.0, 29.09034853234171, 0.0, 3.452704708826538, 6.940006395325184, 0.0, 0.0, 37.30472152839978, 0.0, 18.422241088097415, 0.0, 16.083053355168133, 0.0, 11.514715244763767, 19.397032533017978, 17.117668711204097, 8.532660545839356, 0.0, 12.386643838127748, 0.0, 0.0, 22.250239239165538, 0.0, 0.0, 23.847692330011117, 0.0, 15.794323137494043, 17.19603801668576], 11: [0.0, 0.0, 0.0, 8.655171501781034, 3.452704708826538, 3.470003197662592, 0.0, 0.0, 7.460944305679957, 0.0, 0.0, 0.0, 0.0, 0.0, 3.8382384149212556, 3.8794065066035954, 0.0, 0.0, 0.0, 0.0, 0.0, 7.151164323978456, 0.0, 17.476073732500346, 0.0, 0.0, 21.900941899119086, 0.0, 8.59801900834288], 12: [55.313678890611996, 144.79666389317418, 94.54363273011056, 86.55171501781034, 55.24327534122461, 111.04010232520294, 121.27451095769317, 103.22084186875821, 82.07038736247952, 103.65260312381436, 85.97045841112129, 114.56628343394368, 92.47755679221676, 101.57717913532093, 122.82362927748018, 85.3469431452791, 79.88245398561912, 81.06027518547387, 106.56937496105195, 107.35091326377382, 125.05891523769753, 135.87212215559066, 140.9181818480484, 116.50715821666897, 90.5826207875636, 107.31461548505003, 160.60690726020664, 57.912518170811495, 103.17622810011456], 13: [0.0, 0.0, 0.0, 0.0, 0.0, 3.470003197662592, 0.0, 0.0, 7.460944305679957, 0.0, 6.140747029365806, 0.0, 0.0, 0.0, 0.0, 0.0, 0.0, 4.266330272919678, 9.688124996459267, 0.0, 0.0, 0.0, 0.0, 0.0, 0.0, 0.0, 7.30031396637303, 0.0, 8.59801900834288], 14: [9.218946481768667, 0.0, 7.272587133085428, 0.0, 0.0, 10.410009592987775, 0.0, 0.0, 7.460944305679957, 0.0, 6.140747029365806, 15.275504457859158, 4.020763338792033, 0.0, 0.0, 3.8794065066035954, 5.705889570401366, 8.532660545839356, 29.064374989377804, 4.128881279375916, 0.0, 0.0, 7.416746413055179, 0.0, 4.1173918539801635, 35.77153849501667, 7.30031396637303, 0.0, 34.39207603337152], 15: [0.0, 0.0, 14.545174266170855, 0.0, 0.0, 0.0, 0.0, 0.0, 14.921888611359915, 0.0, 12.281494058731612, 0.0, 4.020763338792033, 0.0, 3.8382384149212556, 7.758813013207191, 0.0, 4.266330272919678, 0.0, 4.128881279375916, 0.0, 0.0, 0.0, 0.0, 0.0, 35.77153849501667, 0.0, 10.529548758329362, 17.19603801668576], 16: [0.0, 18.099582986646773, 0.0, 0.0, 0.0, 0.0, 0.0, 0.0, 0.0, 0.0, 0.0, 0.0, 4.020763338792033, 0.0, 19.191192074606278, 0.0, 0.0, 4.266330272919678, 0.0, 0.0, 0.0, 0.0, 0.0, 5.825357910833448, 4.1173918539801635, 0.0, 7.30031396637303, 0.0, 0.0], 17: [0.0, 0.0, 0.0, 0.0, 3.452704708826538, 0.0, 0.0, 0.0, 0.0, 0.0, 0.0, 0.0, 0.0, 0.0, 0.0, 0.0, 0.0, 0.0, 0.0, 0.0, 0.0, 0.0, 7.416746413055179, 0.0, 4.1173918539801635, 0.0, 0.0, 0.0, 0.0], 18: [9.218946481768667, 0.0, 0.0, 43.27585750890517, 48.337865923571535, 0.0, 0.0, 0.0, 0.0, 15.547890468572152, 0.0, 0.0, 0.0, 13.543623884709458, 0.0, 0.0, 0.0, 0.0, 19.376249992918535, 4.128881279375916, 7.356406778688091, 0.0, 7.416746413055179, 5.825357910833448, 4.1173918539801635, 0.0, 14.60062793274606, 5.264774379164681, 17.19603801668576], 19: [0.0, 0.0, 0.0, 0.0, 0.0, 13.880012790650367, 0.0, 0.0, 0.0, 0.0, 0.0, 0.0, 0.0, 0.0, 0.0, 0.0, 0.0, 0.0, 38.75249998583707, 0.0, 0.0, 0.0, 0.0, 0.0, 0.0, 0.0, 0.0, 0.0, 0.0], 20: [27.656839445305998, 99.54770642655724, 87.27104559702514, 25.9655145053431, 20.71622825295923, 31.230028778963327, 50.53104623237215, 37.53485158863935, 52.2266101397597, 25.91315078095359, 30.70373514682903, 68.73977006036621, 56.290686743088465, 33.85905971177365, 38.382384149212555, 42.67347157263955, 45.64711656321093, 55.46229354795581, 19.376249992918535, 45.41769407313508, 66.20766100819282, 21.45349297193537, 29.666985652220717, 46.602863286667585, 37.056526685821474, 59.61923082502779, 51.102197764611205, 15.794323137494043, 25.79405702502864], 21: [0.0, 9.049791493323387, 0.0, 0.0, 0.0, 0.0, 0.0, 0.0, 0.0, 0.0, 6.140747029365806, 0.0, 0.0, 0.0, 0.0, 0.0, 5.705889570401366, 4.266330272919678, 0.0, 0.0, 0.0, 7.151164323978456, 0.0, 0.0, 0.0, 0.0, 0.0, 0.0, 8.59801900834288], 22: [0.0, 0.0, 7.272587133085428, 0.0, 0.0, 13.880012790650367, 0.0, 0.0, 0.0, 0.0, 0.0, 0.0, 0.0, 0.0, 0.0, 0.0, 0.0, 8.532660545839356, 19.376249992918535, 0.0, 0.0, 0.0, 0.0, 0.0, 4.1173918539801635, 0.0, 7.30031396637303, 5.264774379164681, 0.0], 23: [0.0, 0.0, 0.0, 0.0, 0.0, 0.0, 0.0, 0.0, 0.0, 10.365260312381436, 0.0, 0.0, 0.0, 0.0, 0.0, 0.0, 0.0, 0.0, 0.0, 0.0, 0.0, 0.0, 0.0, 0.0, 4.1173918539801635, 0.0, 0.0, 0.0, 0.0], 24: [0.0, 0.0, 0.0, 0.0, 0.0, 0.0, 0.0, 0.0, 0.0, 0.0, 0.0, 0.0, 0.0, 0.0, 0.0, 0.0, 0.0, 0.0, 0.0, 0.0, 0.0, 0.0, 0.0, 0.0, 0.0, 0.0, 0.0, 0.0, 0.0], 25: [0.0, 0.0, 0.0, 0.0, 3.452704708826538, 0.0, 0.0, 0.0, 0.0, 5.182630156190718, 0.0, 0.0, 0.0, 0.0, 0.0, 0.0, 0.0, 8.532660545839356, 0.0, 4.128881279375916, 0.0, 7.151164323978456, 14.833492826110358, 0.0, 20.586959269900817, 0.0, 0.0, 0.0, 0.0], 26: [0.0, 0.0, 0.0, 0.0, 0.0, 0.0, 0.0, 0.0, 0.0, 0.0, 0.0, 0.0, 0.0, 0.0, 0.0, 0.0, 0.0, 4.266330272919678, 0.0, 0.0, 0.0, 0.0, 0.0, 0.0, 4.1173918539801635, 0.0, 0.0, 0.0, 0.0], 27: [0.0, 0.0, 0.0, 0.0, 0.0, 10.410009592987775, 0.0, 0.0, 0.0, 0.0, 0.0, 0.0, 0.0, 0.0, 3.8382384149212556, 3.8794065066035954, 0.0, 0.0, 0.0, 4.128881279375916, 0.0, 7.151164323978456, 0.0, 0.0, 0.0, 0.0, 7.30031396637303, 5.264774379164681, 0.0], 28: [0.0, 0.0, 0.0, 0.0, 0.0, 0.0, 0.0, 0.0, 0.0, 0.0, 0.0, 0.0, 0.0, 0.0, 0.0, 0.0, 0.0, 0.0, 0.0, 0.0, 0.0, 0.0, 0.0, 0.0, 0.0, 0.0, 0.0, 0.0, 0.0], 29: [64.53262537238066, 18.099582986646773, 43.63552279851257, 69.24137201424827, 31.074342379438843, 31.230028778963327, 20.21241849294886, 37.53485158863935, 52.2266101397597, 31.095780937144305, 55.26672326429225, 45.82651337357748, 28.145343371544232, 27.087247769418916, 34.5441457342913, 27.155845546225166, 34.23533742240819, 51.195963275036135, 29.064374989377804, 45.41769407313508, 36.78203389344045, 35.75582161989228, 51.917224891386255, 40.77750537583414, 41.17391853980163, 35.77153849501667, 36.50156983186515, 47.38296941248213, 42.9900950417144], 30: [9.218946481768667, 0.0, 0.0, 8.655171501781034, 79.41220830301037, 0.0, 0.0, 9.383712897159837, 0.0, 15.547890468572152, 0.0, 7.637752228929579, 0.0, 6.771811942354729, 0.0, 0.0, 0.0, 12.798990818759034, 9.688124996459267, 0.0, 0.0, 0.0, 0.0, 0.0, 0.0, 0.0, 0.0, 0.0, 0.0], 31: [9.218946481768667, 0.0, 14.545174266170855, 0.0, 0.0, 3.470003197662592, 10.10620924647443, 0.0, 14.921888611359915, 0.0, 6.140747029365806, 30.551008915718317, 12.0622900163761, 6.771811942354729, 7.676476829842511, 11.638219519810786, 11.411779140802732, 8.532660545839356, 0.0, 8.257762558751832, 7.356406778688091, 7.151164323978456, 7.416746413055179, 11.650715821666896, 8.234783707960327, 47.695384660022235, 0.0, 10.529548758329362, 17.19603801668576], 32: [0.0, 0.0, 7.272587133085428, 0.0, 3.452704708826538, 0.0, 0.0, 18.767425794319674, 7.460944305679957, 10.365260312381436, 0.0, 0.0, 12.0622900163761, 6.771811942354729, 0.0, 0.0, 0.0, 4.266330272919678, 9.688124996459267, 8.257762558751832, 0.0, 7.151164323978456, 0.0, 0.0, 4.1173918539801635, 0.0, 14.60062793274606, 0.0, 0.0], 33: [0.0, 0.0, 14.545174266170855, 0.0, 0.0, 0.0, 0.0, 0.0, 29.84377722271983, 0.0, 6.140747029365806, 0.0, 4.020763338792033, 0.0, 7.676476829842511, 3.8794065066035954, 0.0, 0.0, 0.0, 4.128881279375916, 7.356406778688091, 0.0, 7.416746413055179, 0.0, 0.0, 11.923846165005559, 0.0, 5.264774379164681, 17.19603801668576], 34: [0.0, 0.0, 0.0, 0.0, 0.0, 0.0, 0.0, 0.0, 0.0, 10.365260312381436, 0.0, 0.0, 0.0, 0.0, 0.0, 0.0, 0.0, 0.0, 0.0, 8.257762558751832, 0.0, 0.0, 0.0, 0.0, 0.0, 0.0, 0.0, 0.0, 0.0], 35: [0.0, 27.14937447997016, 0.0, 8.655171501781034, 6.905409417653076, 0.0, 0.0, 0.0, 0.0, 0.0, 0.0, 0.0, 16.083053355168133, 0.0, 0.0, 0.0, 0.0, 0.0, 9.688124996459267, 0.0, 14.712813557376181, 0.0, 7.416746413055179, 0.0, 0.0, 0.0, 14.60062793274606, 0.0, 0.0], 36: [0.0, 18.099582986646773, 0.0, 0.0, 13.810818835306153, 17.35001598831296, 0.0, 37.53485158863935, 0.0, 10.365260312381436, 0.0, 0.0, 0.0, 6.771811942354729, 0.0, 0.0, 0.0, 0.0, 77.50499997167414, 0.0, 0.0, 21.45349297193537, 0.0, 17.476073732500346, 0.0, 0.0, 29.20125586549212, 0.0, 0.0], 37: [0.0, 9.049791493323387, 0.0, 0.0, 55.24327534122461, 10.410009592987775, 0.0, 0.0, 0.0, 0.0, 0.0, 0.0, 0.0, 0.0, 0.0, 0.0, 0.0, 4.266330272919678, 19.376249992918535, 0.0, 7.356406778688091, 0.0, 14.833492826110358, 5.825357910833448, 0.0, 0.0, 0.0, 0.0, 0.0], 38: [9.218946481768667, 0.0, 14.545174266170855, 0.0, 6.905409417653076, 6.940006395325184, 0.0, 0.0, 0.0, 0.0, 0.0, 7.637752228929579, 4.020763338792033, 13.543623884709458, 0.0, 0.0, 0.0, 0.0, 29.064374989377804, 4.128881279375916, 14.712813557376181, 21.45349297193537, 0.0, 5.825357910833448, 0.0, 0.0, 0.0, 5.264774379164681, 0.0], 39: [18.437892963537333, 0.0, 29.09034853234171, 17.310343003562068, 10.358114126479615, 0.0, 10.10620924647443, 18.767425794319674, 14.921888611359915, 5.182630156190718, 18.422241088097415, 15.275504457859158, 12.0622900163761, 0.0, 11.514715244763767, 11.638219519810786, 17.117668711204097, 0.0, 0.0, 0.0, 0.0, 0.0, 37.083732065275896, 0.0, 12.352175561940491, 0.0, 7.30031396637303, 5.264774379164681, 0.0], 40: [9.218946481768667, 18.099582986646773, 65.45328419776885, 17.310343003562068, 20.71622825295923, 38.170035174288515, 40.42483698589772, 65.68599028011886, 7.460944305679957, 36.27841109333502, 18.422241088097415, 7.637752228929579, 36.186870049128295, 20.315435827064185, 30.705907319370045, 23.27643903962157, 74.17656441521775, 38.3969724562771, 67.81687497521487, 37.159931514383246, 73.5640677868809, 92.96513621171992, 89.00095695666215, 64.07893701916794, 61.76087780970246, 35.77153849501667, 87.60376759647635, 52.64774379164681, 51.58811405005728], 41: [0.0, 0.0, 0.0, 8.655171501781034, 3.452704708826538, 0.0, 20.21241849294886, 0.0, 7.460944305679957, 5.182630156190718, 0.0, 0.0, 4.020763338792033, 6.771811942354729, 3.8382384149212556, 0.0, 0.0, 8.532660545839356, 0.0, 8.257762558751832, 7.356406778688091, 7.151164323978456, 0.0, 11.650715821666896, 12.352175561940491, 23.847692330011117, 7.30031396637303, 5.264774379164681, 8.59801900834288], 42: [36.875785927074666, 27.14937447997016, 29.09034853234171, 8.655171501781034, 17.263523544132692, 48.580044767276284, 40.42483698589772, 37.53485158863935, 44.76566583407974, 31.095780937144305, 24.562988117463224, 15.275504457859158, 36.186870049128295, 20.315435827064185, 26.86766890444879, 42.67347157263955, 39.94122699280956, 29.864311910437742, 48.44062498229634, 20.64440639687958, 44.13844067212854, 14.302328647956912, 22.250239239165538, 34.95214746500069, 37.056526685821474, 59.61923082502779, 14.60062793274606, 47.38296941248213, 25.79405702502864], 43: [9.218946481768667, 0.0, 0.0, 8.655171501781034, 10.358114126479615, 6.940006395325184, 10.10620924647443, 0.0, 0.0, 5.182630156190718, 12.281494058731612, 7.637752228929579, 0.0, 0.0, 0.0, 0.0, 0.0, 0.0, 9.688124996459267, 4.128881279375916, 0.0, 28.604657295913825, 0.0, 5.825357910833448, 4.1173918539801635, 0.0, 7.30031396637303, 5.264774379164681, 0.0], 44: [0.0, 18.099582986646773, 0.0, 17.310343003562068, 3.452704708826538, 3.470003197662592, 0.0, 0.0, 0.0, 10.365260312381436, 0.0, 15.275504457859158, 12.0622900163761, 0.0, 0.0, 0.0, 5.705889570401366, 0.0, 9.688124996459267, 4.128881279375916, 0.0, 14.302328647956912, 14.833492826110358, 11.650715821666896, 4.1173918539801635, 11.923846165005559, 7.30031396637303, 5.264774379164681, 0.0], 45: [18.437892963537333, 0.0, 7.272587133085428, 0.0, 0.0, 0.0, 0.0, 0.0, 0.0, 0.0, 12.281494058731612, 22.91325668678874, 4.020763338792033, 0.0, 0.0, 0.0, 0.0, 0.0, 9.688124996459267, 0.0, 0.0, 0.0, 0.0, 0.0, 4.1173918539801635, 0.0, 0.0, 5.264774379164681, 8.59801900834288], 46: [9.218946481768667, 0.0, 7.272587133085428, 0.0, 0.0, 0.0, 0.0, 0.0, 0.0, 0.0, 6.140747029365806, 0.0, 4.020763338792033, 0.0, 0.0, 0.0, 11.411779140802732, 0.0, 0.0, 4.128881279375916, 7.356406778688091, 0.0, 0.0, 5.825357910833448, 0.0, 0.0, 0.0, 0.0, 0.0], 47: [18.437892963537333, 27.14937447997016, 7.272587133085428, 25.9655145053431, 65.60138946770422, 3.470003197662592, 0.0, 9.383712897159837, 7.460944305679957, 20.73052062476287, 18.422241088097415, 22.91325668678874, 8.041526677584066, 6.771811942354729, 3.8382384149212556, 7.758813013207191, 5.705889570401366, 4.266330272919678, 19.376249992918535, 4.128881279375916, 7.356406778688091, 21.45349297193537, 22.250239239165538, 11.650715821666896, 4.1173918539801635, 0.0, 14.60062793274606, 21.059097516658724, 8.59801900834288], 48: [0.0, 0.0, 0.0, 25.9655145053431, 17.263523544132692, 10.410009592987775, 50.53104623237215, 46.91856448579919, 7.460944305679957, 25.91315078095359, 0.0, 0.0, 4.020763338792033, 33.85905971177365, 23.029430489527535, 0.0, 0.0, 12.798990818759034, 0.0, 24.773287676255496, 22.06922033606427, 21.45349297193537, 22.250239239165538, 23.301431643333792, 4.1173918539801635, 0.0, 29.20125586549212, 5.264774379164681, 0.0], 49: [36.875785927074666, 0.0, 36.36293566542714, 17.310343003562068, 0.0, 0.0, 0.0, 0.0, 14.921888611359915, 0.0, 24.562988117463224, 38.1887611446479, 12.0622900163761, 0.0, 19.191192074606278, 15.517626026414382, 22.823558281605465, 12.798990818759034, 0.0, 12.386643838127748, 0.0, 0.0, 0.0, 0.0, 12.352175561940491, 23.847692330011117, 0.0, 15.794323137494043, 34.39207603337152], 50: [36.875785927074666, 0.0, 21.817761399256284, 17.310343003562068, 0.0, 0.0, 0.0, 0.0, 29.84377722271983, 0.0, 12.281494058731612, 30.551008915718317, 16.083053355168133, 6.771811942354729, 7.676476829842511, 15.517626026414382, 22.823558281605465, 21.33165136459839, 0.0, 12.386643838127748, 0.0, 0.0, 0.0, 0.0, 8.234783707960327, 47.695384660022235, 7.30031396637303, 15.794323137494043, 25.79405702502864], 51: [0.0, 0.0, 0.0, 0.0, 3.452704708826538, 13.880012790650367, 0.0, 0.0, 0.0, 0.0, 0.0, 0.0, 4.020763338792033, 0.0, 0.0, 0.0, 0.0, 0.0, 9.688124996459267, 0.0, 7.356406778688091, 0.0, 0.0, 0.0, 4.1173918539801635, 0.0, 0.0, 0.0, 0.0], 52: [0.0, 0.0, 0.0, 0.0, 0.0, 3.470003197662592, 10.10620924647443, 9.383712897159837, 0.0, 0.0, 12.281494058731612, 0.0, 4.020763338792033, 33.85905971177365, 0.0, 0.0, 0.0, 4.266330272919678, 0.0, 0.0, 0.0, 14.302328647956912, 7.416746413055179, 5.825357910833448, 0.0, 0.0, 14.60062793274606, 0.0, 0.0], 53: [9.218946481768667, 9.049791493323387, 0.0, 17.310343003562068, 3.452704708826538, 6.940006395325184, 0.0, 9.383712897159837, 0.0, 0.0, 0.0, 0.0, 0.0, 0.0, 11.514715244763767, 0.0, 0.0, 4.266330272919678, 0.0, 4.128881279375916, 14.712813557376181, 0.0, 0.0, 0.0, 0.0, 0.0, 0.0, 0.0, 0.0], 54: [0.0, 0.0, 0.0, 0.0, 0.0, 0.0, 0.0, 0.0, 0.0, 0.0, 0.0, 0.0, 0.0, 0.0, 0.0, 0.0, 0.0, 0.0, 0.0, 0.0, 0.0, 0.0, 0.0, 0.0, 0.0, 0.0, 0.0, 0.0, 8.59801900834288], 55: [9.218946481768667, 0.0, 0.0, 8.655171501781034, 6.905409417653076, 10.410009592987775, 0.0, 9.383712897159837, 0.0, 5.182630156190718, 6.140747029365806, 15.275504457859158, 8.041526677584066, 0.0, 0.0, 11.638219519810786, 17.117668711204097, 21.33165136459839, 9.688124996459267, 8.257762558751832, 0.0, 7.151164323978456, 7.416746413055179, 0.0, 28.821742977861145, 47.695384660022235, 0.0, 15.794323137494043, 25.79405702502864], 56: [0.0, 0.0, 0.0, 8.655171501781034, 3.452704708826538, 0.0, 30.31862773942329, 28.151138691479513, 0.0, 10.365260312381436, 0.0, 0.0, 0.0, 20.315435827064185, 0.0, 0.0, 0.0, 0.0, 0.0, 4.128881279375916, 22.06922033606427, 21.45349297193537, 7.416746413055179, 11.650715821666896, 0.0, 0.0, 14.60062793274606, 0.0, 0.0], 57: [0.0, 36.199165973293546, 0.0, 0.0, 10.358114126479615, 3.470003197662592, 0.0, 0.0, 0.0, 5.182630156190718, 0.0, 0.0, 0.0, 6.771811942354729, 0.0, 3.8794065066035954, 0.0, 0.0, 9.688124996459267, 8.257762558751832, 7.356406778688091, 0.0, 22.250239239165538, 0.0, 4.1173918539801635, 0.0, 7.30031396637303, 0.0, 0.0], 58: [0.0, 0.0, 0.0, 8.655171501781034, 3.452704708826538, 0.0, 0.0, 9.383712897159837, 0.0, 15.547890468572152, 0.0, 0.0, 0.0, 6.771811942354729, 0.0, 0.0, 0.0, 0.0, 0.0, 4.128881279375916, 0.0, 0.0, 0.0, 0.0, 16.469567415920654, 0.0, 0.0, 5.264774379164681, 25.79405702502864], 59: [0.0, 18.099582986646773, 0.0, 0.0, 13.810818835306153, 0.0, 20.21241849294886, 18.767425794319674, 0.0, 15.547890468572152, 0.0, 0.0, 8.041526677584066, 13.543623884709458, 0.0, 3.8794065066035954, 0.0, 0.0, 19.376249992918535, 4.128881279375916, 14.712813557376181, 7.151164323978456, 7.416746413055179, 11.650715821666896, 0.0, 0.0, 7.30031396637303, 0.0, 0.0], 60: [0.0, 27.14937447997016, 0.0, 8.655171501781034, 6.905409417653076, 0.0, 0.0, 0.0, 0.0, 0.0, 0.0, 0.0, 12.0622900163761, 13.543623884709458, 0.0, 0.0, 0.0, 0.0, 29.064374989377804, 0.0, 29.425627114752363, 0.0, 0.0, 0.0, 4.1173918539801635, 0.0, 21.900941899119086, 0.0, 0.0], 61: [27.656839445305998, 0.0, 7.272587133085428, 0.0, 3.452704708826538, 0.0, 20.21241849294886, 9.383712897159837, 0.0, 0.0, 12.281494058731612, 7.637752228929579, 4.020763338792033, 6.771811942354729, 0.0, 3.8794065066035954, 11.411779140802732, 4.266330272919678, 0.0, 4.128881279375916, 14.712813557376181, 0.0, 0.0, 0.0, 0.0, 0.0, 0.0, 21.059097516658724, 0.0], 62: [0.0, 36.199165973293546, 0.0, 25.9655145053431, 3.452704708826538, 6.940006395325184, 0.0, 18.767425794319674, 0.0, 0.0, 0.0, 0.0, 12.0622900163761, 20.315435827064185, 11.514715244763767, 19.397032533017978, 0.0, 12.798990818759034, 9.688124996459267, 8.257762558751832, 0.0, 14.302328647956912, 44.500478478331075, 34.95214746500069, 12.352175561940491, 11.923846165005559, 14.60062793274606, 15.794323137494043, 0.0], 63: [0.0, 18.099582986646773, 7.272587133085428, 0.0, 3.452704708826538, 6.940006395325184, 20.21241849294886, 18.767425794319674, 0.0, 20.73052062476287, 0.0, 0.0, 0.0, 6.771811942354729, 0.0, 0.0, 0.0, 0.0, 9.688124996459267, 8.257762558751832, 0.0, 7.151164323978456, 14.833492826110358, 5.825357910833448, 0.0, 0.0, 7.30031396637303, 5.264774379164681, 0.0], 64: [46.09473240884333, 0.0, 21.817761399256284, 0.0, 0.0, 10.410009592987775, 0.0, 0.0, 29.84377722271983, 0.0, 30.70373514682903, 0.0, 16.083053355168133, 0.0, 19.191192074606278, 23.27643903962157, 28.52944785200683, 0.0, 0.0, 0.0, 0.0, 21.45349297193537, 44.500478478331075, 0.0, 0.0, 0.0, 0.0, 10.529548758329362, 8.59801900834288], 65: [46.09473240884333, 45.24895746661693, 50.908109931598, 43.27585750890517, 44.885161214745, 62.46005755792665, 50.53104623237215, 28.151138691479513, 74.60944305679956, 57.00893171809789, 67.54821732302386, 84.01527451822537, 40.20763338792033, 54.17449553883783, 61.41181463874009, 62.07050410565753, 57.05889570401366, 63.994954093795165, 67.81687497521487, 57.80433791126283, 36.78203389344045, 42.90698594387074, 51.917224891386255, 52.42822119750103, 53.526094101742125, 71.54307699003334, 51.102197764611205, 52.64774379164681, 51.58811405005728], 66: [0.0, 18.099582986646773, 0.0, 0.0, 13.810818835306153, 0.0, 40.42483698589772, 18.767425794319674, 0.0, 20.73052062476287, 6.140747029365806, 15.275504457859158, 8.041526677584066, 20.315435827064185, 7.676476829842511, 0.0, 0.0, 0.0, 0.0, 12.386643838127748, 14.712813557376181, 0.0, 14.833492826110358, 11.650715821666896, 0.0, 0.0, 21.900941899119086, 5.264774379164681, 0.0], 67: [0.0, 0.0, 0.0, 0.0, 0.0, 3.470003197662592, 10.10620924647443, 0.0, 0.0, 5.182630156190718, 0.0, 0.0, 0.0, 0.0, 0.0, 0.0, 0.0, 0.0, 0.0, 0.0, 0.0, 0.0, 0.0, 5.825357910833448, 0.0, 0.0, 0.0, 0.0, 0.0], 68: [0.0, 0.0, 7.272587133085428, 0.0, 0.0, 0.0, 0.0, 0.0, 0.0, 0.0, 0.0, 0.0, 0.0, 0.0, 0.0, 0.0, 0.0, 0.0, 0.0, 4.128881279375916, 0.0, 0.0, 7.416746413055179, 5.825357910833448, 0.0, 0.0, 0.0, 0.0, 0.0], 69: [0.0, 0.0, 0.0, 0.0, 6.905409417653076, 3.470003197662592, 0.0, 0.0, 0.0, 10.365260312381436, 0.0, 0.0, 0.0, 0.0, 0.0, 0.0, 0.0, 12.798990818759034, 0.0, 0.0, 7.356406778688091, 0.0, 0.0, 0.0, 8.234783707960327, 0.0, 0.0, 0.0, 0.0], 70: [0.0, 0.0, 0.0, 0.0, 0.0, 0.0, 0.0, 0.0, 0.0, 0.0, 0.0, 0.0, 4.020763338792033, 0.0, 0.0, 0.0, 0.0, 0.0, 0.0, 0.0, 7.356406778688091, 0.0, 7.416746413055179, 0.0, 4.1173918539801635, 0.0, 0.0, 5.264774379164681, 0.0], 71: [0.0, 0.0, 14.545174266170855, 0.0, 0.0, 0.0, 0.0, 0.0, 0.0, 0.0, 12.281494058731612, 22.91325668678874, 12.0622900163761, 0.0, 0.0, 0.0, 22.823558281605465, 4.266330272919678, 0.0, 4.128881279375916, 0.0, 0.0, 0.0, 0.0, 0.0, 0.0, 0.0, 10.529548758329362, 0.0], 72: [18.437892963537333, 0.0, 21.817761399256284, 8.655171501781034, 3.452704708826538, 0.0, 0.0, 0.0, 22.38283291703987, 0.0, 12.281494058731612, 30.551008915718317, 8.041526677584066, 0.0, 3.8382384149212556, 7.758813013207191, 11.411779140802732, 12.798990818759034, 0.0, 8.257762558751832, 0.0, 0.0, 7.416746413055179, 0.0, 8.234783707960327, 11.923846165005559, 0.0, 21.059097516658724, 17.19603801668576], 73: [0.0, 0.0, 0.0, 0.0, 0.0, 0.0, 0.0, 0.0, 0.0, 0.0, 0.0, 0.0, 0.0, 0.0, 3.8382384149212556, 0.0, 0.0, 0.0, 0.0, 0.0, 0.0, 7.151164323978456, 0.0, 0.0, 0.0, 0.0, 0.0, 0.0, 0.0], 74: [0.0, 0.0, 0.0, 0.0, 0.0, 3.470003197662592, 0.0, 0.0, 0.0, 5.182630156190718, 0.0, 0.0, 4.020763338792033, 0.0, 0.0, 3.8794065066035954, 0.0, 0.0, 0.0, 0.0, 0.0, 0.0, 7.416746413055179, 0.0, 0.0, 0.0, 0.0, 0.0, 0.0], 75: [36.875785927074666, 0.0, 50.908109931598, 0.0, 0.0, 13.880012790650367, 0.0, 0.0, 29.84377722271983, 0.0, 30.70373514682903, 45.82651337357748, 28.145343371544232, 0.0, 34.5441457342913, 54.31169109245033, 45.64711656321093, 21.33165136459839, 0.0, 28.902168955631414, 0.0, 21.45349297193537, 51.917224891386255, 0.0, 12.352175561940491, 47.695384660022235, 0.0, 26.323871895823405, 34.39207603337152], 76: [9.218946481768667, 0.0, 14.545174266170855, 0.0, 0.0, 0.0, 0.0, 0.0, 14.921888611359915, 0.0, 0.0, 0.0, 0.0, 0.0, 7.676476829842511, 3.8794065066035954, 0.0, 4.266330272919678, 0.0, 4.128881279375916, 0.0, 7.151164323978456, 14.833492826110358, 0.0, 0.0, 0.0, 0.0, 10.529548758329362, 17.19603801668576], 77: [101.40841129945532, 108.59749791988064, 109.08880699628142, 95.20688651959136, 69.05409417653077, 83.2800767439022, 90.95588321826988, 112.60455476591805, 96.99227597383944, 77.73945234286076, 67.54821732302386, 76.3775222892958, 104.53984680859286, 108.34899107767566, 88.27948354318889, 104.74397567829708, 102.70601226722458, 98.12559627715258, 96.88124996459268, 111.47979454314974, 80.920474565569, 85.81397188774147, 111.25119619582769, 93.20572657333517, 94.70001264154376, 131.16230781506113, 116.80502346196847, 110.56026196245831, 111.77424710845743], 78: [18.437892963537333, 18.099582986646773, 7.272587133085428, 8.655171501781034, 6.905409417653076, 10.410009592987775, 0.0, 0.0, 0.0, 15.547890468572152, 6.140747029365806, 7.637752228929579, 8.041526677584066, 0.0, 19.191192074606278, 11.638219519810786, 5.705889570401366, 4.266330272919678, 0.0, 0.0, 0.0, 14.302328647956912, 14.833492826110358, 0.0, 12.352175561940491, 0.0, 0.0, 5.264774379164681, 8.59801900834288], 79: [0.0, 9.049791493323387, 0.0, 8.655171501781034, 0.0, 0.0, 10.10620924647443, 9.383712897159837, 0.0, 5.182630156190718, 0.0, 0.0, 0.0, 0.0, 3.8382384149212556, 0.0, 0.0, 0.0, 9.688124996459267, 0.0, 0.0, 14.302328647956912, 0.0, 0.0, 4.1173918539801635, 0.0, 7.30031396637303, 0.0, 0.0], 80: [0.0, 0.0, 0.0, 60.58620051246724, 103.58114126479614, 10.410009592987775, 50.53104623237215, 56.302277382959026, 14.921888611359915, 36.27841109333502, 6.140747029365806, 45.82651337357748, 4.020763338792033, 60.946307481192555, 3.8382384149212556, 3.8794065066035954, 0.0, 34.13064218335742, 29.064374989377804, 12.386643838127748, 14.712813557376181, 7.151164323978456, 7.416746413055179, 17.476073732500346, 12.352175561940491, 23.847692330011117, 14.60062793274606, 15.794323137494043, 25.79405702502864], 81: [0.0, 18.099582986646773, 0.0, 0.0, 0.0, 0.0, 0.0, 0.0, 0.0, 0.0, 0.0, 7.637752228929579, 4.020763338792033, 0.0, 0.0, 0.0, 5.705889570401366, 0.0, 0.0, 0.0, 0.0, 7.151164323978456, 0.0, 0.0, 0.0, 0.0, 0.0, 0.0, 0.0], 82: [0.0, 0.0, 0.0, 8.655171501781034, 0.0, 0.0, 0.0, 0.0, 0.0, 5.182630156190718, 0.0, 0.0, 0.0, 0.0, 0.0, 0.0, 0.0, 8.532660545839356, 0.0, 0.0, 0.0, 0.0, 0.0, 0.0, 0.0, 0.0, 0.0, 0.0, 0.0], 83: [27.656839445305998, 0.0, 14.545174266170855, 0.0, 0.0, 3.470003197662592, 0.0, 0.0, 22.38283291703987, 0.0, 12.281494058731612, 0.0, 12.0622900163761, 0.0, 7.676476829842511, 15.517626026414382, 11.411779140802732, 0.0, 0.0, 16.515525117503664, 0.0, 7.151164323978456, 7.416746413055179, 0.0, 8.234783707960327, 23.847692330011117, 0.0, 15.794323137494043, 17.19603801668576], 84: [0.0, 0.0, 7.272587133085428, 0.0, 0.0, 0.0, 0.0, 0.0, 0.0, 0.0, 6.140747029365806, 7.637752228929579, 0.0, 0.0, 0.0, 0.0, 11.411779140802732, 0.0, 0.0, 8.257762558751832, 0.0, 0.0, 0.0, 0.0, 4.1173918539801635, 0.0, 0.0, 10.529548758329362, 0.0], 85: [9.218946481768667, 9.049791493323387, 7.272587133085428, 0.0, 0.0, 0.0, 0.0, 0.0, 22.38283291703987, 0.0, 6.140747029365806, 0.0, 8.041526677584066, 0.0, 3.8382384149212556, 15.517626026414382, 11.411779140802732, 0.0, 0.0, 4.128881279375916, 0.0, 7.151164323978456, 0.0, 0.0, 0.0, 23.847692330011117, 0.0, 15.794323137494043, 25.79405702502864], 86: [9.218946481768667, 0.0, 7.272587133085428, 8.655171501781034, 6.905409417653076, 0.0, 10.10620924647443, 9.383712897159837, 0.0, 10.365260312381436, 12.281494058731612, 7.637752228929579, 12.0622900163761, 0.0, 7.676476829842511, 3.8794065066035954, 5.705889570401366, 17.06532109167871, 0.0, 4.128881279375916, 14.712813557376181, 7.151164323978456, 7.416746413055179, 0.0, 0.0, 11.923846165005559, 0.0, 0.0, 0.0], 87: [0.0, 0.0, 0.0, 0.0, 0.0, 0.0, 0.0, 0.0, 0.0, 0.0, 0.0, 0.0, 0.0, 0.0, 0.0, 0.0, 17.117668711204097, 0.0, 0.0, 4.128881279375916, 0.0, 0.0, 0.0, 0.0, 0.0, 0.0, 0.0, 0.0, 0.0], 88: [0.0, 0.0, 0.0, 17.310343003562068, 10.358114126479615, 0.0, 40.42483698589772, 37.53485158863935, 0.0, 10.365260312381436, 0.0, 0.0, 4.020763338792033, 6.771811942354729, 0.0, 3.8794065066035954, 11.411779140802732, 0.0, 0.0, 24.773287676255496, 7.356406778688091, 14.302328647956912, 7.416746413055179, 11.650715821666896, 4.1173918539801635, 0.0, 7.30031396637303, 5.264774379164681, 8.59801900834288], 89: [0.0, 9.049791493323387, 0.0, 0.0, 10.358114126479615, 10.410009592987775, 20.21241849294886, 18.767425794319674, 0.0, 10.365260312381436, 0.0, 0.0, 0.0, 13.543623884709458, 0.0, 0.0, 0.0, 0.0, 0.0, 12.386643838127748, 14.712813557376181, 0.0, 7.416746413055179, 0.0, 4.1173918539801635, 0.0, 7.30031396637303, 0.0, 0.0], 90: [18.437892963537333, 0.0, 14.545174266170855, 8.655171501781034, 3.452704708826538, 10.410009592987775, 0.0, 0.0, 14.921888611359915, 15.547890468572152, 12.281494058731612, 7.637752228929579, 12.0622900163761, 0.0, 3.8382384149212556, 15.517626026414382, 17.117668711204097, 8.532660545839356, 0.0, 16.515525117503664, 0.0, 0.0, 0.0, 0.0, 12.352175561940491, 23.847692330011117, 0.0, 10.529548758329362, 17.19603801668576], 91: [0.0, 0.0, 7.272587133085428, 0.0, 3.452704708826538, 0.0, 0.0, 9.383712897159837, 7.460944305679957, 0.0, 0.0, 22.91325668678874, 16.083053355168133, 0.0, 15.352953659685022, 0.0, 22.823558281605465, 17.06532109167871, 0.0, 0.0, 0.0, 0.0, 7.416746413055179, 5.825357910833448, 0.0, 11.923846165005559, 0.0, 15.794323137494043, 25.79405702502864], 92: [0.0, 0.0, 0.0, 8.655171501781034, 0.0, 3.470003197662592, 0.0, 0.0, 0.0, 0.0, 6.140747029365806, 7.637752228929579, 4.020763338792033, 0.0, 7.676476829842511, 3.8794065066035954, 0.0, 4.266330272919678, 0.0, 0.0, 0.0, 0.0, 0.0, 0.0, 4.1173918539801635, 0.0, 7.30031396637303, 0.0, 0.0], 93: [9.218946481768667, 0.0, 14.545174266170855, 0.0, 0.0, 0.0, 0.0, 0.0, 22.38283291703987, 0.0, 12.281494058731612, 15.275504457859158, 4.020763338792033, 0.0, 3.8382384149212556, 0.0, 5.705889570401366, 8.532660545839356, 0.0, 8.257762558751832, 0.0, 0.0, 0.0, 0.0, 4.1173918539801635, 11.923846165005559, 0.0, 5.264774379164681, 17.19603801668576], 94: [55.313678890611996, 63.3485404532637, 116.36139412936684, 43.27585750890517, 34.527047088265384, 93.69008633688998, 80.84967397179544, 112.60455476591805, 111.91416458519936, 77.73945234286076, 79.82971138175547, 114.56628343394368, 92.47755679221676, 74.48993136590201, 92.11772195811014, 96.98516266508987, 79.88245398561912, 93.85926600423291, 67.81687497521487, 99.09315070502198, 73.5640677868809, 157.32561512752602, 59.333971304441434, 99.03108448416862, 98.81740449552393, 71.54307699003334, 131.40565139471454, 94.76593882496427, 60.18613305840016], 95: [0.0, 18.099582986646773, 0.0, 0.0, 0.0, 0.0, 0.0, 0.0, 0.0, 5.182630156190718, 12.281494058731612, 0.0, 8.041526677584066, 6.771811942354729, 11.514715244763767, 7.758813013207191, 0.0, 8.532660545839356, 0.0, 0.0, 0.0, 7.151164323978456, 0.0, 11.650715821666896, 12.352175561940491, 0.0, 0.0, 10.529548758329362, 0.0], 96: [0.0, 0.0, 0.0, 8.655171501781034, 3.452704708826538, 0.0, 0.0, 0.0, 0.0, 10.365260312381436, 0.0, 0.0, 0.0, 0.0, 3.8382384149212556, 0.0, 5.705889570401366, 0.0, 0.0, 0.0, 0.0, 0.0, 0.0, 0.0, 12.352175561940491, 0.0, 0.0, 0.0, 0.0], 97: [0.0, 0.0, 0.0, 0.0, 0.0, 0.0, 0.0, 0.0, 0.0, 0.0, 0.0, 0.0, 0.0, 0.0, 0.0, 0.0, 0.0, 0.0, 0.0, 0.0, 0.0, 0.0, 0.0, 0.0, 0.0, 0.0, 0.0, 0.0, 0.0], 98: [0.0, 9.049791493323387, 7.272587133085428, 17.310343003562068, 10.358114126479615, 0.0, 0.0, 0.0, 0.0, 0.0, 0.0, 0.0, 0.0, 6.771811942354729, 0.0, 0.0, 0.0, 0.0, 0.0, 0.0, 14.712813557376181, 0.0, 0.0, 0.0, 0.0, 0.0, 14.60062793274606, 10.529548758329362, 0.0], 99: [0.0, 0.0, 0.0, 0.0, 3.452704708826538, 0.0, 0.0, 0.0, 7.460944305679957, 0.0, 0.0, 0.0, 0.0, 0.0, 0.0, 11.638219519810786, 5.705889570401366, 0.0, 0.0, 0.0, 0.0, 0.0, 7.416746413055179, 0.0, 0.0, 0.0, 7.30031396637303, 10.529548758329362, 0.0], 100: [0.0, 0.0, 0.0, 0.0, 3.452704708826538, 0.0, 10.10620924647443, 0.0, 0.0, 5.182630156190718, 0.0, 0.0, 0.0, 0.0, 7.676476829842511, 0.0, 0.0, 4.266330272919678, 9.688124996459267, 0.0, 0.0, 7.151164323978456, 7.416746413055179, 0.0, 4.1173918539801635, 0.0, 7.30031396637303, 0.0, 0.0], 101: [18.437892963537333, 0.0, 43.63552279851257, 0.0, 0.0, 0.0, 0.0, 0.0, 14.921888611359915, 0.0, 30.70373514682903, 7.637752228929579, 20.103816693960166, 0.0, 15.352953659685022, 19.397032533017978, 22.823558281605465, 4.266330272919678, 0.0, 16.515525117503664, 0.0, 7.151164323978456, 0.0, 0.0, 4.1173918539801635, 47.695384660022235, 7.30031396637303, 0.0, 17.19603801668576], 102: [0.0, 0.0, 0.0, 0.0, 0.0, 3.470003197662592, 0.0, 0.0, 0.0, 0.0, 0.0, 0.0, 0.0, 0.0, 0.0, 0.0, 11.411779140802732, 4.266330272919678, 0.0, 4.128881279375916, 0.0, 0.0, 0.0, 0.0, 0.0, 0.0, 7.30031396637303, 10.529548758329362, 0.0], 103: [9.218946481768667, 0.0, 7.272587133085428, 0.0, 24.168932961785767, 3.470003197662592, 20.21241849294886, 9.383712897159837, 7.460944305679957, 25.91315078095359, 6.140747029365806, 7.637752228929579, 4.020763338792033, 60.946307481192555, 3.8382384149212556, 3.8794065066035954, 5.705889570401366, 8.532660545839356, 19.376249992918535, 8.257762558751832, 14.712813557376181, 7.151164323978456, 0.0, 0.0, 12.352175561940491, 23.847692330011117, 14.60062793274606, 15.794323137494043, 0.0], 104: [27.656839445305998, 36.199165973293546, 94.54363273011056, 51.9310290106862, 20.71622825295923, 62.46005755792665, 80.84967397179544, 18.767425794319674, 96.99227597383944, 36.27841109333502, 73.68896435238966, 45.82651337357748, 52.26992340429643, 60.946307481192555, 80.60300671334637, 65.94991061226112, 79.88245398561912, 46.929633002116454, 77.50499997167414, 45.41769407313508, 58.851254229504725, 57.20931459182765, 29.666985652220717, 75.72965284083483, 69.99566151766278, 35.77153849501667, 51.102197764611205, 31.588646274988086, 34.39207603337152], 105: [0.0, 0.0, 0.0, 0.0, 0.0, 0.0, 0.0, 0.0, 0.0, 0.0, 0.0, 0.0, 0.0, 0.0, 0.0, 0.0, 0.0, 0.0, 0.0, 0.0, 7.356406778688091, 0.0, 0.0, 0.0, 0.0, 0.0, 0.0, 0.0, 0.0], 106: [36.875785927074666, 9.049791493323387, 79.99845846393971, 60.58620051246724, 31.074342379438843, 58.99005436026406, 30.31862773942329, 46.91856448579919, 82.07038736247952, 57.00893171809789, 55.26672326429225, 91.65302674715495, 76.39450343704863, 54.17449553883783, 72.92652988350386, 77.58813013207191, 102.70601226722458, 72.52761463963452, 77.50499997167414, 57.80433791126283, 44.13844067212854, 85.81397188774147, 51.917224891386255, 75.72965284083483, 65.87826966368262, 59.61923082502779, 65.70282569735727, 52.64774379164681, 42.9900950417144], 107: [0.0, 18.099582986646773, 0.0, 0.0, 0.0, 13.880012790650367, 0.0, 0.0, 0.0, 0.0, 0.0, 0.0, 8.041526677584066, 0.0, 7.676476829842511, 0.0, 0.0, 25.597981637518068, 0.0, 12.386643838127748, 7.356406778688091, 0.0, 0.0, 0.0, 0.0, 11.923846165005559, 0.0, 0.0, 0.0], 108: [9.218946481768667, 36.199165973293546, 0.0, 34.620686007124135, 31.074342379438843, 17.35001598831296, 30.31862773942329, 28.151138691479513, 7.460944305679957, 20.73052062476287, 6.140747029365806, 22.91325668678874, 0.0, 33.85905971177365, 15.352953659685022, 15.517626026414382, 0.0, 17.06532109167871, 38.75249998583707, 28.902168955631414, 29.425627114752363, 28.604657295913825, 37.083732065275896, 29.126789554167242, 0.0, 11.923846165005559, 36.50156983186515, 15.794323137494043, 0.0], 109: [9.218946481768667, 0.0, 0.0, 0.0, 0.0, 0.0, 0.0, 0.0, 0.0, 0.0, 0.0, 0.0, 0.0, 0.0, 0.0, 0.0, 0.0, 0.0, 0.0, 0.0, 0.0, 0.0, 0.0, 0.0, 4.1173918539801635, 0.0, 0.0, 0.0, 0.0]}, 'x_frs_index': {2: 1.0, 3: -0.6711093897902075, 4: -1.0, 5: -0.045916630227347745, 6: 0.4063895120739533, 7: -0.03226940559429346, 8: -0.20076106601083557, 9: -0.4811529246900613, 10: -0.35107936581280197, 11: -0.18285331844653357, 12: -0.054670811881530675, 13: -0.6121423792000513, 14: -0.24788675480794609, 15: -0.6351742913086489, 16: 0.5997302725394392, 17: 0.5977870882991602, 18: -0.32029635512719407, 19: 0.10132304702339978, 20: 0.08326308719189031, 21: -0.26497751002633224, 22: 0.38021005121806406, 23: -0.04684038826199855, 24: nan, 25: -0.8469322604789463, 26: 0.45974578580672226, 27: 0.3709151353800087, 28: 1.0, 29: -0.19552910972412707, 30: 0.04441139669739985, 31: -0.19936018562497182, 32: 0.08958281754080495, 33: -0.17618799258793888, 34: 0.1400934399226624, 35: 0.26712317183631634, 36: -0.21962333801406542, 37: -0.4893497640768211, 38: -0.07542381091833947, 39: -0.3085254020312276, 40: 0.2683078534783659, 41: 0.11499196806060456, 42: 0.034363135001885654, 43: -0.11709703069331842, 44: -0.25809090054617045, 45: 0.02911982574009579, 46: 0.17060053381850476, 47: 0.04816595755978726, 48: -0.19059533270811177, 49: -0.12447367621896208, 50: -0.24751944571215329, 51: 0.21638744642438235, 52: -0.5544363971030195, 53: 0.21336665370735758, 54: 0.5319898814190862, 55: -0.5642048362792957, 56: -0.738484885938602, 57: -0.1818514907670062, 58: -0.5390143054973907, 59: -0.02544187605085353, 60: -0.25929068851299036, 61: 0.07730626153151182, 62: -0.03761514671355477, 63: -0.24089172102607778, 64: -0.41010337435877636, 65: 0.06889735294150529, 66: -0.4529169901155216, 67: -0.17183928411598326, 68: -0.29695444745716953, 69: 0.16118418843596077, 70: -0.5174213998511668, 71: 0.11939066577574592, 72: -0.32390495239157896, 73: 0.7790073208291274, 74: 0.4454082741816566, 75: -0.1203400256140681, 76: 0.14312525137862983, 77: -0.06483169813729507, 78: 0.1204999192389136, 79: -0.748028935647619, 80: -0.18402321309066824, 81: -0.4988765747195095, 82: 0.3705867537341168, 83: -0.32222265158199836, 84: 0.21530943141274128, 85: -0.614725277679204, 86: 0.17250410498121357, 87: 0.23231749063876464, 88: -0.05833083593423566, 89: -1.0, 90: -0.5456662728605164, 91: -0.10480157636045409, 92: 0.14683099001961797, 93: 0.10044798346783432, 94: 0.022709765168722727, 95: 0.18223303196730503, 96: -0.06216080394300168, 97: 1.0, 98: -0.3926224021871859, 99: 0.10444921987061423, 100: -0.11522181311988558, 101: 0.15322851265251186, 102: 0.13366924775428807, 103: -0.0405851299269216, 104: 0.028463253360131256, 105: 0.09832031688836065, 106: -0.02026910683324438, 107: 0.39536321257348606, 108: -0.2616117051309505, 109: 0.2996462486711963}, 'y_frs_index': {2: 0.9396408108900274, 3: -0.8528880987423244, 4: -0.9702143173357184, 5: 0.10515155656845422, 6: 0.39258310978342503, 7: -0.07175491563978206, 8: 0.9464288973077466, 9: 0.19397634441685024, 10: 0.1525303407982985, 11: -0.6145464746011726, 12: -0.006435639476866715, 13: -0.8832086802388411, 14: -0.5411940604105789, 15: -0.3694916701306294, 16: 0.13553845856249302, 17: 0.4508521640694564, 18: -0.028403966731705203, 19: -0.9204543813292161, 20: 0.013634443675236899, 21: -0.12069423992191332, 22: 0.16282892862848766, 23: -0.8886234853147184, 24: -0.49947085672922237, 25: -0.4608612373169903, 26: 0.13902982861270488, 27: -0.3164689356509432, 28: 0.7162080190445028, 29: -0.18637339849388213, 30: 0.05770155355504864, 31: -0.052578393905189064, 32: 0.24153732100004957, 33: -0.17378832842601707, 34: -0.5337154686731052, 35: 0.23835958790955986, 36: -0.05023231363327899, 37: 0.28624116300818464, 38: -0.16975101392971143, 39: -0.1379246865778498, 40: 0.07949970244056327, 41: 0.17788064409314439, 42: -0.02929131330997156, 43: 0.07370253703304064, 44: 0.16195701707888424, 45: 0.09655613360123805, 46: 0.1256090278180073, 47: 0.026259078005578262, 48: -0.07821878508466762, 49: 0.10475798993138918, 50: -0.1494256658724388, 51: -0.17277974522135597, 52: -0.6909536581276665, 53: 0.055741685911885545, 54: 0.14819454902168575, 55: -0.3795150469988499, 56: -0.39018501538253975, 57: -0.24468207028428443, 58: -0.8677769147802422, 59: 0.506218491585526, 60: -0.5216522391219734, 61: 0.1078495879469924, 62: -0.3418164470121488, 63: 0.1718704419074432, 64: 0.10992562302522642, 65: 0.04454003770963308, 66: -0.18111222576960265, 67: -0.48486046220170886, 68: 0.4288090315571574, 69: 0.11202569061985825, 70: -0.21823661167038397, 71: 0.15211099579730356, 72: -0.18590405018953146, 73: 0.5780665857144375, 74: 0.6575449402485496, 75: -0.03942802069056158, 76: -0.004173251956932514, 77: 0.022831872090051494, 78: 0.36473679619088634, 79: -0.15882195656472273, 80: -0.04598722266470503, 81: -0.18614774188685532, 82: 0.742834100088981, 83: -0.03895729727500505, 84: -0.15840795313396283, 85: -0.45931021248911647, 86: 0.0631762956925871, 87: 0.09323678891718502, 88: 0.4400664318906609, 89: -0.19143659382419356, 90: 0.07280824164317423, 91: 0.031026724840766833, 92: 0.25318331450669024, 93: 0.11264021731837819, 94: 0.026137062329271186, 95: 0.29956987431790205, 96: 0.30738795829461796, 97: 0.9365307226861536, 98: -0.18942867327396898, 99: 0.25825385054270306, 100: -0.10327406702537308, 101: 0.23476650978655822, 102: -0.31945512240487134, 103: -0.00038891282933301285, 104: 0.10122954040352045, 105: 1.0, 106: 0.0301899532526915, 107: 0.5615563684258604, 108: -0.045313034677402164, 109: 0.8064624392769496}, 'active_context': IdentifyingContext<('kdiba', 'gor01', 'one', '2006-6-08_14-26-15', 'long_short_firing_rate_indicies')>})"
      ]
     },
     "execution_count": 99,
     "metadata": {},
     "output_type": "execute_result"
    }
   ],
   "source": [
    "long_short_fr_indicies_analysis_results"
   ]
  },
  {
   "attachments": {},
   "cell_type": "markdown",
   "id": "e03a92c8",
   "metadata": {},
   "source": [
    "# 2023-03-16 - Explore passing in long/short decoders specifically to `perform_full_session_leave_one_out_decoding_analysis`"
   ]
  },
  {
   "cell_type": "code",
   "execution_count": null,
   "id": "26804fbe",
   "metadata": {},
   "outputs": [],
   "source": [
    "from pyphoplacecellanalysis.General.Mixins.CrossComputationComparisonHelpers import build_neurons_color_map # for plot_short_v_long_pf1D_comparison\n",
    "\n",
    "# Get existing long/short decoders from the cell under \"# 2023-02-24 Decoders\"\n",
    "long_decoder, short_decoder = deepcopy(long_one_step_decoder_1D), deepcopy(short_one_step_decoder_1D)\n",
    "assert np.all(long_decoder.xbin == short_decoder.xbin)"
   ]
  },
  {
   "attachments": {},
   "cell_type": "markdown",
   "id": "a7742482",
   "metadata": {},
   "source": [
    "## 2023-05-01 - Test my interneuron hypothesis by looking at interneurons across the long/short divide\n",
    "\n",
    " 1. Interneuron identity should be best determinant of active environment.\n",
    "\n",
    " 2. Do people know anything about interneurons that activate in a given environment? For example, to interneurons activate alongside pyramidal cells when replaying a given environment?\n",
    "\n",
    " 3. \n"
   ]
  },
  {
   "cell_type": "code",
   "execution_count": null,
   "id": "0fe17e34",
   "metadata": {},
   "outputs": [],
   "source": [
    "# global_results.pf1D_dt.reset()\n",
    "# global_results.pf2D_dt.reset()\n",
    "# global_results.all_attributes\n",
    "\n",
    "list(curr_active_pipeline.global_computation_results.computed_data.jonathan_firing_rate_analysis.keys())\n",
    "\n",
    "curr_active_pipeline.global_computation_results.computed_data.long_short"
   ]
  },
  {
   "cell_type": "code",
   "execution_count": null,
   "id": "32b7df38",
   "metadata": {},
   "outputs": [],
   "source": [
    "\n",
    "\n",
    "# 1. Interneuron identity should be best determinant of active environment.\n",
    "\n",
    "# 2. Do people know anything about interneurons that activate in a given environment? For example, to interneurons activate alongside pyramidal cells when replaying a given environment?\n",
    "\n",
    "# 3. \n",
    "# global_results.pf1D_dt.reset()\n",
    "# global_results.pf2D_dt.reset()\n",
    "# global_results.all_attributes\n",
    "\n",
    "list(curr_active_pipeline.global_computation_results.computed_data.jonathan_firing_rate_analysis.keys())\n",
    "\n",
    "curr_active_pipeline.global_computation_results.computed_data.long_short"
   ]
  },
  {
   "cell_type": "code",
   "execution_count": null,
   "id": "4a2d06a7",
   "metadata": {},
   "outputs": [],
   "source": [
    "from pyphoplacecellanalysis.General.Pipeline.Stages.ComputationFunctions.MultiContextComputationFunctions.MultiContextComputationFunctions import JonathanFiringRateAnalysisResult\n",
    "\n",
    "jonathan_firing_rate_analysis_result = JonathanFiringRateAnalysisResult(**curr_active_pipeline.global_computation_results.computed_data.jonathan_firing_rate_analysis.to_dict())\n",
    "\n",
    "jonathan_firing_rate_analysis_result.neuron_replay_stats_df.to_clipboard()"
   ]
  },
  {
   "cell_type": "code",
   "execution_count": null,
   "id": "33ac6c8d",
   "metadata": {},
   "outputs": [],
   "source": [
    "jonathan_firing_rate_analysis_result.rdf.rdf"
   ]
  },
  {
   "cell_type": "code",
   "execution_count": null,
   "id": "bdc9c2e5",
   "metadata": {},
   "outputs": [],
   "source": [
    "jonathan_firing_rate_analysis_result.time_binned_instantaneous_unit_specific_spike_rate.time_bins #.shape"
   ]
  },
  {
   "cell_type": "code",
   "execution_count": null,
   "id": "785ca961",
   "metadata": {},
   "outputs": [],
   "source": [
    "instantaneous_fr_df = deepcopy(jonathan_firing_rate_analysis_result.time_binned_instantaneous_unit_specific_spike_rate.instantaneous_unit_specific_spike_rate_values)\n",
    "instantaneous_fr_df['t'] = jonathan_firing_rate_analysis_result.time_binned_instantaneous_unit_specific_spike_rate.time_bins\n",
    "instantaneous_fr_df.plot\n"
   ]
  },
  {
   "cell_type": "code",
   "execution_count": null,
   "id": "345b3cca",
   "metadata": {},
   "outputs": [],
   "source": [
    "instantaneous_fr_df.to_clipboard()"
   ]
  },
  {
   "cell_type": "code",
   "execution_count": null,
   "id": "fee81000",
   "metadata": {},
   "outputs": [],
   "source": [
    "from neuropy.core.neurons import NeuronType"
   ]
  },
  {
   "cell_type": "code",
   "execution_count": null,
   "id": "a8016a88",
   "metadata": {},
   "outputs": [],
   "source": [
    "jonathan_firing_rate_analysis_result.neuron_replay_stats_df"
   ]
  },
  {
   "cell_type": "code",
   "execution_count": null,
   "id": "c7ff9bb5",
   "metadata": {},
   "outputs": [],
   "source": [
    "## Require placefield presence on either the long or the short\n",
    "jonathan_firing_rate_analysis_result.neuron_replay_stats_df = jonathan_firing_rate_analysis_result.neuron_replay_stats_df[np.logical_or(jonathan_firing_rate_analysis_result.neuron_replay_stats_df['has_long_pf'], jonathan_firing_rate_analysis_result.neuron_replay_stats_df['has_short_pf'])]"
   ]
  },
  {
   "cell_type": "code",
   "execution_count": null,
   "id": "87851fff",
   "metadata": {},
   "outputs": [],
   "source": [
    "jonathan_firing_rate_analysis_result.neuron_replay_stats_df[np.logical_or(jonathan_firing_rate_analysis_result.neuron_replay_stats_df['has_long_pf'], jonathan_firing_rate_analysis_result.neuron_replay_stats_df['has_short_pf'])].index.to_numpy()"
   ]
  },
  {
   "cell_type": "code",
   "execution_count": null,
   "id": "4d8566f2",
   "metadata": {},
   "outputs": [],
   "source": [
    "jonathan_firing_rate_analysis_result.neuron_replay_stats_df.to_clipboard()"
   ]
  },
  {
   "cell_type": "code",
   "execution_count": null,
   "id": "0504f8e4",
   "metadata": {},
   "outputs": [],
   "source": [
    "from pyphocorehelpers.indexing_helpers import partition\n",
    "\n",
    "# Split the replay stats based on the neuron types:\n",
    "unique_included_neuron_types, (pyr_neuron_replay_stats_df, contaminated_neuron_replay_stats_df, interneuron_neuron_replay_stats_df) = partition(jonathan_firing_rate_analysis_result.neuron_replay_stats_df, 'neuron_type')\n",
    "pyr_neuron_replay_stats_df"
   ]
  },
  {
   "cell_type": "code",
   "execution_count": null,
   "id": "7524856f",
   "metadata": {},
   "outputs": [],
   "source": [
    "from neuropy.core.neurons import NeuronType\n",
    "\n",
    "%matplotlib qt\n",
    "# Look at replays during ripples vs. those not during ripples. Also potentially PBEs vs. not PBEs.\n",
    "\n",
    "# NeuronType.from_any_string_series(['pyr','intr'])\n",
    "'pyr','cont','intr'\n",
    "\n",
    "active_identifying_session_ctx = curr_active_pipeline.sess.get_context() # 'bapun_RatN_Day4_2019-10-15_11-30-06'\n",
    "curr_active_pipeline.display('_display_jonathan_interactive_replay_firing_rate_comparison', active_identifying_session_ctx, included_neuron_types=NeuronType.from_any_string_series(['pyr'])) # only the pyramidal neurons"
   ]
  },
  {
   "cell_type": "code",
   "execution_count": null,
   "id": "bc7ebf69",
   "metadata": {},
   "outputs": [],
   "source": [
    "curr_active_pipeline.reload_default_display_functions()"
   ]
  },
  {
   "cell_type": "code",
   "execution_count": null,
   "id": "68f61971",
   "metadata": {},
   "outputs": [],
   "source": [
    "curr_active_pipeline.display('_display_jonathan_interactive_replay_firing_rate_comparison', active_identifying_session_ctx, included_neuron_types=NeuronType.from_any_string_series(['intr']), require_placefield=False) # only the pyramidal neurons"
   ]
  },
  {
   "cell_type": "code",
   "execution_count": null,
   "id": "0859e13d",
   "metadata": {},
   "outputs": [],
   "source": [
    "from pyphoplacecellanalysis.General.Mixins.CrossComputationComparisonHelpers import build_replays_custom_scatter_markers, CustomScatterMarkerMode\n",
    "\n",
    "_curr_included_aclus = jonathan_firing_rate_analysis_result.neuron_replay_stats_df[np.logical_or(jonathan_firing_rate_analysis_result.neuron_replay_stats_df['has_long_pf'], jonathan_firing_rate_analysis_result.neuron_replay_stats_df['has_short_pf'])].index.to_numpy()\n",
    "_curr_output = curr_active_pipeline.display('_display_batch_pho_jonathan_replay_firing_rate_comparison', active_identifying_session_ctx, included_unit_neuron_IDs=_curr_included_aclus, marker_split_mode=CustomScatterMarkerMode.NoSplit)"
   ]
  },
  {
   "cell_type": "code",
   "execution_count": null,
   "id": "603a7ad5",
   "metadata": {},
   "outputs": [],
   "source": [
    "_curr_fig = _curr_output['fig']\n",
    "_curr_axes = _curr_output['axs']\n",
    "\n",
    "for ax_dict in _curr_axes:\n",
    "    for k, ax in ax_dict.items():\n",
    "\t    ax.set_rasterized(True)\n",
    "    \n",
    "# _curr_fig.set_rasterized(True)"
   ]
  },
  {
   "attachments": {},
   "cell_type": "markdown",
   "id": "d69eed8a",
   "metadata": {},
   "source": [
    "## 2023-04-13 - Shuffled Surprise\n",
    "\"\"\" \n",
    "Relevant Functions:\n",
    "`perform_full_session_leave_one_out_decoding_analysis`:\n",
    "\t`perform_leave_one_aclu_out_decoding_analysis`:\tfrom pyphoplacecellanalysis.Analysis.Decoder.decoder_result import perform_leave_one_aclu_out_decoding_analysis\n",
    "\t`_analyze_leave_one_out_decoding_results`: from pyphoplacecellanalysis.General.Pipeline.Stages.ComputationFunctions.DefaultComputationFunctions import _analyze_leave_one_out_decoding_results\n",
    "\"\"\"\n"
   ]
  },
  {
   "cell_type": "code",
   "execution_count": null,
   "id": "0aac42d4",
   "metadata": {},
   "outputs": [],
   "source": [
    "# 2023-04-18 - Refactored into decoder_result\n",
    "result, result_df, result_df_grouped = long_results_obj.result, long_results_obj.result_df, long_results_obj.result_df_grouped"
   ]
  },
  {
   "cell_type": "code",
   "execution_count": null,
   "id": "9bfe57a8",
   "metadata": {},
   "outputs": [],
   "source": [
    "curr_active_pipeline.global_computation_results"
   ]
  },
  {
   "cell_type": "code",
   "execution_count": null,
   "id": "c107570f",
   "metadata": {},
   "outputs": [],
   "source": [
    "from pyphoplacecellanalysis.Analysis.Decoder.decoder_result import DiagnosticDistanceMetricFigure\n",
    "\n",
    "## Render the internactive slider that allows selecting the timebin index to debug\n",
    "n_timebins = np.sum(long_results_obj.all_epochs_num_epoch_time_bins)\n",
    "timebinned_neuron_info = long_results_obj.timebinned_neuron_info\n",
    "result = long_results_obj.new_result\n",
    "active_fig_obj, update_function = DiagnosticDistanceMetricFigure.build_interactive_diagnostic_distance_metric_figure(long_results_obj, timebinned_neuron_info, result)\n",
    "active_fig_obj.integer_slider(n_timebins=n_timebins, update_func=update_function)"
   ]
  },
  {
   "cell_type": "code",
   "execution_count": null,
   "id": "7670bfae",
   "metadata": {},
   "outputs": [],
   "source": [
    "\n",
    "# 1. Get set of cells active in a given time bin, for each compute the surprise of its placefield with the leave-one-out decoded posterior.\n",
    "\n",
    "# 2. From the remainder of cells (those not active), randomly choose one to grab the placefield of and compute the surprise with that and the same posterior.\n",
    "\n",
    "# Expectation: The cells that are included in the time bin are expected to have a lower surprise (be less correlated with) the posterior."
   ]
  },
  {
   "cell_type": "code",
   "execution_count": null,
   "id": "e8ff50bc",
   "metadata": {
    "notebookRunGroups": {
     "groupValue": ""
    }
   },
   "outputs": [],
   "source": [
    "from pyphoplacecellanalysis.Pho2D.PyQtPlots.Extensions.pyqtgraph_helpers import build_pyqtgraph_epoch_indicator_regions # Add session indicators to pyqtgraph plot\n",
    "from pyphoplacecellanalysis.General.Pipeline.Stages.DisplayFunctions.MultiContextComparingDisplayFunctions.MultiContextComparingDisplayFunctions import _helper_add_long_short_session_indicator_regions\n",
    "\n",
    "from pyphocorehelpers.print_helpers import generate_html_string\n",
    "# Long Short\n",
    "# TODO 2023-04-18 - Can Refactor in terms of `plot_long_short_any_values`?\n",
    "\n",
    "import pyphoplacecellanalysis.External.pyqtgraph as pg\n",
    "# 'time_bin_indices': valid_time_bin_indicies, 'posterior_to_pf_mean_surprise': one_left_out_posterior_to_pf_surprises_mean, 'posterior_to_scrambled_pf_mean_surprise': one_left_out_posterior_to_scrambled_pf_surprises_mean}\n",
    "from pyphoplacecellanalysis.General.Pipeline.Stages.DisplayFunctions.MultiContextComparingDisplayFunctions.MultiContextComparingDisplayFunctions import plot_long_short_expected_vs_observed_firing_rates\n"
   ]
  },
  {
   "cell_type": "code",
   "execution_count": null,
   "id": "bae2e695",
   "metadata": {},
   "outputs": [],
   "source": [
    "\n",
    "\n",
    "win, plots_tuple, legend = plot_long_short_expected_vs_observed_firing_rates(long_results_obj, short_results_obj)\n",
    "long_epoch_indicator_region_items, short_epoch_indicator_region_items = _helper_add_long_short_session_indicator_regions(win, long_epoch=curr_active_pipeline.filtered_epochs[long_epoch_name], short_epoch=curr_active_pipeline.filtered_epochs[short_epoch_name])"
   ]
  },
  {
   "cell_type": "code",
   "execution_count": null,
   "id": "df4efa5c",
   "metadata": {},
   "outputs": [],
   "source": [
    "\n",
    "\n",
    "def plot_long_short_surprise_difference_plot(long_results_obj, short_results_obj):\n",
    "\t\"\"\" captures `curr_active_pipeline` \"\"\"\n",
    "\t# Private Subfunctions _______________________________________________________________________________________________ #\n",
    "\tdef _subfn_add_difference_plot_series(win, plots, result_df_grouped, series_suffix, **kwargs):\n",
    "\t\t\"\"\" captures nothing\n",
    "\t\tmodifies `plots` \"\"\"\n",
    "\t\tx=result_df_grouped.time_bin_centers.to_numpy()\n",
    "\t\ty=result_df_grouped['surprise_diff'].to_numpy()\n",
    "\t\tseries_id_str = f'difference_{series_suffix}'\n",
    "\t\tplots[series_id_str] = win.plot(x=x, y=y, name=series_id_str, alpha=0.5, **kwargs) #  symbolBrush=pg.intColor(i,6,maxValue=128) , symbol=curr_symbol, symbolBrush=cell_color_symbol_brush[unit_IDX]\n",
    "\n",
    "\t# BEGIN FUNCTION BODY ________________________________________________________________________________________________ #\n",
    "\n",
    "\t# make a separate symbol_brush color for each cell:\n",
    "\t# cell_color_symbol_brush = [pg.intColor(i,hues=9, values=3, alpha=180) for i, aclu in enumerate(long_results_obj.original_1D_decoder.neuron_IDs)] # maxValue=128\n",
    "\t# All properties in common:\n",
    "\twin = pg.plot() # PlotWidget\n",
    "\twin.setWindowTitle('Long Sanity Check - Leave-one-out Custom Surprise Plot')\n",
    "\t# legend_size = (80,60) # fixed size legend\n",
    "\tlegend_size = None # auto-sizing legend to contents\n",
    "\tlegend = pg.LegendItem(legend_size, offset=(-1,0)) # do this instead of # .addLegend\n",
    "\tlegend.setParentItem(win.graphicsItem())\n",
    "\n",
    "\tplots = {}\n",
    "\tlabel_prefix_list = ['normal', 'scrambled']\n",
    "\tlong_short_symbol_list = ['t', 'o'] # note: 's' is a square. 'o', 't1': triangle pointing upwards0\n",
    "\n",
    "\t# Use mean time_bin and surprise for each epoch\n",
    "\t# plots['normal'] = win.plot(x=valid_time_bin_indicies, y=one_left_out_posterior_to_pf_surprises_mean, pen=None, symbol='t', symbolBrush=pg.intColor(1,6,maxValue=128), name=f'normal', alpha=0.5) #  symbolBrush=pg.intColor(i,6,maxValue=128) , symbol=curr_symbol, symbolBrush=cell_color_symbol_brush[unit_IDX]\n",
    "\t# plots['scrambled'] = win.plot(x=valid_time_bin_indicies, y=one_left_out_posterior_to_scrambled_pf_surprises_mean, pen=None, symbol='t', symbolBrush=pg.intColor(2,6,maxValue=128), name=f'scrambled', alpha=0.5) #  symbolBrush=pg.intColor(i,6,maxValue=128) , symbol=curr_symbol, symbolBrush=cell_color_symbol_brush[unit_IDX]\n",
    "\n",
    "\t# curr_surprise_difference = one_left_out_posterior_to_scrambled_pf_surprises_mean - one_left_out_posterior_to_pf_surprises_mean\n",
    "\n",
    "\t# x=valid_time_bin_indicies\n",
    "\t# y=curr_surprise_difference\n",
    "\t# x=result_df_grouped.time_bin_indices.to_numpy()\n",
    "\n",
    "\t\n",
    "\t_subfn_add_difference_plot_series(win, plots, long_results_obj.result_df_grouped, series_suffix='_long', **dict(pen=None, symbol='t', symbolBrush=pg.intColor(2,6,maxValue=128), clickable=True, hoverable=True, hoverSize=7))\n",
    "\n",
    "\t_subfn_add_difference_plot_series(win, plots, short_results_obj.result_df_grouped, series_suffix='_short', **dict(pen=None, symbol='o', symbolBrush=pg.intColor(3,6,maxValue=128), clickable=True))\n",
    "\n",
    "\t# dict(pen=None, symbol='t', symbolBrush=pg.intColor(2,6,maxValue=128))\n",
    "\n",
    "\n",
    "\t# x=result_df_grouped.time_bin_centers.to_numpy()\n",
    "\t# y=result_df_grouped['surprise_diff'].to_numpy()\n",
    "\t# plots['difference'] = win.plot(x=x, y=y, pen=None, symbol='t', symbolBrush=pg.intColor(2,6,maxValue=128), name=f'difference', alpha=0.5) #  symbolBrush=pg.intColor(i,6,maxValue=128) , symbol=curr_symbol, symbolBrush=cell_color_symbol_brush[unit_IDX]\n",
    "\n",
    "\t# long_results_obj.result, long_results_obj.result_df, long_results_obj.result_df_grouped\n",
    "\n",
    "\t# short_results_obj.result, short_results_obj.result_df, short_results_obj.result_df_grouped\n",
    "\n",
    "\n",
    "\tfor k, v in plots.items():\n",
    "\t\tlegend.addItem(v, f'{k}')\n",
    "\n",
    "\twin.graphicsItem().setLabel(axis='left', text='Normal v. Random - Surprise (Custom)')\n",
    "\twin.graphicsItem().setLabel(axis='bottom', text='time')\n",
    "\n",
    "\twin.showGrid(True, True)  # Show grid for reference\n",
    "\n",
    "\t# Emphasize the y=0 crossing by drawing a horizontal line at y=0\n",
    "\tvline = pg.InfiniteLine(pos=0, angle=0, movable=False, pen=pg.mkPen(color='w', width=2, style=pg.QtCore.Qt.DashLine))\n",
    "\twin.addItem(vline)\n",
    "\n",
    "\t# Add session indicators to pyqtgraph plot\n",
    "\tlong_epoch = curr_active_pipeline.filtered_epochs[long_epoch_name]\n",
    "\tshort_epoch = curr_active_pipeline.filtered_epochs[short_epoch_name]\n",
    "\tlong_epoch_indicator_region_items, short_epoch_indicator_region_items = _helper_add_long_short_session_indicator_regions(win, long_epoch, short_epoch)\n",
    "\n",
    "\t# epoch_linear_region, epoch_region_label = build_pyqtgraph_epoch_indicator_regions(win, t_start=curr_active_pipeline.filtered_epochs[long_epoch_name].t_start, t_stop=curr_active_pipeline.filtered_epochs[long_epoch_name].t_stop, epoch_label='long', **dict(pen=pg.mkPen('#0b0049'), brush=pg.mkBrush('#0099ff42'), hoverBrush=pg.mkBrush('#fff400'), hoverPen=pg.mkPen('#00ff00')))\n",
    "\t# epoch_linear_region, epoch_region_label = build_pyqtgraph_epoch_indicator_regions(win, t_start=curr_active_pipeline.filtered_epochs[short_epoch_name].t_start, t_stop=curr_active_pipeline.filtered_epochs[short_epoch_name].t_stop, epoch_label='short', **dict(pen=pg.mkPen('#490000'), brush=pg.mkBrush('#f5161659'), hoverBrush=pg.mkBrush('#fff400'), hoverPen=pg.mkPen('#00ff00')))\n",
    "\n",
    "\ti_str = generate_html_string('i', color='white', bold=True)\n",
    "\tj_str = generate_html_string('j', color='red', bold=True)\n",
    "\ttitle_str = generate_html_string(f'JSD(p_x_given_n, pf[{i_str}]) - JSD(p_x_given_n, pf[{j_str}]) where {j_str} non-firing')\n",
    "\twin.setTitle(title_str)\n",
    "\n",
    "\twin.setWindowTitle('Long Sanity Check - Leave-one-out Custom Surprise Plot - JSD')\n",
    "\n",
    "\treturn win, plots\n",
    "\n",
    "win, self.plots = plot_long_short_surprise_difference_plot(long_results_obj, short_results_obj)"
   ]
  },
  {
   "cell_type": "code",
   "execution_count": null,
   "id": "e2a84888",
   "metadata": {},
   "outputs": [],
   "source": [
    "a_plot = self.plots['difference__long']  # PlotDataItem \n",
    "a_curve = a_plot.curve # PlotCurveItem "
   ]
  },
  {
   "cell_type": "code",
   "execution_count": null,
   "id": "3a8e78da",
   "metadata": {},
   "outputs": [],
   "source": [
    "a_plot.sigPointsClicked\n",
    "# a_plot.sigPointsHovered"
   ]
  },
  {
   "cell_type": "code",
   "execution_count": null,
   "id": "fe350d0a",
   "metadata": {},
   "outputs": [],
   "source": [
    "curve.curve.setClickable(True)"
   ]
  },
  {
   "cell_type": "code",
   "execution_count": null,
   "id": "2377c753",
   "metadata": {},
   "outputs": [],
   "source": [
    "# Will make all plots clickable\n",
    "clickedPen = pg.mkPen('#DDD', width=2)\n",
    "lastClicked = []\n",
    "def _test_scatter_plot_clicked(plot, points):\n",
    "\tglobal lastClicked\n",
    "\tfor p in lastClicked:\n",
    "\t\tp.resetPen()\n",
    "\tprint(\"clicked points\", points)\n",
    "\tfor p in points:\n",
    "\t\tp.setPen(clickedPen)\n",
    "\tlastClicked = points\n",
    "\n",
    "main_scatter_clicked_connection = a_plot.sigClicked.connect(_test_scatter_plot_clicked)"
   ]
  },
  {
   "cell_type": "code",
   "execution_count": null,
   "id": "8e83d358",
   "metadata": {},
   "outputs": [],
   "source": [
    "lastClicked, clickedPen, (main_scatter_hovered_connection, main_scatter_clicked_connection) = _helper_make_scatterplot_clickable(a_plot)"
   ]
  },
  {
   "cell_type": "code",
   "execution_count": null,
   "id": "a9d54370",
   "metadata": {},
   "outputs": [],
   "source": [
    "# Need to map from time_bin_indicies to times\n",
    "a_plot = self.plots['difference'] # PlotDataItem \n",
    "# a_plot.setLa\n",
    "# win.graphicsItem().setLabel(axis='left', text='Normal v. Random - Surprise (Custom)')\n",
    "\n",
    "# # Set the plot title with a LaTeX formula\n",
    "# title = pg.LabelItem(justify='center')\n",
    "# title.setText(r'<font size=\"4\">JSD Surprise Diff: $\\fn{JSD}{\\matr{pf}_{i}, \\Pr{\\vec{x}_{t}|\\vec{n}_{t}}} - \\fn{JSD}{\\matr{pf}_{j}, \\Pr{\\vec{x}_{t}|\\vec{n}_{t}}}$</font>')\n",
    "# win.addItem(title)\n",
    "\n",
    "# win.graphicsItem().setLabel(axis='top', text=r'$\\fn{JSD}{\\matr{pf}_{i}, \\Pr{\\vec{x}_{t}|\\vec{n}_{t}}} - \\fn{JSD}{\\matr{pf}_{j}, \\Pr{\\vec{x}_{t}|\\vec{n}_{t}}}$')"
   ]
  },
  {
   "cell_type": "code",
   "execution_count": null,
   "id": "0f55bb1b",
   "metadata": {},
   "outputs": [],
   "source": [
    "from pyphoplacecellanalysis.General.Mixins.ExportHelpers import export_pyqtgraph_plot # works pretty well seemingly\n",
    "\n",
    "export_pyqtgraph_plot(win)\n",
    "# pg.setConfigOption('leftTitle', 'MathText')\n",
    "# win.setTitle(r'JSD(p_x_given_n, pf[<font size=\"4\"><b><span style=\"color:red;\">i</span></b></font>]) - JSD(p_x_given_n, pf[<font size=\"4\"><b>j</b></font>]) where <font size=\"4\"><b>j</b></font> non-firing')\n",
    "\n",
    "# win.setTitle(generate_html_string(f'JSD(p_x_given_n, pf[{i_str}]) - JSD(p_x_given_n, pf[{j_str}]) where {j_str} non-firing', font_size=8))\n",
    "\n",
    "# r'$\\fn{JSD}{\\matr{pf}_{i}, \\Pr{\\vec{x}_{t}|\\vec{n}_{t}}} - \\fn{JSD}{\\matr{pf}_{j}, \\Pr{\\vec{x}_{t}|\\vec{n}_{t}}}$'\n",
    "# title_str"
   ]
  },
  {
   "cell_type": "code",
   "execution_count": null,
   "id": "b315f1e7",
   "metadata": {},
   "outputs": [],
   "source": [
    "from pyqtgraph.GraphicsScene import exportDialog\n",
    "\n",
    "# active_item = active_fig_obj.win\n",
    "active_item = active_fig_obj.plot_dict['curr_cell_pf_curve']['plot_item']\n",
    "exportDialog = exportDialog.ExportDialog(active_item.scene())\n",
    "exportDialog.show(active_item)"
   ]
  },
  {
   "cell_type": "code",
   "execution_count": null,
   "id": "1ea2e239",
   "metadata": {},
   "outputs": [],
   "source": [
    "active_fig_obj.plot_dict['curr_cell_pf_curve']['plot_item']"
   ]
  },
  {
   "cell_type": "code",
   "execution_count": null,
   "id": "e586e32d",
   "metadata": {},
   "outputs": [],
   "source": [
    "curr_active_pipeline.filtered_epochs[short_epoch_name].t_stop"
   ]
  },
  {
   "cell_type": "code",
   "execution_count": null,
   "id": "0e7c5219",
   "metadata": {},
   "outputs": [],
   "source": [
    "curr_active_pipeline.filtered_epochs[long_epoch_name].start_end_times"
   ]
  },
  {
   "attachments": {},
   "cell_type": "markdown",
   "id": "1f996fd9",
   "metadata": {},
   "source": [
    "## Pre 2023-04-13"
   ]
  },
  {
   "cell_type": "code",
   "execution_count": null,
   "id": "33b6ac25",
   "metadata": {},
   "outputs": [],
   "source": [
    "import matplotlib\n",
    "import matplotlib.pyplot as plt\n",
    "%matplotlib qt\n",
    "\n",
    "from pyphoplacecellanalysis.Analysis.Decoder.decoder_result import plot_kourosh_activity_style_figure\n",
    "\n",
    "from neuropy.core.neurons import NeuronType\n",
    "# # Include only pyramidal aclus:\n",
    "# print(f'all shared_aclus: {len(shared_aclus)}\\nshared_aclus: {shared_aclus}')\n",
    "# shared_aclu_neuron_type = long_session.neurons.neuron_type[np.isin(long_session.neurons.neuron_ids, shared_aclus)]\n",
    "# assert len(shared_aclu_neuron_type) == len(shared_aclus)\n",
    "# # Find only the aclus that are pyramidal:\n",
    "# is_shared_aclu_pyramidal = (shared_aclu_neuron_type == NeuronType.PYRAMIDAL)\n",
    "# pyramidal_only_shared_aclus = shared_aclus[is_shared_aclu_pyramidal]\n",
    "# print(f'num pyramidal_only_shared_aclus: {len(pyramidal_only_shared_aclus)}\\npyramidal_only_shared_aclus: {pyramidal_only_shared_aclus}')\n",
    "\n",
    "\n",
    "## Drop Pyramidal but don't use only shared aclus:\n",
    "all_aclus = deepcopy(long_session.neurons.neuron_ids)\n",
    "neuron_type = long_session.neurons.neuron_type\n",
    "assert len(neuron_type) == len(all_aclus)\n",
    "# Find only the aclus that are pyramidal:\n",
    "is_aclu_pyramidal = (neuron_type == NeuronType.PYRAMIDAL)\n",
    "pyramidal_only_all_aclus = all_aclus[is_aclu_pyramidal]\n",
    "print(f'num pyramidal_only_all_aclus: {len(pyramidal_only_all_aclus)}\\npyramidal_only_all_aclus: {pyramidal_only_all_aclus}')\n",
    "\n",
    "is_aclu_interneuron = (neuron_type == NeuronType.INTERNEURONS)\n",
    "interneuron_only_all_aclus = all_aclus[is_aclu_interneuron]\n",
    "print(f'num interneuron_only_all_aclus: {len(interneuron_only_all_aclus)}\\ninterneurons: {interneuron_only_all_aclus}')\n",
    "\n",
    "# app, win, plots, plots_data = plot_kourosh_activity_style_figure(long_results_obj, long_session, shared_aclus, epoch_idx=5, callout_epoch_IDXs=[0,1,2,3], skip_rendering_callouts=True)\n",
    "# app, win, plots, plots_data = plot_kourosh_activity_style_figure(long_results_obj, long_session, pyramidal_only_shared_aclus, epoch_idx=2, callout_epoch_IDXs=[0,4], skip_rendering_callouts=False)\n",
    "app, win, self.plots, self.plots_data = plot_kourosh_activity_style_figure(long_results_obj, long_session, pyramidal_only_all_aclus, epoch_idx=6, callout_epoch_IDXs=[2,4,6], skip_rendering_callouts=False)"
   ]
  },
  {
   "cell_type": "code",
   "execution_count": null,
   "id": "985977d8",
   "metadata": {},
   "outputs": [],
   "source": [
    "\n",
    "# Use the Jupyter Index Thing\n",
    "from pyphoplacecellanalysis.Analysis.Decoder.decoder_result import DiagnosticDistanceMetricFigure\n",
    "\n",
    "## Render the internactive slider that allows selecting the timebin index to debug\n",
    "n_timebins = np.sum(long_results_obj.all_epochs_num_epoch_time_bins)\n",
    "timebinned_neuron_info = long_results_obj.timebinned_neuron_info\n",
    "result = long_results_obj.new_result\n",
    "active_fig_obj, update_function = DiagnosticDistanceMetricFigure.build_interactive_diagnostic_distance_metric_figure(long_results_obj, timebinned_neuron_info, result)\n",
    "active_fig_obj.integer_slider(n_timebins=n_timebins, update_func=update_function)"
   ]
  },
  {
   "cell_type": "code",
   "execution_count": null,
   "id": "3e1aa692",
   "metadata": {},
   "outputs": [],
   "source": [
    "active_fig_obj.export()"
   ]
  },
  {
   "cell_type": "code",
   "execution_count": null,
   "id": "5ea983fe",
   "metadata": {},
   "outputs": [],
   "source": [
    "app, win, self.plots, self.plots_data = plot_kourosh_activity_style_figure(long_results_obj, long_session, pyramidal_only_all_aclus, epoch_idx=11, callout_epoch_IDXs=[0,1,2, 3, 4, 5], skip_rendering_callouts=False)"
   ]
  },
  {
   "attachments": {},
   "cell_type": "markdown",
   "id": "f519e392",
   "metadata": {},
   "source": [
    "# 2023-04-13 Show Surprise "
   ]
  },
  {
   "cell_type": "code",
   "execution_count": null,
   "id": "b417bb4e",
   "metadata": {},
   "outputs": [],
   "source": [
    "import pyphoplacecellanalysis.External.pyqtgraph as pg\n",
    "from pyphoplacecellanalysis.General.Pipeline.Stages.DisplayFunctions.MultiContextComparingDisplayFunctions.MultiContextComparingDisplayFunctions import plot_long_short, plot_long_short_any_values, plot_long_short_expected_vs_observed_firing_rates, _helper_add_long_short_session_indicator_regions\n",
    "# plot_long_short(long_results_obj, short_results_obj)"
   ]
  },
  {
   "cell_type": "code",
   "execution_count": null,
   "id": "feefc5f9",
   "metadata": {},
   "outputs": [],
   "source": [
    "plot_long_short_any_values(long_results_obj=long_results_obj, short_results_obj=short_results_obj)"
   ]
  },
  {
   "cell_type": "code",
   "execution_count": null,
   "id": "f6b8a7ec",
   "metadata": {},
   "outputs": [],
   "source": [
    "plot_long_short_expected_vs_observed_firing_rates(long_results_obj=long_results_obj, short_results_obj=short_results_obj, limit_aclus=[89]) # 4, 89, 28, 97"
   ]
  },
  {
   "cell_type": "code",
   "execution_count": null,
   "id": "1bdf68bc",
   "metadata": {},
   "outputs": [],
   "source": [
    "x_fn = lambda a_results_obj: a_results_obj.all_epochs_decoded_epoch_time_bins_mean[:,0]\n",
    "# y_fn = lambda a_results_obj: a_results_obj.all_epochs_all_cells_one_left_out_posterior_to_scrambled_pf_surprises_mean\n",
    "y_fn = lambda a_results_obj: a_results_obj.all_epochs_all_cells_one_left_out_posterior_to_pf_surprises_mean\n",
    "# y_fn = lambda a_results_obj: a_results_obj.all_epochs_computed_one_left_out_posterior_to_pf_surprises\n",
    "\n",
    "# (time_bins, neurons), (epochs, neurons), (epochs)\n",
    "# all_epochs_computed_one_left_out_posterior_to_pf_surprises, all_epochs_computed_cell_one_left_out_posterior_to_pf_surprises_mean, all_epochs_all_cells_one_left_out_posterior_to_pf_surprises_mean\n",
    "win, plots_tuple, legend = plot_long_short_any_values(long_results_obj, short_results_obj, x=x_fn, y=y_fn, limit_aclus=[20])"
   ]
  },
  {
   "attachments": {},
   "cell_type": "markdown",
   "id": "2fe80559",
   "metadata": {},
   "source": [
    "# 2023-04-13 - Find Good looking epochs:"
   ]
  },
  {
   "cell_type": "code",
   "execution_count": null,
   "id": "5fa9a519",
   "metadata": {},
   "outputs": [],
   "source": [
    "import matplotlib.pyplot as plt\n",
    "%matplotlib qt\n",
    "\n",
    "from pyphocorehelpers.plotting.figure_management import PhoActiveFigureManager2D"
   ]
  },
  {
   "cell_type": "code",
   "execution_count": null,
   "id": "dd46c859",
   "metadata": {},
   "outputs": [],
   "source": [
    "from pyphoplacecellanalysis.GUI.Qt.Mixins.PaginationMixins import PaginatedFigureController\n",
    "from pyphoplacecellanalysis.Pho2D.stacked_epoch_slices import DecodedEpochSlicesPaginatedFigureController\n",
    "\n",
    "active_identifying_session_ctx = curr_active_pipeline.sess.get_context()\n",
    "_out_pagination_controller = DecodedEpochSlicesPaginatedFigureController.init_from_decoder_data(long_results_obj.active_filter_epochs, long_results_obj.all_included_filter_epochs_decoder_result, \n",
    "\txbin=long_results_obj.original_1D_decoder.xbin, global_pos_df=global_session.position.df, a_name='TestDecodedEpochSlicesPaginationController', active_context=active_identifying_session_ctx,  max_subplots_per_page=10)\n",
    "# _out_pagination_controller"
   ]
  },
  {
   "cell_type": "code",
   "execution_count": null,
   "id": "b8021328",
   "metadata": {},
   "outputs": [],
   "source": []
  },
  {
   "cell_type": "code",
   "execution_count": null,
   "id": "6150f74c",
   "metadata": {},
   "outputs": [],
   "source": [
    "\n",
    "_out_pagination_controller.selected_indicies\n"
   ]
  },
  {
   "cell_type": "code",
   "execution_count": null,
   "id": "9d526f51",
   "metadata": {},
   "outputs": [],
   "source": [
    "# .\n",
    "\n",
    "current_page_idx = _out_pagination_controller.ui.mw.ui.paginator_controller_widget.current_page_idx\n",
    "curr_page_data_indicies, curr_page_data_items =  _out_pagination_controller.plots_data.paginator.get_page_data(page_idx=current_page_idx)\n",
    "curr_page_data_indicies"
   ]
  },
  {
   "cell_type": "code",
   "execution_count": null,
   "id": "4a1ace00",
   "metadata": {},
   "outputs": [],
   "source": [
    "from pyphocorehelpers.indexing_helpers import safe_find_index_in_list\n",
    "\n",
    "def _get_current_page_data_indicies():\n",
    "\t\"\"\" captures `ui.mw.ui.paginator_controller_widget.current_page_idx`, `plots_data.paginator` \"\"\"\n",
    "\tcurrent_page_idx = _out_pagination_controller.ui.mw.ui.paginator_controller_widget.current_page_idx\n",
    "\tcurr_page_data_indicies, curr_page_data_items =  _out_pagination_controller.plots_data.paginator.get_page_data(page_idx=current_page_idx)\n",
    "\treturn current_page_idx, curr_page_data_indicies"
   ]
  },
  {
   "cell_type": "code",
   "execution_count": null,
   "id": "4d5a6446",
   "metadata": {},
   "outputs": [],
   "source": [
    "from PendingNotebookCode import PaginatedSelectionManager\n",
    "\n",
    "\n",
    "sel_man = PaginatedSelectionManager(axes=_out_pagination_controller.plots.axs, fig=_out_pagination_controller.plots.fig)\n",
    "\n",
    "def on_page_change(updated_page_idx):\n",
    "    # print(f'on_page_change(updated_page_idx: {updated_page_idx})')\n",
    "    # Update on page change:\n",
    "    sel_man.perform_update()\n",
    "\n",
    "ui.mw.ui.paginator_controller_widget.jump_to_page.connect(on_page_change)"
   ]
  },
  {
   "cell_type": "code",
   "execution_count": null,
   "id": "8b69d31e",
   "metadata": {},
   "outputs": [],
   "source": [
    "sel_man.is_selected"
   ]
  },
  {
   "cell_type": "code",
   "execution_count": null,
   "id": "693f6443",
   "metadata": {},
   "outputs": [],
   "source": [
    "from PendingNotebookCode import SelectionManager\n",
    "\n",
    "# Create a SelectionManager instance\n",
    "sm = SelectionManager(self.plots.axs)"
   ]
  },
  {
   "cell_type": "code",
   "execution_count": null,
   "id": "fb271d6d",
   "metadata": {},
   "outputs": [],
   "source": [
    "sm.is_selected"
   ]
  },
  {
   "cell_type": "code",
   "execution_count": null,
   "id": "e810bced",
   "metadata": {},
   "outputs": [],
   "source": [
    "posterior_containers = filter_epochs_decoder_result.marginal_x_list.copy()\n",
    "\n",
    "[a_marginal_x_list.p_x_given_n for a_marginal_x_list in filter_epochs_decoder_result.marginal_x_list]\n",
    "[a_marginal_x_list.most_likely_positions_1D for a_marginal_x_list in filter_epochs_decoder_result.marginal_x_list]\n",
    "\n",
    "posterior_containers\n",
    "# posterior_containers = np.array(filter_epochs_decoder_result.marginal_x_list.copy())"
   ]
  },
  {
   "cell_type": "code",
   "execution_count": null,
   "id": "079f7a60",
   "metadata": {},
   "outputs": [],
   "source": [
    "included_page_data_indicies, (curr_page_active_filter_epochs, curr_page_epoch_labels, curr_page_time_bin_containers, curr_page_posterior_containers) = epoch_slices_paginator.get_page_data(page_idx=1)\n",
    "# included_page_data_indicies, (curr_page_active_filter_epochs, curr_page_epoch_labels, curr_page_time_bin_containers) = epoch_slices_paginator.get_page_data(page_idx=1)\n",
    "included_page_data_indicies\n",
    "curr_page_posterior_containers[0].p_x_given_n\n"
   ]
  },
  {
   "cell_type": "code",
   "execution_count": null,
   "id": "559ffa23",
   "metadata": {},
   "outputs": [],
   "source": [
    "from pyphoplacecellanalysis.Analysis.Decoder.reconstruction import DecodedFilterEpochsResult\n",
    "from pyphocorehelpers.indexing_helpers import safe_len\n",
    "\n",
    "# {k:safe_len(v) for k,v in filter_epochs_decoder_result.__dict__.items() if (safe_len(v) or 0) > 0}\n",
    "\n",
    "## Only get the items that are num_filter_epochs long:\n",
    "epoch_splittable_items = {k:v for k,v in filter_epochs_decoder_result.__dict__.items() if (safe_len(v) or 0) == filter_epochs_decoder_result.num_filter_epochs}\n",
    "# epoch_splittable_items\n",
    "epoch_splittable_item_names = list(epoch_splittable_items.keys())\n",
    "# print(epoch_splittable_item_names)\n",
    "# ('most_likely_positions_list', 'p_x_given_n_list', 'marginal_x_list', 'marginal_y_list', 'most_likely_position_indicies_list', 'spkcount', 'nbins', 'time_bin_containers', 'time_bin_edges')\n",
    "# epoch_splittable_item_values = [epoch_splittable_items[k] for k in ('most_likely_positions_list', 'p_x_given_n_list', 'marginal_x_list', 'marginal_y_list', 'most_likely_position_indicies_list', 'nbins', 'time_bin_containers', 'time_bin_edges')]\n",
    "epoch_splittable_item_values = [epoch_splittable_items[k] for k in ('epoch_description_list','time_bin_containers','marginal_x_list')]\n",
    "# epoch_splittable_item_values"
   ]
  },
  {
   "cell_type": "code",
   "execution_count": null,
   "id": "4ed0656a",
   "metadata": {},
   "outputs": [],
   "source": [
    "# [23, 27, 29, ]\n",
    "[16, 17, 18, 20, 21, 22, 23, 25, 26, 29]\n"
   ]
  },
  {
   "attachments": {},
   "cell_type": "markdown",
   "id": "7e6526e9",
   "metadata": {},
   "source": [
    "# 2023-03-28 - Playing around with older computations/visualizations from the `_display_short_long_firing_rate_index_comparison` era:"
   ]
  },
  {
   "attachments": {},
   "cell_type": "markdown",
   "id": "5d2e9eb6",
   "metadata": {},
   "source": [
    "\n",
    "2023-04-20 - Encountered issue with the replays in session '2006-6-08_14-26-15' where they are duplicated exactly twice, like the first half of the rows are legitimate entries and the second half are directly repeated versions of the first with the only difference appearing to be the 'epoch_id' column changes from 1 to 2. 'rel_id' column seems incorrect but different for some reason. It must be how the MATLAB script exports the values.\n",
    "\n",
    "Also when I'm looking at only the `short_session.replay` there are many non-2 'epoch_id' values, which is strange. \n",
    "\n",
    "TODO: It could have something to do with Jonathan's code maybe? Because the 'replay_r' and 'replay_p' columns he added are different. SEEMS FALSE. It's this way even without running Jonathan's code, although the values might have been saved later?\n",
    "\tAlso flat_replay_idx jumps from 689 to 1087 at the transition from epoch_id 1 to 2\n",
    "\n",
    "UPDATE: the 'replay_r' and 'replay_p' columns aren't from Joanthan, they're in the original .replay_info.mat that's imported!\n"
   ]
  },
  {
   "attachments": {},
   "cell_type": "markdown",
   "id": "1a13cccd",
   "metadata": {},
   "source": [
    "# Plot long|short firing rate index using 'long_short_fr_indicies_analyses':"
   ]
  },
  {
   "cell_type": "code",
   "execution_count": null,
   "id": "caab469b",
   "metadata": {},
   "outputs": [],
   "source": [
    "# fig_save_parent_path = Path(r'E:\\Dropbox (Personal)\\Active\\Kamran Diba Lab\\Results from 2023-01-20 - LongShort Firing Rate Indicies')\n",
    "## Get the output path (active_session_figures_out_path) for this session (and all of its filtered_contexts as well):\n",
    "active_identifying_session_ctx = curr_active_pipeline.sess.get_context() # 'bapun_RatN_Day4_2019-10-15_11-30-06'\n",
    "figures_parent_out_path = create_daily_programmatic_display_function_testing_folder_if_needed()\n",
    "active_session_figures_out_path = session_context_to_relative_path(figures_parent_out_path, active_identifying_session_ctx)\n",
    "print(f'curr_session_parent_out_path: {active_session_figures_out_path}')\n",
    "active_session_figures_out_path.mkdir(parents=True, exist_ok=True) # make folder if needed\n",
    "curr_active_pipeline.display('_display_short_long_firing_rate_index_comparison', curr_active_pipeline.sess.get_context(), fig_save_parent_path=active_session_figures_out_path)\n",
    "# plt.close() # closes the current figure"
   ]
  },
  {
   "cell_type": "code",
   "execution_count": 120,
   "id": "a71511c3",
   "metadata": {},
   "outputs": [
    {
     "name": "stdout",
     "output_type": "stream",
     "text": [
      "Saving plot_long_short_firing_rate_indicies results results : c:\\Users\\pho\\repos\\Spike3DWorkEnv\\Spike3D\\kdiba_gor01_one_2006-6-08_14-26-15_long_short_firing_rate_indicies.png... done.\n"
     ]
    },
    {
     "name": "stderr",
     "output_type": "stream",
     "text": [
      "[autoreload of pyphoplacecellanalysis.General.Pipeline.Stages.DisplayFunctions.MultiContextComparingDisplayFunctions.LongShortTrackComparingDisplayFunctions failed: Traceback (most recent call last):\n",
      "  File \"c:\\Users\\pho\\AppData\\Local\\pypoetry\\Cache\\virtualenvs\\spike3d-WtdfU5rp-py3.9\\lib\\site-packages\\IPython\\extensions\\autoreload.py\", line 271, in check\n",
      "    superreload(m, reload, self.old_objects, self.shell)\n",
      "  File \"c:\\Users\\pho\\AppData\\Local\\pypoetry\\Cache\\virtualenvs\\spike3d-WtdfU5rp-py3.9\\lib\\site-packages\\IPython\\extensions\\autoreload.py\", line 496, in superreload\n",
      "    update_generic(old_obj, new_obj)\n",
      "  File \"c:\\Users\\pho\\AppData\\Local\\pypoetry\\Cache\\virtualenvs\\spike3d-WtdfU5rp-py3.9\\lib\\site-packages\\IPython\\extensions\\autoreload.py\", line 393, in update_generic\n",
      "    update(a, b)\n",
      "  File \"c:\\Users\\pho\\AppData\\Local\\pypoetry\\Cache\\virtualenvs\\spike3d-WtdfU5rp-py3.9\\lib\\site-packages\\IPython\\extensions\\autoreload.py\", line 361, in update_class\n",
      "    update_instances(old, new)\n",
      "  File \"c:\\Users\\pho\\AppData\\Local\\pypoetry\\Cache\\virtualenvs\\spike3d-WtdfU5rp-py3.9\\lib\\site-packages\\IPython\\extensions\\autoreload.py\", line 319, in update_instances\n",
      "    object.__setattr__(ref, \"__class__\", new)\n",
      "TypeError: can't apply this __setattr__ to DisplayFunctionRegistryHolder object\n",
      "]\n",
      "C:\\Users\\pho\\repos\\Spike3DWorkEnv\\pyPhoPlaceCellAnalysis\\src\\pyphoplacecellanalysis\\General\\Pipeline\\Stages\\DisplayFunctions\\MultiContextComparingDisplayFunctions\\LongShortTrackComparingDisplayFunctions.py:1160: UserWarning: Matplotlib is currently using agg, which is a non-GUI backend, so cannot show the figure.\n",
      "  \n"
     ]
    },
    {
     "data": {
      "text/plain": [
       "MatplotlibRenderPlots({'name': 'display_short_long_firing_rate_index_comparison', 'figures': <Figure size 850x725 with 1 Axes>, 'axes': (<Axes: title={'center': 'Computed long ($L$)|short($S$) firing rate indicies'}, xlabel='Replay Firing Rate Index $\\\\frac{L_{R}-S_{R}}{L_{R} + S_{R}}$', ylabel='Laps Firing Rate Index $\\\\frac{L_{\\\\theta}-S_{\\\\theta}}{L_{\\\\theta} + S_{\\\\theta}}$'>,), 'plot_data': {}})"
      ]
     },
     "execution_count": 120,
     "metadata": {},
     "output_type": "execute_result"
    }
   ],
   "source": [
    "curr_active_pipeline.display('_display_short_long_firing_rate_index_comparison', long_short_fr_indicies_analysis_results['active_context'], fig_save_parent_path=None)\n"
   ]
  },
  {
   "cell_type": "code",
   "execution_count": null,
   "id": "53e5e3dc",
   "metadata": {},
   "outputs": [],
   "source": [
    "import matplotlib\n",
    "# configure backend here\n",
    "# matplotlib.use('Qt5Agg')\n",
    "# backend_qt5agg\n",
    "matplotlib.use('Qt5Agg') # non-interactive backend ## 2022-08-16 - Surprisingly this works to make the matplotlib figures render only to .png file, not appear on the screen!\n",
    "from pyphoplacecellanalysis.General.Pipeline.Stages.DisplayFunctions.MultiContextComparingDisplayFunctions.LongShortTrackComparingDisplayFunctions import _plot_long_short_firing_rate_indicies\n",
    "\n",
    "\n",
    "# Plot long|short firing rate index:\n",
    "long_short_fr_indicies_analysis_results = curr_active_pipeline.global_computation_results.computed_data['long_short_fr_indicies_analysis']\n",
    "x_frs_index, y_frs_index = long_short_fr_indicies_analysis_results['x_frs_index'], long_short_fr_indicies_analysis_results['y_frs_index'] # use the all_results_dict as the computed data value\n",
    "active_context = long_short_fr_indicies_analysis_results['active_context']\n",
    "fig, _temp_full_fig_save_path = _plot_long_short_firing_rate_indicies(x_frs_index, y_frs_index, active_context, fig_save_parent_path=None, debug_print=False)\n",
    "fig.show()"
   ]
  },
  {
   "cell_type": "code",
   "execution_count": 132,
   "id": "e8fcb225",
   "metadata": {},
   "outputs": [],
   "source": [
    "ax = plt.gca()\n"
   ]
  },
  {
   "cell_type": "code",
   "execution_count": 133,
   "id": "4f7a776e",
   "metadata": {},
   "outputs": [],
   "source": [
    "ax.spines[['top', 'right']].set_visible(True)"
   ]
  },
  {
   "cell_type": "code",
   "execution_count": null,
   "id": "0165676b",
   "metadata": {},
   "outputs": [],
   "source": [
    "# curr_active_pipeline.perform_specific_computation(computation_functions_name_whitelist=['_perform_short_long_firing_rate_analyses'], fail_on_exception=True, debug_print=False) # fail_on_exception MUST be True or error handling is all messed up \n",
    "long_short_fr_indicies_analysis_results = curr_active_pipeline.global_computation_results.computed_data['long_short_fr_indicies_analysis']\n",
    "x_frs_index, y_frs_index = long_short_fr_indicies_analysis_results['x_frs_index'], long_short_fr_indicies_analysis_results['y_frs_index'] # use the all_results_dict as the computed data value\n",
    "active_context = long_short_fr_indicies_analysis_results['active_context']\n",
    "long_short_fr_indicies_analysis_results"
   ]
  },
  {
   "attachments": {},
   "cell_type": "markdown",
   "id": "e0409e08",
   "metadata": {},
   "source": [
    "# Other Programmatic Figures"
   ]
  },
  {
   "cell_type": "code",
   "execution_count": null,
   "id": "3ecc42a2",
   "metadata": {},
   "outputs": [],
   "source": [
    "batch_extended_programmatic_figures(curr_active_pipeline=curr_active_pipeline)"
   ]
  },
  {
   "cell_type": "code",
   "execution_count": null,
   "id": "4289a4c9",
   "metadata": {},
   "outputs": [],
   "source": [
    "batch_programmatic_figures(curr_active_pipeline=curr_active_pipeline)"
   ]
  },
  {
   "cell_type": "code",
   "execution_count": null,
   "id": "5977e9df",
   "metadata": {},
   "outputs": [],
   "source": [
    "# Output the 2D placefields for my presentation\n",
    "from neuropy.core.neuron_identities import PlotStringBrevityModeEnum\n",
    "from neuropy.plotting.ratemaps import BackgroundRenderingOptions"
   ]
  },
  {
   "cell_type": "code",
   "execution_count": null,
   "id": "64cbba87",
   "metadata": {},
   "outputs": [],
   "source": [
    "\n",
    "# '_display_2d_placefield_result_plot_ratemaps_2D'\n",
    "# %matplotlib inline\n",
    "%matplotlib qt\n",
    "# curr_active_pipeline.display('_display_2d_placefield_result_plot_ratemaps_2D', long_epoch_context) # MatplotlibRenderPlots\n"
   ]
  },
  {
   "cell_type": "code",
   "execution_count": null,
   "id": "48029c22",
   "metadata": {},
   "outputs": [],
   "source": [
    "\n",
    "# long_pf2D.plot_occupancy()\n",
    "_out = short_one_step_decoder_2D.pf.plot_ratemaps_2D(included_unit_neuron_IDs=[2,4,5], bg_rendering_mode=BackgroundRenderingOptions.EMPTY, use_special_overlayed_title=False, missing_aclu_string_formatter=None, debug_print=False, brev_mode=PlotStringBrevityModeEnum.NONE)\n",
    "\n",
    "## Single column output: subplots=(None, 9)\n"
   ]
  },
  {
   "cell_type": "code",
   "execution_count": null,
   "id": "14977e80",
   "metadata": {},
   "outputs": [],
   "source": [
    "# %%capture\n",
    "active_display_to_pdf_fn(curr_active_pipeline, curr_display_function_name='_display_1d_placefields', debug_print=False) # 🟢✅ Now seems to be working and saving to PDF!! Still using matplotlib.use('Qt5Agg') mode and plots still appear."
   ]
  },
  {
   "cell_type": "code",
   "execution_count": null,
   "id": "c2686e3f",
   "metadata": {},
   "outputs": [],
   "source": [
    "long_shared_aclus_only_decoder.pf.plot_occupancy()"
   ]
  },
  {
   "cell_type": "code",
   "execution_count": null,
   "id": "37ae6c7f",
   "metadata": {},
   "outputs": [],
   "source": [
    "%matplotlib qt\n",
    "long_one_step_decoder_2D.pf.plot_occupancy()"
   ]
  },
  {
   "cell_type": "code",
   "execution_count": null,
   "id": "a8006610",
   "metadata": {},
   "outputs": [],
   "source": [
    "long_one_step_decoder_2D.pf.plot_ratemaps_2D()"
   ]
  },
  {
   "cell_type": "code",
   "execution_count": null,
   "id": "d49dcc7e",
   "metadata": {},
   "outputs": [],
   "source": [
    "# curr_active_pipeline.display('_display_short_long_pf1D_comparison', active_session_configuration_context=global_epoch_context, single_figure=False)\n",
    "\n",
    "short_one_step_decoder_1D"
   ]
  },
  {
   "cell_type": "code",
   "execution_count": null,
   "id": "402834bd",
   "metadata": {},
   "outputs": [],
   "source": [
    "%matplotlib inline\n",
    "active_identifying_session_ctx = curr_active_pipeline.sess.get_context() # 'bapun_RatN_Day4_2019-10-15_11-30-06'\n",
    "\n",
    "long_single_cell_pfmap_processing_fn = None\n",
    "short_single_cell_pfmap_processing_fn = None\n",
    "\n",
    "# long_single_cell_pfmap_processing_fn = lambda i, aclu, pfmap: 0.5 * pfmap # flip over the y-axis\n",
    "# short_single_cell_pfmap_processing_fn = lambda i, aclu, pfmap: -0.5 * pfmap # flip over the y-axis\n",
    "\n",
    "# pad = 1\n",
    "# long_single_cell_pfmap_processing_fn = lambda i, aclu, pfmap: (0.5 * pfmap) + (0.5*pad) # shift the baseline up by half\n",
    "# short_single_cell_pfmap_processing_fn = lambda i, aclu, pfmap: (-0.5 * pfmap * pad) + (0.5*pad) # flip over the y-axis, shift the baseline down by half\n",
    "\n",
    "# pad = 1\n",
    "# long_single_cell_pfmap_processing_fn = lambda i, aclu, pfmap: (0.5 * pfmap * pad) + (0.5*pad) # shift the baseline up by half\n",
    "# short_single_cell_pfmap_processing_fn = lambda i, aclu, pfmap: (0.5 * pfmap * pad) + (0.5*pad) # flip over the y-axis, shift the baseline down by half\n",
    "# long_single_cell_pfmap_processing_fn = lambda i, aclu, pfmap: (0.5 * pfmap * pad) # shift the baseline up by half\n",
    "# short_single_cell_pfmap_processing_fn = lambda i, aclu, pfmap: (0.5 * pfmap * pad) # flip over the y-axis, shift the baseline down by half\n",
    "\n",
    "\n",
    "# long_single_cell_pfmap_processing_fn = lambda i, aclu, pfmap: (1.0 * pfmap * pad) # shift the baseline up by half\n",
    "# short_single_cell_pfmap_processing_fn = lambda i, aclu, pfmap: (-1.0 * pfmap * pad) + (1.0*pad) # this does not work and results in short being fully filled. I think this is because the fill_between gets reversed since everything is below baseline\n",
    "\n",
    "sort_idx = None\n",
    "\n",
    "out = curr_active_pipeline.display('_display_short_long_pf1D_comparison', active_identifying_session_ctx, single_figure=False, debug_print=False, fignum='Short v Long pf1D Comparison',\n",
    "                                   long_kwargs={'sortby': sort_idx, 'single_cell_pfmap_processing_fn': long_single_cell_pfmap_processing_fn},\n",
    "                                   short_kwargs={'sortby': sort_idx, 'single_cell_pfmap_processing_fn': short_single_cell_pfmap_processing_fn, 'curve_hatch_style': {'hatch':'///', 'edgecolor':'k'}},\n",
    "                                  )\n",
    "\n",
    "# ax = out.axes[0]"
   ]
  },
  {
   "cell_type": "code",
   "execution_count": null,
   "id": "d0cfbb30",
   "metadata": {},
   "outputs": [],
   "source": [
    "sort_idx = np.argsort(product_overlap_scalars_df.prod_overlap.to_numpy())[::-1] # the `[::-1]` term reverses the array, which by defaul is returned in ascending order and we want descending\n",
    "sort_idx"
   ]
  },
  {
   "cell_type": "code",
   "execution_count": null,
   "id": "fe831b56",
   "metadata": {},
   "outputs": [],
   "source": [
    "\n",
    "\n",
    "curr_ratemap = long_one_step_decoder_1D.pf.ratemap\n",
    "curr_ratemap.get_sort_indicies()\n",
    "# .pf1D.ratemap"
   ]
  },
  {
   "attachments": {},
   "cell_type": "markdown",
   "id": "b1e8629a",
   "metadata": {},
   "source": [
    "# 2023-04-27 - Idea: Candidate Replay \"Quality\" Metric\n",
    "Observed that I visually distinguish \"good\" replays from bad ones based on their mostly-monotonically increasing nature.\n",
    "\n",
    "#### They don't have to:\n",
    "\tSpan the whole track\n",
    "\tStart or end at an end-cap\n",
    "\tIncrease linearly\n",
    "\n",
    "#### The algorithm must:\n",
    "\ttolerate ocasional jumps in an otherwise linear sequence\n",
    "\tallow sequences to \"start\" only halfway through. They should extract out the coherent sequence\n",
    "\n",
    "#### Ideas:\n",
    "\t- just a linear fit\n",
    "\t- a monotonicity check using some sort of cumulative sum over the differences in position.\n",
    "\t- \"radon transform\"?"
   ]
  },
  {
   "attachments": {},
   "cell_type": "markdown",
   "id": "de511aa5",
   "metadata": {},
   "source": [
    "# 2023-05-02 - Session Validation Check Info\n",
    "Generate info about the number of laps detected, the duration, the number of cells, the number of replays, etc for the active session so that it can be ensured that there wasn't an error that is messing up the analysis."
   ]
  },
  {
   "cell_type": "code",
   "execution_count": null,
   "id": "15697281",
   "metadata": {},
   "outputs": [],
   "source": [
    "\n",
    "\n",
    "curr_active_pipeline.active_sess_config"
   ]
  },
  {
   "cell_type": "code",
   "execution_count": null,
   "id": "d5045805",
   "metadata": {},
   "outputs": [],
   "source": [
    "from neuropy.utils.debug_helpers import debug_print_placefield, debug_print_spike_counts, debug_print_subsession_neuron_differences, print_aligned_columns\n",
    "from neuropy.utils.misc import print_seconds_human_readable\n",
    "\n",
    "debug_print_spike_counts(global_session)"
   ]
  },
  {
   "cell_type": "code",
   "execution_count": null,
   "id": "80205471",
   "metadata": {},
   "outputs": [],
   "source": [
    "from pyphoplacecellanalysis.General.Mixins.CrossComputationComparisonHelpers import _compare_computation_results\n",
    "# curr_active_pipeline.computation_results\n",
    "# pf_neurons_diff = _compare_computation_results(curr_active_pipeline.computation_results.maze1_PYR, curr_active_pipeline.computation_results.maze2_PYR)\n",
    "pf_neurons_diff = _compare_computation_results(long_results, short_results)\n",
    "pf_neurons_diff"
   ]
  },
  {
   "cell_type": "code",
   "execution_count": null,
   "id": "0000ecb5",
   "metadata": {},
   "outputs": [],
   "source": [
    "print(pf_neurons_diff)"
   ]
  },
  {
   "cell_type": "code",
   "execution_count": null,
   "id": "8693c951",
   "metadata": {},
   "outputs": [],
   "source": [
    "\n",
    "from neuropy.analyses.laps import estimate_session_laps\n",
    "\n",
    "curr_laps = global_session.laps\n",
    "curr_laps.to_dataframe()"
   ]
  },
  {
   "cell_type": "code",
   "execution_count": null,
   "id": "5570d369",
   "metadata": {},
   "outputs": [],
   "source": [
    "\n",
    "# Build the new laps first:\n",
    "# global_session = estimate_session_laps(global_session)\n",
    "\n",
    "global_session.replace_session_laps_with_estimates()"
   ]
  },
  {
   "attachments": {},
   "cell_type": "markdown",
   "id": "7125b9f7",
   "metadata": {},
   "source": [
    "### Plotting Validations"
   ]
  },
  {
   "cell_type": "code",
   "execution_count": null,
   "id": "0b942014",
   "metadata": {},
   "outputs": [],
   "source": [
    "%matplotlib qt\n",
    "short_one_step_decoder_1D.pf.plot_ratemaps_1D()"
   ]
  },
  {
   "cell_type": "code",
   "execution_count": null,
   "id": "8bfe7eb9",
   "metadata": {},
   "outputs": [],
   "source": [
    "short_results.pf1D_Decoder.pf.plot_ratemaps_1D()"
   ]
  },
  {
   "cell_type": "code",
   "execution_count": null,
   "id": "2bed5960",
   "metadata": {},
   "outputs": [],
   "source": [
    "short_results.pf2D_Decoder.pf.plot_ratemaps_2D()\n",
    "short_one_step_decoder_2D.pf.plot_ratemaps_2D()"
   ]
  },
  {
   "cell_type": "code",
   "execution_count": null,
   "id": "a7ea99e3",
   "metadata": {},
   "outputs": [],
   "source": [
    "%matplotlib qt\n",
    "long_session.plot_laps_2d()"
   ]
  },
  {
   "cell_type": "code",
   "execution_count": null,
   "id": "a0d18bc8",
   "metadata": {},
   "outputs": [],
   "source": [
    "from pyphoplacecellanalysis.PhoPositionalData.plotting.laps import plot_laps_2d\n",
    "\n",
    "%matplotlib qt\n",
    "fig, out_axes_list = plot_laps_2d(global_session, legacy_plotting_mode=False)\n",
    "out_axes_list[0].set_title('New Pho Position Thresholding Estimated Laps')\n",
    "fig.canvas.manager.set_window_title('New Pho Position Thresholding Estimated Laps')"
   ]
  },
  {
   "cell_type": "code",
   "execution_count": null,
   "id": "cae2e3a2",
   "metadata": {},
   "outputs": [],
   "source": [
    "## Laps \n",
    "from pyphoplacecellanalysis.GUI.PyVista.InteractivePlotter.Mixins.LapsVisualizationMixin import LapsVisualizationMixin\n",
    "\n",
    "curr_position_df, lap_specific_position_dfs = LapsVisualizationMixin._compute_laps_specific_position_dfs(curr_active_pipeline.sess)\n",
    "lap_specific_position_dfs = [curr_position_df.groupby('lap').get_group(i)[['t','x','y','lin_pos']] for i in curr_active_pipeline.sess.laps.lap_id] # dataframes split for each ID:\n",
    "laps_position_times_list = [np.squeeze(lap_pos_df[['t']].to_numpy()) for lap_pos_df in lap_specific_position_dfs]\n",
    "laps_position_traces_list = [lap_pos_df[['x','y']].to_numpy().T for lap_pos_df in lap_specific_position_dfs]\n",
    "## Build Epochs:\n",
    "epochs = curr_active_pipeline.sess.laps.to_dataframe()\n",
    "epoch_slices = epochs[['start', 'stop']].to_numpy()\n",
    "epoch_description_list = [f'lap {epoch_tuple.lap_id} (maze: {epoch_tuple.maze_id}, direction: {epoch_tuple.lap_dir})' for epoch_tuple in epochs[['lap_id','maze_id','lap_dir']].itertuples()]\n",
    "# print(f'epoch_description_list: {epoch_description_list}') # epoch_descriptions: ['lap 41 (maze: 2, direction: 1)', 'lap 42 (maze: 2, direction: 0)', 'lap 43 (maze: 2, direction: 1)', 'lap 44 (maze: 2, direction: 0)', 'lap 45 (maze: 2, direction: 1)', 'lap 46 (maze: 2, direction: 0)', 'lap 47 (maze: 2, direction: 1)', 'lap 48 (maze: 2, direction: 0)', 'lap 49 (maze: 2, direction: 1)', 'lap 50 (maze: 2, direction: 0)', 'lap 51 (maze: 2, direction: 1)', 'lap 52 (maze: 2, direction: 0)', 'lap 53 (maze: 2, direction: 1)', 'lap 54 (maze: 2, direction: 0)', 'lap 55 (maze: 2, direction: 1)', 'lap 56 (maze: 2, direction: 0)', 'lap 57 (maze: 2, direction: 1)', 'lap 58 (maze: 2, direction: 0)', 'lap 59 (maze: 2, direction: 1)', 'lap 60 (maze: 2, direction: 0)', 'lap 61 (maze: 2, direction: 1)', 'lap 62 (maze: 2, direction: 0)', 'lap 63 (maze: 2, direction: 1)', 'lap 64 (maze: 2, direction: 0)', 'lap 65 (maze: 2, direction: 1)', 'lap 66 (maze: 2, direction: 0)', 'lap 67 (maze: 2, direction: 1)', 'lap 68 (maze: 2, direction: 0)', 'lap 69 (maze: 2, direction: 1)', 'lap 70 (maze: 2, direction: 0)', 'lap 71 (maze: 2, direction: 1)', 'lap 72 (maze: 2, direction: 0)', 'lap 73 (maze: 2, direction: 1)', 'lap 74 (maze: 2, direction: 0)', 'lap 75 (maze: 2, direction: 1)', 'lap 76 (maze: 2, direction: 0)', 'lap 77 (maze: 2, direction: 1)', 'lap 78 (maze: 2, direction: 0)', 'lap 79 (maze: 2, direction: 1)']\n",
    "# -"
   ]
  },
  {
   "cell_type": "code",
   "execution_count": null,
   "id": "8563d92e",
   "metadata": {},
   "outputs": [],
   "source": [
    "\n",
    "def debug_print_subsession_epochs_differences(num_updated_total_items: int, num_original_total_items: int, item_label=None, subsession_name=None):\n",
    "    print('{}/{} total {} remain in subsession {}'.format(num_updated_total_items, num_original_total_items, (item_label or \"items\"), (subsession_name or \"\")))\n",
    "\n",
    "\n",
    "debug_print_subsession_epochs_differences(num_updated_total_items=len(long_session.replay), num_original_total_items=len(long_session.replay_backup), item_label='replays', subsession_name='\"long\"')\n",
    "debug_print_subsession_epochs_differences(num_updated_total_items=len(short_session.replay), num_original_total_items=len(short_session.replay_backup), item_label='replays', subsession_name='\"short\"')\n",
    "\n",
    "print_aligned_columns\n",
    "# "
   ]
  },
  {
   "cell_type": "code",
   "execution_count": null,
   "id": "7b9b96f6",
   "metadata": {},
   "outputs": [],
   "source": []
  },
  {
   "cell_type": "code",
   "execution_count": null,
   "id": "af8f3fcf",
   "metadata": {},
   "outputs": [],
   "source": []
  }
 ],
 "metadata": {
  "kernelspec": {
   "display_name": "spike3d-poetry",
   "language": "python",
   "name": "spike3d-poetry"
  },
  "language_info": {
   "codemirror_mode": {
    "name": "ipython",
    "version": 3
   },
   "file_extension": ".py",
   "mimetype": "text/x-python",
   "name": "python",
   "nbconvert_exporter": "python",
   "pygments_lexer": "ipython3",
   "version": "3.9.13"
  },
  "toc-showmarkdowntxt": false,
  "toc-showtags": false
 },
 "nbformat": 4,
 "nbformat_minor": 5
}
