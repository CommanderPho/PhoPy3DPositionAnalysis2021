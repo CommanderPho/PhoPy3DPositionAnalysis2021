{
 "cells": [
  {
   "cell_type": "code",
   "execution_count": 1,
   "id": "e2a4d84c-26ff-431e-b709-dccb696f756d",
   "metadata": {
    "pycharm": {
     "is_executing": false
    }
   },
   "outputs": [],
   "source": [
    "\"\"\"\n",
    "@author: pho\n",
    "\"\"\"\n",
    "%load_ext autoreload\n",
    "%autoreload 2\n",
    "import sys\n",
    "import time\n",
    "import importlib\n",
    "from pathlib import Path\n",
    "from datetime import datetime\n",
    "\n",
    "from numba import jit\n",
    "import numpy as np\n",
    "import pandas as pd\n",
    "\n",
    "# import json\n",
    "# import yaml\n",
    "# import pprint\n",
    "# from pprint import pprint, PrettyPrinter\n",
    "\n",
    "# required to enable non-blocking interaction:\n",
    "# %gui qt\n",
    "# $env:QT_API=\"pyqt6\"\n",
    "%gui qt5\n",
    "# from PyQt5.Qt import QApplication\n",
    "# # start qt event loop\n",
    "# _instance = QApplication.instance()\n",
    "# if not _instance:\n",
    "#     _instance = QApplication([])\n",
    "# app = _instance\n",
    "import pyqtgraph as pg\n",
    "from pyqtgraph.Qt import QtCore, QtGui\n",
    "import pyqtgraph.opengl as gl # for 3D raster plot\n",
    "\n",
    "# ## Panel:\n",
    "import param\n",
    "# import panel as pn\n",
    "# from panel.interact import interact, interactive, fixed, interact_manual\n",
    "# from panel.viewable import Viewer\n",
    "# pn.extension()\n",
    "\n",
    "## Pho's Custom Libraries:\n",
    "from pyphocorehelpers.general_helpers import get_arguments_as_optional_dict, inspect_callable_arguments\n",
    "from pyphocorehelpers.function_helpers import compose_functions\n",
    "from pyphocorehelpers.indexing_helpers import partition, build_spanning_bins, compute_spanning_bins, compute_position_grid_size, compute_paginated_grid_config\n",
    "from pyphocorehelpers.print_helpers import PrettyPrintable, WrappingMessagePrinter\n",
    "from pyphocorehelpers.geometry_helpers import compute_data_extent, compute_data_aspect_ratio, corner_points_from_extents\n",
    "from pyphocorehelpers.DataStructure.dynamic_parameters import DynamicParameters\n",
    "from pyphocorehelpers.performance_timing_helpers import WrappingPerformanceTimer\n",
    "from pyphocorehelpers.gui.interaction_helpers import CallbackWrapper\n",
    "\n",
    "from pyphocorehelpers.preferences_helpers import set_pho_preferences\n",
    "set_pho_preferences()\n",
    "\n",
    "# pyPhoPlaceCellAnalysis:\n",
    "from pyphoplacecellanalysis.General.Pipeline.NeuropyPipeline import NeuropyPipeline # get_neuron_identities\n",
    "from pyphoplacecellanalysis.General.SessionSelectionAndFiltering import batch_filter_session, build_custom_epochs_filters\n",
    "from pyphoplacecellanalysis.General.KnownDataSessionTypeProperties import KnownDataSessionTypeProperties\n",
    "from pyphoplacecellanalysis.General.Pipeline.Stages.Display import DefaultDisplayFunctions\n",
    "from pyphoplacecellanalysis.General.Pipeline.Stages.DisplayFunctions.Ratemaps import DefaultRatemapDisplayFunctions\n",
    "from pyphoplacecellanalysis.General.Pipeline.Stages.DisplayFunctions.DecoderPredictionError import DefaultDecoderDisplayFunctions\n",
    "from pyphoplacecellanalysis.GUI.PyQtPlot.Widgets.SpikeRasterWidgets.Spike3DRaster import Spike3DRaster\n",
    "\n",
    "from pyphoplacecellanalysis.GUI.PyQtPlot.pyqtplot_RasterPlot import plot_raster_plot, _display_pyqtgraph_raster_plot\n",
    "\n",
    "# NeuroPy (Diba Lab Python Repo) Loading\n",
    "try:\n",
    "    from neuropy import core\n",
    "\n",
    "    importlib.reload(core)\n",
    "except ImportError:\n",
    "    sys.path.append(r\"C:\\Users\\Pho\\repos\\NeuroPy\")  # Windows\n",
    "    # sys.path.append('/home/pho/repo/BapunAnalysis2021/NeuroPy') # Linux\n",
    "    # sys.path.append(r'/Users/pho/repo/Python Projects/NeuroPy') # MacOS\n",
    "    print(\"neuropy module not found, adding directory to sys.path. \\n >> Updated sys.path.\")\n",
    "    from neuropy import core\n",
    "\n",
    "# Neuropy:\n",
    "from neuropy.core.session.data_session_loader import DataSessionLoader\n",
    "from neuropy.core.session.dataSession import DataSession\n",
    "from neuropy.core.laps import Laps\n",
    "from neuropy.analyses.placefields import PlacefieldComputationParameters, perform_compute_placefields\n",
    "from neuropy.analyses.laps import estimation_session_laps\n",
    "from neuropy.core.epoch import NamedTimerange\n",
    "\n",
    "from neuropy.analyses.placefields import PlacefieldComputationParameters, perform_compute_placefields\n",
    "from neuropy.core.neuron_identities import NeuronIdentity, build_units_colormap, PlotStringBrevityModeEnum\n",
    "from neuropy.utils.debug_helpers import debug_print_placefield, debug_print_spike_counts, debug_print_subsession_neuron_differences\n",
    "from neuropy.plotting.ratemaps import enumTuningMap2DPlotVariables\n",
    "# from neuropy.utils.mixins.time_slicing import verify_non_overlapping, add_PBE_identity\n",
    "from neuropy.utils.efficient_interval_search import get_non_overlapping_epochs, drop_overlapping\n",
    "\n",
    "known_data_session_type_dict = {'kdiba':KnownDataSessionTypeProperties(load_function=(lambda a_base_dir: DataSessionLoader.kdiba_old_format_session(a_base_dir)),\n",
    "                               basedir=Path(r'R:\\data\\KDIBA\\gor01\\one\\2006-6-07_11-26-53')),\n",
    "                'bapun':KnownDataSessionTypeProperties(load_function=(lambda a_base_dir: DataSessionLoader.bapun_data_session(a_base_dir)),\n",
    "                               basedir=Path('R:\\data\\Bapun\\Day5TwoNovel'))\n",
    "               }\n",
    "known_data_session_type_dict['kdiba'].post_load_functions = [lambda a_loaded_sess: estimation_session_laps(a_loaded_sess)]\n",
    "\n",
    "enable_saving_to_disk = False\n",
    "# common_parent_foldername = Path(r'R:\\Dropbox (Personal)\\Active\\Kamran Diba Lib\\Pho-Kamran-Meetings\\Final Placemaps 2021-01-14')\n",
    "common_parent_foldername = Path(r'R:\\Dropbox (Personal)\\Active\\Kamran Diba Lib\\Pho-Kamran-Meetings\\2022-01-16')\n",
    "\n",
    "def compute_position_grid_bin_size(x, y, num_bins=(64,64), debug_print=False):\n",
    "    \"\"\" Compute Required Bin size given a desired number of bins in each dimension\n",
    "    Usage:\n",
    "        active_grid_bin = compute_position_grid_bin_size(curr_kdiba_pipeline.sess.position.x, curr_kdiba_pipeline.sess.position.y, num_bins=(64, 64)\n",
    "    \"\"\"\n",
    "    out_grid_bin_size, out_bins, out_bins_infos = compute_position_grid_size(x, y, num_bins=num_bins)\n",
    "    active_grid_bin = tuple(out_grid_bin_size)\n",
    "    if debug_print:\n",
    "        print(f'active_grid_bin: {active_grid_bin}') # (3.776841861770752, 1.043326930905373)\n",
    "    return active_grid_bin\n",
    "\n",
    "# WARNING! TODO: Changing the smooth values from (1.5, 1.5) to (0.5, 0.5) was the difference between successful running and a syntax error!\n",
    "# try:\n",
    "#     active_grid_bin\n",
    "# except NameError as e:\n",
    "#     print('setting active_grid_bin = None')\n",
    "#     active_grid_bin = None\n",
    "# finally:\n",
    "#     # active_session_computation_config = PlacefieldComputationParameters(speed_thresh=10.0, grid_bin=active_grid_bin, smooth=(1.0, 1.0), frate_thresh=0.2, time_bin_size=0.5) # if active_grid_bin is missing, figure out the name\n",
    "#     active_session_computation_config = PlacefieldComputationParameters(speed_thresh=10.0, grid_bin=active_grid_bin, smooth=(1.0, 1.0), frate_thresh=0.2, time_bin_size=0.5) # if active_grid_bin is missing, figure out the name\n",
    "\n",
    "## Dynamic mode:\n",
    "def _build_active_computation_configs(sess):\n",
    "    \"\"\" _get_computation_configs(curr_kdiba_pipeline.sess)\n",
    "        # From Diba:\n",
    "        # (3.777, 1.043) # for (64, 64) bins\n",
    "        # (1.874, 0.518) # for (128, 128) bins\n",
    "\n",
    "    \"\"\"\n",
    "    # active_grid_bin = compute_position_grid_bin_size(sess.position.x, sess.position.y, num_bins=(64, 64))\n",
    "    # active_session_computation_config.computation_epochs = None # set the placefield computation epochs to None, using all epochs.\n",
    "    # return [PlacefieldComputationParameters(speed_thresh=10.0, grid_bin=compute_position_grid_bin_size(sess.position.x, sess.position.y, num_bins=(64, 64)), smooth=(1.0, 1.0), frate_thresh=0.2, time_bin_size=0.5, computation_epochs = None)]\n",
    "    # return [PlacefieldComputationParameters(speed_thresh=10.0, grid_bin=compute_position_grid_bin_size(sess.position.x, sess.position.y, num_bins=(128, 128)), smooth=(2.0, 2.0), frate_thresh=0.2, time_bin_size=0.5, computation_epochs = None)]\n",
    "    return [PlacefieldComputationParameters(speed_thresh=10.0, grid_bin=compute_position_grid_bin_size(sess.position.x, sess.position.y, num_bins=(64, 64)), smooth=(2.0, 2.0), frate_thresh=0.2, time_bin_size=1.0, computation_epochs = None)]\n",
    "    # return [PlacefieldComputationParameters(speed_thresh=10.0, grid_bin=(3.777, 1.043), smooth=(1.0, 1.0), frate_thresh=0.2, time_bin_size=0.5, computation_epochs = None)]\n",
    "\n",
    "    # return [PlacefieldComputationParameters(speed_thresh=10.0, grid_bin=compute_position_grid_bin_size(sess.position.x, sess.position.y, num_bins=(32, 32)), smooth=(1.0, 1.0), frate_thresh=0.2, time_bin_size=0.5, computation_epochs = None),\n",
    "    #         PlacefieldComputationParameters(speed_thresh=10.0, grid_bin=compute_position_grid_bin_size(sess.position.x, sess.position.y, num_bins=(64, 64)), smooth=(1.0, 1.0), frate_thresh=0.2, time_bin_size=0.5, computation_epochs = None),\n",
    "    #         PlacefieldComputationParameters(speed_thresh=10.0, grid_bin=compute_position_grid_bin_size(sess.position.x, sess.position.y, num_bins=(128, 128)), smooth=(1.0, 1.0), frate_thresh=0.2, time_bin_size=0.5, computation_epochs = None),\n",
    "    #        ]\n",
    "\n"
   ]
  },
  {
   "cell_type": "markdown",
   "id": "a4940269-23e4-46dc-a4ae-61d512ac5e41",
   "metadata": {
    "tags": []
   },
   "source": [
    "## KDiba Format:"
   ]
  },
  {
   "cell_type": "code",
   "execution_count": 2,
   "id": "6a665992-ca4c-4a5c-86c5-badcb3d11172",
   "metadata": {
    "scrolled": true,
    "tags": []
   },
   "outputs": [
    {
     "name": "stdout",
     "output_type": "stream",
     "text": [
      "basedir is already Path object.\n",
      "\t basepath: R:\\data\\KDIBA\\gor01\\one\\2006-6-07_11-26-53\n",
      "\t session_name: 2006-6-07_11-26-53\n",
      "Loading matlab import file results to R:\\data\\KDIBA\\gor01\\one\\2006-6-07_11-26-53\\2006-6-07_11-26-53.epochs_info.mat... done.\n",
      "Loading matlab import file results to R:\\data\\KDIBA\\gor01\\one\\2006-6-07_11-26-53\\2006-6-07_11-26-53.position_info.mat... done.\n",
      "Loading matlab import file results to R:\\data\\KDIBA\\gor01\\one\\2006-6-07_11-26-53\\2006-6-07_11-26-53.spikes.mat... done.\n",
      "Failure loading .position.npy. Must recompute.\n",
      "\n",
      "Computing linear positions for all active epochs for session... Saving updated position results results to R:\\data\\KDIBA\\gor01\\one\\2006-6-07_11-26-53\\2006-6-07_11-26-53.position.npy... 2006-6-07_11-26-53.position.npy saved\n",
      "done.\n",
      "\t Failure loading .interpolated_spike_positions.npy. Must recompute.\n",
      "\n",
      "\t Saving updated interpolated spike position results results to R:\\data\\KDIBA\\gor01\\one\\2006-6-07_11-26-53\\2006-6-07_11-26-53.interpolated_spike_positions.npy... 2006-6-07_11-26-53.interpolated_spike_positions.npy saved\n",
      "done.\n",
      "Loading matlab import file results to R:\\data\\KDIBA\\gor01\\one\\2006-6-07_11-26-53\\2006-6-07_11-26-53.laps_info.mat... done.\n",
      "setting laps object.\n",
      "session.laps loaded successfully!\n",
      "Loading success: .ripple.npy.\n",
      "Loading success: .mua.npy.\n",
      "Loading success: .pbe.npy.\n",
      "Computing added spike scISI column results to filepath?... done.\n",
      "desc_crossings_x: (24,), asc_crossings_x: (24,)\n"
     ]
    },
    {
     "name": "stderr",
     "output_type": "stream",
     "text": [
      "c:\\users\\pho\\repos\\neuropy\\neuropy\\core\\laps.py:65: SettingWithCopyWarning: \n",
      "A value is trying to be set on a copy of a slice from a DataFrame.\n",
      "Try using .loc[row_indexer,col_indexer] = value instead\n",
      "\n",
      "See the caveats in the documentation: https://pandas.pydata.org/pandas-docs/stable/user_guide/indexing.html#returning-a-view-versus-a-copy\n",
      "  laps_df[['lap_id']] = laps_df[['lap_id']].astype('int')\n",
      "c:\\users\\pho\\repos\\neuropy\\neuropy\\core\\laps.py:69: SettingWithCopyWarning: \n",
      "A value is trying to be set on a copy of a slice from a DataFrame.\n",
      "Try using .loc[row_indexer,col_indexer] = value instead\n",
      "\n",
      "See the caveats in the documentation: https://pandas.pydata.org/pandas-docs/stable/user_guide/indexing.html#returning-a-view-versus-a-copy\n",
      "  laps_df[['start_spike_index', 'end_spike_index']] = laps_df[['start_spike_index', 'end_spike_index']].astype('int')\n",
      "c:\\users\\pho\\repos\\neuropy\\neuropy\\core\\laps.py:70: SettingWithCopyWarning: \n",
      "A value is trying to be set on a copy of a slice from a DataFrame.\n",
      "Try using .loc[row_indexer,col_indexer] = value instead\n",
      "\n",
      "See the caveats in the documentation: https://pandas.pydata.org/pandas-docs/stable/user_guide/indexing.html#returning-a-view-versus-a-copy\n",
      "  laps_df['num_spikes'] = laps_df['end_spike_index'] - laps_df['start_spike_index']\n",
      "c:\\users\\pho\\repos\\neuropy\\neuropy\\core\\laps.py:73: SettingWithCopyWarning: \n",
      "A value is trying to be set on a copy of a slice from a DataFrame.\n",
      "Try using .loc[row_indexer,col_indexer] = value instead\n",
      "\n",
      "See the caveats in the documentation: https://pandas.pydata.org/pandas-docs/stable/user_guide/indexing.html#returning-a-view-versus-a-copy\n",
      "  laps_df['lap_dir'] = laps_df['lap_dir'].astype('int')\n",
      "c:\\users\\pho\\repos\\neuropy\\neuropy\\core\\laps.py:81: SettingWithCopyWarning: \n",
      "A value is trying to be set on a copy of a slice from a DataFrame.\n",
      "Try using .loc[row_indexer,col_indexer] = value instead\n",
      "\n",
      "See the caveats in the documentation: https://pandas.pydata.org/pandas-docs/stable/user_guide/indexing.html#returning-a-view-versus-a-copy\n",
      "  laps_df['label'] = laps_df['lap_id'].astype('str') # add the string \"label\" column\n"
     ]
    },
    {
     "name": "stdout",
     "output_type": "stream",
     "text": [
      "Applying session filter named \"maze1\"...\n",
      "Constraining to units with type: pyramidal\n",
      "Constraining to epoch with times (start: 22.26, end: 1739.1533641185379)\n",
      "computing neurons mua for session...\n",
      "\n"
     ]
    },
    {
     "name": "stderr",
     "output_type": "stream",
     "text": [
      "c:\\users\\pho\\repos\\neuropy\\neuropy\\core\\laps.py:65: SettingWithCopyWarning: \n",
      "A value is trying to be set on a copy of a slice from a DataFrame.\n",
      "Try using .loc[row_indexer,col_indexer] = value instead\n",
      "\n",
      "See the caveats in the documentation: https://pandas.pydata.org/pandas-docs/stable/user_guide/indexing.html#returning-a-view-versus-a-copy\n",
      "  laps_df[['lap_id']] = laps_df[['lap_id']].astype('int')\n",
      "c:\\users\\pho\\repos\\neuropy\\neuropy\\core\\laps.py:69: SettingWithCopyWarning: \n",
      "A value is trying to be set on a copy of a slice from a DataFrame.\n",
      "Try using .loc[row_indexer,col_indexer] = value instead\n",
      "\n",
      "See the caveats in the documentation: https://pandas.pydata.org/pandas-docs/stable/user_guide/indexing.html#returning-a-view-versus-a-copy\n",
      "  laps_df[['start_spike_index', 'end_spike_index']] = laps_df[['start_spike_index', 'end_spike_index']].astype('int')\n",
      "c:\\users\\pho\\repos\\neuropy\\neuropy\\core\\laps.py:70: SettingWithCopyWarning: \n",
      "A value is trying to be set on a copy of a slice from a DataFrame.\n",
      "Try using .loc[row_indexer,col_indexer] = value instead\n",
      "\n",
      "See the caveats in the documentation: https://pandas.pydata.org/pandas-docs/stable/user_guide/indexing.html#returning-a-view-versus-a-copy\n",
      "  laps_df['num_spikes'] = laps_df['end_spike_index'] - laps_df['start_spike_index']\n",
      "c:\\users\\pho\\repos\\neuropy\\neuropy\\core\\laps.py:73: SettingWithCopyWarning: \n",
      "A value is trying to be set on a copy of a slice from a DataFrame.\n",
      "Try using .loc[row_indexer,col_indexer] = value instead\n",
      "\n",
      "See the caveats in the documentation: https://pandas.pydata.org/pandas-docs/stable/user_guide/indexing.html#returning-a-view-versus-a-copy\n",
      "  laps_df['lap_dir'] = laps_df['lap_dir'].astype('int')\n",
      "c:\\users\\pho\\repos\\neuropy\\neuropy\\core\\laps.py:81: SettingWithCopyWarning: \n",
      "A value is trying to be set on a copy of a slice from a DataFrame.\n",
      "Try using .loc[row_indexer,col_indexer] = value instead\n",
      "\n",
      "See the caveats in the documentation: https://pandas.pydata.org/pandas-docs/stable/user_guide/indexing.html#returning-a-view-versus-a-copy\n",
      "  laps_df['label'] = laps_df['lap_id'].astype('str') # add the string \"label\" column\n"
     ]
    },
    {
     "name": "stdout",
     "output_type": "stream",
     "text": [
      "Applying session filter named \"maze2\"...\n",
      "Constraining to units with type: pyramidal\n",
      "Constraining to epoch with times (start: 1739.1533641185379, end: 1932.4200048116618)\n",
      "computing neurons mua for session...\n",
      "\n"
     ]
    },
    {
     "name": "stderr",
     "output_type": "stream",
     "text": [
      "c:\\users\\pho\\repos\\neuropy\\neuropy\\core\\laps.py:65: SettingWithCopyWarning: \n",
      "A value is trying to be set on a copy of a slice from a DataFrame.\n",
      "Try using .loc[row_indexer,col_indexer] = value instead\n",
      "\n",
      "See the caveats in the documentation: https://pandas.pydata.org/pandas-docs/stable/user_guide/indexing.html#returning-a-view-versus-a-copy\n",
      "  laps_df[['lap_id']] = laps_df[['lap_id']].astype('int')\n",
      "c:\\users\\pho\\repos\\neuropy\\neuropy\\core\\laps.py:69: SettingWithCopyWarning: \n",
      "A value is trying to be set on a copy of a slice from a DataFrame.\n",
      "Try using .loc[row_indexer,col_indexer] = value instead\n",
      "\n",
      "See the caveats in the documentation: https://pandas.pydata.org/pandas-docs/stable/user_guide/indexing.html#returning-a-view-versus-a-copy\n",
      "  laps_df[['start_spike_index', 'end_spike_index']] = laps_df[['start_spike_index', 'end_spike_index']].astype('int')\n",
      "c:\\users\\pho\\repos\\neuropy\\neuropy\\core\\laps.py:70: SettingWithCopyWarning: \n",
      "A value is trying to be set on a copy of a slice from a DataFrame.\n",
      "Try using .loc[row_indexer,col_indexer] = value instead\n",
      "\n",
      "See the caveats in the documentation: https://pandas.pydata.org/pandas-docs/stable/user_guide/indexing.html#returning-a-view-versus-a-copy\n",
      "  laps_df['num_spikes'] = laps_df['end_spike_index'] - laps_df['start_spike_index']\n",
      "c:\\users\\pho\\repos\\neuropy\\neuropy\\core\\laps.py:73: SettingWithCopyWarning: \n",
      "A value is trying to be set on a copy of a slice from a DataFrame.\n",
      "Try using .loc[row_indexer,col_indexer] = value instead\n",
      "\n",
      "See the caveats in the documentation: https://pandas.pydata.org/pandas-docs/stable/user_guide/indexing.html#returning-a-view-versus-a-copy\n",
      "  laps_df['lap_dir'] = laps_df['lap_dir'].astype('int')\n",
      "c:\\users\\pho\\repos\\neuropy\\neuropy\\core\\laps.py:81: SettingWithCopyWarning: \n",
      "A value is trying to be set on a copy of a slice from a DataFrame.\n",
      "Try using .loc[row_indexer,col_indexer] = value instead\n",
      "\n",
      "See the caveats in the documentation: https://pandas.pydata.org/pandas-docs/stable/user_guide/indexing.html#returning-a-view-versus-a-copy\n",
      "  laps_df['label'] = laps_df['lap_id'].astype('str') # add the string \"label\" column\n"
     ]
    },
    {
     "name": "stdout",
     "output_type": "stream",
     "text": [
      "Applying session filter named \"maze\"...\n",
      "Constraining to units with type: pyramidal\n",
      "Constraining to epoch with times (start: 22.26, end: 1932.4200048116618)\n",
      "computing neurons mua for session...\n",
      "\n"
     ]
    },
    {
     "name": "stderr",
     "output_type": "stream",
     "text": [
      "c:\\users\\pho\\repos\\neuropy\\neuropy\\core\\laps.py:65: SettingWithCopyWarning: \n",
      "A value is trying to be set on a copy of a slice from a DataFrame.\n",
      "Try using .loc[row_indexer,col_indexer] = value instead\n",
      "\n",
      "See the caveats in the documentation: https://pandas.pydata.org/pandas-docs/stable/user_guide/indexing.html#returning-a-view-versus-a-copy\n",
      "  laps_df[['lap_id']] = laps_df[['lap_id']].astype('int')\n",
      "c:\\users\\pho\\repos\\neuropy\\neuropy\\core\\laps.py:69: SettingWithCopyWarning: \n",
      "A value is trying to be set on a copy of a slice from a DataFrame.\n",
      "Try using .loc[row_indexer,col_indexer] = value instead\n",
      "\n",
      "See the caveats in the documentation: https://pandas.pydata.org/pandas-docs/stable/user_guide/indexing.html#returning-a-view-versus-a-copy\n",
      "  laps_df[['start_spike_index', 'end_spike_index']] = laps_df[['start_spike_index', 'end_spike_index']].astype('int')\n",
      "c:\\users\\pho\\repos\\neuropy\\neuropy\\core\\laps.py:70: SettingWithCopyWarning: \n",
      "A value is trying to be set on a copy of a slice from a DataFrame.\n",
      "Try using .loc[row_indexer,col_indexer] = value instead\n",
      "\n",
      "See the caveats in the documentation: https://pandas.pydata.org/pandas-docs/stable/user_guide/indexing.html#returning-a-view-versus-a-copy\n",
      "  laps_df['num_spikes'] = laps_df['end_spike_index'] - laps_df['start_spike_index']\n",
      "c:\\users\\pho\\repos\\neuropy\\neuropy\\core\\laps.py:73: SettingWithCopyWarning: \n",
      "A value is trying to be set on a copy of a slice from a DataFrame.\n",
      "Try using .loc[row_indexer,col_indexer] = value instead\n",
      "\n",
      "See the caveats in the documentation: https://pandas.pydata.org/pandas-docs/stable/user_guide/indexing.html#returning-a-view-versus-a-copy\n",
      "  laps_df['lap_dir'] = laps_df['lap_dir'].astype('int')\n",
      "c:\\users\\pho\\repos\\neuropy\\neuropy\\core\\laps.py:81: SettingWithCopyWarning: \n",
      "A value is trying to be set on a copy of a slice from a DataFrame.\n",
      "Try using .loc[row_indexer,col_indexer] = value instead\n",
      "\n",
      "See the caveats in the documentation: https://pandas.pydata.org/pandas-docs/stable/user_guide/indexing.html#returning-a-view-versus-a-copy\n",
      "  laps_df['label'] = laps_df['lap_id'].astype('str') # add the string \"label\" column\n"
     ]
    },
    {
     "name": "stdout",
     "output_type": "stream",
     "text": [
      "Performing single_computation on filtered_session with filter named \"maze1\"...\n",
      "Performing perform_registered_computations(...) with 7 registered_computation_functions...\n",
      "Recomputing active_epoch_placefields... pre speed filtering: 20202 spikes.\n",
      "post speed filtering: 13268 spikes.\n",
      "\t done.\n",
      "Recomputing active_epoch_placefields2D... pre speed filtering: 20202 spikes.\n",
      "post speed filtering: 13529 spikes.\n",
      "\t done.\n"
     ]
    },
    {
     "name": "stderr",
     "output_type": "stream",
     "text": [
      "c:\\users\\pho\\repos\\pyphoplacecellanalysis\\src\\pyphoplacecellanalysis\\Analysis\\reconstruction.py:217: RuntimeWarning: divide by zero encountered in true_divide\n",
      "  return C * np.exp(numerator/denominator)\n"
     ]
    },
    {
     "name": "stdout",
     "output_type": "stream",
     "text": [
      "perform_registered_computations(...): \n",
      "\taccumulated_errors: []\n",
      "Performing single_computation on filtered_session with filter named \"maze2\"...\n",
      "Performing perform_registered_computations(...) with 7 registered_computation_functions...\n",
      "Recomputing active_epoch_placefields... pre speed filtering: 545 spikes.\n",
      "post speed filtering: 314 spikes.\n",
      "\t done.\n",
      "Recomputing active_epoch_placefields2D... pre speed filtering: 545 spikes.\n",
      "post speed filtering: 329 spikes.\n",
      "\t done.\n",
      "perform_registered_computations(...): \n",
      "\taccumulated_errors: []\n",
      "Performing single_computation on filtered_session with filter named \"maze\"...\n",
      "Performing perform_registered_computations(...) with 7 registered_computation_functions...\n",
      "Recomputing active_epoch_placefields... pre speed filtering: 20747 spikes.\n",
      "post speed filtering: 13582 spikes.\n",
      "\t done.\n",
      "Recomputing active_epoch_placefields2D... pre speed filtering: 20747 spikes.\n",
      "post speed filtering: 13858 spikes.\n",
      "\t done.\n"
     ]
    },
    {
     "name": "stderr",
     "output_type": "stream",
     "text": [
      "c:\\users\\pho\\repos\\pyphoplacecellanalysis\\src\\pyphoplacecellanalysis\\Analysis\\reconstruction.py:177: RuntimeWarning: divide by zero encountered in double_scalars\n",
      "  C_tau_n = 1.0 / np.sum(un_normalized_result) # normalize the result\n",
      "c:\\users\\pho\\repos\\pyphoplacecellanalysis\\src\\pyphoplacecellanalysis\\Analysis\\reconstruction.py:178: RuntimeWarning: invalid value encountered in multiply\n",
      "  result = C_tau_n * un_normalized_result\n",
      "c:\\users\\pho\\repos\\pyphoplacecellanalysis\\src\\pyphoplacecellanalysis\\Analysis\\reconstruction.py:217: RuntimeWarning: divide by zero encountered in true_divide\n",
      "  return C * np.exp(numerator/denominator)\n",
      "c:\\users\\pho\\repos\\pyphoplacecellanalysis\\src\\pyphoplacecellanalysis\\Analysis\\reconstruction.py:217: RuntimeWarning: divide by zero encountered in true_divide\n",
      "  return C * np.exp(numerator/denominator)\n"
     ]
    },
    {
     "name": "stdout",
     "output_type": "stream",
     "text": [
      "perform_registered_computations(...): \n",
      "\taccumulated_errors: []\n"
     ]
    }
   ],
   "source": [
    "## Data must be pre-processed using the MATLAB script located here: \n",
    "# R:\\data\\KDIBA\\gor01\\one\\IIDataMat_Export_ToPython_2021_11_23.m\n",
    "# From pre-computed .mat files:\n",
    "## 07: \n",
    "# basedir = r'R:\\data\\KDIBA\\gor01\\one\\2006-6-07_11-26-53'\n",
    "# # ## 08:\n",
    "# basedir = r'R:\\data\\KDIBA\\gor01\\one\\2006-6-08_14-26-15'\n",
    "# curr_kdiba_pipeline = NeuropyPipeline(name='kdiba_pipeline', session_data_type='kdiba', basedir=known_data_session_type_dict['kdiba'].basedir, load_function=known_data_session_type_dict['kdiba'].load_function)\n",
    "curr_kdiba_pipeline = NeuropyPipeline.init_from_known_data_session_type('kdiba', known_data_session_type_dict['kdiba'])\n",
    "# active_grid_bin = compute_position_grid_bin_size(curr_kdiba_pipeline.sess.position.x, curr_kdiba_pipeline.sess.position.y, num_bins=(64, 64))\n",
    "# active_session_computation_config.grid_bin = active_grid_bin\n",
    "active_session_computation_configs = _build_active_computation_configs(curr_kdiba_pipeline.sess)\n",
    "\n",
    "def build_pyramidal_epochs_filters(sess):\n",
    "    sess.epochs.t_start = 22.26 # exclude the first short period where the animal isn't on the maze yet\n",
    "    active_session_filter_configurations = {'maze1': lambda x: (x.filtered_by_neuron_type('pyramidal').filtered_by_epoch(x.epochs.get_named_timerange('maze1')), x.epochs.get_named_timerange('maze1')),\n",
    "                                        'maze2': lambda x: (x.filtered_by_neuron_type('pyramidal').filtered_by_epoch(x.epochs.get_named_timerange('maze2')), x.epochs.get_named_timerange('maze2')),\n",
    "                                        'maze': lambda x: (x.filtered_by_neuron_type('pyramidal').filtered_by_epoch(NamedTimerange(name='maze', start_end_times=[x.epochs['maze1'][0], x.epochs['maze2'][1]])), NamedTimerange(name='maze', start_end_times=[x.epochs['maze1'][0], x.epochs['maze2'][1]]))\n",
    "                                       }\n",
    "    return active_session_filter_configurations\n",
    "\n",
    "active_session_filter_configurations = build_pyramidal_epochs_filters(curr_kdiba_pipeline.sess)\n",
    "\n",
    "is_non_overlapping_lap = get_non_overlapping_epochs(curr_kdiba_pipeline.sess.laps.to_dataframe()[['start','stop']].to_numpy())\n",
    "only_good_laps_df = curr_kdiba_pipeline.sess.laps.to_dataframe()[is_non_overlapping_lap]\n",
    "curr_kdiba_pipeline.sess.laps = Laps(only_good_laps_df) # replace the laps object with the filtered one\n",
    "\n",
    "lap_specific_epochs = curr_kdiba_pipeline.sess.laps.as_epoch_obj()\n",
    "any_lap_specific_epochs = lap_specific_epochs.label_slice(lap_specific_epochs.labels[np.arange(len(curr_kdiba_pipeline.sess.laps.lap_id))])\n",
    "even_lap_specific_epochs = lap_specific_epochs.label_slice(lap_specific_epochs.labels[np.arange(0, len(curr_kdiba_pipeline.sess.laps.lap_id), 2)])\n",
    "odd_lap_specific_epochs = lap_specific_epochs.label_slice(lap_specific_epochs.labels[np.arange(1, len(curr_kdiba_pipeline.sess.laps.lap_id), 2)])\n",
    "\n",
    "# Copy the active session_computation_config:\n",
    "for i in np.arange(len(active_session_computation_configs)):\n",
    "    active_session_computation_configs[i].computation_epochs = any_lap_specific_epochs # add the laps epochs to all of the computation configs.\n",
    "\n",
    "curr_kdiba_pipeline.filter_sessions(active_session_filter_configurations)\n",
    "curr_kdiba_pipeline.perform_computations(active_session_computation_configs[0]) # Causes \"IndexError: index 59 is out of bounds for axis 0 with size 59\"\n",
    "curr_kdiba_pipeline.prepare_for_display() # TODO: pass a display config\n",
    "# set curr_active_pipeline for testing:\n",
    "curr_active_pipeline = curr_kdiba_pipeline"
   ]
  },
  {
   "cell_type": "code",
   "execution_count": 3,
   "id": "04d70ee9-9b8c-4926-80f4-484a6de13d53",
   "metadata": {
    "pycharm": {
     "is_executing": false,
     "name": "#%%\n"
    }
   },
   "outputs": [],
   "source": [
    "## 2D Spike Train Visualization\n",
    "# import pyqtgraph.opengl as gl # for 3D raster plot\n",
    "from pyphoplacecellanalysis.GUI.PyQtPlot.Widgets.SpikeRasterWidgets.SpikeRasterBase import SpikeRasterBase\n",
    "from pyphoplacecellanalysis.GUI.PyQtPlot.Widgets.SpikeRasterWidgets.Spike2DRaster import Spike2DRaster\n",
    "from pyphoplacecellanalysis.GUI.PyQtPlot.Widgets.SpikeRasterWidgets.Spike3DRaster import Spike3DRaster\n",
    "from pyphoplacecellanalysis.GUI.PyQtPlot.Widgets.SpikeRasterWidgets.Spike3DRaster_Vedo import Spike3DRaster_Vedo\n",
    "from pyphoplacecellanalysis.GUI.PyQtPlot.Widgets.SpikeRasterWidgets.spike_raster_widgets import build_spike_3d_raster_with_2d_controls, build_spike_3d_raster_vedo_with_2d_controls, UnifiedSpikeRasterApp"
   ]
  },
  {
   "cell_type": "code",
   "execution_count": 4,
   "id": "fe16b3de-2607-403c-907c-afba1de7ddab",
   "metadata": {
    "pycharm": {
     "is_executing": false,
     "name": "#%%\n"
    }
   },
   "outputs": [],
   "source": [
    "from pyphoplacecellanalysis.General.Mixins.DisplayHelpers import debug_print_identity_properties, debug_print_identity_properties_from_session"
   ]
  },
  {
   "cell_type": "code",
   "execution_count": null,
   "id": "e30dddc7-74e5-449c-9bec-7808e99eaed4",
   "metadata": {
    "pycharm": {
     "is_executing": false,
     "name": "#%%\n"
    }
   },
   "outputs": [],
   "source": [
    "curr_epoch_name = 'maze'\n",
    "curr_epoch = curr_active_pipeline.filtered_epochs[curr_epoch_name] # <NamedTimerange: {'name': 'maze1', 'start_end_times': array([  22.26      , 1739.15336412])};>\n",
    "# curr_sess = curr_active_pipeline.filtered_sessions[curr_epoch_name]\n",
    "curr_sess = curr_active_pipeline.sess\n",
    "curr_spikes_df = curr_sess.spikes_df\n",
    "curr_computations_results = curr_active_pipeline.computation_results[curr_epoch_name]"
   ]
  },
  {
   "cell_type": "code",
   "execution_count": null,
   "id": "2aa9f92b-a61d-45d6-8713-8bfb6ce465d4",
   "metadata": {
    "pycharm": {
     "is_executing": false,
     "name": "#%%\n"
    }
   },
   "outputs": [],
   "source": [
    "debug_print_identity_properties(curr_spikes_df)\n",
    "debug_print_identity_properties_from_session(curr_sess)"
   ]
  },
  {
   "cell_type": "code",
   "execution_count": 5,
   "id": "bcb73c44-32b5-4536-a23e-096a430c7fd6",
   "metadata": {
    "pycharm": {
     "is_executing": false,
     "name": "#%%\n"
    }
   },
   "outputs": [],
   "source": [
    "curr_epoch_name = 'maze1'\n",
    "curr_epoch = curr_active_pipeline.filtered_epochs[curr_epoch_name] # <NamedTimerange: {'name': 'maze1', 'start_end_times': array([  22.26      , 1739.15336412])};>\n",
    "curr_sess = curr_active_pipeline.filtered_sessions[curr_epoch_name]\n",
    "curr_spikes_df = curr_sess.spikes_df\n",
    "curr_computations_results = curr_active_pipeline.computation_results[curr_epoch_name]"
   ]
  },
  {
   "cell_type": "code",
   "execution_count": null,
   "id": "e38d6ae5-b323-4ab7-bbac-112f4f0580e4",
   "metadata": {
    "pycharm": {
     "is_executing": false,
     "name": "#%%\n"
    }
   },
   "outputs": [],
   "source": [
    "debug_print_identity_properties(curr_spikes_df)\n",
    "debug_print_identity_properties_from_session(curr_sess)"
   ]
  },
  {
   "cell_type": "code",
   "execution_count": null,
   "id": "c22eed0b-c28d-4238-85e4-59e906df5516",
   "metadata": {
    "pycharm": {
     "is_executing": false,
     "name": "#%%\n"
    }
   },
   "outputs": [],
   "source": [
    "curr_epoch_name = 'maze2'\n",
    "curr_epoch = curr_active_pipeline.filtered_epochs[curr_epoch_name] # <NamedTimerange: {'name': 'maze1', 'start_end_times': array([  22.26      , 1739.15336412])};>\n",
    "curr_sess = curr_active_pipeline.filtered_sessions[curr_epoch_name]\n",
    "curr_spikes_df = curr_sess.spikes_df\n",
    "curr_computations_results = curr_active_pipeline.computation_results[curr_epoch_name]"
   ]
  },
  {
   "cell_type": "code",
   "execution_count": null,
   "id": "6dfad5ae-44b5-4d32-b15a-94cba49ea103",
   "metadata": {
    "pycharm": {
     "is_executing": false,
     "name": "#%%\n"
    }
   },
   "outputs": [],
   "source": [
    "debug_print_identity_properties(curr_spikes_df)\n",
    "debug_print_identity_properties_from_session(curr_sess)"
   ]
  },
  {
   "cell_type": "markdown",
   "id": "44937ee8-7ba2-45d7-be51-e8da52de41c9",
   "metadata": {
    "jp-MarkdownHeadingCollapsed": true,
    "pycharm": {
     "is_executing": false,
     "name": "#%%\n"
    },
    "tags": []
   },
   "source": [
    "# UnifiedSpikeRasterApp Version"
   ]
  },
  {
   "cell_type": "code",
   "execution_count": null,
   "id": "60762f43-e0ce-4fe6-87be-5dbfce5d9397",
   "metadata": {
    "pycharm": {
     "is_executing": false,
     "name": "#%%\n"
    }
   },
   "outputs": [],
   "source": [
    "from pyphoplacecellanalysis.GUI.PyQtPlot.Widgets.SpikeRasterWidgets.spike_raster_widgets import UnifiedSpikeRasterApp\n",
    "\n",
    "spike_raster_unified_app = UnifiedSpikeRasterApp(curr_spikes_df)\n",
    "spike_raster_unified_app"
   ]
  },
  {
   "cell_type": "code",
   "execution_count": null,
   "id": "9799633b-93ae-4493-98ac-664e79217b48",
   "metadata": {
    "pycharm": {
     "is_executing": false,
     "name": "#%%\n"
    }
   },
   "outputs": [],
   "source": [
    "spike_raster_unified_app.animation_time_step\n",
    "spike_raster_unified_app.playback_rate_multiplier"
   ]
  },
  {
   "cell_type": "code",
   "execution_count": null,
   "id": "42163932-9b67-479f-be74-faf388359e4b",
   "metadata": {
    "pycharm": {
     "is_executing": false,
     "name": "#%%\n"
    }
   },
   "outputs": [],
   "source": [
    "# Perform Initial (one-time) update from source -> controlled:\n",
    "def _connect_synchronized_controlled_plotter(spike_raster_unified_app, controlled_spike_raster_plt):\n",
    "    controlled_spike_raster_plt.spikes_window.update_window_start_end(spike_raster_unified_app.spikes_window.active_time_window[0], spike_raster_unified_app.spikes_window.active_time_window[1])\n",
    "    # Connect to update self when video window playback position changes\n",
    "    sync_connection = spike_raster_unified_app.window_scrolled.connect(controlled_spike_raster_plt.spikes_window.update_window_start_end)\n",
    "    return sync_connection\n",
    "\n",
    "extra_vedo_sync_connection = _connect_synchronized_controlled_plotter(spike_raster_unified_app, spike_raster_plt_3d_vedo)"
   ]
  },
  {
   "cell_type": "code",
   "execution_count": null,
   "id": "0dfccee5-e3cc-4457-aee5-30855507d366",
   "metadata": {
    "pycharm": {
     "is_executing": false,
     "name": "#%%\n"
    }
   },
   "outputs": [],
   "source": [
    "spike_raster_unified_app.spikes_window.active_time_window # (18.467922442133187, 33.46792244213319)\n",
    "spike_raster_unified_app.spikes_window.active_window_start_time"
   ]
  },
  {
   "cell_type": "code",
   "execution_count": null,
   "id": "efc3e727-d8cf-4d4a-be2f-f9e91966e83b",
   "metadata": {
    "pycharm": {
     "is_executing": false,
     "name": "#%%\n"
    }
   },
   "outputs": [],
   "source": [
    "spike_raster_plt_3d = Spike3DRaster.init_from_unified_spike_raster_app(spike_raster_unified_app)"
   ]
  },
  {
   "cell_type": "code",
   "execution_count": null,
   "id": "f93219ae-a8a9-4f09-b9bc-53d13ae6c990",
   "metadata": {
    "pycharm": {
     "is_executing": false,
     "name": "#%%\n"
    }
   },
   "outputs": [],
   "source": [
    "spike_raster_plt_2d = Spike2DRaster.init_from_unified_spike_raster_app(spike_raster_unified_app)"
   ]
  },
  {
   "cell_type": "code",
   "execution_count": null,
   "id": "4984a977-09ac-40ba-aa8e-5608a8395934",
   "metadata": {
    "pycharm": {
     "is_executing": false,
     "name": "#%%\n"
    }
   },
   "outputs": [],
   "source": [
    "spike_raster_plt_2d.update_scroll_window_region(spike_raster_unified_app.spikes_window.active_window_start_time, spike_raster_unified_app.spikes_window.active_window_end_time, block_signals=False)\n",
    "curr_connection = spike_raster_unified_app.spikes_window.window_updated_signal.connect(spike_raster_plt_2d.window_scrolled) # Connecting to the Unified App -> 2D Plot"
   ]
  },
  {
   "cell_type": "code",
   "execution_count": null,
   "id": "37ba5589-da48-4b8e-bf27-de903dcdd1d9",
   "metadata": {
    "pycharm": {
     "is_executing": false,
     "name": "#%%\n"
    }
   },
   "outputs": [],
   "source": [
    "spike_raster_unified_app.spikes_window.update_window_start(30.0)"
   ]
  },
  {
   "cell_type": "code",
   "execution_count": null,
   "id": "5760daf3-7c68-4e81-a522-9e0e60988890",
   "metadata": {
    "pycharm": {
     "is_executing": false,
     "name": "#%%\n"
    }
   },
   "outputs": [],
   "source": [
    "spike_raster_plt_3d_vedo = Spike3DRaster_Vedo.init_from_unified_spike_raster_app(spike_raster_unified_app)"
   ]
  },
  {
   "cell_type": "code",
   "execution_count": null,
   "id": "5257853a-42d6-407b-b70f-3f8972b44036",
   "metadata": {
    "pycharm": {
     "is_executing": false,
     "name": "#%%\n"
    }
   },
   "outputs": [],
   "source": [
    "# spike_raster_plt_2d.setWindowTitle('2D Raster Control Window')\n",
    "# spike_3d_to_2d_window_connection = spike_raster_plt_2d.window_scrolled.connect(spike_raster_plt_3d.spikes_window.update_window_start_end)\n",
    "# spike_raster_plt_3d.disable_render_window_controls()\n",
    "# # spike_raster_plt_3d.setWindowTitle('3D Raster with 2D Control Window')\n",
    "# spike_raster_plt_3d.setWindowTitle('Main 3D Raster Window')\n",
    "# WidgetPositioningHelpers.move_widget_to_top_left_corner(spike_raster_plt_3d, debug_print=False)\n",
    "# WidgetPositioningHelpers.align_3d_and_2d_windows(spike_raster_plt_3d, spike_raster_plt_2d) # Align the two windows\n",
    "# spike_raster_plt_2d.update_scroll_window_region(window_start_time, window_start_time+window_duration, block_signals=False)"
   ]
  },
  {
   "cell_type": "markdown",
   "id": "c4cbefa8-c370-4368-861d-8412ffa95721",
   "metadata": {
    "pycharm": {
     "is_executing": false,
     "name": "#%%\n"
    },
    "tags": []
   },
   "source": [
    "# Independent 2D Raster Plotkeys"
   ]
  },
  {
   "cell_type": "code",
   "execution_count": null,
   "id": "2b400d6a-0229-4dfc-9d8a-0d5c24932231",
   "metadata": {
    "pycharm": {
     "is_executing": false,
     "name": "#%%\n"
    }
   },
   "outputs": [],
   "source": [
    "spike_raster_plt_2d = Spike2DRaster.init_from_independent_data(curr_spikes_df, window_duration=15.0 * 60.0, window_start_time=30.0, neuron_colors=None)"
   ]
  },
  {
   "cell_type": "code",
   "execution_count": null,
   "id": "41e4aac1-fc5e-48c8-9bf0-b39c0d5c6b97",
   "metadata": {
    "pycharm": {
     "is_executing": false,
     "name": "#%%\n"
    }
   },
   "outputs": [],
   "source": [
    "spike_raster_plt_2d.render_window_duration # 900.0"
   ]
  },
  {
   "cell_type": "code",
   "execution_count": null,
   "id": "6b11c8dc-ea5c-45ac-b7d9-5de9d2982202",
   "metadata": {
    "pycharm": {
     "is_executing": false,
     "name": "#%%\n"
    }
   },
   "outputs": [],
   "source": [
    "min_t, max_t = spike_raster_plt_2d.ui.scroll_window_region.getRegion() # (1176.2444263477232, 1241.5993026223039)\n",
    "t_window_width = max_t - min_t\n",
    "print(f'min_t: {min_t}, max_t: {max_t}, t_window_width: {t_window_width}') # min_t: 1176.2444263477232, max_t: 1241.5993026223039, t_window_width: 65.35487627458065\n",
    "\n",
    "# min_t: 18.529475198008512, max_t: 18.529475198008512, t_window_width: 0.0 # OH NO! TOOOOOO SMALL!\n",
    "\n",
    "spike_raster_plt_2d.Render2DScrollWindowPlot_on_window_update(100.0, 200.0)"
   ]
  },
  {
   "cell_type": "code",
   "execution_count": null,
   "id": "dce74488-a782-462c-941b-f8d22e17dbbe",
   "metadata": {
    "pycharm": {
     "is_executing": false,
     "name": "#%%\n"
    }
   },
   "outputs": [],
   "source": [
    "spike_raster_plt_2d.update_scroll_window_region(100.0, 200.0, block_signals=False) # Works to programmatically update the window"
   ]
  },
  {
   "cell_type": "markdown",
   "id": "0dd8c16b-4ace-4034-a4a9-b65bcd102b6c",
   "metadata": {
    "pycharm": {
     "is_executing": false,
     "name": "#%%\n"
    },
    "tags": []
   },
   "source": [
    "# Independent 3D Raster Plot"
   ]
  },
  {
   "cell_type": "code",
   "execution_count": null,
   "id": "5f2c756c-9ef8-4d88-be9a-07caf2821988",
   "metadata": {
    "pycharm": {
     "is_executing": false,
     "name": "#%%\n"
    }
   },
   "outputs": [],
   "source": [
    "spike_raster_plt_3d = Spike3DRaster.init_from_independent_data(curr_spikes_df, window_duration=30.0, window_start_time=30.0, neuron_colors=None)"
   ]
  },
  {
   "cell_type": "code",
   "execution_count": null,
   "id": "ea3f3b34-c7eb-47ca-8e95-852b317453f6",
   "metadata": {
    "pycharm": {
     "is_executing": false,
     "name": "#%%\n"
    }
   },
   "outputs": [],
   "source": [
    "spike_raster_plt_3d.add_render_epochs(curr_sess.pbe.starts, curr_sess.pbe.durations, epoch_type_name='PBE')"
   ]
  },
  {
   "cell_type": "code",
   "execution_count": null,
   "id": "8c72de75-89fd-44e9-9814-7070bf102cb2",
   "metadata": {
    "pycharm": {
     "is_executing": false,
     "name": "#%%\n"
    }
   },
   "outputs": [],
   "source": [
    "spike_raster_plt_3d.RenderTimeEpochMeshesMixin_on_update_window()"
   ]
  },
  {
   "cell_type": "markdown",
   "id": "03e580a8-b75a-41f9-aa20-2a4eb595ed14",
   "metadata": {
    "pycharm": {
     "is_executing": false,
     "name": "#%%\n"
    },
    "tags": []
   },
   "source": [
    "# Independent Vedo 3D Raster Plot"
   ]
  },
  {
   "cell_type": "code",
   "execution_count": null,
   "id": "4742ef48-27ec-4e18-9d68-23af48337607",
   "metadata": {
    "pycharm": {
     "is_executing": false,
     "name": "#%%\n"
    }
   },
   "outputs": [],
   "source": [
    "spike_raster_plt_3d_vedo = Spike3DRaster_Vedo.init_from_independent_data(curr_spikes_df, window_duration=15.0, window_start_time=30.0, neuron_colors=None, neuron_sort_order=None)\n",
    "spike_raster_plt_3d_vedo"
   ]
  },
  {
   "cell_type": "code",
   "execution_count": null,
   "id": "2d56f380-9b60-43a8-b3b0-547fce0190e9",
   "metadata": {
    "pycharm": {
     "is_executing": false,
     "name": "#%%\n"
    }
   },
   "outputs": [],
   "source": [
    "# Perform Initial (one-time) update from source -> controlled:\n",
    "def _connect_additional_controlled_plotter(spike_raster_plt_2d, controlled_spike_raster_plt):\n",
    "    controlled_spike_raster_plt.spikes_window.update_window_start_end(spike_raster_plt_2d.spikes_window.active_time_window[0], spike_raster_plt_2d.spikes_window.active_time_window[1])\n",
    "    # Connect to update self when video window playback position changes\n",
    "    sync_connection = spike_raster_plt_2d.window_scrolled.connect(controlled_spike_raster_plt.spikes_window.update_window_start_end)\n",
    "    return sync_connection\n",
    "\n",
    "extra_vedo_sync_connection = _connect_additional_controlled_plotter(spike_raster_plt_2d, spike_raster_plt_3d_vedo)"
   ]
  },
  {
   "cell_type": "markdown",
   "id": "cc91cd49-1970-4d6f-8885-73fdb029d8d4",
   "metadata": {
    "pycharm": {
     "is_executing": false,
     "name": "#%%\n"
    }
   },
   "source": [
    "# 3D Raster Plot Custom Controlled by 2D Raster Plot"
   ]
  },
  {
   "cell_type": "code",
   "execution_count": 6,
   "id": "b416bd2b-e33f-446c-bf90-db730acd6841",
   "metadata": {
    "pycharm": {
     "is_executing": false,
     "name": "#%%\n"
    }
   },
   "outputs": [
    {
     "name": "stdout",
     "output_type": "stream",
     "text": [
      "\t\t raster_plotter.unit_ids: [ 0  1  2  3  5  6  7  8  9 10 12 15 16 19 20 21 22 23 24 25 26 27 31 32 36 37 40 42 43 44 45 46 51 53 55 56 59 60 61 62] (len: 40)\n",
      " \t\t raster_plotter.cell_ids: [ 2  3  4  5  7  8  9 10 11 12 14 17 18 21 22 23 24 25 26 27 28 29 33 34 38 39 42 44 45 46 47 48 53 55 57 58 61 62 63 64] (len: 40)\n",
      "\t\t new_neuron_IDXs: [0, 1, 2, 3, 4, 5, 6, 7, 8, 9, 10, 11, 12, 13, 14, 15, 16, 17, 18, 19, 20, 21, 22, 23, 24, 25, 26, 27, 28, 29, 30, 31, 32, 33, 34, 35, 36, 37, 38, 39] (len(new_neuron_IDXs): 40)\n",
      "WARNING: raster_plotter.enable_overwrite_invalid_unit_ids is True, so dataframe 'unit_id' and 'cell_idx' will be overwritten!\n",
      "WARNING: self.enable_overwrite_invalid_unit_ids is True, so dataframe 'unit_id' and 'cell_idx' will be overwritten!\n",
      "\t computed included_cell_INDEXES.\n",
      "\t set spikes_df['unit_id']\n",
      "\t set spikes_df['cell_idx']\n",
      "\t done updating 'unit_id' and 'cell_idx'.\n",
      "\t\t raster_plotter.unit_ids: [ 0  1  2  3  4  5  6  7  8  9 10 11 12 13 14 15 16 17 18 19 20 21 22 23 24 25 26 27 28 29 30 31 32 33 34 35 36 37 38 39] (len: 40)\n",
      " \t\t raster_plotter.cell_ids: [ 2  3  4  5  7  8  9 10 11 12 14 17 18 21 22 23 24 25 26 27 28 29 33 34 38 39 42 44 45 46 47 48 53 55 57 58 61 62 63 64] (len: 40)\n",
      "\t\t new_neuron_IDXs: [0, 1, 2, 3, 4, 5, 6, 7, 8, 9, 10, 11, 12, 13, 14, 15, 16, 17, 18, 19, 20, 21, 22, 23, 24, 25, 26, 27, 28, 29, 30, 31, 32, 33, 34, 35, 36, 37, 38, 39] (len(new_neuron_IDXs): 40)\n",
      "WARNING: raster_plotter.enable_overwrite_invalid_unit_ids is True, so dataframe 'unit_id' and 'cell_idx' will be overwritten!\n",
      "WARNING: self.enable_overwrite_invalid_unit_ids is True, so dataframe 'unit_id' and 'cell_idx' will be overwritten!\n",
      "\t computed included_cell_INDEXES.\n",
      "\t set spikes_df['unit_id']\n",
      "\t set spikes_df['cell_idx']\n",
      "\t done updating 'unit_id' and 'cell_idx'.\n",
      "Spike2DRaster.setup(): adding \"visualization_raster_y_location\" column to spikes_df...\n",
      "done.\n",
      "disable_render_window_controls(): called but do not seem to have RenderWindowControls enabled: err: 'PhoUIContainer' object has no attribute 'spinAnimationTimeStep'\n"
     ]
    }
   ],
   "source": [
    "spike_raster_plt_3d, spike_raster_plt_2d, spike_3d_to_2d_window_connection = build_spike_3d_raster_with_2d_controls(curr_spikes_df) # , neuron_sort_order="
   ]
  },
  {
   "cell_type": "code",
   "execution_count": null,
   "id": "89002acc-7f3f-45f3-a859-6e102e102330",
   "metadata": {
    "pycharm": {
     "is_executing": false,
     "name": "#%%\n"
    }
   },
   "outputs": [],
   "source": [
    "spike_raster_plt_3d.ui.layout.addWidget(spike_raster_plt_2d, 2, 0) # row 2, column 0"
   ]
  },
  {
   "cell_type": "code",
   "execution_count": null,
   "id": "dd3bd1b0-4d3d-4be5-9ea8-663e4da79a74",
   "metadata": {
    "pycharm": {
     "is_executing": false,
     "name": "#%%\n"
    }
   },
   "outputs": [],
   "source": [
    "spike_raster_plt_3d_vedo, spike_raster_plt_2d, spike_3d_to_2d_window_connection = build_spike_3d_raster_vedo_with_2d_controls(curr_spikes_df)"
   ]
  },
  {
   "cell_type": "markdown",
   "id": "f49afa9a-f21b-4078-a33f-096f476f78a2",
   "metadata": {
    "jp-MarkdownHeadingCollapsed": true,
    "pycharm": {
     "is_executing": false,
     "name": "#%%\n"
    },
    "tags": []
   },
   "source": [
    "## Qt App Instance Exploration"
   ]
  },
  {
   "cell_type": "code",
   "execution_count": null,
   "id": "5efadbc4-8584-4c5b-939e-4e3e66a4ef4a",
   "metadata": {
    "pycharm": {
     "is_executing": false,
     "name": "#%%\n"
    }
   },
   "outputs": [],
   "source": [
    "def debug_print_app_info(qt_app):\n",
    "    print(f'memory address: {hex(id(qt_app))}\\n.applicationName(): {qt_app.applicationName()}')\n",
    "    if qt_app.objectName() != '':\n",
    "        print(f'.objectName(): {qt_app.objectName()}')"
   ]
  },
  {
   "cell_type": "code",
   "execution_count": null,
   "id": "ed3f6e24-a72c-43d1-ad05-d123f00d52c0",
   "metadata": {
    "pycharm": {
     "is_executing": false,
     "name": "#%%\n"
    }
   },
   "outputs": [],
   "source": [
    "debug_console_widget = pg.dbg()\n"
   ]
  },
  {
   "cell_type": "code",
   "execution_count": null,
   "id": "027eea46-c0b8-4223-a1cf-e1bd45ce22b8",
   "metadata": {
    "pycharm": {
     "is_executing": false,
     "name": "#%%\n"
    }
   },
   "outputs": [],
   "source": [
    "debug_print_app_info(spike_raster_plt_2d.app)\n",
    "# app = pg.mkQApp(\"SpikeRasterBase\")\n",
    "# app"
   ]
  },
  {
   "cell_type": "code",
   "execution_count": null,
   "id": "8ffccbd6-f2c2-4417-9f36-98f4c122839b",
   "metadata": {
    "pycharm": {
     "is_executing": false,
     "name": "#%%\n"
    }
   },
   "outputs": [],
   "source": [
    "debug_print_app_info(spike_raster_plt_3d.app)"
   ]
  },
  {
   "cell_type": "code",
   "execution_count": null,
   "id": "0d3a26f9-0f29-4779-922c-2fb6dee0df62",
   "metadata": {
    "pycharm": {
     "is_executing": false,
     "name": "#%%\n"
    }
   },
   "outputs": [],
   "source": [
    "temp_base_app = pg.mkQApp(\"SpikeRasterBase\")\n",
    "debug_print_app_info(temp_base_app)"
   ]
  },
  {
   "cell_type": "code",
   "execution_count": null,
   "id": "2f04da43-5e0b-439d-a752-9d20c92b36ef",
   "metadata": {
    "pycharm": {
     "is_executing": false,
     "name": "#%%\n"
    }
   },
   "outputs": [],
   "source": [
    "temp_base_app.topLevelWindows()\n",
    "# [<PyQt5.QtGui.QWindow at 0x21e1349b1f0>,\n",
    "#  <PyQt5.QtGui.QWindow at 0x21e1349b280>]\n",
    "\n",
    "temp_base_app.topLevelWidgets()"
   ]
  },
  {
   "cell_type": "code",
   "execution_count": null,
   "id": "bf85d6b8-e7ea-4bcf-bdcd-367cdfa5e5c8",
   "metadata": {
    "pycharm": {
     "is_executing": false,
     "name": "#%%\n"
    }
   },
   "outputs": [],
   "source": [
    "# spike_3d_to_2d_window_connection # <PyQt5.QtCore.QMetaObject.Connection at 0x21de8b184a0>\n",
    "spike_raster_plt_3d.animation_active_time_window"
   ]
  },
  {
   "cell_type": "code",
   "execution_count": null,
   "id": "d624df2d-be66-4293-83b8-3d168f9677d7",
   "metadata": {
    "pycharm": {
     "is_executing": false,
     "name": "#%%\n"
    }
   },
   "outputs": [],
   "source": [
    "spike_raster_plt_2d.animation_active_time_window"
   ]
  },
  {
   "cell_type": "code",
   "execution_count": null,
   "id": "686c3b89-a83a-4290-b389-2dca097c31c1",
   "metadata": {
    "pycharm": {
     "is_executing": false,
     "name": "#%%\n"
    }
   },
   "outputs": [],
   "source": [
    "spike_raster_plt_3d.unit_ids"
   ]
  },
  {
   "cell_type": "code",
   "execution_count": null,
   "id": "da8a84f2-cf4e-4990-bef9-698e0d9b91e1",
   "metadata": {
    "pycharm": {
     "is_executing": false,
     "name": "#%%\n"
    }
   },
   "outputs": [],
   "source": [
    "old_neuron_IDXs = spike_raster_plt_3d.unit_ids.copy() # backup the old unit_ids\n",
    "print(f'\\t\\t spike_raster_plt_3d.unit_ids: {spike_raster_plt_3d.unit_ids} (len: {len(spike_raster_plt_3d.unit_ids)})\\n \\t\\t spike_raster_plt_3d.cell_ids: {spike_raster_plt_3d.cell_ids} (len: {len(spike_raster_plt_3d.cell_ids)})')\n",
    "new_neuron_IDXs = spike_raster_plt_3d.find_cell_IDXs_from_cell_ids(spike_raster_plt_3d.neuron_ids)\n",
    "print(f'\\t\\t new_neuron_IDXs: {new_neuron_IDXs} (len(new_neuron_IDXs): {len(new_neuron_IDXs)})')\n",
    "# build a map between the old and new neuron_IDXs:\n",
    "old_to_new_map = dict(zip(old_neuron_IDXs, new_neuron_IDXs))\n",
    "new_to_old_map = dict(zip(new_neuron_IDXs, old_neuron_IDXs))\n",
    "\n",
    "neuron_id_to_new_IDX_map = dict(zip(spike_raster_plt_3d.neuron_ids, new_neuron_IDXs)) # provides the new_IDX corresponding to any neuron_id (aclu value)\n",
    "neuron_id_to_new_IDX_map\n",
    "\n",
    "overwrite_invalid_unit_ids(curr_spikes_df, neuron_id_to_new_IDX_map)\n",
    "curr_spikes_df"
   ]
  },
  {
   "cell_type": "code",
   "execution_count": null,
   "id": "4710929e-20cc-49ba-aac0-f026a376b711",
   "metadata": {
    "pycharm": {
     "is_executing": false,
     "name": "#%%\n"
    }
   },
   "outputs": [],
   "source": [
    "# np.flip(spike_raster_plt_3d.unit_sort_order)\n",
    "spike_raster_plt_3d.unit_sort_order = np.flip(spike_raster_plt_3d.unit_sort_order)"
   ]
  },
  {
   "cell_type": "code",
   "execution_count": null,
   "id": "1dbecb60-6f21-41f5-aaa4-4b79eeda4735",
   "metadata": {
    "pycharm": {
     "is_executing": false,
     "name": "#%%\n"
    }
   },
   "outputs": [],
   "source": [
    "print(f'spike_raster_plt_3d.unit_ids: {spike_raster_plt_3d.unit_ids}')\n",
    "spike_raster_plt_3d.params.neuron_qcolors_map"
   ]
  },
  {
   "cell_type": "code",
   "execution_count": null,
   "id": "d07ef0a8-3681-4e17-b050-c29e949ec503",
   "metadata": {
    "pycharm": {
     "is_executing": false,
     "name": "#%%\n"
    }
   },
   "outputs": [],
   "source": [
    "# spike_raster_plt_3d.unit_id_to_spatial()\n",
    "cell_identity_to_y_mapping = spike_raster_plt_3d.build_series_identity_axis() # array([-20, -19, -18, -17, -16, -15, -14, -13, -12, -11, -10, -9, -8, -7, -6, -5, -4, -3, -2, -1, 0, 1, 2, 3, 4, 5, 6, 7, 8, 9, 10, 11, 12, 13, 14, 15, 16, 17, 18, 19])\n",
    "behind_backwall_y = cell_identity_to_y_mapping[0]-1 # behind-backwall\n",
    "backwall_y = cell_identity_to_y_mapping[0] # backwall"
   ]
  },
  {
   "cell_type": "code",
   "execution_count": null,
   "id": "b7edabbc-6da3-4da0-a48c-1d4402ecdccb",
   "metadata": {
    "pycharm": {
     "is_executing": false,
     "name": "#%%\n"
    }
   },
   "outputs": [],
   "source": [
    "spike_raster_plt_3d.unit_ids # array([ 0,  1,  2,  3,  5,  6,  7,  8,  9, 10, 12, 15, 16, 19, 20, 21, 22, 23, 24, 25, 26, 27, 31, 32, 36, 37, 40, 42, 43, 44, 45, 46, 51, 53, 55, 56, 59, 60, 61, 62])\n",
    "\n",
    "# spike_raster_plt_3d"
   ]
  },
  {
   "cell_type": "code",
   "execution_count": null,
   "id": "0a16948c-9d71-478f-aca3-3d68d3771500",
   "metadata": {
    "pycharm": {
     "is_executing": false,
     "name": "#%%\n"
    }
   },
   "outputs": [],
   "source": [
    "spike_3d_animation_to_2d_scroll_ctrl_connection = spike_raster_plt_3d.animation_active_time_window.window_changed_signal.connect(spike_raster_plt_2d.update_scroll_window_region)\n",
    "# spike_raster_plt_3d.animationThread.update_signal.connect(spike_raster_plt_2d.update_scroll_window_region)"
   ]
  },
  {
   "cell_type": "markdown",
   "id": "5c074f5f-f4ce-4927-9931-61c4ebcad96b",
   "metadata": {
    "pycharm": {
     "is_executing": false,
     "name": "#%%\n"
    },
    "tags": []
   },
   "source": [
    "# Test 3D Curve Plotting with SpikeRaster3D"
   ]
  },
  {
   "cell_type": "markdown",
   "id": "075a5d28-e6fa-4b23-a7d5-ef612b4cff4b",
   "metadata": {
    "pycharm": {
     "is_executing": false,
     "name": "#%%\n"
    },
    "tags": []
   },
   "source": [
    "### Test adding the randomly generated test data curves to the 3D plot"
   ]
  },
  {
   "cell_type": "code",
   "execution_count": null,
   "id": "935aba1c-8990-4d9f-8bca-803355389c61",
   "metadata": {},
   "outputs": [],
   "source": [
    "from pyphoplacecellanalysis.GUI.PyQtPlot.Widgets.Mixins.TimeCurves3D.Specific3DTimeCurves import Specific3DTimeCurvesHelper\n",
    "\n",
    "active_random_test_plot_curve_datasource = Specific3DTimeCurvesHelper.build_test_3D_time_curves(spike_raster_plt_3d, sample_rate_sec = 0.25, n_value_columns = spike_raster_plt_3d.n_cells)"
   ]
  },
  {
   "cell_type": "code",
   "execution_count": null,
   "id": "78d3b9f8-3465-4ca9-80dc-66102dd4c762",
   "metadata": {},
   "outputs": [],
   "source": [
    "spike_raster_plt_3d.detach_3d_time_curves_datasource()"
   ]
  },
  {
   "cell_type": "code",
   "execution_count": null,
   "id": "f4bca7c7-4476-4211-b663-41bfd5b16fc8",
   "metadata": {},
   "outputs": [],
   "source": [
    "spike_raster_plt_3d.update_3D_time_curves()"
   ]
  },
  {
   "cell_type": "code",
   "execution_count": null,
   "id": "cf3924f3-c212-45fe-a93b-5aeb6d65aaa3",
   "metadata": {},
   "outputs": [],
   "source": [
    "# spike_raster_plt_3d.series_identity_y_values\n",
    "spike_raster_plt_3d.unit_id_to_spatial(i)"
   ]
  },
  {
   "cell_type": "code",
   "execution_count": null,
   "id": "5fd5adfb-fbd0-46c0-a007-cf082d458048",
   "metadata": {},
   "outputs": [],
   "source": [
    "def _test_on_data_series_specs_changed(updated_specs):\n",
    "    print('_test_on_data_series_specs_changed()!')\n",
    "    print(f'\\t {updated_specs}')\n",
    "\n",
    "_temp_connection_obj = active_random_test_plot_curve_datasource.data_series_specs_changed_signal.connect(_test_on_data_series_specs_changed)"
   ]
  },
  {
   "cell_type": "code",
   "execution_count": null,
   "id": "99fa8f01-014c-4bc2-90fa-a6f0bde38490",
   "metadata": {},
   "outputs": [],
   "source": [
    "active_random_test_plot_curve_datasource.active_data_column_names"
   ]
  },
  {
   "cell_type": "code",
   "execution_count": null,
   "id": "83803d38-8fe5-431a-8627-aa7e5b0347d8",
   "metadata": {},
   "outputs": [],
   "source": [
    "spike_raster_plt_3d.update_3D_time_curves()"
   ]
  },
  {
   "cell_type": "code",
   "execution_count": null,
   "id": "a4143229-9616-4647-a6a6-afbb025e25ea",
   "metadata": {},
   "outputs": [],
   "source": [
    "# data_series_specs: RenderDataseries\n",
    "active_random_test_plot_curve_datasource.data_series_specs.keys() # dict_keys(['direct_spatial_data_series_list', 'data_series_pre_spatial_list', 'data_series_pre_spatial_to_spatial_mappings'])"
   ]
  },
  {
   "cell_type": "code",
   "execution_count": null,
   "id": "b955a7c1-35fa-434f-8006-4b94eedce86c",
   "metadata": {},
   "outputs": [],
   "source": [
    "active_random_test_plot_curve_datasource.data_series_specs.data_series_config_list[0]"
   ]
  },
  {
   "cell_type": "code",
   "execution_count": null,
   "id": "eace121d-919d-4921-b2e2-f621ebaf9f28",
   "metadata": {},
   "outputs": [],
   "source": [
    "active_random_test_plot_curve_datasource.data_series_specs."
   ]
  },
  {
   "cell_type": "code",
   "execution_count": null,
   "id": "a9dc5402-ff3b-4a4d-a2e9-106ff78344b2",
   "metadata": {},
   "outputs": [],
   "source": [
    "spike_raster_plt_3d.unit_ids\n",
    "spike_raster_plt_3d.cell_ids\n",
    "\n",
    "from pyphoplacecellanalysis.General.Mixins.DisplayHelpers import debug_print_identity_properties\n",
    "debug_print_identity_properties(spike_raster_plt_3d.spikes_df)"
   ]
  },
  {
   "cell_type": "code",
   "execution_count": null,
   "id": "9654a8fc-cd63-4076-a022-ade6f5294c24",
   "metadata": {},
   "outputs": [],
   "source": [
    "# GLLinePlotItem\n",
    "curr_lineCurvePoints = spike_raster_plt_3d.plots.time_curves['default_plot_datasource.v0'].pos\n",
    "curr_underCurveMeshData = pg.opengl.MeshData(vertexes=curr_lineCurvePoints)\n",
    "\n",
    "curr_underCurveMeshData."
   ]
  },
  {
   "cell_type": "code",
   "execution_count": null,
   "id": "5d160123-deaf-4248-a06d-2d371adc667f",
   "metadata": {},
   "outputs": [],
   "source": [
    "curr_underCurveMeshItem = pg.opengl.GLMeshItem(meshdata=curr_underCurveMeshData, smooth=True, color=(1, 0, 0, 0.2), shader='balloon', glOptions='additive')"
   ]
  },
  {
   "cell_type": "code",
   "execution_count": null,
   "id": "43fca5e2-e3d6-4548-b158-92ef3f9d1bd9",
   "metadata": {},
   "outputs": [],
   "source": [
    "spike_raster_plt_3d.ui.main_gl_widget.removeItem(curr_underCurveMeshItem)"
   ]
  },
  {
   "cell_type": "code",
   "execution_count": null,
   "id": "f4d0ea60-2073-4aff-9280-1233cf8c3ad8",
   "metadata": {},
   "outputs": [],
   "source": [
    "spike_raster_plt_3d.ui.main_gl_widget.addItem(curr_underCurveMeshItem)"
   ]
  },
  {
   "cell_type": "code",
   "execution_count": null,
   "id": "c16cbf35-271d-44f9-aec8-971350a6a2c2",
   "metadata": {},
   "outputs": [],
   "source": [
    "curr_underCurveMeshItem"
   ]
  },
  {
   "cell_type": "markdown",
   "id": "6d9be144-70a7-49d7-8330-8a0a38d5fd9c",
   "metadata": {
    "tags": []
   },
   "source": [
    "### Test modifying a few of the data_series_configs, changing their color and such."
   ]
  },
  {
   "cell_type": "code",
   "execution_count": null,
   "id": "db873d99-679e-4729-9380-f8ecfbdf1ff0",
   "metadata": {},
   "outputs": [],
   "source": [
    "red_color = pg.mkColor('red')\n",
    "red_color.setAlphaF(0.5)\n",
    "\n",
    "# active_random_test_plot_curve_datasource.data_series_specs.data_series_config_list[0]['color_name'] = 'red'\n",
    "active_random_test_plot_curve_datasource.data_series_specs.data_series_config_list[0]['color'] = red_color\n",
    "active_random_test_plot_curve_datasource.data_series_specs.data_series_config_list[0]['line_width'] = 2.5\n",
    "active_random_test_plot_curve_datasource.data_series_specs.data_series_config_list[0]['z_scaling_factor'] = 1.0\n",
    "\n",
    "green_color = pg.mkColor('green')\n",
    "green_color.setAlphaF(0.5)\n",
    "# active_random_test_plot_curve_datasource.data_series_specs.data_series_config_list[5]['color_name'] = 'green'\n",
    "active_random_test_plot_curve_datasource.data_series_specs.data_series_config_list[0]['color'] = green_color\n",
    "active_random_test_plot_curve_datasource.data_series_specs.data_series_config_list[5]['line_width'] = 1.0\n",
    "active_random_test_plot_curve_datasource.data_series_specs.data_series_config_list[5]['z_scaling_factor'] = 1.0\n",
    "\n",
    "active_random_test_plot_curve_datasource.data_series_specs = active_random_test_plot_curve_datasource.data_series_specs\n",
    "\n",
    "# self.params.time_curves_datasource.data_series_specs\n",
    "# active_random_test_plot_curve_datasource.data_series_specs_changed_signal.emit()"
   ]
  },
  {
   "cell_type": "code",
   "execution_count": null,
   "id": "2fb32785-4695-438d-9f43-3ee98bfebb8a",
   "metadata": {},
   "outputs": [],
   "source": [
    "# So a single entry is made of...\n",
    "\n",
    "i = 0\n",
    "\n",
    "curr_config = (active_random_test_plot_curve_datasource.data_series_specs.data_series_pre_spatial_list[i],\n",
    "active_random_test_plot_curve_datasource.data_series_specs.data_series_config_list[i],\n",
    "active_random_test_plot_curve_datasource.data_series_specs.data_series_pre_spatial_to_spatial_mappings[i])"
   ]
  },
  {
   "cell_type": "code",
   "execution_count": null,
   "id": "faa6438e-bd3e-4409-98b4-23c16b481c0b",
   "metadata": {},
   "outputs": [],
   "source": [
    "# spike_raster_plt_3d.cell_id_to_unit_id_map\n",
    "# spike_raster_plt_3d.unit_id_to_spatial(0) -20.0\n",
    "spike_raster_plt_3d.unit_id_to_spatial(5)"
   ]
  },
  {
   "cell_type": "code",
   "execution_count": null,
   "id": "90f9eb18-814f-41b5-bfb5-f92da3c43e8e",
   "metadata": {},
   "outputs": [],
   "source": [
    "to_spatial_mappings = active_random_test_plot_curve_datasource.data_series_specs.data_series_pre_spatial_to_spatial_mappings[i]\n",
    "\n",
    "backup_y_map_fn = to_spatial_mappings['y_map_fn']"
   ]
  },
  {
   "cell_type": "code",
   "execution_count": null,
   "id": "348e8626-b47f-431e-963c-bbf975c1080a",
   "metadata": {},
   "outputs": [],
   "source": [
    "to_spatial_mappings['y_map_fn'] = lamba"
   ]
  },
  {
   "cell_type": "code",
   "execution_count": null,
   "id": "79acf049-abb9-4492-b8b6-6caf893ec17b",
   "metadata": {},
   "outputs": [],
   "source": [
    "active_random_test_plot_curve_datasource.data_series_specs = active_random_test_plot_curve_datasource.data_series_specs"
   ]
  },
  {
   "cell_type": "code",
   "execution_count": null,
   "id": "2b889ee2-ef55-4133-a8b4-a6c24ad8dde0",
   "metadata": {},
   "outputs": [],
   "source": [
    "spike_raster_plt_3d.add_3D_time_curves(curve_datasource=active_random_test_plot_curve_datasource) # Add the curves from the datasource"
   ]
  },
  {
   "cell_type": "code",
   "execution_count": null,
   "id": "593aff9a-bfa1-4c7d-b6bd-98ed413d068c",
   "metadata": {},
   "outputs": [],
   "source": [
    "# Shows memory changes correctly on update to returned datasource:\n",
    "spike_raster_plt_3d.params.time_curves_datasource.data_series_specs.data_series_config_list[0]"
   ]
  },
  {
   "cell_type": "code",
   "execution_count": null,
   "id": "1d2ab1d1-b299-4f20-aed6-81688897f1c8",
   "metadata": {},
   "outputs": [],
   "source": [
    "spike_raster_plt_3d.params.time_curves_datasource.data_series_specs.data_series_pre_spatial_list[0]\n",
    "\n",
    "\"\"\"\n",
    "??? .data_series_pre_spatial_list and .data_series_pre_spatial_list seem to be identical?\n",
    "\n",
    "\"\"\""
   ]
  },
  {
   "cell_type": "markdown",
   "id": "3c82e1db-8979-4c20-8b18-c1dabfe537ac",
   "metadata": {
    "jp-MarkdownHeadingCollapsed": true,
    "pycharm": {
     "is_executing": false,
     "name": "#%%\n"
    },
    "tags": []
   },
   "source": [
    "### Test adding the MUA firing rate curve to the 3D plot"
   ]
  },
  {
   "cell_type": "code",
   "execution_count": null,
   "id": "500b8f83-13a6-4f2a-870f-bbe23c752050",
   "metadata": {
    "pycharm": {
     "is_executing": false,
     "name": "#%%\n"
    }
   },
   "outputs": [],
   "source": [
    "### Simple dataframe-based approach:\n",
    "linear_position_plot_data_frame = curr_sess.position.to_dataframe()[['t', 'lin_pos']]\n",
    "spike_raster_plt_3d.add_3D_time_curves(plot_dataframe=linear_position_plot_data_frame)\n",
    "# curr_sess.position.linear_pos"
   ]
  },
  {
   "cell_type": "code",
   "execution_count": null,
   "id": "709c8657-f385-47bd-bd69-80368b7612b9",
   "metadata": {
    "pycharm": {
     "is_executing": false,
     "name": "#%%\n"
    }
   },
   "outputs": [],
   "source": [
    "### Complex Dataseries-based CurveDatasource approach:\n",
    "from pyphoplacecellanalysis.GUI.PyQtPlot.Widgets.Mixins.TimeCurves3D.Specific3DTimeCurves import Specific3DTimeCurvesHelper\n",
    "\n",
    "active_mua_plot_curve_datasource = Specific3DTimeCurvesHelper.build_MUA_3D_time_curves(curr_sess, spike_raster_plt_3d)\n",
    "# active_plot_curve_datasource = Specific3DTimeCurvesHelper.build_position_3D_time_curves(curr_sess, spike_raster_plt_3d)"
   ]
  },
  {
   "cell_type": "code",
   "execution_count": null,
   "id": "560ef3f9-d4e8-421f-b191-37b3ca139387",
   "metadata": {
    "pycharm": {
     "is_executing": false,
     "name": "#%%\n"
    }
   },
   "outputs": [],
   "source": [
    "active_mua_plot_curve_datasource.active_data_column_names"
   ]
  },
  {
   "cell_type": "code",
   "execution_count": null,
   "id": "1a8cab73-de5d-41dd-a049-5891872525fa",
   "metadata": {
    "pycharm": {
     "is_executing": false,
     "name": "#%%\n"
    }
   },
   "outputs": [],
   "source": [
    "active_mua_plot_curve_datasource"
   ]
  },
  {
   "cell_type": "code",
   "execution_count": null,
   "id": "3891375a-a09f-4a10-a690-8144c76a230e",
   "metadata": {
    "pycharm": {
     "is_executing": false,
     "name": "#%%\n"
    }
   },
   "outputs": [],
   "source": [
    "plot_UIDs = spike_raster_plt_3d.params.time_curves_datasource.datasource_UIDs # ['default_plot_datasource.mua_firing_rate']\n",
    "spike_raster_plt_3d.plots.time_curves[plot_UIDs[0]]"
   ]
  },
  {
   "cell_type": "code",
   "execution_count": null,
   "id": "4590043c-dbfe-460e-95ad-0c2c085fbaad",
   "metadata": {
    "pycharm": {
     "is_executing": false,
     "name": "#%%\n"
    }
   },
   "outputs": [],
   "source": [
    "spike_raster_plt_3d.detach_3d_time_curves_datasource()"
   ]
  },
  {
   "cell_type": "code",
   "execution_count": null,
   "id": "0de4a263-19de-4d5c-b77e-a197238daf1c",
   "metadata": {
    "pycharm": {
     "is_executing": false,
     "name": "#%%\n"
    }
   },
   "outputs": [],
   "source": [
    "## Update:\n",
    "curr_plot3D_active_window_data = plot_datasource.get_updated_data_window(spike_raster_plt_3d.spikes_window.active_window_start_time, spike_raster_plt_3d.spikes_window.active_window_end_time) # get updated data for the active window from the datasource\n",
    "curve_y_value = -spike_raster_plt_3d.n_half_cells\n",
    "curr_x = DataSeriesToSpatial.temporal_to_spatial_map(curr_plot3D_active_window_data['t'].to_numpy(), spike_raster_plt_3d.spikes_window.active_window_start_time, spike_raster_plt_3d.spikes_window.active_window_end_time, spike_raster_plt_3d.temporal_axis_length, center_mode='zero_centered')\n",
    "pts = np.column_stack([curr_x, np.full_like(curr_x, curve_y_value), curr_plot3D_active_window_data['mua_firing_rate'].to_numpy()])\n",
    "plt.setData(pos=pts)"
   ]
  },
  {
   "cell_type": "code",
   "execution_count": null,
   "id": "6896d66b-feb3-4bc1-9ec8-522b6ee92b24",
   "metadata": {
    "pycharm": {
     "is_executing": false,
     "name": "#%%\n"
    }
   },
   "outputs": [],
   "source": [
    "curr_plot3D_active_window_data.plot()"
   ]
  },
  {
   "cell_type": "code",
   "execution_count": null,
   "id": "783eb537-a2b0-4866-a726-77162b091f33",
   "metadata": {
    "pycharm": {
     "is_executing": false,
     "name": "#%%\n"
    }
   },
   "outputs": [],
   "source": [
    "spike_raster_plt_3d.n_cells"
   ]
  },
  {
   "cell_type": "markdown",
   "id": "3dc329e3-1086-4cf2-81f3-4a77eef8d185",
   "metadata": {
    "pycharm": {
     "is_executing": false,
     "name": "#%%\n"
    },
    "tags": []
   },
   "source": [
    "# Testing/Playground"
   ]
  },
  {
   "cell_type": "code",
   "execution_count": null,
   "id": "5893f855-bb6d-4bc2-95f6-170887cd301c",
   "metadata": {
    "pycharm": {
     "is_executing": false,
     "name": "#%%\n"
    }
   },
   "outputs": [],
   "source": [
    "## Testing burst detection\n",
    "from neurodsp.burst import detect_bursts_dual_threshold, compute_burst_stats\n",
    "from neurodsp.plts.time_series import plot_time_series, plot_bursts # for plotting results\n",
    "\n",
    "# curr_active_pipeline.sess.spikes_df.spikes.neuron_ids\n",
    "\n",
    "# grouped = curr_active_pipeline.sess.spikes_df.groupby('aclu')\n",
    "\n",
    "# neuron_split_spike_dfs = [spk_df.groupby('aclu').get_group(neuron_id)[['t','x','y','lin_pos']] for neuron_id in active_epoch_session.neuron_ids] # dataframes split for each ID:\n",
    "# neuron_split_spike_dfs = curr_active_pipeline.sess.spikes_df.spikes.get_split_by_unit()\n",
    "\n",
    "# grouped['t_rel_seconds'].diff()\n",
    "\n",
    "# .diff()\n",
    "# curr_active_pipeline.sess.spikes_df\n",
    "\n",
    "# computation_result.computed_data['pf2D_Decoder']"
   ]
  },
  {
   "cell_type": "markdown",
   "id": "1d839898-a488-4585-b5aa-d765bb373b75",
   "metadata": {
    "pycharm": {
     "is_executing": false,
     "name": "#%%\n"
    }
   },
   "source": [
    "# Test Mapping from neuron_ids from a computed_data result to the 3D plotter's indicies:"
   ]
  },
  {
   "cell_type": "code",
   "execution_count": null,
   "id": "41298dbf-7cee-4fcf-a40d-6ef543a1c477",
   "metadata": {
    "pycharm": {
     "is_executing": false,
     "name": "#%%\n"
    }
   },
   "outputs": [],
   "source": [
    "# curr_computations_results.sess.position\n",
    "\n",
    "# curr_computations_results.sess.position.to_dataframe() # Position dataframe\n",
    "\n",
    "# curr_computations_results.computed_data.keys() # ['pf1D', 'pf2D', 'pf2D_Decoder', 'pf2D_TwoStepDecoder', 'extended_stats', 'firing_rate_trends', 'placefield_overlap']\n",
    "\n",
    "curr_neuron_IDs = np.array(curr_computations_results.computed_data['pf2D_Decoder'].neuron_IDs)\n",
    "curr_neuron_IDXs = curr_computations_results.computed_data['pf2D_Decoder'].neuron_IDXs\n",
    "\n",
    "print(f\"curr_computations_results.computed_data['pf2D_Decoder'].neuron_IDs: \\t\\t{curr_computations_results.computed_data['pf2D_Decoder'].neuron_IDs}\")\n",
    "print(f\"curr_computations_results.computed_data['pf2D_Decoder'].neuron_IDXs: \\t\\t{curr_computations_results.computed_data['pf2D_Decoder'].neuron_IDXs}\")\n",
    "\"\"\"\n",
    "curr_computations_results.computed_data['pf2D_Decoder'].neuron_IDs: \t\t[2, 3, 4, 5, 7, 8, 9, 10, 11, 12, 14, 17, 18, 21, 22, 24, 25, 26, 27, 28, 29, 33, 34, 38, 39, 42, 44, 45, 46, 47, 48, 53, 55, 57, 58, 61, 62, 63, 64]\n",
    "curr_computations_results.computed_data['pf2D_Decoder'].neuron_IDXs: \t\t[ 0  1  2  3  4  5  6  7  8  9 10 11 12 13 14 15 16 17 18 19 20 21 22 23 24 25 26 27 28 29 30 31 32 33 34 35 36 37 38]\n",
    "\"\"\"\n",
    "\n",
    "# curr_computations_results.computed_data['firing_rate_trends'].keys() # ['active_rolling_window_times', 'mean_firing_rates', 'desired_window_length_seconds', 'desired_window_length_bins', 'active_firing_rates_df', 'moving_mean_firing_rates_df']\n",
    "\n",
    "# curr_computations_results.computed_data['firing_rate_trends']['active_rolling_window_times'] # TimedeltaIndex, 'timedelta64[ns]', length=1717, freq='S'\n",
    "\n",
    "# Mean over all cells:\n",
    "# curr_computations_results.computed_data['firing_rate_trends']['mean_firing_rates'].shape # (39,)\n",
    "\n",
    "\n",
    "# curr_computations_results.computed_data['firing_rate_trends']['active_firing_rates_df'] # 1239 rows × 39 columns\n",
    "curr_neuron_IDXs.shape # (39,)\n",
    "curr_neuron_IDs.shape # (39,)"
   ]
  },
  {
   "cell_type": "code",
   "execution_count": null,
   "id": "e903b659-0662-4deb-8145-335d6de9475e",
   "metadata": {
    "pycharm": {
     "is_executing": false,
     "name": "#%%\n"
    }
   },
   "outputs": [],
   "source": [
    "# need to filter spike_raster_plt_3d_vedo.cell_ids to only include the ones present in curr_neuron_IDs\n",
    "is_included_in_computation_result_neuron_IDs = np.isin(spike_raster_plt_3d_vedo.cell_ids, curr_neuron_IDs)\n",
    "included_neuron_ids = spike_raster_plt_3d_vedo.cell_ids[is_included_in_computation_result_neuron_IDs]\n",
    "excluded_neuron_ids = spike_raster_plt_3d_vedo.cell_ids[~is_included_in_computation_result_neuron_IDs]\n",
    "print(f'included_neuron_ids: {included_neuron_ids}, excluded_neuron_ids: {excluded_neuron_ids}')\n",
    "assert (np.shape(included_neuron_ids) == np.shape(curr_computations_results.computed_data['firing_rate_trends']['mean_firing_rates'])), f\"The included neuron_ids should be the same shape as computed data to plot but {np.shape(included_neuron_ids)} and {np.shape(curr_computations_results.computed_data['firing_rate_trends']['mean_firing_rates'])}\""
   ]
  },
  {
   "cell_type": "markdown",
   "id": "464fe282-a103-4849-a429-e85d6ed79a48",
   "metadata": {
    "pycharm": {
     "is_executing": false,
     "name": "#%%\n"
    },
    "tags": []
   },
   "source": [
    "## Unit Rolling Average Spike Counts Datasource:"
   ]
  },
  {
   "cell_type": "code",
   "execution_count": 49,
   "id": "e29af59d-9a48-4042-a632-20a0fd690586",
   "metadata": {
    "pycharm": {
     "is_executing": false,
     "name": "#%%\n"
    },
    "scrolled": true,
    "tags": []
   },
   "outputs": [
    {
     "name": "stdout",
     "output_type": "stream",
     "text": [
      "- computed_data: <class 'dict'>\n",
      "\t- pf1D: <class 'neuropy.analyses.placefields.PfND'>\n",
      "\t\t- config: <class 'neuropy.analyses.placefields.PlacefieldComputationParameters'>\n",
      "\t\t\t- speed_thresh: <class 'float'>\n",
      "\t\t\t- grid_bin: <class 'tuple'> - (2,)\n",
      "\t\t\t- smooth: <class 'tuple'> - (2,)\n",
      "\t\t\t- frate_thresh: <class 'float'>\n",
      "\t\t- position_srate: <class 'numpy.float64'>\n",
      "\t\t- ndim: <class 'numpy.int32'>\n",
      "\t\t- t: <class 'numpy.ndarray'> - (11628,)\n",
      "\t\t- x: <class 'numpy.ndarray'> - (11628,)\n",
      "\t\t- speed: <class 'numpy.ndarray'> - (11628,)\n",
      "\t\t- y: <class 'NoneType'>\n",
      "\t\t- ratemap: <class 'neuropy.core.ratemap.Ratemap'>\n",
      "\t\t\t- _filename: <class 'NoneType'>\n",
      "\t\t\t- _metadata: <class 'NoneType'>\n",
      "\t\t\t- tuning_curves: <class 'numpy.ndarray'> - (39, 59)\n",
      "\t\t\t- firing_maps: <class 'numpy.ndarray'> - (39, 59)\n",
      "\t\t\t- _neuron_ids: <class 'list'> - (39,)\n",
      "\t\t\t- _neuron_extended_ids: <class 'list'> - (39, 3)\n",
      "\t\t\t- xbin: <class 'numpy.ndarray'> - (60,)\n",
      "\t\t\t- ybin: <class 'NoneType'>\n",
      "\t\t\t- occupancy: <class 'numpy.ndarray'> - (59,)\n",
      "\t\t- ratemap_spiketrains: <class 'list'> - (39,)\n",
      "\t\t- ratemap_spiketrains_pos: <class 'list'> - (39, 1)\n",
      "\t- pf2D: <class 'neuropy.analyses.placefields.PfND'>\n",
      "\t\t- config: <class 'neuropy.analyses.placefields.PlacefieldComputationParameters'>\n",
      "\t\t\t- speed_thresh: <class 'float'>\n",
      "\t\t\t- grid_bin: <class 'tuple'> - (2,)\n",
      "\t\t\t- smooth: <class 'tuple'> - (2,)\n",
      "\t\t\t- frate_thresh: <class 'float'>\n",
      "\t\t- position_srate: <class 'numpy.float64'>\n",
      "\t\t- ndim: <class 'numpy.int32'>\n",
      "\t\t- t: <class 'numpy.ndarray'> - (11628,)\n",
      "\t\t- x: <class 'numpy.ndarray'> - (11628,)\n",
      "\t\t- speed: <class 'numpy.ndarray'> - (11628,)\n",
      "\t\t- y: <class 'numpy.ndarray'> - (11628,)\n",
      "\t\t- ratemap: <class 'neuropy.core.ratemap.Ratemap'>\n",
      "\t\t\t- _filename: <class 'NoneType'>\n",
      "\t\t\t- _metadata: <class 'NoneType'>\n",
      "\t\t\t- tuning_curves: <class 'numpy.ndarray'> - (39, 59, 21)\n",
      "\t\t\t- firing_maps: <class 'numpy.ndarray'> - (39, 59, 21)\n",
      "\t\t\t- _neuron_ids: <class 'list'> - (39,)\n",
      "\t\t\t- _neuron_extended_ids: <class 'list'> - (39, 3)\n",
      "\t\t\t- xbin: <class 'numpy.ndarray'> - (60,)\n",
      "\t\t\t- ybin: <class 'numpy.ndarray'> - (22,)\n",
      "\t\t\t- occupancy: <class 'numpy.ndarray'> - (59, 21)\n",
      "\t\t- ratemap_spiketrains: <class 'list'> - (39,)\n",
      "\t\t- ratemap_spiketrains_pos: <class 'list'> - (39, 2)\n",
      "\t- pf2D_Decoder: <class 'pyphoplacecellanalysis.Analysis.reconstruction.BayesianPlacemapPositionDecoder'>\n",
      "\t\t- time_bin_size: <class 'float'>\n",
      "\t\t- pf: <class 'neuropy.analyses.placefields.PfND'>\n",
      "\t\t\t- config: <class 'neuropy.analyses.placefields.PlacefieldComputationParameters'>\n",
      "\t\t\t\t- speed_thresh: <class 'float'>\n",
      "\t\t\t\t- grid_bin: <class 'tuple'> - (2,)\n",
      "\t\t\t\t- smooth: <class 'tuple'> - (2,)\n",
      "\t\t\t\t- frate_thresh: <class 'float'>\n",
      "\t\t\t- position_srate: <class 'numpy.float64'>\n",
      "\t\t\t- ndim: <class 'numpy.int32'>\n",
      "\t\t\t- t: <class 'numpy.ndarray'> - (11628,)\n",
      "\t\t\t- x: <class 'numpy.ndarray'> - (11628,)\n",
      "\t\t\t- speed: <class 'numpy.ndarray'> - (11628,)\n",
      "\t\t\t- y: <class 'numpy.ndarray'> - (11628,)\n",
      "\t\t\t- ratemap: <class 'neuropy.core.ratemap.Ratemap'>\n",
      "\t\t\t\t- _filename: <class 'NoneType'>\n",
      "\t\t\t\t- _metadata: <class 'NoneType'>\n",
      "\t\t\t\t- tuning_curves: <class 'numpy.ndarray'> - (39, 59, 21)\n",
      "\t\t\t\t- firing_maps: <class 'numpy.ndarray'> - (39, 59, 21)\n",
      "\t\t\t\t- _neuron_ids: <class 'list'> - (39,)\n",
      "\t\t\t\t- _neuron_extended_ids: <class 'list'> - (39, 3)\n",
      "\t\t\t\t- xbin: <class 'numpy.ndarray'> - (60,)\n",
      "\t\t\t\t- ybin: <class 'numpy.ndarray'> - (22,)\n",
      "\t\t\t\t- occupancy: <class 'numpy.ndarray'> - (59, 21)\n",
      "\t\t\t- ratemap_spiketrains: <class 'list'> - (39,)\n",
      "\t\t\t- ratemap_spiketrains_pos: <class 'list'> - (39, 2)\n",
      "\t\t- spikes_df: <class 'pandas.core.frame.DataFrame'> - (69142, 23)\n",
      "\t\t- debug_print: <class 'bool'>\n",
      "\t\t- neuron_IDXs: <class 'numpy.ndarray'> - (39,)\n",
      "\t\t- neuron_IDs: <class 'list'> - (39,)\n",
      "\t\t- F: <class 'numpy.ndarray'> - (1239, 39)\n",
      "\t\t- P_x: <class 'numpy.ndarray'> - (1239, 1)\n",
      "\t\t- unit_specific_time_binned_spike_counts: <class 'numpy.ndarray'> - (39, 1717)\n",
      "\t\t- time_window_edges: <class 'numpy.ndarray'> - (1718,)\n",
      "\t\t- time_window_edges_binning_info: <class 'pyphocorehelpers.indexing_helpers.BinningInfo'>\n",
      "\t\t\t- variable_extents: <class 'tuple'> - (2,)\n",
      "\t\t\t- step: <class 'float'>\n",
      "\t\t\t- num_bins: <class 'int'>\n",
      "\t\t\t- bin_indicies: <class 'numpy.ndarray'> - (1718,)\n",
      "\t\t- total_spike_counts_per_window: <class 'numpy.ndarray'> - (1717,)\n",
      "\t\t- time_window_centers: <class 'numpy.ndarray'> - (1717,)\n",
      "\t\t- time_window_center_binning_info: <class 'pyphocorehelpers.indexing_helpers.BinningInfo'>\n",
      "\t\t\t- variable_extents: <class 'tuple'> - (2,)\n",
      "\t\t\t- step: <class 'numpy.float64'>\n",
      "\t\t\t- num_bins: <class 'int'>\n",
      "\t\t\t- bin_indicies: <class 'numpy.ndarray'> - (1717,)\n",
      "\t\t- flat_p_x_given_n: <class 'numpy.ndarray'> - (1239, 1717)\n",
      "\t\t- p_x_given_n: <class 'numpy.ndarray'> - (59, 21, 1717)\n",
      "\t\t- most_likely_position_flat_indicies: <class 'numpy.ndarray'> - (1717,)\n",
      "\t\t- most_likely_position_indicies: <class 'numpy.ndarray'> - (2, 1717)\n",
      "\t- pf2D_TwoStepDecoder: <class 'dict'>\n",
      "\t\t- xbin: <class 'numpy.ndarray'> - (59,)\n",
      "\t\t- ybin: <class 'numpy.ndarray'> - (21,)\n",
      "\t\t- avg_speed_per_pos: <class 'numpy.ndarray'> - (59, 21)\n",
      "\t\t- K: <class 'numpy.float64'>\n",
      "\t\t- V: <class 'float'>\n",
      "\t\t- sigma_t_all: <class 'numpy.ndarray'> - (59, 21)\n",
      "\t\t- flat_sigma_t_all: <class 'numpy.ndarray'> - (1239,)\n",
      "\t\t- C: <class 'float'>\n",
      "\t\t- k: <class 'float'>\n",
      "\t\t- all_x: <class 'numpy.ndarray'> - (59, 21, 2)\n",
      "\t\t- flat_all_x: <class 'list'> - (1239, 2)\n",
      "\t\t- original_all_x_shape: <class 'tuple'> - (2,)\n",
      "\t\t- flat_p_x_given_n_and_x_prev: <class 'numpy.ndarray'> - (1239, 1717)\n",
      "\t\t- p_x_given_n_and_x_prev: <class 'numpy.ndarray'> - (59, 21, 1717)\n",
      "\t\t- most_likely_position_indicies: <class 'numpy.ndarray'> - (2, 1717)\n",
      "\t\t- most_likely_positions: <class 'numpy.ndarray'> - (2, 1717)\n",
      "\t\t- all_scaling_factors_k: <class 'numpy.ndarray'> - (1717,)\n",
      "\t\t- most_likely_position_flat_indicies: <class 'numpy.ndarray'> - (1717,)\n",
      "\t- extended_stats: <class 'dict'>\n",
      "\t- firing_rate_trends: <class 'dict'>\n",
      "\t\t- active_rolling_window_times: <class 'pandas.core.indexes.timedeltas.TimedeltaIndex'> - (1717,)\n",
      "\t\t- mean_firing_rates: <class 'numpy.ndarray'> - (39,)\n",
      "\t\t- desired_window_length_seconds: <class 'float'>\n",
      "\t\t- desired_window_length_bins: <class 'int'>\n",
      "\t\t- active_firing_rates_df: <class 'pandas.core.frame.DataFrame'> - (1239, 39)\n",
      "\t\t- moving_mean_firing_rates_df: <class 'pandas.core.frame.DataFrame'> - (1239, 39)\n",
      "\t- placefield_overlap: <class 'dict'>\n",
      "\t\t- all_pairwise_neuron_IDs_combinations: <class 'numpy.ndarray'> - (741, 2)\n",
      "\t\t- total_pairwise_overlaps: <class 'numpy.ndarray'> - (741,)\n",
      "\t\t- all_pairwise_overlaps: <class 'numpy.ndarray'> - (741, 59, 21)\n"
     ]
    }
   ],
   "source": [
    "    from pyphocorehelpers.print_helpers import print_keys_if_possible\n",
    "\n",
    "print_keys_if_possible('computed_data', curr_computations_results.computed_data, depth=0)\n",
    "\n",
    "# prev_output_result.computed_data['pf2D']\n",
    "\n",
    "# curr_computations_results.computed_data['pf2D_Decoder'].F.shape # (1239, 39)"
   ]
  },
  {
   "cell_type": "code",
   "execution_count": 54,
   "id": "bc39fe50-784e-443b-a3e8-fd3b444a5d8d",
   "metadata": {
    "pycharm": {
     "is_executing": false,
     "name": "#%%\n"
    }
   },
   "outputs": [],
   "source": [
    "# vars(curr_computations_results.computed_data['pf2D'].__dict__)\n",
    "# time_binning_info = curr_computations_results.computed_data['pf2D_Decoder'].time_window_edges_binning_info\n",
    "time_binning_info = curr_computations_results.computed_data['pf2D_Decoder'].time_window_center_binning_info\n",
    "# time_binning_info.bin_indicies\n",
    "\n",
    "# ['time_window_edges_binning_info']\n",
    "time_binning_info"
   ]
  },
  {
   "cell_type": "code",
   "execution_count": 56,
   "id": "4e799598-ea53-4293-b8ca-38e9f3648ea8",
   "metadata": {
    "pycharm": {
     "is_executing": false,
     "name": "#%%\n"
    }
   },
   "outputs": [],
   "source": [
    "curr_computations_results.computed_data['pf2D_Decoder'].active_time_window_centers # (1717,)"
   ]
  },
  {
   "cell_type": "code",
   "execution_count": 56,
   "id": "1717d90a-7319-464a-927a-8e6725730d51",
   "metadata": {
    "pycharm": {
     "is_executing": false,
     "name": "#%%\n"
    }
   },
   "outputs": [
    {
     "data": {
      "text/plain": [
       "(1717,)"
      ]
     },
     "execution_count": 56,
     "metadata": {},
     "output_type": "execute_result"
    }
   ],
   "source": [
    "a\n",
    "curr_computations_results.computed_data['pf2D_Decoder'].unit_specific_time_binned_spike_counts # (39, 1717)\n"
   ]
  },
  {
   "cell_type": "code",
   "execution_count": null,
   "id": "986cff7e-0010-429e-b229-258de0a0d2ae",
   "metadata": {
    "pycharm": {
     "is_executing": false,
     "name": "#%%\n"
    }
   },
   "outputs": [],
   "source": [
    "curr_computations_results.computed_data['pf2D'].__dict__.keys() # dict_keys(['config', 'position_srate', 'ndim', 't', 'x', 'speed', 'y', 'ratemap', 'ratemap_spiketrains', 'ratemap_spiketrains_pos'])"
   ]
  },
  {
   "cell_type": "code",
   "execution_count": 40,
   "id": "2ed38d5e-0e49-448d-9af2-731142f54d94",
   "metadata": {
    "pycharm": {
     "is_executing": false,
     "name": "#%%\n"
    }
   },
   "outputs": [
    {
     "name": "stdout",
     "output_type": "stream",
     "text": [
      "- pf2D: <class 'dict'>\n",
      "\t- config: <class 'neuropy.analyses.placefields.PlacefieldComputationParameters'>\n",
      "\t- position_srate: <class 'numpy.float64'>\n",
      "\t- ndim: <class 'numpy.int32'>\n",
      "\t- t: <class 'numpy.ndarray'> - (11628,)\n",
      "\t- x: <class 'numpy.ndarray'> - (11628,)\n",
      "\t- speed: <class 'numpy.ndarray'> - (11628,)\n",
      "\t- y: <class 'numpy.ndarray'> - (11628,)\n",
      "\t- ratemap: <class 'neuropy.core.ratemap.Ratemap'>\n",
      "\t- ratemap_spiketrains: <class 'list'>\n",
      "\t- ratemap_spiketrains_pos: <class 'list'>\n"
     ]
    }
   ],
   "source": [
    "print_keys_if_possible('pf2D', curr_computations_results.computed_data['pf2D'].__dict__, depth=0)"
   ]
  },
  {
   "cell_type": "code",
   "execution_count": 71,
   "id": "15107b16-5fba-40aa-ac57-ea8a8b9ecae8",
   "metadata": {
    "pycharm": {
     "is_executing": false,
     "name": "#%%\n"
    }
   },
   "outputs": [
    {
     "data": {
      "text/html": [
       "<div>\n",
       "<style scoped>\n",
       "    .dataframe tbody tr th:only-of-type {\n",
       "        vertical-align: middle;\n",
       "    }\n",
       "\n",
       "    .dataframe tbody tr th {\n",
       "        vertical-align: top;\n",
       "    }\n",
       "\n",
       "    .dataframe thead th {\n",
       "        text-align: right;\n",
       "    }\n",
       "</style>\n",
       "<table border=\"1\" class=\"dataframe\">\n",
       "  <thead>\n",
       "    <tr style=\"text-align: right;\">\n",
       "      <th></th>\n",
       "      <th>t</th>\n",
       "      <th>2</th>\n",
       "      <th>3</th>\n",
       "      <th>4</th>\n",
       "      <th>5</th>\n",
       "      <th>7</th>\n",
       "      <th>8</th>\n",
       "      <th>9</th>\n",
       "      <th>10</th>\n",
       "      <th>11</th>\n",
       "      <th>...</th>\n",
       "      <th>47</th>\n",
       "      <th>48</th>\n",
       "      <th>53</th>\n",
       "      <th>55</th>\n",
       "      <th>57</th>\n",
       "      <th>58</th>\n",
       "      <th>61</th>\n",
       "      <th>62</th>\n",
       "      <th>63</th>\n",
       "      <th>64</th>\n",
       "    </tr>\n",
       "  </thead>\n",
       "  <tbody>\n",
       "    <tr>\n",
       "      <th>0</th>\n",
       "      <td>22.802063</td>\n",
       "      <td>0.0</td>\n",
       "      <td>0.0</td>\n",
       "      <td>0.0</td>\n",
       "      <td>0.0</td>\n",
       "      <td>0.0</td>\n",
       "      <td>0.0</td>\n",
       "      <td>0.0</td>\n",
       "      <td>0.0</td>\n",
       "      <td>0.0</td>\n",
       "      <td>...</td>\n",
       "      <td>0.0</td>\n",
       "      <td>0.0</td>\n",
       "      <td>0.0</td>\n",
       "      <td>4.0</td>\n",
       "      <td>0.0</td>\n",
       "      <td>0.0</td>\n",
       "      <td>1.0</td>\n",
       "      <td>0.0</td>\n",
       "      <td>0.0</td>\n",
       "      <td>0.0</td>\n",
       "    </tr>\n",
       "    <tr>\n",
       "      <th>1</th>\n",
       "      <td>23.802063</td>\n",
       "      <td>0.0</td>\n",
       "      <td>0.0</td>\n",
       "      <td>0.0</td>\n",
       "      <td>0.0</td>\n",
       "      <td>0.0</td>\n",
       "      <td>0.0</td>\n",
       "      <td>0.0</td>\n",
       "      <td>0.0</td>\n",
       "      <td>0.0</td>\n",
       "      <td>...</td>\n",
       "      <td>0.0</td>\n",
       "      <td>1.0</td>\n",
       "      <td>0.0</td>\n",
       "      <td>1.0</td>\n",
       "      <td>0.0</td>\n",
       "      <td>0.0</td>\n",
       "      <td>1.0</td>\n",
       "      <td>0.0</td>\n",
       "      <td>0.0</td>\n",
       "      <td>0.0</td>\n",
       "    </tr>\n",
       "    <tr>\n",
       "      <th>2</th>\n",
       "      <td>24.802063</td>\n",
       "      <td>0.0</td>\n",
       "      <td>0.0</td>\n",
       "      <td>0.0</td>\n",
       "      <td>0.0</td>\n",
       "      <td>0.0</td>\n",
       "      <td>0.0</td>\n",
       "      <td>1.0</td>\n",
       "      <td>0.0</td>\n",
       "      <td>0.0</td>\n",
       "      <td>...</td>\n",
       "      <td>0.0</td>\n",
       "      <td>0.0</td>\n",
       "      <td>0.0</td>\n",
       "      <td>1.0</td>\n",
       "      <td>0.0</td>\n",
       "      <td>0.0</td>\n",
       "      <td>2.0</td>\n",
       "      <td>0.0</td>\n",
       "      <td>0.0</td>\n",
       "      <td>0.0</td>\n",
       "    </tr>\n",
       "    <tr>\n",
       "      <th>3</th>\n",
       "      <td>25.802063</td>\n",
       "      <td>0.0</td>\n",
       "      <td>0.0</td>\n",
       "      <td>0.0</td>\n",
       "      <td>0.0</td>\n",
       "      <td>0.0</td>\n",
       "      <td>0.0</td>\n",
       "      <td>0.0</td>\n",
       "      <td>0.0</td>\n",
       "      <td>0.0</td>\n",
       "      <td>...</td>\n",
       "      <td>0.0</td>\n",
       "      <td>0.0</td>\n",
       "      <td>0.0</td>\n",
       "      <td>0.0</td>\n",
       "      <td>0.0</td>\n",
       "      <td>0.0</td>\n",
       "      <td>0.0</td>\n",
       "      <td>0.0</td>\n",
       "      <td>0.0</td>\n",
       "      <td>0.0</td>\n",
       "    </tr>\n",
       "    <tr>\n",
       "      <th>4</th>\n",
       "      <td>26.802063</td>\n",
       "      <td>0.0</td>\n",
       "      <td>0.0</td>\n",
       "      <td>0.0</td>\n",
       "      <td>0.0</td>\n",
       "      <td>0.0</td>\n",
       "      <td>0.0</td>\n",
       "      <td>0.0</td>\n",
       "      <td>0.0</td>\n",
       "      <td>0.0</td>\n",
       "      <td>...</td>\n",
       "      <td>0.0</td>\n",
       "      <td>0.0</td>\n",
       "      <td>0.0</td>\n",
       "      <td>0.0</td>\n",
       "      <td>0.0</td>\n",
       "      <td>0.0</td>\n",
       "      <td>2.0</td>\n",
       "      <td>0.0</td>\n",
       "      <td>0.0</td>\n",
       "      <td>0.0</td>\n",
       "    </tr>\n",
       "    <tr>\n",
       "      <th>5</th>\n",
       "      <td>27.802063</td>\n",
       "      <td>0.0</td>\n",
       "      <td>0.0</td>\n",
       "      <td>0.0</td>\n",
       "      <td>0.0</td>\n",
       "      <td>0.0</td>\n",
       "      <td>0.0</td>\n",
       "      <td>0.0</td>\n",
       "      <td>0.0</td>\n",
       "      <td>0.0</td>\n",
       "      <td>...</td>\n",
       "      <td>0.0</td>\n",
       "      <td>0.0</td>\n",
       "      <td>0.0</td>\n",
       "      <td>0.0</td>\n",
       "      <td>1.0</td>\n",
       "      <td>0.0</td>\n",
       "      <td>1.0</td>\n",
       "      <td>0.0</td>\n",
       "      <td>0.0</td>\n",
       "      <td>0.0</td>\n",
       "    </tr>\n",
       "    <tr>\n",
       "      <th>6</th>\n",
       "      <td>28.802063</td>\n",
       "      <td>1.0</td>\n",
       "      <td>0.0</td>\n",
       "      <td>0.0</td>\n",
       "      <td>0.0</td>\n",
       "      <td>0.0</td>\n",
       "      <td>0.0</td>\n",
       "      <td>1.0</td>\n",
       "      <td>1.0</td>\n",
       "      <td>0.0</td>\n",
       "      <td>...</td>\n",
       "      <td>0.0</td>\n",
       "      <td>0.0</td>\n",
       "      <td>0.0</td>\n",
       "      <td>0.0</td>\n",
       "      <td>0.0</td>\n",
       "      <td>0.0</td>\n",
       "      <td>2.0</td>\n",
       "      <td>0.0</td>\n",
       "      <td>0.0</td>\n",
       "      <td>0.0</td>\n",
       "    </tr>\n",
       "    <tr>\n",
       "      <th>7</th>\n",
       "      <td>29.802063</td>\n",
       "      <td>0.0</td>\n",
       "      <td>0.0</td>\n",
       "      <td>0.0</td>\n",
       "      <td>0.0</td>\n",
       "      <td>0.0</td>\n",
       "      <td>0.0</td>\n",
       "      <td>0.0</td>\n",
       "      <td>0.0</td>\n",
       "      <td>0.0</td>\n",
       "      <td>...</td>\n",
       "      <td>0.0</td>\n",
       "      <td>0.0</td>\n",
       "      <td>0.0</td>\n",
       "      <td>3.0</td>\n",
       "      <td>0.0</td>\n",
       "      <td>0.0</td>\n",
       "      <td>0.0</td>\n",
       "      <td>0.0</td>\n",
       "      <td>0.0</td>\n",
       "      <td>0.0</td>\n",
       "    </tr>\n",
       "    <tr>\n",
       "      <th>8</th>\n",
       "      <td>30.802063</td>\n",
       "      <td>0.0</td>\n",
       "      <td>0.0</td>\n",
       "      <td>0.0</td>\n",
       "      <td>1.0</td>\n",
       "      <td>0.0</td>\n",
       "      <td>0.0</td>\n",
       "      <td>0.0</td>\n",
       "      <td>0.0</td>\n",
       "      <td>0.0</td>\n",
       "      <td>...</td>\n",
       "      <td>0.0</td>\n",
       "      <td>0.0</td>\n",
       "      <td>0.0</td>\n",
       "      <td>1.0</td>\n",
       "      <td>0.0</td>\n",
       "      <td>0.0</td>\n",
       "      <td>1.0</td>\n",
       "      <td>0.0</td>\n",
       "      <td>0.0</td>\n",
       "      <td>0.0</td>\n",
       "    </tr>\n",
       "    <tr>\n",
       "      <th>9</th>\n",
       "      <td>31.802063</td>\n",
       "      <td>0.0</td>\n",
       "      <td>0.0</td>\n",
       "      <td>0.0</td>\n",
       "      <td>12.0</td>\n",
       "      <td>0.0</td>\n",
       "      <td>0.0</td>\n",
       "      <td>0.0</td>\n",
       "      <td>0.0</td>\n",
       "      <td>0.0</td>\n",
       "      <td>...</td>\n",
       "      <td>0.0</td>\n",
       "      <td>0.0</td>\n",
       "      <td>0.0</td>\n",
       "      <td>0.0</td>\n",
       "      <td>1.0</td>\n",
       "      <td>0.0</td>\n",
       "      <td>0.0</td>\n",
       "      <td>0.0</td>\n",
       "      <td>0.0</td>\n",
       "      <td>0.0</td>\n",
       "    </tr>\n",
       "    <tr>\n",
       "      <th>10</th>\n",
       "      <td>32.802063</td>\n",
       "      <td>0.0</td>\n",
       "      <td>0.0</td>\n",
       "      <td>0.0</td>\n",
       "      <td>1.0</td>\n",
       "      <td>0.0</td>\n",
       "      <td>0.0</td>\n",
       "      <td>0.0</td>\n",
       "      <td>0.0</td>\n",
       "      <td>0.0</td>\n",
       "      <td>...</td>\n",
       "      <td>2.0</td>\n",
       "      <td>1.0</td>\n",
       "      <td>0.0</td>\n",
       "      <td>0.0</td>\n",
       "      <td>24.0</td>\n",
       "      <td>0.0</td>\n",
       "      <td>0.0</td>\n",
       "      <td>0.0</td>\n",
       "      <td>1.0</td>\n",
       "      <td>0.0</td>\n",
       "    </tr>\n",
       "    <tr>\n",
       "      <th>11</th>\n",
       "      <td>33.802063</td>\n",
       "      <td>0.0</td>\n",
       "      <td>0.0</td>\n",
       "      <td>0.0</td>\n",
       "      <td>0.0</td>\n",
       "      <td>0.0</td>\n",
       "      <td>2.0</td>\n",
       "      <td>5.0</td>\n",
       "      <td>0.0</td>\n",
       "      <td>0.0</td>\n",
       "      <td>...</td>\n",
       "      <td>0.0</td>\n",
       "      <td>0.0</td>\n",
       "      <td>0.0</td>\n",
       "      <td>1.0</td>\n",
       "      <td>13.0</td>\n",
       "      <td>0.0</td>\n",
       "      <td>2.0</td>\n",
       "      <td>0.0</td>\n",
       "      <td>1.0</td>\n",
       "      <td>0.0</td>\n",
       "    </tr>\n",
       "    <tr>\n",
       "      <th>12</th>\n",
       "      <td>34.802063</td>\n",
       "      <td>1.0</td>\n",
       "      <td>0.0</td>\n",
       "      <td>0.0</td>\n",
       "      <td>0.0</td>\n",
       "      <td>0.0</td>\n",
       "      <td>1.0</td>\n",
       "      <td>1.0</td>\n",
       "      <td>0.0</td>\n",
       "      <td>0.0</td>\n",
       "      <td>...</td>\n",
       "      <td>0.0</td>\n",
       "      <td>0.0</td>\n",
       "      <td>0.0</td>\n",
       "      <td>0.0</td>\n",
       "      <td>0.0</td>\n",
       "      <td>1.0</td>\n",
       "      <td>0.0</td>\n",
       "      <td>0.0</td>\n",
       "      <td>0.0</td>\n",
       "      <td>0.0</td>\n",
       "    </tr>\n",
       "    <tr>\n",
       "      <th>13</th>\n",
       "      <td>35.802063</td>\n",
       "      <td>0.0</td>\n",
       "      <td>9.0</td>\n",
       "      <td>0.0</td>\n",
       "      <td>0.0</td>\n",
       "      <td>0.0</td>\n",
       "      <td>0.0</td>\n",
       "      <td>1.0</td>\n",
       "      <td>0.0</td>\n",
       "      <td>0.0</td>\n",
       "      <td>...</td>\n",
       "      <td>0.0</td>\n",
       "      <td>0.0</td>\n",
       "      <td>0.0</td>\n",
       "      <td>0.0</td>\n",
       "      <td>0.0</td>\n",
       "      <td>0.0</td>\n",
       "      <td>0.0</td>\n",
       "      <td>0.0</td>\n",
       "      <td>0.0</td>\n",
       "      <td>0.0</td>\n",
       "    </tr>\n",
       "    <tr>\n",
       "      <th>14</th>\n",
       "      <td>36.802063</td>\n",
       "      <td>0.0</td>\n",
       "      <td>6.0</td>\n",
       "      <td>0.0</td>\n",
       "      <td>0.0</td>\n",
       "      <td>2.0</td>\n",
       "      <td>0.0</td>\n",
       "      <td>0.0</td>\n",
       "      <td>0.0</td>\n",
       "      <td>0.0</td>\n",
       "      <td>...</td>\n",
       "      <td>1.0</td>\n",
       "      <td>0.0</td>\n",
       "      <td>0.0</td>\n",
       "      <td>0.0</td>\n",
       "      <td>0.0</td>\n",
       "      <td>0.0</td>\n",
       "      <td>0.0</td>\n",
       "      <td>0.0</td>\n",
       "      <td>0.0</td>\n",
       "      <td>0.0</td>\n",
       "    </tr>\n",
       "    <tr>\n",
       "      <th>...</th>\n",
       "      <td>...</td>\n",
       "      <td>...</td>\n",
       "      <td>...</td>\n",
       "      <td>...</td>\n",
       "      <td>...</td>\n",
       "      <td>...</td>\n",
       "      <td>...</td>\n",
       "      <td>...</td>\n",
       "      <td>...</td>\n",
       "      <td>...</td>\n",
       "      <td>...</td>\n",
       "      <td>...</td>\n",
       "      <td>...</td>\n",
       "      <td>...</td>\n",
       "      <td>...</td>\n",
       "      <td>...</td>\n",
       "      <td>...</td>\n",
       "      <td>...</td>\n",
       "      <td>...</td>\n",
       "      <td>...</td>\n",
       "      <td>...</td>\n",
       "    </tr>\n",
       "    <tr>\n",
       "      <th>1702</th>\n",
       "      <td>1724.802063</td>\n",
       "      <td>2.0</td>\n",
       "      <td>0.0</td>\n",
       "      <td>0.0</td>\n",
       "      <td>2.0</td>\n",
       "      <td>4.0</td>\n",
       "      <td>0.0</td>\n",
       "      <td>2.0</td>\n",
       "      <td>0.0</td>\n",
       "      <td>0.0</td>\n",
       "      <td>...</td>\n",
       "      <td>0.0</td>\n",
       "      <td>0.0</td>\n",
       "      <td>8.0</td>\n",
       "      <td>3.0</td>\n",
       "      <td>0.0</td>\n",
       "      <td>6.0</td>\n",
       "      <td>0.0</td>\n",
       "      <td>4.0</td>\n",
       "      <td>1.0</td>\n",
       "      <td>13.0</td>\n",
       "    </tr>\n",
       "    <tr>\n",
       "      <th>1703</th>\n",
       "      <td>1725.802063</td>\n",
       "      <td>0.0</td>\n",
       "      <td>0.0</td>\n",
       "      <td>0.0</td>\n",
       "      <td>1.0</td>\n",
       "      <td>5.0</td>\n",
       "      <td>0.0</td>\n",
       "      <td>0.0</td>\n",
       "      <td>2.0</td>\n",
       "      <td>0.0</td>\n",
       "      <td>...</td>\n",
       "      <td>0.0</td>\n",
       "      <td>0.0</td>\n",
       "      <td>4.0</td>\n",
       "      <td>2.0</td>\n",
       "      <td>0.0</td>\n",
       "      <td>3.0</td>\n",
       "      <td>0.0</td>\n",
       "      <td>1.0</td>\n",
       "      <td>0.0</td>\n",
       "      <td>3.0</td>\n",
       "    </tr>\n",
       "    <tr>\n",
       "      <th>1704</th>\n",
       "      <td>1726.802063</td>\n",
       "      <td>0.0</td>\n",
       "      <td>0.0</td>\n",
       "      <td>0.0</td>\n",
       "      <td>0.0</td>\n",
       "      <td>1.0</td>\n",
       "      <td>0.0</td>\n",
       "      <td>2.0</td>\n",
       "      <td>0.0</td>\n",
       "      <td>0.0</td>\n",
       "      <td>...</td>\n",
       "      <td>0.0</td>\n",
       "      <td>0.0</td>\n",
       "      <td>5.0</td>\n",
       "      <td>0.0</td>\n",
       "      <td>0.0</td>\n",
       "      <td>5.0</td>\n",
       "      <td>0.0</td>\n",
       "      <td>0.0</td>\n",
       "      <td>2.0</td>\n",
       "      <td>2.0</td>\n",
       "    </tr>\n",
       "    <tr>\n",
       "      <th>1705</th>\n",
       "      <td>1727.802063</td>\n",
       "      <td>0.0</td>\n",
       "      <td>0.0</td>\n",
       "      <td>0.0</td>\n",
       "      <td>0.0</td>\n",
       "      <td>0.0</td>\n",
       "      <td>1.0</td>\n",
       "      <td>4.0</td>\n",
       "      <td>0.0</td>\n",
       "      <td>0.0</td>\n",
       "      <td>...</td>\n",
       "      <td>3.0</td>\n",
       "      <td>0.0</td>\n",
       "      <td>3.0</td>\n",
       "      <td>2.0</td>\n",
       "      <td>0.0</td>\n",
       "      <td>3.0</td>\n",
       "      <td>0.0</td>\n",
       "      <td>1.0</td>\n",
       "      <td>0.0</td>\n",
       "      <td>8.0</td>\n",
       "    </tr>\n",
       "    <tr>\n",
       "      <th>1706</th>\n",
       "      <td>1728.802063</td>\n",
       "      <td>0.0</td>\n",
       "      <td>0.0</td>\n",
       "      <td>0.0</td>\n",
       "      <td>0.0</td>\n",
       "      <td>1.0</td>\n",
       "      <td>0.0</td>\n",
       "      <td>1.0</td>\n",
       "      <td>0.0</td>\n",
       "      <td>0.0</td>\n",
       "      <td>...</td>\n",
       "      <td>0.0</td>\n",
       "      <td>0.0</td>\n",
       "      <td>3.0</td>\n",
       "      <td>0.0</td>\n",
       "      <td>0.0</td>\n",
       "      <td>2.0</td>\n",
       "      <td>0.0</td>\n",
       "      <td>1.0</td>\n",
       "      <td>0.0</td>\n",
       "      <td>12.0</td>\n",
       "    </tr>\n",
       "    <tr>\n",
       "      <th>1707</th>\n",
       "      <td>1729.802063</td>\n",
       "      <td>0.0</td>\n",
       "      <td>0.0</td>\n",
       "      <td>0.0</td>\n",
       "      <td>3.0</td>\n",
       "      <td>1.0</td>\n",
       "      <td>0.0</td>\n",
       "      <td>0.0</td>\n",
       "      <td>0.0</td>\n",
       "      <td>0.0</td>\n",
       "      <td>...</td>\n",
       "      <td>0.0</td>\n",
       "      <td>0.0</td>\n",
       "      <td>0.0</td>\n",
       "      <td>0.0</td>\n",
       "      <td>0.0</td>\n",
       "      <td>3.0</td>\n",
       "      <td>2.0</td>\n",
       "      <td>0.0</td>\n",
       "      <td>1.0</td>\n",
       "      <td>3.0</td>\n",
       "    </tr>\n",
       "    <tr>\n",
       "      <th>1708</th>\n",
       "      <td>1730.802063</td>\n",
       "      <td>0.0</td>\n",
       "      <td>0.0</td>\n",
       "      <td>1.0</td>\n",
       "      <td>1.0</td>\n",
       "      <td>1.0</td>\n",
       "      <td>0.0</td>\n",
       "      <td>2.0</td>\n",
       "      <td>0.0</td>\n",
       "      <td>2.0</td>\n",
       "      <td>...</td>\n",
       "      <td>0.0</td>\n",
       "      <td>0.0</td>\n",
       "      <td>1.0</td>\n",
       "      <td>0.0</td>\n",
       "      <td>0.0</td>\n",
       "      <td>1.0</td>\n",
       "      <td>0.0</td>\n",
       "      <td>0.0</td>\n",
       "      <td>1.0</td>\n",
       "      <td>3.0</td>\n",
       "    </tr>\n",
       "    <tr>\n",
       "      <th>1709</th>\n",
       "      <td>1731.802063</td>\n",
       "      <td>0.0</td>\n",
       "      <td>0.0</td>\n",
       "      <td>3.0</td>\n",
       "      <td>1.0</td>\n",
       "      <td>1.0</td>\n",
       "      <td>0.0</td>\n",
       "      <td>0.0</td>\n",
       "      <td>1.0</td>\n",
       "      <td>0.0</td>\n",
       "      <td>...</td>\n",
       "      <td>1.0</td>\n",
       "      <td>0.0</td>\n",
       "      <td>6.0</td>\n",
       "      <td>1.0</td>\n",
       "      <td>1.0</td>\n",
       "      <td>4.0</td>\n",
       "      <td>1.0</td>\n",
       "      <td>0.0</td>\n",
       "      <td>0.0</td>\n",
       "      <td>4.0</td>\n",
       "    </tr>\n",
       "    <tr>\n",
       "      <th>1710</th>\n",
       "      <td>1732.802063</td>\n",
       "      <td>1.0</td>\n",
       "      <td>0.0</td>\n",
       "      <td>0.0</td>\n",
       "      <td>0.0</td>\n",
       "      <td>2.0</td>\n",
       "      <td>0.0</td>\n",
       "      <td>0.0</td>\n",
       "      <td>0.0</td>\n",
       "      <td>0.0</td>\n",
       "      <td>...</td>\n",
       "      <td>2.0</td>\n",
       "      <td>0.0</td>\n",
       "      <td>11.0</td>\n",
       "      <td>6.0</td>\n",
       "      <td>0.0</td>\n",
       "      <td>6.0</td>\n",
       "      <td>0.0</td>\n",
       "      <td>0.0</td>\n",
       "      <td>0.0</td>\n",
       "      <td>9.0</td>\n",
       "    </tr>\n",
       "    <tr>\n",
       "      <th>1711</th>\n",
       "      <td>1733.802063</td>\n",
       "      <td>1.0</td>\n",
       "      <td>0.0</td>\n",
       "      <td>0.0</td>\n",
       "      <td>0.0</td>\n",
       "      <td>2.0</td>\n",
       "      <td>0.0</td>\n",
       "      <td>0.0</td>\n",
       "      <td>0.0</td>\n",
       "      <td>0.0</td>\n",
       "      <td>...</td>\n",
       "      <td>0.0</td>\n",
       "      <td>0.0</td>\n",
       "      <td>6.0</td>\n",
       "      <td>3.0</td>\n",
       "      <td>0.0</td>\n",
       "      <td>0.0</td>\n",
       "      <td>0.0</td>\n",
       "      <td>0.0</td>\n",
       "      <td>1.0</td>\n",
       "      <td>12.0</td>\n",
       "    </tr>\n",
       "    <tr>\n",
       "      <th>1712</th>\n",
       "      <td>1734.802063</td>\n",
       "      <td>1.0</td>\n",
       "      <td>0.0</td>\n",
       "      <td>0.0</td>\n",
       "      <td>1.0</td>\n",
       "      <td>7.0</td>\n",
       "      <td>0.0</td>\n",
       "      <td>0.0</td>\n",
       "      <td>0.0</td>\n",
       "      <td>0.0</td>\n",
       "      <td>...</td>\n",
       "      <td>1.0</td>\n",
       "      <td>0.0</td>\n",
       "      <td>10.0</td>\n",
       "      <td>2.0</td>\n",
       "      <td>0.0</td>\n",
       "      <td>3.0</td>\n",
       "      <td>2.0</td>\n",
       "      <td>0.0</td>\n",
       "      <td>0.0</td>\n",
       "      <td>2.0</td>\n",
       "    </tr>\n",
       "    <tr>\n",
       "      <th>1713</th>\n",
       "      <td>1735.802063</td>\n",
       "      <td>0.0</td>\n",
       "      <td>0.0</td>\n",
       "      <td>0.0</td>\n",
       "      <td>1.0</td>\n",
       "      <td>13.0</td>\n",
       "      <td>0.0</td>\n",
       "      <td>0.0</td>\n",
       "      <td>2.0</td>\n",
       "      <td>1.0</td>\n",
       "      <td>...</td>\n",
       "      <td>0.0</td>\n",
       "      <td>0.0</td>\n",
       "      <td>1.0</td>\n",
       "      <td>3.0</td>\n",
       "      <td>0.0</td>\n",
       "      <td>4.0</td>\n",
       "      <td>0.0</td>\n",
       "      <td>0.0</td>\n",
       "      <td>1.0</td>\n",
       "      <td>6.0</td>\n",
       "    </tr>\n",
       "    <tr>\n",
       "      <th>1714</th>\n",
       "      <td>1736.802063</td>\n",
       "      <td>0.0</td>\n",
       "      <td>0.0</td>\n",
       "      <td>0.0</td>\n",
       "      <td>0.0</td>\n",
       "      <td>11.0</td>\n",
       "      <td>1.0</td>\n",
       "      <td>0.0</td>\n",
       "      <td>3.0</td>\n",
       "      <td>0.0</td>\n",
       "      <td>...</td>\n",
       "      <td>0.0</td>\n",
       "      <td>0.0</td>\n",
       "      <td>4.0</td>\n",
       "      <td>3.0</td>\n",
       "      <td>0.0</td>\n",
       "      <td>3.0</td>\n",
       "      <td>0.0</td>\n",
       "      <td>0.0</td>\n",
       "      <td>0.0</td>\n",
       "      <td>5.0</td>\n",
       "    </tr>\n",
       "    <tr>\n",
       "      <th>1715</th>\n",
       "      <td>1737.802063</td>\n",
       "      <td>1.0</td>\n",
       "      <td>0.0</td>\n",
       "      <td>0.0</td>\n",
       "      <td>0.0</td>\n",
       "      <td>7.0</td>\n",
       "      <td>0.0</td>\n",
       "      <td>0.0</td>\n",
       "      <td>0.0</td>\n",
       "      <td>0.0</td>\n",
       "      <td>...</td>\n",
       "      <td>0.0</td>\n",
       "      <td>0.0</td>\n",
       "      <td>6.0</td>\n",
       "      <td>2.0</td>\n",
       "      <td>0.0</td>\n",
       "      <td>1.0</td>\n",
       "      <td>2.0</td>\n",
       "      <td>0.0</td>\n",
       "      <td>0.0</td>\n",
       "      <td>0.0</td>\n",
       "    </tr>\n",
       "    <tr>\n",
       "      <th>1716</th>\n",
       "      <td>1738.802063</td>\n",
       "      <td>0.0</td>\n",
       "      <td>0.0</td>\n",
       "      <td>0.0</td>\n",
       "      <td>0.0</td>\n",
       "      <td>1.0</td>\n",
       "      <td>0.0</td>\n",
       "      <td>0.0</td>\n",
       "      <td>0.0</td>\n",
       "      <td>0.0</td>\n",
       "      <td>...</td>\n",
       "      <td>0.0</td>\n",
       "      <td>0.0</td>\n",
       "      <td>0.0</td>\n",
       "      <td>0.0</td>\n",
       "      <td>0.0</td>\n",
       "      <td>0.0</td>\n",
       "      <td>5.0</td>\n",
       "      <td>1.0</td>\n",
       "      <td>3.0</td>\n",
       "      <td>2.0</td>\n",
       "    </tr>\n",
       "  </tbody>\n",
       "</table>\n",
       "<p>1717 rows × 40 columns</p>\n",
       "</div>"
      ],
      "text/plain": [
       "                t    2    3    4     5     7    8    9   10   11  ...   47   48    53   55    57   58   61   62   63    64\n",
       "0       22.802063  0.0  0.0  0.0   0.0   0.0  0.0  0.0  0.0  0.0  ...  0.0  0.0   0.0  4.0   0.0  0.0  1.0  0.0  0.0   0.0\n",
       "1       23.802063  0.0  0.0  0.0   0.0   0.0  0.0  0.0  0.0  0.0  ...  0.0  1.0   0.0  1.0   0.0  0.0  1.0  0.0  0.0   0.0\n",
       "2       24.802063  0.0  0.0  0.0   0.0   0.0  0.0  1.0  0.0  0.0  ...  0.0  0.0   0.0  1.0   0.0  0.0  2.0  0.0  0.0   0.0\n",
       "3       25.802063  0.0  0.0  0.0   0.0   0.0  0.0  0.0  0.0  0.0  ...  0.0  0.0   0.0  0.0   0.0  0.0  0.0  0.0  0.0   0.0\n",
       "4       26.802063  0.0  0.0  0.0   0.0   0.0  0.0  0.0  0.0  0.0  ...  0.0  0.0   0.0  0.0   0.0  0.0  2.0  0.0  0.0   0.0\n",
       "5       27.802063  0.0  0.0  0.0   0.0   0.0  0.0  0.0  0.0  0.0  ...  0.0  0.0   0.0  0.0   1.0  0.0  1.0  0.0  0.0   0.0\n",
       "6       28.802063  1.0  0.0  0.0   0.0   0.0  0.0  1.0  1.0  0.0  ...  0.0  0.0   0.0  0.0   0.0  0.0  2.0  0.0  0.0   0.0\n",
       "7       29.802063  0.0  0.0  0.0   0.0   0.0  0.0  0.0  0.0  0.0  ...  0.0  0.0   0.0  3.0   0.0  0.0  0.0  0.0  0.0   0.0\n",
       "8       30.802063  0.0  0.0  0.0   1.0   0.0  0.0  0.0  0.0  0.0  ...  0.0  0.0   0.0  1.0   0.0  0.0  1.0  0.0  0.0   0.0\n",
       "9       31.802063  0.0  0.0  0.0  12.0   0.0  0.0  0.0  0.0  0.0  ...  0.0  0.0   0.0  0.0   1.0  0.0  0.0  0.0  0.0   0.0\n",
       "10      32.802063  0.0  0.0  0.0   1.0   0.0  0.0  0.0  0.0  0.0  ...  2.0  1.0   0.0  0.0  24.0  0.0  0.0  0.0  1.0   0.0\n",
       "11      33.802063  0.0  0.0  0.0   0.0   0.0  2.0  5.0  0.0  0.0  ...  0.0  0.0   0.0  1.0  13.0  0.0  2.0  0.0  1.0   0.0\n",
       "12      34.802063  1.0  0.0  0.0   0.0   0.0  1.0  1.0  0.0  0.0  ...  0.0  0.0   0.0  0.0   0.0  1.0  0.0  0.0  0.0   0.0\n",
       "13      35.802063  0.0  9.0  0.0   0.0   0.0  0.0  1.0  0.0  0.0  ...  0.0  0.0   0.0  0.0   0.0  0.0  0.0  0.0  0.0   0.0\n",
       "14      36.802063  0.0  6.0  0.0   0.0   2.0  0.0  0.0  0.0  0.0  ...  1.0  0.0   0.0  0.0   0.0  0.0  0.0  0.0  0.0   0.0\n",
       "...           ...  ...  ...  ...   ...   ...  ...  ...  ...  ...  ...  ...  ...   ...  ...   ...  ...  ...  ...  ...   ...\n",
       "1702  1724.802063  2.0  0.0  0.0   2.0   4.0  0.0  2.0  0.0  0.0  ...  0.0  0.0   8.0  3.0   0.0  6.0  0.0  4.0  1.0  13.0\n",
       "1703  1725.802063  0.0  0.0  0.0   1.0   5.0  0.0  0.0  2.0  0.0  ...  0.0  0.0   4.0  2.0   0.0  3.0  0.0  1.0  0.0   3.0\n",
       "1704  1726.802063  0.0  0.0  0.0   0.0   1.0  0.0  2.0  0.0  0.0  ...  0.0  0.0   5.0  0.0   0.0  5.0  0.0  0.0  2.0   2.0\n",
       "1705  1727.802063  0.0  0.0  0.0   0.0   0.0  1.0  4.0  0.0  0.0  ...  3.0  0.0   3.0  2.0   0.0  3.0  0.0  1.0  0.0   8.0\n",
       "1706  1728.802063  0.0  0.0  0.0   0.0   1.0  0.0  1.0  0.0  0.0  ...  0.0  0.0   3.0  0.0   0.0  2.0  0.0  1.0  0.0  12.0\n",
       "1707  1729.802063  0.0  0.0  0.0   3.0   1.0  0.0  0.0  0.0  0.0  ...  0.0  0.0   0.0  0.0   0.0  3.0  2.0  0.0  1.0   3.0\n",
       "1708  1730.802063  0.0  0.0  1.0   1.0   1.0  0.0  2.0  0.0  2.0  ...  0.0  0.0   1.0  0.0   0.0  1.0  0.0  0.0  1.0   3.0\n",
       "1709  1731.802063  0.0  0.0  3.0   1.0   1.0  0.0  0.0  1.0  0.0  ...  1.0  0.0   6.0  1.0   1.0  4.0  1.0  0.0  0.0   4.0\n",
       "1710  1732.802063  1.0  0.0  0.0   0.0   2.0  0.0  0.0  0.0  0.0  ...  2.0  0.0  11.0  6.0   0.0  6.0  0.0  0.0  0.0   9.0\n",
       "1711  1733.802063  1.0  0.0  0.0   0.0   2.0  0.0  0.0  0.0  0.0  ...  0.0  0.0   6.0  3.0   0.0  0.0  0.0  0.0  1.0  12.0\n",
       "1712  1734.802063  1.0  0.0  0.0   1.0   7.0  0.0  0.0  0.0  0.0  ...  1.0  0.0  10.0  2.0   0.0  3.0  2.0  0.0  0.0   2.0\n",
       "1713  1735.802063  0.0  0.0  0.0   1.0  13.0  0.0  0.0  2.0  1.0  ...  0.0  0.0   1.0  3.0   0.0  4.0  0.0  0.0  1.0   6.0\n",
       "1714  1736.802063  0.0  0.0  0.0   0.0  11.0  1.0  0.0  3.0  0.0  ...  0.0  0.0   4.0  3.0   0.0  3.0  0.0  0.0  0.0   5.0\n",
       "1715  1737.802063  1.0  0.0  0.0   0.0   7.0  0.0  0.0  0.0  0.0  ...  0.0  0.0   6.0  2.0   0.0  1.0  2.0  0.0  0.0   0.0\n",
       "1716  1738.802063  0.0  0.0  0.0   0.0   1.0  0.0  0.0  0.0  0.0  ...  0.0  0.0   0.0  0.0   0.0  0.0  5.0  1.0  3.0   2.0\n",
       "\n",
       "[1717 rows x 40 columns]"
      ]
     },
     "execution_count": 71,
     "metadata": {},
     "output_type": "execute_result"
    }
   ],
   "source": [
    "# curr_computations_results.computed_data['time_binned_position_df']\n",
    "# Index Mapping:\n",
    "curr_neuron_IDs = np.array(curr_computations_results.computed_data['pf2D_Decoder'].neuron_IDs)\n",
    "\n",
    "# Data Mapping:\n",
    "data_values_column_names = [str(an_id) for an_id in curr_neuron_IDs]\n",
    "curr_time_bin_size_seconds = curr_computations_results.computed_data['pf2D_Decoder'].time_bin_size # 1.0 (seconds)\n",
    "active_unit_specific_time_binned_spike_counts_df = pd.DataFrame(np.concatenate((np.atleast_2d(curr_computations_results.computed_data['pf2D_Decoder'].time_window_centers), curr_computations_results.computed_data['pf2D_Decoder'].unit_specific_time_binned_spike_counts)).T,\n",
    "                                                             columns=(['t'] + data_values_column_names))\n",
    "\n",
    "active_unit_specific_time_binned_spike_counts_df"
   ]
  },
  {
   "cell_type": "code",
   "execution_count": 73,
   "id": "65824f4b-ed2e-4ead-b3ea-7a5dae94c13b",
   "metadata": {
    "pycharm": {
     "is_executing": false,
     "name": "#%%\n"
    }
   },
   "outputs": [
    {
     "data": {
      "text/html": [
       "<div>\n",
       "<style scoped>\n",
       "    .dataframe tbody tr th:only-of-type {\n",
       "        vertical-align: middle;\n",
       "    }\n",
       "\n",
       "    .dataframe tbody tr th {\n",
       "        vertical-align: top;\n",
       "    }\n",
       "\n",
       "    .dataframe thead th {\n",
       "        text-align: right;\n",
       "    }\n",
       "</style>\n",
       "<table border=\"1\" class=\"dataframe\">\n",
       "  <thead>\n",
       "    <tr style=\"text-align: right;\">\n",
       "      <th></th>\n",
       "      <th>t</th>\n",
       "      <th>2</th>\n",
       "      <th>3</th>\n",
       "      <th>4</th>\n",
       "      <th>5</th>\n",
       "      <th>7</th>\n",
       "      <th>8</th>\n",
       "      <th>9</th>\n",
       "      <th>10</th>\n",
       "      <th>11</th>\n",
       "      <th>...</th>\n",
       "      <th>47</th>\n",
       "      <th>48</th>\n",
       "      <th>53</th>\n",
       "      <th>55</th>\n",
       "      <th>57</th>\n",
       "      <th>58</th>\n",
       "      <th>61</th>\n",
       "      <th>62</th>\n",
       "      <th>63</th>\n",
       "      <th>64</th>\n",
       "    </tr>\n",
       "  </thead>\n",
       "  <tbody>\n",
       "    <tr>\n",
       "      <th>0</th>\n",
       "      <td>22.802063</td>\n",
       "      <td>0.0</td>\n",
       "      <td>0.0</td>\n",
       "      <td>0.0</td>\n",
       "      <td>0.0</td>\n",
       "      <td>0.0</td>\n",
       "      <td>0.0</td>\n",
       "      <td>0.0</td>\n",
       "      <td>0.0</td>\n",
       "      <td>0.0</td>\n",
       "      <td>...</td>\n",
       "      <td>0.0</td>\n",
       "      <td>0.0</td>\n",
       "      <td>0.0</td>\n",
       "      <td>4.0</td>\n",
       "      <td>0.0</td>\n",
       "      <td>0.0</td>\n",
       "      <td>1.0</td>\n",
       "      <td>0.0</td>\n",
       "      <td>0.0</td>\n",
       "      <td>0.0</td>\n",
       "    </tr>\n",
       "    <tr>\n",
       "      <th>1</th>\n",
       "      <td>23.802063</td>\n",
       "      <td>0.0</td>\n",
       "      <td>0.0</td>\n",
       "      <td>0.0</td>\n",
       "      <td>0.0</td>\n",
       "      <td>0.0</td>\n",
       "      <td>0.0</td>\n",
       "      <td>0.0</td>\n",
       "      <td>0.0</td>\n",
       "      <td>0.0</td>\n",
       "      <td>...</td>\n",
       "      <td>0.0</td>\n",
       "      <td>1.0</td>\n",
       "      <td>0.0</td>\n",
       "      <td>1.0</td>\n",
       "      <td>0.0</td>\n",
       "      <td>0.0</td>\n",
       "      <td>1.0</td>\n",
       "      <td>0.0</td>\n",
       "      <td>0.0</td>\n",
       "      <td>0.0</td>\n",
       "    </tr>\n",
       "    <tr>\n",
       "      <th>2</th>\n",
       "      <td>24.802063</td>\n",
       "      <td>0.0</td>\n",
       "      <td>0.0</td>\n",
       "      <td>0.0</td>\n",
       "      <td>0.0</td>\n",
       "      <td>0.0</td>\n",
       "      <td>0.0</td>\n",
       "      <td>1.0</td>\n",
       "      <td>0.0</td>\n",
       "      <td>0.0</td>\n",
       "      <td>...</td>\n",
       "      <td>0.0</td>\n",
       "      <td>0.0</td>\n",
       "      <td>0.0</td>\n",
       "      <td>1.0</td>\n",
       "      <td>0.0</td>\n",
       "      <td>0.0</td>\n",
       "      <td>2.0</td>\n",
       "      <td>0.0</td>\n",
       "      <td>0.0</td>\n",
       "      <td>0.0</td>\n",
       "    </tr>\n",
       "    <tr>\n",
       "      <th>3</th>\n",
       "      <td>25.802063</td>\n",
       "      <td>0.0</td>\n",
       "      <td>0.0</td>\n",
       "      <td>0.0</td>\n",
       "      <td>0.0</td>\n",
       "      <td>0.0</td>\n",
       "      <td>0.0</td>\n",
       "      <td>0.0</td>\n",
       "      <td>0.0</td>\n",
       "      <td>0.0</td>\n",
       "      <td>...</td>\n",
       "      <td>0.0</td>\n",
       "      <td>0.0</td>\n",
       "      <td>0.0</td>\n",
       "      <td>0.0</td>\n",
       "      <td>0.0</td>\n",
       "      <td>0.0</td>\n",
       "      <td>0.0</td>\n",
       "      <td>0.0</td>\n",
       "      <td>0.0</td>\n",
       "      <td>0.0</td>\n",
       "    </tr>\n",
       "    <tr>\n",
       "      <th>4</th>\n",
       "      <td>26.802063</td>\n",
       "      <td>0.0</td>\n",
       "      <td>0.0</td>\n",
       "      <td>0.0</td>\n",
       "      <td>0.0</td>\n",
       "      <td>0.0</td>\n",
       "      <td>0.0</td>\n",
       "      <td>0.0</td>\n",
       "      <td>0.0</td>\n",
       "      <td>0.0</td>\n",
       "      <td>...</td>\n",
       "      <td>0.0</td>\n",
       "      <td>0.0</td>\n",
       "      <td>0.0</td>\n",
       "      <td>0.0</td>\n",
       "      <td>0.0</td>\n",
       "      <td>0.0</td>\n",
       "      <td>2.0</td>\n",
       "      <td>0.0</td>\n",
       "      <td>0.0</td>\n",
       "      <td>0.0</td>\n",
       "    </tr>\n",
       "    <tr>\n",
       "      <th>5</th>\n",
       "      <td>27.802063</td>\n",
       "      <td>0.0</td>\n",
       "      <td>0.0</td>\n",
       "      <td>0.0</td>\n",
       "      <td>0.0</td>\n",
       "      <td>0.0</td>\n",
       "      <td>0.0</td>\n",
       "      <td>0.0</td>\n",
       "      <td>0.0</td>\n",
       "      <td>0.0</td>\n",
       "      <td>...</td>\n",
       "      <td>0.0</td>\n",
       "      <td>0.0</td>\n",
       "      <td>0.0</td>\n",
       "      <td>0.0</td>\n",
       "      <td>1.0</td>\n",
       "      <td>0.0</td>\n",
       "      <td>1.0</td>\n",
       "      <td>0.0</td>\n",
       "      <td>0.0</td>\n",
       "      <td>0.0</td>\n",
       "    </tr>\n",
       "    <tr>\n",
       "      <th>6</th>\n",
       "      <td>28.802063</td>\n",
       "      <td>1.0</td>\n",
       "      <td>0.0</td>\n",
       "      <td>0.0</td>\n",
       "      <td>0.0</td>\n",
       "      <td>0.0</td>\n",
       "      <td>0.0</td>\n",
       "      <td>1.0</td>\n",
       "      <td>1.0</td>\n",
       "      <td>0.0</td>\n",
       "      <td>...</td>\n",
       "      <td>0.0</td>\n",
       "      <td>0.0</td>\n",
       "      <td>0.0</td>\n",
       "      <td>0.0</td>\n",
       "      <td>0.0</td>\n",
       "      <td>0.0</td>\n",
       "      <td>2.0</td>\n",
       "      <td>0.0</td>\n",
       "      <td>0.0</td>\n",
       "      <td>0.0</td>\n",
       "    </tr>\n",
       "    <tr>\n",
       "      <th>7</th>\n",
       "      <td>29.802063</td>\n",
       "      <td>0.0</td>\n",
       "      <td>0.0</td>\n",
       "      <td>0.0</td>\n",
       "      <td>0.0</td>\n",
       "      <td>0.0</td>\n",
       "      <td>0.0</td>\n",
       "      <td>0.0</td>\n",
       "      <td>0.0</td>\n",
       "      <td>0.0</td>\n",
       "      <td>...</td>\n",
       "      <td>0.0</td>\n",
       "      <td>0.0</td>\n",
       "      <td>0.0</td>\n",
       "      <td>3.0</td>\n",
       "      <td>0.0</td>\n",
       "      <td>0.0</td>\n",
       "      <td>0.0</td>\n",
       "      <td>0.0</td>\n",
       "      <td>0.0</td>\n",
       "      <td>0.0</td>\n",
       "    </tr>\n",
       "    <tr>\n",
       "      <th>8</th>\n",
       "      <td>30.802063</td>\n",
       "      <td>0.0</td>\n",
       "      <td>0.0</td>\n",
       "      <td>0.0</td>\n",
       "      <td>1.0</td>\n",
       "      <td>0.0</td>\n",
       "      <td>0.0</td>\n",
       "      <td>0.0</td>\n",
       "      <td>0.0</td>\n",
       "      <td>0.0</td>\n",
       "      <td>...</td>\n",
       "      <td>0.0</td>\n",
       "      <td>0.0</td>\n",
       "      <td>0.0</td>\n",
       "      <td>1.0</td>\n",
       "      <td>0.0</td>\n",
       "      <td>0.0</td>\n",
       "      <td>1.0</td>\n",
       "      <td>0.0</td>\n",
       "      <td>0.0</td>\n",
       "      <td>0.0</td>\n",
       "    </tr>\n",
       "    <tr>\n",
       "      <th>9</th>\n",
       "      <td>31.802063</td>\n",
       "      <td>0.0</td>\n",
       "      <td>0.0</td>\n",
       "      <td>0.0</td>\n",
       "      <td>12.0</td>\n",
       "      <td>0.0</td>\n",
       "      <td>0.0</td>\n",
       "      <td>0.0</td>\n",
       "      <td>0.0</td>\n",
       "      <td>0.0</td>\n",
       "      <td>...</td>\n",
       "      <td>0.0</td>\n",
       "      <td>0.0</td>\n",
       "      <td>0.0</td>\n",
       "      <td>0.0</td>\n",
       "      <td>1.0</td>\n",
       "      <td>0.0</td>\n",
       "      <td>0.0</td>\n",
       "      <td>0.0</td>\n",
       "      <td>0.0</td>\n",
       "      <td>0.0</td>\n",
       "    </tr>\n",
       "    <tr>\n",
       "      <th>10</th>\n",
       "      <td>32.802063</td>\n",
       "      <td>0.0</td>\n",
       "      <td>0.0</td>\n",
       "      <td>0.0</td>\n",
       "      <td>1.0</td>\n",
       "      <td>0.0</td>\n",
       "      <td>0.0</td>\n",
       "      <td>0.0</td>\n",
       "      <td>0.0</td>\n",
       "      <td>0.0</td>\n",
       "      <td>...</td>\n",
       "      <td>2.0</td>\n",
       "      <td>1.0</td>\n",
       "      <td>0.0</td>\n",
       "      <td>0.0</td>\n",
       "      <td>24.0</td>\n",
       "      <td>0.0</td>\n",
       "      <td>0.0</td>\n",
       "      <td>0.0</td>\n",
       "      <td>1.0</td>\n",
       "      <td>0.0</td>\n",
       "    </tr>\n",
       "    <tr>\n",
       "      <th>11</th>\n",
       "      <td>33.802063</td>\n",
       "      <td>0.0</td>\n",
       "      <td>0.0</td>\n",
       "      <td>0.0</td>\n",
       "      <td>0.0</td>\n",
       "      <td>0.0</td>\n",
       "      <td>2.0</td>\n",
       "      <td>5.0</td>\n",
       "      <td>0.0</td>\n",
       "      <td>0.0</td>\n",
       "      <td>...</td>\n",
       "      <td>0.0</td>\n",
       "      <td>0.0</td>\n",
       "      <td>0.0</td>\n",
       "      <td>1.0</td>\n",
       "      <td>13.0</td>\n",
       "      <td>0.0</td>\n",
       "      <td>2.0</td>\n",
       "      <td>0.0</td>\n",
       "      <td>1.0</td>\n",
       "      <td>0.0</td>\n",
       "    </tr>\n",
       "    <tr>\n",
       "      <th>12</th>\n",
       "      <td>34.802063</td>\n",
       "      <td>1.0</td>\n",
       "      <td>0.0</td>\n",
       "      <td>0.0</td>\n",
       "      <td>0.0</td>\n",
       "      <td>0.0</td>\n",
       "      <td>1.0</td>\n",
       "      <td>1.0</td>\n",
       "      <td>0.0</td>\n",
       "      <td>0.0</td>\n",
       "      <td>...</td>\n",
       "      <td>0.0</td>\n",
       "      <td>0.0</td>\n",
       "      <td>0.0</td>\n",
       "      <td>0.0</td>\n",
       "      <td>0.0</td>\n",
       "      <td>1.0</td>\n",
       "      <td>0.0</td>\n",
       "      <td>0.0</td>\n",
       "      <td>0.0</td>\n",
       "      <td>0.0</td>\n",
       "    </tr>\n",
       "    <tr>\n",
       "      <th>13</th>\n",
       "      <td>35.802063</td>\n",
       "      <td>0.0</td>\n",
       "      <td>9.0</td>\n",
       "      <td>0.0</td>\n",
       "      <td>0.0</td>\n",
       "      <td>0.0</td>\n",
       "      <td>0.0</td>\n",
       "      <td>1.0</td>\n",
       "      <td>0.0</td>\n",
       "      <td>0.0</td>\n",
       "      <td>...</td>\n",
       "      <td>0.0</td>\n",
       "      <td>0.0</td>\n",
       "      <td>0.0</td>\n",
       "      <td>0.0</td>\n",
       "      <td>0.0</td>\n",
       "      <td>0.0</td>\n",
       "      <td>0.0</td>\n",
       "      <td>0.0</td>\n",
       "      <td>0.0</td>\n",
       "      <td>0.0</td>\n",
       "    </tr>\n",
       "    <tr>\n",
       "      <th>14</th>\n",
       "      <td>36.802063</td>\n",
       "      <td>0.0</td>\n",
       "      <td>6.0</td>\n",
       "      <td>0.0</td>\n",
       "      <td>0.0</td>\n",
       "      <td>2.0</td>\n",
       "      <td>0.0</td>\n",
       "      <td>0.0</td>\n",
       "      <td>0.0</td>\n",
       "      <td>0.0</td>\n",
       "      <td>...</td>\n",
       "      <td>1.0</td>\n",
       "      <td>0.0</td>\n",
       "      <td>0.0</td>\n",
       "      <td>0.0</td>\n",
       "      <td>0.0</td>\n",
       "      <td>0.0</td>\n",
       "      <td>0.0</td>\n",
       "      <td>0.0</td>\n",
       "      <td>0.0</td>\n",
       "      <td>0.0</td>\n",
       "    </tr>\n",
       "    <tr>\n",
       "      <th>...</th>\n",
       "      <td>...</td>\n",
       "      <td>...</td>\n",
       "      <td>...</td>\n",
       "      <td>...</td>\n",
       "      <td>...</td>\n",
       "      <td>...</td>\n",
       "      <td>...</td>\n",
       "      <td>...</td>\n",
       "      <td>...</td>\n",
       "      <td>...</td>\n",
       "      <td>...</td>\n",
       "      <td>...</td>\n",
       "      <td>...</td>\n",
       "      <td>...</td>\n",
       "      <td>...</td>\n",
       "      <td>...</td>\n",
       "      <td>...</td>\n",
       "      <td>...</td>\n",
       "      <td>...</td>\n",
       "      <td>...</td>\n",
       "      <td>...</td>\n",
       "    </tr>\n",
       "    <tr>\n",
       "      <th>1702</th>\n",
       "      <td>1724.802063</td>\n",
       "      <td>2.0</td>\n",
       "      <td>0.0</td>\n",
       "      <td>0.0</td>\n",
       "      <td>2.0</td>\n",
       "      <td>4.0</td>\n",
       "      <td>0.0</td>\n",
       "      <td>2.0</td>\n",
       "      <td>0.0</td>\n",
       "      <td>0.0</td>\n",
       "      <td>...</td>\n",
       "      <td>0.0</td>\n",
       "      <td>0.0</td>\n",
       "      <td>8.0</td>\n",
       "      <td>3.0</td>\n",
       "      <td>0.0</td>\n",
       "      <td>6.0</td>\n",
       "      <td>0.0</td>\n",
       "      <td>4.0</td>\n",
       "      <td>1.0</td>\n",
       "      <td>13.0</td>\n",
       "    </tr>\n",
       "    <tr>\n",
       "      <th>1703</th>\n",
       "      <td>1725.802063</td>\n",
       "      <td>0.0</td>\n",
       "      <td>0.0</td>\n",
       "      <td>0.0</td>\n",
       "      <td>1.0</td>\n",
       "      <td>5.0</td>\n",
       "      <td>0.0</td>\n",
       "      <td>0.0</td>\n",
       "      <td>2.0</td>\n",
       "      <td>0.0</td>\n",
       "      <td>...</td>\n",
       "      <td>0.0</td>\n",
       "      <td>0.0</td>\n",
       "      <td>4.0</td>\n",
       "      <td>2.0</td>\n",
       "      <td>0.0</td>\n",
       "      <td>3.0</td>\n",
       "      <td>0.0</td>\n",
       "      <td>1.0</td>\n",
       "      <td>0.0</td>\n",
       "      <td>3.0</td>\n",
       "    </tr>\n",
       "    <tr>\n",
       "      <th>1704</th>\n",
       "      <td>1726.802063</td>\n",
       "      <td>0.0</td>\n",
       "      <td>0.0</td>\n",
       "      <td>0.0</td>\n",
       "      <td>0.0</td>\n",
       "      <td>1.0</td>\n",
       "      <td>0.0</td>\n",
       "      <td>2.0</td>\n",
       "      <td>0.0</td>\n",
       "      <td>0.0</td>\n",
       "      <td>...</td>\n",
       "      <td>0.0</td>\n",
       "      <td>0.0</td>\n",
       "      <td>5.0</td>\n",
       "      <td>0.0</td>\n",
       "      <td>0.0</td>\n",
       "      <td>5.0</td>\n",
       "      <td>0.0</td>\n",
       "      <td>0.0</td>\n",
       "      <td>2.0</td>\n",
       "      <td>2.0</td>\n",
       "    </tr>\n",
       "    <tr>\n",
       "      <th>1705</th>\n",
       "      <td>1727.802063</td>\n",
       "      <td>0.0</td>\n",
       "      <td>0.0</td>\n",
       "      <td>0.0</td>\n",
       "      <td>0.0</td>\n",
       "      <td>0.0</td>\n",
       "      <td>1.0</td>\n",
       "      <td>4.0</td>\n",
       "      <td>0.0</td>\n",
       "      <td>0.0</td>\n",
       "      <td>...</td>\n",
       "      <td>3.0</td>\n",
       "      <td>0.0</td>\n",
       "      <td>3.0</td>\n",
       "      <td>2.0</td>\n",
       "      <td>0.0</td>\n",
       "      <td>3.0</td>\n",
       "      <td>0.0</td>\n",
       "      <td>1.0</td>\n",
       "      <td>0.0</td>\n",
       "      <td>8.0</td>\n",
       "    </tr>\n",
       "    <tr>\n",
       "      <th>1706</th>\n",
       "      <td>1728.802063</td>\n",
       "      <td>0.0</td>\n",
       "      <td>0.0</td>\n",
       "      <td>0.0</td>\n",
       "      <td>0.0</td>\n",
       "      <td>1.0</td>\n",
       "      <td>0.0</td>\n",
       "      <td>1.0</td>\n",
       "      <td>0.0</td>\n",
       "      <td>0.0</td>\n",
       "      <td>...</td>\n",
       "      <td>0.0</td>\n",
       "      <td>0.0</td>\n",
       "      <td>3.0</td>\n",
       "      <td>0.0</td>\n",
       "      <td>0.0</td>\n",
       "      <td>2.0</td>\n",
       "      <td>0.0</td>\n",
       "      <td>1.0</td>\n",
       "      <td>0.0</td>\n",
       "      <td>12.0</td>\n",
       "    </tr>\n",
       "    <tr>\n",
       "      <th>1707</th>\n",
       "      <td>1729.802063</td>\n",
       "      <td>0.0</td>\n",
       "      <td>0.0</td>\n",
       "      <td>0.0</td>\n",
       "      <td>3.0</td>\n",
       "      <td>1.0</td>\n",
       "      <td>0.0</td>\n",
       "      <td>0.0</td>\n",
       "      <td>0.0</td>\n",
       "      <td>0.0</td>\n",
       "      <td>...</td>\n",
       "      <td>0.0</td>\n",
       "      <td>0.0</td>\n",
       "      <td>0.0</td>\n",
       "      <td>0.0</td>\n",
       "      <td>0.0</td>\n",
       "      <td>3.0</td>\n",
       "      <td>2.0</td>\n",
       "      <td>0.0</td>\n",
       "      <td>1.0</td>\n",
       "      <td>3.0</td>\n",
       "    </tr>\n",
       "    <tr>\n",
       "      <th>1708</th>\n",
       "      <td>1730.802063</td>\n",
       "      <td>0.0</td>\n",
       "      <td>0.0</td>\n",
       "      <td>1.0</td>\n",
       "      <td>1.0</td>\n",
       "      <td>1.0</td>\n",
       "      <td>0.0</td>\n",
       "      <td>2.0</td>\n",
       "      <td>0.0</td>\n",
       "      <td>2.0</td>\n",
       "      <td>...</td>\n",
       "      <td>0.0</td>\n",
       "      <td>0.0</td>\n",
       "      <td>1.0</td>\n",
       "      <td>0.0</td>\n",
       "      <td>0.0</td>\n",
       "      <td>1.0</td>\n",
       "      <td>0.0</td>\n",
       "      <td>0.0</td>\n",
       "      <td>1.0</td>\n",
       "      <td>3.0</td>\n",
       "    </tr>\n",
       "    <tr>\n",
       "      <th>1709</th>\n",
       "      <td>1731.802063</td>\n",
       "      <td>0.0</td>\n",
       "      <td>0.0</td>\n",
       "      <td>3.0</td>\n",
       "      <td>1.0</td>\n",
       "      <td>1.0</td>\n",
       "      <td>0.0</td>\n",
       "      <td>0.0</td>\n",
       "      <td>1.0</td>\n",
       "      <td>0.0</td>\n",
       "      <td>...</td>\n",
       "      <td>1.0</td>\n",
       "      <td>0.0</td>\n",
       "      <td>6.0</td>\n",
       "      <td>1.0</td>\n",
       "      <td>1.0</td>\n",
       "      <td>4.0</td>\n",
       "      <td>1.0</td>\n",
       "      <td>0.0</td>\n",
       "      <td>0.0</td>\n",
       "      <td>4.0</td>\n",
       "    </tr>\n",
       "    <tr>\n",
       "      <th>1710</th>\n",
       "      <td>1732.802063</td>\n",
       "      <td>1.0</td>\n",
       "      <td>0.0</td>\n",
       "      <td>0.0</td>\n",
       "      <td>0.0</td>\n",
       "      <td>2.0</td>\n",
       "      <td>0.0</td>\n",
       "      <td>0.0</td>\n",
       "      <td>0.0</td>\n",
       "      <td>0.0</td>\n",
       "      <td>...</td>\n",
       "      <td>2.0</td>\n",
       "      <td>0.0</td>\n",
       "      <td>11.0</td>\n",
       "      <td>6.0</td>\n",
       "      <td>0.0</td>\n",
       "      <td>6.0</td>\n",
       "      <td>0.0</td>\n",
       "      <td>0.0</td>\n",
       "      <td>0.0</td>\n",
       "      <td>9.0</td>\n",
       "    </tr>\n",
       "    <tr>\n",
       "      <th>1711</th>\n",
       "      <td>1733.802063</td>\n",
       "      <td>1.0</td>\n",
       "      <td>0.0</td>\n",
       "      <td>0.0</td>\n",
       "      <td>0.0</td>\n",
       "      <td>2.0</td>\n",
       "      <td>0.0</td>\n",
       "      <td>0.0</td>\n",
       "      <td>0.0</td>\n",
       "      <td>0.0</td>\n",
       "      <td>...</td>\n",
       "      <td>0.0</td>\n",
       "      <td>0.0</td>\n",
       "      <td>6.0</td>\n",
       "      <td>3.0</td>\n",
       "      <td>0.0</td>\n",
       "      <td>0.0</td>\n",
       "      <td>0.0</td>\n",
       "      <td>0.0</td>\n",
       "      <td>1.0</td>\n",
       "      <td>12.0</td>\n",
       "    </tr>\n",
       "    <tr>\n",
       "      <th>1712</th>\n",
       "      <td>1734.802063</td>\n",
       "      <td>1.0</td>\n",
       "      <td>0.0</td>\n",
       "      <td>0.0</td>\n",
       "      <td>1.0</td>\n",
       "      <td>7.0</td>\n",
       "      <td>0.0</td>\n",
       "      <td>0.0</td>\n",
       "      <td>0.0</td>\n",
       "      <td>0.0</td>\n",
       "      <td>...</td>\n",
       "      <td>1.0</td>\n",
       "      <td>0.0</td>\n",
       "      <td>10.0</td>\n",
       "      <td>2.0</td>\n",
       "      <td>0.0</td>\n",
       "      <td>3.0</td>\n",
       "      <td>2.0</td>\n",
       "      <td>0.0</td>\n",
       "      <td>0.0</td>\n",
       "      <td>2.0</td>\n",
       "    </tr>\n",
       "    <tr>\n",
       "      <th>1713</th>\n",
       "      <td>1735.802063</td>\n",
       "      <td>0.0</td>\n",
       "      <td>0.0</td>\n",
       "      <td>0.0</td>\n",
       "      <td>1.0</td>\n",
       "      <td>13.0</td>\n",
       "      <td>0.0</td>\n",
       "      <td>0.0</td>\n",
       "      <td>2.0</td>\n",
       "      <td>1.0</td>\n",
       "      <td>...</td>\n",
       "      <td>0.0</td>\n",
       "      <td>0.0</td>\n",
       "      <td>1.0</td>\n",
       "      <td>3.0</td>\n",
       "      <td>0.0</td>\n",
       "      <td>4.0</td>\n",
       "      <td>0.0</td>\n",
       "      <td>0.0</td>\n",
       "      <td>1.0</td>\n",
       "      <td>6.0</td>\n",
       "    </tr>\n",
       "    <tr>\n",
       "      <th>1714</th>\n",
       "      <td>1736.802063</td>\n",
       "      <td>0.0</td>\n",
       "      <td>0.0</td>\n",
       "      <td>0.0</td>\n",
       "      <td>0.0</td>\n",
       "      <td>11.0</td>\n",
       "      <td>1.0</td>\n",
       "      <td>0.0</td>\n",
       "      <td>3.0</td>\n",
       "      <td>0.0</td>\n",
       "      <td>...</td>\n",
       "      <td>0.0</td>\n",
       "      <td>0.0</td>\n",
       "      <td>4.0</td>\n",
       "      <td>3.0</td>\n",
       "      <td>0.0</td>\n",
       "      <td>3.0</td>\n",
       "      <td>0.0</td>\n",
       "      <td>0.0</td>\n",
       "      <td>0.0</td>\n",
       "      <td>5.0</td>\n",
       "    </tr>\n",
       "    <tr>\n",
       "      <th>1715</th>\n",
       "      <td>1737.802063</td>\n",
       "      <td>1.0</td>\n",
       "      <td>0.0</td>\n",
       "      <td>0.0</td>\n",
       "      <td>0.0</td>\n",
       "      <td>7.0</td>\n",
       "      <td>0.0</td>\n",
       "      <td>0.0</td>\n",
       "      <td>0.0</td>\n",
       "      <td>0.0</td>\n",
       "      <td>...</td>\n",
       "      <td>0.0</td>\n",
       "      <td>0.0</td>\n",
       "      <td>6.0</td>\n",
       "      <td>2.0</td>\n",
       "      <td>0.0</td>\n",
       "      <td>1.0</td>\n",
       "      <td>2.0</td>\n",
       "      <td>0.0</td>\n",
       "      <td>0.0</td>\n",
       "      <td>0.0</td>\n",
       "    </tr>\n",
       "    <tr>\n",
       "      <th>1716</th>\n",
       "      <td>1738.802063</td>\n",
       "      <td>0.0</td>\n",
       "      <td>0.0</td>\n",
       "      <td>0.0</td>\n",
       "      <td>0.0</td>\n",
       "      <td>1.0</td>\n",
       "      <td>0.0</td>\n",
       "      <td>0.0</td>\n",
       "      <td>0.0</td>\n",
       "      <td>0.0</td>\n",
       "      <td>...</td>\n",
       "      <td>0.0</td>\n",
       "      <td>0.0</td>\n",
       "      <td>0.0</td>\n",
       "      <td>0.0</td>\n",
       "      <td>0.0</td>\n",
       "      <td>0.0</td>\n",
       "      <td>5.0</td>\n",
       "      <td>1.0</td>\n",
       "      <td>3.0</td>\n",
       "      <td>2.0</td>\n",
       "    </tr>\n",
       "  </tbody>\n",
       "</table>\n",
       "<p>1717 rows × 40 columns</p>\n",
       "</div>"
      ],
      "text/plain": [
       "                t    2    3    4     5     7    8    9   10   11  ...   47   48    53   55    57   58   61   62   63    64\n",
       "0       22.802063  0.0  0.0  0.0   0.0   0.0  0.0  0.0  0.0  0.0  ...  0.0  0.0   0.0  4.0   0.0  0.0  1.0  0.0  0.0   0.0\n",
       "1       23.802063  0.0  0.0  0.0   0.0   0.0  0.0  0.0  0.0  0.0  ...  0.0  1.0   0.0  1.0   0.0  0.0  1.0  0.0  0.0   0.0\n",
       "2       24.802063  0.0  0.0  0.0   0.0   0.0  0.0  1.0  0.0  0.0  ...  0.0  0.0   0.0  1.0   0.0  0.0  2.0  0.0  0.0   0.0\n",
       "3       25.802063  0.0  0.0  0.0   0.0   0.0  0.0  0.0  0.0  0.0  ...  0.0  0.0   0.0  0.0   0.0  0.0  0.0  0.0  0.0   0.0\n",
       "4       26.802063  0.0  0.0  0.0   0.0   0.0  0.0  0.0  0.0  0.0  ...  0.0  0.0   0.0  0.0   0.0  0.0  2.0  0.0  0.0   0.0\n",
       "5       27.802063  0.0  0.0  0.0   0.0   0.0  0.0  0.0  0.0  0.0  ...  0.0  0.0   0.0  0.0   1.0  0.0  1.0  0.0  0.0   0.0\n",
       "6       28.802063  1.0  0.0  0.0   0.0   0.0  0.0  1.0  1.0  0.0  ...  0.0  0.0   0.0  0.0   0.0  0.0  2.0  0.0  0.0   0.0\n",
       "7       29.802063  0.0  0.0  0.0   0.0   0.0  0.0  0.0  0.0  0.0  ...  0.0  0.0   0.0  3.0   0.0  0.0  0.0  0.0  0.0   0.0\n",
       "8       30.802063  0.0  0.0  0.0   1.0   0.0  0.0  0.0  0.0  0.0  ...  0.0  0.0   0.0  1.0   0.0  0.0  1.0  0.0  0.0   0.0\n",
       "9       31.802063  0.0  0.0  0.0  12.0   0.0  0.0  0.0  0.0  0.0  ...  0.0  0.0   0.0  0.0   1.0  0.0  0.0  0.0  0.0   0.0\n",
       "10      32.802063  0.0  0.0  0.0   1.0   0.0  0.0  0.0  0.0  0.0  ...  2.0  1.0   0.0  0.0  24.0  0.0  0.0  0.0  1.0   0.0\n",
       "11      33.802063  0.0  0.0  0.0   0.0   0.0  2.0  5.0  0.0  0.0  ...  0.0  0.0   0.0  1.0  13.0  0.0  2.0  0.0  1.0   0.0\n",
       "12      34.802063  1.0  0.0  0.0   0.0   0.0  1.0  1.0  0.0  0.0  ...  0.0  0.0   0.0  0.0   0.0  1.0  0.0  0.0  0.0   0.0\n",
       "13      35.802063  0.0  9.0  0.0   0.0   0.0  0.0  1.0  0.0  0.0  ...  0.0  0.0   0.0  0.0   0.0  0.0  0.0  0.0  0.0   0.0\n",
       "14      36.802063  0.0  6.0  0.0   0.0   2.0  0.0  0.0  0.0  0.0  ...  1.0  0.0   0.0  0.0   0.0  0.0  0.0  0.0  0.0   0.0\n",
       "...           ...  ...  ...  ...   ...   ...  ...  ...  ...  ...  ...  ...  ...   ...  ...   ...  ...  ...  ...  ...   ...\n",
       "1702  1724.802063  2.0  0.0  0.0   2.0   4.0  0.0  2.0  0.0  0.0  ...  0.0  0.0   8.0  3.0   0.0  6.0  0.0  4.0  1.0  13.0\n",
       "1703  1725.802063  0.0  0.0  0.0   1.0   5.0  0.0  0.0  2.0  0.0  ...  0.0  0.0   4.0  2.0   0.0  3.0  0.0  1.0  0.0   3.0\n",
       "1704  1726.802063  0.0  0.0  0.0   0.0   1.0  0.0  2.0  0.0  0.0  ...  0.0  0.0   5.0  0.0   0.0  5.0  0.0  0.0  2.0   2.0\n",
       "1705  1727.802063  0.0  0.0  0.0   0.0   0.0  1.0  4.0  0.0  0.0  ...  3.0  0.0   3.0  2.0   0.0  3.0  0.0  1.0  0.0   8.0\n",
       "1706  1728.802063  0.0  0.0  0.0   0.0   1.0  0.0  1.0  0.0  0.0  ...  0.0  0.0   3.0  0.0   0.0  2.0  0.0  1.0  0.0  12.0\n",
       "1707  1729.802063  0.0  0.0  0.0   3.0   1.0  0.0  0.0  0.0  0.0  ...  0.0  0.0   0.0  0.0   0.0  3.0  2.0  0.0  1.0   3.0\n",
       "1708  1730.802063  0.0  0.0  1.0   1.0   1.0  0.0  2.0  0.0  2.0  ...  0.0  0.0   1.0  0.0   0.0  1.0  0.0  0.0  1.0   3.0\n",
       "1709  1731.802063  0.0  0.0  3.0   1.0   1.0  0.0  0.0  1.0  0.0  ...  1.0  0.0   6.0  1.0   1.0  4.0  1.0  0.0  0.0   4.0\n",
       "1710  1732.802063  1.0  0.0  0.0   0.0   2.0  0.0  0.0  0.0  0.0  ...  2.0  0.0  11.0  6.0   0.0  6.0  0.0  0.0  0.0   9.0\n",
       "1711  1733.802063  1.0  0.0  0.0   0.0   2.0  0.0  0.0  0.0  0.0  ...  0.0  0.0   6.0  3.0   0.0  0.0  0.0  0.0  1.0  12.0\n",
       "1712  1734.802063  1.0  0.0  0.0   1.0   7.0  0.0  0.0  0.0  0.0  ...  1.0  0.0  10.0  2.0   0.0  3.0  2.0  0.0  0.0   2.0\n",
       "1713  1735.802063  0.0  0.0  0.0   1.0  13.0  0.0  0.0  2.0  1.0  ...  0.0  0.0   1.0  3.0   0.0  4.0  0.0  0.0  1.0   6.0\n",
       "1714  1736.802063  0.0  0.0  0.0   0.0  11.0  1.0  0.0  3.0  0.0  ...  0.0  0.0   4.0  3.0   0.0  3.0  0.0  0.0  0.0   5.0\n",
       "1715  1737.802063  1.0  0.0  0.0   0.0   7.0  0.0  0.0  0.0  0.0  ...  0.0  0.0   6.0  2.0   0.0  1.0  2.0  0.0  0.0   0.0\n",
       "1716  1738.802063  0.0  0.0  0.0   0.0   1.0  0.0  0.0  0.0  0.0  ...  0.0  0.0   0.0  0.0   0.0  0.0  5.0  1.0  3.0   2.0\n",
       "\n",
       "[1717 rows x 40 columns]"
      ]
     },
     "execution_count": 73,
     "metadata": {},
     "output_type": "execute_result"
    }
   ],
   "source": [
    "## Convert to spike rates (spike/sec) as a function of the bin and unit:\n",
    "curr_time_bin_size_seconds = curr_computations_results.computed_data['pf2D_Decoder'].time_bin_size # 1.0 (seconds)\n",
    "active_unit_specific_time_binned_spike_rates_df = active_unit_specific_time_binned_spike_counts_df.copy()\n",
    "active_unit_specific_time_binned_spike_rates_df[data_values_column_names] = active_unit_specific_time_binned_spike_rates_df[data_values_column_names] / curr_time_bin_size_seconds # convert to spikes/sec\n",
    "active_unit_specific_time_binned_spike_rates_df"
   ]
  },
  {
   "cell_type": "code",
   "execution_count": 74,
   "id": "1c434e39-1dd5-429b-b0be-f23484863cf1",
   "metadata": {
    "pycharm": {
     "is_executing": false,
     "name": "#%%\n"
    }
   },
   "outputs": [
    {
     "data": {
      "text/plain": [
       "<AxesSubplot:xlabel='t'>"
      ]
     },
     "execution_count": 74,
     "metadata": {},
     "output_type": "execute_result"
    },
    {
     "data": {
      "image/png": "[encoded data removed]",
      "text/plain": [
       "<Figure size 432x288 with 1 Axes>"
      ]
     },
     "metadata": {
      "needs_background": "light"
     },
     "output_type": "display_data"
    }
   ],
   "source": [
    "active_EWM_df = active_unit_specific_time_binned_spike_rates_df.copy()\n",
    "active_EWM_df[data_values_column_names] = active_plot_df[data_values_column_names].ewm(span=4, adjust=False).mean() # 1717 rows × 39 columns\n",
    "\n",
    "# active_EWM_df = active_plot_df.ewm(span=4, adjust=False).mean() # 1717 rows × 39 columns\n",
    "# active_EWM_df['t'] = active_plot_df['t'] # replace the time column with the one from the old dataframe, since averaged times don't make sense.\n",
    "active_EWM_df.plot(x='t')"
   ]
  },
  {
   "cell_type": "code",
   "execution_count": null,
   "id": "4e529411-ca89-401f-8852-5137cba2d2fb",
   "metadata": {
    "pycharm": {
     "is_executing": false,
     "name": "#%%\n"
    }
   },
   "outputs": [],
   "source": [
    "active_t = curr_computations_results.computed_data['firing_rate_trends']['active_rolling_window_times'] # dtype='timedelta64[ns]', name='time_delta_sec', length=1717, freq='S')\n",
    "\n",
    "active_rolling_window_duration = curr_computations_results.computed_data['firing_rate_trends']['desired_window_length_bins']\n",
    "\n",
    "# curr_computations_results.computed_data['firing_rate_trends']['moving_mean_firing_rates_df'] # 1239 rows × 39 columns\n",
    "active_df = curr_computations_results.computed_data['firing_rate_trends']['moving_mean_firing_rates_df'].copy()\n",
    "\n",
    "\n",
    "\n",
    "selected_rows = active_df[~active_df[0].isnull()] # 640 rows × 39 columns\n",
    "selected_rows\n",
    "\n",
    "active_rolling_window_duration # 600\n",
    "\n",
    "# curr_computations_results.computed_data['firing_rate_trends']['moving_mean_firing_rates_df']: is computed using: moving_mean_firing_rates_df = active_firing_rates_df.rolling(window=desired_window_length_bins).mean()"
   ]
  },
  {
   "cell_type": "code",
   "execution_count": null,
   "id": "e4b6f5e3-cd71-4d6d-8090-6134deb12bbe",
   "metadata": {
    "pycharm": {
     "is_executing": false,
     "name": "#%%\n"
    }
   },
   "outputs": [],
   "source": [
    "from sklearn.preprocessing import MinMaxScaler\n",
    "from pyphoplacecellanalysis.General.Model.RenderDataseries import RenderDataseries\n",
    "from pyphoplacecellanalysis.GUI.PyQtPlot.Widgets.Mixins.TimeCurves3D.Render3DTimeCurvesMixin import CurveDatasource\n",
    "from pyphoplacecellanalysis.GUI.PyQtPlot.Widgets.Mixins.TimeCurves3D.Specific3DTimeCurves import Specific3DTimeCurvesHelper\n",
    "\n",
    "## Adds the binned_spike_counts curves:\n",
    "active_curve_plotter_3d = spike_raster_plt_3d ## PyQtGraph Mode\n",
    "# active_curve_plotter_3d = spike_raster_plt_3d_vedo ## Vedo Mode\n",
    "binned_spike_counts_curve_datasource = Specific3DTimeCurvesHelper.add_unit_time_binned_spike_counts_curves(curr_computations_results, active_curve_plotter_3d)\n"
   ]
  },
  {
   "cell_type": "markdown",
   "id": "f7928eb5-352c-4c8c-9aa5-20a2d638a368",
   "metadata": {
    "pycharm": {
     "is_executing": false,
     "name": "#%%\n"
    },
    "tags": []
   },
   "source": [
    "## Unit Time Binned Spike Counts Datasource:"
   ]
  },
  {
   "cell_type": "code",
   "execution_count": 77,
   "id": "78d991f0-0756-448b-8465-61de2d796daa",
   "metadata": {
    "pycharm": {
     "is_executing": false,
     "name": "#%%\n"
    }
   },
   "outputs": [],
   "source": [
    "from sklearn.preprocessing import MinMaxScaler\n",
    "from pyphoplacecellanalysis.General.Model.RenderDataseries import RenderDataseries\n",
    "from pyphoplacecellanalysis.GUI.PyQtPlot.Widgets.Mixins.TimeCurves3D.Render3DTimeCurvesMixin import CurveDatasource\n",
    "from pyphoplacecellanalysis.GUI.PyQtPlot.Widgets.Mixins.TimeCurves3D.Specific3DTimeCurves import Specific3DTimeCurvesHelper\n",
    "\n",
    "## Adds the binned_spike_counts curves:\n",
    "active_curve_plotter_3d = spike_raster_plt_3d ## PyQtGraph Mode\n",
    "# active_curve_plotter_3d = spike_raster_plt_3d_vedo ## Vedo Mode"
   ]
  },
  {
   "cell_type": "code",
   "execution_count": null,
   "id": "4b784d30-7724-4c33-a5dc-2533b2cf5173",
   "metadata": {
    "pycharm": {
     "is_executing": false,
     "name": "#%%\n"
    }
   },
   "outputs": [],
   "source": [
    "## Spike Count (old):\n",
    "binned_spike_counts_curve_datasource = Specific3DTimeCurvesHelper.add_unit_time_binned_spike_counts_curves(curr_computations_results, active_curve_plotter_3d)"
   ]
  },
  {
   "cell_type": "code",
   "execution_count": 79,
   "id": "89936387-61d1-4891-a5b4-58e24f0bf223",
   "metadata": {
    "pycharm": {
     "is_executing": false,
     "name": "#%%\n"
    }
   },
   "outputs": [
    {
     "name": "stdout",
     "output_type": "stream",
     "text": [
      "connected_signal_recievers: 1\n",
      "disconnecting 1 receivers...\n",
      "\tdone\n"
     ]
    }
   ],
   "source": [
    "## Spike Count:\n",
    "binned_spike_counts_curve_datasource = Specific3DTimeCurvesHelper.add_unit_time_binned_spike_visualization_curves(curr_computations_results, active_curve_plotter_3d, spike_visualization_mode='count')"
   ]
  },
  {
   "cell_type": "code",
   "execution_count": null,
   "id": "02b4b66b-cfe8-4fb2-bab5-aa696ce9bf2a",
   "metadata": {
    "pycharm": {
     "is_executing": false,
     "name": "#%%\n"
    }
   },
   "outputs": [],
   "source": [
    "## Spike Rate:\n",
    "binned_spike_rate_curve_datasource = Specific3DTimeCurvesHelper.add_unit_time_binned_spike_visualization_curves(curr_computations_results, active_curve_plotter_3d, spike_visualization_mode='rate')"
   ]
  },
  {
   "cell_type": "code",
   "execution_count": 78,
   "id": "aaaeaf20-cd75-453a-87c2-70223b0f2ffe",
   "metadata": {
    "pycharm": {
     "is_executing": false,
     "name": "#%%\n"
    }
   },
   "outputs": [],
   "source": [
    "## Spike Smoothed Moving Average Rate:\n",
    "binned_spike_moving_average_rate_curve_datasource = Specific3DTimeCurvesHelper.add_unit_time_binned_spike_visualization_curves(curr_computations_results, active_curve_plotter_3d, spike_visualization_mode='mov_average')"
   ]
  },
  {
   "cell_type": "code",
   "execution_count": null,
   "id": "4afc0e52-b5cb-4a6e-9824-978f53f48c24",
   "metadata": {
    "pycharm": {
     "is_executing": false,
     "name": "#%%\n"
    }
   },
   "outputs": [],
   "source": []
  },
  {
   "cell_type": "code",
   "execution_count": null,
   "id": "ad7c589f-1d0e-4c57-83e0-64eb06060573",
   "metadata": {
    "pycharm": {
     "is_executing": false,
     "name": "#%%\n"
    }
   },
   "outputs": [],
   "source": [
    "active_curve_plotter_3d.detach_3d_time_curves_datasource()"
   ]
  },
  {
   "cell_type": "code",
   "execution_count": null,
   "id": "cbc640a7-a5c2-4c48-bffa-5e590cc2fcfd",
   "metadata": {
    "pycharm": {
     "is_executing": false,
     "name": "#%%\n"
    }
   },
   "outputs": [],
   "source": [
    "spike_raster_plt_3d.cell_id_to_unit_id_map[2]"
   ]
  },
  {
   "cell_type": "code",
   "execution_count": null,
   "id": "560ea6fd-527d-4061-930f-db190d9468bb",
   "metadata": {
    "pycharm": {
     "is_executing": false,
     "name": "#%%\n"
    }
   },
   "outputs": [],
   "source": []
  },
  {
   "cell_type": "code",
   "execution_count": null,
   "id": "350e4857-3b05-4b0b-a1a8-40d4e96ca114",
   "metadata": {
    "pycharm": {
     "is_executing": false,
     "name": "#%%\n"
    }
   },
   "outputs": [],
   "source": [
    "binned_spike_counts_curve_datasource.data_series_specs.keys()"
   ]
  },
  {
   "cell_type": "code",
   "execution_count": null,
   "id": "4c898dd1-4e6a-4b79-96c2-b8a3af906799",
   "metadata": {
    "pycharm": {
     "is_executing": false,
     "name": "#%%\n"
    }
   },
   "outputs": [],
   "source": [
    "binned_spike_counts_curve_datasource.data_series_specs.data_series_pre_spatial_list"
   ]
  },
  {
   "cell_type": "code",
   "execution_count": null,
   "id": "08232aa5-c6bd-4704-93f3-cbcbdfa01c43",
   "metadata": {
    "pycharm": {
     "is_executing": false,
     "name": "#%%\n"
    }
   },
   "outputs": [],
   "source": [
    "# valid_data_values_column_names = binned_spike_counts_curve_datasource.df.columns[1:]\n",
    "\n",
    "# binned_spike_counts_curve_datasource.data_column_names\n",
    "\n",
    "# binned_spike_counts_curve_datasource.data_column_values\n",
    "# binned_spike_counts_curve_datasource.df[[1:]]\n",
    "\n",
    "binned_spike_counts_curve_datasource.df[[1:]]"
   ]
  },
  {
   "cell_type": "code",
   "execution_count": null,
   "id": "97a778ba-2eb9-4a01-b33e-4cfe7405495b",
   "metadata": {
    "pycharm": {
     "is_executing": false,
     "name": "#%%\n"
    }
   },
   "outputs": [],
   "source": [
    "# binned_spike_counts_curve_datasource.df.loc[:, binned_spike_counts_curve_datasource.df.columns != 't'] # get all but the 't' column\n",
    "\n",
    "# np.max(binned_spike_counts_curve_datasource.df.loc[:, binned_spike_counts_curve_datasource.df.columns != 't'])\n",
    "print(f\"min: {np.min(binned_spike_counts_curve_datasource.df.loc[:, binned_spike_counts_curve_datasource.df.columns != 't'])}, max: {np.max(binned_spike_counts_curve_datasource.df.loc[:, binned_spike_counts_curve_datasource.df.columns != 't'])}\")"
   ]
  },
  {
   "cell_type": "code",
   "execution_count": null,
   "id": "699ab273-4aef-441d-84eb-d89ee49a8196",
   "metadata": {
    "pycharm": {
     "is_executing": false,
     "name": "#%%\n"
    }
   },
   "outputs": [],
   "source": [
    "data_values_column_names = binned_spike_counts_curve_datasource.df.columns[1:] # all but the 't' column\n",
    "z_scaler = MinMaxScaler()\n",
    "# active_plot_df[data_values_column_names] = z_scaler.fit_transform(active_plot_df[data_values_column_names].to_numpy()) # scale all data_values_columns (but not the time column)\n",
    "binned_spike_counts_curve_datasource.df.loc[:, binned_spike_counts_curve_datasource.df.columns != 't'] = z_scaler.fit_transform(binned_spike_counts_curve_datasource.df.loc[:, binned_spike_counts_curve_datasource.df.columns != 't']) # scale all data_values_columns (but not the time column)\n",
    "binned_spike_counts_curve_datasource.df.loc[:, binned_spike_counts_curve_datasource.df.columns != 't']"
   ]
  },
  {
   "cell_type": "code",
   "execution_count": null,
   "id": "92e01617-5c6c-434b-8b16-48461c2a45d1",
   "metadata": {
    "pycharm": {
     "is_executing": false,
     "name": "#%%\n"
    }
   },
   "outputs": [],
   "source": [
    "test_unit_time_binned_spike_counts_df = pd.DataFrame(np.concatenate((np.atleast_2d(curr_computations_results.computed_data['pf2D_Decoder'].time_window_centers), curr_computations_results.computed_data['pf2D_Decoder'].unit_specific_time_binned_spike_counts)).T)\n",
    "test_unit_time_binned_spike_counts_df.columns = ['t'] + [str(an_id) for an_id in included_neuron_ids]\n",
    "# curr_computations_results.computed_data['pf2D_Decoder'].time_window_centers\n",
    "# curr_computations_results.computed_data['pf2D_Decoder'].unit_specific_time_binned_spike_counts\n",
    "# test_unit_time_binned_spike_counts_df"
   ]
  },
  {
   "cell_type": "code",
   "execution_count": null,
   "id": "fb456179-c8c9-4c9d-b75c-df412d39365f",
   "metadata": {
    "pycharm": {
     "is_executing": false,
     "name": "#%%\n"
    }
   },
   "outputs": [],
   "source": [
    "\n",
    "\n",
    "# Add the datasource to the actual plotter object: this will cause it to build and add the 3D time curves:\n",
    "\n",
    "active_curve_plotter_3d = spike_raster_plt_3d ## PyQtGraph Mode\n",
    "# active_curve_plotter_3d = spike_raster_plt_3d_vedo ## Vedo Mode\n",
    "\n",
    "active_plot_df = test_unit_time_binned_spike_counts_df.copy()\n",
    "valid_data_values_column_names = active_plot_df.columns[1:]\n",
    "\n",
    "# Mappings from the pre-spatial values to the spatial values:\n",
    "x_map_fn = lambda t: active_curve_plotter_3d.temporal_to_spatial(t) # returns the x-values, transforming from the times t appropriately.\n",
    "# y_map_fn = lambda v: np.full_like(v, -active_curve_plotter_3d.n_half_cells) # This is what places all values along the back wall\n",
    "z_map_fn = lambda v_main: v_main + active_curve_plotter_3d.floor_z # returns the un-transformed primary value\n",
    "\n",
    "## we want each test curve to be rendered with a unit_id (series of spikes), so we'll need custom y_map_fn's for each column\n",
    "num_t_points = np.shape(active_plot_df)[0]\n",
    "n_value_columns = np.shape(active_plot_df)[1] - 1 # get the total num columns, then subtract 1 to account for the 0th ('t') column\n",
    "\n",
    "## want a separate y_map_fn for each data series so it returns the correct index\n",
    "# lambda v: np.full_like(v, -active_curve_plotter_3d.n_half_cells)\n",
    "# data_series_pre_spatial_to_spatial_mappings = [{'name':'name','x':'t','y':'v_alt','z':'v_main','x_map_fn':x_map_fn,'y_map_fn':y_map_fn,'z_map_fn':z_map_fn} for i in np.arange(1, n_value_columns)]\n",
    "# data_series_pre_spatial_to_spatial_mappings = [{'name':'name','x':'t','y':'v_alt','z':'v_main','x_map_fn':x_map_fn,'y_map_fn':(lambda v, bound_i=i: np.full_like(v, bound_i)),'z_map_fn':z_map_fn} for i in np.arange(n_value_columns)]\n",
    "data_series_pre_spatial_to_spatial_mappings = [{'name':'name','x':'t','y':'v_alt','z':'v_main','x_map_fn':x_map_fn,'y_map_fn':(lambda v, bound_i=i: np.full_like(v, active_curve_plotter_3d.unit_id_to_spatial(bound_i))),'z_map_fn':z_map_fn} for i in np.arange(n_value_columns)]\n",
    "active_data_series_pre_spatial_list = [{'name':data_col_name,'t':'t','v_alt':None,'v_main':data_col_name,'color_name':'white', 'line_width': 1.0, 'z_scaling_factor':1.0}                                              \n",
    "                                               for data_col_name in list(valid_data_values_column_names)]\n",
    "\n",
    "binned_spike_counts_curve_datasource = CurveDatasource(active_plot_df.copy(), data_series_specs=RenderDataseries.init_from_pre_spatial_data_series_list(active_data_series_pre_spatial_list, data_series_pre_spatial_to_spatial_mappings))\n",
    "\n",
    "active_curve_plotter_3d.add_3D_time_curves(curve_datasource=binned_spike_counts_curve_datasource) # Add the curves from the datasource\n",
    "\n",
    "## TODO: only if vedo should we do this! It's required to prevent it from crashing on window update:\n",
    "# spike_raster_plt_3d_vedo.params.time_curves_no_update = True"
   ]
  },
  {
   "cell_type": "markdown",
   "id": "cc3a12ff-e98c-427c-aa32-9ec6d063efb2",
   "metadata": {
    "pycharm": {
     "is_executing": false,
     "name": "#%%\n"
    }
   },
   "source": [
    "## Other Series Testing:"
   ]
  },
  {
   "cell_type": "code",
   "execution_count": null,
   "id": "c32a7418-5fde-461e-868f-2a2925fd5772",
   "metadata": {
    "pycharm": {
     "is_executing": false,
     "name": "#%%\n"
    }
   },
   "outputs": [],
   "source": [
    "np.shape(curr_computations_results.computed_data['pf2D_Decoder'].time_window_centers) # (1717,)\n",
    "np.shape(curr_computations_results.computed_data['pf2D_Decoder'].time_window_edges) # (1718,)\n",
    "# curr_computations_results.computed_data['pf2D_Decoder'].time_window_center_binning_info # BinningInfo object, 1717 bins\n",
    "np.shape(curr_computations_results.computed_data['pf2D_Decoder'].F) # (1239, 39)\n",
    "# total_spike_counts_per_window: note this seems to be the total across all units (for each time bin):\n",
    "np.shape(curr_computations_results.computed_data['pf2D_Decoder'].total_spike_counts_per_window) # (1717,)\n",
    "# unit_specific_time_binned_spike_counts: this is the number of spikes per window still separated by unit! Yay!\n",
    "np.shape(curr_computations_results.computed_data['pf2D_Decoder'].unit_specific_time_binned_spike_counts) # (39, 1717)\n",
    "curr_computations_results.computed_data['pf2D_Decoder'].unit_specific_time_binned_spike_counts"
   ]
  },
  {
   "cell_type": "code",
   "execution_count": null,
   "id": "62fe457b-a8f0-410f-ae1e-c174e9bfd2e7",
   "metadata": {
    "pycharm": {
     "is_executing": false,
     "name": "#%%\n"
    }
   },
   "outputs": [],
   "source": [
    "# Build the data series to display:\n",
    "curr_computations_results.computed_data['firing_rate_trends']['mean_firing_rates'][0]"
   ]
  },
  {
   "cell_type": "code",
   "execution_count": null,
   "id": "f1c0a994-39ab-4608-9bb3-e8b0ec382c2b",
   "metadata": {
    "pycharm": {
     "is_executing": false,
     "name": "#%%\n"
    }
   },
   "outputs": [],
   "source": [
    "# Get the computed most-likely positions and timesteps from the pf2D_TwoStepDecoder:\n",
    "active_two_step_decoder = curr_computations_results.computed_data.get('pf2D_TwoStepDecoder', None)\n",
    "if active_two_step_decoder is not None:\n",
    "    # have valid two_step_decoder, plot those predictions as well:\n",
    "    # active_two_step_decoder['most_likely_positions'][:, time_window_bin_idx]\n",
    "    active_time_window_variable = curr_computations_results.computed_data['pf2D_Decoder'].active_time_window_centers\n",
    "    active_most_likely_positions_x = active_two_step_decoder['most_likely_positions'][0,:]\n",
    "    active_most_likely_positions_y = active_two_step_decoder['most_likely_positions'][1,:]\n",
    "else:\n",
    "    active_time_window_variable = None\n",
    "    active_most_likely_positions_x = None\n",
    "    active_most_likely_positions_y = None"
   ]
  },
  {
   "cell_type": "code",
   "execution_count": null,
   "id": "9cd0740e-da83-4e11-a0a0-531e597889a3",
   "metadata": {
    "pycharm": {
     "is_executing": false,
     "name": "#%%\n"
    }
   },
   "outputs": [],
   "source": [
    "np.shape(active_time_window_variable) # (1717,)\n",
    "np.shape(active_most_likely_positions_x) # (1717,)"
   ]
  },
  {
   "cell_type": "code",
   "execution_count": null,
   "id": "c68fd27e-f40e-4c6d-ab53-388e38f1c91a",
   "metadata": {
    "pycharm": {
     "is_executing": false,
     "name": "#%%\n"
    }
   },
   "outputs": [],
   "source": [
    "active_two_step_decoder.keys()"
   ]
  },
  {
   "cell_type": "code",
   "execution_count": null,
   "id": "31d1ea11-ce51-4546-a42b-b518fd27da9f",
   "metadata": {
    "pycharm": {
     "is_executing": false,
     "name": "#%%\n"
    }
   },
   "outputs": [],
   "source": [
    "np.shape(curr_computations_results.computed_data['firing_rate_trends']['mean_firing_rates']) # (39,). Note that there is one value for each unit here (over all time)"
   ]
  },
  {
   "cell_type": "code",
   "execution_count": null,
   "id": "9ffcba0c-764b-4fda-a49d-239b998b5a6f",
   "metadata": {
    "pycharm": {
     "is_executing": false,
     "name": "#%%\n"
    }
   },
   "outputs": [],
   "source": [
    "curr_computations_results.computed_data['firing_rate_trends'].keys() # dict_keys(['active_rolling_window_times', 'mean_firing_rates', 'desired_window_length_seconds', 'desired_window_length_bins', 'active_firing_rates_df', 'moving_mean_firing_rates_df'])\n",
    "\n",
    "# good_only_moving_mean_firing_rates_df = moving_mean_firing_rates_df.dropna() # 3910 rows x 43 columns\n",
    "\n",
    "np.shape(curr_computations_results.computed_data['firing_rate_trends']['active_rolling_window_times']) # (1717,)\n",
    "# np.shape(curr_computations_results.computed_data['firing_rate_trends']['moving_mean_firing_rates_df']) # (1239, 39)\n",
    "np.shape(curr_computations_results.computed_data['firing_rate_trends']['active_firing_rates_df']) # (1239, 39)\n",
    "curr_computations_results.computed_data['firing_rate_trends']['active_firing_rates_df']"
   ]
  },
  {
   "cell_type": "code",
   "execution_count": null,
   "id": "2699a564-b689-4ea0-aadc-6ca59e40e5a5",
   "metadata": {
    "pycharm": {
     "is_executing": false,
     "name": "#%%\n"
    }
   },
   "outputs": [],
   "source": [
    "np.shape(curr_computations_results.computed_data['pf2D_Decoder'].F) # (1239, 39)\n",
    "\n",
    "curr_computations_results.computed_data['pf2D_Decoder']"
   ]
  },
  {
   "cell_type": "code",
   "execution_count": null,
   "id": "b78202c4-05a6-43ad-a264-c9d0800835cc",
   "metadata": {
    "pycharm": {
     "is_executing": false,
     "name": "#%%\n"
    }
   },
   "outputs": [],
   "source": [
    "\n",
    "# spike_raster_plt_3d.dynamic_add_widget(widget=spike_raster_plt_2d)\n",
    "\n",
    "# spike_raster_plt_3d.ui.layout.addChildLayout\n",
    "# spike_raster_plt_3d.ui.layout.addWidget(spike_raster_plt_2d, 1, 0) # add the GLViewWidget to the layout at 0, 0\n",
    "spike_raster_plt_3d.ui.layout.addWidget(spike_raster_plt_2d, 2, 0) # row 2, column 0\n",
    "\n",
    "\n",
    "# spike_raster_plt_2d.setParent(spike_raster_plt_3d)\n",
    "\n",
    "# class MainWindow(QMainWindow):\n",
    "#     def __init__(self):\n",
    "#         super().__init__()\n",
    "#         self.w = AnotherWindow()\n",
    "#         self.button = QPushButton(\"Push for Window\")\n",
    "#         self.button.clicked.connect(self.toggle_window)\n",
    "#         self.setCentralWidget(self.button)\n",
    "\n",
    "#     def toggle_window(self, checked):\n",
    "#         if self.w.isVisible():\n",
    "#             self.w.hide()\n",
    "\n",
    "#         else:\n",
    "#             self.w.show()\n"
   ]
  },
  {
   "cell_type": "markdown",
   "id": "785d15a3-14f8-44fa-8a47-cc8b7dd8f1be",
   "metadata": {
    "pycharm": {
     "is_executing": false,
     "name": "#%%\n"
    }
   },
   "source": [
    "## Other Sorting/Etc:"
   ]
  },
  {
   "cell_type": "code",
   "execution_count": null,
   "id": "7ed189ab-669d-4ee4-a9d9-618ebaabf6e7",
   "metadata": {
    "pycharm": {
     "is_executing": false,
     "name": "#%%\n"
    }
   },
   "outputs": [],
   "source": [
    "firing_rate_cell_index_sort = np.argsort(curr_computations_results.computed_data['firing_rate_trends']['mean_firing_rates']) \n",
    "firing_rate_cell_index_sort.shape # (39,)"
   ]
  },
  {
   "cell_type": "code",
   "execution_count": null,
   "id": "5134124c-f283-47c1-9e0f-9af348a09fbd",
   "metadata": {
    "pycharm": {
     "is_executing": false,
     "name": "#%%\n"
    }
   },
   "outputs": [],
   "source": [
    "# spike_raster_plt_3d.n_cells # 40\n",
    "spike_raster_plt_3d.cell_ids # (40,)\n",
    "np.setdiff1d(spike_raster_plt_3d.cell_ids, curr_neuron_IDs) # array([23])\n"
   ]
  },
  {
   "cell_type": "code",
   "execution_count": null,
   "id": "74fa1983-ae8c-43c8-8cbd-a4cf04539a38",
   "metadata": {
    "pycharm": {
     "is_executing": false,
     "name": "#%%\n"
    }
   },
   "outputs": [],
   "source": [
    "spike_raster_plt_3d.unit_sort_order = firing_rate_cell_index_sort # AssertionError: len(self._unit_sort_order): 40 must equal self.n_cells: 40 but it does not!"
   ]
  },
  {
   "cell_type": "code",
   "execution_count": null,
   "id": "d94d944d-1a39-4bb2-b8ca-6c88c633d171",
   "metadata": {
    "pycharm": {
     "is_executing": false,
     "name": "#%%\n"
    }
   },
   "outputs": [],
   "source": [
    "from pyphoplacecellanalysis.General.Model.Datasources import DataframeDatasource, SpikesDataframeDatasource\n",
    "from pyphoplacecellanalysis.General.Model.TimeWindow import TimeWindow\n",
    "from pyphoplacecellanalysis.General.Model.LiveWindowedData import LiveWindowedData\n",
    "\n",
    "position_dataSource = DataframeDatasource(curr_sess.position.to_dataframe()) # [['t', 'x','y','lin_pos']] # build new dataframe with only relevant columns\n",
    "spikes_dataSource = SpikesDataframeDatasource(curr_spikes_df)\n",
    "curr_time_window = TimeWindow(window_duration=15.0, window_start_time=30.0)\n",
    "spikes_liveWinData = LiveWindowedData(curr_time_window, spikes_dataSource)"
   ]
  },
  {
   "cell_type": "code",
   "execution_count": null,
   "id": "7a3cdf17-4585-4d19-afe4-7af57a5308b8",
   "metadata": {
    "pycharm": {
     "is_executing": false,
     "name": "#%%\n"
    }
   },
   "outputs": [],
   "source": [
    "spikes_dataSource.custom_datasource_name\n",
    "# spikes_dataSource.datasource_UIDs\n",
    "# spikes_dataSource.time_column_name # 't_rel_seconds'\n",
    "spikes_dataSource.data_column_names # array(['PBE_id', 'aclu', 'cell_type', 'cluster', 'flat_spike_idx', 'lap', 'lin_pos', 'maze_id', 'maze_relative_lap', 'qclu', 'scISI', 'shank', 'speed', 't', 't_seconds', 'traj', 'unit_id', 'x', 'x_loaded', 'y', 'y_loaded'], dtype=object)"
   ]
  },
  {
   "cell_type": "code",
   "execution_count": null,
   "id": "67485dfb-5cc6-41a1-aace-36c73152e9e9",
   "metadata": {
    "pycharm": {
     "is_executing": false,
     "name": "#%%\n"
    }
   },
   "outputs": [],
   "source": [
    "curr_sess.mua.t_start # 22.26\n",
    "curr_sess.mua.t_stop # 1739.153\n",
    "\n",
    "# curr_sess.mua.time\n",
    "# np.shape(curr_sess.mua.firing_rate) # (1716893,)\n",
    "# np.shape(curr_sess.mua.spike_counts) # (1716893,)\n",
    "\n",
    "smoothed_mua = curr_sess.mua.get_smoothed()\n",
    "smoothed_mua.to_dataframe()"
   ]
  },
  {
   "cell_type": "code",
   "execution_count": null,
   "id": "ca69a80a-ad21-4699-8142-5436c7a6822c",
   "metadata": {
    "pycharm": {
     "is_executing": false,
     "name": "#%%\n"
    }
   },
   "outputs": [],
   "source": [
    "curr_windowed_df = position_dataSource.get_updated_data_window(0.0, 100.0)"
   ]
  },
  {
   "cell_type": "code",
   "execution_count": null,
   "id": "fddf03a3-a2e1-4098-bc43-00555e597135",
   "metadata": {
    "pycharm": {
     "is_executing": false,
     "name": "#%%\n"
    }
   },
   "outputs": [],
   "source": [
    "\"\"\" Cell Coloring:\n",
    "    curr_color = pg.mkColor((i, self.n_cells*1.3))\n",
    "    curr_color.setAlphaF(0.5)\n",
    "\n",
    "\"\"\"\n",
    "def build_cell_color_map(unit_ids, mode='color_by_index_order'):\n",
    "    \"\"\" builds a list of pg.mkColors from the cell index id: \n",
    "    \"\"\"\n",
    "    n_cells = len(unit_ids)\n",
    "    if mode == 'preserve_unit_ids':\n",
    "        # color is assigned based off of unit_id value, meaning after re-sorting the unit_ids the colors will appear visually different along y but will correspond to the same units as before the sort.\n",
    "        unit_ids_sort_index = np.argsort(unit_ids) # get the indicies of the sorted ids\n",
    "        sorted_unit_ids = np.sort(unit_ids)\n",
    "        sorted_unit_ids = np.take_along_axis(unit_ids, unit_ids_sort_index, axis=None)\n",
    "        print(f'unit_ids: \\t\\t{unit_ids}\\nunit_ids_sort_index: \\t{unit_ids_sort_index}\\nsorted_unit_ids: \\t{sorted_unit_ids}\\n')\n",
    "        return [pg.mkColor((cell_id, n_cells*1.3)) for i, cell_id in enumerate(sorted_unit_ids)]\n",
    "    elif mode == 'color_by_index_order':\n",
    "        # color is assigned based of the raw index order of the passed-in unit ids. This means after re-sorting the units the colors will appear visually the same along y, but will not correspond to the same units.\n",
    "        return [pg.mkColor((i, n_cells*1.3)) for i, cell_id in enumerate(unit_ids)]\n",
    "    else:\n",
    "        raise NotImplementedError\n",
    "    # for i, cell_id in enumerate(self.unit_ids):\n",
    "    #         curr_color = pg.mkColor((i, self.n_cells*1.3))\n",
    "    #         curr_color.setAlphaF(0.5)\n",
    "\n",
    "\n",
    "\n",
    "# build_cell_color_map(spike_raster_plt_3d.unit_ids, mode='color_by_index_order')\n",
    "build_cell_color_map(spike_raster_plt_3d.unit_ids, mode='preserve_unit_ids')"
   ]
  },
  {
   "cell_type": "code",
   "execution_count": null,
   "id": "6aded1ad-e613-459e-a399-0051d954f552",
   "metadata": {
    "pycharm": {
     "is_executing": false,
     "name": "#%%\n"
    }
   },
   "outputs": [],
   "source": [
    "\"\"\" \n",
    "Ordering of cells is dictated by self.unit_ids' order\n",
    "\n",
    "Changing this order requires changing several pieces of information:\n",
    "\n",
    "\n",
    "- the y-axis numerical labels\n",
    "    _build_neuron_id_graphics(...)\n",
    "    _update_neuron_id_graphics()\n",
    "\n",
    "\n",
    "\"\"\"\n",
    "## Testing changing the cell-sort along the y-axis:\n",
    "spike_raster_plt_3d.y = DataSeriesToSpatial.build_series_identity_axis(spike_raster_plt_3d.n_cells, center_mode=spike_raster_plt_3d.params.center_mode, bin_position_mode=spike_raster_plt_3d.params.bin_position_mode, side_bin_margins = spike_raster_plt_3d.params.side_bin_margins)"
   ]
  },
  {
   "cell_type": "code",
   "execution_count": null,
   "id": "d88587a9-dc98-4793-8adb-dc0272076176",
   "metadata": {
    "pycharm": {
     "is_executing": false,
     "name": "#%%\n"
    }
   },
   "outputs": [],
   "source": []
  },
  {
   "cell_type": "markdown",
   "id": "fd3080d7-9053-4943-a1f8-4635e87c4b1c",
   "metadata": {
    "pycharm": {
     "is_executing": false,
     "name": "#%%\n"
    },
    "tags": []
   },
   "source": [
    "## Debugging Rendering:"
   ]
  },
  {
   "cell_type": "code",
   "execution_count": null,
   "id": "eeff607a-efef-4438-bc51-758b37f6c9d8",
   "metadata": {
    "pycharm": {
     "is_executing": false,
     "name": "#%%\n"
    }
   },
   "outputs": [],
   "source": [
    "# -self.n_half_cells\n",
    "debug_point_pos = (-spike_raster_plt_3d.half_temporal_axis_length, -spike_raster_plt_3d.n_half_cells, 0.0) # (-10.69215668859044, -20.0, 0.0)\n",
    "debug_point_pos"
   ]
  },
  {
   "cell_type": "code",
   "execution_count": null,
   "id": "444c5c14-ff4f-4d55-b338-c1a1f7a8ade4",
   "metadata": {
    "pycharm": {
     "is_executing": false,
     "name": "#%%\n"
    }
   },
   "outputs": [],
   "source": [
    "spike_raster_plt_3d.ui.gl_test_points = []\n",
    "md = gl.MeshData.sphere(rows=4, cols=4)\n",
    "m1 = gl.GLMeshItem(meshdata=md, smooth=False, drawFaces=False, drawEdges=True, edgeColor=(0.7,0.7,0.7,0.8))\n",
    "m1.translate(debug_point_pos[0], debug_point_pos[1], debug_point_pos[2])\n",
    "m1.scale(0.5, 0.25, 0.25)\n",
    "m1.setGLOptions('additive')\n",
    "spike_raster_plt_3d.ui.main_gl_widget.addItem(m1)\n",
    "spike_raster_plt_3d.ui.gl_test_points.append(m1)\n",
    "\n",
    "\n",
    "# spike_raster_plt_3d.dynamic_add_widget()"
   ]
  },
  {
   "cell_type": "code",
   "execution_count": null,
   "id": "2a4063ce-e7ba-44e1-90f0-5e6702493f34",
   "metadata": {
    "pycharm": {
     "is_executing": false,
     "name": "#%%\n"
    }
   },
   "outputs": [],
   "source": [
    "# REMOVE\n",
    "\n",
    "spike_raster_plt_3d.ui.main_gl_widget.removeItem(m1)\n",
    "spike_raster_plt_3d.ui.gl_test_points.remove(m1)"
   ]
  },
  {
   "cell_type": "code",
   "execution_count": null,
   "id": "d11b2176-138e-4fca-aa47-c2f1ba203d9f",
   "metadata": {
    "pycharm": {
     "is_executing": false,
     "name": "#%%\n"
    }
   },
   "outputs": [],
   "source": [
    "spike_raster_plt_3d.add_render_epochs(curr_sess.pbe.starts, curr_sess.pbe.durations, epoch_type_name='PBE')"
   ]
  },
  {
   "cell_type": "code",
   "execution_count": null,
   "id": "719f9f10-d813-477f-aa9d-fb8bde5a89c4",
   "metadata": {
    "pycharm": {
     "is_executing": false,
     "name": "#%%\n"
    }
   },
   "outputs": [],
   "source": [
    "spike_raster_plt_3d._build_epoch_meshes(curr_sess.pbe.starts, curr_sess.pbe.durations)\n",
    "\n",
    "# spike_raster_plt_3d.ui.parent_epoch_container_item.setObjectName('container')\n",
    "# spike_raster_plt_3d.ui.parent_epoch_container_item.childItems()\n",
    "# curr_cube.translate(t_centers[i], 0, 0)\n",
    "# curr_cube.scale(durations[i], 1, 0.25)\n",
    "    "
   ]
  },
  {
   "cell_type": "code",
   "execution_count": null,
   "id": "992dc876-6b18-48e8-bf62-f80525ce4c41",
   "metadata": {
    "pycharm": {
     "is_executing": false,
     "name": "#%%\n"
    }
   },
   "outputs": [],
   "source": [
    "spike_raster_plt_3d._remove_epoch_meshes()"
   ]
  },
  {
   "cell_type": "code",
   "execution_count": null,
   "id": "9838071c-b505-46e4-8b54-e103ebecf169",
   "metadata": {
    "pycharm": {
     "is_executing": false,
     "name": "#%%\n"
    }
   },
   "outputs": [],
   "source": [
    "# for (i, aCube) in enumerate(spike_raster_plt_3d.ui.new_cube_objects):\n",
    "#     aCube.setParent(None)\n",
    "#     aCube.deleteLater()\n",
    "\n",
    "from vispy import geometry\n",
    "\n",
    "# spike_raster_plt_3d.ui.new_cube_objects.clear()\n",
    "# spike_raster_plt_3d.ui.new_cube_objects\n",
    "print(f'number of cube objects: {len(spike_raster_plt_3d.ui.new_cube_objects)}') # number of cube objects: 206\n",
    "\n",
    "spike_raster_plt_3d._temporal_to_spatial(curr_sess.pbe.starts)\n",
    "\n",
    "# vispy.geometry.create_box(width=1, height=1, depth=1, width_segments=1, height_segments=1, depth_segments=1, planes=None)\n",
    "box_mesh_data = geometry.create_box(width=1, height=1, depth=1, width_segments=1, height_segments=1, depth_segments=1, planes=None)\n",
    "# vispy.geometry.create_plane(width=1, height=1, width_segments=1, height_segments=1, direction='+z')\n",
    "plane_mesh_data = geometry.create_plane(width=1, height=1, width_segments=1, height_segments=1, direction='+z')\n",
    "# vertices, faces, outline\n",
    "\n",
    "plane_mesh_data"
   ]
  },
  {
   "cell_type": "code",
   "execution_count": null,
   "id": "e6e6858c-fa31-42c8-b6eb-b41dfd72a2a0",
   "metadata": {
    "pycharm": {
     "is_executing": false,
     "name": "#%%\n"
    }
   },
   "outputs": [],
   "source": [
    "spike_raster_plt_3d.update_epoch_meshes(curr_sess.pbe.starts, curr_sess.pbe.durations)"
   ]
  },
  {
   "cell_type": "code",
   "execution_count": null,
   "id": "b4d408b0-bb00-43a4-8a31-e027acf6511a",
   "metadata": {
    "pycharm": {
     "is_executing": false,
     "name": "#%%\n"
    }
   },
   "outputs": [],
   "source": [
    "spike_raster_plt_2d.render_window_duration # 15.0\n",
    "spike_raster_plt_2d.spikes_window.total_df_start_end_times # (22.30206346133491, 1739.1355703625595)\n",
    "spike_raster_plt_2d.spikes_window.active_window_start_time # 30.0\n",
    "spike_raster_plt_2d.spikes_window.active_window_end_time # 45.0"
   ]
  },
  {
   "cell_type": "code",
   "execution_count": null,
   "id": "e8910c9b-446d-4547-9c24-6ef75204e739",
   "metadata": {
    "pycharm": {
     "is_executing": false,
     "name": "#%%\n"
    }
   },
   "outputs": [],
   "source": [
    "spike_raster_plt_3d.close_signal.connect(spike_raster_plt_2d.closeEvent)"
   ]
  },
  {
   "cell_type": "markdown",
   "id": "c6deb79e-bf9b-4464-97b3-eab4ef529538",
   "metadata": {
    "pycharm": {
     "is_executing": false,
     "name": "#%%\n"
    }
   },
   "source": [
    "### Align 3d window and the 2d window that controls it"
   ]
  },
  {
   "cell_type": "code",
   "execution_count": null,
   "id": "1242cca9-49cb-47f6-af0a-a27e69f7a91b",
   "metadata": {
    "pycharm": {
     "is_executing": false,
     "name": "#%%\n"
    }
   },
   "outputs": [],
   "source": [
    "# spike_raster_plt.ui.main_plot_widget.setXRange(0.0, +spike_raster_plt.render_window_duration)\n",
    "\n",
    "# spike_raster_plt.ui.scatter_plot.enableAutoRange('xy', False)  ## stop auto-scaling after the first data set is plotted\n",
    "# spike_raster_plt.ui.scatter_plot.dataBounds()\n",
    "# spike_raster_plt.ui.scatter_plot.flags()\n",
    "# spike_raster_plt.ui.scatter_plot.setPointsVisible\n",
    "# spike_raster_plt.ui.main_plot_widget.addScrollBarWidget()\n",
    "\n",
    "# print(f'{spike_raster_plt.ui.main_plot_widget.contentsMargins()}')\n",
    "# spike_raster_plt.ui.scatter_plot.points()\n",
    "\n",
    "# spike_raster_plt.ui.main_plot_widget.setXRange\n",
    "# spike_raster_plt.ui.main_plot_widget.setLimits()\n",
    "# spike_raster_plt.ui.main_plot_widget # PlotItem\n",
    "\n",
    "min_x, max_x = spike_raster_plt_2d.ui.scroll_window_region.getRegion() # (59.62061245756003, 76.83228787177144)\n",
    "scroll_window_width = max_x - min_x\n",
    "spike_raster_plt_2d_old_time_window = spike_raster_plt_2d.spikes_window.active_time_window # (30.0, 930.0)\n",
    "print(f'spike_raster_plt_2d: min_x: {min_x}, max_x: {max_x}, scroll_window_width: {scroll_window_width}, spike_raster_plt_2d_old_time_window: {spike_raster_plt_2d_old_time_window}') # spike_raster_plt_2d: min_x: 111.72696109457753, max_x: 149.92210657285403, scroll_window_width: 38.1951454782765, spike_raster_plt_2d_old_time_window: (111.72696109457753, 149.92210657285403)\n",
    "\n",
    "# def _debug_print_spike_raster_plot_window(\n",
    "spike_raster_plt_3d_old_time_window = spike_raster_plt_3d.spikes_window.active_time_window # (30.0, 930.0)\n",
    "print(f'spike_raster_plt_3d: spike_raster_plt_3d_old_time_window: {spike_raster_plt_3d_old_time_window}') # spike_raster_plt_3d: spike_raster_plt_3d_old_time_window: (47.599999999999625, 62.599999999999625)\n",
    "\n",
    "# Update the 3D Time window from the 2D one:\n",
    "# spike_raster_plt_3d.spikes_window.active_time_window = spike_raster_plt_2d_old_time_window\n",
    "spike_raster_plt_3d.spikes_window.update_window_start_end(spike_raster_plt_2d_old_time_window[0], spike_raster_plt_2d_old_time_window[1])\n",
    "\n",
    "# spike_raster_plt.render_window_duration = \n",
    "# spike_raster_plt.spikes_window\n",
    "# spike_raster_plt.temporal_zoom_factor\n",
    "# # self.spikes_window.update_window_start(next_start_timestamp)\n",
    "\n",
    "# spike_raster_plt.ui.spinTemporalZoomFactor.setValue(1.0)\n",
    "# spike_raster_plt.ui.spinRenderWindowDuration.setValue(scroll_window_width)\n",
    "# spike_raster_plt.spikes_window.update_window_start(min_x)\n",
    "\n",
    "# curr_plot_item = spike_raster_plt.ui.main_plot_widget.getPlotItem()\n",
    "# curr_view_box = curr_plot_item.getViewBox()\n",
    "# # curr_view_box.autoRangeEnabled()\n",
    "# # curr_view_box.setAutoPan(False)\n",
    "\n",
    "# curr_view_box.setDefaultPadding(0.0)\n",
    "# spike_raster_plt.ui.main_plot_widget.viewRect()\n",
    "# spike_raster_plt.ui.scatter_plot.opts\n",
    "# spike_raster_plt._update_plot_ranges()"
   ]
  },
  {
   "cell_type": "code",
   "execution_count": null,
   "id": "1f3732bc-45c2-485d-b98d-8b3038ab3360",
   "metadata": {
    "pycharm": {
     "is_executing": false,
     "name": "#%%\n"
    }
   },
   "outputs": [],
   "source": [
    "# @pyqtSlot(float, float)\n",
    "def _test_on_2d_window_scrolled(start_v, end_v):\n",
    "    print(f'_test_on_2d_window_scrolled(start_v: {start_v}, end_v: {end_v})')\n",
    "    spike_raster_plt_3d.spikes_window.update_window_start_end(start_v, end_v)\n",
    "\n",
    "spike_raster_plt_2d.window_scrolled.connect(_test_on_2d_window_scrolled)"
   ]
  },
  {
   "cell_type": "code",
   "execution_count": null,
   "id": "9af4591b-f462-4255-9309-ca3b6c69e065",
   "metadata": {
    "pycharm": {
     "is_executing": false,
     "name": "#%%\n"
    }
   },
   "outputs": [],
   "source": []
  },
  {
   "cell_type": "code",
   "execution_count": null,
   "id": "24900b6f-2c69-4f73-9ef7-27d6d8dcafc6",
   "metadata": {
    "pycharm": {
     "is_executing": false,
     "name": "#%%\n"
    }
   },
   "outputs": [],
   "source": [
    "spike_raster_plt_3d.ui.spinRenderWindowDuration.setValue(scroll_window_width)"
   ]
  },
  {
   "cell_type": "code",
   "execution_count": null,
   "id": "eede1f8e-903d-4054-ac26-624ea7355a8c",
   "metadata": {
    "pycharm": {
     "is_executing": false,
     "name": "#%%\n"
    }
   },
   "outputs": [],
   "source": [
    "spike_raster_plt_3d.ui.spinTemporalZoomFactor.setValue(10.0)"
   ]
  },
  {
   "cell_type": "code",
   "execution_count": null,
   "id": "58dd4b16-630d-4a6b-b254-0f4e06fe9edd",
   "metadata": {
    "pycharm": {
     "is_executing": false,
     "name": "#%%\n"
    }
   },
   "outputs": [],
   "source": [
    "spike_raster_plt_3d.update()"
   ]
  },
  {
   "cell_type": "code",
   "execution_count": null,
   "id": "44c11766-4358-488d-9677-c045a9711bb1",
   "metadata": {
    "pycharm": {
     "is_executing": false,
     "name": "#%%\n"
    }
   },
   "outputs": [],
   "source": [
    "lower_edge = spike_raster_plt.y / spike_raster_plt.n_cells\n",
    "upper_edge = (spike_raster_plt.y + 1.0)/spike_raster_plt.n_cells\n",
    "\n",
    "print(f'lower_edge: {lower_edge}\\n upper_edge: {upper_edge}')"
   ]
  },
  {
   "cell_type": "code",
   "execution_count": null,
   "id": "3e4667a4-f485-417e-b74a-d075ac24c47a",
   "metadata": {
    "pycharm": {
     "is_executing": false,
     "name": "#%%\n"
    }
   },
   "outputs": [],
   "source": [
    "lower_y = DataSeriesToSpatial.build_series_identity_axis(spike_raster_plt.n_cells, center_mode=spike_raster_plt.params.center_mode, bin_position_mode='left_edges', side_bin_margins = spike_raster_plt.params.side_bin_margins) / spike_raster_plt.n_cells\n",
    "upper_y = DataSeriesToSpatial.build_series_identity_axis(spike_raster_plt.n_cells, center_mode=spike_raster_plt.params.center_mode, bin_position_mode='right_edges', side_bin_margins = spike_raster_plt.params.side_bin_margins) / spike_raster_plt.n_cells\n",
    "\n",
    "print(f'lower_y: {lower_y}\\n upper_y: {upper_y}')"
   ]
  },
  {
   "cell_type": "code",
   "execution_count": null,
   "id": "18877c55-11a6-48ed-96af-52b6d96ae673",
   "metadata": {
    "pycharm": {
     "is_executing": false,
     "name": "#%%\n"
    }
   },
   "outputs": [],
   "source": [
    "## 3D Spike Train Visualization\n",
    "# import pyqtgraph.opengl as gl # for 3D raster plot\n",
    "from pyphoplacecellanalysis.GUI.PyQtPlot.Widgets.SpikeRasterWidgets.Spike3DRaster import Spike3DRaster\n",
    "\n",
    "# importlib.reload(pyphoplacecellanalysis.GUI.PyQtPlot.pyqtplot_RasterPlot)\n",
    "\n",
    "curr_epoch_name = 'maze1'\n",
    "curr_epoch = curr_active_pipeline.filtered_epochs[curr_epoch_name] # <NamedTimerange: {'name': 'maze1', 'start_end_times': array([  22.26      , 1739.15336412])};>\n",
    "curr_sess = curr_active_pipeline.filtered_sessions[curr_epoch_name]\n",
    "curr_spikes_df = curr_sess.spikes_df\n",
    "\n",
    "spike_raster_plt = Spike3DRaster(curr_spikes_df, window_duration=1.0, window_start_time=30.0, neuron_colors=None)\n",
    "# spike_raster_plt = Spike3DRaster(curr_spikes_df, window_duration=4.0, window_start_time=30.0, neuron_colors=None)\n",
    "# spike_raster_plt = Spike3DRaster(curr_spikes_df, window_duration=0.2, window_start_time=30.0)\n",
    "\n",
    "# spike_raster_plt.animation()\n",
    "# spike_raster_plt = None"
   ]
  },
  {
   "cell_type": "code",
   "execution_count": null,
   "id": "a97a90f5-d145-406c-a97e-e6dd7a0536ac",
   "metadata": {
    "pycharm": {
     "is_executing": false,
     "name": "#%%\n"
    }
   },
   "outputs": [],
   "source": [
    "print(f'spike_raster_plt.spikes_window.active_time_window: {spike_raster_plt.spikes_window.active_time_window}')\n",
    "# spike_raster_plt.spikes_window.active_window_start_time = 50.0\n",
    "spike_raster_plt.spikes_window.update_window_start(90.0)\n",
    "print(f'spike_raster_plt.spikes_window.active_time_window: {spike_raster_plt.spikes_window.active_time_window}')"
   ]
  },
  {
   "cell_type": "code",
   "execution_count": null,
   "id": "b8c9312d-1f9d-4201-a987-f4f76712eca5",
   "metadata": {
    "pycharm": {
     "is_executing": false,
     "name": "#%%\n"
    }
   },
   "outputs": [],
   "source": [
    "spike_raster_plt.animation_time_step # 0.03 (seconds)"
   ]
  },
  {
   "cell_type": "code",
   "execution_count": null,
   "id": "d372e540-825e-4331-b191-43ddd41cd6a6",
   "metadata": {
    "pycharm": {
     "is_executing": false,
     "name": "#%%\n"
    }
   },
   "outputs": [],
   "source": [
    "# spike_raster_plt.render_window_duration # 4.0 (seconds)\n",
    "# spike_raster_plt.spikes_window.window_duration = 1.0\n",
    "\n",
    "spike_raster_plt.temporal_zoom_factor # 40.0\n",
    "spike_raster_plt.temporal_zoom_factor = 80.0"
   ]
  },
  {
   "cell_type": "code",
   "execution_count": null,
   "id": "225cd3f6-96cd-40df-853d-563c22c15275",
   "metadata": {
    "pycharm": {
     "is_executing": false,
     "name": "#%%\n"
    }
   },
   "outputs": [],
   "source": [
    "spike_raster_plt.on_adjust_temporal_spatial_mapping()"
   ]
  },
  {
   "cell_type": "code",
   "execution_count": null,
   "id": "19d69e2b-b8c6-47fb-8c18-b6eea8e9fc84",
   "metadata": {
    "pycharm": {
     "is_executing": false,
     "name": "#%%\n"
    }
   },
   "outputs": [],
   "source": [
    "# curr_transform = spike_raster_plt.ui.gz.transform() # PyQt5.QtGui.QMatrix4x4(1.0, 0.0, 0.0, 0.0, 0.0, 1.0, 0.0, 0.0, 0.0, 0.0, 1.0, -10.0, 0.0, 0.0, 0.0, 1.0)\n",
    "curr_transform = spike_raster_plt.ui.gx.transform() # PyQt5.QtGui.QMatrix4x4(0.0, 0.0, 1.0, -20.0, 0.0, 1.0, 0.0, 0.0, -1.0, 0.0, 0.0, 0.0, 0.0, 0.0, 0.0, 1.0)\n",
    "print(curr_transform)\n",
    "\n",
    "curr_transform.matrix()\n",
    "# spike_raster_plt.ui.gx."
   ]
  },
  {
   "cell_type": "code",
   "execution_count": null,
   "id": "d2beb484-0b58-4da9-ae53-27b94d54560b",
   "metadata": {
    "pycharm": {
     "is_executing": false,
     "name": "#%%\n"
    }
   },
   "outputs": [],
   "source": [
    "spike_raster_plt.params.keys()"
   ]
  },
  {
   "cell_type": "code",
   "execution_count": null,
   "id": "0d278473-b6e9-4962-ba85-192575a5d42c",
   "metadata": {
    "pycharm": {
     "is_executing": false,
     "name": "#%%\n"
    }
   },
   "outputs": [],
   "source": [
    "# spike_raster_plt.params.spike_start_z # -10\n",
    "spike_raster_plt.params.spike_end_z = -8.0 # -6.0"
   ]
  },
  {
   "cell_type": "code",
   "execution_count": null,
   "id": "3d987938-b257-4075-b2fe-33c91dc0f545",
   "metadata": {
    "pycharm": {
     "is_executing": false,
     "name": "#%%\n"
    }
   },
   "outputs": [],
   "source": [
    "spike_raster_plt.animation_time_step = 0.06"
   ]
  },
  {
   "cell_type": "code",
   "execution_count": null,
   "id": "e6217bb9-a229-48f7-9b5b-c06db732c0e7",
   "metadata": {
    "pycharm": {
     "is_executing": false,
     "name": "#%%\n"
    }
   },
   "outputs": [],
   "source": [
    "spike_raster_plt.shift_animation_frame_val(-3)"
   ]
  },
  {
   "cell_type": "code",
   "execution_count": null,
   "id": "bd9be697-b859-49a2-ab3b-06fdbc7336d4",
   "metadata": {
    "pycharm": {
     "is_executing": false,
     "name": "#%%\n"
    }
   },
   "outputs": [],
   "source": [
    "curr_spikes_df"
   ]
  },
  {
   "cell_type": "code",
   "execution_count": null,
   "id": "32ee911c-9e30-4f08-8386-02c4005651c1",
   "metadata": {
    "pycharm": {
     "is_executing": false,
     "name": "#%%\n"
    }
   },
   "outputs": [],
   "source": [
    "# temporal_to_spatial_transform_computation\n",
    "np.shape(curr_sess.mua.firing_rate) # (1716893,)\n",
    "np.shape(curr_sess.mua.time) # (1716893,)\n",
    "\n",
    "yi = - # plot along the back wall in the y-dir\n",
    "mua_pts = np.column_stack([x, np.full_like(x, yi), z])\n",
    "plt = gl.GLLinePlotItem(pos=pts, color=pg.mkColor((i,n*1.3)), width=(i+1)/10., antialias=True)\n",
    "w.addItem(plt)\n",
    "\n",
    "\n",
    "    \n"
   ]
  },
  {
   "cell_type": "code",
   "execution_count": null,
   "id": "6bfb325b-da2e-4c00-934b-bbe38d568234",
   "metadata": {},
   "outputs": [],
   "source": []
  }
 ],
 "metadata": {
  "kernelspec": {
   "display_name": "Python [conda env:phoviz_ultimate]",
   "language": "python",
   "name": "conda-env-phoviz_ultimate-py"
  },
  "language_info": {
   "codemirror_mode": {
    "name": "ipython",
    "version": 3
   },
   "file_extension": ".py",
   "mimetype": "text/x-python",
   "name": "python",
   "nbconvert_exporter": "python",
   "pygments_lexer": "ipython3",
   "version": "3.9.12"
  },
  "pycharm": {
   "stem_cell": {
    "cell_type": "raw",
    "metadata": {
     "collapsed": false
    },
    "source": []
   }
  }
 },
 "nbformat": 4,
 "nbformat_minor": 5
}
