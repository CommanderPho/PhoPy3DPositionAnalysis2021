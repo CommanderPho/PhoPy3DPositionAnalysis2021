{
 "cells": [
  {
   "cell_type": "code",
   "execution_count": 1,
   "id": "e2a4d84c-26ff-431e-b709-dccb696f756d",
   "metadata": {
    "pycharm": {
     "is_executing": false
    }
   },
   "outputs": [],
   "source": [
    "\"\"\"\n",
    "@author: pho\n",
    "\"\"\"\n",
    "%load_ext autoreload\n",
    "%autoreload 2\n",
    "import sys\n",
    "import time\n",
    "import importlib\n",
    "from pathlib import Path\n",
    "from datetime import datetime\n",
    "\n",
    "from numba import jit\n",
    "import numpy as np\n",
    "import pandas as pd\n",
    "\n",
    "# import json\n",
    "# import yaml\n",
    "from pprint import pprint\n",
    "\n",
    "\n",
    "# required to enable non-blocking interaction:\n",
    "# %gui qt\n",
    "# $env:QT_API=\"pyqt6\"\n",
    "%gui qt5\n",
    "# from PyQt5.Qt import QApplication\n",
    "# # start qt event loop\n",
    "# _instance = QApplication.instance()\n",
    "# if not _instance:\n",
    "#     _instance = QApplication([])\n",
    "# app = _instance\n",
    "import pyqtgraph as pg\n",
    "from pyqtgraph.Qt import QtCore, QtGui\n",
    "import pyqtgraph.opengl as gl # for 3D raster plot\n",
    "\n",
    "# ## Panel:\n",
    "import param\n",
    "# import panel as pn\n",
    "# from panel.interact import interact, interactive, fixed, interact_manual\n",
    "# from panel.viewable import Viewer\n",
    "# pn.extension()\n",
    "\n",
    "## Pho's Custom Libraries:\n",
    "from pyphocorehelpers.general_helpers import get_arguments_as_optional_dict, inspect_callable_arguments\n",
    "from pyphocorehelpers.function_helpers import compose_functions\n",
    "from pyphocorehelpers.indexing_helpers import partition, build_spanning_bins, compute_spanning_bins, compute_position_grid_size, compute_paginated_grid_config\n",
    "from pyphocorehelpers.print_helpers import PrettyPrintable, WrappingMessagePrinter\n",
    "from pyphocorehelpers.geometry_helpers import compute_data_extent, compute_data_aspect_ratio, corner_points_from_extents\n",
    "from pyphocorehelpers.DataStructure.dynamic_parameters import DynamicParameters\n",
    "from pyphocorehelpers.performance_timing_helpers import WrappingPerformanceTimer\n",
    "from pyphocorehelpers.gui.interaction_helpers import CallbackWrapper\n",
    "\n",
    "# pyPhoPlaceCellAnalysis:\n",
    "from pyphoplacecellanalysis.General.Pipeline.NeuropyPipeline import NeuropyPipeline # get_neuron_identities\n",
    "from pyphoplacecellanalysis.General.SessionSelectionAndFiltering import batch_filter_session, build_custom_epochs_filters\n",
    "from pyphoplacecellanalysis.General.KnownDataSessionTypeProperties import KnownDataSessionTypeProperties\n",
    "from pyphoplacecellanalysis.General.Pipeline.Stages.Display import DefaultDisplayFunctions\n",
    "from pyphoplacecellanalysis.General.Pipeline.Stages.DisplayFunctions.Ratemaps import DefaultRatemapDisplayFunctions\n",
    "from pyphoplacecellanalysis.General.Pipeline.Stages.DisplayFunctions.DecoderPredictionError import DefaultDecoderDisplayFunctions\n",
    "from pyphoplacecellanalysis.GUI.PyQtPlot.Widgets.Spike3DRaster import Spike3DRaster\n",
    "\n",
    "from pyphoplacecellanalysis.GUI.PyQtPlot.pyqtplot_RasterPlot import plot_raster_plot, _display_pyqtgraph_raster_plot\n",
    "\n",
    "# NeuroPy (Diba Lab Python Repo) Loading\n",
    "try:\n",
    "    from neuropy import core\n",
    "\n",
    "    importlib.reload(core)\n",
    "except ImportError:\n",
    "    sys.path.append(r\"C:\\Users\\Pho\\repos\\NeuroPy\")  # Windows\n",
    "    # sys.path.append('/home/pho/repo/BapunAnalysis2021/NeuroPy') # Linux\n",
    "    # sys.path.append(r'/Users/pho/repo/Python Projects/NeuroPy') # MacOS\n",
    "    print(\"neuropy module not found, adding directory to sys.path. \\n >> Updated sys.path.\")\n",
    "    from neuropy import core\n",
    "\n",
    "# Neuropy:\n",
    "from neuropy.core.session.data_session_loader import DataSessionLoader\n",
    "from neuropy.core.session.dataSession import DataSession\n",
    "from neuropy.core.laps import Laps\n",
    "from neuropy.analyses.placefields import PlacefieldComputationParameters, perform_compute_placefields\n",
    "from neuropy.analyses.laps import estimation_session_laps\n",
    "from neuropy.core.epoch import NamedTimerange\n",
    "\n",
    "from neuropy.analyses.placefields import PlacefieldComputationParameters, perform_compute_placefields\n",
    "from neuropy.core.neuron_identities import NeuronIdentity, build_units_colormap, PlotStringBrevityModeEnum\n",
    "from neuropy.utils.debug_helpers import debug_print_placefield, debug_print_spike_counts, debug_print_subsession_neuron_differences\n",
    "from neuropy.plotting.ratemaps import enumTuningMap2DPlotVariables\n",
    "# from neuropy.utils.mixins.time_slicing import verify_non_overlapping, add_PBE_identity\n",
    "from neuropy.utils.efficient_interval_search import get_non_overlapping_epochs, drop_overlapping\n",
    "\n",
    "known_data_session_type_dict = {'kdiba':KnownDataSessionTypeProperties(load_function=(lambda a_base_dir: DataSessionLoader.kdiba_old_format_session(a_base_dir)),\n",
    "                               basedir=Path(r'R:\\data\\KDIBA\\gor01\\one\\2006-6-07_11-26-53')),\n",
    "                'bapun':KnownDataSessionTypeProperties(load_function=(lambda a_base_dir: DataSessionLoader.bapun_data_session(a_base_dir)),\n",
    "                               basedir=Path('R:\\data\\Bapun\\Day5TwoNovel'))\n",
    "               }\n",
    "known_data_session_type_dict['kdiba'].post_load_functions = [lambda a_loaded_sess: estimation_session_laps(a_loaded_sess)]\n",
    "\n",
    "# known_data_session_type_dict['kdiba'].name\n",
    "# from matplotlib.figure import Figure\n",
    "# import matplotlib.pyplot as plt\n",
    "# %matplotlib qt\n",
    "# from matplotlib.transforms import IdentityTransform\n",
    "\n",
    "enable_saving_to_disk = False\n",
    "# common_parent_foldername = Path(r'R:\\Dropbox (Personal)\\Active\\Kamran Diba Lib\\Pho-Kamran-Meetings\\Final Placemaps 2021-01-14')\n",
    "common_parent_foldername = Path(r'R:\\Dropbox (Personal)\\Active\\Kamran Diba Lib\\Pho-Kamran-Meetings\\2022-01-16')\n",
    "\n",
    "def compute_position_grid_bin_size(x, y, num_bins=(64,64), debug_print=False):\n",
    "    \"\"\" Compute Required Bin size given a desired number of bins in each dimension\n",
    "    Usage:\n",
    "        active_grid_bin = compute_position_grid_bin_size(curr_kdiba_pipeline.sess.position.x, curr_kdiba_pipeline.sess.position.y, num_bins=(64, 64)\n",
    "    \"\"\"\n",
    "    out_grid_bin_size, out_bins, out_bins_infos = compute_position_grid_size(x, y, num_bins=num_bins)\n",
    "    active_grid_bin = tuple(out_grid_bin_size)\n",
    "    if debug_print:\n",
    "        print(f'active_grid_bin: {active_grid_bin}') # (3.776841861770752, 1.043326930905373)\n",
    "    return active_grid_bin\n",
    "\n",
    "# WARNING! TODO: Changing the smooth values from (1.5, 1.5) to (0.5, 0.5) was the difference between successful running and a syntax error!\n",
    "# try:\n",
    "#     active_grid_bin\n",
    "# except NameError as e:\n",
    "#     print('setting active_grid_bin = None')\n",
    "#     active_grid_bin = None\n",
    "# finally:\n",
    "#     # active_session_computation_config = PlacefieldComputationParameters(speed_thresh=10.0, grid_bin=active_grid_bin, smooth=(1.0, 1.0), frate_thresh=0.2, time_bin_size=0.5) # if active_grid_bin is missing, figure out the name\n",
    "#     active_session_computation_config = PlacefieldComputationParameters(speed_thresh=10.0, grid_bin=active_grid_bin, smooth=(1.0, 1.0), frate_thresh=0.2, time_bin_size=0.5) # if active_grid_bin is missing, figure out the name\n",
    "\n",
    "## Dynamic mode:\n",
    "def _build_active_computation_configs(sess):\n",
    "    \"\"\" _get_computation_configs(curr_kdiba_pipeline.sess)\n",
    "        # From Diba:\n",
    "        # (3.777, 1.043) # for (64, 64) bins\n",
    "        # (1.874, 0.518) # for (128, 128) bins\n",
    "\n",
    "    \"\"\"\n",
    "    # active_grid_bin = compute_position_grid_bin_size(sess.position.x, sess.position.y, num_bins=(64, 64))\n",
    "    # active_session_computation_config.computation_epochs = None # set the placefield computation epochs to None, using all epochs.\n",
    "    # return [PlacefieldComputationParameters(speed_thresh=10.0, grid_bin=compute_position_grid_bin_size(sess.position.x, sess.position.y, num_bins=(64, 64)), smooth=(1.0, 1.0), frate_thresh=0.2, time_bin_size=0.5, computation_epochs = None)]\n",
    "    # return [PlacefieldComputationParameters(speed_thresh=10.0, grid_bin=compute_position_grid_bin_size(sess.position.x, sess.position.y, num_bins=(128, 128)), smooth=(2.0, 2.0), frate_thresh=0.2, time_bin_size=0.5, computation_epochs = None)]\n",
    "    return [PlacefieldComputationParameters(speed_thresh=10.0, grid_bin=compute_position_grid_bin_size(sess.position.x, sess.position.y, num_bins=(64, 64)), smooth=(2.0, 2.0), frate_thresh=0.2, time_bin_size=1.0, computation_epochs = None)]\n",
    "    # return [PlacefieldComputationParameters(speed_thresh=10.0, grid_bin=(3.777, 1.043), smooth=(1.0, 1.0), frate_thresh=0.2, time_bin_size=0.5, computation_epochs = None)]\n",
    "\n",
    "    # return [PlacefieldComputationParameters(speed_thresh=10.0, grid_bin=compute_position_grid_bin_size(sess.position.x, sess.position.y, num_bins=(32, 32)), smooth=(1.0, 1.0), frate_thresh=0.2, time_bin_size=0.5, computation_epochs = None),\n",
    "    #         PlacefieldComputationParameters(speed_thresh=10.0, grid_bin=compute_position_grid_bin_size(sess.position.x, sess.position.y, num_bins=(64, 64)), smooth=(1.0, 1.0), frate_thresh=0.2, time_bin_size=0.5, computation_epochs = None),\n",
    "    #         PlacefieldComputationParameters(speed_thresh=10.0, grid_bin=compute_position_grid_bin_size(sess.position.x, sess.position.y, num_bins=(128, 128)), smooth=(1.0, 1.0), frate_thresh=0.2, time_bin_size=0.5, computation_epochs = None),\n",
    "    #        ]\n",
    "\n"
   ]
  },
  {
   "cell_type": "markdown",
   "id": "a4940269-23e4-46dc-a4ae-61d512ac5e41",
   "metadata": {
    "tags": []
   },
   "source": [
    "## KDiba Format:"
   ]
  },
  {
   "cell_type": "code",
   "execution_count": 2,
   "id": "d7f592c5-e219-47fd-aa52-da10c4cc7c19",
   "metadata": {
    "scrolled": true,
    "tags": []
   },
   "outputs": [
    {
     "name": "stdout",
     "output_type": "stream",
     "text": [
      "basedir is already Path object.\n",
      "\t basepath: R:\\data\\KDIBA\\gor01\\one\\2006-6-07_11-26-53\n",
      "\t session_name: 2006-6-07_11-26-53\n",
      "Loading matlab import file results to R:\\data\\KDIBA\\gor01\\one\\2006-6-07_11-26-53\\2006-6-07_11-26-53.epochs_info.mat... done.\n",
      "Loading matlab import file results to R:\\data\\KDIBA\\gor01\\one\\2006-6-07_11-26-53\\2006-6-07_11-26-53.position_info.mat... done.\n",
      "Loading matlab import file results to R:\\data\\KDIBA\\gor01\\one\\2006-6-07_11-26-53\\2006-6-07_11-26-53.spikes.mat... done.\n",
      "Failure loading .position.npy. Must recompute.\n",
      "\n",
      "Computing linear positions for all active epochs for session... Saving updated position results results to R:\\data\\KDIBA\\gor01\\one\\2006-6-07_11-26-53\\2006-6-07_11-26-53.position.npy... 2006-6-07_11-26-53.position.npy saved\n",
      "done.\n",
      "\t Failure loading .interpolated_spike_positions.npy. Must recompute.\n",
      "\n",
      "\t Saving updated interpolated spike position results results to R:\\data\\KDIBA\\gor01\\one\\2006-6-07_11-26-53\\2006-6-07_11-26-53.interpolated_spike_positions.npy... 2006-6-07_11-26-53.interpolated_spike_positions.npy saved\n",
      "done.\n",
      "Loading matlab import file results to R:\\data\\KDIBA\\gor01\\one\\2006-6-07_11-26-53\\2006-6-07_11-26-53.laps_info.mat... done.\n",
      "setting laps object.\n",
      "session.laps loaded successfully!\n",
      "Loading success: .ripple.npy.\n",
      "Loading success: .mua.npy.\n",
      "Loading success: .pbe.npy.\n",
      "Computing added spike scISI column results to filepath?... done.\n",
      "desc_crossings_x: (24,), asc_crossings_x: (24,)\n"
     ]
    },
    {
     "name": "stderr",
     "output_type": "stream",
     "text": [
      "c:\\users\\pho\\repos\\neuropy\\neuropy\\core\\laps.py:65: SettingWithCopyWarning: \n",
      "A value is trying to be set on a copy of a slice from a DataFrame.\n",
      "Try using .loc[row_indexer,col_indexer] = value instead\n",
      "\n",
      "See the caveats in the documentation: https://pandas.pydata.org/pandas-docs/stable/user_guide/indexing.html#returning-a-view-versus-a-copy\n",
      "  laps_df[['lap_id']] = laps_df[['lap_id']].astype('int')\n",
      "c:\\users\\pho\\repos\\neuropy\\neuropy\\core\\laps.py:69: SettingWithCopyWarning: \n",
      "A value is trying to be set on a copy of a slice from a DataFrame.\n",
      "Try using .loc[row_indexer,col_indexer] = value instead\n",
      "\n",
      "See the caveats in the documentation: https://pandas.pydata.org/pandas-docs/stable/user_guide/indexing.html#returning-a-view-versus-a-copy\n",
      "  laps_df[['start_spike_index', 'end_spike_index']] = laps_df[['start_spike_index', 'end_spike_index']].astype('int')\n",
      "c:\\users\\pho\\repos\\neuropy\\neuropy\\core\\laps.py:70: SettingWithCopyWarning: \n",
      "A value is trying to be set on a copy of a slice from a DataFrame.\n",
      "Try using .loc[row_indexer,col_indexer] = value instead\n",
      "\n",
      "See the caveats in the documentation: https://pandas.pydata.org/pandas-docs/stable/user_guide/indexing.html#returning-a-view-versus-a-copy\n",
      "  laps_df['num_spikes'] = laps_df['end_spike_index'] - laps_df['start_spike_index']\n",
      "c:\\users\\pho\\repos\\neuropy\\neuropy\\core\\laps.py:73: SettingWithCopyWarning: \n",
      "A value is trying to be set on a copy of a slice from a DataFrame.\n",
      "Try using .loc[row_indexer,col_indexer] = value instead\n",
      "\n",
      "See the caveats in the documentation: https://pandas.pydata.org/pandas-docs/stable/user_guide/indexing.html#returning-a-view-versus-a-copy\n",
      "  laps_df['lap_dir'] = laps_df['lap_dir'].astype('int')\n",
      "c:\\users\\pho\\repos\\neuropy\\neuropy\\core\\laps.py:81: SettingWithCopyWarning: \n",
      "A value is trying to be set on a copy of a slice from a DataFrame.\n",
      "Try using .loc[row_indexer,col_indexer] = value instead\n",
      "\n",
      "See the caveats in the documentation: https://pandas.pydata.org/pandas-docs/stable/user_guide/indexing.html#returning-a-view-versus-a-copy\n",
      "  laps_df['label'] = laps_df['lap_id'].astype('str') # add the string \"label\" column\n"
     ]
    },
    {
     "name": "stdout",
     "output_type": "stream",
     "text": [
      "Applying session filter named \"maze1\"...\n",
      "Constraining to units with type: pyramidal\n",
      "Constraining to epoch with times (start: 22.26, end: 1739.1533641185379)\n",
      "computing neurons mua for session...\n",
      "\n"
     ]
    },
    {
     "name": "stderr",
     "output_type": "stream",
     "text": [
      "c:\\users\\pho\\repos\\neuropy\\neuropy\\core\\laps.py:65: SettingWithCopyWarning: \n",
      "A value is trying to be set on a copy of a slice from a DataFrame.\n",
      "Try using .loc[row_indexer,col_indexer] = value instead\n",
      "\n",
      "See the caveats in the documentation: https://pandas.pydata.org/pandas-docs/stable/user_guide/indexing.html#returning-a-view-versus-a-copy\n",
      "  laps_df[['lap_id']] = laps_df[['lap_id']].astype('int')\n",
      "c:\\users\\pho\\repos\\neuropy\\neuropy\\core\\laps.py:69: SettingWithCopyWarning: \n",
      "A value is trying to be set on a copy of a slice from a DataFrame.\n",
      "Try using .loc[row_indexer,col_indexer] = value instead\n",
      "\n",
      "See the caveats in the documentation: https://pandas.pydata.org/pandas-docs/stable/user_guide/indexing.html#returning-a-view-versus-a-copy\n",
      "  laps_df[['start_spike_index', 'end_spike_index']] = laps_df[['start_spike_index', 'end_spike_index']].astype('int')\n",
      "c:\\users\\pho\\repos\\neuropy\\neuropy\\core\\laps.py:70: SettingWithCopyWarning: \n",
      "A value is trying to be set on a copy of a slice from a DataFrame.\n",
      "Try using .loc[row_indexer,col_indexer] = value instead\n",
      "\n",
      "See the caveats in the documentation: https://pandas.pydata.org/pandas-docs/stable/user_guide/indexing.html#returning-a-view-versus-a-copy\n",
      "  laps_df['num_spikes'] = laps_df['end_spike_index'] - laps_df['start_spike_index']\n",
      "c:\\users\\pho\\repos\\neuropy\\neuropy\\core\\laps.py:73: SettingWithCopyWarning: \n",
      "A value is trying to be set on a copy of a slice from a DataFrame.\n",
      "Try using .loc[row_indexer,col_indexer] = value instead\n",
      "\n",
      "See the caveats in the documentation: https://pandas.pydata.org/pandas-docs/stable/user_guide/indexing.html#returning-a-view-versus-a-copy\n",
      "  laps_df['lap_dir'] = laps_df['lap_dir'].astype('int')\n",
      "c:\\users\\pho\\repos\\neuropy\\neuropy\\core\\laps.py:81: SettingWithCopyWarning: \n",
      "A value is trying to be set on a copy of a slice from a DataFrame.\n",
      "Try using .loc[row_indexer,col_indexer] = value instead\n",
      "\n",
      "See the caveats in the documentation: https://pandas.pydata.org/pandas-docs/stable/user_guide/indexing.html#returning-a-view-versus-a-copy\n",
      "  laps_df['label'] = laps_df['lap_id'].astype('str') # add the string \"label\" column\n"
     ]
    },
    {
     "name": "stdout",
     "output_type": "stream",
     "text": [
      "Applying session filter named \"maze2\"...\n",
      "Constraining to units with type: pyramidal\n",
      "Constraining to epoch with times (start: 1739.1533641185379, end: 1932.4200048116618)\n",
      "computing neurons mua for session...\n",
      "\n",
      "Applying session filter named \"maze\"...\n",
      "Constraining to units with type: pyramidal\n"
     ]
    },
    {
     "name": "stderr",
     "output_type": "stream",
     "text": [
      "c:\\users\\pho\\repos\\neuropy\\neuropy\\core\\laps.py:65: SettingWithCopyWarning: \n",
      "A value is trying to be set on a copy of a slice from a DataFrame.\n",
      "Try using .loc[row_indexer,col_indexer] = value instead\n",
      "\n",
      "See the caveats in the documentation: https://pandas.pydata.org/pandas-docs/stable/user_guide/indexing.html#returning-a-view-versus-a-copy\n",
      "  laps_df[['lap_id']] = laps_df[['lap_id']].astype('int')\n",
      "c:\\users\\pho\\repos\\neuropy\\neuropy\\core\\laps.py:69: SettingWithCopyWarning: \n",
      "A value is trying to be set on a copy of a slice from a DataFrame.\n",
      "Try using .loc[row_indexer,col_indexer] = value instead\n",
      "\n",
      "See the caveats in the documentation: https://pandas.pydata.org/pandas-docs/stable/user_guide/indexing.html#returning-a-view-versus-a-copy\n",
      "  laps_df[['start_spike_index', 'end_spike_index']] = laps_df[['start_spike_index', 'end_spike_index']].astype('int')\n",
      "c:\\users\\pho\\repos\\neuropy\\neuropy\\core\\laps.py:70: SettingWithCopyWarning: \n",
      "A value is trying to be set on a copy of a slice from a DataFrame.\n",
      "Try using .loc[row_indexer,col_indexer] = value instead\n",
      "\n",
      "See the caveats in the documentation: https://pandas.pydata.org/pandas-docs/stable/user_guide/indexing.html#returning-a-view-versus-a-copy\n",
      "  laps_df['num_spikes'] = laps_df['end_spike_index'] - laps_df['start_spike_index']\n",
      "c:\\users\\pho\\repos\\neuropy\\neuropy\\core\\laps.py:73: SettingWithCopyWarning: \n",
      "A value is trying to be set on a copy of a slice from a DataFrame.\n",
      "Try using .loc[row_indexer,col_indexer] = value instead\n",
      "\n",
      "See the caveats in the documentation: https://pandas.pydata.org/pandas-docs/stable/user_guide/indexing.html#returning-a-view-versus-a-copy\n",
      "  laps_df['lap_dir'] = laps_df['lap_dir'].astype('int')\n",
      "c:\\users\\pho\\repos\\neuropy\\neuropy\\core\\laps.py:81: SettingWithCopyWarning: \n",
      "A value is trying to be set on a copy of a slice from a DataFrame.\n",
      "Try using .loc[row_indexer,col_indexer] = value instead\n",
      "\n",
      "See the caveats in the documentation: https://pandas.pydata.org/pandas-docs/stable/user_guide/indexing.html#returning-a-view-versus-a-copy\n",
      "  laps_df['label'] = laps_df['lap_id'].astype('str') # add the string \"label\" column\n"
     ]
    },
    {
     "name": "stdout",
     "output_type": "stream",
     "text": [
      "Constraining to epoch with times (start: 22.26, end: 1932.4200048116618)\n",
      "computing neurons mua for session...\n",
      "\n"
     ]
    },
    {
     "name": "stderr",
     "output_type": "stream",
     "text": [
      "c:\\users\\pho\\repos\\neuropy\\neuropy\\core\\laps.py:65: SettingWithCopyWarning: \n",
      "A value is trying to be set on a copy of a slice from a DataFrame.\n",
      "Try using .loc[row_indexer,col_indexer] = value instead\n",
      "\n",
      "See the caveats in the documentation: https://pandas.pydata.org/pandas-docs/stable/user_guide/indexing.html#returning-a-view-versus-a-copy\n",
      "  laps_df[['lap_id']] = laps_df[['lap_id']].astype('int')\n",
      "c:\\users\\pho\\repos\\neuropy\\neuropy\\core\\laps.py:69: SettingWithCopyWarning: \n",
      "A value is trying to be set on a copy of a slice from a DataFrame.\n",
      "Try using .loc[row_indexer,col_indexer] = value instead\n",
      "\n",
      "See the caveats in the documentation: https://pandas.pydata.org/pandas-docs/stable/user_guide/indexing.html#returning-a-view-versus-a-copy\n",
      "  laps_df[['start_spike_index', 'end_spike_index']] = laps_df[['start_spike_index', 'end_spike_index']].astype('int')\n",
      "c:\\users\\pho\\repos\\neuropy\\neuropy\\core\\laps.py:70: SettingWithCopyWarning: \n",
      "A value is trying to be set on a copy of a slice from a DataFrame.\n",
      "Try using .loc[row_indexer,col_indexer] = value instead\n",
      "\n",
      "See the caveats in the documentation: https://pandas.pydata.org/pandas-docs/stable/user_guide/indexing.html#returning-a-view-versus-a-copy\n",
      "  laps_df['num_spikes'] = laps_df['end_spike_index'] - laps_df['start_spike_index']\n",
      "c:\\users\\pho\\repos\\neuropy\\neuropy\\core\\laps.py:73: SettingWithCopyWarning: \n",
      "A value is trying to be set on a copy of a slice from a DataFrame.\n",
      "Try using .loc[row_indexer,col_indexer] = value instead\n",
      "\n",
      "See the caveats in the documentation: https://pandas.pydata.org/pandas-docs/stable/user_guide/indexing.html#returning-a-view-versus-a-copy\n",
      "  laps_df['lap_dir'] = laps_df['lap_dir'].astype('int')\n",
      "c:\\users\\pho\\repos\\neuropy\\neuropy\\core\\laps.py:81: SettingWithCopyWarning: \n",
      "A value is trying to be set on a copy of a slice from a DataFrame.\n",
      "Try using .loc[row_indexer,col_indexer] = value instead\n",
      "\n",
      "See the caveats in the documentation: https://pandas.pydata.org/pandas-docs/stable/user_guide/indexing.html#returning-a-view-versus-a-copy\n",
      "  laps_df['label'] = laps_df['lap_id'].astype('str') # add the string \"label\" column\n"
     ]
    },
    {
     "name": "stdout",
     "output_type": "stream",
     "text": [
      "Performing single_computation on filtered_session with filter named \"maze1\"...\n",
      "Recomputing active_epoch_placefields... pre speed filtering: 20202 spikes.\n",
      "post speed filtering: 13268 spikes.\n",
      "\t done.\n",
      "Recomputing active_epoch_placefields2D... pre speed filtering: 20202 spikes.\n",
      "post speed filtering: 13529 spikes.\n",
      "\t done.\n",
      "Performing perform_registered_computations(...) with 6 registered_computation_functions...\n"
     ]
    },
    {
     "name": "stderr",
     "output_type": "stream",
     "text": [
      "c:\\users\\pho\\repos\\pyphoplacecellanalysis\\src\\pyphoplacecellanalysis\\Analysis\\reconstruction.py:217: RuntimeWarning: divide by zero encountered in true_divide\n",
      "  return C * np.exp(numerator/denominator)\n"
     ]
    },
    {
     "name": "stdout",
     "output_type": "stream",
     "text": [
      "Performing single_computation on filtered_session with filter named \"maze2\"...\n",
      "Recomputing active_epoch_placefields... pre speed filtering: 545 spikes.\n",
      "post speed filtering: 314 spikes.\n",
      "\t done.\n",
      "Recomputing active_epoch_placefields2D... pre speed filtering: 545 spikes.\n",
      "post speed filtering: 329 spikes.\n",
      "\t done.\n",
      "Performing perform_registered_computations(...) with 6 registered_computation_functions...\n",
      "Performing single_computation on filtered_session with filter named \"maze\"...\n",
      "Recomputing active_epoch_placefields... pre speed filtering: 20747 spikes.\n",
      "post speed filtering: 13582 spikes.\n"
     ]
    },
    {
     "name": "stderr",
     "output_type": "stream",
     "text": [
      "c:\\users\\pho\\repos\\pyphoplacecellanalysis\\src\\pyphoplacecellanalysis\\Analysis\\reconstruction.py:177: RuntimeWarning: divide by zero encountered in double_scalars\n",
      "  C_tau_n = 1.0 / np.sum(un_normalized_result) # normalize the result\n",
      "c:\\users\\pho\\repos\\pyphoplacecellanalysis\\src\\pyphoplacecellanalysis\\Analysis\\reconstruction.py:178: RuntimeWarning: invalid value encountered in multiply\n",
      "  result = C_tau_n * un_normalized_result\n",
      "c:\\users\\pho\\repos\\pyphoplacecellanalysis\\src\\pyphoplacecellanalysis\\Analysis\\reconstruction.py:217: RuntimeWarning: divide by zero encountered in true_divide\n",
      "  return C * np.exp(numerator/denominator)\n"
     ]
    },
    {
     "name": "stdout",
     "output_type": "stream",
     "text": [
      "\t done.\n",
      "Recomputing active_epoch_placefields2D... pre speed filtering: 20747 spikes.\n",
      "post speed filtering: 13858 spikes.\n",
      "\t done.\n",
      "Performing perform_registered_computations(...) with 6 registered_computation_functions...\n"
     ]
    },
    {
     "name": "stderr",
     "output_type": "stream",
     "text": [
      "c:\\users\\pho\\repos\\pyphoplacecellanalysis\\src\\pyphoplacecellanalysis\\Analysis\\reconstruction.py:217: RuntimeWarning: divide by zero encountered in true_divide\n",
      "  return C * np.exp(numerator/denominator)\n"
     ]
    }
   ],
   "source": [
    "## Data must be pre-processed using the MATLAB script located here: \n",
    "# R:\\data\\KDIBA\\gor01\\one\\IIDataMat_Export_ToPython_2021_11_23.m\n",
    "# From pre-computed .mat files:\n",
    "## 07: \n",
    "# basedir = r'R:\\data\\KDIBA\\gor01\\one\\2006-6-07_11-26-53'\n",
    "# # ## 08:\n",
    "# basedir = r'R:\\data\\KDIBA\\gor01\\one\\2006-6-08_14-26-15'\n",
    "# curr_kdiba_pipeline = NeuropyPipeline(name='kdiba_pipeline', session_data_type='kdiba', basedir=known_data_session_type_dict['kdiba'].basedir, load_function=known_data_session_type_dict['kdiba'].load_function)\n",
    "curr_kdiba_pipeline = NeuropyPipeline.init_from_known_data_session_type('kdiba', known_data_session_type_dict['kdiba'])\n",
    "# active_grid_bin = compute_position_grid_bin_size(curr_kdiba_pipeline.sess.position.x, curr_kdiba_pipeline.sess.position.y, num_bins=(64, 64))\n",
    "# active_session_computation_config.grid_bin = active_grid_bin\n",
    "active_session_computation_configs = _build_active_computation_configs(curr_kdiba_pipeline.sess)\n",
    "\n",
    "def build_pyramidal_epochs_filters(sess):\n",
    "    sess.epochs.t_start = 22.26 # exclude the first short period where the animal isn't on the maze yet\n",
    "    active_session_filter_configurations = {'maze1': lambda x: (x.filtered_by_neuron_type('pyramidal').filtered_by_epoch(x.epochs.get_named_timerange('maze1')), x.epochs.get_named_timerange('maze1')),\n",
    "                                        'maze2': lambda x: (x.filtered_by_neuron_type('pyramidal').filtered_by_epoch(x.epochs.get_named_timerange('maze2')), x.epochs.get_named_timerange('maze2')),\n",
    "                                        'maze': lambda x: (x.filtered_by_neuron_type('pyramidal').filtered_by_epoch(NamedTimerange(name='maze', start_end_times=[x.epochs['maze1'][0], x.epochs['maze2'][1]])), NamedTimerange(name='maze', start_end_times=[x.epochs['maze1'][0], x.epochs['maze2'][1]]))\n",
    "                                       }\n",
    "    return active_session_filter_configurations\n",
    "\n",
    "active_session_filter_configurations = build_pyramidal_epochs_filters(curr_kdiba_pipeline.sess)\n",
    "\n",
    "is_non_overlapping_lap = get_non_overlapping_epochs(curr_kdiba_pipeline.sess.laps.to_dataframe()[['start','stop']].to_numpy())\n",
    "only_good_laps_df = curr_kdiba_pipeline.sess.laps.to_dataframe()[is_non_overlapping_lap]\n",
    "curr_kdiba_pipeline.sess.laps = Laps(only_good_laps_df) # replace the laps object with the filtered one\n",
    "\n",
    "lap_specific_epochs = curr_kdiba_pipeline.sess.laps.as_epoch_obj()\n",
    "any_lap_specific_epochs = lap_specific_epochs.label_slice(lap_specific_epochs.labels[np.arange(len(curr_kdiba_pipeline.sess.laps.lap_id))])\n",
    "even_lap_specific_epochs = lap_specific_epochs.label_slice(lap_specific_epochs.labels[np.arange(0, len(curr_kdiba_pipeline.sess.laps.lap_id), 2)])\n",
    "odd_lap_specific_epochs = lap_specific_epochs.label_slice(lap_specific_epochs.labels[np.arange(1, len(curr_kdiba_pipeline.sess.laps.lap_id), 2)])\n",
    "\n",
    "# Copy the active session_computation_config:\n",
    "for i in np.arange(len(active_session_computation_configs)):\n",
    "    active_session_computation_configs[i].computation_epochs = any_lap_specific_epochs # add the laps epochs to all of the computation configs.\n",
    "\n",
    "curr_kdiba_pipeline.filter_sessions(active_session_filter_configurations)\n",
    "curr_kdiba_pipeline.perform_computations(active_session_computation_configs[0]) # Causes \"IndexError: index 59 is out of bounds for axis 0 with size 59\"\n",
    "curr_kdiba_pipeline.prepare_for_display() # TODO: pass a display config\n",
    "# set curr_active_pipeline for testing:\n",
    "curr_active_pipeline = curr_kdiba_pipeline"
   ]
  },
  {
   "cell_type": "code",
   "execution_count": 3,
   "id": "5893f855-bb6d-4bc2-95f6-170887cd301c",
   "metadata": {
    "pycharm": {
     "is_executing": false,
     "name": "#%%\n"
    }
   },
   "outputs": [],
   "source": [
    "## Testing burst detection\n",
    "from neurodsp.burst import detect_bursts_dual_threshold, compute_burst_stats\n",
    "from neurodsp.plts.time_series import plot_time_series, plot_bursts # for plotting results\n",
    "\n",
    "# curr_active_pipeline.sess.spikes_df.spikes.neuron_ids\n",
    "\n",
    "# grouped = curr_active_pipeline.sess.spikes_df.groupby('aclu')\n",
    "\n",
    "# neuron_split_spike_dfs = [spk_df.groupby('aclu').get_group(neuron_id)[['t','x','y','lin_pos']] for neuron_id in active_epoch_session.neuron_ids] # dataframes split for each ID:\n",
    "# neuron_split_spike_dfs = curr_active_pipeline.sess.spikes_df.spikes.get_split_by_unit()\n",
    "\n",
    "# grouped['t_rel_seconds'].diff()\n",
    "\n",
    "# .diff()\n",
    "# curr_active_pipeline.sess.spikes_df"
   ]
  },
  {
   "cell_type": "code",
   "execution_count": 4,
   "id": "504038b8-2566-4366-bdaa-32311f0b8d23",
   "metadata": {
    "pycharm": {
     "is_executing": false,
     "name": "#%%\n"
    }
   },
   "outputs": [],
   "source": [
    "## 2D Spike Train Visualization\n",
    "# import pyqtgraph.opengl as gl # for 3D raster plot\n",
    "from pyphoplacecellanalysis.GUI.PyQtPlot.Widgets.SpikeRasterBase import SpikeRasterBase\n",
    "from pyphoplacecellanalysis.GUI.PyQtPlot.Widgets.Spike2DRaster import Spike2DRaster\n",
    "from pyphoplacecellanalysis.GUI.PyQtPlot.Widgets.Spike3DRaster import Spike3DRaster\n",
    "\n",
    "curr_epoch_name = 'maze1'\n",
    "curr_epoch = curr_active_pipeline.filtered_epochs[curr_epoch_name] # <NamedTimerange: {'name': 'maze1', 'start_end_times': array([  22.26      , 1739.15336412])};>\n",
    "curr_sess = curr_active_pipeline.filtered_sessions[curr_epoch_name]\n",
    "curr_spikes_df = curr_sess.spikes_df\n",
    "curr_computations_results = curr_active_pipeline.computation_results[curr_epoch_name]"
   ]
  },
  {
   "cell_type": "code",
   "execution_count": null,
   "id": "8f19e237-89ec-4dd0-9f0a-5f74fedfec1a",
   "metadata": {
    "pycharm": {
     "is_executing": false,
     "name": "#%%\n"
    }
   },
   "outputs": [],
   "source": [
    "# pp = pprint.PrettyPrinter(depth=4)\n",
    "# pp.pprint(curr_computations_results.computed_data)\n",
    "# print(yaml.dump(curr_computations_results.computed_data, default_flow_style=False))\n",
    "# print(json.dumps(curr_computations_results.computed_data, indent=2, default=str))\n",
    "\n"
   ]
  },
  {
   "cell_type": "code",
   "execution_count": null,
   "id": "0fa72432-dcb6-4502-b90d-aa46d6aa1748",
   "metadata": {
    "pycharm": {
     "is_executing": false,
     "name": "#%%\n"
    }
   },
   "outputs": [],
   "source": [
    "# curr_computations_results.computed_data.keys()\n",
    "\n",
    "# from pyphoplacecellanalysis.GUI.PyQtPlot.pyqtplot_DataTreeWidget import plot_dataTreeWidget\n",
    "\n",
    "# tree, app = plot_dataTreeWidget(data=curr_computations_results.computed_data, title='PhoOutputDataTreeApp')  \n",
    "# # curr_computations_results.computed_data.keys()\n",
    "\n",
    "# # tree = pg.DataTreeWidget(data=curr_computations_results.computed_data)\n",
    "# tree.show()\n",
    "# pg.exec()"
   ]
  },
  {
   "cell_type": "markdown",
   "id": "44937ee8-7ba2-45d7-be51-e8da52de41c9",
   "metadata": {
    "pycharm": {
     "is_executing": false,
     "name": "#%%\n"
    }
   },
   "source": [
    "# Independent 2D Raster Plotkeys"
   ]
  },
  {
   "cell_type": "code",
   "execution_count": null,
   "id": "564c9937-36a2-4387-8622-c33257aaafb2",
   "metadata": {
    "pycharm": {
     "is_executing": false,
     "name": "#%%\n"
    }
   },
   "outputs": [],
   "source": [
    "spike_raster_plt_2d = Spike2DRaster(curr_spikes_df, window_duration=15.0 * 60.0, window_start_time=30.0, neuron_colors=None)"
   ]
  },
  {
   "cell_type": "markdown",
   "id": "0dd8c16b-4ace-4034-a4a9-b65bcd102b6c",
   "metadata": {
    "pycharm": {
     "is_executing": false,
     "name": "#%%\n"
    },
    "tags": []
   },
   "source": [
    "# Independent 3D Raster Plot"
   ]
  },
  {
   "cell_type": "code",
   "execution_count": null,
   "id": "5f2c756c-9ef8-4d88-be9a-07caf2821988",
   "metadata": {
    "pycharm": {
     "is_executing": false,
     "name": "#%%\n"
    }
   },
   "outputs": [],
   "source": [
    "spike_raster_plt_3d = Spike3DRaster(curr_spikes_df, window_duration=15.0, window_start_time=30.0, neuron_colors=None)"
   ]
  },
  {
   "cell_type": "code",
   "execution_count": null,
   "id": "ea3f3b34-c7eb-47ca-8e95-852b317453f6",
   "metadata": {
    "pycharm": {
     "is_executing": false,
     "name": "#%%\n"
    }
   },
   "outputs": [],
   "source": [
    "spike_raster_plt_3d.add_render_epochs(curr_sess.pbe.starts, curr_sess.pbe.durations, epoch_type_name='PBE')"
   ]
  },
  {
   "cell_type": "code",
   "execution_count": null,
   "id": "22490d26-5adc-4cc9-b26e-8d353b0fce13",
   "metadata": {
    "pycharm": {
     "is_executing": false,
     "name": "#%%\n"
    }
   },
   "outputs": [],
   "source": [
    "spike_raster_plt_3d.RenderTimeEpochMeshesMixin_on_update_window()"
   ]
  },
  {
   "cell_type": "markdown",
   "id": "cc91cd49-1970-4d6f-8885-73fdb029d8d4",
   "metadata": {
    "pycharm": {
     "is_executing": false,
     "name": "#%%\n"
    }
   },
   "source": [
    "# 3D Raster Plot Custom Controlled by 2D Raster Plot"
   ]
  },
  {
   "cell_type": "code",
   "execution_count": 6,
   "id": "375efc4f-8cb1-4d48-a1bc-e41b8f78feb9",
   "metadata": {
    "pycharm": {
     "is_executing": false,
     "name": "#%%\n"
    }
   },
   "outputs": [],
   "source": [
    "from pyqtgraph.Qt import QtCore, QtGui, QtWidgets\n",
    "def _move_widget_to_top_left_corner(widget, screen_index:int=0, debug_print:bool=False):\n",
    "    widget = widget.app.desktop()\n",
    "    assert screen_index <= (widget.screenCount()-1), f\"specified screen_index screen_index: {screen_index} is invalid. widget.screenCount(): {widget.screenCount()}\"\n",
    "    secondary_screen_rect = widget.screenGeometry(screen_index) # get screen geometry of secondary screen. PyQt5.QtCore.QRect(-3440, 0, 3440, 1440)\n",
    "    if debug_print:\n",
    "        print(f'secondary_screen_rect: {secondary_screen_rect}')\n",
    "        print(f'widget: {widget}')\n",
    "    # secondary_screen_rect.topLeft() # PyQt5.QtCore.QPoint(-3440, 0)\n",
    "    # Move to top-left corner of secondary screen:\n",
    "    widget.move(secondary_screen_rect.topLeft())\n",
    "    # spike_raster_plt_3d.move(-secondary_screen_rect.width(), secondary_screen_rect.y())\n",
    "    \n",
    "def _align_3d_and_2d_windows(spike_raster_plt_3d, spike_raster_plt_2d, debug_print=False):\n",
    "    \"\"\" align the two separate windows (for the 3D Raster Plot and the 2D Raster plot that controls it)\n",
    "        Usage:\n",
    "            _align_3d_and_2d_windows(spike_raster_plt_3d, spike_raster_plt_2d)\n",
    "    \"\"\"\n",
    "    # _move_widget_to_top_left_corner(spike_raster_plt_3d, screen_index=1, debug_print=debug_print) # move to secondary screen's top-left corner.\n",
    "    geom = spike_raster_plt_3d.window().geometry() # get the QTCore PyRect object\n",
    "    if debug_print:\n",
    "        print(f'geom.bottom: {geom.bottom()}') # geom.bottom: 941\n",
    "    x,y,dx,dy = geom.getRect()\n",
    "    if debug_print:\n",
    "        print(f'geom: {geom}') # geom: PyQt5.QtCore.QRect(-3354, 176, 1920, 900)\n",
    "    # after moving window down on screen: geom: PyQt5.QtCore.QRect(-3362, 478, 1920, 900)\n",
    "    # THEREFORE larger y values are down\n",
    "    desired_2d_window_y = y + dy # place directly below 3D window\n",
    "    # desired_2d_window_y = y\n",
    "    if debug_print:\n",
    "        print(f'y: {y}, dy: {dy}, desired_2d_window_y: {desired_2d_window_y}')\n",
    "    spike_raster_plt_2d.window().setGeometry(x, desired_2d_window_y, dx, dy*0.5)"
   ]
  },
  {
   "cell_type": "code",
   "execution_count": 7,
   "id": "928abb97-8ffb-43f0-b75d-66d2b7b01535",
   "metadata": {
    "pycharm": {
     "is_executing": false,
     "name": "#%%\n"
    }
   },
   "outputs": [
    {
     "name": "stdout",
     "output_type": "stream",
     "text": [
      "Spike2DRaster.setup(): adding \"visualization_raster_y_location\" column to spikes_df...\n",
      "done.\n"
     ]
    },
    {
     "name": "stderr",
     "output_type": "stream",
     "text": [
      "C:\\Users\\pho\\AppData\\Local\\Temp\\ipykernel_2200\\599548591.py:32: DeprecationWarning: an integer is required (got type float).  Implicit conversion to integers using __int__ is deprecated, and may be removed in a future version of Python.\n",
      "  spike_raster_plt_2d.window().setGeometry(x, desired_2d_window_y, dx, dy*0.5)\n"
     ]
    }
   ],
   "source": [
    "def build_spike_3d_raster_with_2d_controls(curr_spikes_df):\n",
    "    spike_raster_plt_3d = Spike3DRaster(curr_spikes_df, window_duration=15.0, window_start_time=30.0, neuron_colors=None)\n",
    "    # Connect the 2D window scrolled signal to the 3D plot's spikes_window.update_window_start_end function\n",
    "    spike_raster_plt_2d = Spike2DRaster(curr_spikes_df, window_duration=15.0, window_start_time=30.0, neuron_colors=None)\n",
    "    spike_3d_to_2d_window_connection = spike_raster_plt_2d.window_scrolled.connect(spike_raster_plt_3d.spikes_window.update_window_start_end)\n",
    "    spike_raster_plt_3d.disable_render_window_controls()\n",
    "    _align_3d_and_2d_windows(spike_raster_plt_3d, spike_raster_plt_2d) # Align the two windows\n",
    "    return spike_raster_plt_3d, spike_raster_plt_2d, spike_3d_to_2d_window_connection\n",
    "\n",
    "\n",
    "spike_raster_plt_3d, spike_raster_plt_2d, spike_3d_to_2d_window_connection = build_spike_3d_raster_with_2d_controls(curr_spikes_df)"
   ]
  },
  {
   "cell_type": "code",
   "execution_count": null,
   "id": "31e07462-268e-4b84-8189-06f20269efff",
   "metadata": {
    "pycharm": {
     "is_executing": false,
     "name": "#%%\n"
    }
   },
   "outputs": [],
   "source": [
    "_move_widget_to_top_left_corner(spike_raster_plt_3d, screen_index=1, debug_print=True)\n",
    "# _align_3d_and_2d_windows(spike_raster_plt_3d, spike_raster_plt_2d, debug_print=True) # Align the two windows    \n",
    "\n",
    "# tRectangle = self.frameGeometry()"
   ]
  },
  {
   "cell_type": "code",
   "execution_count": 8,
   "id": "0a16948c-9d71-478f-aca3-3d68d3771500",
   "metadata": {
    "pycharm": {
     "is_executing": false,
     "name": "#%%\n"
    }
   },
   "outputs": [],
   "source": [
    "spike_3d_animation_to_2d_scroll_ctrl_connection = spike_raster_plt_3d.animation_active_time_window.window_changed_signal.connect(spike_raster_plt_2d.update_scroll_window_region)\n",
    "# spike_raster_plt_3d.animationThread.update_signal.connect(spike_raster_plt_2d.update_scroll_window_region)"
   ]
  },
  {
   "cell_type": "code",
   "execution_count": null,
   "id": "0efd4bd2-6c4e-4945-ae7c-a4fd44fe167e",
   "metadata": {
    "pycharm": {
     "is_executing": false,
     "name": "#%%\n"
    }
   },
   "outputs": [],
   "source": [
    "desktopWidget = QtWidgets.QDesktopWidget()\n",
    "desktopRect = desktopWidget.availableGeometry() # PyQt5.QtCore.QRect(0, 0, 3570, 2120)\n",
    "# desktopRect.topLeft().x()\n",
    "# desktopRect.topLeft().y()\n",
    "currWindowRect = spike_raster_plt_3d.frameGeometry()\n",
    "print(f'currWindowRect: {currWindowRect}')\n",
    "# currWindowRect.moveCenter(centerPoint)\n",
    "currWindowRect.moveTopLeft(desktopRect.topLeft())\n",
    "spike_raster_plt_3d.move(currWindowRect.topLeft())\n",
    "\n",
    "\n",
    "spike_raster_plt_3d.move(currWindowRect.topLeft()) # currWindowRect: PyQt5.QtCore.QRect(0, 0, 1922, 932)\n",
    "\n",
    "# centerPoint = QtWidgets.QDesktopWidget().availableGeometry().center()\n",
    "# qtRectangle.moveCenter(centerPoint)\n",
    "# self.move(qtRectangle.topLeft())"
   ]
  },
  {
   "cell_type": "markdown",
   "id": "3dc329e3-1086-4cf2-81f3-4a77eef8d185",
   "metadata": {
    "pycharm": {
     "is_executing": false,
     "name": "#%%\n"
    }
   },
   "source": [
    "# Testing/Playground"
   ]
  },
  {
   "cell_type": "code",
   "execution_count": null,
   "id": "67485dfb-5cc6-41a1-aace-36c73152e9e9",
   "metadata": {
    "pycharm": {
     "is_executing": false,
     "name": "#%%\n"
    }
   },
   "outputs": [],
   "source": [
    "curr_sess.mua.t_start # 22.26\n",
    "curr_sess.mua.t_stop # 1739.153\n",
    "\n",
    "# curr_sess.mua.time\n",
    "# np.shape(curr_sess.mua.firing_rate) # (1716893,)\n",
    "# np.shape(curr_sess.mua.spike_counts) # (1716893,)\n",
    "\n",
    "smoothed_mua = curr_sess.mua.get_smoothed()\n",
    "smoothed_mua.to_dataframe()"
   ]
  },
  {
   "cell_type": "code",
   "execution_count": null,
   "id": "ca69a80a-ad21-4699-8142-5436c7a6822c",
   "metadata": {
    "pycharm": {
     "is_executing": false,
     "name": "#%%\n"
    }
   },
   "outputs": [],
   "source": [
    "# curr_sess.config\n",
    "curr_sess."
   ]
  },
  {
   "cell_type": "markdown",
   "id": "3c82e1db-8979-4c20-8b18-c1dabfe537ac",
   "metadata": {
    "pycharm": {
     "is_executing": false,
     "name": "#%%\n"
    }
   },
   "source": [
    "### Test adding the MUA firing rate curve to the 3D plot"
   ]
  },
  {
   "cell_type": "code",
   "execution_count": null,
   "id": "7d6a4c65-6cd9-4e02-bdb1-bae040b389e6",
   "metadata": {
    "pycharm": {
     "is_executing": false,
     "name": "#%%\n"
    }
   },
   "outputs": [],
   "source": [
    "linear_position_plot_data = curr_sess.position.to_dataframe()[['t', 'lin_pos']]\n",
    "spike_raster_plt_3d.add_3D_time_curves(linear_position_plot_data)\n",
    "\n",
    "# curr_sess.position.linear_pos\n"
   ]
  },
  {
   "cell_type": "code",
   "execution_count": null,
   "id": "0d4630d6-3cda-4af1-8cdd-f3a9eadb8f85",
   "metadata": {
    "pycharm": {
     "is_executing": false,
     "name": "#%%\n"
    }
   },
   "outputs": [],
   "source": [
    "# plot_data = pd.DataFrame({'t': curr_sess.mua.time, 'mua_firing_rate': curr_sess.mua.firing_rate, 'mua_spike_counts': curr_sess.mua.spike_counts})\n",
    "plot_data = pd.DataFrame({'t': curr_sess.mua.time, 'mua_firing_rate': curr_sess.mua.firing_rate})\n",
    "spike_raster_plt_3d.add_3D_time_curves(plot_data)\n",
    "\n",
    "\n",
    "\n",
    "\n",
    "# # get all non-time columns\n",
    "# data_column_names = np.setdiff1d(plot_data.columns, np.array(['t']))\n",
    "# data_column_names\n",
    "\n",
    "# plot_data[data_column_names]\n",
    "\n",
    "# plot_datasource = CurveDatasource(plot_data)"
   ]
  },
  {
   "cell_type": "code",
   "execution_count": null,
   "id": "3891375a-a09f-4a10-a690-8144c76a230e",
   "metadata": {
    "pycharm": {
     "is_executing": false,
     "name": "#%%\n"
    }
   },
   "outputs": [],
   "source": [
    "plot_UIDs = spike_raster_plt_3d.params.time_curves_datasource.datasource_UIDs # ['default_plot_datasource.mua_firing_rate']\n",
    "spike_raster_plt_3d.plots.time_curves[plot_UIDs[0]]"
   ]
  },
  {
   "cell_type": "code",
   "execution_count": null,
   "id": "4590043c-dbfe-460e-95ad-0c2c085fbaad",
   "metadata": {
    "pycharm": {
     "is_executing": false,
     "name": "#%%\n"
    }
   },
   "outputs": [],
   "source": [
    "spike_raster_plt_3d.detach_3d_time_curves_datasource()"
   ]
  },
  {
   "cell_type": "code",
   "execution_count": null,
   "id": "0de4a263-19de-4d5c-b77e-a197238daf1c",
   "metadata": {
    "pycharm": {
     "is_executing": false,
     "name": "#%%\n"
    }
   },
   "outputs": [],
   "source": [
    "## Update:\n",
    "curr_plot3D_active_window_data = plot_datasource.get_updated_data_window(spike_raster_plt_3d.spikes_window.active_window_start_time, spike_raster_plt_3d.spikes_window.active_window_end_time) # get updated data for the active window from the datasource\n",
    "curve_y_value = -spike_raster_plt_3d.n_half_cells\n",
    "curr_x = DataSeriesToSpatial.temporal_to_spatial_map(curr_plot3D_active_window_data['t'].to_numpy(), spike_raster_plt_3d.spikes_window.active_window_start_time, spike_raster_plt_3d.spikes_window.active_window_end_time, spike_raster_plt_3d.temporal_axis_length, center_mode='zero_centered')\n",
    "pts = np.column_stack([curr_x, np.full_like(curr_x, curve_y_value), curr_plot3D_active_window_data['mua_firing_rate'].to_numpy()])\n",
    "plt.setData(pos=pts)"
   ]
  },
  {
   "cell_type": "code",
   "execution_count": null,
   "id": "b0223bce-ccad-49ef-882d-67b864819c70",
   "metadata": {
    "pycharm": {
     "is_executing": false,
     "name": "#%%\n"
    }
   },
   "outputs": [],
   "source": [
    "curr_plot3D_active_window_data.plot()"
   ]
  },
  {
   "cell_type": "markdown",
   "id": "fd3080d7-9053-4943-a1f8-4635e87c4b1c",
   "metadata": {
    "pycharm": {
     "is_executing": false,
     "name": "#%%\n"
    }
   },
   "source": [
    "## Debugging Rendering:"
   ]
  },
  {
   "cell_type": "code",
   "execution_count": null,
   "id": "eeff607a-efef-4438-bc51-758b37f6c9d8",
   "metadata": {
    "pycharm": {
     "is_executing": false,
     "name": "#%%\n"
    }
   },
   "outputs": [],
   "source": [
    "# -self.n_half_cells\n",
    "debug_point_pos = (-spike_raster_plt_3d.half_temporal_axis_length, -spike_raster_plt_3d.n_half_cells, 0.0) # (-10.69215668859044, -20.0, 0.0)\n",
    "debug_point_pos"
   ]
  },
  {
   "cell_type": "code",
   "execution_count": null,
   "id": "444c5c14-ff4f-4d55-b338-c1a1f7a8ade4",
   "metadata": {
    "pycharm": {
     "is_executing": false,
     "name": "#%%\n"
    }
   },
   "outputs": [],
   "source": [
    "spike_raster_plt_3d.ui.gl_test_points = []\n",
    "md = gl.MeshData.sphere(rows=4, cols=4)\n",
    "m1 = gl.GLMeshItem(meshdata=md, smooth=False, drawFaces=False, drawEdges=True, edgeColor=(0.7,0.7,0.7,0.8))\n",
    "m1.translate(debug_point_pos[0], debug_point_pos[1], debug_point_pos[2])\n",
    "m1.scale(0.5, 0.25, 0.25)\n",
    "m1.setGLOptions('additive')\n",
    "spike_raster_plt_3d.ui.main_gl_widget.addItem(m1)\n",
    "spike_raster_plt_3d.ui.gl_test_points.append(m1)\n",
    "\n",
    "\n",
    "# spike_raster_plt_3d.dynamic_add_widget()"
   ]
  },
  {
   "cell_type": "code",
   "execution_count": null,
   "id": "2a4063ce-e7ba-44e1-90f0-5e6702493f34",
   "metadata": {
    "pycharm": {
     "is_executing": false,
     "name": "#%%\n"
    }
   },
   "outputs": [],
   "source": [
    "# REMOVE\n",
    "\n",
    "spike_raster_plt_3d.ui.main_gl_widget.removeItem(m1)\n",
    "spike_raster_plt_3d.ui.gl_test_points.remove(m1)"
   ]
  },
  {
   "cell_type": "code",
   "execution_count": null,
   "id": "d11b2176-138e-4fca-aa47-c2f1ba203d9f",
   "metadata": {
    "pycharm": {
     "is_executing": false,
     "name": "#%%\n"
    }
   },
   "outputs": [],
   "source": [
    "spike_raster_plt_3d.add_render_epochs(curr_sess.pbe.starts, curr_sess.pbe.durations, epoch_type_name='PBE')"
   ]
  },
  {
   "cell_type": "code",
   "execution_count": null,
   "id": "719f9f10-d813-477f-aa9d-fb8bde5a89c4",
   "metadata": {
    "pycharm": {
     "is_executing": false,
     "name": "#%%\n"
    }
   },
   "outputs": [],
   "source": [
    "spike_raster_plt_3d._build_epoch_meshes(curr_sess.pbe.starts, curr_sess.pbe.durations)\n",
    "\n",
    "# spike_raster_plt_3d.ui.parent_epoch_container_item.setObjectName('container')\n",
    "# spike_raster_plt_3d.ui.parent_epoch_container_item.childItems()\n",
    "# curr_cube.translate(t_centers[i], 0, 0)\n",
    "# curr_cube.scale(durations[i], 1, 0.25)\n",
    "    "
   ]
  },
  {
   "cell_type": "code",
   "execution_count": null,
   "id": "992dc876-6b18-48e8-bf62-f80525ce4c41",
   "metadata": {
    "pycharm": {
     "is_executing": false,
     "name": "#%%\n"
    }
   },
   "outputs": [],
   "source": [
    "spike_raster_plt_3d._remove_epoch_meshes()"
   ]
  },
  {
   "cell_type": "code",
   "execution_count": null,
   "id": "9838071c-b505-46e4-8b54-e103ebecf169",
   "metadata": {
    "pycharm": {
     "is_executing": false,
     "name": "#%%\n"
    }
   },
   "outputs": [],
   "source": [
    "# for (i, aCube) in enumerate(spike_raster_plt_3d.ui.new_cube_objects):\n",
    "#     aCube.setParent(None)\n",
    "#     aCube.deleteLater()\n",
    "\n",
    "from vispy import geometry\n",
    "\n",
    "# spike_raster_plt_3d.ui.new_cube_objects.clear()\n",
    "# spike_raster_plt_3d.ui.new_cube_objects\n",
    "print(f'number of cube objects: {len(spike_raster_plt_3d.ui.new_cube_objects)}') # number of cube objects: 206\n",
    "\n",
    "spike_raster_plt_3d._temporal_to_spatial(curr_sess.pbe.starts)\n",
    "\n",
    "# vispy.geometry.create_box(width=1, height=1, depth=1, width_segments=1, height_segments=1, depth_segments=1, planes=None)\n",
    "box_mesh_data = geometry.create_box(width=1, height=1, depth=1, width_segments=1, height_segments=1, depth_segments=1, planes=None)\n",
    "# vispy.geometry.create_plane(width=1, height=1, width_segments=1, height_segments=1, direction='+z')\n",
    "plane_mesh_data = geometry.create_plane(width=1, height=1, width_segments=1, height_segments=1, direction='+z')\n",
    "# vertices, faces, outline\n",
    "\n",
    "plane_mesh_data"
   ]
  },
  {
   "cell_type": "code",
   "execution_count": null,
   "id": "e6e6858c-fa31-42c8-b6eb-b41dfd72a2a0",
   "metadata": {
    "pycharm": {
     "is_executing": false,
     "name": "#%%\n"
    }
   },
   "outputs": [],
   "source": [
    "spike_raster_plt_3d.update_epoch_meshes(curr_sess.pbe.starts, curr_sess.pbe.durations)"
   ]
  },
  {
   "cell_type": "code",
   "execution_count": null,
   "id": "b4d408b0-bb00-43a4-8a31-e027acf6511a",
   "metadata": {
    "pycharm": {
     "is_executing": false,
     "name": "#%%\n"
    }
   },
   "outputs": [],
   "source": [
    "spike_raster_plt_2d.render_window_duration # 15.0\n",
    "spike_raster_plt_2d.spikes_window.total_df_start_end_times # (22.30206346133491, 1739.1355703625595)\n",
    "spike_raster_plt_2d.spikes_window.active_window_start_time # 30.0\n",
    "spike_raster_plt_2d.spikes_window.active_window_end_time # 45.0"
   ]
  },
  {
   "cell_type": "code",
   "execution_count": null,
   "id": "e8910c9b-446d-4547-9c24-6ef75204e739",
   "metadata": {
    "pycharm": {
     "is_executing": false,
     "name": "#%%\n"
    }
   },
   "outputs": [],
   "source": [
    "spike_raster_plt_3d.close_signal.connect(spike_raster_plt_2d.closeEvent)"
   ]
  },
  {
   "cell_type": "markdown",
   "id": "c6deb79e-bf9b-4464-97b3-eab4ef529538",
   "metadata": {
    "pycharm": {
     "is_executing": false,
     "name": "#%%\n"
    }
   },
   "source": [
    "### Align 3d window and the 2d window that controls it"
   ]
  },
  {
   "cell_type": "code",
   "execution_count": null,
   "id": "4e96560a-35db-4f5e-9135-3c87b1579d96",
   "metadata": {
    "pycharm": {
     "is_executing": false,
     "name": "#%%\n"
    }
   },
   "outputs": [],
   "source": [
    "\n",
    "\n",
    "\n",
    "# # to put it into the upper left corner for example:\n",
    "# mngr.window.setGeometry(50,100,640, 545)\n",
    "# # If one doesn't know the x- and y-width one can read them out first, like so:\n",
    "# # get the QTCore PyRect object\n",
    "# geom = mngr.window.geometry()\n",
    "# x,y,dx,dy = geom.getRect()\n",
    "# # and then set the new position with the same size:\n",
    "# mngr.window.setGeometry(newX, newY, dx, dy)"
   ]
  },
  {
   "cell_type": "code",
   "execution_count": null,
   "id": "1242cca9-49cb-47f6-af0a-a27e69f7a91b",
   "metadata": {
    "pycharm": {
     "is_executing": false,
     "name": "#%%\n"
    }
   },
   "outputs": [],
   "source": [
    "# spike_raster_plt.ui.main_plot_widget.setXRange(0.0, +spike_raster_plt.render_window_duration)\n",
    "\n",
    "# spike_raster_plt.ui.scatter_plot.enableAutoRange('xy', False)  ## stop auto-scaling after the first data set is plotted\n",
    "# spike_raster_plt.ui.scatter_plot.dataBounds()\n",
    "# spike_raster_plt.ui.scatter_plot.flags()\n",
    "# spike_raster_plt.ui.scatter_plot.setPointsVisible\n",
    "# spike_raster_plt.ui.main_plot_widget.addScrollBarWidget()\n",
    "\n",
    "# print(f'{spike_raster_plt.ui.main_plot_widget.contentsMargins()}')\n",
    "# spike_raster_plt.ui.scatter_plot.points()\n",
    "\n",
    "# spike_raster_plt.ui.main_plot_widget.setXRange\n",
    "# spike_raster_plt.ui.main_plot_widget.setLimits()\n",
    "# spike_raster_plt.ui.main_plot_widget # PlotItem\n",
    "\n",
    "min_x, max_x = spike_raster_plt_2d.ui.scroll_window_region.getRegion() # (59.62061245756003, 76.83228787177144)\n",
    "scroll_window_width = max_x - min_x\n",
    "spike_raster_plt_2d_old_time_window = spike_raster_plt_2d.spikes_window.active_time_window # (30.0, 930.0)\n",
    "print(f'spike_raster_plt_2d: min_x: {min_x}, max_x: {max_x}, scroll_window_width: {scroll_window_width}, spike_raster_plt_2d_old_time_window: {spike_raster_plt_2d_old_time_window}') # spike_raster_plt_2d: min_x: 111.72696109457753, max_x: 149.92210657285403, scroll_window_width: 38.1951454782765, spike_raster_plt_2d_old_time_window: (111.72696109457753, 149.92210657285403)\n",
    "\n",
    "# def _debug_print_spike_raster_plot_window(\n",
    "spike_raster_plt_3d_old_time_window = spike_raster_plt_3d.spikes_window.active_time_window # (30.0, 930.0)\n",
    "print(f'spike_raster_plt_3d: spike_raster_plt_3d_old_time_window: {spike_raster_plt_3d_old_time_window}') # spike_raster_plt_3d: spike_raster_plt_3d_old_time_window: (47.599999999999625, 62.599999999999625)\n",
    "\n",
    "# Update the 3D Time window from the 2D one:\n",
    "# spike_raster_plt_3d.spikes_window.active_time_window = spike_raster_plt_2d_old_time_window\n",
    "spike_raster_plt_3d.spikes_window.update_window_start_end(spike_raster_plt_2d_old_time_window[0], spike_raster_plt_2d_old_time_window[1])\n",
    "\n",
    "# spike_raster_plt.render_window_duration = \n",
    "# spike_raster_plt.spikes_window\n",
    "# spike_raster_plt.temporal_zoom_factor\n",
    "# # self.spikes_window.update_window_start(next_start_timestamp)\n",
    "\n",
    "# spike_raster_plt.ui.spinTemporalZoomFactor.setValue(1.0)\n",
    "# spike_raster_plt.ui.spinRenderWindowDuration.setValue(scroll_window_width)\n",
    "# spike_raster_plt.spikes_window.update_window_start(min_x)\n",
    "\n",
    "# curr_plot_item = spike_raster_plt.ui.main_plot_widget.getPlotItem()\n",
    "# curr_view_box = curr_plot_item.getViewBox()\n",
    "# # curr_view_box.autoRangeEnabled()\n",
    "# # curr_view_box.setAutoPan(False)\n",
    "\n",
    "# curr_view_box.setDefaultPadding(0.0)\n",
    "# spike_raster_plt.ui.main_plot_widget.viewRect()\n",
    "# spike_raster_plt.ui.scatter_plot.opts\n",
    "# spike_raster_plt._update_plot_ranges()"
   ]
  },
  {
   "cell_type": "code",
   "execution_count": null,
   "id": "1f3732bc-45c2-485d-b98d-8b3038ab3360",
   "metadata": {
    "pycharm": {
     "is_executing": false,
     "name": "#%%\n"
    }
   },
   "outputs": [],
   "source": [
    "# @pyqtSlot(float, float)\n",
    "def _test_on_2d_window_scrolled(start_v, end_v):\n",
    "    print(f'_test_on_2d_window_scrolled(start_v: {start_v}, end_v: {end_v})')\n",
    "    spike_raster_plt_3d.spikes_window.update_window_start_end(start_v, end_v)\n",
    "\n",
    "spike_raster_plt_2d.window_scrolled.connect(_test_on_2d_window_scrolled)"
   ]
  },
  {
   "cell_type": "code",
   "execution_count": null,
   "id": "9af4591b-f462-4255-9309-ca3b6c69e065",
   "metadata": {
    "pycharm": {
     "is_executing": false,
     "name": "#%%\n"
    }
   },
   "outputs": [],
   "source": []
  },
  {
   "cell_type": "code",
   "execution_count": null,
   "id": "24900b6f-2c69-4f73-9ef7-27d6d8dcafc6",
   "metadata": {
    "pycharm": {
     "is_executing": false,
     "name": "#%%\n"
    }
   },
   "outputs": [],
   "source": [
    "spike_raster_plt_3d.ui.spinRenderWindowDuration.setValue(scroll_window_width)"
   ]
  },
  {
   "cell_type": "code",
   "execution_count": null,
   "id": "eede1f8e-903d-4054-ac26-624ea7355a8c",
   "metadata": {
    "pycharm": {
     "is_executing": false,
     "name": "#%%\n"
    }
   },
   "outputs": [],
   "source": [
    "spike_raster_plt_3d.ui.spinTemporalZoomFactor.setValue(10.0)"
   ]
  },
  {
   "cell_type": "code",
   "execution_count": null,
   "id": "58dd4b16-630d-4a6b-b254-0f4e06fe9edd",
   "metadata": {
    "pycharm": {
     "is_executing": false,
     "name": "#%%\n"
    }
   },
   "outputs": [],
   "source": [
    "spike_raster_plt_3d.update()"
   ]
  },
  {
   "cell_type": "code",
   "execution_count": null,
   "id": "44c11766-4358-488d-9677-c045a9711bb1",
   "metadata": {
    "pycharm": {
     "is_executing": false,
     "name": "#%%\n"
    }
   },
   "outputs": [],
   "source": [
    "lower_edge = spike_raster_plt.y / spike_raster_plt.n_cells\n",
    "upper_edge = (spike_raster_plt.y + 1.0)/spike_raster_plt.n_cells\n",
    "\n",
    "print(f'lower_edge: {lower_edge}\\n upper_edge: {upper_edge}')"
   ]
  },
  {
   "cell_type": "code",
   "execution_count": null,
   "id": "3e4667a4-f485-417e-b74a-d075ac24c47a",
   "metadata": {
    "pycharm": {
     "is_executing": false,
     "name": "#%%\n"
    }
   },
   "outputs": [],
   "source": [
    "lower_y = DataSeriesToSpatial.build_series_identity_axis(spike_raster_plt.n_cells, center_mode=spike_raster_plt.params.center_mode, bin_position_mode='left_edges', side_bin_margins = spike_raster_plt.params.side_bin_margins) / spike_raster_plt.n_cells\n",
    "upper_y = DataSeriesToSpatial.build_series_identity_axis(spike_raster_plt.n_cells, center_mode=spike_raster_plt.params.center_mode, bin_position_mode='right_edges', side_bin_margins = spike_raster_plt.params.side_bin_margins) / spike_raster_plt.n_cells\n",
    "\n",
    "print(f'lower_y: {lower_y}\\n upper_y: {upper_y}')"
   ]
  },
  {
   "cell_type": "code",
   "execution_count": null,
   "id": "18877c55-11a6-48ed-96af-52b6d96ae673",
   "metadata": {
    "pycharm": {
     "is_executing": false,
     "name": "#%%\n"
    }
   },
   "outputs": [],
   "source": [
    "## 3D Spike Train Visualization\n",
    "# import pyqtgraph.opengl as gl # for 3D raster plot\n",
    "from pyphoplacecellanalysis.GUI.PyQtPlot.Widgets.Spike3DRaster import Spike3DRaster\n",
    "\n",
    "# importlib.reload(pyphoplacecellanalysis.GUI.PyQtPlot.pyqtplot_RasterPlot)\n",
    "\n",
    "curr_epoch_name = 'maze1'\n",
    "curr_epoch = curr_active_pipeline.filtered_epochs[curr_epoch_name] # <NamedTimerange: {'name': 'maze1', 'start_end_times': array([  22.26      , 1739.15336412])};>\n",
    "curr_sess = curr_active_pipeline.filtered_sessions[curr_epoch_name]\n",
    "curr_spikes_df = curr_sess.spikes_df\n",
    "\n",
    "spike_raster_plt = Spike3DRaster(curr_spikes_df, window_duration=1.0, window_start_time=30.0, neuron_colors=None)\n",
    "# spike_raster_plt = Spike3DRaster(curr_spikes_df, window_duration=4.0, window_start_time=30.0, neuron_colors=None)\n",
    "# spike_raster_plt = Spike3DRaster(curr_spikes_df, window_duration=0.2, window_start_time=30.0)\n",
    "\n",
    "# spike_raster_plt.animation()\n",
    "# spike_raster_plt = None"
   ]
  },
  {
   "cell_type": "code",
   "execution_count": null,
   "id": "a97a90f5-d145-406c-a97e-e6dd7a0536ac",
   "metadata": {
    "pycharm": {
     "is_executing": false,
     "name": "#%%\n"
    }
   },
   "outputs": [],
   "source": [
    "print(f'spike_raster_plt.spikes_window.active_time_window: {spike_raster_plt.spikes_window.active_time_window}')\n",
    "# spike_raster_plt.spikes_window.active_window_start_time = 50.0\n",
    "spike_raster_plt.spikes_window.update_window_start(90.0)\n",
    "print(f'spike_raster_plt.spikes_window.active_time_window: {spike_raster_plt.spikes_window.active_time_window}')"
   ]
  },
  {
   "cell_type": "code",
   "execution_count": null,
   "id": "b8c9312d-1f9d-4201-a987-f4f76712eca5",
   "metadata": {
    "pycharm": {
     "is_executing": false,
     "name": "#%%\n"
    }
   },
   "outputs": [],
   "source": [
    "spike_raster_plt.animation_time_step # 0.03 (seconds)"
   ]
  },
  {
   "cell_type": "code",
   "execution_count": null,
   "id": "d372e540-825e-4331-b191-43ddd41cd6a6",
   "metadata": {
    "pycharm": {
     "is_executing": false,
     "name": "#%%\n"
    }
   },
   "outputs": [],
   "source": [
    "# spike_raster_plt.render_window_duration # 4.0 (seconds)\n",
    "# spike_raster_plt.spikes_window.window_duration = 1.0\n",
    "\n",
    "spike_raster_plt.temporal_zoom_factor # 40.0\n",
    "spike_raster_plt.temporal_zoom_factor = 80.0"
   ]
  },
  {
   "cell_type": "code",
   "execution_count": null,
   "id": "225cd3f6-96cd-40df-853d-563c22c15275",
   "metadata": {
    "pycharm": {
     "is_executing": false,
     "name": "#%%\n"
    }
   },
   "outputs": [],
   "source": [
    "spike_raster_plt.on_adjust_temporal_spatial_mapping()"
   ]
  },
  {
   "cell_type": "code",
   "execution_count": null,
   "id": "19d69e2b-b8c6-47fb-8c18-b6eea8e9fc84",
   "metadata": {
    "pycharm": {
     "is_executing": false,
     "name": "#%%\n"
    }
   },
   "outputs": [],
   "source": [
    "# curr_transform = spike_raster_plt.ui.gz.transform() # PyQt5.QtGui.QMatrix4x4(1.0, 0.0, 0.0, 0.0, 0.0, 1.0, 0.0, 0.0, 0.0, 0.0, 1.0, -10.0, 0.0, 0.0, 0.0, 1.0)\n",
    "curr_transform = spike_raster_plt.ui.gx.transform() # PyQt5.QtGui.QMatrix4x4(0.0, 0.0, 1.0, -20.0, 0.0, 1.0, 0.0, 0.0, -1.0, 0.0, 0.0, 0.0, 0.0, 0.0, 0.0, 1.0)\n",
    "print(curr_transform)\n",
    "\n",
    "curr_transform.matrix()\n",
    "# spike_raster_plt.ui.gx."
   ]
  },
  {
   "cell_type": "code",
   "execution_count": null,
   "id": "d2beb484-0b58-4da9-ae53-27b94d54560b",
   "metadata": {
    "pycharm": {
     "is_executing": false,
     "name": "#%%\n"
    }
   },
   "outputs": [],
   "source": [
    "spike_raster_plt.params.keys()"
   ]
  },
  {
   "cell_type": "code",
   "execution_count": null,
   "id": "0d278473-b6e9-4962-ba85-192575a5d42c",
   "metadata": {
    "pycharm": {
     "is_executing": false,
     "name": "#%%\n"
    }
   },
   "outputs": [],
   "source": [
    "# spike_raster_plt.params.spike_start_z # -10\n",
    "spike_raster_plt.params.spike_end_z = -8.0 # -6.0"
   ]
  },
  {
   "cell_type": "code",
   "execution_count": null,
   "id": "3d987938-b257-4075-b2fe-33c91dc0f545",
   "metadata": {
    "pycharm": {
     "is_executing": false,
     "name": "#%%\n"
    }
   },
   "outputs": [],
   "source": [
    "spike_raster_plt.animation_time_step = 0.06"
   ]
  },
  {
   "cell_type": "code",
   "execution_count": null,
   "id": "e6217bb9-a229-48f7-9b5b-c06db732c0e7",
   "metadata": {
    "pycharm": {
     "is_executing": false,
     "name": "#%%\n"
    }
   },
   "outputs": [],
   "source": [
    "spike_raster_plt.shift_animation_frame_val(-3)"
   ]
  },
  {
   "cell_type": "code",
   "execution_count": null,
   "id": "bd9be697-b859-49a2-ab3b-06fdbc7336d4",
   "metadata": {
    "pycharm": {
     "is_executing": false,
     "name": "#%%\n"
    }
   },
   "outputs": [],
   "source": [
    "curr_spikes_df"
   ]
  },
  {
   "cell_type": "markdown",
   "id": "5c074f5f-f4ce-4927-9931-61c4ebcad96b",
   "metadata": {
    "pycharm": {
     "is_executing": false,
     "name": "#%%\n"
    }
   },
   "source": [
    "# Test 3D Curve Plotting with SpikeRaster3D"
   ]
  },
  {
   "cell_type": "code",
   "execution_count": null,
   "id": "32ee911c-9e30-4f08-8386-02c4005651c1",
   "metadata": {
    "pycharm": {
     "is_executing": false,
     "name": "#%%\n"
    }
   },
   "outputs": [],
   "source": [
    "# temporal_to_spatial_transform_computation\n",
    "np.shape(curr_sess.mua.firing_rate) # (1716893,)\n",
    "np.shape(curr_sess.mua.time) # (1716893,)\n",
    "\n",
    "yi = - # plot along the back wall in the y-dir\n",
    "mua_pts = np.column_stack([x, np.full_like(x, yi), z])\n",
    "plt = gl.GLLinePlotItem(pos=pts, color=pg.mkColor((i,n*1.3)), width=(i+1)/10., antialias=True)\n",
    "w.addItem(plt)\n",
    "\n",
    "\n",
    "    \n"
   ]
  },
  {
   "cell_type": "code",
   "execution_count": null,
   "id": "6bfb325b-da2e-4c00-934b-bbe38d568234",
   "metadata": {},
   "outputs": [],
   "source": []
  }
 ],
 "metadata": {
  "kernelspec": {
   "display_name": "Python [conda env:phoviz_ultimate]",
   "language": "python",
   "name": "conda-env-phoviz_ultimate-py"
  },
  "language_info": {
   "codemirror_mode": {
    "name": "ipython",
    "version": 3
   },
   "file_extension": ".py",
   "mimetype": "text/x-python",
   "name": "python",
   "nbconvert_exporter": "python",
   "pygments_lexer": "ipython3",
   "version": "3.9.10"
  },
  "pycharm": {
   "stem_cell": {
    "cell_type": "raw",
    "metadata": {
     "collapsed": false
    },
    "source": []
   }
  }
 },
 "nbformat": 4,
 "nbformat_minor": 5
}
