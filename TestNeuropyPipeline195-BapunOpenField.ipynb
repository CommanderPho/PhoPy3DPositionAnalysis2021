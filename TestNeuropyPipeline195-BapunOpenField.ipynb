{
 "cells": [
  {
   "cell_type": "code",
   "execution_count": 1,
   "id": "3ab8f1b7-3d38-4209-a47b-b66e08242c59",
   "metadata": {
    "scene__Default Scene": true,
    "tags": [
     "ActiveScene"
    ]
   },
   "outputs": [
    {
     "name": "stdout",
     "output_type": "stream",
     "text": [
      "Automatic pdb calling has been turned OFF\n",
      "build_module_logger(module_name=\"Spike3D.notebook\"):\n",
      "\t Module logger com.PhoHale.Spike3D.notebook will log to EXTERNAL\\TESTING\\Logging\\debug_com.PhoHale.Spike3D.notebook.log\n"
     ]
    },
    {
     "name": "stderr",
     "output_type": "stream",
     "text": [
      "C:\\Users\\pho\\miniconda3\\envs\\phoviz_ultimate\\lib\\site-packages\\requests\\__init__.py:102: RequestsDependencyWarning: urllib3 (1.26.8) or chardet (5.0.0)/charset_normalizer (2.0.12) doesn't match a supported version!\n",
      "  warnings.warn(\"urllib3 ({}) or chardet ({})/charset_normalizer ({}) doesn't match a supported \"\n"
     ]
    }
   ],
   "source": [
    "\"\"\"\n",
    "@author: pho\n",
    "\"\"\"\n",
    "## Automatic debugger on exception raised\n",
    "# %pdb on\n",
    "%pdb off\n",
    "%load_ext autoreload\n",
    "%autoreload 2\n",
    "# # You need to load the extension first\n",
    "%load_ext viztracer\n",
    "\n",
    "import sys\n",
    "import importlib\n",
    "from pathlib import Path\n",
    "import logging\n",
    "\n",
    "from pyphocorehelpers.print_helpers import build_module_logger\n",
    "module_logger = build_module_logger('Spike3D.notebook')\n",
    "\n",
    "from copy import deepcopy\n",
    "\n",
    "from numba import jit\n",
    "import numpy as np\n",
    "import pandas as pd\n",
    "\n",
    "%config Completer.use_jedi = False\n",
    "\n",
    "# # required to enable non-blocking interaction:\n",
    "%gui qt5\n",
    "\n",
    "import pyphoplacecellanalysis.External.pyqtgraph as pg # Used to plot Speed vs. Pf Desnity Metrics\n",
    "from pyphoplacecellanalysis.External.pyqtgraph.Qt import QtCore, QtGui\n",
    "import pyphoplacecellanalysis.External.pyqtgraph.opengl as gl # for 3D raster plot\n",
    "\n",
    "# Pho's Formatting Preferences\n",
    "from pyphocorehelpers.preferences_helpers import set_pho_preferences, set_pho_preferences_concise, set_pho_preferences_verbose\n",
    "# set_pho_preferences()\n",
    "# np.set_printoptions(edgeitems=30, linewidth=100000, formatter=dict(float=lambda x: \"%g\" % x))\n",
    "# np.set_printoptions(edgeitems=None, linewidth=100000, formatter=None)\n",
    "set_pho_preferences_concise()\n",
    "\n",
    "# For Progress bars:\n",
    "# from tqdm.notebook import tqdm, trange\n",
    "\n",
    "## Pho's Custom Libraries:\n",
    "from pyphocorehelpers.general_helpers import get_arguments_as_optional_dict, inspect_callable_arguments\n",
    "from pyphocorehelpers.indexing_helpers import partition, build_spanning_bins, compute_spanning_bins, compute_position_grid_size, compute_paginated_grid_config\n",
    "from pyphocorehelpers.print_helpers import PrettyPrintable, WrappingMessagePrinter, print_keys_if_possible, debug_dump_object_member_shapes\n",
    "from pyphocorehelpers.DataStructure.dynamic_parameters import DynamicParameters\n",
    "from pyphocorehelpers.performance_timing_helpers import WrappingPerformanceTimer\n",
    "from pyphocorehelpers.gui.interaction_helpers import CallbackWrapper\n",
    "from pyphocorehelpers.Filesystem.open_in_system_file_manager import reveal_in_system_file_manager\n",
    "from pyphocorehelpers.gui.PhoUIContainer import PhoUIContainer\n",
    "\n",
    "# pyPhoPlaceCellAnalysis:\n",
    "from pyphoplacecellanalysis.General.Pipeline.NeuropyPipeline import NeuropyPipeline # get_neuron_identities\n",
    "# from pyphoplacecellanalysis.General.SessionSelectionAndFiltering import batch_filter_session, build_custom_epochs_filters\n",
    "from neuropy.core.session.KnownDataSessionTypeProperties import KnownDataSessionTypeProperties\n",
    "\n",
    "from pyphoplacecellanalysis.General.Pipeline.Stages.ComputationFunctions.ComputationFunctionRegistryHolder import ComputationFunctionRegistryHolder\n",
    "from pyphoplacecellanalysis.General.Pipeline.Stages.DisplayFunctions.DisplayFunctionRegistryHolder import DisplayFunctionRegistryHolder\n",
    "from pyphocorehelpers.gui.PhoUIContainer import PhoUIContainer\n",
    "from pyphoplacecellanalysis.GUI.Qt.Mixins.PhoMenuHelper import PhoMenuHelper\n",
    "from pyphoplacecellanalysis.GUI.Qt.GlobalApplicationMenus.LocalMenus_AddRenderable import LocalMenus_AddRenderable\n",
    "from pyphoplacecellanalysis.GUI.Qt.Mixins.Menus.CreateLinkedWidget_MenuProvider import CreateLinkedWidget_MenuProvider\n",
    "\n",
    "\n",
    "# NeuroPy (Diba Lab Python Repo) Loading\n",
    "# from neuropy import core\n",
    "from neuropy.core.session.data_session_loader import DataSessionLoader\n",
    "from neuropy.core.session.dataSession import DataSession\n",
    "from neuropy.analyses.placefields import PlacefieldComputationParameters\n",
    "\n",
    "from neuropy.core.laps import Laps  # Used for adding laps in KDiba mode\n",
    "from neuropy.utils.efficient_interval_search import get_non_overlapping_epochs, drop_overlapping # Used for adding laps in KDiba mode\n",
    "\n",
    "from neuropy.core.epoch import NamedTimerange\n",
    "\n",
    "from neuropy.core.session.Formats.BaseDataSessionFormats import DataSessionFormatRegistryHolder, DataSessionFormatBaseRegisteredClass\n",
    "from neuropy.core.session.Formats.Specific.BapunDataSessionFormat import BapunDataSessionFormatRegisteredClass\n",
    "from neuropy.core.session.Formats.Specific.KDibaOldDataSessionFormat import KDibaOldDataSessionFormatRegisteredClass\n",
    "from neuropy.core.session.Formats.Specific.RachelDataSessionFormat import RachelDataSessionFormat\n",
    "from neuropy.core.session.Formats.Specific.HiroDataSessionFormat import HiroDataSessionFormatRegisteredClass\n",
    "\n",
    "## Plotting Helpers:\n",
    "from pyphoplacecellanalysis.GUI.PyQtPlot.pyqtplot_Matrix import MatrixRenderingWindow\n",
    "from pyphoplacecellanalysis.GUI.PyQtPlot.BinnedImageRenderingWindow import BasicBinnedImageRenderingWindow\n",
    "from pyphoplacecellanalysis.Pho2D.PyQtPlots.plot_placefields import pyqtplot_plot_image_array, pyqtplot_plot_image\n",
    "\n",
    "known_data_session_type_properties_dict = DataSessionFormatRegistryHolder.get_registry_known_data_session_type_dict()\n",
    "active_data_session_types_registered_classes_dict = DataSessionFormatRegistryHolder.get_registry_data_session_type_class_name_dict()\n",
    "# DataSessionFormatRegistryHolder.get_registry()\n",
    "\n",
    "enable_saving_to_disk = False\n",
    "# common_parent_foldername = Path(r'R:\\Dropbox (Personal)\\Active\\Kamran Diba Lib\\Pho-Kamran-Meetings\\Final Placemaps 2021-01-14')\n",
    "common_parent_foldername = Path(r'R:\\Dropbox (Personal)\\Active\\Kamran Diba Lib\\Pho-Kamran-Meetings\\2022-01-16')\n",
    "\n",
    "## Concise Numpy Array Printing:\n",
    "# np.set_string_function(lambda x:f'np.array[{np.shape(x)}]', repr=True)\n",
    "# # with np.printoptions(precision=2, edgeitems=2, linewidth=144):\n",
    "# with np.printoptions(precision=3, edgeitems=2, linewidth=100000):\n",
    "#     # active_computed_data['pf2D'].ratemap\n",
    "#     print(active_computed_data['pf2D'])\n",
    "#     # print(active_computed_data['pf2D'].ratemap)\n",
    "        \n",
    "# np.set_string_function(lambda x:f'np.array[{np.shape(x)}]', repr=True)\n",
    "# np.set_string_function(None, repr=True)\n",
    "from pyphocorehelpers.general_helpers import safely_accepts_kwargs, get_arguments_as_optional_dict, CodeConversion\n",
    "from pyphoplacecellanalysis.General.Pipeline.Stages.Loading import loadData, saveData\n",
    "\n",
    "## For computation parameters:\n",
    "from neuropy.analyses.placefields import PlacefieldComputationParameters\n",
    "from neuropy.utils.dynamic_container import DynamicContainer, override_dict, overriding_dict_with, get_dict_subset\n",
    "from neuropy.utils.position_util import compute_position_grid_size\n",
    "\n",
    "## Test Matplotlib plotting:\n",
    "from neuropy.utils.matplotlib_helpers import _build_variable_max_value_label, add_inner_title, enumTuningMap2DPlotMode, _build_square_checkerboard_image, enumTuningMap2DPlotVariables, compute_data_aspect_ratio\n",
    "\n",
    "\n",
    "\n",
    "# exceptionHandler\n",
    "\n",
    "module_logger.debug (f'DEBUG: module_logger: \"com.PhoHale.Spike3D.notebook\"')\n",
    "module_logger.info(f'INFO: module_logger: \"com.PhoHale.Spike3D.notebook\"')\n",
    "module_logger.warning(f'WARNING: module_logger: \"com.PhoHale.Spike3D.notebook\"')\n",
    "module_logger.error(f'ERROR: module_logger: \"com.PhoHale.Spike3D.notebook\"')\n",
    "module_logger.critical(f'CRITICAL: module_logger: \"com.PhoHale.Spike3D.notebook\"')\n",
    "module_logger.exception(f'EXCEPTION: module_logger: \"com.PhoHale.Spike3D.notebook\"')\n",
    "\n",
    "\n",
    "# def trap_exc_during_debug(*args):\n",
    "#     # when app raises uncaught exception, print info\n",
    "#     print(f'trap_exc_during_debug: {args}')\n",
    "#     module_logger.exception(f'trap_exc_during_debug: {args}')\n",
    "    \n",
    "# # install exception hook: without this, uncaught exception would cause application to exit\n",
    "# sys.excepthook = trap_exc_during_debug\n",
    "\n",
    "\n",
    "# def build_eloy_computation_configs(sess, **kwargs):\n",
    "#     \"\"\" OPTIONALLY can be overriden by implementors to provide specific filter functions \"\"\"\n",
    "#     # (4.0, 4.0)cm bins, (6.0, 6.0)cm gaussian smoothing\n",
    "#     # peak frate > 2Hz \n",
    "#     # return [DynamicContainer(pf_params=PlacefieldComputationParameters(speed_thresh=10.0, grid_bin=(4.0, 4.0), smooth=(6.0, 6.0), frate_thresh=0.2, time_bin_size=1.0, computation_epochs = None), spike_analysis=None)]\n",
    "#     # return [DynamicContainer(pf_params=PlacefieldComputationParameters(speed_thresh=10.0, grid_bin=(4.0, 4.0), smooth=(2.5, 2.5), frate_thresh=0.2, time_bin_size=1.0, computation_epochs = None), spike_analysis=None)]\n",
    "#     return [DynamicContainer(pf_params=PlacefieldComputationParameters(speed_thresh=10.0, grid_bin=(4.0, 4.0), smooth=(0.2, 0.2), frate_thresh=0.2, time_bin_size=1.0, computation_epochs = None), spike_analysis=None)]\n",
    "\n",
    "\n",
    "def build_eloy_computation_configs(sess, **kwargs):\n",
    "    \"\"\" OPTIONALLY can be overriden by implementors to provide specific filter functions \"\"\"\n",
    "    # (4.0, 4.0)cm bins, (6.0, 6.0)cm gaussian smoothing\n",
    "    # peak frate > 2Hz \n",
    "    # return [DynamicContainer(pf_params=PlacefieldComputationParameters(speed_thresh=10.0, grid_bin=(4.0, 4.0), smooth=(6.0, 6.0), frate_thresh=0.2, time_bin_size=1.0, computation_epochs = None), spike_analysis=None)]\n",
    "    # return [DynamicContainer(pf_params=PlacefieldComputationParameters(speed_thresh=10.0, grid_bin=(4.0, 4.0), smooth=(2.5, 2.5), frate_thresh=0.2, time_bin_size=1.0, computation_epochs = None), spike_analysis=None)]\n",
    "    return [DynamicContainer(pf_params=PlacefieldComputationParameters(speed_thresh=10.0, grid_bin=(4.0, 4.0), smooth=(0.2, 0.2), frate_thresh=0.2, time_bin_size=1.0, computation_epochs = None), spike_analysis=None)]"
   ]
  },
  {
   "cell_type": "code",
   "execution_count": null,
   "id": "063c54a9-49d8-4697-b1ac-ba5767547160",
   "metadata": {
    "scene__Default Scene": true,
    "tags": [
     "ActiveScene"
    ]
   },
   "outputs": [],
   "source": []
  },
  {
   "cell_type": "markdown",
   "id": "1d84bd3a-4e2b-4482-91b8-18695ad60c80",
   "metadata": {
    "scene__Default Scene": true,
    "tags": [
     "main_run",
     "ActiveScene"
    ]
   },
   "source": [
    "# Load Appropriate Data and begin pipeline"
   ]
  },
  {
   "cell_type": "markdown",
   "id": "8eceb354-7fa7-4064-ba26-4e989b9f3354",
   "metadata": {
    "tags": []
   },
   "source": [
    "## Bapun Format:"
   ]
  },
  {
   "cell_type": "code",
   "execution_count": 2,
   "id": "fa085eef-be88-4df5-ab14-e16b7d74060a",
   "metadata": {
    "pycharm": {
     "is_executing": false
    },
    "scrolled": true
   },
   "outputs": [
    {
     "name": "stdout",
     "output_type": "stream",
     "text": [
      "finalized_loaded_sess_pickle_path: W:\\Data\\Bapun\\RatS\\Day5TwoNovel\\loadedSessPickle.pkl\n",
      "Loading saved session pickle file results to W:\\Data\\Bapun\\RatS\\Day5TwoNovel\\loadedSessPickle.pkl... "
     ]
    },
    {
     "name": "stderr",
     "output_type": "stream",
     "text": [
      "WARNING: SpikesAccessor.set_time_variable_name(new_time_variable_name: t_seconds) has been called. Be careful!\n",
      "\t time variable changed from 't_rel_seconds' to 't_seconds'.\n"
     ]
    },
    {
     "name": "stdout",
     "output_type": "stream",
     "text": [
      "done.\n",
      "Loading pickled pipeline success: W:\\Data\\Bapun\\RatS\\Day5TwoNovel\\loadedSessPickle.pkl.\n",
      "\t time variable changed!\n",
      "property already present in pickled version. No need to save.\n",
      "Performing evaluate_single_computation_params on filtered_session with filter named \"maze1\"...\n",
      "WARNING: skipping computation because overwrite_extant_results=False and self.computation_results[maze1] already exists and is non-None\n",
      "\t TODO: this will prevent recomputation even when the blacklist/whitelist or computation function definitions change. Rework so that this is smarter.\n",
      "Performing evaluate_single_computation_params on filtered_session with filter named \"maze2\"...\n",
      "WARNING: skipping computation because overwrite_extant_results=False and self.computation_results[maze2] already exists and is non-None\n",
      "\t TODO: this will prevent recomputation even when the blacklist/whitelist or computation function definitions change. Rework so that this is smarter.\n"
     ]
    }
   ],
   "source": [
    "active_data_mode_name = 'bapun'\n",
    "active_data_mode_registered_class = active_data_session_types_registered_classes_dict[active_data_mode_name]\n",
    "active_data_mode_type_properties = known_data_session_type_properties_dict[active_data_mode_name]\n",
    "# basedir = r'R:\\data\\Bapun\\RatS\\Day5TwoNovel'\n",
    "basedir = r'W:\\Data\\Bapun\\RatS\\Day5TwoNovel'\n",
    "\n",
    "curr_active_pipeline = NeuropyPipeline.try_init_from_saved_pickle_or_reload_if_needed(active_data_mode_name, active_data_mode_type_properties, override_basepath=Path(basedir)) # damn this file is 21.1 GB!\n",
    "active_session_filter_configurations = active_data_mode_registered_class.build_default_filter_functions(sess=curr_active_pipeline.sess) # build_filters_pyramidal_epochs(sess=curr_kdiba_pipeline.sess)\n",
    "active_session_computation_configs = active_data_mode_registered_class.build_default_computation_configs(sess=curr_active_pipeline.sess)\n",
    "\n",
    "curr_active_pipeline.filter_sessions(active_session_filter_configurations)\n",
    "curr_active_pipeline.perform_computations(active_session_computation_configs[0], computation_functions_name_blacklist=['_perform_spike_burst_detection_computation', '_perform_velocity_vs_pf_density_computation', '_perform_velocity_vs_pf_simplified_count_density_computation']) # SpikeAnalysisComputations._perform_spike_burst_detection_computation\n",
    "## _perform_velocity_vs_pf_density_computation: causes AssertionError: After AOC normalization the sum over each cell should be 1.0, but it is not! [nan nan nan nan nan nan nan nan nan nan nan nan nan nan nan nan nan nan nan nan nan nan nan nan nan nan nan nan nan nan nan nan nan nan nan nan nan nan nan nan nan] with 1D placefields!\n",
    "curr_active_pipeline.prepare_for_display(root_output_dir=r'W:\\Data\\Output', should_smooth_maze=False) # TODO: pass a display config"
   ]
  },
  {
   "cell_type": "markdown",
   "id": "06494656-a9cb-4aba-969d-c3fc64aad68c",
   "metadata": {
    "jp-MarkdownHeadingCollapsed": true,
    "tags": []
   },
   "source": [
    "### Bapun Open-Field Experiment (2022-08-09 Analysis)"
   ]
  },
  {
   "cell_type": "code",
   "execution_count": null,
   "id": "56f2bc8a-abf4-4d78-8bb8-67a468c7cf7b",
   "metadata": {
    "pycharm": {
     "is_executing": false
    },
    "tags": []
   },
   "outputs": [],
   "source": [
    "from neuropy.core.session.SessionSelectionAndFiltering import build_custom_epochs_filters # used particularly to build Bapun-style filters\n",
    "\n",
    "active_data_mode_name = 'bapun'\n",
    "active_data_mode_registered_class = active_data_session_types_registered_classes_dict[active_data_mode_name]\n",
    "active_data_mode_type_properties = known_data_session_type_properties_dict[active_data_mode_name]\n",
    "basedir = r'W:\\Data\\Bapun\\RatN\\Day4OpenField'\n",
    "\n",
    "curr_active_pipeline = NeuropyPipeline.try_init_from_saved_pickle_or_reload_if_needed(active_data_mode_name, active_data_mode_type_properties, override_basepath=Path(basedir))\n",
    "# active_session_filter_configurations = active_data_mode_registered_class.build_default_filter_functions(sess=curr_active_pipeline.sess, included_epoch_names=['maze','sprinkle']) # build_filters_pyramidal_epochs(sess=curr_kdiba_pipeline.sess)\n",
    "# active_session_filter_configurations = build_custom_epochs_filters(curr_active_pipeline.sess, included_epoch_labels=['maze','sprinkle'])\n",
    "active_session_filter_configurations = build_custom_epochs_filters(curr_active_pipeline.sess, included_epoch_labels=['maze','sprinkle'])\n",
    "# active_session_filter_configurations = active_data_mode_registered_class.build_filters_pyramidal_epochs(curr_active_pipeline.sess, included_epoch_labels=['maze','sprinkle'])\n",
    "active_session_computation_configs = active_data_mode_registered_class.build_default_computation_configs(sess=curr_active_pipeline.sess)\n",
    "curr_active_pipeline.filter_sessions(active_session_filter_configurations)\n",
    "curr_active_pipeline.perform_computations(active_session_computation_configs[0], computation_functions_name_blacklist=['_perform_spike_burst_detection_computation', '_perform_velocity_vs_pf_density_computation', '_perform_velocity_vs_pf_simplified_count_density_computation']) # SpikeAnalysisComputations._perform_spike_burst_detection_computation\n",
    "curr_active_pipeline.prepare_for_display(root_output_dir=r'W:\\Data\\Output', should_smooth_maze=True) # TODO: pass a display config"
   ]
  },
  {
   "cell_type": "markdown",
   "id": "1c703940-bbc4-4014-9e54-2b88b8c79391",
   "metadata": {
    "jp-MarkdownHeadingCollapsed": true,
    "tags": []
   },
   "source": [
    "## Rachel Format:"
   ]
  },
  {
   "cell_type": "code",
   "execution_count": null,
   "id": "03ef84d7-a972-4578-9199-0bda4c627fb6",
   "metadata": {},
   "outputs": [],
   "source": [
    "active_data_mode_name = 'rachel'\n",
    "active_data_mode_registered_class = active_data_session_types_registered_classes_dict[active_data_mode_name]\n",
    "active_data_mode_type_properties = known_data_session_type_properties_dict[active_data_mode_name]\n",
    "basedir = r'R:\\data\\Rachel\\merged_M1_20211123_raw_phy' # Windows\n",
    "\n",
    "curr_active_pipeline = NeuropyPipeline.try_init_from_saved_pickle_or_reload_if_needed(active_data_mode_name, active_data_mode_type_properties, override_basepath=Path(basedir))\n",
    "active_session_filter_configurations = active_data_mode_registered_class.build_default_filter_functions(sess=curr_active_pipeline.sess) # build_filters_pyramidal_epochs(sess=curr_kdiba_pipeline.sess)\n",
    "active_session_computation_configs = active_data_mode_registered_class.build_default_computation_configs(sess=curr_active_pipeline.sess)"
   ]
  },
  {
   "cell_type": "code",
   "execution_count": null,
   "id": "277eb000-0a85-4b32-8348-1d0a2042c8a0",
   "metadata": {
    "pycharm": {
     "is_executing": false
    },
    "scrolled": true
   },
   "outputs": [],
   "source": [
    "curr_active_pipeline.filter_sessions(active_session_filter_configurations)\n",
    "curr_active_pipeline.perform_computations(active_session_computation_configs[0], computation_functions_name_blacklist=['_perform_spike_burst_detection_computation']) # Causes \"IndexError: index 59 is out of bounds for axis 0 with size 59\"\n",
    "curr_active_pipeline.prepare_for_display(should_smooth_maze=True) # TODO: pass a display config"
   ]
  },
  {
   "cell_type": "markdown",
   "id": "a4940269-23e4-46dc-a4ae-61d512ac5e41",
   "metadata": {
    "jp-MarkdownHeadingCollapsed": true,
    "tags": []
   },
   "source": [
    "## KDiba Format:"
   ]
  },
  {
   "cell_type": "code",
   "execution_count": null,
   "id": "66d37253-a0e9-4488-ac14-0ab03604abc0",
   "metadata": {
    "tags": [
     "main_run",
     "ActiveScene"
    ]
   },
   "outputs": [],
   "source": [
    "active_data_mode_name = 'kdiba'\n",
    "active_data_mode_registered_class = active_data_session_types_registered_classes_dict[active_data_mode_name]\n",
    "active_data_mode_type_properties = known_data_session_type_properties_dict[active_data_mode_name]\n",
    "\n",
    "## Data must be pre-processed using the MATLAB script located here: \n",
    "#     neuropy/data_session_pre_processing_scripts/KDIBA/IIDataMat_Export_ToPython_2022_08_01.m\n",
    "# From pre-computed .mat files:\n",
    "## 07:\n",
    "# basedir = r'/run/media/halechr/MoverNew/data/KDIBA/gor01/one/2006-6-07_11-26-53' # Lab Linux Workstation\n",
    "# basedir = r'/home/halechr/Data/KDIBA/gor01/one/2006-6-07_11-26-53' # Lab Linux Workstation\n",
    "# basedir = r'R:\\data\\KDIBA\\gor01\\one\\2006-6-07_11-26-53' # Apogee Windows (R: MoverNew)\n",
    "# basedir = r'W:\\Data\\KDIBA\\gor01\\one\\2006-6-07_11-26-53' # Apogee Windows (W: Wiser)\n",
    "## 08:\n",
    "# basedir = r'R:\\data\\KDIBA\\gor01\\one\\2006-6-08_14-26-15' # Apogee Windows\n",
    "basedir = r'W:\\Data\\KDIBA\\gor01\\one\\2006-6-08_14-26-15' # Apogee Windows (W: Wiser)\n",
    "\n",
    "curr_active_pipeline = NeuropyPipeline.try_init_from_saved_pickle_or_reload_if_needed(active_data_mode_name, active_data_mode_type_properties, override_basepath=Path(basedir), override_post_load_functions=[], force_reload=False)\n",
    "# active_session_filter_configurations = active_data_mode_registered_class.build_default_filter_functions(sess=curr_active_pipeline.sess) # build_filters_pyramidal_epochs(sess=curr_kdiba_pipeline.sess)\n",
    "# active_session_filter_configurations = active_data_mode_registered_class.build_filters_pyramidal_epochs(sess=curr_active_pipeline.sess, epoch_name_whitelist=['maze1','maze2','maze'])\n",
    "active_session_filter_configurations = active_data_mode_registered_class.build_filters_pyramidal_epochs(sess=curr_active_pipeline.sess, epoch_name_whitelist=['maze'])\n",
    "# active_session_filter_configurations = active_data_mode_registered_class.build_filters_pyramidal_epochs(sess=curr_active_pipeline.sess, epoch_name_whitelist=['maze2'])\n",
    "\n",
    "# sess.epochs.t_start = 22.26 # exclude the first short period where the animal isn't on the maze yet\n",
    "# active_session_filter_configurations = {'maze1': lambda x: (x.filtered_by_neuron_type('pyramidal').filtered_by_epoch(x.epochs.get_named_timerange('maze1')), x.epochs.get_named_timerange('maze1')),\n",
    "# 'maze2': lambda x: (x.filtered_by_neuron_type('pyramidal').filtered_by_epoch(x.epochs.get_named_timerange('maze2')), x.epochs.get_named_timerange('maze2')),\n",
    "# 'maze': lambda x: (x.filtered_by_neuron_type('pyramidal').filtered_by_epoch(NamedTimerange(name='maze', start_end_times=[x.epochs['maze1'][0], x.epochs['maze2'][1]])), NamedTimerange(name='maze', start_end_times=[x.epochs['maze1'][0], x.epochs['maze2'][1]]))\n",
    "#                 }\n",
    "\n",
    "active_session_computation_configs = active_data_mode_registered_class.build_default_computation_configs(sess=curr_active_pipeline.sess)\n",
    "# active_session_computation_configs[0].pf_params.smooth = (0.0, 0.0)\n",
    "# active_session_computation_configs = build_eloy_computation_configs(sess=curr_active_pipeline.sess)\n",
    "curr_active_pipeline.filter_sessions(active_session_filter_configurations)\n",
    "# curr_active_pipeline.perform_computations(active_session_computation_configs[0], computation_functions_name_whitelist=['_perform_baseline_placefield_computation', '_perform_time_dependent_placefield_computation', \n",
    "#                                                                                                                        '_perform_position_decoding_computation', '_perform_two_step_position_decoding_computation'], fail_on_exception=True, debug_print=False) # '_perform_pf_find_ratemap_peaks_peak_prominence2d_computation'\n",
    "curr_active_pipeline.perform_computations(active_session_computation_configs[0], computation_functions_name_blacklist=['_perform_spike_burst_detection_computation'], debug_print=False, fail_on_exception=False) # whitelist: ['_perform_baseline_placefield_computation']\n",
    "curr_active_pipeline.prepare_for_display(root_output_dir=r'W:\\Data\\Output', should_smooth_maze=True) # TODO: pass a display config"
   ]
  },
  {
   "cell_type": "markdown",
   "id": "9b01c8b9-ffc2-4816-9de5-bfedc221699b",
   "metadata": {
    "jp-MarkdownHeadingCollapsed": true,
    "tags": []
   },
   "source": [
    "## Hiro Format:"
   ]
  },
  {
   "cell_type": "code",
   "execution_count": null,
   "id": "3c378a70-2365-49b1-8aa9-7e13a2e9c88c",
   "metadata": {
    "tags": []
   },
   "outputs": [],
   "source": [
    "active_data_mode_name = 'hiro'\n",
    "active_data_mode_registered_class = active_data_session_types_registered_classes_dict[active_data_mode_name]\n",
    "active_data_mode_type_properties = known_data_session_type_properties_dict[active_data_mode_name]\n",
    "## For data located at:\n",
    "# W:\\Data\\Rotation_3_Kamran Diba Lab\\DataProcessingProject\\Hiro_Datasets\n",
    "\n",
    "## Data must be pre-processed using the MATLAB script located here: \n",
    "#     ./neuropy/data_session_pre_processing_scripts/HIRO/PhoDibaProcess_ComputeSingleExperiment.m\n",
    "## ALT: alternatively, the original files are located here:\n",
    "#     C:\\Users\\pho\\repos\\PhoDibaLab_REM_HiddenMarkovModel\\PhoDibaProcess_ComputeSingleExperiment.m\n",
    "#     C:\\Users\\pho\\repos\\PhoDibaLab_REM_HiddenMarkovModel\\DEVELOPMENT\\NeuroPyExporting2022\\PhoNeuroPyConvert_ExportAllToPython_MAIN.m\n",
    "\n",
    "# From pre-computed .mat files:\n",
    "## RoyMaze1: \n",
    "# basedir = r'R:\\rMBP Python Repos 2022-07-07\\PhoNeuronGillespie2021CodeRepo\\PhoMatlabDataScripting\\ExportedData\\RoyMaze1' # WINDOWS\n",
    "# basedir = r'R:\\data\\Hiro\\RoyMaze1' # WINDOWS (R: MoverNew)\n",
    "basedir = r'W:\\Data\\Hiro\\RoyMaze1' # Apogee Windows (W: Wiser)\n",
    "\n",
    "## RoyMaze2:\n",
    "# basedir = r'R:\\rMBP Python Repos 2022-07-07\\PhoNeuronGillespie2021CodeRepo\\PhoMatlabDataScripting\\ExportedData\\RoyMaze2' # WINDOWS\n",
    "# basedir = r'R:\\data\\Hiro\\RoyMaze2' # WINDOWS\n",
    "curr_active_pipeline = NeuropyPipeline.try_init_from_saved_pickle_or_reload_if_needed(active_data_mode_name, active_data_mode_type_properties, override_basepath=Path(basedir))"
   ]
  },
  {
   "cell_type": "code",
   "execution_count": null,
   "id": "f0c7b805-be1e-44f6-ae3d-09863d3524c0",
   "metadata": {
    "tags": []
   },
   "outputs": [],
   "source": [
    "from neuropy.utils.misc import convert_dataframe_columns_to_datatype_if_possible, add_explicit_dataframe_columns_from_lookup_df\n",
    "\n",
    "## Finish setting up the spikes_df:\n",
    "curr_active_pipeline.sess.spikes_df.spikes.set_time_variable_name(\"t_seconds\")\n",
    "curr_active_pipeline.sess.flattened_spiketrains._spikes_df = add_explicit_dataframe_columns_from_lookup_df(curr_active_pipeline.sess.spikes_df, curr_active_pipeline.sess.neurons._extended_neuron_properties_df).sort_values(by=['t_seconds']) # Need to re-sort by timestamps once done\n",
    "convert_dataframe_columns_to_datatype_if_possible(curr_active_pipeline.sess.spikes_df, {'int':['shank', 'cluster', 'aclu', 'qclu', 'traj', 'lap']})"
   ]
  },
  {
   "cell_type": "code",
   "execution_count": null,
   "id": "c3b697d5-ce22-472e-803c-609e2544d38d",
   "metadata": {
    "scrolled": true
   },
   "outputs": [],
   "source": [
    "# active_session_filter_configurations = active_data_mode_registered_class.build_default_filter_functions(sess=curr_active_pipeline.sess) # build_filters_pyramidal_epochs(sess=curr_kdiba_pipeline.sess)\n",
    "# active_session_filter_configurations = active_data_mode_registered_class.build_track_only_filter_functions(sess=curr_active_pipeline.sess)\n",
    "active_session_filter_configurations = active_data_mode_registered_class.build_filters_track_only_pyramidal(sess=curr_active_pipeline.sess)\n",
    "active_session_computation_configs = active_data_mode_registered_class.build_default_computation_configs(sess=curr_active_pipeline.sess)\n",
    "# active_session_computation_configs"
   ]
  },
  {
   "cell_type": "code",
   "execution_count": null,
   "id": "75acaafe-aa57-4c63-8bba-612d1a9bb0db",
   "metadata": {
    "scrolled": true
   },
   "outputs": [],
   "source": [
    "post_filter_fn = active_session_filter_configurations['track']\n",
    "\n",
    "\n",
    "active_session_filter_configurations['track'] = lambda x: (x.filtered_by_neuron_type('pyramidal').filtered_by_epoch(x.epochs.get_named_timerange('maze1')), x.epochs.get_named_timerange('maze1'))"
   ]
  },
  {
   "cell_type": "code",
   "execution_count": null,
   "id": "5c76ee6b-1984-467e-9eac-d12ababa4c4d",
   "metadata": {
    "scrolled": true
   },
   "outputs": [],
   "source": [
    "curr_active_pipeline.sess.flattened_spiketrains._time_variable_name"
   ]
  },
  {
   "cell_type": "code",
   "execution_count": null,
   "id": "c358fa03-ee09-456f-9c4a-c00fad5aae68",
   "metadata": {
    "scrolled": true
   },
   "outputs": [],
   "source": [
    "curr_active_pipeline.filter_sessions(active_session_filter_configurations)"
   ]
  },
  {
   "cell_type": "code",
   "execution_count": null,
   "id": "2fdc73b0-2a1b-4aeb-9815-2e28579b55e4",
   "metadata": {
    "scrolled": true
   },
   "outputs": [],
   "source": [
    "curr_active_pipeline.perform_computations(active_session_computation_configs[0], computation_functions_name_blacklist=['_perform_spike_burst_detection_computation', '_perform_velocity_vs_pf_density_computation', '_perform_velocity_vs_pf_simplified_count_density_computation'], fail_on_exception=True)\n",
    "curr_active_pipeline.prepare_for_display(should_smooth_maze=True) # TODO: pass a display config"
   ]
  },
  {
   "cell_type": "code",
   "execution_count": null,
   "id": "e0c218ea-c669-498e-8234-b0e567de7916",
   "metadata": {
    "scene__Default Scene": true,
    "tags": [
     "ActiveScene"
    ]
   },
   "outputs": [],
   "source": [
    "from pyphoplacecellanalysis.General.Mixins.DisplayHelpers import debug_print_spikes_df_column_info"
   ]
  },
  {
   "cell_type": "code",
   "execution_count": null,
   "id": "62259452-5a25-4fa2-bb99-b426ea8bc278",
   "metadata": {
    "tags": []
   },
   "outputs": [],
   "source": [
    "# curr_active_pipeline.sess.spikes_df.columns\n",
    "# curr_active_pipeline.sess.spikes_df.spikes.time_variable_name\n",
    "_debug_print_spikes_df_column_info(curr_active_pipeline.sess.spikes_df)"
   ]
  },
  {
   "cell_type": "code",
   "execution_count": null,
   "id": "71817e25-1730-4165-960c-b47dbd9ac9fc",
   "metadata": {
    "tags": []
   },
   "outputs": [],
   "source": [
    "# curr_active_pipeline.filtered_sessions['track'].spikes_df.columns\n",
    "# curr_active_pipeline.filtered_sessions['track'].spikes_df.spikes.time_variable_name\n",
    "_debug_print_spikes_df_column_info(curr_active_pipeline.filtered_sessions['track'].spikes_df)"
   ]
  },
  {
   "cell_type": "code",
   "execution_count": null,
   "id": "5d7bab5b-dcce-4691-9e7c-588a1dcfc02f",
   "metadata": {
    "scrolled": true
   },
   "outputs": [],
   "source": [
    "curr_active_pipeline.sess.neurons._extended_neuron_properties_df"
   ]
  },
  {
   "cell_type": "code",
   "execution_count": null,
   "id": "716fe7a2-b1eb-4574-b89e-ae18504709c4",
   "metadata": {
    "scrolled": true
   },
   "outputs": [],
   "source": [
    "from neuropy.utils.debug_helpers import debug_print_placefield, debug_print_spike_counts, debug_print_subsession_neuron_differences\n",
    "from neuropy.utils.misc import print_seconds_human_readable\n",
    "\n",
    "\n",
    "debug_print_spike_counts(sess)"
   ]
  },
  {
   "cell_type": "markdown",
   "id": "a4ace56f-40c3-41fa-a7cf-f539c51fdce0",
   "metadata": {
    "tags": []
   },
   "source": [
    "### Logging detour:"
   ]
  },
  {
   "cell_type": "code",
   "execution_count": null,
   "id": "6d6eeaab-0f5a-4595-af4a-c7f35928133f",
   "metadata": {
    "tags": []
   },
   "outputs": [],
   "source": [
    "## TODO: ONLY RUN ONCE!\n",
    "import logging\n",
    "logging.captureWarnings(False)\n",
    "logger = logging.getLogger(\"com.PhoHale\")\n",
    "logger.setLevel(logging.DEBUG)\n",
    "logger.addHandler(logging.StreamHandler(stream=sys.stdout))"
   ]
  },
  {
   "cell_type": "code",
   "execution_count": null,
   "id": "1793073d-813d-46ed-b7c7-828d47fc3f4d",
   "metadata": {
    "tags": []
   },
   "outputs": [],
   "source": [
    "root_logger = logging.root"
   ]
  },
  {
   "cell_type": "code",
   "execution_count": null,
   "id": "eb8ba447-0a1c-46f5-bb8f-cc88ab01a82b",
   "metadata": {
    "tags": []
   },
   "outputs": [],
   "source": [
    "root_logger.handlers"
   ]
  },
  {
   "cell_type": "code",
   "execution_count": null,
   "id": "b7c6dac4-eebe-4fd2-97d1-611f78bf12a5",
   "metadata": {
    "tags": []
   },
   "outputs": [],
   "source": [
    "# logger.removeHandler(logging.StreamHandler(stream=sys.stdout))\n",
    "for a_handler in logger.handlers:\n",
    "    logger.removeHandler(a_handler)"
   ]
  },
  {
   "cell_type": "code",
   "execution_count": null,
   "id": "ee985b54-164d-447b-93c9-a437eb3c4986",
   "metadata": {
    "tags": []
   },
   "outputs": [],
   "source": [
    "logger.info('creating an instance of auxiliary_module.Auxiliary')\n",
    "logger.debug('UOS')\n",
    "logger.warning('OH NO!')"
   ]
  },
  {
   "cell_type": "markdown",
   "id": "5363ffd9-88c3-48cc-a0c1-82bfdbd81b4a",
   "metadata": {
    "jp-MarkdownHeadingCollapsed": true,
    "pycharm": {
     "name": "#%%\n"
    },
    "tags": []
   },
   "source": [
    "## 💾 Save out the changes to the pipeline after computation to the pickle file for easy loading in the future:"
   ]
  },
  {
   "cell_type": "code",
   "execution_count": null,
   "id": "9dcef969-7489-4eee-8505-c6a937b1c46f",
   "metadata": {
    "pycharm": {
     "is_executing": false
    },
    "tags": []
   },
   "outputs": [],
   "source": [
    "## Save out the changes to the pipeline after computation to the pickle file for easy loading in the future\n",
    "curr_active_pipeline.save_pipeline(active_pickle_filename='loadedSessPickle.pkl')"
   ]
  },
  {
   "cell_type": "markdown",
   "id": "75cbbfa0",
   "metadata": {
    "tags": []
   },
   "source": [
    "# Common: Single Context(Session) Plotting\n",
    "Common visualization and display functions for both forms of data/pipelines:"
   ]
  },
  {
   "cell_type": "code",
   "execution_count": 3,
   "id": "c4b72a69-4dcb-40c4-9440-80a508ae4fae",
   "metadata": {},
   "outputs": [
    {
     "name": "stdout",
     "output_type": "stream",
     "text": [
      "bapun_RatS-Day5TwoNovel-2020-12-04_07-55-09\n",
      "active_config_names: ['maze1', 'maze2']\n"
     ]
    }
   ],
   "source": [
    "## MATPLOTLIB Imports:\n",
    "import matplotlib\n",
    "# configure backend here\n",
    "matplotlib.use('Qt5Agg')\n",
    "# backend_qt5agg\n",
    "# matplotlib.use('AGG') # non-interactive backend\n",
    "## 2022-08-16 - Surprisingly this works to make the matplotlib figures render only to .png file, not appear on the screen!\n",
    "import matplotlib.pyplot as plt\n",
    "import matplotlib as mpl\n",
    "from neuropy.utils.matplotlib_helpers import enumTuningMap2DPlotVariables # for getting the variant name from the dict\n",
    "_bak_rcParams = mpl.rcParams.copy()\n",
    "mpl.rcParams['toolbar'] = 'None' # disable toolbars\n",
    "\n",
    "debug_print = False\n",
    "\n",
    "## Build the active context by starting with the session context:\n",
    "active_identifying_session_ctx = curr_active_pipeline.sess.get_context() # 'bapun_RatN_Day4_2019-10-15_11-30-06'\n",
    "print(active_identifying_session_ctx)\n",
    "curr_active_pipeline.display_output[active_identifying_session_ctx] = PhoUIContainer()\n",
    "\n",
    "active_config_names = curr_active_pipeline.active_completed_computation_result_names # ['maze', 'sprinkle']\n",
    "print(f'active_config_names: {active_config_names}')\n",
    "active_filter_contexts = {}\n",
    "\n",
    "for a_config_name in active_config_names:\n",
    "    sess = curr_active_pipeline.filtered_sessions[a_config_name]\n",
    "    curr_active_config = curr_active_pipeline.active_configs[a_config_name]\n",
    "    ## Build the active context by starting with the session context:\n",
    "    active_identifying_session_ctx = sess.get_context() # 'bapun_RatN_Day4_2019-10-15_11-30-06'\n",
    "    ## Add the filter to the active context\n",
    "    active_filter_contexts[a_config_name] = active_identifying_session_ctx.adding_context('filter', filter_name=a_config_name) # 'bapun_RatN_Day4_2019-10-15_11-30-06_maze'\n",
    "    curr_active_pipeline.display_output[active_identifying_session_ctx][active_filter_contexts[a_config_name]] = PhoUIContainer()\n",
    "    \n",
    "# ## Plots for each maze programmatically:\n",
    "# _bak_rcParams = mpl.rcParams.copy()\n",
    "# mpl.rcParams['toolbar'] = 'None' # disable toolbars\n",
    "\n",
    "# for i, filter_name in enumerate(curr_active_pipeline.active_config_names):\n",
    "#     active_pf_2D_figures[filter_name] = _display_specified__display_2d_placefield_result_plot_ratemaps_2D(filter_name=filter_name)\n",
    "\n",
    "# mpl.rcParams = _bak_rcParams # restore previous rcParams"
   ]
  },
  {
   "cell_type": "code",
   "execution_count": 4,
   "id": "ec92f665-bd01-4f43-885a-dbe6a6c2f6f3",
   "metadata": {},
   "outputs": [],
   "source": [
    "curr_active_pipeline.display_output[active_identifying_session_ctx] = PhoUIContainer()"
   ]
  },
  {
   "cell_type": "code",
   "execution_count": 5,
   "id": "89051ced-f24c-4c54-a1c6-2406c7dc9386",
   "metadata": {},
   "outputs": [],
   "source": [
    "curr_active_pipeline.display_output[active_identifying_session_ctx] = PhoUIContainer()"
   ]
  },
  {
   "cell_type": "code",
   "execution_count": null,
   "id": "80ae0c7f-9b62-408c-8137-8d05a6cb8791",
   "metadata": {},
   "outputs": [],
   "source": [
    "curr_active_pipeline.display_output"
   ]
  },
  {
   "cell_type": "code",
   "execution_count": null,
   "id": "202fa20d-c8cc-4c85-8618-a94fcb784b7d",
   "metadata": {},
   "outputs": [],
   "source": [
    "curr_context = active_filter_contexts['maze2'] # IdentifyingContext \n",
    "curr_context"
   ]
  },
  {
   "cell_type": "code",
   "execution_count": null,
   "id": "3cbfcbfe-1fcb-4756-b32e-09e3b99f97a7",
   "metadata": {},
   "outputs": [],
   "source": [
    "curr_context.filter_name\n",
    "curr_context.get_description"
   ]
  },
  {
   "cell_type": "markdown",
   "id": "adf2c360-8ac1-4707-a28f-2b044f88d882",
   "metadata": {},
   "source": [
    "## 🟢✅ Create `master_dock_win` - centralized plot output window to collect individual figures/controls in (2022-08-18) "
   ]
  },
  {
   "cell_type": "code",
   "execution_count": 6,
   "id": "70000fff-1759-43fd-8873-a58f5d15abb8",
   "metadata": {
    "tags": []
   },
   "outputs": [
    {
     "name": "stdout",
     "output_type": "stream",
     "text": [
      "active_identifying_ctx_string: bapun|RatS-Day5TwoNovel-2020-12-04_07-55-09|maze1|figure_format_config_widget\n",
      "active_identifying_ctx_string: bapun|RatS-Day5TwoNovel-2020-12-04_07-55-09|maze1|2D Position Decoder\n",
      "active_identifying_ctx_string: bapun|RatS-Day5TwoNovel-2020-12-04_07-55-09|maze1|_temp_pyqtplot_plot_image_array\n",
      "active_identifying_ctx_string: bapun|RatS-Day5TwoNovel-2020-12-04_07-55-09|maze2|figure_format_config_widget\n",
      "active_identifying_ctx_string: bapun|RatS-Day5TwoNovel-2020-12-04_07-55-09|maze2|2D Position Decoder\n",
      "active_identifying_ctx_string: bapun|RatS-Day5TwoNovel-2020-12-04_07-55-09|maze2|_temp_pyqtplot_plot_image_array\n"
     ]
    }
   ],
   "source": [
    "# context_nested_docks\n",
    "from PendingNotebookCode import context_nested_docks, single_context_nested_docks\n",
    "\n",
    "out_items = {}\n",
    "master_dock_win, app, out_items = context_nested_docks(curr_active_pipeline, enable_gui=False, debug_print=True)"
   ]
  },
  {
   "cell_type": "markdown",
   "id": "bbd53caa-1bae-469a-bafe-f76149a19d1c",
   "metadata": {
    "pycharm": {
     "name": "#%%\n"
    },
    "tags": []
   },
   "source": [
    "# 🆕🟨🚧 Common: Single Context(Session, Filter) Plotting\n",
    "Acts on a single specific filter `active_config_name`. Everything below this line will require a valid `active_config_name` to be set."
   ]
  },
  {
   "cell_type": "code",
   "execution_count": 7,
   "id": "75356645-468c-4239-ac27-01c1f895a848",
   "metadata": {},
   "outputs": [
    {
     "name": "stdout",
     "output_type": "stream",
     "text": [
      "active_config_name: maze2\n",
      "active_computed_data.keys(): ['pf1D', 'pf2D', 'pf1D_dt', 'pf2D_dt', 'pf2D_Decoder', 'pf2D_TwoStepDecoder', 'RatemapPeaksAnalysis', 'extended_stats', 'placefield_overlap', 'firing_rate_trends']\n",
      "active_computation_errors: {}\n",
      "Figure Output path: C:\\Users\\pho\\repos\\PhoPy3DPositionAnalysis2021\\EXTERNAL\\Screenshots\\ProgrammaticDisplayFunctionTesting\\2022-09-12\n"
     ]
    }
   ],
   "source": [
    "# %%viztracer\n",
    "# active_config_name = 'maze1'\n",
    "active_config_name = 'maze2'\n",
    "# active_config_name = 'maze'\n",
    "# active_config_name = 'sprinkle'\n",
    "\n",
    "# active_config_name = active_config_names[0] # get the first name by default\n",
    "print(f'active_config_name: {active_config_name}')\n",
    "\n",
    "## Add the filter to the active context\n",
    "active_identifying_filtered_session_ctx = active_identifying_session_ctx.adding_context('filter', filter_name=active_config_name) # 'bapun_RatN_Day4_2019-10-15_11-30-06_maze'\n",
    "    \n",
    "# Get relevant variables:\n",
    "# curr_active_pipeline is set above, and usable here\n",
    "sess: DataSession = curr_active_pipeline.filtered_sessions[active_config_name]\n",
    "\n",
    "active_computation_results = curr_active_pipeline.computation_results[active_config_name]\n",
    "active_computed_data = curr_active_pipeline.computation_results[active_config_name].computed_data\n",
    "active_computation_config = curr_active_pipeline.computation_results[active_config_name].computation_config\n",
    "active_computation_errors = curr_active_pipeline.computation_results[active_config_name].accumulated_errors\n",
    "print(f'active_computed_data.keys(): {list(active_computed_data.keys())}')\n",
    "print(f'active_computation_errors: {active_computation_errors}')\n",
    "active_pf_1D = curr_active_pipeline.computation_results[active_config_name].computed_data['pf1D']\n",
    "active_pf_2D = curr_active_pipeline.computation_results[active_config_name].computed_data['pf2D']    \n",
    "active_pf_1D_dt = curr_active_pipeline.computation_results[active_config_name].computed_data.get('pf1D_dt', None)\n",
    "active_pf_2D_dt = curr_active_pipeline.computation_results[active_config_name].computed_data.get('pf2D_dt', None)\n",
    "active_firing_rate_trends = curr_active_pipeline.computation_results[active_config_name].computed_data.get('firing_rate_trends', None)\n",
    "active_one_step_decoder = curr_active_pipeline.computation_results[active_config_name].computed_data.get('pf2D_Decoder', None)\n",
    "active_two_step_decoder = curr_active_pipeline.computation_results[active_config_name].computed_data.get('pf2D_TwoStepDecoder', None)\n",
    "active_extended_stats = curr_active_pipeline.computation_results[active_config_name].computed_data.get('extended_stats', None)\n",
    "active_eloy_analysis = curr_active_pipeline.computation_results[active_config_name].computed_data.get('EloyAnalysis', None)\n",
    "active_simpler_pf_densities_analysis = curr_active_pipeline.computation_results[active_config_name].computed_data.get('SimplerNeuronMeetingThresholdFiringAnalysis', None)\n",
    "active_ratemap_peaks_analysis = curr_active_pipeline.computation_results[active_config_name].computed_data.get('RatemapPeaksAnalysis', None)\n",
    "active_peak_prominence_2d_results = curr_active_pipeline.computation_results[active_config_name].computed_data.get('RatemapPeaksAnalysis', {}).get('PeakProminence2D', None)\n",
    "active_measured_positions = curr_active_pipeline.computation_results[active_config_name].sess.position.to_dataframe()\n",
    "curr_spikes_df = sess.spikes_df\n",
    "\n",
    "curr_active_config = curr_active_pipeline.active_configs[active_config_name]\n",
    "curr_active_display_config = curr_active_config.plotting_config\n",
    "\n",
    "# display_output = dict()\n",
    "display_output = curr_active_pipeline.display_output\n",
    "\n",
    "def _get_curr_figure_format_config():\n",
    "    \"\"\" Aims to fetch the current figure_format_config and context from the figure_format_config widget:    \n",
    "    Implicitly captures: `out_items`, `active_config_name`, `active_identifying_filtered_session_ctx` \n",
    "    \"\"\"\n",
    "    ## Get the figure_format_config from the figure_format_config widget:\n",
    "    # Fetch the context from the GUI:\n",
    "    _curr_gui_session_ctx, _curr_gui_out_display_items = out_items[active_config_name]\n",
    "    \n",
    "    \n",
    "    _curr_gui_figure_format_config_widget = _curr_gui_out_display_items[active_identifying_filtered_session_ctx.adding_context('display_fn', display_fn_name='figure_format_config_widget')] # [0] is seemingly not needed to unpack the tuple\n",
    "    if _curr_gui_figure_format_config_widget is not None:\n",
    "        # has GUI for config\n",
    "        figure_format_config = _curr_gui_figure_format_config_widget.figure_format_config\n",
    "    else:\n",
    "        # has non-GUI provider of figure_format_config\n",
    "        figure_format_config = _curr_gui_figure_format_config_widget.figure_format_config\n",
    "    \n",
    "    if debug_print:\n",
    "        print(f'recovered gui figure_format_config: {figure_format_config}')\n",
    "        \n",
    "    return figure_format_config\n",
    "\n",
    "figure_format_config = _get_curr_figure_format_config()\n",
    "\n",
    "\n",
    "## PDF Output, NOTE this is single plot stuff: uses active_config_name\n",
    "from matplotlib.backends import backend_pdf, backend_pgf, backend_ps\n",
    "from pyphoplacecellanalysis.General.Mixins.ExportHelpers import build_pdf_export_metadata\n",
    "\n",
    "filter_name = active_config_name\n",
    "_build_pdf_pages_output_info, programmatic_display_function_testing_output_parent_path = build_pdf_export_metadata(curr_active_pipeline.sess.get_description(), filter_name=filter_name)\n",
    "print(f'Figure Output path: {str(programmatic_display_function_testing_output_parent_path)}')"
   ]
  },
  {
   "cell_type": "markdown",
   "id": "bcb24b7e-5752-4b04-b09f-dca569e3912c",
   "metadata": {
    "tags": []
   },
   "source": [
    "### Plots for each (session, filter):\n",
    "🔜 NEXT STEP: TODO: 2022-08-10 - Got the ratemaps plotting working for all filters and those combined into a single window (with items docked) using `_build_docked_pf_2D_figures_widget`. Now need to add more plots, like the `DecoderPlotSelectorWidget`"
   ]
  },
  {
   "cell_type": "markdown",
   "id": "ba2fac46-a6c6-4519-be64-e83711e9a8a8",
   "metadata": {
    "jp-MarkdownHeadingCollapsed": true,
    "tags": []
   },
   "source": [
    "## 🚧🟨🔜 TODO 2022-08-18: refactor curr_active_pipeline.display(...) to take a IdentifyingContext instead of the inputs it currently takes"
   ]
  },
  {
   "cell_type": "code",
   "execution_count": null,
   "id": "7bf7c24b-9791-465f-897d-c7eb89aacaa1",
   "metadata": {},
   "outputs": [],
   "source": [
    "# @capture_new_figures_decorator\n",
    "def _display_specified__display_2d_placefield_result_plot_ratemaps_2D(filter_name, debug_print=True):\n",
    "    \"\"\" Implicitly captures out_items, `active_identifying_filtered_session_ctx` \"\"\"\n",
    "    ## Add the filter to the active context\n",
    "    active_identifying_display_ctx = active_identifying_filtered_session_ctx.adding_context('display_fn', display_fn_name='_display_2d_placefield_result_plot_ratemaps_2D')\n",
    "\n",
    "    # Fetch the context from the GUI:\n",
    "    figure_format_config = _get_curr_figure_format_config()\n",
    "    \n",
    "    active_filter_pf_2D_figures = {}\n",
    "    \n",
    "    # active_identifying_ctx = active_identifying_display_ctx.adding_context('plot_variable', variable_name=enumTuningMap2DPlotVariables.SPIKES_MAPS)\n",
    "    # active_identifying_ctx_string = active_identifying_ctx.get_description(separator='|') # Get final discription string\n",
    "    # if debug_print:\n",
    "    #     print(f'active_identifying_ctx_string: {active_identifying_ctx_string}')\n",
    "    # active_filter_pf_2D_figures['SPIKES_MAPS'] = curr_active_pipeline.display('_display_2d_placefield_result_plot_ratemaps_2D', filter_name, plot_variable=enumTuningMap2DPlotVariables.SPIKES_MAPS, fignum=active_identifying_ctx_string, **figure_format_config)[0]\n",
    "    \n",
    "    active_identifying_ctx = active_identifying_display_ctx.adding_context('plot_variable', variable_name=enumTuningMap2DPlotVariables.TUNING_MAPS)\n",
    "    active_identifying_ctx_string = active_identifying_ctx.get_description(separator='|') # Get final discription string\n",
    "    if debug_print:\n",
    "        print(f'active_identifying_ctx_string: {active_identifying_ctx_string}')\n",
    "    \n",
    "    active_filter_pf_2D_figures['TUNING_MAPS'] = curr_active_pipeline.display('_display_2d_placefield_result_plot_ratemaps_2D', filter_name, plot_variable=enumTuningMap2DPlotVariables.TUNING_MAPS, fignum=active_identifying_ctx_string, **figure_format_config)[0]\n",
    "    return active_filter_pf_2D_figures\n",
    "\n",
    "active_pf_2D_figures = {}\n",
    "active_pf_2D_figures[active_config_name] = _display_specified__display_2d_placefield_result_plot_ratemaps_2D(filter_name=active_config_name)\n",
    "\n",
    "# active_pf_2D_figures\n",
    "# {'maze1': {'SPIKES_MAPS': <Figure size 1728x1080 with 88 Axes>,\n",
    "#   'TUNING_MAPS': <Figure size 1728x1080 with 88 Axes>},\n",
    "#  'maze2': {'SPIKES_MAPS': <Figure size 1728x864 with 71 Axes>,\n",
    "#   'TUNING_MAPS': <Figure size 1728x864 with 71 Axes>}}\n",
    "\n",
    "#### Build Output Docked Window\n",
    "from PendingNotebookCode import _build_docked_pf_2D_figures_widget\n",
    "# win, all_dock_display_items, all_nested_dock_area_widgets, all_nested_dock_area_widget_display_items = _build_docked_pf_2D_figures_widget(active_pf_2D_figures, should_nest_figures_on_filter=True, extant_dockAreaWidget=None, debug_print=False)\n",
    "win, all_dock_display_items, all_nested_dock_area_widgets, all_nested_dock_area_widget_display_items = _build_docked_pf_2D_figures_widget(active_pf_2D_figures, should_nest_figures_on_filter=False, extant_dockAreaWidget=master_dock_win, debug_print=False)"
   ]
  },
  {
   "cell_type": "markdown",
   "id": "47694715-4894-42e2-8731-d146748c1d05",
   "metadata": {
    "scene__Default Scene": true,
    "tags": [
     "ActiveScene"
    ]
   },
   "source": [
    "# Main Visualization GUIs"
   ]
  },
  {
   "cell_type": "markdown",
   "id": "c664c89c-1e98-4184-bac1-ed93301be0b4",
   "metadata": {
    "pycharm": {
     "is_executing": false,
     "name": "#%%\n"
    },
    "tags": []
   },
   "source": [
    "## 3D Interactive Spike Raster Window"
   ]
  },
  {
   "cell_type": "code",
   "execution_count": 8,
   "id": "e52bfe1a-36af-41c4-8270-1d236e314f95",
   "metadata": {
    "pycharm": {
     "is_executing": false,
     "name": "#%%\n"
    },
    "scene__Default Scene": true,
    "tags": [
     "ActiveScene",
     "gui",
     "launch",
     "main_run"
    ]
   },
   "outputs": [
    {
     "name": "stdout",
     "output_type": "stream",
     "text": [
      "Spike2DRaster.setup(): adding \"visualization_raster_y_location\" column to spikes_df...\n",
      "done.\n",
      "_run_delayed_gui_load_code() called!\n",
      "driver with key TimeSynchronizedPlotterBaseWindow already exists and is a different object. Disambiguating name...\n",
      "\t proposed_driver_name is now TimeSynchronizedPlotterBaseWindow_1\n"
     ]
    }
   ],
   "source": [
    "from sklearn.preprocessing import MinMaxScaler\n",
    "# from pyphoplacecellanalysis.GUI.PyQtPlot.Widgets.Mixins.RenderTimeEpochs.Specific2DRenderTimeEpochs import Specific2DRenderTimeEpochsHelper\n",
    "from pyphoplacecellanalysis.General.Model.Datasources.IntervalDatasource import IntervalsDatasource\n",
    "from pyphoplacecellanalysis.General.Model.RenderDataseries import RenderDataseries\n",
    "from pyphoplacecellanalysis.General.Model.Datasources.CurveDatasource import CurveDatasource # only used in build_test_2D_time_curves for future implementation\n",
    "from pyphoplacecellanalysis.General.Mixins.DisplayHelpers import debug_print_axes_locations\n",
    "from pyphoplacecellanalysis.GUI.Qt.SpikeRasterWindows.Spike3DRasterWindowWidget import Spike3DRasterWindowWidget\n",
    "\n",
    "# from pyphoplacecellanalysis.External.\n",
    "\n",
    "# display_output = display_output | curr_active_pipeline.display('_display_spike_rasters_window', active_config_name) # , type_of_3d_plotter=None\n",
    "# display_output = display_output | curr_active_pipeline.display('_display_spike_rasters_window', active_config_name) # , type_of_3d_plotter=None\n",
    "\n",
    "display_output = display_output | curr_active_pipeline.display('_display_spike_rasters_window', active_identifying_filtered_session_ctx) # , type_of_3d_plotter=None\n",
    "spike_raster_window = display_output['spike_raster_window']\n",
    "# Extras:\n",
    "active_2d_plot = spike_raster_window.spike_raster_plt_2d # <pyphoplacecellanalysis.GUI.PyQtPlot.Widgets.SpikeRasterWidgets.Spike2DRaster.Spike2DRaster at 0x196c7244280>\n",
    "active_3d_plot = spike_raster_window.spike_raster_plt_3d # <pyphoplacecellanalysis.GUI.PyQtPlot.Widgets.SpikeRasterWidgets.Spike2DRaster.Spike2DRaster at 0x196c7244280>\n",
    "main_graphics_layout_widget = active_2d_plot.ui.main_graphics_layout_widget # GraphicsLayoutWidget\n",
    "main_plot_widget = active_2d_plot.plots.main_plot_widget # PlotItem\n",
    "background_static_scroll_plot_widget = active_2d_plot.plots.background_static_scroll_window_plot # PlotItem"
   ]
  },
  {
   "cell_type": "code",
   "execution_count": null,
   "id": "101b0790-d425-4157-a81b-c05f50492dd5",
   "metadata": {
    "pycharm": {
     "is_executing": false,
     "name": "#%%\n"
    },
    "scene__Default Scene": true,
    "tags": [
     "ActiveScene",
     "gui",
     "launch",
     "main_run"
    ]
   },
   "outputs": [],
   "source": [
    "curr_active_pipeline.display_output"
   ]
  },
  {
   "cell_type": "code",
   "execution_count": null,
   "id": "ea4efe8b-e6be-4ab0-8ab8-40293bb61e46",
   "metadata": {
    "pycharm": {
     "is_executing": false,
     "name": "#%%\n"
    },
    "scene__Default Scene": true,
    "tags": [
     "ActiveScene",
     "gui",
     "launch",
     "main_run"
    ]
   },
   "outputs": [],
   "source": [
    "display_output"
   ]
  },
  {
   "cell_type": "code",
   "execution_count": null,
   "id": "9ea0741d-b30b-4dfb-8965-32d45be16369",
   "metadata": {
    "pycharm": {
     "is_executing": false,
     "name": "#%%\n"
    },
    "scene__Default Scene": true,
    "tags": [
     "ActiveScene",
     "gui",
     "launch",
     "main_run"
    ]
   },
   "outputs": [],
   "source": [
    "spike_raster_window.spike_raster_plt_2d"
   ]
  },
  {
   "cell_type": "code",
   "execution_count": null,
   "id": "d8ecec3e-853e-487c-a5c1-0c8a9e0994ff",
   "metadata": {
    "pycharm": {
     "is_executing": false,
     "name": "#%%\n"
    },
    "scene__Default Scene": true,
    "tags": [
     "ActiveScene",
     "gui",
     "launch",
     "main_run"
    ]
   },
   "outputs": [],
   "source": [
    "# spike_raster_window.connect_controlled_time_synchronized_plotter(controlled_plt=)"
   ]
  },
  {
   "cell_type": "code",
   "execution_count": null,
   "id": "09154a38-000f-4f34-b09b-a42802a74fb6",
   "metadata": {
    "pycharm": {
     "is_executing": false,
     "name": "#%%\n"
    },
    "scene__Default Scene": true,
    "tags": [
     "ActiveScene",
     "gui",
     "launch",
     "main_run"
    ]
   },
   "outputs": [],
   "source": [
    "# spike_raster_window.\n",
    "curr_window = PhoMenuHelper.try_get_menu_window(spike_raster_window)\n",
    "curr_window # PhoBaseMainWindow "
   ]
  },
  {
   "cell_type": "code",
   "execution_count": null,
   "id": "c68cec56-ec9a-4d8c-93f5-d5f2c668ee99",
   "metadata": {
    "pycharm": {
     "is_executing": false,
     "name": "#%%\n"
    },
    "scene__Default Scene": true,
    "tags": [
     "ActiveScene",
     "gui",
     "launch",
     "main_run"
    ]
   },
   "outputs": [],
   "source": [
    "print_keys_if_possible('curr_window.ui.menus', curr_window.ui.menus, depth=1)"
   ]
  },
  {
   "cell_type": "code",
   "execution_count": null,
   "id": "fb987d2a-99e1-4d36-808d-11a1d9505e96",
   "metadata": {
    "pycharm": {
     "is_executing": false,
     "name": "#%%\n"
    },
    "scene__Default Scene": true,
    "tags": [
     "ActiveScene",
     "gui",
     "launch",
     "main_run"
    ]
   },
   "outputs": [],
   "source": [
    "curr_window.ui.menus.global_window_menus.create_linked_widget.all_refs"
   ]
  },
  {
   "cell_type": "code",
   "execution_count": null,
   "id": "dc8bbd0e-efef-474c-9ad8-78558cf1595d",
   "metadata": {
    "pycharm": {
     "is_executing": false,
     "name": "#%%\n"
    },
    "scene__Default Scene": true,
    "tags": [
     "ActiveScene",
     "gui",
     "launch",
     "main_run"
    ]
   },
   "outputs": [],
   "source": [
    "widget, renderable_menu, (submenu_menuItems, submenu_menuCallbacks, submenu_menu_Connections) = curr_window.ui.menus.global_window_menus.create_linked_widget.all_refs\n",
    "submenu_menuItems"
   ]
  },
  {
   "cell_type": "code",
   "execution_count": null,
   "id": "bc8d9a1c-d2bd-4a54-b340-9a0ceb8b59cb",
   "metadata": {
    "pycharm": {
     "is_executing": false,
     "name": "#%%\n"
    },
    "scene__Default Scene": true,
    "tags": [
     "ActiveScene",
     "gui",
     "launch",
     "main_run"
    ]
   },
   "outputs": [],
   "source": [
    "CreateNewTimeSynchronizedPlotterCommand"
   ]
  },
  {
   "cell_type": "code",
   "execution_count": null,
   "id": "e723ebac-47d8-40b2-8478-a813bdc8228e",
   "metadata": {
    "pycharm": {
     "is_executing": false,
     "name": "#%%\n"
    },
    "scene__Default Scene": true,
    "tags": [
     "ActiveScene",
     "gui",
     "launch",
     "main_run"
    ]
   },
   "outputs": [],
   "source": [
    "# active_pf_2D_dt\n",
    "display_output"
   ]
  },
  {
   "cell_type": "code",
   "execution_count": null,
   "id": "3ffcd244-60fb-4a43-9a23-d6780ce22d1f",
   "metadata": {
    "pycharm": {
     "is_executing": false,
     "name": "#%%\n"
    },
    "scene__Default Scene": true,
    "tags": [
     "ActiveScene",
     "gui",
     "launch",
     "main_run"
    ]
   },
   "outputs": [],
   "source": [
    "display_output"
   ]
  },
  {
   "cell_type": "code",
   "execution_count": null,
   "id": "d194815e-c19b-4d51-a9bc-e980280d20b1",
   "metadata": {
    "pycharm": {
     "is_executing": false,
     "name": "#%%\n"
    },
    "scene__Default Scene": true,
    "tags": [
     "ActiveScene",
     "gui",
     "launch",
     "main_run"
    ]
   },
   "outputs": [],
   "source": [
    "from pyphoplacecellanalysis.GUI.Qt.Mixins.Menus.CreateLinkedWidget_MenuProvider import CreateNewTimeSynchronizedPlotterCommand\n",
    "\n",
    "curr_window.ui.menus.global_window_menus.create_linked_widget.actions_dict['actionCreateNewTimeSynchronizedOccupancyPlotter'] = CreateNewTimeSynchronizedPlotterCommand(spike_raster_window, active_pf_2D_dt, plotter_type='occupancy', display_output=display_output)"
   ]
  },
  {
   "cell_type": "code",
   "execution_count": null,
   "id": "ea53239b-6c43-47bf-9586-6cd391b6b396",
   "metadata": {
    "pycharm": {
     "is_executing": false,
     "name": "#%%\n"
    },
    "scene__Default Scene": true,
    "tags": [
     "ActiveScene",
     "gui",
     "launch",
     "main_run"
    ]
   },
   "outputs": [],
   "source": [
    "active_pf_2D_dt.reset()\n",
    "active_pf_2D_dt.update(t=45.0, start_relative_t=True)\n",
    "curr_window.ui.menus.global_window_menus.create_linked_widget.actions_dict['actionCreateNewTimeSynchronizedOccupancyPlotter'].execute('')"
   ]
  },
  {
   "cell_type": "code",
   "execution_count": null,
   "id": "a6d545d2-3888-4081-8e8f-44956015e5b1",
   "metadata": {
    "pycharm": {
     "is_executing": false,
     "name": "#%%\n"
    },
    "scene__Default Scene": true,
    "tags": [
     "ActiveScene",
     "gui",
     "launch",
     "main_run"
    ]
   },
   "outputs": [],
   "source": [
    "curr_action = curr_window.ui.menus.global_window_menus.create_linked_widget.actions_dict['actionTimeSynchronizedOccupancyPlotter'] # QAction \n",
    "curr_action"
   ]
  },
  {
   "cell_type": "code",
   "execution_count": null,
   "id": "5b5dea6c-b3e2-4024-9e54-0a4df3ebe20c",
   "metadata": {
    "pycharm": {
     "is_executing": false,
     "name": "#%%\n"
    },
    "scene__Default Scene": true,
    "tags": [
     "ActiveScene",
     "gui",
     "launch",
     "main_run"
    ]
   },
   "outputs": [],
   "source": [
    "# curr_action.setParent()\n",
    "curr_action.parent() # <pyphoplacecellanalysis.GUI.Qt.GlobalApplicationMenus.LocalMenus_AddRenderable.LocalMenus_AddRenderable at 0x229506cfb80>"
   ]
  },
  {
   "cell_type": "code",
   "execution_count": null,
   "id": "aaa30887-97b3-4681-b831-ab5c665aef18",
   "metadata": {
    "pycharm": {
     "is_executing": false,
     "name": "#%%\n"
    },
    "scene__Default Scene": true,
    "tags": [
     "ActiveScene",
     "gui",
     "launch",
     "main_run"
    ]
   },
   "outputs": [],
   "source": [
    "curr_action.parentWidget() # <pyphoplacecellanalysis.GUI.Qt.GlobalApplicationMenus.LocalMenus_AddRenderable.LocalMenus_AddRenderable at 0x229506cfb80>"
   ]
  },
  {
   "cell_type": "code",
   "execution_count": null,
   "id": "6eaed537-ce1a-4d50-b48a-c030040104ee",
   "metadata": {
    "pycharm": {
     "is_executing": false,
     "name": "#%%\n"
    },
    "scene__Default Scene": true,
    "tags": [
     "ActiveScene",
     "gui",
     "launch",
     "main_run"
    ]
   },
   "outputs": [],
   "source": [
    "curr_window.ui.menus.global_window_menus.create_linked_widget.top_level_menu.parent() # <PyQt5.QtWidgets.QMenuBar at 0x229506cfca0>\n",
    "curr_window.ui.menus.global_window_menus.create_linked_widget.top_level_menu.parentWidget() # <PyQt5.QtWidgets.QMenuBar at 0x229506cfca0>"
   ]
  },
  {
   "cell_type": "code",
   "execution_count": null,
   "id": "f24dc96d-7463-47a1-9de2-d08dd87c3add",
   "metadata": {
    "pycharm": {
     "is_executing": false,
     "name": "#%%\n"
    },
    "scene__Default Scene": true,
    "tags": [
     "ActiveScene",
     "gui",
     "launch",
     "main_run"
    ]
   },
   "outputs": [],
   "source": [
    "new_dest_menubar = curr_window.menuBar()\n",
    "new_dest_menubar"
   ]
  },
  {
   "cell_type": "code",
   "execution_count": null,
   "id": "4b744fe5-fea1-4e58-9838-acb4acba2d2d",
   "metadata": {
    "pycharm": {
     "is_executing": false,
     "name": "#%%\n"
    },
    "scene__Default Scene": true,
    "tags": [
     "ActiveScene",
     "gui",
     "launch",
     "main_run"
    ]
   },
   "outputs": [],
   "source": [
    "oldLocalMenus_AddRenderable = curr_window.ui.menus.global_window_menus.create_linked_widget.all_refs # <pyphoplacecellanalysis.GUI.Qt.GlobalApplicationMenus.LocalMenus_AddRenderable.LocalMenus_AddRenderable at 0x229506cfb80>\n",
    "oldLocalMenus_AddRenderable\n",
    "\n",
    "old_menubar = oldLocalMenus_AddRenderable.ui.menubar # <PyQt5.QtWidgets.QMenuBar at 0x229506cfca0>\n",
    "old_menubar\n",
    "\n",
    "old_menu_item = oldLocalMenus_AddRenderable.ui.menuCreate_Paired_Widget\n",
    "old_menu_item\n",
    "\n",
    "print(f'old_menu_item.title(): {old_menu_item.title()}')"
   ]
  },
  {
   "cell_type": "code",
   "execution_count": null,
   "id": "8ad23127-f50c-424e-abb8-4431adfcf68f",
   "metadata": {
    "pycharm": {
     "is_executing": false,
     "name": "#%%\n"
    },
    "scene__Default Scene": true,
    "tags": [
     "ActiveScene",
     "gui",
     "launch",
     "main_run"
    ]
   },
   "outputs": [],
   "source": []
  },
  {
   "cell_type": "code",
   "execution_count": null,
   "id": "214e4491-9627-4587-9984-11e3417e77a2",
   "metadata": {
    "pycharm": {
     "is_executing": false,
     "name": "#%%\n"
    },
    "scene__Default Scene": true,
    "tags": [
     "ActiveScene",
     "gui",
     "launch",
     "main_run"
    ]
   },
   "outputs": [],
   "source": [
    "curr_window.ui.menus.global_window_menus.create_linked_widget.top_level_menu.parent()"
   ]
  },
  {
   "cell_type": "code",
   "execution_count": null,
   "id": "6beaf557-f4e7-40fe-b05e-24dd928fcaf7",
   "metadata": {
    "pycharm": {
     "is_executing": false,
     "name": "#%%\n"
    },
    "scene__Default Scene": true,
    "tags": [
     "ActiveScene",
     "gui",
     "launch",
     "main_run"
    ]
   },
   "outputs": [],
   "source": [
    "curr_window.ui.menus.global_window_menus.create_linked_widget.top_level_menu.parentWidget() # <PyQt5.QtWidgets.QMenuBar at 0x229506cfca0>"
   ]
  },
  {
   "cell_type": "code",
   "execution_count": null,
   "id": "1d602e94-732d-4d8c-ad06-60225fdc4f03",
   "metadata": {
    "pycharm": {
     "is_executing": false,
     "name": "#%%\n"
    },
    "scene__Default Scene": true,
    "tags": [
     "ActiveScene",
     "gui",
     "launch",
     "main_run"
    ]
   },
   "outputs": [],
   "source": [
    "curr_window.ui.menus.global_window_menus.create_linked_widget.top_level_menu.setParent(new_dest_menubar)"
   ]
  },
  {
   "cell_type": "code",
   "execution_count": null,
   "id": "afb7870f-9bb4-484b-96c9-567dce503c4a",
   "metadata": {
    "pycharm": {
     "is_executing": false,
     "name": "#%%\n"
    },
    "scene__Default Scene": true,
    "tags": [
     "ActiveScene",
     "gui",
     "launch",
     "main_run"
    ]
   },
   "outputs": [],
   "source": [
    "old_menu_item = old_menubar.children()[1] # <PyQt5.QtWidgets.QMenu at 0x229506cfd30>\n",
    "old_menu_item\n",
    "\n",
    "old_menu_item.title()\n",
    "\n",
    "# old_menu_item.icon()\n",
    "old_menu_item.actions()\n",
    "\n",
    "# [<PyQt5.QtWidgets.QAction at 0x228f4670550>,\n",
    "#  <PyQt5.QtWidgets.QAction at 0x228f4670700>,\n",
    "#  <PyQt5.QtWidgets.QAction at 0x229508d5820>,\n",
    "#  <PyQt5.QtWidgets.QAction at 0x229508d51f0>,\n",
    "#  <PyQt5.QtWidgets.QAction at 0x229508d5d30>,\n",
    "#  <PyQt5.QtWidgets.QAction at 0x229508d5670>]\n",
    "\n",
    "old_children_items = old_menu_item.children()\n",
    "old_children_items\n",
    "# [<PyQt5.QtWidgets.QAction at 0x228f4670ee0>,\n",
    "#  <PyQt5.QtWidgets.QMenu at 0x229506cfdc0>,\n",
    "#  <PyQt5.QtWidgets.QMenu at 0x229506cfee0>,\n",
    "#  <PyQt5.QtWidgets.QAction at 0x229508d5d30>]"
   ]
  },
  {
   "cell_type": "code",
   "execution_count": null,
   "id": "7bc23964-1fd6-461a-b229-f8b790837627",
   "metadata": {
    "pycharm": {
     "is_executing": false,
     "name": "#%%\n"
    },
    "scene__Default Scene": true,
    "tags": [
     "ActiveScene",
     "gui",
     "launch",
     "main_run"
    ]
   },
   "outputs": [],
   "source": [
    "# for an_item in old_children_items\n",
    "new_menu, new_children_items, new_actions = PhoMenuHelper.perform_copy_QMenu(old_menu_item, action_parent=curr_window, menu_parent=new_dest_menubar, debug_print=True)\n",
    "new_menu"
   ]
  },
  {
   "cell_type": "code",
   "execution_count": null,
   "id": "217d847d-ee23-4338-88fd-6df7ed24e7c1",
   "metadata": {
    "pycharm": {
     "is_executing": false,
     "name": "#%%\n"
    },
    "scene__Default Scene": true,
    "tags": [
     "ActiveScene",
     "gui",
     "launch",
     "main_run"
    ]
   },
   "outputs": [],
   "source": [
    "new_menu"
   ]
  },
  {
   "cell_type": "code",
   "execution_count": null,
   "id": "3fc35351-edfd-423d-9fca-a7d72e46c680",
   "metadata": {
    "pycharm": {
     "is_executing": false,
     "name": "#%%\n"
    },
    "scene__Default Scene": true,
    "tags": [
     "ActiveScene",
     "gui",
     "launch",
     "main_run"
    ]
   },
   "outputs": [],
   "source": [
    "new_children_items"
   ]
  },
  {
   "cell_type": "code",
   "execution_count": null,
   "id": "594e6d4f-2981-49d8-b591-379590999d77",
   "metadata": {
    "pycharm": {
     "is_executing": false,
     "name": "#%%\n"
    },
    "scene__Default Scene": true,
    "tags": [
     "ActiveScene",
     "gui",
     "launch",
     "main_run"
    ]
   },
   "outputs": [],
   "source": [
    "new_actions"
   ]
  },
  {
   "cell_type": "code",
   "execution_count": null,
   "id": "5d1e73c7-f485-47a6-a964-696034c54894",
   "metadata": {
    "pycharm": {
     "is_executing": false,
     "name": "#%%\n"
    },
    "scene__Default Scene": true,
    "tags": [
     "ActiveScene",
     "gui",
     "launch",
     "main_run"
    ]
   },
   "outputs": [],
   "source": [
    "{an_action.text():an_action for an_action in new_actions}"
   ]
  },
  {
   "cell_type": "code",
   "execution_count": null,
   "id": "86c672f7-5cf1-4d62-b892-e077482a876e",
   "metadata": {
    "pycharm": {
     "is_executing": false,
     "name": "#%%\n"
    },
    "scene__Default Scene": true,
    "tags": [
     "ActiveScene",
     "gui",
     "launch",
     "main_run"
    ]
   },
   "outputs": [],
   "source": [
    "[an_action.parent() for an_action in new_actions]"
   ]
  },
  {
   "cell_type": "code",
   "execution_count": null,
   "id": "5184716f-d7b3-417a-9df7-55cd8e06d75b",
   "metadata": {
    "pycharm": {
     "is_executing": false,
     "name": "#%%\n"
    },
    "scene__Default Scene": true,
    "tags": [
     "ActiveScene",
     "gui",
     "launch",
     "main_run"
    ]
   },
   "outputs": [],
   "source": [
    "new_menu.parent() == old_menubar"
   ]
  },
  {
   "cell_type": "code",
   "execution_count": null,
   "id": "2b5cd863-0609-433f-9976-caf1a4fadd8b",
   "metadata": {
    "pycharm": {
     "is_executing": false,
     "name": "#%%\n"
    },
    "scene__Default Scene": true,
    "tags": [
     "ActiveScene",
     "gui",
     "launch",
     "main_run"
    ]
   },
   "outputs": [],
   "source": [
    "new_menu.setEnabled(new_menu.isEnabled())"
   ]
  },
  {
   "cell_type": "code",
   "execution_count": null,
   "id": "86e62d67-6bce-4ca5-a40a-e2d7dc486df2",
   "metadata": {
    "pycharm": {
     "is_executing": false,
     "name": "#%%\n"
    },
    "scene__Default Scene": true,
    "tags": [
     "ActiveScene",
     "gui",
     "launch",
     "main_run"
    ]
   },
   "outputs": [],
   "source": [
    "_new_connection = submenu_menuItems[0].triggered.connect(curr_window.ui.menus.global_window_menus.create_linked_widget.actions_dict['actionCreateNewTimeSynchronizedOccupancyPlotter'])\n",
    "\n",
    "# _new_connection = submenu_menuItems[0].triggered.connect(CreateNewTimeSynchronizedPlotterCommand(spike_raster_window, active_pf_2D_dt, plotter_type='occupancy', display_output=display_output))"
   ]
  },
  {
   "cell_type": "code",
   "execution_count": null,
   "id": "e35e29af-7fb2-444a-b297-bf14e01ca911",
   "metadata": {
    "pycharm": {
     "is_executing": false,
     "name": "#%%\n"
    },
    "scene__Default Scene": true,
    "tags": [
     "ActiveScene",
     "gui",
     "launch",
     "main_run"
    ]
   },
   "outputs": [],
   "source": [
    "submenu_menuItems[0].triggered.disconnect()"
   ]
  },
  {
   "cell_type": "code",
   "execution_count": null,
   "id": "e0c7f4f5-64a7-4499-987e-f0e28413fc6f",
   "metadata": {
    "pycharm": {
     "is_executing": false,
     "name": "#%%\n"
    },
    "scene__Default Scene": true,
    "tags": [
     "ActiveScene",
     "gui",
     "launch",
     "main_run"
    ]
   },
   "outputs": [],
   "source": [
    "(self.menuCreate_Paired_Widget.menuAction()"
   ]
  },
  {
   "cell_type": "code",
   "execution_count": null,
   "id": "eb944148-46be-4420-999f-dd11b84bedeb",
   "metadata": {
    "pycharm": {
     "is_executing": false,
     "name": "#%%\n"
    },
    "scene__Default Scene": true,
    "tags": [
     "ActiveScene",
     "gui",
     "launch",
     "main_run"
    ]
   },
   "outputs": [],
   "source": [
    "curr_window.ui.menus.global_window_menus.create_linked_widget.actions_dict['actionCreateNewTimeSynchronizedOccupancyPlotter'] = submenu_menuItems[0].triggered.connect(CreateNewTimeSynchronizedPlotterCommand(spike_raster_window, active_pf_2D_dt, plotter_type='occupancy', display_output=display_output))\n",
    "\n"
   ]
  },
  {
   "cell_type": "code",
   "execution_count": null,
   "id": "ba51a5e5-aac6-4493-94ac-f844350521f1",
   "metadata": {
    "pycharm": {
     "is_executing": false,
     "name": "#%%\n"
    },
    "scene__Default Scene": true,
    "tags": [
     "ActiveScene",
     "gui",
     "launch",
     "main_run"
    ]
   },
   "outputs": [],
   "source": []
  },
  {
   "cell_type": "code",
   "execution_count": null,
   "id": "b9330393-d655-4497-b75b-a02938aed356",
   "metadata": {
    "pycharm": {
     "is_executing": false,
     "name": "#%%\n"
    },
    "scene__Default Scene": true,
    "tags": [
     "ActiveScene",
     "gui",
     "launch",
     "main_run"
    ]
   },
   "outputs": [],
   "source": []
  },
  {
   "cell_type": "code",
   "execution_count": null,
   "id": "1a471ca1-f05d-4762-b6bf-f2f6b243ca1d",
   "metadata": {
    "pycharm": {
     "is_executing": false,
     "name": "#%%\n"
    },
    "scene__Default Scene": true,
    "tags": [
     "ActiveScene",
     "gui",
     "launch",
     "main_run"
    ]
   },
   "outputs": [],
   "source": [
    "_createLinkedWidget_menu_provider = CreateLinkedWidget_MenuProvider(render_widget=spike_raster_window)\n",
    "_createLinkedWidget_menu_provider.CreateLinkedWidget_MenuProvider_on_init()\n",
    "_createLinkedWidget_menu_provider.CreateLinkedWidget_MenuProvider_on_buildUI()\n",
    "# top_level_menu, actions_dict, all_refs = _createLinkedWidget_menu_provider.CreateLinkedWidget_MenuProvider_on_buildUI()"
   ]
  },
  {
   "cell_type": "code",
   "execution_count": null,
   "id": "aad2c7f3-c2dd-4831-9cd7-c7823bed3112",
   "metadata": {
    "pycharm": {
     "is_executing": false,
     "name": "#%%\n"
    },
    "scene__Default Scene": true,
    "tags": [
     "ActiveScene",
     "gui",
     "launch",
     "main_run"
    ]
   },
   "outputs": [],
   "source": [
    "_createLinkedWidget_menu_provider.activeMenuReference"
   ]
  },
  {
   "cell_type": "code",
   "execution_count": null,
   "id": "1585fbca-b6df-4d01-9e2f-798aa260268f",
   "metadata": {
    "pycharm": {
     "is_executing": false,
     "name": "#%%\n"
    },
    "scene__Default Scene": true,
    "tags": [
     "ActiveScene",
     "gui",
     "launch",
     "main_run"
    ]
   },
   "outputs": [],
   "source": [
    "rendered_epoch_rects_container = active_2d_plot.rendered_epochs['Replays'] # RenderedEpochsItemsContainer\n",
    "\n",
    "main_plot_curr_rects = rendered_epoch_rects_container[main_plot_widget] # IntervalRectsItem \n",
    "main_plot_curr_rects"
   ]
  },
  {
   "cell_type": "code",
   "execution_count": null,
   "id": "fc421891-fbbc-41dd-b238-b5f4a79c8a5d",
   "metadata": {
    "pycharm": {
     "is_executing": false,
     "name": "#%%\n"
    },
    "scene__Default Scene": true,
    "tags": [
     "ActiveScene",
     "gui",
     "launch",
     "main_run"
    ]
   },
   "outputs": [],
   "source": [
    "main_plot_curr_rects.getViewBox()\n",
    "\n",
    "view = main_plot_curr_rects.getViewBox()\n",
    "if view is None:\n",
    "    # return an empty path\n",
    "    raise NotImplementedError\n",
    "    # return QtGui.QPainterPath()\n",
    "stroker = QtGui.QPainterPathStroker()\n",
    "path = main_plot_curr_rects.getPath()\n",
    "path = main_plot_curr_rects.mapToItem(view, path)\n",
    "stroker.setWidth(main_plot_curr_rects.opts['mouseWidth'])\n",
    "mousePath = stroker.createStroke(path)\n",
    "# main_plot_curr_rects._mouseShape = main_plot_curr_rects.mapFromItem(view, mousePath)"
   ]
  },
  {
   "cell_type": "code",
   "execution_count": null,
   "id": "eb612547-1245-44b8-a069-fa952e69a244",
   "metadata": {
    "pycharm": {
     "is_executing": false,
     "name": "#%%\n"
    }
   },
   "outputs": [],
   "source": [
    "spike_raster_window = Spike3DRasterWindowWidget(curr_spikes_df, application_name=f'Spike Raster Window - {active_config_name}')\n",
    "# Set Window Title Options:\n",
    "spike_raster_window.setWindowFilePath(str(sess.filePrefix.resolve()))\n",
    "spike_raster_window.setWindowTitle(f'Spike Raster Window - {active_config_name} - {str(sess.filePrefix.resolve())}')"
   ]
  },
  {
   "cell_type": "code",
   "execution_count": null,
   "id": "3d80d4b4-245f-4846-9f90-09406f6de827",
   "metadata": {
    "pycharm": {
     "is_executing": false,
     "name": "#%%\n"
    }
   },
   "outputs": [],
   "source": [
    "## Set the colors of the raster window from the tuning curve window:\n",
    "spike_raster_window.update_neurons_color_data(updated_neuron_render_configs=provided_neuron_id_to_color_map)"
   ]
  },
  {
   "cell_type": "code",
   "execution_count": null,
   "id": "0171a604-4f5a-4a22-b227-3915fee3c759",
   "metadata": {
    "pycharm": {
     "is_executing": false,
     "name": "#%%\n"
    }
   },
   "outputs": [],
   "source": [
    "from pyphoplacecellanalysis.GUI.Qt.Mixins.Menus.ConnectionControlsMenuMixin import ConnectionControlsMenuMixin\n",
    "# Setup Connections Menu:\n",
    "root_window, menuConnections, actions_dict = ConnectionControlsMenuMixin.try_add_connections_menu(spike_raster_window) # none of these properties need to be "
   ]
  },
  {
   "cell_type": "markdown",
   "id": "01c287e4-bb8b-4626-8942-603ab3f63c86",
   "metadata": {
    "jp-MarkdownHeadingCollapsed": true,
    "pycharm": {
     "is_executing": false,
     "name": "#%%\n"
    },
    "tags": []
   },
   "source": [
    "### Test building a second spike_raster_window for a different epoch:"
   ]
  },
  {
   "cell_type": "code",
   "execution_count": null,
   "id": "8110cf85-ca28-41b1-990e-a0041e52fcf8",
   "metadata": {
    "pycharm": {
     "is_executing": false,
     "name": "#%%\n"
    }
   },
   "outputs": [],
   "source": [
    "secondary_active_config_name = 'maze2'\n",
    "secondary_spikes_df = curr_active_pipeline.filtered_sessions[secondary_active_config_name].spikes_df\n",
    "spike_raster_window_second_epoch = Spike3DRasterWindowWidget(secondary_spikes_df, application_name=f'Spike Raster Window - {secondary_active_config_name}', type_of_3d_plotter='vedo')\n",
    "# Set Window Title Options:\n",
    "spike_raster_window_second_epoch.setWindowFilePath(str(sess.filePrefix.resolve()))\n",
    "spike_raster_window_second_epoch.setWindowTitle(f'Spike Raster Window - {secondary_active_config_name} - {str(sess.filePrefix.resolve())}')\n",
    "spike_raster_window_second_epoch"
   ]
  },
  {
   "cell_type": "code",
   "execution_count": null,
   "id": "bf55174f-5b7c-473b-934d-cdbce2f55782",
   "metadata": {
    "pycharm": {
     "is_executing": false,
     "name": "#%%\n"
    }
   },
   "outputs": [],
   "source": [
    "spike_raster_window.spikes_df # has scISI column!\n"
   ]
  },
  {
   "cell_type": "code",
   "execution_count": null,
   "id": "57313baa-25c0-4079-a87b-a3ee5ddfc8fe",
   "metadata": {
    "pycharm": {
     "is_executing": false,
     "name": "#%%\n"
    }
   },
   "outputs": [],
   "source": [
    "spike_raster_window.connection_man"
   ]
  },
  {
   "cell_type": "code",
   "execution_count": null,
   "id": "b7852860-7ee4-42aa-8666-dec67d5c6e08",
   "metadata": {
    "pycharm": {
     "is_executing": false,
     "name": "#%%\n"
    }
   },
   "outputs": [],
   "source": [
    "spike_raster_window.connection_man.active_connections"
   ]
  },
  {
   "cell_type": "code",
   "execution_count": null,
   "id": "471b8f08-3c3b-49cc-9d49-291abe408beb",
   "metadata": {
    "pycharm": {
     "is_executing": false,
     "name": "#%%\n"
    }
   },
   "outputs": [],
   "source": [
    "spike_raster_window.connection_man.get_available_drivers()"
   ]
  },
  {
   "cell_type": "markdown",
   "id": "a3ce34d1-7b04-40f3-96a2-408676eb967f",
   "metadata": {
    "jp-MarkdownHeadingCollapsed": true,
    "pycharm": {
     "is_executing": false,
     "name": "#%%\n"
    },
    "tags": []
   },
   "source": [
    "### 2D Raster Plot Interactivity Testing/Extras"
   ]
  },
  {
   "cell_type": "code",
   "execution_count": null,
   "id": "553ff9bc-533b-47eb-9257-9b4eebc10dc5",
   "metadata": {
    "pycharm": {
     "is_executing": false,
     "name": "#%%\n"
    }
   },
   "outputs": [],
   "source": [
    "# spike_raster_window.render_window_duration\n",
    "# spike_raster_window.spikes_window.active_window_end_time\n",
    "spike_raster_window.spikes_window.window_duration"
   ]
  },
  {
   "cell_type": "code",
   "execution_count": null,
   "id": "b3e1d674-569b-445e-90f7-eac577c20fd0",
   "metadata": {
    "pycharm": {
     "is_executing": false,
     "name": "#%%\n"
    }
   },
   "outputs": [],
   "source": [
    "### Debug printing for color properties of spike_raster_window\n",
    "_debug_params = spike_raster_window.spike_raster_plt_2d.params\n",
    "# _debug_params.neuron_colors\n",
    "# _debug_params.config_items\n",
    "# spike_raster_window.params"
   ]
  },
  {
   "cell_type": "code",
   "execution_count": null,
   "id": "93222276-7cd0-480e-a353-5cdf6fb0557c",
   "metadata": {
    "pycharm": {
     "is_executing": false,
     "name": "#%%\n"
    }
   },
   "outputs": [],
   "source": [
    "# Wanted to try to set setClickable(True) on the children widgets\n",
    "\n",
    "# spike_raster_window.spike_raster_plt_2d.plots # {'name': '', 'preview_overview_scatter_plot': <pyphoplacecellanalysis.External.pyqtgraph.graphicsItems.ScatterPlotItem.ScatterPlotItem object at 0x0000020AA96D9E50>}\n",
    "# spike_raster_window.spike_raster_plt_2d.plots.main_plot_widget # <pyphoplacecellanalysis.External.pyqtgraph.graphicsItems.PlotItem.PlotItem.PlotItem at 0x20aecdf0ee0>\n",
    "# spike_raster_window.spike_raster_plt_2d.plots.main_plot_widget.curves # [<pyphoplacecellanalysis.External.pyqtgraph.graphicsItems.ScatterPlotItem.ScatterPlotItem at 0x20aa92a5820>]\n",
    "\n",
    "# Static Background Overview Scatter Plot:\n",
    "active_overview_scatter_plot = spike_raster_window.spike_raster_plt_2d.plots.preview_overview_scatter_plot # ScatterPlotItem \n",
    "# active_overview_scatter_plot.addPoints(hoverable=True)\n",
    "\n",
    "## Main Scatter Plot \n",
    "main_scatter_plot = spike_raster_window.spike_raster_plt_2d.plots.main_plot_widget.curves[0] # ScatterPlotItem \n",
    "# main_scatter_plot.setAcceptHoverEvents(True)\n",
    "\n",
    "# Common Tick Label\n",
    "vtick = QtGui.QPainterPath()\n",
    "vtick.moveTo(0, -0.5)\n",
    "vtick.lineTo(0, 0.5)\n",
    "\n",
    "# # Highlights the hovered spikes white:\n",
    "# main_scatter_plot.addPoints(hoverable=True,\n",
    "#     hoverSymbol=vtick, # hoverSymbol='s',\n",
    "#     hoverSize=7, # default is 5\n",
    "#     hoverPen=pg.mkPen('w', width=2),\n",
    "#     hoverBrush=pg.mkBrush('w'))\n",
    "\n",
    "# Highlights the hovered spikes white:\n",
    "main_scatter_plot.addPoints(hoverable=True,\n",
    "    # hoverSymbol=vtick, # hoverSymbol='s',\n",
    "    hoverSize=7, # default is 5\n",
    "    )\n",
    "\n",
    "\n",
    "## Clickable/Selectable Spikes:\n",
    "# Will make all plots clickable\n",
    "clickedPen = pg.mkPen('#DDD', width=2)\n",
    "lastClicked = []\n",
    "def _test_scatter_plot_clicked(plot, points):\n",
    "    global lastClicked\n",
    "    for p in lastClicked:\n",
    "        p.resetPen()\n",
    "    print(\"clicked points\", points)\n",
    "    for p in points:\n",
    "        p.setPen(clickedPen)\n",
    "    lastClicked = points\n",
    "        \n",
    "## Hoverable Spikes:\n",
    "def _test_scatter_plot_hovered(plt, points, ev):\n",
    "    # sigHovered(self, points, ev)\n",
    "    print(f'_test_scatter_plot_hovered(plt: {plt}, points: {points}, ev: {ev})')\n",
    "    if (len(points) > 0):\n",
    "        curr_point = points[0]\n",
    "        # self.\n",
    "        # curr_point.index\n",
    "\n",
    "main_scatter_hovered_connection = main_scatter_plot.sigHovered.connect(_test_scatter_plot_hovered)\n",
    "main_scatter_clicked_connection = main_scatter_plot.sigClicked.connect(_test_scatter_plot_clicked)\n",
    "\n",
    "# tip\n",
    "# .sigHovered \n",
    "# TypeError: 'VisualizationParameters' object is not subscriptable"
   ]
  },
  {
   "cell_type": "code",
   "execution_count": null,
   "id": "17dba03e-6715-4152-a3ca-45320e551d7a",
   "metadata": {
    "pycharm": {
     "is_executing": false,
     "name": "#%%\n"
    }
   },
   "outputs": [],
   "source": [
    "## Test Adding ROIs of interest to the 2D Raster Plot:\n",
    "rois = []\n",
    "rois.append(pg.MultiRectROI([[20, 90], [50, 60], [60, 90]], width=5, pen=(2,9)))\n",
    "\n",
    "def update(roi):\n",
    "    img1b.setImage(roi.getArrayRegion(arr, img1a), levels=(0, arr.max()))\n",
    "    v1b.autoRange()\n",
    "    \n",
    "for roi in rois:\n",
    "    roi.sigRegionChanged.connect(update)\n",
    "    v1a.addItem(roi)"
   ]
  },
  {
   "cell_type": "code",
   "execution_count": null,
   "id": "27412504-b512-4896-b955-a9d910a8752b",
   "metadata": {
    "pycharm": {
     "is_executing": false,
     "name": "#%%\n"
    }
   },
   "outputs": [],
   "source": [
    "curve.curve.setClickable(True)"
   ]
  },
  {
   "cell_type": "markdown",
   "id": "740560ae-2c48-4d5e-9702-3c783bb899fe",
   "metadata": {
    "jp-MarkdownHeadingCollapsed": true,
    "tags": []
   },
   "source": [
    "### ✅ Testing 2D Rectangle Epochs on Raster Plot"
   ]
  },
  {
   "cell_type": "code",
   "execution_count": null,
   "id": "b365d8a5-8f6a-48a0-9945-1379c5e021a2",
   "metadata": {},
   "outputs": [],
   "source": [
    "laps_interval_datasource = Specific2DRenderTimeEpochsHelper.build_Laps_render_time_epochs_datasource(curr_sess=sess, series_vertical_offset=max_series_top, series_height=1.0) # series_vertical_offset=42.0\n",
    "new_PBEs_interval_datasource = Specific2DRenderTimeEpochsHelper.build_PBEs_render_time_epochs_datasource(curr_sess=sess, series_vertical_offset=(max_series_top+1.0), series_height=3.0) # new_PBEs_interval_datasource\n",
    "\n",
    "## General Adding:\n",
    "active_2d_plot.add_rendered_intervals(new_PBEs_interval_datasource, name='PBEs', child_plots=[background_static_scroll_plot_widget, main_plot_widget], debug_print=False)\n",
    "active_2d_plot.add_rendered_intervals(laps_interval_datasource, name='Laps', child_plots=[background_static_scroll_plot_widget, main_plot_widget], debug_print=False)"
   ]
  },
  {
   "cell_type": "code",
   "execution_count": null,
   "id": "d6d0c366-6785-4d89-9a65-14a097a1e832",
   "metadata": {},
   "outputs": [],
   "source": [
    "active_2d_plot.add_laps_intervals(sess)"
   ]
  },
  {
   "cell_type": "code",
   "execution_count": null,
   "id": "2b1e69cd-ce17-424c-8ffc-56c499cae748",
   "metadata": {},
   "outputs": [],
   "source": [
    "active_2d_plot.remove_laps_intervals()"
   ]
  },
  {
   "cell_type": "code",
   "execution_count": null,
   "id": "cb1d7856-a445-415b-854a-f2835f4e6d54",
   "metadata": {},
   "outputs": [],
   "source": [
    "# active_2d_plot.add_PBEs_intervals(sess)"
   ]
  },
  {
   "cell_type": "code",
   "execution_count": null,
   "id": "fbfe7040-5c35-4233-9620-69640f5cd615",
   "metadata": {},
   "outputs": [],
   "source": [
    "active_2d_plot.interval_rendering_plots"
   ]
  },
  {
   "cell_type": "code",
   "execution_count": null,
   "id": "78701ac1-633d-41fd-8454-f7c83701313f",
   "metadata": {},
   "outputs": [],
   "source": [
    "active_2d_plot.clear_all_rendered_intervals()"
   ]
  },
  {
   "cell_type": "code",
   "execution_count": null,
   "id": "45cecfc4-3da5-496b-9759-8160f1cf0117",
   "metadata": {},
   "outputs": [],
   "source": [
    "interval_info = active_2d_plot.list_all_rendered_intervals()\n",
    "interval_info"
   ]
  },
  {
   "cell_type": "markdown",
   "id": "42265df5-124b-4bc7-88de-c84175b21612",
   "metadata": {
    "tags": []
   },
   "source": [
    "## ✅ NOW - Custom Epochs"
   ]
  },
  {
   "cell_type": "code",
   "execution_count": null,
   "id": "c4dccb71-c17b-4cb3-baaf-e8e5cba8def9",
   "metadata": {},
   "outputs": [],
   "source": [
    "from pyphoplacecellanalysis.GUI.PyQtPlot.Widgets.Mixins.RenderTimeEpochs.Specific2DRenderTimeEpochs import General2DRenderTimeEpochs, SessionEpochs2DRenderTimeEpochs, PBE_2DRenderTimeEpochs, Laps2DRenderTimeEpochs, Replays_2DRenderTimeEpochs, Ripples_2DRenderTimeEpochs\n",
    "from pyphoplacecellanalysis.General.Model.Datasources.IntervalDatasource import IntervalsDatasource\n",
    "\n",
    "# from General2DRenderTimeEpochs"
   ]
  },
  {
   "cell_type": "code",
   "execution_count": null,
   "id": "efa72952-7ef3-4b7c-9562-9bbda367477a",
   "metadata": {},
   "outputs": [],
   "source": [
    "general_epochs_interval_datasource = IntervalsDatasource.init_from_epoch_object(active_epochs_obj, cls.build_epochs_dataframe_formatter(**kwargs), datasource_name='intervals_datasource_from_general_Epochs_obj')"
   ]
  },
  {
   "cell_type": "code",
   "execution_count": null,
   "id": "8f29fe4f-bed2-43f3-b548-61743af9c968",
   "metadata": {},
   "outputs": [],
   "source": [
    "IntervalsDatasource.init_from_times_values(datasource_name='Replays', t_starts="
   ]
  },
  {
   "cell_type": "code",
   "execution_count": null,
   "id": "b49a981a-e76d-44e5-aa0e-b20f7ad2b215",
   "metadata": {},
   "outputs": [],
   "source": [
    "Replays_2DRenderTimeEpochs.build_epochs_dataframe_formatter\n",
    "\n",
    "def _add_interval_dataframe_visualization_columns_general_epoch(active_df):\n",
    "    ## parameters:\n",
    "    y_location = 0.0\n",
    "    height = 5.5\n",
    "    pen_color = pg.mkColor('orange')\n",
    "    brush_color = pg.mkColor('orange')\n",
    "\n",
    "    ## Add the missing parameters to the dataframe:\n",
    "    active_df = cls._add_missing_df_columns(active_df, y_location, height, pen_color, brush_color, **kwargs)\n",
    "    return active_df"
   ]
  },
  {
   "cell_type": "code",
   "execution_count": null,
   "id": "a2aa363f-4e6c-4d7d-81f0-0547be7e441e",
   "metadata": {},
   "outputs": [],
   "source": [
    "SessionEpochs2DRenderTimeEpochs.add_render_time_epochs(curr_sess=sess.epochs, destination_plot=active_2d_plot)"
   ]
  },
  {
   "cell_type": "code",
   "execution_count": null,
   "id": "db082dbd-1259-4283-8032-a0f3dbae736a",
   "metadata": {},
   "outputs": [],
   "source": [
    "SessionEpochs2DRenderTimeEpochs.add_render_time_epochs(curr_sess=sess, destination_plot=active_2d_plot)"
   ]
  },
  {
   "cell_type": "code",
   "execution_count": null,
   "id": "434f6b9e-eb99-4ef1-bb04-ecbe54f58188",
   "metadata": {},
   "outputs": [],
   "source": [
    "PBE_2DRenderTimeEpochs.add_render_time_epochs(curr_sess=sess.pbe, destination_plot=active_2d_plot)"
   ]
  },
  {
   "cell_type": "code",
   "execution_count": null,
   "id": "fafd29d2-ac5e-4911-9257-7599ddad3374",
   "metadata": {},
   "outputs": [],
   "source": [
    "Laps2DRenderTimeEpochs.add_render_time_epochs(curr_sess=sess.laps, destination_plot=active_2d_plot)"
   ]
  },
  {
   "cell_type": "code",
   "execution_count": null,
   "id": "e9c169b0-b91a-4110-af52-0cb487b8bc03",
   "metadata": {},
   "outputs": [],
   "source": [
    "curr_x_min, curr_x_max, curr_y_min, curr_y_max = active_2d_plot.get_plot_view_range(a_plot, debug_print=False) # curr_x_min: 22.30206346133491, curr_x_max: 1739.1355703625595, curr_y_min: 0.5, curr_y_max: 39.5        "
   ]
  },
  {
   "cell_type": "code",
   "execution_count": null,
   "id": "298fa297-0cd6-47ee-9251-495c61e1223f",
   "metadata": {},
   "outputs": [],
   "source": [
    "from neuropy.analyses.brainstates import detect_brainstates_epochs\n",
    "from neuropy.analyses.spkepochs import detect_local_sleep_epochs\n",
    "from neuropy.utils.mixins.print_helpers import ProgressMessagePrinter\n",
    "\n",
    "def compute_local_sleep_epochs_epochs(session, save_on_compute=False):\n",
    "    from neuropy.analyses.spkepochs import detect_local_sleep_epochs\n",
    "    print('computing local_sleep_epochs epochs for session...\\n')\n",
    "    smth_mua = session.mua.get_smoothed(sigma=0.02) # Get the smoothed mua from the session's mua\n",
    "    local_sleep_epochs = detect_local_sleep_epochs(smth_mua)\n",
    "    if save_on_compute:\n",
    "        local_sleep_epochs.filename = session.filePrefix.with_suffix('.local_sleep_epochs.npy')\n",
    "        # print('Saving pbe results to {}...'.format(pbe.filename), end=' ')\n",
    "        with ProgressMessagePrinter(local_sleep_epochs.filename, 'Saving', 'local_sleep_epochs results'):\n",
    "            local_sleep_epochs.save()\n",
    "    # print('done.')\n",
    "    return local_sleep_epochs\n",
    "\n",
    "    \n",
    "local_sleep_epochs = compute_local_sleep_epochs_epochs(sess, save_on_compute=True)\n",
    "local_sleep_epochs"
   ]
  },
  {
   "cell_type": "code",
   "execution_count": null,
   "id": "bba540ed-f8b3-45b8-befd-04a847ab4f3d",
   "metadata": {},
   "outputs": [],
   "source": [
    "local_sleep_epochs_interval_datasource = build_general_render_time_epochs_datasource(local_sleep_epochs)\n",
    "out_rects = active_2d_plot.add_rendered_intervals(local_sleep_epochs, name='local_sleep_epochs', child_plots=[background_static_scroll_plot_widget, main_plot_widget], debug_print=True)\n",
    "out_rects"
   ]
  },
  {
   "cell_type": "code",
   "execution_count": null,
   "id": "85c13d79-495b-4398-a14a-4a76c3dce660",
   "metadata": {},
   "outputs": [],
   "source": [
    "# out_rects\n",
    "# active_2d_plot.rendered_epochs.GeneralEpochs: RenderedEpochsItemsContainer\n",
    "out_interval_rect_items = list(active_2d_plot.rendered_epochs.GeneralEpochs.values()) # list of IntervalRectsItem\n",
    "out_interval_rect_items"
   ]
  },
  {
   "cell_type": "code",
   "execution_count": null,
   "id": "8b152f70-301b-4d2a-8ecb-03807a7b17fd",
   "metadata": {},
   "outputs": [],
   "source": [
    "list(active_2d_plot.rendered_epochs.GeneralEpochs.keys()) # '__class__'"
   ]
  },
  {
   "cell_type": "code",
   "execution_count": null,
   "id": "94d1856e-3f1b-43d2-9a50-285e3096218c",
   "metadata": {},
   "outputs": [],
   "source": [
    "# new_max_y_range: 1.0\n",
    "# GUI.PyQtPlot.Widgets.Mixins.RenderTimeEpochs.EpochRenderingMixin.\n",
    "# active_2d_plot.get_added_rect_item_required_y_value(out_interval_rect_items[0], debug_print=True)\n",
    "for a_plot, a_rect_item in active_2d_plot.rendered_epochs.GeneralEpochs.items():\n",
    "    print(f'a_plot.viewRange(): {a_plot.viewRange()}')\n",
    "    # print(f'a_plot.boundingRect(): {a_plot.boundingRect()}')\n",
    "    print(f'a_rect_item.boundingRect(): {a_rect_item.boundingRect()}')\n",
    "    active_2d_plot.compute_bounds_adjustment_for_rect_item(a_plot, a_rect_item, debug_print=True, should_apply_adjustment=False)\n",
    "# get_added_rect_item_required_y_value(a_rect_item, debug_print=False)"
   ]
  },
  {
   "cell_type": "markdown",
   "id": "baf81a24-ef17-4a11-83bd-43398a314b97",
   "metadata": {
    "tags": []
   },
   "source": [
    "### 🟢 Add Simple 2D Curves for the 2D Rasters using a separate but linked plot\n",
    "Note, approach below copied from `add_separate_render_epoch_rects_plot_item(...)`"
   ]
  },
  {
   "cell_type": "markdown",
   "id": "b2e9232d-709a-4ba9-a1c0-2fb7c824d937",
   "metadata": {
    "jp-MarkdownHeadingCollapsed": true,
    "pycharm": {
     "is_executing": false,
     "name": "#%%\n"
    },
    "tags": []
   },
   "source": [
    "#### ✅ 2022-08-30 - Testing 3D curves again - GOOD, WORKING"
   ]
  },
  {
   "cell_type": "code",
   "execution_count": null,
   "id": "e0887202-dba8-4bbb-80b8-59a02d6296cc",
   "metadata": {
    "jp-MarkdownHeadingCollapsed": true,
    "pycharm": {
     "is_executing": false,
     "name": "#%%\n"
    },
    "tags": []
   },
   "outputs": [],
   "source": [
    "from pyphoplacecellanalysis.GUI.PyQtPlot.Widgets.Mixins.TimeCurves3D.Specific3DTimeCurves import Specific3DTimeCurvesHelper\n",
    "\n",
    "# active_mua_plot_curve_datasource = Specific3DTimeCurvesHelper.build_MUA_3D_time_curves(sess, active_3d_plot)\n",
    "\n",
    "active_plot_curve_datasource = Specific3DTimeCurvesHelper.build_position_3D_time_curves(sess, active_3d_plot)"
   ]
  },
  {
   "cell_type": "code",
   "execution_count": null,
   "id": "bb7f5a19-720f-4716-b46c-7a992c17eb44",
   "metadata": {
    "jp-MarkdownHeadingCollapsed": true,
    "pycharm": {
     "is_executing": false,
     "name": "#%%\n"
    },
    "tags": []
   },
   "outputs": [],
   "source": [
    "active_plot_curve_datasource.update_data_series_config_items(series_inclusion_filter=lambda a_data_series_config: (a_data_series_config['name'] in ['x position', 'y position']),\n",
    "                                                             target_key='line_width', target_value=9.0)"
   ]
  },
  {
   "cell_type": "code",
   "execution_count": null,
   "id": "d56f4190-e652-4c0e-a54b-4cf19a2b6af5",
   "metadata": {
    "jp-MarkdownHeadingCollapsed": true,
    "pycharm": {
     "is_executing": false,
     "name": "#%%\n"
    },
    "tags": []
   },
   "outputs": [],
   "source": [
    "active_random_test_plot_curve_datasource = Specific3DTimeCurvesHelper.build_test_3D_time_curves(spike_raster_plt_3d=active_3d_plot)"
   ]
  },
  {
   "cell_type": "code",
   "execution_count": null,
   "id": "edf8c1bb-854c-4b2c-a564-050fc1af9deb",
   "metadata": {
    "jp-MarkdownHeadingCollapsed": true,
    "pycharm": {
     "is_executing": false,
     "name": "#%%\n"
    },
    "tags": []
   },
   "outputs": [],
   "source": [
    "active_3d_plot.clear_all_3D_time_curves()"
   ]
  },
  {
   "cell_type": "markdown",
   "id": "b068e74c-adf2-4b58-9264-7ed294dd6892",
   "metadata": {
    "pycharm": {
     "is_executing": false,
     "name": "#%%\n"
    },
    "tags": []
   },
   "source": [
    "#### ✅ 2022-09-05 - Try to skip the reimplementation, and just call the 3D simple methods on the active_2d_plot:"
   ]
  },
  {
   "cell_type": "code",
   "execution_count": null,
   "id": "a61268a6-554c-44c3-95c9-5992ecb9a4b8",
   "metadata": {
    "jp-MarkdownHeadingCollapsed": true,
    "pycharm": {
     "is_executing": false,
     "name": "#%%\n"
    },
    "tags": []
   },
   "outputs": [],
   "source": [
    "from pyphoplacecellanalysis.GUI.PyQtPlot.Widgets.Mixins.TimeCurves.SpecificTimeCurves import PositionRenderTimeCurves\n",
    "\n",
    "active_plot_curve_datasource_2d = PositionRenderTimeCurves.add_render_time_curves(sess, active_2d_plot)"
   ]
  },
  {
   "cell_type": "code",
   "execution_count": null,
   "id": "e43f261c-9821-429c-8b04-a87175e0b3dc",
   "metadata": {
    "jp-MarkdownHeadingCollapsed": true,
    "pycharm": {
     "is_executing": false,
     "name": "#%%\n"
    },
    "tags": []
   },
   "outputs": [],
   "source": [
    "## Build a legend for each of the curves:\n",
    "legend = pg.LegendItem((80,60), offset=(70,20))\n",
    "# legend.setParentItem(win.graphicsItem())\n",
    "# .addLegend\n",
    "\n",
    "legend.setParentItem(active_2d_plot.ui.main_time_curves_view_widget.graphicsItem())\n",
    "for curve_name, curveDataItem in active_2d_plot.plots['time_curves'].items():\n",
    "    print(f'curve_name: {curve_name}')\n",
    "    legend.addItem(curveDataItem, curve_name)"
   ]
  },
  {
   "cell_type": "code",
   "execution_count": null,
   "id": "846150fa-5882-45d8-979c-c46a0f526a4f",
   "metadata": {
    "jp-MarkdownHeadingCollapsed": true,
    "pycharm": {
     "is_executing": false,
     "name": "#%%\n"
    },
    "tags": []
   },
   "outputs": [],
   "source": [
    "# legend.setParent()\n",
    "temp = active_2d_plot.ui.main_time_curves_view_widget.graphicsItem()\n",
    "# legend"
   ]
  },
  {
   "cell_type": "code",
   "execution_count": null,
   "id": "2ec5e721-38e3-4c83-9329-e082bf4637b5",
   "metadata": {
    "jp-MarkdownHeadingCollapsed": true,
    "pycharm": {
     "is_executing": false,
     "name": "#%%\n"
    },
    "tags": []
   },
   "outputs": [],
   "source": [
    "active_2d_plot.clear_all_3D_time_curves()\n",
    "active_2d_plot.clear_all_rendered_intervals()"
   ]
  },
  {
   "cell_type": "code",
   "execution_count": null,
   "id": "4c9b034f-d2b0-4eb5-91ea-b1db3ef31a91",
   "metadata": {
    "jp-MarkdownHeadingCollapsed": true,
    "pycharm": {
     "is_executing": false,
     "name": "#%%\n"
    },
    "tags": []
   },
   "outputs": [],
   "source": [
    "temp.removeItem(legend) "
   ]
  },
  {
   "cell_type": "code",
   "execution_count": null,
   "id": "c1ed82fa-fb4b-4e6b-ae16-d4196e332121",
   "metadata": {
    "jp-MarkdownHeadingCollapsed": true,
    "pycharm": {
     "is_executing": false,
     "name": "#%%\n"
    },
    "tags": []
   },
   "outputs": [],
   "source": [
    "legend.setParent(None)"
   ]
  },
  {
   "cell_type": "code",
   "execution_count": null,
   "id": "75aba0c2-91f5-42fb-8aca-94d131fbe529",
   "metadata": {
    "jp-MarkdownHeadingCollapsed": true,
    "pycharm": {
     "is_executing": false,
     "name": "#%%\n"
    },
    "tags": []
   },
   "outputs": [],
   "source": [
    "legend = None"
   ]
  },
  {
   "cell_type": "code",
   "execution_count": null,
   "id": "6e1c2058-6859-4d42-8609-0dcfeedcb356",
   "metadata": {
    "jp-MarkdownHeadingCollapsed": true,
    "pycharm": {
     "is_executing": false,
     "name": "#%%\n"
    },
    "tags": []
   },
   "outputs": [],
   "source": []
  },
  {
   "cell_type": "markdown",
   "id": "bc8f32d9-3dc2-46c7-a130-27854cfc77eb",
   "metadata": {
    "pycharm": {
     "is_executing": false,
     "name": "#%%\n"
    },
    "tags": []
   },
   "source": [
    "## ➡️ Test Custom Menu/Widgets"
   ]
  },
  {
   "cell_type": "code",
   "execution_count": null,
   "id": "396ea318-b43f-4898-a063-a080e520fd9f",
   "metadata": {
    "jp-MarkdownHeadingCollapsed": true,
    "pycharm": {
     "is_executing": false,
     "name": "#%%\n"
    },
    "tags": []
   },
   "outputs": [],
   "source": [
    "# from pyphoplacecellanalysis.GUI.Qt.Mixins.CreateNewConnectedWidgetMenuMixin import CreateNewConnectedWidgetMenuMixin\n",
    "from pyphoplacecellanalysis.GUI.Qt.Mixins.Menus.CreateNewConnectedWidgetMenuMixin import CreateNewConnectedWidgetMenuMixin\n",
    "\n",
    "curr_window, menuCreateNewConnectedWidget, actions_dict = CreateNewConnectedWidgetMenuMixin.try_add_create_new_connected_widget_menu(spike_raster_window, curr_active_pipeline, curr_active_config, display_output)"
   ]
  },
  {
   "cell_type": "code",
   "execution_count": null,
   "id": "3ce62d63-183f-4f7f-90ba-753f5e296f3c",
   "metadata": {
    "jp-MarkdownHeadingCollapsed": true,
    "pycharm": {
     "is_executing": false,
     "name": "#%%\n"
    },
    "tags": []
   },
   "outputs": [],
   "source": [
    "from pyphoplacecellanalysis.GUI.Qt.Mixins.Menus.ConnectionControlsMenuMixin import ConnectionControlsMenuMixin\n",
    "curr_window, menuConnections, actions_dict = ConnectionControlsMenuMixin.try_add_connections_menu(spike_raster_window)\n"
   ]
  },
  {
   "cell_type": "markdown",
   "id": "7ec6fde3-f0f9-48cf-82d5-5f91543ef4d0",
   "metadata": {
    "pycharm": {
     "is_executing": false,
     "name": "#%%\n"
    },
    "tags": []
   },
   "source": [
    "### ➡️ Traditional Menus for adding TimeCurves/TimeIntervals to the raster plot:"
   ]
  },
  {
   "cell_type": "code",
   "execution_count": null,
   "id": "68f80c98-958b-4712-b693-dcc7da68f0b0",
   "metadata": {
    "jp-MarkdownHeadingCollapsed": true,
    "pycharm": {
     "is_executing": false,
     "name": "#%%\n"
    },
    "tags": []
   },
   "outputs": [],
   "source": [
    "from pyphoplacecellanalysis.Resources import GuiResources, ActionIcons\n",
    "from pyphoplacecellanalysis.GUI.Qt.GlobalApplicationMenus.LocalMenus_AddRenderable import LocalMenus_AddRenderable\n",
    "# from pyphoplacecellanalysis.GUI.Qt.GlobalApplicationMenus.Uic_AUTOGEN_LocalMenus_AddRenderable import Ui_LocalMenus_AddRenderable\n",
    "\n",
    "from pyphoplacecellanalysis.GUI.PyQtPlot.Widgets.Mixins.RenderTimeEpochs.Specific2DRenderTimeEpochs import General2DRenderTimeEpochs, SessionEpochs2DRenderTimeEpochs, PBE_2DRenderTimeEpochs, Laps2DRenderTimeEpochs # Time Intervals/Epochs\n",
    "from pyphoplacecellanalysis.GUI.PyQtPlot.Widgets.Mixins.TimeCurves.SpecificTimeCurves import GeneralRenderTimeCurves, PositionRenderTimeCurves, MUA_RenderTimeCurves ## Time Curves\n",
    "\n",
    "\n",
    "# TODO: Hook up appropriate signals to add Renderable menu:\n",
    "from functools import partial\n",
    "\n",
    "## Build `partial` versions of the functions specific to each raster plotter that can be called with no arguments (capturing the destination plotter and the session\n",
    "build_renderable_menu_to_Spike2DRaster = partial(build_renderable_menu, active_2d_plot, sess) # destination_plot\n",
    "build_renderable_menu_to_Spike3DRaster = partial(build_renderable_menu, active_3d_plot, sess) # destination_plot"
   ]
  },
  {
   "cell_type": "code",
   "execution_count": null,
   "id": "55c5b57e-66d2-4761-8455-27c258f2f9cc",
   "metadata": {
    "jp-MarkdownHeadingCollapsed": true,
    "pycharm": {
     "is_executing": false,
     "name": "#%%\n"
    },
    "tags": []
   },
   "outputs": [],
   "source": [
    "\n",
    "spike_raster_window.main_menu_window"
   ]
  },
  {
   "cell_type": "code",
   "execution_count": null,
   "id": "89d64323-7689-4e91-ad13-230606637419",
   "metadata": {
    "jp-MarkdownHeadingCollapsed": true,
    "pycharm": {
     "is_executing": false,
     "name": "#%%\n"
    },
    "tags": []
   },
   "outputs": [],
   "source": [
    "# Add menu\n",
    "\n",
    "spike_raster_window.main_menu_window\n",
    "\n",
    "\n",
    "\n",
    "menuAdd_Renderable = LocalMenus_AddRenderable.add_renderable_context_menu(active_2d_plot, sess)"
   ]
  },
  {
   "cell_type": "code",
   "execution_count": null,
   "id": "7f24cf6e-3a58-40c7-a086-b1ebc5273b6f",
   "metadata": {
    "jp-MarkdownHeadingCollapsed": true,
    "pycharm": {
     "is_executing": false,
     "name": "#%%\n"
    },
    "tags": []
   },
   "outputs": [],
   "source": [
    "active_parent_menu = top_level_parent_context_menu\n",
    "active_parent_menu.addSeparator()\n",
    "active_parent_menu.addMenu(additional_menu)\n",
    "\n"
   ]
  },
  {
   "cell_type": "code",
   "execution_count": null,
   "id": "6c24fe16-4d97-4fed-a6e8-2f36afa529c1",
   "metadata": {
    "jp-MarkdownHeadingCollapsed": true,
    "pycharm": {
     "is_executing": false,
     "name": "#%%\n"
    },
    "tags": []
   },
   "outputs": [],
   "source": [
    "# append_custom_menu_to_context_menu(main_graphics_layout_widget, widget.ui.menuAdd_Renderable)\n",
    "widget_3d_menu = active_3d_plot_renderable_menus[0]\n",
    "append_custom_menu_to_context_menu(active_3d_plot, widget_3d_menu.ui.menuAdd_Renderable)\n",
    "# append_custom_menu_to_context_menu(background_static_scroll_plot_widget, widget_3d_menu.ui.menuAdd_Renderable)"
   ]
  },
  {
   "cell_type": "code",
   "execution_count": null,
   "id": "c8d6151c-8078-45c5-af2f-0c6c2dc1350d",
   "metadata": {
    "jp-MarkdownHeadingCollapsed": true,
    "pycharm": {
     "is_executing": false,
     "name": "#%%\n"
    },
    "tags": []
   },
   "outputs": [],
   "source": []
  },
  {
   "cell_type": "code",
   "execution_count": null,
   "id": "86f9e941-9d36-43dd-9f8a-f921529725e0",
   "metadata": {
    "jp-MarkdownHeadingCollapsed": true,
    "pycharm": {
     "is_executing": false,
     "name": "#%%\n"
    },
    "tags": []
   },
   "outputs": [],
   "source": [
    "active_3d_plot_renderable_menus = build_renderable_menu(active_3d_plot, sess)\n",
    "# active_3d_plot_renderable_menus"
   ]
  },
  {
   "cell_type": "code",
   "execution_count": null,
   "id": "ea2adcd0-7866-4190-96ff-3e5c1c6eeeed",
   "metadata": {
    "jp-MarkdownHeadingCollapsed": true,
    "pycharm": {
     "is_executing": false,
     "name": "#%%\n"
    },
    "tags": []
   },
   "outputs": [],
   "source": [
    "# Set Plot3DWidget custom context menu\n",
    "main_3d_widget.setContextMenuPolicy(qt.Qt.CustomContextMenu)\n",
    "main_3d_widget.customContextMenuRequested.connect(main_3d_widget._contextMenu)"
   ]
  },
  {
   "cell_type": "code",
   "execution_count": null,
   "id": "c690ea0b-f070-4783-a06f-2f008f63cdef",
   "metadata": {
    "jp-MarkdownHeadingCollapsed": true,
    "pycharm": {
     "is_executing": false,
     "name": "#%%\n"
    },
    "tags": []
   },
   "outputs": [],
   "source": [
    "main_3d_widget = active_3d_plot.ui.main_gl_widget # GLViewWidget\n",
    "# main_3d_widget.customContextMenuRequested\n",
    "def _prepare3DContextMenu(pos):\n",
    "    \"\"\" For the Spike3DRaster, doesn't currently seem to display\n",
    "    Captures active_3d_plot, main_3d_widget, widget_3d_menu \n",
    "    \"\"\"\n",
    "    print(f'_prepare3DContextMenu(pos: {pos})')\n",
    "    menu = QtWidgets.QMenu(active_3d_plot)\n",
    "    # debugTestAction = menu.addAction('Debug Test')\n",
    "    # debugTestAction1 = menu.addAction('Debug Test 1')\n",
    "    # debugTestAction2 = menu.addAction('Debug Test 2')\n",
    "    debugTestAction = menu.addAction('Debug A')\n",
    "    debugTestAction1 = menu.addAction('Debug B')\n",
    "    debugTestAction2 = menu.addAction('Debug C')\n",
    "    \n",
    "    # menu = widget_3d_menu\n",
    "    # print(f'\\tmenu: {menu}')\n",
    "    # debugTestAction = QAction('Debug Test')\n",
    "    # # debugTestAction.setEnabled(active_3d_plot.text().strip() != '')\n",
    "    # # debugTestAction.triggered.connect(active_3d_plot.__openPath)\n",
    "    # menu.addAction(debugTestAction)\n",
    "    \n",
    "    # openDirAction = QAction('Open Path')\n",
    "    # openDirAction.setEnabled(active_3d_plot.text().strip() != '')\n",
    "    # openDirAction.triggered.connect(active_3d_plot.__openPath)\n",
    "    # menu.addAction(openDirAction)\n",
    "    # menu.addMenu(widget_3d_menu)\n",
    "    # menu.exec(active_3d_plot.mapToGlobal(pos))\n",
    "    \n",
    "    globalPosition = main_3d_widget.mapToGlobal(pos)\n",
    "    # globalPosition = active_3d_plot.mapToGlobal(pos)\n",
    "    print(f'\\tglobalPosition: {globalPosition}')\n",
    "    menu.exec(globalPosition)\n",
    "    print(f'\\tdone.')\n",
    "\n",
    "main_3d_widget.setContextMenuPolicy(pg.QtCore.Qt.CustomContextMenu)\n",
    "_curr_plot3d_context_menu_conn = main_3d_widget.customContextMenuRequested.connect(_prepare3DContextMenu)\n",
    "\n",
    "# active_3d_plot.setContextMenuPolicy(pg.QtCore.Qt.CustomContextMenu)\n",
    "# _curr_plot3d_context_menu_conn = active_3d_plot.customContextMenuRequested.connect(_prepare3DContextMenu)\n",
    "# active_3d_plot.customContextMenuRequested.connect()"
   ]
  },
  {
   "cell_type": "code",
   "execution_count": null,
   "id": "6367e272-7e05-42fe-ad30-5c1a5788d5f0",
   "metadata": {
    "jp-MarkdownHeadingCollapsed": true,
    "pycharm": {
     "is_executing": false,
     "name": "#%%\n"
    },
    "tags": []
   },
   "outputs": [],
   "source": []
  },
  {
   "cell_type": "code",
   "execution_count": null,
   "id": "6d2ecb33-9f42-4313-98e0-b8f44ace1821",
   "metadata": {
    "jp-MarkdownHeadingCollapsed": true,
    "pycharm": {
     "is_executing": false,
     "name": "#%%\n"
    },
    "tags": []
   },
   "outputs": [],
   "source": [
    "# main_3d_widget.installEventFilter\n",
    "main_3d_widget.actions()\n",
    "main_3d_widget.mouseGrabber()\n",
    "# main_3d_widget.mouseReleaseEvent\n",
    "# main_3d_widget.nativeParentWidget()\n",
    "# main_3d_widget.x\n"
   ]
  },
  {
   "cell_type": "code",
   "execution_count": null,
   "id": "cd1ab92f-0599-44de-a895-6953985d32d1",
   "metadata": {
    "jp-MarkdownHeadingCollapsed": true,
    "pycharm": {
     "is_executing": false,
     "name": "#%%\n"
    },
    "tags": []
   },
   "outputs": [],
   "source": [
    "active_3d_plot.customContextMenuRequested.disconnect()"
   ]
  },
  {
   "cell_type": "code",
   "execution_count": null,
   "id": "7de47df4-a8ba-4720-a032-b719913070f1",
   "metadata": {
    "jp-MarkdownHeadingCollapsed": true,
    "pycharm": {
     "is_executing": false,
     "name": "#%%\n"
    },
    "tags": []
   },
   "outputs": [],
   "source": [
    "active_3d_plot.plots"
   ]
  },
  {
   "cell_type": "code",
   "execution_count": null,
   "id": "7401a80f-256d-4cce-850e-d85d877e2921",
   "metadata": {
    "jp-MarkdownHeadingCollapsed": true,
    "pycharm": {
     "is_executing": false,
     "name": "#%%\n"
    },
    "tags": []
   },
   "outputs": [],
   "source": [
    "active_3d_plot.plots_data"
   ]
  },
  {
   "cell_type": "code",
   "execution_count": null,
   "id": "7b52b80c-d0ed-4234-8a58-0afb129e4a80",
   "metadata": {
    "jp-MarkdownHeadingCollapsed": true,
    "pycharm": {
     "is_executing": false,
     "name": "#%%\n"
    },
    "tags": []
   },
   "outputs": [],
   "source": [
    "main_plot_widget.parentWidget()"
   ]
  },
  {
   "cell_type": "code",
   "execution_count": null,
   "id": "7e218b50-2b80-47c9-ad95-bc5b280281f0",
   "metadata": {
    "jp-MarkdownHeadingCollapsed": true,
    "pycharm": {
     "is_executing": false,
     "name": "#%%\n"
    },
    "tags": []
   },
   "outputs": [],
   "source": [
    "main_plot_widget.vb.menu # ViewBoxMenu "
   ]
  },
  {
   "cell_type": "markdown",
   "id": "67290b45-4dbd-4610-840b-4af8750191e1",
   "metadata": {
    "jp-MarkdownHeadingCollapsed": true,
    "pycharm": {
     "is_executing": false,
     "name": "#%%\n"
    },
    "tags": []
   },
   "source": [
    "#### RadialMenu Testing"
   ]
  },
  {
   "cell_type": "code",
   "execution_count": null,
   "id": "80c5c4d1-b9e8-45fd-a799-6a4cf16b3395",
   "metadata": {
    "jp-MarkdownHeadingCollapsed": true,
    "pycharm": {
     "is_executing": false,
     "name": "#%%\n"
    },
    "tags": []
   },
   "outputs": [],
   "source": [
    "from pyphoplacecellanalysis.GUI.Qt.RadialMenu import RadialMenu, RadialMenuTest\n",
    "\n",
    "test_widget = RadialMenuTest()\n",
    "test_widget.show()\n",
    "\n",
    "## DO CHILDREN:\n",
    "def add_children_buttons(buttonItem, curr_parent_btn_id, curr_parent_depth_idx, debugChildrenButtonData):\n",
    "    currLevelInnerRadius = buttonItem.startInnerRadius + ((curr_parent_depth_idx-1) * buttonItem.level_radius_size)\n",
    "    startAngle = 0\n",
    "    curr_children = debugChildrenButtonData.copy()\n",
    "    childButtonData = buttonItem.radialMenu.buildChildrenForItem(curr_parent_btn_id, parentStartAngle=startAngle, childrenItems=curr_children)\n",
    "    childInnerRadius = currLevelInnerRadius+buttonItem.level_radius_size\n",
    "    for child_index, (child_startAngle, child_extent, child_icon) in enumerate(childButtonData):\n",
    "        child_id = f'{curr_parent_btn_id}.{child_index}'\n",
    "        buttonItem.radialMenu.addButton(child_id, childInnerRadius, buttonItem.level_radius_size, child_startAngle, child_extent, icon=child_icon) # innerRadius, size, startAngle, angleSize\n",
    "        buttonItem.level_rings_dict[1][child_id] = buttonItem.buttons[child_id] # QGraphicsPathItem\n",
    "\n",
    "debugChildrenButtonData = [\n",
    "    # (0, 20, pg.QtWidgets.QStyle.SP_ArrowBack), \n",
    "    (0, 20, pg.QtWidgets.QStyle.SP_ArrowDown),\n",
    "    (0, 20, pg.QtWidgets.QStyle.SP_ArrowUp), \n",
    "]\n",
    "first_button_id = list(test_widget.level_rings_dict[0].keys())[0]\n",
    "\n",
    "add_children_buttons(test_widget, first_button_id, 0, debugChildrenButtonData)"
   ]
  },
  {
   "cell_type": "code",
   "execution_count": null,
   "id": "7e16974f-65a1-43c7-9470-e96eeea68b77",
   "metadata": {
    "jp-MarkdownHeadingCollapsed": true,
    "pycharm": {
     "is_executing": false,
     "name": "#%%\n"
    },
    "tags": []
   },
   "outputs": [],
   "source": [
    "# main_graphics_layout_widget.customContextMenuRequested"
   ]
  },
  {
   "cell_type": "code",
   "execution_count": null,
   "id": "3442a453-538c-4556-9171-1ff04720e3eb",
   "metadata": {
    "jp-MarkdownHeadingCollapsed": true,
    "pycharm": {
     "is_executing": false,
     "name": "#%%\n"
    },
    "tags": []
   },
   "outputs": [],
   "source": [
    "# def add_custom_menu():\n",
    "#     customMenu = QtWidgets.QMenu(translate(\"Custom\", \"Custom Render\"))\n",
    "#     group = QtGui.QActionGroup(self)\n",
    "\n",
    "#     # This does not work! QAction _must_ be initialized with a permanent \n",
    "#     # object as the parent or else it may be collected prematurely.\n",
    "#     #pan = self.leftMenu.addAction(\"3 button\", self.set3ButtonMode)\n",
    "#     #zoom = self.leftMenu.addAction(\"1 button\", self.set1ButtonMode)\n",
    "#     pan = QtGui.QAction(translate(\"Custom\", \"Add Time Intervals...\"), customMenu)\n",
    "#     zoom = QtGui.QAction(translate(\"Custom\", \"Add Time Curves...\"), customMenu)\n",
    "#     customMenu.addAction(pan)\n",
    "#     customMenu.addAction(zoom)\n",
    "#     # TODO: actions:\n",
    "#     # pan.triggered.connect(self.set3ButtonMode)\n",
    "#     # zoom.triggered.connect(self.set1ButtonMode)\n",
    "\n",
    "#     # pan.setCheckable(True)\n",
    "#     # zoom.setCheckable(True)\n",
    "#     pan.setActionGroup(group)\n",
    "#     zoom.setActionGroup(group)\n",
    "#     self.mouseModes = [pan, zoom]\n",
    "#     self.addMenu(customMenu)\n",
    "    \n",
    "    \n",
    "# test_menu_entries"
   ]
  },
  {
   "cell_type": "code",
   "execution_count": null,
   "id": "e9de2989-ceff-44d4-89e5-88e84ca31c56",
   "metadata": {
    "jp-MarkdownHeadingCollapsed": true,
    "pycharm": {
     "is_executing": false,
     "name": "#%%\n"
    },
    "tags": []
   },
   "outputs": [],
   "source": [
    "# curr_btn_item = test_widget.level_rings_dict[1][8] # QGraphicsPathItem \n",
    "\n",
    "def hide_rings_exceeding(max_ring_level_idx=1):\n",
    "    for ring_level_idx, ring_items_dict in test_widget.level_rings_dict.items():\n",
    "        if ring_level_idx > 1:\n",
    "            for curr_btn_id, curr_btn_item in ring_items_dict.items():\n",
    "            # for curr_btn_id, curr_btn_item in test_widget.level_rings_dict[1].items():\n",
    "                # curr_btn_item = test_widget.level_rings_dict[1][8] # QGraphicsPathItem \n",
    "                curr_btn_item.hide()"
   ]
  },
  {
   "cell_type": "code",
   "execution_count": null,
   "id": "317bdbfe-8248-45e1-ae87-78e8e32f754d",
   "metadata": {
    "jp-MarkdownHeadingCollapsed": true,
    "pycharm": {
     "is_executing": false,
     "name": "#%%\n"
    },
    "tags": []
   },
   "outputs": [],
   "source": [
    "def onRadialButtonClicked(id):\n",
    "    print('Button id {} has been clicked'.format(id))\n",
    "\n",
    "        \n",
    "def _build_new_radial_menu(parent_widget, extant_scene):\n",
    "    buttonItem = RadialMenu()\n",
    "    extant_scene.addItem(buttonItem)\n",
    "    buttonItem.buttonClicked.connect(onRadialButtonClicked)\n",
    "    for index, (startAngle, extent, icon) in enumerate(ButtonData):\n",
    "        icon = parent_widget.style().standardIcon(icon, None, parent_widget)\n",
    "        buttonItem.addButton(index, 64, 20, startAngle, extent, icon=icon)\n",
    "\n",
    "    buttonItem.setPos(150, 150)\n",
    "    buttonItem.setZValue(1000)\n",
    "\n",
    "    # view = pg.QtWidgets.QGraphicsView(extant_scene, self)\n",
    "    # view.setRenderHints(pg.QtGui.QPainter.Antialiasing)\n",
    "    # extant_scene.setSceneRect(0, 0, 300, 300)\n",
    "    # setGeometry(50, 50, 305, 305)\n",
    "    # parent_widget\n",
    "    return buttonItem\n",
    " \n",
    "# parent_widget = main_plot_widget.getViewWidget() # GraphicsLayoutWidget \n",
    "parent_widget = spike_raster_window.spike_raster_plt_3d #. .getViewWidget() # GraphicsLayoutWidget \n",
    "buttonItem = _build_new_radial_menu(parent_widget=parent_widget, extant_scene=main_plot_widget.scene())\n",
    "# buttonItem.hide()"
   ]
  },
  {
   "cell_type": "code",
   "execution_count": null,
   "id": "fc08fa80-3a98-473e-80ed-a5b68fd48268",
   "metadata": {
    "jp-MarkdownHeadingCollapsed": true,
    "pycharm": {
     "is_executing": false,
     "name": "#%%\n"
    },
    "tags": []
   },
   "outputs": [],
   "source": [
    "buttonItem.show()"
   ]
  },
  {
   "cell_type": "code",
   "execution_count": null,
   "id": "088d7d84-5b18-4465-9efd-b8d1cebbc217",
   "metadata": {
    "jp-MarkdownHeadingCollapsed": true,
    "pycharm": {
     "is_executing": false,
     "name": "#%%\n"
    },
    "tags": []
   },
   "outputs": [],
   "source": [
    "def update_radial_menu_pos(position, is_visible):\n",
    "    print(f'update_radial_menu_pos(position: {position}, is_visible: {is_visible})')\n",
    "    buttonItem.setPos(position[0], position[1])\n",
    "    if is_visible:\n",
    "        buttonItem.show()\n",
    "    else:\n",
    "        buttonItem.hide()"
   ]
  },
  {
   "cell_type": "code",
   "execution_count": null,
   "id": "45435199-e09d-4d9a-b71f-dfe9f3e0faf6",
   "metadata": {
    "jp-MarkdownHeadingCollapsed": true,
    "pycharm": {
     "is_executing": false,
     "name": "#%%\n"
    },
    "tags": []
   },
   "outputs": [],
   "source": [
    "setMenuEnabled"
   ]
  },
  {
   "cell_type": "code",
   "execution_count": null,
   "id": "36dc2ab9-86c0-4bfb-8444-97603d5c9f0d",
   "metadata": {
    "jp-MarkdownHeadingCollapsed": true,
    "pycharm": {
     "is_executing": false,
     "name": "#%%\n"
    },
    "tags": []
   },
   "outputs": [],
   "source": [
    "buttonItem.pos() # PyQt5.QtCore.QPointF(150.0, 150.0)"
   ]
  },
  {
   "cell_type": "code",
   "execution_count": null,
   "id": "915cbed7-b6f7-44c3-8723-0e880dd7d342",
   "metadata": {
    "jp-MarkdownHeadingCollapsed": true,
    "pycharm": {
     "is_executing": false,
     "name": "#%%\n"
    },
    "tags": []
   },
   "outputs": [],
   "source": [
    "# buttonItem.setPos(50.0, 50.0)\n",
    "# buttonItem.setPos(0.0, 0.0)\n",
    "# buttonItem.setPos(592, 66)\n",
    "buttonItem.setPos(962, 892)\n"
   ]
  },
  {
   "cell_type": "code",
   "execution_count": null,
   "id": "88d2f247-bb37-422b-acb0-c360c0d72503",
   "metadata": {
    "jp-MarkdownHeadingCollapsed": true,
    "pycharm": {
     "is_executing": false,
     "name": "#%%\n"
    },
    "tags": []
   },
   "outputs": [],
   "source": [
    "# Enable or disable plotItem menu\n",
    "plot_item.setMenuEnabled(enableMenu, None)\n",
    "curr_menu = plot_item.getMenu()\n",
    "curr_menu = plot_item.getContextMenus()"
   ]
  },
  {
   "cell_type": "code",
   "execution_count": null,
   "id": "6d13c933-ef68-40d9-af2d-5682f9b29242",
   "metadata": {
    "jp-MarkdownHeadingCollapsed": true,
    "pycharm": {
     "is_executing": false,
     "name": "#%%\n"
    },
    "tags": []
   },
   "outputs": [],
   "source": [
    "# parent_widget.contextMenuPolicy() # 1"
   ]
  },
  {
   "cell_type": "code",
   "execution_count": null,
   "id": "30506d9d-bb07-4b58-b30b-787103faf91c",
   "metadata": {
    "jp-MarkdownHeadingCollapsed": true,
    "pycharm": {
     "is_executing": false,
     "name": "#%%\n"
    },
    "tags": []
   },
   "outputs": [],
   "source": [
    "# main_plot_widget.contextMenuEvent()\n",
    "parent_widget.setContextMenuPolicy(pg.QtCore.Qt.CustomContextMenu)\n",
    "\n",
    "def openMenu(position):\n",
    "    print(f'openMenu(position: {position})')\n",
    "    scene_position = parent_widget.mapToGlobal(position)\n",
    "    print(f'\\tscene_position: {scene_position}')\n",
    "    # buttonItem.setPos(position[0], position[1])\n",
    "    # \n",
    "    menu = pg.QtWidgets.QMenu()\n",
    "    quitAction = menu.addAction(\"Quit\")\n",
    "    radialMenuAction = menu.addAction(\"Radial Menu\")\n",
    "    \n",
    "    action = menu.exec_(scene_position)\n",
    "    if action == quitAction:\n",
    "        print(f'quitAction')\n",
    "        pg.mkQApp().quit()\n",
    "    elif action == radialMenuAction:\n",
    "        print(f'radialMenuAction')\n",
    "        update_radial_menu_pos(scene_position, is_visible=True)\n",
    "\n",
    "\n",
    "_temp_menu_connection = parent_widget.customContextMenuRequested.connect(openMenu)"
   ]
  },
  {
   "cell_type": "code",
   "execution_count": null,
   "id": "69b63ebb-2a82-4048-a788-35cfd2ad90f3",
   "metadata": {
    "jp-MarkdownHeadingCollapsed": true,
    "pycharm": {
     "is_executing": false,
     "name": "#%%\n"
    },
    "tags": []
   },
   "outputs": [],
   "source": [
    "parent_widget.customContextMenuRequested.disconnect()"
   ]
  },
  {
   "cell_type": "code",
   "execution_count": null,
   "id": "89682437-79e6-4de7-b736-d5cafedb311c",
   "metadata": {
    "jp-MarkdownHeadingCollapsed": true,
    "pycharm": {
     "is_executing": false,
     "name": "#%%\n"
    },
    "tags": []
   },
   "outputs": [],
   "source": [
    "## reimplement right-click to zoom out\n",
    "def mouseClickEvent(self, ev):\n",
    "    if ev.button() == QtCore.Qt.MouseButton.RightButton:\n",
    "        self.autoRange()\n",
    "\n",
    "## reimplement mouseDragEvent to disable continuous axis zoom\n",
    "def mouseDragEvent(self, ev, axis=None):\n",
    "    if axis is not None and ev.button() == QtCore.Qt.MouseButton.RightButton:\n",
    "        ev.ignore()\n",
    "    else:\n",
    "        pg.ViewBox.mouseDragEvent(self, ev, axis=axis)\n",
    "\n",
    "def mouseMoved(evt):\n",
    "    pos = evt[0]  ## using signal proxy turns original arguments into a tuple\n",
    "    if p1.sceneBoundingRect().contains(pos):\n",
    "        mousePoint = vb.mapSceneToView(pos)\n",
    "        index = int(mousePoint.x())\n",
    "        if index > 0 and index < len(data1):\n",
    "            label.setText(\"<span style='font-size: 12pt'>x=%0.1f,   <span style='color: red'>y1=%0.1f</span>,   <span style='color: green'>y2=%0.1f</span>\" % (mousePoint.x(), data1[index], data2[index]))\n",
    "        vLine.setPos(mousePoint.x())\n",
    "        hLine.setPos(mousePoint.y())\n",
    "\n",
    "proxy = pg.SignalProxy(p1.scene().sigMouseMoved, rateLimit=60, slot=mouseMoved)"
   ]
  },
  {
   "cell_type": "code",
   "execution_count": null,
   "id": "af2e1c49-5e27-4dbd-8ed9-fbf55a643099",
   "metadata": {
    "jp-MarkdownHeadingCollapsed": true,
    "pycharm": {
     "is_executing": false,
     "name": "#%%\n"
    },
    "tags": []
   },
   "outputs": [],
   "source": [
    "main_plot_widget.scene()"
   ]
  },
  {
   "cell_type": "code",
   "execution_count": null,
   "id": "bc6f1324-5e24-4e9e-b829-a03a3ad69c34",
   "metadata": {
    "jp-MarkdownHeadingCollapsed": true,
    "pycharm": {
     "is_executing": false,
     "name": "#%%\n"
    },
    "tags": []
   },
   "outputs": [],
   "source": [
    "active_2d_plot.plots['time_curves']['default_plot_datasource.linear position'].hide()"
   ]
  },
  {
   "cell_type": "code",
   "execution_count": null,
   "id": "35064c2c-8e11-481a-b9b0-29a552f8bfa0",
   "metadata": {
    "jp-MarkdownHeadingCollapsed": true,
    "pycharm": {
     "is_executing": false,
     "name": "#%%\n"
    },
    "tags": []
   },
   "outputs": [],
   "source": [
    "active_2d_plot.ui.main_time_curves_view_widget.graphicsItem().removeItem(legend)"
   ]
  },
  {
   "cell_type": "markdown",
   "id": "1d608069-ad53-4395-8017-3fad5270ae99",
   "metadata": {
    "pycharm": {
     "is_executing": false,
     "name": "#%%\n"
    },
    "tags": []
   },
   "source": [
    "#### _debug_print_spike_raster_timeline_alignments"
   ]
  },
  {
   "cell_type": "code",
   "execution_count": null,
   "id": "145c9f1c-a1bc-4c81-9ec6-ef540c1ad8ca",
   "metadata": {
    "jp-MarkdownHeadingCollapsed": true,
    "pycharm": {
     "is_executing": false,
     "name": "#%%\n"
    },
    "tags": []
   },
   "outputs": [],
   "source": [
    "active_plot_curve_datasource.time_column_values # DIBA: 22.286207, 2093.874535\n",
    "active_plot_curve_datasource.time_column_values # BAPUN: 7423.002380, 11482.995349"
   ]
  },
  {
   "cell_type": "code",
   "execution_count": null,
   "id": "4ac6972e-d770-4f91-b74a-5bb41f508c5c",
   "metadata": {
    "jp-MarkdownHeadingCollapsed": true,
    "pycharm": {
     "is_executing": false,
     "name": "#%%\n"
    },
    "tags": []
   },
   "outputs": [],
   "source": [
    "active_2d_plot.clear_all_3D_time_curves()"
   ]
  },
  {
   "cell_type": "code",
   "execution_count": null,
   "id": "48c6ad0b-8a0f-4742-84fd-d4115135a6a3",
   "metadata": {
    "jp-MarkdownHeadingCollapsed": true,
    "pycharm": {
     "is_executing": false,
     "name": "#%%\n"
    },
    "tags": []
   },
   "outputs": [],
   "source": [
    "# active_2d_plot.ui.main_time_curves_view_widget.setXLink(None)\n",
    "active_2d_plot.ui.main_time_curves_view_widget.setXLink(background_static_scroll_plot_widget)"
   ]
  },
  {
   "cell_type": "code",
   "execution_count": null,
   "id": "5da8c414-ecc2-4f43-8a0e-e8b2f47d6772",
   "metadata": {
    "jp-MarkdownHeadingCollapsed": true,
    "pycharm": {
     "is_executing": false,
     "name": "#%%\n"
    },
    "tags": []
   },
   "outputs": [],
   "source": [
    "active_2d_plot.ui.main_time_curves_view_widget.showAxes('left', True)"
   ]
  },
  {
   "cell_type": "code",
   "execution_count": null,
   "id": "09221f21-b4d6-4e97-b954-e190cc634950",
   "metadata": {
    "jp-MarkdownHeadingCollapsed": true,
    "pycharm": {
     "is_executing": false,
     "name": "#%%\n"
    },
    "tags": []
   },
   "outputs": [],
   "source": [
    "active_measured_positions"
   ]
  },
  {
   "cell_type": "code",
   "execution_count": null,
   "id": "f525d3ef-7968-472b-9acc-768dad24ce3d",
   "metadata": {
    "jp-MarkdownHeadingCollapsed": true,
    "pycharm": {
     "is_executing": false,
     "name": "#%%\n"
    },
    "tags": []
   },
   "outputs": [],
   "source": [
    "background_static_scroll_plot_widget.showAxes('xy')"
   ]
  },
  {
   "cell_type": "code",
   "execution_count": null,
   "id": "e9876b20-0847-4122-ae7d-535275530995",
   "metadata": {
    "jp-MarkdownHeadingCollapsed": true,
    "pycharm": {
     "is_executing": false,
     "name": "#%%\n"
    },
    "tags": []
   },
   "outputs": [],
   "source": [
    "main_plot_widget.showAxes('xy')"
   ]
  },
  {
   "cell_type": "code",
   "execution_count": null,
   "id": "8b92a694-bfce-48b8-af4e-0ba29de038bf",
   "metadata": {
    "jp-MarkdownHeadingCollapsed": true,
    "pycharm": {
     "is_executing": false,
     "name": "#%%\n"
    },
    "tags": []
   },
   "outputs": [],
   "source": [
    "main_plot_widget.showGrid('xy')"
   ]
  },
  {
   "cell_type": "code",
   "execution_count": null,
   "id": "18e80367-d23c-4451-8461-3fe80cc361d8",
   "metadata": {
    "jp-MarkdownHeadingCollapsed": true,
    "pycharm": {
     "is_executing": false,
     "name": "#%%\n"
    },
    "tags": []
   },
   "outputs": [],
   "source": [
    "curr_spikes_df\n",
    "# # t \tt_seconds \tt_rel_seconds\n",
    "# 728088.0 \t603808.219589 \t22.366852\n",
    "# 68159295.0 \t605879.705207 \t2093.852470\n",
    "\n",
    "# ## ISSUE DISCOVERED: the time curves' timestamps are in the 't_rel_seconds' format (22.286207, 2093.874535)\n",
    "\n",
    "# #!! ACTUALLY: it's the time-curve' timestamps that seem to be using the absolute seconds version, they're using 't'\n",
    "#     While the spike rasters all use \n",
    "#     Zooming Raster: ()\n",
    "#     Bottom Static Raster: (-35.692, 2151.9)"
   ]
  },
  {
   "cell_type": "markdown",
   "id": "e09cb3d9-3918-4582-9726-b6b90f60f687",
   "metadata": {
    "jp-MarkdownHeadingCollapsed": true,
    "pycharm": {
     "is_executing": false,
     "name": "#%%\n"
    },
    "tags": []
   },
   "source": [
    "## ipcDataExplorer - 3D Interactive Tuning Curves Plotter"
   ]
  },
  {
   "cell_type": "code",
   "execution_count": null,
   "id": "bd6b4aa0-49aa-4835-bb93-8757b26b6d86",
   "metadata": {
    "pycharm": {
     "is_executing": false,
     "name": "#%%\n"
    },
    "tags": []
   },
   "outputs": [],
   "source": [
    "pActiveTuningCurvesPlotter = None\n",
    "\n",
    "zScalingFactor = 2000.0 # worked well before with default params\n",
    "# zScalingFactor = 50.0 # worked well before with default params\n",
    "display_output = display_output | curr_active_pipeline.display('_display_3d_interactive_tuning_curves_plotter', active_config_name, extant_plotter=display_output.get('pActiveTuningCurvesPlotter', None), panel_controls_mode='Qt', should_nan_non_visited_elements=False, zScalingFactor=zScalingFactor, separate_window=False)\n",
    "ipcDataExplorer = display_output['ipcDataExplorer']\n",
    "display_output['pActiveTuningCurvesPlotter'] = display_output.pop('plotter') # rename the key from the generic \"plotter\" to \"pActiveSpikesBehaviorPlotter\" to avoid collisions with others\n",
    "pActiveTuningCurvesPlotter = display_output['pActiveTuningCurvesPlotter']\n",
    "root_dockAreaWindow, placefieldControlsContainerWidget, pf_widgets = display_output['pane'] # for Qt mode:"
   ]
  },
  {
   "cell_type": "markdown",
   "id": "5d03258f-0f26-4b45-9c90-17767d1c2b8e",
   "metadata": {
    "jp-MarkdownHeadingCollapsed": true,
    "pycharm": {
     "is_executing": false,
     "name": "#%%\n"
    },
    "tags": []
   },
   "source": [
    "### Setup Extra Buttons"
   ]
  },
  {
   "cell_type": "code",
   "execution_count": null,
   "id": "60dc5178-7972-4974-8ec4-9034c5100a94",
   "metadata": {},
   "outputs": [],
   "source": [
    "ipcDataExplorer.occupancy_plotting_config.barOpacity = 0.25"
   ]
  },
  {
   "cell_type": "code",
   "execution_count": null,
   "id": "4f24e744-f8d6-4b86-8ed9-e640fd6b6552",
   "metadata": {},
   "outputs": [],
   "source": [
    "placefieldControlsContainerWidget.ui.end_button_helper_connections"
   ]
  },
  {
   "cell_type": "code",
   "execution_count": null,
   "id": "82e97563-caee-44ca-9e0d-29dbab4aa111",
   "metadata": {},
   "outputs": [],
   "source": [
    "ipcDataExplorer.plots\n",
    "\n",
    "\n",
    "ipcDataExplorer.zScalingFactor = 100"
   ]
  },
  {
   "cell_type": "markdown",
   "id": "29e3fc2b-7184-474d-8831-a086357110e4",
   "metadata": {
    "tags": []
   },
   "source": [
    "### Prototype updating the displayed placefield values with those generated from a time-dependent pf_2D_dt"
   ]
  },
  {
   "cell_type": "code",
   "execution_count": null,
   "id": "f2f788fc-380a-4e39-a7b5-c7f6e6d6e063",
   "metadata": {},
   "outputs": [],
   "source": [
    "## Update the time-dependent pf:\n",
    "active_pf_2D_dt.reset()\n",
    "\n",
    "## Find the neuron_IDs that are included in the active_pf_2D for filtering the active_pf_2D_dt's results:\n",
    "is_pf_2D_included_neuron = np.isin(active_pf_2D_dt.included_neuron_IDs, active_pf_2D.included_neuron_IDs)\n",
    "pf_2D_included_neuron_indx = active_pf_2D_dt._included_thresh_neurons_indx[is_pf_2D_included_neuron]\n",
    "active_pf_2D_dt._included_thresh_neurons_indx = pf_2D_included_neuron_indx\n",
    "active_pf_2D_dt._peak_frate_filter_function = lambda list_: [list_[_] for _ in active_pf_2D_dt._included_thresh_neurons_indx]\n",
    "\n",
    "earliest_pos_t = active_pf_2D_dt.all_time_filtered_pos_df['t'].values[0]\n",
    "print(f'earliest_pos_t: {earliest_pos_t}')\n",
    "# active_pf_2D_dt.update(t=earliest_pos_t)\n",
    "# active_pf_2D_dt.step(num_seconds_to_advance=6000.0)\n",
    "\n",
    "last_pos_t = active_pf_2D_dt.all_time_filtered_pos_df['t'].values[-1]\n",
    "print(f'last_pos_t: {last_pos_t}')\n",
    "# active_pf_2D_dt.update(t=last_pos_t)\n",
    "\n",
    "# active_pf_2D_dt.update(t=earliest_pos_t+(60.0 * 5.0))\n",
    "active_pf_2D_dt.update(t=3000000.0)\n",
    "print(f'post-update time: {active_pf_2D_dt.last_t}')\n",
    "\n",
    "# earliest_pos_t: 22.26785500004189\n",
    "# last_pos_t: 1739.1316560000414\n",
    "# post-update time: 322.2678550000419"
   ]
  },
  {
   "cell_type": "code",
   "execution_count": null,
   "id": "1870f174-dd49-45cd-803c-be610f5b3f75",
   "metadata": {},
   "outputs": [],
   "source": []
  },
  {
   "cell_type": "code",
   "execution_count": null,
   "id": "44a37c29-bb01-4799-9cb0-0d181b9d2f4e",
   "metadata": {},
   "outputs": [],
   "source": [
    "## Asserts to make sure that the fully-updated dt is equal to the normal:\n",
    "assert active_pf_2D_dt.all_time_filtered_pos_df.shape == active_pf_2D_dt.filtered_pos_df.shape, f\"active_pf_2D_dt.all_time_filtered_pos_df.shape: {active_pf_2D_dt.all_time_filtered_pos_df.shape}\\nactive_pf_2D_dt.filtered_pos_df.shape: {active_pf_2D_dt.filtered_pos_df.shape} \"\n",
    "assert active_pf_2D_dt.all_time_filtered_spikes_df.shape == active_pf_2D_dt.filtered_spikes_df.shape, f\"active_pf_2D_dt.all_time_filtered_spikes_df.shape: {active_pf_2D_dt.all_time_filtered_spikes_df.shape}\\nactive_pf_2D_dt.filtered_spikes_df.shape: {active_pf_2D_dt.filtered_spikes_df.shape} \"\n",
    "# Occupancies are equal:\n",
    "\n",
    "assert np.isclose(active_pf_2D_dt.ratemap.occupancy, active_pf_2D.ratemap.occupancy).all(), f\"active_pf_2D_dt.ratemap.occupancy: {active_pf_2D_dt.ratemap.occupancy}\\nactive_pf_2D.ratemap.occupancy: {active_pf_2D.ratemap.occupancy}\"\n",
    "# assert (active_pf_2D_dt.ratemap.occupancy == active_pf_2D.ratemap.occupancy).all(), f\"active_pf_2D_dt.ratemap.occupancy: {active_pf_2D_dt.ratemap.occupancy}\\nactive_pf_2D.ratemap.occupancy: {active_pf_2D.ratemap.occupancy}\"\n",
    "assert (active_pf_2D_dt.ratemap.spikes_maps == active_pf_2D.ratemap.spikes_maps).all(), f\"active_pf_2D_dt.ratemap.spikes_maps: {active_pf_2D_dt.ratemap.spikes_maps}\\nactive_pf_2D.ratemap.spikes_maps: {active_pf_2D.ratemap.spikes_maps}\""
   ]
  },
  {
   "cell_type": "code",
   "execution_count": null,
   "id": "89708ed5-0a40-49b7-8d43-1dc53ed0589d",
   "metadata": {},
   "outputs": [],
   "source": [
    "assert (active_pf_2D_dt.ratemap.tuning_curves == active_pf_2D.ratemap.tuning_curves).all(), f\"active_pf_2D_dt.ratemap.tuning_curves: {active_pf_2D_dt.ratemap.tuning_curves}\\nactive_pf_2D.ratemap.tuning_curves: {active_pf_2D.ratemap.tuning_curves}\""
   ]
  },
  {
   "cell_type": "code",
   "execution_count": null,
   "id": "b2942eff-1c2e-40ff-9a29-86cafcee30c3",
   "metadata": {},
   "outputs": [],
   "source": [
    "active_pf_2D_dt.should_smooth_final_tuning_map"
   ]
  },
  {
   "cell_type": "code",
   "execution_count": null,
   "id": "b8163855-008b-4ec6-b774-3be9d6f03aaa",
   "metadata": {},
   "outputs": [],
   "source": [
    "PfND_ .should_smooth_spikes_map"
   ]
  },
  {
   "cell_type": "code",
   "execution_count": null,
   "id": "1d724020-6ae4-44d3-8eb6-0c39b3003fbc",
   "metadata": {},
   "outputs": [],
   "source": [
    "active_pf_2D_dt.plot_ratemaps_2D(**({'subplots': (None, 9), 'resolution_multiplier': 1.0, 'enable_spike_overlay': False}))"
   ]
  },
  {
   "cell_type": "code",
   "execution_count": null,
   "id": "4ec985f3-19c5-4b54-a509-d629d96b9faf",
   "metadata": {},
   "outputs": [],
   "source": [
    "active_pf_2D.plot_ratemaps_2D(**({'subplots': (None, 9), 'resolution_multiplier': 1.0, 'enable_spike_overlay': False}))"
   ]
  },
  {
   "cell_type": "code",
   "execution_count": null,
   "id": "83bc5aeb-092b-4095-82d0-d5fdb5546b84",
   "metadata": {},
   "outputs": [],
   "source": [
    "from pyphoplacecellanalysis.Pho2D.PyQtPlots.plot_placefields import pyqtplot_plot_image_array, pyqtplot_common_setup\n",
    "# Get flat list of images:\n",
    "images = active_pf_2D.ratemap.tuning_curves # (43, 63, 63)\n",
    "occupancy = active_pf_2D.ratemap.occupancy\n",
    "\n",
    "# images = active_pf_2D_dt.ratemap.tuning_curves # (43, 63, 63)\n",
    "# images = active_pf_2D_dt.curr_occupancy_weighted_tuning_maps_matrix[active_pf_2D_dt._included_thresh_neurons_indx,:,:] # (43, 63, 63)\n",
    "# images = active_pf_2D_dt.curr_smoothed_spikes_maps_matrix[active_pf_2D_dt._included_thresh_neurons_indx,:,:] # (43, 63, 63)\n",
    "# images = active_one_step_decoder.ratemap.normalized_tuning_curves[0:40,:,:] # (43, 63, 63)\n",
    "# occupancy = active_pf_2D_dt.ratemap.occupancy\n",
    "# occupancy = active_pf_2D_dt.curr_seconds_occupancy\n",
    "app, parent_root_widget, root_render_widget, plot_array, img_item_array, other_components_array = pyqtplot_plot_image_array(active_pf_2D_dt.xbin, active_pf_2D_dt.ybin, images, occupancy, \n",
    "                                                                        app=None, parent_root_widget=None, root_render_widget=None)\n",
    "\n",
    "parent_root_widget.show()"
   ]
  },
  {
   "cell_type": "code",
   "execution_count": null,
   "id": "2037c96d-e840-4505-98fa-8725762228c6",
   "metadata": {},
   "outputs": [],
   "source": [
    "def debug_show_placefields(pf_type: str, images, occupancy):\n",
    "    if pf_type == 'dt':\n",
    "        active_pfs = active_pf_2D_dt\n",
    "    else:\n",
    "        active_pfs =  active_pf_2D\n",
    "    app, parent_root_widget, root_render_widget, plot_array, img_item_array, other_components_array = pyqtplot_plot_image_array(active_pfs.xbin, active_pfs.ybin, images, occupancy, \n",
    "                                                                        app=None, parent_root_widget=None, root_render_widget=None)\n",
    "    parent_root_widget.show()\n",
    "    return dict(app=app, parent_root_widget=parent_root_widget, root_render_widget=root_render_widget, plot_array=plot_array, img_item_array=img_item_array, other_components_array=other_components_array)\n",
    "\n",
    "\n",
    "debug_pf_dict = debug_show_placefields('', active_pf_2D.ratemap.tuning_curves, active_pf_2D.ratemap.occupancy)"
   ]
  },
  {
   "cell_type": "code",
   "execution_count": null,
   "id": "d6b05ced-4c59-442e-93ff-6d755ae1aed3",
   "metadata": {},
   "outputs": [],
   "source": [
    "debug_pf_dt_dict = debug_show_placefields('dt', active_pf_2D_dt.ratemap.tuning_curves, active_pf_2D_dt.ratemap.occupancy)"
   ]
  },
  {
   "cell_type": "code",
   "execution_count": null,
   "id": "eb50a3c2-e0ed-468b-ada9-8c36f3e3113c",
   "metadata": {},
   "outputs": [],
   "source": [
    "active_pf_2D.should_smooth_spatial_occupancy_map\n",
    "active_pf_2D_dt.should_smooth_spatial_occupancy_map\n",
    "\n",
    "active_pf_2D_dt.included_neuron_IDs"
   ]
  },
  {
   "cell_type": "code",
   "execution_count": null,
   "id": "e5159ac7-f1bd-442b-a4b7-fd9d4c905ef0",
   "metadata": {},
   "outputs": [],
   "source": [
    "\n",
    "\n",
    "assert (active_pf_2D_dt.ratemap.spikes_maps == active_pf_2D.ratemap.spikes_maps).all(), f\"active_pf_2D_dt.ratemap.spikes_maps: {active_pf_2D_dt.ratemap.spikes_maps}\\nactive_pf_2D.ratemap.spikes_maps: {active_pf_2D.ratemap.spikes_maps}\""
   ]
  },
  {
   "cell_type": "code",
   "execution_count": null,
   "id": "610b54be-e4a1-43d9-928c-1941b6c4533c",
   "metadata": {},
   "outputs": [],
   "source": [
    "active_pf_2D_dt._included_thresh_neurons_indx"
   ]
  },
  {
   "cell_type": "code",
   "execution_count": null,
   "id": "2e8edaf6-6dea-4b70-bdfc-65b2f61f6055",
   "metadata": {},
   "outputs": [],
   "source": [
    "active_pf_2D.ratemap.occupancy"
   ]
  },
  {
   "cell_type": "code",
   "execution_count": null,
   "id": "e1ef0af9-dbc2-464b-84f4-4149349af8bd",
   "metadata": {},
   "outputs": [],
   "source": [
    "active_pf_2D_dt.curr_seconds_occupancy"
   ]
  },
  {
   "cell_type": "code",
   "execution_count": null,
   "id": "cb9f0ceb-a26b-41ed-9f68-a44c2816c233",
   "metadata": {},
   "outputs": [],
   "source": [
    "active_pf_2D_dt.ratemap.occupancy"
   ]
  },
  {
   "cell_type": "code",
   "execution_count": null,
   "id": "cf8f0e6f-c7af-46df-a9c0-614bb3f61692",
   "metadata": {},
   "outputs": [],
   "source": [
    "active_pf_2D.ratemap.tuning_curves"
   ]
  },
  {
   "cell_type": "code",
   "execution_count": null,
   "id": "f0a42c12-29e0-4f59-8783-c407de973c88",
   "metadata": {},
   "outputs": [],
   "source": [
    "active_pf_2D_dt.curr_occupancy_weighted_tuning_maps_matrix"
   ]
  },
  {
   "cell_type": "code",
   "execution_count": null,
   "id": "ef17b126-2918-482c-ba58-b67af241b023",
   "metadata": {},
   "outputs": [],
   "source": [
    "[len(dim_nonzeros) for dim_nonzeros in active_pf_2D_dt.curr_occupancy_weighted_tuning_maps_matrix[~active_pf_2D_dt._included_thresh_neurons_indx,:,:].nonzero()] # [4602, 4602, 4602], there are [2441, 2441, 2441] outside the included"
   ]
  },
  {
   "cell_type": "code",
   "execution_count": null,
   "id": "bda3c07d-85c5-44ab-b023-e5212817f04d",
   "metadata": {},
   "outputs": [],
   "source": [
    "[len(dim_nonzeros) for dim_nonzeros in active_pf_2D.ratemap.tuning_curves.nonzero()] # [67595, 67595, 67595]"
   ]
  },
  {
   "cell_type": "code",
   "execution_count": null,
   "id": "8e9c0184-e77a-4c58-9004-a4ac1e23261e",
   "metadata": {},
   "outputs": [],
   "source": [
    "active_pf_2D_dt.ratemap.tuning_curves"
   ]
  },
  {
   "cell_type": "code",
   "execution_count": null,
   "id": "a20a9670-2eff-4373-b7df-08d9d416b59f",
   "metadata": {},
   "outputs": [],
   "source": [
    "active_pf_2D.ratemap.spikes_maps.nonzero()"
   ]
  },
  {
   "cell_type": "code",
   "execution_count": null,
   "id": "ac0ec831-5abc-4ffd-82e0-dfee9128f641",
   "metadata": {},
   "outputs": [],
   "source": [
    "[len(dim_nonzeros) for dim_nonzeros in active_pf_2D.ratemap.tuning_curves.nonzero()] # [67595, 67595, 67595]"
   ]
  },
  {
   "cell_type": "code",
   "execution_count": null,
   "id": "a3b16910-31dc-4972-869e-af29f9c5329c",
   "metadata": {},
   "outputs": [],
   "source": [
    "active_pf_2D_dt.last_t"
   ]
  },
  {
   "cell_type": "code",
   "execution_count": null,
   "id": "e77498f5-56ca-4903-bd5f-a05c4d1373d8",
   "metadata": {},
   "outputs": [],
   "source": [
    "active_pf_2D_dt.ratemap.tuning_curves"
   ]
  },
  {
   "cell_type": "code",
   "execution_count": null,
   "id": "9a29600a-5933-46b5-9b55-d954245fa8f3",
   "metadata": {},
   "outputs": [],
   "source": [
    "active_pf_2D_dt.curr_occupancy_weighted_tuning_maps_matrix"
   ]
  },
  {
   "cell_type": "code",
   "execution_count": null,
   "id": "41cd1ae2-b6cf-4dbe-bdb1-94fb4df33fb0",
   "metadata": {},
   "outputs": [],
   "source": [
    "active_pf_2D_dt.ratemap.neuron_ids"
   ]
  },
  {
   "cell_type": "code",
   "execution_count": null,
   "id": "7275a411-b27d-409f-a831-1a920c132326",
   "metadata": {},
   "outputs": [],
   "source": [
    "# %pdb on\n",
    "pActiveTuningCurvesPlotter_dup = None\n",
    "display_output = display_output | curr_active_pipeline.display('_display_3d_interactive_tuning_curves_plotter', active_config_name, override_pf2D=active_pf_2D_dt , extant_plotter=display_output.get('pActiveTuningCurvesPlotter_dup', None),\n",
    "                                                               panel_controls_mode='Qt', should_nan_non_visited_elements=False, zScalingFactor=2000.0) # Works now!\n",
    "ipcDataExplorer_dup = display_output['ipcDataExplorer']\n",
    "display_output['pActiveTuningCurvesPlotter_dup'] = display_output.pop('plotter') # rename the key from the generic \"plotter\" to \"pActiveSpikesBehaviorPlotter\" to avoid collisions with others\n",
    "pActiveTuningCurvesPlotter_dup = display_output['pActiveTuningCurvesPlotter_dup']\n",
    "root_dockAreaWindow_dup, placefieldControlsContainerWidget_dup, pf_widgets_dup = display_output['pane'] # for Qt mode:"
   ]
  },
  {
   "cell_type": "code",
   "execution_count": null,
   "id": "a862a0e1-be53-4c5a-af97-7e8ef0eedbd3",
   "metadata": {},
   "outputs": [],
   "source": [
    "# %pdb on\n",
    "# %pdb off\n",
    "from pyphoplacecellanalysis.GUI.PyVista.InteractivePlotter.InteractivePlaceCellTuningCurvesDataExplorer import InteractivePlaceCellTuningCurvesDataExplorer\n",
    "from pyphoplacecellanalysis.GUI.Qt.Mixins.Menus.ConnectionControlsMenuMixin import ConnectionControlsMenuMixin\n",
    "\n",
    "from pyphocorehelpers.gui.Qt.widget_positioning_helpers import WidgetPositioningHelpers\n",
    "from pyphoplacecellanalysis.General.Configs.DynamicConfigs import PlottingConfig, InteractivePlaceCellConfig\n",
    "from pyphocorehelpers.mixins.member_enumerating import AllFunctionEnumeratingMixin\n",
    "from pyphoplacecellanalysis.General.Pipeline.Stages.DisplayFunctions.DisplayFunctionRegistryHolder import DisplayFunctionRegistryHolder\n",
    "\n",
    "pActiveTuningCurvesPlotter_dup = None\n",
    "from pyphoplacecellanalysis.GUI.PyQtPlot.Widgets.DockAreaWrapper import DockAreaWrapper\n",
    "\n",
    "# Qt-based Placefield controls:\n",
    "from pyphoplacecellanalysis.GUI.Qt.PlacefieldVisualSelectionControls.qt_placefield import build_all_placefield_output_panels\n",
    "# ipcDataExplorer_dup = InteractivePlaceCellTuningCurvesDataExplorer(curr_active_config, sess, active_computed_data['pf2D'], curr_active_config.plotting_config.pf_colors, **({'extant_plotter':None}))\n",
    "ipcDataExplorer_dup = InteractivePlaceCellTuningCurvesDataExplorer(curr_active_config, sess, active_computed_data['pf2D_dt'], curr_active_config.plotting_config.pf_colors, **({'extant_plotter':None}))\n",
    "\n",
    "# ipcDataExplorer_dup = InteractivePlaceCellTuningCurvesDataExplorer(curr_active_config, sess, active_pf_2D_dt, curr_active_config.plotting_config.pf_colors, **({'extant_plotter':None}))\n",
    "pActiveTuningCurvesPlotter_dup = ipcDataExplorer_dup.plot(pActiveTuningCurvesPlotter_dup) # [2, 17449]\n",
    "# Update the ipcDataExplorer's colors for spikes and placefields from its configs on init:\n",
    "ipcDataExplorer_dup.on_config_update({neuron_id:a_config.color for neuron_id, a_config in ipcDataExplorer_dup.active_neuron_render_configs_map.items()}, defer_update=False)\n",
    "\n",
    "# build the output panels if desired:\n",
    "# pane: (placefieldControlsContainerWidget, pf_widgets)\n",
    "placefieldControlsContainerWidget_dup, pf_widgets = build_all_placefield_output_panels(ipcDataExplorer_dup)\n",
    "placefieldControlsContainerWidget_dup.show()\n",
    "\n",
    "# Adds the placefield controls container widget and each individual pf widget to the ipcDataExplorer.ui in case it needs to reference them later:\n",
    "ipcDataExplorer_dup.ui['placefieldControlsContainerWidget'] = placefieldControlsContainerWidget_dup\n",
    "\n",
    "# Visually align the widgets:\n",
    "WidgetPositioningHelpers.align_window_edges(ipcDataExplorer_dup.p, placefieldControlsContainerWidget_dup, relative_position = 'above', resize_to_main=(1.0, None))\n",
    "\n",
    "# Wrap:\n",
    "active_root_main_widget = ipcDataExplorer_dup.p.window()\n",
    "root_dockAreaWindow, app = DockAreaWrapper.wrap_with_dockAreaWindow(active_root_main_widget, placefieldControlsContainerWidget_dup, title=ipcDataExplorer_dup.data_explorer_name)\n",
    "\n",
    "pane = (root_dockAreaWindow, placefieldControlsContainerWidget_dup, pf_widgets)\n",
    "\n"
   ]
  },
  {
   "cell_type": "code",
   "execution_count": null,
   "id": "d588baed-7c11-4838-a5eb-b13ef900279f",
   "metadata": {},
   "outputs": [],
   "source": [
    "# ## Update existing open ipcDataExplorer by overwriting (TODO):\n",
    "# ipcDataExplorer.params.active_epoch_placefields = active_pf_2D_dt"
   ]
  },
  {
   "cell_type": "code",
   "execution_count": null,
   "id": "1e14b649-76a2-44b8-ac9b-9e9df4fa6450",
   "metadata": {},
   "outputs": [],
   "source": []
  },
  {
   "cell_type": "markdown",
   "id": "bb64e0d4-73ed-475e-92a5-816e0e0bc33f",
   "metadata": {
    "jp-MarkdownHeadingCollapsed": true,
    "pycharm": {
     "is_executing": false,
     "name": "#%%\n"
    },
    "tags": []
   },
   "source": [
    "### Optional Duplicate ipcDataExplorer plotter for comparison"
   ]
  },
  {
   "cell_type": "code",
   "execution_count": null,
   "id": "79271397-1108-43cc-a7f9-12221ff539d0",
   "metadata": {
    "pycharm": {
     "is_executing": false,
     "name": "#%%\n"
    },
    "tags": []
   },
   "outputs": [],
   "source": [
    "pActiveTuningCurvesPlotter_dup = None\n",
    "display_output = display_output | curr_active_pipeline.display('_display_3d_interactive_tuning_curves_plotter', active_config_name, override_pf2D= , extant_plotter=display_output.get('pActiveTuningCurvesPlotter_dup', None),\n",
    "                                                               panel_controls_mode='Qt', should_nan_non_visited_elements=False, zScalingFactor=2000.0) # Works now!\n",
    "ipcDataExplorer_dup = display_output['ipcDataExplorer']\n",
    "display_output['pActiveTuningCurvesPlotter_dup'] = display_output.pop('plotter') # rename the key from the generic \"plotter\" to \"pActiveSpikesBehaviorPlotter\" to avoid collisions with others\n",
    "pActiveTuningCurvesPlotter_dup = display_output['pActiveTuningCurvesPlotter_dup']\n",
    "root_dockAreaWindow_dup, placefieldControlsContainerWidget_dup, pf_widgets_dup = display_output['pane'] # for Qt mode:"
   ]
  },
  {
   "cell_type": "markdown",
   "id": "03c7f6f6-519c-4eef-9661-7ff9262d4d6e",
   "metadata": {
    "jp-MarkdownHeadingCollapsed": true,
    "tags": []
   },
   "source": [
    "### Render computed contours and peaks to ipcDataExplorer:"
   ]
  },
  {
   "cell_type": "code",
   "execution_count": null,
   "id": "5bb8fdf3-4e20-4c96-aeec-92eba1adbc74",
   "metadata": {},
   "outputs": [],
   "source": [
    "from pyphoplacecellanalysis.PhoPositionalData.plotting.peak_prominences import render_all_neuron_peak_prominence_2d_results_on_pyvista_plotter\n",
    "## Call the function to add the 3D plot components to the pyvista plotter\n",
    "render_all_neuron_peak_prominence_2d_results_on_pyvista_plotter(ipcDataExplorer, active_peak_prominence_2d_results, debug_print=False)"
   ]
  },
  {
   "cell_type": "code",
   "execution_count": null,
   "id": "171e6a5b-045a-4838-a90c-9d6edf0b4522",
   "metadata": {
    "pycharm": {
     "is_executing": false,
     "name": "#%%\n"
    }
   },
   "outputs": [],
   "source": [
    "## Set the colors of the raster window from the tuning curve window:\n",
    "spike_raster_window.update_neurons_color_data(updated_neuron_render_configs=ipcDataExplorer.active_neuron_render_configs_map)"
   ]
  },
  {
   "cell_type": "code",
   "execution_count": null,
   "id": "05215ea8-1ea0-405c-a3f9-27c50b4381fd",
   "metadata": {
    "pycharm": {
     "is_executing": false,
     "name": "#%%\n"
    }
   },
   "outputs": [],
   "source": [
    "ipcDataExplorer.p.enable_depth_peeling(10, occlusion_ratio=0) # This fixes many of the rendering issues of the placefields, but does slow things way down. \n",
    "# ipcDataExplorer.p.enable_depth_peeling(number_of_peels=4, occlusion_ratio=0)\n",
    "# ipcDataExplorer.p.disable_depth_peeling()\n",
    "# ipcDataExplorer.p.enable_depth_peeling(10)"
   ]
  },
  {
   "cell_type": "code",
   "execution_count": null,
   "id": "1b73687a-2e03-4229-aacb-cc4e515b5b8b",
   "metadata": {
    "pycharm": {
     "is_executing": false,
     "name": "#%%\n"
    }
   },
   "outputs": [],
   "source": [
    "## Change background color:\n",
    "ipcDataExplorer.params.plotter_backgrounds"
   ]
  },
  {
   "cell_type": "code",
   "execution_count": null,
   "id": "59f93993-a516-4220-989a-a1b9a1680ed2",
   "metadata": {
    "pycharm": {
     "is_executing": false,
     "name": "#%%\n"
    }
   },
   "outputs": [],
   "source": [
    "ipcDataExplorer.set_background('Deep Space (Dark)')"
   ]
  },
  {
   "cell_type": "code",
   "execution_count": null,
   "id": "2f230154-b169-4f44-b990-5fd2bf20816d",
   "metadata": {
    "pycharm": {
     "is_executing": false,
     "name": "#%%\n"
    }
   },
   "outputs": [],
   "source": [
    "ipcDataExplorer.set_background('Purple Paradise')"
   ]
  },
  {
   "cell_type": "code",
   "execution_count": null,
   "id": "2c81c8aa-0165-443a-a529-5d5a613da343",
   "metadata": {
    "pycharm": {
     "is_executing": false,
     "name": "#%%\n"
    }
   },
   "outputs": [],
   "source": [
    "ipcDataExplorer.plot_placefields()"
   ]
  },
  {
   "cell_type": "code",
   "execution_count": null,
   "id": "a2925b1e-762d-49e8-9aa7-849ab19d9a63",
   "metadata": {
    "pycharm": {
     "is_executing": false,
     "name": "#%%\n"
    }
   },
   "outputs": [],
   "source": [
    "ipcDataExplorer.params.zScalingFactor"
   ]
  },
  {
   "cell_type": "code",
   "execution_count": null,
   "id": "616ba60d-0756-489a-a407-bd765035f879",
   "metadata": {},
   "outputs": [],
   "source": [
    "# ipcDataExplorer.toggle_plot_visibility() # Looks like it works for generally specified plot key\n",
    "# ipcDataExplorer.get_plot_objects_list\n",
    "\n",
    "# ['main', 'points', 'peaks']\n",
    "list(ipcDataExplorer.tuning_curve_plot_actors[2].keys())\n",
    "# 'tuningCurvePlotActors'"
   ]
  },
  {
   "cell_type": "code",
   "execution_count": null,
   "id": "94d703b8-edb2-472d-a97f-74c0c594c3cf",
   "metadata": {},
   "outputs": [],
   "source": [
    "curr_tuning_curve_data = ipcDataExplorer.plots_data['tuningCurvePlotData'][2]\n",
    "curr_pdata = curr_tuning_curve_data['pdata_currActiveNeuronTuningCurve'] # StructuredGrid\n",
    "curr_pdata_points = curr_tuning_curve_data['pdata_currActiveNeuronTuningCurve_Points'] # UnstructuredGrid\n",
    "curr_pdata_points\n",
    "# curr_pdata\n",
    "# {'curr_active_neuron_ID': 2,\n",
    "#  'curr_active_neuron_pf_identifier': 'pf[2]',\n",
    "#  'curr_active_neuron_tuning_Curve': array([[0.437126, 0.818305, 1.48319, ..., 0.0155238, 0.0067005, 0.00294359],\n",
    "#         [0.347969, 0.64914, 1.17457, ..., 0.0388841, 0.0167967, 0.00739304],\n",
    "#         [0.228976, 0.415578, 0.741638, ..., 0.0922773, 0.0399187, 0.0176301],\n",
    "#         ...,\n",
    "#         [0, 0, 0, ..., 0.0989772, 0.0683015, 0.0467108],\n",
    "#         [0, 0, 0, ..., 0.0407058, 0.0284058, 0.0195678],\n",
    "#         [0, 0, 0, ..., 0.0158926, 0.0112009, 0.00776478]]),\n",
    "#  'pdata_currActiveNeuronTuningCurve': StructuredGrid (0x24d816a7f40)\n",
    "#    N Cells:\t1764\n",
    "#    N Points:\t1856\n",
    "#    X Bounds:\t2.581e+01, 2.638e+02\n",
    "#    Y Bounds:\t1.244e+02, 1.536e+02\n",
    "#    Z Bounds:\t0.000e+00, 1.703e+01\n",
    "#    Dimensions:\t29, 64, 1\n",
    "#    N Arrays:\t3,\n",
    "#  'pdata_currActiveNeuronTuningCurve_Points': UnstructuredGrid (0x24d815b4dc0)\n",
    "#    N Cells:\t1716\n",
    "#    N Points:\t1812\n",
    "#    X Bounds:\t2.581e+01, 2.638e+02\n",
    "#    Y Bounds:\t1.244e+02, 1.536e+02\n",
    "#    Z Bounds:\t0.000e+00, 1.703e+01\n",
    "#    N Arrays:\t3,\n",
    "#  'lut': <vtkmodules.vtkCommonCore.vtkLookupTable(0x0000024D9A888950) at 0x0000024DAA8F35E0>,\n",
    "#  'peaks':\n",
    "#  ...\n",
    "\n",
    "surf = curr_pdata.extract_surface() # <class 'pyvista.core.pointset.PolyData'>\n",
    "surf\n",
    "\n",
    "# surf = curr_pdata_points.reconstruct_surface() # this does not work at all\n",
    "# surf\n",
    "# curr_pdata_points.length\n",
    "\n",
    "# active_points_data = curr_pdata_points.points.copy()\n",
    "# active_points_data = curr_pdata.copy()\n",
    "active_points_data = surf.copy()\n",
    "origin = active_points_data.center.copy()\n",
    "origin[-1] = origin[-1] - (active_points_data.length/3.0)\n",
    "origin\n",
    "projected = active_points_data.project_points_to_plane(origin=origin)\n",
    "projected"
   ]
  },
  {
   "cell_type": "code",
   "execution_count": null,
   "id": "c6ad079b-a48a-40df-8e2b-1554c40dbb6a",
   "metadata": {},
   "outputs": [],
   "source": [
    "edges = curr_pdata.extract_all_edges()\n",
    "edges.plot(line_width=1, color='k')"
   ]
  },
  {
   "cell_type": "code",
   "execution_count": null,
   "id": "6c69e63a-417b-4aa8-ae6f-022dd38172d8",
   "metadata": {},
   "outputs": [],
   "source": [
    "# non_visited_mask = active_placefields.never_visited_occupancy_mask\n",
    "non_visited_mask = ipcDataExplorer.params.active_epoch_placefields.never_visited_occupancy_mask.copy()\n",
    "non_visited_mask"
   ]
  },
  {
   "cell_type": "code",
   "execution_count": null,
   "id": "025eff68-851b-4dc0-9443-577e9bff1128",
   "metadata": {},
   "outputs": [],
   "source": [
    "flat_non_visited_mask = non_visited_mask.T.copy().ravel(order=\"F\")\n",
    "# flat_non_visited_mask.shape # (1856,)"
   ]
  },
  {
   "cell_type": "code",
   "execution_count": null,
   "id": "9fe38f1d-c08d-4596-bdfc-6fb043b7e716",
   "metadata": {},
   "outputs": [],
   "source": [
    "# Only if VTK > 9.1.X does this return a PointData, otherwise returns None\n",
    "# _ = curr_pdata.hide_points(ind=flat_non_visited_mask)\n",
    "curr_pdata.hide_cells(flat_non_visited_mask, inplace=True)\n",
    "# curr_updated_pdata_points = curr_pdata_points.hide_points(non_visited_mask).copy()\n",
    "# curr_updated_pdata_points\n",
    "# List or array of point indices to be hidden. The array can also be a boolean array of the same size as the number of points.\n"
   ]
  },
  {
   "cell_type": "code",
   "execution_count": null,
   "id": "42ddd7fa-79c5-4327-b1d6-356dab63d2af",
   "metadata": {},
   "outputs": [],
   "source": [
    "import pyvista as pv\n",
    "pl = pv.Plotter(shape=(1,2))\n",
    "pl.add_mesh(curr_pdata_points)\n",
    "pl.add_title('points')\n",
    "pl.subplot(0,1)\n",
    "pl.add_mesh(curr_pdata, color=True, show_edges=True)\n",
    "pl.add_mesh(surf, color=True, show_edges=True)\n",
    "pl.add_mesh(projected)\n",
    "pl.add_mesh(curr_pdata)\n",
    "pl.add_title('reconstructed from points')\n",
    "pl.show()"
   ]
  },
  {
   "cell_type": "code",
   "execution_count": null,
   "id": "d10263fd-80b8-495a-96f3-3bdcd24d579f",
   "metadata": {},
   "outputs": [],
   "source": [
    "curr_tuning_curve_plot = ipcDataExplorer.tuning_curve_plot_actors[2]['main']\n",
    "curr_tuning_curve_plot.GetShaderProperty()"
   ]
  },
  {
   "cell_type": "code",
   "execution_count": null,
   "id": "292d8616-2a6d-47df-9a9f-c48b1a8f8369",
   "metadata": {},
   "outputs": [],
   "source": [
    "sess_spikes_df"
   ]
  },
  {
   "cell_type": "markdown",
   "id": "172de269-4476-4326-afb4-25f85d1b3fde",
   "metadata": {
    "jp-MarkdownHeadingCollapsed": true,
    "tags": []
   },
   "source": [
    "### Test Programmatically Adding GUI/UI controls for additional plots (Occupancy, etc)"
   ]
  },
  {
   "cell_type": "code",
   "execution_count": null,
   "id": "ecac9586-f8f6-46a9-9db1-699e55ab9b87",
   "metadata": {},
   "outputs": [],
   "source": [
    "# ipcDataExplorer.ui.placefieldControlsContainerWidget # PlacefieldVisualSelectionControlsBarWidget\n",
    "# ipcDataExplorer.ui.placefieldControlsContainerWidget.ui.pf_layout # QHBoxLayout \n",
    "curr_neuron_widget = ipcDataExplorer.ui.placefieldControlsContainerWidget.ui.pf_widgets[0] # Grab single neuron widget (PlacefieldVisualSelectionWidget)\n",
    "curr_layout = curr_neuron_widget.ui.groupBox.layout() # QVBoxLayout "
   ]
  },
  {
   "cell_type": "code",
   "execution_count": null,
   "id": "fbe608c3-4fce-447e-8838-3ad7fc0a5af4",
   "metadata": {},
   "outputs": [],
   "source": [
    "chkbtnProminenceMetrics = curr_neuron_widget.build_ui_toggle_button(name='chkbtnProminenceMetrics', text='prominences', parent=curr_neuron_widget.ui.groupBox)\n",
    "curr_layout.addWidget(chkbtnProminenceMetrics)"
   ]
  },
  {
   "cell_type": "markdown",
   "id": "227459be-04d7-45c9-afbf-a24738457975",
   "metadata": {},
   "source": [
    "<!-- ### Occupancy Toggle -->"
   ]
  },
  {
   "cell_type": "code",
   "execution_count": null,
   "id": "2c33a867-30b8-42c5-8ffb-b200668a5daf",
   "metadata": {},
   "outputs": [],
   "source": [
    "# ipcDataExplorer.on_occupancy_plot_update_visibility\n",
    "ipcDataExplorer.occupancy_plotting_config.isVisible = False"
   ]
  },
  {
   "cell_type": "code",
   "execution_count": null,
   "id": "b22f2eb1-48d2-4ee8-866f-f4c9c935f2d3",
   "metadata": {
    "pycharm": {
     "is_executing": false,
     "name": "#%%\n"
    }
   },
   "outputs": [],
   "source": [
    "ipcDataExplorer.plot_occupancy_bars()"
   ]
  },
  {
   "cell_type": "code",
   "execution_count": null,
   "id": "b3cf8d81-d70e-4b02-b824-e175f409b236",
   "metadata": {
    "pycharm": {
     "is_executing": false,
     "name": "#%%\n"
    }
   },
   "outputs": [],
   "source": [
    "ipcDataExplorer.occupancy_plotting_config.labelsAreVisible = True # Setting this to true renders the labels at each occupancy bin"
   ]
  },
  {
   "cell_type": "code",
   "execution_count": null,
   "id": "98ba03ff-5740-40e8-b975-2b2c2750b713",
   "metadata": {
    "pycharm": {
     "is_executing": false,
     "name": "#%%\n"
    }
   },
   "outputs": [],
   "source": [
    "ipcDataExplorer.occupancy_plotting_config.labelsShowPoints = True"
   ]
  },
  {
   "cell_type": "code",
   "execution_count": null,
   "id": "c8e7eec0-acd1-41d5-964a-8692f7e42c09",
   "metadata": {
    "pycharm": {
     "is_executing": false,
     "name": "#%%\n"
    }
   },
   "outputs": [],
   "source": [
    "ipcDataExplorer.params.should_nan_non_visited_elements = False"
   ]
  },
  {
   "cell_type": "code",
   "execution_count": null,
   "id": "023b14ee-1686-4855-acd4-ae3fe24e001a",
   "metadata": {
    "pycharm": {
     "is_executing": false,
     "name": "#%%\n"
    }
   },
   "outputs": [],
   "source": [
    "filtered_indices = sess_spikes_df.index.values[active_pf_2D.filtered_spikes_df.index]\n",
    "# filtered_sess_spikes_df = sess_spikes_df[sess_spikes_df.index == active_pf_2D.filtered_spikes_df.index]\n",
    "# filtered_sess_spikes_df = sess_spikes_df[sess_spikes_df['flat_spike_idx'] == active_pf_2D.filtered_spikes_df.flat_spike_idx]\n",
    "# filtered_sess_spikes_df"
   ]
  },
  {
   "cell_type": "code",
   "execution_count": null,
   "id": "a7e42890-2a5a-4a5d-be5b-ad3b7b9f8c6b",
   "metadata": {
    "pycharm": {
     "is_executing": false,
     "name": "#%%\n"
    }
   },
   "outputs": [],
   "source": [
    "ipcDataExplorer.occupancy_plotting_config.isVisible = False"
   ]
  },
  {
   "cell_type": "code",
   "execution_count": null,
   "id": "4cad4711-3f5d-44c3-9fc1-bd1465a86a70",
   "metadata": {
    "pycharm": {
     "is_executing": false,
     "name": "#%%\n"
    }
   },
   "outputs": [],
   "source": [
    "ipcDataExplorer.occupancy_plotting_config"
   ]
  },
  {
   "cell_type": "markdown",
   "id": "70496ef4-87e4-4e2b-ba6d-bcbd8b3adc81",
   "metadata": {
    "jp-MarkdownHeadingCollapsed": true,
    "pycharm": {
     "is_executing": false,
     "name": "#%%\n"
    },
    "tags": []
   },
   "source": [
    "### Explore Mesh/Cell Picking in ipcDataExplorer"
   ]
  },
  {
   "cell_type": "code",
   "execution_count": null,
   "id": "efcdc58e-09e6-4b58-bf08-6c64fa41b5a6",
   "metadata": {
    "pycharm": {
     "is_executing": false,
     "name": "#%%\n"
    }
   },
   "outputs": [],
   "source": [
    "## Make the legend pickable:\n",
    "import pyvista as pv\n",
    "\n",
    "def callback(point):\n",
    "    \"\"\"Create a cube and a label at the click point.\"\"\"\n",
    "    mesh = pv.Cube(center=point, x_length=0.05, y_length=0.05, z_length=0.05)\n",
    "    ipcDataExplorer.p.add_mesh(mesh, style='wireframe', color='r')\n",
    "    ipcDataExplorer.p.add_point_labels(point, [f\"{point[0]:.2f}, {point[1]:.2f}, {point[2]:.2f}\"])\n",
    "\n",
    "\n",
    "ipcDataExplorer.p.enable_surface_picking(callback=callback, left_clicking=True, show_point=False)\n",
    "# ipcDataExplorer.p.enable_surface_picking("
   ]
  },
  {
   "cell_type": "code",
   "execution_count": null,
   "id": "b4748c03-f688-4d0f-a40c-dabe75ee9e34",
   "metadata": {
    "pycharm": {
     "is_executing": false,
     "name": "#%%\n"
    }
   },
   "outputs": [],
   "source": [
    "def mesh_picked_callback(mesh):\n",
    "    \"\"\"TODO: highlight the mesh or something - label at the click point.\"\"\"\n",
    "    print(f'mesh_picked_callback(mesh: {mesh})')\n",
    "    # mesh = pv.Cube(center=point, x_length=0.05, y_length=0.05, z_length=0.05)\n",
    "    # ipcDataExplorer.p.add_mesh(mesh, style='wireframe', color='r')\n",
    "    # ipcDataExplorer.p.add_point_labels(point, [f\"{point[0]:.2f}, {point[1]:.2f}, {point[2]:.2f}\"])\n",
    "\n",
    "ipcDataExplorer.p.enable_mesh_picking(callback=mesh_picked_callback, left_clicking=True, show=True)"
   ]
  },
  {
   "cell_type": "markdown",
   "id": "e7e92907-c05c-4ad1-b291-2e941433a87e",
   "metadata": {
    "jp-MarkdownHeadingCollapsed": true,
    "pycharm": {
     "is_executing": false,
     "name": "#%%\n"
    },
    "tags": []
   },
   "source": [
    "### Other"
   ]
  },
  {
   "cell_type": "code",
   "execution_count": null,
   "id": "46d9eb58-f053-4b19-8630-c2087b5c9bad",
   "metadata": {
    "pycharm": {
     "name": "#%%\n"
    }
   },
   "outputs": [],
   "source": [
    "# Here we look at the population burst events for each epoch ('maze1' vs. 'maze2')\n",
    "# curr_active_pipeline.sess.\n",
    "\n",
    "# get only the spikes that occur during PBEs:\n",
    "pbe_only_spikes_df = sess.spikes_df[(sess.spikes_df.PBE_id > -1)]\n",
    "pbe_only_spikes_df\n",
    "\n",
    "curr_active_pipeline.sess.pbe #[10960 rows x 4 columns]"
   ]
  },
  {
   "cell_type": "code",
   "execution_count": null,
   "id": "16de2901-e7ea-40fe-8807-d5bfb57b01bd",
   "metadata": {
    "pycharm": {
     "name": "#%%\n"
    }
   },
   "outputs": [],
   "source": [
    "app, win, w = curr_active_pipeline.display('_display_placemaps_pyqtplot_2D', active_config_name)\n",
    "win.show(); pg.exec()"
   ]
  },
  {
   "cell_type": "markdown",
   "id": "5780219e-f3f0-4184-ad7e-c2d6111adadb",
   "metadata": {
    "pycharm": {
     "is_executing": false,
     "name": "#%%\n"
    },
    "tags": []
   },
   "source": [
    "## ipspikesDataExplorer - 3D Interactive Spike and Behavior Plotter"
   ]
  },
  {
   "cell_type": "code",
   "execution_count": null,
   "id": "3ac70061-9e27-48cc-ae89-b01836c3d4c2",
   "metadata": {
    "pycharm": {
     "is_executing": false,
     "name": "#%%\n"
    },
    "scrolled": true
   },
   "outputs": [],
   "source": [
    "pActiveSpikesBehaviorPlotter = None\n",
    "display_output = display_output | curr_active_pipeline.display('_display_3d_interactive_spike_and_behavior_browser', active_config_name, extant_plotter=display_output.get('pActiveSpikesBehaviorPlotter', None)) # Works now!\n",
    "ipspikesDataExplorer = display_output['ipspikesDataExplorer']\n",
    "display_output['pActiveSpikesBehaviorPlotter'] = display_output.pop('plotter') # rename the key from the generic \"plotter\" to \"pActiveSpikesBehaviorPlotter\" to avoid collisions with others\n",
    "pActiveSpikesBehaviorPlotter = display_output['pActiveSpikesBehaviorPlotter']"
   ]
  },
  {
   "cell_type": "code",
   "execution_count": null,
   "id": "a1c468be-a227-4ad8-96bb-23577e1f588e",
   "metadata": {
    "pycharm": {
     "is_executing": false,
     "name": "#%%\n"
    },
    "scrolled": true
   },
   "outputs": [],
   "source": [
    "## Sync ipspikesDataExplorer to raster window:\n",
    "extra_interactive_spike_behavior_browser_sync_connection = spike_raster_window.connect_additional_controlled_plotter(controlled_plt=ipspikesDataExplorer)\n",
    "# extra_interactive_spike_behavior_browser_sync_connection = _connect_additional_controlled_plotter(spike_raster_window.spike_raster_plt_2d, ipspikesDataExplorer)"
   ]
  },
  {
   "cell_type": "markdown",
   "id": "7c7485f6-3d15-4681-9dc1-722b4ca67d90",
   "metadata": {
    "pycharm": {
     "is_executing": false,
     "name": "#%%\n"
    }
   },
   "source": [
    "### Test Programmatic Updating of the ipspikesDataExplorer"
   ]
  },
  {
   "cell_type": "code",
   "execution_count": null,
   "id": "843919bd-e5f6-4ae0-b85d-775988be9312",
   "metadata": {
    "pycharm": {
     "is_executing": false,
     "name": "#%%\n"
    },
    "scrolled": true
   },
   "outputs": [],
   "source": [
    "ipspikesDataExplorer.spikes_main_historical.VisibilityOff()\n",
    "# ipspikesDataExplorer."
   ]
  },
  {
   "cell_type": "code",
   "execution_count": null,
   "id": "7d2a1570-cba6-4169-8da9-13bf495467e3",
   "metadata": {
    "pycharm": {
     "is_executing": false,
     "name": "#%%\n"
    },
    "scrolled": true
   },
   "outputs": [],
   "source": [
    "np.shape(ipspikesDataExplorer.params.flattened_spike_positions_list) # (2, 102139)\n",
    "np.shape(ipspikesDataExplorer.flattened_spike_times) # (102139,)\n",
    "\n",
    "recent_spikes_mesh = ipspikesDataExplorer.plots['spikes_main_recent_only']\n",
    "# ipspikesDataExplorer.plots.keys() # dict_keys(['spikes_main_historical', 'spikes_main_recent_only', 'animal_location_trail', 'animal_current_location_point', 'maze_bg'])\n",
    "# , show_edges=True"
   ]
  },
  {
   "cell_type": "code",
   "execution_count": null,
   "id": "c65e6082-7879-4482-91b9-2fb298090554",
   "metadata": {
    "pycharm": {
     "is_executing": false,
     "name": "#%%\n"
    },
    "scrolled": true
   },
   "outputs": [],
   "source": [
    "ipspikesDataExplorer.spikes_main_historical.AddPosition((0.0, 0.0, (-1.1*10)))"
   ]
  },
  {
   "cell_type": "markdown",
   "id": "86215a6c-4a87-4d3e-9022-e6ff3448f17b",
   "metadata": {
    "tags": []
   },
   "source": [
    "## TimeSynchronizedPlotters - for plotting time-dependent placefields (active_pf_2D_dt) "
   ]
  },
  {
   "cell_type": "markdown",
   "id": "11053011-346e-4d50-baa6-711332102131",
   "metadata": {
    "tags": []
   },
   "source": [
    "### ✅🟢 Merging TimeSynchronized Plotters:"
   ]
  },
  {
   "cell_type": "code",
   "execution_count": null,
   "id": "83669981-58e1-4632-aa79-d128c5c9c0c4",
   "metadata": {},
   "outputs": [],
   "source": [
    "from PendingNotebookCode import _build_combined_time_synchronized_plotters_window\n",
    "\n",
    "active_pf_2D_dt.reset()\n",
    "active_pf_2D_dt.update(t=45.0, start_relative_t=True)\n",
    "all_plotters, root_dockAreaWindow, app = _build_combined_time_synchronized_plotters_window(active_pf_2D_dt, fixed_window_duration = 15.0)"
   ]
  },
  {
   "cell_type": "code",
   "execution_count": null,
   "id": "108cf1a3-bbe5-4f12-9882-880d64aef0ef",
   "metadata": {},
   "outputs": [],
   "source": [
    "# MESSAGE:\n",
    "# ipspikesDataExplorer.disable_ui_window_updating_controls() # Works\n",
    "ipspikesDataExplorer.disable_ui_window_updating_controls() # Works"
   ]
  },
  {
   "cell_type": "code",
   "execution_count": null,
   "id": "c70dfbd3-2ff7-432e-aac6-37f6afc677e3",
   "metadata": {},
   "outputs": [],
   "source": [
    "from pyphoplacecellanalysis.Pho2D.PyQtPlots.TimeSynchronizedPlotters.TimeSynchronizedOccupancyPlotter import TimeSynchronizedOccupancyPlotter\n",
    "from pyphoplacecellanalysis.Pho2D.PyQtPlots.TimeSynchronizedPlotters.TimeSynchronizedPlacefieldsPlotter import TimeSynchronizedPlacefieldsPlotter\n",
    "\n",
    "curr_placefields_plotter = TimeSynchronizedPlacefieldsPlotter(active_pf_2D_dt)\n",
    "curr_placefields_plotter.show()"
   ]
  },
  {
   "cell_type": "code",
   "execution_count": null,
   "id": "e9814fad-00b2-4e85-b23c-c5e10705178d",
   "metadata": {},
   "outputs": [],
   "source": [
    "active_pf_2D_dt.all_time_filtered_spikes_df"
   ]
  },
  {
   "cell_type": "code",
   "execution_count": null,
   "id": "000d418a-6ffa-460a-88c9-b2b5e08fadb5",
   "metadata": {},
   "outputs": [],
   "source": [
    "active_pf_2D.filtered_spikes_df"
   ]
  },
  {
   "cell_type": "code",
   "execution_count": null,
   "id": "a9dc444f-f9e8-4370-bd7a-92dcae3f305f",
   "metadata": {},
   "outputs": [],
   "source": [
    "## 🔜 CURRENT: Determine why some curves are flat, and others aren't, and how this relates to the firing rate.\n",
    "\n",
    "with pd.option_context('display.max_rows', 70, 'display.max_columns', 5):\n",
    "    print(pd.DataFrame({'neuron_ids':ipcDataExplorer.placefields.ratemap.neuron_ids,\n",
    "                  'unsmoothed_peak_firing_rates': ipcDataExplorer.placefields.ratemap.tuning_curve_unsmoothed_peak_firing_rates,\n",
    "                  'peak_firing_rates': ipcDataExplorer.placefields.ratemap.tuning_curve_peak_firing_rates}))\n",
    "\n",
    "https://github.com/CommanderPho/NeuroPy/blob/feature%2Fpho_variant/neuropy/plotting/ratemaps.py#L230"
   ]
  },
  {
   "cell_type": "code",
   "execution_count": null,
   "id": "168519fb-2408-42ff-a30d-1ec93c2d5987",
   "metadata": {},
   "outputs": [],
   "source": [
    "from pyphoplacecellanalysis.GUI.Qt.Mixins.PhoMenuHelper import PhoMenuHelper\n",
    "\n",
    "curr_window = PhoMenuHelper.try_get_menu_window(a_content_widget=spike_raster_window)\n",
    "curr_menubar = PhoMenuHelper.try_get_menu_bar(a_content_widget=spike_raster_window)\n",
    "\n",
    "curr_window # PhoBaseMainWindow"
   ]
  },
  {
   "cell_type": "code",
   "execution_count": null,
   "id": "9db65669-6db5-4afb-9a65-e0f9a9cbf3d2",
   "metadata": {},
   "outputs": [],
   "source": [
    "from pyphocorehelpers.print_helpers import print_keys_if_possible, print_value_overview_only\n",
    "\n",
    "print_keys_if_possible('curr_window.ui.menus.global_window_menus', curr_window.ui.menus.global_window_menus, depth=1)\n",
    "# print_value_overview_only('curr_window.ui.menus', curr_window.ui.menus.global_window_menus)"
   ]
  },
  {
   "cell_type": "code",
   "execution_count": null,
   "id": "9cf1a800-ed93-4728-b3dd-d6caeb505489",
   "metadata": {},
   "outputs": [],
   "source": [
    "from pyphocorehelpers.gui.PhoUIContainer import PhoUIContainer\n",
    "from pyphoplacecellanalysis.GUI.Qt.Mixins.PhoMenuHelper import PhoMenuHelper\n",
    "from pyphoplacecellanalysis.GUI.Qt.GlobalApplicationMenus.LocalMenus_AddRenderable import LocalMenus_AddRenderable\n",
    "from pyphoplacecellanalysis.GUI.Qt.Mixins.Menus.CreateLinkedWidget_MenuProvider import CreateLinkedWidget_MenuProvider\n",
    "\n",
    "from pyphoplacecellanalysis.Pho2D.PyQtPlots.TimeSynchronizedPlotters.Mixins.helpers import build_combined_time_synchronized_plotters_window\n",
    "\n",
    "active_pf_2D_dt.reset()\n",
    "active_pf_2D_dt.update(t=45.0, start_relative_t=True)\n",
    "all_plotters, root_dockAreaWindow, app = build_combined_time_synchronized_plotters_window(active_pf_2D_dt, controlling_widget=spike_raster_window.spike_raster_plt_2d, create_new_controlling_widget=False) # window_scrolled\n",
    "controlling_widget, curr_sync_occupancy_plotter, curr_placefields_plotter = all_plotters"
   ]
  },
  {
   "cell_type": "code",
   "execution_count": null,
   "id": "87638b33-75d4-4652-a55f-298f60ac6e89",
   "metadata": {},
   "outputs": [],
   "source": [
    "# spike_raster_window.connect_controlled_time_synchronized_plotter(controlled_plt="
   ]
  },
  {
   "cell_type": "code",
   "execution_count": null,
   "id": "d54c006b-5e66-48f0-b0a0-8d8d338d31e1",
   "metadata": {},
   "outputs": [],
   "source": [
    "spike_raster_window.create_new_connected_widget"
   ]
  },
  {
   "cell_type": "code",
   "execution_count": null,
   "id": "00cc3376-733b-4d76-8c0a-2afff5162812",
   "metadata": {},
   "outputs": [],
   "source": [
    "spike_raster_window.main_menu_window # PhoBaseMainWindow \n",
    "spike_raster_window.main_menu_window.menuBar() # QMenuBar \n",
    "spike_raster_window.main_menu_window.menuWidget() # QMenuBar\n"
   ]
  },
  {
   "cell_type": "code",
   "execution_count": null,
   "id": "a6fe88fd-6d8d-420b-82a2-6044553dbeb6",
   "metadata": {},
   "outputs": [],
   "source": [
    "curr_menubar.addMenu(widget_2d_menu)"
   ]
  },
  {
   "cell_type": "code",
   "execution_count": null,
   "id": "3ebbe614-17a9-4148-9d28-5925e0775eb3",
   "metadata": {},
   "outputs": [],
   "source": [
    "_createLinkedWidget_menu_provider = CreateLinkedWidget_MenuProvider(render_widget=spike_raster_window)\n",
    "_createLinkedWidget_menu_provider.CreateLinkedWidget_MenuProvider_on_init()\n",
    "_createLinkedWidget_menu_provider.CreateLinkedWidget_MenuProvider_on_buildUI()"
   ]
  },
  {
   "cell_type": "code",
   "execution_count": null,
   "id": "b29c7287-b8dc-4d00-999f-bffa11096bde",
   "metadata": {},
   "outputs": [],
   "source": [
    "\n",
    "# curr_menubar\n",
    "# curr_actions_dict = spike_raster_window.CreateLinkedWidget_MenuProvider_actionsDict"
   ]
  },
  {
   "cell_type": "code",
   "execution_count": null,
   "id": "efb9c96f-abde-42fb-85c4-85ee77d69b44",
   "metadata": {},
   "outputs": [],
   "source": [
    "# curr_window = spike_raster_window.root_window\n",
    "# curr_menubar = spike_raster_window.root_menu_bar\n",
    "# curr_actions_dict = spike_raster_window.CreateLinkedWidget_MenuProvider_actionsDict"
   ]
  },
  {
   "cell_type": "markdown",
   "id": "eb18a15d-dd8c-4973-8316-7e9e2a622e11",
   "metadata": {
    "jp-MarkdownHeadingCollapsed": true,
    "pycharm": {
     "is_executing": false,
     "name": "#%%\n"
    },
    "tags": []
   },
   "source": [
    "## Updated Color Config Handling"
   ]
  },
  {
   "cell_type": "code",
   "execution_count": null,
   "id": "bda8eb46-1aca-4646-9190-50cffa7552b5",
   "metadata": {
    "pycharm": {
     "is_executing": false,
     "name": "#%%\n"
    }
   },
   "outputs": [],
   "source": [
    "ipcDataExplorer.active_neuron_render_configs"
   ]
  },
  {
   "cell_type": "code",
   "execution_count": null,
   "id": "b2aa52bc-eaa3-4c3b-bddd-2602b120ad63",
   "metadata": {
    "pycharm": {
     "is_executing": false,
     "name": "#%%\n"
    }
   },
   "outputs": [],
   "source": [
    "# [SingleNeuronPlottingExtended(color='#843c39', extended_values_dictionary={}, isVisible=False, name='2', spikesVisible=False),\n",
    "#  SingleNeuronPlottingExtended(color='#9d514e', extended_values_dictionary={}, isVisible=False, name='3', spikesVisible=False),\n",
    "#  ...\n",
    "# ]"
   ]
  },
  {
   "cell_type": "code",
   "execution_count": null,
   "id": "a56ee0e0-6db3-4b25-8d24-05b7a7190311",
   "metadata": {
    "pycharm": {
     "is_executing": false,
     "name": "#%%\n"
    }
   },
   "outputs": [],
   "source": [
    "test_updated_configs_colors_map[3] = '#333333'"
   ]
  },
  {
   "cell_type": "code",
   "execution_count": null,
   "id": "42b57cec-6199-4917-98b8-3aae10460e07",
   "metadata": {
    "pycharm": {
     "is_executing": false,
     "name": "#%%\n"
    }
   },
   "outputs": [],
   "source": [
    "# Test applying changes to configs:\n",
    "active_configs_map, updated_ids_list, updated_configs_list = _test_apply_updated_colors_map_to_configs(active_configs_map, test_updated_configs_colors_map)\n",
    "# active_configs_map"
   ]
  },
  {
   "cell_type": "code",
   "execution_count": null,
   "id": "bb99d50f-d3dd-43d0-8507-0f5740540b30",
   "metadata": {
    "pycharm": {
     "is_executing": false,
     "name": "#%%\n"
    }
   },
   "outputs": [],
   "source": [
    "## Test applying it to the Qt widgets:\n",
    "# ipcDataExplorer.find_rows_matching_cell_ids\n",
    "\n",
    "ipcDataExplorer.active_neuron_render_configs"
   ]
  },
  {
   "cell_type": "code",
   "execution_count": null,
   "id": "61d060ca-b27f-43e1-bd20-1b560f525f0a",
   "metadata": {
    "pycharm": {
     "is_executing": false,
     "name": "#%%\n"
    }
   },
   "outputs": [],
   "source": [
    "test_updated_configs_colors_map"
   ]
  },
  {
   "cell_type": "code",
   "execution_count": null,
   "id": "56380160-73d7-4a2b-8f34-9ada12680466",
   "metadata": {
    "pycharm": {
     "is_executing": false,
     "name": "#%%\n"
    }
   },
   "outputs": [],
   "source": [
    "# updated_ids_list\n",
    "updated_configs_list"
   ]
  },
  {
   "cell_type": "code",
   "execution_count": null,
   "id": "ccccf2a9-c29c-4a78-ba95-b7c547f65db5",
   "metadata": {
    "pycharm": {
     "is_executing": false,
     "name": "#%%\n"
    }
   },
   "outputs": [],
   "source": [
    "# ipcDataExplorer.update_spikes()\n",
    "# ipcDataExplorer.gui.\n",
    "# placefieldControlsContainerWidget\n",
    "\n",
    "ipcDataExplorer.neuron_id_pf_widgets_map = _build_id_index_configs_dict(pf_widgets)\n",
    "apply_updated_configs_to_pf_widgets(ipcDataExplorer.neuron_id_pf_widgets_map, active_configs_map)\n",
    "\n",
    "\n",
    "# neuron_id_pf_widgets_map\n",
    "\n",
    "# for a_pf_ctrl_widget in pf_widgets:\n",
    "#     print(f'{a_pf_ctrl_widget.name}')\n",
    "#     # int(a_config.name)"
   ]
  },
  {
   "cell_type": "code",
   "execution_count": null,
   "id": "7744eaee-a85c-48ce-8732-a3eba59c2733",
   "metadata": {
    "pycharm": {
     "is_executing": false,
     "name": "#%%\n"
    }
   },
   "outputs": [],
   "source": [
    "test_updated_colors_map = {3: '#999999'}\n",
    "ipcDataExplorer.on_config_update(test_updated_colors_map)"
   ]
  },
  {
   "cell_type": "code",
   "execution_count": null,
   "id": "c4874af9-e994-45b4-8c39-1697b633838d",
   "metadata": {
    "pycharm": {
     "is_executing": false,
     "name": "#%%\n"
    }
   },
   "outputs": [],
   "source": [
    "# Need to rebuild the spikes colors and such upon updating the configs. \n",
    "# should take a config and produce the changes needed to recolor the neurons.\n",
    "ipcDataExplorer.update_spikes_df_color_columns(test_updated_colors_map)\n",
    "ipcDataExplorer.update_rendered_placefields(test_updated_colors_map)"
   ]
  },
  {
   "cell_type": "code",
   "execution_count": null,
   "id": "2f7679d0-1be4-4693-945b-6916bd5a4556",
   "metadata": {
    "pycharm": {
     "is_executing": false,
     "name": "#%%\n"
    }
   },
   "outputs": [],
   "source": [
    "_test_neuron_id = 3\n",
    "pdata_currActiveNeuronTuningCurve_plotActor = ipcDataExplorer.plots['tuningCurvePlotActors'][_test_neuron_id]['main'] # get the main plot actor from the CascadingDynamicPlotsList\n",
    "pdata_currActiveNeuronTuningCurve_Points_plotActor = ipcDataExplorer.plots['tuningCurvePlotActors'][_test_neuron_id]['points']\n",
    "\n",
    "# add_mesh"
   ]
  },
  {
   "cell_type": "code",
   "execution_count": null,
   "id": "ff8972a9-fb3f-44c8-8854-1178c71e8d72",
   "metadata": {
    "pycharm": {
     "is_executing": false,
     "name": "#%%\n"
    }
   },
   "outputs": [],
   "source": [
    "ipcDataExplorer.enable_overwrite_invalid_fragile_linear_neuron_IDXs = True"
   ]
  },
  {
   "cell_type": "code",
   "execution_count": null,
   "id": "e820c498-5865-471b-a7bc-2c4c5c650f89",
   "metadata": {
    "pycharm": {
     "is_executing": false,
     "name": "#%%\n"
    }
   },
   "outputs": [],
   "source": [
    "ipcDataExplorer.helper_setup_neuron_colors_and_order(ipcDataExplorer, debug_print=True)"
   ]
  },
  {
   "cell_type": "code",
   "execution_count": null,
   "id": "462f77cc-7376-4382-8345-149eba514ad8",
   "metadata": {
    "pycharm": {
     "is_executing": false,
     "name": "#%%\n"
    }
   },
   "outputs": [],
   "source": [
    "from vedo.io import exportWindow, write\n",
    "# exportWindow('testOutFilePho.html')\n",
    "# exportWindow('testOutFilePho.x3d')\n",
    "\n",
    "# pActiveTuningCurvesPlotter.save('testPlotterSavePho.obj')\n",
    "# write(pActiveTuningCurvesPlotter,'testPlotterSavePho.obj')\n",
    "# pActiveTuningCurvesPlotter.write_frame('testPlotter_write_frame_Pho')\n",
    "# pActiveTuningCurvesPlotter.export('testPlotterSavePho.x3d')\n",
    "\n",
    "output_path = Path(r'C:\\Users\\pho\\repos\\PhoPy3DPositionAnalysis2021\\output\\2006-6-07_11-26-53\\maze1')\n",
    "final_output_path = output_path.joinpath('testPlotter_export_obj_Pho')\n",
    "\n",
    "\n",
    "## Success, but ugly:\n",
    "pActiveTuningCurvesPlotter.export_vtkjs(final_output_path.with_suffix('.vtkjs'))\n",
    "# pActiveTuningCurvesPlotter.export_gltf(final_output_path.with_suffix('.gltf'))\n",
    "# pActiveTuningCurvesPlotter.export_html(final_output_path.with_suffix('.html')) ## First export that actually works with BackgroundPlotter\n",
    "# pActiveTuningCurvesPlotter.export_obj(final_output_path.with_suffix('.obj')) ## Works for exporting .obj files"
   ]
  },
  {
   "cell_type": "code",
   "execution_count": null,
   "id": "1097b8b4-5fbc-4124-a187-dcee9ccf7090",
   "metadata": {
    "pycharm": {
     "is_executing": false,
     "name": "#%%\n"
    }
   },
   "outputs": [],
   "source": [
    "import pyvista as pv\n",
    "pv.vtk_version_info"
   ]
  },
  {
   "cell_type": "code",
   "execution_count": null,
   "id": "270d1a2c-7f56-495a-bd6e-30e76414bef7",
   "metadata": {
    "pycharm": {
     "is_executing": false,
     "name": "#%%\n"
    }
   },
   "outputs": [],
   "source": [
    "# ipcDataExplorer.p.enable_cell_picking(callback=)\n",
    "ipcDataExplorer.pyqtConfigure()"
   ]
  },
  {
   "cell_type": "code",
   "execution_count": null,
   "id": "7d35fb45-9c61-412f-a522-03c90609f59e",
   "metadata": {
    "pycharm": {
     "is_executing": false,
     "name": "#%%\n"
    }
   },
   "outputs": [],
   "source": [
    "p.enable_point_picking()"
   ]
  },
  {
   "cell_type": "code",
   "execution_count": null,
   "id": "03458494-5342-4fd0-b866-2191409d1dac",
   "metadata": {
    "pycharm": {
     "is_executing": false,
     "name": "#%%\n"
    }
   },
   "outputs": [],
   "source": [
    "ipcDataExplorer.active_config # pf_neuron_identities, pf_colors, pf_sort_ind\n",
    "\n",
    "# ipcDataExplorer.active_config.keys()\n",
    "np.shape(ipcDataExplorer.active_config.plotting_config['pf_colormap']) # (39, 4)\n",
    "\n",
    "# print_keys_if_possible('plotting_config', ipcDataExplorer.active_config.plotting_config)\n",
    "\n",
    "print_keys_if_possible('ipcDataExplorer', ipcDataExplorer)\n",
    "\n",
    "# - plotting_config: <class 'pyphoplacecellanalysis.General.Configs.DynamicConfigs.PlottingConfig'>\n",
    "    # - pf_neuron_identities: <class 'list'> - (39,)\n",
    "    # - pf_sort_ind: <class 'numpy.ndarray'> - (39,)\n",
    "    # - pf_colors: <class 'numpy.ndarray'> - (4, 39)\n",
    "    # - pf_colormap: <class 'numpy.ndarray'> - (39, 4)"
   ]
  },
  {
   "cell_type": "code",
   "execution_count": null,
   "id": "d4ec2318-647c-4f2a-8d93-8bf622273d41",
   "metadata": {
    "pycharm": {
     "is_executing": false,
     "name": "#%%\n"
    }
   },
   "outputs": [],
   "source": [
    "len(ipcDataExplorer.params.neuron_colors_hex) # 39"
   ]
  },
  {
   "cell_type": "code",
   "execution_count": null,
   "id": "e191dfb3-7e9b-42d3-9505-5adfabf920e7",
   "metadata": {
    "pycharm": {
     "is_executing": false,
     "name": "#%%\n"
    }
   },
   "outputs": [],
   "source": [
    "# np.shape(ipcDataExplorer.params.neuron_colors) # (4, 39)\n",
    "# len(ipcDataExplorer.params.reverse_cellID_to_tuning_curve_idx_lookup_map) # 39\n",
    "\n",
    "# for neuron_id, tuning_curve_idx in ipcDataExplorer.params.reverse_cellID_to_tuning_curve_idx_lookup_map.items():\n",
    "#     curr_color = ipcDataExplorer.params.neuron_colors[:, tuning_curve_idx]\n",
    "    \n",
    "\n",
    "\n",
    "final_perfect_colormap = {int(neuron_id):ipcDataExplorer.params.neuron_colors_hex[tuning_curve_idx] for neuron_id, tuning_curve_idx in ipcDataExplorer.params.reverse_cellID_to_tuning_curve_idx_lookup_map.items()}\n",
    "# final_perfect_colormap = {int(neuron_id):list(np.squeeze(ipcDataExplorer.params.neuron_colors[:, tuning_curve_idx])) for neuron_id, tuning_curve_idx in ipcDataExplorer.params.reverse_cellID_to_tuning_curve_idx_lookup_map.items()}\n",
    "# final_perfect_colormap = {int(neuron_id):QtGui.QColor(*np.squeeze(ipcDataExplorer.params.neuron_colors[:, tuning_curve_idx])) for neuron_id, tuning_curve_idx in ipcDataExplorer.params.reverse_cellID_to_tuning_curve_idx_lookup_map.items()}\n",
    "final_perfect_colormap"
   ]
  },
  {
   "cell_type": "code",
   "execution_count": null,
   "id": "7f30b8c2-9baf-45e5-b3b7-f3dd8d884dfe",
   "metadata": {
    "pycharm": {
     "is_executing": false,
     "name": "#%%\n"
    }
   },
   "outputs": [],
   "source": [
    "len(final_perfect_colormap) # 39"
   ]
  },
  {
   "cell_type": "code",
   "execution_count": null,
   "id": "dda1cd93-54cc-4868-a04b-af2e2b56eab8",
   "metadata": {
    "pycharm": {
     "is_executing": false,
     "name": "#%%\n"
    }
   },
   "outputs": [],
   "source": [
    "ipcDataExplorer.on_config_update(updated_colors_map=final_perfect_colormap)"
   ]
  },
  {
   "cell_type": "code",
   "execution_count": null,
   "id": "7e33c762-3348-4b7d-ab39-80ec465458c2",
   "metadata": {
    "pycharm": {
     "is_executing": false,
     "name": "#%%\n"
    }
   },
   "outputs": [],
   "source": [
    "partial_perfect_colormap = {24: [0.9098039215686274, 0.8075259642318465, 0.6095686274509803, 1.0],\n",
    " 25: [1.0, 0.9148351648351648, 0.75, 1.0],\n",
    " 26: [0.388235294117647, 0.4745098039215686, 0.22352941176470587, 1.0],\n",
    " 27: [0.48533923796791445, 0.5796078431372549, 0.3053719008264463, 1.0]}\n",
    "ipcDataExplorer.on_update_spikes_colors(neuron_id_color_update_dict=partial_perfect_colormap)"
   ]
  },
  {
   "cell_type": "code",
   "execution_count": null,
   "id": "643a492d-982d-433b-8063-2ab1dff1705a",
   "metadata": {
    "pycharm": {
     "is_executing": false,
     "name": "#%%\n"
    }
   },
   "outputs": [],
   "source": [
    "QtGui.QColor(*(0.5176470588235295, 0.23529411764705882, 0.22352941176470587, 1.0))"
   ]
  },
  {
   "cell_type": "code",
   "execution_count": null,
   "id": "07042754-37ac-4dd3-9507-742df5537e24",
   "metadata": {
    "pycharm": {
     "is_executing": false,
     "name": "#%%\n"
    }
   },
   "outputs": [],
   "source": [
    "# don't use this one!\n",
    "len(ipcDataExplorer.params.reverse_cellID_idx_lookup_map) # 40"
   ]
  },
  {
   "cell_type": "code",
   "execution_count": null,
   "id": "83ba315a-744f-4700-b9fc-9f49717c9e8f",
   "metadata": {
    "pycharm": {
     "is_executing": false,
     "name": "#%%\n"
    }
   },
   "outputs": [],
   "source": [
    "ipcDataExplorer.active_neuron_render_configs # confirmed same configs as active_tuning_curve_render_configs"
   ]
  },
  {
   "cell_type": "code",
   "execution_count": null,
   "id": "6059bd2a-85d4-405d-8314-6f450238d56b",
   "metadata": {
    "pycharm": {
     "is_executing": false,
     "name": "#%%\n"
    }
   },
   "outputs": [],
   "source": [
    "# ipcDataExplorer.setup_spike_rendering_mixin()\n",
    "\n",
    "ipcDataExplorer.spikes_df # first many entries all look like R G B columns are 0.0 even if rgb_hex isn't and is different!\n",
    "\n",
    "# np.count_nonzero(ipcDataExplorer.spikes_df.R.to_numpy()) # 5989\n",
    "ipcDataExplorer.spikes_df.columns\n",
    "\n",
    "ipcDataExplorer.spikes_df[['aclu', 'fragile_linear_neuron_IDX', 'neuron_IDX']] ## BREAKTHROUGH: 'fragile_linear_neuron_IDX' and 'neuron_IDX' are definitely not equal (but I think they should be)"
   ]
  },
  {
   "cell_type": "code",
   "execution_count": null,
   "id": "9a23d626-59d6-4e01-befb-e75e4cd234c1",
   "metadata": {
    "pycharm": {
     "is_executing": false,
     "name": "#%%\n"
    }
   },
   "outputs": [],
   "source": [
    "np.unique(ipcDataExplorer.spikes_df['fragile_linear_neuron_IDX'])\n",
    "## MAJOR CONCERN: 'fragile_linear_neuron_IDX' values make no sense at all. They aren't even equal to 'aclu'\n",
    "# array([ 0,  1,  2,  3,  5,  6,  7,  8,  9, 10, 12, 15, 16, 19, 20, 21, 22, 23, 24, 25, 26, 27, 31, 32, 36, 37, 40, 42, 43, 44, 45, 46, 51, 53, 55, 56, 59, 60, 61, 62])"
   ]
  },
  {
   "cell_type": "code",
   "execution_count": null,
   "id": "398a9428-b946-45da-9fac-8ef991f940b4",
   "metadata": {
    "pycharm": {
     "is_executing": false,
     "name": "#%%\n"
    }
   },
   "outputs": [],
   "source": [
    "np.unique(ipcDataExplorer.spikes_df['neuron_IDX'])"
   ]
  },
  {
   "cell_type": "code",
   "execution_count": null,
   "id": "893cde2a-0c9f-49f0-898f-a5582c39c3ac",
   "metadata": {
    "pycharm": {
     "is_executing": false,
     "name": "#%%\n"
    }
   },
   "outputs": [],
   "source": [
    "ipcDataExplorer.spikes_df['old_fragile_linear_neuron_IDX']"
   ]
  },
  {
   "cell_type": "code",
   "execution_count": null,
   "id": "f9bd9fd7-ffe6-41a9-b716-db326360f00b",
   "metadata": {
    "pycharm": {
     "is_executing": false,
     "name": "#%%\n"
    }
   },
   "outputs": [],
   "source": [
    "ipcDataExplorer.spikes_df[['aclu', 'fragile_linear_neuron_IDX', 'neuron_IDX', 'old_fragile_linear_neuron_IDX']] ## GOOD: after rebuilding the 'fragile_linear_neuron_IDX' and 'neuron_IDX' columns now match as expected."
   ]
  },
  {
   "cell_type": "code",
   "execution_count": null,
   "id": "fa2dc6a4-97f6-4dc1-86b7-477ab0f7ec1d",
   "metadata": {
    "pycharm": {
     "is_executing": false,
     "name": "#%%\n"
    }
   },
   "outputs": [],
   "source": [
    "ipcDataExplorer.neuron_ids"
   ]
  },
  {
   "cell_type": "code",
   "execution_count": null,
   "id": "5d819b67-053a-4fe1-89e1-26a183be6e9f",
   "metadata": {
    "pycharm": {
     "is_executing": false,
     "name": "#%%\n"
    }
   },
   "outputs": [],
   "source": [
    "# ipcDataExplorer.update_active_spikes(\n",
    "ipcDataExplorer.update_spikes()"
   ]
  },
  {
   "cell_type": "code",
   "execution_count": null,
   "id": "ea8ef463-a283-4d0b-a9bd-8a57823c22ec",
   "metadata": {
    "pycharm": {
     "is_executing": false,
     "name": "#%%\n"
    }
   },
   "outputs": [],
   "source": [
    "## Rebuild the IDXs\n",
    "ipcDataExplorer.spikes_df.spikes._obj, neuron_id_to_new_IDX_map_new_method = ipcDataExplorer.spikes_df.spikes.rebuild_fragile_linear_neuron_IDXs(debug_print=True)\n",
    "new_neuron_IDXs = list(neuron_id_to_new_IDX_map_new_method.values())"
   ]
  },
  {
   "cell_type": "code",
   "execution_count": null,
   "id": "c515da07-d574-4d9c-8b77-1bdbbc80a2c9",
   "metadata": {
    "pycharm": {
     "is_executing": false,
     "name": "#%%\n"
    }
   },
   "outputs": [],
   "source": [
    "ipcDataExplorer.params.cell_spike_opaque_colors_dict # this is what spikes_df's 'R', 'G', 'B' columns set from.\n",
    "# keys are neuron_IDX format"
   ]
  },
  {
   "cell_type": "code",
   "execution_count": null,
   "id": "e925ff62-a230-4907-92a7-1f43b0cca1fb",
   "metadata": {
    "pycharm": {
     "is_executing": false,
     "name": "#%%\n"
    }
   },
   "outputs": [],
   "source": [
    "# Disable the bar on the docks:\n",
    "dDisplayItem1 = root_dockAreaWindow.dynamic_display_dict['Dock1 - Controls']['Dock1 - Controls']['dock']\n",
    "dDisplayItem2 = root_dockAreaWindow.dynamic_display_dict['Dock2 - Content']['Dock2 - Content']['dock']\n",
    "\n",
    "dDisplayItem1.hideTitleBar()\n",
    "dDisplayItem2.hideTitleBar()"
   ]
  },
  {
   "cell_type": "code",
   "execution_count": null,
   "id": "f1eef3b5-5827-4deb-b165-6df85bce61e4",
   "metadata": {
    "pycharm": {
     "is_executing": false,
     "name": "#%%\n"
    }
   },
   "outputs": [],
   "source": [
    "ipcDataExplorer.params.end_button_helper_obj.btn_show_all_callback(True)"
   ]
  },
  {
   "cell_type": "code",
   "execution_count": null,
   "id": "f48ba047-fc62-4846-ad1c-69649990098d",
   "metadata": {
    "pycharm": {
     "is_executing": false,
     "name": "#%%\n"
    }
   },
   "outputs": [],
   "source": [
    "# ipcDataExplorer.update_tuning_curve_configs()\n",
    "ipcDataExplorer.update_neuron_render_configs()"
   ]
  },
  {
   "cell_type": "code",
   "execution_count": null,
   "id": "d1c59dcb-0bcf-4212-8c7b-dce729909565",
   "metadata": {
    "pycharm": {
     "is_executing": false,
     "name": "#%%\n"
    },
    "scrolled": true
   },
   "outputs": [],
   "source": [
    "# ipcDataExplorer.params.cell_spike_colors_dict\n",
    "# ipcDataExplorer.active_neuron_render_configs\n",
    "\n",
    "active_placefields = ipcDataExplorer.params.active_epoch_placefields\n",
    "# ipcDataExplorer.params.pf_color\n",
    "pf_colors = ipcDataExplorer.params.pf_colors\n",
    "if np.shape(pf_colors)[1] > 3:\n",
    "    opaque_pf_colors = pf_colors[0:3,:].copy() # get only the RGB values, discarding any potnential alpha information\n",
    "else:\n",
    "    opaque_pf_colors = pf_colors.copy()\n",
    "\n",
    "occupancy = active_placefields.ratemap.occupancy.copy()\n",
    "# curr_tuning_curves = active_placefields.ratemap.tuning_curves.copy() # (39, 59, 21)\n",
    "curr_tuning_curves = active_placefields.ratemap.normalized_tuning_curves.copy() # (39, 59, 21)\n",
    "good_placefield_neuronIDs = ipcDataExplorer.params.pf_unit_ids\n",
    "# np.shape(curr_tuning_curves) # (39, 59, 21)\n",
    "# np.isnan(curr_tuning_curves)\n",
    "# np.count_nonzero(np.isnan(curr_tuning_curves))\n",
    "\n",
    "\n",
    "# Never Visited Mask\n",
    "# occupancy"
   ]
  },
  {
   "cell_type": "code",
   "execution_count": null,
   "id": "35581810-d1b5-4098-9d63-c110ace2cda7",
   "metadata": {
    "pycharm": {
     "is_executing": false,
     "name": "#%%\n"
    },
    "scrolled": true
   },
   "outputs": [],
   "source": [
    "# never_visited_occupancy_mask\n",
    "i = 0\n",
    "curr_active_neuron_ID = good_placefield_neuronIDs[i]\n",
    "curr_active_neuron_color = pf_colors[:, i]\n",
    "curr_active_neuron_opaque_color = opaque_pf_colors[:,i]\n",
    "curr_active_neuron_pf_identifier = 'pf[{}]'.format(curr_active_neuron_ID)\n",
    "curr_active_neuron_tuning_Curve = np.squeeze(curr_tuning_curves[i,:,:]).T.copy() # A single tuning curve, (21, 59)\n",
    "# curr_active_neuron_tuning_Curve"
   ]
  },
  {
   "cell_type": "code",
   "execution_count": null,
   "id": "391ba34c-757b-4270-b7b4-6d15bcc605a9",
   "metadata": {
    "pycharm": {
     "is_executing": false,
     "name": "#%%\n"
    }
   },
   "outputs": [],
   "source": [
    "curr_active_plot_actor = ipcDataExplorer.plots['tuningCurvePlotActors'][i]\n",
    "curr_active_plot_data = ipcDataExplorer.plots_data['tuningCurvePlotData'][i]\n",
    "curr_active_plot_data\n",
    "pdata_currActiveNeuronTuningCurve = curr_active_plot_data['pdata_currActiveNeuronTuningCurve'] # StructuredGrid\n",
    "\n",
    "# Test Extracting Points:\n",
    "curr_mesh_extracted_pts = pdata_currActiveNeuronTuningCurve.extract_points(pdata_currActiveNeuronTuningCurve.points[:, 2] > 0)\n",
    "type(curr_mesh_extracted_pts) # UnstructuredGrid"
   ]
  },
  {
   "cell_type": "code",
   "execution_count": null,
   "id": "3ceec384-e5bb-4140-99a0-c5066b0ef05e",
   "metadata": {
    "pycharm": {
     "is_executing": false,
     "name": "#%%\n"
    },
    "scrolled": true
   },
   "outputs": [],
   "source": [
    "# Add labels to points on the yz plane (where x == 0)\n",
    "points = pdata_currActiveNeuronTuningCurve.points\n",
    "# mask = points[:, 0] == 0\n",
    "mask = points[:, 2] > 0.1\n",
    "pActiveTuningCurvesPlotter.add_point_labels(points[mask], points[mask].tolist(), point_size=20, font_size=36)"
   ]
  },
  {
   "cell_type": "code",
   "execution_count": null,
   "id": "ac2979d7-5d5d-4984-bdbe-a6f7006b03a8",
   "metadata": {
    "pycharm": {
     "is_executing": false,
     "name": "#%%\n"
    },
    "scrolled": true
   },
   "outputs": [],
   "source": [
    "np.shape(never_visited_occupancy_mask) # (59, 21)\n",
    "np.sum(curr_active_neuron_tuning_Curve[~never_visited_occupancy_mask.T]) # (735,), 7.9040396441924194\n",
    "curr_active_neuron_tuning_Curve[~never_visited_occupancy_mask.T] = np.nan # set non-visited locations to NaN\n",
    "# NOTE: the sum of all visited locations is 36.44356525201446 and those non-visited locations is 7.9040396441924194\n",
    "curr_active_neuron_tuning_Curve"
   ]
  },
  {
   "cell_type": "code",
   "execution_count": null,
   "id": "6ee82014-0295-4c1a-94d7-7986b1cf8d02",
   "metadata": {
    "pycharm": {
     "is_executing": false,
     "name": "#%%\n"
    },
    "scrolled": true
   },
   "outputs": [],
   "source": [
    "curr_active_pipeline.active_configs[active_config_name].keys()"
   ]
  },
  {
   "cell_type": "code",
   "execution_count": null,
   "id": "5d16525f-8079-4241-87a5-940a4b0bca90",
   "metadata": {
    "pycharm": {
     "is_executing": false,
     "name": "#%%\n"
    },
    "scrolled": true
   },
   "outputs": [],
   "source": [
    "\n",
    "updated_video_output_config = curr_active_pipeline.active_configs[active_config_name]['video_output_config']\n",
    "updated_video_output_config.active_frame_range = np.arange(100, 480, 1)\n",
    "updated_video_output_config"
   ]
  },
  {
   "cell_type": "code",
   "execution_count": null,
   "id": "46f6fda6-b3c2-44e1-871a-72b136edd617",
   "metadata": {
    "pycharm": {
     "is_executing": false,
     "name": "#%%\n"
    },
    "scrolled": true
   },
   "outputs": [],
   "source": [
    "# Enable video output by setting: active_is_video_output_mode\n",
    "updated_video_output_config.active_is_video_output_mode = True\n"
   ]
  },
  {
   "cell_type": "code",
   "execution_count": null,
   "id": "42e9d25a-98b4-4769-bc7d-7e4b1f1868e3",
   "metadata": {
    "pycharm": {
     "is_executing": false,
     "name": "#%%\n"
    },
    "scrolled": true
   },
   "outputs": [],
   "source": [
    "import pyvista as pv\n",
    "from pyvista import examples\n",
    "# Download skybox\n",
    "cubemap = examples.download_sky_box_cube_map()\n",
    "ipspikesDataExplorer.p.add_actor(cubemap.to_skybox())\n",
    "ipspikesDataExplorer.p.set_environment_texture(cubemap)  # For reflecting the environment off the mesh"
   ]
  },
  {
   "cell_type": "code",
   "execution_count": null,
   "id": "6cd25037-40c1-4192-9a5b-5f6c4ec2850d",
   "metadata": {
    "pycharm": {
     "is_executing": false,
     "name": "#%%\n"
    },
    "scrolled": true
   },
   "outputs": [],
   "source": [
    "ipspikesDataExplorer.p.enable_shadows()"
   ]
  },
  {
   "cell_type": "code",
   "execution_count": null,
   "id": "843dbbfb-ff6e-42cd-9d10-936cba53adc4",
   "metadata": {
    "pycharm": {
     "is_executing": false,
     "name": "#%%\n"
    },
    "scrolled": true
   },
   "outputs": [],
   "source": [
    "ipspikesDataExplorer.p.render()"
   ]
  },
  {
   "cell_type": "code",
   "execution_count": null,
   "id": "ab74897c-df19-4af9-9e98-a73cbeebd56e",
   "metadata": {
    "pycharm": {
     "is_executing": false,
     "name": "#%%\n"
    },
    "scrolled": true
   },
   "outputs": [],
   "source": [
    "# recent_spikes_mesh.\n",
    "ipspikesDataExplorer.params.longer_spikes_window.duration_seconds = 10.0"
   ]
  },
  {
   "cell_type": "code",
   "execution_count": null,
   "id": "622347fd-9722-4017-a75e-4f1b2aa9afe1",
   "metadata": {
    "pycharm": {
     "is_executing": false,
     "name": "#%%\n"
    },
    "scrolled": true
   },
   "outputs": [],
   "source": [
    "ipspikesDataExplorer.p.enable_depth_peeling(number_of_peels=6, occlusion_ratio=0) # Supposedly helps with translucency"
   ]
  },
  {
   "cell_type": "code",
   "execution_count": null,
   "id": "fbf101d4-2ae4-44f1-81ea-be10a78c0086",
   "metadata": {
    "pycharm": {
     "is_executing": false,
     "name": "#%%\n"
    },
    "scrolled": true
   },
   "outputs": [],
   "source": [
    "# spike_raster_window.spikes_window.on_window_changed()\n",
    "# spike_raster_window.spikes_window.update_window_start(500.0) # doesn't update anything\n",
    "# spike_raster_window.spike_raster_plt_2d.spikes_window.update_window_start(500.0) # doesn't update anything\n",
    "spike_raster_window.spike_raster_plt_2d.update_scroll_window_region(500.0, 700.0, block_signals=False)"
   ]
  },
  {
   "cell_type": "code",
   "execution_count": null,
   "id": "528139f7-d4ee-4a56-b20c-a957b322abdc",
   "metadata": {
    "pycharm": {
     "is_executing": false,
     "name": "#%%\n"
    },
    "scrolled": true
   },
   "outputs": [],
   "source": [
    "# spike_raster_window.spike_3d_to_2d_window_connection.disconnect(spike_raster_window.spike_raster_plt_3d.spikes_window.update_window_start_end)\n",
    "spike_raster_window.spike_raster_plt_2d.window_scrolled.disconnect(spike_raster_window.spike_raster_plt_3d.spikes_window.update_window_start_end)"
   ]
  },
  {
   "cell_type": "code",
   "execution_count": null,
   "id": "7a43771d-61c9-4485-a985-01e4dc662fc6",
   "metadata": {
    "pycharm": {
     "is_executing": false,
     "name": "#%%\n"
    },
    "scrolled": true
   },
   "outputs": [],
   "source": [
    "spike_raster_window.spike_raster_plt_2d.window_scrolled.disconnect()"
   ]
  },
  {
   "cell_type": "code",
   "execution_count": null,
   "id": "1e0693e0-a8a6-4d37-9ad1-3a34c225b02e",
   "metadata": {
    "pycharm": {
     "is_executing": false,
     "name": "#%%\n"
    },
    "scrolled": true
   },
   "outputs": [],
   "source": [
    "spike_raster_window.spike_raster_plt_2d.ui.scroll_window_region.sigRegionChanged.disconnect()"
   ]
  },
  {
   "cell_type": "code",
   "execution_count": null,
   "id": "73a8efe2-c97a-47ee-8241-e9ac1cbfab4d",
   "metadata": {
    "pycharm": {
     "is_executing": false,
     "name": "#%%\n"
    },
    "scrolled": true
   },
   "outputs": [],
   "source": [
    "## Need to the spike indicies that are currently visible in the raster window to programmatically update ipspikesDataExplorer's displayed spikes.\n",
    "# active_epoch_session.flattened_spiketrains.time_slice(curr_lap_spike_t_seconds.values[0], curr_lap_spike_t_seconds.values[-1]).spikes_df\n",
    "# spike_raster_window.spike_raster_plt_2d.spikes_window\n",
    "# curr_win_start, curr_win_end = spike_raster_window.spike_raster_plt_3d.spikes_window.active_time_window\n",
    "# spike_raster_window.spike_raster_plt_3d.spikes_window.active_windowed_df\n",
    "\n",
    "# spike_raster_window.spike_raster_plt_3d.spikes_window.active_windowed_df.index\n",
    "# ipspikesDataExplorer.params.curr_view_window_length_samples # 299\n",
    "# np.shape(ipspikesDataExplorer.params.pre_computed_window_sample_indicies) # (51157, 299)\n",
    "\n",
    "# np.shape(ipspikesDataExplorer.params.active_trail_opacity_values) # (299,)\n",
    "## Hopefully ipspikesDataExplorer's slider will adjust automatically?"
   ]
  },
  {
   "cell_type": "code",
   "execution_count": null,
   "id": "44f54da9-25c1-49dc-b692-fd5f602beecd",
   "metadata": {
    "pycharm": {
     "is_executing": false,
     "name": "#%%\n"
    },
    "scrolled": true
   },
   "outputs": [],
   "source": [
    "## Test disabling the user-slider:\n",
    "# ipspikesDataExplorer.interface_properties\n",
    "# interactive_timestamp_slider_actor\n",
    "# add_slider_widget\n",
    "\n",
    "## When building widgets:\n",
    "# self.p.add_callback(self.interface_properties, interval=16)  # to be smooth on 60Hz\n",
    "\n",
    "# Removes all slider widgets:\n",
    "# ipspikesDataExplorer.p.clear_slider_widgets()\n",
    "# ipspikesDataExplorer.p.clear_button_widgets() # removes the play/pause toggle checkbox so that it can be driven externally\n",
    "# ipspikesDataExplorer.p.update()\n",
    "# ipspikesDataExplorer.p.render()\n",
    "\n",
    "# ipspikesDataExplorer.p.button_widgets\n",
    "# ipspikesDataExplorer.p.receivers()\n",
    "\n",
    "# For the callback, it looks like I can check the timer here:\n",
    "callback_timer = ipspikesDataExplorer.p._callback_timer  # QTimer\n",
    "callback_timer.isActive()\n",
    "# callback_timer.isSignalConnected()\n",
    "# callback_timer.stop()\n",
    "\n",
    "ipspikesDataExplorer"
   ]
  },
  {
   "cell_type": "code",
   "execution_count": null,
   "id": "b13c74b9-65e1-40a6-81c0-f1cda66a324f",
   "metadata": {
    "pycharm": {
     "is_executing": false,
     "name": "#%%\n"
    },
    "scrolled": true
   },
   "outputs": [],
   "source": [
    "spike_raster_window.animation_active_time_window.window_duration"
   ]
  },
  {
   "cell_type": "code",
   "execution_count": null,
   "id": "6e9568e1-ae37-44f4-8326-c88362601889",
   "metadata": {
    "pycharm": {
     "is_executing": false,
     "name": "#%%\n"
    },
    "scrolled": true
   },
   "outputs": [],
   "source": [
    "# Get the times that fall within the current plot window:\n",
    "curr_win_start, curr_win_end = spike_raster_window.spike_raster_plt_3d.spikes_window.active_time_window\n",
    "# np.shape(ipspikesDataExplorer.t) # (51455,)\n",
    "\n",
    "# active_window_sample_indicies\n",
    "active_included_all_window_position_indicies = ((ipspikesDataExplorer.t > curr_win_start) & (ipspikesDataExplorer.t < curr_win_end)) # Two Sided Range Mode\n",
    "# active_included_all_window_position_indicies\n",
    "print(f'np.shape(active_included_all_window_position_indicies): {np.shape(active_included_all_window_position_indicies)}') # (51455,)\n",
    "\n",
    "# active_included_all_window_position_indicies = np.where(active_included_all_window_position_indicies) # was a boolean area, but get the indices where true instead\n",
    "active_included_all_window_position_indicies = np.squeeze(active_included_all_window_position_indicies.nonzero()) # was a boolean area, but get the indices where true instead.  (1106,)\n",
    "print(f'np.shape(active_included_all_window_position_indicies): {np.shape(active_included_all_window_position_indicies)}; active_included_all_window_position_indicies: {active_included_all_window_position_indicies}')\n",
    "\n",
    "active_num_samples = len(active_included_all_window_position_indicies)\n",
    "\n",
    "## TODO: I think active_included_all_window_position_indicies better be the same length as .params.active_trail_opacity_values and .params.active_trail_size_values\n",
    "# ipspikesDataExplorer.params.curr_view_window_length_samples\n",
    "\n",
    "max_num_samples = ipspikesDataExplorer.params.curr_view_window_length_samples # 299\n",
    "if active_num_samples > max_num_samples:\n",
    "    print(f'len(active_included_all_window_position_indicies) ({active_num_samples}) > max_num_samples ({max_num_samples}). Cutting.')\n",
    "    active_included_all_window_position_indicies = active_included_all_window_position_indicies[-max_num_samples:] # get only the last (meaning most recent) max_num_samples samples from the indicies that should be displayed\n",
    "    active_num_samples = max_num_samples # cut down to the max number of samples\n",
    "    \n",
    "print(f'np.shape(active_included_all_window_position_indicies): {np.shape(active_included_all_window_position_indicies)}, active_num_samples: {active_num_samples}') # np.shape(active_included_all_window_position_indicies): (1, 1106), active_num_samples: 1    \n",
    "\n",
    "# print(f'np.shape(active_included_all_window_position_indicies): {np.shape(active_included_all_window_position_indicies)}, active_num_samples: {active_num_samples}')    \n",
    "# ipspikesDataExplorer.x[active_included_all_window_position_indicies], ipspikesDataExplorer.y[active_included_all_window_position_indicies], ipspikesDataExplorer.z_fixed[-active_num_samples:]\n",
    "\n",
    "## Animal Position and Location Trail Plotting:\n",
    "ipspikesDataExplorer.perform_plot_location_trail('animal_location_trail', ipspikesDataExplorer.x[active_included_all_window_position_indicies], ipspikesDataExplorer.y[active_included_all_window_position_indicies], ipspikesDataExplorer.z_fixed[-active_num_samples:],\n",
    "                                     trail_fade_values=ipspikesDataExplorer.params.active_trail_opacity_values, trail_point_size_values=ipspikesDataExplorer.params.active_trail_size_values,\n",
    "                                     render=False)\n",
    "\n",
    "## Animal Current Position:\n",
    "curr_animal_point = [ipspikesDataExplorer.x[active_included_all_window_position_indicies[-1]], ipspikesDataExplorer.y[active_included_all_window_position_indicies[-1]], ipspikesDataExplorer.z_fixed[-1]]\n",
    "ipspikesDataExplorer.perform_plot_location_point('animal_current_location_point', curr_animal_point, render=False)\n",
    "\n",
    "\n",
    "\n",
    "# curr_time_fixedSegments = ipspikesDataExplorer.t[active_window_sample_indicies] # New Way"
   ]
  },
  {
   "cell_type": "code",
   "execution_count": null,
   "id": "c88ef53b-5282-4c49-80bc-83ca9ae6ab8b",
   "metadata": {
    "pycharm": {
     "is_executing": false,
     "name": "#%%\n"
    },
    "scrolled": true
   },
   "outputs": [],
   "source": [
    "curr_win_start, curr_win_end = spike_raster_window.spike_raster_plt_3d.spikes_window.active_time_window\n",
    "ipspikesDataExplorer.on_active_window_update_mesh(curr_win_start, curr_win_end, enable_position_mesh_updates=True, render=True)\n",
    "\n",
    "# ipspikesDataExplorer.on_programmatic_data_update(self, active_included_all_historical_indicies=None, active_included_recent_only_indicies=None, active_window_sample_indicies=None, curr_animal_point=None)\n",
    "\n",
    "### Lap Example of programmatic updating:\n",
    "# curr_lap_id = 0\n",
    "\n",
    "# curr_lap_t_start, curr_lap_t_stop = get_lap_times(curr_lap_id)\n",
    "# curr_lap_subsession = lap_specific_subsessions[curr_lap_id]\n",
    "# curr_lap_dataframe = lap_specific_dataframes[curr_lap_id] # the subset dataframe for this lap\n",
    "# curr_lap_spike_t_seconds = curr_lap_dataframe.t_seconds\n",
    "# curr_lap_spike_indicies = lap_spike_indicies[curr_lap_id] # all spike indicies that occured within the lap\n",
    "# curr_lap_position_traces = curr_lap_subsession.position.traces # the animal positions that were traversed during this lap\n",
    "\n",
    "# curr_lap_num_spikes = len(curr_lap_spike_indicies)\n",
    "# print('lap[{}]: ({}, {}): {} spikes.'.format(curr_lap_id, curr_lap_t_start, curr_lap_t_stop, curr_lap_num_spikes))\n",
    "\n",
    "# ipspikesDataExplorer.on_programmatic_data_update(active_included_all_historical_indicies=curr_lap_spike_indicies, active_included_recent_only_indicies=curr_lap_spike_indicies) # index 145937 is out of bounds for axis 0 with size 19647\n",
    "# ipspikesDataExplorer.on_programmatic_data_update(active_included_all_historical_indicies=curr_lap_spike_t_seconds, active_included_recent_only_indicies=curr_lap_spike_t_seconds) # \n",
    "# ipspikesDataExplorer.on_programmatic_data_update(active_included_all_historical_indicies=curr_lap_spike_t_seconds.values, active_included_recent_only_indicies=curr_lap_spike_t_seconds.values) # "
   ]
  },
  {
   "cell_type": "code",
   "execution_count": null,
   "id": "4cffabec-1266-482a-9018-c458e6dfa3f2",
   "metadata": {
    "pycharm": {
     "is_executing": false,
     "name": "#%%\n"
    },
    "scrolled": true
   },
   "outputs": [],
   "source": [
    "## Can Programmaticallyt set the visibility on the different plotted elements:\n",
    "ipspikesDataExplorer.toggle_plot_visibility('spikes_main_historical')\n",
    "# ipspikesDataExplorer.toggle_plot_visibility('spikes_main_recent_only')\n",
    "# ipspikesDataExplorer.toggle_plot_visibility('animal_location_trail')\n",
    "# ipspikesDataExplorer.toggle_plot_visibility('animal_current_location_point')\n",
    "# toggle_visibility(ipspikesDataExplorer.spikes_main_recent_only)\n",
    "# toggle_visibility(ipspikesDataExplorer.animal_location_trail)\n",
    "# toggle_visibility(ipspikesDataExplorer.animal_current_location_point)"
   ]
  },
  {
   "cell_type": "code",
   "execution_count": null,
   "id": "2740e3d9-2072-44f1-86a8-4a558d307a37",
   "metadata": {
    "pycharm": {
     "is_executing": false,
     "name": "#%%\n"
    }
   },
   "outputs": [],
   "source": [
    "import pyvista as pv\n",
    "from pyvistaqt import BackgroundPlotter\n",
    "\n",
    "## Test Adding Points:\n",
    "\n",
    "\n",
    "# curr_mesh_extracted_pts # UnstructuredGrid\n",
    "curr_points_actor = curr_mesh_extracted_pts.plot(show_edges=True, line_width=3, point_size=20, )\n",
    "\n",
    "pl = BackgroundPlotter()\n",
    "curr_points_actor = pl.add_points(curr_mesh_extracted_pts, render_points_as_spheres=True, point_size=2.0, color='black')\n",
    "pl.show()\n"
   ]
  },
  {
   "cell_type": "markdown",
   "id": "a07d8a4d-3339-4f57-bb2e-3c62c181f77e",
   "metadata": {
    "jp-MarkdownHeadingCollapsed": true,
    "pycharm": {
     "name": "#%%\n"
    },
    "tags": []
   },
   "source": [
    "# Individual Plotting Tests:"
   ]
  },
  {
   "cell_type": "markdown",
   "id": "08c07005-5574-41bc-9e5c-f9c82818df2e",
   "metadata": {
    "tags": []
   },
   "source": [
    "### Common Config"
   ]
  },
  {
   "cell_type": "code",
   "execution_count": null,
   "id": "eaf6f8df-ff2b-4349-b0cb-f7fb0069a3ef",
   "metadata": {
    "tags": []
   },
   "outputs": [],
   "source": [
    "# display matplotlib figures in a qt backed window. Works in Jupyter notebooks\n",
    "from neuropy.utils.matplotlib_helpers import enumTuningMap2DPlotVariables # for getting the variant name from the dict\n",
    "\n",
    "from pyphocorehelpers.plotting.figure_management import PhoActiveFigureManager2D, capture_new_figures_decorator\n",
    "fig_man = PhoActiveFigureManager2D(name=f'fig_man') # Initialize a new figure manager\n",
    "from pyphoplacecellanalysis.GUI.PyQtPlot.Widgets.DockAreaWrapper import DockAreaWrapper\n",
    "\n",
    "# # ## OPTIONS/SETTINGS:\n",
    "# # enable_saving_to_disk = True\n",
    "# # # enable_saving_to_disk = False\n",
    "# # # open_folders_in_system_teafile_manager = True\n",
    "# # open_folders_in_system_file_manager = False\n",
    "\n",
    "# ## Old Individual Plotting Function Configs, still used as of 2022-08-10:\n",
    "# # figure_format_config = dict(subplots=(20, 8), max_screen_figure_size=(2256, 2048)) # bad way\n",
    "# # figure_format_config = dict(subplots=(None, 8), max_screen_figure_size=(None, 1868)) # good way\n",
    "# figure_format_config = dict(subplots=(None, 8), max_screen_figure_size=(None, None)) # good way\n",
    "# # figure_format_config = dict(subplots=(20, 8), max_screen_figure_size=(None, 1868))\n",
    "\n",
    "# # figure_format_config = dict(subplots=(6, 6), max_screen_figure_size=(2256, 2048)) # bad way\n",
    "# # RowColTuple(subplots[0], subplots[1])\n",
    "\n",
    "# ## Add explicit column/row widths to fix window sizing issue:\n",
    "# # figure_format_config = (dict(fig_column_width=1.0, fig_row_height=1.0) | figure_format_config)\n",
    "# figure_format_config = (dict(fig_column_width=2.0, fig_row_height=2.0) | figure_format_config)\n",
    "# # figure_format_config = (dict(fig_column_width=5.0, fig_row_height=5.0) | figure_format_config)\n",
    "\n",
    "# ## Add additional default options:\n",
    "# figure_format_config = (dict(enable_spike_overlay=False, debug_print=True, enable_saving_to_disk=enable_saving_to_disk) | figure_format_config)\n",
    "# figure_format_config\n",
    "\n",
    "# NOTE: if you want the outputs to be rendered to the same PDF, you must wrap all the plotting in the backend_pdf context:\n",
    "def wrap_display_function_to_save_pdf(curr_display_function_name='_display_normal', filter_name='maze'):\n",
    "    \"\"\" implicitly captures: active_identifying_filtered_session_ctx, _get_curr_figure_format_config \n",
    "    \n",
    "    Usage:\n",
    "        wrap_display_function_to_save_pdf(curr_display_function_name='_display_normal', filter_name=active_config_name)\n",
    "    \"\"\"\n",
    "    built_pdf_metadata, curr_pdf_save_path = _build_pdf_pages_output_info(curr_display_function_name) # but this is specific to a given display function, right?\n",
    "    active_identifying_display_ctx = active_identifying_filtered_session_ctx.adding_context('display_fn', display_fn_name=curr_display_function_name)\n",
    "    figure_format_config = _get_curr_figure_format_config() # Fetch the context from the GUI\n",
    "    figure_format_config['enable_saving_to_disk'] = False # don't use the in-built figure export/saving to disk functionality as we want to wrap the output figure with the Pdf saving, not write to a .png\n",
    "    with backend_pdf.PdfPages(curr_pdf_save_path, keep_empty=False, metadata=built_pdf_metadata) as pdf:\n",
    "        # set_rasterized,  Axes.set_rasterization_zorder\n",
    "        # fig0, figList1 = curr_active_pipeline.display(curr_display_function_name, filter_name, debug_print=False, enable_saving_to_disk=enable_saving_to_disk)\n",
    "        ## TODO: main display function call done here:\n",
    "        out_figures_list = curr_active_pipeline.display(curr_display_function_name, filter_name, **figure_format_config)\n",
    "        if not isinstance(out_figures_list, (list, tuple)):\n",
    "            # not a list, just a scalar object\n",
    "            plots = [out_figures_list] # make a single-element list\n",
    "        else:\n",
    "            # it is a list\n",
    "            if len(out_figures_list) == 2:\n",
    "                fig0, figList1 = out_figures_list # unpack\n",
    "                plots = [fig0, *figList1]\n",
    "            else:\n",
    "                # otherwise just try and set the plots to the list\n",
    "                plots = out_figures_list\n",
    "                \n",
    "        for a_fig in plots:\n",
    "            pdf.savefig(a_fig, transparent=True)\n",
    "\n",
    "            \n",
    "            \n",
    "            "
   ]
  },
  {
   "cell_type": "markdown",
   "id": "311e7270-342a-4086-91ed-489bea8d5c61",
   "metadata": {
    "tags": []
   },
   "source": [
    "## Single (Session, Filter) Context Plotting:"
   ]
  },
  {
   "cell_type": "markdown",
   "id": "0ea41eed-55e1-4a46-8b2a-5215be482212",
   "metadata": {
    "jp-MarkdownHeadingCollapsed": true,
    "tags": []
   },
   "source": [
    "### Utility:"
   ]
  },
  {
   "cell_type": "code",
   "execution_count": null,
   "id": "82de15b7-8404-43f5-89f0-dd54d3538233",
   "metadata": {
    "scrolled": true
   },
   "outputs": [],
   "source": [
    "# Reload display functions:\n",
    "curr_active_pipeline.reload_default_display_functions()\n",
    "curr_active_pipeline.registered_display_function_names # ['_display_1d_placefield_validations', '_display_2d_placefield_result_plot_ratemaps_2D', '_display_2d_placefield_result_plot_raw', '_display_normal', '_display_placemaps_pyqtplot_2D', '_display_decoder_result', '_display_plot_most_likely_position_comparisons', '_display_two_step_decoder_prediction_error_2D', '_display_two_step_decoder_prediction_error_animated_2D', '_display_spike_rasters_pyqtplot_2D', '_display_spike_rasters_pyqtplot_3D', '_display_spike_rasters_pyqtplot_3D_with_2D_controls', '_display_spike_rasters_vedo_3D', '_display_spike_rasters_vedo_3D_with_2D_controls', '_display_spike_rasters_window', '_display_speed_vs_PFoverlapDensity_plots', '_display_3d_image_plotter', '_display_3d_interactive_custom_data_explorer', '_display_3d_interactive_spike_and_behavior_browser', '_display_3d_interactive_tuning_curves_plotter']\n",
    "print(curr_active_pipeline.registered_display_function_names)"
   ]
  },
  {
   "cell_type": "code",
   "execution_count": null,
   "id": "49254b40-041b-4733-ab30-0ab6f0396d72",
   "metadata": {
    "scrolled": true
   },
   "outputs": [],
   "source": [
    "## Test getting figure save paths:\n",
    "_test_fig_path = curr_active_config.plotting_config.get_figure_save_path('test')\n",
    "print(f'_test_fig_path: {_test_fig_path}\\n\\t exists? {_test_fig_path.exists()}')"
   ]
  },
  {
   "cell_type": "code",
   "execution_count": null,
   "id": "42f3eb11-e517-4e2e-8886-168f8c284cbf",
   "metadata": {},
   "outputs": [],
   "source": [
    "%matplotlib --list \n",
    "# Available matplotlib backends: ['tk', 'gtk', 'gtk3', 'gtk4', 'wx', 'qt4', 'qt5', 'qt6', 'qt', 'osx', 'nbagg', 'notebook', 'agg', 'svg', 'pdf', 'ps', 'inline', 'ipympl', 'widget']"
   ]
  },
  {
   "cell_type": "code",
   "execution_count": null,
   "id": "832c0030-b46b-4c62-961d-b6b69272d8a6",
   "metadata": {},
   "outputs": [],
   "source": [
    "%matplotlib qt\n",
    "## NOTE THAT ONCE THIS IS SET TO qt, it cannot be undone!"
   ]
  },
  {
   "cell_type": "code",
   "execution_count": null,
   "id": "bbf98252-9741-43fd-a2d3-1f9e9f4a62a3",
   "metadata": {
    "scrolled": true
   },
   "outputs": [],
   "source": [
    "fig_man.close_all()"
   ]
  },
  {
   "cell_type": "code",
   "execution_count": null,
   "id": "110a1826-5774-410e-b80f-c635d46dddf0",
   "metadata": {
    "scrolled": true
   },
   "outputs": [],
   "source": [
    "extant_figs_dict = fig_man.figures_dict\n",
    "extant_fig_nums = fig_man.figure_nums\n",
    "fig_num_figure_still_exists = [plt.fignum_exists(a_fig_num) for a_fig_num in extant_fig_nums]\n",
    "fig_num_figure_still_exists #     # Figure is still opened or is closed\n",
    "# if plt.fignum_exists(<figure number>):\n",
    "#     # Figure is still opened\n",
    "# else:\n",
    "#     # Figure is closed\n",
    "extant_figs_dict\n",
    "\n",
    "# mpl.rcParams['toolbar'] = 'None'"
   ]
  },
  {
   "cell_type": "code",
   "execution_count": null,
   "id": "9f00bfb6-1902-471d-9b5f-f343be47408b",
   "metadata": {
    "scrolled": true
   },
   "outputs": [],
   "source": [
    "fig_man.reshow_figure(extant_figs_dict[10])"
   ]
  },
  {
   "cell_type": "markdown",
   "id": "f7538285-c967-4101-bfba-04aad923d8b7",
   "metadata": {
    "jp-MarkdownHeadingCollapsed": true,
    "tags": []
   },
   "source": [
    "#### 🐞 Planning Helper Dock"
   ]
  },
  {
   "cell_type": "code",
   "execution_count": null,
   "id": "5936fb3a-d197-4a77-8c6c-2dc1076c40c7",
   "metadata": {},
   "outputs": [],
   "source": [
    "from pyphoplacecellanalysis.GUI.PyQtPlot.Widgets.DockPlanningHelperWidget.DockPlanningHelperWidget import DockPlanningHelperWidget"
   ]
  },
  {
   "cell_type": "code",
   "execution_count": null,
   "id": "a113d225-7c4e-4930-a24b-780c6eea19a7",
   "metadata": {},
   "outputs": [],
   "source": [
    "test_dock_planning_widget = DockPlanningHelperWidget(dock_title='Test Dock Widget 1', dock_id='Test Dock Widget 1')\n",
    "win.add_display_dock(identifier=test_dock_planning_widget.identifier, widget=test_dock_planning_widget)"
   ]
  },
  {
   "cell_type": "code",
   "execution_count": null,
   "id": "ee2d207b-b7d3-4888-b36c-204f642243ac",
   "metadata": {},
   "outputs": [],
   "source": [
    "# test_dock_planning_widget.parent()\n",
    "test_dock_planning_widget.embedding_dock_item"
   ]
  },
  {
   "cell_type": "code",
   "execution_count": null,
   "id": "5ccb3166-7c7b-4819-a4ad-312b640e205e",
   "metadata": {},
   "outputs": [],
   "source": [
    "test_dock_planning_widget.embedding_dock_item.area # DockArea \n",
    "# test_dock_planning_widget.embedding_dock_item.orig_area # DockArea "
   ]
  },
  {
   "cell_type": "code",
   "execution_count": null,
   "id": "e76811ed-fbc6-42b7-ad06-3c005ae28395",
   "metadata": {},
   "outputs": [],
   "source": [
    "test_dock_planning_widget.embedding_dock_item.setOrientation"
   ]
  },
  {
   "cell_type": "code",
   "execution_count": null,
   "id": "23aba576-59af-4b38-bdf9-9e2724de7a90",
   "metadata": {},
   "outputs": [],
   "source": [
    "test_dock_planning_widget, test_dock_item = win.create_planning_helper_dock()\n",
    "test_dock_planning_widget"
   ]
  },
  {
   "cell_type": "code",
   "execution_count": null,
   "id": "b5e84893-91e2-4912-9b7c-cea2a86a7490",
   "metadata": {},
   "outputs": [],
   "source": [
    "win.ui"
   ]
  },
  {
   "cell_type": "code",
   "execution_count": null,
   "id": "d243fe6b-e671-425f-aab5-263710e3d905",
   "metadata": {},
   "outputs": [],
   "source": [
    "test_dock_planning_widget2, test_dock_item2 = win.create_planning_helper_dock()\n",
    "test_dock_planning_widget2"
   ]
  },
  {
   "cell_type": "code",
   "execution_count": null,
   "id": "eb962b66-4cf7-43a4-af7d-86da2ebc3fdd",
   "metadata": {},
   "outputs": [],
   "source": [
    "# curr_display_dock_planning_helper_widgets = win.displayDockArea.findChildren(DockPlanningHelperWidget, QtCore.QRegExp(\".*\"), QtCore.Qt.FindChildrenRecursively)\n",
    "# curr_display_dock_planning_helper_widgets\n",
    "\n",
    "curr_display_dock_planning_helper_widgets = win.displayDockArea.findChildren(DockPlanningHelperWidget, QtCore.QRegExp(\".*\"), QtCore.Qt.FindChildrenRecursively)\n",
    "# curr_display_dock_planning_helper_widgets\n",
    "# win.connection_man\n",
    "for a_child_helper_widget in curr_display_dock_planning_helper_widgets:\n",
    "    a_child_helper_widget.action_create_new_dock.connect(perform_create_new_relative_dock)"
   ]
  },
  {
   "cell_type": "code",
   "execution_count": null,
   "id": "3b56ee65-cdf1-4c41-8d3f-c1c606e71b13",
   "metadata": {},
   "outputs": [],
   "source": [
    "win.dynamic_display_dict"
   ]
  },
  {
   "cell_type": "code",
   "execution_count": null,
   "id": "39804039-9497-4d57-9d2c-0fc28c7bd0e0",
   "metadata": {},
   "outputs": [],
   "source": [
    "win.dynamic_display_dict['Test Dock Widget 1']\n",
    "\n",
    "\n",
    "\n",
    "# \"dock\"\n",
    "# \"widget\""
   ]
  },
  {
   "cell_type": "code",
   "execution_count": null,
   "id": "3dee8b08-42bf-4b5a-9c76-b7b3a3a3119a",
   "metadata": {},
   "outputs": [],
   "source": [
    "from pyphoplacecellanalysis.External.pyqtgraph.dockarea.Dock import Dock\n",
    "\n",
    "# curr_display_dock_items = win.displayDockArea.children()\n",
    "# curr_display_dock_items = win.displayDockArea.findChildren(Dock)\n",
    "curr_display_dock_items = win.displayDockArea.findChildren(Dock, QtCore.QRegExp(\".*\"), QtCore.Qt.FindChildrenRecursively)\n",
    "curr_display_dock_items"
   ]
  },
  {
   "cell_type": "code",
   "execution_count": null,
   "id": "fd70cccf-6468-4832-ae39-9a2bb1d059d6",
   "metadata": {},
   "outputs": [],
   "source": [
    "win.find_display_dock('Test Dock Widget 1')"
   ]
  },
  {
   "cell_type": "code",
   "execution_count": null,
   "id": "8521ad06-6218-4d62-bed3-77f22461454e",
   "metadata": {},
   "outputs": [],
   "source": [
    "dock_item_titles = [a_dock_item.title() for a_dock_item in curr_display_dock_items]\n",
    "dock_item_titles\n",
    "# [a_dock_item for a_dock_item in curr_display_dock_items]"
   ]
  },
  {
   "cell_type": "code",
   "execution_count": null,
   "id": "2573ec63-4864-4f8b-b826-2492ec6dd1a6",
   "metadata": {},
   "outputs": [],
   "source": [
    "first_dock_item = curr_display_dock_items[0]"
   ]
  },
  {
   "cell_type": "code",
   "execution_count": null,
   "id": "ecb638a2-2cd7-4122-939a-431146284dc6",
   "metadata": {},
   "outputs": [],
   "source": [
    "first_dock_item.title() # \n",
    "# first_dock_item.setTitle\n",
    "first_dock_item.geometry() # PyQt5.QtCore.QRect(0, 792, 842, 786)"
   ]
  },
  {
   "cell_type": "code",
   "execution_count": null,
   "id": "13ede0a2-2283-4aad-bb96-7adae4437e33",
   "metadata": {},
   "outputs": [],
   "source": [
    "first_dock_item.frameGeometry() # PyQt5.QtCore.QRect(0, 792, 842, 786)\n",
    "first_dock_item.widgets # list, e.g. [<pyphoplacecellanalysis.GUI.PyQtPlot.Widgets.DockPlanningHelperWidget.DockPlanningHelperWidget.DockPlanningHelperWidget at 0x1d6b2a1b820>]\n",
    "first_dock_item.name()\n"
   ]
  },
  {
   "cell_type": "markdown",
   "id": "2c5931d5-08ff-4e74-83e7-b123c8e8892c",
   "metadata": {
    "tags": []
   },
   "source": [
    "## Systematic Display Function Testing"
   ]
  },
  {
   "cell_type": "markdown",
   "id": "6f70f924-ee90-4679-bdba-d0f6ba3b7715",
   "metadata": {
    "tags": []
   },
   "source": [
    "### Matplotlib-based plots:"
   ]
  },
  {
   "cell_type": "code",
   "execution_count": null,
   "id": "2f81d320-3d95-493e-b77f-027beb3c0074",
   "metadata": {
    "pycharm": {
     "name": "#%%\n"
    }
   },
   "outputs": [],
   "source": [
    "matplotlib.use('AGG') # non-interactive backend\n",
    "## 2022-08-16 - Surprisingly this works to make the matplotlib figures render only to .png file, not appear on the screen!"
   ]
  },
  {
   "cell_type": "code",
   "execution_count": null,
   "id": "79d49661-de8c-4794-bcca-ea8e8f1e1a02",
   "metadata": {
    "scrolled": true
   },
   "outputs": [],
   "source": [
    "%%capture\n",
    "wrap_display_function_to_save_pdf(curr_display_function_name='_display_1d_placefield_validations', filter_name=active_config_name) # 🟢✅ Working"
   ]
  },
  {
   "cell_type": "code",
   "execution_count": null,
   "id": "12e275fc-d5cb-4a7c-a104-37524a311d75",
   "metadata": {
    "scrolled": true
   },
   "outputs": [],
   "source": [
    "%%capture\n",
    "wrap_display_function_to_save_pdf(curr_display_function_name='_display_2d_placefield_result_plot_raw', filter_name=active_config_name) # 🟢✅ Working"
   ]
  },
  {
   "cell_type": "code",
   "execution_count": null,
   "id": "ce7bf897-29e9-4fa8-9be8-ba2562fa29f4",
   "metadata": {
    "scrolled": true
   },
   "outputs": [],
   "source": [
    "%%capture\n",
    "wrap_display_function_to_save_pdf(curr_display_function_name='_display_2d_placefield_result_plot_ratemaps_2D', filter_name=active_config_name) # 🟢 Mostly Working # works but now only displays a single filter (where before it displayed all of them and rendered them to individual pages of the PDF)"
   ]
  },
  {
   "cell_type": "code",
   "execution_count": null,
   "id": "59c048cb-f139-41c2-bead-e494a9a729e8",
   "metadata": {
    "scrolled": true
   },
   "outputs": [],
   "source": [
    "%%capture\n",
    "wrap_display_function_to_save_pdf(curr_display_function_name='_display_normal', filter_name=active_config_name) # 🟢✅ Working"
   ]
  },
  {
   "cell_type": "markdown",
   "id": "a4a5b7d4-a28e-4aca-b6be-5865128e8859",
   "metadata": {},
   "source": [
    "## 🐞👁️‍🗨️🔜 TODO: FINISH THIS UP AND FIGURE OUT WHATEVER THE HELL I'M DOING HERE"
   ]
  },
  {
   "cell_type": "code",
   "execution_count": null,
   "id": "117a6d92-3b17-46e0-8474-729641db86ca",
   "metadata": {
    "scrolled": true
   },
   "outputs": [],
   "source": [
    "curr_display_function_name = '_display_2d_placefield_result_plot_ratemaps_2D'\n",
    "built_pdf_metadata, curr_pdf_save_path = _build_pdf_pages_output_info(curr_display_function_name)\n",
    "out_fig_list = []\n",
    "active_identifying_display_ctx = active_identifying_filtered_session_ctx.adding_context('display_fn', display_fn_name=curr_display_function_name)\n",
    "figure_format_config = _get_curr_figure_format_config() # Fetch the context from the GUI\n",
    "figure_format_config['enable_saving_to_disk'] = False # don't use the in-built figure export/saving to disk functionality as we want to wrap the output figure with the Pdf saving, not write to a .png\n",
    "with backend_pdf.PdfPages(curr_pdf_save_path, keep_empty=False, metadata=built_pdf_metadata) as pdf:    \n",
    "    # pdf.\n",
    "    for filter_name in curr_active_pipeline.filtered_session_names:\n",
    "        print(f'filter_name: {filter_name}')\n",
    "        active_identifying_ctx = active_identifying_display_ctx.adding_context('plot_variable', variable_name=enumTuningMap2DPlotVariables.SPIKES_MAPS)\n",
    "        active_identifying_ctx_string = active_identifying_ctx.get_description(separator='|') # Get final discription string\n",
    "        out_fig_list.extend(curr_active_pipeline.display(curr_display_function_name, filter_name, plot_variable=enumTuningMap2DPlotVariables.SPIKES_MAPS, fignum=active_identifying_ctx_string, **figure_format_config)) # works!\n",
    "        active_identifying_ctx = active_identifying_display_ctx.adding_context('plot_variable', variable_name=enumTuningMap2DPlotVariables.TUNING_MAPS)\n",
    "        active_identifying_ctx_string = active_identifying_ctx.get_description(separator='|') # Get final discription string\n",
    "        out_fig_list.extend(curr_active_pipeline.display(curr_display_function_name, filter_name, plot_variable=enumTuningMap2DPlotVariables.TUNING_MAPS, fignum=active_identifying_ctx_string, **figure_format_config))\n",
    "        for a_fig in out_fig_list:\n",
    "            pdf.savefig(a_fig, transparent=True)"
   ]
  },
  {
   "cell_type": "code",
   "execution_count": null,
   "id": "208ccda9-0c1a-4743-8ad7-3c7a90f96c04",
   "metadata": {
    "scrolled": true
   },
   "outputs": [],
   "source": [
    "%%capture\n",
    "curr_display_function_name = '_display_decoder_result'\n",
    "built_pdf_metadata, curr_pdf_save_path = _build_pdf_pages_output_info(curr_display_function_name)\n",
    "with backend_pdf.PdfPages(curr_pdf_save_path, keep_empty=False, metadata=built_pdf_metadata) as pdf:\n",
    "    plots = curr_active_pipeline.display(curr_display_function_name, filter_name)\n",
    "    print(plots)\n",
    "    # pdf.savefig(a_fig)"
   ]
  },
  {
   "cell_type": "markdown",
   "id": "0be6f5f0-f4d0-4ce6-acde-c78e23847386",
   "metadata": {
    "tags": []
   },
   "source": [
    "### PyQtGraph-based plots:"
   ]
  },
  {
   "cell_type": "markdown",
   "id": "7b235e17-740d-45ed-8e39-d88c2a2b995e",
   "metadata": {},
   "source": [
    "#### PyQtGraph-based Pf2D Viewers:"
   ]
  },
  {
   "cell_type": "code",
   "execution_count": null,
   "id": "a0d1ad29-9c9f-41b9-9e2e-6a6871a1a280",
   "metadata": {},
   "outputs": [],
   "source": [
    "# 🟢✅ Nearly Completely Working - Needs subplot labels changed to match standardized matplotlib version, needs color scheme set consistently to matplotlib version, needs colorbars removed\n",
    "from pyphoplacecellanalysis.GUI.PyQtPlot.BinnedImageRenderingWindow import BasicBinnedImageRenderingWindow, add_bin_ticks, build_binned_imageItem\n",
    "from neuropy.utils.matplotlib_helpers import _build_variable_max_value_label, enumTuningMap2DPlotMode, enumTuningMap2DPlotVariables, _determine_best_placefield_2D_layout, _scale_current_placefield_to_acceptable_range\n",
    "from PendingNotebookCode import display_all_pf_2D_pyqtgraph_binned_image_rendering\n",
    "\n",
    "# NOTE FILTER SPECIFIC: active_config_name and active_pf_2D depend on active_config_name\n",
    "\n",
    "## Get the figure_format_config from the figure_format_config widget:\n",
    "active_identifying_display_ctx = active_identifying_filtered_session_ctx.adding_context('display_fn', display_fn_name='display_all_pf_2D_pyqtgraph_binned_image_rendering')\n",
    "figure_format_config = _get_curr_figure_format_config() # Fetch the context from the GUI\n",
    "out_all_pf_2D_pyqtgraph_binned_image_fig = display_all_pf_2D_pyqtgraph_binned_image_rendering(active_pf_2D, figure_format_config)"
   ]
  },
  {
   "cell_type": "code",
   "execution_count": null,
   "id": "02043c26-72f7-4966-ba7e-a8d1dd30a35d",
   "metadata": {},
   "outputs": [],
   "source": [
    "images = active_one_step_decoder.ratemap.normalized_tuning_curves\n",
    "images.shape # (66, 41, 63)"
   ]
  },
  {
   "cell_type": "code",
   "execution_count": null,
   "id": "fdfad051-f302-46d8-8593-b1bc8207db13",
   "metadata": {},
   "outputs": [],
   "source": [
    "# 🟢🚧🟨 Almost Working - Needs subplot labels changed from Cell[i] to the appropriate standardized titles. Needs other minor refinements.\n",
    "# 🚧 _temp_pyqtplot_plot_image_array needs major improvements to achieve feature pairity with display_all_pf_2D_pyqtgraph_binned_image_rendering, so probably just use display_all_pf_2D_pyqtgraph_binned_image_rendering.  \n",
    "from PendingNotebookCode import _temp_pyqtplot_plot_image_array\n",
    "\n",
    "# Get the decoders from the computation result:\n",
    "# active_one_step_decoder = computation_result.computed_data['pf2D_Decoder'] # doesn't actually require the Decoder, could just use computation_result.computed_data['pf2D']            \n",
    "# Get flat list of images:\n",
    "images = active_one_step_decoder.ratemap.normalized_tuning_curves # (43, 63, 63)\n",
    "# images = active_one_step_decoder.ratemap.normalized_tuning_curves[0:40,:,:] # (43, 63, 63)\n",
    "occupancy = active_one_step_decoder.ratemap.occupancy\n",
    "\n",
    "active_identifying_display_ctx = active_identifying_filtered_session_ctx.adding_context('display_fn', display_fn_name='_temp_pyqtplot_plot_image_array')\n",
    "figure_format_config = _get_curr_figure_format_config() # Fetch the context from the GUI\n",
    "## Get final discription string:\n",
    "active_identifying_ctx_string = active_identifying_display_ctx.get_description(separator='|')\n",
    "print(f'active_identifying_ctx_string: {active_identifying_ctx_string}')\n",
    "\n",
    "## Build the widget:\n",
    "app, parent_root_widget, root_render_widget, plot_array, img_item_array, other_components_array = _temp_pyqtplot_plot_image_array(active_one_step_decoder.xbin, active_one_step_decoder.ybin, images, occupancy, \n",
    "                                                                        app=None, parent_root_widget=None, root_render_widget=None, max_num_columns=8)\n",
    "parent_root_widget.show()\n",
    "master_dock_win.add_display_dock(identifier=active_identifying_ctx_string, widget=parent_root_widget, dockIsClosable=True)"
   ]
  },
  {
   "cell_type": "markdown",
   "id": "34852f9f-58a4-4e87-8e63-ccd8bee8c835",
   "metadata": {
    "tags": []
   },
   "source": [
    "#### Decoder Plots:"
   ]
  },
  {
   "cell_type": "code",
   "execution_count": null,
   "id": "32373e0c-0036-45bf-8211-6a6801a41712",
   "metadata": {
    "pycharm": {
     "name": "#%%\n"
    }
   },
   "outputs": [],
   "source": [
    "# Must switch back to the interactive backend here for the interactive/animated decoder plots:\n",
    "matplotlib.use('Qt5Agg')\n",
    "# backend_qt5agg\n",
    "import matplotlib.pyplot as plt\n",
    "# plt.switch_backend('Qt5Agg')"
   ]
  },
  {
   "cell_type": "code",
   "execution_count": null,
   "id": "f1ba3940-595d-43c0-b589-d5e17dc92d87",
   "metadata": {
    "pycharm": {
     "name": "#%%\n"
    }
   },
   "outputs": [],
   "source": [
    "curr_active_pipeline.display('_display_two_step_decoder_prediction_error_animated_2D', active_config_name, variable_name='p_x_given_n')"
   ]
  },
  {
   "cell_type": "code",
   "execution_count": null,
   "id": "61f43c17-baff-4d1f-9b8b-5620c1c1529b",
   "metadata": {
    "pycharm": {
     "name": "#%%\n"
    }
   },
   "outputs": [],
   "source": [
    "# ## MATPLOTLIB Imports:\n",
    "# import matplotlib\n",
    "# # configure backend here\n",
    "# matplotlib.use('Qt5Agg')\n",
    "# import matplotlib.pyplot as plt\n",
    "# import matplotlib as mpl\n",
    "## This plot looks phenominal, and the slider works!\n",
    "curr_active_pipeline.display('_display_two_step_decoder_prediction_error_2D', active_config_name, variable_name='p_x_given_n') # works!"
   ]
  },
  {
   "cell_type": "code",
   "execution_count": null,
   "id": "8d36faf2-93e3-4e3c-8637-5d5f1cf65cd0",
   "metadata": {
    "pycharm": {
     "name": "#%%\n"
    }
   },
   "outputs": [],
   "source": [
    "curr_active_pipeline.display('_display_two_step_decoder_prediction_error_2D', active_config_name, variable_name='p_x_given_n_and_x_prev')  # this one doesn't work!"
   ]
  },
  {
   "cell_type": "code",
   "execution_count": null,
   "id": "3b3d2b94-2c5e-4af7-b41b-79e7c88ff075",
   "metadata": {},
   "outputs": [],
   "source": [
    "# Get the decoders from the computation result:\n",
    "# active_one_step_decoder = computation_result.computed_data['pf2D_Decoder']\n",
    "# active_two_step_decoder = computation_result.computed_data.get('pf2D_TwoStepDecoder', None)\n",
    "# active_measured_positions = computation_result.sess.position.to_dataframe()\n",
    "\n",
    "active_one_step_decoder # BayesianPlacemapPositionDecoder\n",
    "active_two_step_decoder\n",
    "\n",
    "## SAVE OUT THE RESULTS of the decoder:"
   ]
  },
  {
   "cell_type": "markdown",
   "id": "512852c6-ef77-4fc1-ab1b-aa8b7eb17b3e",
   "metadata": {
    "pycharm": {
     "name": "#%%\n"
    }
   },
   "source": [
    "### 🔜 2022-08-10 👁️‍🗨️ NOW: Plot animal positions on the computed posteriors:\n",
    "The process of plotting the animal position on the decoder plot needs to be refined. Currently it works by re-implementing \n",
    "\n",
    "🔜 NEXT STEP: TODO: Make a \"Datasource\" like approach perhaps to provide the actual animal position at each point in time?\n",
    "🐞🔜 BUG TODO: Noticed that for Bapun Day5 data, it looks like the current position point is being plotted incorrectly (it doesn't even move across the space much)"
   ]
  },
  {
   "cell_type": "code",
   "execution_count": null,
   "id": "ee882017-15af-4c21-a838-e8d88f503b92",
   "metadata": {
    "pycharm": {
     "name": "#%%\n"
    }
   },
   "outputs": [],
   "source": [
    "## Get the current positions at each of the time_window_centers:\n",
    "# active_resampled_measured_positions\n",
    "time_binned_pos_df = active_computed_data.extended_stats.time_binned_position_df\n",
    "active_resampled_pos_df = time_binned_pos_df  # 1717 rows × 16 columns\n",
    "active_resampled_measured_positions = active_resampled_pos_df[['x','y']].to_numpy() # The measured positions resampled (interpolated) at the window centers. \n",
    "# np.shape(active_resampled_measured_positions) # (1911, 2)\n",
    "active_one_step_decoder.active_time_window_centers.shape # (1911,)\n",
    "\n",
    "# Note this has 2900 rows × 24 columns and active_one_step_decoder.active_time_window_centers.shape is (2892,) for some reason. Shouldn't they be the same?"
   ]
  },
  {
   "cell_type": "code",
   "execution_count": null,
   "id": "0dd6ff81-42cb-4695-bc20-7b049faaa13b",
   "metadata": {
    "pycharm": {
     "name": "#%%\n"
    }
   },
   "outputs": [],
   "source": [
    "# active_one_step_decoder.active_time_window_centers"
   ]
  },
  {
   "cell_type": "code",
   "execution_count": null,
   "id": "91e82f88-bec4-43d2-b699-c8c17bda7770",
   "metadata": {
    "pycharm": {
     "name": "#%%\n"
    }
   },
   "outputs": [],
   "source": [
    "# np.array(active_two_step_decoder.flat_all_x).shape # (3969, 2)"
   ]
  },
  {
   "cell_type": "code",
   "execution_count": null,
   "id": "cf002ab2-9e5a-45ed-9a4b-8ccb5366a9dd",
   "metadata": {
    "pycharm": {
     "name": "#%%\n"
    }
   },
   "outputs": [],
   "source": [
    "# active_resampled_pos_df\n",
    "sub_df = pd.DataFrame({'t': active_one_step_decoder.active_time_window_centers, 'x':active_resampled_pos_df.x.to_numpy(), 'y':active_resampled_pos_df.x.to_numpy()})\n",
    "sub_df"
   ]
  },
  {
   "cell_type": "code",
   "execution_count": null,
   "id": "be0825cb-38d7-46db-a169-f92bde127d33",
   "metadata": {},
   "outputs": [],
   "source": [
    "import matplotlib.pyplot as plt\n",
    "from matplotlib.widgets import Slider\n",
    "\n",
    "from PendingNotebookCode import _temp_debug_two_step_plots_animated_imshow\n",
    "\n",
    "# Get the decoders from the computation result:\n",
    "# active_one_step_decoder = computation_result.computed_data['pf2D_Decoder']\n",
    "# active_two_step_decoder = computation_result.computed_data.get('pf2D_TwoStepDecoder', None)\n",
    "# active_measured_positions = computation_result.sess.position.to_dataframe()\n",
    "\n",
    "def _debug_on_frame_update(new_frame_idx, ax):\n",
    "    print(f'_debug_on_frame_update(new_frame_idx: {new_frame_idx}, ax: {ax})')\n",
    "    pass\n",
    "\n",
    "# active_resampled_pos_df = active_computed_data.extended_stats.time_binned_position_df  # 1717 rows × 16 columns\n",
    "\n",
    "# Simple plot type 1:\n",
    "# plotted_variable_name = kwargs.get('variable_name', 'p_x_given_n') # Tries to get the user-provided variable name, otherwise defaults to 'p_x_given_n'\n",
    "plotted_variable_name = 'p_x_given_n' # Tries to get the user-provided variable name, otherwise defaults to 'p_x_given_n'\n",
    "_temp_debug_two_step_plots_animated_imshow(active_one_step_decoder, active_two_step_decoder, active_computed_data.extended_stats.time_binned_position_df, variable_name=plotted_variable_name, update_callback_function=_debug_on_frame_update) # Works"
   ]
  },
  {
   "cell_type": "code",
   "execution_count": null,
   "id": "5249ee97-6127-4815-b0a9-63adc3c7b858",
   "metadata": {
    "scrolled": true
   },
   "outputs": [],
   "source": [
    "curr_display_function_name = '_display_spike_rasters_pyqtplot_2D'\n",
    "curr_active_pipeline.display(curr_display_function_name, filter_name, debug_print=False, enable_saving_to_disk=enable_saving_to_disk) "
   ]
  },
  {
   "cell_type": "code",
   "execution_count": null,
   "id": "76ecbf71-92fb-41ac-ae91-704815fa401d",
   "metadata": {
    "scrolled": true
   },
   "outputs": [],
   "source": [
    "## Works, displays my velocity/density result for both 2D and 1D:\n",
    "# out_plot_1D, out_plot_2D = curr_active_pipeline.display('_display_speed_vs_PFoverlapDensity_plots', active_config_name)\n",
    "curr_display_function_name = '_display_speed_vs_PFoverlapDensity_plots'\n",
    "plots = curr_active_pipeline.display(curr_display_function_name, filter_name)\n",
    "plots"
   ]
  },
  {
   "cell_type": "code",
   "execution_count": null,
   "id": "fbd02754-3805-4b72-ac7f-bc3840a35ffb",
   "metadata": {
    "tags": []
   },
   "outputs": [],
   "source": [
    "curr_display_function_name = '_display_placemaps_pyqtplot_2D'\n",
    "out_plots = curr_active_pipeline.display(curr_display_function_name, filter_name, max_num_columns=8)    \n",
    "out_plots[1].show()"
   ]
  },
  {
   "cell_type": "code",
   "execution_count": null,
   "id": "14d5f6ae-ed25-49fe-a0f7-3ba17b0b97c7",
   "metadata": {
    "tags": []
   },
   "outputs": [],
   "source": [
    "out_plots[1].show()"
   ]
  },
  {
   "cell_type": "code",
   "execution_count": null,
   "id": "ccf8a87e-a8b0-4154-8808-335457f05d76",
   "metadata": {
    "tags": []
   },
   "outputs": [],
   "source": [
    "out_plots[1].close()"
   ]
  },
  {
   "cell_type": "code",
   "execution_count": null,
   "id": "4d0f0334-c55b-47e3-9566-24fa03d5b6b5",
   "metadata": {
    "tags": []
   },
   "outputs": [],
   "source": [
    "## KNOWN BAD, locks up, do not execute:\n",
    "curr_display_function_name = 'display_firing_rate_trends'\n",
    "plots = curr_active_pipeline.display(curr_display_function_name, filter_name)"
   ]
  },
  {
   "cell_type": "code",
   "execution_count": null,
   "id": "92072248-64cf-4ccf-93b0-f20104cf15c2",
   "metadata": {
    "tags": []
   },
   "outputs": [],
   "source": [
    "# a_plot = plots[0] # PlotWidget \n",
    "# a_plot_item = a_plot.plotItem # PlotItem\n",
    "# a_plot.scene() # GraphicsScene\n",
    "export_pyqtgraph_plot(plots[0])"
   ]
  },
  {
   "cell_type": "markdown",
   "id": "3fcfe3c2-0531-48ca-88c9-e291377650c4",
   "metadata": {
    "tags": []
   },
   "source": [
    "### 3D (PyVista/Vedo/etc)-based plots:"
   ]
  },
  {
   "cell_type": "code",
   "execution_count": null,
   "id": "b0beb5b7-aa10-464e-a0a5-17682f66829b",
   "metadata": {
    "pycharm": {
     "is_executing": false,
     "name": "#%%\n"
    }
   },
   "outputs": [],
   "source": [
    "curr_active_pipeline.display('_display_3d_interactive_spike_and_behavior_browser', active_config_name) # this works now!"
   ]
  },
  {
   "cell_type": "code",
   "execution_count": null,
   "id": "ade9db56-3c6a-4216-ac7a-b763dfb42541",
   "metadata": {
    "pycharm": {
     "is_executing": false,
     "name": "#%%\n"
    }
   },
   "outputs": [],
   "source": [
    "display_dict = curr_active_pipeline.display('_display_3d_interactive_custom_data_explorer', active_config_name) # does not work, missing color info?\n",
    "iplapsDataExplorer = display_dict['iplapsDataExplorer']\n",
    "# plotter is available at\n",
    "p = display_dict['plotter']\n",
    "iplapsDataExplorer"
   ]
  },
  {
   "cell_type": "code",
   "execution_count": null,
   "id": "701c4ecf-15c2-4197-927f-8f1a63c7ac20",
   "metadata": {},
   "outputs": [],
   "source": [
    "# curr_kdiba_pipeline.display(DefaultDisplayFunctions._display_3d_interactive_custom_data_explorer, 'maze1') # works!\n",
    "curr_active_pipeline.display('_display_3d_interactive_tuning_curves_plotter', 'maze') # works!"
   ]
  },
  {
   "cell_type": "markdown",
   "id": "469c4171-ea23-4f0f-bcc0-a7ab3544dfbe",
   "metadata": {
    "jp-MarkdownHeadingCollapsed": true,
    "tags": []
   },
   "source": [
    "\n",
    "# 🔜👁️‍🗨️ Testing: Position Decoding:"
   ]
  },
  {
   "cell_type": "markdown",
   "id": "c545afc1-63d6-4f45-a186-5acae5b2dab3",
   "metadata": {},
   "source": [
    "<!-- % $$\\int_{a}^b f(x)dx$$ -->\n",
    "<!-- Euler's identity: $ e^{i \\pi} + 1 = 0 $ -->\n",
    "\n",
    "## One-step Bayesian Decoder:\n",
    "$$P(\\overrightarrow{x}_{t}|\\overrightarrow{n}_{t})$$\n",
    "\n",
    "$$P(\\overrightarrow{n}|\\overrightarrow{x})$$ : probability for the numbers of spikes $\\overrightarrow{n}$ to occur given we know the animal is at location $\\overrightarrow{x}$\n",
    "\n",
    "## Two-step Bayesian Decoder:\n",
    "$$P(\\overrightarrow{x}_{t}|\\overrightarrow{n}_{t}, \\overrightarrow{x}_{t-1}) = k P(\\overrightarrow{x}_{t}|\\overrightarrow{n}_{t}) P(\\overrightarrow{x}_{t-1}|\\overrightarrow{x}_{t})$$"
   ]
  },
  {
   "cell_type": "code",
   "execution_count": null,
   "id": "bb746dff-6733-4da2-99b5-7e683cd3d62c",
   "metadata": {},
   "outputs": [],
   "source": [
    "active_one_step_decoder # <BayesianPlacemapPositionDecoder: dict_keys(['time_bin_size', 'pf', 'spikes_df', 'debug_print', 'neuron_IDXs', 'neuron_IDs',\n",
    "# 'F', 'P_x', 'unit_specific_time_binned_spike_counts', 'time_window_edges', 'time_window_edges_binning_info', 'total_spike_counts_per_window', 'time_window_centers', 'time_window_center_binning_info',\n",
    "# 'flat_p_x_given_n', 'p_x_given_n', 'most_likely_position_flat_indicies', 'most_likely_position_indicies']);>\n",
    "\n",
    "# 'pf', 'spikes_df', 'neuron_IDXs', 'neuron_IDs'\n",
    "# 'time_bin_size', 'time_window_edges', 'time_window_edges', 'time_window_edges_binning_info', 'time_window_centers', 'time_window_center_binning_info'\n",
    "# 'F', 'P_x', 'unit_specific_time_binned_spike_counts', 'total_spike_counts_per_window'\n",
    "\n",
    "\n",
    "from pyphocorehelpers.print_helpers import print_value_overview_only, print_keys_if_possible, debug_dump_object_member_shapes\n",
    "\n",
    "debug_dump_object_member_shapes(active_one_step_decoder)\n",
    "# time_bin_size:\t||\tSCALAR\t||\t<class 'float'>\n",
    "# pf:\t||\tSCALAR\t||\t<class 'neuropy.analyses.placefields.PfND'>\n",
    "# spikes_df:\t||\tshape: (76405, 19)\t||\t<class 'pandas.core.frame.DataFrame'>\n",
    "# debug_print:\t||\tSCALAR\t||\t<class 'bool'>\n",
    "# neuron_IDXs:\t||\tshape: (64,)\t||\t<class 'numpy.ndarray'>\n",
    "# neuron_IDs:\t||\tshape: (64,)\t||\t<class 'list'>\n",
    "# F:\t||\tshape: (2542, 64)\t||\t<class 'numpy.ndarray'>\n",
    "# P_x:\t||\tshape: (2542, 1)\t||\t<class 'numpy.ndarray'>\n",
    "# unit_specific_time_binned_spike_counts:\t||\tshape: (64, 1297)\t||\t<class 'numpy.ndarray'>\n",
    "# time_window_edges:\t||\tshape: (1298,)\t||\t<class 'numpy.ndarray'>\n",
    "# time_window_edges_binning_info:\t||\tSCALAR\t||\t<class 'pyphocorehelpers.indexing_helpers.BinningInfo'>\n",
    "# total_spike_counts_per_window:\t||\tshape: (1297,)\t||\t<class 'numpy.ndarray'>\n",
    "# time_window_centers:\t||\tshape: (1297,)\t||\t<class 'numpy.ndarray'>\n",
    "# time_window_center_binning_info:\t||\tSCALAR\t||\t<class 'pyphocorehelpers.indexing_helpers.BinningInfo'>\n",
    "# flat_p_x_given_n:\t||\tshape: (2542, 1297)\t||\t<class 'numpy.ndarray'>\n",
    "# p_x_given_n:\t||\tshape: (41, 62, 1297)\t||\t<class 'numpy.ndarray'>\n",
    "# most_likely_position_flat_indicies:\t||\tshape: (1297,)\t||\t<class 'numpy.ndarray'>\n",
    "# most_likely_position_indicies:\t||\tshape: (2, 1297)\t||\t<class 'numpy.ndarray'>\n"
   ]
  },
  {
   "cell_type": "code",
   "execution_count": null,
   "id": "1942a3f8-1397-4090-8a20-38606bcba266",
   "metadata": {},
   "outputs": [],
   "source": [
    "print(list(active_two_step_decoder.keys())) # ['xbin', 'ybin', 'avg_speed_per_pos', 'K', 'V', 'sigma_t_all', 'flat_sigma_t_all', 'C', 'k', 'all_x', 'flat_all_x', 'original_all_x_shape', 'flat_p_x_given_n_and_x_prev', 'p_x_given_n_and_x_prev', 'most_likely_position_indicies', 'most_likely_positions', 'all_scaling_factors_k', 'most_likely_position_flat_indicies']"
   ]
  },
  {
   "cell_type": "code",
   "execution_count": null,
   "id": "e1c891c1-3041-42cb-b74b-76d3cf23d86a",
   "metadata": {},
   "outputs": [],
   "source": [
    "t = active_one_step_decoder.time_window_centers # get time window centers (n_time_window_centers,)\n",
    "t"
   ]
  },
  {
   "cell_type": "code",
   "execution_count": null,
   "id": "fa61200b-7338-409a-b1f1-a48919e3837e",
   "metadata": {},
   "outputs": [],
   "source": [
    "compute_data_aspect_ratio(active_one_step_decoder.xbin, active_one_step_decoder.ybin)"
   ]
  },
  {
   "cell_type": "code",
   "execution_count": null,
   "id": "510d7474-c998-443b-9fdd-a6e14ed0dce4",
   "metadata": {},
   "outputs": [],
   "source": [
    "last_window_index = np.searchsorted(t, 9000.0, side='left') # side='left' ensures that no future values (later than 't') are ever returned\n",
    "last_window_index"
   ]
  },
  {
   "cell_type": "code",
   "execution_count": null,
   "id": "78f1be68-bf07-4212-b94c-70d1f78dd1ec",
   "metadata": {},
   "outputs": [],
   "source": [
    "t[last_window_index]"
   ]
  },
  {
   "cell_type": "code",
   "execution_count": null,
   "id": "553d6c87-4626-4fea-bbdf-35914fe4ace5",
   "metadata": {},
   "outputs": [],
   "source": [
    "TimeSynchronizedPositionDecoderPlotter"
   ]
  },
  {
   "cell_type": "code",
   "execution_count": null,
   "id": "05d34612-9cf8-4999-9db0-61ed617ed9e0",
   "metadata": {},
   "outputs": [],
   "source": [
    "# unit_specific_time_binned_spike_counts # (n_neurons, n_time_window_centers)\n",
    "# total_spike_counts_per_window # (n_time_window_centers,)\n",
    "# F (n_flattened_x_bins, n_neurons)\n",
    "# flat_p_x_given_n # (n_flattened_x_bins, n_time_window_centers)\n",
    "# p_x_given_n # (41, 63, n_time_window_centers) ## PRIMARY OUTPUT of one_step_decoder\n",
    "p_x_given_n = active_one_step_decoder.p_x_given_n.copy()"
   ]
  },
  {
   "cell_type": "code",
   "execution_count": null,
   "id": "ab245b01-3a31-4077-9d09-388d9e4c9406",
   "metadata": {},
   "outputs": [],
   "source": []
  },
  {
   "cell_type": "code",
   "execution_count": null,
   "id": "4c2f0cee-e796-45ea-9ab9-2b4304ca78dd",
   "metadata": {},
   "outputs": [],
   "source": [
    "## This plot looks phenominal, and the slider works!\n",
    "curr_active_pipeline.display('_display_two_step_decoder_prediction_error_2D', active_config_name, variable_name='p_x_given_n') # works!"
   ]
  },
  {
   "cell_type": "markdown",
   "id": "93be34e2-9062-4e08-bedb-0d7ec4ceca9c",
   "metadata": {},
   "source": [
    "## PyQtPlot Exploration"
   ]
  },
  {
   "cell_type": "code",
   "execution_count": null,
   "id": "d50024a2-484f-4144-a998-9588eec784dd",
   "metadata": {},
   "outputs": [],
   "source": [
    "from pyphoplacecellanalysis.GUI.PyQtPlot.pyqtplot_basic import pyqtplot_common_setup\n",
    "from pyphoplacecellanalysis.GUI.Qt.Mixins.PhoMainAppWindowBase import PhoMainAppWindowBase\n",
    "from pyphoplacecellanalysis.Pho2D.PyQtPlots.plot_placefields import _pyqtplot_build_image_bounds_extent\n",
    "\n",
    "app, win, imv = pyqtplot_plot_time_dependent_image(active_one_step_decoder.xbin, active_one_step_decoder.ybin, active_one_step_decoder.time_window_centers, active_one_step_decoder.p_x_given_n.copy())\n",
    "win.show()"
   ]
  },
  {
   "cell_type": "code",
   "execution_count": null,
   "id": "dd799456-c889-481c-a217-bfb4609123c6",
   "metadata": {},
   "outputs": [],
   "source": []
  },
  {
   "cell_type": "code",
   "execution_count": null,
   "id": "d9a03947-f66f-44de-87fb-797410474d23",
   "metadata": {},
   "outputs": [],
   "source": [
    "from pyphoplacecellanalysis.Pho2D.PyQtPlots.plot_placefields import pyqtplot_plot_image_array, pyqtplot_plot_image\n",
    "app, win, imv = pyqtplot_plot_image(active_one_step_decoder.xbin, active_one_step_decoder.ybin, active_one_step_decoder.p_x_given_n.copy())\n",
    "win.show()"
   ]
  },
  {
   "cell_type": "code",
   "execution_count": null,
   "id": "ceaa72f8-fc5e-4f19-9d37-40d81b31d9b2",
   "metadata": {},
   "outputs": [],
   "source": [
    "from pyphoplacecellanalysis.Pho2D.PyQtPlots.plot_placefields import pyqtplot_plot_image_array, pyqtplot_plot_image\n",
    "\n",
    "# test single image plot:\n",
    "curr_im = np.squeeze(active_one_step_decoder.ratemap.normalized_tuning_curves[0,:,:].T) # (43, 63, 63)\n",
    "app, win, imv = pyqtplot_plot_image(active_one_step_decoder.xbin, active_one_step_decoder.ybin, curr_im)\n",
    "win.show()"
   ]
  },
  {
   "cell_type": "markdown",
   "id": "d94ac6af-9c53-4d2d-9b3e-32a939acb346",
   "metadata": {
    "jp-MarkdownHeadingCollapsed": true,
    "tags": []
   },
   "source": [
    "## Placefield Overlap Detection:"
   ]
  },
  {
   "cell_type": "code",
   "execution_count": null,
   "id": "bd695e68-fdb2-4994-aaed-98b38327698a",
   "metadata": {},
   "outputs": [],
   "source": [
    "# Test Placefield Overlap Detection:\n",
    "def compute_placefield_overlap(pf):\n",
    "    return np.squeeze(np.prod(pf, axis=0))\n",
    "\n",
    "\n",
    "active_pf_overlap_results = curr_active_pipeline.computation_results[active_config_name].computed_data['placefield_overlap']\n",
    "all_pairwise_neuron_IDs_combinations = active_pf_overlap_results['all_pairwise_neuron_IDs_combinations']\n",
    "total_pairwise_overlaps = active_pf_overlap_results['total_pairwise_overlaps']\n",
    "all_pairwise_overlaps = active_pf_overlap_results['all_pairwise_overlaps']\n",
    "\n",
    "print_keys_if_possible('active_pf_overlap_results', active_pf_overlap_results)"
   ]
  },
  {
   "cell_type": "code",
   "execution_count": null,
   "id": "503eefc7-973b-47ef-b39d-3e200f4753bf",
   "metadata": {},
   "outputs": [],
   "source": [
    "# active_placefield_overlap\n",
    "# total_pairwise_overlaps\n",
    "# all_pairwise_overlaps\n",
    "\n",
    "\n",
    "# top_pairwise_overlaps = all_pairwise_overlaps[0:9,:,:]\n",
    "\n",
    "top_pairwise_overlaps = np.squeeze(all_pairwise_overlaps[2,:,:])\n",
    "\n",
    "from pyphoplacecellanalysis.GUI.PyQtPlot.pyqtplot_Matrix import MatrixRenderingWindow\n",
    "print(f'np.shape(top_pairwise_overlaps): {np.shape(top_pairwise_overlaps)}')\n",
    "pg.mkQApp(\"Correlation matrix display\")\n",
    "main_window = MatrixRenderingWindow(matrix=top_pairwise_overlaps, columns=[f'{i}' for i in np.arange(np.shape(top_pairwise_overlaps)[-1])])\n",
    "\n",
    "# compute_placefield_overlap(active_one_step_decoder.pf.ratemap.normalized_tuning_curves)"
   ]
  },
  {
   "cell_type": "markdown",
   "id": "956ba612-a388-4927-bffa-d2914ad63d3d",
   "metadata": {
    "tags": []
   },
   "source": [
    "# Pho Scratch Workspace"
   ]
  },
  {
   "cell_type": "markdown",
   "id": "906620ba-f022-4f7b-9ff4-10ebad786ca6",
   "metadata": {
    "jp-MarkdownHeadingCollapsed": true,
    "tags": []
   },
   "source": [
    "## Working firing rates fresh from spikes_df"
   ]
  },
  {
   "cell_type": "code",
   "execution_count": null,
   "id": "4aca2fa8-26b6-4ae3-900a-8c28ca8c6274",
   "metadata": {},
   "outputs": [],
   "source": [
    "print(f'time_bin_size_seconds: {time_bin_size_seconds}')\n",
    "\n",
    "active_filter_name = 'maze1'\n",
    "active_spikes_df = curr_active_pipeline.filtered_sessions[active_filter_name].spikes_df.copy()\n",
    "print(f'active_filter_name: {active_filter_name}')\n",
    "unit_specific_binned_spike_rate, max_spike_rates, time_window_edges, time_window_edges_binning_info = simple_time_binned_firing_rates(active_spikes_df)\n",
    "print(f'\\tmax_spike_rates: {max_spike_rates.to_numpy()}')"
   ]
  },
  {
   "cell_type": "code",
   "execution_count": null,
   "id": "a612ad94-d833-4fa4-8b16-e8d5e2d61619",
   "metadata": {},
   "outputs": [],
   "source": [
    "active_filter_name = 'maze2'\n",
    "active_spikes_df = curr_active_pipeline.filtered_sessions[active_filter_name].spikes_df.copy()\n",
    "print(f'active_filter_name: {active_filter_name}')\n",
    "unit_specific_binned_spike_rate, max_spike_rates, time_window_edges, time_window_edges_binning_info = simple_time_binned_firing_rates(active_spikes_df)\n",
    "print(f'\\tmax_spike_rates: {max_spike_rates.to_numpy()}')"
   ]
  },
  {
   "cell_type": "code",
   "execution_count": null,
   "id": "f9070046-1a19-424a-8b9d-05f9e3e44066",
   "metadata": {},
   "outputs": [],
   "source": [
    "active_filter_name = 'maze'\n",
    "active_spikes_df = curr_active_pipeline.filtered_sessions[active_filter_name].spikes_df.copy()\n",
    "print(f'active_filter_name: {active_filter_name}')\n",
    "unit_specific_binned_spike_rate, max_spike_rates, time_window_edges, time_window_edges_binning_info = simple_time_binned_firing_rates(active_spikes_df)\n",
    "print(f'\\tmax_spike_rates: {max_spike_rates.to_numpy()}')"
   ]
  },
  {
   "cell_type": "markdown",
   "id": "b3beb83c-bbc8-41e7-8ce3-5b36ae7da5dc",
   "metadata": {},
   "source": [
    "KDiba Data:\n",
    "time_bin_size_seconds: 0.5\n",
    "active_filter_name: maze1\n",
    "\tmax_spike_rates: [28 30 32 24 34 16 36 26 22 36 32 30 88 60 28 26 40 40 26 44 36 26 38 14 22 24 10 22 40 24 24 26 18 48 40 14 38 20 48 44]\n",
    "active_filter_name: maze2\n",
    "\tmax_spike_rates: [6 10 8 18 30 6 18 14 12 14 24 4 10 48 24 12 6 16 16 16 32 26 14 10 14 10 6 12 30 12 4 16 22 18 20 4 10 6 36 24]\n",
    "active_filter_name: maze\n",
    "\tmax_spike_rates: [28 30 32 24 34 16 36 26 22 36 32 30 88 60 28 26 40 40 26 44 36 32 38 14 22 24 10 22 40 24 24 26 20 48 40 14 38 20 48 44]\n"
   ]
  },
  {
   "cell_type": "code",
   "execution_count": null,
   "id": "4255db2b-2371-456d-81d2-d0523f4baf2b",
   "metadata": {},
   "outputs": [],
   "source": [
    "unit_specific_binned_spike_counts"
   ]
  },
  {
   "cell_type": "markdown",
   "id": "3ade57d9-0761-4c29-a9f3-159de108134d",
   "metadata": {},
   "source": [
    "time_bin_size_seconds: 0.25\n",
    "\tmax_spike_rates: [36 36 36 36 60 20 40 48 40 48 40 44 100 92 36 32 80 52 32 48 52 36 68 24 44 36 16 32 44 36 48 36 36 52 48 28 40 24 72 52]\n",
    "\n",
    "time_bin_size_seconds: 0.5\n",
    "\tmax_spike_rates: [28 30 32 24 34 16 36 26 22 36 32 30 88 60 28 26 40 40 26 44 36 26 38 14 22 24 10 22 40 24 24 26 18 48 40 14 38 20 48 44]\n",
    "    \n",
    "time_bin_size_seconds: 1.0\n",
    "\tmax_spike_rates: [16 21 18 17 22 12 22 18 16 25 25 25 65 48 19 20 30 32 20 30 24 21 26 8 11 17 5 14 30 14 17 25 11 30 26 11 27 10 37 38]\n",
    "\n",
    "time_bin_size_seconds: 10.0\n",
    "\tmax_spike_rates: # array([3.6, 5.6, 2.5, 6.2, 7.2, 2.3, 7.4, 4.8, 3.3, 5.2, 15.3, 4.3, 21.8, 12.4, 7.5, 5.4, 4.8, 4.3, 4.9, 6, 9.5, 7.7, 2.6, 2.3, 4.1, 2.8, 1.3, 5.1, 11.5, 5.1, 3.2, 9.4, 3.7, 8.8, 9.7, 2.9, 5.2, 1.7, 12, 5.9])\n",
    "    # Filtered pf only spikes: array([2.6, 3.9, 2, 3.6, 3.8, 1.3, 3.7, 1.8, 2, 2.6, 2.3, 1.4, 5.7, 6.1, 3.1, 2.7, 4.9, 3.3, 3.9, 3.3, 5.9, 2.7, 2.6, 1.4, 1.4, 2.9, 1, 2.3, 5.4, 2.4, 0.9, 3.6, 1.4, 4.5, 3.4, 0.8, 2.8, 1.1, 2.6, 4.9])"
   ]
  },
  {
   "cell_type": "code",
   "execution_count": null,
   "id": "9da6709d-07a5-441f-8380-fae8e7de2b3e",
   "metadata": {},
   "outputs": [],
   "source": [
    "# active_computation_results[filter_name]\n",
    "active_firing_rate_trends = active_computed_data['firing_rate_trends']\n",
    "active_firing_rate_trends.keys() # ['active_rolling_window_times', 'mean_firing_rates', 'desired_window_length_seconds', 'desired_window_length_bins', 'active_firing_rates_df', 'moving_mean_firing_rates_df']"
   ]
  },
  {
   "cell_type": "code",
   "execution_count": null,
   "id": "9c1bbd85-7b2b-482d-a18d-1f0f707b2bfe",
   "metadata": {},
   "outputs": [],
   "source": [
    "moving_mean_firing_rates_df = active_firing_rate_trends['moving_mean_firing_rates_df']\n",
    "moving_mean_firing_rates_df"
   ]
  },
  {
   "cell_type": "markdown",
   "id": "e0ccae49-e366-4dae-bf34-f3e4a1a0968b",
   "metadata": {
    "jp-MarkdownHeadingCollapsed": true,
    "tags": []
   },
   "source": [
    "## New 2022-07-31 Firing Rate Across-Session Printing with explicit time binning"
   ]
  },
  {
   "cell_type": "code",
   "execution_count": null,
   "id": "2f3ca698-606e-450e-9414-f1462960f12a",
   "metadata": {},
   "outputs": [],
   "source": [
    "from pyphocorehelpers.general_helpers import CodeConversion, inspect_callable_arguments\n",
    "from pyphocorehelpers.print_helpers import document_active_variables, print_keys_if_possible"
   ]
  },
  {
   "cell_type": "code",
   "execution_count": null,
   "id": "9872383b-c592-40d0-87da-f96b6b3dcfb0",
   "metadata": {},
   "outputs": [],
   "source": [
    "# print_keys_if_possible('active_firing_rate_trends', active_firing_rate_trends, additional_excluded_item_classes=['pandas.core.series.Series'])\n",
    "print_keys_if_possible('active_firing_rate_trends', active_firing_rate_trends)"
   ]
  },
  {
   "cell_type": "code",
   "execution_count": null,
   "id": "263000e9-c219-4466-b340-1a80da6f499f",
   "metadata": {},
   "outputs": [],
   "source": [
    "### Reformat long class strings to suscint class names:\n",
    "import re ## required for strip_type_str_to_classname(...)\n",
    "\n",
    "def _format_curr_value(depth_string, curr_key, type_string, type_name):\n",
    "    return f\"{depth_string}['{curr_key}']: {type_name}\"\n",
    "        \n",
    "print_keys_if_possible('active_firing_rate_trends', active_firing_rate_trends, custom_item_formatter=_format_curr_value)"
   ]
  },
  {
   "cell_type": "code",
   "execution_count": null,
   "id": "27be304d-782a-4f23-85e7-82197b462574",
   "metadata": {},
   "outputs": [],
   "source": [
    "document_active_variables(active_firing_rate_trends, enable_print=True)"
   ]
  },
  {
   "cell_type": "code",
   "execution_count": null,
   "id": "98a36da3-730a-43d0-808b-8b4ac2c5d4bf",
   "metadata": {},
   "outputs": [],
   "source": [
    "active_firing_rate_trends = curr_active_pipeline.computation_results[active_config_name].computed_data.get('firing_rate_trends', None)"
   ]
  },
  {
   "cell_type": "code",
   "execution_count": null,
   "id": "44fc3383-f07e-4d56-b4e3-43e1a388bb68",
   "metadata": {},
   "outputs": [],
   "source": [
    "from pyphoplacecellanalysis.General.Mixins.DisplayHelpers import _print_active_firing_rate_trends_result_overview\n",
    "\n",
    "debug_print_active_firing_rate_trends_result_overview(active_firing_rate_trends)"
   ]
  },
  {
   "cell_type": "code",
   "execution_count": null,
   "id": "46a16a5b-5c10-464d-9976-f57d2e11b783",
   "metadata": {},
   "outputs": [],
   "source": [
    "computation_result_names = list(curr_active_pipeline.computation_results.keys()) # ['maze1', 'maze2']\n",
    "for a_result_name, a_computation_result in curr_active_pipeline.computation_results.items():\n",
    "    print(f'>> {a_result_name}') ## e.g. 'maze1'\n",
    "    active_firing_rate_trends = a_computation_result.computed_data.get('firing_rate_trends', None)\n",
    "    _print_active_firing_rate_trends_result_overview(active_firing_rate_trends)\n",
    "\n",
    "\n",
    "# def across_epoch_computation_function(computation_results):\n",
    "#     \"\"\" an example of a function that operates across all computation_results. Computed after all computations are complete. \"\"\"\n"
   ]
  },
  {
   "cell_type": "markdown",
   "id": "6bdb4bac-056c-418e-a2bb-a4c2f2f7b85a",
   "metadata": {
    "tags": []
   },
   "source": [
    "## Compute the firing rates in the windows corresponding to the sampling rate of the position bins, or better yet for the entire duration spent in a single position bin (splitting on bin-index changes"
   ]
  },
  {
   "cell_type": "code",
   "execution_count": null,
   "id": "92b1e85c-ad46-498d-b868-7697330b3e9a",
   "metadata": {},
   "outputs": [],
   "source": [
    "from neuropy.utils.mixins.binning_helpers import build_df_discretized_binned_position_columns\n",
    "active_pf_2D.filtered_spikes_df, (xbin, ybin), bin_info = build_df_discretized_binned_position_columns(active_pf_2D.filtered_spikes_df.copy(), bin_values=(active_pf_2D.xbin, active_pf_2D.ybin), active_computation_config=active_computation_config, force_recompute=False, debug_print=False)\n",
    "bin_info['mode'] = active_pf_2D.bin_info['mode'] # get the original mode used to compute the bins\n",
    "active_pf_2D.bin_info = bin_info # replace the bin_info with the updated version\n",
    "# active_pf_2D.filtered_spikes_df"
   ]
  },
  {
   "cell_type": "code",
   "execution_count": null,
   "id": "f624acea-07ed-4f39-9610-c2608240fe36",
   "metadata": {},
   "outputs": [],
   "source": [
    "# sess.spikes_df # no 'binned_x' column\n",
    "active_pf_2D.filtered_spikes_df"
   ]
  },
  {
   "cell_type": "code",
   "execution_count": null,
   "id": "1c0df89f-1c6b-4343-a6fd-db40a491108e",
   "metadata": {},
   "outputs": [],
   "source": [
    "#### Need to compute the best-known transition times between position bins for all spikes as not to truncate the starts/ends of the bins (which would happen if doing a single cell at a time)\n",
    "# active_df.binned_x\n",
    "active_df['_binned_x_transitions'] = active_df['binned_x'].diff()\n",
    "active_df_filtered_binned_x_transitions_only = active_df[active_df['_binned_x_transitions'] != 0] # get only the transition points (for binned_x)\n",
    "active_df_filtered_binned_x_transitions_only\n",
    "\n",
    "active_df_filtered_binned_x_transitions_only = active_df_filtered_binned_x_transitions_only[['t_rel_seconds', 'binned_x']]\n",
    "# Get durations spent in the bin:\n",
    "active_df_filtered_binned_x_transitions_only['bin_occupied_duration'] = active_df_filtered_binned_x_transitions_only['t_rel_seconds'].diff() # How long the animal spent in this bin before transitioning (along its axis)\n",
    "active_df_filtered_binned_x_transitions_only\n"
   ]
  },
  {
   "cell_type": "code",
   "execution_count": null,
   "id": "79e719f7-199a-4f0b-abb1-9426771afb3b",
   "metadata": {},
   "outputs": [],
   "source": [
    "transition_start_spike_index = active_df_filtered_binned_x_transitions_only.index\n",
    "transition_end_spike_index = transition_start_spike_index - 1 # the end of each occurs at the time of the previous one"
   ]
  },
  {
   "cell_type": "code",
   "execution_count": null,
   "id": "93538d28-dd33-4f70-964d-d0b1e2eed0e6",
   "metadata": {},
   "outputs": [],
   "source": [
    "#### In general, for each neuron, get the spikes that occured during each bin_occupation_event 'i' (from t_rel_seconds[i] to (t_rel_seconds[i] + bin_occupied_duration[i])) and divide by the bin_occupied_duration[i]\n",
    "# This will give the bin_occupation_event's spike_rate for each neuron which we can filter on (to find the neuron's that fire > 1Hz for this bin_occupation_event)\n",
    "\n",
    "\"\"\"\n",
    "Along a given axis (x or y), an animal occupies a single bin at each time given by (binned_x or binned_y). \n",
    "When the animal changes bins and a transition occurs along a given axis, it is said to terminate the occupation of the previous bin and start the occupation of the new bin.\n",
    "\n",
    "These (start_t, bin_occupied_duration, binned_x) tuples denote a unique event, termed a `bin_occupation_event`.\n",
    "\n",
    "Within a given bin_occupation_event each neuron has an instantaneous bin firing rate given by: (number of spikes it fired during the event) / bin_occupied_duration\n",
    "\n",
    "\"\"\""
   ]
  },
  {
   "cell_type": "markdown",
   "id": "188d6f5f-d947-4f08-8822-49a9c9082e12",
   "metadata": {
    "jp-MarkdownHeadingCollapsed": true,
    "tags": []
   },
   "source": [
    "## Change to simplier non-time-dependent version:"
   ]
  },
  {
   "cell_type": "code",
   "execution_count": null,
   "id": "186ad30e-0bd1-4ea2-a466-1733afb6467a",
   "metadata": {},
   "outputs": [],
   "source": [
    "# Plot from the active_simpler_pf_densities_analysis\n",
    "out_app, out_win, out_imageView = pyqtplot_plot_image(active_pf_2D_dt.xbin_labels, active_pf_2D_dt.ybin_labels, active_simpler_pf_densities_analysis.n_neurons_meeting_firing_critiera_by_position_bins_2D)"
   ]
  },
  {
   "cell_type": "code",
   "execution_count": null,
   "id": "dc13c704-bb9f-4e78-8df5-5c036bc90282",
   "metadata": {},
   "outputs": [],
   "source": [
    "# out = BinnedImageRenderingWindow(active_pf_2D_dt.curr_firing_maps_matrix, active_pf_2D_dt.xbin_labels, active_pf_2D_dt.ybin_labels)\n",
    "out = BasicBinnedImageRenderingWindow(active_pf_2D_dt.curr_firing_maps_matrix, active_pf_2D_dt.xbin_labels, active_pf_2D_dt.ybin_labels)\n",
    "# pyqtplot_plot_image(active_pf_2D_dt.xbin_labels, active_pf_2D_dt.ybin_labels, active_pf_2D_dt.curr_firing_maps_matrix)"
   ]
  },
  {
   "cell_type": "code",
   "execution_count": null,
   "id": "4640c635-505b-4260-873e-2a74750949c4",
   "metadata": {},
   "outputs": [],
   "source": [
    "# Compute the updated counts:\n",
    "current_spike_per_unit_per_bin_counts = active_df.value_counts(subset=['fragile_linear_neuron_IDX', 'binned_x', 'binned_y'], normalize=False, sort=False, ascending=True, dropna=True) # dropna=True\n",
    "current_spike_per_unit_per_bin_counts # pandas.core.series.Series"
   ]
  },
  {
   "cell_type": "code",
   "execution_count": null,
   "id": "1827525d-84aa-49ca-b6f5-833a8b60b0db",
   "metadata": {},
   "outputs": [],
   "source": [
    "type(current_spike_per_unit_per_bin_counts) # pandas.core.series.Series\n",
    "# current_spike_per_unit_per_bin_counts[0]\n",
    "\n",
    "pd.DataFrame(current_spike_per_unit_per_bin_counts)"
   ]
  },
  {
   "cell_type": "code",
   "execution_count": null,
   "id": "3a9c5ac1-7d8d-4b22-b23b-13834535e62c",
   "metadata": {},
   "outputs": [],
   "source": [
    "debug_print = True\n",
    "for (fragile_linear_neuron_IDX, xbin_label, ybin_label), count in current_spike_per_unit_per_bin_counts.iteritems():\n",
    "    if debug_print:\n",
    "        print(f'fragile_linear_neuron_IDX: {fragile_linear_neuron_IDX}, xbin_label: {xbin_label}, ybin_label: {ybin_label}, count: {count}')\n",
    "    try:\n",
    "        last_firing_maps_matrix[fragile_linear_neuron_IDX, xbin_label-1, ybin_label-1] += count\n",
    "    except IndexError as e:\n",
    "        print(f'e: {e}\\n active_current_spike_df: {np.shape(active_current_spike_df)}, current_spike_per_unit_per_bin_counts: {np.shape(current_spike_per_unit_per_bin_counts)}\\n last_firing_maps_matrix: {np.shape(last_firing_maps_matrix)}\\n count: {count}')\n",
    "        print(f' last_firing_maps_matrix[fragile_linear_neuron_IDX: {fragile_linear_neuron_IDX}, (xbin_label-1): {xbin_label-1}, (ybin_label-1): {ybin_label-1}] += count: {count}')\n",
    "        raise e\n",
    "        "
   ]
  },
  {
   "cell_type": "code",
   "execution_count": null,
   "id": "887c0848-4672-409d-af60-d110e96b92a4",
   "metadata": {},
   "outputs": [],
   "source": [
    "## Now want it arranged by-bin instead of by-neuron:\n",
    "\n",
    "\n",
    "## LATER: Also need to collapse over all binned_y for each binned_x (marginalize) - I think"
   ]
  },
  {
   "cell_type": "markdown",
   "id": "d6f4a4e8-4ffc-4f8b-85f9-e0e98bc309e2",
   "metadata": {
    "jp-MarkdownHeadingCollapsed": true,
    "tags": []
   },
   "source": [
    "## Get 2D Heatmaps of Velocity and Occupancy working:\n",
    "NOTE: This works great, and is the best figure for overall Eloy pf_Density/velocity analyeses."
   ]
  },
  {
   "cell_type": "code",
   "execution_count": null,
   "id": "bb049fc0-6fd7-40de-80b3-b74576db9cda",
   "metadata": {},
   "outputs": [],
   "source": [
    "from PendingNotebookCode import display_all_eloy_pf_density_measures_results\n",
    "    \n",
    "out_all_eloy_pf_density_fig = display_all_eloy_pf_density_measures_results(active_pf_2D, active_eloy_analysis, active_simpler_pf_densities_analysis, active_peak_prominence_2d_results)"
   ]
  },
  {
   "cell_type": "code",
   "execution_count": null,
   "id": "81e89336-3cb6-48a1-819b-18018b528172",
   "metadata": {},
   "outputs": [],
   "source": [
    "out_all_eloy_pf_density_fig.close()"
   ]
  },
  {
   "cell_type": "markdown",
   "id": "24d12a65-a8d5-43ed-aab5-d6f143fbde58",
   "metadata": {
    "jp-MarkdownHeadingCollapsed": true,
    "tags": []
   },
   "source": [
    "## Test getting prominences with peak_prominence2d"
   ]
  },
  {
   "cell_type": "code",
   "execution_count": null,
   "id": "06220324-167f-4817-a520-d9204abdb5e5",
   "metadata": {
    "scrolled": true,
    "tags": []
   },
   "outputs": [],
   "source": [
    "curr_display_function_name = '_display_pf_peak_prominence2d_default_quadrant_plots'\n",
    "out_figs, out_axes, out_idxs = curr_active_pipeline.display(curr_display_function_name, active_config_name) "
   ]
  },
  {
   "cell_type": "code",
   "execution_count": null,
   "id": "d171d2cc-3554-400f-a18b-c37448f8f450",
   "metadata": {
    "scrolled": true,
    "tags": []
   },
   "outputs": [],
   "source": [
    "curr_display_function_name = 'plot_Prominence'\n",
    "built_pdf_metadata, curr_pdf_save_path = _build_pdf_pages_output_info(curr_display_function_name)\n",
    "with backend_pdf.PdfPages(curr_pdf_save_path, keep_empty=False, metadata=built_pdf_metadata) as pdf:\n",
    "    for an_idx, a_fig in zip(active_peak_prominence_2d_results.neuron_extended_ids, out_figs):\n",
    "        a_fig.suptitle(f'neuron: {an_idx.id}', fontsize=16)\n",
    "        pdf.savefig(a_fig)"
   ]
  },
  {
   "cell_type": "code",
   "execution_count": null,
   "id": "0c0931b4-c50e-4238-a934-35a1c71fa71f",
   "metadata": {
    "scrolled": true,
    "tags": []
   },
   "outputs": [],
   "source": [
    "curr_display_function_name = '_display_pf_peak_prominence2d_plots'\n",
    "figure, ax = curr_active_pipeline.display(curr_display_function_name, active_config_name, neuron_id=2) "
   ]
  },
  {
   "cell_type": "markdown",
   "id": "115ecb17-a0d2-44d1-9797-ef342c84e74c",
   "metadata": {
    "jp-MarkdownHeadingCollapsed": true,
    "tags": []
   },
   "source": [
    "# Quantitatively Analyzing the prominence computation results\n",
    "For a single neuron:\n",
    "Care about:\n",
    " - Pf Num of Peaks: expresses whether a cell responds selectively to a single location, is bi-modal, tri-modal, etc.\n",
    " - Peak Locations: (to determine the number of peaks per bin or region)\n",
    " - Peak Prominences/Relative heights\n",
    "   Pf Sizes: defined by our bounding boxes\n",
    "   Stability??\n",
    "\n",
    "QuantPeakResult"
   ]
  },
  {
   "cell_type": "code",
   "execution_count": null,
   "id": "10e0ca25-4ba8-4327-9d18-5b420648cb28",
   "metadata": {},
   "outputs": [],
   "source": [
    "list(active_peak_prominence_2d_results.keys())\n",
    "active_peak_prominence_2d_results.filtered_flat_peaks_df.columns # ['neuron_id', 'neuron_peak_firing_rate', 'summit_idx', 'summit_slice_idx', 'slice_level_multiplier', 'summit_slice_level', 'peak_relative_height', 'peak_prominence', 'peak_center_x', 'peak_center_y', 'summit_slice_x_width', 'summit_slice_y_width', 'summit_slice_center_x', 'summit_slice_center_y', 'peak_height', 'peak_center_binned_x', 'peak_center_binned_y', 'peak_center_avg_speed', 'peak_nearest_directional_boundary_bins', 'peak_nearest_directional_boundary_displacements', 'peak_nearest_directional_boundary_distances', 'nearest_directional_boundary_direction_idx', 'nearest_directional_boundary_direction_distance', 'nearest_x_boundary_distance', 'nearest_y_boundary_distance']"
   ]
  },
  {
   "cell_type": "markdown",
   "id": "c9607cb7-30e8-4d82-bfe2-c07693871572",
   "metadata": {
    "jp-MarkdownHeadingCollapsed": true,
    "tags": []
   },
   "source": [
    "### Test distance to boundary by computing the distance to the nearest never-occupied bin"
   ]
  },
  {
   "cell_type": "code",
   "execution_count": null,
   "id": "fa1c106e-4dee-4ba1-a29c-ce4324fe73f6",
   "metadata": {},
   "outputs": [],
   "source": [
    "# active_peak_prominence_2d_results.filtered_flat_peaks_df\n",
    "# active_eloy_analysis.avg_2D_speed_per_pos\n",
    "# active_peak_prominence_2d_results.filtered_flat_peaks_df\n",
    "subfiltered_peaks_df = active_peak_prominence_2d_results.filtered_flat_peaks_df[active_peak_prominence_2d_results.filtered_flat_peaks_df['summit_idx']==1].copy()\n",
    "subfiltered_peaks_df"
   ]
  },
  {
   "cell_type": "code",
   "execution_count": null,
   "id": "5b6d3bf5-f91f-492b-b05d-6fa339dbb869",
   "metadata": {},
   "outputs": [],
   "source": [
    "# # correlated with 'summit_slice_x_width', 'summit_slice_y_width'\n",
    "x_distances = subfiltered_peaks_df['nearest_x_boundary_distance'].values # find the distance to nearest wall vertically\n",
    "y_distances = subfiltered_peaks_df['nearest_y_boundary_distance'].values # find the distance to nearest wall horizontally\n",
    "x_widths = subfiltered_peaks_df['summit_slice_x_width'].values\n",
    "y_widths = subfiltered_peaks_df['summit_slice_y_width'].values\n",
    "# Convert the pf widths in cm to fractional number of bins\"\n",
    "x_width_num_bins = x_widths / float(active_pf_2D.bin_info['xstep'])\n",
    "y_width_num_bins = y_widths / float(active_pf_2D.bin_info['ystep'])\n",
    "\n",
    "peak_center_xy_points_pos_list = subfiltered_peaks_df[['peak_center_x', 'peak_center_y']].values\n",
    "slice_center_xy_points_pos_list = subfiltered_peaks_df[['summit_slice_center_x', 'summit_slice_center_y']].values\n",
    "slice_center_xy_points_pos_list.shape # (40, 2)\n",
    "\n",
    "peak_aclu = subfiltered_peaks_df.neuron_id.values"
   ]
  },
  {
   "cell_type": "code",
   "execution_count": null,
   "id": "a6adc4b9-b850-4253-98bc-6be9c24dbc71",
   "metadata": {},
   "outputs": [],
   "source": [
    "import matplotlib.pyplot as plt\n",
    "\n",
    "## Plots for analyzing the distance from ends of maze:\n",
    "fig, ax = plt.subplots(num=10, clear=True)\n",
    "im = ax.scatter(x_distances, x_width_num_bins)\n",
    "im2 = ax.scatter(x_distances, y_width_num_bins, c='r')\n",
    "lgd = ax.legend(['x_size', 'y_size'])\n",
    "ax.set_xlabel('distance from nearest x boundary [# bins]')\n",
    "ax.set_ylabel('placefield width [# bins]')\n",
    "fig.show()"
   ]
  },
  {
   "cell_type": "code",
   "execution_count": null,
   "id": "03ea421c-f6a3-4bd7-b81c-54dba18b7749",
   "metadata": {},
   "outputs": [],
   "source": [
    "## Plots for analyzing the distance from sides of track\n",
    "fig, ax = plt.subplots(num=11, clear=True)\n",
    "im = ax.scatter(y_distances, x_width_num_bins)\n",
    "im2 = ax.scatter(y_distances, y_width_num_bins, c='r')\n",
    "lgd = ax.legend(['x_size', 'y_size'])\n",
    "ax.set_xlabel('distance from nearest y boundary [# bins]')\n",
    "ax.set_ylabel('placefield width [# bins]')\n",
    "fig.show()"
   ]
  },
  {
   "cell_type": "markdown",
   "id": "759e7c3c-d7cd-44e6-bad9-84eb10d8c549",
   "metadata": {
    "tags": []
   },
   "source": [
    "## Render a figure to display the computed distances and their relations to the widths:"
   ]
  },
  {
   "cell_type": "markdown",
   "id": "55f8fc02-1bdc-4c50-b538-c64c7205ed02",
   "metadata": {
    "tags": []
   },
   "source": [
    "### Trying to add annotations to the normal 2D MATPLOTLIB heatmaps with `annotate` command:"
   ]
  },
  {
   "cell_type": "code",
   "execution_count": null,
   "id": "963a6bf2-d6e9-4157-a00a-ce351251cf54",
   "metadata": {},
   "outputs": [],
   "source": [
    "## NEW DICT FORMAT:\n",
    "# 1 point for each neuron_id:\n",
    "peaks_overlay_points_data_dict = {aclu:dict(is_enabled=True, points_data=peak_center_xy_points_pos_list[aclu == peak_aclu,:], plot_opts={'markersize': 22, 'marker': '*', 'markeredgecolor': 'grey', 'linestyle': 'none', 'markerfacecolor': 'white', 'alpha': 0.85, 'label': 'peaks_overlay_points'},\n",
    "                                                                             scatter_opts={'s': 22, 'c': 'white', 'alpha': 0.85, 'marker': '*', 'label': 'peaks_overlay_sc'}, plots={}) for aclu in peak_aclu} # active_pf_2D.included_neuron_IDs\n",
    "slice_center_overlay_points_data_dict = {aclu:dict(is_enabled=True, points_data=slice_center_xy_points_pos_list[aclu == peak_aclu,:], plot_opts={'markersize': 20, 'marker': '^', 'markeredgecolor': 'grey', 'linestyle': 'none', 'markerfacecolor': 'white', 'alpha': 0.8, 'label': 'slice_center_overlay_points'},\n",
    "                                                                             scatter_opts={'s': 20, 'c': 'white', 'alpha': 0.8, 'marker': '^', 'label': 'slice_center_overlay_sc'}, plots={}) for aclu in peak_aclu} # active_pf_2D.included_neuron_IDs\n",
    "\n",
    "extended_overlay_points_datasource_dicts = {'peaks_overlay_points': peaks_overlay_points_data_dict, 'slice_center_overlay_points': slice_center_overlay_points_data_dict}\n",
    "\n",
    "# filter_name = 'maze1'\n",
    "figure_format_config['enable_saving_to_disk'] = False\n",
    "# curr_active_pipeline.display('_display_2d_placefield_result_plot_ratemaps_2D', filter_name, plot_variable=enumTuningMap2DPlotVariables.SPIKES_MAPS, fignum=plots_fig_nums_dict[filter_name][0], **figure_format_config) # works!\n",
    "curr_active_pipeline.display('_display_2d_placefield_result_plot_ratemaps_2D', filter_name, plot_variable=enumTuningMap2DPlotVariables.TUNING_MAPS, fignum=plots_fig_nums_dict[filter_name][1], **figure_format_config, extended_overlay_points_datasource_dicts=extended_overlay_points_datasource_dicts)"
   ]
  },
  {
   "cell_type": "code",
   "execution_count": null,
   "id": "947e8786-8dd7-4e67-ae4e-5ebc71af0e20",
   "metadata": {},
   "outputs": [],
   "source": [
    "curr_display_function_name = '_display_normal'\n",
    "built_pdf_metadata, curr_pdf_save_path = _build_pdf_pages_output_info(curr_display_function_name)\n",
    "with backend_pdf.PdfPages(curr_pdf_save_path, keep_empty=False, metadata=built_pdf_metadata) as pdf:\n",
    "    fig0, figList1 = curr_active_pipeline.display(curr_display_function_name, filter_name, debug_print=False, enable_saving_to_disk=False, extended_overlay_points_datasource_dicts=extended_overlay_points_datasource_dicts)\n",
    "    plots = [fig0, *figList1]\n",
    "    for a_fig in plots:\n",
    "        pdf.savefig(a_fig)"
   ]
  },
  {
   "cell_type": "code",
   "execution_count": null,
   "id": "eaaf86b9-9fee-4ea6-b9f2-01e94eb7d86d",
   "metadata": {},
   "outputs": [],
   "source": [
    "fig = figList1[0]\n",
    "ax_list = fig.axes\n",
    "\n",
    "curr_neuron_IDX = 0\n",
    "curr_ax = ax_list[curr_neuron_IDX]\n",
    "curr_peak_center = peak_center_xy_points_pos_list[curr_neuron_IDX, :]\n",
    "curr_edge_pos = \n",
    "\n",
    "# curr_ax_peak_center_point_annotation = curr_ax.annotate('EXAMPLETEXT', curr_peak_center)\n",
    "curr_ax.annotate('', tuple(curr_peak_center), (0.4, 0.8), arrowprops={'arrowstyle':'<->'})\n",
    "\n",
    "# curr_ax.annotate('', (0.4, 0.2), (0.4, 0.8), arrowprops={'arrowstyle':'<->'})"
   ]
  },
  {
   "cell_type": "code",
   "execution_count": null,
   "id": "73604250-798e-47d4-a92d-f6272c40f82a",
   "metadata": {},
   "outputs": [],
   "source": [
    "from pyphoplacecellanalysis.GUI.PyQtPlot.BinnedImageRenderingWindow import BasicBinnedImageRenderingWindow, add_bin_ticks, build_binned_imageItem\n",
    "\n",
    "# out.add_data(row=5, col=0, matrix=active_peak_prominence_2d_results.peak_counts.raw, xbins=active_xbins, ybins=active_ybins, name='pf_peak_counts_map', title='# pf peaks per Pos (X, Y)', variable_label='# pf peaks')\n",
    "\n",
    "\n",
    "# # *bin_centers: these seem to work\n",
    "# active_xbins = active_pf_2D.xbin_centers\n",
    "# active_ybins = active_pf_2D.ybin_centers\n",
    "\n",
    "\n",
    "# out.add_data(row=5, col=0, matrix=active_peak_prominence_2d_results.peak_counts.raw, xbins=active_xbins, ybins=active_ybins, name='pf_peak_counts_map', title='# pf peaks per Pos (X, Y)', variable_label='# pf peaks')\n",
    "# out = BasicBinnedImageRenderingWindow(active_eloy_analysis.avg_2D_speed_per_pos, active_xbins, active_ybins, name='avg_velocity', title=\"Avg Velocity per Pos (X, Y)\", variable_label='Avg Velocity')\n",
    "# out.add_data(row=2, col=0, matrix=active_eloy_analysis.pf_overlapDensity_2D, xbins=active_xbins, ybins=active_ybins, name='pf_overlapDensity', title='pf overlapDensity metric', variable_label='pf overlapDensity')"
   ]
  },
  {
   "cell_type": "markdown",
   "id": "3fc92a85-6741-4e46-aff1-438f1236aa8b",
   "metadata": {
    "tags": []
   },
   "source": [
    "### Use Pandas' df.corr() method"
   ]
  },
  {
   "cell_type": "code",
   "execution_count": null,
   "id": "1c503212-2cb4-4243-beb8-505012ffc9c9",
   "metadata": {
    "scrolled": true,
    "tags": []
   },
   "outputs": [],
   "source": [
    "subset_variable_names = ['neuron_peak_firing_rate', 'summit_slice_level', 'peak_relative_height', 'peak_prominence', 'peak_center_x', 'peak_center_y', 'summit_slice_x_width', 'summit_slice_y_width', 'summit_slice_center_x', 'summit_slice_center_y', 'peak_height', 'peak_center_avg_speed']\n",
    "active_input_matrix = active_peak_prominence_2d_results.filtered_flat_peaks_df[subset_variable_names].copy()\n",
    "\n",
    "# active_corr_matrix = active_input_matrix.corr(method='pearson') # default\n",
    "active_corr_matrix = active_input_matrix.corr(method='spearman') # spearman\n",
    "active_corr_matrix"
   ]
  },
  {
   "cell_type": "code",
   "execution_count": null,
   "id": "f0c0ea5e-97b0-4d48-a695-e10618c31cf3",
   "metadata": {
    "tags": []
   },
   "outputs": [],
   "source": [
    "## Plot correlation matrix using imshow:\n",
    "import matplotlib\n",
    "%matplotlib inline\n",
    "import matplotlib.pyplot as plt\n",
    "\n",
    "def _plot_df_correlation_matrix(active_corr_matrix):\n",
    "    \"\"\"\n",
    "    Usage:\n",
    "        subset_variable_names = ['neuron_peak_firing_rate', 'summit_slice_level', 'peak_relative_height', 'peak_prominence', 'peak_center_x', 'peak_center_y', 'summit_slice_x_width', 'summit_slice_y_width', 'summit_slice_center_x', 'summit_slice_center_y', 'peak_height', 'peak_center_avg_speed']\n",
    "        active_input_matrix = active_peak_prominence_2d_results.filtered_flat_peaks_df[subset_variable_names].copy()\n",
    "\n",
    "        # active_corr_matrix = active_input_matrix.corr(method='pearson') # default\n",
    "        active_corr_matrix = active_input_matrix.corr(method='spearman') # spearman\n",
    "        fig, ax, im = _plot_df_correlation_matrix(active_corr_matrix)\n",
    "        \n",
    "    \"\"\"\n",
    "    corr_matrix = active_corr_matrix.copy().round(decimals=2)\n",
    "    matrix_column_names = corr_matrix.columns\n",
    "    n_columns = len(matrix_column_names)\n",
    "\n",
    "    fig, ax = plt.subplots()\n",
    "    im = ax.imshow(corr_matrix)\n",
    "    im.set_clim(-1, 1)\n",
    "    ax.grid(False)\n",
    "    ax.xaxis.set(ticks=tuple(np.arange(n_columns)), ticklabels=tuple(matrix_column_names))\n",
    "    ax.yaxis.set(ticks=tuple(np.arange(n_columns)), ticklabels=tuple(matrix_column_names))\n",
    "    plt.xticks(rotation=45, ha='right')\n",
    "    # ax.set_ylim(2.5, -0.5)\n",
    "    ## Add Labels:\n",
    "    for i in range(n_columns):\n",
    "        for j in range(n_columns):\n",
    "            ax.text(j, i, corr_matrix.iat[i, j], ha='center', va='center', color='r')\n",
    "            # ax.text(j, i, corr_matrix[i, j], ha='center', va='center', color='r')\n",
    "\n",
    "    cbar = ax.figure.colorbar(im, ax=ax, format='% .2f')\n",
    "    plt.show()\n",
    "    return fig, ax, im\n",
    "\n",
    "fig, ax, im = _plot_df_correlation_matrix(active_corr_matrix)"
   ]
  },
  {
   "cell_type": "code",
   "execution_count": null,
   "id": "8f84cdae-1e42-44d2-9ee0-7c202e4ffe76",
   "metadata": {
    "scrolled": true,
    "tags": []
   },
   "outputs": [],
   "source": [
    "from pyphocorehelpers.general_helpers import get_arguments_as_optional_dict, CodeConversion, inspect_callable_arguments\n",
    "\n",
    "# CodeConversion.get_arguments_as_optional_dict(size=3, mode='constant') # , **({'size': 3, 'mode': 'constant'} | kwargs)\n",
    "# CodeConversion.get_arguments_as_optional_dict(sigma=3) # , **({'sigma': 3} | kwargs)\n",
    "# CodeConversion.get_arguments_as_optional_dict(slice_level_multiplier=0.5, minimum_included_peak_height=0.2) # , **({'slice_level_multiplier': 0.5, 'minimum_included_peak_height': 0.2} | kwargs)\n",
    "\n",
    "# # _perform_pf_find_ratemap_peaks_peak_prominence2d_computation(...): optional arguments\n",
    "# {'summits_analysis':{'slice_level_multiplier': 0.5, 'minimum_included_peak_height': 0.2},\n",
    "#  'uniform_filter':{'size': 3, 'mode': 'constant'},\n",
    "#  'gaussian_filter':{'sigma': 3}}\n",
    "\n",
    "\n",
    "pf_summits_analysis_peak_counts_results = active_peak_prominence_2d_results.peak_counts"
   ]
  },
  {
   "cell_type": "code",
   "execution_count": null,
   "id": "52a636e9-aefb-4818-8e2e-66712b9b64fc",
   "metadata": {},
   "outputs": [],
   "source": [
    "## Renders the active_peak_prominence_2d_results.peak_counts with varying methods of blurring:\n",
    "pf_summits_analysis_peak_counts_results = active_peak_prominence_2d_results.peak_counts\n",
    "out_peak_counts_fig = BasicBinnedImageRenderingWindow(pf_summits_analysis_peak_counts_results.raw, active_pf_2D.xbin_labels, active_pf_2D.ybin_labels, name='pf_peak_counts_map', title=\"# pf peaks per Pos (X, Y)\", variable_label='# pf peaks')\n",
    "out_peak_counts_fig.add_data(row=5, col=0, matrix=pf_summits_analysis_peak_counts_results.uniform_blurred, xbins=active_pf_2D.xbin_labels, ybins=active_pf_2D.ybin_labels, name='pf_peak_counts_map_blurred', title='blurred # pf peaks per Pos (X, Y)', variable_label='blurred # pf peaks')\n",
    "out_peak_counts_fig.add_data(row=6, col=0, matrix=pf_summits_analysis_peak_counts_results.gaussian_blurred, xbins=active_pf_2D.xbin_labels, ybins=active_pf_2D.ybin_labels, name='pf_peak_counts_map_blurred gaussian', title='Gaussian blurred # pf peaks per Pos (X, Y)', variable_label='Gaussian blurred # pf peaks')"
   ]
  },
  {
   "cell_type": "code",
   "execution_count": null,
   "id": "3f1e9e54-a749-4da1-8855-b800afc563cf",
   "metadata": {},
   "outputs": [],
   "source": [
    "## Add to existing plot:\n",
    "out.add_data(row=5, col=0, matrix=active_peak_prominence_2d_results.peak_counts.raw, xbins=active_pf_2D.xbin_labels, ybins=active_pf_2D.ybin_labels, name='pf_peak_counts_map', title='# pf peaks per Pos (X, Y)', variable_label='# pf peaks')\n",
    "out.add_data(row=6, col=0, matrix=active_peak_prominence_2d_results.peak_counts.gaussian_blurred, xbins=active_pf_2D.xbin_labels, ybins=active_pf_2D.ybin_labels, name='pf_peak_counts_map_blurred gaussian', title='Gaussian blurred # pf peaks per Pos (X, Y)', variable_label='Gaussian blurred # pf peaks')"
   ]
  },
  {
   "cell_type": "code",
   "execution_count": null,
   "id": "a4aad3fb-d100-4bef-accc-529b8fd3c2c0",
   "metadata": {},
   "outputs": [],
   "source": [
    "## TODO: now that I have an filtered_summits_analysis_df['peak_center_avg_speed'] associated with each peak, can now look at things like:\n",
    "# size vs. avg_speed\n",
    "# ??DENSITY?? vs. avg speed\n",
    "\n",
    "# Find non-NAN speeds only:\n",
    "good_indicies = np.isfinite(active_eloy_analysis.avg_2D_speed_per_pos)\n",
    "masked_avg_2D_speed_per_pos = np.ma.array(active_eloy_analysis.avg_2D_speed_per_pos, mask=~good_indicies)\n",
    "masked_peak_counts_gaussian_blurred = np.ma.array(active_peak_prominence_2d_results.peak_counts.gaussian_blurred, mask=~good_indicies)\n",
    "\n",
    "## Compute correlation between pf_peak_counts_map_blurred_gaussian and \n",
    "from scipy import signal\n",
    "# METHOD 0: Fill in the missing values with the mean:\n",
    "# filled_avg_2D_speed_per_pos = masked_avg_2D_speed_per_pos.filled(masked_avg_2D_speed_per_pos.mean())\n",
    "# filled_peak_counts_gaussian_blurred = masked_peak_counts_gaussian_blurred.filled(masked_peak_counts_gaussian_blurred.mean())\n",
    "# METHOD 1: Fill in the missing values with zeros:\n",
    "filled_avg_2D_speed_per_pos = masked_avg_2D_speed_per_pos.filled(0.0)\n",
    "filled_peak_counts_gaussian_blurred = masked_peak_counts_gaussian_blurred.filled(0.0)\n",
    "\n",
    "## Compute the correlation\n",
    "corr = signal.correlate2d(filled_peak_counts_gaussian_blurred, filled_avg_2D_speed_per_pos, boundary='symm', mode='same')\n",
    "## Show the corr plot in the open out_peak_counts_fig \n",
    "out.add_data(row=7, col=0, matrix=corr, xbins=active_pf_2D.xbin_labels, ybins=active_pf_2D.ybin_labels, name='correlate2d(gauss_peak_counts, avg_2d_speed)', title='correlate2d(gauss_peak_counts, avg_2d_speed) per Pos (X, Y)', variable_label='corr')"
   ]
  },
  {
   "cell_type": "code",
   "execution_count": null,
   "id": "5d7d7f30-5f3e-45e5-b6ee-b3fa28b3f88c",
   "metadata": {},
   "outputs": [],
   "source": [
    "## Flatten all valid indicies of each variable to a matrix, to compute the relation between the variables as if each position was a separate independent sample\n",
    "def compute_flattened_finite_variable_vectors(xbins, ybins, avg_2D_speed_per_pos, matrix):\n",
    "    \"\"\" Flatten all valid indicies of each variable to a matrix, to compute the relation between the variables as if each position was a separate independent sample \n",
    "    Inputs:\n",
    "        avg_2D_speed_per_pos: TODO: refactor, basically just the matrix with NaNs in it\n",
    "        matrix: a matrix of the same size as avg_2D_speed_per_pos with either no NaNs or at worst NaNs in the same positions as avg_2D_speed_per_pos\n",
    "    \n",
    "    Usage:\n",
    "        \n",
    "good_indicies, flat_valid_xbin_centers, flat_valid_ybin_centers, flat_valid_avg_2D_speed_per_pos, flat_valid_peak_counts_gaussian_blurred = compute_flattened_finite_variable_vectors(xbins=active_peak_prominence_2d_results.xx, ybins=active_peak_prominence_2d_results.yy, avg_2D_speed_per_pos=active_eloy_analysis.avg_2D_speed_per_pos, matrix=pf_summits_analysis_peak_counts_results.gaussian_blurred)\n",
    "    \"\"\"\n",
    "    # Find non-NAN speeds only:\n",
    "    good_indicies = np.isfinite(avg_2D_speed_per_pos)\n",
    "\n",
    "    flat_valid_avg_2D_speed_per_pos = avg_2D_speed_per_pos[good_indicies].flatten()\n",
    "    flat_valid_peak_counts_gaussian_blurred = matrix[good_indicies].flatten()\n",
    "\n",
    "    # Build the mesh of flattened x and y positions for each bin\n",
    "    n_xbins = np.shape(avg_2D_speed_per_pos)[0] \n",
    "    n_ybins = np.shape(avg_2D_speed_per_pos)[1]\n",
    "    x_pos_mat = np.repeat(np.atleast_2d(xbins), axis=0, repeats=n_ybins).T #.shape # (7, 60)\n",
    "    y_pos_mat = np.repeat(np.atleast_2d(ybins).T, axis=1, repeats=n_xbins).T\n",
    "    assert np.shape(x_pos_mat) == np.shape(y_pos_mat) == np.shape(avg_2D_speed_per_pos)\n",
    "    flat_valid_xbin_centers = x_pos_mat[good_indicies].flatten()\n",
    "    flat_valid_ybin_centers = y_pos_mat[good_indicies].flatten()\n",
    "    assert np.shape(flat_valid_xbin_centers) == np.shape(flat_valid_ybin_centers) == np.shape(flat_valid_peak_counts_gaussian_blurred)\n",
    "    return good_indicies, flat_valid_xbin_centers, flat_valid_ybin_centers, flat_valid_avg_2D_speed_per_pos, flat_valid_peak_counts_gaussian_blurred\n",
    "\n",
    "good_indicies, flat_valid_xbin_centers, flat_valid_ybin_centers, flat_valid_avg_2D_speed_per_pos, flat_valid_peak_counts_gaussian_blurred = compute_flattened_finite_variable_vectors(xbins=active_peak_prominence_2d_results.xx, ybins=active_peak_prominence_2d_results.yy, avg_2D_speed_per_pos=active_eloy_analysis.avg_2D_speed_per_pos, matrix=active_peak_prominence_2d_results.peak_counts.gaussian_blurred)"
   ]
  },
  {
   "cell_type": "code",
   "execution_count": null,
   "id": "47fb67fb-f284-41e5-8dc0-b5015297c60c",
   "metadata": {},
   "outputs": [],
   "source": [
    "import scipy.stats"
   ]
  },
  {
   "cell_type": "markdown",
   "id": "2acce724-6a4f-4764-80e2-aa5a9b9ceded",
   "metadata": {
    "jp-MarkdownHeadingCollapsed": true,
    "tags": []
   },
   "source": [
    "### Linear Correlations"
   ]
  },
  {
   "cell_type": "code",
   "execution_count": null,
   "id": "f06a986a-2054-4d47-860b-a1d8d8fbf643",
   "metadata": {},
   "outputs": [],
   "source": [
    "from scipy.stats import linregress\n",
    "\n",
    "x = flat_valid_avg_2D_speed_per_pos.copy()\n",
    "y = flat_valid_peak_counts_gaussian_blurred.copy()\n",
    "result = linregress(x, y)\n",
    "print(f'y = {result.slope:.6f}x + {result.intercept:.6f}')\n",
    "# print(result.intercept, result.intercept_stderr)\n",
    "print(f'p: {result.pvalue}')\n",
    "print(f\"R-squared: {result.rvalue**2:.6f}\")\n",
    "\n",
    "## Calculate 95% confidence interval on slope and intercept:\n",
    "# Two-sided inverse Students t-distribution\n",
    "# p - probability, df - degrees of freedom\n",
    "from scipy.stats import t\n",
    "\n",
    "tinv = lambda p, df: abs(t.ppf(p/2, df))\n",
    "ts = tinv(0.05, len(x)-2)\n",
    "print(f\"slope (95%): {result.slope:.6f} +/- {ts*result.stderr:.6f}\")\n",
    "print(f\"intercept (95%): {result.intercept:.6f}\"\n",
    "      f\" +/- {ts*result.intercept_stderr:.6f}\")"
   ]
  },
  {
   "cell_type": "code",
   "execution_count": null,
   "id": "fe904efd-8665-428b-b5d9-77115995559e",
   "metadata": {},
   "outputs": [],
   "source": [
    "## Plot linear regression outputs:\n",
    "import matplotlib\n",
    "%matplotlib inline\n",
    "import matplotlib.pyplot as plt\n",
    "plt.plot(x, y, 'o', label='original data')\n",
    "plt.xlabel('Velocity cm/sec')\n",
    "plt.ylabel('blurred peak count')\n",
    "plt.title('Linear Regressionf for animal speed vs. blurred peak count')\n",
    "plt.plot(x, result.intercept + result.slope*x, 'r', label='fitted line')\n",
    "plt.legend()\n",
    "plt.show()"
   ]
  },
  {
   "cell_type": "markdown",
   "id": "f9d2b65b-4f2a-4e8b-89a4-d7edb386ce75",
   "metadata": {
    "jp-MarkdownHeadingCollapsed": true,
    "tags": []
   },
   "source": [
    "### Rank Correlations"
   ]
  },
  {
   "cell_type": "code",
   "execution_count": null,
   "id": "aa6419ec-d897-47d8-97e3-2bb95701afa6",
   "metadata": {},
   "outputs": [],
   "source": [
    "x = flat_valid_avg_2D_speed_per_pos.copy()\n",
    "y = flat_valid_peak_counts_gaussian_blurred.copy()\n",
    "# scipy.stats.rankdata(flat_valid_avg_2D_speed_per_pos)\n",
    "rho, p = scipy.stats.spearmanr(x, y)\n",
    "print(f'spearman rho: {rho:.6f}, p={p:.6f}')"
   ]
  },
  {
   "cell_type": "code",
   "execution_count": null,
   "id": "ff751c95-8863-49c5-ba58-44d3a9759455",
   "metadata": {},
   "outputs": [],
   "source": [
    "tau, p = scipy.stats.kendalltau(x, y)\n",
    "print(f'kendalltau kau: {tau:.6f}, p={p:.6f}')"
   ]
  },
  {
   "cell_type": "markdown",
   "id": "942c1178-4200-42be-86eb-3ed5da66974d",
   "metadata": {
    "tags": []
   },
   "source": [
    "## Testing Variable Viewers"
   ]
  },
  {
   "cell_type": "code",
   "execution_count": null,
   "id": "a23eabdc-2380-4f3e-92a2-5e5e631640d5",
   "metadata": {},
   "outputs": [],
   "source": [
    "from pyphocorehelpers.gui.tkinter.tk_tree_view import tk_tree_view"
   ]
  },
  {
   "cell_type": "code",
   "execution_count": null,
   "id": "9bb18c64-ada3-47b3-a8eb-3a3b5efcc2ca",
   "metadata": {},
   "outputs": [],
   "source": [
    "def visualise_dict(d, lvl=0):\n",
    "    # go through the dictionary alphabetically \n",
    "    for k in sorted(d):\n",
    "        # print the table header if we're at the beginning\n",
    "        if lvl == 0 and k == sorted(d)[0]:\n",
    "            print('{:<25} {:<15} {:<10}'.format('KEY','LEVEL','TYPE'))\n",
    "            print('-'*79)\n",
    "\n",
    "        indent = '  '*lvl # indent the table to visualise hierarchy\n",
    "        t = str(type(d[k]))\n",
    "\n",
    "        # print details of each entry\n",
    "        print(\"{:<25} {:<15} {:<10}\".format(indent+str(k),lvl,t))\n",
    "\n",
    "        # if the entry is a dictionary\n",
    "        if type(d[k])==dict:\n",
    "            # visualise THAT dictionary with +1 indent\n",
    "            visualise_dict(d[k],lvl+1)"
   ]
  },
  {
   "cell_type": "code",
   "execution_count": null,
   "id": "2e011369-eb23-4480-81af-d845d2d8e7a9",
   "metadata": {},
   "outputs": [],
   "source": [
    "from pyphocorehelpers.print_helpers import print_value_overview_only, print_keys_if_possible, pprint, debug_dump_object_member_shapes"
   ]
  },
  {
   "cell_type": "code",
   "execution_count": null,
   "id": "a0cc1d39-d2c1-42e3-9597-de6d22d2b33f",
   "metadata": {},
   "outputs": [],
   "source": [
    "# tk_tree_view(peaks[1])\n",
    "# tk_tree_view(peaks)\n",
    "\n",
    "# tk_tree_view(ipcDataExplorer.plots.to_dict())\n",
    "visualise_dict(ipcDataExplorer.plots)"
   ]
  },
  {
   "cell_type": "code",
   "execution_count": null,
   "id": "588008aa-5d3b-47de-bb19-ae880861302b",
   "metadata": {},
   "outputs": [],
   "source": [
    "str(type(tuningCurvePlotData[2]['pdata_currActiveNeuronTuningCurve']))\n",
    "\n",
    "# pyvista.core.pointset.StructuredGrid"
   ]
  },
  {
   "cell_type": "code",
   "execution_count": null,
   "id": "992502de-1bee-4160-ad1c-70d82fe47433",
   "metadata": {},
   "outputs": [],
   "source": [
    "# print_keys_if_possible('plots_data', ipcDataExplorer.plots_data) # RenderPlotsData\n",
    "tuningCurvePlotData = ipcDataExplorer.plots_data['tuningCurvePlotData']\n",
    "# - tuningCurvePlotData: <class 'indexed.IndexedOrderedDict'>\n",
    "# \t- 2: <class 'dict'>\n",
    "# \t\t- curr_active_neuron_ID: <class 'numpy.int32'>\n",
    "# \t\t- curr_active_neuron_pf_identifier: <class 'str'>\n",
    "# \t\t- curr_active_neuron_tuning_Curve: <class 'numpy.ndarray'> - (29, 64)\n",
    "# \t\t- pdata_currActiveNeuronTuningCurve: <class 'pyvista.core.pointset.StructuredGrid'> - OMITTED TYPE WITH NO SHAPE\n",
    "# \t\t- pdata_currActiveNeuronTuningCurve_Points: <class 'pyvista.core.pointset.UnstructuredGrid'> - OMITTED TYPE WITH NO SHAPE\n",
    "# \t\t- lut: <class 'vtkmodules.vtkCommonCore.vtkLookupTable'>\n",
    "        \n",
    "# 'occupancyPlotData'\n",
    "# tuningCurvePlotData.shape\n",
    "print_keys_if_possible('tuningCurvePlotData', tuningCurvePlotData) # RenderPlotsData"
   ]
  },
  {
   "cell_type": "code",
   "execution_count": null,
   "id": "c5772862-44a8-4858-96c4-41d067d8167e",
   "metadata": {},
   "outputs": [],
   "source": [
    "print_keys_if_possible('ipcDataExplorer.plots', ipcDataExplorer.plots, additional_excluded_item_classes=[\"<class 'vtkmodules.vtkRenderingOpenGL2.vtkOpenGLActor'>\", \"<class 'vtkmodules.vtkRenderingAnnotation.vtkLegendBoxActor'>\"]) # RenderPlots\n",
    "# pcDataExplorer.plots: <class 'pyphocorehelpers.DataStructure.general_parameter_containers.RenderPlots'>\n",
    "# \t- name: <class 'str'>\n",
    "# \t- occupancyPlotActor: <class 'NoneType'>\n",
    "# \t- maze_bg: <class 'vtkmodules.vtkRenderingOpenGL2.vtkOpenGLActor'> - OMITTED TYPE WITH NO SHAPE\n",
    "# \t- tuningCurvePlotActors: <class 'indexed.IndexedOrderedDict'>\n",
    "# \t\t- 2: <class 'pyphocorehelpers.gui.PyVista.CascadingDynamicPlotsList.CascadingDynamicPlotsList'>\n",
    "# \t\t\t- main: <class 'vtkmodules.vtkRenderingOpenGL2.vtkOpenGLActor'> - OMITTED TYPE WITH NO SHAPE\n",
    "# \t\t\t- points: <class 'vtkmodules.vtkRenderingOpenGL2.vtkOpenGLActor'> - OMITTED TYPE WITH NO SHAPE\n",
    "#           ...\n",
    "#         - 64: <class 'pyphocorehelpers.gui.PyVista.CascadingDynamicPlotsList.CascadingDynamicPlotsList'>\n",
    "# \t\t\t- main: <class 'vtkmodules.vtkRenderingOpenGL2.vtkOpenGLActor'> - OMITTED TYPE WITH NO SHAPE\n",
    "# \t\t\t- points: <class 'vtkmodules.vtkRenderingOpenGL2.vtkOpenGLActor'> - OMITTED TYPE WITH NO SHAPE\n",
    "# \t- tuningCurvePlotLegendActor: <class 'vtkmodules.vtkRenderingAnnotation.vtkLegendBoxActor'> - OMITTED TYPE WITH NO SHAPE\n",
    "# \t- spikes_pf_active: <class 'vtkmodules.vtkRenderingOpenGL2.vtkOpenGLActor'> - OMITTED TYPE WITH NO SHAPE\n",
    "        \n",
    "active_tuning_curve_plot_actors = ipcDataExplorer.plots['tuningCurvePlotActors']\n"
   ]
  },
  {
   "cell_type": "code",
   "execution_count": null,
   "id": "058cd8e9-7ab0-43f6-a637-2ccdc8a4c433",
   "metadata": {},
   "outputs": [],
   "source": [
    "debug_dump_object_member_shapes(tuningCurvePlotData)"
   ]
  },
  {
   "cell_type": "code",
   "execution_count": null,
   "id": "fa2d5c06-ca30-4a3d-9198-95678bec99ea",
   "metadata": {},
   "outputs": [],
   "source": [
    "visualise_dict(ipcDataExplorer.plots, lvl=1)"
   ]
  },
  {
   "cell_type": "code",
   "execution_count": null,
   "id": "fa7bfd15-f0da-49fb-b796-d66f4072c4cb",
   "metadata": {},
   "outputs": [],
   "source": [
    "active_neuron_id = 2\n",
    "tuning_curve_is_visible = ipcDataExplorer.plots['tuningCurvePlotActors'][active_neuron_id].main.GetVisibility()\n",
    "tuning_curve_is_visible"
   ]
  },
  {
   "cell_type": "code",
   "execution_count": null,
   "id": "e7e0e0bf-c80b-4a3d-842e-46a29f488d08",
   "metadata": {},
   "outputs": [],
   "source": [
    "# ipcDataExplorer.p.remove_actor(contours_mesh)"
   ]
  },
  {
   "cell_type": "markdown",
   "id": "0aa19041-694d-441e-a42a-b977988ecb06",
   "metadata": {
    "tags": []
   },
   "source": [
    "## Vedo display of contours testing"
   ]
  },
  {
   "cell_type": "code",
   "execution_count": null,
   "id": "4f69797c-6760-4311-a8b3-2e88519485c5",
   "metadata": {},
   "outputs": [],
   "source": [
    "plt = plot(active_peak_prominence_2d_results.xx, active_peak_prominence_2d_results.yy, slab, c='summer') # use a colormap\n",
    "show(plt, viewup='z').close()"
   ]
  },
  {
   "cell_type": "code",
   "execution_count": null,
   "id": "f27024f6-0b89-4411-983c-563bfe3b4986",
   "metadata": {},
   "outputs": [],
   "source": [
    "'''Draw a z = f(x,y) surface specified as\n",
    "a string or as a reference to an external function.\n",
    "Red points indicate where the function does not exist!'''\n",
    "from vedo import dataurl, sin, cos, log, show, Text2D\n",
    "from vedo.pyplot import plot\n",
    "\n",
    "doc = Text2D(__doc__, pos='bottom-left', c='darkgreen', font='Quikhand')\n",
    "\n",
    "############################################################### REAL\n",
    "def f(x, y):\n",
    "    return sin(2*x*y) * cos(3*y)/2\n",
    "f1 = plot(f, c='summer') # use a colormap\n",
    "\n",
    "# red dots are shown where the function does not exist (y>x):\n",
    "def f(x, y):\n",
    "    return sin(3*x) * log(x-y)/3\n",
    "f2 = plot(f, texture=dataurl+'textures/paper3.jpg')\n",
    "\n",
    "# specify x and y ranges and z vertical limits:\n",
    "def f(x, y):\n",
    "    return log(x**2+y**2-1)\n",
    "f3 = plot(\n",
    "    f,\n",
    "    xlim=[-2,2],\n",
    "    ylim=[-1,8],\n",
    "    zlim=[-1,None],\n",
    "    texture=dataurl+'textures/paper1.jpg',\n",
    ")\n",
    "\n",
    "show([(f1, 'y = sin(2*x*y) * cos(3*y) /2', doc),\n",
    "      (f2, 'y = sin(3*x)*log(x-y)/3'),\n",
    "      (f3, 'y = log(x**2+y**2-1)'),\n",
    "     ], N=3, sharecam=False,\n",
    ").close()\n",
    "\n",
    "############################################################## COMPLEX\n",
    "comment = \"\"\"Vertical axis shows the real part of complex z:\n",
    "    z = sin(log(x\\doty))\n",
    "Color map the value of the imaginary part\n",
    "(green=positive, purple=negative)\"\"\"\n",
    "\n",
    "plt = plot(lambda x,y: sin(log(x*y))/25, mode='complex')\n",
    "\n",
    "show(plt, comment, viewup='z').close()"
   ]
  },
  {
   "cell_type": "code",
   "execution_count": null,
   "id": "f3535fc5-5806-4435-a2ee-96134abb2b44",
   "metadata": {},
   "outputs": [],
   "source": [
    "isol = mesh0.isolines(n=10).color('w')\n",
    "isob = mesh0.isobands(n=5).addScalarBar(title=\"H=Elevation\")\n",
    "\n",
    "# make a copy and interpolate the Scalars from points to cells\n",
    "mesh1 = mesh0.clone(deep=False).mapPointsToCells()\n",
    "printc('Mesh cell arrays :', mesh1.celldata.keys())\n",
    "\n",
    "gvecs = mesh1.gradient(on='cells')\n",
    "cc = mesh1.cellCenters()\n",
    "ars = Arrows(cc, cc + gvecs*0.01, c='bone_r').lighting('off')\n",
    "ars.addScalarBar3D(title='|\\nablaH|~\\dot~0.01 [arb.units]')\n",
    "\n",
    "# colormap the gradient magnitude directly on the mesh\n",
    "mesh2 = mesh1.clone(deep=False).lw(0.1).cmap('jet', mag(gvecs), on='cells')\n",
    "mesh2.addScalarBar3D(title='|\\nablaH| [arb.units]')\n",
    "\n",
    "plt = Plotter(N=4, size=(1200,900), axes=11)\n",
    "plt.at(0).show(mesh0, isol, __doc__)\n",
    "plt.at(1).show(isob)\n",
    "plt.at(2).show(mesh1, isol, ars, \"Arrows=\\nablaH\")\n",
    "plt.at(3).show(mesh2, \"Color=|\\nablaH|\")\n",
    "plt.interactive().close()"
   ]
  },
  {
   "cell_type": "markdown",
   "id": "a7d8b658-d56f-4ed5-abf5-c0331c6b5595",
   "metadata": {
    "jp-MarkdownHeadingCollapsed": true,
    "tags": []
   },
   "source": [
    "# 2022-08-02 - New Simple Time-Dependent Placefield Overhaul\n",
    "Idea: use simple dataframes and operations on them to easily get the placefield results for a given time range."
   ]
  },
  {
   "cell_type": "code",
   "execution_count": null,
   "id": "8df88870-91fc-426a-a28f-fb934ebebecb",
   "metadata": {},
   "outputs": [],
   "source": [
    "from pyphoplacecellanalysis.Pho2D.PyQtPlots.plot_placefields import pyqtplot_plot_image_array, pyqtplot_common_setup\n",
    "# Get flat list of images:\n",
    "# images = occupancy_weighted_tuning_maps_matrix # (43, 63, 63)\n",
    "# occupancy = seconds_occupancy\n",
    "\n",
    "\n",
    "# out_dict.smoothed_spikes_maps_matrix\n",
    "\n",
    "images = out_dict.occupancy_weighted_tuning_maps_matrix # (43, 63, 63)\n",
    "occupancy = out_dict.seconds_occupancy\n",
    "\n",
    "# images = active_pf_2D_dt.ratemap.tuning_curves # (43, 63, 63)\n",
    "# images = active_pf_2D_dt.curr_occupancy_weighted_tuning_maps_matrix[active_pf_2D_dt._included_thresh_neurons_indx,:,:] # (43, 63, 63)\n",
    "# images = active_pf_2D_dt.curr_smoothed_spikes_maps_matrix[active_pf_2D_dt._included_thresh_neurons_indx,:,:] # (43, 63, 63)\n",
    "# images = active_one_step_decoder.ratemap.normalized_tuning_curves[0:40,:,:] # (43, 63, 63)\n",
    "# occupancy = active_pf_2D_dt.ratemap.occupancy\n",
    "# occupancy = active_pf_2D_dt.curr_seconds_occupancy\n",
    "app, parent_root_widget, root_render_widget, plot_array, img_item_array, other_components_array = pyqtplot_plot_image_array(active_pf_2D_dt.xbin, active_pf_2D_dt.ybin, images, occupancy, \n",
    "                                                                        app=None, parent_root_widget=None, root_render_widget=None)\n",
    "\n",
    "parent_root_widget.show()"
   ]
  },
  {
   "cell_type": "code",
   "execution_count": null,
   "id": "d06013c2-70ba-42ce-b81b-2a36e282c4d8",
   "metadata": {},
   "outputs": [],
   "source": [
    "active_pf_2D_dt.update(t=40.0, should_snapshot=False)"
   ]
  },
  {
   "cell_type": "code",
   "execution_count": null,
   "id": "02b7a7d9-e829-4b76-8e91-51d4f50db817",
   "metadata": {},
   "outputs": [],
   "source": [
    "active_pf_2D_dt.snapshot()"
   ]
  },
  {
   "cell_type": "code",
   "execution_count": null,
   "id": "e3e94322-bcec-4e7b-8cb8-dc35f9cb0149",
   "metadata": {},
   "outputs": [],
   "source": [
    "# Bin the x, y positions\n",
    "active_pf_2D.build_position_df_discretized_binned_positions(active_pos_df="
   ]
  },
  {
   "cell_type": "markdown",
   "id": "d9a26588-42d9-420b-9e16-bf38ceff4383",
   "metadata": {
    "jp-MarkdownHeadingCollapsed": true,
    "tags": []
   },
   "source": [
    "## 2022-08-12 - 2D Velocity per timestep"
   ]
  },
  {
   "cell_type": "code",
   "execution_count": null,
   "id": "f8edd6aa-ac0b-44a7-a855-ca00b93614b7",
   "metadata": {},
   "outputs": [],
   "source": [
    "sess.position.to_dataframe()"
   ]
  },
  {
   "cell_type": "code",
   "execution_count": null,
   "id": "0871873d-4734-4564-91e2-38c414b6ec83",
   "metadata": {},
   "outputs": [],
   "source": [
    "importlib.reload(pyphoplacecellanalysis.GUI.PyQtPlot.Flowchart.pyqtplot_Flowchart)"
   ]
  },
  {
   "cell_type": "markdown",
   "id": "f64d1557-c27d-4dfe-be36-6ed325bafdbf",
   "metadata": {
    "jp-MarkdownHeadingCollapsed": true,
    "tags": []
   },
   "source": [
    "# 2022-08-17 - Pipeline Re-exploration - Make less frustrating"
   ]
  },
  {
   "cell_type": "code",
   "execution_count": null,
   "id": "f807e8c9-1125-47a5-be6a-7ae975940a43",
   "metadata": {},
   "outputs": [],
   "source": [
    "from pyphoplacecellanalysis.GUI.PyQtPlot.Flowchart.pyqtplot_Flowchart import plot_flowchartWidget\n",
    "pipeline_flowchart_window, pipeline_flowchart_app = plot_flowchartWidget(title='PhoMainPipelineFlowchartApp')\n",
    "pipeline_flowchart_window.show()"
   ]
  },
  {
   "cell_type": "code",
   "execution_count": null,
   "id": "5f0fbe2b-d2a5-44b5-bdf0-9a537c927cd5",
   "metadata": {},
   "outputs": [],
   "source": [
    "pipeline_flowchart_window.flowchart"
   ]
  },
  {
   "cell_type": "code",
   "execution_count": null,
   "id": "2b8c9c84-285b-41ce-b24f-4e5a79c1d157",
   "metadata": {},
   "outputs": [],
   "source": [
    "pipeline_flowchart_window.flowchart_nodes"
   ]
  },
  {
   "cell_type": "code",
   "execution_count": null,
   "id": "51fb1009-3049-4e18-8d9e-40aec962b939",
   "metadata": {},
   "outputs": [],
   "source": [
    "CodeConversion.get_arguments_as_optional_dict(label='basedir', is_save_mode=False, path_type='folder', allows_multiple=False)"
   ]
  },
  {
   "cell_type": "code",
   "execution_count": null,
   "id": "207f4ee7-db76-451b-8d3e-1287d1bcbfe8",
   "metadata": {},
   "outputs": [],
   "source": []
  }
 ],
 "metadata": {
  "interpreter": {
   "hash": "bb76371bb80daaa456787a5f74a5afc9bd3e021c2669334ff0bb72cb94135a74"
  },
  "kernelspec": {
   "display_name": "Python [conda env:phoviz_ultimate]",
   "language": "python",
   "name": "conda-env-phoviz_ultimate-py"
  },
  "language_info": {
   "codemirror_mode": {
    "name": "ipython",
    "version": 3
   },
   "file_extension": ".py",
   "mimetype": "text/x-python",
   "name": "python",
   "nbconvert_exporter": "python",
   "pygments_lexer": "ipython3",
   "version": "3.9.13"
  },
  "scenes_data": {
   "active_scene": "Default Scene",
   "init_scene": null,
   "scenes": [
    "Default Scene"
   ]
  },
  "toc-autonumbering": true,
  "toc-showcode": false,
  "toc-showmarkdowntxt": false,
  "toc-showtags": false
 },
 "nbformat": 4,
 "nbformat_minor": 5
}
