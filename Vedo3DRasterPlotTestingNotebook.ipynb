{
 "cells": [
  {
   "cell_type": "code",
   "execution_count": 1,
   "id": "f8d6951f-fc40-4b66-b18a-0211181868ec",
   "metadata": {},
   "outputs": [],
   "source": [
    "\"\"\"\n",
    "@author: pho\n",
    "\"\"\"\n",
    "%load_ext autoreload\n",
    "%autoreload 2\n",
    "import sys\n",
    "import time\n",
    "import importlib\n",
    "from pathlib import Path\n",
    "from datetime import datetime\n",
    "\n",
    "from numba import jit\n",
    "import numpy as np\n",
    "import pandas as pd\n",
    "\n",
    "from neuropy import core\n",
    "\n",
    "from pyphocorehelpers.preferences_helpers import set_pho_preferences\n",
    "set_pho_preferences() # Set preferences\n",
    "# from pyphoplacecellanalysis.General.SpikesDataframeWindow import SpikesDataframeWindow, SpikesWindowOwningMixin\n",
    "# from pyphoplacecellanalysis.General.DataSeriesToSpatial import DataSeriesToSpatial\n",
    "from pyphoplacecellanalysis.GUI.PyQtPlot.Widgets.Spike3DRaster import Spike3DRaster\n",
    "from pyphoplacecellanalysis.GUI.PyQtPlot.Widgets.Spike3DRaster_Vedo import Spike3DRaster_Vedo\n",
    "\n",
    "%gui qt5\n",
    "# curr_epoch_name = 'maze1'\n",
    "# curr_epoch = curr_active_pipeline.filtered_epochs[curr_epoch_name] # <NamedTimerange: {'name': 'maze1', 'start_end_times': array([  22.26      , 1739.15336412])};>\n",
    "# curr_sess = curr_active_pipeline.filtered_sessions[curr_epoch_name]\n",
    "# curr_spikes_df = curr_sess.spikes_df\n",
    "\n",
    "from vedo import show\n",
    "\n",
    "def trap_exc_during_debug(*args):\n",
    "    # when app raises uncaught exception, print info\n",
    "    print(args)\n",
    "\n",
    "\n",
    "# install exception hook: without this, uncaught exception would cause application to exit\n",
    "sys.excepthook = trap_exc_during_debug\n",
    "\n"
   ]
  },
  {
   "cell_type": "code",
   "execution_count": 2,
   "id": "08bfdbf9-4770-42bd-8e3d-1141f5d91db9",
   "metadata": {},
   "outputs": [
    {
     "name": "stdout",
     "output_type": "stream",
     "text": [
      "aclu:   \t[ 2  3  4  5  7  8  9 10 11 12 14 17 18 21 22 23 24 25 26 27 28 29 33 34 38 39 42 44 45 46 47 48 53 55 57 58 61 62 63 64]\n",
      "unit_id:\t[ 0  1  2  3  5  6  7  8  9 10 12 15 16 19 20 21 22 23 24 25 26 27 31 32 36 37 40 42 43 44 45 46 51 53 55 56 59 60 61 62]\n"
     ]
    }
   ],
   "source": [
    "# Load the saved .h5 spikes dataframe for testing:\n",
    "finalized_spike_df_cache_file='./pipeline_cache_store.h5'\n",
    "desired_spikes_df_key = '/filtered_sessions/maze1/spikes_df'\n",
    "curr_spikes_df = pd.read_hdf(finalized_spike_df_cache_file, key=desired_spikes_df_key)\n",
    "curr_spikes_df\n",
    "\n",
    "print(f\"aclu:   \\t{np.unique(curr_spikes_df['aclu'])}\")\n",
    "print(f\"unit_id:\\t{np.unique(curr_spikes_df['unit_id'])}\")"
   ]
  },
  {
   "cell_type": "code",
   "execution_count": 3,
   "id": "b14bd269-bd5f-4e14-9930-aa3987269af5",
   "metadata": {},
   "outputs": [
    {
     "name": "stdout",
     "output_type": "stream",
     "text": [
      "aclu:   \t[ 2  3  4  5  6  7  8  9 10 11 12 13 14 15 16 17 18 19 20 21 22 23 24 25 26 27 28 29 30 31 32 33 34 35 36 37 38 39 40 41 42 43 44 45 46 47 48 49 50 51 52 53 54 55 56 57 58 59 60 61 62 63 64 65]\n",
      "unit_id:\t[ 0  1  2  3  4  5  6  7  8  9 10 11 12 13 14 15 16 17 18 19 20 21 22 23 24 25 26 27 28 29 30 31 32 33 34 35 36 37 38 39 40 41 42 43 44 45 46 47 48 49 50 51 52 53 54 55 56 57 58 59 60 61 62 63]\n"
     ]
    }
   ],
   "source": [
    "desired_spikes_df_key = '/sess/spikes_df'\n",
    "curr_spikes_df = pd.read_hdf(finalized_spike_df_cache_file, key=desired_spikes_df_key)\n",
    "curr_spikes_df\n",
    "\n",
    "print(f\"aclu:   \\t{np.unique(curr_spikes_df['aclu'])}\")\n",
    "print(f\"unit_id:\\t{np.unique(curr_spikes_df['unit_id'])}\")"
   ]
  },
  {
   "cell_type": "code",
   "execution_count": 4,
   "id": "5ecb90c0-5448-4b7a-b55f-32eb613d1e38",
   "metadata": {},
   "outputs": [
    {
     "name": "stdout",
     "output_type": "stream",
     "text": [
      "aclu:   \t[ 2  3  4  5  7  8  9 10 11 12 14 17 18 21 22 23 24 25 26 27 28 29 33 34 38 39 42 44 45 46 47 48 53 55 57 58 61 62 63 64]\n",
      "unit_id:\t[ 0  1  2  3  5  6  7  8  9 10 12 15 16 19 20 21 22 23 24 25 26 27 31 32 36 37 40 42 43 44 45 46 51 53 55 56 59 60 61 62]\n"
     ]
    }
   ],
   "source": [
    "desired_spikes_df_key = '/filtered_sessions/maze2/spikes_df'\n",
    "curr_spikes_df = pd.read_hdf(finalized_spike_df_cache_file, key=desired_spikes_df_key)\n",
    "print(f\"aclu:   \\t{np.unique(curr_spikes_df['aclu'])}\")\n",
    "print(f\"unit_id:\\t{np.unique(curr_spikes_df['unit_id'])}\") # note unit_id can be missing indicies because each spike might not have an entry in it"
   ]
  },
  {
   "cell_type": "code",
   "execution_count": 5,
   "id": "51375697-e73c-4f79-8bd7-48e134d84a9f",
   "metadata": {},
   "outputs": [],
   "source": [
    "\n",
    "def add_filtered_session_cell_idx_column(spikes_df):\n",
    "    \"\"\" \n",
    "    \n",
    "    \"\"\"\n",
    "    if 'filtered_session_cell_idx' not in spikes_df.columns:\n",
    "        # self.spikes_df['cell_idx'] = self.spikes_df['unit_id'].copy() # TODO: this is bad! The self.get_neuron_id_and_idx(...) function doesn't work!\n",
    "        # note that this is very slow, but works:\n",
    "        print(f'cell_idx column missing. rebuilding (this might take a minute or two)...')\n",
    "        included_cell_INDEXES = np.array([self.get_neuron_id_and_idx(neuron_id=an_included_cell_ID)[0] for an_included_cell_ID in spikes_df['aclu'].to_numpy()]) # get the indexes from the cellIDs\n",
    "        spikes_df['filtered_session_cell_idx'] = included_cell_INDEXES.copy()"
   ]
  },
  {
   "cell_type": "markdown",
   "id": "c9eb34bf-1293-46bb-9b6c-ec09b1bba14f",
   "metadata": {},
   "source": [
    "# Vedo 3D Spike Train Visualization "
   ]
  },
  {
   "cell_type": "code",
   "execution_count": 6,
   "id": "f8d973e4-0278-4c70-bb37-b235d606ce38",
   "metadata": {},
   "outputs": [
    {
     "name": "stdout",
     "output_type": "stream",
     "text": [
      "cell_idx column missing. rebuilding (this might take a minute or two)...\n",
      "visualization_raster_y_location column missing. rebuilding (this might take a minute or two)...\n"
     ]
    }
   ],
   "source": [
    "# Build the 3D Raster object:\n",
    "spike_raster_plt = Spike3DRaster_Vedo(curr_spikes_df, window_duration=4.0, window_start_time=30.0, neuron_colors=None)\n"
   ]
  },
  {
   "cell_type": "code",
   "execution_count": 7,
   "id": "01644829-fdd1-4b63-9ce5-5e7ecb228924",
   "metadata": {},
   "outputs": [
    {
     "name": "stdout",
     "output_type": "stream",
     "text": [
      "Spike3DRaster_Vedo._update_plots()\n"
     ]
    }
   ],
   "source": [
    "spike_raster_plt._update_plots()\n",
    "axes = dict(xtitle='window time', ytitle='cell_id', ztitle=\"\")\n",
    "# plt = show(spike_raster_plt.glyph, __doc__, axes=axes, interactive=False, bg='k8', backend='ipyvtk') # plt: <vedo.plotter.Plotter at 0x22eb25de370>\n",
    "# plt = show(spike_raster_plt.glyph, __doc__, axes=axes, interactive=True, bg='k8', backend='ipyvtk') # crashes when interactive=True"
   ]
  },
  {
   "cell_type": "markdown",
   "id": "d41c0f52-ffdd-485b-8da0-4da90172c3f1",
   "metadata": {},
   "source": [
    "# Pyqtgraph 3D Spike Train Visualization"
   ]
  },
  {
   "cell_type": "code",
   "execution_count": null,
   "id": "462c99b7-059b-41e9-945f-66c82a2cc51a",
   "metadata": {},
   "outputs": [],
   "source": [
    "spike_raster_plt = Spike3DRaster(curr_spikes_df, window_duration=4.0, window_start_time=30.0, neuron_colors=None)\n",
    "# spike_raster_plt = Spike3DRaster(curr_spikes_df, window_duration=0.2, window_start_time=30.0)"
   ]
  },
  {
   "cell_type": "code",
   "execution_count": null,
   "id": "ea36b5c7-4cb8-4582-9eaf-d27e23c5a55a",
   "metadata": {},
   "outputs": [],
   "source": [
    "print(f'spike_raster_plt.spikes_window.active_time_window: {spike_raster_plt.spikes_window.active_time_window}')\n",
    "# spike_raster_plt.spikes_window.active_window_start_time = 50.0\n",
    "spike_raster_plt.spikes_window.update_window_start(90.0)\n",
    "print(f'spike_raster_plt.spikes_window.active_time_window: {spike_raster_plt.spikes_window.active_time_window}')"
   ]
  }
 ],
 "metadata": {
  "kernelspec": {
   "display_name": "Python [conda env:phoviz_ultimate]",
   "language": "python",
   "name": "conda-env-phoviz_ultimate-py"
  },
  "language_info": {
   "codemirror_mode": {
    "name": "ipython",
    "version": 3
   },
   "file_extension": ".py",
   "mimetype": "text/x-python",
   "name": "python",
   "nbconvert_exporter": "python",
   "pygments_lexer": "ipython3",
   "version": "3.9.10"
  }
 },
 "nbformat": 4,
 "nbformat_minor": 5
}
