{
 "cells": [
  {
   "cell_type": "code",
   "execution_count": null,
   "id": "f8d6951f-fc40-4b66-b18a-0211181868ec",
   "metadata": {},
   "outputs": [],
   "source": [
    "\"\"\"\n",
    "@author: pho\n",
    "\"\"\"\n",
    "%load_ext autoreload\n",
    "%autoreload 2\n",
    "import sys\n",
    "import time\n",
    "import importlib\n",
    "from pathlib import Path\n",
    "from datetime import datetime\n",
    "\n",
    "from numba import jit\n",
    "import numpy as np\n",
    "import pandas as pd\n",
    "\n",
    "from neuropy import core\n",
    "\n",
    "# from pyphoplacecellanalysis.General.SpikesDataframeWindow import SpikesDataframeWindow, SpikesWindowOwningMixin\n",
    "# from pyphoplacecellanalysis.General.DataSeriesToSpatial import DataSeriesToSpatial\n",
    "from pyphoplacecellanalysis.GUI.PyQtPlot.Widgets.Spike3DRaster import Spike3DRaster\n",
    "from pyphoplacecellanalysis.GUI.PyQtPlot.Widgets.Spike3DRaster_Vedo import Spike3DRaster_Vedo\n",
    "\n",
    "%gui qt5\n",
    "# curr_epoch_name = 'maze1'\n",
    "# curr_epoch = curr_active_pipeline.filtered_epochs[curr_epoch_name] # <NamedTimerange: {'name': 'maze1', 'start_end_times': array([  22.26      , 1739.15336412])};>\n",
    "# curr_sess = curr_active_pipeline.filtered_sessions[curr_epoch_name]\n",
    "# curr_spikes_df = curr_sess.spikes_df\n",
    "\n",
    "from vedo import show\n",
    "\n",
    "def trap_exc_during_debug(*args):\n",
    "    # when app raises uncaught exception, print info\n",
    "    print(args)\n",
    "\n",
    "\n",
    "# install exception hook: without this, uncaught exception would cause application to exit\n",
    "sys.excepthook = trap_exc_during_debug\n",
    "\n"
   ]
  },
  {
   "cell_type": "code",
   "execution_count": null,
   "id": "8ba8f6a3-96b4-4b63-b41c-9920bd1c4d0a",
   "metadata": {},
   "outputs": [],
   "source": [
    "# Load the saved .h5 spikes dataframe for testing:\n",
    "finalized_spike_df_cache_file='./pipeline_cache_store.h5'\n",
    "desired_spikes_df_key = '/filtered_sessions/maze1/spikes_df'\n",
    "curr_spikes_df = pd.read_hdf(finalized_spike_df_cache_file, key=desired_spikes_df_key)\n",
    "curr_spikes_df"
   ]
  },
  {
   "cell_type": "markdown",
   "id": "c9eb34bf-1293-46bb-9b6c-ec09b1bba14f",
   "metadata": {},
   "source": [
    "# Vedo 3D Spike Train Visualization "
   ]
  },
  {
   "cell_type": "code",
   "execution_count": null,
   "id": "f8d973e4-0278-4c70-bb37-b235d606ce38",
   "metadata": {},
   "outputs": [],
   "source": [
    "# Build the 3D Raster object:\n",
    "spike_raster_plt = Spike3DRaster_Vedo(curr_spikes_df, window_duration=4.0, window_start_time=30.0, neuron_colors=None)\n"
   ]
  },
  {
   "cell_type": "code",
   "execution_count": null,
   "id": "01644829-fdd1-4b63-9ce5-5e7ecb228924",
   "metadata": {},
   "outputs": [],
   "source": [
    "spike_raster_plt._update_plots()\n",
    "axes = dict(xtitle='window time', ytitle='cell_id', ztitle=\"\")\n",
    "plt = show(spike_raster_plt.glyph, __doc__, axes=axes, interactive=False, bg='k8', backend='ipyvtk') # plt: <vedo.plotter.Plotter at 0x22eb25de370>"
   ]
  },
  {
   "cell_type": "markdown",
   "id": "d41c0f52-ffdd-485b-8da0-4da90172c3f1",
   "metadata": {},
   "source": [
    "# Pyqtgraph 3D Spike Train Visualization"
   ]
  },
  {
   "cell_type": "code",
   "execution_count": null,
   "id": "462c99b7-059b-41e9-945f-66c82a2cc51a",
   "metadata": {},
   "outputs": [],
   "source": [
    "spike_raster_plt = Spike3DRaster(curr_spikes_df, window_duration=4.0, window_start_time=30.0, neuron_colors=None)\n",
    "# spike_raster_plt = Spike3DRaster(curr_spikes_df, window_duration=0.2, window_start_time=30.0)"
   ]
  },
  {
   "cell_type": "code",
   "execution_count": null,
   "id": "ea36b5c7-4cb8-4582-9eaf-d27e23c5a55a",
   "metadata": {},
   "outputs": [],
   "source": [
    "print(f'spike_raster_plt.spikes_window.active_time_window: {spike_raster_plt.spikes_window.active_time_window}')\n",
    "# spike_raster_plt.spikes_window.active_window_start_time = 50.0\n",
    "spike_raster_plt.spikes_window.update_window_start(90.0)\n",
    "print(f'spike_raster_plt.spikes_window.active_time_window: {spike_raster_plt.spikes_window.active_time_window}')"
   ]
  }
 ],
 "metadata": {
  "kernelspec": {
   "display_name": "Python [conda env:phoviz_ultimate]",
   "language": "python",
   "name": "conda-env-phoviz_ultimate-py"
  },
  "language_info": {
   "codemirror_mode": {
    "name": "ipython",
    "version": 3
   },
   "file_extension": ".py",
   "mimetype": "text/x-python",
   "name": "python",
   "nbconvert_exporter": "python",
   "pygments_lexer": "ipython3",
   "version": "3.9.10"
  }
 },
 "nbformat": 4,
 "nbformat_minor": 5
}
