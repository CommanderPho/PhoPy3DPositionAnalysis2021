{
 "cells": [
  {
   "cell_type": "code",
   "execution_count": 1,
   "id": "0056bc66-7629-4ef7-8c87-f28f8fcd9dc8",
   "metadata": {
    "autorun": true,
    "tags": [
     "imports",
     "REQUIRED",
     "ACTIVE"
    ]
   },
   "outputs": [
    {
     "name": "stdout",
     "output_type": "stream",
     "text": [
      "Automatic pdb calling has been turned OFF\n",
      "build_module_logger(module_name=\"Spike3D.pipeline\"):\n",
      "\t Module logger com.PhoHale.Spike3D.pipeline has file logging enabled and will log to EXTERNAL/TESTING/Logging/debug_com.PhoHale.Spike3D.pipeline.log\n"
     ]
    }
   ],
   "source": [
    "%config IPCompleter.use_jedi = False\n",
    "%pdb off\n",
    "# %load_ext viztracer\n",
    "# from viztracer import VizTracer\n",
    "%load_ext autoreload\n",
    "%autoreload 3\n",
    "import sys\n",
    "from pathlib import Path\n",
    "import neptune # for logging progress and results\n",
    "from pyphoplacecellanalysis.General.Batch.NeptuneAiHelpers import set_environment_variables, neptune_output_figures\n",
    "neptune_kwargs = {'project':\"commander.pho/PhoDibaLongShort2023\",\n",
    "'api_token':\"eyJhcGlfYWRkcmVzcyI6Imh0dHBzOi8vYXBwLm5lcHR1bmUuYWkiLCJhcGlfdXJsIjoiaHR0cHM6Ly9hcHAubmVwdHVuZS5haSIsImFwaV9rZXkiOiIxOGIxODU2My1lZTNhLTQ2ZWMtOTkzNS02ZTRmNzM5YmNjNjIifQ==\"}\n",
    "\n",
    "# required to enable non-blocking interaction:\n",
    "%gui qt5\n",
    "\n",
    "from copy import deepcopy\n",
    "from numba import jit\n",
    "import numpy as np\n",
    "import pandas as pd\n",
    "from attrs import define, field, fields, Factory\n",
    "\n",
    "# Pho's Formatting Preferences\n",
    "# from pyphocorehelpers.preferences_helpers import set_pho_preferences, set_pho_preferences_concise, set_pho_preferences_verbose\n",
    "# set_pho_preferences_concise()\n",
    "\n",
    "## Pho's Custom Libraries:\n",
    "from pyphocorehelpers.general_helpers import CodeConversion\n",
    "from pyphocorehelpers.function_helpers import function_attributes\n",
    "from pyphocorehelpers.print_helpers import print_keys_if_possible, print_value_overview_only, document_active_variables, objsize, print_object_memory_usage, debug_dump_object_member_shapes, TypePrintMode\n",
    "from pyphocorehelpers.print_helpers import get_now_day_str, get_now_time_str, get_now_time_precise_str\n",
    "from pyphocorehelpers.programming_helpers import IPythonHelpers\n",
    "from pyphocorehelpers.Filesystem.path_helpers import find_first_extant_path\n",
    "from pyphocorehelpers.Filesystem.open_in_system_file_manager import reveal_in_system_file_manager\n",
    "\n",
    "# NeuroPy (Diba Lab Python Repo) Loading\n",
    "# from neuropy import core\n",
    "from neuropy.analyses.placefields import PlacefieldComputationParameters\n",
    "from neuropy.core.epoch import NamedTimerange, Epoch\n",
    "from neuropy.core.ratemap import Ratemap\n",
    "from neuropy.core.session.Formats.BaseDataSessionFormats import DataSessionFormatRegistryHolder\n",
    "from neuropy.core.session.Formats.Specific.BapunDataSessionFormat import BapunDataSessionFormatRegisteredClass\n",
    "from neuropy.core.session.Formats.Specific.KDibaOldDataSessionFormat import KDibaOldDataSessionFormatRegisteredClass\n",
    "from neuropy.core.session.Formats.Specific.RachelDataSessionFormat import RachelDataSessionFormat\n",
    "from neuropy.core.session.Formats.Specific.HiroDataSessionFormat import HiroDataSessionFormatRegisteredClass\n",
    "\n",
    "## For computation parameters:\n",
    "from neuropy.analyses.placefields import PlacefieldComputationParameters\n",
    "from neuropy.utils.dynamic_container import DynamicContainer\n",
    "from neuropy.utils.result_context import IdentifyingContext\n",
    "from neuropy.core.session.Formats.BaseDataSessionFormats import find_local_session_paths\n",
    "from neuropy.core.neurons import NeuronType\n",
    "\n",
    "from pyphocorehelpers.print_helpers import generate_html_string\n",
    "\n",
    "# pyPhoPlaceCellAnalysis:\n",
    "from pyphoplacecellanalysis.General.Pipeline.NeuropyPipeline import NeuropyPipeline # get_neuron_identities\n",
    "from pyphoplacecellanalysis.General.Mixins.ExportHelpers import export_pyqtgraph_plot, create_daily_programmatic_display_function_testing_folder_if_needed, session_context_to_relative_path\n",
    "from pyphoplacecellanalysis.General.Batch.NonInteractiveProcessing import batch_load_session, batch_extended_computations, SessionBatchProgress, batch_programmatic_figures, batch_extended_programmatic_figures\n",
    "from pyphoplacecellanalysis.General.Pipeline.NeuropyPipeline import PipelineSavingScheme\n",
    "from pyphoplacecellanalysis.Pho2D.matplotlib.visualize_heatmap import visualize_heatmap\n",
    "from pyphoplacecellanalysis.Pho2D.PyQtPlots.Extensions.pyqtgraph_helpers import build_pyqtgraph_epoch_indicator_regions # Add session indicators to pyqtgraph plot\n",
    "from pyphoplacecellanalysis.General.Pipeline.Stages.DisplayFunctions.MultiContextComparingDisplayFunctions.LongShortTrackComparingDisplayFunctions import _helper_add_long_short_session_indicator_regions\n",
    "import pyphoplacecellanalysis.External.pyqtgraph as pg\n",
    "# 'time_bin_indices': valid_time_bin_indicies, 'posterior_to_pf_mean_surprise': one_left_out_posterior_to_pf_surprises_mean, 'posterior_to_scrambled_pf_mean_surprise': one_left_out_posterior_to_scrambled_pf_surprises_mean}\n",
    "from pyphoplacecellanalysis.General.Pipeline.Stages.DisplayFunctions.MultiContextComparingDisplayFunctions.LongShortTrackComparingDisplayFunctions import plot_long_short_expected_vs_observed_firing_rates\n",
    "from pyphoplacecellanalysis.General.Pipeline.Stages.DisplayFunctions.MultiContextComparingDisplayFunctions.LongShortTrackComparingDisplayFunctions import plot_long_short_surprise_difference_plot\n",
    "\n",
    "from pyphoplacecellanalysis.General.Batch.NonInteractiveProcessing import _update_pipeline_missing_preprocessing_parameters\n",
    "from pyphoplacecellanalysis.General.Batch.NonInteractiveProcessing import batch_perform_all_plots\n",
    "from pyphoplacecellanalysis.General.Pipeline.Stages.ComputationFunctions.MultiContextComputationFunctions.LongShortTrackComputations import JonathanFiringRateAnalysisResult\n",
    "from pyphoplacecellanalysis.General.Mixins.CrossComputationComparisonHelpers import _find_any_context_neurons\n",
    "\n",
    "from scripts.run_BatchAnalysis import post_compute_validate, _on_complete_success_execution_session\n",
    "\n",
    "session_batch_status = {}\n",
    "session_batch_errors = {}\n",
    "enable_saving_to_disk = False\n",
    "\n",
    "global_data_root_parent_path = find_first_extant_path([Path(r'W:\\Data'), Path(r'/media/MAX/Data'), Path(r'/Volumes/MoverNew/data'), Path(r'/home/halechr/turbo/Data')])\n",
    "assert global_data_root_parent_path.exists(), f\"global_data_root_parent_path: {global_data_root_parent_path} does not exist! Is the right computer's config commented out above?\""
   ]
  },
  {
   "attachments": {},
   "cell_type": "markdown",
   "id": "a1538e2a-4e39-4d11-90b5-a9fef9258058",
   "metadata": {
    "tags": [
     "REQUIRED",
     "ACTIVE"
    ]
   },
   "source": [
    "# Load Pipeline"
   ]
  },
  {
   "cell_type": "code",
   "execution_count": 2,
   "id": "f917bad9-8fe7-4882-b83b-71cf878fffd2",
   "metadata": {
    "tags": [
     "load",
     "REQUIRED"
    ]
   },
   "outputs": [
    {
     "name": "stdout",
     "output_type": "stream",
     "text": [
      "Automatic pdb calling has been turned OFF\n",
      "basedir: /media/MAX/Data/KDIBA/gor01/two/2006-6-07_16-40-19\n",
      "Loading loaded session pickle file results : /media/MAX/Data/KDIBA/gor01/two/2006-6-07_16-40-19/loadedSessPickle.pkl... done.\n",
      "Loading pickled pipeline success: /media/MAX/Data/KDIBA/gor01/two/2006-6-07_16-40-19/loadedSessPickle.pkl.\n",
      "property already present in pickled version. No need to save.\n",
      "using provided computation_functions_name_includelist: ['_perform_baseline_placefield_computation', '_perform_extended_statistics_computation', '_perform_position_decoding_computation', '_perform_firing_rate_trends_computation', '_perform_pf_find_ratemap_peaks_computation', '_perform_two_step_position_decoding_computation']\n",
      "WARNING: skipping computation because overwrite_extant_results=False and active_computation_results[maze1] already exists and is non-None\n",
      "\t TODO: this will prevent recomputation even when the excludelist/includelist or computation function definitions change. Rework so that this is smarter.\n",
      "updating computation_results...\n",
      "done.\n",
      "WARNING: skipping computation because overwrite_extant_results=False and active_computation_results[maze2] already exists and is non-None\n",
      "\t TODO: this will prevent recomputation even when the excludelist/includelist or computation function definitions change. Rework so that this is smarter.\n",
      "updating computation_results...\n",
      "done.\n",
      "WARNING: skipping computation because overwrite_extant_results=False and active_computation_results[maze] already exists and is non-None\n",
      "\t TODO: this will prevent recomputation even when the excludelist/includelist or computation function definitions change. Rework so that this is smarter.\n",
      "updating computation_results...\n",
      "done.\n",
      "WARNING: saving_mode is SKIP_SAVING so pipeline will not be saved despite calling .save_pipeline(...).\n",
      "saving_mode.shouldSave == False, so not saving at the end of batch_load_session\n",
      "Loading loaded session pickle file results : /media/MAX/Data/KDIBA/gor01/two/2006-6-07_16-40-19/output/global_computation_results.pkl... done.\n"
     ]
    }
   ],
   "source": [
    "%pdb off\n",
    "# ==================================================================================================================== #\n",
    "# Load Data                                                                                                            #\n",
    "# ==================================================================================================================== #\n",
    "\n",
    "active_data_mode_name = 'kdiba'\n",
    "\n",
    "## Data must be pre-processed using the MATLAB script located here: \n",
    "#     neuropy/data_session_pre_processing_scripts/KDIBA/IIDataMat_Export_ToPython_2022_08_01.m\n",
    "# From pre-computed .mat files:\n",
    "\n",
    "local_session_root_parent_context = IdentifyingContext(format_name=active_data_mode_name) # , animal_name='', configuration_name='one', session_name=self.session_name\n",
    "local_session_root_parent_path = global_data_root_parent_path.joinpath('KDIBA')\n",
    "\n",
    "# [*] - indicates bad or session with a problem\n",
    "# 0, 1, 2, 3, 4, 5, 6, 7, [8], [9], 10, 11, [12], 13, 14, [15], [16], 17, \n",
    "# curr_context: IdentifyingContext = good_contexts_list[1] # select the session from all of the good sessions here.\n",
    "# curr_context = IdentifyingContext(format_name='kdiba',animal='gor01',exper_name='one',session_name='2006-6-08_14-26-15') # DONE. Very good. Many good Pfs, many good replays.\n",
    "# curr_context = IdentifyingContext(format_name='kdiba',animal='gor01',exper_name='one',session_name='2006-6-09_1-22-43') # BAD\n",
    "# curr_context = IdentifyingContext(format_name='kdiba',animal='gor01',exper_name='one',session_name='2006-6-12_15-55-31') # DONE, Good Pfs but no good replays\n",
    "# curr_context = IdentifyingContext(format_name='kdiba',animal='gor01',exper_name='one',session_name='2006-6-13_14-42-6') # BAD\n",
    "curr_context = IdentifyingContext(format_name='kdiba',animal='gor01',exper_name='two',session_name='2006-6-07_16-40-19') # DONE, GREAT, both good Pfs and replays!\n",
    "# curr_context = IdentifyingContext(format_name='kdiba',animal='gor01',exper_name='two',session_name='2006-6-08_21-16-25') # DONE\n",
    "# curr_context = IdentifyingContext(format_name='kdiba',animal='gor01',exper_name='two',session_name='2006-6-09_22-24-40') # DONE\n",
    "# curr_context = IdentifyingContext(format_name='kdiba',animal='gor01',exper_name='two',session_name='2006-6-12_16-53-46') # DONE\n",
    "# curr_context = IdentifyingContext(format_name='kdiba',animal='gor01',exper_name='two',session_name='2006-6-13_15-22-3') # DONE, Good Pfs, no good epochs.\n",
    "# curr_context = IdentifyingContext(format_name='kdiba',animal='vvp01',exper_name='one',session_name='2006-4-09_17-29-30') # DONE\n",
    "# curr_context = IdentifyingContext(format_name='kdiba',animal='vvp01',exper_name='one',session_name='2006-4-10_12-25-50') # DONE\n",
    "# curr_context = IdentifyingContext(format_name='kdiba',animal='vvp01',exper_name='one',session_name='2006-4-19_13-34-40') # BAD\n",
    "# curr_context = IdentifyingContext(format_name='kdiba',animal='vvp01',exper_name='two',session_name='2006-4-09_16-40-54') # DONE\n",
    "# curr_context = IdentifyingContext(format_name='kdiba',animal='vvp01',exper_name='two',session_name='2006-4-10_12-58-3') # BAD, Good Pfs strangely despite horrible map, no good epochs\n",
    "# curr_context = IdentifyingContext(format_name='kdiba',animal='vvp01',exper_name='two',session_name='2006-4-12_15-25-59') # BAD, No Epochs\n",
    "# curr_context = IdentifyingContext(format_name='kdiba',animal='vvp01',exper_name='two',session_name='2006-4-16_18-47-52')\n",
    "# curr_context = IdentifyingContext(format_name='kdiba',animal='vvp01',exper_name='two',session_name='2006-4-17_12-52-15')\n",
    "# curr_context = IdentifyingContext(format_name='kdiba',animal='vvp01',exper_name='two',session_name='2006-4-25_13-20-55')\n",
    "# curr_context = IdentifyingContext(format_name='kdiba',animal='vvp01',exper_name='two',session_name='2006-4-28_12-38-13')\n",
    "# curr_context = IdentifyingContext(format_name='kdiba',animal='pin01',exper_name='one',session_name='11-02_17-46-44') # DONE\n",
    "# curr_context = IdentifyingContext(format_name='kdiba',animal='pin01',exper_name='one',session_name='11-02_19-28-0') # DONE\n",
    "# curr_context = IdentifyingContext(format_name='kdiba',animal='pin01',exper_name='one',session_name='11-03_12-3-25') # DONE\n",
    "# curr_context = IdentifyingContext(format_name='kdiba',animal='pin01',exper_name='one',session_name='11-09_12-15-3')\n",
    "# curr_context = IdentifyingContext(format_name='kdiba',animal='pin01',exper_name='one',session_name='11-09_22-4-5')\n",
    "# curr_context = IdentifyingContext(format_name='kdiba',animal='pin01',exper_name='one',session_name='fet11-01_12-58-54') # DONE\n",
    "\n",
    "\n",
    "local_session_parent_path: Path = local_session_root_parent_path.joinpath(curr_context.animal, curr_context.exper_name) # 'gor01', 'one' - probably not needed anymore\n",
    "basedir: Path = local_session_parent_path.joinpath(curr_context.session_name).resolve()\n",
    "print(f'basedir: {str(basedir)}')\n",
    "\n",
    "# Read if possible:\n",
    "saving_mode = PipelineSavingScheme.SKIP_SAVING\n",
    "force_reload = False\n",
    "\n",
    "# Force write:\n",
    "# saving_mode = PipelineSavingScheme.TEMP_THEN_OVERWRITE\n",
    "# saving_mode = PipelineSavingScheme.OVERWRITE_IN_PLACE\n",
    "# force_reload = True\n",
    "\n",
    "\n",
    "## TODO: if loading is not possible, we need to change the `saving_mode` so that the new results are properly saved.\n",
    "\n",
    "\n",
    "    # ==================================================================================================================== #\n",
    "    # Load Pipeline                                                                                                        #\n",
    "    # ==================================================================================================================== #\n",
    "# with VizTracer(output_file=f\"viztracer_{get_now_time_str()}-full_session_LOO_decoding_analysis.json\", min_duration=200, tracer_entries=3000000, ignore_frozen=True) as tracer:\n",
    "# epoch_name_includelist = ['maze']\n",
    "epoch_name_includelist = None\n",
    "active_computation_functions_name_includelist=[#'_perform_estimated_epochs_computation',  # AL:WAYS OFF\n",
    "                                            '_perform_baseline_placefield_computation',\n",
    "                                        # '_perform_time_dependent_placefield_computation', # AL:WAYS OFF\n",
    "                                        '_perform_extended_statistics_computation',\n",
    "                                        '_perform_position_decoding_computation', \n",
    "                                        '_perform_firing_rate_trends_computation',\n",
    "                                        '_perform_pf_find_ratemap_peaks_computation',\n",
    "                                        # '_perform_time_dependent_pf_sequential_surprise_computation' # AL:WAYS OFF\n",
    "                                        '_perform_two_step_position_decoding_computation',\n",
    "                                        # '_perform_recursive_latent_placefield_decoding' # AL:WAYS OFF\n",
    "                                    ]\n",
    "# active_computation_functions_name_includelist=['_perform_baseline_placefield_computation']\n",
    "\n",
    "curr_active_pipeline = batch_load_session(global_data_root_parent_path, active_data_mode_name, basedir, epoch_name_includelist=epoch_name_includelist,\n",
    "                                        computation_functions_name_includelist=active_computation_functions_name_includelist,\n",
    "                                        saving_mode=saving_mode, force_reload=force_reload,\n",
    "                                        skip_extended_batch_computations=True, debug_print=False, fail_on_exception=True) # , active_pickle_filename = 'loadedSessPickle_withParameters.pkl'\n",
    "\n",
    "\n",
    "if not force_reload: # not just force_reload, needs to recompute whenever the computation fails.\n",
    "    try:\n",
    "        curr_active_pipeline.load_pickled_global_computation_results()\n",
    "    except Exception as e:\n",
    "        print(f'cannot load global results: {e}')\n",
    "\n",
    "# 6m 1.1s\n",
    "# 12m 15.6s\n"
   ]
  },
  {
   "cell_type": "code",
   "execution_count": null,
   "id": "ac8aab9a",
   "metadata": {},
   "outputs": [],
   "source": [
    "%matplotlib qt\n",
    "from neuropy.utils.matplotlib_helpers import interactive_select_grid_bin_bounds_2D\n",
    "# fig, ax, rect_selector, set_extents = interactive_select_grid_bin_bounds_2D(curr_active_pipeline, epoch_name='maze', should_block_for_input=True)\n",
    "\n",
    "grid_bin_bounds = interactive_select_grid_bin_bounds_2D(curr_active_pipeline, epoch_name='maze', should_block_for_input=True, should_apply_updates_to_pipeline=False)\n",
    "print(f'grid_bin_bounds: {grid_bin_bounds}')\n",
    "print(f\"Add this to `specific_session_override_dict`:\\n\\n{curr_active_pipeline.get_session_context().get_initialization_code_string()}:dict(grid_bin_bounds=({(grid_bin_bounds[0], grid_bin_bounds[1]), (grid_bin_bounds[2], grid_bin_bounds[3])})),\\n\")"
   ]
  },
  {
   "cell_type": "code",
   "execution_count": 3,
   "id": "3a29b890",
   "metadata": {
    "tags": []
   },
   "outputs": [
    {
     "name": "stdout",
     "output_type": "stream",
     "text": [
      "were pipeline preprocessing parameters missing and updated?: False\n",
      "included includelist is specified: ['long_short_fr_indicies_analyses', 'jonathan_firing_rate_analysis', 'long_short_decoding_analyses', 'long_short_post_decoding'], so only performing these extended computations.\n",
      "Running batch_extended_computations(...) with global_epoch_name: \"maze\"\n",
      "jonathan_firing_rate_analysis already computed.\n",
      "long_short_fr_indicies_analyses already computed.\n",
      "long_short_decoding_analyses already computed.\n",
      "long_short_post_decoding already computed.\n",
      "done with all batch_extended_computations(...).\n",
      "no changes in global results.\n"
     ]
    }
   ],
   "source": [
    "## Post Compute Validate 2023-05-16:\n",
    "from scripts.run_BatchAnalysis import post_compute_validate\n",
    "post_compute_validate(curr_active_pipeline)\n",
    "\n",
    "curr_active_pipeline.reload_default_computation_functions()\n",
    "extended_computations_include_includelist=['long_short_fr_indicies_analyses', 'jonathan_firing_rate_analysis', 'long_short_decoding_analyses', 'long_short_post_decoding'] # do only specifiedl , 'long_short_rate_remapping'\n",
    "force_recompute_global = force_reload\n",
    "# force_recompute_global = True\n",
    "# extended_computations_include_includelist=['long_short_post_decoding'] # do only specifiedl\n",
    "newly_computed_values = batch_extended_computations(curr_active_pipeline, include_includelist=extended_computations_include_includelist, include_global_functions=True, fail_on_exception=True, progress_print=True, force_recompute=force_recompute_global, debug_print=False)\n",
    "if len(newly_computed_values) > 0:\n",
    "\tprint(f'newly_computed_values: {newly_computed_values}. Saving global results...')\n",
    "\ttry:\n",
    "\t\t# curr_active_pipeline.global_computation_results.persist_time = datetime.now()\n",
    "\t\t# Try to write out the global computation function results:\n",
    "\t\tcurr_active_pipeline.save_global_computation_results()\n",
    "\texcept Exception as e:\n",
    "\t\tprint(f'\\n\\n!!WARNING!!: saving the global results threw the exception: {e}')\n",
    "\t\tprint(f'\\tthe global results are currently unsaved! proceed with caution and save as soon as you can!\\n\\n\\n')\n",
    "else:\n",
    "\tprint(f'no changes in global results.')\n",
    "# 10m 29.5s"
   ]
  },
  {
   "cell_type": "code",
   "execution_count": 4,
   "id": "d3e3c3f3",
   "metadata": {},
   "outputs": [
    {
     "name": "stdout",
     "output_type": "stream",
     "text": [
      "https://app.neptune.ai/commander.pho/PhoDibaLongShortUpdated/\n",
      "https://app.neptune.ai/commander.pho/PhoDibaLongShortUpdated/e/LS2023-153\n",
      "shared_aclus: [2, 3, 4, 5, 6, 7, 8, 9, 10, 11, 13, 14, 15, 16, 17, 20, 22, 23, 24, 25, 26, 27, 28, 29, 30, 31, 32, 33, 34, 35, 36, 37, 38, 39, 40, 41, 42, 43, 44, 45, 46, 47, 49, 50, 51, 52, 53, 54, 55, 56, 57, 58, 59, 60, 61, 62, 63, 64]\n",
      "long_only_aclus: [12, 21, 48]\n",
      "short_only_aclus: [18, 19, 65]\n",
      "shared_aclus: [2, 3, 4, 5, 6, 7, 8, 9, 10, 11, 13, 14, 15, 16, 17, 20, 22, 23, 24, 25, 26, 27, 28, 29, 30, 31, 32, 33, 34, 35, 36, 37, 38, 39, 40, 41, 42, 43, 44, 45, 46, 47, 49, 50, 51, 52, 53, 54, 55, 56, 57, 58, 59, 60, 61, 62, 63, 64]\n",
      "long_only_aclus: [12, 21, 48]\n",
      "short_only_aclus: [18, 19, 65]\n",
      "include_includelist: ['maze1', 'maze2', 'maze']\n",
      "long_epoch_name: maze1, short_epoch_name: maze2, global_epoch_name: maze\n",
      "\t saved /home/halechr/repo/Spike3D/EXTERNAL/Screenshots/ProgrammaticDisplayFunctionTesting/2023-06-22/kdiba_gor01_two_2006-6-07_16-40-19_BatchPhoJonathanReplayFRC_long_only_[12, 21, 48].png\n",
      "include_includelist: ['maze1', 'maze2', 'maze']\n",
      "long_epoch_name: maze1, short_epoch_name: maze2, global_epoch_name: maze\n",
      "\t saved /home/halechr/repo/Spike3D/EXTERNAL/Screenshots/ProgrammaticDisplayFunctionTesting/2023-06-22/kdiba_gor01_two_2006-6-07_16-40-19_BatchPhoJonathanReplayFRC_short_only_[18, 19, 65].png\n",
      "include_includelist: ['maze1', 'maze2', 'maze']\n",
      "long_epoch_name: maze1, short_epoch_name: maze2, global_epoch_name: maze\n",
      "WARNING: aclu 2 is not present in the pf1D_all ratemaps. Which contain aclus: [5, 6, 7, 8, 11, 12, 15, 17, 18, 19, 20, 21, 24, 25, 26, 27, 28, 31, 34, 35, 39, 40, 41, 43, 44, 45, 48, 49, 50, 51, 52, 53, 55, 56, 60, 62, 63, 64, 65]\n",
      "WARNING: aclu 3 is not present in the pf1D_all ratemaps. Which contain aclus: [5, 6, 7, 8, 11, 12, 15, 17, 18, 19, 20, 21, 24, 25, 26, 27, 28, 31, 34, 35, 39, 40, 41, 43, 44, 45, 48, 49, 50, 51, 52, 53, 55, 56, 60, 62, 63, 64, 65]\n",
      "WARNING: aclu 4 is not present in the pf1D_all ratemaps. Which contain aclus: [5, 6, 7, 8, 11, 12, 15, 17, 18, 19, 20, 21, 24, 25, 26, 27, 28, 31, 34, 35, 39, 40, 41, 43, 44, 45, 48, 49, 50, 51, 52, 53, 55, 56, 60, 62, 63, 64, 65]\n",
      "WARNING: aclu 9 is not present in the pf1D_all ratemaps. Which contain aclus: [5, 6, 7, 8, 11, 12, 15, 17, 18, 19, 20, 21, 24, 25, 26, 27, 28, 31, 34, 35, 39, 40, 41, 43, 44, 45, 48, 49, 50, 51, 52, 53, 55, 56, 60, 62, 63, 64, 65]\n",
      "WARNING: aclu 10 is not present in the pf1D_all ratemaps. Which contain aclus: [5, 6, 7, 8, 11, 12, 15, 17, 18, 19, 20, 21, 24, 25, 26, 27, 28, 31, 34, 35, 39, 40, 41, 43, 44, 45, 48, 49, 50, 51, 52, 53, 55, 56, 60, 62, 63, 64, 65]\n",
      "\t saved /home/halechr/repo/Spike3D/EXTERNAL/Screenshots/ProgrammaticDisplayFunctionTesting/2023-06-22/kdiba_gor01_two_2006-6-07_16-40-19_BatchPhoJonathanReplayFRC_shared_1of6_[2, 3, 4, 5, 6, 7, 8, 9, 10, 11].png\n",
      "include_includelist: ['maze1', 'maze2', 'maze']\n",
      "long_epoch_name: maze1, short_epoch_name: maze2, global_epoch_name: maze\n",
      "WARNING: aclu 13 is not present in the pf1D_all ratemaps. Which contain aclus: [5, 6, 7, 8, 11, 12, 15, 17, 18, 19, 20, 21, 24, 25, 26, 27, 28, 31, 34, 35, 39, 40, 41, 43, 44, 45, 48, 49, 50, 51, 52, 53, 55, 56, 60, 62, 63, 64, 65]\n",
      "WARNING: aclu 14 is not present in the pf1D_all ratemaps. Which contain aclus: [5, 6, 7, 8, 11, 12, 15, 17, 18, 19, 20, 21, 24, 25, 26, 27, 28, 31, 34, 35, 39, 40, 41, 43, 44, 45, 48, 49, 50, 51, 52, 53, 55, 56, 60, 62, 63, 64, 65]\n",
      "WARNING: aclu 16 is not present in the pf1D_all ratemaps. Which contain aclus: [5, 6, 7, 8, 11, 12, 15, 17, 18, 19, 20, 21, 24, 25, 26, 27, 28, 31, 34, 35, 39, 40, 41, 43, 44, 45, 48, 49, 50, 51, 52, 53, 55, 56, 60, 62, 63, 64, 65]\n",
      "WARNING: aclu 22 is not present in the pf1D_all ratemaps. Which contain aclus: [5, 6, 7, 8, 11, 12, 15, 17, 18, 19, 20, 21, 24, 25, 26, 27, 28, 31, 34, 35, 39, 40, 41, 43, 44, 45, 48, 49, 50, 51, 52, 53, 55, 56, 60, 62, 63, 64, 65]\n",
      "WARNING: aclu 23 is not present in the pf1D_all ratemaps. Which contain aclus: [5, 6, 7, 8, 11, 12, 15, 17, 18, 19, 20, 21, 24, 25, 26, 27, 28, 31, 34, 35, 39, 40, 41, 43, 44, 45, 48, 49, 50, 51, 52, 53, 55, 56, 60, 62, 63, 64, 65]\n",
      "\t saved /home/halechr/repo/Spike3D/EXTERNAL/Screenshots/ProgrammaticDisplayFunctionTesting/2023-06-22/kdiba_gor01_two_2006-6-07_16-40-19_BatchPhoJonathanReplayFRC_shared_2of6_[13, 14, 15, 16, 17, 20, 22, 23, 24, 25].png\n",
      "include_includelist: ['maze1', 'maze2', 'maze']\n",
      "long_epoch_name: maze1, short_epoch_name: maze2, global_epoch_name: maze\n",
      "WARNING: aclu 29 is not present in the pf1D_all ratemaps. Which contain aclus: [5, 6, 7, 8, 11, 12, 15, 17, 18, 19, 20, 21, 24, 25, 26, 27, 28, 31, 34, 35, 39, 40, 41, 43, 44, 45, 48, 49, 50, 51, 52, 53, 55, 56, 60, 62, 63, 64, 65]\n",
      "WARNING: aclu 30 is not present in the pf1D_all ratemaps. Which contain aclus: [5, 6, 7, 8, 11, 12, 15, 17, 18, 19, 20, 21, 24, 25, 26, 27, 28, 31, 34, 35, 39, 40, 41, 43, 44, 45, 48, 49, 50, 51, 52, 53, 55, 56, 60, 62, 63, 64, 65]\n",
      "WARNING: aclu 32 is not present in the pf1D_all ratemaps. Which contain aclus: [5, 6, 7, 8, 11, 12, 15, 17, 18, 19, 20, 21, 24, 25, 26, 27, 28, 31, 34, 35, 39, 40, 41, 43, 44, 45, 48, 49, 50, 51, 52, 53, 55, 56, 60, 62, 63, 64, 65]\n",
      "WARNING: aclu 33 is not present in the pf1D_all ratemaps. Which contain aclus: [5, 6, 7, 8, 11, 12, 15, 17, 18, 19, 20, 21, 24, 25, 26, 27, 28, 31, 34, 35, 39, 40, 41, 43, 44, 45, 48, 49, 50, 51, 52, 53, 55, 56, 60, 62, 63, 64, 65]\n",
      "\t saved /home/halechr/repo/Spike3D/EXTERNAL/Screenshots/ProgrammaticDisplayFunctionTesting/2023-06-22/kdiba_gor01_two_2006-6-07_16-40-19_BatchPhoJonathanReplayFRC_shared_3of6_[26, 27, 28, 29, 30, 31, 32, 33, 34, 35].png\n",
      "include_includelist: ['maze1', 'maze2', 'maze']\n",
      "long_epoch_name: maze1, short_epoch_name: maze2, global_epoch_name: maze\n",
      "WARNING: aclu 36 is not present in the pf1D_all ratemaps. Which contain aclus: [5, 6, 7, 8, 11, 12, 15, 17, 18, 19, 20, 21, 24, 25, 26, 27, 28, 31, 34, 35, 39, 40, 41, 43, 44, 45, 48, 49, 50, 51, 52, 53, 55, 56, 60, 62, 63, 64, 65]\n",
      "WARNING: aclu 37 is not present in the pf1D_all ratemaps. Which contain aclus: [5, 6, 7, 8, 11, 12, 15, 17, 18, 19, 20, 21, 24, 25, 26, 27, 28, 31, 34, 35, 39, 40, 41, 43, 44, 45, 48, 49, 50, 51, 52, 53, 55, 56, 60, 62, 63, 64, 65]\n",
      "WARNING: aclu 38 is not present in the pf1D_all ratemaps. Which contain aclus: [5, 6, 7, 8, 11, 12, 15, 17, 18, 19, 20, 21, 24, 25, 26, 27, 28, 31, 34, 35, 39, 40, 41, 43, 44, 45, 48, 49, 50, 51, 52, 53, 55, 56, 60, 62, 63, 64, 65]\n",
      "WARNING: aclu 42 is not present in the pf1D_all ratemaps. Which contain aclus: [5, 6, 7, 8, 11, 12, 15, 17, 18, 19, 20, 21, 24, 25, 26, 27, 28, 31, 34, 35, 39, 40, 41, 43, 44, 45, 48, 49, 50, 51, 52, 53, 55, 56, 60, 62, 63, 64, 65]\n",
      "\t saved /home/halechr/repo/Spike3D/EXTERNAL/Screenshots/ProgrammaticDisplayFunctionTesting/2023-06-22/kdiba_gor01_two_2006-6-07_16-40-19_BatchPhoJonathanReplayFRC_shared_4of6_[36, 37, 38, 39, 40, 41, 42, 43, 44, 45].png\n",
      "include_includelist: ['maze1', 'maze2', 'maze']\n",
      "long_epoch_name: maze1, short_epoch_name: maze2, global_epoch_name: maze\n",
      "WARNING: aclu 46 is not present in the pf1D_all ratemaps. Which contain aclus: [5, 6, 7, 8, 11, 12, 15, 17, 18, 19, 20, 21, 24, 25, 26, 27, 28, 31, 34, 35, 39, 40, 41, 43, 44, 45, 48, 49, 50, 51, 52, 53, 55, 56, 60, 62, 63, 64, 65]\n",
      "WARNING: aclu 47 is not present in the pf1D_all ratemaps. Which contain aclus: [5, 6, 7, 8, 11, 12, 15, 17, 18, 19, 20, 21, 24, 25, 26, 27, 28, 31, 34, 35, 39, 40, 41, 43, 44, 45, 48, 49, 50, 51, 52, 53, 55, 56, 60, 62, 63, 64, 65]\n",
      "WARNING: aclu 54 is not present in the pf1D_all ratemaps. Which contain aclus: [5, 6, 7, 8, 11, 12, 15, 17, 18, 19, 20, 21, 24, 25, 26, 27, 28, 31, 34, 35, 39, 40, 41, 43, 44, 45, 48, 49, 50, 51, 52, 53, 55, 56, 60, 62, 63, 64, 65]\n",
      "\t saved /home/halechr/repo/Spike3D/EXTERNAL/Screenshots/ProgrammaticDisplayFunctionTesting/2023-06-22/kdiba_gor01_two_2006-6-07_16-40-19_BatchPhoJonathanReplayFRC_shared_5of6_[46, 47, 49, 50, 51, 52, 53, 54, 55, 56].png\n",
      "include_includelist: ['maze1', 'maze2', 'maze']\n",
      "long_epoch_name: maze1, short_epoch_name: maze2, global_epoch_name: maze\n",
      "WARNING: aclu 57 is not present in the pf1D_all ratemaps. Which contain aclus: [5, 6, 7, 8, 11, 12, 15, 17, 18, 19, 20, 21, 24, 25, 26, 27, 28, 31, 34, 35, 39, 40, 41, 43, 44, 45, 48, 49, 50, 51, 52, 53, 55, 56, 60, 62, 63, 64, 65]\n",
      "WARNING: aclu 58 is not present in the pf1D_all ratemaps. Which contain aclus: [5, 6, 7, 8, 11, 12, 15, 17, 18, 19, 20, 21, 24, 25, 26, 27, 28, 31, 34, 35, 39, 40, 41, 43, 44, 45, 48, 49, 50, 51, 52, 53, 55, 56, 60, 62, 63, 64, 65]\n",
      "WARNING: aclu 59 is not present in the pf1D_all ratemaps. Which contain aclus: [5, 6, 7, 8, 11, 12, 15, 17, 18, 19, 20, 21, 24, 25, 26, 27, 28, 31, 34, 35, 39, 40, 41, 43, 44, 45, 48, 49, 50, 51, 52, 53, 55, 56, 60, 62, 63, 64, 65]\n",
      "WARNING: aclu 61 is not present in the pf1D_all ratemaps. Which contain aclus: [5, 6, 7, 8, 11, 12, 15, 17, 18, 19, 20, 21, 24, 25, 26, 27, 28, 31, 34, 35, 39, 40, 41, 43, 44, 45, 48, 49, 50, 51, 52, 53, 55, 56, 60, 62, 63, 64, 65]\n",
      "\t saved /home/halechr/repo/Spike3D/EXTERNAL/Screenshots/ProgrammaticDisplayFunctionTesting/2023-06-22/kdiba_gor01_two_2006-6-07_16-40-19_BatchPhoJonathanReplayFRC_shared_6of6_[57, 58, 59, 60, 61, 62, 63, 64].png\n",
      "curr_session_parent_out_path: /home/halechr/repo/Spike3D/EXTERNAL/Screenshots/ProgrammaticDisplayFunctionTesting/2023-06-22\n",
      "\t saved /home/halechr/repo/Spike3D/EXTERNAL/Screenshots/ProgrammaticDisplayFunctionTesting/2023-06-22/kdiba_gor01_two_2006-6-07_16-40-19_maze1_1d_placefields.png\n",
      "\t saved /home/halechr/repo/Spike3D/EXTERNAL/Screenshots/ProgrammaticDisplayFunctionTesting/2023-06-22/kdiba_gor01_two_2006-6-07_16-40-19_maze2_1d_placefields.png\n",
      "\t saved /home/halechr/repo/Spike3D/EXTERNAL/Screenshots/ProgrammaticDisplayFunctionTesting/2023-06-22/kdiba_gor01_two_2006-6-07_16-40-19_maze_1d_placefields.png\n",
      "\t saved /home/halechr/repo/Spike3D/EXTERNAL/Screenshots/ProgrammaticDisplayFunctionTesting/2023-06-22/kdiba_gor01_two_2006-6-07_16-40-19_maze1__display_2d_placefield_result_plot_ratemaps_2D.png\n",
      "\t saved /home/halechr/repo/Spike3D/EXTERNAL/Screenshots/ProgrammaticDisplayFunctionTesting/2023-06-22/kdiba_gor01_two_2006-6-07_16-40-19_maze2__display_2d_placefield_result_plot_ratemaps_2D.png\n",
      "\t saved /home/halechr/repo/Spike3D/EXTERNAL/Screenshots/ProgrammaticDisplayFunctionTesting/2023-06-22/kdiba_gor01_two_2006-6-07_16-40-19_maze__display_2d_placefield_result_plot_ratemaps_2D.png\n",
      "\t saved /home/halechr/repo/Spike3D/EXTERNAL/Screenshots/ProgrammaticDisplayFunctionTesting/2023-06-22/kdiba_gor01_two_2006-6-07_16-40-19_maze1_plot_occupancy_OCCUPANCY.png\n",
      "\t saved /home/halechr/repo/Spike3D/EXTERNAL/Screenshots/ProgrammaticDisplayFunctionTesting/2023-06-22/kdiba_gor01_two_2006-6-07_16-40-19_maze2_plot_occupancy_OCCUPANCY.png\n",
      "\t saved /home/halechr/repo/Spike3D/EXTERNAL/Screenshots/ProgrammaticDisplayFunctionTesting/2023-06-22/kdiba_gor01_two_2006-6-07_16-40-19_maze_plot_occupancy_OCCUPANCY.png\n",
      "\t saved /home/halechr/repo/Spike3D/EXTERNAL/Screenshots/ProgrammaticDisplayFunctionTesting/2023-06-22/kdiba_gor01_two_2006-6-07_16-40-19_long_short_firing_rate_indicies_display_long_short_laps.png\n",
      "global_y_min_SHORT: 1.3106317003597944e-06, global_y_max_SHORT: 6.638053195971556\n",
      "global_y_min_LONG: 0.0, global_y_max_LONG: 6.886917874099634\n",
      "global_y_min: 0.0, global_y_max: 6.886917874099634\n",
      "\t saved /home/halechr/repo/Spike3D/EXTERNAL/Screenshots/ProgrammaticDisplayFunctionTesting/2023-06-22/kdiba_gor01_two_2006-6-07_16-40-19_plot_expected_vs_observed_epoch_idx_obs_exp_diff_ptp.png\n",
      "\t saved /home/halechr/repo/Spike3D/EXTERNAL/Screenshots/ProgrammaticDisplayFunctionTesting/2023-06-22/kdiba_gor01_two_2006-6-07_16-40-19__display_grid_bin_bounds_validation.png\n",
      "\t saved /home/halechr/repo/Spike3D/EXTERNAL/Screenshots/ProgrammaticDisplayFunctionTesting/2023-06-22/kdiba_gor01_two_2006-6-07_16-40-19_running_and_replay_speeds_over_time.png\n",
      "\t saved /home/halechr/repo/Spike3D/EXTERNAL/Screenshots/ProgrammaticDisplayFunctionTesting/2023-06-22/kdiba_gor01_two_2006-6-07_16-40-19_display_long_short_laps.png\n",
      "\t saved /home/halechr/repo/Spike3D/EXTERNAL/Screenshots/ProgrammaticDisplayFunctionTesting/2023-06-22/kdiba_gor01_two_2006-6-07_16-40-19_maze1_plot_single_track_firing_rate_compare.png\n",
      "\t saved /home/halechr/repo/Spike3D/EXTERNAL/Screenshots/ProgrammaticDisplayFunctionTesting/2023-06-22/kdiba_gor01_two_2006-6-07_16-40-19_maze2_plot_single_track_firing_rate_compare.png\n",
      "DEBUG: new_all_aclus_sort_indicies: [ 5 22 36 10  6 30 29 34 28 16 14 27 17  0 21 35  4 15 32 25  2 12 31  7\n",
      "  1 33 18 19  3 26 11 13 20 37 24 23 38  9  8]\n",
      "\t saved /home/halechr/repo/Spike3D/EXTERNAL/Screenshots/ProgrammaticDisplayFunctionTesting/2023-06-22/kdiba_gor01_two_2006-6-07_16-40-19_display_short_long_pf1D_comparison_long.png\n",
      "\t saved /home/halechr/repo/Spike3D/EXTERNAL/Screenshots/ProgrammaticDisplayFunctionTesting/2023-06-22/kdiba_gor01_two_2006-6-07_16-40-19_display_short_long_pf1D_comparison_short.png\n",
      "active_identifying_ctx_string: \"kdiba|gor01|two|2006-6-07_16-40-19|DecodedEpochSlices|replays|long_results_obj|1of1|[  0   1   2   3   4   5   6   7   8   9  10  11  12  13  14  15  16  17\n",
      "  18  19  20  21  22  23  24  25  26  27  28  29  30  31  32  33  34  35\n",
      "  36  37  38  39  40  41  42  43  44  45  46  47  48  49  50  51  52  53\n",
      "  54  55  56  57  58  59  60  61  62  63  64  65  66  67  68  69  70  71\n",
      "  72  73  74  75  76  77  78  79  80  81  82  83  84  85  86  87  88  89\n",
      "  90  91  92  93  94  95  96  97  98  99 100 101 102 103 104 105 106 107\n",
      " 108 109 110 111 112 113 114 115 116 117 118 119 120 121 122 123 124 125\n",
      " 126 127 128 129 130 131 132]\"\n",
      "active_identifying_ctx_string: \"kdiba|gor01|two|2006-6-07_16-40-19|DecodedEpochSlices|replays|long_results_obj|1of1|[  0   1   2   3   4   5   6   7   8   9  10  11  12  13  14  15  16  17\n",
      "  18  19  20  21  22  23  24  25  26  27  28  29  30  31  32  33  34  35\n",
      "  36  37  38  39  40  41  42  43  44  45  46  47  48  49  50  51  52  53\n",
      "  54  55  56  57  58  59  60  61  62  63  64  65  66  67  68  69  70  71\n",
      "  72  73  74  75  76  77  78  79  80  81  82  83  84  85  86  87  88  89\n",
      "  90  91  92  93  94  95  96  97  98  99 100 101 102 103 104 105 106 107\n",
      " 108 109 110 111 112 113 114 115 116 117 118 119 120 121 122 123 124 125\n",
      " 126 127 128 129 130 131 132]\"\n",
      "\t saved /home/halechr/repo/Spike3D/EXTERNAL/Screenshots/ProgrammaticDisplayFunctionTesting/2023-06-22/kdiba_gor01_two_2006-6-07_16-40-19_DecodedEpochSlices_replays_long_results_obj.png\n",
      "active_identifying_ctx_string: \"kdiba|gor01|two|2006-6-07_16-40-19|DecodedEpochSlices|replays|short_results_obj|1of1|[  0   1   2   3   4   5   6   7   8   9  10  11  12  13  14  15  16  17\n",
      "  18  19  20  21  22  23  24  25  26  27  28  29  30  31  32  33  34  35\n",
      "  36  37  38  39  40  41  42  43  44  45  46  47  48  49  50  51  52  53\n",
      "  54  55  56  57  58  59  60  61  62  63  64  65  66  67  68  69  70  71\n",
      "  72  73  74  75  76  77  78  79  80  81  82  83  84  85  86  87  88  89\n",
      "  90  91  92  93  94  95  96  97  98  99 100 101 102 103 104 105 106 107\n",
      " 108 109 110 111 112 113 114 115 116 117 118 119 120 121 122 123 124 125\n",
      " 126 127 128 129 130 131 132]\"\n",
      "active_identifying_ctx_string: \"kdiba|gor01|two|2006-6-07_16-40-19|DecodedEpochSlices|replays|short_results_obj|1of1|[  0   1   2   3   4   5   6   7   8   9  10  11  12  13  14  15  16  17\n",
      "  18  19  20  21  22  23  24  25  26  27  28  29  30  31  32  33  34  35\n",
      "  36  37  38  39  40  41  42  43  44  45  46  47  48  49  50  51  52  53\n",
      "  54  55  56  57  58  59  60  61  62  63  64  65  66  67  68  69  70  71\n",
      "  72  73  74  75  76  77  78  79  80  81  82  83  84  85  86  87  88  89\n",
      "  90  91  92  93  94  95  96  97  98  99 100 101 102 103 104 105 106 107\n",
      " 108 109 110 111 112 113 114 115 116 117 118 119 120 121 122 123 124 125\n",
      " 126 127 128 129 130 131 132]\"\n",
      "\t saved /home/halechr/repo/Spike3D/EXTERNAL/Screenshots/ProgrammaticDisplayFunctionTesting/2023-06-22/kdiba_gor01_two_2006-6-07_16-40-19_DecodedEpochSlices_replays_short_results_obj.png\n",
      "Neptuner.stop() called!\n",
      "Shutting down background jobs, please wait a moment...\n",
      "Done!\n",
      "Waiting for the remaining 31 operations to synchronize with Neptune. Do not kill this process.\n",
      "All 31 operations synced, thanks for waiting!\n",
      "Explore the metadata in the Neptune app:\n",
      "https://app.neptune.ai/commander.pho/PhoDibaLongShortUpdated/e/LS2023-153/metadata\n",
      "Shutting down background jobs, please wait a moment...\n",
      "Done!\n",
      "All 0 operations synced, thanks for waiting!\n",
      "Explore the metadata in the Neptune app:\n",
      "https://app.neptune.ai/commander.pho/PhoDibaLongShortUpdated/metadata\n",
      "Neptuner stoppped.\n",
      "Neptuner.stop() called!\n",
      "Neptuner stoppped.\n"
     ]
    }
   ],
   "source": [
    "curr_active_pipeline.reload_default_display_functions()\n",
    "\n",
    "neptuner = batch_perform_all_plots(curr_active_pipeline, enable_neptune=True)\n"
   ]
  },
  {
   "attachments": {},
   "cell_type": "markdown",
   "id": "7e7106ef",
   "metadata": {},
   "source": [
    "### Pipeline Loading/Saving [Optional]"
   ]
  },
  {
   "cell_type": "code",
   "execution_count": null,
   "id": "5a7f3fa3",
   "metadata": {},
   "outputs": [],
   "source": [
    "curr_active_pipeline.save_pipeline(saving_mode=PipelineSavingScheme.TEMP_THEN_OVERWRITE) # AttributeError: 'PfND_TimeDependent' object has no attribute '_included_thresh_neurons_indx'\n",
    "# TypeError: cannot pickle 'MplMultiTab' object\n",
    "# PicklingError: Can't pickle .set_closure_cell at 0x000002BF248F50D0>: it's not found as attr._compat.make_set_closure_cell..set_closure_cell\n",
    "# TypeError: cannot pickle 'PyQt5.QtCore.pyqtSignal' object"
   ]
  },
  {
   "cell_type": "code",
   "execution_count": null,
   "id": "c09c2afd",
   "metadata": {},
   "outputs": [],
   "source": [
    "curr_active_pipeline.save_pipeline(saving_mode=PipelineSavingScheme.OVERWRITE_IN_PLACE)"
   ]
  },
  {
   "cell_type": "code",
   "execution_count": null,
   "id": "12c4c775",
   "metadata": {},
   "outputs": [],
   "source": [
    "curr_active_pipeline.save_global_computation_results() # PicklingError: Can't pickle .set_closure_cell at 0x000002BF248F50D0>: it's not found as attr._compat.make_set_closure_cell..set_closure_cell"
   ]
  },
  {
   "cell_type": "code",
   "execution_count": null,
   "id": "dc47d835",
   "metadata": {},
   "outputs": [],
   "source": [
    "curr_active_pipeline.load_pickled_global_computation_results()"
   ]
  },
  {
   "cell_type": "code",
   "execution_count": null,
   "id": "241dc49f",
   "metadata": {},
   "outputs": [],
   "source": [
    "curr_active_pipeline.clear_display_outputs()\n",
    "curr_active_pipeline.clear_registered_output_files()"
   ]
  },
  {
   "cell_type": "code",
   "execution_count": null,
   "id": "ba716fe2",
   "metadata": {},
   "outputs": [],
   "source": [
    "curr_active_pipeline.save_global_computation_results()"
   ]
  },
  {
   "attachments": {},
   "cell_type": "markdown",
   "id": "c850782f",
   "metadata": {},
   "source": [
    "# End Run"
   ]
  },
  {
   "cell_type": "code",
   "execution_count": 5,
   "id": "dda48261",
   "metadata": {
    "tags": [
     "load",
     "ACTIVE"
    ]
   },
   "outputs": [],
   "source": [
    "## long_short_decoding_analyses:\n",
    "curr_long_short_decoding_analyses = curr_active_pipeline.global_computation_results.computed_data['long_short_leave_one_out_decoding_analysis']\n",
    "## Extract variables from results object:\n",
    "long_one_step_decoder_1D, short_one_step_decoder_1D, long_replays, short_replays, global_replays, long_shared_aclus_only_decoder, short_shared_aclus_only_decoder, shared_aclus, long_short_pf_neurons_diff, n_neurons, long_results_obj, short_results_obj, is_global = curr_long_short_decoding_analyses.long_decoder, curr_long_short_decoding_analyses.short_decoder, curr_long_short_decoding_analyses.long_replays, curr_long_short_decoding_analyses.short_replays, curr_long_short_decoding_analyses.global_replays, curr_long_short_decoding_analyses.long_shared_aclus_only_decoder, curr_long_short_decoding_analyses.short_shared_aclus_only_decoder, curr_long_short_decoding_analyses.shared_aclus, curr_long_short_decoding_analyses.long_short_pf_neurons_diff, curr_long_short_decoding_analyses.n_neurons, curr_long_short_decoding_analyses.long_results_obj, curr_long_short_decoding_analyses.short_results_obj, curr_long_short_decoding_analyses.is_global\n",
    "\n",
    "# (long_one_step_decoder_1D, short_one_step_decoder_1D), (long_one_step_decoder_2D, short_one_step_decoder_2D) = compute_short_long_constrained_decoders(curr_active_pipeline, recalculate_anyway=True)\n",
    "long_epoch_name, short_epoch_name, global_epoch_name = curr_active_pipeline.find_LongShortGlobal_epoch_names()\n",
    "long_epoch_context, short_epoch_context, global_epoch_context = [curr_active_pipeline.filtered_contexts[a_name] for a_name in (long_epoch_name, short_epoch_name, global_epoch_name)]\n",
    "long_session, short_session, global_session = [curr_active_pipeline.filtered_sessions[an_epoch_name] for an_epoch_name in [long_epoch_name, short_epoch_name, global_epoch_name]]\n",
    "long_results, short_results, global_results = [curr_active_pipeline.computation_results[an_epoch_name]['computed_data'] for an_epoch_name in [long_epoch_name, short_epoch_name, global_epoch_name]]\n",
    "long_computation_config, short_computation_config, global_computation_config = [curr_active_pipeline.computation_results[an_epoch_name]['computation_config'] for an_epoch_name in [long_epoch_name, short_epoch_name, global_epoch_name]]\n",
    "long_pf1D, short_pf1D, global_pf1D = long_results.pf1D, short_results.pf1D, global_results.pf1D\n",
    "long_pf2D, short_pf2D, global_pf2D = long_results.pf2D, short_results.pf2D, global_results.pf2D\n",
    "decoding_time_bin_size = long_one_step_decoder_1D.time_bin_size # 1.0/30.0 # 0.03333333333333333\n",
    "\n",
    "## Get global 'long_short_post_decoding' results:\n",
    "curr_long_short_post_decoding = curr_active_pipeline.global_computation_results.computed_data['long_short_post_decoding']\n",
    "expected_v_observed_result, curr_long_short_rr = curr_long_short_post_decoding.expected_v_observed_result, curr_long_short_post_decoding.rate_remapping\n",
    "rate_remapping_df, high_remapping_cells_only = curr_long_short_rr.rr_df, curr_long_short_rr.high_only_rr_df\n",
    "Flat_epoch_time_bins_mean, Flat_decoder_time_bin_centers, num_neurons, num_timebins_in_epoch, num_total_flat_timebins, is_short_track_epoch, is_long_track_epoch, short_short_diff, long_long_diff = expected_v_observed_result['Flat_epoch_time_bins_mean'], expected_v_observed_result['Flat_decoder_time_bin_centers'], expected_v_observed_result['num_neurons'], expected_v_observed_result['num_timebins_in_epoch'], expected_v_observed_result['num_total_flat_timebins'], expected_v_observed_result['is_short_track_epoch'], expected_v_observed_result['is_long_track_epoch'], expected_v_observed_result['short_short_diff'], expected_v_observed_result['long_long_diff']\n",
    "\n",
    "jonathan_firing_rate_analysis_result = JonathanFiringRateAnalysisResult(**curr_active_pipeline.global_computation_results.computed_data.jonathan_firing_rate_analysis.to_dict())"
   ]
  },
  {
   "attachments": {},
   "cell_type": "markdown",
   "id": "f9e59bdb",
   "metadata": {},
   "source": [
    "# ***NOW*** TODO 2023-06-20 22:01: - [ ] OONE FACTORING OUT `PAPER_FIGURE_figure_1_add_replay_epoch_rasters` and got plots to show up.\n",
    "# - Just get both `plot_multiple_raster_plot` calls (long and short) to show up simultaneously"
   ]
  },
  {
   "cell_type": "code",
   "execution_count": 10,
   "id": "63af0737",
   "metadata": {},
   "outputs": [],
   "source": [
    "from PendingNotebookCode import PAPER_FIGURE_figure_1_add_replay_epoch_rasters, PAPER_FIGURE_figure_1_full\n",
    "from pyphoplacecellanalysis.General.Pipeline.Stages.DisplayFunctions.MultiContextComparingDisplayFunctions.LongShortTrackComparingDisplayFunctions import determine_long_short_pf1D_indicies_sort_by_peak\n",
    "from pyphoplacecellanalysis.General.Pipeline.Stages.DisplayFunctions.SpikeRasters import plot_multiple_raster_plot, plot_raster_plot\n",
    "from pyphoplacecellanalysis.General.Mixins.DataSeriesColorHelpers import DataSeriesColorHelpers\n",
    "from pyphoplacecellanalysis.GUI.PyQtPlot.Widgets.helpers import _helper_make_scatterplot_clickable\n",
    "from neuropy.utils.mixins.enum_helpers import StringLiteralComparableEnum\n",
    "from pyphoplacecellanalysis.General.Mixins.DataSeriesColorHelpers import UnitColoringMode, DataSeriesColorHelpers"
   ]
  },
  {
   "cell_type": "code",
   "execution_count": 11,
   "id": "f77377ba",
   "metadata": {},
   "outputs": [
    {
     "name": "stdout",
     "output_type": "stream",
     "text": [
      "DEBUG: new_all_aclus_sort_indicies: [ 5 22 36 10  6 30 29 34 28 16 14 27 17  0 21 35  4 15 32 25  2 12 31  7\n",
      "  1 33 18 19  3 26 11 13 20 37 24 23 38  9  8]\n",
      "scatter_plot_kwargs: {'pxMode': True, 'symbol': <PyQt5.QtGui.QPainterPath object at 0x7f0243b4df90>, 'size': 6, 'pen': {'color': 'white', 'width': 1}}\n",
      "scatter_plot_kwargs: {'pxMode': True, 'symbol': <PyQt5.QtGui.QPainterPath object at 0x7f0243b4df90>, 'size': 6, 'pen': {'color': 'white', 'width': 1}}\n",
      "active_identifying_ctx_string: \"kdiba|gor01|two|2006-6-07_16-40-19|DecodedEpochSlices|replays|long_results_obj|1of1|[  0   1   2   3   4   5   6   7   8   9  10  11  12  13  14  15  16  17\n",
      "  18  19  20  21  22  23  24  25  26  27  28  29  30  31  32  33  34  35\n",
      "  36  37  38  39  40  41  42  43  44  45  46  47  48  49  50  51  52  53\n",
      "  54  55  56  57  58  59  60  61  62  63  64  65  66  67  68  69  70  71\n",
      "  72  73  74  75  76  77  78  79  80  81  82  83  84  85  86  87  88  89\n",
      "  90  91  92  93  94  95  96  97  98  99 100 101 102 103 104 105 106 107\n",
      " 108 109 110 111 112 113 114 115 116 117 118 119 120 121 122 123 124 125\n",
      " 126 127 128 129 130 131 132]\"\n",
      "active_identifying_ctx_string: \"kdiba|gor01|two|2006-6-07_16-40-19|DecodedEpochSlices|replays|long_results_obj|1of1|[  0   1   2   3   4   5   6   7   8   9  10  11  12  13  14  15  16  17\n",
      "  18  19  20  21  22  23  24  25  26  27  28  29  30  31  32  33  34  35\n",
      "  36  37  38  39  40  41  42  43  44  45  46  47  48  49  50  51  52  53\n",
      "  54  55  56  57  58  59  60  61  62  63  64  65  66  67  68  69  70  71\n",
      "  72  73  74  75  76  77  78  79  80  81  82  83  84  85  86  87  88  89\n",
      "  90  91  92  93  94  95  96  97  98  99 100 101 102 103 104 105 106 107\n",
      " 108 109 110 111 112 113 114 115 116 117 118 119 120 121 122 123 124 125\n",
      " 126 127 128 129 130 131 132]\"\n",
      "\t saved /home/halechr/repo/Spike3D/EXTERNAL/Screenshots/ProgrammaticDisplayFunctionTesting/2023-06-22/kdiba_gor01_two_2006-6-07_16-40-19_DecodedEpochSlices_replays_long_results_obj.png\n",
      "active_identifying_ctx_string: \"kdiba|gor01|two|2006-6-07_16-40-19|DecodedEpochSlices|replays|short_results_obj|1of1|[  0   1   2   3   4   5   6   7   8   9  10  11  12  13  14  15  16  17\n",
      "  18  19  20  21  22  23  24  25  26  27  28  29  30  31  32  33  34  35\n",
      "  36  37  38  39  40  41  42  43  44  45  46  47  48  49  50  51  52  53\n",
      "  54  55  56  57  58  59  60  61  62  63  64  65  66  67  68  69  70  71\n",
      "  72  73  74  75  76  77  78  79  80  81  82  83  84  85  86  87  88  89\n",
      "  90  91  92  93  94  95  96  97  98  99 100 101 102 103 104 105 106 107\n",
      " 108 109 110 111 112 113 114 115 116 117 118 119 120 121 122 123 124 125\n",
      " 126 127 128 129 130 131 132]\"\n",
      "active_identifying_ctx_string: \"kdiba|gor01|two|2006-6-07_16-40-19|DecodedEpochSlices|replays|short_results_obj|1of1|[  0   1   2   3   4   5   6   7   8   9  10  11  12  13  14  15  16  17\n",
      "  18  19  20  21  22  23  24  25  26  27  28  29  30  31  32  33  34  35\n",
      "  36  37  38  39  40  41  42  43  44  45  46  47  48  49  50  51  52  53\n",
      "  54  55  56  57  58  59  60  61  62  63  64  65  66  67  68  69  70  71\n",
      "  72  73  74  75  76  77  78  79  80  81  82  83  84  85  86  87  88  89\n",
      "  90  91  92  93  94  95  96  97  98  99 100 101 102 103 104 105 106 107\n",
      " 108 109 110 111 112 113 114 115 116 117 118 119 120 121 122 123 124 125\n",
      " 126 127 128 129 130 131 132]\"\n",
      "\t saved /home/halechr/repo/Spike3D/EXTERNAL/Screenshots/ProgrammaticDisplayFunctionTesting/2023-06-22/kdiba_gor01_two_2006-6-07_16-40-19_DecodedEpochSlices_replays_short_results_obj.png\n"
     ]
    }
   ],
   "source": [
    "pf1d_compare_graphics, (example_epoch_rasters_L, example_epoch_rasters_S), example_stacked_epoch_graphics = PAPER_FIGURE_figure_1_full(curr_active_pipeline)"
   ]
  },
  {
   "cell_type": "code",
   "execution_count": 9,
   "id": "b347faf1",
   "metadata": {},
   "outputs": [
    {
     "ename": "NameError",
     "evalue": "name 'pf1d_compare_graphics' is not defined",
     "output_type": "error",
     "traceback": [
      "\u001b[0;31m---------------------------------------------------------------------------\u001b[0m",
      "\u001b[0;31mNameError\u001b[0m                                 Traceback (most recent call last)",
      "Cell \u001b[0;32mIn[9], line 1\u001b[0m\n\u001b[0;32m----> 1\u001b[0m pf1d_compare_graphics\n",
      "\u001b[0;31mNameError\u001b[0m: name 'pf1d_compare_graphics' is not defined"
     ]
    }
   ],
   "source": [
    "pf1d_compare_graphics"
   ]
  },
  {
   "cell_type": "code",
   "execution_count": 8,
   "id": "9174642a",
   "metadata": {},
   "outputs": [],
   "source": [
    "(epochs_df_L, epochs_df_S), (filter_epoch_spikes_df_L, filter_epoch_spikes_df_S), (short_exclusive, long_exclusive, BOTH_subset, EITHER_subset, XOR_subset, NEITHER_subset), new_all_aclus_sort_indicies = PAPER_FIGURE_figure_1_add_replay_epoch_rasters(curr_active_pipeline)"
   ]
  },
  {
   "cell_type": "code",
   "execution_count": null,
   "id": "b8403ea0",
   "metadata": {},
   "outputs": [],
   "source": [
    "# Common for all rasters:\n",
    "new_all_aclus_sort_indicies = determine_long_short_pf1D_indicies_sort_by_peak(curr_active_pipeline=curr_active_pipeline, curr_any_context_neurons=EITHER_subset.track_exclusive_aclus)\n",
    "new_all_aclus_sort_indicies"
   ]
  },
  {
   "cell_type": "code",
   "execution_count": null,
   "id": "50e128b9",
   "metadata": {},
   "outputs": [],
   "source": [
    "\n",
    "unit_colors_list = None # default rainbow of colors for the raster plots\n"
   ]
  },
  {
   "cell_type": "code",
   "execution_count": null,
   "id": "f41e7e4c",
   "metadata": {},
   "outputs": [],
   "source": [
    "# neuron_qcolors_list = [pg.mkColor('black') for aclu in EITHER_subset.track_exclusive_aclus] # solid black for all\n",
    "neuron_qcolors_list = [pg.mkColor('green') for aclu in EITHER_subset.track_exclusive_aclus] # solid black\n",
    "unit_colors_list = DataSeriesColorHelpers.qColorsList_to_NDarray(neuron_qcolors_list, is_255_array=True)\n",
    "unit_colors_list"
   ]
  },
  {
   "cell_type": "code",
   "execution_count": null,
   "id": "f8858abb",
   "metadata": {},
   "outputs": [],
   "source": [
    "is_left_exclusive = np.isin(EITHER_subset.track_exclusive_aclus, long_exclusive.track_exclusive_aclus) # get left exclusive\n",
    "unit_colors_list[0, is_left_exclusive] = 255 # [1.0, 0.0, 0.0, 1.0]\n",
    "unit_colors_list[1, is_left_exclusive] = 0.0\n",
    "unit_colors_list[2, is_left_exclusive] = 0.0"
   ]
  },
  {
   "cell_type": "code",
   "execution_count": null,
   "id": "9291091b",
   "metadata": {},
   "outputs": [],
   "source": [
    "\n",
    "# Common Tick Label\n",
    "vtick = pg.QtGui.QPainterPath()\n",
    "\n",
    "# Thicker Tick Label:\n",
    "tick_width = 0.25\n",
    "# tick_width = 10.0\n",
    "half_tick_width = 0.5 * tick_width\n",
    "vtick.moveTo(-half_tick_width, -0.5)\n",
    "vtick.addRect(-half_tick_width, -0.5, tick_width, 1.0) # x, y, width, height\n",
    "\n",
    "pen = {'color': 'red', 'width': 1}\n",
    "# pen = None\n",
    "override_scatter_plot_kwargs = dict(pxMode=True, symbol=vtick, size=10, pen=pen)"
   ]
  },
  {
   "cell_type": "code",
   "execution_count": null,
   "id": "226bb530",
   "metadata": {},
   "outputs": [],
   "source": [
    "filter_epoch_spikes_df_L.spikes.rebuild_fragile_linear_neuron_IDXs()"
   ]
  },
  {
   "cell_type": "code",
   "execution_count": 18,
   "id": "868f08d1",
   "metadata": {},
   "outputs": [
    {
     "data": {
      "text/html": [
       "<div>\n",
       "<style scoped>\n",
       "    .dataframe tbody tr th:only-of-type {\n",
       "        vertical-align: middle;\n",
       "    }\n",
       "\n",
       "    .dataframe tbody tr th {\n",
       "        vertical-align: top;\n",
       "    }\n",
       "\n",
       "    .dataframe thead th {\n",
       "        text-align: right;\n",
       "    }\n",
       "</style>\n",
       "<table border=\"1\" class=\"dataframe\">\n",
       "  <thead>\n",
       "    <tr style=\"text-align: right;\">\n",
       "      <th></th>\n",
       "      <th>start</th>\n",
       "      <th>stop</th>\n",
       "      <th>label</th>\n",
       "      <th>duration</th>\n",
       "      <th>score</th>\n",
       "      <th>velocity</th>\n",
       "      <th>intercept</th>\n",
       "      <th>speed</th>\n",
       "      <th>score_LONG</th>\n",
       "      <th>velocity_LONG</th>\n",
       "      <th>...</th>\n",
       "      <th>score_SHORT</th>\n",
       "      <th>velocity_SHORT</th>\n",
       "      <th>intercept_SHORT</th>\n",
       "      <th>speed_SHORT</th>\n",
       "      <th>contains_one_exclusive_aclu</th>\n",
       "      <th>active_unique_aclus</th>\n",
       "      <th>has_SHORT_exclusive_aclu</th>\n",
       "      <th>has_LONG_exclusive_aclu</th>\n",
       "      <th>long_is_user_included</th>\n",
       "      <th>short_is_user_included</th>\n",
       "    </tr>\n",
       "  </thead>\n",
       "  <tbody>\n",
       "    <tr>\n",
       "      <th>15</th>\n",
       "      <td>572.248426</td>\n",
       "      <td>572.442362</td>\n",
       "      <td>15</td>\n",
       "      <td>0.193935</td>\n",
       "      <td>0.402119</td>\n",
       "      <td>278.767653</td>\n",
       "      <td>17.585215</td>\n",
       "      <td>278.767653</td>\n",
       "      <td>0.402119</td>\n",
       "      <td>278.767653</td>\n",
       "      <td>...</td>\n",
       "      <td>0.510398</td>\n",
       "      <td>365.046541</td>\n",
       "      <td>93.566199</td>\n",
       "      <td>365.046541</td>\n",
       "      <td>True</td>\n",
       "      <td>[41, 20, 26, 7, 63, 40, 27, 55, 11, 6, 34, 35,...</td>\n",
       "      <td>False</td>\n",
       "      <td>True</td>\n",
       "      <td>True</td>\n",
       "      <td>True</td>\n",
       "    </tr>\n",
       "    <tr>\n",
       "      <th>49</th>\n",
       "      <td>1214.610824</td>\n",
       "      <td>1214.834834</td>\n",
       "      <td>49</td>\n",
       "      <td>0.224010</td>\n",
       "      <td>0.418059</td>\n",
       "      <td>486.120771</td>\n",
       "      <td>107.033229</td>\n",
       "      <td>486.120771</td>\n",
       "      <td>0.418059</td>\n",
       "      <td>486.120771</td>\n",
       "      <td>...</td>\n",
       "      <td>0.599423</td>\n",
       "      <td>269.914744</td>\n",
       "      <td>106.700251</td>\n",
       "      <td>269.914744</td>\n",
       "      <td>True</td>\n",
       "      <td>[52, 60, 51, 40, 6, 27, 7, 18, 34, 64, 35, 24,...</td>\n",
       "      <td>True</td>\n",
       "      <td>True</td>\n",
       "      <td>True</td>\n",
       "      <td>True</td>\n",
       "    </tr>\n",
       "  </tbody>\n",
       "</table>\n",
       "<p>2 rows × 22 columns</p>\n",
       "</div>"
      ],
      "text/plain": [
       "          start         stop label  duration     score    velocity  \\\n",
       "15   572.248426   572.442362    15  0.193935  0.402119  278.767653   \n",
       "49  1214.610824  1214.834834    49  0.224010  0.418059  486.120771   \n",
       "\n",
       "     intercept       speed  score_LONG  velocity_LONG  ...  score_SHORT  \\\n",
       "15   17.585215  278.767653    0.402119     278.767653  ...     0.510398   \n",
       "49  107.033229  486.120771    0.418059     486.120771  ...     0.599423   \n",
       "\n",
       "    velocity_SHORT  intercept_SHORT  speed_SHORT  contains_one_exclusive_aclu  \\\n",
       "15      365.046541        93.566199   365.046541                         True   \n",
       "49      269.914744       106.700251   269.914744                         True   \n",
       "\n",
       "                                  active_unique_aclus  \\\n",
       "15  [41, 20, 26, 7, 63, 40, 27, 55, 11, 6, 34, 35,...   \n",
       "49  [52, 60, 51, 40, 6, 27, 7, 18, 34, 64, 35, 24,...   \n",
       "\n",
       "    has_SHORT_exclusive_aclu has_LONG_exclusive_aclu  long_is_user_included  \\\n",
       "15                     False                    True                   True   \n",
       "49                      True                    True                   True   \n",
       "\n",
       "    short_is_user_included  \n",
       "15                    True  \n",
       "49                    True  \n",
       "\n",
       "[2 rows x 22 columns]"
      ]
     },
     "execution_count": 18,
     "metadata": {},
     "output_type": "execute_result"
    }
   ],
   "source": [
    "epochs_df_L\n",
    "\n",
    "# get the good epoch indicies from epoch_df_L.Index\n",
    "good_epoch_indicies_L = np.array([15, 49])\n"
   ]
  },
  {
   "cell_type": "code",
   "execution_count": null,
   "id": "4b6a1109",
   "metadata": {},
   "outputs": [],
   "source": [
    "from pyphoplacecellanalysis.Analysis.Decoder.decoder_result import plot_kourosh_activity_style_figure\n",
    "\n",
    "plot_aclus = EITHER_subset.track_exclusive_aclus.copy()\n",
    "# plot_aclus = EITHER_subset.track_exclusive_aclus[new_all_aclus_sort_indicies].copy()\n",
    "\n",
    "_out_A = plot_kourosh_activity_style_figure(long_results_obj, long_session, plot_aclus, epoch_idx=15, callout_epoch_IDXs=np.arange(5), skip_rendering_callouts=False)"
   ]
  },
  {
   "cell_type": "code",
   "execution_count": null,
   "id": "4915ef20",
   "metadata": {},
   "outputs": [],
   "source": [
    "_out_n = plot_kourosh_activity_style_figure(long_results_obj, long_session, EITHER_subset.track_exclusive_aclus, epoch_idx=49, callout_epoch_IDXs=np.arange(6), skip_rendering_callouts=False)"
   ]
  },
  {
   "cell_type": "code",
   "execution_count": null,
   "id": "d26dd0e4",
   "metadata": {},
   "outputs": [],
   "source": [
    "# Test single `plot_raster_plot` calls\n",
    "an_epoch = list(epochs_df_L.itertuples())[0]\n",
    "an_epoch_spikes_df = filter_epoch_spikes_df_L[filter_epoch_spikes_df_L['replay_epoch_id'] == an_epoch.Index]\n",
    "\n",
    "_out_single_raster_plot = plot_raster_plot(an_epoch_spikes_df, included_neuron_ids=EITHER_subset.track_exclusive_aclus, unit_sort_order=None, unit_colors_list=unit_colors_list, scatter_app_name=\"test1\")\n",
    "_out_single_raster_plot2 = plot_raster_plot(an_epoch_spikes_df, included_neuron_ids=EITHER_subset.track_exclusive_aclus, unit_sort_order=new_all_aclus_sort_indicies, unit_colors_list=unit_colors_list, scatter_app_name=\"test2\")"
   ]
  },
  {
   "cell_type": "code",
   "execution_count": null,
   "id": "b889b886",
   "metadata": {},
   "outputs": [],
   "source": [
    "app_L, win_L, plots_L, plots_data_L = plot_multiple_raster_plot(epochs_df_L, filter_epoch_spikes_df_L, included_neuron_ids=EITHER_subset.track_exclusive_aclus, unit_sort_order=new_all_aclus_sort_indicies, unit_colors_list=unit_colors_list, scatter_plot_kwargs=override_scatter_plot_kwargs,\n",
    "\t\t\t\t\t\t\t\t\t\tepoch_id_key_name='replay_epoch_id', scatter_app_name=\"Long Decoded Example Replays\")\n"
   ]
  },
  {
   "cell_type": "code",
   "execution_count": null,
   "id": "ee132b60",
   "metadata": {},
   "outputs": [],
   "source": [
    "app_S, win_S, plots_S, plots_data_S = plot_multiple_raster_plot(epochs_df_S, filter_epoch_spikes_df_S, included_neuron_ids=EITHER_subset.track_exclusive_aclus, unit_sort_order=new_all_aclus_sort_indicies, unit_colors_list=unit_colors_list, scatter_plot_kwargs=override_scatter_plot_kwargs,\n",
    "                                                                 epoch_id_key_name='replay_epoch_id', scatter_app_name=\"Short Decoded Example Replays\")"
   ]
  },
  {
   "cell_type": "code",
   "execution_count": null,
   "id": "ec4dba3b",
   "metadata": {},
   "outputs": [],
   "source": [
    "new_all_aclus_sort_indicies"
   ]
  },
  {
   "cell_type": "code",
   "execution_count": null,
   "id": "fe6071c5",
   "metadata": {},
   "outputs": [],
   "source": [
    "app_alt, win_alt, plots_alt, plots_data_alt = plot_multiple_raster_plot(epochs_df_L, filter_epoch_spikes_df_L, included_neuron_ids=EITHER_subset.track_exclusive_aclus, unit_sort_order=None, unit_colors_list=unit_colors_list, scatter_plot_kwargs=override_scatter_plot_kwargs,\n",
    "                                                                         epoch_id_key_name='replay_epoch_id', scatter_app_name=\"ALT Long Decoded Example Replays\")"
   ]
  },
  {
   "cell_type": "code",
   "execution_count": null,
   "id": "428e7d06",
   "metadata": {},
   "outputs": [],
   "source": [
    "# setting plot window background color to white\n",
    "win_L.setBackground('w')"
   ]
  },
  {
   "attachments": {},
   "cell_type": "markdown",
   "id": "8de2e3da",
   "metadata": {},
   "source": [
    "# 2023-05-19 - Testing S-only emergence, L-only replays in S, peak position remappings "
   ]
  },
  {
   "cell_type": "code",
   "execution_count": null,
   "id": "4bd91c45",
   "metadata": {},
   "outputs": [],
   "source": [
    "from pyphoplacecellanalysis.General.Pipeline.Stages.DisplayFunctions.SpikeRasters import _prepare_spikes_df_from_filter_epochs, _find_example_epochs\n",
    "from pyphoplacecellanalysis.General.Pipeline.Stages.ComputationFunctions.MultiContextComputationFunctions.LongShortTrackComputations import JonathanFiringRateAnalysisResult\n",
    "from pyphoplacecellanalysis.General.Mixins.CrossComputationComparisonHelpers import SplitPartitionMembership, SetPartition\n",
    "from pyphoplacecellanalysis.General.Pipeline.Stages.ComputationFunctions.MultiContextComputationFunctions.LongShortTrackComputations import TrackExclusivePartitionSubset\n",
    "# approach copied from `pyphoplacecellanalysis.General.Pipeline.Stages.ComputationFunctions.MultiContextComputationFunctions.LongShortTrackComputations._epoch_unit_avg_firing_rates`\n",
    "\n",
    "jonathan_firing_rate_analysis_result = JonathanFiringRateAnalysisResult(**curr_active_pipeline.global_computation_results.computed_data.jonathan_firing_rate_analysis.to_dict())\n",
    "neuron_replay_stats_df, short_exclusive, long_exclusive, BOTH_subset, EITHER_subset, XOR_subset, NEITHER_subset = jonathan_firing_rate_analysis_result.get_cell_track_partitions()\n",
    "\n",
    "# included_neuron_ids = deepcopy(exclusive_aclus)\n",
    "# included_neuron_ids = None\n",
    "included_neuron_ids = EITHER_subset.track_exclusive_aclus\n",
    "spikes_df: pd.DataFrame = deepcopy(curr_active_pipeline.sess.spikes_df).spikes.sliced_by_neuron_type('pyr')\n",
    "# filter_epochs = deepcopy(curr_active_pipeline.sess.replay)\n",
    "# spikes_df = deepcopy(long_results_obj.spikes_df) # LeaveOneOutDecodingAnalysisResult\n",
    "# spikes_df[np.isin(spikes_df.aclu, included_neuron_ids)]\n",
    "filter_epochs = deepcopy(long_results_obj.active_filter_epochs)\n",
    "\n",
    "filter_epoch_spikes_df, filter_epochs_df = _find_example_epochs(spikes_df, filter_epochs, EITHER_subset.track_exclusive_aclus, included_neuron_ids=included_neuron_ids)"
   ]
  },
  {
   "cell_type": "code",
   "execution_count": null,
   "id": "b6fce367",
   "metadata": {},
   "outputs": [],
   "source": [
    "\"\"\" 24 cells, 133 Epochs, 789 Total Timebins\n",
    "# Other\n",
    "\t\n",
    "\t- is_non_firing_time_bin: numpy.ndarray - (24, 789)\n",
    "\t- all_epochs_num_epoch_time_bins: numpy.ndarray - (133,)\n",
    "\t\n",
    "    ## Indexing Helpers:\n",
    "\t\t- all_epochs_reverse_flat_epoch_indicies_array: numpy.ndarray - (789,)\n",
    "\t\t- split_by_epoch_reverse_flattened_time_bin_indicies: list - (133,)\n",
    "    \n",
    "\t- original_1D_decoder: pyphoplacecellanalysis.Analysis.Decoder.reconstruction.BasePositionDecoder\n",
    "\t\t- pf: neuropy.analyses.placefields.PfND\n",
    "\t\t- neuron_IDXs: numpy.ndarray - (24,)\n",
    "\t\t- neuron_IDs: numpy.ndarray - (24,)\n",
    "\t\t- F: numpy.ndarray - (119, 24)\n",
    "\t\t- P_x: numpy.ndarray - (119, 1)\n",
    "        \n",
    "\t- flat_all_epochs_decoded_epoch_time_bins: numpy.ndarray - (24, 789)\n",
    "\n",
    "# Measured\n",
    "\t- flat_all_epochs_measured_cell_spike_counts: numpy.ndarray - (24, 789)\n",
    "\t- flat_all_epochs_measured_cell_firing_rates: numpy.ndarray - (24, 789)\n",
    "\n",
    "\n",
    "# Expected\n",
    "\t- flat_all_epochs_computed_expected_cell_firing_rates: numpy.ndarray - (24, 789)\n",
    "\t- flat_all_epochs_difference_from_expected_cell_spike_counts: numpy.ndarray - (24, 789)\n",
    "\t- flat_all_epochs_difference_from_expected_cell_firing_rates: numpy.ndarray - (24, 789)\n",
    "    \n",
    "    \n",
    "    \n",
    "## Epoch-based\n",
    "\t- all_epochs_decoded_epoch_time_bins_mean: numpy.ndarray - (133, 24)\n",
    "\n",
    "    \n",
    "    \n",
    "    \n",
    "- flat_all_epochs_measured_cell_firing_rates: numpy.ndarray - .shape: (24, 789) \n",
    "- flat_all_epochs_computed_expected_cell_firing_rates: numpy.ndarray - .shape: (24, 789)\n",
    "\n",
    "\n",
    "\"\"\""
   ]
  },
  {
   "attachments": {},
   "cell_type": "markdown",
   "id": "2fe80559",
   "metadata": {},
   "source": [
    "# 2023-04-13 - Find Good looking epochs:"
   ]
  },
  {
   "cell_type": "code",
   "execution_count": 13,
   "id": "5fa9a519",
   "metadata": {
    "tags": [
     "ACTIVE_NOW"
    ]
   },
   "outputs": [],
   "source": [
    "import matplotlib.pyplot as plt\n",
    "%matplotlib qt\n",
    "import matplotlib.patheffects as path_effects\n",
    "\n",
    "from pyphoplacecellanalysis.Pho2D.stacked_epoch_slices import DecodedEpochSlicesPaginatedFigureController\n",
    "\n",
    "curr_results_obj = long_results_obj\n",
    "active_identifying_session_ctx = curr_active_pipeline.sess.get_context()"
   ]
  },
  {
   "cell_type": "code",
   "execution_count": 14,
   "id": "526fa839",
   "metadata": {},
   "outputs": [
    {
     "data": {
      "text/plain": [
       "           start         stop label  duration     score    velocity  \\\n",
       "0      49.107308    49.285484     0  0.178176  0.469162  119.990290   \n",
       "1      68.571951    68.764442     1  0.192491  0.480137  -18.274233   \n",
       "2      91.226833    91.413549     2  0.186716  0.477387 -249.181320   \n",
       "3     235.576353   235.756188     3  0.179835  0.523170 -335.712491   \n",
       "4     272.462145   272.641058     4  0.178913  0.487605  114.762642   \n",
       "..           ...          ...   ...       ...       ...         ...   \n",
       "128  2503.348263  2503.557405   128  0.209142  0.502320  263.414391   \n",
       "129  2520.181371  2520.376197   129  0.194826  0.742481 -125.136267   \n",
       "130  2525.535096  2525.740674   130  0.205578  0.331981    3.990422   \n",
       "131  2530.724715  2530.918773   131  0.194058  0.714168  237.884304   \n",
       "132  2553.195063  2553.376188   132  0.181125  0.370972 -760.858341   \n",
       "\n",
       "      intercept       speed  score_LONG  velocity_LONG  intercept_LONG  \\\n",
       "0     14.831063  119.990290    0.469162     119.990290       14.831063   \n",
       "1    208.384685   18.274233    0.480137     -18.274233      208.384685   \n",
       "2    217.231699  249.181320    0.477387    -249.181320      217.231699   \n",
       "3    172.775063  335.712491    0.523170    -335.712491      172.775063   \n",
       "4    197.764935  114.762642    0.487605     114.762642      197.764935   \n",
       "..          ...         ...         ...            ...             ...   \n",
       "128  171.482571  263.414391    0.502320     263.414391      171.482571   \n",
       "129  200.170498  125.136267    0.742481    -125.136267      200.170498   \n",
       "130   33.439573    3.990422    0.331981       3.990422       33.439573   \n",
       "131   21.000042  237.884304    0.714168     237.884304       21.000042   \n",
       "132  120.539705  760.858341    0.370972    -760.858341      120.539705   \n",
       "\n",
       "     speed_LONG  score_SHORT  velocity_SHORT  intercept_SHORT  speed_SHORT  \n",
       "0    119.990290     0.445870     -685.169241       183.405222   685.169241  \n",
       "1     18.274233     0.389369     -433.036651       233.715313   433.036651  \n",
       "2    249.181320     0.467870     -114.900153       162.974643   114.900153  \n",
       "3    335.712491     0.635724     -311.982349       164.260980   311.982349  \n",
       "4    114.762642     0.443918      118.625765       164.705289   118.625765  \n",
       "..          ...          ...             ...              ...          ...  \n",
       "128  263.414391     0.508088      298.522345       146.696204   298.522345  \n",
       "129  125.136267     0.636140     -691.628721       198.276418   691.628721  \n",
       "130    3.990422     0.514030      338.910989        65.365398   338.910989  \n",
       "131  237.884304     0.986097      160.146911        57.705123   160.146911  \n",
       "132  760.858341     0.547093     -408.323959       111.149307   408.323959  \n",
       "\n",
       "[133 rows x 16 columns]"
      ]
     },
     "execution_count": 14,
     "metadata": {},
     "output_type": "execute_result"
    }
   ],
   "source": [
    "curr_results_obj.active_filter_epochs"
   ]
  },
  {
   "cell_type": "code",
   "execution_count": 52,
   "id": "9869fbcd",
   "metadata": {},
   "outputs": [
    {
     "name": "stderr",
     "output_type": "stream",
     "text": [
      "[autoreload of pyphoplacecellanalysis.Analysis.Decoder.decoder_result failed: Traceback (most recent call last):\n",
      "  File \"/home/halechr/repo/Spike3D/.venv/lib/python3.9/site-packages/IPython/extensions/autoreload.py\", line 271, in check\n",
      "    superreload(m, reload, self.old_objects, self.shell)\n",
      "  File \"/home/halechr/repo/Spike3D/.venv/lib/python3.9/site-packages/IPython/extensions/autoreload.py\", line 471, in superreload\n",
      "    module = reload(module)\n",
      "  File \"/home/halechr/.pyenv/versions/3.9.13/lib/python3.9/importlib/__init__.py\", line 169, in reload\n",
      "    _bootstrap._exec(spec, module)\n",
      "  File \"<frozen importlib._bootstrap>\", line 613, in _exec\n",
      "  File \"<frozen importlib._bootstrap_external>\", line 850, in exec_module\n",
      "  File \"<frozen importlib._bootstrap>\", line 228, in _call_with_frames_removed\n",
      "  File \"/home/halechr/repo/pyPhoPlaceCellAnalysis/src/pyphoplacecellanalysis/Analysis/Decoder/decoder_result.py\", line 2, in <module>\n",
      "    from typings import Union\n",
      "ModuleNotFoundError: No module named 'typings'\n",
      "]\n"
     ]
    },
    {
     "data": {
      "text/html": [
       "<div>\n",
       "<style scoped>\n",
       "    .dataframe tbody tr th:only-of-type {\n",
       "        vertical-align: middle;\n",
       "    }\n",
       "\n",
       "    .dataframe tbody tr th {\n",
       "        vertical-align: top;\n",
       "    }\n",
       "\n",
       "    .dataframe thead th {\n",
       "        text-align: right;\n",
       "    }\n",
       "</style>\n",
       "<table border=\"1\" class=\"dataframe\">\n",
       "  <thead>\n",
       "    <tr style=\"text-align: right;\">\n",
       "      <th></th>\n",
       "      <th>start</th>\n",
       "      <th>stop</th>\n",
       "      <th>label</th>\n",
       "      <th>duration</th>\n",
       "      <th>score</th>\n",
       "      <th>velocity</th>\n",
       "      <th>intercept</th>\n",
       "      <th>speed</th>\n",
       "      <th>score_LONG</th>\n",
       "      <th>velocity_LONG</th>\n",
       "      <th>intercept_LONG</th>\n",
       "      <th>speed_LONG</th>\n",
       "      <th>score_SHORT</th>\n",
       "      <th>velocity_SHORT</th>\n",
       "      <th>intercept_SHORT</th>\n",
       "      <th>speed_SHORT</th>\n",
       "    </tr>\n",
       "  </thead>\n",
       "  <tbody>\n",
       "    <tr>\n",
       "      <th>15</th>\n",
       "      <td>572.248426</td>\n",
       "      <td>572.442362</td>\n",
       "      <td>15</td>\n",
       "      <td>0.193935</td>\n",
       "      <td>0.402119</td>\n",
       "      <td>278.767653</td>\n",
       "      <td>17.585215</td>\n",
       "      <td>278.767653</td>\n",
       "      <td>0.402119</td>\n",
       "      <td>278.767653</td>\n",
       "      <td>17.585215</td>\n",
       "      <td>278.767653</td>\n",
       "      <td>0.510398</td>\n",
       "      <td>365.046541</td>\n",
       "      <td>93.566199</td>\n",
       "      <td>365.046541</td>\n",
       "    </tr>\n",
       "    <tr>\n",
       "      <th>49</th>\n",
       "      <td>1214.610824</td>\n",
       "      <td>1214.834834</td>\n",
       "      <td>49</td>\n",
       "      <td>0.224010</td>\n",
       "      <td>0.418059</td>\n",
       "      <td>486.120771</td>\n",
       "      <td>107.033229</td>\n",
       "      <td>486.120771</td>\n",
       "      <td>0.418059</td>\n",
       "      <td>486.120771</td>\n",
       "      <td>107.033229</td>\n",
       "      <td>486.120771</td>\n",
       "      <td>0.599423</td>\n",
       "      <td>269.914744</td>\n",
       "      <td>106.700251</td>\n",
       "      <td>269.914744</td>\n",
       "    </tr>\n",
       "  </tbody>\n",
       "</table>\n",
       "</div>"
      ],
      "text/plain": [
       "          start         stop label  duration     score    velocity  \\\n",
       "15   572.248426   572.442362    15  0.193935  0.402119  278.767653   \n",
       "49  1214.610824  1214.834834    49  0.224010  0.418059  486.120771   \n",
       "\n",
       "     intercept       speed  score_LONG  velocity_LONG  intercept_LONG  \\\n",
       "15   17.585215  278.767653    0.402119     278.767653       17.585215   \n",
       "49  107.033229  486.120771    0.418059     486.120771      107.033229   \n",
       "\n",
       "    speed_LONG  score_SHORT  velocity_SHORT  intercept_SHORT  speed_SHORT  \n",
       "15  278.767653     0.510398      365.046541        93.566199   365.046541  \n",
       "49  486.120771     0.599423      269.914744       106.700251   269.914744  "
      ]
     },
     "execution_count": 52,
     "metadata": {},
     "output_type": "execute_result"
    }
   ],
   "source": [
    "# get the good epoch indicies from epoch_df_L.Index\n",
    "good_epoch_indicies_L = np.array([15, 49])\n",
    "subset_filter_epochs, subset_all_included_filter_epochs_decoder_result = curr_results_obj.get_subset_by_epoch(epochs_df=curr_results_obj.active_filter_epochs.to_dataframe(),\n",
    "\t\t\t\t\t\t\t\tepochs_decoder_result=curr_results_obj.all_included_filter_epochs_decoder_result,\n",
    "\t\t\t\t\t\t\t\tincluded_epoch_indicies=good_epoch_indicies_L)\n",
    "subset_filter_epochs"
   ]
  },
  {
   "cell_type": "code",
   "execution_count": null,
   "id": "3e44aa80",
   "metadata": {},
   "outputs": [],
   "source": []
  },
  {
   "cell_type": "code",
   "execution_count": null,
   "id": "15967d65",
   "metadata": {},
   "outputs": [],
   "source": [
    "\n",
    "included_epoch_indicies = good_epoch_indicies_L.copy()\n",
    "print(f'included_epoch_indicies: {included_epoch_indicies}')\n",
    "\n",
    "## Come in with `curr_results_obj.active_filter_epochs` and `curr_results_obj.all_included_filter_epochs_decoder_result`\n",
    "\n",
    "all_included_filter_epochs_decoder_result = curr_results_obj.all_included_filter_epochs_decoder_result.copy()\n",
    "epochs_df = curr_results_obj.active_filter_epochs.to_dataframe().copy()\n",
    "\n",
    "\n",
    "# Filter the active filter epochs:\n",
    "is_included_in_subset = np.isin(epochs_df.index, included_epoch_indicies)\n",
    "subset_filter_epochs = epochs_df[is_included_in_subset]"
   ]
  },
  {
   "cell_type": "code",
   "execution_count": 49,
   "id": "551affca",
   "metadata": {},
   "outputs": [
    {
     "data": {
      "text/plain": [
       "pyphoplacecellanalysis.Analysis.Decoder.decoder_result.LeaveOneOutDecodingAnalysisResult"
      ]
     },
     "execution_count": 49,
     "metadata": {},
     "output_type": "execute_result"
    }
   ],
   "source": [
    "type(curr_results_obj)"
   ]
  },
  {
   "cell_type": "code",
   "execution_count": 48,
   "id": "572ac7f4",
   "metadata": {},
   "outputs": [
    {
     "data": {
      "text/plain": [
       "<pyphoplacecellanalysis.Analysis.Decoder.reconstruction.DecodedFilterEpochsResult at 0x7f0216fecaf0>"
      ]
     },
     "execution_count": 48,
     "metadata": {},
     "output_type": "execute_result"
    }
   ],
   "source": [
    "from pyphoplacecellanalysis.Analysis.Decoder.reconstruction import DecodedFilterEpochsResult\n",
    "from pyphoplacecellanalysis.Analysis.Decoder.decoder_result import LeaveOneOutDecodingAnalysisResult # for `curr_results_obj`\n",
    "\n",
    "subset = all_included_filter_epochs_decoder_result.filtered_by_epochs(included_epoch_indicies)\n",
    "subset"
   ]
  },
  {
   "cell_type": "code",
   "execution_count": null,
   "id": "c525f823",
   "metadata": {},
   "outputs": [
    {
     "name": "stdout",
     "output_type": "stream",
     "text": [
      "most_likely_positions_list\n",
      "p_x_given_n_list\n",
      "marginal_x_list\n",
      "marginal_y_list\n",
      "most_likely_position_indicies_list\n",
      "spkcount\n",
      "time_bin_containers\n"
     ]
    }
   ],
   "source": []
  },
  {
   "cell_type": "code",
   "execution_count": null,
   "id": "ce814441",
   "metadata": {},
   "outputs": [],
   "source": [
    "_out_pagination_controller = DecodedEpochSlicesPaginatedFigureController.init_from_decoder_data(curr_results_obj.active_filter_epochs, curr_results_obj.all_included_filter_epochs_decoder_result, \n",
    "\txbin=curr_results_obj.original_1D_decoder.xbin, global_pos_df=global_session.position.df, a_name='TestDecodedEpochSlicesPaginationController', active_context=active_identifying_session_ctx,  max_subplots_per_page=200) # 10\n",
    "# _out_pagination_controller"
   ]
  },
  {
   "cell_type": "code",
   "execution_count": null,
   "id": "e5280cf9",
   "metadata": {},
   "outputs": [],
   "source": [
    "_out = curr_active_pipeline.display('_display_long_and_short_stacked_epoch_slices')\n"
   ]
  },
  {
   "cell_type": "code",
   "execution_count": null,
   "id": "a498d482",
   "metadata": {},
   "outputs": [],
   "source": [
    "## Getting selections out of DecoedEpochSlicesPaginationController\n",
    "curr_active_pipeline.display_output_history_list\n",
    "# Ideally could search like: '_display_long_and_short_stacked_epoch_slices'\n",
    "active_result_backup = curr_active_pipeline.last_added_display_output"
   ]
  },
  {
   "cell_type": "code",
   "execution_count": null,
   "id": "89f7829a",
   "metadata": {},
   "outputs": [],
   "source": [
    "list(active_result_backup.keys()) # ['name', 'context', 'figures', 'axes', 'plot_data']\n",
    "\n",
    "active_result_backup['context'] # (IdentifyingContext<('kdiba', 'gor01', 'one', '2006-6-08_14-26-15', 'DecodedEpochSlices', 'replays', 'long_results_obj')>,\n",
    "\t\t\t\t\t\t\t\t#  IdentifyingContext<('kdiba', 'gor01', 'one', '2006-6-08_14-26-15', 'DecodedEpochSlices', 'replays', 'short_results_obj')>)\n",
    "\n",
    "pagination_controllers = active_result_backup.plot_data['controllers']\n",
    "long_controller = pagination_controllers[0]\n",
    "short_controller = pagination_controllers[1]"
   ]
  },
  {
   "cell_type": "code",
   "execution_count": null,
   "id": "a1e85d60",
   "metadata": {},
   "outputs": [],
   "source": [
    "long_controller.selected_indicies # np.array([ 13,  14,  15,  25,  27,  28,  31,  37,  42,  45,  48,  57,  61,  62,  63,  76,  79,  82,  89,  90, 111, 112, 113, 115])\n",
    "\n",
    "# np.array([5,  13,  15,  17,  20,  21,  24,  31,  33,  43,  44,  49,  63, 64,  66,  68,  70,  71,  74,  76,  77,  78,  84,  90,  94,  95, 104, 105, 122, 123])"
   ]
  },
  {
   "cell_type": "code",
   "execution_count": null,
   "id": "5030d511",
   "metadata": {},
   "outputs": [],
   "source": [
    "short_controller.selected_indicies # np.array([  9,  11,  13,  14,  15,  20,  22,  25,  37,  40,  45,  48,  61, 62,  76,  79,  84,  89,  90,  93,  94, 111, 112, 113, 115, 121])\n",
    "\n",
    "# np.array([ 12,  13,  15,  17,  20,  24,  30,  31,  32,  33,  41,  43,  49, 54,  55,  68,  70,  71,  73,  76,  77,  78,  84,  89,  94, 100, 104, 105, 111, 114, 115, 117, 118, 122, 123, 131])"
   ]
  },
  {
   "cell_type": "code",
   "execution_count": null,
   "id": "bd5bcc43",
   "metadata": {},
   "outputs": [],
   "source": [
    "final_context_L = curr_active_pipeline.build_display_context_for_session(display_fn_name='DecodedEpochSlices', epochs='replays', decoder='long_results_obj')\n",
    "final_context_S = curr_active_pipeline.build_display_context_for_session(display_fn_name='DecodedEpochSlices', epochs='replays', decoder='short_results_obj')\n",
    "# _out_pagination_controller.params.active_identifying_figure_ctx.adding_context(None,  user_annotation=\"selections\")\n",
    "selections_context_L = final_context_L.adding_context(None,  user_annotation=\"selections\")\n",
    "selections_context_S = final_context_S.adding_context(None,  user_annotation=\"selections\")\n",
    "\n",
    "# IdentifyingContext(format_name='kdiba',animal='gor01',exper_name='two',session_name='2006-6-07_16-40-19',display_fn_name='DecodedEpochSlices',epochs='replays',decoder='long_results_obj',user_annotation='selections')\n",
    "# IdentifyingContext(format_name='kdiba',animal='gor01',exper_name='two',session_name='2006-6-07_16-40-19',display_fn_name='DecodedEpochSlices',epochs='replays',decoder='short_results_obj')"
   ]
  },
  {
   "cell_type": "code",
   "execution_count": null,
   "id": "bd249e85",
   "metadata": {},
   "outputs": [],
   "source": [
    "# Update the `long_results_obj.active_filter_epochs` and `short_results_obj.active_filter_epochs` objects with the selection information\n",
    "assert long_controller.is_selected.shape[0] == long_results_obj.active_filter_epochs.n_epochs\n",
    "assert short_controller.is_selected.shape[0] == short_results_obj.active_filter_epochs.n_epochs\n",
    "# for some reason the active_filter_epochs on both the long and the short objects contain properties about the other one as well, so keep with tradition and add them to both as well\n",
    "long_results_obj.active_filter_epochs._df['long_is_user_included'] = long_controller.is_selected\n",
    "long_results_obj.active_filter_epochs._df['short_is_user_included'] = short_controller.is_selected\n",
    "short_results_obj.active_filter_epochs._df['long_is_user_included'] = long_controller.is_selected\n",
    "short_results_obj.active_filter_epochs._df['short_is_user_included'] = short_controller.is_selected"
   ]
  },
  {
   "cell_type": "code",
   "execution_count": null,
   "id": "636184b2",
   "metadata": {},
   "outputs": [],
   "source": [
    "print(list(long_controller.params.keys())) # ['name', 'window_title', 'num_slices', '_debug_test_max_num_slices', 'active_num_slices', 'global_epoch_start_t', 'global_epoch_end_t', 'single_plot_fixed_height', 'all_plots_height', 'epoch_labels', 'variable_name', 'xbin', 'enable_flat_line_drawing', 'debug_print', 'active_identifying_figure_ctx', 'flat_all_data_indicies', 'is_selected', 'callback_id', 'on_render_page_callbacks']"
   ]
  },
  {
   "cell_type": "code",
   "execution_count": null,
   "id": "f31d5dc6",
   "metadata": {},
   "outputs": [],
   "source": [
    "long_controller.selected_epoch_times\n",
    "# array([[ 292.62367098,  292.80826736],\n",
    "#        [ 528.48329294,  528.68561475],\n",
    "#        [ 572.24842637,  572.44236163],\n",
    "#        [ 677.99306343,  678.25522777],\n",
    "#        [ 802.91157867,  803.11436129],\n",
    "#        [ 831.70962856,  831.90743454],\n",
    "#        [ 888.22678107,  888.46492239],\n",
    "#        [ 945.48035303,  945.68543965],\n",
    "#        [ 954.00517939,  954.2546871 ],\n",
    "#        [1033.05203044, 1033.22639707],\n",
    "#        [1061.35727035, 1061.5943979 ],\n",
    "#        [1214.61082388, 1214.834834  ],\n",
    "#        [1722.78022002, 1722.95406441],\n",
    "#        [1741.58530479, 1741.79413924],\n",
    "#        [1743.25171034, 1743.53445707]])\n",
    "short_controller.selected_epoch_times\n",
    "# array([[ 489.42507549,  489.65575186],\n",
    "#        [ 528.48329294,  528.68561475],\n",
    "#        [ 572.24842637,  572.44236163],\n",
    "#        [ 677.99306343,  678.25522777],\n",
    "#        [ 802.91157867,  803.11436129],\n",
    "#        [ 888.22678107,  888.46492239],\n",
    "#        [ 931.21227202,  931.45262518],\n",
    "#        [ 945.48035303,  945.68543965],\n",
    "#        [ 950.18327543,  950.44046313],\n",
    "#        [ 954.00517939,  954.2546871 ],\n",
    "#        [1024.83173129, 1025.10320379],\n",
    "#        [1033.05203044, 1033.22639707],\n",
    "#        [1214.61082388, 1214.834834  ],\n",
    "#        [1326.54476977, 1326.76506278],\n",
    "#        [1329.84606216, 1330.0684134 ],\n",
    "#        [1732.09310613, 1732.29060491],\n",
    "#        [1741.58530479, 1741.79413924],\n",
    "#        [1743.25171034, 1743.53445707],\n",
    "#        [1751.03108555, 1751.22059714],\n",
    "#        [1769.90424581, 1770.10497019],\n",
    "#        [1776.56793264, 1776.78871716],\n",
    "#        [1871.00426701, 1871.21629634],\n",
    "#        [1917.09385877, 1917.2703758 ],\n",
    "#        [1994.07242543, 1994.2525367 ],\n",
    "#        [2038.53127755, 2038.70899266],\n",
    "#        [2064.36693792, 2064.54016792],\n",
    "#        [2111.52742834, 2111.80120484],\n",
    "#        [2125.54830564, 2125.73772506]])"
   ]
  },
  {
   "cell_type": "code",
   "execution_count": null,
   "id": "ab793819",
   "metadata": {},
   "outputs": [],
   "source": [
    "long_results_obj.active_filter_epochs.n_epochs # 122"
   ]
  },
  {
   "attachments": {},
   "cell_type": "markdown",
   "id": "eacd1d90",
   "metadata": {},
   "source": [
    "# TODO 2023-06-19 14:31: - [ ] Come up with system for storing user-annotations:\n",
    " Need to store user-annotations and labeled selections for Epochs:\n",
    "\n",
    "\tdate_annotated: datetime - the date the annotations were made\n",
    "\tannotation_author: str - the person who made the annotations\n",
    "\tannotation_content: Any - the content of the annotation\n",
    "\n"
   ]
  },
  {
   "cell_type": "code",
   "execution_count": 12,
   "id": "fdf36a14",
   "metadata": {},
   "outputs": [
    {
     "data": {
      "text/plain": [
       "{IdentifyingContext<('kdiba', 'gor01', 'one', '2006-6-08_14-26-15', 'DecodedEpochSlices', 'replays', 'long_results_obj', 'selections')>: array([ 13,  14,  15,  25,  27,  28,  31,  37,  42,  45,  48,  57,  61,\n",
       "         62,  63,  76,  79,  82,  89,  90, 111, 112, 113, 115]),\n",
       " IdentifyingContext<('kdiba', 'gor01', 'one', '2006-6-08_14-26-15', 'DecodedEpochSlices', 'replays', 'short_results_obj', 'selections')>: array([  9,  11,  13,  14,  15,  20,  22,  25,  37,  40,  45,  48,  61,\n",
       "         62,  76,  79,  84,  89,  90,  93,  94, 111, 112, 113, 115, 121]),\n",
       " IdentifyingContext<('kdiba', 'gor01', 'two', '2006-6-07_16-40-19', 'DecodedEpochSlices', 'replays', 'long_results_obj', 'selections')>: array([  5,  13,  15,  17,  20,  21,  24,  31,  33,  43,  44,  49,  63,\n",
       "         64,  66,  68,  70,  71,  74,  76,  77,  78,  84,  90,  94,  95,\n",
       "        104, 105, 122, 123]),\n",
       " IdentifyingContext<('kdiba', 'gor01', 'two', '2006-6-07_16-40-19', 'DecodedEpochSlices', 'replays', 'short_results_obj', 'selections')>: array([ 12,  13,  15,  17,  20,  24,  30,  31,  32,  33,  41,  43,  49,\n",
       "         54,  55,  68,  70,  71,  73,  76,  77,  78,  84,  89,  94, 100,\n",
       "        104, 105, 111, 114, 115, 117, 118, 122, 123, 131])}"
      ]
     },
     "execution_count": 12,
     "metadata": {},
     "output_type": "execute_result"
    }
   ],
   "source": [
    "from PendingNotebookCode import get_user_annotations\n",
    "\n",
    "user_annotations = get_user_annotations()\n",
    "user_annotations"
   ]
  },
  {
   "cell_type": "code",
   "execution_count": null,
   "id": "8624432e",
   "metadata": {},
   "outputs": [],
   "source": [
    "# All epochs are shown for both decoders. So the result should be an epochs table with separate columns for the inclusion in each decoder.\n",
    "@define(slots=False, eq=False)\n",
    "class EpochSelectionSet:\n",
    "    selected_indicies: np.ndarray # a list of the selected inidices\n",
    "\n",
    "long_selection = EpochSelectionSet(selected_indicies=np.array([5,  13,  15,  17,  20,  21,  24,  31,  33,  43,  44,  49,  63, 64,  66,  68,  70,  71,  74,  76,  77,  78,  84,  90,  94,  95, 104, 105, 122, 123]))\n",
    "short_selection = EpochSelectionSet(selected_indicies=np.array([ 12,  13,  15,  17,  20,  24,  30,  31,  32,  33,  41,  43,  49, 54,  55,  68,  70,  71,  73,  76,  77,  78,  84,  89,  94, 100, 104, 105, 111, 114, 115, 117, 118, 122, 123, 131]))"
   ]
  },
  {
   "cell_type": "code",
   "execution_count": null,
   "id": "c20f58d5",
   "metadata": {
    "tags": [
     "LEGACY"
    ]
   },
   "outputs": [],
   "source": [
    "# For updating the controller from the selected indicies:\n",
    "for a_selected_index in selection_idxs_L:\n",
    "\t_out_pagination_controller.params.is_selected[a_selected_index] = True\n",
    "\n",
    "_out_pagination_controller.perform_update_selections(defer_render=False)"
   ]
  },
  {
   "cell_type": "code",
   "execution_count": null,
   "id": "b97c7348",
   "metadata": {
    "tags": [
     "user_annotations",
     "active",
     "SERIALIZE"
    ]
   },
   "outputs": [],
   "source": [
    "from pyphoplacecellanalysis.GUI.Qt.Mixins.PaginationMixins import SelectionsObject\n",
    "import cattrs\n",
    "\n",
    "user_annotations = {}\n",
    "\n",
    "## IdentifyingContext(format_name='kdiba',animal='gor01',exper_name='one',session_name='2006-6-08_14-26-15')\n",
    "user_annotations[IdentifyingContext(format_name='kdiba',animal='gor01',exper_name='one',session_name='2006-6-08_14-26-15',display_fn_name='DecodedEpochSlices',epochs='replays',decoder='long_results_obj',user_annotation='selections')] = np.array([ 13,  14,  15,  25,  27,  28,  31,  37,  42,  45,  48,  57,  61,  62,  63,  76,  79,  82,  89,  90, 111, 112, 113, 115])\n",
    "user_annotations[IdentifyingContext(format_name='kdiba',animal='gor01',exper_name='one',session_name='2006-6-08_14-26-15',display_fn_name='DecodedEpochSlices',epochs='replays',decoder='short_results_obj',user_annotation='selections')] = np.array([  9,  11,  13,  14,  15,  20,  22,  25,  37,  40,  45,  48,  61, 62,  76,  79,  84,  89,  90,  93,  94, 111, 112, 113, 115, 121])\n",
    "\n",
    "## IdentifyingContext(format_name='kdiba',animal='gor01',exper_name='two',session_name='2006-6-07_16-40-19')\n",
    "user_annotations[IdentifyingContext(format_name='kdiba',animal='gor01',exper_name='two',session_name='2006-6-07_16-40-19',display_fn_name='DecodedEpochSlices',epochs='replays',decoder='long_results_obj',user_annotation='selections')] = np.array([5,  13,  15,  17,  20,  21,  24,  31,  33,  43,  44,  49,  63, 64,  66,  68,  70,  71,  74,  76,  77,  78,  84,  90,  94,  95, 104, 105, 122, 123])\n",
    "user_annotations[IdentifyingContext(format_name='kdiba',animal='gor01',exper_name='two',session_name='2006-6-07_16-40-19',display_fn_name='DecodedEpochSlices',epochs='replays',decoder='short_results_obj',user_annotation='selections')] = np.array([ 12,  13,  15,  17,  20,  24,  30,  31,  32,  33,  41,  43,  49, 54,  55,  68,  70,  71,  73,  76,  77,  78,  84,  89,  94, 100, 104, 105, 111, 114, 115, 117, 118, 122, 123, 131])\n",
    "\n",
    "\n",
    "## try to get the user annotations for this session:\n",
    "selection_idxs_L = user_annotations[selections_context_L]\n",
    "selection_idxs_S = user_annotations[selections_context_S]"
   ]
  },
  {
   "cell_type": "code",
   "execution_count": null,
   "id": "8a9773a1",
   "metadata": {},
   "outputs": [],
   "source": [
    "# cattrs.unstructure(user_annotations)\n",
    "# cattrs.unstructure(selection_idxs_S)\n",
    "cattrs.unstructure(selections_context_L)"
   ]
  },
  {
   "cell_type": "code",
   "execution_count": null,
   "id": "77c8c539",
   "metadata": {},
   "outputs": [],
   "source": [
    "selections_context_L.as_tuple()"
   ]
  },
  {
   "cell_type": "code",
   "execution_count": null,
   "id": "b1aff36f",
   "metadata": {},
   "outputs": [],
   "source": [
    "# for updating the filter_epochs_df (`filter_epochs_df`) from the selections:\n",
    "filter_epochs_df['long_is_user_included'] = np.isin(filter_epochs_df.index, selection_idxs_L)\n",
    "filter_epochs_df['short_is_user_included'] = np.isin(filter_epochs_df.index, selection_idxs_S)\n",
    "\n",
    "## Finally filter to find the potential example epochs:\n",
    "\n",
    "# only include those with one or more exclusive aclu:\n",
    "considered_filter_epochs_df = filter_epochs_df[filter_epochs_df.contains_one_exclusive_aclu].copy()\n",
    "# require inclusion for long or short:\n",
    "considered_filter_epochs_df = considered_filter_epochs_df[np.logical_xor(filter_epochs_df['long_is_user_included'], filter_epochs_df['short_is_user_included'])]\n",
    "considered_filter_epochs_df\n"
   ]
  },
  {
   "attachments": {},
   "cell_type": "markdown",
   "id": "e0409e08",
   "metadata": {},
   "source": [
    "# Other Programmatic Figures"
   ]
  },
  {
   "cell_type": "code",
   "execution_count": null,
   "id": "7608078a",
   "metadata": {},
   "outputs": [],
   "source": [
    "curr_active_pipeline.reload_default_display_functions()"
   ]
  },
  {
   "cell_type": "code",
   "execution_count": null,
   "id": "fe831b56",
   "metadata": {
    "tags": [
     "ACTIVE"
    ]
   },
   "outputs": [],
   "source": [
    "from pyphoplacecellanalysis.General.Mixins.CrossComputationComparisonHelpers import _find_any_context_neurons\n",
    "\n",
    "## Builds proper sort indicies for '_display_short_long_pf1D_comparison'\n",
    "long_ratemap = long_pf1D.ratemap\n",
    "short_ratemap = short_pf1D.ratemap\n",
    "\n",
    "curr_any_context_neurons = _find_any_context_neurons(*[k.neuron_ids for k in [long_ratemap, short_ratemap]])\n",
    "curr_any_context_neurons"
   ]
  },
  {
   "cell_type": "code",
   "execution_count": null,
   "id": "402834bd",
   "metadata": {},
   "outputs": [],
   "source": [
    "from neuropy.plotting.ratemaps import plot_ratemap_1D\n",
    "from pyphoplacecellanalysis.General.Pipeline.Stages.DisplayFunctions.MultiContextComparingDisplayFunctions.LongShortTrackComparingDisplayFunctions import plot_short_v_long_pf1D_comparison, LongShortTrackComparingDisplayFunctions\n",
    "\n",
    "curr_active_pipeline.reload_default_display_functions()\n",
    "\n",
    "%matplotlib qt\n",
    "active_identifying_session_ctx = curr_active_pipeline.sess.get_context() # 'bapun_RatN_Day4_2019-10-15_11-30-06'\n",
    "\n",
    "long_single_cell_pfmap_processing_fn = None\n",
    "short_single_cell_pfmap_processing_fn = None\n",
    "# sort_idx = None\n",
    "# sort_idx = sort_ind\n",
    "# sort_idx = sort_indicies\n",
    "# sort_idx = new_all_aclus_sort_indicies\n",
    "sort_idx = 'peak_long'\n",
    "# sort_idx = 'bad'\n",
    "\n",
    "# out = curr_active_pipeline.display('_display_short_long_pf1D_comparison', active_identifying_session_ctx, single_figure=False, debug_print=True, fignum='Short v Long pf1D Comparison',\n",
    "#                                    long_kwargs={'included_unit_neuron_IDs': curr_any_context_neurons, 'included_unit_indicies': None, 'sortby': sort_idx, 'single_cell_pfmap_processing_fn': long_single_cell_pfmap_processing_fn},\n",
    "#                                    short_kwargs={'included_unit_neuron_IDs': curr_any_context_neurons, 'included_unit_indicies': None,'sortby': sort_idx, 'single_cell_pfmap_processing_fn': short_single_cell_pfmap_processing_fn, 'curve_hatch_style': {'hatch':'///', 'edgecolor':'k'}},\n",
    "#                                   )\n",
    "\n",
    "out = curr_active_pipeline.display('_display_short_long_pf1D_comparison', active_identifying_session_ctx, single_figure=False, debug_print=False, fignum='Short v Long pf1D Comparison',\n",
    "                                   long_kwargs={'sortby': sort_idx, 'single_cell_pfmap_processing_fn': long_single_cell_pfmap_processing_fn},\n",
    "                                   short_kwargs={'sortby': sort_idx, 'single_cell_pfmap_processing_fn': short_single_cell_pfmap_processing_fn, 'curve_hatch_style': {'hatch':'///', 'edgecolor':'k'}},\n",
    "                                  )\n",
    "                                  \n",
    "\n",
    "# ax = out.axes[0]"
   ]
  },
  {
   "cell_type": "code",
   "execution_count": null,
   "id": "5653100d",
   "metadata": {},
   "outputs": [],
   "source": [
    "curr_active_pipeline.display('_display_short_long_pf1D_comparison', single_figure=True)"
   ]
  },
  {
   "attachments": {},
   "cell_type": "markdown",
   "id": "d1906e5a",
   "metadata": {},
   "source": [
    "# 2023-06-01 - Testing new metrics:"
   ]
  },
  {
   "cell_type": "code",
   "execution_count": null,
   "id": "ee3fb2f6",
   "metadata": {},
   "outputs": [],
   "source": [
    "\n",
    "curr_long_short_post_decoding = curr_active_pipeline.global_computation_results.computed_data['long_short_post_decoding']\n",
    "## Extract variables from results object:\n",
    "expected_v_observed_result, curr_long_short_rr = curr_long_short_post_decoding.expected_v_observed_result, curr_long_short_post_decoding.rate_remapping\n",
    "rate_remapping_df, high_remapping_cells_only = curr_long_short_rr.rr_df, curr_long_short_rr.high_only_rr_df\n",
    "Flat_epoch_time_bins_mean, Flat_decoder_time_bin_centers, num_neurons, num_timebins_in_epoch, num_total_flat_timebins, is_short_track_epoch, is_long_track_epoch, short_short_diff, long_long_diff = expected_v_observed_result['Flat_epoch_time_bins_mean'], expected_v_observed_result['Flat_decoder_time_bin_centers'], expected_v_observed_result['num_neurons'], expected_v_observed_result['num_timebins_in_epoch'], expected_v_observed_result['num_total_flat_timebins'], expected_v_observed_result['is_short_track_epoch'], expected_v_observed_result['is_long_track_epoch'], expected_v_observed_result['short_short_diff'], expected_v_observed_result['long_long_diff']\n",
    "\n",
    "print(f'long_test: {np.mean(long_long_diff)}')\n",
    "print(f'short_test: {np.mean(short_short_diff)}')"
   ]
  },
  {
   "cell_type": "code",
   "execution_count": null,
   "id": "9e65f403",
   "metadata": {},
   "outputs": [],
   "source": [
    "# long_results_obj.original_1D_decoder\n",
    "replay_result_df = deepcopy(long_results_obj.active_filter_epochs.to_dataframe())\n",
    "replay_result_df"
   ]
  },
  {
   "cell_type": "code",
   "execution_count": null,
   "id": "f67e3b6d",
   "metadata": {},
   "outputs": [],
   "source": [
    "short_results_obj.active_filter_epochs.to_dataframe()"
   ]
  },
  {
   "cell_type": "code",
   "execution_count": null,
   "id": "59838cd9",
   "metadata": {},
   "outputs": [],
   "source": [
    "# Look at lap speed over time - doesn't look like there's a difference between the long and the short track speeds\n",
    "global_session.position.compute_higher_order_derivatives()\n",
    "running_pos_df = global_session.position.to_dataframe()\n",
    "ax = running_pos_df.plot(x='t', y=['lin_pos','speed'], title='Running Speed over Time')\n",
    "ax"
   ]
  },
  {
   "cell_type": "code",
   "execution_count": null,
   "id": "627282a9",
   "metadata": {},
   "outputs": [],
   "source": [
    "# Call the function\n",
    "fig, ax = plot_lines(replay_result_df)"
   ]
  },
  {
   "attachments": {},
   "cell_type": "markdown",
   "id": "39e5020d",
   "metadata": {},
   "source": [
    "# 2023-06-13 11:01: - [ ] New display function testing"
   ]
  },
  {
   "cell_type": "code",
   "execution_count": null,
   "id": "f6008da8",
   "metadata": {},
   "outputs": [],
   "source": [
    "import matplotlib as mpl\n",
    "# from pyphoplacecellanalysis.General.Mixins.ExportHelpers import create_daily_programmatic_display_function_testing_folder_if_needed, session_context_to_relative_path, programmatic_display_to_PDF\n",
    "# from pyphoplacecellanalysis.General.Mixins.ExportHelpers import build_pdf_metadata_from_display_context # newer version of build_pdf_export_metadata\n",
    "from neuropy.core.neuron_identities import PlotStringBrevityModeEnum\n",
    "from neuropy.plotting.ratemaps import BackgroundRenderingOptions\n",
    "_bak_rcParams = mpl.rcParams.copy()\n",
    "# mpl.rcParams['toolbar'] = 'None' # disable toolbars\n",
    "# matplotlib.use('AGG') # non-interactive backend ## 2022-08-16 - Surprisingly this works to make the matplotlib figures render only to .png file, not appear on the screen!\n",
    "\n",
    "%matplotlib qt\n",
    "\n",
    "from pyphoplacecellanalysis.General.Mixins.ExportHelpers import programmatic_render_to_file"
   ]
  },
  {
   "cell_type": "code",
   "execution_count": null,
   "id": "808f47ba",
   "metadata": {},
   "outputs": [],
   "source": [
    "curr_active_pipeline.reload_default_display_functions()\n"
   ]
  },
  {
   "cell_type": "code",
   "execution_count": null,
   "id": "be73cef7",
   "metadata": {},
   "outputs": [],
   "source": [
    "from pyphoplacecellanalysis.Pho2D.matplotlib.visualize_heatmap import visualize_heatmap, visualize_heatmap_pyqtgraph # used in `plot_kourosh_activity_style_figure`\n",
    "from pyphoplacecellanalysis.General.Pipeline.Stages.DisplayFunctions.SpikeRasters import plot_raster_plot # used in `plot_kourosh_activity_style_figure`\n",
    "import pyphoplacecellanalysis.External.pyqtgraph as pg # used in `plot_kourosh_activity_style_figure`\n",
    "\n",
    "heatmap_pf1D_win, heatmap_pf1D_img = visualize_heatmap_pyqtgraph(long_pf1D.ratemap.normalized_tuning_curves, title=f\"pf1D Visualization\")\n",
    "# Apply the colormap\n",
    "# heatmap_pf1D_img.setLookupTable(lut)\n",
    "heatmap_pf1D_win.show()"
   ]
  },
  {
   "cell_type": "code",
   "execution_count": null,
   "id": "7dbecb66",
   "metadata": {},
   "outputs": [],
   "source": [
    "from pyphoplacecellanalysis.General.Mixins.CrossComputationComparisonHelpers import _find_any_context_neurons\n",
    "from pyphoplacecellanalysis.General.Pipeline.Stages.DisplayFunctions.SpikeRasters import _prepare_spikes_df_from_filter_epochs\n",
    "\n",
    "long_ratemap = long_pf1D.ratemap\n",
    "short_ratemap = short_pf1D.ratemap\n",
    "curr_any_context_neurons = _find_any_context_neurons(*[k.neuron_ids for k in [long_ratemap, short_ratemap]])\n",
    "\n",
    "# filter_epochs = deepcopy(long_replays)\n",
    "\n",
    "filter_epochs = deepcopy(long_results_obj.active_filter_epochs.to_dataframe())\n",
    "filter_epoch_spikes_df = _prepare_spikes_df_from_filter_epochs(long_session.spikes_df, filter_epochs=filter_epochs, included_neuron_ids=curr_any_context_neurons, epoch_id_key_name='replay_epoch_id', debug_print=False) # replay_epoch_id\n",
    "filter_epoch_spikes_df"
   ]
  },
  {
   "cell_type": "code",
   "execution_count": null,
   "id": "fde77360",
   "metadata": {},
   "outputs": [],
   "source": [
    "app, win, plots, plots_data = plot_multiple_raster_plot(filter_epochs_df, filter_epoch_spikes_df, included_neuron_ids=shared_aclus, epoch_id_key_name='replay_epoch_id', scatter_app_name=\"Pho Stacked Replays\")"
   ]
  },
  {
   "cell_type": "code",
   "execution_count": null,
   "id": "4df49394",
   "metadata": {},
   "outputs": [],
   "source": [
    "from pyphoplacecellanalysis.General.Pipeline.Stages.DisplayFunctions.SpikeRasters import plot_multiple_raster_plot\n",
    "from pyphoplacecellanalysis.General.Pipeline.Stages.DisplayFunctions.MultiContextComparingDisplayFunctions.LongShortTrackComparingDisplayFunctions import determine_long_short_pf1D_indicies_sort_by_peak\n",
    "from pyphoplacecellanalysis.General.Pipeline.Stages.DisplayFunctions.SpikeRasters import _prepare_spikes_df_from_filter_epochs, _find_example_epochs\n",
    "from pyphoplacecellanalysis.General.Pipeline.Stages.ComputationFunctions.MultiContextComputationFunctions.LongShortTrackComputations import JonathanFiringRateAnalysisResult\n",
    "# approach copied from `pyphoplacecellanalysis.General.Pipeline.Stages.ComputationFunctions.MultiContextComputationFunctions.LongShortTrackComputations._epoch_unit_avg_firing_rates`\n",
    "\n",
    "jonathan_firing_rate_analysis_result = JonathanFiringRateAnalysisResult(**curr_active_pipeline.global_computation_results.computed_data.jonathan_firing_rate_analysis.to_dict())\n",
    "neuron_replay_stats_df, short_exclusive, long_exclusive, BOTH_subset, EITHER_subset, XOR_subset, NEITHER_subset = jonathan_firing_rate_analysis_result.get_cell_track_partitions()\n",
    "\n",
    "# included_neuron_ids = deepcopy(exclusive_aclus)\n",
    "# included_neuron_ids = None\n",
    "included_neuron_ids = EITHER_subset.track_exclusive_aclus\n",
    "spikes_df: pd.DataFrame = deepcopy(curr_active_pipeline.sess.spikes_df).spikes.sliced_by_neuron_type('pyr')\n",
    "# filter_epochs = deepcopy(curr_active_pipeline.sess.replay)\n",
    "# spikes_df = deepcopy(long_results_obj.spikes_df) # LeaveOneOutDecodingAnalysisResult\n",
    "# spikes_df[np.isin(spikes_df.aclu, included_neuron_ids)]\n",
    "filter_epochs_df = deepcopy(long_results_obj.active_filter_epochs.to_dataframe())\n"
   ]
  },
  {
   "cell_type": "code",
   "execution_count": null,
   "id": "86d2f562",
   "metadata": {},
   "outputs": [],
   "source": [
    "\n",
    "filter_epoch_spikes_df, filter_epochs_df = _find_example_epochs(spikes_df, filter_epochs_df, EITHER_subset.track_exclusive_aclus, included_neuron_ids=included_neuron_ids) # adds 'active_unique_aclus'\n",
    "# epoch_contains_any_exclusive_aclus.append(np.isin(epoch_spikes_unique_aclus, exclusive_aclus).any())\n",
    "filter_epochs_df['has_SHORT_exclusive_aclu'] = [np.isin(epoch_spikes_unique_aclus, short_exclusive.track_exclusive_aclus).any() for epoch_spikes_unique_aclus in filter_epochs_df['active_unique_aclus']]\n",
    "filter_epochs_df['has_LONG_exclusive_aclu'] = [np.isin(epoch_spikes_unique_aclus, long_exclusive.track_exclusive_aclus).any() for epoch_spikes_unique_aclus in filter_epochs_df['active_unique_aclus']]\n",
    "\n",
    "# requires selection_idxs_L, selection_idxs_S\n",
    "\n",
    "# for updating the filter_epochs_df (`filter_epochs_df`) from the selections:\n",
    "filter_epochs_df['long_is_user_included'] = np.isin(filter_epochs_df.index, selection_idxs_L)\n",
    "filter_epochs_df['short_is_user_included'] = np.isin(filter_epochs_df.index, selection_idxs_S)\n",
    "\n",
    "# Finally, get only the epochs that meet the criteria:\n",
    "\n",
    "\n",
    "# # only include those with one or more exclusive aclu:\n",
    "# considered_filter_epochs_df = filter_epochs_df[filter_epochs_df.contains_one_exclusive_aclu].copy()\n",
    "# # require inclusion for long or short:\n",
    "# considered_filter_epochs_df = considered_filter_epochs_df[np.logical_xor(filter_epochs_df['long_is_user_included'], filter_epochs_df['short_is_user_included'])]\n",
    "\n",
    "# Get separate long-side/short-side canidate replays:\n",
    "# considered_long_side_epochs_df = filter_epochs_df[(filter_epochs_df['has_LONG_exclusive_aclu'] & ~filter_epochs_df['short_is_user_included'] & filter_epochs_df['long_is_user_included'])].copy() # replay not considered good by user for short decoding, but it is for long decoding. Finally, has at least one LONG exclusive ACLU.\n",
    "considered_long_side_epochs_df = filter_epochs_df[(filter_epochs_df['has_LONG_exclusive_aclu'] & filter_epochs_df['long_is_user_included'])].copy() # replay not considered good by user for short decoding, but it is for long decoding. Finally, has at least one LONG exclusive ACLU.\n",
    "# considered_long_side_epochs_df\n",
    "# considered_short_side_epochs_df = filter_epochs_df[(filter_epochs_df['has_SHORT_exclusive_aclu'] & filter_epochs_df['short_is_user_included'] & ~filter_epochs_df['long_is_user_included'])].copy()  # replay not considered good by user for long decoding, but it is for short decoding. Finally, has at least one SHORT exclusive ACLU.\n",
    "considered_short_side_epochs_df = filter_epochs_df[(filter_epochs_df['has_SHORT_exclusive_aclu'] & filter_epochs_df['short_is_user_included'])].copy()  # replay not considered good by user for long decoding, but it is for short decoding. Finally, has at least one SHORT exclusive ACLU.\n",
    "# considered_short_side_epochs_df\n",
    "\n",
    "\n",
    "# Common for all rasters:\n",
    "new_all_aclus_sort_indicies = determine_long_short_pf1D_indicies_sort_by_peak(curr_active_pipeline=curr_active_pipeline, curr_any_context_neurons=EITHER_subset.track_exclusive_aclus)\n",
    "\n",
    "# considered_filter_epochs_df = deepcopy(considered_long_side_epochs_df)\n",
    "considered_filter_epochs_df = deepcopy(considered_short_side_epochs_df)\n",
    "# considered_filter_epochs_df = deepcopy(filter_epochs_df)\n"
   ]
  },
  {
   "cell_type": "code",
   "execution_count": null,
   "id": "be6da56a",
   "metadata": {},
   "outputs": [],
   "source": [
    "\n",
    "filter_epoch_spikes_df = _prepare_spikes_df_from_filter_epochs(filter_epoch_spikes_df, filter_epochs=considered_filter_epochs_df, included_neuron_ids=EITHER_subset.track_exclusive_aclus, epoch_id_key_name='replay_epoch_id', debug_print=True) # replay_epoch_id\n",
    "app, win, plots, plots_data = plot_multiple_raster_plot(considered_filter_epochs_df, filter_epoch_spikes_df, included_neuron_ids=EITHER_subset.track_exclusive_aclus, unit_sort_order=new_all_aclus_sort_indicies, epoch_id_key_name='replay_epoch_id', scatter_app_name=\"Pho Custom Selected Stacked Replays\")"
   ]
  },
  {
   "cell_type": "code",
   "execution_count": null,
   "id": "48451ee5",
   "metadata": {},
   "outputs": [],
   "source": [
    "active_filter_epochs = deepcopy(considered_short_side_epochs_df)\n",
    "filter_epoch_spikes_df = _prepare_spikes_df_from_filter_epochs(filter_epoch_spikes_df, filter_epochs=active_filter_epochs, included_neuron_ids=EITHER_subset.track_exclusive_aclus, epoch_id_key_name='replay_epoch_id', debug_print=True) # replay_epoch_id\n",
    "app, win, plots, plots_data = plot_multiple_raster_plot(active_filter_epochs, filter_epoch_spikes_df, included_neuron_ids=EITHER_subset.track_exclusive_aclus, unit_sort_order=new_all_aclus_sort_indicies, epoch_id_key_name='replay_epoch_id', scatter_app_name=\"Pho Custom Selected Stacked Replays - Short Side\")"
   ]
  },
  {
   "cell_type": "code",
   "execution_count": null,
   "id": "cec7dcd1",
   "metadata": {},
   "outputs": [],
   "source": [
    "active_filter_epochs = deepcopy(considered_long_side_epochs_df)\n",
    "filter_epoch_spikes_df = _prepare_spikes_df_from_filter_epochs(filter_epoch_spikes_df, filter_epochs=active_filter_epochs, included_neuron_ids=EITHER_subset.track_exclusive_aclus, epoch_id_key_name='replay_epoch_id', debug_print=True) # replay_epoch_id\n",
    "app, win, plots, plots_data = plot_multiple_raster_plot(active_filter_epochs, filter_epoch_spikes_df, included_neuron_ids=EITHER_subset.track_exclusive_aclus, unit_sort_order=new_all_aclus_sort_indicies, epoch_id_key_name='replay_epoch_id', scatter_app_name=\"Pho Custom Selected Stacked Replays - LONG Side\")"
   ]
  },
  {
   "cell_type": "code",
   "execution_count": null,
   "id": "00ab1452",
   "metadata": {},
   "outputs": [],
   "source": [
    "filter_epochs_df"
   ]
  },
  {
   "cell_type": "code",
   "execution_count": null,
   "id": "8ce8a8c5",
   "metadata": {},
   "outputs": [],
   "source": [
    "considered_short_side_epochs_df"
   ]
  },
  {
   "cell_type": "code",
   "execution_count": null,
   "id": "cc278ff0",
   "metadata": {},
   "outputs": [],
   "source": [
    "considered_long_side_epochs_df"
   ]
  },
  {
   "cell_type": "code",
   "execution_count": null,
   "id": "c23fd55f",
   "metadata": {},
   "outputs": [],
   "source": [
    "considered_short_side_epochs_df = filter_epochs_df[ (filter_epochs_df['has_SHORT_exclusive_aclu'] & filter_epochs_df['short_is_user_included'] & ~filter_epochs_df['long_is_user_included']) ]  # replay not considered good by user for long decoding, but it is for short decoding. Finally, has at least one SHORT exclusive ACLU.\n",
    "considered_short_side_epochs_df\n",
    "\n",
    "considered_long_side_epochs_df = filter_epochs_df[ (filter_epochs_df['has_LONG_exclusive_aclu'] & ~filter_epochs_df['short_is_user_included'] & filter_epochs_df['long_is_user_included']) ] # replay not considered good by user for short decoding, but it is for long decoding. Finally, has at least one LONG exclusive ACLU.\n",
    "considered_long_side_epochs_df"
   ]
  },
  {
   "cell_type": "code",
   "execution_count": null,
   "id": "79c9ef48",
   "metadata": {},
   "outputs": [],
   "source": []
  }
 ],
 "metadata": {
  "kernelspec": {
   "display_name": "Python 3 (ipykernel)",
   "language": "python",
   "name": "python3"
  },
  "language_info": {
   "codemirror_mode": {
    "name": "ipython",
    "version": 3
   },
   "file_extension": ".py",
   "mimetype": "text/x-python",
   "name": "python",
   "nbconvert_exporter": "python",
   "pygments_lexer": "ipython3",
   "version": "3.9.13"
  },
  "toc-showmarkdowntxt": false,
  "toc-showtags": false
 },
 "nbformat": 4,
 "nbformat_minor": 5
}
