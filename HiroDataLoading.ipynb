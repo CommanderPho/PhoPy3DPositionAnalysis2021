{
 "cells": [
  {
   "cell_type": "code",
   "execution_count": 1,
   "id": "ed89add9-df17-4537-86bd-efdfeede07f5",
   "metadata": {},
   "outputs": [],
   "source": [
    "\"\"\"\n",
    "@author: pho\n",
    "\"\"\"\n",
    "%load_ext autoreload\n",
    "%autoreload 2\n",
    "%config Completer.use_jedi = False\n",
    "import sys\n",
    "import importlib\n",
    "import numpy as np\n",
    "import pandas as pd\n",
    "from pathlib import Path\n",
    "import h5py\n",
    "import hdf5storage # conda install hdf5storage\n",
    "\n",
    "from neuropy.utils.dynamic_container import DynamicContainer\n",
    "from neuropy.core.session.Formats.Specific.HiroDataSessionFormat import HiroDataSessionFormatRegisteredClass\n",
    "from neuropy.core import DataWriter, NeuronType, Neurons, BinnedSpiketrain, Mua, ProbeGroup, Position, Epoch, Signal, Laps, FlattenedSpiketrains\n",
    "\n",
    "\n",
    "from pyphocorehelpers.print_helpers import print_keys_if_possible, debug_dump_object_member_shapes\n",
    "# # import PhoPositionalData as pdp\n",
    "# # from pyphoplacecellanalysis.PhoPositionalData. import load_exported, process_data\n",
    "# from pyphoplacecellanalysis.PhoPositionalData.load_exported import *\n",
    "# # from pyphoplacecellanalysis.PhoPositionalData.process_data import process_positionalAnalysis_data, gen_2d_histrogram, get_heatmap_color_vectors, process_chunk_equal_poritions_data, extract_spike_timeseries\n",
    "# from pyphoplacecellanalysis.PhoPositionalData.process_data import *\n",
    "# from pyphoplacecellanalysis.PhoPositionalData.plot_data import *\n",
    "# from pyphoplacecellanalysis.PhoPositionalData.import_data import *\n",
    "# from pyphoplacecellanalysis.PhoPositionalData.load_exported import import_mat_file\n",
    "# from pyphoplacecellanalysis.PhoPositionalData.process_data import process_positionalAnalysis_data, gen_2d_histrogram, get_heatmap_color_vectors, process_chunk_equal_poritions_data, extract_spike_timeseries\n",
    "# from pyphoplacecellanalysis.PhoPositionalData.process_data import process_positionalAnalysis_data, extract_spike_timeseries"
   ]
  },
  {
   "cell_type": "code",
   "execution_count": 2,
   "id": "4d2fc9c1-1492-426b-a465-9d78d4b21a0c",
   "metadata": {},
   "outputs": [
    {
     "name": "stdout",
     "output_type": "stream",
     "text": [
      "Automatic pdb calling has been turned ON\n"
     ]
    }
   ],
   "source": [
    "## Drastically improve Python Tracebacks on exceptions:\n",
    "# from rich.traceback import install\n",
    "# install()\n",
    "\n",
    "## Automatic debugger on exception raised\n",
    "%pdb on"
   ]
  },
  {
   "cell_type": "code",
   "execution_count": 11,
   "id": "b9f7205c-d83c-4b79-9179-3797eaae5a05",
   "metadata": {},
   "outputs": [
    {
     "name": "stdout",
     "output_type": "stream",
     "text": [
      "Loading matlab import file results to R:\\rMBP Python Repos 2022-07-07\\PhoNeuronGillespie2021CodeRepo\\PhoMatlabDataScripting\\ExportedData\\RoyMaze1\\ExportedData\\positionAnalysis.mat... done.\n",
      "Loading matlab import file results to R:\\rMBP Python Repos 2022-07-07\\PhoNeuronGillespie2021CodeRepo\\PhoMatlabDataScripting\\ExportedData\\RoyMaze1\\ExportedData\\spikesAnalysis.mat... done.\n",
      "Loading matlab import file results to R:\\rMBP Python Repos 2022-07-07\\PhoNeuronGillespie2021CodeRepo\\PhoMatlabDataScripting\\ExportedData\\RoyMaze1\\ExportedData\\extrasAnalysis.mat... done.\n",
      "num_periods: 668\n"
     ]
    }
   ],
   "source": [
    "# RoyMaze1:\n",
    "# mat_import_parent_path = Path(r'R:\\data\\RoyMaze1')\n",
    "mat_import_parent_path = Path(r'R:\\rMBP Python Repos 2022-07-07\\PhoNeuronGillespie2021CodeRepo\\PhoMatlabDataScripting\\ExportedData\\RoyMaze1')\n",
    "# mat_import_parent_path = Path(r'C:\\Share\\data\\RoyMaze1') # Old one\n",
    "# mat_import_file = r'C:\\Share\\data\\RoyMaze1\\ExportedData.mat'\n",
    "# all_vars = load_position_spikes_extras_mats(parent_path=mat_import_parent_path)\n",
    "all_vars = HiroDataSessionFormatRegisteredClass._load_all_mats(parent_path=mat_import_parent_path)\n",
    "# all_vars"
   ]
  },
  {
   "cell_type": "code",
   "execution_count": 12,
   "id": "f8efff7a-235b-463e-abb7-81b0be4d3c97",
   "metadata": {},
   "outputs": [
    {
     "data": {
      "text/plain": [
       "DataSession(config: <SessionConfig: {'basepath': WindowsPath('R:/rMBP Python Repos 2022-07-07/PhoNeuronGillespie2021CodeRepo/PhoMatlabDataScripting/ExportedData/RoyMaze1'), 'session_name': 'RoyMaze1', 'session_spec': <SessionFolderSpec: {'required_files': [], 'optional_files': [], 'additional_validation_requirements': []};>, 'is_resolved': True, 'resolved_required_filespecs_dict': {}, 'resolved_optional_filespecs_dict': {}};>): Not yet configured."
      ]
     },
     "execution_count": 12,
     "metadata": {},
     "output_type": "execute_result"
    }
   ],
   "source": [
    "session = HiroDataSessionFormatRegisteredClass.build_session(basedir=mat_import_parent_path)\n",
    "session"
   ]
  },
  {
   "cell_type": "code",
   "execution_count": 5,
   "id": "3f291d11-8bb6-4e4c-8c3e-7bd56165c1dd",
   "metadata": {},
   "outputs": [
    {
     "name": "stdout",
     "output_type": "stream",
     "text": [
      "- extras: <class 'neuropy.utils.dynamic_container.DynamicContainer'>\n",
      "\t- behavioral_periods: <class 'pandas.core.frame.DataFrame'> - (668, 6)\n",
      "\t- behavioral_epochs: <class 'pandas.core.frame.DataFrame'> - (3, 7)\n",
      "\t- num_periods: <class 'int'>\n"
     ]
    }
   ],
   "source": [
    "# all_vars.extras\n",
    "# print_keys_if_possible('pos', all_vars.pos)\n",
    "print_keys_if_possible('extras', all_vars.extras)\n",
    "# print_keys_if_possible('all_vars', all_vars)\n",
    "# debug_dump_object_member_shapes(all_vars)"
   ]
  },
  {
   "cell_type": "code",
   "execution_count": 6,
   "id": "ae80d5c0-3d7a-4b9b-b9cc-29c3a41007d6",
   "metadata": {},
   "outputs": [
    {
     "name": "stdout",
     "output_type": "stream",
     "text": [
      "['epoch_index', 'start_seconds_absolute', 'end_seconds_absolute', 'start_seconds', 'end_seconds', 'duration', 'label']\n"
     ]
    },
    {
     "data": {
      "text/html": [
       "<div>\n",
       "<style scoped>\n",
       "    .dataframe tbody tr th:only-of-type {\n",
       "        vertical-align: middle;\n",
       "    }\n",
       "\n",
       "    .dataframe tbody tr th {\n",
       "        vertical-align: top;\n",
       "    }\n",
       "\n",
       "    .dataframe thead th {\n",
       "        text-align: right;\n",
       "    }\n",
       "</style>\n",
       "<table border=\"1\" class=\"dataframe\">\n",
       "  <thead>\n",
       "    <tr style=\"text-align: right;\">\n",
       "      <th></th>\n",
       "      <th>epoch_index</th>\n",
       "      <th>start_seconds_absolute</th>\n",
       "      <th>end_seconds_absolute</th>\n",
       "      <th>start_seconds</th>\n",
       "      <th>end_seconds</th>\n",
       "      <th>duration</th>\n",
       "      <th>label</th>\n",
       "    </tr>\n",
       "  </thead>\n",
       "  <tbody>\n",
       "    <tr>\n",
       "      <th>0</th>\n",
       "      <td>0.0</td>\n",
       "      <td>68368.714228</td>\n",
       "      <td>79168.671561</td>\n",
       "      <td>0.000000</td>\n",
       "      <td>10799.957333</td>\n",
       "      <td>10799.957333</td>\n",
       "      <td>pre_sleep</td>\n",
       "    </tr>\n",
       "    <tr>\n",
       "      <th>1</th>\n",
       "      <td>1.0</td>\n",
       "      <td>79368.012194</td>\n",
       "      <td>90198.911394</td>\n",
       "      <td>10999.297966</td>\n",
       "      <td>21830.197166</td>\n",
       "      <td>10830.899200</td>\n",
       "      <td>track</td>\n",
       "    </tr>\n",
       "    <tr>\n",
       "      <th>2</th>\n",
       "      <td>2.0</td>\n",
       "      <td>92919.765028</td>\n",
       "      <td>103719.773561</td>\n",
       "      <td>24551.050800</td>\n",
       "      <td>35351.059333</td>\n",
       "      <td>10800.008533</td>\n",
       "      <td>post_sleep</td>\n",
       "    </tr>\n",
       "  </tbody>\n",
       "</table>\n",
       "</div>"
      ],
      "text/plain": [
       "   epoch_index  start_seconds_absolute  end_seconds_absolute  start_seconds  \\\n",
       "0          0.0            68368.714228          79168.671561       0.000000   \n",
       "1          1.0            79368.012194          90198.911394   10999.297966   \n",
       "2          2.0            92919.765028         103719.773561   24551.050800   \n",
       "\n",
       "    end_seconds      duration       label  \n",
       "0  10799.957333  10799.957333   pre_sleep  \n",
       "1  21830.197166  10830.899200       track  \n",
       "2  35351.059333  10800.008533  post_sleep  "
      ]
     },
     "execution_count": 6,
     "metadata": {},
     "output_type": "execute_result"
    }
   ],
   "source": [
    "type(all_vars.extras.behavioral_epochs) # pandas.core.frame.DataFrame\n",
    "print(list(all_vars.extras.behavioral_epochs.columns)) # ['epoch_index', 'start_seconds_absolute', 'end_seconds_absolute', 'start_seconds', 'end_seconds', 'duration']\n",
    "all_vars.extras.behavioral_epochs"
   ]
  },
  {
   "cell_type": "code",
   "execution_count": 13,
   "id": "f198a781-2fac-4e06-a9b4-85e8b4d1cc11",
   "metadata": {},
   "outputs": [
    {
     "data": {
      "text/plain": [
       "        label         start          stop      duration\n",
       "0   pre_sleep      0.000000  10799.957333  10799.957333\n",
       "1       track  10999.297966  21830.197166  10830.899200\n",
       "2  post_sleep  24551.050800  35351.059333  10800.008533"
      ]
     },
     "execution_count": 13,
     "metadata": {},
     "output_type": "execute_result"
    }
   ],
   "source": [
    "## Adds Session.paradigm (Epochs)\n",
    "session_absolute_start_timestamp = all_vars.extras.behavioral_epochs.loc[0, 'start_seconds_absolute'] # 68368.714228\n",
    "session.config.absolute_start_timestamp = session_absolute_start_timestamp\n",
    "# 'start_seconds' and 'end_seconds' are relative to start\n",
    "if 'label' in all_vars.extras.behavioral_epochs.columns:\n",
    "    epoch_labels = all_vars.extras.behavioral_epochs['label']\n",
    "else:\n",
    "    num_rows = all_vars.extras.behavioral_epochs.shape[0]\n",
    "    epoch_labels = [f'epoch{i}' for i in np.arange(num_rows)]\n",
    "epochs_df = pd.DataFrame({'label':epoch_labels, 'start':all_vars.extras.behavioral_epochs['start_seconds'].to_numpy(),'stop':all_vars.extras.behavioral_epochs['end_seconds'].to_numpy()})\n",
    "session.paradigm = Epoch(epochs=epochs_df)\n",
    "session.paradigm"
   ]
  },
  {
   "cell_type": "code",
   "execution_count": 14,
   "id": "1e5f826f-2f84-4bfc-afa4-a47ce11c3423",
   "metadata": {},
   "outputs": [
    {
     "data": {
      "text/plain": [
       "<Position: {'_filename': None, '_metadata': None, '_data':                    t      x      y\n",
       "0       10999.801938  641.0  214.5\n",
       "1       10999.835862  641.0  214.5\n",
       "2       10999.869332  641.0  214.5\n",
       "3       10999.902526  641.0  214.5\n",
       "4       10999.936029  641.0  214.5\n",
       "...              ...    ...    ...\n",
       "324569  21829.537433  623.5  219.0\n",
       "324570  21829.570327  623.5  219.0\n",
       "324571  21829.604142  623.5  219.0\n",
       "324572  21829.637670  623.5  219.0\n",
       "324573  21829.670965  623.5  219.0\n",
       "\n",
       "[324574 rows x 3 columns]};>"
      ]
     },
     "execution_count": 14,
     "metadata": {},
     "output_type": "execute_result"
    }
   ],
   "source": [
    "## Adds Positions:\n",
    "position_sampling_rate_Hz = 1.0 / np.nanmean(np.diff(all_vars.pos.t)) # 1.0/0.03336651239320582 = 29.97016853950917 Hz\n",
    "session.config.position_sampling_rate_Hz = position_sampling_rate_Hz\n",
    "# session.position = Position(traces=np.vstack((x, y)), computed_traces=np.full([1, num_samples], np.nan), t_start=active_t_start, sampling_rate=position_sampling_rate_Hz)\n",
    "t_rel = all_vars.pos.t\n",
    "x = all_vars.pos.x\n",
    "y = all_vars.pos.y\n",
    "session.position = Position.from_separate_arrays(t_rel, x, y)\n",
    "session.position"
   ]
  },
  {
   "cell_type": "code",
   "execution_count": 16,
   "id": "eb11e244-79ac-4fad-b310-b633cb5e8c0e",
   "metadata": {},
   "outputs": [],
   "source": [
    "## Adds Spikes:\n",
    "print(list(all_vars.spikes.keys())) # ['spike_matrix', 'spike_cells', 'num_cells', 'spike_list', 'spike_positions_list', 'flat_cell_ids', 'reverse_cellID_idx_lookup_map', 'spikes_cell_info_out_dict']"
   ]
  },
  {
   "cell_type": "code",
   "execution_count": 26,
   "id": "06a5f516-ff48-4e9c-ab94-14017304d970",
   "metadata": {},
   "outputs": [],
   "source": [
    "all_vars.spikes.spike_list[0].shape # (293076,)\n",
    "all_vars.spikes.spike_list[1].shape # (9297,)\n",
    "\n",
    "# len(all_vars.spikes.spike_list) # 126"
   ]
  },
  {
   "cell_type": "code",
   "execution_count": 27,
   "id": "df7da513-e894-4d82-8b20-e6a69539cfe4",
   "metadata": {},
   "outputs": [
    {
     "data": {
      "text/plain": [
       "35351.059333"
      ]
     },
     "execution_count": 27,
     "metadata": {},
     "output_type": "execute_result"
    }
   ],
   "source": [
    "session.paradigm.t_stop"
   ]
  },
  {
   "cell_type": "code",
   "execution_count": 16,
   "id": "812e7e55-cf4e-4959-af66-803d7d008875",
   "metadata": {},
   "outputs": [
    {
     "name": "stdout",
     "output_type": "stream",
     "text": [
      "['spike_matrix', 'spike_cells', 'num_cells', 'spike_list', 'spike_positions_list', 'flat_cell_ids', 'reverse_cellID_idx_lookup_map', 'spikes_cell_info_out_dict']\n"
     ]
    },
    {
     "data": {
      "text/plain": [
       "DynamicContainer({'shank': array([1, 1, 1, 1, 1, 1, 1, 1, 1, 1, 1, 1, 1, 1, 1, 1, 1, 1, 1, 1, 1, 1,\n",
       "       2, 2, 2, 2, 2, 2, 2, 2, 2, 2, 2, 2, 2, 2, 2, 2, 2, 2, 2, 2, 2, 2,\n",
       "       2, 2, 2, 2, 2, 2, 2, 2, 2, 2, 2, 2, 2, 2, 2, 2, 2, 2, 2, 2, 3, 3,\n",
       "       3, 3, 3, 3, 3, 3, 3, 3, 3, 3, 3, 3, 3, 3, 3, 3, 3, 4, 4, 4, 4, 4,\n",
       "       4, 4, 4, 4, 4, 4, 4, 4, 4, 4, 5, 5, 5, 5, 5, 5, 5, 5, 5, 5, 5, 5,\n",
       "       5, 5, 5, 5, 5, 5, 5, 5, 5, 6, 6, 6, 6, 6, 7, 8], dtype=uint8), 'cluster': array([ 1,  2,  3,  4,  5,  6,  7,  8,  9, 10, 11, 12, 13, 14, 15, 16, 17,\n",
       "       18, 19, 20, 21, 22,  1,  2,  3,  4,  5,  6,  7,  8,  9, 10, 11, 12,\n",
       "       13, 14, 15, 16, 17, 18, 19, 20, 21, 22, 23, 24, 25, 26, 27, 28, 29,\n",
       "       30, 31, 32, 33, 34, 35, 36, 37, 38, 39, 40, 41, 42,  1,  2,  3,  4,\n",
       "        5,  6,  7,  8,  9, 10, 11, 12, 13, 14, 15, 16, 17, 18, 19,  1,  2,\n",
       "        3,  4,  5,  6,  7,  8,  9, 10, 11, 12, 13, 14, 15,  1,  2,  3,  4,\n",
       "        5,  6,  7,  8,  9, 10, 11, 12, 13, 14, 15, 16, 17, 18, 19, 20, 21,\n",
       "        1,  2,  3,  4,  5,  1,  1], dtype=uint8), 'aclu': array([  1,   2,   3,   4,   5,   6,   7,   8,   9,  10,  11,  12,  13,\n",
       "        14,  15,  16,  17,  18,  19,  20,  21,  22,  23,  24,  25,  26,\n",
       "        27,  28,  29,  30,  31,  32,  33,  34,  35,  36,  37,  38,  39,\n",
       "        40,  41,  42,  43,  44,  45,  46,  47,  48,  49,  50,  51,  52,\n",
       "        53,  54,  55,  56,  57,  58,  59,  60,  61,  62,  63,  64,  65,\n",
       "        66,  67,  68,  69,  70,  71,  72,  73,  74,  75,  76,  77,  78,\n",
       "        79,  80,  81,  82,  83,  84,  85,  86,  87,  88,  89,  90,  91,\n",
       "        92,  93,  94,  95,  96,  97,  98,  99, 100, 101, 102, 103, 104,\n",
       "       105, 106, 107, 108, 109, 110, 111, 112, 113, 114, 115, 116, 117,\n",
       "       118, 119, 120, 121, 122, 123, 124, 125, 126], dtype=uint8), 'qclu': array([9, 3, 8, 8, 9, 4, 2, 9, 1, 1, 1, 3, 3, 9, 3, 2, 1, 3, 3, 8, 3, 3,\n",
       "       9, 9, 3, 8, 1, 9, 1, 3, 1, 8, 1, 8, 1, 2, 2, 8, 1, 2, 2, 9, 9, 8,\n",
       "       8, 3, 4, 3, 3, 1, 2, 2, 2, 2, 2, 3, 4, 2, 3, 1, 2, 3, 2, 2, 9, 2,\n",
       "       2, 3, 2, 3, 1, 1, 3, 1, 4, 3, 2, 3, 8, 3, 3, 3, 3, 9, 4, 1, 3, 4,\n",
       "       4, 2, 8, 2, 2, 4, 2, 2, 2, 3, 9, 3, 3, 2, 2, 2, 2, 2, 3, 9, 3, 3,\n",
       "       4, 4, 3, 3, 4, 2, 2, 8, 8, 9, 3, 8, 9, 3, 9, 9], dtype=uint8), 'speculated_unit_contamination_level': array([1, 2, 0, 0, 1, 3, 1, 1, 0, 0, 0, 2, 2, 1, 2, 1, 0, 2, 2, 0, 2, 2,\n",
       "       1, 1, 2, 0, 0, 1, 0, 2, 0, 0, 0, 0, 0, 1, 1, 0, 0, 1, 1, 1, 1, 0,\n",
       "       0, 2, 3, 2, 2, 0, 1, 1, 1, 1, 1, 2, 3, 1, 2, 0, 1, 2, 1, 1, 1, 1,\n",
       "       1, 2, 1, 2, 0, 0, 2, 0, 3, 2, 1, 2, 0, 2, 2, 2, 2, 1, 3, 0, 2, 3,\n",
       "       3, 1, 0, 1, 1, 3, 1, 1, 1, 2, 1, 2, 2, 1, 1, 1, 1, 1, 2, 1, 2, 2,\n",
       "       3, 3, 2, 2, 3, 1, 1, 0, 0, 1, 2, 0, 1, 2, 1, 1], dtype=uint8), 'speculated_unit_type': ['interneurons', 'pyramidal', 'interneurons', 'interneurons', 'interneurons', 'contaminated', 'pyramidal', 'interneurons', 'pyramidal', 'pyramidal', 'pyramidal', 'pyramidal', 'pyramidal', 'interneurons', 'pyramidal', 'pyramidal', 'pyramidal', 'pyramidal', 'pyramidal', 'interneurons', 'pyramidal', 'pyramidal', 'interneurons', 'interneurons', 'pyramidal', 'interneurons', 'pyramidal', 'interneurons', 'pyramidal', 'pyramidal', 'pyramidal', 'interneurons', 'pyramidal', 'interneurons', 'pyramidal', 'pyramidal', 'pyramidal', 'interneurons', 'pyramidal', 'pyramidal', 'pyramidal', 'interneurons', 'interneurons', 'interneurons', 'interneurons', 'pyramidal', 'contaminated', 'pyramidal', 'pyramidal', 'pyramidal', 'pyramidal', 'pyramidal', 'pyramidal', 'pyramidal', 'pyramidal', 'pyramidal', 'contaminated', 'pyramidal', 'pyramidal', 'pyramidal', 'pyramidal', 'pyramidal', 'pyramidal', 'pyramidal', 'interneurons', 'pyramidal', 'pyramidal', 'pyramidal', 'pyramidal', 'pyramidal', 'pyramidal', 'pyramidal', 'pyramidal', 'pyramidal', 'contaminated', 'pyramidal', 'pyramidal', 'pyramidal', 'interneurons', 'pyramidal', 'pyramidal', 'pyramidal', 'pyramidal', 'interneurons', 'contaminated', 'pyramidal', 'pyramidal', 'contaminated', 'contaminated', 'pyramidal', 'interneurons', 'pyramidal', 'pyramidal', 'contaminated', 'pyramidal', 'pyramidal', 'pyramidal', 'pyramidal', 'interneurons', 'pyramidal', 'pyramidal', 'pyramidal', 'pyramidal', 'pyramidal', 'pyramidal', 'pyramidal', 'pyramidal', 'interneurons', 'pyramidal', 'pyramidal', 'contaminated', 'contaminated', 'pyramidal', 'pyramidal', 'contaminated', 'pyramidal', 'pyramidal', 'interneurons', 'interneurons', 'interneurons', 'pyramidal', 'interneurons', 'interneurons', 'pyramidal', 'interneurons', 'interneurons']})"
      ]
     },
     "execution_count": 16,
     "metadata": {},
     "output_type": "execute_result"
    }
   ],
   "source": [
    "# all_vars.spikes\n",
    "# 'spike_cells'\n",
    "all_vars.spikes.spikes_cell_info_out_dict"
   ]
  },
  {
   "cell_type": "code",
   "execution_count": 19,
   "id": "a3e0a78c-32f9-4b50-ac9a-0c8f04e3f97c",
   "metadata": {},
   "outputs": [],
   "source": [
    "flat_cell_ids = all_vars.spikes.spikes_cell_info_out_dict.aclu\n",
    "cell_type = NeuronType.from_qclu_series(qclu_Series=all_vars.spikes.spikes_cell_info_out_dict.qclu)\n",
    "shank_ids = all_vars.spikes.spikes_cell_info_out_dict.shank\n",
    "# cluster_ids = all_vars.spikes.spikes_cell_info_out_dict.cluster # NOT USED"
   ]
  },
  {
   "cell_type": "code",
   "execution_count": 30,
   "id": "9cccd941-2fda-4183-a1f4-34037302993a",
   "metadata": {},
   "outputs": [],
   "source": [
    "spiketrains = np.array(all_vars.spikes.spike_list, dtype='object')\n",
    "# t_stop = np.max(flat_spikes_out_dict[time_variable_name])\n",
    "t_stop = session.paradigm.t_stop\n",
    "flat_cell_ids = np.array(flat_cell_ids)\n",
    "# all_vars.spikes.spikes_cell_info_out_dict.speculated_unit_type\n",
    "\n",
    "dat_sampling_rate = 30000.0\n",
    "lfpSampleRate = 1250.0\n",
    "posSampleRate = 29.9700\n",
    "\n",
    "session.neurons = Neurons(spiketrains, t_stop, t_start=0,\n",
    "    sampling_rate=dat_sampling_rate, # session.recinfo.dat_sampling_rate\n",
    "    neuron_ids=flat_cell_ids,\n",
    "    neuron_type=cell_type,\n",
    "    shank_ids=shank_ids\n",
    ")\n",
    "session.neurons\n",
    "\n",
    "# Neurons\n",
    "#  n_neurons: 126\n",
    "#  n_total_spikes: 11214527\n",
    "#  t_start: 0\n",
    "#  t_stop: 35351.059333\n",
    "\n",
    "# 'num_cells': 86, 'spike_list', 'reverse_cellID_idx_lookup_map'"
   ]
  },
  {
   "cell_type": "code",
   "execution_count": 31,
   "id": "0addb4cf-0238-4324-b906-562d2c8e6726",
   "metadata": {},
   "outputs": [
    {
     "data": {
      "text/plain": [
       "DataSession(config: <SessionConfig: {'basepath': WindowsPath('R:/rMBP Python Repos 2022-07-07/PhoNeuronGillespie2021CodeRepo/PhoMatlabDataScripting/ExportedData/RoyMaze1'), 'session_name': 'RoyMaze1', 'session_spec': <SessionFolderSpec: {'required_files': [], 'optional_files': [], 'additional_validation_requirements': []};>, 'is_resolved': True, 'resolved_required_filespecs_dict': {}, 'resolved_optional_filespecs_dict': {}, 'absolute_start_timestamp': 68368.714228, 'position_sampling_rate_Hz': 29.97016853950917};>): Not yet configured."
      ]
     },
     "execution_count": 31,
     "metadata": {},
     "output_type": "execute_result"
    }
   ],
   "source": [
    "session"
   ]
  },
  {
   "cell_type": "code",
   "execution_count": null,
   "id": "039da3ac-0a1f-457a-aefd-197524ebeb2c",
   "metadata": {},
   "outputs": [],
   "source": [
    "## IDEA: Define a series of fallback options for each variable using the command chain pattern."
   ]
  }
 ],
 "metadata": {
  "kernelspec": {
   "display_name": "Python [conda env:phoviz_ultimate]",
   "language": "python",
   "name": "conda-env-phoviz_ultimate-py"
  },
  "language_info": {
   "codemirror_mode": {
    "name": "ipython",
    "version": 3
   },
   "file_extension": ".py",
   "mimetype": "text/x-python",
   "name": "python",
   "nbconvert_exporter": "python",
   "pygments_lexer": "ipython3",
   "version": "3.9.12"
  }
 },
 "nbformat": 4,
 "nbformat_minor": 5
}
