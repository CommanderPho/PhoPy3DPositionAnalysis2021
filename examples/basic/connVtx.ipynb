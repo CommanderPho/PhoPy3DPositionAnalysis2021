{
 "cells": [
  {
   "cell_type": "code",
   "execution_count": 1,
   "metadata": {},
   "outputs": [
    {
     "data": {
      "application/vnd.jupyter.widget-view+json": {
       "model_id": "429a83b6b31441a6aa07fabb986d4dcc",
       "version_major": 2,
       "version_minor": 0
      },
      "text/plain": [
       "Plot(antialias=3, axes=['x', 'y', 'z'], background_color=16777215, fps_meter=False, grid=[-1, -1, -1, 1, 1, 1]…"
      ]
     },
     "metadata": {},
     "output_type": "display_data"
    }
   ],
   "source": [
    "\"\"\"Find the vertices that are connected to a specific vertex in a mesh.\"\"\"\n",
    "\n",
    "from vtkplotter import *\n",
    "\n",
    "s = Sphere(c=\"r\", res=10).wire()\n",
    "\n",
    "index = 12\n",
    "\n",
    "vtxs = s.connectedVertices(index, returnIds=False)\n",
    "\n",
    "apt  = Point(s.getPoint(index), c=\"lg\", r=4)\n",
    "cpts = Points(vtxs, c=\"blue\", r=4)\n",
    "\n",
    "show(s, apt, cpts)"
   ]
  },
  {
   "cell_type": "code",
   "execution_count": null,
   "metadata": {},
   "outputs": [],
   "source": []
  }
 ],
 "metadata": {
  "kernelspec": {
   "display_name": "Python 3",
   "language": "python",
   "name": "python3"
  },
  "language_info": {
   "codemirror_mode": {
    "name": "ipython",
    "version": 3
   },
   "file_extension": ".py",
   "mimetype": "text/x-python",
   "name": "python",
   "nbconvert_exporter": "python",
   "pygments_lexer": "ipython3",
   "version": "3.6.8"
  }
 },
 "nbformat": 4,
 "nbformat_minor": 2
}
