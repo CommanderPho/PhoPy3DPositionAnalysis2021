{
 "cells": [
  {
   "cell_type": "code",
   "execution_count": 1,
   "metadata": {},
   "outputs": [
    {
     "data": {
      "application/vnd.jupyter.widget-view+json": {
       "model_id": "6afe2573e4ed40789d86033940337f3c",
       "version_major": 2,
       "version_minor": 0
      },
      "text/plain": [
       "Plot(antialias=3, axes=['x', 'y', 'z'], background_color=16777215, camera=[1.8047927971055058, 1.8047927971055…"
      ]
     },
     "metadata": {},
     "output_type": "display_data"
    }
   ],
   "source": [
    "\"\"\"Find the vertices that are connected to a specific vertex in a mesh.\"\"\"\n",
    "\n",
    "from vtkplotter import *\n",
    "\n",
    "s = Sphere(c=\"r\", res=10).wireframe()\n",
    "\n",
    "index = 12 #pick vertex nr 12\n",
    "\n",
    "vtxs = s.connectedVertices(index, returnIds=False)\n",
    "\n",
    "apt  = Point(s.getPoint(index), r=7, c=\"lg\")\n",
    "cpts = Points(vtxs, c=\"blue\")\n",
    "\n",
    "show(s, apt, cpts, viewup='z')"
   ]
  },
  {
   "cell_type": "code",
   "execution_count": null,
   "metadata": {},
   "outputs": [],
   "source": []
  }
 ],
 "metadata": {
  "kernelspec": {
   "display_name": "Python 3",
   "language": "python",
   "name": "python3"
  },
  "language_info": {
   "codemirror_mode": {
    "name": "ipython",
    "version": 3
   },
   "file_extension": ".py",
   "mimetype": "text/x-python",
   "name": "python",
   "nbconvert_exporter": "python",
   "pygments_lexer": "ipython3",
   "version": "3.7.3"
  }
 },
 "nbformat": 4,
 "nbformat_minor": 2
}
