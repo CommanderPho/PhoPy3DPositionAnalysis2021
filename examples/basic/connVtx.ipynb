{
 "cells": [
  {
   "cell_type": "code",
   "execution_count": 5,
   "metadata": {},
   "outputs": [
    {
     "data": {
      "application/vnd.jupyter.widget-view+json": {
       "model_id": "7592a9ea4d1f4d7d82118329f2d17964",
       "version_major": 2,
       "version_minor": 0
      },
      "text/plain": [
       "Plot(antialias=3, axes=['x', 'y', 'z'], background_color=16777215, camera=[4.5, 4.5, 4.5, 0.0, 0.0, 0.0, 1.0, …"
      ]
     },
     "metadata": {},
     "output_type": "display_data"
    }
   ],
   "source": [
    "\"\"\"Find the vertices that are connected to a specific vertex in a mesh.\"\"\"\n",
    "\n",
    "from vtkplotter import *\n",
    "\n",
    "s = Sphere(c=\"r\", res=10).wireframe()\n",
    "\n",
    "index = 12 #pick vertex nr 12\n",
    "\n",
    "vtxs = s.connectedVertices(index, returnIds=False)\n",
    "\n",
    "apt  = Point(s.getPoint(index), r=7, c=\"lg\")\n",
    "cpts = Points(vtxs, c=\"blue\")\n",
    "\n",
    "show(s, apt, cpts)"
   ]
  },
  {
   "cell_type": "code",
   "execution_count": null,
   "metadata": {},
   "outputs": [],
   "source": []
  }
 ],
 "metadata": {
  "kernelspec": {
   "display_name": "Python 3",
   "language": "python",
   "name": "python3"
  },
  "language_info": {
   "codemirror_mode": {
    "name": "ipython",
    "version": 3
   },
   "file_extension": ".py",
   "mimetype": "text/x-python",
   "name": "python",
   "nbconvert_exporter": "python",
   "pygments_lexer": "ipython3",
   "version": "3.6.7"
  }
 },
 "nbformat": 4,
 "nbformat_minor": 2
}
