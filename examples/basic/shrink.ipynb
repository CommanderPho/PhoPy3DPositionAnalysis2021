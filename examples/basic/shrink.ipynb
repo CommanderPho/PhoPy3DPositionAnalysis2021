{
 "cells": [
  {
   "cell_type": "code",
   "execution_count": 8,
   "metadata": {},
   "outputs": [
    {
     "name": "stdout",
     "output_type": "stream",
     "text": [
      "(-1.505191683769226, 1.6641675233840942, -0.9844942092895508, 0.9842560291290283, -0.8471333384513855, 0.7045117020606995)\n",
      "(-1.505191683769226, -0.9844942092895508, -0.8471333384513855, 1.6641675233840942, 0.9842560291290283, 0.7045117020606995)\n"
     ]
    },
    {
     "data": {
      "application/vnd.jupyter.widget-view+json": {
       "model_id": "8c6020451f4b4d7aabbb36f1331d293a",
       "version_major": 2,
       "version_minor": 0
      },
      "text/plain": [
       "Plot(antialias=3, axes=['x', 'y', 'z'], background_color=16777215, fps_meter=False, grid=[-1.505191683769226, …"
      ]
     },
     "metadata": {},
     "output_type": "display_data"
    }
   ],
   "source": [
    "\"\"\"Shrink the triangulation of a mesh to make the inside visible.\"\"\"\n",
    "\n",
    "from vtkplotter import *\n",
    "\n",
    "pot = load(datadir+\"teapot.vtk\").shrink(0.75)\n",
    "\n",
    "s = Sphere(r=0.2).pos(0, 0, -0.5)\n",
    "\n",
    "show(pot, s)"
   ]
  },
  {
   "cell_type": "code",
   "execution_count": null,
   "metadata": {},
   "outputs": [],
   "source": []
  }
 ],
 "metadata": {
  "kernelspec": {
   "display_name": "Python 3",
   "language": "python",
   "name": "python3"
  },
  "language_info": {
   "codemirror_mode": {
    "name": "ipython",
    "version": 3
   },
   "file_extension": ".py",
   "mimetype": "text/x-python",
   "name": "python",
   "nbconvert_exporter": "python",
   "pygments_lexer": "ipython3",
   "version": "3.6.8"
  }
 },
 "nbformat": 4,
 "nbformat_minor": 2
}
