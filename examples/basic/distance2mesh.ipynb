{
 "cells": [
  {
   "cell_type": "code",
   "execution_count": null,
   "metadata": {},
   "outputs": [],
   "source": [
    "\"\"\"Computes the (signed) distance from one mesh to another.\"\"\"\n",
    "from vtkplotter import Sphere, Cube, show, Text\n",
    "\n",
    "s1 = Sphere()\n",
    "s2 = Cube(pos=[1,0,0], c='white', alpha=0.4)\n",
    "\n",
    "s1.distanceToMesh(s2, signed=False, negate=False)\n",
    "\n",
    "#print(s1.scalars(\"Distance\"))\n",
    "\n",
    "show(s1, s2)"
   ]
  },
  {
   "cell_type": "code",
   "execution_count": null,
   "metadata": {},
   "outputs": [],
   "source": []
  }
 ],
 "metadata": {
  "kernelspec": {
   "display_name": "Python 3",
   "language": "python",
   "name": "python3"
  },
  "language_info": {
   "codemirror_mode": {
    "name": "ipython",
    "version": 3
   },
   "file_extension": ".py",
   "mimetype": "text/x-python",
   "name": "python",
   "nbconvert_exporter": "python",
   "pygments_lexer": "ipython3",
   "version": "3.6.7"
  }
 },
 "nbformat": 4,
 "nbformat_minor": 2
}
