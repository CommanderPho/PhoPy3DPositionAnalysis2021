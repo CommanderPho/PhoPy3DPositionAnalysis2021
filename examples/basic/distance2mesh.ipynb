{
 "cells": [
  {
   "cell_type": "code",
   "execution_count": 2,
   "metadata": {},
   "outputs": [
    {
     "data": {
      "application/vnd.jupyter.widget-view+json": {
       "model_id": "6b74312905a14ea1a79aee21f5129141",
       "version_major": 2,
       "version_minor": 0
      },
      "text/plain": [
       "Plot(antialias=3, axes=['x', 'y', 'z'], background_color=16777215, camera=[2.235852213410751, 1.98468658497752…"
      ]
     },
     "metadata": {},
     "output_type": "display_data"
    }
   ],
   "source": [
    "\"\"\"Compute the (signed) distance from one mesh to another.\"\"\"\n",
    "\n",
    "from vtkplotter import Sphere, Cube, show, Text\n",
    "\n",
    "s1 = Sphere().flat() # flat shading\n",
    "s2 = Cube(pos=(1,0,0), c='white', alpha=0.2)\n",
    "\n",
    "# add scalars to the sphere that correspond to their distance from the cube\n",
    "s1.distanceToMesh(s2, signed=True, negate=False)\n",
    "\n",
    "#s1.printInfo()\n",
    "#print(s1.scalars(\"Distance\"))\n",
    "\n",
    "show(s1, s2, viewup='z')"
   ]
  },
  {
   "cell_type": "code",
   "execution_count": null,
   "metadata": {},
   "outputs": [],
   "source": []
  }
 ],
 "metadata": {
  "kernelspec": {
   "display_name": "Python 3",
   "language": "python",
   "name": "python3"
  },
  "language_info": {
   "codemirror_mode": {
    "name": "ipython",
    "version": 3
   },
   "file_extension": ".py",
   "mimetype": "text/x-python",
   "name": "python",
   "nbconvert_exporter": "python",
   "pygments_lexer": "ipython3",
   "version": "3.6.8"
  }
 },
 "nbformat": 4,
 "nbformat_minor": 2
}
