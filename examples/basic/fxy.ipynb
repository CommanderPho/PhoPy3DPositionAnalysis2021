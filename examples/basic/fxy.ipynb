{
 "cells": [
  {
   "cell_type": "code",
   "execution_count": 1,
   "metadata": {},
   "outputs": [
    {
     "data": {
      "application/vnd.jupyter.widget-view+json": {
       "model_id": "61eafe640c504cf9b2c6330086646dfc",
       "version_major": 2,
       "version_minor": 0
      },
      "text/plain": [
       "Plot(antialias=3, axes=['x', 'y', 'z'], background_color=16777215, camera=[4.5, 4.5, 4.5, 0.0, 0.0, 0.0, 1.0, …"
      ]
     },
     "metadata": {},
     "output_type": "display_data"
    }
   ],
   "source": [
    "\"\"\"\n",
    "Example for fxy() method.\n",
    "Draw a surface representing the 3D function specified as a string\n",
    "or as a reference to an external already existing function.\n",
    "Red points indicate where the function does not exist.\n",
    "\"\"\"\n",
    "from vtkplotter import Plotter, fxy, sin, cos\n",
    "\n",
    "\n",
    "def my_z(x, y):\n",
    "    return sin(2 * x * y) * cos(3 * y) / 2\n",
    "\n",
    "f1 = fxy(my_z, zlevels=0, showNan=False).c('lightblue')\n",
    "\n",
    "f1.show()\n"
   ]
  },
  {
   "cell_type": "code",
   "execution_count": null,
   "metadata": {},
   "outputs": [],
   "source": []
  }
 ],
 "metadata": {
  "kernelspec": {
   "display_name": "Python 3",
   "language": "python",
   "name": "python3"
  },
  "language_info": {
   "codemirror_mode": {
    "name": "ipython",
    "version": 3
   },
   "file_extension": ".py",
   "mimetype": "text/x-python",
   "name": "python",
   "nbconvert_exporter": "python",
   "pygments_lexer": "ipython3",
   "version": "3.6.8"
  }
 },
 "nbformat": 4,
 "nbformat_minor": 2
}
