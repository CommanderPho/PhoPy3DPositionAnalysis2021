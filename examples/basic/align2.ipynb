{
 "cells": [
  {
   "cell_type": "code",
   "execution_count": 4,
   "metadata": {},
   "outputs": [
    {
     "data": {
      "application/vnd.jupyter.widget-view+json": {
       "model_id": "0bd752352d564b6eaa75d02643be1031",
       "version_major": 2,
       "version_minor": 0
      },
      "text/plain": [
       "Plot(antialias=3, axes=['x', 'y', 'z'], background_color=16777215, fps_meter=False, grid=[-1, -1, -1, 1, 1, 1]…"
      ]
     },
     "metadata": {},
     "output_type": "display_data"
    }
   ],
   "source": [
    "\"\"\"\n",
    "Example usage of align() method:\n",
    "generate two random sets of points as 2 actors\n",
    "and align them using the Iterative Closest Point algorithm.\n",
    "\"\"\"\n",
    "from __future__ import division\n",
    "from random import uniform as u\n",
    "from vtkplotter import *\n",
    "\n",
    "vp = Plotter()\n",
    "\n",
    "N1 = 15  # number of points of first set\n",
    "N2 = 15  # number of points of second set\n",
    "x = 1.0  # add some randomness\n",
    "\n",
    "pts1 = [(u(0, x), u(0, x), u(0, x) + i) for i in range(N1)]\n",
    "pts2 = [(u(0, x) + 3, u(0, x) + i / 2 + 2, u(0, x) + i + 1) for i in range(N2)]\n",
    "\n",
    "act1 = Points(pts1, r=6, c=\"b\").legend(\"source\")\n",
    "act2 = Points(pts2, r=6, c=\"r\").legend(\"target\")\n",
    "vp += [act1, act2]\n",
    "\n",
    "# find best alignment between the 2 sets of Points, e.i. find\n",
    "# how to move act1 to best match act2\n",
    "alpts1 = alignICP(act1, act2).coordinates()\n",
    "\n",
    "for i in range(N1):  # draw arrows to see where points end up\n",
    "    vp += Arrow(pts1[i], alpts1[i], c=\"k\", alpha=0.1)\n",
    "\n",
    "vp += Points(alpts1, r=6, c=\"b\")\n",
    "\n",
    "for i in range(N1):  # draw arrows to see where points end up\n",
    "    vp += Arrow(pts1[i], alpts1[i], c=\"k\", alpha=0.1)\n",
    "\n",
    "vp.show()"
   ]
  },
  {
   "cell_type": "code",
   "execution_count": null,
   "metadata": {},
   "outputs": [],
   "source": []
  }
 ],
 "metadata": {
  "kernelspec": {
   "display_name": "Python 3",
   "language": "python",
   "name": "python3"
  },
  "language_info": {
   "codemirror_mode": {
    "name": "ipython",
    "version": 3
   },
   "file_extension": ".py",
   "mimetype": "text/x-python",
   "name": "python",
   "nbconvert_exporter": "python",
   "pygments_lexer": "ipython3",
   "version": "3.6.8"
  }
 },
 "nbformat": 4,
 "nbformat_minor": 2
}
