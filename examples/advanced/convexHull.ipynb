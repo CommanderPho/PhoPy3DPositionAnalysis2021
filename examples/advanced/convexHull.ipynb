{
 "cells": [
  {
   "cell_type": "code",
   "execution_count": 2,
   "metadata": {},
   "outputs": [
    {
     "data": {
      "application/vnd.jupyter.widget-view+json": {
       "model_id": "2df3bd9babbd4920930a7abb9a38d432",
       "version_major": 2,
       "version_minor": 0
      },
      "text/plain": [
       "Plot(antialias=3, axes=['x', 'y', 'z'], background_color=16777215, fps_meter=False, grid=[-1, -1, -1, 1, 1, 1]…"
      ]
     },
     "metadata": {},
     "output_type": "display_data"
    }
   ],
   "source": [
    "from vtkplotter import *\n",
    "\n",
    "spid = load(datadir+\"spider.ply\")\n",
    "\n",
    "scalars = spid.coordinates()[:,2] # take the z coordinates of vertices as scalars\n",
    "\n",
    "spid.pointColors(scalars, cmap='afmhot_r') # use the scalar to color the mesh\n",
    "\n",
    "chull = convexHull(spid).c(\"black\").alpha(0.2).wireframe()\n",
    "\n",
    "show(spid, chull)"
   ]
  },
  {
   "cell_type": "code",
   "execution_count": null,
   "metadata": {},
   "outputs": [],
   "source": []
  }
 ],
 "metadata": {
  "kernelspec": {
   "display_name": "Python 3",
   "language": "python",
   "name": "python3"
  },
  "language_info": {
   "codemirror_mode": {
    "name": "ipython",
    "version": 3
   },
   "file_extension": ".py",
   "mimetype": "text/x-python",
   "name": "python",
   "nbconvert_exporter": "python",
   "pygments_lexer": "ipython3",
   "version": "3.6.8"
  }
 },
 "nbformat": 4,
 "nbformat_minor": 2
}
