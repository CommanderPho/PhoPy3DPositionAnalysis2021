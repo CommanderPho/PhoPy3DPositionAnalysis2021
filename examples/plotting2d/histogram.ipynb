{
 "cells": [
  {
   "cell_type": "code",
   "execution_count": 1,
   "metadata": {},
   "outputs": [
    {
     "data": {
      "application/vnd.jupyter.widget-view+json": {
       "model_id": "c346230a02de43bdbf035d0a4fc7a877",
       "version_major": 2,
       "version_minor": 0
      },
      "text/plain": [
       "Plot(antialias=3, axes=['x', 'y', 'z'], axes_helper=1.0, background_color=16777215, camera=[9.196261089824546,…"
      ]
     },
     "metadata": {},
     "output_type": "display_data"
    }
   ],
   "source": [
    "from vtkplotter import histogram, show\n",
    "import numpy as np\n",
    "\n",
    "data1 = np.random.randn(100)*3+10\n",
    "data2 = np.random.randn(100)*2+ 7\n",
    "\n",
    "h1 = histogram(data1, fill=True, outline=False, errors=True)\n",
    "h2 = histogram(data2, fill=False, lc='firebrick', lw=4)\n",
    "h2.z(0.1) # put h2 in front of h1\n",
    "\n",
    "# pick the 16th bin and color it tomato\n",
    "h1.getActors()[15].color('tomato').alpha(0.7)\n",
    "\n",
    "show(h1, h2, axes=None)"
   ]
  }
 ],
 "metadata": {
  "kernelspec": {
   "display_name": "Python 3",
   "language": "python",
   "name": "python3"
  },
  "language_info": {
   "codemirror_mode": {
    "name": "ipython",
    "version": 3
   },
   "file_extension": ".py",
   "mimetype": "text/x-python",
   "name": "python",
   "nbconvert_exporter": "python",
   "pygments_lexer": "ipython3",
   "version": "3.6.8"
  }
 },
 "nbformat": 4,
 "nbformat_minor": 2
}
