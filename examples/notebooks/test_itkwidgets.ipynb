{
 "cells": [
  {
   "cell_type": "code",
   "execution_count": 9,
   "metadata": {
    "scrolled": true
   },
   "outputs": [
    {
     "data": {
      "application/vnd.jupyter.widget-view+json": {
       "model_id": "6eb4c867b65746d6a476565a977866dd",
       "version_major": 2,
       "version_minor": 0
      },
      "text/plain": [
       "Viewer(cmap='jet', geometries=[{'vtkClass': 'vtkPolyData', 'points': {'vtkClass': 'vtkPoints', 'name': '_point…"
      ]
     },
     "metadata": {},
     "output_type": "display_data"
    }
   ],
   "source": [
    "from vtkplotter import *\n",
    "\n",
    "embedWindow('itk') # or k3d\n",
    "\n",
    "plot = Plotter(axes=0)\n",
    "\n",
    "cyl = Cylinder().wireframe()\n",
    "sph = Sphere().pos(1.5,1,1)\n",
    "sph.pointColors(sph.getPoints()[:,2], cmap='jet')\n",
    "\n",
    "# plot += sph                      # test vtkActors\n",
    "plot += cyl\n",
    "# plot += cyl+sph                  # test vtkAssembly\n",
    "#plot += load(datadir+'embryo.slc') # test vtkVolume\n",
    "\n",
    "plot.show()"
   ]
  },
  {
   "cell_type": "code",
   "execution_count": null,
   "metadata": {},
   "outputs": [],
   "source": []
  }
 ],
 "metadata": {
  "kernelspec": {
   "display_name": "Python 3",
   "language": "python",
   "name": "python3"
  },
  "language_info": {
   "codemirror_mode": {
    "name": "ipython",
    "version": 3
   },
   "file_extension": ".py",
   "mimetype": "text/x-python",
   "name": "python",
   "nbconvert_exporter": "python",
   "pygments_lexer": "ipython3",
   "version": "3.6.8"
  }
 },
 "nbformat": 4,
 "nbformat_minor": 2
}
