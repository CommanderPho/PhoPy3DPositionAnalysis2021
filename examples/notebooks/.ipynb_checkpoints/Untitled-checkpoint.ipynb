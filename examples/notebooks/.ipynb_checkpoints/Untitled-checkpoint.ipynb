{
 "cells": [
  {
   "cell_type": "code",
   "execution_count": null,
   "metadata": {},
   "outputs": [],
   "source": [
    "from vtkplotter import *\n",
    "embedWindow(True)\n",
    "\n",
    "vp = Plotter(bg='white')\n",
    "\n",
    "c = Sphere().c(3).alpha(1)\n",
    "c.pointColors(c.coordinates()[:,2])\n",
    "vp.add(c)\n",
    "\n",
    "printInfo(c)\n",
    "vp.show()"
   ]
  }
 ],
 "metadata": {
  "kernelspec": {
   "display_name": "Python 3",
   "language": "python",
   "name": "python3"
  },
  "language_info": {
   "codemirror_mode": {
    "name": "ipython",
    "version": 3
   },
   "file_extension": ".py",
   "mimetype": "text/x-python",
   "name": "python",
   "nbconvert_exporter": "python",
   "pygments_lexer": "ipython3",
   "version": "3.6.8"
  }
 },
 "nbformat": 4,
 "nbformat_minor": 2
}
