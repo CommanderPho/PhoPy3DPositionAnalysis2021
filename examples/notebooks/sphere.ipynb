{
 "cells": [
  {
   "cell_type": "code",
   "execution_count": null,
   "metadata": {},
   "outputs": [],
   "source": [
    "from vtkplotter import *\n",
    "\n",
    "embedWindow(backend='panel')\n",
    "\n",
    "vp = Plotter()\n",
    "\n",
    "c = Sphere()\n",
    "scals = c.coordinates()[:,2]\n",
    "c.pointColors(scals) # use z-coords to color vertices\n",
    "vp += c # add mesh to Plotter list\n",
    "\n",
    "c.printInfo()\n",
    "vp.show()"
   ]
  },
  {
   "cell_type": "code",
   "execution_count": null,
   "metadata": {},
   "outputs": [],
   "source": []
  }
 ],
 "metadata": {
  "kernelspec": {
   "display_name": "Python 3",
   "language": "python",
   "name": "python3"
  },
  "language_info": {
   "codemirror_mode": {
    "name": "ipython",
    "version": 3
   },
   "file_extension": ".py",
   "mimetype": "text/x-python",
   "name": "python",
   "nbconvert_exporter": "python",
   "pygments_lexer": "ipython3",
   "version": "3.6.8"
  }
 },
 "nbformat": 4,
 "nbformat_minor": 2
}
