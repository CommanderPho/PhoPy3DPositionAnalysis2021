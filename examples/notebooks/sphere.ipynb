{
 "cells": [
  {
   "cell_type": "code",
   "execution_count": 2,
   "metadata": {},
   "outputs": [
    {
     "data": {
      "application/vnd.jupyter.widget-view+json": {
       "model_id": "8814b6eba2fd436cb876cb2fd08e7feb",
       "version_major": 2,
       "version_minor": 0
      },
      "text/plain": [
       "Plot(antialias=3, axes=['x', 'y', 'z'], axes_helper=1.0, background_color=16777215, camera=[4.034587199031153,…"
      ]
     },
     "metadata": {},
     "output_type": "display_data"
    }
   ],
   "source": [
    "from vtkplotter import *\n",
    "\n",
    "#embedWindow(False) #uncomment to pop an ext. window\n",
    "\n",
    "s = Sphere().pos(4,5,6)\n",
    "scals = s.getPoints()[:,2] # use z-coords to color vertices\n",
    "\n",
    "# NB, actions can be concatenated into a pipeline:\n",
    "# add point scalars with a choice of color map, use flat shading, print infos and then show\n",
    "s.pointColors(scals, cmap='Set3').flat().show(axes=1)\n"
   ]
  }
 ],
 "metadata": {
  "kernelspec": {
   "display_name": "Python 3",
   "language": "python",
   "name": "python3"
  },
  "language_info": {
   "codemirror_mode": {
    "name": "ipython",
    "version": 3
   },
   "file_extension": ".py",
   "mimetype": "text/x-python",
   "name": "python",
   "nbconvert_exporter": "python",
   "pygments_lexer": "ipython3",
   "version": "3.6.8"
  }
 },
 "nbformat": 4,
 "nbformat_minor": 2
}
