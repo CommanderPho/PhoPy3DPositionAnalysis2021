{
 "cells": [
  {
   "cell_type": "code",
   "execution_count": 5,
   "metadata": {},
   "outputs": [
    {
     "name": "stdout",
     "output_type": "stream",
     "text": [
      "\u001b[32m_________________________________________________________________\u001b[0m\n",
      "\u001b[2m\u001b[7m\u001b[1m\u001b[32mvtkActor\u001b[0m \n",
      "\u001b[1m\u001b[32m          color: \u001b[0m\u001b[32mdefined by point or cell data\u001b[0m\n",
      "\u001b[1m\u001b[32m         points: \u001b[0m\u001b[32m1058\u001b[0m\n",
      "\u001b[1m\u001b[32m          cells: \u001b[0m\u001b[32m2112\u001b[0m\n",
      "\u001b[1m\u001b[32m       polygons: \u001b[0m\u001b[32m2112\u001b[0m\n",
      "\u001b[1m\u001b[32m       position: \u001b[0m\u001b[32m(0.0, 0.0, 0.0)\u001b[0m\n",
      "\u001b[1m\u001b[32m     c. of mass: \u001b[0m\u001b[32m[0. 0. 0.]\u001b[0m\n",
      "\u001b[1m\u001b[32m      ave. size: \u001b[0m\u001b[32m1.00000\u001b[0m\n",
      "\u001b[1m\u001b[32m     diag. size: \u001b[0m\u001b[32m3.45872\u001b[0m\n",
      "\u001b[1m\u001b[32m           area: \u001b[0m\u001b[32m12.5192\u001b[0m\n",
      "\u001b[1m\u001b[32m         volume: \u001b[0m\u001b[32m4.15739\u001b[0m\n",
      "\u001b[1m\u001b[32m         bounds: \u001b[0m\u001b[32mx=(-0.998, 0.998)\u001b[0m\u001b[32m y=(-0.998, 0.998)\u001b[0m\u001b[32m z=(-1.00, 1.00)\u001b[0m\n",
      "\u001b[1m\u001b[32m     point data: \u001b[0m\u001b[32mname=Normals type=FLOAT\u001b[0m\u001b[32m range: (-0.9977,0.9977)\u001b[0m\n",
      "\u001b[1m\u001b[32m     point data: \u001b[0m\u001b[32mname=pointColors_Set3 type=DOUBLE\u001b[0m\u001b[32m range: (-1.000,1.000)\u001b[0m\n",
      "\u001b[1mHistogram\t(entries=1058)\n",
      "145 ▉                  ▉\n",
      "   |▉                  ▉\n",
      "   |▉                  ▉\n",
      "   |▉                  ▉\n",
      "   |▉                  ▉\n",
      "   |▉                  ▉\n",
      "   |▉                  ▉\n",
      "   |▉▉▉▉▉▉▉▉ ▉▉ ▉▉▉▉▉▉▉▉\n",
      "   |▉▉▉▉▉▉▉▉ ▉▉ ▉▉▉▉▉▉▉▉\n",
      "   |▉▉▉▉▉▉▉▉ ▉▉ ▉▉▉▉▉▉▉▉\n",
      "-1.00....................1.00\n",
      "\u001b[0m\n"
     ]
    },
    {
     "data": {
      "application/vnd.jupyter.widget-view+json": {
       "model_id": "0361071f49fe4a108f360ee8bde367e4",
       "version_major": 2,
       "version_minor": 0
      },
      "text/plain": [
       "Plot(antialias=3, axes=['x', 'y', 'z'], background_color=16777215, camera=[4.5, 4.5, 4.5, 0.0, 0.0, 0.0, 1.0, …"
      ]
     },
     "metadata": {},
     "output_type": "display_data"
    }
   ],
   "source": [
    "from vtkplotter import *\n",
    "\n",
    "#embedWindow(False) #uncomment to pop an ext. window\n",
    "\n",
    "s = Sphere()\n",
    "scals = s.coordinates()[:,2] # use z-coords to color vertices\n",
    "\n",
    "# NB, actions can be concatenated into a pipeline:\n",
    "# add point scalars with a choice of color map, use flat shading, print infos and then show\n",
    "s.pointColors(scals, cmap='Set3').flat().printInfo().printHistogram().show()"
   ]
  },
  {
   "cell_type": "code",
   "execution_count": 4,
   "metadata": {},
   "outputs": [],
   "source": [
    "closePlotter()"
   ]
  },
  {
   "cell_type": "code",
   "execution_count": null,
   "metadata": {},
   "outputs": [],
   "source": []
  }
 ],
 "metadata": {
  "kernelspec": {
   "display_name": "Python 3",
   "language": "python",
   "name": "python3"
  },
  "language_info": {
   "codemirror_mode": {
    "name": "ipython",
    "version": 3
   },
   "file_extension": ".py",
   "mimetype": "text/x-python",
   "name": "python",
   "nbconvert_exporter": "python",
   "pygments_lexer": "ipython3",
   "version": "3.6.7"
  }
 },
 "nbformat": 4,
 "nbformat_minor": 2
}
