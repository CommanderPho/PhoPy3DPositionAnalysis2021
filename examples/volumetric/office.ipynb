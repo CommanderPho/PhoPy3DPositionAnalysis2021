{
 "cells": [
  {
   "cell_type": "code",
   "execution_count": 2,
   "metadata": {},
   "outputs": [
    {
     "ename": "TypeError",
     "evalue": "streamLines() got an unexpected keyword argument 'cmap'",
     "output_type": "error",
     "traceback": [
      "\u001b[0;31m---------------------------------------------------------------------------\u001b[0m",
      "\u001b[0;31mTypeError\u001b[0m                                 Traceback (most recent call last)",
      "\u001b[0;32m<ipython-input-2-b66c5e3bbe30>\u001b[0m in \u001b[0;36m<module>\u001b[0;34m()\u001b[0m\n\u001b[1;32m     29\u001b[0m                     \u001b[0mmaxPropagation\u001b[0m\u001b[0;34m=\u001b[0m\u001b[0;36m15\u001b[0m\u001b[0;34m,\u001b[0m\u001b[0;34m\u001b[0m\u001b[0;34m\u001b[0m\u001b[0m\n\u001b[1;32m     30\u001b[0m                     \u001b[0mcmap\u001b[0m\u001b[0;34m=\u001b[0m\u001b[0;34m'rainbow'\u001b[0m\u001b[0;34m,\u001b[0m\u001b[0;34m\u001b[0m\u001b[0;34m\u001b[0m\u001b[0m\n\u001b[0;32m---> 31\u001b[0;31m                     \u001b[0mtubes\u001b[0m\u001b[0;34m=\u001b[0m\u001b[0;34m{\u001b[0m\u001b[0;34m\"radius\"\u001b[0m\u001b[0;34m:\u001b[0m\u001b[0;36m0.004\u001b[0m\u001b[0;34m,\u001b[0m \u001b[0;34m\"varyRadius\"\u001b[0m\u001b[0;34m:\u001b[0m\u001b[0;36m2\u001b[0m\u001b[0;34m,\u001b[0m \u001b[0;34m\"ratio\"\u001b[0m\u001b[0;34m:\u001b[0m\u001b[0;36m1\u001b[0m\u001b[0;34m}\u001b[0m\u001b[0;34m,\u001b[0m\u001b[0;34m\u001b[0m\u001b[0;34m\u001b[0m\u001b[0m\n\u001b[0m\u001b[1;32m     32\u001b[0m                     )\n\u001b[1;32m     33\u001b[0m \u001b[0;34m\u001b[0m\u001b[0m\n",
      "\u001b[0;31mTypeError\u001b[0m: streamLines() got an unexpected keyword argument 'cmap'"
     ]
    }
   ],
   "source": [
    "\"\"\"\n",
    "Stream tubes originating from a probing grid of points.\n",
    "Data is from CFD analysis of airflow in an office with\n",
    "ventilation and a burning cigarette.\n",
    "\"\"\"\n",
    "# see original script at:\n",
    "# https://github.com/Kitware/VTK/blob/master/Examples/\n",
    "#  VisualizationAlgorithms/Python/officeTube.py\n",
    "from vtkplotter import *\n",
    "from office_furniture import furniture\n",
    "\n",
    "\n",
    "# We read a data file the is a CFD analysis of airflow in an office\n",
    "# (with ventilation and a burning cigarette).\n",
    "sgrid = loadStructuredGrid(datadir + \"office.binary.vtk\")\n",
    "\n",
    "\n",
    "# Now we will generate multiple streamlines in the data. We create a\n",
    "# grid of points of points and then use those as integration seeds.\n",
    "seeds = Grid(pos=[2,2,1], normal=[1,0,0], resx=2, resy=3, c=\"gray\")\n",
    "\n",
    "# We select the integration order to use (RungeKutta order 4) and\n",
    "# associate it with the streamer. We integrate in the forward direction.\n",
    "slines = streamLines(\n",
    "                    sgrid, seeds,\n",
    "                    integrator=\"rk4\",\n",
    "                    direction=\"forward\",\n",
    "                    initialStepSize=0.01,\n",
    "                    maxPropagation=15,\n",
    "                    \n",
    "                    tubes={\"radius\":0.004, \"varyRadius\":2, cmap='rainbow', \"ratio\":1},\n",
    "                    )\n",
    "\n",
    "show(slines, seeds)"
   ]
  },
  {
   "cell_type": "code",
   "execution_count": null,
   "metadata": {},
   "outputs": [],
   "source": []
  },
  {
   "cell_type": "code",
   "execution_count": null,
   "metadata": {},
   "outputs": [],
   "source": []
  }
 ],
 "metadata": {
  "kernelspec": {
   "display_name": "Python 3",
   "language": "python",
   "name": "python3"
  },
  "language_info": {
   "codemirror_mode": {
    "name": "ipython",
    "version": 3
   },
   "file_extension": ".py",
   "mimetype": "text/x-python",
   "name": "python",
   "nbconvert_exporter": "python",
   "pygments_lexer": "ipython3",
   "version": "3.6.7"
  }
 },
 "nbformat": 4,
 "nbformat_minor": 2
}
