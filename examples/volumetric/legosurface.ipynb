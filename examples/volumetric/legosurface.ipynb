{
 "cells": [
  {
   "cell_type": "code",
   "execution_count": 3,
   "metadata": {},
   "outputs": [
    {
     "name": "stdout",
     "output_type": "stream",
     "text": [
      "(logscale) Histogram\t(entries=100000)\n",
      "4.88 ▉                   \n",
      "   | ▉                   \n",
      "   | ▉                   \n",
      "   | ▉▉                  \n",
      "   | ▉▉▉▉▉▉▉▉▉▉▉▉        \n",
      "   | ▉▉▉▉▉▉▉▉▉▉▉▉▉▉      \n",
      "   | ▉▉▉▉▉▉▉▉▉▉▉▉▉▉▉     \n",
      "   | ▉▉▉▉▉▉▉▉▉▉▉▉▉▉▉▉▉   \n",
      "   | ▉▉▉▉▉▉▉▉▉▉▉▉▉▉▉▉▉▉▉ \n",
      "   | ▉▉▉▉▉▉▉▉▉▉▉▉▉▉▉▉▉▉▉▉\n",
      "0.00....................150.00\n",
      "\u001b[0m\n"
     ]
    },
    {
     "data": {
      "application/vnd.jupyter.widget-view+json": {
       "model_id": "fc28469f44214dfe8bedd361af0233f7",
       "version_major": 2,
       "version_minor": 0
      },
      "text/plain": [
       "Plot(antialias=3, axes=['x', 'y', 'z'], background_color=16777215, fps_meter=False, grid=[-1, -1, -1, 1, 1, 1]…"
      ]
     },
     "metadata": {},
     "output_type": "display_data"
    }
   ],
   "source": [
    "\"\"\"Represent a volume as lego blocks (voxels). Colors correspond to the volume's scalar.\"\"\"\n",
    "\n",
    "# https://matplotlib.org/users/colormaps.html\n",
    "from vtkplotter import *\n",
    "\n",
    "vol = load(datadir+'embryo.tif') # load Volume\n",
    "printHistogram(vol, logscale=True)\n",
    "\n",
    "vol.crop(back=0.5) # crop 50% from neg. y\n",
    "\n",
    "# show lego blocks whose value is between vmin and vmax\n",
    "lego = legosurface(vol, vmin=60, cmap='seismic')\n",
    "\n",
    "lego.addScalarBar(vmin=40, horizontal=1) # make colormap start at 40\n",
    "\n",
    "show(lego)"
   ]
  },
  {
   "cell_type": "code",
   "execution_count": null,
   "metadata": {},
   "outputs": [],
   "source": []
  }
 ],
 "metadata": {
  "kernelspec": {
   "display_name": "Python 3",
   "language": "python",
   "name": "python3"
  },
  "language_info": {
   "codemirror_mode": {
    "name": "ipython",
    "version": 3
   },
   "file_extension": ".py",
   "mimetype": "text/x-python",
   "name": "python",
   "nbconvert_exporter": "python",
   "pygments_lexer": "ipython3",
   "version": "3.6.7"
  }
 },
 "nbformat": 4,
 "nbformat_minor": 2
}
