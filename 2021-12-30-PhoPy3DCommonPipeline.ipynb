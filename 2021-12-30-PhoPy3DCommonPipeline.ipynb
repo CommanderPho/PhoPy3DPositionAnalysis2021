{
 "cells": [
  {
   "cell_type": "markdown",
   "id": "84413466-6942-4870-a5ac-559ccc21d51e",
   "metadata": {
    "tags": []
   },
   "source": [
    "# Imports"
   ]
  },
  {
   "cell_type": "code",
   "execution_count": 8,
   "id": "55fdc242-9d36-4de2-a649-250786199c29",
   "metadata": {},
   "outputs": [
    {
     "name": "stdout",
     "output_type": "stream",
     "text": [
      "The autoreload extension is already loaded. To reload it, use:\n",
      "  %reload_ext autoreload\n"
     ]
    },
    {
     "data": {
      "text/html": [
       "<style>div.output_area pre {white-space: pre;}</style>"
      ],
      "text/plain": [
       "<IPython.core.display.HTML object>"
      ]
     },
     "metadata": {},
     "output_type": "display_data"
    },
    {
     "data": {
      "application/javascript": [
       "\n",
       "(function(root) {\n",
       "  function now() {\n",
       "    return new Date();\n",
       "  }\n",
       "\n",
       "  var force = true;\n",
       "\n",
       "  if (typeof root._bokeh_onload_callbacks === \"undefined\" || force === true) {\n",
       "    root._bokeh_onload_callbacks = [];\n",
       "    root._bokeh_is_loading = undefined;\n",
       "  }\n",
       "\n",
       "  if (typeof (root._bokeh_timeout) === \"undefined\" || force === true) {\n",
       "    root._bokeh_timeout = Date.now() + 5000;\n",
       "    root._bokeh_failed_load = false;\n",
       "  }\n",
       "\n",
       "  function run_callbacks() {\n",
       "    try {\n",
       "      root._bokeh_onload_callbacks.forEach(function(callback) {\n",
       "        if (callback != null)\n",
       "          callback();\n",
       "      });\n",
       "    } finally {\n",
       "      delete root._bokeh_onload_callbacks\n",
       "    }\n",
       "    console.debug(\"Bokeh: all callbacks have finished\");\n",
       "  }\n",
       "\n",
       "  function load_libs(css_urls, js_urls, js_modules, callback) {\n",
       "    if (css_urls == null) css_urls = [];\n",
       "    if (js_urls == null) js_urls = [];\n",
       "    if (js_modules == null) js_modules = [];\n",
       "\n",
       "    root._bokeh_onload_callbacks.push(callback);\n",
       "    if (root._bokeh_is_loading > 0) {\n",
       "      console.debug(\"Bokeh: BokehJS is being loaded, scheduling callback at\", now());\n",
       "      return null;\n",
       "    }\n",
       "    if (js_urls.length === 0 && js_modules.length === 0) {\n",
       "      run_callbacks();\n",
       "      return null;\n",
       "    }\n",
       "    console.debug(\"Bokeh: BokehJS not loaded, scheduling load and callback at\", now());\n",
       "\n",
       "    function on_load() {\n",
       "      root._bokeh_is_loading--;\n",
       "      if (root._bokeh_is_loading === 0) {\n",
       "        console.debug(\"Bokeh: all BokehJS libraries/stylesheets loaded\");\n",
       "        run_callbacks()\n",
       "      }\n",
       "    }\n",
       "\n",
       "    function on_error() {\n",
       "      console.error(\"failed to load \" + url);\n",
       "    }\n",
       "\n",
       "    for (var i = 0; i < css_urls.length; i++) {\n",
       "      var url = css_urls[i];\n",
       "      const element = document.createElement(\"link\");\n",
       "      element.onload = on_load;\n",
       "      element.onerror = on_error;\n",
       "      element.rel = \"stylesheet\";\n",
       "      element.type = \"text/css\";\n",
       "      element.href = url;\n",
       "      console.debug(\"Bokeh: injecting link tag for BokehJS stylesheet: \", url);\n",
       "      document.body.appendChild(element);\n",
       "    }\n",
       "\n",
       "    var skip = [];\n",
       "    if (window.requirejs) {\n",
       "      window.requirejs.config({'packages': {}, 'paths': {'tabulator': 'https://unpkg.com/tabulator-tables@4.9.3/dist/js/tabulator', 'moment': 'https://unpkg.com/moment@2.27.0/moment', 'katex': 'https://cdnjs.cloudflare.com/ajax/libs/KaTeX/0.6.0/katex.min', 'autoLoad': 'https://cdn.jsdelivr.net/npm/katex@0.10.1/dist/contrib/auto-render.min'}, 'shim': {}});\n",
       "      \n",
       "      require([\"tabulator\"], function(Tabulator) {\n",
       "\t\n",
       "\twindow.Tabulator = Tabulator\n",
       "\t\n",
       "\ton_load()\n",
       "      })\n",
       "      \n",
       "      require([\"moment\"], function(moment) {\n",
       "\t\n",
       "\twindow.moment = moment\n",
       "\t\n",
       "\ton_load()\n",
       "      })\n",
       "      \n",
       "      require([\"katex\"], function(katex) {\n",
       "\t\n",
       "\twindow.katex = katex\n",
       "\t\n",
       "\ton_load()\n",
       "      })\n",
       "      \n",
       "      require([\"autoLoad\"], function(renderMathInElement) {\n",
       "\t\n",
       "\twindow.renderMathInElement = renderMathInElement\n",
       "\t\n",
       "\ton_load()\n",
       "      })\n",
       "      \n",
       "      root._bokeh_is_loading = css_urls.length + 4;\n",
       "    } else {\n",
       "      root._bokeh_is_loading = css_urls.length + js_urls.length + js_modules.length;\n",
       "    }\n",
       "    if (((window['Tabulator'] !== undefined) && (!(window['Tabulator'] instanceof HTMLElement))) || window.requirejs) {\n",
       "      var urls = ['https://unpkg.com/tabulator-tables@4.9.3/dist/js/tabulator.js'];\n",
       "      for (var i = 0; i < urls.length; i++) {\n",
       "        skip.push(urls[i])\n",
       "      }\n",
       "    }\n",
       "    if (((window['moment'] !== undefined) && (!(window['moment'] instanceof HTMLElement))) || window.requirejs) {\n",
       "      var urls = ['https://unpkg.com/moment@2.27.0/moment.js'];\n",
       "      for (var i = 0; i < urls.length; i++) {\n",
       "        skip.push(urls[i])\n",
       "      }\n",
       "    }\n",
       "    if (((window['katex'] !== undefined) && (!(window['katex'] instanceof HTMLElement))) || window.requirejs) {\n",
       "      var urls = ['https://cdnjs.cloudflare.com/ajax/libs/KaTeX/0.6.0/katex.min.js'];\n",
       "      for (var i = 0; i < urls.length; i++) {\n",
       "        skip.push(urls[i])\n",
       "      }\n",
       "    }\n",
       "    if (((window['renderMathInElement'] !== undefined) && (!(window['renderMathInElement'] instanceof HTMLElement))) || window.requirejs) {\n",
       "      var urls = ['https://cdn.jsdelivr.net/npm/katex@0.10.1/dist/contrib/auto-render.min.js'];\n",
       "      for (var i = 0; i < urls.length; i++) {\n",
       "        skip.push(urls[i])\n",
       "      }\n",
       "    }\n",
       "    for (var i = 0; i < js_urls.length; i++) {\n",
       "      var url = js_urls[i];\n",
       "      if (skip.indexOf(url) >= 0) {\n",
       "\tif (!window.requirejs) {\n",
       "\t  on_load();\n",
       "\t}\n",
       "\tcontinue;\n",
       "      }\n",
       "      var element = document.createElement('script');\n",
       "      element.onload = on_load;\n",
       "      element.onerror = on_error;\n",
       "      element.async = false;\n",
       "      element.src = url;\n",
       "      console.debug(\"Bokeh: injecting script tag for BokehJS library: \", url);\n",
       "      document.head.appendChild(element);\n",
       "    }\n",
       "    for (var i = 0; i < js_modules.length; i++) {\n",
       "      var url = js_modules[i];\n",
       "      if (skip.indexOf(url) >= 0) {\n",
       "\tif (!window.requirejs) {\n",
       "\t  on_load();\n",
       "\t}\n",
       "\tcontinue;\n",
       "      }\n",
       "      var element = document.createElement('script');\n",
       "      element.onload = on_load;\n",
       "      element.onerror = on_error;\n",
       "      element.async = false;\n",
       "      element.src = url;\n",
       "      element.type = \"module\";\n",
       "      console.debug(\"Bokeh: injecting script tag for BokehJS library: \", url);\n",
       "      document.head.appendChild(element);\n",
       "    }\n",
       "    if (!js_urls.length && !js_modules.length) {\n",
       "      on_load()\n",
       "    }\n",
       "  };\n",
       "\n",
       "  function inject_raw_css(css) {\n",
       "    const element = document.createElement(\"style\");\n",
       "    element.appendChild(document.createTextNode(css));\n",
       "    document.body.appendChild(element);\n",
       "  }\n",
       "\n",
       "  var js_urls = [\"https://cdnjs.cloudflare.com/ajax/libs/KaTeX/0.6.0/katex.min.js\", \"https://cdn.jsdelivr.net/npm/katex@0.10.1/dist/contrib/auto-render.min.js\", \"https://unpkg.com/tabulator-tables@4.9.3/dist/js/tabulator.js\", \"https://unpkg.com/moment@2.27.0/moment.js\", \"https://cdn.bokeh.org/bokeh/release/bokeh-2.4.0.min.js\", \"https://cdn.bokeh.org/bokeh/release/bokeh-gl-2.4.0.min.js\", \"https://cdn.bokeh.org/bokeh/release/bokeh-widgets-2.4.0.min.js\", \"https://cdn.bokeh.org/bokeh/release/bokeh-tables-2.4.0.min.js\", \"https://cdn.bokeh.org/bokeh/release/bokeh-mathjax-2.4.0.min.js\", \"https://unpkg.com/@holoviz/panel@0.12.6/dist/panel.min.js\"];\n",
       "  var js_modules = [];\n",
       "  var css_urls = [\"https://cdnjs.cloudflare.com/ajax/libs/KaTeX/0.6.0/katex.min.css\", \"https://unpkg.com/tabulator-tables@4.9.3/dist/css/tabulator_simple.min.css\", \"https://unpkg.com/@holoviz/panel@0.12.6/dist/css/alerts.css\", \"https://unpkg.com/@holoviz/panel@0.12.6/dist/css/card.css\", \"https://unpkg.com/@holoviz/panel@0.12.6/dist/css/dataframe.css\", \"https://unpkg.com/@holoviz/panel@0.12.6/dist/css/json.css\", \"https://unpkg.com/@holoviz/panel@0.12.6/dist/css/loading.css\", \"https://unpkg.com/@holoviz/panel@0.12.6/dist/css/markdown.css\", \"https://unpkg.com/@holoviz/panel@0.12.6/dist/css/widgets.css\"];\n",
       "  var inline_js = [\n",
       "    function(Bokeh) {\n",
       "      inject_raw_css(\"\\n    .bk.pn-loading.arcs:before {\\n      background-image: url(\\\"data:image/svg+xml;base64,PHN2ZyB4bWxucz0iaHR0cDovL3d3dy53My5vcmcvMjAwMC9zdmciIHhtbG5zOnhsaW5rPSJodHRwOi8vd3d3LnczLm9yZy8xOTk5L3hsaW5rIiBzdHlsZT0ibWFyZ2luOiBhdXRvOyBiYWNrZ3JvdW5kOiBub25lOyBkaXNwbGF5OiBibG9jazsgc2hhcGUtcmVuZGVyaW5nOiBhdXRvOyIgdmlld0JveD0iMCAwIDEwMCAxMDAiIHByZXNlcnZlQXNwZWN0UmF0aW89InhNaWRZTWlkIj4gIDxjaXJjbGUgY3g9IjUwIiBjeT0iNTAiIHI9IjMyIiBzdHJva2Utd2lkdGg9IjgiIHN0cm9rZT0iI2MzYzNjMyIgc3Ryb2tlLWRhc2hhcnJheT0iNTAuMjY1NDgyNDU3NDM2NjkgNTAuMjY1NDgyNDU3NDM2NjkiIGZpbGw9Im5vbmUiIHN0cm9rZS1saW5lY2FwPSJyb3VuZCI+ICAgIDxhbmltYXRlVHJhbnNmb3JtIGF0dHJpYnV0ZU5hbWU9InRyYW5zZm9ybSIgdHlwZT0icm90YXRlIiByZXBlYXRDb3VudD0iaW5kZWZpbml0ZSIgZHVyPSIxcyIga2V5VGltZXM9IjA7MSIgdmFsdWVzPSIwIDUwIDUwOzM2MCA1MCA1MCI+PC9hbmltYXRlVHJhbnNmb3JtPiAgPC9jaXJjbGU+PC9zdmc+\\\");\\n      max-height: 400px;\\n    }\\n    \");\n",
       "    },\n",
       "    function(Bokeh) {\n",
       "      Bokeh.set_log_level(\"info\");\n",
       "    },\n",
       "    function(Bokeh) {} // ensure no trailing comma for IE\n",
       "  ];\n",
       "\n",
       "  function run_inline_js() {\n",
       "    if ((root.Bokeh !== undefined) || (force === true)) {\n",
       "      for (var i = 0; i < inline_js.length; i++) {\n",
       "        inline_js[i].call(root, root.Bokeh);\n",
       "      }} else if (Date.now() < root._bokeh_timeout) {\n",
       "      setTimeout(run_inline_js, 100);\n",
       "    } else if (!root._bokeh_failed_load) {\n",
       "      console.log(\"Bokeh: BokehJS failed to load within specified timeout.\");\n",
       "      root._bokeh_failed_load = true;\n",
       "    }\n",
       "  }\n",
       "\n",
       "  if (root._bokeh_is_loading === 0) {\n",
       "    console.debug(\"Bokeh: BokehJS loaded, going straight to plotting\");\n",
       "    run_inline_js();\n",
       "  } else {\n",
       "    load_libs(css_urls, js_urls, js_modules, function() {\n",
       "      console.debug(\"Bokeh: BokehJS plotting callback run at\", now());\n",
       "      run_inline_js();\n",
       "    });\n",
       "  }\n",
       "}(window));"
      ],
      "application/vnd.holoviews_load.v0+json": "\n(function(root) {\n  function now() {\n    return new Date();\n  }\n\n  var force = true;\n\n  if (typeof root._bokeh_onload_callbacks === \"undefined\" || force === true) {\n    root._bokeh_onload_callbacks = [];\n    root._bokeh_is_loading = undefined;\n  }\n\n  if (typeof (root._bokeh_timeout) === \"undefined\" || force === true) {\n    root._bokeh_timeout = Date.now() + 5000;\n    root._bokeh_failed_load = false;\n  }\n\n  function run_callbacks() {\n    try {\n      root._bokeh_onload_callbacks.forEach(function(callback) {\n        if (callback != null)\n          callback();\n      });\n    } finally {\n      delete root._bokeh_onload_callbacks\n    }\n    console.debug(\"Bokeh: all callbacks have finished\");\n  }\n\n  function load_libs(css_urls, js_urls, js_modules, callback) {\n    if (css_urls == null) css_urls = [];\n    if (js_urls == null) js_urls = [];\n    if (js_modules == null) js_modules = [];\n\n    root._bokeh_onload_callbacks.push(callback);\n    if (root._bokeh_is_loading > 0) {\n      console.debug(\"Bokeh: BokehJS is being loaded, scheduling callback at\", now());\n      return null;\n    }\n    if (js_urls.length === 0 && js_modules.length === 0) {\n      run_callbacks();\n      return null;\n    }\n    console.debug(\"Bokeh: BokehJS not loaded, scheduling load and callback at\", now());\n\n    function on_load() {\n      root._bokeh_is_loading--;\n      if (root._bokeh_is_loading === 0) {\n        console.debug(\"Bokeh: all BokehJS libraries/stylesheets loaded\");\n        run_callbacks()\n      }\n    }\n\n    function on_error() {\n      console.error(\"failed to load \" + url);\n    }\n\n    for (var i = 0; i < css_urls.length; i++) {\n      var url = css_urls[i];\n      const element = document.createElement(\"link\");\n      element.onload = on_load;\n      element.onerror = on_error;\n      element.rel = \"stylesheet\";\n      element.type = \"text/css\";\n      element.href = url;\n      console.debug(\"Bokeh: injecting link tag for BokehJS stylesheet: \", url);\n      document.body.appendChild(element);\n    }\n\n    var skip = [];\n    if (window.requirejs) {\n      window.requirejs.config({'packages': {}, 'paths': {'tabulator': 'https://unpkg.com/tabulator-tables@4.9.3/dist/js/tabulator', 'moment': 'https://unpkg.com/moment@2.27.0/moment', 'katex': 'https://cdnjs.cloudflare.com/ajax/libs/KaTeX/0.6.0/katex.min', 'autoLoad': 'https://cdn.jsdelivr.net/npm/katex@0.10.1/dist/contrib/auto-render.min'}, 'shim': {}});\n      \n      require([\"tabulator\"], function(Tabulator) {\n\t\n\twindow.Tabulator = Tabulator\n\t\n\ton_load()\n      })\n      \n      require([\"moment\"], function(moment) {\n\t\n\twindow.moment = moment\n\t\n\ton_load()\n      })\n      \n      require([\"katex\"], function(katex) {\n\t\n\twindow.katex = katex\n\t\n\ton_load()\n      })\n      \n      require([\"autoLoad\"], function(renderMathInElement) {\n\t\n\twindow.renderMathInElement = renderMathInElement\n\t\n\ton_load()\n      })\n      \n      root._bokeh_is_loading = css_urls.length + 4;\n    } else {\n      root._bokeh_is_loading = css_urls.length + js_urls.length + js_modules.length;\n    }\n    if (((window['Tabulator'] !== undefined) && (!(window['Tabulator'] instanceof HTMLElement))) || window.requirejs) {\n      var urls = ['https://unpkg.com/tabulator-tables@4.9.3/dist/js/tabulator.js'];\n      for (var i = 0; i < urls.length; i++) {\n        skip.push(urls[i])\n      }\n    }\n    if (((window['moment'] !== undefined) && (!(window['moment'] instanceof HTMLElement))) || window.requirejs) {\n      var urls = ['https://unpkg.com/moment@2.27.0/moment.js'];\n      for (var i = 0; i < urls.length; i++) {\n        skip.push(urls[i])\n      }\n    }\n    if (((window['katex'] !== undefined) && (!(window['katex'] instanceof HTMLElement))) || window.requirejs) {\n      var urls = ['https://cdnjs.cloudflare.com/ajax/libs/KaTeX/0.6.0/katex.min.js'];\n      for (var i = 0; i < urls.length; i++) {\n        skip.push(urls[i])\n      }\n    }\n    if (((window['renderMathInElement'] !== undefined) && (!(window['renderMathInElement'] instanceof HTMLElement))) || window.requirejs) {\n      var urls = ['https://cdn.jsdelivr.net/npm/katex@0.10.1/dist/contrib/auto-render.min.js'];\n      for (var i = 0; i < urls.length; i++) {\n        skip.push(urls[i])\n      }\n    }\n    for (var i = 0; i < js_urls.length; i++) {\n      var url = js_urls[i];\n      if (skip.indexOf(url) >= 0) {\n\tif (!window.requirejs) {\n\t  on_load();\n\t}\n\tcontinue;\n      }\n      var element = document.createElement('script');\n      element.onload = on_load;\n      element.onerror = on_error;\n      element.async = false;\n      element.src = url;\n      console.debug(\"Bokeh: injecting script tag for BokehJS library: \", url);\n      document.head.appendChild(element);\n    }\n    for (var i = 0; i < js_modules.length; i++) {\n      var url = js_modules[i];\n      if (skip.indexOf(url) >= 0) {\n\tif (!window.requirejs) {\n\t  on_load();\n\t}\n\tcontinue;\n      }\n      var element = document.createElement('script');\n      element.onload = on_load;\n      element.onerror = on_error;\n      element.async = false;\n      element.src = url;\n      element.type = \"module\";\n      console.debug(\"Bokeh: injecting script tag for BokehJS library: \", url);\n      document.head.appendChild(element);\n    }\n    if (!js_urls.length && !js_modules.length) {\n      on_load()\n    }\n  };\n\n  function inject_raw_css(css) {\n    const element = document.createElement(\"style\");\n    element.appendChild(document.createTextNode(css));\n    document.body.appendChild(element);\n  }\n\n  var js_urls = [\"https://cdnjs.cloudflare.com/ajax/libs/KaTeX/0.6.0/katex.min.js\", \"https://cdn.jsdelivr.net/npm/katex@0.10.1/dist/contrib/auto-render.min.js\", \"https://unpkg.com/tabulator-tables@4.9.3/dist/js/tabulator.js\", \"https://unpkg.com/moment@2.27.0/moment.js\", \"https://cdn.bokeh.org/bokeh/release/bokeh-2.4.0.min.js\", \"https://cdn.bokeh.org/bokeh/release/bokeh-gl-2.4.0.min.js\", \"https://cdn.bokeh.org/bokeh/release/bokeh-widgets-2.4.0.min.js\", \"https://cdn.bokeh.org/bokeh/release/bokeh-tables-2.4.0.min.js\", \"https://cdn.bokeh.org/bokeh/release/bokeh-mathjax-2.4.0.min.js\", \"https://unpkg.com/@holoviz/panel@0.12.6/dist/panel.min.js\"];\n  var js_modules = [];\n  var css_urls = [\"https://cdnjs.cloudflare.com/ajax/libs/KaTeX/0.6.0/katex.min.css\", \"https://unpkg.com/tabulator-tables@4.9.3/dist/css/tabulator_simple.min.css\", \"https://unpkg.com/@holoviz/panel@0.12.6/dist/css/alerts.css\", \"https://unpkg.com/@holoviz/panel@0.12.6/dist/css/card.css\", \"https://unpkg.com/@holoviz/panel@0.12.6/dist/css/dataframe.css\", \"https://unpkg.com/@holoviz/panel@0.12.6/dist/css/json.css\", \"https://unpkg.com/@holoviz/panel@0.12.6/dist/css/loading.css\", \"https://unpkg.com/@holoviz/panel@0.12.6/dist/css/markdown.css\", \"https://unpkg.com/@holoviz/panel@0.12.6/dist/css/widgets.css\"];\n  var inline_js = [\n    function(Bokeh) {\n      inject_raw_css(\"\\n    .bk.pn-loading.arcs:before {\\n      background-image: url(\\\"data:image/svg+xml;base64,PHN2ZyB4bWxucz0iaHR0cDovL3d3dy53My5vcmcvMjAwMC9zdmciIHhtbG5zOnhsaW5rPSJodHRwOi8vd3d3LnczLm9yZy8xOTk5L3hsaW5rIiBzdHlsZT0ibWFyZ2luOiBhdXRvOyBiYWNrZ3JvdW5kOiBub25lOyBkaXNwbGF5OiBibG9jazsgc2hhcGUtcmVuZGVyaW5nOiBhdXRvOyIgdmlld0JveD0iMCAwIDEwMCAxMDAiIHByZXNlcnZlQXNwZWN0UmF0aW89InhNaWRZTWlkIj4gIDxjaXJjbGUgY3g9IjUwIiBjeT0iNTAiIHI9IjMyIiBzdHJva2Utd2lkdGg9IjgiIHN0cm9rZT0iI2MzYzNjMyIgc3Ryb2tlLWRhc2hhcnJheT0iNTAuMjY1NDgyNDU3NDM2NjkgNTAuMjY1NDgyNDU3NDM2NjkiIGZpbGw9Im5vbmUiIHN0cm9rZS1saW5lY2FwPSJyb3VuZCI+ICAgIDxhbmltYXRlVHJhbnNmb3JtIGF0dHJpYnV0ZU5hbWU9InRyYW5zZm9ybSIgdHlwZT0icm90YXRlIiByZXBlYXRDb3VudD0iaW5kZWZpbml0ZSIgZHVyPSIxcyIga2V5VGltZXM9IjA7MSIgdmFsdWVzPSIwIDUwIDUwOzM2MCA1MCA1MCI+PC9hbmltYXRlVHJhbnNmb3JtPiAgPC9jaXJjbGU+PC9zdmc+\\\");\\n      max-height: 400px;\\n    }\\n    \");\n    },\n    function(Bokeh) {\n      Bokeh.set_log_level(\"info\");\n    },\n    function(Bokeh) {} // ensure no trailing comma for IE\n  ];\n\n  function run_inline_js() {\n    if ((root.Bokeh !== undefined) || (force === true)) {\n      for (var i = 0; i < inline_js.length; i++) {\n        inline_js[i].call(root, root.Bokeh);\n      }} else if (Date.now() < root._bokeh_timeout) {\n      setTimeout(run_inline_js, 100);\n    } else if (!root._bokeh_failed_load) {\n      console.log(\"Bokeh: BokehJS failed to load within specified timeout.\");\n      root._bokeh_failed_load = true;\n    }\n  }\n\n  if (root._bokeh_is_loading === 0) {\n    console.debug(\"Bokeh: BokehJS loaded, going straight to plotting\");\n    run_inline_js();\n  } else {\n    load_libs(css_urls, js_urls, js_modules, function() {\n      console.debug(\"Bokeh: BokehJS plotting callback run at\", now());\n      run_inline_js();\n    });\n  }\n}(window));"
     },
     "metadata": {},
     "output_type": "display_data"
    },
    {
     "data": {
      "application/javascript": [
       "\n",
       "if ((window.PyViz === undefined) || (window.PyViz instanceof HTMLElement)) {\n",
       "  window.PyViz = {comms: {}, comm_status:{}, kernels:{}, receivers: {}, plot_index: []}\n",
       "}\n",
       "\n",
       "\n",
       "    function JupyterCommManager() {\n",
       "    }\n",
       "\n",
       "    JupyterCommManager.prototype.register_target = function(plot_id, comm_id, msg_handler) {\n",
       "      if (window.comm_manager || ((window.Jupyter !== undefined) && (Jupyter.notebook.kernel != null))) {\n",
       "        var comm_manager = window.comm_manager || Jupyter.notebook.kernel.comm_manager;\n",
       "        comm_manager.register_target(comm_id, function(comm) {\n",
       "          comm.on_msg(msg_handler);\n",
       "        });\n",
       "      } else if ((plot_id in window.PyViz.kernels) && (window.PyViz.kernels[plot_id])) {\n",
       "        window.PyViz.kernels[plot_id].registerCommTarget(comm_id, function(comm) {\n",
       "          comm.onMsg = msg_handler;\n",
       "        });\n",
       "      } else if (typeof google != 'undefined' && google.colab.kernel != null) {\n",
       "        google.colab.kernel.comms.registerTarget(comm_id, (comm) => {\n",
       "          var messages = comm.messages[Symbol.asyncIterator]();\n",
       "          function processIteratorResult(result) {\n",
       "            var message = result.value;\n",
       "            console.log(message)\n",
       "            var content = {data: message.data, comm_id};\n",
       "            var buffers = []\n",
       "            for (var buffer of message.buffers || []) {\n",
       "              buffers.push(new DataView(buffer))\n",
       "            }\n",
       "            var metadata = message.metadata || {};\n",
       "            var msg = {content, buffers, metadata}\n",
       "            msg_handler(msg);\n",
       "            return messages.next().then(processIteratorResult);\n",
       "          }\n",
       "          return messages.next().then(processIteratorResult);\n",
       "        })\n",
       "      }\n",
       "    }\n",
       "\n",
       "    JupyterCommManager.prototype.get_client_comm = function(plot_id, comm_id, msg_handler) {\n",
       "      if (comm_id in window.PyViz.comms) {\n",
       "        return window.PyViz.comms[comm_id];\n",
       "      } else if (window.comm_manager || ((window.Jupyter !== undefined) && (Jupyter.notebook.kernel != null))) {\n",
       "        var comm_manager = window.comm_manager || Jupyter.notebook.kernel.comm_manager;\n",
       "        var comm = comm_manager.new_comm(comm_id, {}, {}, {}, comm_id);\n",
       "        if (msg_handler) {\n",
       "          comm.on_msg(msg_handler);\n",
       "        }\n",
       "      } else if ((plot_id in window.PyViz.kernels) && (window.PyViz.kernels[plot_id])) {\n",
       "        var comm = window.PyViz.kernels[plot_id].connectToComm(comm_id);\n",
       "        comm.open();\n",
       "        if (msg_handler) {\n",
       "          comm.onMsg = msg_handler;\n",
       "        }\n",
       "      } else if (typeof google != 'undefined' && google.colab.kernel != null) {\n",
       "        var comm_promise = google.colab.kernel.comms.open(comm_id)\n",
       "        comm_promise.then((comm) => {\n",
       "          window.PyViz.comms[comm_id] = comm;\n",
       "          if (msg_handler) {\n",
       "            var messages = comm.messages[Symbol.asyncIterator]();\n",
       "            function processIteratorResult(result) {\n",
       "              var message = result.value;\n",
       "              var content = {data: message.data};\n",
       "              var metadata = message.metadata || {comm_id};\n",
       "              var msg = {content, metadata}\n",
       "              msg_handler(msg);\n",
       "              return messages.next().then(processIteratorResult);\n",
       "            }\n",
       "            return messages.next().then(processIteratorResult);\n",
       "          }\n",
       "        }) \n",
       "        var sendClosure = (data, metadata, buffers, disposeOnDone) => {\n",
       "          return comm_promise.then((comm) => {\n",
       "            comm.send(data, metadata, buffers, disposeOnDone);\n",
       "          });\n",
       "        };\n",
       "        var comm = {\n",
       "          send: sendClosure\n",
       "        };\n",
       "      }\n",
       "      window.PyViz.comms[comm_id] = comm;\n",
       "      return comm;\n",
       "    }\n",
       "    window.PyViz.comm_manager = new JupyterCommManager();\n",
       "    \n",
       "\n",
       "\n",
       "var JS_MIME_TYPE = 'application/javascript';\n",
       "var HTML_MIME_TYPE = 'text/html';\n",
       "var EXEC_MIME_TYPE = 'application/vnd.holoviews_exec.v0+json';\n",
       "var CLASS_NAME = 'output';\n",
       "\n",
       "/**\n",
       " * Render data to the DOM node\n",
       " */\n",
       "function render(props, node) {\n",
       "  var div = document.createElement(\"div\");\n",
       "  var script = document.createElement(\"script\");\n",
       "  node.appendChild(div);\n",
       "  node.appendChild(script);\n",
       "}\n",
       "\n",
       "/**\n",
       " * Handle when a new output is added\n",
       " */\n",
       "function handle_add_output(event, handle) {\n",
       "  var output_area = handle.output_area;\n",
       "  var output = handle.output;\n",
       "  if ((output.data == undefined) || (!output.data.hasOwnProperty(EXEC_MIME_TYPE))) {\n",
       "    return\n",
       "  }\n",
       "  var id = output.metadata[EXEC_MIME_TYPE][\"id\"];\n",
       "  var toinsert = output_area.element.find(\".\" + CLASS_NAME.split(' ')[0]);\n",
       "  if (id !== undefined) {\n",
       "    var nchildren = toinsert.length;\n",
       "    var html_node = toinsert[nchildren-1].children[0];\n",
       "    html_node.innerHTML = output.data[HTML_MIME_TYPE];\n",
       "    var scripts = [];\n",
       "    var nodelist = html_node.querySelectorAll(\"script\");\n",
       "    for (var i in nodelist) {\n",
       "      if (nodelist.hasOwnProperty(i)) {\n",
       "        scripts.push(nodelist[i])\n",
       "      }\n",
       "    }\n",
       "\n",
       "    scripts.forEach( function (oldScript) {\n",
       "      var newScript = document.createElement(\"script\");\n",
       "      var attrs = [];\n",
       "      var nodemap = oldScript.attributes;\n",
       "      for (var j in nodemap) {\n",
       "        if (nodemap.hasOwnProperty(j)) {\n",
       "          attrs.push(nodemap[j])\n",
       "        }\n",
       "      }\n",
       "      attrs.forEach(function(attr) { newScript.setAttribute(attr.name, attr.value) });\n",
       "      newScript.appendChild(document.createTextNode(oldScript.innerHTML));\n",
       "      oldScript.parentNode.replaceChild(newScript, oldScript);\n",
       "    });\n",
       "    if (JS_MIME_TYPE in output.data) {\n",
       "      toinsert[nchildren-1].children[1].textContent = output.data[JS_MIME_TYPE];\n",
       "    }\n",
       "    output_area._hv_plot_id = id;\n",
       "    if ((window.Bokeh !== undefined) && (id in Bokeh.index)) {\n",
       "      window.PyViz.plot_index[id] = Bokeh.index[id];\n",
       "    } else {\n",
       "      window.PyViz.plot_index[id] = null;\n",
       "    }\n",
       "  } else if (output.metadata[EXEC_MIME_TYPE][\"server_id\"] !== undefined) {\n",
       "    var bk_div = document.createElement(\"div\");\n",
       "    bk_div.innerHTML = output.data[HTML_MIME_TYPE];\n",
       "    var script_attrs = bk_div.children[0].attributes;\n",
       "    for (var i = 0; i < script_attrs.length; i++) {\n",
       "      toinsert[toinsert.length - 1].childNodes[1].setAttribute(script_attrs[i].name, script_attrs[i].value);\n",
       "    }\n",
       "    // store reference to server id on output_area\n",
       "    output_area._bokeh_server_id = output.metadata[EXEC_MIME_TYPE][\"server_id\"];\n",
       "  }\n",
       "}\n",
       "\n",
       "/**\n",
       " * Handle when an output is cleared or removed\n",
       " */\n",
       "function handle_clear_output(event, handle) {\n",
       "  var id = handle.cell.output_area._hv_plot_id;\n",
       "  var server_id = handle.cell.output_area._bokeh_server_id;\n",
       "  if (((id === undefined) || !(id in PyViz.plot_index)) && (server_id !== undefined)) { return; }\n",
       "  var comm = window.PyViz.comm_manager.get_client_comm(\"hv-extension-comm\", \"hv-extension-comm\", function () {});\n",
       "  if (server_id !== null) {\n",
       "    comm.send({event_type: 'server_delete', 'id': server_id});\n",
       "    return;\n",
       "  } else if (comm !== null) {\n",
       "    comm.send({event_type: 'delete', 'id': id});\n",
       "  }\n",
       "  delete PyViz.plot_index[id];\n",
       "  if ((window.Bokeh !== undefined) & (id in window.Bokeh.index)) {\n",
       "    var doc = window.Bokeh.index[id].model.document\n",
       "    doc.clear();\n",
       "    const i = window.Bokeh.documents.indexOf(doc);\n",
       "    if (i > -1) {\n",
       "      window.Bokeh.documents.splice(i, 1);\n",
       "    }\n",
       "  }\n",
       "}\n",
       "\n",
       "/**\n",
       " * Handle kernel restart event\n",
       " */\n",
       "function handle_kernel_cleanup(event, handle) {\n",
       "  delete PyViz.comms[\"hv-extension-comm\"];\n",
       "  window.PyViz.plot_index = {}\n",
       "}\n",
       "\n",
       "/**\n",
       " * Handle update_display_data messages\n",
       " */\n",
       "function handle_update_output(event, handle) {\n",
       "  handle_clear_output(event, {cell: {output_area: handle.output_area}})\n",
       "  handle_add_output(event, handle)\n",
       "}\n",
       "\n",
       "function register_renderer(events, OutputArea) {\n",
       "  function append_mime(data, metadata, element) {\n",
       "    // create a DOM node to render to\n",
       "    var toinsert = this.create_output_subarea(\n",
       "    metadata,\n",
       "    CLASS_NAME,\n",
       "    EXEC_MIME_TYPE\n",
       "    );\n",
       "    this.keyboard_manager.register_events(toinsert);\n",
       "    // Render to node\n",
       "    var props = {data: data, metadata: metadata[EXEC_MIME_TYPE]};\n",
       "    render(props, toinsert[0]);\n",
       "    element.append(toinsert);\n",
       "    return toinsert\n",
       "  }\n",
       "\n",
       "  events.on('output_added.OutputArea', handle_add_output);\n",
       "  events.on('output_updated.OutputArea', handle_update_output);\n",
       "  events.on('clear_output.CodeCell', handle_clear_output);\n",
       "  events.on('delete.Cell', handle_clear_output);\n",
       "  events.on('kernel_ready.Kernel', handle_kernel_cleanup);\n",
       "\n",
       "  OutputArea.prototype.register_mime_type(EXEC_MIME_TYPE, append_mime, {\n",
       "    safe: true,\n",
       "    index: 0\n",
       "  });\n",
       "}\n",
       "\n",
       "if (window.Jupyter !== undefined) {\n",
       "  try {\n",
       "    var events = require('base/js/events');\n",
       "    var OutputArea = require('notebook/js/outputarea').OutputArea;\n",
       "    if (OutputArea.prototype.mime_types().indexOf(EXEC_MIME_TYPE) == -1) {\n",
       "      register_renderer(events, OutputArea);\n",
       "    }\n",
       "  } catch(err) {\n",
       "  }\n",
       "}\n"
      ],
      "application/vnd.holoviews_load.v0+json": "\nif ((window.PyViz === undefined) || (window.PyViz instanceof HTMLElement)) {\n  window.PyViz = {comms: {}, comm_status:{}, kernels:{}, receivers: {}, plot_index: []}\n}\n\n\n    function JupyterCommManager() {\n    }\n\n    JupyterCommManager.prototype.register_target = function(plot_id, comm_id, msg_handler) {\n      if (window.comm_manager || ((window.Jupyter !== undefined) && (Jupyter.notebook.kernel != null))) {\n        var comm_manager = window.comm_manager || Jupyter.notebook.kernel.comm_manager;\n        comm_manager.register_target(comm_id, function(comm) {\n          comm.on_msg(msg_handler);\n        });\n      } else if ((plot_id in window.PyViz.kernels) && (window.PyViz.kernels[plot_id])) {\n        window.PyViz.kernels[plot_id].registerCommTarget(comm_id, function(comm) {\n          comm.onMsg = msg_handler;\n        });\n      } else if (typeof google != 'undefined' && google.colab.kernel != null) {\n        google.colab.kernel.comms.registerTarget(comm_id, (comm) => {\n          var messages = comm.messages[Symbol.asyncIterator]();\n          function processIteratorResult(result) {\n            var message = result.value;\n            console.log(message)\n            var content = {data: message.data, comm_id};\n            var buffers = []\n            for (var buffer of message.buffers || []) {\n              buffers.push(new DataView(buffer))\n            }\n            var metadata = message.metadata || {};\n            var msg = {content, buffers, metadata}\n            msg_handler(msg);\n            return messages.next().then(processIteratorResult);\n          }\n          return messages.next().then(processIteratorResult);\n        })\n      }\n    }\n\n    JupyterCommManager.prototype.get_client_comm = function(plot_id, comm_id, msg_handler) {\n      if (comm_id in window.PyViz.comms) {\n        return window.PyViz.comms[comm_id];\n      } else if (window.comm_manager || ((window.Jupyter !== undefined) && (Jupyter.notebook.kernel != null))) {\n        var comm_manager = window.comm_manager || Jupyter.notebook.kernel.comm_manager;\n        var comm = comm_manager.new_comm(comm_id, {}, {}, {}, comm_id);\n        if (msg_handler) {\n          comm.on_msg(msg_handler);\n        }\n      } else if ((plot_id in window.PyViz.kernels) && (window.PyViz.kernels[plot_id])) {\n        var comm = window.PyViz.kernels[plot_id].connectToComm(comm_id);\n        comm.open();\n        if (msg_handler) {\n          comm.onMsg = msg_handler;\n        }\n      } else if (typeof google != 'undefined' && google.colab.kernel != null) {\n        var comm_promise = google.colab.kernel.comms.open(comm_id)\n        comm_promise.then((comm) => {\n          window.PyViz.comms[comm_id] = comm;\n          if (msg_handler) {\n            var messages = comm.messages[Symbol.asyncIterator]();\n            function processIteratorResult(result) {\n              var message = result.value;\n              var content = {data: message.data};\n              var metadata = message.metadata || {comm_id};\n              var msg = {content, metadata}\n              msg_handler(msg);\n              return messages.next().then(processIteratorResult);\n            }\n            return messages.next().then(processIteratorResult);\n          }\n        }) \n        var sendClosure = (data, metadata, buffers, disposeOnDone) => {\n          return comm_promise.then((comm) => {\n            comm.send(data, metadata, buffers, disposeOnDone);\n          });\n        };\n        var comm = {\n          send: sendClosure\n        };\n      }\n      window.PyViz.comms[comm_id] = comm;\n      return comm;\n    }\n    window.PyViz.comm_manager = new JupyterCommManager();\n    \n\n\nvar JS_MIME_TYPE = 'application/javascript';\nvar HTML_MIME_TYPE = 'text/html';\nvar EXEC_MIME_TYPE = 'application/vnd.holoviews_exec.v0+json';\nvar CLASS_NAME = 'output';\n\n/**\n * Render data to the DOM node\n */\nfunction render(props, node) {\n  var div = document.createElement(\"div\");\n  var script = document.createElement(\"script\");\n  node.appendChild(div);\n  node.appendChild(script);\n}\n\n/**\n * Handle when a new output is added\n */\nfunction handle_add_output(event, handle) {\n  var output_area = handle.output_area;\n  var output = handle.output;\n  if ((output.data == undefined) || (!output.data.hasOwnProperty(EXEC_MIME_TYPE))) {\n    return\n  }\n  var id = output.metadata[EXEC_MIME_TYPE][\"id\"];\n  var toinsert = output_area.element.find(\".\" + CLASS_NAME.split(' ')[0]);\n  if (id !== undefined) {\n    var nchildren = toinsert.length;\n    var html_node = toinsert[nchildren-1].children[0];\n    html_node.innerHTML = output.data[HTML_MIME_TYPE];\n    var scripts = [];\n    var nodelist = html_node.querySelectorAll(\"script\");\n    for (var i in nodelist) {\n      if (nodelist.hasOwnProperty(i)) {\n        scripts.push(nodelist[i])\n      }\n    }\n\n    scripts.forEach( function (oldScript) {\n      var newScript = document.createElement(\"script\");\n      var attrs = [];\n      var nodemap = oldScript.attributes;\n      for (var j in nodemap) {\n        if (nodemap.hasOwnProperty(j)) {\n          attrs.push(nodemap[j])\n        }\n      }\n      attrs.forEach(function(attr) { newScript.setAttribute(attr.name, attr.value) });\n      newScript.appendChild(document.createTextNode(oldScript.innerHTML));\n      oldScript.parentNode.replaceChild(newScript, oldScript);\n    });\n    if (JS_MIME_TYPE in output.data) {\n      toinsert[nchildren-1].children[1].textContent = output.data[JS_MIME_TYPE];\n    }\n    output_area._hv_plot_id = id;\n    if ((window.Bokeh !== undefined) && (id in Bokeh.index)) {\n      window.PyViz.plot_index[id] = Bokeh.index[id];\n    } else {\n      window.PyViz.plot_index[id] = null;\n    }\n  } else if (output.metadata[EXEC_MIME_TYPE][\"server_id\"] !== undefined) {\n    var bk_div = document.createElement(\"div\");\n    bk_div.innerHTML = output.data[HTML_MIME_TYPE];\n    var script_attrs = bk_div.children[0].attributes;\n    for (var i = 0; i < script_attrs.length; i++) {\n      toinsert[toinsert.length - 1].childNodes[1].setAttribute(script_attrs[i].name, script_attrs[i].value);\n    }\n    // store reference to server id on output_area\n    output_area._bokeh_server_id = output.metadata[EXEC_MIME_TYPE][\"server_id\"];\n  }\n}\n\n/**\n * Handle when an output is cleared or removed\n */\nfunction handle_clear_output(event, handle) {\n  var id = handle.cell.output_area._hv_plot_id;\n  var server_id = handle.cell.output_area._bokeh_server_id;\n  if (((id === undefined) || !(id in PyViz.plot_index)) && (server_id !== undefined)) { return; }\n  var comm = window.PyViz.comm_manager.get_client_comm(\"hv-extension-comm\", \"hv-extension-comm\", function () {});\n  if (server_id !== null) {\n    comm.send({event_type: 'server_delete', 'id': server_id});\n    return;\n  } else if (comm !== null) {\n    comm.send({event_type: 'delete', 'id': id});\n  }\n  delete PyViz.plot_index[id];\n  if ((window.Bokeh !== undefined) & (id in window.Bokeh.index)) {\n    var doc = window.Bokeh.index[id].model.document\n    doc.clear();\n    const i = window.Bokeh.documents.indexOf(doc);\n    if (i > -1) {\n      window.Bokeh.documents.splice(i, 1);\n    }\n  }\n}\n\n/**\n * Handle kernel restart event\n */\nfunction handle_kernel_cleanup(event, handle) {\n  delete PyViz.comms[\"hv-extension-comm\"];\n  window.PyViz.plot_index = {}\n}\n\n/**\n * Handle update_display_data messages\n */\nfunction handle_update_output(event, handle) {\n  handle_clear_output(event, {cell: {output_area: handle.output_area}})\n  handle_add_output(event, handle)\n}\n\nfunction register_renderer(events, OutputArea) {\n  function append_mime(data, metadata, element) {\n    // create a DOM node to render to\n    var toinsert = this.create_output_subarea(\n    metadata,\n    CLASS_NAME,\n    EXEC_MIME_TYPE\n    );\n    this.keyboard_manager.register_events(toinsert);\n    // Render to node\n    var props = {data: data, metadata: metadata[EXEC_MIME_TYPE]};\n    render(props, toinsert[0]);\n    element.append(toinsert);\n    return toinsert\n  }\n\n  events.on('output_added.OutputArea', handle_add_output);\n  events.on('output_updated.OutputArea', handle_update_output);\n  events.on('clear_output.CodeCell', handle_clear_output);\n  events.on('delete.Cell', handle_clear_output);\n  events.on('kernel_ready.Kernel', handle_kernel_cleanup);\n\n  OutputArea.prototype.register_mime_type(EXEC_MIME_TYPE, append_mime, {\n    safe: true,\n    index: 0\n  });\n}\n\nif (window.Jupyter !== undefined) {\n  try {\n    var events = require('base/js/events');\n    var OutputArea = require('notebook/js/outputarea').OutputArea;\n    if (OutputArea.prototype.mime_types().indexOf(EXEC_MIME_TYPE) == -1) {\n      register_renderer(events, OutputArea);\n    }\n  } catch(err) {\n  }\n}\n"
     },
     "metadata": {},
     "output_type": "display_data"
    }
   ],
   "source": [
    "#!/usr/bin/env python3\n",
    "# -*- coding: utf-8 -*-\n",
    "\"\"\"\n",
    "@author: pho\n",
    "\"\"\"\n",
    "%config Completer.use_jedi = False\n",
    "%load_ext autoreload\n",
    "%autoreload 2\n",
    "import sys\n",
    "import importlib\n",
    "from threading import Thread\n",
    "import time # for time.sleep\n",
    "from ipygany import PolyMesh, Scene, IsoColor, WarpByScalar\n",
    "import pyvista as pv\n",
    "# from pyvista import _vtk\n",
    "import pyvistaqt as pvqt\n",
    "import colorcet as cc # Colormaps:\n",
    "import numpy as np\n",
    "import pandas as pd\n",
    "from pathlib import Path\n",
    "import bqplot.scales\n",
    "import seaborn as sns\n",
    "\n",
    "#interactive plotting in separate window\n",
    "# %matplotlib qt\n",
    "# %matplotlib inline\n",
    "# %matplotlib notebook $ # Very bad, don't use this one, obsolite\n",
    "# %matplotlib widget\n",
    "# %matplotlib qt\n",
    "\n",
    "from mpl_toolkits import mplot3d\n",
    "# %matplotlib widget\n",
    "import matplotlib.pyplot as plt\n",
    "import matplotlib.cm as cm\n",
    "from matplotlib.cm import hsv\n",
    "from matplotlib.colors import Normalize, to_rgba_array, to_hex\n",
    "from matplotlib.figure import Figure\n",
    "# import mplcursors\n",
    "import math # For color map generation\n",
    "from matplotlib.colors import ListedColormap\n",
    "\n",
    "from copy import deepcopy\n",
    "\n",
    "import ipywidgets as widgets\n",
    "# from PyQt5 import QtWidgets, uic\n",
    "from pyvistaqt import QtInteractor, MainWindow\n",
    "# from pyqt6 import QApplication\n",
    "from IPython.external.qt_for_kernel import QtGui\n",
    "from IPython.core.display import display, HTML\n",
    "display(HTML(\"<style>div.output_area pre {white-space: pre;}</style>\"))\n",
    "from IPython.lib.pretty import pretty, pprint\n",
    "# from pretty import pprint\n",
    "\n",
    "# Pandas display options\n",
    "# pd.set_option('display.max_columns', None)  # or 1000\n",
    "# pd.set_option('display.max_rows', None)  # or 1000\n",
    "# pd.set_option('display.max_colwidth', -1)  # or 199\n",
    "pd.set_option('display.width', 1000)\n",
    "# pd.set_option('display.max_columns', None)  # or 1000\n",
    "# pd.set_option('display.max_rows', None)  # or 1000\n",
    "# pd.set_option('display.max_colwidth', -1)  # or 199\n",
    "# pd.set_option('display.width', 1000)\n",
    "pd.set_option('display.min_rows', 30)\n",
    "pd.set_option('display.max_rows', 50)\n",
    "\n",
    "\n",
    "# Numpy display options: Very useful, uses the whole width of the screen\n",
    "np.set_printoptions(edgeitems=3, linewidth=4096, \n",
    "    formatter=dict(float=lambda x: \"%.3g\" % x))\n",
    "np.core.arrayprint._line_width = 144\n",
    "\n",
    "\n",
    "# import rich as rich\n",
    "# from rich import inspect\n",
    "# from rich import print\n",
    "# from rich import pretty\n",
    "\n",
    "from PyQt5.QtWidgets import QApplication\n",
    "import datetime as dt\n",
    "\n",
    "## Panel:\n",
    "import param\n",
    "import panel as pn\n",
    "from panel.viewable import Viewer\n",
    "\n",
    "# from PhoPositionalData.plotting.mixins.general_plotting_mixins import ActivePlacefieldsPlotting, SinglePlacefieldPlottingExtended\n",
    "\n",
    "\n",
    "# from panel.interact import interact, interactive, fixed, interact_manual\n",
    "# from panel import widgets\n",
    "# pn.extension()\n",
    "pn.extension('tabulator', 'katex')\n",
    "\n",
    "# from ipywidgets import interact\n",
    "# # interact\n",
    "# @interact\n",
    "\n",
    "\n",
    "# NeuroPy (Diba Lab Python Repo) Loading\n",
    "try:\n",
    "    from neuropy import core\n",
    "    importlib.reload(core)\n",
    "except ImportError:\n",
    "    sys.path.append(r'C:\\Users\\Pho\\repos\\NeuroPy') # Windows\n",
    "    # sys.path.append('/home/pho/repo/BapunAnalysis2021/NeuroPy') # Linux\n",
    "    # sys.path.append(r'/Users/pho/repo/Python Projects/NeuroPy') # MacOS\n",
    "    print('neuropy module not found, adding directory to sys.path. \\n >> Updated sys.path.')\n",
    "    from neuropy import core\n",
    "# from neuropy.core.session.dataSession import SessionConfig, DataSessionLoader, DataSession, processDataSssion\n",
    "\n",
    "from neuropy.core.session.data_session_loader import DataSessionLoader\n",
    "from neuropy.core.session.dataSession import DataSession\n",
    "from neuropy.core.epoch import Epoch\n",
    "from neuropy.core.epoch import NamedTimerange\n",
    "from neuropy.core import Laps\n",
    "from neuropy.core import Position\n",
    "from neuropy.core import FlattenedSpiketrains\n",
    "from neuropy.core import Neurons\n",
    "from neuropy.utils.misc import print_seconds_human_readable\n",
    "from neuropy.plotting import plot_raster\n",
    "from neuropy.analyses.placefields import PlacefieldComputationParameters\n",
    "from neuropy.analyses.laps import estimate_laps, compute_laps_spike_indicies\n",
    "from neuropy.analyses.pho_custom_placefields import PfND\n",
    "from neuropy.plotting.placemaps import plot_all_placefields\n",
    "\n",
    "## Pho's Custom Libraries:\n",
    "from pyphocorehelpers.general_helpers import PrettyPrintable, get_arguments_as_optional_dict\n",
    "from PhoPositionalData.debug_helpers import debug_print_spike_counts\n",
    "\n",
    "# import PhoPositionalData as pdp\n",
    "# from PhoPositionalData import load_exported, process_data\n",
    "from PhoPositionalData.load_exported import *\n",
    "# from PhoPositionalData.process_data import process_positionalAnalysis_data, gen_2d_histrogram, get_heatmap_color_vectors, process_chunk_equal_poritions_data, extract_spike_timeseries\n",
    "from PhoPositionalData.process_data import *\n",
    "from PhoPositionalData.plot_data import *\n",
    "from PhoPositionalData.plotting.animations import * # make_mp4_from_plotter\n",
    "from PhoPositionalData.plotting.laps import plot_laps_2d\n",
    "from PhoPositionalData.import_data import * # build_spike_positions_list, build_cellID_reverse_lookup_map\n",
    "from PhoPositionalData.analysis.interactive_placeCell_config import InteractivePlaceCellConfig, VideoOutputModeConfig, PlottingConfig\n",
    "from PhoPositionalData.analysis.interactive_placeCell_config import print_subsession_neuron_differences\n",
    "from PhoPositionalData.debug_helpers import *\n",
    "\n",
    "from PendingNotebookCode import compute_placefields_as_needed, build_configs, build_units_colormap, build_placefield_multiplotter, process_by_good_placefields, estimation_session_laps, compute_placefields_masked_by_epochs"
   ]
  },
  {
   "cell_type": "code",
   "execution_count": 21,
   "id": "e6d95dee-193e-480d-8470-2265109ca850",
   "metadata": {},
   "outputs": [
    {
     "ename": "ValueError",
     "evalue": "output type must be declared with a Parameter class, instance or a Python object type.",
     "output_type": "error",
     "traceback": [
      "\u001b[1;31m---------------------------------------------------------------------------\u001b[0m",
      "\u001b[1;31mValueError\u001b[0m                                Traceback (most recent call last)",
      "\u001b[1;32m~\\AppData\\Local\\Temp/ipykernel_11588/2944230420.py\u001b[0m in \u001b[0;36m<module>\u001b[1;34m\u001b[0m\n\u001b[0;32m     28\u001b[0m \u001b[1;33m\u001b[0m\u001b[0m\n\u001b[0;32m     29\u001b[0m \u001b[1;33m\u001b[0m\u001b[0m\n\u001b[1;32m---> 30\u001b[1;33m \u001b[1;32mclass\u001b[0m \u001b[0mStage1\u001b[0m\u001b[1;33m(\u001b[0m\u001b[0mparam\u001b[0m\u001b[1;33m.\u001b[0m\u001b[0mParameterized\u001b[0m\u001b[1;33m)\u001b[0m\u001b[1;33m:\u001b[0m\u001b[1;33m\u001b[0m\u001b[1;33m\u001b[0m\u001b[0m\n\u001b[0m\u001b[0;32m     31\u001b[0m     _default_dirs = {'Kamran': [r'R:\\data\\KDIBA\\gor01\\one'],\n\u001b[0;32m     32\u001b[0m                       \u001b[1;34m'Bapun'\u001b[0m  \u001b[1;33m:\u001b[0m \u001b[1;33m[\u001b[0m\u001b[1;34mr'R:\\data\\Bapun\\Day5TwoNovel'\u001b[0m\u001b[1;33m]\u001b[0m\u001b[1;33m\u001b[0m\u001b[1;33m\u001b[0m\u001b[0m\n",
      "\u001b[1;32m~\\AppData\\Local\\Temp/ipykernel_11588/2944230420.py\u001b[0m in \u001b[0;36mStage1\u001b[1;34m()\u001b[0m\n\u001b[0;32m     60\u001b[0m \u001b[1;33m\u001b[0m\u001b[0m\n\u001b[0;32m     61\u001b[0m     \u001b[1;33m@\u001b[0m\u001b[0mparam\u001b[0m\u001b[1;33m.\u001b[0m\u001b[0moutput\u001b[0m\u001b[1;33m(\u001b[0m\u001b[1;33m(\u001b[0m\u001b[1;34m'sess'\u001b[0m\u001b[1;33m,\u001b[0m \u001b[1;34m'DataSession'\u001b[0m\u001b[1;33m)\u001b[0m\u001b[1;33m,\u001b[0m \u001b[1;33m(\u001b[0m\u001b[1;34m'active_sess_config'\u001b[0m\u001b[1;33m,\u001b[0m \u001b[0mparam\u001b[0m\u001b[1;33m.\u001b[0m\u001b[0mDict\u001b[0m\u001b[1;33m)\u001b[0m\u001b[1;33m,\u001b[0m \u001b[1;33m{\u001b[0m\u001b[1;34m'session_name'\u001b[0m\u001b[1;33m,\u001b[0m \u001b[0mparam\u001b[0m\u001b[1;33m.\u001b[0m\u001b[0mString\u001b[0m\u001b[1;33m}\u001b[0m\u001b[1;33m)\u001b[0m\u001b[1;33m\u001b[0m\u001b[1;33m\u001b[0m\u001b[0m\n\u001b[1;32m---> 62\u001b[1;33m     \u001b[1;32mdef\u001b[0m \u001b[0moutput\u001b[0m\u001b[1;33m(\u001b[0m\u001b[0mself\u001b[0m\u001b[1;33m)\u001b[0m\u001b[1;33m:\u001b[0m\u001b[1;33m\u001b[0m\u001b[1;33m\u001b[0m\u001b[0m\n\u001b[0m\u001b[0;32m     63\u001b[0m         \u001b[1;32mif\u001b[0m \u001b[0mself\u001b[0m\u001b[1;33m.\u001b[0m\u001b[0minput_data_format\u001b[0m \u001b[1;33m==\u001b[0m \u001b[1;34m'Bapun'\u001b[0m\u001b[1;33m:\u001b[0m\u001b[1;33m\u001b[0m\u001b[1;33m\u001b[0m\u001b[0m\n\u001b[0;32m     64\u001b[0m             \u001b[0msess\u001b[0m \u001b[1;33m=\u001b[0m \u001b[0mDataSessionLoader\u001b[0m\u001b[1;33m.\u001b[0m\u001b[0mbapun_data_session\u001b[0m\u001b[1;33m(\u001b[0m\u001b[0mself\u001b[0m\u001b[1;33m.\u001b[0m\u001b[0mbasedir\u001b[0m\u001b[1;33m)\u001b[0m\u001b[1;33m\u001b[0m\u001b[1;33m\u001b[0m\u001b[0m\n",
      "\u001b[1;32m~\\anaconda3\\envs\\phoviz_test\\lib\\site-packages\\param\\parameterized.py\u001b[0m in \u001b[0;36m<lambda>\u001b[1;34m(actual_f)\u001b[0m\n\u001b[0;32m    288\u001b[0m     \u001b[1;33m@\u001b[0m\u001b[0mwraps\u001b[0m\u001b[1;33m(\u001b[0m\u001b[0mf\u001b[0m\u001b[1;33m)\u001b[0m\u001b[1;33m\u001b[0m\u001b[1;33m\u001b[0m\u001b[0m\n\u001b[0;32m    289\u001b[0m     \u001b[1;32mdef\u001b[0m \u001b[0m_f\u001b[0m\u001b[1;33m(\u001b[0m\u001b[1;33m*\u001b[0m\u001b[0margs\u001b[0m\u001b[1;33m,\u001b[0m \u001b[1;33m**\u001b[0m\u001b[0mkwargs\u001b[0m\u001b[1;33m)\u001b[0m\u001b[1;33m:\u001b[0m\u001b[1;33m\u001b[0m\u001b[1;33m\u001b[0m\u001b[0m\n\u001b[1;32m--> 290\u001b[1;33m         \u001b[1;32mreturn\u001b[0m \u001b[1;32mlambda\u001b[0m \u001b[0mactual_f\u001b[0m\u001b[1;33m:\u001b[0m \u001b[0mf\u001b[0m\u001b[1;33m(\u001b[0m\u001b[0mactual_f\u001b[0m\u001b[1;33m,\u001b[0m \u001b[1;33m*\u001b[0m\u001b[0margs\u001b[0m\u001b[1;33m,\u001b[0m \u001b[1;33m**\u001b[0m\u001b[0mkwargs\u001b[0m\u001b[1;33m)\u001b[0m\u001b[1;33m\u001b[0m\u001b[1;33m\u001b[0m\u001b[0m\n\u001b[0m\u001b[0;32m    291\u001b[0m     \u001b[1;32mreturn\u001b[0m \u001b[0m_f\u001b[0m\u001b[1;33m\u001b[0m\u001b[1;33m\u001b[0m\u001b[0m\n\u001b[0;32m    292\u001b[0m \u001b[1;33m\u001b[0m\u001b[0m\n",
      "\u001b[1;32m~\\anaconda3\\envs\\phoviz_test\\lib\\site-packages\\param\\parameterized.py\u001b[0m in \u001b[0;36moutput\u001b[1;34m(func, *output, **kw)\u001b[0m\n\u001b[0;32m    475\u001b[0m             \u001b[0motype\u001b[0m \u001b[1;33m=\u001b[0m \u001b[0mClassSelector\u001b[0m\u001b[1;33m(\u001b[0m\u001b[0mclass_\u001b[0m\u001b[1;33m=\u001b[0m\u001b[0motype\u001b[0m\u001b[1;33m)\u001b[0m\u001b[1;33m\u001b[0m\u001b[1;33m\u001b[0m\u001b[0m\n\u001b[0;32m    476\u001b[0m         \u001b[1;32mif\u001b[0m \u001b[1;32mnot\u001b[0m \u001b[0misinstance\u001b[0m\u001b[1;33m(\u001b[0m\u001b[0motype\u001b[0m\u001b[1;33m,\u001b[0m \u001b[0mParameter\u001b[0m\u001b[1;33m)\u001b[0m\u001b[1;33m:\u001b[0m\u001b[1;33m\u001b[0m\u001b[1;33m\u001b[0m\u001b[0m\n\u001b[1;32m--> 477\u001b[1;33m             raise ValueError('output type must be declared with a Parameter class, '\n\u001b[0m\u001b[0;32m    478\u001b[0m                              'instance or a Python object type.')\n\u001b[0;32m    479\u001b[0m         \u001b[0mprocessed\u001b[0m\u001b[1;33m.\u001b[0m\u001b[0mappend\u001b[0m\u001b[1;33m(\u001b[0m\u001b[1;33m(\u001b[0m\u001b[0mname\u001b[0m\u001b[1;33m,\u001b[0m \u001b[0motype\u001b[0m\u001b[1;33m,\u001b[0m \u001b[0mi\u001b[0m\u001b[1;33m)\u001b[0m\u001b[1;33m)\u001b[0m\u001b[1;33m\u001b[0m\u001b[1;33m\u001b[0m\u001b[0m\n",
      "\u001b[1;31mValueError\u001b[0m: output type must be declared with a Parameter class, instance or a Python object type."
     ]
    }
   ],
   "source": [
    "# class Stage1(param.Parameterized):\n",
    "\n",
    "#     basedir = param.Foldername(default=r'R:\\data\\KDIBA\\gor01\\one\\2006-6-07_11-26-53', doc=\"The session folder path to load\")\n",
    "#     input_data_format = param.Selector(['Kamran', 'Bapun'])\n",
    "    \n",
    "#     a = param.Number(default=5, bounds=(0, 10))\n",
    "#     b = param.Number(default=5, bounds=(0, 10))\n",
    "    \n",
    "#     ready = param.Boolean(default=False, precedence=-1)\n",
    "\n",
    "# #     @param.output(('sess', param.Parameter), ('d', param.Number))\n",
    "# #     def output(self):\n",
    "# #         sess = DataSessionLoader.kdiba_old_format_session(basedir)\n",
    "# #         active_sess_config = sess.config\n",
    "# #         session_name = sess.name\n",
    "\n",
    "# #         return \n",
    "    \n",
    "#     @param.depends('basedir', 'input_data_format')\n",
    "#     def view(self):\n",
    "#         return pn.Row(pn.widgets.LoadingSpinner(), background='black')\n",
    "#         # c, d = self.output()\n",
    "#         return pn.pane.Markdown('${a} * {b} = {c}$\\n${a}^{{{b}}} = {d}$'.format(\n",
    "#             a=self.a, b=self.b, c=c, d=d), style={'font-size': '2em'})\n",
    "\n",
    "#     def panel(self):\n",
    "#         return pn.Row(self.param, self.view)\n",
    "\n",
    "\n",
    "class Stage1(param.Parameterized):\n",
    "    _default_dirs = {'Kamran': [r'R:\\data\\KDIBA\\gor01\\one'],\n",
    "                      'Bapun'  : [r'R:\\data\\Bapun\\Day5TwoNovel']\n",
    "                    }\n",
    "    \n",
    "    \n",
    "    e_input_data_changed = param.Event()\n",
    "    \n",
    "    basedir = param.FileSelector(default=r'R:\\data\\KDIBA\\gor01\\one\\2006-6-07_11-26-53', doc=\"The session folder path to load\", path=(_default_dirs['Kamran'][0] + r'\\**')) # r'R:\\data\\KDIBA\\gor01\\one\\**'\n",
    "    input_data_format = param.Selector(list(_default_dirs.keys()), default='Kamran')\n",
    "    \n",
    "\n",
    "    a = param.Number(default=5, bounds=(0, 10))\n",
    "\n",
    "    b = param.Number(default=5, bounds=(0, 10))\n",
    "\n",
    "    ready = param.Boolean(default=False, precedence=-1)\n",
    "\n",
    "    @param.depends('input_data_format', watch=True)\n",
    "    def _update_input_format(self):\n",
    "        curr_default_dirs = self._default_dirs[self.input_data_format]\n",
    "        # self.param['basedir'].objects = curr_default_dirs\n",
    "        self.param['basedir'].path = (curr_default_dirs[0] + r'\\**')\n",
    "        # if self.country not in curr_default_dirs:\n",
    "        #     self.country = curr_default_dirs[0]\n",
    "\n",
    "\n",
    "    # @param.output(('c', param.Number), ('d', param.Number))\n",
    "    # def output(self):\n",
    "    #     return self.a * self.b, self.a ** self.b\n",
    "    \n",
    "    @param.output(('sess', 'DataSession'), ('active_sess_config', param.Dict), {'session_name', param.String})\n",
    "    def output(self):\n",
    "        if self.input_data_format == 'Bapun':\n",
    "            sess = DataSessionLoader.bapun_data_session(self.basedir)\n",
    "        elif self.input_data_format == 'Kamran':\n",
    "            sess = DataSessionLoader.kdiba_old_format_session(basedir)\n",
    "        else:\n",
    "            raise ValueError\n",
    "        return sess, sess.config, sess.name\n",
    "\n",
    "    @param.depends('basedir', 'input_data_format')\n",
    "    def view(self):\n",
    "        sess, active_sess_config, session_name = self.output()\n",
    "        return sess.panel_dataframes_overview()\n",
    "        # return pn.pane.LaTeX('${a} * {b} = {c}$\\n${a}^{{{b}}} = {d}$'.format(\n",
    "        #     a=self.a, b=self.b, c=c, d=d), style={'font-size': '2em'})\n",
    "\n",
    "    \n",
    "    # @param.depends('a', 'b')\n",
    "    # def view(self):\n",
    "    #     c, d = self.output()\n",
    "    #     return sess.panel_dataframes_overview()\n",
    "    #     return pn.pane.LaTeX('${a} * {b} = {c}$\\n${a}^{{{b}}} = {d}$'.format(\n",
    "    #         a=self.a, b=self.b, c=c, d=d), style={'font-size': '2em'})\n",
    "\n",
    "    def panel(self):\n",
    "        return pn.Row(self.param, self.view)\n",
    "\n",
    "stage1 = Stage1()\n",
    "stage1.panel()\n",
    "\n",
    "\n",
    "\n",
    "# stage1 = Stage1()\n",
    "# pn.panel(stage1.param)\n",
    "# stage1.panel()"
   ]
  },
  {
   "cell_type": "code",
   "execution_count": 3,
   "id": "a17fa1c3-54cc-4692-8f29-b85bbf31290c",
   "metadata": {},
   "outputs": [
    {
     "data": {},
     "metadata": {},
     "output_type": "display_data"
    },
    {
     "data": {
      "application/vnd.holoviews_exec.v0+json": "",
      "text/html": [
       "<div id='1011'>\n",
       "\n",
       "\n",
       "\n",
       "\n",
       "\n",
       "  <div class=\"bk-root\" id=\"4ef641fb-758b-4186-bcbe-0dce90e90051\" data-root-id=\"1011\"></div>\n",
       "</div>\n",
       "<script type=\"application/javascript\">(function(root) {\n",
       "  function embed_document(root) {\n",
       "    var docs_json = {\"3b38541f-cc14-48be-bde2-adcddc0e2034\":{\"defs\":[{\"extends\":null,\"module\":null,\"name\":\"ReactiveHTML1\",\"overrides\":[],\"properties\":[]},{\"extends\":null,\"module\":null,\"name\":\"FlexBox1\",\"overrides\":[],\"properties\":[{\"default\":\"flex-start\",\"kind\":null,\"name\":\"align_content\"},{\"default\":\"flex-start\",\"kind\":null,\"name\":\"align_items\"},{\"default\":\"row\",\"kind\":null,\"name\":\"flex_direction\"},{\"default\":\"wrap\",\"kind\":null,\"name\":\"flex_wrap\"},{\"default\":\"flex-start\",\"kind\":null,\"name\":\"justify_content\"}]},{\"extends\":null,\"module\":null,\"name\":\"TemplateActions1\",\"overrides\":[],\"properties\":[{\"default\":0,\"kind\":null,\"name\":\"open_modal\"},{\"default\":0,\"kind\":null,\"name\":\"close_modal\"}]},{\"extends\":null,\"module\":null,\"name\":\"MaterialTemplateActions1\",\"overrides\":[],\"properties\":[{\"default\":0,\"kind\":null,\"name\":\"open_modal\"},{\"default\":0,\"kind\":null,\"name\":\"close_modal\"}]}],\"roots\":{\"references\":[{\"attributes\":{\"children\":[{\"id\":\"1012\"},{\"id\":\"1016\"}],\"margin\":[0,0,0,0],\"name\":\"Row00143\"},\"id\":\"1011\",\"type\":\"Row\"},{\"attributes\":{\"children\":[{\"id\":\"1013\"},{\"id\":\"1014\"},{\"id\":\"1015\"}],\"margin\":[5,5,5,5],\"min_width\":300,\"name\":\"Stage\",\"width\":300},\"id\":\"1012\",\"type\":\"Column\"},{\"attributes\":{\"client_comm_id\":\"de907540a6ee47ff9b80d49a08d0ff3a\",\"comm_id\":\"4eaf20fe5bbb498fb127ac7d0a354123\",\"plot_id\":\"1011\"},\"id\":\"1018\",\"type\":\"panel.models.comm_manager.CommManager\"},{\"attributes\":{\"low\":0,\"margin\":[5,10,5,10],\"placeholder\":\"0\",\"step\":0.1,\"title\":\"C\",\"value\":25,\"value_throttled\":25},\"id\":\"1014\",\"type\":\"Spinner\"},{\"attributes\":{\"children\":[{\"id\":\"1017\"}],\"margin\":[0,0,0,0],\"name\":\"Row00138\"},\"id\":\"1016\",\"type\":\"Row\"},{\"attributes\":{\"margin\":[5,5,5,5],\"name\":\"LaTeX00139\",\"style\":{\"font-size\":\"2em\"},\"text\":\"${25}^{0.1}={1.380}$\"},\"id\":\"1017\",\"type\":\"panel.models.katex.KaTeX\"},{\"attributes\":{\"margin\":[5,10,5,10],\"name\":\"\",\"text\":\"<b>Stage</b>\"},\"id\":\"1013\",\"type\":\"Div\"},{\"attributes\":{\"end\":3,\"margin\":[5,10,5,10],\"start\":0,\"step\":0.1,\"title\":\"Exp\",\"value\":0.1},\"id\":\"1015\",\"type\":\"Slider\"}],\"root_ids\":[\"1011\",\"1018\"]},\"title\":\"Bokeh Application\",\"version\":\"2.4.0\"}};\n",
       "    var render_items = [{\"docid\":\"3b38541f-cc14-48be-bde2-adcddc0e2034\",\"root_ids\":[\"1011\"],\"roots\":{\"1011\":\"4ef641fb-758b-4186-bcbe-0dce90e90051\"}}];\n",
       "    root.Bokeh.embed.embed_items_notebook(docs_json, render_items);\n",
       "  }\n",
       "  if (root.Bokeh !== undefined && root.Bokeh.Panel !== undefined && ( root['Tabulator'] !== undefined) && ( root['katex'] !== undefined)) {\n",
       "    embed_document(root);\n",
       "  } else {\n",
       "    var attempts = 0;\n",
       "    var timer = setInterval(function(root) {\n",
       "      if (root.Bokeh !== undefined && root.Bokeh.Panel !== undefined && (root['Tabulator'] !== undefined) && (root['katex'] !== undefined)) {\n",
       "        clearInterval(timer);\n",
       "        embed_document(root);\n",
       "      } else if (document.readyState == \"complete\") {\n",
       "        attempts++;\n",
       "        if (attempts > 200) {\n",
       "          clearInterval(timer);\n",
       "          console.log(\"Bokeh: ERROR: Unable to run BokehJS code because BokehJS library is missing\");\n",
       "        }\n",
       "      }\n",
       "    }, 25, root)\n",
       "  }\n",
       "})(window);</script>"
      ],
      "text/plain": [
       "Row\n",
       "    [0] Column(margin=5, name='Stage', width=300)\n",
       "        [0] StaticText(value='<b>Stage</b>')\n",
       "        [1] FloatInput(name='C', start=0, value=25)\n",
       "        [2] FloatSlider(end=3, name='Exp', value=0.1)\n",
       "    [1] ParamMethod(method)"
      ]
     },
     "execution_count": 3,
     "metadata": {
      "application/vnd.holoviews_exec.v0+json": {
       "id": "1011"
      }
     },
     "output_type": "execute_result"
    }
   ],
   "source": [
    "class Stage2(param.Parameterized):\n",
    "    \"\"\" \"\"\"\n",
    "    c = param.Number(default=5, bounds=(0, None))\n",
    "    exp = param.Number(default=0.1, bounds=(0, 3))\n",
    "    \n",
    "    @param.depends('c', 'exp')\n",
    "    def view(self):\n",
    "        return pn.pane.LaTeX('${%s}^{%s}={%.3f}$' % (self.c, self.exp, self.c**self.exp),\n",
    "                             style={'font-size': '2em'})\n",
    "        # return pn.pane.LaTeX('${%s}^{%s}={%.3f}$' % (self.c, self.exp, self.c**self.exp),\n",
    "        #                      style={'font-size': '2em'})\n",
    "\n",
    "    def panel(self):\n",
    "        return pn.Row(self.param, self.view)\n",
    "\n",
    "stage2 = Stage2(c=stage1.output()[0])\n",
    "stage2.panel()\n"
   ]
  },
  {
   "cell_type": "code",
   "execution_count": 4,
   "id": "6d69e1b2-5b4b-4f70-ae42-20da8dd5e57b",
   "metadata": {},
   "outputs": [
    {
     "data": {},
     "metadata": {},
     "output_type": "display_data"
    },
    {
     "data": {
      "text/html": [
       "\n",
       "<pre>Traceback (most recent call last):\n",
       "  File &quot;C:\\Users\\Pho\\anaconda3\\envs\\phoviz_test\\lib\\site-packages\\pyviz_comms\\__init__.py&quot;, line 325, in _handle_msg\n",
       "    self._on_msg(msg)\n",
       "  File &quot;C:\\Users\\Pho\\anaconda3\\envs\\phoviz_test\\lib\\site-packages\\panel\\viewable.py&quot;, line 272, in _on_msg\n",
       "    patch.apply_to_document(doc, comm.id)\n",
       "  File &quot;C:\\Users\\Pho\\anaconda3\\envs\\phoviz_test\\lib\\site-packages\\bokeh\\protocol\\messages\\patch_doc.py&quot;, line 115, in apply_to_document\n",
       "    invoke_with_curdoc(doc, lambda: doc.apply_json_patch(self.content, setter))\n",
       "  File &quot;C:\\Users\\Pho\\anaconda3\\envs\\phoviz_test\\lib\\site-packages\\bokeh\\document\\callbacks.py&quot;, line 408, in invoke_with_curdoc\n",
       "    return f()\n",
       "  File &quot;C:\\Users\\Pho\\anaconda3\\envs\\phoviz_test\\lib\\site-packages\\bokeh\\protocol\\messages\\patch_doc.py&quot;, line 115, in &lt;lambda&gt;\n",
       "    invoke_with_curdoc(doc, lambda: doc.apply_json_patch(self.content, setter))\n",
       "  File &quot;C:\\Users\\Pho\\anaconda3\\envs\\phoviz_test\\lib\\site-packages\\bokeh\\document\\document.py&quot;, line 391, in apply_json_patch\n",
       "    DocumentPatchedEvent.handle_json(self, event_json, references, setter)\n",
       "  File &quot;C:\\Users\\Pho\\anaconda3\\envs\\phoviz_test\\lib\\site-packages\\bokeh\\document\\events.py&quot;, line 259, in handle_json\n",
       "    handler(doc, event_json, references, setter)\n",
       "  File &quot;C:\\Users\\Pho\\anaconda3\\envs\\phoviz_test\\lib\\site-packages\\bokeh\\document\\events.py&quot;, line 467, in _handle_json\n",
       "    patched_obj.set_from_json(attr, value, models=references, setter=setter)\n",
       "  File &quot;C:\\Users\\Pho\\anaconda3\\envs\\phoviz_test\\lib\\site-packages\\bokeh\\core\\has_props.py&quot;, line 384, in set_from_json\n",
       "    descriptor.set_from_json(self, json, models=models, setter=setter)\n",
       "  File &quot;C:\\Users\\Pho\\anaconda3\\envs\\phoviz_test\\lib\\site-packages\\bokeh\\core\\property\\descriptors.py&quot;, line 376, in set_from_json\n",
       "    value = self.property.prepare_value(obj, self.name, self.property.from_json(json, models=models))\n",
       "  File &quot;C:\\Users\\Pho\\anaconda3\\envs\\phoviz_test\\lib\\site-packages\\bokeh\\core\\property\\instance.py&quot;, line 112, in from_json\n",
       "    raise DeserializationError(f&quot;{self} failed to deserialize reference to {json}&quot;)\n",
       "bokeh.core.property.bases.DeserializationError: Instance(GlyphRenderer) failed to deserialize reference to {&#x27;id&#x27;: &#x27;1071&#x27;}\n",
       "</pre>\n"
      ]
     },
     "metadata": {},
     "output_type": "display_data"
    },
    {
     "data": {
      "application/vnd.holoviews_exec.v0+json": "",
      "text/html": [
       "<div id='1019'>\n",
       "\n",
       "\n",
       "\n",
       "\n",
       "\n",
       "  <div class=\"bk-root\" id=\"6eac6084-cf4e-4a93-8f77-00d18201bbd0\" data-root-id=\"1019\"></div>\n",
       "</div>\n",
       "<script type=\"application/javascript\">(function(root) {\n",
       "  function embed_document(root) {\n",
       "    var docs_json = {\"c4d34e27-1cbd-4e09-aed4-1c8795a4a35d\":{\"defs\":[{\"extends\":null,\"module\":null,\"name\":\"ReactiveHTML1\",\"overrides\":[],\"properties\":[]},{\"extends\":null,\"module\":null,\"name\":\"FlexBox1\",\"overrides\":[],\"properties\":[{\"default\":\"flex-start\",\"kind\":null,\"name\":\"align_content\"},{\"default\":\"flex-start\",\"kind\":null,\"name\":\"align_items\"},{\"default\":\"row\",\"kind\":null,\"name\":\"flex_direction\"},{\"default\":\"wrap\",\"kind\":null,\"name\":\"flex_wrap\"},{\"default\":\"flex-start\",\"kind\":null,\"name\":\"justify_content\"}]},{\"extends\":null,\"module\":null,\"name\":\"TemplateActions1\",\"overrides\":[],\"properties\":[{\"default\":0,\"kind\":null,\"name\":\"open_modal\"},{\"default\":0,\"kind\":null,\"name\":\"close_modal\"}]},{\"extends\":null,\"module\":null,\"name\":\"MaterialTemplateActions1\",\"overrides\":[],\"properties\":[{\"default\":0,\"kind\":null,\"name\":\"open_modal\"},{\"default\":0,\"kind\":null,\"name\":\"close_modal\"}]}],\"roots\":{\"references\":[{\"attributes\":{},\"id\":\"1054\",\"type\":\"BasicTickFormatter\"},{\"attributes\":{\"fill_alpha\":{\"value\":0},\"fill_color\":{\"value\":\"#30a2da\"},\"hatch_alpha\":{\"value\":0},\"hatch_color\":{\"value\":\"#30a2da\"},\"line_alpha\":{\"value\":0},\"size\":{\"value\":10},\"x\":{\"field\":\"x\"},\"y\":{\"field\":\"y\"}},\"id\":\"1099\",\"type\":\"Scatter\"},{\"attributes\":{},\"id\":\"1055\",\"type\":\"AllLabels\"},{\"attributes\":{\"fill_alpha\":{\"value\":0},\"fill_color\":{\"value\":\"#30a2da\"},\"hatch_alpha\":{\"value\":0.2},\"hatch_color\":{\"value\":\"#30a2da\"},\"line_alpha\":{\"value\":0},\"size\":{\"value\":10},\"x\":{\"field\":\"x\"},\"y\":{\"field\":\"y\"}},\"id\":\"1103\",\"type\":\"Scatter\"},{\"attributes\":{\"data\":{\"State\":[\"active\",\"next\"],\"index\":{\"__ndarray__\":\"AAAAAAEAAAA=\",\"dtype\":\"int32\",\"order\":\"little\",\"shape\":[2]},\"index_hover\":[\"Stage 1\",\"Stage 2\"],\"node_color\":[\"active\",\"next\"]},\"selected\":{\"id\":\"1119\"},\"selection_policy\":{\"id\":\"1118\"}},\"id\":\"1057\",\"type\":\"ColumnDataSource\"},{\"attributes\":{\"args\":{\"selected\":{\"id\":\"1097\"}},\"code\":\"var data = {};\\ndata[\\\"index\\\"] = cb_obj[\\\"indices\\\"];\\n\\nfunction unique_events(events) {\\n  // Processes the event queue ignoring duplicate events\\n  // of the same type\\n  var unique = [];\\n  var unique_events = [];\\n  for (var i=0; i<events.length; i++) {\\n    var _tmpevent = events[i];\\n    event = _tmpevent[0];\\n    data = _tmpevent[1];\\n    if (unique_events.indexOf(event)===-1) {\\n      unique.unshift(data);\\n      unique_events.push(event);\\n      }\\n  }\\n  return unique;\\n}\\n\\nfunction process_events(comm_status) {\\n  // Iterates over event queue and sends events via Comm\\n  var events = unique_events(comm_status.event_buffer);\\n  for (var i=0; i<events.length; i++) {\\n    var data = events[i];\\n    var comm = window.PyViz.comms[data[\\\"comm_id\\\"]];\\n    comm.send(data);\\n  }\\n  comm_status.event_buffer = [];\\n}\\n\\nfunction on_msg(msg) {\\n  // Receives acknowledgement from Python, processing event\\n  // and unblocking Comm if event queue empty\\n  var metadata = msg.metadata;\\n  var comm_id = metadata.comm_id\\n  var comm_status = window.PyViz.comm_status[comm_id];\\n  if (comm_status.event_buffer.length) {\\n    process_events(comm_status);\\n    comm_status.blocked = true;\\n    comm_status.time = Date.now()+20;\\n  } else {\\n    comm_status.blocked = false;\\n  }\\n  comm_status.event_buffer = [];\\n  if ((metadata.msg_type == \\\"Ready\\\") && metadata.content) {\\n    console.log(\\\"Python callback returned following output:\\\", metadata.content);\\n  } else if (metadata.msg_type == \\\"Error\\\") {\\n    console.log(\\\"Python failed with the following traceback:\\\", metadata.traceback)\\n  }\\n}\\n\\n// Initialize Comm\\nif ((window.PyViz == undefined) || (window.PyViz.comm_manager == undefined)) { return }\\nvar comm = window.PyViz.comm_manager.get_client_comm(\\\"1019\\\", \\\"9e01fe54173049c3898f0f8df30da440\\\", on_msg);\\nif (!comm) {\\n  return\\n}\\n\\n// Initialize event queue and timeouts for Comm\\nvar comm_status = window.PyViz.comm_status[\\\"9e01fe54173049c3898f0f8df30da440\\\"];\\nif (comm_status === undefined) {\\n  comm_status = {event_buffer: [], blocked: false, time: Date.now()}\\n  window.PyViz.comm_status[\\\"9e01fe54173049c3898f0f8df30da440\\\"] = comm_status\\n}\\n\\n// Add current event to queue and process queue if not blocked\\nvar event_name = cb_obj.event_name;\\nif (event_name === undefined) {\\n  // we are a widget not an event... fake a key.\\n  event_name = Object.keys(data).join(',');\\n}\\ndata['comm_id'] = \\\"9e01fe54173049c3898f0f8df30da440\\\";\\nvar timeout = comm_status.time + 20000;\\nif ((comm_status.blocked && (Date.now() < timeout))) {\\n  comm_status.event_buffer.unshift([event_name, data]);\\n} else {\\n  comm_status.event_buffer.unshift([event_name, data]);\\n  setTimeout(function() { process_events(comm_status); }, 20);\\n  comm_status.blocked = true;\\n  comm_status.time = Date.now()+20;\\n}\\n\"},\"id\":\"1106\",\"type\":\"CustomJS\"},{\"attributes\":{\"line_alpha\":{\"value\":0.2},\"line_width\":{\"value\":2}},\"id\":\"1068\",\"type\":\"MultiLine\"},{\"attributes\":{\"children\":[{\"id\":\"1261\"}],\"margin\":[0,0,0,0],\"name\":\"Row01808\"},\"id\":\"1260\",\"type\":\"Row\"},{\"attributes\":{\"callback\":null,\"renderers\":[{\"id\":\"1073\"}],\"tags\":[\"hv_created\"],\"tooltips\":[[\"Stage\",\"@{index_hover}\"],[\"State\",\"@{State}\"]]},\"id\":\"1026\",\"type\":\"HoverTool\"},{\"attributes\":{\"js_property_callbacks\":{\"change:indices\":[{\"id\":\"1106\"}]}},\"id\":\"1097\",\"type\":\"Selection\"},{\"attributes\":{\"children\":[{\"id\":\"1022\"},{\"id\":\"1023\"}],\"margin\":[0,0,0,0],\"name\":\"Column00263\"},\"id\":\"1021\",\"type\":\"Column\"},{\"attributes\":{\"source\":{\"id\":\"1096\"}},\"id\":\"1105\",\"type\":\"CDSView\"},{\"attributes\":{\"line_width\":{\"value\":2}},\"id\":\"1067\",\"type\":\"MultiLine\"},{\"attributes\":{\"fill_alpha\":{\"value\":0},\"fill_color\":{\"value\":\"limegreen\"},\"hatch_alpha\":{\"value\":0},\"hatch_color\":{\"value\":\"#30a2da\"},\"line_alpha\":{\"value\":0},\"size\":{\"value\":10},\"x\":{\"field\":\"x\"},\"y\":{\"field\":\"y\"}},\"id\":\"1101\",\"type\":\"Scatter\"},{\"attributes\":{\"fill_color\":{\"field\":\"node_color\",\"transform\":{\"id\":\"1056\"}},\"hatch_color\":{\"field\":\"node_color\",\"transform\":{\"id\":\"1056\"}},\"size\":{\"value\":15}},\"id\":\"1060\",\"type\":\"Circle\"},{\"attributes\":{\"children\":[{\"id\":\"1020\"},{\"id\":\"1260\"}],\"margin\":[0,0,0,0],\"name\":\"Column01809\",\"sizing_mode\":\"stretch_width\"},\"id\":\"1019\",\"type\":\"Column\"},{\"attributes\":{\"source\":{\"id\":\"1057\"}},\"id\":\"1066\",\"type\":\"CDSView\"},{\"attributes\":{\"fill_color\":{\"field\":\"node_color\",\"transform\":{\"id\":\"1056\"}},\"hatch_color\":{\"field\":\"node_color\",\"transform\":{\"id\":\"1056\"}},\"size\":{\"value\":15}},\"id\":\"1062\",\"type\":\"Circle\"},{\"attributes\":{\"axis\":{\"id\":\"1041\"},\"coordinates\":null,\"dimension\":1,\"grid_line_color\":null,\"group\":null,\"ticker\":null},\"id\":\"1044\",\"type\":\"Grid\"},{\"attributes\":{\"fill_alpha\":{\"value\":0},\"fill_color\":{\"value\":\"#30a2da\"},\"hatch_alpha\":{\"value\":0},\"hatch_color\":{\"value\":\"#30a2da\"},\"line_alpha\":{\"value\":0},\"size\":{\"value\":10},\"x\":{\"field\":\"x\"},\"y\":{\"field\":\"y\"}},\"id\":\"1100\",\"type\":\"Scatter\"},{\"attributes\":{\"factors\":[\"inactive\",\"active\",\"error\",\"next\"],\"palette\":[\"white\",\"#5cb85c\",\"red\",\"yellow\"]},\"id\":\"1056\",\"type\":\"CategoricalColorMapper\"},{\"attributes\":{\"reset_end\":1,\"reset_start\":0,\"tags\":[[[\"y\",\"y\",null]]]},\"id\":\"1025\",\"type\":\"Range1d\"},{\"attributes\":{\"fill_alpha\":{\"value\":0},\"fill_color\":{\"value\":\"indianred\"},\"hatch_alpha\":{\"value\":0},\"hatch_color\":{\"value\":\"#30a2da\"},\"line_alpha\":{\"value\":0},\"size\":{\"value\":10},\"x\":{\"field\":\"x\"},\"y\":{\"field\":\"y\"}},\"id\":\"1102\",\"type\":\"Scatter\"},{\"attributes\":{\"coordinates\":null,\"data_source\":{\"id\":\"1096\"},\"glyph\":{\"id\":\"1099\"},\"group\":null,\"hover_glyph\":{\"id\":\"1102\"},\"muted_glyph\":{\"id\":\"1103\"},\"nonselection_glyph\":{\"id\":\"1100\"},\"selection_glyph\":{\"id\":\"1101\"},\"view\":{\"id\":\"1105\"}},\"id\":\"1104\",\"type\":\"GlyphRenderer\"},{\"attributes\":{\"hatch_color\":{\"field\":\"node_color\",\"transform\":{\"id\":\"1056\"}},\"size\":{\"value\":15}},\"id\":\"1063\",\"type\":\"Circle\"},{\"attributes\":{\"children\":[{\"id\":\"1021\"},{\"id\":\"1028\"},{\"id\":\"1257\"}],\"margin\":[0,0,0,0],\"name\":\"Row00264\",\"sizing_mode\":\"stretch_width\"},\"id\":\"1020\",\"type\":\"Row\"},{\"attributes\":{\"fill_alpha\":{\"value\":0.2},\"fill_color\":{\"field\":\"node_color\",\"transform\":{\"id\":\"1056\"}},\"hatch_alpha\":{\"value\":0.2},\"hatch_color\":{\"field\":\"node_color\",\"transform\":{\"id\":\"1056\"}},\"line_alpha\":{\"value\":0.2},\"size\":{\"value\":15}},\"id\":\"1064\",\"type\":\"Circle\"},{\"attributes\":{\"callback\":null,\"renderers\":[{\"id\":\"1104\"}],\"tags\":[\"hv_created\"],\"tooltips\":[[\"Stage\",\"@{Stage}\"],[\"State\",\"@{State}\"]]},\"id\":\"1027\",\"type\":\"HoverTool\"},{\"attributes\":{\"coordinates\":null,\"data_source\":{\"id\":\"1057\"},\"glyph\":{\"id\":\"1060\"},\"group\":null,\"hover_glyph\":{\"id\":\"1063\"},\"muted_glyph\":{\"id\":\"1064\"},\"nonselection_glyph\":{\"id\":\"1061\"},\"selection_glyph\":{\"id\":\"1062\"},\"view\":{\"id\":\"1066\"}},\"id\":\"1065\",\"type\":\"GlyphRenderer\"},{\"attributes\":{\"fill_alpha\":{\"value\":0.2},\"fill_color\":{\"field\":\"node_color\",\"transform\":{\"id\":\"1056\"}},\"hatch_alpha\":{\"value\":0.2},\"hatch_color\":{\"field\":\"node_color\",\"transform\":{\"id\":\"1056\"}},\"line_alpha\":{\"value\":0.2},\"size\":{\"value\":15}},\"id\":\"1061\",\"type\":\"Circle\"},{\"attributes\":{\"below\":[{\"id\":\"1037\"}],\"center\":[{\"id\":\"1040\"},{\"id\":\"1044\"}],\"height\":80,\"left\":[{\"id\":\"1041\"}],\"margin\":[5,5,5,5],\"min_border_bottom\":10,\"min_border_left\":10,\"min_border_right\":10,\"min_border_top\":10,\"min_width\":400,\"outline_line_alpha\":0,\"renderers\":[{\"id\":\"1073\"},{\"id\":\"1093\"},{\"id\":\"1104\"}],\"sizing_mode\":\"stretch_width\",\"title\":{\"id\":\"1029\"},\"toolbar\":{\"id\":\"1046\"},\"toolbar_location\":null,\"width\":null,\"x_range\":{\"id\":\"1024\"},\"x_scale\":{\"id\":\"1033\"},\"y_range\":{\"id\":\"1025\"},\"y_scale\":{\"id\":\"1035\"}},\"id\":\"1028\",\"subtype\":\"Figure\",\"type\":\"Plot\"},{\"attributes\":{\"client_comm_id\":\"df154e96f7324bd78b999a10ab36e638\",\"comm_id\":\"56595655424241fa91d953613f68b3fa\",\"plot_id\":\"1019\"},\"id\":\"1313\",\"type\":\"panel.models.comm_manager.CommManager\"},{\"attributes\":{},\"id\":\"1038\",\"type\":\"BasicTicker\"},{\"attributes\":{\"coordinates\":null,\"data_source\":{\"id\":\"1058\"},\"glyph\":{\"id\":\"1067\"},\"group\":null,\"hover_glyph\":{\"id\":\"1069\"},\"muted_glyph\":{\"id\":\"1070\"},\"nonselection_glyph\":{\"id\":\"1068\"},\"view\":{\"id\":\"1072\"}},\"id\":\"1071\",\"type\":\"GlyphRenderer\"},{\"attributes\":{\"line_width\":{\"value\":2}},\"id\":\"1069\",\"type\":\"MultiLine\"},{\"attributes\":{\"end\":1.25,\"reset_end\":1.25,\"reset_start\":-0.25,\"start\":-0.25,\"tags\":[[[\"x\",\"x\",null]]]},\"id\":\"1024\",\"type\":\"Range1d\"},{\"attributes\":{\"line_alpha\":{\"value\":0.2},\"line_width\":{\"value\":2}},\"id\":\"1070\",\"type\":\"MultiLine\"},{\"attributes\":{\"source\":{\"id\":\"1058\"}},\"id\":\"1072\",\"type\":\"CDSView\"},{\"attributes\":{},\"id\":\"1118\",\"type\":\"UnionRenderers\"},{\"attributes\":{},\"id\":\"1088\",\"type\":\"Selection\"},{\"attributes\":{\"coordinates\":null,\"group\":null,\"text_color\":\"black\",\"text_font_size\":\"12pt\"},\"id\":\"1029\",\"type\":\"Title\"},{\"attributes\":{\"axis\":{\"id\":\"1037\"},\"coordinates\":null,\"grid_line_color\":null,\"group\":null,\"ticker\":null},\"id\":\"1040\",\"type\":\"Grid\"},{\"attributes\":{},\"id\":\"1119\",\"type\":\"Selection\"},{\"attributes\":{},\"id\":\"1084\",\"type\":\"NodesAndLinkedEdges\"},{\"attributes\":{\"margin\":[0,0,0,0],\"min_width\":100,\"name\":\"Row00261\",\"width\":100},\"id\":\"1023\",\"type\":\"Row\"},{\"attributes\":{},\"id\":\"1033\",\"type\":\"LinearScale\"},{\"attributes\":{\"coordinates\":null,\"edge_renderer\":{\"id\":\"1071\"},\"group\":null,\"inspection_policy\":{\"id\":\"1084\"},\"layout_provider\":{\"id\":\"1059\"},\"node_renderer\":{\"id\":\"1065\"},\"selection_policy\":{\"id\":\"1082\"}},\"id\":\"1073\",\"type\":\"GraphRenderer\"},{\"attributes\":{\"children\":[{\"id\":\"1262\"},{\"id\":\"1266\"}],\"margin\":[0,0,0,0],\"name\":\"Row01830\"},\"id\":\"1261\",\"type\":\"Row\"},{\"attributes\":{},\"id\":\"1082\",\"type\":\"NodesOnly\"},{\"attributes\":{},\"id\":\"1035\",\"type\":\"LinearScale\"},{\"attributes\":{\"children\":[{\"id\":\"1258\"},{\"id\":\"1259\"}],\"margin\":[0,0,0,0],\"name\":\"Row00262\"},\"id\":\"1257\",\"type\":\"Row\"},{\"attributes\":{\"axis_label\":\"y\",\"coordinates\":null,\"formatter\":{\"id\":\"1054\"},\"group\":null,\"major_label_policy\":{\"id\":\"1055\"},\"ticker\":{\"id\":\"1042\"},\"visible\":false},\"id\":\"1041\",\"type\":\"LinearAxis\"},{\"attributes\":{\"icon\":null,\"label\":\"Next\",\"margin\":[5,10,5,10],\"min_width\":125,\"subscribed_events\":[\"button_click\"],\"width\":125},\"id\":\"1259\",\"type\":\"Button\"},{\"attributes\":{\"text\":{\"field\":\"Stage\"},\"text_align\":{\"value\":\"center\"},\"text_baseline\":{\"value\":\"middle\"},\"text_color\":{\"value\":\"black\"},\"x\":{\"field\":\"x\"},\"y\":{\"field\":\"y\",\"transform\":{\"id\":\"1086\"}}},\"id\":\"1090\",\"type\":\"Text\"},{\"attributes\":{\"axis_label\":\"x\",\"coordinates\":null,\"formatter\":{\"id\":\"1051\"},\"group\":null,\"major_label_policy\":{\"id\":\"1052\"},\"ticker\":{\"id\":\"1038\"},\"visible\":false},\"id\":\"1037\",\"type\":\"LinearAxis\"},{\"attributes\":{\"text\":{\"field\":\"Stage\"},\"text_align\":{\"value\":\"center\"},\"text_alpha\":{\"value\":0.1},\"text_baseline\":{\"value\":\"middle\"},\"text_color\":{\"value\":\"black\"},\"x\":{\"field\":\"x\"},\"y\":{\"field\":\"y\",\"transform\":{\"id\":\"1086\"}}},\"id\":\"1091\",\"type\":\"Text\"},{\"attributes\":{\"css_classes\":[\"markdown\"],\"margin\":[0,0,0,5],\"name\":\"Markdown00259\",\"text\":\"&lt;h2&gt;Stage: Stage 1&lt;/h2&gt;\"},\"id\":\"1022\",\"type\":\"panel.models.markup.HTML\"},{\"attributes\":{\"children\":[{\"id\":\"1263\"},{\"id\":\"1264\"},{\"id\":\"1265\"}],\"margin\":[5,5,5,5],\"min_width\":300,\"name\":\"Stage\",\"width\":300},\"id\":\"1262\",\"type\":\"Column\"},{\"attributes\":{},\"id\":\"1042\",\"type\":\"BasicTicker\"},{\"attributes\":{\"disabled\":true,\"icon\":null,\"label\":\"Previous\",\"margin\":[5,10,5,10],\"min_width\":125,\"subscribed_events\":[\"button_click\"],\"width\":125},\"id\":\"1258\",\"type\":\"Button\"},{\"attributes\":{\"callback\":null,\"renderers\":[{\"id\":\"1104\"}]},\"id\":\"1045\",\"type\":\"TapTool\"},{\"attributes\":{\"source\":{\"id\":\"1087\"}},\"id\":\"1094\",\"type\":\"CDSView\"},{\"attributes\":{\"text\":{\"field\":\"Stage\"},\"text_align\":{\"value\":\"center\"},\"text_alpha\":{\"value\":0.2},\"text_baseline\":{\"value\":\"middle\"},\"text_color\":{\"value\":\"black\"},\"x\":{\"field\":\"x\"},\"y\":{\"field\":\"y\",\"transform\":{\"id\":\"1086\"}}},\"id\":\"1092\",\"type\":\"Text\"},{\"attributes\":{},\"id\":\"1052\",\"type\":\"AllLabels\"},{\"attributes\":{\"angle\":{\"value\":0},\"text\":{\"field\":\"Stage\"},\"text_align\":{\"value\":\"center\"},\"text_alpha\":{\"value\":1.0},\"text_baseline\":{\"value\":\"middle\"},\"text_color\":{\"value\":\"black\"},\"text_font_style\":{\"value\":\"normal\"},\"text_line_height\":{\"value\":1.2},\"x\":{\"field\":\"x\"},\"x_offset\":{\"value\":0},\"y\":{\"field\":\"y\",\"transform\":{\"id\":\"1086\"}},\"y_offset\":{\"value\":0}},\"id\":\"1095\",\"type\":\"Text\"},{\"attributes\":{\"data\":{\"Stage\":[\"Stage 1\",\"Stage 2\"],\"x\":[0,1],\"y\":{\"__ndarray__\":\"AAAAAAAA4D8AAAAAAADgPw==\",\"dtype\":\"float64\",\"order\":\"little\",\"shape\":[2]}},\"selected\":{\"id\":\"1088\"},\"selection_policy\":{\"id\":\"1114\"}},\"id\":\"1087\",\"type\":\"ColumnDataSource\"},{\"attributes\":{\"margin\":[5,10,5,10],\"name\":\"\",\"text\":\"<b>Stage</b>\"},\"id\":\"1263\",\"type\":\"Div\"},{\"attributes\":{\"range\":null,\"value\":-0.3},\"id\":\"1086\",\"type\":\"Dodge\"},{\"attributes\":{\"margin\":[5,5,5,5],\"name\":\"LaTeX01826\",\"style\":{\"font-size\":\"2em\"},\"text\":\"$5 * 5 = 25$\\n$5^{5} = 3125$\"},\"id\":\"1267\",\"type\":\"panel.models.katex.KaTeX\"},{\"attributes\":{},\"id\":\"1114\",\"type\":\"UnionRenderers\"},{\"attributes\":{\"data\":{\"Stage\":[\"Stage 1\",\"Stage 2\"],\"State\":[\"active\",\"next\"],\"x\":[0,1],\"y\":{\"__ndarray__\":\"AAAAAAAA4D8AAAAAAADgPw==\",\"dtype\":\"float64\",\"order\":\"little\",\"shape\":[2]}},\"selected\":{\"id\":\"1097\"},\"selection_policy\":{\"id\":\"1116\"}},\"id\":\"1096\",\"type\":\"ColumnDataSource\"},{\"attributes\":{\"end\":10,\"margin\":[5,10,5,10],\"start\":0,\"step\":0.1,\"title\":\"A\",\"value\":5},\"id\":\"1264\",\"type\":\"Slider\"},{\"attributes\":{},\"id\":\"1051\",\"type\":\"BasicTickFormatter\"},{\"attributes\":{\"end\":10,\"margin\":[5,10,5,10],\"start\":0,\"step\":0.1,\"title\":\"B\",\"value\":5},\"id\":\"1265\",\"type\":\"Slider\"},{\"attributes\":{\"graph_layout\":{\"0\":[0,0.5],\"1\":[1,0.5]}},\"id\":\"1059\",\"type\":\"StaticLayoutProvider\"},{\"attributes\":{},\"id\":\"1120\",\"type\":\"UnionRenderers\"},{\"attributes\":{\"children\":[{\"id\":\"1267\"}],\"margin\":[0,0,0,0],\"name\":\"Row01825\"},\"id\":\"1266\",\"type\":\"Row\"},{\"attributes\":{\"coordinates\":null,\"data_source\":{\"id\":\"1087\"},\"glyph\":{\"id\":\"1090\"},\"group\":null,\"hover_glyph\":null,\"muted_glyph\":{\"id\":\"1092\"},\"nonselection_glyph\":{\"id\":\"1091\"},\"selection_glyph\":{\"id\":\"1095\"},\"view\":{\"id\":\"1094\"}},\"id\":\"1093\",\"type\":\"GlyphRenderer\"},{\"attributes\":{\"data\":{\"end\":{\"__ndarray__\":\"AQAAAA==\",\"dtype\":\"int32\",\"order\":\"little\",\"shape\":[1]},\"start\":{\"__ndarray__\":\"AAAAAA==\",\"dtype\":\"int32\",\"order\":\"little\",\"shape\":[1]}},\"selected\":{\"id\":\"1121\"},\"selection_policy\":{\"id\":\"1120\"}},\"id\":\"1058\",\"type\":\"ColumnDataSource\"},{\"attributes\":{},\"id\":\"1121\",\"type\":\"Selection\"},{\"attributes\":{\"tools\":[{\"id\":\"1026\"},{\"id\":\"1027\"},{\"id\":\"1045\"}]},\"id\":\"1046\",\"type\":\"Toolbar\"},{\"attributes\":{},\"id\":\"1116\",\"type\":\"UnionRenderers\"}],\"root_ids\":[\"1019\",\"1313\"]},\"title\":\"Bokeh Application\",\"version\":\"2.4.0\"}};\n",
       "    var render_items = [{\"docid\":\"c4d34e27-1cbd-4e09-aed4-1c8795a4a35d\",\"root_ids\":[\"1019\"],\"roots\":{\"1019\":\"6eac6084-cf4e-4a93-8f77-00d18201bbd0\"}}];\n",
       "    root.Bokeh.embed.embed_items_notebook(docs_json, render_items);\n",
       "  }\n",
       "  if (root.Bokeh !== undefined && root.Bokeh.Panel !== undefined && ( root['Tabulator'] !== undefined) && ( root['katex'] !== undefined)) {\n",
       "    embed_document(root);\n",
       "  } else {\n",
       "    var attempts = 0;\n",
       "    var timer = setInterval(function(root) {\n",
       "      if (root.Bokeh !== undefined && root.Bokeh.Panel !== undefined && (root['Tabulator'] !== undefined) && (root['katex'] !== undefined)) {\n",
       "        clearInterval(timer);\n",
       "        embed_document(root);\n",
       "      } else if (document.readyState == \"complete\") {\n",
       "        attempts++;\n",
       "        if (attempts > 200) {\n",
       "          clearInterval(timer);\n",
       "          console.log(\"Bokeh: ERROR: Unable to run BokehJS code because BokehJS library is missing\");\n",
       "        }\n",
       "      }\n",
       "    }, 25, root)\n",
       "  }\n",
       "})(window);</script>"
      ],
      "text/plain": [
       "Pipeline:\n",
       "    [0] Stage 1: Stage1()\n",
       "    [1] Stage 2: Stage2()"
      ]
     },
     "execution_count": 4,
     "metadata": {
      "application/vnd.holoviews_exec.v0+json": {
       "id": "1019"
      }
     },
     "output_type": "execute_result"
    }
   ],
   "source": [
    "# Build Output Pipeline:\n",
    "pipeline = pn.pipeline.Pipeline(debug=True)\n",
    "pipeline.add_stage('Stage 1', Stage1())\n",
    "pipeline.add_stage('Stage 2', Stage2)\n",
    "\n",
    "pipeline"
   ]
  },
  {
   "cell_type": "markdown",
   "id": "6a916f3f-99e0-478d-9d7f-69277134ab48",
   "metadata": {
    "tags": []
   },
   "source": [
    "# Load Session Data"
   ]
  },
  {
   "cell_type": "code",
   "execution_count": null,
   "id": "6eaedbac-5eaa-4cc3-a32e-2995085d673a",
   "metadata": {
    "tags": []
   },
   "outputs": [],
   "source": [
    "# KDiba Old Format:\n",
    "## Data must be pre-processed using the MATLAB script located here: \n",
    "# R:\\data\\KDIBA\\gor01\\one\\IIDataMat_Export_ToPython_2021_11_23.m\n",
    "# From pre-computed .mat files:\n",
    "# 07: \n",
    "basedir = r'R:\\data\\KDIBA\\gor01\\one\\2006-6-07_11-26-53'\n",
    "# # ## 08:\n",
    "# basedir = r'R:\\data\\KDIBA\\gor01\\one\\2006-6-08_14-26-15'\n",
    "sess = DataSessionLoader.kdiba_old_format_session(basedir)\n",
    "active_sess_config = sess.config\n",
    "session_name = sess.name\n",
    "\n",
    "# sess.spikes_df.size # (1014937, 18)\n",
    "# np.sum(sess.neurons.n_spikes) # 1014937\n",
    "print('session dataframe spikes: {}\\nsession.neurons.n_spikes summed: {}\\n'.format(sess.spikes_df.shape, np.sum(sess.neurons.n_spikes)))\n",
    "\n",
    "## Estimate the Session's Laps data using my algorithm from the loaded position data.\n",
    "sess = estimation_session_laps(sess)\n",
    "# ERROR: neuron_type value was of unknown type. type(value[0]): <class 'numpy.int32'>, value[0]: 0, \n",
    "#  type(value): <class 'numpy.ndarray'>, value: [0 0 0 0 1 0 0 0 0 0 0 1 0 1 1 0 0 1 1 0 0 0 0 0 0 0 0 0 1 2 1 0 0 1 2 1 0 0 1 1 0 1 0 0 0 0 0 1 1 2 2 0 1 0 1 0 0 1 1 0 0 0 0 2]!\n"
   ]
  },
  {
   "cell_type": "code",
   "execution_count": null,
   "id": "a724b641-d91e-411d-9e14-3e2a8635efb5",
   "metadata": {
    "tags": []
   },
   "outputs": [],
   "source": [
    "test_spikes_df = deepcopy(sess.spikes_df)\n",
    "# test_spikes_df['cell_type'].astype(int)\n",
    "\n",
    "test_value = test_spikes_df['cell_type'][0]\n",
    "\n",
    "test_value.name\n",
    "# test_value.value\n",
    "# 'NeuronType'\n",
    "# np.array([a_type.value for a_type in test_spikes_df['cell_type'].values])\n",
    "\n",
    "test_spikes_df.loc[:, 'cell_type'] = np.array([a_type.value for a_type in test_spikes_df['cell_type'].values])\n",
    "test_spikes_df\n",
    "\n",
    "# sess.spikes_df"
   ]
  },
  {
   "cell_type": "code",
   "execution_count": null,
   "id": "9a45726a-1701-4f83-a753-dbcbc1b0fb42",
   "metadata": {
    "tags": []
   },
   "outputs": [],
   "source": [
    "# np.min(sess.spikes_df.shank.values)\n",
    "sess.spikes_df\n",
    "# sess.panel_dataframes_overview()"
   ]
  },
  {
   "cell_type": "markdown",
   "id": "114dd37e-24e6-4369-8c40-58d01765141b",
   "metadata": {
    "slideshow": {
     "slide_type": "skip"
    },
    "tags": [
     "debug"
    ]
   },
   "source": [
    "### Lap Specific Session Debugging\n",
    "\n"
   ]
  },
  {
   "cell_type": "code",
   "execution_count": null,
   "id": "553ba0ab-e4bd-4afb-903b-7be256fd1b2d",
   "metadata": {},
   "outputs": [],
   "source": [
    "lap_specific_epochs = sess.laps.as_epoch_obj()\n",
    "# lap_specific_epochs.to_dataframe()\n",
    "any_lap_specific_epochs = lap_specific_epochs.label_slice(lap_specific_epochs.labels[np.arange(len(sess.laps.lap_id))])\n",
    "even_lap_specific_epochs = lap_specific_epochs.label_slice(lap_specific_epochs.labels[np.arange(0, len(sess.laps.lap_id), 2)])\n",
    "odd_lap_specific_epochs = lap_specific_epochs.label_slice(lap_specific_epochs.labels[np.arange(1, len(sess.laps.lap_id), 2)])"
   ]
  },
  {
   "cell_type": "markdown",
   "id": "fd7aeaa7-ec07-4f3d-b665-2874cd4a589f",
   "metadata": {
    "tags": []
   },
   "source": [
    "# Filter Session by Epoch:"
   ]
  },
  {
   "cell_type": "code",
   "execution_count": null,
   "id": "2582c6eb-bf20-4c7d-ad47-f551fc352471",
   "metadata": {},
   "outputs": [],
   "source": [
    "sess.epochs.t_start = 22.26 # exclude the first short period where the animal isn't on the maze yet\n",
    "# sess.epochs.to_dataframe()\n",
    "# active_epoch = sess.epochs.get_named_timerange('maze1')\n",
    "# print('active_epoch: {}'.format(active_epoch))\n",
    "# active_epoch = sess.epochs.get_named_timerange('maze2')\n",
    "active_epoch = NamedTimerange(name='maze', start_end_times=[sess.epochs['maze1'][0], sess.epochs['maze2'][1]])\n",
    "active_subplots_shape = (1,1) # Single subplot\n",
    "# active_subplots_shape = '1|2' # 1 subplot on left, two on right\n",
    "active_config = build_configs(active_sess_config, active_epoch, active_subplots_shape = active_subplots_shape)\n",
    "\n",
    "## All Spikes:\n",
    "active_epoch_session = sess.filtered_by_neuron_type('pyramidal').filtered_by_epoch(active_epoch)\n",
    "print_subsession_neuron_differences(sess.neurons, active_epoch_session.neurons)\n",
    "# print(sess.neurons.n_spikes)\n",
    "\n",
    "# # ## Lap_specific Spikes Only:\n",
    "# active_lap_specific_epoch_session = lap_specific_session.filtered_by_neuron_type('pyramidal').filtered_by_epoch(active_epoch)\n",
    "# print_subsession_neuron_differences(lap_specific_session.neurons, active_lap_specific_epoch_session.neurons)\n",
    "# # print(active_lap_specific_epoch_session.neurons.n_spikes)\n",
    "\n",
    "## Configure Placefield Calc:\n",
    "should_display_2D_plots = False\n",
    "should_save_to_disk = True\n",
    "\n",
    "\n",
    "# active_config.computation_config = PlacefieldComputationParameters(speed_thresh=1, grid_bin=2, smooth=0.5, frate_thresh=2.0)\n",
    "# active_config.computation_config = PlacefieldComputationParameters(speed_thresh=1, grid_bin=10, smooth=0.5, frate_thresh=2.0) # works well\n",
    "# active_config.computation_config = PlacefieldComputationParameters(speed_thresh=1, grid_bin=2.5, smooth=1.5, frate_thresh=2.0)\n",
    "# active_config.computation_config = PlacefieldComputationParameters(speed_thresh=1, grid_bin=(10, 3), smooth=(0.5, 0.5), frate_thresh=0.0)\n",
    "# active_config.computation_config = PlacefieldComputationParameters(speed_thresh=0.0, grid_bin=(3, 4), smooth=(2, 1), frate_thresh=2.0)\n",
    "# active_config.computation_config = PlacefieldComputationParameters(speed_thresh=1, grid_bin=(10, 10), smooth=(0.5, 0.5), frate_thresh=2.0) ## Works well for 2D Placemaps\n",
    "# height: 20.0\n",
    "# width: 250.0\n",
    "# active_config.computation_config = PlacefieldComputationParameters(speed_thresh=0, grid_bin=(2.0, 0.2), smooth=(0.5, 0.5), frate_thresh=2.0) ## Extremely Slow\n",
    "# active_config.computation_config = PlacefieldComputationParameters(speed_thresh=0, grid_bin=(2.0, 1.0), smooth=(0.5, 0.5), frate_thresh=2.0) ## Very slow, doesn't work\n",
    "\n",
    "# active_config.computation_config = PlacefieldComputationParameters(speed_thresh=1, grid_bin=(10, 3), smooth=(0.0, 0.0), frate_thresh=2.0)\n",
    "# active_config.computation_config = PlacefieldComputationParameters(speed_thresh=1, grid_bin=(10, 3), smooth=(0.1, 0.1), frate_thresh=2.0)\n",
    "# active_config.computation_config = PlacefieldComputationParameters(speed_thresh=1, grid_bin=(10, 3), smooth=(1.0, 10.0), frate_thresh=2.0)\n",
    "\n",
    "# active_config.computation_config = PlacefieldComputationParameters(speed_thresh=0.0, grid_bin=(25, 9), smooth=(0.0, 0.0), frate_thresh=2.0)\n",
    "# active_config.computation_config = PlacefieldComputationParameters(speed_thresh=0.0, grid_bin=(5, 3), smooth=(0.0, 0.0), frate_thresh=2.0)\n",
    "active_config.computation_config = PlacefieldComputationParameters(speed_thresh=0.0, grid_bin=(5, 3), smooth=(0.0, 0.0), frate_thresh=0.1) # TODO: FIXME: BUG: when frate_thresh=0.0, there are 0 good placefield_neuronIDs for all computations!\n",
    "\n",
    "\n",
    "# active_config.computation_config.frate_thresh = 0.0"
   ]
  },
  {
   "cell_type": "markdown",
   "id": "1ecf986f-31d1-479c-8592-1328593c7eb1",
   "metadata": {
    "tags": []
   },
   "source": [
    "### TESTING: position binning with _bin_pos_nD testing and validation:"
   ]
  },
  {
   "cell_type": "markdown",
   "id": "212608eb-26af-425d-92c0-a3309bf4727d",
   "metadata": {},
   "source": [
    "## Compute Placefields if needed:"
   ]
  },
  {
   "cell_type": "markdown",
   "id": "6742e705-6578-4b58-bdba-20cb5c4e870a",
   "metadata": {
    "tags": []
   },
   "source": [
    "## Compute the placefields for lap-only filtered Session:"
   ]
  },
  {
   "cell_type": "code",
   "execution_count": null,
   "id": "a9cb69a8-a54c-4bd6-8f31-552c12576b42",
   "metadata": {
    "tags": []
   },
   "outputs": [],
   "source": [
    "\n",
    "active_epoch_placefields1D, active_epoch_placefields2D = compute_placefields_masked_by_epochs(active_epoch_session, active_config, included_epochs=None, should_display_2D_plots=should_display_2D_plots)\n",
    "even_lap_specific_placefields1D, even_lap_specific_placefields2D = compute_placefields_masked_by_epochs(active_epoch_session, active_config, included_epochs=even_lap_specific_epochs, should_display_2D_plots=should_display_2D_plots)\n",
    "odd_lap_specific_placefields1D, odd_lap_specific_placefields2D = compute_placefields_masked_by_epochs(active_epoch_session, active_config, included_epochs=odd_lap_specific_epochs, should_display_2D_plots=should_display_2D_plots)\n",
    "any_lap_specific_placefields1D, any_lap_specific_placefields2D = compute_placefields_masked_by_epochs(active_epoch_session, active_config, included_epochs=any_lap_specific_epochs, should_display_2D_plots=should_display_2D_plots)\n",
    "# Compare the results\n",
    "# debug_print_ratemap(active_epoch_placefields1D.ratemap)\n",
    "# num_spikes_per_spiketrain = np.array([np.shape(a_spk_train)[0] for a_spk_train in active_epoch_placefields1D.spk_t])\n",
    "# num_spikes_per_spiketrain\n",
    "# print('placefield_neuronID_spikes: {}; ({} total spikes)'.format(num_spikes_per_spiketrain, np.sum(num_spikes_per_spiketrain)))\n",
    "\n",
    "debug_print_placefield(active_epoch_placefields1D)\n",
    "debug_print_placefield(any_lap_specific_placefields1D)\n",
    "debug_print_placefield(even_lap_specific_placefields1D)\n",
    "debug_print_placefield(odd_lap_specific_placefields1D)\n",
    "\n",
    "# Get the cell IDs that have a good place field mapping:\n",
    "active_placefields = deepcopy(any_lap_specific_placefields2D) # not changed this from the default placefields2D object\n",
    "good_placefield_neuronIDs = np.array(active_placefields.ratemap.neuron_ids) # in order of ascending ID\n",
    "good_placefield_tuple_neuronIDs = active_placefields.neuron_extended_ids\n",
    "\n",
    "## Filter by neurons with good placefields only:\n",
    "good_placefields_session = active_epoch_session.get_by_id(good_placefield_neuronIDs) # Filter by good placefields only, and this fetch also ensures they're returned in the order of sorted ascending index ([ 2  3  5  7  9 12 18 21 22 23 26 27 29 34 38 45 48 53 57])\n",
    "good_placefields_session\n",
    "    \n",
    "pf_sort_ind, pf_colors, pf_colormap, pf_listed_colormap = build_units_colormap(good_placefield_neuronIDs)\n",
    "active_config.plotting_config.pf_sort_ind = pf_sort_ind\n",
    "active_config.plotting_config.pf_colors = pf_colors\n",
    "active_config.plotting_config.active_cells_colormap = pf_colormap\n",
    "active_config.plotting_config.active_cells_listed_colormap = ListedColormap(active_config.plotting_config.active_cells_colormap)\n",
    "\n",
    "# active_placefields.ratemap.get_sort_indicies()\n",
    "good_placefield_neuronIDs"
   ]
  },
  {
   "cell_type": "markdown",
   "id": "34b870f1-0809-439a-8da3-c9dc17497dca",
   "metadata": {
    "tags": []
   },
   "source": [
    "# 2D Plotting"
   ]
  },
  {
   "cell_type": "code",
   "execution_count": null,
   "id": "ab8a7d5f-6773-4f43-9241-7c91d8b07834",
   "metadata": {
    "tags": []
   },
   "outputs": [],
   "source": [
    "from neuropy.plotting.ratemaps import plot_ratemap_2D, enumTuningMap2DPlotVariables, enumTuningMap2DPlotMode\n",
    "\n",
    "curr_fig_resolution_multiplier = 1.0\n",
    "curr_fig_column_width=8.0\n",
    "curr_fig_row_height=1.0\n",
    "\n",
    "plotted_unit_indicies=None # all # good subplots=(10,5)\n",
    "# curr_subplots=(10,5)\n",
    "# curr_single_plot_size=(4,1)\n",
    "# curr_figsize=(30,30)\n",
    "\n",
    "# plotted_unit_indicies=np.arange(5) # good subplots=(3,3)\n",
    "# curr_subplots=(3,2)\n",
    "# curr_figsize=(30,10)\n",
    "\n",
    "# plotted_unit_indicies=[1] # good subplots=(3,3)\n",
    "# curr_subplots=(1,1)\n",
    "# curr_figsize=(30,10)\n",
    "\n",
    "# plotted_unit_indicies=np.arange(8)\n",
    "# curr_subplots=(2,3)\n",
    "# curr_figsize=(30,10)\n",
    "\n",
    "# plotted_unit_indicies=np.arange(8+6)\n",
    "# curr_subplots=(2,3)\n",
    "# curr_figsize=(30,10)\n",
    "\n",
    "# plotted_unit_indicies=np.arange(8)\n",
    "# curr_subplots=(10,3)\n",
    "# curr_figsize=(30,10)\n",
    "# fig = plt.figure(fignum + fig_ind, figsize=active_figure_size, dpi=None, clear=True, facecolor='r')\n",
    "\n",
    "# plot_ratemap_2D(active_epoch_placefields2D.ratemap, plot_variable=enumTuningMap2DPlotVariables.FIRING_MAPS, figsize=(30, 30), subplots=(4,20), enable_spike_overlay=True, spike_overlay_spikes=active_epoch_placefields2D.spk_pos)\n",
    "# plot_ratemap_2D(active_epoch_placefields2D.ratemap, plot_variable=enumTuningMap2DPlotVariables.FIRING_MAPS, figsize=(30, 10), subplots=(2,3), enable_spike_overlay=True, spike_overlay_spikes=active_epoch_placefields2D.spk_pos, included_unit_indicies=np.arange(8))\n",
    "\n",
    "\n",
    "# plot_ratemap_2D(active_epoch_placefields2D.ratemap, plot_variable=enumTuningMap2DPlotVariables.FIRING_MAPS, plot_mode=enumTuningMap2DPlotMode.IMSHOW, figsize=curr_figsize, subplots=curr_subplots, enable_spike_overlay=True, spike_overlay_spikes=active_epoch_placefields2D.spk_pos, included_unit_indicies=plotted_unit_indicies)\n",
    "# plot_ratemap_2D(active_epoch_placefields2D.ratemap, plot_variable=enumTuningMap2DPlotVariables.FIRING_MAPS, plot_mode=enumTuningMap2DPlotMode.PCOLORFAST, figsize=curr_figsize, subplots=curr_subplots, enable_spike_overlay=True, spike_overlay_spikes=active_epoch_placefields2D.spk_pos, included_unit_indicies=plotted_unit_indicies)\n",
    "\n",
    "# plot_ratemap_2D(active_epoch_placefields2D.ratemap, plot_variable=enumTuningMap2DPlotVariables.TUNING_MAPS, plot_mode=enumTuningMap2DPlotMode.IMSHOW, figsize=curr_figsize, subplots=curr_subplots, enable_spike_overlay=True, spike_overlay_spikes=active_epoch_placefields2D.spk_pos, included_unit_indicies=plotted_unit_indicies)\n",
    "# plot_ratemap_2D(active_epoch_placefields2D.ratemap, plot_variable=enumTuningMap2DPlotVariables.TUNING_MAPS, plot_mode=enumTuningMap2DPlotMode.PCOLORFAST, figsize=curr_figsize, subplots=curr_subplots, enable_spike_overlay=True, spike_overlay_spikes=active_epoch_placefields2D.spk_pos, included_unit_indicies=plotted_unit_indicies)\n",
    "\n",
    "plot_ratemap_2D(active_epoch_placefields2D.ratemap, fig_column_width=curr_fig_column_width, fig_row_height=curr_fig_row_height, resolution_multiplier=curr_fig_resolution_multiplier, subplots=(None, 3), enable_spike_overlay=True, spike_overlay_spikes=active_epoch_placefields2D.spk_pos, included_unit_indicies=plotted_unit_indicies)"
   ]
  },
  {
   "cell_type": "code",
   "execution_count": 23,
   "id": "3c7b84b2-149f-4e10-b366-4059b53006a0",
   "metadata": {
    "tags": []
   },
   "outputs": [
    {
     "ename": "NameError",
     "evalue": "name 'active_epoch_placefields1D' is not defined",
     "output_type": "error",
     "traceback": [
      "\u001b[1;31m---------------------------------------------------------------------------\u001b[0m",
      "\u001b[1;31mNameError\u001b[0m                                 Traceback (most recent call last)",
      "\u001b[1;32m~\\AppData\\Local\\Temp/ipykernel_11588/4006156460.py\u001b[0m in \u001b[0;36m<module>\u001b[1;34m\u001b[0m\n\u001b[1;32m----> 1\u001b[1;33m \u001b[0max_pf_1D\u001b[0m\u001b[1;33m,\u001b[0m \u001b[0moccupancy_fig\u001b[0m\u001b[1;33m,\u001b[0m \u001b[0mactive_pf_2D_figures\u001b[0m\u001b[1;33m,\u001b[0m \u001b[0mactive_pf_2D_gs\u001b[0m \u001b[1;33m=\u001b[0m \u001b[0mplot_all_placefields\u001b[0m\u001b[1;33m(\u001b[0m\u001b[0mactive_epoch_placefields1D\u001b[0m\u001b[1;33m,\u001b[0m \u001b[0mactive_epoch_placefields2D\u001b[0m\u001b[1;33m,\u001b[0m \u001b[0mactive_config\u001b[0m\u001b[1;33m,\u001b[0m \u001b[0mshould_save_to_disk\u001b[0m\u001b[1;33m=\u001b[0m\u001b[0mshould_save_to_disk\u001b[0m\u001b[1;33m)\u001b[0m\u001b[1;33m\u001b[0m\u001b[1;33m\u001b[0m\u001b[0m\n\u001b[0m",
      "\u001b[1;31mNameError\u001b[0m: name 'active_epoch_placefields1D' is not defined"
     ]
    }
   ],
   "source": [
    "ax_pf_1D, occupancy_fig, active_pf_2D_figures, active_pf_2D_gs = plot_all_placefields(active_epoch_placefields1D, active_epoch_placefields2D, active_config, should_save_to_disk=should_save_to_disk)"
   ]
  },
  {
   "cell_type": "code",
   "execution_count": null,
   "id": "d1fdbb3c-ba6c-4ad4-ae5f-d9cb375999c7",
   "metadata": {
    "scrolled": true,
    "tags": []
   },
   "outputs": [],
   "source": [
    "any_lap_specific_ax_pf_1D, any_lap_specific_occupancy_fig, any_lap_specific_active_pf_2D_figures, any_lap_specific_active_pf_2D_gs = plot_all_placefields(any_lap_specific_placefields1D, any_lap_specific_placefields2D, active_config, variant_identifier_label='any_lap', should_save_to_disk=should_save_to_disk);"
   ]
  },
  {
   "cell_type": "code",
   "execution_count": null,
   "id": "82c8b0fb-22b5-4264-8922-40f1c0c287fa",
   "metadata": {
    "scrolled": true,
    "tags": []
   },
   "outputs": [],
   "source": [
    "even_lap_specific_ax_pf_1D, even_lap_specific_occupancy_fig, even_lap_specific_active_pf_2D_figures, even_lap_specific_active_pf_2D_gs = plot_all_placefields(even_lap_specific_placefields1D, even_lap_specific_placefields2D, active_config, variant_identifier_label='even_laps', should_save_to_disk=should_save_to_disk);"
   ]
  },
  {
   "cell_type": "code",
   "execution_count": null,
   "id": "e60ee93b-1815-4a67-98d2-da2f743205fc",
   "metadata": {
    "scrolled": true,
    "tags": []
   },
   "outputs": [],
   "source": [
    "odd_lap_specific_ax_pf_1D, odd_lap_specific_occupancy_fig, odd_lap_specific_active_pf_2D_figures, odd_lap_specific_active_pf_2D_gs = plot_all_placefields(odd_lap_specific_placefields1D, odd_lap_specific_placefields2D, active_config, variant_identifier_label='odd_laps', should_save_to_disk=should_save_to_disk);"
   ]
  },
  {
   "cell_type": "code",
   "execution_count": null,
   "id": "b016bfff-3354-4122-8498-a09365c70a81",
   "metadata": {
    "tags": []
   },
   "outputs": [],
   "source": [
    "from neuropy.plotting.placemaps import plot_occupancy_custom, plot_placefield_occupancy\n",
    "\n",
    "\n",
    "def test_plot_occupancy(active_placefields, should_overlay_animal_trajectory=True):\n",
    "    occupancy_fig = plt.Figure(figsize=(10,6))\n",
    "    occupancy_fig, occupancy_ax = plot_occupancy_custom(active_placefields.occupancy, active_placefields.ratemap.xbin_centers, active_placefields.ratemap.ybin_centers, max_normalized=True, fig=occupancy_fig)\n",
    "    if should_overlay_animal_trajectory:\n",
    "        # overlay animal position information to make sure they line up.\n",
    "        occupancy_ax.scatter(active_placefields.x, active_placefields.y, s=5, c='red', alpha=0.1)\n",
    "    return occupancy_fig, occupancy_ax\n",
    "\n",
    "\n",
    "# plot_occupancy_1D(even_lap_specific_placefields1D, True)\n",
    "# plot_occupancy_1D(even_lap_specific_placefields1D, False)\n",
    "# plot_placefield_occupancy(even_lap_specific_placefields2D)\n",
    "\n",
    "active_placefields = deepcopy(active_epoch_placefields2D)\n",
    "# active_placefields = deepcopy(even_lap_specific_placefields2D)\n",
    "\n",
    "# occupancy_fig, occupancy_ax = test_plot_occupancy(active_placefields, should_overlay_animal_trajectory=True)\n",
    "# occupancy_fig, occupancy_ax = test_plot_occupancy(active_placefields, should_overlay_animal_trajectory=False)\n",
    "# occupancy_fig\n",
    "\n",
    "plot_placefield_occupancy(active_placefields)\n",
    "\n",
    "# # fig = plt.Figure()\n",
    "# fig, axs = plt.subplots(3, 1, figsize=(7, 15))\n",
    "\n",
    "# # even_lap_specific_placefields1D.occupancy.\n",
    "# # even_lap_specific_placefields1D.ratemap.xbin_centers\n",
    "# # np.shape(even_lap_specific_placefields1D.ratemap.xbin) # (214,)\n",
    "# # even_lap_specific_placefields1D.config.grid_bin_1D # 1\n",
    "# # np.shape(even_lap_specific_placefields1D.ratemap.xbin_centers) # 213\n",
    "\n",
    "# even_lap_specific_ax_pf_1D, even_lap_specific_occupancy_fig, even_lap_specific_active_pf_2D_figures = plot_all_placefields(even_lap_specific_placefields1D, even_lap_specific_placefields2D, active_config, variant_identifier_label='even_laps')\n",
    "\n",
    "# even_lap_specific_placefields1D.plot_ratemaps();\n",
    "# even_lap_specific_placefields1D.plot_ratemaps()"
   ]
  },
  {
   "cell_type": "code",
   "execution_count": null,
   "id": "070e15de-da89-4f16-b6ae-53d9e1fecb99",
   "metadata": {},
   "outputs": [],
   "source": [
    "## TODO: re-computed the simple spike-count \"raw\" tuning maps to make sure that the spikes actually fall into the bins with high counts. This will help debug both the computations and the plots.\n",
    "\n",
    "from neuropy.analyses.placefields import Pf2D\n",
    "from neuropy.core.ratemap import Ratemap\n",
    "\n",
    "spk_df = deepcopy(active_epoch_session.spikes_df)\n",
    "\n",
    "xbin = active_epoch_placefields2D.ratemap.xbin.copy()\n",
    "ybin = active_epoch_placefields2D.ratemap.ybin.copy()\n",
    "occupancy = active_epoch_placefields2D.occupancy.copy()\n",
    "\n",
    "neuron_split_spike_dfs = [spk_df.groupby('aclu').get_group(neuron_id)[['t','x','y','lin_pos']] for neuron_id in active_epoch_session.neuron_ids] # dataframes split for each ID:\n",
    "firing_maps = np.asarray([Pf2D._compute_tuning_map(neuron_split_spike_dfs[i].x.to_numpy(), neuron_split_spike_dfs[i].y.to_numpy(), xbin, ybin, occupancy, None, should_also_return_intermediate_firing_map=True) for i in np.arange(len(neuron_split_spike_dfs))]) # dataframes split for each ID:\n",
    "tuning_maps = np.asarray([firing_maps[i] / occupancy for i in np.arange(len(firing_maps))])\n",
    "ratemap = Ratemap(tuning_maps, xbin=xbin, ybin=ybin, neuron_ids=active_epoch_session.neuron_ids)\n",
    "\n",
    "## TODO: This is where I should I try to plot the 2D map and the spikes and see if they line up\n",
    "test_i = 9\n",
    "fig, ax = plot_occupancy_custom(firing_maps[test_i], xbin, ybin, max_normalized=False)\n",
    "ax.scatter(neuron_split_spike_dfs[test_i]['x'], neuron_split_spike_dfs[test_i]['y'], s=1, alpha=0.5)\n",
    "\n",
    "## LOOKS GOOD! They line up well!"
   ]
  },
  {
   "cell_type": "code",
   "execution_count": null,
   "id": "a8cff149-c9f6-48a2-a8d3-234668ce1128",
   "metadata": {},
   "outputs": [],
   "source": [
    "## Check Firing Maps (separate from Occupancy maps)\n",
    "\n",
    "## TODO: This is where I should I try to plot the 2D map and the spikes and see if they line up\n",
    "test_i = 9\n",
    "fig, ax = plot_occupancy_custom(firing_maps[test_i], xbin, ybin, max_normalized=False)\n",
    "ax.scatter(neuron_split_spike_dfs[test_i]['x'], neuron_split_spike_dfs[test_i]['y'], s=1, alpha=0.5)"
   ]
  },
  {
   "cell_type": "code",
   "execution_count": null,
   "id": "3b54bdef-5e15-4afe-8754-cbdeb1aa3e34",
   "metadata": {},
   "outputs": [],
   "source": [
    "# Group and Plot the different occupancy maps to compare them:\n",
    "occupany_tabs = pn.Tabs(('All', occupancy_fig))\n",
    "# Add multiple tabs\n",
    "occupany_tabs.extend([\n",
    "    ('Any Laps', any_lap_specific_occupancy_fig),\n",
    "    ('Even Laps', even_lap_specific_occupancy_fig),\n",
    "    ('Odd Laps', odd_lap_specific_occupancy_fig)\n",
    "])\n",
    "\n",
    "occupany_tabs"
   ]
  },
  {
   "cell_type": "code",
   "execution_count": null,
   "id": "6b76688b-3e5e-45ad-b6c1-8084fecbf972",
   "metadata": {},
   "outputs": [],
   "source": [
    "pf_1D_plots_row = pn.Row(ax_pf_1D[0].get_figure(), any_lap_specific_ax_pf_1D[0].get_figure(), even_lap_specific_ax_pf_1D[0].get_figure(), odd_lap_specific_ax_pf_1D[0].get_figure())\n",
    "pf_1D_plots_tab = pn.Column('# Pf 1D Plots', pf_1D_plots_row)\n",
    "\n",
    "pf_2D_plots_tab = pn.Column('# Pf 2D Plots', pn.Row(active_pf_2D_figures[0], any_lap_specific_active_pf_2D_figures[0], even_lap_specific_active_pf_2D_figures[0], odd_lap_specific_active_pf_2D_figures[0]))\n",
    "\n",
    "occupancy_plots_row = pn.Row(occupancy_fig, any_lap_specific_occupancy_fig, even_lap_specific_occupancy_fig, odd_lap_specific_occupancy_fig)\n",
    "occupancy_plots_tab = pn.Column('# Occupancy Plots', occupancy_plots_row)\n",
    "\n",
    "tabs = pn.Tabs()\n",
    "# Add multiple tabs\n",
    "tabs.extend([\n",
    "    ('Occupancy', occupancy_plots_tab),\n",
    "    ('Pf_1d', pf_1D_plots_tab),\n",
    "    ('Pf_2d', pf_2D_plots_tab)\n",
    "    \n",
    "    # ('Text', pn.widgets.TextInput()),\n",
    "    # ('Color', pn.widgets.ColorPicker())\n",
    "])\n",
    "\n",
    "tabs"
   ]
  },
  {
   "cell_type": "code",
   "execution_count": null,
   "id": "206d32f8-c809-4bf8-bd95-995a062fb5a1",
   "metadata": {},
   "outputs": [],
   "source": [
    "# print(np.unique(spk_df['aclu']))\n",
    "# print(np.unique(spk_df['unit_id']))\n",
    "\n",
    "curr_unit_idx = 3\n",
    "def plot_ratemap(curr_unit_idx = 3):\n",
    "    fig = Figure(figsize=(10, 6))\n",
    "    ax = fig.subplots()\n",
    "    mesh_X, mesh_Y = np.meshgrid(ratemap.xbin, ratemap.ybin)\n",
    "    pfmap = ratemap.tuning_curves[curr_unit_idx]\n",
    "    curr_pfmap = np.array(pfmap)\n",
    "    curr_pfmap = np.rot90(np.fliplr(curr_pfmap)) / np.nanmax(curr_pfmap)\n",
    "    ax.pcolormesh(mesh_X, mesh_Y, curr_pfmap, cmap='jet', vmin=0);\n",
    "    ax.set_title(f'TuningCurve[{curr_unit_idx}]')\n",
    "    pn.pane.Matplotlib(fig)\n",
    "    return fig\n",
    "\n",
    "# plot_ratemap(5)\n",
    "# pn.interact(plot_ratemap, curr_unit_idx=3)\n",
    "pn.interact(plot_ratemap, curr_unit_idx=widgets.IntSlider(start=0,end=ratemap.n_neurons,step=1,value=10))\n",
    "\n"
   ]
  },
  {
   "cell_type": "markdown",
   "id": "d4bca1e4-77d4-4a42-9883-57f0ff6431d4",
   "metadata": {
    "tags": [
     "plotting"
    ]
   },
   "source": [
    "## Main Spike/Placemap plotting:"
   ]
  },
  {
   "cell_type": "markdown",
   "id": "cf894fae-cd96-472f-baa4-9701643f046b",
   "metadata": {
    "tags": []
   },
   "source": [
    "# 2D Lap Plotting"
   ]
  },
  {
   "cell_type": "markdown",
   "id": "88d958ca-37e6-4ee8-844d-8d9badb4e4d8",
   "metadata": {
    "tags": []
   },
   "source": [
    "### 2D Lap Trajectories Visualization:"
   ]
  },
  {
   "cell_type": "markdown",
   "id": "f52715ea-4f27-4f41-9052-6957324f9699",
   "metadata": {
    "tags": []
   },
   "source": [
    "## 2D Placefield Plotting:"
   ]
  },
  {
   "cell_type": "code",
   "execution_count": null,
   "id": "b890dda3-9d7a-4c8a-b78d-d6bd924f0986",
   "metadata": {
    "scrolled": true,
    "tags": []
   },
   "outputs": [],
   "source": [
    "# import matplotlib as mpl\n",
    "# mpl.rcParams.update(mpl.rcParamsDefault)\n",
    "from PhoPositionalData.plotting.placefield import plot_1d_placecell_validations\n",
    "# out_figures_list = plot_1d_placecell_validations(active_epoch_placefields1D, active_config.plotting_config, should_save=True, save_mode='pdf')\n",
    "# out_figures_list = plot_1d_placecell_validations(active_epoch_placefields1D, active_config.plotting_config, should_save=True, save_mode='separate_files')\n",
    "out_figures_list = plot_1d_placecell_validations(active_epoch_placefields1D, active_config.plotting_config, modifier_string='lap_only', should_save=False)\n"
   ]
  },
  {
   "cell_type": "code",
   "execution_count": null,
   "id": "d66530e8-b2f1-4794-9d92-9b208e4d4fde",
   "metadata": {
    "scrolled": true,
    "tags": []
   },
   "outputs": [],
   "source": [
    "out_figures_list = plot_1d_placecell_validations(even_lap_specific_placefields1D, active_config.plotting_config, should_save=False, save_mode='separate_files')"
   ]
  },
  {
   "cell_type": "code",
   "execution_count": null,
   "id": "6b263b33-6e6d-400d-a446-22a4a4c71fcc",
   "metadata": {
    "tags": []
   },
   "outputs": [],
   "source": [
    "# active_epoch_placefields2D.plotRaw()\n",
    "curr_cell_id = 39\n",
    "fig, ax = active_epoch_placefields2D.plotRaw_v_time(curr_cell_id)\n",
    "# ax[0].plot(t_both, x_both, 'k', alpha=0.8, linewidth=5)\n",
    "# ax[0].plot(t_even, x_even, 'g', alpha=0.3, linewidth=3)\n",
    "# ax[0].plot(t_odd, x_odd, 'r', alpha=0.3, linewidth=3)"
   ]
  },
  {
   "cell_type": "code",
   "execution_count": null,
   "id": "fd21e418-e33a-4824-a68a-ad98c77a69f5",
   "metadata": {
    "tags": []
   },
   "outputs": [],
   "source": [
    "active_epoch_placefields2D.plot_ratemaps_2D(figsize=(12,20), enable_spike_overlay=True)"
   ]
  },
  {
   "cell_type": "code",
   "execution_count": 22,
   "id": "907077d1-2a16-4fda-9fae-ab1f586cdb5d",
   "metadata": {},
   "outputs": [
    {
     "ename": "NameError",
     "evalue": "name 'sess' is not defined",
     "output_type": "error",
     "traceback": [
      "\u001b[1;31m---------------------------------------------------------------------------\u001b[0m",
      "\u001b[1;31mNameError\u001b[0m                                 Traceback (most recent call last)",
      "\u001b[1;32m~\\AppData\\Local\\Temp/ipykernel_11588/1708424132.py\u001b[0m in \u001b[0;36m<module>\u001b[1;34m\u001b[0m\n\u001b[0;32m      1\u001b[0m \u001b[1;32mfrom\u001b[0m \u001b[0mPhoPositionalData\u001b[0m\u001b[1;33m.\u001b[0m\u001b[0mplotting\u001b[0m\u001b[1;33m.\u001b[0m\u001b[0mlaps\u001b[0m \u001b[1;32mimport\u001b[0m \u001b[0mplot_lap_trajectories_2d\u001b[0m\u001b[1;33m\u001b[0m\u001b[1;33m\u001b[0m\u001b[0m\n\u001b[1;32m----> 2\u001b[1;33m \u001b[0mfig\u001b[0m\u001b[1;33m,\u001b[0m \u001b[0maxs\u001b[0m\u001b[1;33m,\u001b[0m \u001b[0mlaps_pages\u001b[0m \u001b[1;33m=\u001b[0m \u001b[0mplot_lap_trajectories_2d\u001b[0m\u001b[1;33m(\u001b[0m\u001b[0msess\u001b[0m\u001b[1;33m,\u001b[0m \u001b[0mcurr_num_subplots\u001b[0m\u001b[1;33m=\u001b[0m\u001b[0mlen\u001b[0m\u001b[1;33m(\u001b[0m\u001b[0msess\u001b[0m\u001b[1;33m.\u001b[0m\u001b[0mlaps\u001b[0m\u001b[1;33m.\u001b[0m\u001b[0mlap_id\u001b[0m\u001b[1;33m)\u001b[0m\u001b[1;33m,\u001b[0m \u001b[0mactive_page_index\u001b[0m\u001b[1;33m=\u001b[0m\u001b[1;36m0\u001b[0m\u001b[1;33m)\u001b[0m\u001b[1;33m\u001b[0m\u001b[1;33m\u001b[0m\u001b[0m\n\u001b[0m\u001b[0;32m      3\u001b[0m \u001b[0mfig\u001b[0m\u001b[1;33m.\u001b[0m\u001b[0msuptitle\u001b[0m\u001b[1;33m(\u001b[0m\u001b[1;34m'Lap Trajectories 2D'\u001b[0m\u001b[1;33m,\u001b[0m \u001b[0mfontsize\u001b[0m\u001b[1;33m=\u001b[0m\u001b[1;36m22\u001b[0m\u001b[1;33m)\u001b[0m\u001b[1;33m\u001b[0m\u001b[1;33m\u001b[0m\u001b[0m\n\u001b[0;32m      4\u001b[0m \u001b[1;31m# fig_out_path = active_config.plotting_config.get_figure_save_path('lap_trajectories_2D').with_suffix('.png')\u001b[0m\u001b[1;33m\u001b[0m\u001b[1;33m\u001b[0m\u001b[0m\n\u001b[0;32m      5\u001b[0m \u001b[1;31m# fig.savefig(fig_out_path)\u001b[0m\u001b[1;33m\u001b[0m\u001b[1;33m\u001b[0m\u001b[0m\n",
      "\u001b[1;31mNameError\u001b[0m: name 'sess' is not defined"
     ]
    }
   ],
   "source": [
    "from PhoPositionalData.plotting.laps import plot_lap_trajectories_2d\n",
    "fig, axs, laps_pages = plot_lap_trajectories_2d(sess, curr_num_subplots=len(sess.laps.lap_id), active_page_index=0)\n",
    "fig.suptitle('Lap Trajectories 2D', fontsize=22)\n",
    "# fig_out_path = active_config.plotting_config.get_figure_save_path('lap_trajectories_2D').with_suffix('.png')\n",
    "# fig.savefig(fig_out_path)\n",
    "plt.show()\n",
    "\n",
    "# p, axs, laps_pages = plot_lap_trajectories_2d(sess, curr_num_subplots=22, active_page_index=0)\n",
    "# p, axs, laps_pages = plot_lap_trajectories_2d(sess, curr_num_subplots=22, active_page_index=1)"
   ]
  },
  {
   "cell_type": "markdown",
   "id": "3ad08080-abb6-4373-b426-520cb0ac95f3",
   "metadata": {
    "tags": []
   },
   "source": [
    "# 3D Plots"
   ]
  },
  {
   "cell_type": "code",
   "execution_count": null,
   "id": "a8535e4c-1b06-4ed7-9e53-438a5e96593b",
   "metadata": {},
   "outputs": [],
   "source": [
    "## 3D Plot Selection\n",
    "list_3d_plot_types = ['Lap Trajectories', 'Tuning Curves', 'Occupancy', 'Spikes and Activity', 'Testing']"
   ]
  },
  {
   "cell_type": "markdown",
   "id": "fa48d74c-8e7a-4678-bea5-9415b270b1db",
   "metadata": {
    "tags": []
   },
   "source": [
    "### 3D Lap Trajectories Visualization:"
   ]
  },
  {
   "cell_type": "code",
   "execution_count": null,
   "id": "de3f980a-e486-4f84-91f4-7ecb8aa15b0b",
   "metadata": {},
   "outputs": [],
   "source": [
    "from PhoPositionalData.plotting.laps import plot_lap_trajectories_3d\n",
    "p, laps_pages = plot_lap_trajectories_3d(sess, curr_num_subplots=10, active_page_index=1)\n",
    "p.show()"
   ]
  },
  {
   "cell_type": "markdown",
   "id": "8dd9ebb1-1e31-44e1-8600-339b06db84a0",
   "metadata": {
    "tags": []
   },
   "source": [
    "## Tuning Curves 3D Plot:"
   ]
  },
  {
   "cell_type": "code",
   "execution_count": null,
   "id": "0a961759-c8a9-41dd-be02-a5fbd4e67179",
   "metadata": {
    "tags": []
   },
   "outputs": [],
   "source": [
    "from PhoGui.Panel.panel_placefield import build_all_placefield_output_panels, SingleEditablePlacefieldDisplayConfiguration, ActivePlacefieldsPlottingPanel\n",
    "from PhoGui.InteractivePlotter.InteractivePlaceCellTuningCurvesDataExplorer import InteractivePlaceCellTuningCurvesDataExplorer\n",
    "\n",
    "\n",
    "try: pActiveTuningCurvesPlotter\n",
    "except NameError: pActiveTuningCurvesPlotter = None # Checks variable p's existance, and sets its value to None if it doesn't exist so it can be checked in the next step\n",
    "ipcDataExplorer = InteractivePlaceCellTuningCurvesDataExplorer(active_config, active_epoch_session, active_epoch_placefields2D, active_config.plotting_config.pf_colors, extant_plotter=pActiveTuningCurvesPlotter)\n",
    "pActiveTuningCurvesPlotter = ipcDataExplorer.plot(pActiveTuningCurvesPlotter) # [2, 17449]\n",
    "\n",
    "# def update_included_cell_ids(curr_unit_idx, show_spikes):\n",
    "def update_included_cell_Indicies(included_cell_INDEXES, show_spikes=False):\n",
    "    \"\"\" Only used for the old ActivePlacefieldsPlottingPanel-style panel \"\"\"\n",
    "    # included_cell_INDEXES = [curr_unit_idx]\n",
    "    # included_cell_INDEXES = [ipcDataExplorer.get_cell_id_and_idx(cell_id=an_included_cell_ID)[0] for an_included_cell_ID in included_cell_ids]\n",
    "    included_cell_ids = [ipcDataExplorer.get_neuron_id_and_idx(neuron_i=an_included_cell_idx)[1] for an_included_cell_idx in included_cell_INDEXES]\n",
    "    # print(included_cell_ids)\n",
    "    ipcDataExplorer.update_active_placefields(included_cell_INDEXES) # actives only the placefields that have aclu values (cell ids) in the included_cell_ids array.\n",
    "    if show_spikes:\n",
    "        ipcDataExplorer.update_active_spikes(np.isin(ipcDataExplorer.active_session.spikes_df['aclu'], included_cell_ids))\n",
    "    else:\n",
    "        ipcDataExplorer.update_active_spikes(np.isin(ipcDataExplorer.active_session.spikes_df['aclu'], []))\n",
    "\n",
    "    ipcDataExplorer.gui['debug_console_widget'].add_line_to_buffer(f'cell_i: {included_cell_INDEXES}, cell_id: {included_cell_ids}')\n",
    "    # pn.pane.Matplotlib(fig)"
   ]
  },
  {
   "cell_type": "markdown",
   "id": "dfbf2b7c-8211-4697-a3b0-5edaa724b2b4",
   "metadata": {
    "tags": []
   },
   "source": [
    "### Build Dynamic Panel Interactive Controls for configuring Placefields:"
   ]
  },
  {
   "cell_type": "code",
   "execution_count": null,
   "id": "15489cdb-6992-4342-9518-9f61f55d7f5d",
   "metadata": {
    "tags": []
   },
   "outputs": [],
   "source": [
    "class EndButtonPanel(object):\n",
    "    debug_logging = False\n",
    "    \n",
    "    def __init__(self, pf_option_indicies=None, pf_option_selected_values=None, num_pfs=None, update_included_cell_Indicies_callback=None, **params):\n",
    "        super(EndButtonPanel, self).__init__(**params)\n",
    "        self.final_update_included_cell_Indicies_callback = None\n",
    "        if update_included_cell_Indicies_callback is not None:\n",
    "            if callable(update_included_cell_Indicies_callback):\n",
    "                self.final_update_included_cell_Indicies_callback = update_included_cell_Indicies_callback\n",
    "\n",
    "        # assert (self.final_update_included_cell_Indicies_callback is not None), \"An update_included_cell_Indicies_callback(x) callback is needed.\"\n",
    "\n",
    "    def btn_hide_all_callback(self, event):\n",
    "        if self.debug_logging:\n",
    "            print('EndButtonPanel.btn_hide_all_callback(...)')\n",
    "        ipcDataExplorer.clear_all_spikes_included()\n",
    "        ipcDataExplorer.update_active_placefields([])\n",
    "        # self.on_hide_all_placefields()\n",
    "\n",
    "    def btn_update_active_placefields(self, event):\n",
    "        if self.debug_logging:\n",
    "            print('EndButtonPanel.btn_update_active_placefields(...)')\n",
    "        # updated_pf_options_list_ints = ActivePlacefieldsPlottingPanel.options_to_int(self.cross_selector.value) # convert to ints\n",
    "        # self.on_update_active_placefields(updated_pf_options_list_ints)\n",
    "        \n",
    "    def panel(self):\n",
    "        # Panel pane and widget objects:\n",
    "        # Action Buttons:\n",
    "        self.button_hide_all = pn.widgets.Button(name='Hide All', width_policy='min')\n",
    "        self.button_hide_all.on_click(self.btn_hide_all_callback)\n",
    "        self.button_update = pn.widgets.Button(name='Refresh', button_type='primary', width_policy='min')\n",
    "        self.button_update.on_click(self.btn_update_active_placefields)\n",
    "        return pn.Column(self.button_hide_all, self.button_update, margin=0, width_policy='min', width=70)\n",
    "    \n",
    "def build_panel_interactive_placefield_visibility_controls(ipcDataExplorer):\n",
    "    out_panels = build_all_placefield_output_panels(ipcDataExplorer)\n",
    "    end_button_panel_obj = EndButtonPanel()\n",
    "    end_cap_buttons = end_button_panel_obj.panel()\n",
    "    out_row = pn.Row(*out_panels, end_cap_buttons, height=120)\n",
    "    # btn_occupancy_map_visibility = pn.widgets.Button(name='Occupancy Map Visibility', width_policy='min')\n",
    "    # # btn_occupancy_map_visibility = pn.widgets.Toggle(name='Occupancy Map Visibility', value=ipcDataExplorer.occupancy_plotting_config.isVisible, margin=0, width_policy='min')\n",
    "    # # btn_occupancy_map_visibility.on_clicks\n",
    "    # btn_occupancy_map_visibility.on_click(ipcDataExplorer.on_occupancy_plot_update_visibility)\n",
    "    # # btn_occupancy_map_visibility.on_click(ipcDataExplorer.on_occupancy_plot_config_updated)\n",
    "    # occupancy_widget = btn_occupancy_map_visibility\n",
    "    \n",
    "    occupancy_widget = ipcDataExplorer.occupancy_plotting_config.param\n",
    "    return pn.panel(pn.Column(out_row, pn.Row(occupancy_widget)))\n",
    "\n",
    "pane = build_panel_interactive_placefield_visibility_controls(ipcDataExplorer)\n",
    "pane"
   ]
  },
  {
   "cell_type": "code",
   "execution_count": null,
   "id": "91473fff-23d7-471a-b9f6-4d344444fde0",
   "metadata": {
    "tags": []
   },
   "outputs": [],
   "source": [
    "from neuropy.plotting.ratemaps import compute_data_extent, compute_data_aspect_ratio, corner_points_from_extents\n",
    "\n",
    "extent = compute_data_extent(active_epoch_placefields2D.ratemap.xbin, active_epoch_placefields2D.ratemap.ybin)\n",
    "xmin, xmax, ymin, ymax = extent\n",
    "print(f'xmin={xmin}, xmax={xmax}, ymin={ymin}, ymax={ymax}')\n",
    "# compute_aspect_ratio(active_epoch_placefields2D.ratemap.xbin, active_epoch_placefields2D.ratemap.ybin) # returns (8.0, Width_Height_Tuple(width=240.0, height=30.0))\n",
    "\n",
    "points = corner_points_from_extents(extent)\n",
    "# points = corner_points_from_extents(extent)\n",
    "# points = corner_points_from_extents([23, 260, 124, 154])\n",
    "\n",
    "# points = corner_points_from_extents([23, 260, 124, 154, 0, 1])\n",
    "print(f'points: {points}, np.shape(points): {np.shape(points)}') # np.shape(points): (4, 2)\n",
    "\n",
    "\n",
    "point_x = points[:,0]\n",
    "point_y = points[:,1]\n",
    "\n",
    "print(f'point_x: {point_x}, np.shape(point_x): {np.shape(point_x)}') # np.shape(points): (4, 2)"
   ]
  },
  {
   "cell_type": "code",
   "execution_count": null,
   "id": "0626eb5d-f0cb-4021-8029-6c9e606a0399",
   "metadata": {
    "tags": []
   },
   "outputs": [],
   "source": [
    "from PhoGui.InteractivePlotter.Mixins.ImagePlaneRendering import ImagePlaneRendering\n",
    "\n",
    "def plot_3d_image_plotter(active_epoch_placefields2D, image_file=r'output\\2006-6-07_11-26-53\\maze\\speedThresh_0.00-gridBin_5.00_3.00-smooth_0.00_0.00-frateThresh_0.10\\pf2D-Occupancy-maze-odd_laps-speedThresh_0.00-gridBin_5.00_3.00-smooth_0.00_0.00-frateThresh_0.png'):\n",
    "    loaded_image_tex = pv.read_texture(image_file)\n",
    "    pActiveImageTestPlotter = pvqt.BackgroundPlotter()\n",
    "    return ImagePlaneRendering.plot_3d_image(pActiveImageTestPlotter, active_epoch_placefields2D.ratemap.xbin, active_epoch_placefields2D.ratemap.ybin, active_epoch_placefields2D.ratemap.occupancy, loaded_image_tex=loaded_image_tex)\n",
    "    \n",
    "# Texture from file:\n",
    "image_file = r'output\\2006-6-07_11-26-53\\maze\\speedThresh_0.00-gridBin_5.00_3.00-smooth_0.00_0.00-frateThresh_0.10\\pf2D-Occupancy-maze-odd_laps-speedThresh_0.00-gridBin_5.00_3.00-smooth_0.00_0.00-frateThresh_0.png'\n",
    "pActiveImageTestPlotter = plot_3d_image_plotter(active_epoch_placefields2D, image_file=image_file)"
   ]
  },
  {
   "cell_type": "code",
   "execution_count": null,
   "id": "7f7cf37e-76eb-40b2-ac56-0964b7de5388",
   "metadata": {
    "tags": []
   },
   "outputs": [],
   "source": [
    "# origin = poly.center\n",
    "# origin[-1] -= poly.length / 3.0\n",
    "# projected = poly.project_points_to_plane(origin=origin)\n",
    "\n",
    "# ipcDataExplorer.occupancy_plotting_config.barOpacity = 0.9\n",
    "ipcDataExplorer.occupancy_plotting_config.isVisible = True\n",
    "print(ipcDataExplorer.occupancy_plotting_config.to_bars_plot_config_dict())\n",
    "print(ipcDataExplorer.occupancy_plotting_config.to_labels_plot_config_dict())"
   ]
  },
  {
   "cell_type": "code",
   "execution_count": null,
   "id": "da196702-89a7-434e-993f-025b5377df40",
   "metadata": {
    "tags": []
   },
   "outputs": [],
   "source": [
    "# from PhoPositionalData.plotting.graphs import plot_3d_binned_bars, plot_point_labels\n",
    "ipcDataExplorer.plot_occupancy_bars()\n",
    "pn.panel(ipcDataExplorer.occupancy_plotting_config.param)"
   ]
  },
  {
   "cell_type": "code",
   "execution_count": null,
   "id": "9e5f2f82-3451-4238-94c0-066f6f80c6ef",
   "metadata": {
    "tags": []
   },
   "outputs": [],
   "source": [
    "from PhoGui.InteractivePlotter.shared_helpers import PlotGroup, PlotGroupWrapper\n",
    "# vtkmodules.vtkRenderingOpenGL2.vtkOpenGLActor, vtkmodules.vtkRenderingCore.vtkActor2D\n",
    "\n",
    "plot_list = [plotActors['plot_3d_binned_bars_Occupancy']['main'], plotActors['plot_point_labels_OccupancyLabels']]\n",
    "# plot_list\n",
    "\n",
    "occupancy_bars_plotGroup = PlotGroupWrapper('3d_Occupancy_bars', {'plot_3d_binned_bars_Occupancy':plotActors['plot_3d_binned_bars_Occupancy']['main'], 'plot_point_labels_OccupancyLabels':plotActors['plot_point_labels_OccupancyLabels']})\n",
    "\n",
    "# occupancy_bars_plotGroup.blocks.SetVisibility(0)\n",
    "# for a_block in occupancy_bars_plotGroup.blocks:\n",
    "# for name in occupancy_bars_plotGroup.blocks.keys():\n",
    "#     a_block = occupancy_bars_plotGroup.blocks[name]\n",
    "#     a_block.SetVisibility(0)\n",
    "\n",
    "# occupancy_bars_plotGroup.plots\n",
    "\n",
    "\n",
    "# for a_plot_name, a_plot in enumerate(plot_list):\n",
    "#     a_plot.SetVisibility(0)\n",
    "\n",
    "occupancy_bars_plotGroup.GetVisibility()\n",
    "occupancy_bars_plotGroup.SetVisibility(1)\n",
    "    \n",
    "# for a_plot_name, a_plot in occupancy_bars_plotGroup.plots.items():\n",
    "#     a_plot.SetVisibility(1)\n",
    "    \n",
    "    \n",
    "# blocks = None\n",
    "blocks = pv.MultiBlock()\n",
    "# blocks.append(plotActors['plot_3d_binned_bars_Occupancy']['main'])\n",
    "# blocks.append(plotActors['plot_point_labels_OccupancyLabels'])"
   ]
  },
  {
   "cell_type": "code",
   "execution_count": null,
   "id": "d070d55f-5408-4ef8-97f5-e5ac088a1372",
   "metadata": {
    "tags": []
   },
   "outputs": [],
   "source": [
    "ipcDataExplorer.active_tuning_curve_render_configs"
   ]
  },
  {
   "cell_type": "code",
   "execution_count": null,
   "id": "c67e98d4-85a7-4001-b845-ffb613edaa11",
   "metadata": {
    "tags": []
   },
   "outputs": [],
   "source": [
    "ipcDataExplorer.occupancy_plot_actor"
   ]
  },
  {
   "cell_type": "code",
   "execution_count": null,
   "id": "161133e4-aae7-4add-8d44-a8fe99756a9f",
   "metadata": {
    "tags": []
   },
   "outputs": [],
   "source": [
    "included_cell_INDEXES = np.array([ipcDataExplorer.get_neuron_id_and_idx(neuron_id=an_included_cell_ID)[0] for an_included_cell_ID in ipcDataExplorer.spikes_df['aclu'].to_numpy()]) # get the indexes from the cellIDs\n",
    "ipcDataExplorer.spikes_df['cell_idx'] = included_cell_INDEXES.copy()\n",
    "\n",
    "\n",
    "\n",
    "# pd.set_op\n",
    "# pd.set_option('display.max_rows', 24)\n",
    "\n",
    "\n",
    "\n",
    "\n",
    "## ERROR:\n",
    "# aclu: 42, unit_id: 40, cell_idx: 26\n",
    "# aclu: 42, unit_id: 43, cell_idx: 28\n",
    "\n",
    "# np.unique(ipcDataExplorer.spikes_df.aclu) # array([ 2,  3,  4,  5,  7,  8,  9, 10, 11, 12, 14, 17, 18, 21, 22, 23, 24, 25, 26, 27, 28, 29, 33, 34, 38, 39, 42, 44, 45, 46, 47, 48, 53, 55, 57, 58, 61, 62, 63, 64])\n",
    "        \n",
    "# ipython\n",
    "\n",
    "\n",
    "\n",
    "\n",
    "# sort_idx = np.sort(ipcDataExplorer.spikes_df.aclu.to_numpy())\n",
    "\n",
    "temp = deepcopy(ipcDataExplorer.spikes_df[['aclu','unit_id','cell_idx']])\n",
    "# temp.sort_values(by=['aclu'])\n",
    "temp.sort_values(by=['cell_idx','aclu'])\n",
    "\n",
    "for a_cell_idx in np.unique(temp['cell_idx']):\n",
    "    print(temp[temp['cell_idx'] == a_cell_idx])\n",
    "    \n",
    "    # print(np.unique(temp[temp['cell_idx'] == a_cell_idx]))\n",
    "\n",
    "# np.unique(temp[temp['aclu'] == 2])"
   ]
  },
  {
   "cell_type": "code",
   "execution_count": null,
   "id": "d107ca58-0d1d-4a18-9b55-6541217f4509",
   "metadata": {
    "tags": []
   },
   "outputs": [],
   "source": [
    "#     # single_pf_output_panels = [build_single_placefield_output_panel(ipcDataExplorer.params.unit_labels[i], ipcDataExplorer.params.pf_colors[:,i]) for i in ipcDataExplorer.visible_tuning_curve_indicies] # only for the currently visible\n",
    "    \n",
    "#     hex_colors\n",
    "\n",
    "# ipcDataExplorer.active_tuning_curve_render_configs\n",
    "\n",
    "# build_all_placefield_output_panels(ipcDataExplorer)\n",
    "\n",
    "from PhoGui.Panel.panel_placefield import ActivePlacefieldsPlottingPanel\n",
    "\n",
    "active_new_pf_panel = ActivePlacefieldsPlottingPanel(np.arange(ipcDataExplorer.num_tuning_curve_plot_actors), ipcDataExplorer.visible_tuning_curve_indicies, num_pfs=len(ipcDataExplorer.visible_tuning_curve_indicies),\n",
    "                                                     update_included_cell_Indicies_callback=update_included_cell_Indicies)\n",
    "# active_new_pf_panel.panel()\n",
    "pf_pane = pn.panel(active_new_pf_panel)\n",
    "pf_pane"
   ]
  },
  {
   "cell_type": "code",
   "execution_count": null,
   "id": "9ca042b6-a04d-49d1-9fa5-eab7bb2965c2",
   "metadata": {
    "tags": []
   },
   "outputs": [],
   "source": [
    "# server = pf_pane.app('localhost:9999')\n",
    "# server\n",
    "# server.show()\n",
    "# server.stop()"
   ]
  },
  {
   "cell_type": "code",
   "execution_count": null,
   "id": "952c6c41-ee2b-4e66-bd62-1b082be7dcf3",
   "metadata": {
    "tags": []
   },
   "outputs": [],
   "source": [
    "# ipcDataExplorer.num_tuning_curve_plot_actors\n",
    "# ipcDataExplorer.params.unit_labels\n",
    "# ipcDataExplorer.params.keys()\n",
    "\n",
    "single_pf_output_panels = [build_single_placefield_output_panel(ipcDataExplorer.params.unit_labels[i], ipcDataExplorer.params.pf_colors[:,i]) for i in ipcDataExplorer.visible_tuning_curve_indicies] # only for the currently visible\n",
    "pn.Row(*single_pf_output_panels, height=120, margin=0, background='black')\n",
    "# ipcDataExplorer.params.pf_colors\n",
    "# ipcDataExplorer.params.unit_labels\n",
    "# ipcDataExplorer.params.unit_labels\n",
    "\n"
   ]
  },
  {
   "cell_type": "markdown",
   "id": "ea3a1442-b113-483e-94ab-880bf8e694fc",
   "metadata": {
    "slideshow": {
     "slide_type": "skip"
    },
    "tags": [
     "debug",
     "testing",
     "unfinished"
    ]
   },
   "source": [
    "### Tuning-Curve Height Spikes Plot Testing:"
   ]
  },
  {
   "cell_type": "code",
   "execution_count": null,
   "id": "e4490d4f-208f-490e-a1bd-38d3de7c352a",
   "metadata": {
    "tags": []
   },
   "outputs": [],
   "source": [
    "# # included_cell_ids = [2, 3, 14, 22, 29, 42, 48, 61]\n",
    "# included_cell_ids = [14, 39]\n",
    "# included_cell_INDEXES = [ipcDataExplorer.get_cell_id_and_idx(cell_id=an_included_cell_ID)[0] for an_included_cell_ID in included_cell_ids]\n",
    "# print(included_cell_INDEXES)\n",
    "\n",
    "\n",
    "\n",
    "\n",
    "# update_included_cell_ids(5)\n",
    "# interact(update_included_cell_ids, curr_unit_idx=(0,(active_epoch_placefields2D.ratemap.n_neurons-1)))\n",
    "interact(update_included_cell_ids, curr_unit_idx=(0,(active_epoch_placefields2D.ratemap.n_neurons-1)), show_spikes=False)\n",
    "# interact_manual(update_included_cell_ids, curr_unit_idx=widgets.IntSlider(start=0, end=active_epoch_placefields2D.ratemap.n_neurons, step=1, value=10))"
   ]
  },
  {
   "cell_type": "code",
   "execution_count": null,
   "id": "2642c5d4-0a0e-42da-a777-9f956a8a351a",
   "metadata": {
    "tags": []
   },
   "outputs": [],
   "source": [
    "# def func1(x):\n",
    "#     return 5*x\n",
    "\n",
    "# # Create a grid around that surface\n",
    "# grid = pv.create_grid(surface)\n",
    "# # Clip the grid using the surface\n",
    "# model = grid.clip_surface(surface)\n",
    "# # Compute height and display it\n",
    "# model.elevation().plot()\n",
    "\n",
    "\n",
    "# interact(func1, x=(0,(active_epoch_placefields2D.ratemap.n_neurons-1)))\n",
    "\n",
    "# # interact_manual(func1, x=(0,(active_epoch_placefields2D.ratemap.n_neurons-1)))\n",
    "# # interact(func1, x=IntSlider(min=10, max=50, value=25, step=2, description=\"Integer Slider\"))\n",
    "\n",
    "\n",
    "    \n",
    "item_layout = widgets.Layout(height='120px', min_width='40px')\n",
    "items = [pn.Row(a_widget, layout=item_layout, margin=0, background='black') for a_widget in single_pf_output_panels]\n",
    "\n",
    "# items = [widgets.Button(layout=item_layout, description=str(i), button_style='success') for i in range(40)]\n",
    "# build_carousel_scroller(items)\n",
    "build_carousel_scroller(single_pf_output_panels)\n"
   ]
  },
  {
   "cell_type": "code",
   "execution_count": null,
   "id": "f04a7fbf-60a5-454a-b4bf-12375f9e29ea",
   "metadata": {
    "tags": []
   },
   "outputs": [],
   "source": [
    "cell_idx_int_slider = widgets.IntSlider(min=0, max=(active_epoch_placefields2D.ratemap.n_neurons-1), value=10, step=1, description=\"Cell Index Int Slider\")\n",
    "cell_idx_int_slider"
   ]
  },
  {
   "cell_type": "code",
   "execution_count": null,
   "id": "1ae916c1-86cb-4195-b882-1fe683b3ed24",
   "metadata": {
    "tags": []
   },
   "outputs": [],
   "source": [
    "interact(func1, x=cell_idx_int_slider)"
   ]
  },
  {
   "cell_type": "code",
   "execution_count": null,
   "id": "5c038f32-724a-458a-a033-959a85f4c661",
   "metadata": {
    "tags": []
   },
   "outputs": [],
   "source": [
    "## Test Hiding/Showing Displayed Tuning Curves for Given CellIDs:\n",
    "ipcDataExplorer.update_active_placefields(included_cell_INDEXES) # actives only the placefields that have aclu values (cell ids) in the included_cell_ids array.    "
   ]
  },
  {
   "cell_type": "code",
   "execution_count": null,
   "id": "8f9bbb99-f6c1-408c-8bc9-4503ddc55267",
   "metadata": {
    "tags": []
   },
   "outputs": [],
   "source": [
    "## Test Hiding/Showing Display Spikes for Given CellIDs:\n",
    "ipcDataExplorer.update_active_spikes(np.isin(ipcDataExplorer.active_session.spikes_df['aclu'], included_cell_ids))"
   ]
  },
  {
   "cell_type": "code",
   "execution_count": null,
   "id": "9bc983a9-8004-4f21-8232-051b493d201f",
   "metadata": {
    "tags": []
   },
   "outputs": [],
   "source": [
    "\n",
    "# np.where(np.logical_not(np.isnan(spike_pf_heights_2D[cell_i]))) # spike_pf_heights_2D: all NaN\n",
    "\n",
    "# Add a custom z override for the spikes but with the default value so nothing is changed:\n",
    "ipcDataExplorer.active_session.spikes_df['z'] = np.full_like(ipcDataExplorer.active_session.spikes_df['x'].values, 1.1) # Offset a little bit in the z-direction so we can see it\n",
    "\n",
    "# set the z values for the current cell index to the heights offset for that cell:\n",
    "ipcDataExplorer.active_session.spikes_df.loc[(ipcDataExplorer.active_session.spikes_df.aclu == curr_cell_id), 'z'] = spike_pf_heights_2D[cell_i]\n",
    "\n",
    "ipcDataExplorer.update_spikes()\n",
    "# ipcDataExplorer.plot()\n",
    "# ipcDataExplorer.plots['spikes_pf_active'] = ipcDataExplorer.p.add_mesh(historical_spikes_pc, name='spikes_pf_active', scalars='cellID', cmap=ipcDataExplorer.active_config.plotting_config.active_cells_listed_colormap, show_scalar_bar=False, lighting=False, render=False)\n",
    "\n",
    "\n",
    "# turn on specific pf: (aclu == 14)\n"
   ]
  },
  {
   "cell_type": "code",
   "execution_count": null,
   "id": "87fdb497-08db-4156-b32b-989f948b5b5f",
   "metadata": {
    "tags": []
   },
   "outputs": [],
   "source": [
    "active_epoch_session.position\n",
    "\n",
    "vectors = [[0, 0, 10.0]] * len(active_epoch_session.spikes_df['x']) # just up in the z-direction\n",
    "spike_series_positions = active_epoch_session.spikes_df[['x','y']].to_numpy().T    \n",
    "z_fixed = np.full_like(spike_series_positions[0,:], 1.1) # Offset a little bit in the z-direction so we can see it\n",
    "origins = np.vstack((spike_series_positions[0,:], spike_series_positions[1,:], z_fixed)).T\n",
    "# origins\n",
    "\n",
    "# Perform ray trace\n",
    "# Define line segment\n",
    "# start = [0, 0, 0]\n",
    "# stop = [0.25, 1, 0.5]\n",
    "\n",
    "curr_idx = 0\n",
    "curr_tuning_curve_mesh = ipcDataExplorer.plots['tuningCurvePlotActors'][curr_idx]\n",
    "start = origins[curr_idx]\n",
    "stop = start + vectors[curr_idx]\n"
   ]
  },
  {
   "cell_type": "markdown",
   "id": "57076118-8e5f-496e-b06f-d1be2491d590",
   "metadata": {
    "pycharm": {
     "name": "#%%\n"
    },
    "tags": []
   },
   "source": [
    "## Interactive 3D Spike and Behavior Browser: "
   ]
  },
  {
   "cell_type": "code",
   "execution_count": null,
   "id": "14318f45-b618-43a5-9f77-201cfac02b9d",
   "metadata": {
    "pycharm": {
     "name": "#%%\n"
    },
    "tags": []
   },
   "outputs": [],
   "source": [
    "import PhoGui\n",
    "from PhoGui.InteractivePlotter.PhoInteractivePlotter import PhoInteractivePlotter\n",
    "from PhoGui.InteractivePlotter.shared_helpers import InteractivePyvistaPlotterBuildIfNeededMixin\n",
    "from PhoGui.InteractivePlotter.InteractivePlaceCellDataExplorer import InteractivePlaceCellDataExplorer\n",
    "\n",
    "active_config.plotting_config.show_legend = True\n",
    "\n",
    "try: pActiveInteractivePlaceSpikesPlotter\n",
    "except NameError: pActiveInteractivePlaceSpikesPlotter = None # Checks variable p's existance, and sets its value to None if it doesn't exist so it can be checked in the next step\n",
    "ipspikesDataExplorer = InteractivePlaceCellDataExplorer(active_config, active_epoch_session, extant_plotter=pActiveInteractivePlaceSpikesPlotter)\n",
    "pActiveInteractivePlaceSpikesPlotter = ipspikesDataExplorer.plot(pActivePlotter=pActiveInteractivePlaceSpikesPlotter)"
   ]
  },
  {
   "cell_type": "markdown",
   "id": "b7bdbf90-b7c6-44c9-8e6e-5bfba6563ebe",
   "metadata": {
    "tags": []
   },
   "source": [
    "## CustomDataExplorer 3D Plotter:"
   ]
  },
  {
   "cell_type": "code",
   "execution_count": null,
   "id": "b2dee0cf-211e-43ea-89a6-9a41a24d814f",
   "metadata": {},
   "outputs": [],
   "source": [
    "from PhoGui.InteractivePlotter.InteractiveCustomDataExplorer import InteractiveCustomDataExplorer\n",
    "active_laps_config = InteractivePlaceCellConfig(active_session_config=sess.config, active_epochs=None, video_output_config=None, plotting_config=None) # '3|1    \n",
    "active_laps_config.plotting_config = PlottingConfig(output_subplots_shape='1|5', output_parent_dir=Path('output', sess.config.session_name, 'custom_laps'))\n",
    "\n",
    "try: pActiveInteractiveLapsPlotter\n",
    "except NameError: pActiveInteractiveLapsPlotter = None # Checks variable p's existance, and sets its value to None if it doesn't exist so it can be checked in the next step\n",
    "iplapsDataExplorer = InteractiveCustomDataExplorer(active_laps_config, sess, extant_plotter=pActiveInteractiveLapsPlotter)\n",
    "pActiveInteractiveLapsPlotter = iplapsDataExplorer.plot(pActivePlotter=pActiveInteractiveLapsPlotter)"
   ]
  },
  {
   "cell_type": "code",
   "execution_count": null,
   "id": "1e91d7b6-7aa1-4372-802f-9931e3988356",
   "metadata": {},
   "outputs": [],
   "source": [
    "len(sess.laps.lap_id) # 44"
   ]
  },
  {
   "cell_type": "code",
   "execution_count": null,
   "id": "876756ea-69ee-4cbc-bbd4-ff37050899f9",
   "metadata": {},
   "outputs": [],
   "source": [
    "for i in np.arange(len(sess.laps.lap_id)):\n",
    "    curr_lap_id = sess.laps.lap_id[i]\n",
    "    curr_lap_t_start, curr_lap_t_stop = sess.laps.get_lap_times(i)\n",
    "    curr_lap_position_traces = laps_position_traces[i]\n",
    "    plot_lap_trajectory_path_spline(iplapsDataExplorer, curr_lap_position_traces, curr_lap_id)"
   ]
  },
  {
   "cell_type": "code",
   "execution_count": null,
   "id": "86277544-9199-4b81-b85b-169fa1307a32",
   "metadata": {},
   "outputs": [],
   "source": [
    "# p = pv.Plotter(shape=(5, 1), border=True)\n",
    "p = pActiveInteractiveLapsPlotter\n",
    "num_laps_to_show = len(sess.laps.lap_id)\n",
    "num_laps_to_show = 5\n",
    "flat_lap_id_index = np.arange(len(sess.laps.lap_id))\n",
    "# subplot_lap_id_index = np.reshape([4,11])\n",
    "for i in np.arange(num_laps_to_show):\n",
    "    curr_lap_id = sess.laps.lap_id[i]\n",
    "    p.subplot(i, 0)\n",
    "    # curr_lap_t_start, curr_lap_t_stop = sess.laps.get_lap_times(i)\n",
    "    plot_lap_trajectory_path_spline(iplapsDataExplorer, laps_position_traces[i], curr_lap_id)\n",
    "    \n",
    "p.link_views()  # link all the views\n",
    "p.show()"
   ]
  },
  {
   "cell_type": "code",
   "execution_count": null,
   "id": "646febe2-b13c-4657-846c-779aa7c05fff",
   "metadata": {
    "scrolled": true,
    "tags": []
   },
   "outputs": [],
   "source": [
    "# def plot_placefields2D(pTuningCurves, active_placefields, pf_colors: np.ndarray, zScalingFactor=10.0, show_legend=False):\n",
    "\n",
    "#     # .threshold().elevation()\n",
    "\n",
    "#     curr_tuning_curves = active_placefields.ratemap.normalized_tuning_curves\n",
    "#     # curr_tuning_curves[curr_tuning_curves < 0.1] = np.nan\n",
    "#     curr_tuning_curves = curr_tuning_curves * zScalingFactor\n",
    "\n",
    "#     num_curr_tuning_curves = len(curr_tuning_curves)\n",
    "#     # Get the cell IDs that have a good place field mapping:\n",
    "#     good_placefield_neuronIDs = np.array(active_placefields.ratemap.neuron_ids) # in order of ascending ID\n",
    "#     tuningCurvePlot_x, tuningCurvePlot_y = np.meshgrid(active_placefields.ratemap.xbin_centers, active_placefields.ratemap.ybin_centers)\n",
    "\n",
    "#     pdata_currActiveNeuronTuningCurve = pv.StructuredGrid(tuningCurvePlot_x, tuningCurvePlot_y, curr_active_neuron_tuning_Curve)\n",
    "#     pdata_currActiveNeuronTuningCurve[\"Elevation\"] = curr_active_neuron_tuning_Curve.ravel(order=\"F\")\n",
    "        \n",
    "#     return pTuningCurves\n",
    "\n",
    "# plot_placefields2D(pTuningCurves, active_epoch_placefields\n",
    "\n",
    "# ipcDataExplorer.plots['spikes_pf_active']['cellID']\n",
    "\n",
    "# only_active_colormap = ipcDataExplorer.active_config.plotting_config.active_cells_listed_colormap.copy()\n",
    "# only_active_colormap\n",
    "test_full_pc_data = ipcDataExplorer.plots_data['spikes_pf_active']['historical_spikes_pc']\n",
    "\n",
    "# test_subset = test_full_pc_data.GetCellGhostArray()\n",
    "# test_subset = test_full_pc_data.GetCellData() # vtkmodules.vtkCommonDataModel.vtkCellData\n",
    "# test_subset = test_full_pc_data[test_full_pc_data['cellID'] == 55] # vtkmodules.vtkCommonDataModel.vtkCellData\n",
    "\n",
    "# test_subset = test_full_pc_data.GetGhostArray() # [test_full_pc_data['cellID'] == 55] # vtkmodules.vtkCommonDataModel.vtkCellData\n",
    "\n",
    "\n",
    "unique_ids = np.unique(test_full_pc_data['cellID']) # array([ 0,  1,  2,  3,  5,  7,  9, 10, 15, 16, 19, 20, 21, 22, 25, 26, 27, 31, 32, 36, 37, 40, 42, 43, 44, 45, 46, 51, 53, 55, 56])\n",
    "# count_arr = np.bincount(test_full_pc_data['cellID'])\n",
    "count_arr\n",
    "# array([ 3591,  3311,   231,  4410,     0,   910,     0,  4417,     0,\n",
    "#         1050,  2443,     0,     0,     0,     0,  2156,  6664,     0,\n",
    "#            0, 10052,  6286,  2394,  1561,     0,     0,  8827,  4788,\n",
    "#         6412,     0,     0,     0,   959,  2051,     0,     0,     0,\n",
    "#         4809,  2758,     0,     0,  1575,     0,  3465, 14861,  2212,\n",
    "#          777,  2772,     0,     0,     0,     0,  3206,     0,  4032,\n",
    "#            0,  6489,  2674], dtype=int64)\n",
    "\n",
    "# good_placefield_neuronIDs: [  5   8  10  13  14  16  19  21  23  25  28  31  32  33  36  37  41  49\n",
    "#   52  53  54  55  57  59  60  61  62  63  64  66  68  69  74  75  76  78\n",
    "#   83  86  88  89  90  92  96  98 105 108]; (46 good)\n",
    "\n",
    "# 1, 4, 6, 7, 8, 11, 18, 19, 21 ## CONCLUSION: the ones that work are indeed the non-zero entries, but the checkboxes work in reverse order to this array that's printed. Meaning you start at the end and work back.\n",
    "# len(count_arr) # 107\n",
    "print(unique_ids) # [  3   6   8  11  12  14  17  19  21  23  26  29  30  31  34  35  39  47\n",
    "  # 50  51  52  53  55  57  58  59  60  61  62  64  66  67  72  73  74  76\n",
    "  # 81  84  86  87  88  90  94  96 103 106]\n",
    "\n",
    "\n",
    "# uniques, indicies, inverse_indicies, count_arr = np.unique(active_epoch_session.spikes_df['aclu'].values, return_index=True, return_inverse=True, return_counts=True)\n",
    "# # count_arr = np.bincount(active_epoch_session.spikes_df['aclu'].values)\n",
    "# print('active_epoch_session.spikes_df unique aclu values: {}'.format(uniques))\n",
    "# print('active_epoch_session.spikes_df unique aclu value counts: {}'.format(count_arr))\n",
    "# print(len(uniques)) # 46 \n",
    "# uniques, indicies, inverse_indicies, count_arr = np.unique(active_epoch_session.spikes_df['unit_id'].values, return_index=True, return_inverse=True, return_counts=True)\n",
    "# # count_arr = np.bincount(active_epoch_session.spikes_df['unit_id'].values)\n",
    "# print('active_epoch_session.spikes_df unique unit_id values: {}'.format(uniques))\n",
    "# print('active_epoch_session.spikes_df unique unit_id value counts: {}'.format(count_arr))\n",
    "# print(len(uniques)) # 46 "
   ]
  },
  {
   "cell_type": "code",
   "execution_count": null,
   "id": "53837d28-4831-4655-8db6-f6b104ab0e38",
   "metadata": {},
   "outputs": [],
   "source": [
    "# pActiveTuningCurvesPlotter.export_obj('export.obj')\n",
    "# pActiveTuningCurvesPlotter.export_gltf('export.gltf')\n",
    "\n",
    "ipcDataExplorer.update_placefield_spike_visibility([38], True) # seems to work"
   ]
  },
  {
   "cell_type": "code",
   "execution_count": null,
   "id": "b9b25f57-c2f7-424d-8ba2-95d15deb3522",
   "metadata": {},
   "outputs": [],
   "source": [
    "ipcDataExplorer.update_placefield_spike_visibility([53], True) # seems to work"
   ]
  },
  {
   "cell_type": "code",
   "execution_count": null,
   "id": "b4ac6e02-fee8-4c30-811f-4d29de766b01",
   "metadata": {},
   "outputs": [],
   "source": [
    "ipcDataExplorer.update_placefield_spike_visibility([44, 53], True) # seems to work\n",
    "\n",
    "# test_subset\n",
    "# test_subset"
   ]
  },
  {
   "cell_type": "code",
   "execution_count": null,
   "id": "4fc26f9e-d03b-42c0-90e0-dfe4dfd3b2de",
   "metadata": {},
   "outputs": [],
   "source": [
    "ipcDataExplorer.update_placefield_spike_visibility([53, 44], False) # seems to work"
   ]
  },
  {
   "cell_type": "code",
   "execution_count": null,
   "id": "5e1bdbd9-9d3a-4c55-8b22-417adb733cad",
   "metadata": {},
   "outputs": [],
   "source": [
    "ipcDataExplorer.gui['tuningCurveSpikeVisibilityCallbacks'][1](False)\n",
    "# ipcDataExplorer.get_cell_index([2, 3])"
   ]
  },
  {
   "cell_type": "code",
   "execution_count": null,
   "id": "9e00b059-3073-45fb-94df-3b0c7b818d07",
   "metadata": {},
   "outputs": [],
   "source": [
    "mesh = ipcDataExplorer.plots_data['spikes_pf_active']['historical_spikes_pc'].cast_to_unstructured_grid()\n",
    "# mesh.n_cells\n",
    "mesh_unique_ids = np.unique(mesh['cellID'])\n",
    "print('n_cells: {}'.format(mesh.n_cells)) # 122143\n",
    "print('cellIDs of mesh: {}'.format(mesh_unique_ids))\n",
    "# np.unique(mesh['cellID']) # array([ 0,  1,  2,  3,  5,  7,  9, 10, 15, 16, 19, 20, 21, 22, 25, 26, 27, 31, 32, 36, 37, 40, 42, 43, 44, 45, 46, 51, 53, 55, 56])\n",
    "# ipcDataExplorer.hide_placefield_spikes([0,1,2,3], should_invert=True)\n",
    "# ipcDataExplorer.hide_placefield_spikes([23,2,34], should_invert=True)\n",
    "\n",
    "# ipcDataExplorer.hide_placefield_spikes([34], should_invert=True)\n",
    "ipcDataExplorer.hide_placefield_spikes([38], should_invert=False)"
   ]
  },
  {
   "cell_type": "code",
   "execution_count": null,
   "id": "182a1565-0a1f-423a-900f-c97e9cbbbb15",
   "metadata": {},
   "outputs": [],
   "source": [
    "# the list of spike times that occured for this cell:\n",
    "i = 2\n",
    "active_epoch_session.neurons.neuron_ids[i]\n",
    "active_epoch_session.neurons.spiketrains[i]\n",
    "\n",
    "# spikes_df = FlattenedSpiketrains.build_spike_dataframe(sess)\n"
   ]
  },
  {
   "cell_type": "code",
   "execution_count": null,
   "id": "34b2bd34-f09b-4c72-b02c-3650eea21f6e",
   "metadata": {
    "pycharm": {
     "name": "#%%\n"
    },
    "tags": []
   },
   "outputs": [],
   "source": [
    "## Timestamp Fixing:\n",
    "def tt(position_timestamps, t_begin, SampleRate):\n",
    "    return ((position_timestamps - t_begin) / (1e6 * SampleRate))\n",
    "\n",
    "# sess.laps.lap_start_stop_flat_idx\n",
    "\n",
    "sess.recinfo.dat_sampling_rate\n"
   ]
  },
  {
   "cell_type": "markdown",
   "id": "239326ba-1294-4655-9f34-10f25316b656",
   "metadata": {
    "tags": []
   },
   "source": [
    "# Programmatically change the animal position trail:"
   ]
  },
  {
   "cell_type": "code",
   "execution_count": null,
   "id": "b0e9a0b7-fcf2-442c-a36d-d72e89a73a9b",
   "metadata": {},
   "outputs": [],
   "source": [
    "curr_lap_id = int_input.value\n",
    "\n",
    "# plot_lap_trajectory_path(ipspikesDataExplorer, curr_lap_position_traces)\n",
    "plot_lap_trajectory_path_spline(ipspikesDataExplorer, curr_lap_position_traces)\n",
    "# curr_lap_t_start\n",
    "## TODO: enable showding/hiding the spikes for this data range programmatically in InteractivePlaceCellDataExplorer. \n",
    "# ipspikesDataExplorer.\n",
    "# curr_lap_spike_t_seconds\n",
    "# curr_lap_spike_indicies\n",
    "# active_epoch_session.flattened_spiketrains.spikes_df.t_seconds.values[curr_lap_spike_indicies] # index 145937 is out of bounds for axis 0 with size 19647"
   ]
  },
  {
   "cell_type": "code",
   "execution_count": null,
   "id": "c721731e-4a61-4656-adcf-da1386aee30d",
   "metadata": {},
   "outputs": [],
   "source": [
    "# From the laps and position dataframe, extract which lap every position belongs to:\n",
    "\n",
    "# curr_lap_position_df_is_included = curr_position_df['t'].between(laps_df['start'], laps_df['stop'], inclusive=True) # returns a boolean array indicating inclusion in teh current lap\n",
    "# curr_lap_position_df = curr_position_df[curr_lap_position_df_is_included] \n",
    "# curr_position_df['lap'] = np.NaN\n",
    "\n",
    "curr_position_df = sess.compute_position_laps()\n",
    "# curr_position_df.groupby('lap').groups[1] # returns the Int64Index\n",
    "# curr_position_df.groupby('lap').get_group(2)[['t','x','y','lin_pos']]\n",
    "\n",
    "lap_specific_position_dfs = [curr_position_df.groupby('lap').get_group(i)[['t','x','y','lin_pos']] for i in sess.laps.lap_id]\n",
    "lap_specific_position_dfs\n",
    "curr_lap_position_traces = [lap_pos_df[['x','y']].to_numpy().T for lap_pos_df in lap_specific_position_dfs]\n",
    "curr_lap_position_traces\n",
    "curr_lap_time_range = [[lap_pos_df[['t']].to_numpy()[0].item(), lap_pos_df[['t']].to_numpy()[-1].item()] for lap_pos_df in lap_specific_position_dfs]\n",
    "curr_lap_time_range"
   ]
  },
  {
   "cell_type": "code",
   "execution_count": null,
   "id": "90554b89-1a4f-43c0-a888-920d262d9557",
   "metadata": {},
   "outputs": [],
   "source": [
    "# .GetPosition() returns the actor's position, which is usually (0.0, 0.0, 0.0), and does not relate to the actor's data points\n",
    "# curr_animal_point = ipspikesDataExplorer.animal_location_trail.GetPosition()\n",
    "# curr_animal_point = ipspikesDataExplorer.animal_location_trail.GetXRange() # (44.23604202270508, 245.9059600830078)\n",
    "# print(curr_animal_point)\n",
    "# curr_animal_point = ipspikesDataExplorer.animal_location_trail.GetYRange() # (135.27638244628906, 145.448974609375)\n",
    "# print(curr_animal_point)\n",
    "# curr_animal_point = ipspikesDataExplorer.animal_location_trail.GetZRange() # (1.100000023841858, 1.100000023841858)\n",
    "\n",
    "curr_animal_point = np.array(ipspikesDataExplorer.animal_location_trail.GetCenter()) # (206.27755737304688, 140.15452575683594, 1.100000023841858)\n",
    "print('curr_animal_point: {}'.format(curr_animal_point))\n",
    "curr_animal_point # curr_animal_point\n",
    "\n",
    "# curr_animal_point = np.array([0, 0, 0])\n",
    "\n",
    "# curr_animal_point = np.column_stack((self.x[active_window_sample_indicies], self.y[active_window_sample_indicies], self.z_fixed))\n",
    "# ipspikesDataExplorer.on_programmatic_data_update(curr_animal_point=curr_animal_point)\n",
    "\n",
    "curr_debug_point = np.array(ipspikesDataExplorer.animal_location_trail.GetCenter()) # (206.27755737304688, 140.15452575683594, 1.100000023841858)\n",
    "ipspikesDataExplorer.perform_plot_location_point('debug_point_plot', curr_animal_point, color='r')\n",
    "\n",
    "curr_animal_point = np.array(ipspikesDataExplorer.animal_location_trail.GetCenter()) # not updated\n",
    "print('new curr_animal_point: {}'.format(curr_animal_point))"
   ]
  },
  {
   "cell_type": "code",
   "execution_count": null,
   "id": "64ac6391-89e5-4452-bbdb-12338332da7f",
   "metadata": {},
   "outputs": [],
   "source": [
    "# ipspikesDataExplorer.flattened_spike_positions_list\n",
    "\n",
    "active_epoch_session.flattened_spiketrains.time_slice(curr_lap_spike_t_seconds.values[0], curr_lap_spike_t_seconds.values[-1]).spikes_df"
   ]
  },
  {
   "cell_type": "code",
   "execution_count": null,
   "id": "176ffb93-dd70-4eae-86dc-4498d39f7c64",
   "metadata": {},
   "outputs": [],
   "source": [
    "curr_lap_dataframe"
   ]
  },
  {
   "cell_type": "code",
   "execution_count": null,
   "id": "964a1bec-6aa9-4942-b590-5b9e407106ee",
   "metadata": {},
   "outputs": [],
   "source": [
    "active_epoch_session.time_slice"
   ]
  },
  {
   "cell_type": "code",
   "execution_count": null,
   "id": "f9639c15-312d-4bbb-938a-0bc8a0d51a0e",
   "metadata": {},
   "outputs": [],
   "source": []
  },
  {
   "cell_type": "code",
   "execution_count": null,
   "id": "c5b81d4e-b4ff-4e2f-bb2b-dc753c1a0ff0",
   "metadata": {},
   "outputs": [],
   "source": [
    "## Adding interaction highlighters:\n",
    "pActiveInteractivePlaceSpikesPlotter."
   ]
  }
 ],
 "metadata": {
  "celltoolbar": "Tags",
  "interpreter": {
   "hash": "fde6e68fa8f5f4f0920a88ee99edd8d4121f14a57a7800ceb19ed197f25c05dc"
  },
  "kernelspec": {
   "display_name": "Python 3 (ipykernel)",
   "language": "python",
   "name": "python3"
  },
  "language_info": {
   "codemirror_mode": {
    "name": "ipython",
    "version": 3
   },
   "file_extension": ".py",
   "mimetype": "text/x-python",
   "name": "python",
   "nbconvert_exporter": "python",
   "pygments_lexer": "ipython3",
   "version": "3.9.7"
  },
  "toc-showtags": false
 },
 "nbformat": 4,
 "nbformat_minor": 5
}
