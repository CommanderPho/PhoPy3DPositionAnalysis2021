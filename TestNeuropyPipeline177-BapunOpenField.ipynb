{
 "cells": [
  {
   "cell_type": "code",
   "execution_count": null,
   "id": "88385873-48e4-4f1c-8e16-5274aa54df58",
   "metadata": {
    "scene__Default Scene": true,
    "tags": [
     "ActiveScene"
    ]
   },
   "outputs": [],
   "source": [
    "\"\"\"\n",
    "@author: pho\n",
    "\"\"\"\n",
    "## Automatic debugger on exception raised\n",
    "# %pdb on\n",
    "%pdb off\n",
    "%load_ext autoreload\n",
    "%autoreload 2\n",
    "# # You need to load the extension first\n",
    "# %load_ext viztracer\n",
    "\n",
    "import sys\n",
    "import importlib\n",
    "from pathlib import Path\n",
    "from copy import deepcopy\n",
    "\n",
    "from numba import jit\n",
    "import numpy as np\n",
    "import pandas as pd\n",
    "\n",
    "%config Completer.use_jedi = False\n",
    "\n",
    "# # required to enable non-blocking interaction:\n",
    "%gui qt5\n",
    "\n",
    "import pyphoplacecellanalysis.External.pyqtgraph as pg # Used to plot Speed vs. Pf Desnity Metrics\n",
    "from pyphoplacecellanalysis.External.pyqtgraph.Qt import QtCore, QtGui\n",
    "import pyphoplacecellanalysis.External.pyqtgraph.opengl as gl # for 3D raster plot\n",
    "\n",
    "# Pho's Formatting Preferences\n",
    "from pyphocorehelpers.preferences_helpers import set_pho_preferences, set_pho_preferences_concise, set_pho_preferences_verbose\n",
    "# set_pho_preferences()\n",
    "# np.set_printoptions(edgeitems=30, linewidth=100000, formatter=dict(float=lambda x: \"%g\" % x))\n",
    "# np.set_printoptions(edgeitems=None, linewidth=100000, formatter=None)\n",
    "set_pho_preferences_concise()\n",
    "\n",
    "# For Progress bars:\n",
    "# from tqdm.notebook import tqdm, trange\n",
    "\n",
    "## Pho's Custom Libraries:\n",
    "from pyphocorehelpers.general_helpers import get_arguments_as_optional_dict, inspect_callable_arguments\n",
    "from pyphocorehelpers.indexing_helpers import partition, build_spanning_bins, compute_spanning_bins, compute_position_grid_size, compute_paginated_grid_config\n",
    "from pyphocorehelpers.print_helpers import PrettyPrintable, WrappingMessagePrinter, print_keys_if_possible, debug_dump_object_member_shapes\n",
    "from pyphocorehelpers.DataStructure.dynamic_parameters import DynamicParameters\n",
    "from pyphocorehelpers.performance_timing_helpers import WrappingPerformanceTimer\n",
    "from pyphocorehelpers.gui.interaction_helpers import CallbackWrapper\n",
    "from pyphocorehelpers.Filesystem.open_in_system_file_manager import reveal_in_system_file_manager\n",
    "\n",
    "# pyPhoPlaceCellAnalysis:\n",
    "from pyphoplacecellanalysis.General.Pipeline.NeuropyPipeline import NeuropyPipeline # get_neuron_identities\n",
    "# from pyphoplacecellanalysis.General.SessionSelectionAndFiltering import batch_filter_session, build_custom_epochs_filters\n",
    "from neuropy.core.session.KnownDataSessionTypeProperties import KnownDataSessionTypeProperties\n",
    "\n",
    "from pyphoplacecellanalysis.General.Pipeline.Stages.ComputationFunctions.ComputationFunctionRegistryHolder import ComputationFunctionRegistryHolder\n",
    "from pyphoplacecellanalysis.General.Pipeline.Stages.DisplayFunctions.DisplayFunctionRegistryHolder import DisplayFunctionRegistryHolder\n",
    "\n",
    "# NeuroPy (Diba Lab Python Repo) Loading\n",
    "# from neuropy import core\n",
    "from neuropy.core.session.data_session_loader import DataSessionLoader\n",
    "from neuropy.core.session.dataSession import DataSession\n",
    "from neuropy.analyses.placefields import PlacefieldComputationParameters\n",
    "\n",
    "from neuropy.core.laps import Laps  # Used for adding laps in KDiba mode\n",
    "from neuropy.utils.efficient_interval_search import get_non_overlapping_epochs, drop_overlapping # Used for adding laps in KDiba mode\n",
    "\n",
    "from neuropy.core.epoch import NamedTimerange\n",
    "\n",
    "from neuropy.core.session.Formats.BaseDataSessionFormats import DataSessionFormatRegistryHolder, DataSessionFormatBaseRegisteredClass\n",
    "from neuropy.core.session.Formats.Specific.BapunDataSessionFormat import BapunDataSessionFormatRegisteredClass\n",
    "from neuropy.core.session.Formats.Specific.KDibaOldDataSessionFormat import KDibaOldDataSessionFormatRegisteredClass\n",
    "from neuropy.core.session.Formats.Specific.RachelDataSessionFormat import RachelDataSessionFormat\n",
    "from neuropy.core.session.Formats.Specific.HiroDataSessionFormat import HiroDataSessionFormatRegisteredClass\n",
    "\n",
    "## Plotting Helpers:\n",
    "from pyphoplacecellanalysis.GUI.PyQtPlot.pyqtplot_Matrix import MatrixRenderingWindow\n",
    "from pyphoplacecellanalysis.GUI.PyQtPlot.BinnedImageRenderingWindow import BasicBinnedImageRenderingWindow\n",
    "from pyphoplacecellanalysis.Pho2D.PyQtPlots.plot_placefields import pyqtplot_plot_image_array, pyqtplot_plot_image\n",
    "\n",
    "known_data_session_type_properties_dict = DataSessionFormatRegistryHolder.get_registry_known_data_session_type_dict()\n",
    "active_data_session_types_registered_classes_dict = DataSessionFormatRegistryHolder.get_registry_data_session_type_class_name_dict()\n",
    "# DataSessionFormatRegistryHolder.get_registry()\n",
    "\n",
    "enable_saving_to_disk = False\n",
    "# common_parent_foldername = Path(r'R:\\Dropbox (Personal)\\Active\\Kamran Diba Lib\\Pho-Kamran-Meetings\\Final Placemaps 2021-01-14')\n",
    "common_parent_foldername = Path(r'R:\\Dropbox (Personal)\\Active\\Kamran Diba Lib\\Pho-Kamran-Meetings\\2022-01-16')\n",
    "\n",
    "## Concise Numpy Array Printing:\n",
    "# np.set_string_function(lambda x:f'np.array[{np.shape(x)}]', repr=True)\n",
    "# # with np.printoptions(precision=2, edgeitems=2, linewidth=144):\n",
    "# with np.printoptions(precision=3, edgeitems=2, linewidth=100000):\n",
    "#     # active_computed_data['pf2D'].ratemap\n",
    "#     print(active_computed_data['pf2D'])\n",
    "#     # print(active_computed_data['pf2D'].ratemap)\n",
    "        \n",
    "# np.set_string_function(lambda x:f'np.array[{np.shape(x)}]', repr=True)\n",
    "# np.set_string_function(None, repr=True)\n",
    "\n",
    "from pyphocorehelpers.general_helpers import get_arguments_as_optional_dict, CodeConversion\n",
    "from pyphoplacecellanalysis.General.Pipeline.Stages.Loading import loadData, saveData\n",
    "\n",
    "## For computation parameters:\n",
    "from neuropy.analyses.placefields import PlacefieldComputationParameters\n",
    "from neuropy.utils.dynamic_container import DynamicContainer, override_dict, overriding_dict_with, get_dict_subset\n",
    "from neuropy.utils.position_util import compute_position_grid_size\n",
    "\n",
    "## Test Matplotlib plotting:\n",
    "from neuropy.utils.matplotlib_helpers import _build_variable_max_value_label, add_inner_title, enumTuningMap2DPlotMode, _build_square_checkerboard_image, enumTuningMap2DPlotVariables, compute_data_aspect_ratio\n",
    "\n",
    "# def build_eloy_computation_configs(sess, **kwargs):\n",
    "#     \"\"\" OPTIONALLY can be overriden by implementors to provide specific filter functions \"\"\"\n",
    "#     # (4.0, 4.0)cm bins, (6.0, 6.0)cm gaussian smoothing\n",
    "#     # peak frate > 2Hz \n",
    "#     # return [DynamicContainer(pf_params=PlacefieldComputationParameters(speed_thresh=10.0, grid_bin=(4.0, 4.0), smooth=(6.0, 6.0), frate_thresh=0.2, time_bin_size=1.0, computation_epochs = None), spike_analysis=None)]\n",
    "#     # return [DynamicContainer(pf_params=PlacefieldComputationParameters(speed_thresh=10.0, grid_bin=(4.0, 4.0), smooth=(2.5, 2.5), frate_thresh=0.2, time_bin_size=1.0, computation_epochs = None), spike_analysis=None)]\n",
    "#     return [DynamicContainer(pf_params=PlacefieldComputationParameters(speed_thresh=10.0, grid_bin=(4.0, 4.0), smooth=(0.2, 0.2), frate_thresh=0.2, time_bin_size=1.0, computation_epochs = None), spike_analysis=None)]\n",
    "\n",
    "\n",
    "def build_eloy_computation_configs(sess, **kwargs):\n",
    "    \"\"\" OPTIONALLY can be overriden by implementors to provide specific filter functions \"\"\"\n",
    "    # (4.0, 4.0)cm bins, (6.0, 6.0)cm gaussian smoothing\n",
    "    # peak frate > 2Hz \n",
    "    # return [DynamicContainer(pf_params=PlacefieldComputationParameters(speed_thresh=10.0, grid_bin=(4.0, 4.0), smooth=(6.0, 6.0), frate_thresh=0.2, time_bin_size=1.0, computation_epochs = None), spike_analysis=None)]\n",
    "    # return [DynamicContainer(pf_params=PlacefieldComputationParameters(speed_thresh=10.0, grid_bin=(4.0, 4.0), smooth=(2.5, 2.5), frate_thresh=0.2, time_bin_size=1.0, computation_epochs = None), spike_analysis=None)]\n",
    "    return [DynamicContainer(pf_params=PlacefieldComputationParameters(speed_thresh=10.0, grid_bin=(4.0, 4.0), smooth=(0.2, 0.2), frate_thresh=0.2, time_bin_size=1.0, computation_epochs = None), spike_analysis=None)]"
   ]
  },
  {
   "cell_type": "markdown",
   "id": "1d84bd3a-4e2b-4482-91b8-18695ad60c80",
   "metadata": {
    "scene__Default Scene": true,
    "tags": [
     "main_run",
     "ActiveScene"
    ]
   },
   "source": [
    "# Load Appropriate Data and begin pipeline"
   ]
  },
  {
   "cell_type": "markdown",
   "id": "8eceb354-7fa7-4064-ba26-4e989b9f3354",
   "metadata": {
    "tags": []
   },
   "source": [
    "## Bapun Format:"
   ]
  },
  {
   "cell_type": "code",
   "execution_count": null,
   "id": "fa085eef-be88-4df5-ab14-e16b7d74060a",
   "metadata": {
    "pycharm": {
     "is_executing": false
    },
    "scrolled": true
   },
   "outputs": [],
   "source": [
    "active_data_mode_name = 'bapun'\n",
    "active_data_mode_registered_class = active_data_session_types_registered_classes_dict[active_data_mode_name]\n",
    "active_data_mode_type_properties = known_data_session_type_properties_dict[active_data_mode_name]\n",
    "# basedir = r'R:\\data\\Bapun\\RatS\\Day5TwoNovel'\n",
    "basedir = r'W:\\Data\\Bapun\\RatS\\Day5TwoNovel'\n",
    "\n",
    "curr_active_pipeline = NeuropyPipeline.try_init_from_saved_pickle_or_reload_if_needed(active_data_mode_name, active_data_mode_type_properties, override_basepath=Path(basedir)) # damn this file is 21.1 GB!\n",
    "active_session_filter_configurations = active_data_mode_registered_class.build_default_filter_functions(sess=curr_active_pipeline.sess) # build_filters_pyramidal_epochs(sess=curr_kdiba_pipeline.sess)\n",
    "active_session_computation_configs = active_data_mode_registered_class.build_default_computation_configs(sess=curr_active_pipeline.sess)\n",
    "\n",
    "curr_active_pipeline.filter_sessions(active_session_filter_configurations)\n",
    "curr_active_pipeline.perform_computations(active_session_computation_configs[0], computation_functions_name_blacklist=['_perform_spike_burst_detection_computation', '_perform_velocity_vs_pf_density_computation', '_perform_velocity_vs_pf_simplified_count_density_computation']) # SpikeAnalysisComputations._perform_spike_burst_detection_computation\n",
    "## _perform_velocity_vs_pf_density_computation: causes AssertionError: After AOC normalization the sum over each cell should be 1.0, but it is not! [nan nan nan nan nan nan nan nan nan nan nan nan nan nan nan nan nan nan nan nan nan nan nan nan nan nan nan nan nan nan nan nan nan nan nan nan nan nan nan nan nan] with 1D placefields!\n",
    "curr_active_pipeline.prepare_for_display(root_output_dir=r'W:\\Data\\Output', should_smooth_maze=False) # TODO: pass a display config"
   ]
  },
  {
   "cell_type": "markdown",
   "id": "06494656-a9cb-4aba-969d-c3fc64aad68c",
   "metadata": {
    "tags": []
   },
   "source": [
    "### Bapun Open-Field Experiment (2022-08-09 Analysis)"
   ]
  },
  {
   "cell_type": "code",
   "execution_count": null,
   "id": "de614fc6-c071-4ddb-b72e-8c8beca44df4",
   "metadata": {
    "pycharm": {
     "is_executing": false
    },
    "tags": []
   },
   "outputs": [],
   "source": [
    "from neuropy.core.session.SessionSelectionAndFiltering import build_custom_epochs_filters # used particularly to build Bapun-style filters\n",
    "\n",
    "active_data_mode_name = 'bapun'\n",
    "active_data_mode_registered_class = active_data_session_types_registered_classes_dict[active_data_mode_name]\n",
    "active_data_mode_type_properties = known_data_session_type_properties_dict[active_data_mode_name]\n",
    "basedir = r'W:\\Data\\Bapun\\RatN\\Day4OpenField'\n",
    "\n",
    "curr_active_pipeline = NeuropyPipeline.try_init_from_saved_pickle_or_reload_if_needed(active_data_mode_name, active_data_mode_type_properties, override_basepath=Path(basedir))\n",
    "# active_session_filter_configurations = active_data_mode_registered_class.build_default_filter_functions(sess=curr_active_pipeline.sess, included_epoch_names=['maze','sprinkle']) # build_filters_pyramidal_epochs(sess=curr_kdiba_pipeline.sess)\n",
    "# active_session_filter_configurations = build_custom_epochs_filters(curr_active_pipeline.sess, included_epoch_labels=['maze','sprinkle'])\n",
    "active_session_filter_configurations = build_custom_epochs_filters(curr_active_pipeline.sess, included_epoch_labels=['maze','sprinkle'])\n",
    "# active_session_filter_configurations = active_data_mode_registered_class.build_filters_pyramidal_epochs(curr_active_pipeline.sess, included_epoch_labels=['maze','sprinkle'])\n",
    "active_session_computation_configs = active_data_mode_registered_class.build_default_computation_configs(sess=curr_active_pipeline.sess)\n",
    "curr_active_pipeline.filter_sessions(active_session_filter_configurations)\n",
    "curr_active_pipeline.perform_computations(active_session_computation_configs[0], computation_functions_name_blacklist=['_perform_spike_burst_detection_computation', '_perform_velocity_vs_pf_density_computation', '_perform_velocity_vs_pf_simplified_count_density_computation']) # SpikeAnalysisComputations._perform_spike_burst_detection_computation\n",
    "curr_active_pipeline.prepare_for_display(root_output_dir=r'W:\\Data\\Output', should_smooth_maze=True) # TODO: pass a display config"
   ]
  },
  {
   "cell_type": "code",
   "execution_count": null,
   "id": "26a885dc-8415-416c-b957-b79dc21b1eca",
   "metadata": {
    "pycharm": {
     "is_executing": false
    },
    "tags": []
   },
   "outputs": [],
   "source": [
    "curr_active_pipeline.sess.epochs"
   ]
  },
  {
   "cell_type": "code",
   "execution_count": null,
   "id": "6478fed4-131d-43a4-8f83-cce9d762d886",
   "metadata": {
    "pycharm": {
     "is_executing": false
    },
    "tags": []
   },
   "outputs": [],
   "source": [
    "curr_active_pipeline.filtered_epochs\n",
    "\n"
   ]
  },
  {
   "cell_type": "markdown",
   "id": "1c703940-bbc4-4014-9e54-2b88b8c79391",
   "metadata": {
    "jp-MarkdownHeadingCollapsed": true,
    "tags": []
   },
   "source": [
    "## Rachel Format:"
   ]
  },
  {
   "cell_type": "code",
   "execution_count": null,
   "id": "03ef84d7-a972-4578-9199-0bda4c627fb6",
   "metadata": {},
   "outputs": [],
   "source": [
    "active_data_mode_name = 'rachel'\n",
    "active_data_mode_registered_class = active_data_session_types_registered_classes_dict[active_data_mode_name]\n",
    "active_data_mode_type_properties = known_data_session_type_properties_dict[active_data_mode_name]\n",
    "basedir = r'R:\\data\\Rachel\\merged_M1_20211123_raw_phy' # Windows\n",
    "\n",
    "curr_active_pipeline = NeuropyPipeline.try_init_from_saved_pickle_or_reload_if_needed(active_data_mode_name, active_data_mode_type_properties, override_basepath=Path(basedir))\n",
    "active_session_filter_configurations = active_data_mode_registered_class.build_default_filter_functions(sess=curr_active_pipeline.sess) # build_filters_pyramidal_epochs(sess=curr_kdiba_pipeline.sess)\n",
    "active_session_computation_configs = active_data_mode_registered_class.build_default_computation_configs(sess=curr_active_pipeline.sess)"
   ]
  },
  {
   "cell_type": "code",
   "execution_count": null,
   "id": "277eb000-0a85-4b32-8348-1d0a2042c8a0",
   "metadata": {
    "pycharm": {
     "is_executing": false
    },
    "scrolled": true
   },
   "outputs": [],
   "source": [
    "curr_active_pipeline.filter_sessions(active_session_filter_configurations)\n",
    "curr_active_pipeline.perform_computations(active_session_computation_configs[0], computation_functions_name_blacklist=['_perform_spike_burst_detection_computation']) # Causes \"IndexError: index 59 is out of bounds for axis 0 with size 59\"\n",
    "curr_active_pipeline.prepare_for_display(should_smooth_maze=True) # TODO: pass a display config"
   ]
  },
  {
   "cell_type": "markdown",
   "id": "a4940269-23e4-46dc-a4ae-61d512ac5e41",
   "metadata": {
    "jp-MarkdownHeadingCollapsed": true,
    "tags": []
   },
   "source": [
    "## KDiba Format:"
   ]
  },
  {
   "cell_type": "code",
   "execution_count": null,
   "id": "2faf2adb-8751-43d2-8262-6f6d3eaf7698",
   "metadata": {
    "tags": [
     "main_run",
     "ActiveScene"
    ]
   },
   "outputs": [],
   "source": [
    "active_data_mode_name = 'kdiba'\n",
    "active_data_mode_registered_class = active_data_session_types_registered_classes_dict[active_data_mode_name]\n",
    "active_data_mode_type_properties = known_data_session_type_properties_dict[active_data_mode_name]\n",
    "\n",
    "## Data must be pre-processed using the MATLAB script located here: \n",
    "#     neuropy/data_session_pre_processing_scripts/KDIBA/IIDataMat_Export_ToPython_2022_08_01.m\n",
    "# From pre-computed .mat files:\n",
    "## 07:\n",
    "# basedir = r'/run/media/halechr/MoverNew/data/KDIBA/gor01/one/2006-6-07_11-26-53' # Lab Linux Workstation\n",
    "# basedir = r'/home/halechr/Data/KDIBA/gor01/one/2006-6-07_11-26-53' # Lab Linux Workstation\n",
    "# basedir = r'R:\\data\\KDIBA\\gor01\\one\\2006-6-07_11-26-53' # Apogee Windows (R: MoverNew)\n",
    "# basedir = r'W:\\Data\\KDIBA\\gor01\\one\\2006-6-07_11-26-53' # Apogee Windows (W: Wiser)\n",
    "## 08:\n",
    "# basedir = r'R:\\data\\KDIBA\\gor01\\one\\2006-6-08_14-26-15' # Apogee Windows\n",
    "basedir = r'W:\\Data\\KDIBA\\gor01\\one\\2006-6-08_14-26-15' # Apogee Windows (W: Wiser)\n",
    "\n",
    "\n",
    "curr_active_pipeline = NeuropyPipeline.try_init_from_saved_pickle_or_reload_if_needed(active_data_mode_name, active_data_mode_type_properties, override_basepath=Path(basedir), override_post_load_functions=[])\n",
    "# active_session_filter_configurations = active_data_mode_registered_class.build_default_filter_functions(sess=curr_active_pipeline.sess) # build_filters_pyramidal_epochs(sess=curr_kdiba_pipeline.sess)\n",
    "# active_session_filter_configurations = active_data_mode_registered_class.build_filters_pyramidal_epochs(sess=curr_active_pipeline.sess, epoch_name_whitelist=['maze1','maze2','maze'])\n",
    "active_session_filter_configurations = active_data_mode_registered_class.build_filters_pyramidal_epochs(sess=curr_active_pipeline.sess, epoch_name_whitelist=['maze'])\n",
    "# active_session_filter_configurations = active_data_mode_registered_class.build_filters_pyramidal_epochs(sess=curr_active_pipeline.sess, epoch_name_whitelist=['maze2'])\n",
    "\n",
    "# sess.epochs.t_start = 22.26 # exclude the first short period where the animal isn't on the maze yet\n",
    "# active_session_filter_configurations = {'maze1': lambda x: (x.filtered_by_neuron_type('pyramidal').filtered_by_epoch(x.epochs.get_named_timerange('maze1')), x.epochs.get_named_timerange('maze1')),\n",
    "# 'maze2': lambda x: (x.filtered_by_neuron_type('pyramidal').filtered_by_epoch(x.epochs.get_named_timerange('maze2')), x.epochs.get_named_timerange('maze2')),\n",
    "# 'maze': lambda x: (x.filtered_by_neuron_type('pyramidal').filtered_by_epoch(NamedTimerange(name='maze', start_end_times=[x.epochs['maze1'][0], x.epochs['maze2'][1]])), NamedTimerange(name='maze', start_end_times=[x.epochs['maze1'][0], x.epochs['maze2'][1]]))\n",
    "#                 }\n",
    "\n",
    "active_session_computation_configs = active_data_mode_registered_class.build_default_computation_configs(sess=curr_active_pipeline.sess)\n",
    "# active_session_computation_configs[0].pf_params.smooth = (0.0, 0.0)\n",
    "# active_session_computation_configs = build_eloy_computation_configs(sess=curr_active_pipeline.sess)\n",
    "curr_active_pipeline.filter_sessions(active_session_filter_configurations)\n",
    "# curr_active_pipeline.perform_computations(active_session_computation_configs[0], computation_functions_name_whitelist=['_perform_baseline_placefield_computation', '_perform_time_dependent_placefield_computation', \n",
    "#                                                                                                                        '_perform_position_decoding_computation', '_perform_two_step_position_decoding_computation'], fail_on_exception=True, debug_print=False) # '_perform_pf_find_ratemap_peaks_peak_prominence2d_computation'\n",
    "curr_active_pipeline.perform_computations(active_session_computation_configs[0], computation_functions_name_blacklist=['_perform_spike_burst_detection_computation'], debug_print=False, fail_on_exception=False) # whitelist: ['_perform_baseline_placefield_computation']\n",
    "curr_active_pipeline.prepare_for_display(root_output_dir=r'W:\\Data\\Output', should_smooth_maze=True) # TODO: pass a display config"
   ]
  },
  {
   "cell_type": "markdown",
   "id": "9b01c8b9-ffc2-4816-9de5-bfedc221699b",
   "metadata": {
    "jp-MarkdownHeadingCollapsed": true,
    "tags": []
   },
   "source": [
    "## Hiro Format:"
   ]
  },
  {
   "cell_type": "code",
   "execution_count": null,
   "id": "3c378a70-2365-49b1-8aa9-7e13a2e9c88c",
   "metadata": {
    "tags": []
   },
   "outputs": [],
   "source": [
    "active_data_mode_name = 'hiro'\n",
    "active_data_mode_registered_class = active_data_session_types_registered_classes_dict[active_data_mode_name]\n",
    "active_data_mode_type_properties = known_data_session_type_properties_dict[active_data_mode_name]\n",
    "## For data located at:\n",
    "# W:\\Data\\Rotation_3_Kamran Diba Lab\\DataProcessingProject\\Hiro_Datasets\n",
    "\n",
    "## Data must be pre-processed using the MATLAB script located here: \n",
    "#     ./neuropy/data_session_pre_processing_scripts/HIRO/PhoDibaProcess_ComputeSingleExperiment.m\n",
    "## ALT: alternatively, the original files are located here:\n",
    "#     C:\\Users\\pho\\repos\\PhoDibaLab_REM_HiddenMarkovModel\\PhoDibaProcess_ComputeSingleExperiment.m\n",
    "#     C:\\Users\\pho\\repos\\PhoDibaLab_REM_HiddenMarkovModel\\DEVELOPMENT\\NeuroPyExporting2022\\PhoNeuroPyConvert_ExportAllToPython_MAIN.m\n",
    "\n",
    "# From pre-computed .mat files:\n",
    "## RoyMaze1: \n",
    "# basedir = r'R:\\rMBP Python Repos 2022-07-07\\PhoNeuronGillespie2021CodeRepo\\PhoMatlabDataScripting\\ExportedData\\RoyMaze1' # WINDOWS\n",
    "# basedir = r'R:\\data\\Hiro\\RoyMaze1' # WINDOWS (R: MoverNew)\n",
    "basedir = r'W:\\Data\\Hiro\\RoyMaze1' # Apogee Windows (W: Wiser)\n",
    "\n",
    "## RoyMaze2:\n",
    "# basedir = r'R:\\rMBP Python Repos 2022-07-07\\PhoNeuronGillespie2021CodeRepo\\PhoMatlabDataScripting\\ExportedData\\RoyMaze2' # WINDOWS\n",
    "# basedir = r'R:\\data\\Hiro\\RoyMaze2' # WINDOWS\n",
    "curr_active_pipeline = NeuropyPipeline.try_init_from_saved_pickle_or_reload_if_needed(active_data_mode_name, active_data_mode_type_properties, override_basepath=Path(basedir))"
   ]
  },
  {
   "cell_type": "code",
   "execution_count": null,
   "id": "f0c7b805-be1e-44f6-ae3d-09863d3524c0",
   "metadata": {
    "tags": []
   },
   "outputs": [],
   "source": [
    "from neuropy.utils.misc import convert_dataframe_columns_to_datatype_if_possible, add_explicit_dataframe_columns_from_lookup_df\n",
    "\n",
    "## Finish setting up the spikes_df:\n",
    "curr_active_pipeline.sess.spikes_df.spikes.set_time_variable_name(\"t_seconds\")\n",
    "curr_active_pipeline.sess.flattened_spiketrains._spikes_df = add_explicit_dataframe_columns_from_lookup_df(curr_active_pipeline.sess.spikes_df, curr_active_pipeline.sess.neurons._extended_neuron_properties_df).sort_values(by=['t_seconds']) # Need to re-sort by timestamps once done\n",
    "convert_dataframe_columns_to_datatype_if_possible(curr_active_pipeline.sess.spikes_df, {'int':['shank', 'cluster', 'aclu', 'qclu', 'traj', 'lap']})"
   ]
  },
  {
   "cell_type": "code",
   "execution_count": null,
   "id": "c3b697d5-ce22-472e-803c-609e2544d38d",
   "metadata": {
    "scrolled": true
   },
   "outputs": [],
   "source": [
    "# active_session_filter_configurations = active_data_mode_registered_class.build_default_filter_functions(sess=curr_active_pipeline.sess) # build_filters_pyramidal_epochs(sess=curr_kdiba_pipeline.sess)\n",
    "# active_session_filter_configurations = active_data_mode_registered_class.build_track_only_filter_functions(sess=curr_active_pipeline.sess)\n",
    "active_session_filter_configurations = active_data_mode_registered_class.build_filters_track_only_pyramidal(sess=curr_active_pipeline.sess)\n",
    "active_session_computation_configs = active_data_mode_registered_class.build_default_computation_configs(sess=curr_active_pipeline.sess)\n",
    "# active_session_computation_configs"
   ]
  },
  {
   "cell_type": "code",
   "execution_count": null,
   "id": "75acaafe-aa57-4c63-8bba-612d1a9bb0db",
   "metadata": {
    "scrolled": true
   },
   "outputs": [],
   "source": [
    "post_filter_fn = active_session_filter_configurations['track']\n",
    "\n",
    "\n",
    "active_session_filter_configurations['track'] = lambda x: (x.filtered_by_neuron_type('pyramidal').filtered_by_epoch(x.epochs.get_named_timerange('maze1')), x.epochs.get_named_timerange('maze1'))"
   ]
  },
  {
   "cell_type": "code",
   "execution_count": null,
   "id": "5c76ee6b-1984-467e-9eac-d12ababa4c4d",
   "metadata": {
    "scrolled": true
   },
   "outputs": [],
   "source": [
    "curr_active_pipeline.sess.flattened_spiketrains._time_variable_name"
   ]
  },
  {
   "cell_type": "code",
   "execution_count": null,
   "id": "c358fa03-ee09-456f-9c4a-c00fad5aae68",
   "metadata": {
    "scrolled": true
   },
   "outputs": [],
   "source": [
    "curr_active_pipeline.filter_sessions(active_session_filter_configurations)"
   ]
  },
  {
   "cell_type": "code",
   "execution_count": null,
   "id": "2fdc73b0-2a1b-4aeb-9815-2e28579b55e4",
   "metadata": {
    "scrolled": true
   },
   "outputs": [],
   "source": [
    "curr_active_pipeline.perform_computations(active_session_computation_configs[0], computation_functions_name_blacklist=['_perform_spike_burst_detection_computation', '_perform_velocity_vs_pf_density_computation', '_perform_velocity_vs_pf_simplified_count_density_computation'], fail_on_exception=True)\n",
    "curr_active_pipeline.prepare_for_display(should_smooth_maze=True) # TODO: pass a display config"
   ]
  },
  {
   "cell_type": "code",
   "execution_count": null,
   "id": "e0c218ea-c669-498e-8234-b0e567de7916",
   "metadata": {
    "scene__Default Scene": true,
    "tags": [
     "ActiveScene"
    ]
   },
   "outputs": [],
   "source": [
    "def _debug_print_spikes_df_column_info(spikes_df):\n",
    "    print(f'.columns: {list(spikes_df.columns)}')\n",
    "    print(f'.spikes.time_variable_name: {spikes_df.spikes.time_variable_name}')    "
   ]
  },
  {
   "cell_type": "code",
   "execution_count": null,
   "id": "62259452-5a25-4fa2-bb99-b426ea8bc278",
   "metadata": {
    "tags": []
   },
   "outputs": [],
   "source": [
    "# curr_active_pipeline.sess.spikes_df.columns\n",
    "# curr_active_pipeline.sess.spikes_df.spikes.time_variable_name\n",
    "_debug_print_spikes_df_column_info(curr_active_pipeline.sess.spikes_df)"
   ]
  },
  {
   "cell_type": "code",
   "execution_count": null,
   "id": "71817e25-1730-4165-960c-b47dbd9ac9fc",
   "metadata": {
    "tags": []
   },
   "outputs": [],
   "source": [
    "# curr_active_pipeline.filtered_sessions['track'].spikes_df.columns\n",
    "# curr_active_pipeline.filtered_sessions['track'].spikes_df.spikes.time_variable_name\n",
    "_debug_print_spikes_df_column_info(curr_active_pipeline.filtered_sessions['track'].spikes_df)"
   ]
  },
  {
   "cell_type": "code",
   "execution_count": null,
   "id": "5d7bab5b-dcce-4691-9e7c-588a1dcfc02f",
   "metadata": {
    "scrolled": true
   },
   "outputs": [],
   "source": [
    "curr_active_pipeline.sess.neurons._extended_neuron_properties_df"
   ]
  },
  {
   "cell_type": "code",
   "execution_count": null,
   "id": "716fe7a2-b1eb-4574-b89e-ae18504709c4",
   "metadata": {
    "scrolled": true
   },
   "outputs": [],
   "source": [
    "from neuropy.utils.debug_helpers import debug_print_placefield, debug_print_spike_counts, debug_print_subsession_neuron_differences\n",
    "from neuropy.utils.misc import print_seconds_human_readable\n",
    "\n",
    "\n",
    "debug_print_spike_counts(sess)"
   ]
  },
  {
   "cell_type": "markdown",
   "id": "a4ace56f-40c3-41fa-a7cf-f539c51fdce0",
   "metadata": {
    "tags": []
   },
   "source": [
    "### Logging detour:"
   ]
  },
  {
   "cell_type": "code",
   "execution_count": null,
   "id": "6d6eeaab-0f5a-4595-af4a-c7f35928133f",
   "metadata": {
    "tags": []
   },
   "outputs": [],
   "source": [
    "## TODO: ONLY RUN ONCE!\n",
    "import logging\n",
    "logging.captureWarnings(False)\n",
    "logger = logging.getLogger(\"com.PhoHale\")\n",
    "logger.setLevel(logging.DEBUG)\n",
    "logger.addHandler(logging.StreamHandler(stream=sys.stdout))"
   ]
  },
  {
   "cell_type": "code",
   "execution_count": null,
   "id": "1793073d-813d-46ed-b7c7-828d47fc3f4d",
   "metadata": {
    "tags": []
   },
   "outputs": [],
   "source": [
    "root_logger = logging.root"
   ]
  },
  {
   "cell_type": "code",
   "execution_count": null,
   "id": "eb8ba447-0a1c-46f5-bb8f-cc88ab01a82b",
   "metadata": {
    "tags": []
   },
   "outputs": [],
   "source": [
    "root_logger.handlers"
   ]
  },
  {
   "cell_type": "code",
   "execution_count": null,
   "id": "b7c6dac4-eebe-4fd2-97d1-611f78bf12a5",
   "metadata": {
    "tags": []
   },
   "outputs": [],
   "source": [
    "# logger.removeHandler(logging.StreamHandler(stream=sys.stdout))\n",
    "for a_handler in logger.handlers:\n",
    "    logger.removeHandler(a_handler)"
   ]
  },
  {
   "cell_type": "code",
   "execution_count": null,
   "id": "ee985b54-164d-447b-93c9-a437eb3c4986",
   "metadata": {
    "tags": []
   },
   "outputs": [],
   "source": [
    "logger.info('creating an instance of auxiliary_module.Auxiliary')\n",
    "logger.debug('UOS')\n",
    "logger.warning('OH NO!')"
   ]
  },
  {
   "cell_type": "markdown",
   "id": "5363ffd9-88c3-48cc-a0c1-82bfdbd81b4a",
   "metadata": {
    "jp-MarkdownHeadingCollapsed": true,
    "pycharm": {
     "name": "#%%\n"
    },
    "tags": []
   },
   "source": [
    "## 💾 Save out the changes to the pipeline after computation to the pickle file for easy loading in the future:"
   ]
  },
  {
   "cell_type": "code",
   "execution_count": null,
   "id": "9dcef969-7489-4eee-8505-c6a937b1c46f",
   "metadata": {
    "pycharm": {
     "is_executing": false
    },
    "tags": []
   },
   "outputs": [],
   "source": [
    "## Save out the changes to the pipeline after computation to the pickle file for easy loading in the future\n",
    "curr_active_pipeline.save_pipeline(active_pickle_filename='loadedSessPickle.pkl')"
   ]
  },
  {
   "cell_type": "markdown",
   "id": "75cbbfa0",
   "metadata": {
    "tags": []
   },
   "source": [
    "# Common: Display\n",
    "Common visualization and display functions for both forms of data/pipelines:"
   ]
  },
  {
   "cell_type": "code",
   "execution_count": null,
   "id": "1055d5ea-611c-44a2-a04e-e2bc4a475b3f",
   "metadata": {
    "scene__Default Scene": true,
    "tags": [
     "ActiveScene",
     "main_run"
    ]
   },
   "outputs": [],
   "source": [
    "# %%viztracer\n",
    "# active_config_name = 'maze1'\n",
    "# active_config_name = 'maze2'\n",
    "active_config_name = 'maze'\n",
    "# active_config_name = 'sprinkle'\n",
    "\n",
    "# Get relevant variables:\n",
    "# curr_active_pipeline is set above, and usable here\n",
    "sess: DataSession = curr_active_pipeline.filtered_sessions[active_config_name]\n",
    "\n",
    "active_computation_results = curr_active_pipeline.computation_results[active_config_name]\n",
    "active_computed_data = curr_active_pipeline.computation_results[active_config_name].computed_data\n",
    "active_computation_config = curr_active_pipeline.computation_results[active_config_name].computation_config\n",
    "active_computation_errors = curr_active_pipeline.computation_results[active_config_name].accumulated_errors\n",
    "print(f'active_computed_data.keys(): {list(active_computed_data.keys())}')\n",
    "print(f'active_computation_errors: {active_computation_errors}')\n",
    "active_pf_1D = curr_active_pipeline.computation_results[active_config_name].computed_data['pf1D']\n",
    "active_pf_2D = curr_active_pipeline.computation_results[active_config_name].computed_data['pf2D']    \n",
    "active_pf_1D_dt = curr_active_pipeline.computation_results[active_config_name].computed_data.get('pf1D_dt', None)\n",
    "active_pf_2D_dt = curr_active_pipeline.computation_results[active_config_name].computed_data.get('pf2D_dt', None)\n",
    "active_firing_rate_trends = curr_active_pipeline.computation_results[active_config_name].computed_data.get('firing_rate_trends', None)\n",
    "active_one_step_decoder = curr_active_pipeline.computation_results[active_config_name].computed_data.get('pf2D_Decoder', None)\n",
    "active_two_step_decoder = curr_active_pipeline.computation_results[active_config_name].computed_data.get('pf2D_TwoStepDecoder', None)\n",
    "active_extended_stats = curr_active_pipeline.computation_results[active_config_name].computed_data.get('extended_stats', None)\n",
    "active_eloy_analysis = curr_active_pipeline.computation_results[active_config_name].computed_data.get('EloyAnalysis', None)\n",
    "active_simpler_pf_densities_analysis = curr_active_pipeline.computation_results[active_config_name].computed_data.get('SimplerNeuronMeetingThresholdFiringAnalysis', None)\n",
    "active_ratemap_peaks_analysis = curr_active_pipeline.computation_results[active_config_name].computed_data.get('RatemapPeaksAnalysis', None)\n",
    "active_peak_prominence_2d_results = curr_active_pipeline.computation_results[active_config_name].computed_data.get('RatemapPeaksAnalysis', {}).get('PeakProminence2D', None)\n",
    "active_measured_positions = curr_active_pipeline.computation_results[active_config_name].sess.position.to_dataframe()\n",
    "curr_spikes_df = sess.spikes_df\n",
    "\n",
    "curr_active_config = curr_active_pipeline.active_configs[active_config_name]\n",
    "curr_active_display_config = curr_active_config.plotting_config\n",
    "\n",
    "display_output = dict()"
   ]
  },
  {
   "cell_type": "code",
   "execution_count": null,
   "id": "946aba66-7b1f-4e4e-ba8a-f5dde1262009",
   "metadata": {
    "scene__Default Scene": true,
    "tags": [
     "ActiveScene"
    ]
   },
   "outputs": [],
   "source": [
    "list(active_computation_errors.values())[0]"
   ]
  },
  {
   "cell_type": "code",
   "execution_count": null,
   "id": "17e80419-8f0e-4ddf-825b-d138f99553bb",
   "metadata": {
    "scene__Default Scene": true,
    "tags": [
     "ActiveScene"
    ]
   },
   "outputs": [],
   "source": [
    "err_fn = list(active_computation_errors.keys())[0]\n",
    "err_fn"
   ]
  },
  {
   "cell_type": "code",
   "execution_count": null,
   "id": "3cc85692-9fc8-46fd-a723-dc7c8272133a",
   "metadata": {
    "scene__Default Scene": true,
    "tags": [
     "ActiveScene"
    ]
   },
   "outputs": [],
   "source": [
    "err_fn.__name__ # '_perform_pf_find_ratemap_peaks_peak_prominence2d_computation'"
   ]
  },
  {
   "cell_type": "code",
   "execution_count": null,
   "id": "24bb9de8-d854-4b6d-9140-5cf8fa832964",
   "metadata": {
    "scene__Default Scene": true,
    "tags": [
     "ActiveScene"
    ]
   },
   "outputs": [],
   "source": [
    "# sess.epochs #  20756  24004  maze2      3248\n",
    "curr_active_pipeline.filtered_epochs\n",
    "# sess.spikes_df # ['flat_spike_idx', 't_seconds', 'aclu', 'unit_id', 'shank_id', 'flattened_spike_linear_unit_spike_idx', 'cell_type', 'x', 'y', 'lin_pos', 'speed', 'fragile_linear_neuron_IDX', 'neuron_IDX', 't', 'PBE_id', 'scISI', 'shank', 'qclu', 'cluster']"
   ]
  },
  {
   "cell_type": "code",
   "execution_count": null,
   "id": "d7195d77-06af-4895-b8b0-b6151995ae27",
   "metadata": {
    "pycharm": {
     "name": "#%%\n"
    },
    "tags": []
   },
   "outputs": [],
   "source": [
    "## Save out the changes to the pipeline after computation to the pickle file for easy loading in the future\n",
    "curr_active_pipeline.save_pipeline(active_pickle_filename='loadedSessPickle.pkl')"
   ]
  },
  {
   "cell_type": "markdown",
   "id": "47694715-4894-42e2-8731-d146748c1d05",
   "metadata": {
    "scene__Default Scene": true,
    "tags": [
     "ActiveScene"
    ]
   },
   "source": [
    "# Main Visualization GUIs"
   ]
  },
  {
   "cell_type": "markdown",
   "id": "c664c89c-1e98-4184-bac1-ed93301be0b4",
   "metadata": {
    "jp-MarkdownHeadingCollapsed": true,
    "pycharm": {
     "is_executing": false,
     "name": "#%%\n"
    },
    "tags": []
   },
   "source": [
    "## 3D Interactive Spike Raster Window"
   ]
  },
  {
   "cell_type": "code",
   "execution_count": null,
   "id": "fa32d4f0-0c9c-426c-9a98-9c5115a141b1",
   "metadata": {
    "pycharm": {
     "is_executing": false,
     "name": "#%%\n"
    },
    "scene__Default Scene": true,
    "tags": [
     "ActiveScene",
     "gui",
     "launch",
     "main_run"
    ]
   },
   "outputs": [],
   "source": [
    "from pyphoplacecellanalysis.GUI.Qt.SpikeRasterWindows.Spike3DRasterWindowWidget import Spike3DRasterWindowWidget\n",
    "\n",
    "display_output = display_output | curr_active_pipeline.display('_display_spike_rasters_window', active_config_name, active_config_name=active_config_name) # , type_of_3d_plotter=None\n",
    "spike_raster_window = display_output['spike_raster_window']"
   ]
  },
  {
   "cell_type": "code",
   "execution_count": null,
   "id": "eb9b1df3-825c-4f7f-81db-d741c0dc2bec",
   "metadata": {
    "pycharm": {
     "is_executing": false,
     "name": "#%%\n"
    },
    "scene__Default Scene": true,
    "tags": [
     "ActiveScene",
     "gui",
     "launch",
     "main_run"
    ]
   },
   "outputs": [],
   "source": [
    "def _debug_print_spike_raster_window_animation_properties(spike_raster_window):\n",
    "    \"\"\" dumps debug properties related to animation for a spike_raster_window\n",
    "    Usage:\n",
    "        from pyphoplacecellanalysis.GUI.Qt.SpikeRasterWindows.Spike3DRasterWindowWidget import Spike3DRasterWindowWidget\n",
    "        display_output = display_output | curr_active_pipeline.display('_display_spike_rasters_window', active_config_name, active_config_name=active_config_name)\n",
    "        spike_raster_window = display_output['spike_raster_window']\n",
    "        _debug_print_spike_raster_window_animation_properties(spike_raster_window) \n",
    "    \n",
    "    Example Output:\n",
    "        animation_active_time_window.window_duration: 0.0\n",
    "        animation_time_step: 0.04\n",
    "        animation_active_time_window.active_window_start_time: 7412.0642973107815\n",
    "        render_window_duration: 0.0\n",
    "        spike_raster_plt_2d.spikes_window.active_time_window: (7412.0642973107815, 7412.0642973107815)\n",
    "        spike_raster_plt_2d.spikes_window.window_duration: 0.0\n",
    "        spike_raster_plt_2d.ui.scroll_window_region\n",
    "        min_x: 7412.0642973107815, max_x: 7412.0642973107815, x_duration: 0.0\n",
    "\n",
    "    \"\"\"\n",
    "    print(f'\\tanimation_active_time_window.window_duration: {spike_raster_window.animation_active_time_window.window_duration}')\n",
    "    print(f'\\tanimation_time_step: {spike_raster_window.animation_time_step}')\n",
    "    print(f'\\tanimation_active_time_window.active_window_start_time: {spike_raster_window.animation_active_time_window.active_window_start_time}')\n",
    "    print(f'\\trender_window_duration: {spike_raster_window.render_window_duration}')\n",
    "    print(f'\\tspike_raster_plt_2d.spikes_window.active_time_window: {spike_raster_window.spike_raster_plt_2d.spikes_window.active_time_window}') # (7455.820603311667, 7470.820603311667) start_t matches, but end_t does not! \n",
    "    print(f'\\tspike_raster_plt_2d.spikes_window.window_duration: {spike_raster_window.spike_raster_plt_2d.spikes_window.window_duration}') # 15.0 -- This on the other hand, is not right... \n",
    "    min_x, max_x = spike_raster_window.spike_raster_plt_2d.ui.scroll_window_region.getRegion()\n",
    "    x_duration = max_x - min_x\n",
    "    print(f'\\tspike_raster_plt_2d.ui.scroll_window_region\\n\\t\\tmin_x: {min_x}, max_x: {max_x}, x_duration: {x_duration}') # min_x: 7455.820603311667, max_x: 7532.52160713601, x_duration: 76.70100382434339 -- NOTE: these are the real seconds!\n"
   ]
  },
  {
   "cell_type": "code",
   "execution_count": null,
   "id": "61592297-9b80-4a77-8b5f-8beb5f17cd70",
   "metadata": {
    "pycharm": {
     "is_executing": false,
     "name": "#%%\n"
    }
   },
   "outputs": [],
   "source": []
  },
  {
   "cell_type": "code",
   "execution_count": null,
   "id": "eb612547-1245-44b8-a069-fa952e69a244",
   "metadata": {
    "pycharm": {
     "is_executing": false,
     "name": "#%%\n"
    }
   },
   "outputs": [],
   "source": [
    "spike_raster_window = Spike3DRasterWindowWidget(curr_spikes_df, application_name=f'Spike Raster Window - {active_config_name}')\n",
    "# Set Window Title Options:\n",
    "spike_raster_window.setWindowFilePath(str(sess.filePrefix.resolve()))\n",
    "spike_raster_window.setWindowTitle(f'Spike Raster Window - {active_config_name} - {str(sess.filePrefix.resolve())}')"
   ]
  },
  {
   "cell_type": "code",
   "execution_count": null,
   "id": "3d80d4b4-245f-4846-9f90-09406f6de827",
   "metadata": {
    "pycharm": {
     "is_executing": false,
     "name": "#%%\n"
    }
   },
   "outputs": [],
   "source": [
    "## Set the colors of the raster window from the tuning curve window:\n",
    "spike_raster_window.update_neurons_color_data(updated_neuron_render_configs=provided_neuron_id_to_color_map)"
   ]
  },
  {
   "cell_type": "code",
   "execution_count": null,
   "id": "0171a604-4f5a-4a22-b227-3915fee3c759",
   "metadata": {
    "pycharm": {
     "is_executing": false,
     "name": "#%%\n"
    }
   },
   "outputs": [],
   "source": [
    "# Setup Connections Menu:\n",
    "root_window, menuConnections, actions_dict = ConnectionControlsMenuMixin.try_add_connections_menu(spike_raster_window) # none of these properties need to be "
   ]
  },
  {
   "cell_type": "markdown",
   "id": "01c287e4-bb8b-4626-8942-603ab3f63c86",
   "metadata": {
    "jp-MarkdownHeadingCollapsed": true,
    "pycharm": {
     "is_executing": false,
     "name": "#%%\n"
    },
    "tags": []
   },
   "source": [
    "### Test building a second spike_raster_window for a different epoch:"
   ]
  },
  {
   "cell_type": "code",
   "execution_count": null,
   "id": "8110cf85-ca28-41b1-990e-a0041e52fcf8",
   "metadata": {
    "pycharm": {
     "is_executing": false,
     "name": "#%%\n"
    }
   },
   "outputs": [],
   "source": [
    "secondary_active_config_name = 'maze2'\n",
    "secondary_spikes_df = curr_active_pipeline.filtered_sessions[secondary_active_config_name].spikes_df\n",
    "spike_raster_window_second_epoch = Spike3DRasterWindowWidget(secondary_spikes_df, application_name=f'Spike Raster Window - {secondary_active_config_name}', type_of_3d_plotter='vedo')\n",
    "# Set Window Title Options:\n",
    "spike_raster_window_second_epoch.setWindowFilePath(str(sess.filePrefix.resolve()))\n",
    "spike_raster_window_second_epoch.setWindowTitle(f'Spike Raster Window - {secondary_active_config_name} - {str(sess.filePrefix.resolve())}')\n",
    "spike_raster_window_second_epoch"
   ]
  },
  {
   "cell_type": "code",
   "execution_count": null,
   "id": "bf55174f-5b7c-473b-934d-cdbce2f55782",
   "metadata": {
    "pycharm": {
     "is_executing": false,
     "name": "#%%\n"
    }
   },
   "outputs": [],
   "source": [
    "spike_raster_window.spikes_df # has scISI column!\n"
   ]
  },
  {
   "cell_type": "code",
   "execution_count": null,
   "id": "57313baa-25c0-4079-a87b-a3ee5ddfc8fe",
   "metadata": {
    "pycharm": {
     "is_executing": false,
     "name": "#%%\n"
    }
   },
   "outputs": [],
   "source": [
    "spike_raster_window.connection_man"
   ]
  },
  {
   "cell_type": "code",
   "execution_count": null,
   "id": "b7852860-7ee4-42aa-8666-dec67d5c6e08",
   "metadata": {
    "pycharm": {
     "is_executing": false,
     "name": "#%%\n"
    }
   },
   "outputs": [],
   "source": [
    "spike_raster_window.connection_man.active_connections"
   ]
  },
  {
   "cell_type": "code",
   "execution_count": null,
   "id": "471b8f08-3c3b-49cc-9d49-291abe408beb",
   "metadata": {
    "pycharm": {
     "is_executing": false,
     "name": "#%%\n"
    }
   },
   "outputs": [],
   "source": [
    "spike_raster_window.connection_man.get_available_drivers()"
   ]
  },
  {
   "cell_type": "markdown",
   "id": "a3ce34d1-7b04-40f3-96a2-408676eb967f",
   "metadata": {
    "jp-MarkdownHeadingCollapsed": true,
    "pycharm": {
     "is_executing": false,
     "name": "#%%\n"
    },
    "tags": []
   },
   "source": [
    "### 2D Raster Plot Interactivity Testing/Extras"
   ]
  },
  {
   "cell_type": "code",
   "execution_count": null,
   "id": "553ff9bc-533b-47eb-9257-9b4eebc10dc5",
   "metadata": {
    "pycharm": {
     "is_executing": false,
     "name": "#%%\n"
    }
   },
   "outputs": [],
   "source": [
    "# spike_raster_window.render_window_duration\n",
    "# spike_raster_window.spikes_window.active_window_end_time\n",
    "spike_raster_window.spikes_window.window_duration"
   ]
  },
  {
   "cell_type": "code",
   "execution_count": null,
   "id": "b3e1d674-569b-445e-90f7-eac577c20fd0",
   "metadata": {
    "pycharm": {
     "is_executing": false,
     "name": "#%%\n"
    }
   },
   "outputs": [],
   "source": [
    "### Debug printing for color properties of spike_raster_window\n",
    "_debug_params = spike_raster_window.spike_raster_plt_2d.params\n",
    "# _debug_params.neuron_colors\n",
    "# _debug_params.config_items\n",
    "# spike_raster_window.params"
   ]
  },
  {
   "cell_type": "code",
   "execution_count": null,
   "id": "93222276-7cd0-480e-a353-5cdf6fb0557c",
   "metadata": {
    "pycharm": {
     "is_executing": false,
     "name": "#%%\n"
    }
   },
   "outputs": [],
   "source": [
    "# Wanted to try to set setClickable(True) on the children widgets\n",
    "\n",
    "# spike_raster_window.spike_raster_plt_2d.plots # {'name': '', 'preview_overview_scatter_plot': <pyphoplacecellanalysis.External.pyqtgraph.graphicsItems.ScatterPlotItem.ScatterPlotItem object at 0x0000020AA96D9E50>}\n",
    "# spike_raster_window.spike_raster_plt_2d.plots.main_plot_widget # <pyphoplacecellanalysis.External.pyqtgraph.graphicsItems.PlotItem.PlotItem.PlotItem at 0x20aecdf0ee0>\n",
    "# spike_raster_window.spike_raster_plt_2d.plots.main_plot_widget.curves # [<pyphoplacecellanalysis.External.pyqtgraph.graphicsItems.ScatterPlotItem.ScatterPlotItem at 0x20aa92a5820>]\n",
    "\n",
    "# Static Background Overview Scatter Plot:\n",
    "active_overview_scatter_plot = spike_raster_window.spike_raster_plt_2d.plots.preview_overview_scatter_plot # ScatterPlotItem \n",
    "# active_overview_scatter_plot.addPoints(hoverable=True)\n",
    "\n",
    "## Main Scatter Plot \n",
    "main_scatter_plot = spike_raster_window.spike_raster_plt_2d.plots.main_plot_widget.curves[0] # ScatterPlotItem \n",
    "# main_scatter_plot.setAcceptHoverEvents(True)\n",
    "\n",
    "# Common Tick Label\n",
    "vtick = QtGui.QPainterPath()\n",
    "vtick.moveTo(0, -0.5)\n",
    "vtick.lineTo(0, 0.5)\n",
    "\n",
    "# # Highlights the hovered spikes white:\n",
    "# main_scatter_plot.addPoints(hoverable=True,\n",
    "#     hoverSymbol=vtick, # hoverSymbol='s',\n",
    "#     hoverSize=7, # default is 5\n",
    "#     hoverPen=pg.mkPen('w', width=2),\n",
    "#     hoverBrush=pg.mkBrush('w'))\n",
    "\n",
    "# Highlights the hovered spikes white:\n",
    "main_scatter_plot.addPoints(hoverable=True,\n",
    "    # hoverSymbol=vtick, # hoverSymbol='s',\n",
    "    hoverSize=7, # default is 5\n",
    "    )\n",
    "\n",
    "\n",
    "## Clickable/Selectable Spikes:\n",
    "# Will make all plots clickable\n",
    "clickedPen = pg.mkPen('#DDD', width=2)\n",
    "lastClicked = []\n",
    "def _test_scatter_plot_clicked(plot, points):\n",
    "    global lastClicked\n",
    "    for p in lastClicked:\n",
    "        p.resetPen()\n",
    "    print(\"clicked points\", points)\n",
    "    for p in points:\n",
    "        p.setPen(clickedPen)\n",
    "    lastClicked = points\n",
    "        \n",
    "## Hoverable Spikes:\n",
    "def _test_scatter_plot_hovered(plt, points, ev):\n",
    "    # sigHovered(self, points, ev)\n",
    "    print(f'_test_scatter_plot_hovered(plt: {plt}, points: {points}, ev: {ev})')\n",
    "    if (len(points) > 0):\n",
    "        curr_point = points[0]\n",
    "        # self.\n",
    "        # curr_point.index\n",
    "\n",
    "main_scatter_hovered_connection = main_scatter_plot.sigHovered.connect(_test_scatter_plot_hovered)\n",
    "main_scatter_clicked_connection = main_scatter_plot.sigClicked.connect(_test_scatter_plot_clicked)\n",
    "\n",
    "# tip\n",
    "# .sigHovered \n",
    "# TypeError: 'VisualizationParameters' object is not subscriptable"
   ]
  },
  {
   "cell_type": "code",
   "execution_count": null,
   "id": "17dba03e-6715-4152-a3ca-45320e551d7a",
   "metadata": {
    "pycharm": {
     "is_executing": false,
     "name": "#%%\n"
    }
   },
   "outputs": [],
   "source": [
    "## Test Adding ROIs of interest to the 2D Raster Plot:\n",
    "rois = []\n",
    "rois.append(pg.MultiRectROI([[20, 90], [50, 60], [60, 90]], width=5, pen=(2,9)))\n",
    "\n",
    "def update(roi):\n",
    "    img1b.setImage(roi.getArrayRegion(arr, img1a), levels=(0, arr.max()))\n",
    "    v1b.autoRange()\n",
    "    \n",
    "for roi in rois:\n",
    "    roi.sigRegionChanged.connect(update)\n",
    "    v1a.addItem(roi)"
   ]
  },
  {
   "cell_type": "code",
   "execution_count": null,
   "id": "27412504-b512-4896-b955-a9d910a8752b",
   "metadata": {
    "pycharm": {
     "is_executing": false,
     "name": "#%%\n"
    }
   },
   "outputs": [],
   "source": [
    "curve.curve.setClickable(True)"
   ]
  },
  {
   "cell_type": "markdown",
   "id": "54772efe-ce98-40b6-9153-8ce533cdb0a8",
   "metadata": {
    "jp-MarkdownHeadingCollapsed": true,
    "pycharm": {
     "is_executing": false,
     "name": "#%%\n"
    },
    "tags": []
   },
   "source": [
    "## ipcDataExplorer - 3D Interactive Tuning Curves Plotter"
   ]
  },
  {
   "cell_type": "code",
   "execution_count": null,
   "id": "bd6b4aa0-49aa-4835-bb93-8757b26b6d86",
   "metadata": {
    "pycharm": {
     "is_executing": false,
     "name": "#%%\n"
    },
    "tags": []
   },
   "outputs": [],
   "source": [
    "pActiveTuningCurvesPlotter = None\n",
    "\n",
    "zScalingFactor = 2000.0 # worked well before with default params\n",
    "# zScalingFactor = 50.0 # worked well before with default params\n",
    "display_output = display_output | curr_active_pipeline.display('_display_3d_interactive_tuning_curves_plotter', active_config_name, extant_plotter=display_output.get('pActiveTuningCurvesPlotter', None), panel_controls_mode='Qt', should_nan_non_visited_elements=False, zScalingFactor=zScalingFactor, separate_window=False)\n",
    "ipcDataExplorer = display_output['ipcDataExplorer']\n",
    "display_output['pActiveTuningCurvesPlotter'] = display_output.pop('plotter') # rename the key from the generic \"plotter\" to \"pActiveSpikesBehaviorPlotter\" to avoid collisions with others\n",
    "pActiveTuningCurvesPlotter = display_output['pActiveTuningCurvesPlotter']\n",
    "root_dockAreaWindow, placefieldControlsContainerWidget, pf_widgets = display_output['pane'] # for Qt mode:"
   ]
  },
  {
   "cell_type": "markdown",
   "id": "5d03258f-0f26-4b45-9c90-17767d1c2b8e",
   "metadata": {
    "jp-MarkdownHeadingCollapsed": true,
    "pycharm": {
     "is_executing": false,
     "name": "#%%\n"
    },
    "tags": []
   },
   "source": [
    "### Setup Extra Buttons"
   ]
  },
  {
   "cell_type": "code",
   "execution_count": null,
   "id": "60dc5178-7972-4974-8ec4-9034c5100a94",
   "metadata": {},
   "outputs": [],
   "source": [
    "ipcDataExplorer.occupancy_plotting_config.barOpacity = 0.25"
   ]
  },
  {
   "cell_type": "code",
   "execution_count": null,
   "id": "4f24e744-f8d6-4b86-8ed9-e640fd6b6552",
   "metadata": {},
   "outputs": [],
   "source": [
    "placefieldControlsContainerWidget.ui.end_button_helper_connections"
   ]
  },
  {
   "cell_type": "code",
   "execution_count": null,
   "id": "82e97563-caee-44ca-9e0d-29dbab4aa111",
   "metadata": {},
   "outputs": [],
   "source": [
    "ipcDataExplorer.plots\n",
    "\n",
    "\n",
    "ipcDataExplorer.zScalingFactor = 100"
   ]
  },
  {
   "cell_type": "markdown",
   "id": "29e3fc2b-7184-474d-8831-a086357110e4",
   "metadata": {
    "jp-MarkdownHeadingCollapsed": true,
    "tags": []
   },
   "source": [
    "### Prototype updating the displayed placefield values with those generated from a time-dependent pf_2D_dt"
   ]
  },
  {
   "cell_type": "code",
   "execution_count": null,
   "id": "f2f788fc-380a-4e39-a7b5-c7f6e6d6e063",
   "metadata": {},
   "outputs": [],
   "source": [
    "## Update the time-dependent pf:\n",
    "active_pf_2D_dt.reset()\n",
    "\n",
    "## Find the neuron_IDs that are included in the active_pf_2D for filtering the active_pf_2D_dt's results:\n",
    "is_pf_2D_included_neuron = np.isin(active_pf_2D_dt.included_neuron_IDs, active_pf_2D.included_neuron_IDs)\n",
    "pf_2D_included_neuron_indx = active_pf_2D_dt._included_thresh_neurons_indx[is_pf_2D_included_neuron]\n",
    "active_pf_2D_dt._included_thresh_neurons_indx = pf_2D_included_neuron_indx\n",
    "active_pf_2D_dt._peak_frate_filter_function = lambda list_: [list_[_] for _ in active_pf_2D_dt._included_thresh_neurons_indx]\n",
    "\n",
    "earliest_pos_t = active_pf_2D_dt.all_time_filtered_pos_df['t'].values[0]\n",
    "print(f'earliest_pos_t: {earliest_pos_t}')\n",
    "# active_pf_2D_dt.update(t=earliest_pos_t)\n",
    "# active_pf_2D_dt.step(num_seconds_to_advance=6000.0)\n",
    "\n",
    "last_pos_t = active_pf_2D_dt.all_time_filtered_pos_df['t'].values[-1]\n",
    "print(f'last_pos_t: {last_pos_t}')\n",
    "# active_pf_2D_dt.update(t=last_pos_t)\n",
    "\n",
    "# active_pf_2D_dt.update(t=earliest_pos_t+(60.0 * 5.0))\n",
    "active_pf_2D_dt.update(t=3000000.0)\n",
    "print(f'post-update time: {active_pf_2D_dt.last_t}')\n",
    "\n",
    "# earliest_pos_t: 22.26785500004189\n",
    "# last_pos_t: 1739.1316560000414\n",
    "# post-update time: 322.2678550000419"
   ]
  },
  {
   "cell_type": "code",
   "execution_count": null,
   "id": "1870f174-dd49-45cd-803c-be610f5b3f75",
   "metadata": {},
   "outputs": [],
   "source": []
  },
  {
   "cell_type": "code",
   "execution_count": null,
   "id": "44a37c29-bb01-4799-9cb0-0d181b9d2f4e",
   "metadata": {},
   "outputs": [],
   "source": [
    "## Asserts to make sure that the fully-updated dt is equal to the normal:\n",
    "assert active_pf_2D_dt.all_time_filtered_pos_df.shape == active_pf_2D_dt.filtered_pos_df.shape, f\"active_pf_2D_dt.all_time_filtered_pos_df.shape: {active_pf_2D_dt.all_time_filtered_pos_df.shape}\\nactive_pf_2D_dt.filtered_pos_df.shape: {active_pf_2D_dt.filtered_pos_df.shape} \"\n",
    "assert active_pf_2D_dt.all_time_filtered_spikes_df.shape == active_pf_2D_dt.filtered_spikes_df.shape, f\"active_pf_2D_dt.all_time_filtered_spikes_df.shape: {active_pf_2D_dt.all_time_filtered_spikes_df.shape}\\nactive_pf_2D_dt.filtered_spikes_df.shape: {active_pf_2D_dt.filtered_spikes_df.shape} \"\n",
    "# Occupancies are equal:\n",
    "\n",
    "assert np.isclose(active_pf_2D_dt.ratemap.occupancy, active_pf_2D.ratemap.occupancy).all(), f\"active_pf_2D_dt.ratemap.occupancy: {active_pf_2D_dt.ratemap.occupancy}\\nactive_pf_2D.ratemap.occupancy: {active_pf_2D.ratemap.occupancy}\"\n",
    "# assert (active_pf_2D_dt.ratemap.occupancy == active_pf_2D.ratemap.occupancy).all(), f\"active_pf_2D_dt.ratemap.occupancy: {active_pf_2D_dt.ratemap.occupancy}\\nactive_pf_2D.ratemap.occupancy: {active_pf_2D.ratemap.occupancy}\"\n",
    "assert (active_pf_2D_dt.ratemap.spikes_maps == active_pf_2D.ratemap.spikes_maps).all(), f\"active_pf_2D_dt.ratemap.spikes_maps: {active_pf_2D_dt.ratemap.spikes_maps}\\nactive_pf_2D.ratemap.spikes_maps: {active_pf_2D.ratemap.spikes_maps}\""
   ]
  },
  {
   "cell_type": "code",
   "execution_count": null,
   "id": "89708ed5-0a40-49b7-8d43-1dc53ed0589d",
   "metadata": {},
   "outputs": [],
   "source": [
    "assert (active_pf_2D_dt.ratemap.tuning_curves == active_pf_2D.ratemap.tuning_curves).all(), f\"active_pf_2D_dt.ratemap.tuning_curves: {active_pf_2D_dt.ratemap.tuning_curves}\\nactive_pf_2D.ratemap.tuning_curves: {active_pf_2D.ratemap.tuning_curves}\""
   ]
  },
  {
   "cell_type": "code",
   "execution_count": null,
   "id": "b2942eff-1c2e-40ff-9a29-86cafcee30c3",
   "metadata": {},
   "outputs": [],
   "source": [
    "active_pf_2D_dt.should_smooth_final_tuning_map"
   ]
  },
  {
   "cell_type": "code",
   "execution_count": null,
   "id": "b8163855-008b-4ec6-b774-3be9d6f03aaa",
   "metadata": {},
   "outputs": [],
   "source": [
    "PfND_ .should_smooth_spikes_map"
   ]
  },
  {
   "cell_type": "code",
   "execution_count": null,
   "id": "1d724020-6ae4-44d3-8eb6-0c39b3003fbc",
   "metadata": {},
   "outputs": [],
   "source": [
    "active_pf_2D_dt.plot_ratemaps_2D(**({'subplots': (None, 9), 'resolution_multiplier': 1.0, 'enable_spike_overlay': False}))"
   ]
  },
  {
   "cell_type": "code",
   "execution_count": null,
   "id": "4ec985f3-19c5-4b54-a509-d629d96b9faf",
   "metadata": {},
   "outputs": [],
   "source": [
    "active_pf_2D.plot_ratemaps_2D(**({'subplots': (None, 9), 'resolution_multiplier': 1.0, 'enable_spike_overlay': False}))"
   ]
  },
  {
   "cell_type": "code",
   "execution_count": null,
   "id": "83bc5aeb-092b-4095-82d0-d5fdb5546b84",
   "metadata": {},
   "outputs": [],
   "source": [
    "from pyphoplacecellanalysis.Pho2D.PyQtPlots.plot_placefields import pyqtplot_plot_image_array, pyqtplot_common_setup\n",
    "# Get flat list of images:\n",
    "images = active_pf_2D.ratemap.tuning_curves # (43, 63, 63)\n",
    "occupancy = active_pf_2D.ratemap.occupancy\n",
    "\n",
    "# images = active_pf_2D_dt.ratemap.tuning_curves # (43, 63, 63)\n",
    "# images = active_pf_2D_dt.curr_occupancy_weighted_tuning_maps_matrix[active_pf_2D_dt._included_thresh_neurons_indx,:,:] # (43, 63, 63)\n",
    "# images = active_pf_2D_dt.curr_smoothed_spikes_maps_matrix[active_pf_2D_dt._included_thresh_neurons_indx,:,:] # (43, 63, 63)\n",
    "# images = active_one_step_decoder.ratemap.normalized_tuning_curves[0:40,:,:] # (43, 63, 63)\n",
    "# occupancy = active_pf_2D_dt.ratemap.occupancy\n",
    "# occupancy = active_pf_2D_dt.curr_seconds_occupancy\n",
    "app, parent_root_widget, root_render_widget, plot_array, img_item_array, other_components_array = pyqtplot_plot_image_array(active_pf_2D_dt.xbin, active_pf_2D_dt.ybin, images, occupancy, \n",
    "                                                                        app=None, parent_root_widget=None, root_render_widget=None)\n",
    "\n",
    "parent_root_widget.show()"
   ]
  },
  {
   "cell_type": "code",
   "execution_count": null,
   "id": "2037c96d-e840-4505-98fa-8725762228c6",
   "metadata": {},
   "outputs": [],
   "source": [
    "def debug_show_placefields(pf_type: str, images, occupancy):\n",
    "    if pf_type == 'dt':\n",
    "        active_pfs = active_pf_2D_dt\n",
    "    else:\n",
    "        active_pfs =  active_pf_2D\n",
    "    app, parent_root_widget, root_render_widget, plot_array, img_item_array, other_components_array = pyqtplot_plot_image_array(active_pfs.xbin, active_pfs.ybin, images, occupancy, \n",
    "                                                                        app=None, parent_root_widget=None, root_render_widget=None)\n",
    "    parent_root_widget.show()\n",
    "    return dict(app=app, parent_root_widget=parent_root_widget, root_render_widget=root_render_widget, plot_array=plot_array, img_item_array=img_item_array, other_components_array=other_components_array)\n",
    "\n",
    "\n",
    "debug_pf_dict = debug_show_placefields('', active_pf_2D.ratemap.tuning_curves, active_pf_2D.ratemap.occupancy)"
   ]
  },
  {
   "cell_type": "code",
   "execution_count": null,
   "id": "d6b05ced-4c59-442e-93ff-6d755ae1aed3",
   "metadata": {},
   "outputs": [],
   "source": [
    "debug_pf_dt_dict = debug_show_placefields('dt', active_pf_2D_dt.ratemap.tuning_curves, active_pf_2D_dt.ratemap.occupancy)"
   ]
  },
  {
   "cell_type": "code",
   "execution_count": null,
   "id": "eb50a3c2-e0ed-468b-ada9-8c36f3e3113c",
   "metadata": {},
   "outputs": [],
   "source": [
    "active_pf_2D.should_smooth_spatial_occupancy_map\n",
    "active_pf_2D_dt.should_smooth_spatial_occupancy_map\n",
    "\n",
    "active_pf_2D_dt.included_neuron_IDs"
   ]
  },
  {
   "cell_type": "code",
   "execution_count": null,
   "id": "e5159ac7-f1bd-442b-a4b7-fd9d4c905ef0",
   "metadata": {},
   "outputs": [],
   "source": [
    "\n",
    "\n",
    "assert (active_pf_2D_dt.ratemap.spikes_maps == active_pf_2D.ratemap.spikes_maps).all(), f\"active_pf_2D_dt.ratemap.spikes_maps: {active_pf_2D_dt.ratemap.spikes_maps}\\nactive_pf_2D.ratemap.spikes_maps: {active_pf_2D.ratemap.spikes_maps}\""
   ]
  },
  {
   "cell_type": "code",
   "execution_count": null,
   "id": "610b54be-e4a1-43d9-928c-1941b6c4533c",
   "metadata": {},
   "outputs": [],
   "source": [
    "active_pf_2D_dt._included_thresh_neurons_indx"
   ]
  },
  {
   "cell_type": "code",
   "execution_count": null,
   "id": "2e8edaf6-6dea-4b70-bdfc-65b2f61f6055",
   "metadata": {},
   "outputs": [],
   "source": [
    "active_pf_2D.ratemap.occupancy"
   ]
  },
  {
   "cell_type": "code",
   "execution_count": null,
   "id": "e1ef0af9-dbc2-464b-84f4-4149349af8bd",
   "metadata": {},
   "outputs": [],
   "source": [
    "active_pf_2D_dt.curr_seconds_occupancy"
   ]
  },
  {
   "cell_type": "code",
   "execution_count": null,
   "id": "cb9f0ceb-a26b-41ed-9f68-a44c2816c233",
   "metadata": {},
   "outputs": [],
   "source": [
    "active_pf_2D_dt.ratemap.occupancy"
   ]
  },
  {
   "cell_type": "code",
   "execution_count": null,
   "id": "cf8f0e6f-c7af-46df-a9c0-614bb3f61692",
   "metadata": {},
   "outputs": [],
   "source": [
    "active_pf_2D.ratemap.tuning_curves"
   ]
  },
  {
   "cell_type": "code",
   "execution_count": null,
   "id": "f0a42c12-29e0-4f59-8783-c407de973c88",
   "metadata": {},
   "outputs": [],
   "source": [
    "active_pf_2D_dt.curr_occupancy_weighted_tuning_maps_matrix"
   ]
  },
  {
   "cell_type": "code",
   "execution_count": null,
   "id": "ef17b126-2918-482c-ba58-b67af241b023",
   "metadata": {},
   "outputs": [],
   "source": [
    "[len(dim_nonzeros) for dim_nonzeros in active_pf_2D_dt.curr_occupancy_weighted_tuning_maps_matrix[~active_pf_2D_dt._included_thresh_neurons_indx,:,:].nonzero()] # [4602, 4602, 4602], there are [2441, 2441, 2441] outside the included"
   ]
  },
  {
   "cell_type": "code",
   "execution_count": null,
   "id": "bda3c07d-85c5-44ab-b023-e5212817f04d",
   "metadata": {},
   "outputs": [],
   "source": [
    "[len(dim_nonzeros) for dim_nonzeros in active_pf_2D.ratemap.tuning_curves.nonzero()] # [67595, 67595, 67595]"
   ]
  },
  {
   "cell_type": "code",
   "execution_count": null,
   "id": "8e9c0184-e77a-4c58-9004-a4ac1e23261e",
   "metadata": {},
   "outputs": [],
   "source": [
    "active_pf_2D_dt.ratemap.tuning_curves"
   ]
  },
  {
   "cell_type": "code",
   "execution_count": null,
   "id": "a20a9670-2eff-4373-b7df-08d9d416b59f",
   "metadata": {},
   "outputs": [],
   "source": [
    "active_pf_2D.ratemap.spikes_maps.nonzero()"
   ]
  },
  {
   "cell_type": "code",
   "execution_count": null,
   "id": "ac0ec831-5abc-4ffd-82e0-dfee9128f641",
   "metadata": {},
   "outputs": [],
   "source": [
    "[len(dim_nonzeros) for dim_nonzeros in active_pf_2D.ratemap.tuning_curves.nonzero()] # [67595, 67595, 67595]"
   ]
  },
  {
   "cell_type": "code",
   "execution_count": null,
   "id": "a3b16910-31dc-4972-869e-af29f9c5329c",
   "metadata": {},
   "outputs": [],
   "source": [
    "active_pf_2D_dt.last_t"
   ]
  },
  {
   "cell_type": "code",
   "execution_count": null,
   "id": "e77498f5-56ca-4903-bd5f-a05c4d1373d8",
   "metadata": {},
   "outputs": [],
   "source": [
    "active_pf_2D_dt.ratemap.tuning_curves"
   ]
  },
  {
   "cell_type": "code",
   "execution_count": null,
   "id": "9a29600a-5933-46b5-9b55-d954245fa8f3",
   "metadata": {},
   "outputs": [],
   "source": [
    "active_pf_2D_dt.curr_occupancy_weighted_tuning_maps_matrix"
   ]
  },
  {
   "cell_type": "code",
   "execution_count": null,
   "id": "41cd1ae2-b6cf-4dbe-bdb1-94fb4df33fb0",
   "metadata": {},
   "outputs": [],
   "source": [
    "active_pf_2D_dt.ratemap.neuron_ids"
   ]
  },
  {
   "cell_type": "code",
   "execution_count": null,
   "id": "7275a411-b27d-409f-a831-1a920c132326",
   "metadata": {},
   "outputs": [],
   "source": [
    "# %pdb on\n",
    "pActiveTuningCurvesPlotter_dup = None\n",
    "display_output = display_output | curr_active_pipeline.display('_display_3d_interactive_tuning_curves_plotter', active_config_name, override_pf2D=active_pf_2D_dt , extant_plotter=display_output.get('pActiveTuningCurvesPlotter_dup', None),\n",
    "                                                               panel_controls_mode='Qt', should_nan_non_visited_elements=False, zScalingFactor=2000.0) # Works now!\n",
    "ipcDataExplorer_dup = display_output['ipcDataExplorer']\n",
    "display_output['pActiveTuningCurvesPlotter_dup'] = display_output.pop('plotter') # rename the key from the generic \"plotter\" to \"pActiveSpikesBehaviorPlotter\" to avoid collisions with others\n",
    "pActiveTuningCurvesPlotter_dup = display_output['pActiveTuningCurvesPlotter_dup']\n",
    "root_dockAreaWindow_dup, placefieldControlsContainerWidget_dup, pf_widgets_dup = display_output['pane'] # for Qt mode:"
   ]
  },
  {
   "cell_type": "code",
   "execution_count": null,
   "id": "a862a0e1-be53-4c5a-af97-7e8ef0eedbd3",
   "metadata": {},
   "outputs": [],
   "source": [
    "# %pdb on\n",
    "# %pdb off\n",
    "from pyphoplacecellanalysis.GUI.PyVista.InteractivePlotter.InteractivePlaceCellTuningCurvesDataExplorer import InteractivePlaceCellTuningCurvesDataExplorer\n",
    "from pyphoplacecellanalysis.GUI.Qt.Mixins.Menus.ConnectionControlsMenuMixin import ConnectionControlsMenuMixin\n",
    "\n",
    "from pyphocorehelpers.gui.Qt.widget_positioning_helpers import WidgetPositioningHelpers\n",
    "from pyphoplacecellanalysis.General.Configs.DynamicConfigs import PlottingConfig, InteractivePlaceCellConfig\n",
    "from pyphocorehelpers.mixins.member_enumerating import AllFunctionEnumeratingMixin\n",
    "from pyphoplacecellanalysis.General.Pipeline.Stages.DisplayFunctions.DisplayFunctionRegistryHolder import DisplayFunctionRegistryHolder\n",
    "\n",
    "pActiveTuningCurvesPlotter_dup = None\n",
    "from pyphoplacecellanalysis.GUI.PyQtPlot.Widgets.DockAreaWrapper import DockAreaWrapper\n",
    "\n",
    "# Qt-based Placefield controls:\n",
    "from pyphoplacecellanalysis.GUI.Qt.PlacefieldVisualSelectionControls.qt_placefield import build_all_placefield_output_panels\n",
    "# ipcDataExplorer_dup = InteractivePlaceCellTuningCurvesDataExplorer(curr_active_config, sess, active_computed_data['pf2D'], curr_active_config.plotting_config.pf_colors, **({'extant_plotter':None}))\n",
    "ipcDataExplorer_dup = InteractivePlaceCellTuningCurvesDataExplorer(curr_active_config, sess, active_computed_data['pf2D_dt'], curr_active_config.plotting_config.pf_colors, **({'extant_plotter':None}))\n",
    "\n",
    "# ipcDataExplorer_dup = InteractivePlaceCellTuningCurvesDataExplorer(curr_active_config, sess, active_pf_2D_dt, curr_active_config.plotting_config.pf_colors, **({'extant_plotter':None}))\n",
    "pActiveTuningCurvesPlotter_dup = ipcDataExplorer_dup.plot(pActiveTuningCurvesPlotter_dup) # [2, 17449]\n",
    "# Update the ipcDataExplorer's colors for spikes and placefields from its configs on init:\n",
    "ipcDataExplorer_dup.on_config_update({neuron_id:a_config.color for neuron_id, a_config in ipcDataExplorer_dup.active_neuron_render_configs_map.items()}, defer_update=False)\n",
    "\n",
    "# build the output panels if desired:\n",
    "# pane: (placefieldControlsContainerWidget, pf_widgets)\n",
    "placefieldControlsContainerWidget_dup, pf_widgets = build_all_placefield_output_panels(ipcDataExplorer_dup)\n",
    "placefieldControlsContainerWidget_dup.show()\n",
    "\n",
    "# Adds the placefield controls container widget and each individual pf widget to the ipcDataExplorer.ui in case it needs to reference them later:\n",
    "ipcDataExplorer_dup.ui['placefieldControlsContainerWidget'] = placefieldControlsContainerWidget_dup\n",
    "\n",
    "# Visually align the widgets:\n",
    "WidgetPositioningHelpers.align_window_edges(ipcDataExplorer_dup.p, placefieldControlsContainerWidget_dup, relative_position = 'above', resize_to_main=(1.0, None))\n",
    "\n",
    "# Wrap:\n",
    "active_root_main_widget = ipcDataExplorer_dup.p.window()\n",
    "root_dockAreaWindow, app = DockAreaWrapper.wrap_with_dockAreaWindow(active_root_main_widget, placefieldControlsContainerWidget_dup, title=ipcDataExplorer_dup.data_explorer_name)\n",
    "\n",
    "pane = (root_dockAreaWindow, placefieldControlsContainerWidget_dup, pf_widgets)\n",
    "\n"
   ]
  },
  {
   "cell_type": "code",
   "execution_count": null,
   "id": "d588baed-7c11-4838-a5eb-b13ef900279f",
   "metadata": {},
   "outputs": [],
   "source": [
    "# ## Update existing open ipcDataExplorer by overwriting (TODO):\n",
    "# ipcDataExplorer.params.active_epoch_placefields = active_pf_2D_dt"
   ]
  },
  {
   "cell_type": "code",
   "execution_count": null,
   "id": "1e14b649-76a2-44b8-ac9b-9e9df4fa6450",
   "metadata": {},
   "outputs": [],
   "source": []
  },
  {
   "cell_type": "markdown",
   "id": "bb64e0d4-73ed-475e-92a5-816e0e0bc33f",
   "metadata": {
    "jp-MarkdownHeadingCollapsed": true,
    "pycharm": {
     "is_executing": false,
     "name": "#%%\n"
    },
    "tags": []
   },
   "source": [
    "### Optional Duplicate ipcDataExplorer plotter for comparison"
   ]
  },
  {
   "cell_type": "code",
   "execution_count": null,
   "id": "79271397-1108-43cc-a7f9-12221ff539d0",
   "metadata": {
    "pycharm": {
     "is_executing": false,
     "name": "#%%\n"
    },
    "tags": []
   },
   "outputs": [],
   "source": [
    "pActiveTuningCurvesPlotter_dup = None\n",
    "display_output = display_output | curr_active_pipeline.display('_display_3d_interactive_tuning_curves_plotter', active_config_name, override_pf2D= , extant_plotter=display_output.get('pActiveTuningCurvesPlotter_dup', None),\n",
    "                                                               panel_controls_mode='Qt', should_nan_non_visited_elements=False, zScalingFactor=2000.0) # Works now!\n",
    "ipcDataExplorer_dup = display_output['ipcDataExplorer']\n",
    "display_output['pActiveTuningCurvesPlotter_dup'] = display_output.pop('plotter') # rename the key from the generic \"plotter\" to \"pActiveSpikesBehaviorPlotter\" to avoid collisions with others\n",
    "pActiveTuningCurvesPlotter_dup = display_output['pActiveTuningCurvesPlotter_dup']\n",
    "root_dockAreaWindow_dup, placefieldControlsContainerWidget_dup, pf_widgets_dup = display_output['pane'] # for Qt mode:"
   ]
  },
  {
   "cell_type": "markdown",
   "id": "03c7f6f6-519c-4eef-9661-7ff9262d4d6e",
   "metadata": {
    "jp-MarkdownHeadingCollapsed": true,
    "tags": []
   },
   "source": [
    "### Render computed contours and peaks to ipcDataExplorer:"
   ]
  },
  {
   "cell_type": "code",
   "execution_count": null,
   "id": "5bb8fdf3-4e20-4c96-aeec-92eba1adbc74",
   "metadata": {},
   "outputs": [],
   "source": [
    "from pyphoplacecellanalysis.PhoPositionalData.plotting.peak_prominences import render_all_neuron_peak_prominence_2d_results_on_pyvista_plotter\n",
    "## Call the function to add the 3D plot components to the pyvista plotter\n",
    "render_all_neuron_peak_prominence_2d_results_on_pyvista_plotter(ipcDataExplorer, active_peak_prominence_2d_results, debug_print=False)"
   ]
  },
  {
   "cell_type": "code",
   "execution_count": null,
   "id": "171e6a5b-045a-4838-a90c-9d6edf0b4522",
   "metadata": {
    "pycharm": {
     "is_executing": false,
     "name": "#%%\n"
    }
   },
   "outputs": [],
   "source": [
    "## Set the colors of the raster window from the tuning curve window:\n",
    "spike_raster_window.update_neurons_color_data(updated_neuron_render_configs=ipcDataExplorer.active_neuron_render_configs_map)"
   ]
  },
  {
   "cell_type": "code",
   "execution_count": null,
   "id": "05215ea8-1ea0-405c-a3f9-27c50b4381fd",
   "metadata": {
    "pycharm": {
     "is_executing": false,
     "name": "#%%\n"
    }
   },
   "outputs": [],
   "source": [
    "ipcDataExplorer.p.enable_depth_peeling(10, occlusion_ratio=0) # This fixes many of the rendering issues of the placefields, but does slow things way down. \n",
    "# ipcDataExplorer.p.enable_depth_peeling(number_of_peels=4, occlusion_ratio=0)\n",
    "# ipcDataExplorer.p.disable_depth_peeling()\n",
    "# ipcDataExplorer.p.enable_depth_peeling(10)"
   ]
  },
  {
   "cell_type": "code",
   "execution_count": null,
   "id": "1b73687a-2e03-4229-aacb-cc4e515b5b8b",
   "metadata": {
    "pycharm": {
     "is_executing": false,
     "name": "#%%\n"
    }
   },
   "outputs": [],
   "source": [
    "## Change background color:\n",
    "ipcDataExplorer.params.plotter_backgrounds"
   ]
  },
  {
   "cell_type": "code",
   "execution_count": null,
   "id": "59f93993-a516-4220-989a-a1b9a1680ed2",
   "metadata": {
    "pycharm": {
     "is_executing": false,
     "name": "#%%\n"
    }
   },
   "outputs": [],
   "source": [
    "ipcDataExplorer.set_background('Deep Space (Dark)')"
   ]
  },
  {
   "cell_type": "code",
   "execution_count": null,
   "id": "2f230154-b169-4f44-b990-5fd2bf20816d",
   "metadata": {
    "pycharm": {
     "is_executing": false,
     "name": "#%%\n"
    }
   },
   "outputs": [],
   "source": [
    "ipcDataExplorer.set_background('Purple Paradise')"
   ]
  },
  {
   "cell_type": "code",
   "execution_count": null,
   "id": "2c81c8aa-0165-443a-a529-5d5a613da343",
   "metadata": {
    "pycharm": {
     "is_executing": false,
     "name": "#%%\n"
    }
   },
   "outputs": [],
   "source": [
    "ipcDataExplorer.plot_placefields()"
   ]
  },
  {
   "cell_type": "code",
   "execution_count": null,
   "id": "a2925b1e-762d-49e8-9aa7-849ab19d9a63",
   "metadata": {
    "pycharm": {
     "is_executing": false,
     "name": "#%%\n"
    }
   },
   "outputs": [],
   "source": [
    "ipcDataExplorer.params.zScalingFactor"
   ]
  },
  {
   "cell_type": "code",
   "execution_count": null,
   "id": "616ba60d-0756-489a-a407-bd765035f879",
   "metadata": {},
   "outputs": [],
   "source": [
    "# ipcDataExplorer.toggle_plot_visibility() # Looks like it works for generally specified plot key\n",
    "# ipcDataExplorer.get_plot_objects_list\n",
    "\n",
    "# ['main', 'points', 'peaks']\n",
    "list(ipcDataExplorer.tuning_curve_plot_actors[2].keys())\n",
    "# 'tuningCurvePlotActors'"
   ]
  },
  {
   "cell_type": "code",
   "execution_count": null,
   "id": "94d703b8-edb2-472d-a97f-74c0c594c3cf",
   "metadata": {},
   "outputs": [],
   "source": [
    "curr_tuning_curve_data = ipcDataExplorer.plots_data['tuningCurvePlotData'][2]\n",
    "curr_pdata = curr_tuning_curve_data['pdata_currActiveNeuronTuningCurve'] # StructuredGrid\n",
    "curr_pdata_points = curr_tuning_curve_data['pdata_currActiveNeuronTuningCurve_Points'] # UnstructuredGrid\n",
    "curr_pdata_points\n",
    "# curr_pdata\n",
    "# {'curr_active_neuron_ID': 2,\n",
    "#  'curr_active_neuron_pf_identifier': 'pf[2]',\n",
    "#  'curr_active_neuron_tuning_Curve': array([[0.437126, 0.818305, 1.48319, ..., 0.0155238, 0.0067005, 0.00294359],\n",
    "#         [0.347969, 0.64914, 1.17457, ..., 0.0388841, 0.0167967, 0.00739304],\n",
    "#         [0.228976, 0.415578, 0.741638, ..., 0.0922773, 0.0399187, 0.0176301],\n",
    "#         ...,\n",
    "#         [0, 0, 0, ..., 0.0989772, 0.0683015, 0.0467108],\n",
    "#         [0, 0, 0, ..., 0.0407058, 0.0284058, 0.0195678],\n",
    "#         [0, 0, 0, ..., 0.0158926, 0.0112009, 0.00776478]]),\n",
    "#  'pdata_currActiveNeuronTuningCurve': StructuredGrid (0x24d816a7f40)\n",
    "#    N Cells:\t1764\n",
    "#    N Points:\t1856\n",
    "#    X Bounds:\t2.581e+01, 2.638e+02\n",
    "#    Y Bounds:\t1.244e+02, 1.536e+02\n",
    "#    Z Bounds:\t0.000e+00, 1.703e+01\n",
    "#    Dimensions:\t29, 64, 1\n",
    "#    N Arrays:\t3,\n",
    "#  'pdata_currActiveNeuronTuningCurve_Points': UnstructuredGrid (0x24d815b4dc0)\n",
    "#    N Cells:\t1716\n",
    "#    N Points:\t1812\n",
    "#    X Bounds:\t2.581e+01, 2.638e+02\n",
    "#    Y Bounds:\t1.244e+02, 1.536e+02\n",
    "#    Z Bounds:\t0.000e+00, 1.703e+01\n",
    "#    N Arrays:\t3,\n",
    "#  'lut': <vtkmodules.vtkCommonCore.vtkLookupTable(0x0000024D9A888950) at 0x0000024DAA8F35E0>,\n",
    "#  'peaks':\n",
    "#  ...\n",
    "\n",
    "surf = curr_pdata.extract_surface() # <class 'pyvista.core.pointset.PolyData'>\n",
    "surf\n",
    "\n",
    "# surf = curr_pdata_points.reconstruct_surface() # this does not work at all\n",
    "# surf\n",
    "# curr_pdata_points.length\n",
    "\n",
    "# active_points_data = curr_pdata_points.points.copy()\n",
    "# active_points_data = curr_pdata.copy()\n",
    "active_points_data = surf.copy()\n",
    "origin = active_points_data.center.copy()\n",
    "origin[-1] = origin[-1] - (active_points_data.length/3.0)\n",
    "origin\n",
    "projected = active_points_data.project_points_to_plane(origin=origin)\n",
    "projected"
   ]
  },
  {
   "cell_type": "code",
   "execution_count": null,
   "id": "c6ad079b-a48a-40df-8e2b-1554c40dbb6a",
   "metadata": {},
   "outputs": [],
   "source": [
    "edges = curr_pdata.extract_all_edges()\n",
    "edges.plot(line_width=1, color='k')"
   ]
  },
  {
   "cell_type": "code",
   "execution_count": null,
   "id": "6c69e63a-417b-4aa8-ae6f-022dd38172d8",
   "metadata": {},
   "outputs": [],
   "source": [
    "# non_visited_mask = active_placefields.never_visited_occupancy_mask\n",
    "non_visited_mask = ipcDataExplorer.params.active_epoch_placefields.never_visited_occupancy_mask.copy()\n",
    "non_visited_mask"
   ]
  },
  {
   "cell_type": "code",
   "execution_count": null,
   "id": "025eff68-851b-4dc0-9443-577e9bff1128",
   "metadata": {},
   "outputs": [],
   "source": [
    "flat_non_visited_mask = non_visited_mask.T.copy().ravel(order=\"F\")\n",
    "# flat_non_visited_mask.shape # (1856,)"
   ]
  },
  {
   "cell_type": "code",
   "execution_count": null,
   "id": "9fe38f1d-c08d-4596-bdfc-6fb043b7e716",
   "metadata": {},
   "outputs": [],
   "source": [
    "# Only if VTK > 9.1.X does this return a PointData, otherwise returns None\n",
    "# _ = curr_pdata.hide_points(ind=flat_non_visited_mask)\n",
    "curr_pdata.hide_cells(flat_non_visited_mask, inplace=True)\n",
    "# curr_updated_pdata_points = curr_pdata_points.hide_points(non_visited_mask).copy()\n",
    "# curr_updated_pdata_points\n",
    "# List or array of point indices to be hidden. The array can also be a boolean array of the same size as the number of points.\n"
   ]
  },
  {
   "cell_type": "code",
   "execution_count": null,
   "id": "42ddd7fa-79c5-4327-b1d6-356dab63d2af",
   "metadata": {},
   "outputs": [],
   "source": [
    "import pyvista as pv\n",
    "pl = pv.Plotter(shape=(1,2))\n",
    "pl.add_mesh(curr_pdata_points)\n",
    "pl.add_title('points')\n",
    "pl.subplot(0,1)\n",
    "pl.add_mesh(curr_pdata, color=True, show_edges=True)\n",
    "pl.add_mesh(surf, color=True, show_edges=True)\n",
    "pl.add_mesh(projected)\n",
    "pl.add_mesh(curr_pdata)\n",
    "pl.add_title('reconstructed from points')\n",
    "pl.show()"
   ]
  },
  {
   "cell_type": "code",
   "execution_count": null,
   "id": "d10263fd-80b8-495a-96f3-3bdcd24d579f",
   "metadata": {},
   "outputs": [],
   "source": [
    "curr_tuning_curve_plot = ipcDataExplorer.tuning_curve_plot_actors[2]['main']\n",
    "curr_tuning_curve_plot.GetShaderProperty()"
   ]
  },
  {
   "cell_type": "code",
   "execution_count": null,
   "id": "292d8616-2a6d-47df-9a9f-c48b1a8f8369",
   "metadata": {},
   "outputs": [],
   "source": [
    "sess_spikes_df"
   ]
  },
  {
   "cell_type": "markdown",
   "id": "172de269-4476-4326-afb4-25f85d1b3fde",
   "metadata": {
    "jp-MarkdownHeadingCollapsed": true,
    "tags": []
   },
   "source": [
    "### Test Programmatically Adding GUI/UI controls for additional plots (Occupancy, etc)"
   ]
  },
  {
   "cell_type": "code",
   "execution_count": null,
   "id": "ecac9586-f8f6-46a9-9db1-699e55ab9b87",
   "metadata": {},
   "outputs": [],
   "source": [
    "# ipcDataExplorer.ui.placefieldControlsContainerWidget # PlacefieldVisualSelectionControlsBarWidget\n",
    "# ipcDataExplorer.ui.placefieldControlsContainerWidget.ui.pf_layout # QHBoxLayout \n",
    "curr_neuron_widget = ipcDataExplorer.ui.placefieldControlsContainerWidget.ui.pf_widgets[0] # Grab single neuron widget (PlacefieldVisualSelectionWidget)\n",
    "curr_layout = curr_neuron_widget.ui.groupBox.layout() # QVBoxLayout "
   ]
  },
  {
   "cell_type": "code",
   "execution_count": null,
   "id": "fbe608c3-4fce-447e-8838-3ad7fc0a5af4",
   "metadata": {},
   "outputs": [],
   "source": [
    "chkbtnProminenceMetrics = curr_neuron_widget.build_ui_toggle_button(name='chkbtnProminenceMetrics', text='prominences', parent=curr_neuron_widget.ui.groupBox)\n",
    "curr_layout.addWidget(chkbtnProminenceMetrics)"
   ]
  },
  {
   "cell_type": "markdown",
   "id": "227459be-04d7-45c9-afbf-a24738457975",
   "metadata": {},
   "source": [
    "<!-- ### Occupancy Toggle -->"
   ]
  },
  {
   "cell_type": "code",
   "execution_count": null,
   "id": "2c33a867-30b8-42c5-8ffb-b200668a5daf",
   "metadata": {},
   "outputs": [],
   "source": [
    "# ipcDataExplorer.on_occupancy_plot_update_visibility\n",
    "ipcDataExplorer.occupancy_plotting_config.isVisible = False"
   ]
  },
  {
   "cell_type": "code",
   "execution_count": null,
   "id": "b22f2eb1-48d2-4ee8-866f-f4c9c935f2d3",
   "metadata": {
    "pycharm": {
     "is_executing": false,
     "name": "#%%\n"
    }
   },
   "outputs": [],
   "source": [
    "ipcDataExplorer.plot_occupancy_bars()"
   ]
  },
  {
   "cell_type": "code",
   "execution_count": null,
   "id": "b3cf8d81-d70e-4b02-b824-e175f409b236",
   "metadata": {
    "pycharm": {
     "is_executing": false,
     "name": "#%%\n"
    }
   },
   "outputs": [],
   "source": [
    "ipcDataExplorer.occupancy_plotting_config.labelsAreVisible = True # Setting this to true renders the labels at each occupancy bin"
   ]
  },
  {
   "cell_type": "code",
   "execution_count": null,
   "id": "98ba03ff-5740-40e8-b975-2b2c2750b713",
   "metadata": {
    "pycharm": {
     "is_executing": false,
     "name": "#%%\n"
    }
   },
   "outputs": [],
   "source": [
    "ipcDataExplorer.occupancy_plotting_config.labelsShowPoints = True"
   ]
  },
  {
   "cell_type": "code",
   "execution_count": null,
   "id": "c8e7eec0-acd1-41d5-964a-8692f7e42c09",
   "metadata": {
    "pycharm": {
     "is_executing": false,
     "name": "#%%\n"
    }
   },
   "outputs": [],
   "source": [
    "ipcDataExplorer.params.should_nan_non_visited_elements = False"
   ]
  },
  {
   "cell_type": "code",
   "execution_count": null,
   "id": "023b14ee-1686-4855-acd4-ae3fe24e001a",
   "metadata": {
    "pycharm": {
     "is_executing": false,
     "name": "#%%\n"
    }
   },
   "outputs": [],
   "source": [
    "filtered_indices = sess_spikes_df.index.values[active_pf_2D.filtered_spikes_df.index]\n",
    "# filtered_sess_spikes_df = sess_spikes_df[sess_spikes_df.index == active_pf_2D.filtered_spikes_df.index]\n",
    "# filtered_sess_spikes_df = sess_spikes_df[sess_spikes_df['flat_spike_idx'] == active_pf_2D.filtered_spikes_df.flat_spike_idx]\n",
    "# filtered_sess_spikes_df"
   ]
  },
  {
   "cell_type": "code",
   "execution_count": null,
   "id": "a7e42890-2a5a-4a5d-be5b-ad3b7b9f8c6b",
   "metadata": {
    "pycharm": {
     "is_executing": false,
     "name": "#%%\n"
    }
   },
   "outputs": [],
   "source": [
    "ipcDataExplorer.occupancy_plotting_config.isVisible = False"
   ]
  },
  {
   "cell_type": "code",
   "execution_count": null,
   "id": "4cad4711-3f5d-44c3-9fc1-bd1465a86a70",
   "metadata": {
    "pycharm": {
     "is_executing": false,
     "name": "#%%\n"
    }
   },
   "outputs": [],
   "source": [
    "ipcDataExplorer.occupancy_plotting_config"
   ]
  },
  {
   "cell_type": "markdown",
   "id": "70496ef4-87e4-4e2b-ba6d-bcbd8b3adc81",
   "metadata": {
    "jp-MarkdownHeadingCollapsed": true,
    "pycharm": {
     "is_executing": false,
     "name": "#%%\n"
    },
    "tags": []
   },
   "source": [
    "### Explore Mesh/Cell Picking in ipcDataExplorer"
   ]
  },
  {
   "cell_type": "code",
   "execution_count": null,
   "id": "efcdc58e-09e6-4b58-bf08-6c64fa41b5a6",
   "metadata": {
    "pycharm": {
     "is_executing": false,
     "name": "#%%\n"
    }
   },
   "outputs": [],
   "source": [
    "## Make the legend pickable:\n",
    "import pyvista as pv\n",
    "\n",
    "def callback(point):\n",
    "    \"\"\"Create a cube and a label at the click point.\"\"\"\n",
    "    mesh = pv.Cube(center=point, x_length=0.05, y_length=0.05, z_length=0.05)\n",
    "    ipcDataExplorer.p.add_mesh(mesh, style='wireframe', color='r')\n",
    "    ipcDataExplorer.p.add_point_labels(point, [f\"{point[0]:.2f}, {point[1]:.2f}, {point[2]:.2f}\"])\n",
    "\n",
    "\n",
    "ipcDataExplorer.p.enable_surface_picking(callback=callback, left_clicking=True, show_point=False)\n",
    "# ipcDataExplorer.p.enable_surface_picking("
   ]
  },
  {
   "cell_type": "code",
   "execution_count": null,
   "id": "b4748c03-f688-4d0f-a40c-dabe75ee9e34",
   "metadata": {
    "pycharm": {
     "is_executing": false,
     "name": "#%%\n"
    }
   },
   "outputs": [],
   "source": [
    "def mesh_picked_callback(mesh):\n",
    "    \"\"\"TODO: highlight the mesh or something - label at the click point.\"\"\"\n",
    "    print(f'mesh_picked_callback(mesh: {mesh})')\n",
    "    # mesh = pv.Cube(center=point, x_length=0.05, y_length=0.05, z_length=0.05)\n",
    "    # ipcDataExplorer.p.add_mesh(mesh, style='wireframe', color='r')\n",
    "    # ipcDataExplorer.p.add_point_labels(point, [f\"{point[0]:.2f}, {point[1]:.2f}, {point[2]:.2f}\"])\n",
    "\n",
    "ipcDataExplorer.p.enable_mesh_picking(callback=mesh_picked_callback, left_clicking=True, show=True)"
   ]
  },
  {
   "cell_type": "markdown",
   "id": "e7e92907-c05c-4ad1-b291-2e941433a87e",
   "metadata": {
    "jp-MarkdownHeadingCollapsed": true,
    "pycharm": {
     "is_executing": false,
     "name": "#%%\n"
    },
    "tags": []
   },
   "source": [
    "### Other"
   ]
  },
  {
   "cell_type": "code",
   "execution_count": null,
   "id": "46d9eb58-f053-4b19-8630-c2087b5c9bad",
   "metadata": {
    "pycharm": {
     "name": "#%%\n"
    }
   },
   "outputs": [],
   "source": [
    "# Here we look at the population burst events for each epoch ('maze1' vs. 'maze2')\n",
    "# curr_active_pipeline.sess.\n",
    "\n",
    "# get only the spikes that occur during PBEs:\n",
    "pbe_only_spikes_df = sess.spikes_df[(sess.spikes_df.PBE_id > -1)]\n",
    "pbe_only_spikes_df\n",
    "\n",
    "curr_active_pipeline.sess.pbe #[10960 rows x 4 columns]"
   ]
  },
  {
   "cell_type": "code",
   "execution_count": null,
   "id": "16de2901-e7ea-40fe-8807-d5bfb57b01bd",
   "metadata": {
    "pycharm": {
     "name": "#%%\n"
    }
   },
   "outputs": [],
   "source": [
    "app, win, w = curr_active_pipeline.display('_display_placemaps_pyqtplot_2D', active_config_name)\n",
    "win.show(); pg.exec()"
   ]
  },
  {
   "cell_type": "markdown",
   "id": "5780219e-f3f0-4184-ad7e-c2d6111adadb",
   "metadata": {
    "jp-MarkdownHeadingCollapsed": true,
    "pycharm": {
     "is_executing": false,
     "name": "#%%\n"
    },
    "tags": []
   },
   "source": [
    "## ipspikesDataExplorer - 3D Interactive Spike and Behavior Plotter"
   ]
  },
  {
   "cell_type": "code",
   "execution_count": null,
   "id": "3ac70061-9e27-48cc-ae89-b01836c3d4c2",
   "metadata": {
    "pycharm": {
     "is_executing": false,
     "name": "#%%\n"
    },
    "scrolled": true
   },
   "outputs": [],
   "source": [
    "pActiveSpikesBehaviorPlotter = None\n",
    "display_output = display_output | curr_active_pipeline.display('_display_3d_interactive_spike_and_behavior_browser', active_config_name, extant_plotter=display_output.get('pActiveSpikesBehaviorPlotter', None)) # Works now!\n",
    "ipspikesDataExplorer = display_output['ipspikesDataExplorer']\n",
    "display_output['pActiveSpikesBehaviorPlotter'] = display_output.pop('plotter') # rename the key from the generic \"plotter\" to \"pActiveSpikesBehaviorPlotter\" to avoid collisions with others\n",
    "pActiveSpikesBehaviorPlotter = display_output['pActiveSpikesBehaviorPlotter']"
   ]
  },
  {
   "cell_type": "code",
   "execution_count": null,
   "id": "a1c468be-a227-4ad8-96bb-23577e1f588e",
   "metadata": {
    "pycharm": {
     "is_executing": false,
     "name": "#%%\n"
    },
    "scrolled": true
   },
   "outputs": [],
   "source": [
    "## Sync ipspikesDataExplorer to raster window:\n",
    "extra_interactive_spike_behavior_browser_sync_connection = spike_raster_window.connect_additional_controlled_plotter(controlled_plt=ipspikesDataExplorer)\n",
    "# extra_interactive_spike_behavior_browser_sync_connection = _connect_additional_controlled_plotter(spike_raster_window.spike_raster_plt_2d, ipspikesDataExplorer)"
   ]
  },
  {
   "cell_type": "markdown",
   "id": "7c7485f6-3d15-4681-9dc1-722b4ca67d90",
   "metadata": {
    "pycharm": {
     "is_executing": false,
     "name": "#%%\n"
    }
   },
   "source": [
    "### Test Programmatic Updating of the ipspikesDataExplorer"
   ]
  },
  {
   "cell_type": "code",
   "execution_count": null,
   "id": "843919bd-e5f6-4ae0-b85d-775988be9312",
   "metadata": {
    "pycharm": {
     "is_executing": false,
     "name": "#%%\n"
    },
    "scrolled": true
   },
   "outputs": [],
   "source": [
    "ipspikesDataExplorer.spikes_main_historical.VisibilityOff()\n",
    "# ipspikesDataExplorer."
   ]
  },
  {
   "cell_type": "code",
   "execution_count": null,
   "id": "7d2a1570-cba6-4169-8da9-13bf495467e3",
   "metadata": {
    "pycharm": {
     "is_executing": false,
     "name": "#%%\n"
    },
    "scrolled": true
   },
   "outputs": [],
   "source": [
    "np.shape(ipspikesDataExplorer.params.flattened_spike_positions_list) # (2, 102139)\n",
    "np.shape(ipspikesDataExplorer.flattened_spike_times) # (102139,)\n",
    "\n",
    "recent_spikes_mesh = ipspikesDataExplorer.plots['spikes_main_recent_only']\n",
    "# ipspikesDataExplorer.plots.keys() # dict_keys(['spikes_main_historical', 'spikes_main_recent_only', 'animal_location_trail', 'animal_current_location_point', 'maze_bg'])\n",
    "# , show_edges=True"
   ]
  },
  {
   "cell_type": "code",
   "execution_count": null,
   "id": "c65e6082-7879-4482-91b9-2fb298090554",
   "metadata": {
    "pycharm": {
     "is_executing": false,
     "name": "#%%\n"
    },
    "scrolled": true
   },
   "outputs": [],
   "source": [
    "ipspikesDataExplorer.spikes_main_historical.AddPosition((0.0, 0.0, (-1.1*10)))"
   ]
  },
  {
   "cell_type": "markdown",
   "id": "86215a6c-4a87-4d3e-9022-e6ff3448f17b",
   "metadata": {
    "jp-MarkdownHeadingCollapsed": true,
    "tags": []
   },
   "source": [
    "## TimeSynchronizedPlotters - for plotting time-dependent placefields (active_pf_2D_dt) "
   ]
  },
  {
   "cell_type": "markdown",
   "id": "11053011-346e-4d50-baa6-711332102131",
   "metadata": {
    "tags": []
   },
   "source": [
    "### 🔜👁️‍🗨️ Merging TimeSynchronized Plotters:"
   ]
  },
  {
   "cell_type": "code",
   "execution_count": null,
   "id": "61c913ff-200b-494c-b6de-ea12fc068823",
   "metadata": {},
   "outputs": [],
   "source": [
    "from pyphoplacecellanalysis.GUI.PyQtPlot.Widgets.SpikeRasterWidgets.Spike2DRaster import Spike2DRaster\n",
    "from pyphoplacecellanalysis.Pho2D.PyQtPlots.TimeSynchronizedPlotters.TimeSynchronizedOccupancyPlotter import TimeSynchronizedOccupancyPlotter\n",
    "from pyphoplacecellanalysis.Pho2D.PyQtPlots.TimeSynchronizedPlotters.TimeSynchronizedPlacefieldsPlotter import TimeSynchronizedPlacefieldsPlotter\n",
    "from pyphoplacecellanalysis.GUI.PyQtPlot.Widgets.DockAreaWrapper import DockAreaWrapper\n",
    "\n",
    "def _build_combined_time_synchronized_plotters_window(active_pf_2D_dt, fixed_window_duration = 15.0):\n",
    "    \"\"\" Builds a single window with time_synchronized (time-dependent placefield) plotters controlled by a 2DRasterPlot widget.\n",
    "    \n",
    "    Usage:\n",
    "        active_pf_2D_dt.reset()\n",
    "        active_pf_2D_dt.update(t=45.0, start_relative_t=True)\n",
    "        all_plotters, root_dockAreaWindow, app = _build_combined_time_synchronized_plotters_window(active_pf_2D_dt, fixed_window_duration = 15.0)\n",
    "    \"\"\"\n",
    "    def _merge_plotters(spike_raster_plt_2d, curr_sync_occupancy_plotter, curr_placefields_plotter):\n",
    "        # root_dockAreaWindow, app = DockAreaWrapper.wrap_with_dockAreaWindow(curr_sync_occupancy_plotter, spike_raster_plt_2d, title='All Time Synchronized Plotters')\n",
    "        # curr_placefields_plotter, dDisplayItem = root_dockAreaWindow.add_display_dock(identifier='Time Dependent Placefields', widget=curr_placefields_plotter, dockAddLocationOpts=['left'])\n",
    "        root_dockAreaWindow, app = DockAreaWrapper.wrap_with_dockAreaWindow(curr_sync_occupancy_plotter, curr_placefields_plotter, title='All Time Synchronized Plotters')\n",
    "        spike_raster_plt_2d, dDisplayItem = root_dockAreaWindow.add_display_dock(identifier='Time Dependent Placefields', widget=spike_raster_plt_2d, dockAddLocationOpts=['bottom'])\n",
    "        \n",
    "        ## Register the children items as drivables/drivers:\n",
    "        root_dockAreaWindow.connection_man.register_drivable(curr_sync_occupancy_plotter)\n",
    "        root_dockAreaWindow.connection_man.register_drivable(curr_placefields_plotter)\n",
    "        root_dockAreaWindow.connection_man.register_driver(spike_raster_plt_2d)\n",
    "        # Wire up signals such that time-synchronized plotters are controlled by the RasterPlot2D:\n",
    "        occupancy_raster_window_sync_connection = root_dockAreaWindow.connection_man.connect_drivable_to_driver(drivable=curr_sync_occupancy_plotter, driver=spike_raster_plt_2d,\n",
    "                                                               custom_connect_function=(lambda driver, drivable: pg.SignalProxy(driver.window_scrolled, delay=0.2, rateLimit=60, slot=drivable.on_window_changed_rate_limited)))\n",
    "        placefields_raster_window_sync_connection = root_dockAreaWindow.connection_man.connect_drivable_to_driver(drivable=curr_placefields_plotter, driver=spike_raster_plt_2d,\n",
    "                                                               custom_connect_function=(lambda driver, drivable: pg.SignalProxy(driver.window_scrolled, delay=0.2, rateLimit=60, slot=drivable.on_window_changed_rate_limited)))\n",
    "        \n",
    "        return root_dockAreaWindow, app\n",
    "    \n",
    "    # Build the 2D Raster Plotter using a fixed window duration\n",
    "    current_window_start_time = active_pf_2D_dt.last_t - fixed_window_duration\n",
    "    spike_raster_plt_2d = Spike2DRaster.init_from_independent_data(active_pf_2D_dt.all_time_filtered_spikes_df, window_duration=fixed_window_duration, window_start_time=current_window_start_time,\n",
    "                                                                   neuron_colors=None, neuron_sort_order=None, application_name='TimeSynchronizedPlotterControlSpikeRaster2D',\n",
    "                                                                   enable_independent_playback_controller=False, should_show=False,  parent=None) # setting , parent=spike_raster_plt_3d makes a single window\n",
    "    spike_raster_plt_2d.setWindowTitle('2D Raster Control Window')\n",
    "    # Update the 2D Scroll Region to the initial value:\n",
    "    spike_raster_plt_2d.update_scroll_window_region(current_window_start_time, active_pf_2D_dt.last_t, block_signals=False)\n",
    "    curr_sync_occupancy_plotter = TimeSynchronizedOccupancyPlotter(active_pf_2D_dt)\n",
    "    curr_placefields_plotter = TimeSynchronizedPlacefieldsPlotter(active_pf_2D_dt)\n",
    "    \n",
    "    root_dockAreaWindow, app = _merge_plotters(spike_raster_plt_2d, curr_sync_occupancy_plotter, curr_placefields_plotter)\n",
    "    return (spike_raster_plt_2d, curr_sync_occupancy_plotter, curr_placefields_plotter), root_dockAreaWindow, app\n",
    "\n",
    "active_pf_2D_dt.reset()\n",
    "active_pf_2D_dt.update(t=45.0, start_relative_t=True)\n",
    "all_plotters, root_dockAreaWindow, app = _build_combined_time_synchronized_plotters_window(active_pf_2D_dt, fixed_window_duration = 15.0)"
   ]
  },
  {
   "cell_type": "code",
   "execution_count": null,
   "id": "b2b8f11d-b5df-45cf-9bea-0cf2350d6e8b",
   "metadata": {},
   "outputs": [],
   "source": [
    "# MESSAGE:\n",
    "# ipspikesDataExplorer.disable_ui_window_updating_controls() # Works\n",
    "ipspikesDataExplorer.disable_ui_window_updating_controls() # Works\n"
   ]
  },
  {
   "cell_type": "code",
   "execution_count": null,
   "id": "f8d19265-3334-4b07-a423-fb75ba7e652c",
   "metadata": {},
   "outputs": [],
   "source": [
    "## 🔜 CURRENT: Determine why some curves are flat, and others aren't, and how this relates to the firing rate.\n",
    "\n",
    "with pd.option_context('display.max_rows', 70, 'display.max_columns', 5):\n",
    "    print(pd.DataFrame({'neuron_ids':ipcDataExplorer.placefields.ratemap.neuron_ids,\n",
    "                  'unsmoothed_peak_firing_rates': ipcDataExplorer.placefields.ratemap.tuning_curve_unsmoothed_peak_firing_rates,\n",
    "                  'peak_firing_rates': ipcDataExplorer.placefields.ratemap.tuning_curve_peak_firing_rates}))\n",
    "\n",
    "https://github.com/CommanderPho/NeuroPy/blob/feature%2Fpho_variant/neuropy/plotting/ratemaps.py#L230"
   ]
  },
  {
   "cell_type": "markdown",
   "id": "2905c81b-e688-4486-88b1-d09d7ad59c47",
   "metadata": {
    "tags": []
   },
   "source": [
    "### OLD Individual"
   ]
  },
  {
   "cell_type": "code",
   "execution_count": null,
   "id": "01170936-2f60-40d0-875c-e3e9166086de",
   "metadata": {
    "tags": []
   },
   "outputs": [],
   "source": [
    "active_pf_2D_dt.reset()\n",
    "active_pf_2D_dt.update(t=45.0, start_relative_t=True)"
   ]
  },
  {
   "cell_type": "markdown",
   "id": "06e56d73-26a4-454b-8d0c-a2ab21154bd3",
   "metadata": {},
   "source": [
    "#### Control Timeline/Spike2DRaster"
   ]
  },
  {
   "cell_type": "code",
   "execution_count": null,
   "id": "a83f5fb2-11a5-4e9d-b1a9-31071fa3d161",
   "metadata": {},
   "outputs": [],
   "source": [
    "from pyphoplacecellanalysis.GUI.PyQtPlot.Widgets.SpikeRasterWidgets.Spike2DRaster import Spike2DRaster\n",
    "\n",
    "# Build the 2D Raster Plotter\n",
    "# Use a fixed window duration\n",
    "fixed_window_duration = 15.0 # 15 seconds\n",
    "current_window_start_time = active_pf_2D_dt.last_t - fixed_window_duration\n",
    "spike_raster_plt_2d = Spike2DRaster.init_from_independent_data(active_pf_2D_dt.all_time_filtered_spikes_df, window_duration=fixed_window_duration, window_start_time=current_window_start_time,\n",
    "                                                               neuron_colors=None, neuron_sort_order=None, application_name='TimeSynchronizedPlotterControlSpikeRaster2D',\n",
    "                                                               enable_independent_playback_controller=False, should_show=False,  parent=None) # setting , parent=spike_raster_plt_3d makes a single window\n",
    "spike_raster_plt_2d.setWindowTitle('2D Raster Control Window')\n",
    "# Update the 2D Scroll Region to the initial value:\n",
    "spike_raster_plt_2d.update_scroll_window_region(current_window_start_time, active_pf_2D_dt.last_t, block_signals=False)\n",
    "\n",
    "spike_raster_plt_2d.show()"
   ]
  },
  {
   "cell_type": "markdown",
   "id": "b3e449ca-daff-4ca7-9dad-964cf27927e0",
   "metadata": {
    "tags": []
   },
   "source": [
    "#### TimeSynchronizedOccupancyPlotter"
   ]
  },
  {
   "cell_type": "code",
   "execution_count": null,
   "id": "c9382649-22d0-4e12-b520-5e1d3ee9c9cc",
   "metadata": {},
   "outputs": [],
   "source": [
    "from pyphoplacecellanalysis.Pho2D.PyQtPlots.TimeSynchronizedPlotters.TimeSynchronizedOccupancyPlotter import TimeSynchronizedOccupancyPlotter\n",
    "curr_sync_occupancy_plotter = TimeSynchronizedOccupancyPlotter(active_pf_2D_dt)\n",
    "curr_sync_occupancy_plotter.show()"
   ]
  },
  {
   "cell_type": "code",
   "execution_count": null,
   "id": "b4515354-3249-4460-beae-4f4347e776a4",
   "metadata": {},
   "outputs": [],
   "source": [
    "# Control Occupancy Plotter by spike_raster_window:\n",
    "occupancy_raster_window_sync_connection = spike_raster_window.connection_man.connect_drivable_to_driver(drivable=curr_sync_occupancy_plotter, driver=spike_raster_window.spike_raster_plt_2d,\n",
    "                                                       custom_connect_function=(lambda driver, drivable: pg.SignalProxy(driver.window_scrolled, delay=0.2, rateLimit=60, slot=drivable.on_window_changed_rate_limited)))"
   ]
  },
  {
   "cell_type": "code",
   "execution_count": null,
   "id": "a37a4657-2d1c-410d-bd3a-06abd004bad7",
   "metadata": {},
   "outputs": [],
   "source": [
    "# curr_sync_occupancy_plotter.occupancy_mode_to_render = 'num_pos_samples_occupancy'\n",
    "curr_sync_occupancy_plotter.occupancy_mode_to_render = 'curr_num_pos_samples_smoothed_occupancy_map'\n",
    "\n"
   ]
  },
  {
   "cell_type": "markdown",
   "id": "95e8ba70-173a-4719-abc3-1856582027d6",
   "metadata": {
    "tags": []
   },
   "source": [
    "#### TimeSynchronizedPlacefieldsPlotter"
   ]
  },
  {
   "cell_type": "code",
   "execution_count": null,
   "id": "7a184c43-26be-494d-84dc-af41e6906002",
   "metadata": {},
   "outputs": [],
   "source": [
    "from pyphoplacecellanalysis.Pho2D.PyQtPlots.TimeSynchronizedPlotters.TimeSynchronizedPlacefieldsPlotter import TimeSynchronizedPlacefieldsPlotter\n",
    "curr_placefields_plotter = TimeSynchronizedPlacefieldsPlotter(active_pf_2D_dt)\n",
    "curr_placefields_plotter.show()"
   ]
  },
  {
   "cell_type": "code",
   "execution_count": null,
   "id": "a6a2ea12-8d6e-4e3a-a1f5-7d1c36fddf72",
   "metadata": {},
   "outputs": [],
   "source": [
    "# Control Placefields Plotter by spike_raster_window:\n",
    "placefields_raster_window_sync_connection = spike_raster_window.connection_man.connect_drivable_to_driver(drivable=curr_placefields_plotter, driver=spike_raster_window.spike_raster_plt_2d,\n",
    "                                                       custom_connect_function=(lambda driver, drivable: pg.SignalProxy(driver.window_scrolled, delay=0.2, rateLimit=60, slot=drivable.on_window_changed_rate_limited)))"
   ]
  },
  {
   "cell_type": "code",
   "execution_count": null,
   "id": "65fdce8c-77c5-44ee-a809-07b0bd633478",
   "metadata": {},
   "outputs": [],
   "source": []
  },
  {
   "cell_type": "markdown",
   "id": "09e8ef25-5839-4f66-98a2-cce6220fa4c1",
   "metadata": {
    "tags": []
   },
   "source": [
    "#### TimeSynchronizedPositionDecoderPlotter"
   ]
  },
  {
   "cell_type": "code",
   "execution_count": null,
   "id": "b0cacbfb-f3f7-4a87-9c7a-a8ce1ce050b5",
   "metadata": {},
   "outputs": [],
   "source": [
    "from pyphoplacecellanalysis.Pho2D.PyQtPlots.TimeSynchronizedPlotters.TimeSynchronizedPositionDecoderPlotter import TimeSynchronizedPositionDecoderPlotter\n",
    "curr_position_decoder_plotter = TimeSynchronizedPositionDecoderPlotter(active_one_step_decoder, active_two_step_decoder)\n",
    "curr_position_decoder_plotter.show()"
   ]
  },
  {
   "cell_type": "code",
   "execution_count": null,
   "id": "d089e306-b4f7-4264-ae17-5dc00c9d815f",
   "metadata": {},
   "outputs": [],
   "source": [
    "curr_position_decoder_plotter.update(t=9000.0)"
   ]
  },
  {
   "cell_type": "code",
   "execution_count": null,
   "id": "69ed2ff8-83a4-4d9a-8af6-b1939738ca38",
   "metadata": {},
   "outputs": [],
   "source": [
    "# Control Placefields Plotter by spike_raster_window:\n",
    "placefields_raster_window_sync_connection = spike_raster_window.connection_man.connect_drivable_to_driver(drivable=curr_placefields_plotter, driver=spike_raster_window.spike_raster_plt_2d,\n",
    "                                                       custom_connect_function=(lambda driver, drivable: pg.SignalProxy(driver.window_scrolled, delay=0.2, rateLimit=60, slot=drivable.on_window_changed_rate_limited)))"
   ]
  },
  {
   "cell_type": "code",
   "execution_count": null,
   "id": "2850bba9-8797-40be-a131-652ce319b819",
   "metadata": {},
   "outputs": [],
   "source": []
  },
  {
   "cell_type": "code",
   "execution_count": null,
   "id": "35bffe48-559e-4664-9067-161648362a3a",
   "metadata": {},
   "outputs": [],
   "source": []
  },
  {
   "cell_type": "markdown",
   "id": "eb18a15d-dd8c-4973-8316-7e9e2a622e11",
   "metadata": {
    "jp-MarkdownHeadingCollapsed": true,
    "pycharm": {
     "is_executing": false,
     "name": "#%%\n"
    },
    "tags": []
   },
   "source": [
    "## Updated Color Config Handling"
   ]
  },
  {
   "cell_type": "code",
   "execution_count": null,
   "id": "bda8eb46-1aca-4646-9190-50cffa7552b5",
   "metadata": {
    "pycharm": {
     "is_executing": false,
     "name": "#%%\n"
    }
   },
   "outputs": [],
   "source": [
    "ipcDataExplorer.active_neuron_render_configs"
   ]
  },
  {
   "cell_type": "code",
   "execution_count": null,
   "id": "b2aa52bc-eaa3-4c3b-bddd-2602b120ad63",
   "metadata": {
    "pycharm": {
     "is_executing": false,
     "name": "#%%\n"
    }
   },
   "outputs": [],
   "source": [
    "# [SingleNeuronPlottingExtended(color='#843c39', extended_values_dictionary={}, isVisible=False, name='2', spikesVisible=False),\n",
    "#  SingleNeuronPlottingExtended(color='#9d514e', extended_values_dictionary={}, isVisible=False, name='3', spikesVisible=False),\n",
    "#  ...\n",
    "# ]"
   ]
  },
  {
   "cell_type": "code",
   "execution_count": null,
   "id": "a56ee0e0-6db3-4b25-8d24-05b7a7190311",
   "metadata": {
    "pycharm": {
     "is_executing": false,
     "name": "#%%\n"
    }
   },
   "outputs": [],
   "source": [
    "test_updated_configs_colors_map[3] = '#333333'"
   ]
  },
  {
   "cell_type": "code",
   "execution_count": null,
   "id": "42b57cec-6199-4917-98b8-3aae10460e07",
   "metadata": {
    "pycharm": {
     "is_executing": false,
     "name": "#%%\n"
    }
   },
   "outputs": [],
   "source": [
    "# Test applying changes to configs:\n",
    "active_configs_map, updated_ids_list, updated_configs_list = _test_apply_updated_colors_map_to_configs(active_configs_map, test_updated_configs_colors_map)\n",
    "# active_configs_map"
   ]
  },
  {
   "cell_type": "code",
   "execution_count": null,
   "id": "bb99d50f-d3dd-43d0-8507-0f5740540b30",
   "metadata": {
    "pycharm": {
     "is_executing": false,
     "name": "#%%\n"
    }
   },
   "outputs": [],
   "source": [
    "## Test applying it to the Qt widgets:\n",
    "# ipcDataExplorer.find_rows_matching_cell_ids\n",
    "\n",
    "ipcDataExplorer.active_neuron_render_configs"
   ]
  },
  {
   "cell_type": "code",
   "execution_count": null,
   "id": "61d060ca-b27f-43e1-bd20-1b560f525f0a",
   "metadata": {
    "pycharm": {
     "is_executing": false,
     "name": "#%%\n"
    }
   },
   "outputs": [],
   "source": [
    "test_updated_configs_colors_map"
   ]
  },
  {
   "cell_type": "code",
   "execution_count": null,
   "id": "56380160-73d7-4a2b-8f34-9ada12680466",
   "metadata": {
    "pycharm": {
     "is_executing": false,
     "name": "#%%\n"
    }
   },
   "outputs": [],
   "source": [
    "# updated_ids_list\n",
    "updated_configs_list"
   ]
  },
  {
   "cell_type": "code",
   "execution_count": null,
   "id": "ccccf2a9-c29c-4a78-ba95-b7c547f65db5",
   "metadata": {
    "pycharm": {
     "is_executing": false,
     "name": "#%%\n"
    }
   },
   "outputs": [],
   "source": [
    "# ipcDataExplorer.update_spikes()\n",
    "# ipcDataExplorer.gui.\n",
    "# placefieldControlsContainerWidget\n",
    "\n",
    "ipcDataExplorer.neuron_id_pf_widgets_map = _build_id_index_configs_dict(pf_widgets)\n",
    "apply_updated_configs_to_pf_widgets(ipcDataExplorer.neuron_id_pf_widgets_map, active_configs_map)\n",
    "\n",
    "\n",
    "# neuron_id_pf_widgets_map\n",
    "\n",
    "# for a_pf_ctrl_widget in pf_widgets:\n",
    "#     print(f'{a_pf_ctrl_widget.name}')\n",
    "#     # int(a_config.name)"
   ]
  },
  {
   "cell_type": "code",
   "execution_count": null,
   "id": "7744eaee-a85c-48ce-8732-a3eba59c2733",
   "metadata": {
    "pycharm": {
     "is_executing": false,
     "name": "#%%\n"
    }
   },
   "outputs": [],
   "source": [
    "test_updated_colors_map = {3: '#999999'}\n",
    "ipcDataExplorer.on_config_update(test_updated_colors_map)"
   ]
  },
  {
   "cell_type": "code",
   "execution_count": null,
   "id": "c4874af9-e994-45b4-8c39-1697b633838d",
   "metadata": {
    "pycharm": {
     "is_executing": false,
     "name": "#%%\n"
    }
   },
   "outputs": [],
   "source": [
    "# Need to rebuild the spikes colors and such upon updating the configs. \n",
    "# should take a config and produce the changes needed to recolor the neurons.\n",
    "ipcDataExplorer.update_spikes_df_color_columns(test_updated_colors_map)\n",
    "ipcDataExplorer.update_rendered_placefields(test_updated_colors_map)"
   ]
  },
  {
   "cell_type": "code",
   "execution_count": null,
   "id": "2f7679d0-1be4-4693-945b-6916bd5a4556",
   "metadata": {
    "pycharm": {
     "is_executing": false,
     "name": "#%%\n"
    }
   },
   "outputs": [],
   "source": [
    "_test_neuron_id = 3\n",
    "pdata_currActiveNeuronTuningCurve_plotActor = ipcDataExplorer.plots['tuningCurvePlotActors'][_test_neuron_id]['main'] # get the main plot actor from the CascadingDynamicPlotsList\n",
    "pdata_currActiveNeuronTuningCurve_Points_plotActor = ipcDataExplorer.plots['tuningCurvePlotActors'][_test_neuron_id]['points']\n",
    "\n",
    "# add_mesh"
   ]
  },
  {
   "cell_type": "code",
   "execution_count": null,
   "id": "ff8972a9-fb3f-44c8-8854-1178c71e8d72",
   "metadata": {
    "pycharm": {
     "is_executing": false,
     "name": "#%%\n"
    }
   },
   "outputs": [],
   "source": [
    "ipcDataExplorer.enable_overwrite_invalid_fragile_linear_neuron_IDXs = True"
   ]
  },
  {
   "cell_type": "code",
   "execution_count": null,
   "id": "e820c498-5865-471b-a7bc-2c4c5c650f89",
   "metadata": {
    "pycharm": {
     "is_executing": false,
     "name": "#%%\n"
    }
   },
   "outputs": [],
   "source": [
    "ipcDataExplorer.helper_setup_neuron_colors_and_order(ipcDataExplorer, debug_print=True)"
   ]
  },
  {
   "cell_type": "code",
   "execution_count": null,
   "id": "462f77cc-7376-4382-8345-149eba514ad8",
   "metadata": {
    "pycharm": {
     "is_executing": false,
     "name": "#%%\n"
    }
   },
   "outputs": [],
   "source": [
    "from vedo.io import exportWindow, write\n",
    "# exportWindow('testOutFilePho.html')\n",
    "# exportWindow('testOutFilePho.x3d')\n",
    "\n",
    "# pActiveTuningCurvesPlotter.save('testPlotterSavePho.obj')\n",
    "# write(pActiveTuningCurvesPlotter,'testPlotterSavePho.obj')\n",
    "# pActiveTuningCurvesPlotter.write_frame('testPlotter_write_frame_Pho')\n",
    "# pActiveTuningCurvesPlotter.export('testPlotterSavePho.x3d')\n",
    "\n",
    "output_path = Path(r'C:\\Users\\pho\\repos\\PhoPy3DPositionAnalysis2021\\output\\2006-6-07_11-26-53\\maze1')\n",
    "final_output_path = output_path.joinpath('testPlotter_export_obj_Pho')\n",
    "\n",
    "\n",
    "## Success, but ugly:\n",
    "pActiveTuningCurvesPlotter.export_vtkjs(final_output_path.with_suffix('.vtkjs'))\n",
    "# pActiveTuningCurvesPlotter.export_gltf(final_output_path.with_suffix('.gltf'))\n",
    "# pActiveTuningCurvesPlotter.export_html(final_output_path.with_suffix('.html')) ## First export that actually works with BackgroundPlotter\n",
    "# pActiveTuningCurvesPlotter.export_obj(final_output_path.with_suffix('.obj')) ## Works for exporting .obj files"
   ]
  },
  {
   "cell_type": "code",
   "execution_count": null,
   "id": "1097b8b4-5fbc-4124-a187-dcee9ccf7090",
   "metadata": {
    "pycharm": {
     "is_executing": false,
     "name": "#%%\n"
    }
   },
   "outputs": [],
   "source": [
    "import pyvista as pv\n",
    "pv.vtk_version_info"
   ]
  },
  {
   "cell_type": "code",
   "execution_count": null,
   "id": "270d1a2c-7f56-495a-bd6e-30e76414bef7",
   "metadata": {
    "pycharm": {
     "is_executing": false,
     "name": "#%%\n"
    }
   },
   "outputs": [],
   "source": [
    "# ipcDataExplorer.p.enable_cell_picking(callback=)\n",
    "ipcDataExplorer.pyqtConfigure()"
   ]
  },
  {
   "cell_type": "code",
   "execution_count": null,
   "id": "7d35fb45-9c61-412f-a522-03c90609f59e",
   "metadata": {
    "pycharm": {
     "is_executing": false,
     "name": "#%%\n"
    }
   },
   "outputs": [],
   "source": [
    "p.enable_point_picking()"
   ]
  },
  {
   "cell_type": "code",
   "execution_count": null,
   "id": "03458494-5342-4fd0-b866-2191409d1dac",
   "metadata": {
    "pycharm": {
     "is_executing": false,
     "name": "#%%\n"
    }
   },
   "outputs": [],
   "source": [
    "ipcDataExplorer.active_config # pf_neuron_identities, pf_colors, pf_sort_ind\n",
    "\n",
    "# ipcDataExplorer.active_config.keys()\n",
    "np.shape(ipcDataExplorer.active_config.plotting_config['pf_colormap']) # (39, 4)\n",
    "\n",
    "# print_keys_if_possible('plotting_config', ipcDataExplorer.active_config.plotting_config)\n",
    "\n",
    "print_keys_if_possible('ipcDataExplorer', ipcDataExplorer)\n",
    "\n",
    "# - plotting_config: <class 'pyphoplacecellanalysis.General.Configs.DynamicConfigs.PlottingConfig'>\n",
    "    # - pf_neuron_identities: <class 'list'> - (39,)\n",
    "    # - pf_sort_ind: <class 'numpy.ndarray'> - (39,)\n",
    "    # - pf_colors: <class 'numpy.ndarray'> - (4, 39)\n",
    "    # - pf_colormap: <class 'numpy.ndarray'> - (39, 4)"
   ]
  },
  {
   "cell_type": "code",
   "execution_count": null,
   "id": "d4ec2318-647c-4f2a-8d93-8bf622273d41",
   "metadata": {
    "pycharm": {
     "is_executing": false,
     "name": "#%%\n"
    }
   },
   "outputs": [],
   "source": [
    "len(ipcDataExplorer.params.neuron_colors_hex) # 39"
   ]
  },
  {
   "cell_type": "code",
   "execution_count": null,
   "id": "e191dfb3-7e9b-42d3-9505-5adfabf920e7",
   "metadata": {
    "pycharm": {
     "is_executing": false,
     "name": "#%%\n"
    }
   },
   "outputs": [],
   "source": [
    "# np.shape(ipcDataExplorer.params.neuron_colors) # (4, 39)\n",
    "# len(ipcDataExplorer.params.reverse_cellID_to_tuning_curve_idx_lookup_map) # 39\n",
    "\n",
    "# for neuron_id, tuning_curve_idx in ipcDataExplorer.params.reverse_cellID_to_tuning_curve_idx_lookup_map.items():\n",
    "#     curr_color = ipcDataExplorer.params.neuron_colors[:, tuning_curve_idx]\n",
    "    \n",
    "\n",
    "\n",
    "final_perfect_colormap = {int(neuron_id):ipcDataExplorer.params.neuron_colors_hex[tuning_curve_idx] for neuron_id, tuning_curve_idx in ipcDataExplorer.params.reverse_cellID_to_tuning_curve_idx_lookup_map.items()}\n",
    "# final_perfect_colormap = {int(neuron_id):list(np.squeeze(ipcDataExplorer.params.neuron_colors[:, tuning_curve_idx])) for neuron_id, tuning_curve_idx in ipcDataExplorer.params.reverse_cellID_to_tuning_curve_idx_lookup_map.items()}\n",
    "# final_perfect_colormap = {int(neuron_id):QtGui.QColor(*np.squeeze(ipcDataExplorer.params.neuron_colors[:, tuning_curve_idx])) for neuron_id, tuning_curve_idx in ipcDataExplorer.params.reverse_cellID_to_tuning_curve_idx_lookup_map.items()}\n",
    "final_perfect_colormap"
   ]
  },
  {
   "cell_type": "code",
   "execution_count": null,
   "id": "7f30b8c2-9baf-45e5-b3b7-f3dd8d884dfe",
   "metadata": {
    "pycharm": {
     "is_executing": false,
     "name": "#%%\n"
    }
   },
   "outputs": [],
   "source": [
    "len(final_perfect_colormap) # 39"
   ]
  },
  {
   "cell_type": "code",
   "execution_count": null,
   "id": "dda1cd93-54cc-4868-a04b-af2e2b56eab8",
   "metadata": {
    "pycharm": {
     "is_executing": false,
     "name": "#%%\n"
    }
   },
   "outputs": [],
   "source": [
    "ipcDataExplorer.on_config_update(updated_colors_map=final_perfect_colormap)"
   ]
  },
  {
   "cell_type": "code",
   "execution_count": null,
   "id": "7e33c762-3348-4b7d-ab39-80ec465458c2",
   "metadata": {
    "pycharm": {
     "is_executing": false,
     "name": "#%%\n"
    }
   },
   "outputs": [],
   "source": [
    "partial_perfect_colormap = {24: [0.9098039215686274, 0.8075259642318465, 0.6095686274509803, 1.0],\n",
    " 25: [1.0, 0.9148351648351648, 0.75, 1.0],\n",
    " 26: [0.388235294117647, 0.4745098039215686, 0.22352941176470587, 1.0],\n",
    " 27: [0.48533923796791445, 0.5796078431372549, 0.3053719008264463, 1.0]}\n",
    "ipcDataExplorer.on_update_spikes_colors(neuron_id_color_update_dict=partial_perfect_colormap)"
   ]
  },
  {
   "cell_type": "code",
   "execution_count": null,
   "id": "643a492d-982d-433b-8063-2ab1dff1705a",
   "metadata": {
    "pycharm": {
     "is_executing": false,
     "name": "#%%\n"
    }
   },
   "outputs": [],
   "source": [
    "QtGui.QColor(*(0.5176470588235295, 0.23529411764705882, 0.22352941176470587, 1.0))"
   ]
  },
  {
   "cell_type": "code",
   "execution_count": null,
   "id": "07042754-37ac-4dd3-9507-742df5537e24",
   "metadata": {
    "pycharm": {
     "is_executing": false,
     "name": "#%%\n"
    }
   },
   "outputs": [],
   "source": [
    "# don't use this one!\n",
    "len(ipcDataExplorer.params.reverse_cellID_idx_lookup_map) # 40"
   ]
  },
  {
   "cell_type": "code",
   "execution_count": null,
   "id": "83ba315a-744f-4700-b9fc-9f49717c9e8f",
   "metadata": {
    "pycharm": {
     "is_executing": false,
     "name": "#%%\n"
    }
   },
   "outputs": [],
   "source": [
    "ipcDataExplorer.active_neuron_render_configs # confirmed same configs as active_tuning_curve_render_configs"
   ]
  },
  {
   "cell_type": "code",
   "execution_count": null,
   "id": "6059bd2a-85d4-405d-8314-6f450238d56b",
   "metadata": {
    "pycharm": {
     "is_executing": false,
     "name": "#%%\n"
    }
   },
   "outputs": [],
   "source": [
    "# ipcDataExplorer.setup_spike_rendering_mixin()\n",
    "\n",
    "ipcDataExplorer.spikes_df # first many entries all look like R G B columns are 0.0 even if rgb_hex isn't and is different!\n",
    "\n",
    "# np.count_nonzero(ipcDataExplorer.spikes_df.R.to_numpy()) # 5989\n",
    "ipcDataExplorer.spikes_df.columns\n",
    "\n",
    "ipcDataExplorer.spikes_df[['aclu', 'fragile_linear_neuron_IDX', 'neuron_IDX']] ## BREAKTHROUGH: 'fragile_linear_neuron_IDX' and 'neuron_IDX' are definitely not equal (but I think they should be)"
   ]
  },
  {
   "cell_type": "code",
   "execution_count": null,
   "id": "9a23d626-59d6-4e01-befb-e75e4cd234c1",
   "metadata": {
    "pycharm": {
     "is_executing": false,
     "name": "#%%\n"
    }
   },
   "outputs": [],
   "source": [
    "np.unique(ipcDataExplorer.spikes_df['fragile_linear_neuron_IDX'])\n",
    "## MAJOR CONCERN: 'fragile_linear_neuron_IDX' values make no sense at all. They aren't even equal to 'aclu'\n",
    "# array([ 0,  1,  2,  3,  5,  6,  7,  8,  9, 10, 12, 15, 16, 19, 20, 21, 22, 23, 24, 25, 26, 27, 31, 32, 36, 37, 40, 42, 43, 44, 45, 46, 51, 53, 55, 56, 59, 60, 61, 62])"
   ]
  },
  {
   "cell_type": "code",
   "execution_count": null,
   "id": "398a9428-b946-45da-9fac-8ef991f940b4",
   "metadata": {
    "pycharm": {
     "is_executing": false,
     "name": "#%%\n"
    }
   },
   "outputs": [],
   "source": [
    "np.unique(ipcDataExplorer.spikes_df['neuron_IDX'])"
   ]
  },
  {
   "cell_type": "code",
   "execution_count": null,
   "id": "893cde2a-0c9f-49f0-898f-a5582c39c3ac",
   "metadata": {
    "pycharm": {
     "is_executing": false,
     "name": "#%%\n"
    }
   },
   "outputs": [],
   "source": [
    "ipcDataExplorer.spikes_df['old_fragile_linear_neuron_IDX']"
   ]
  },
  {
   "cell_type": "code",
   "execution_count": null,
   "id": "f9bd9fd7-ffe6-41a9-b716-db326360f00b",
   "metadata": {
    "pycharm": {
     "is_executing": false,
     "name": "#%%\n"
    }
   },
   "outputs": [],
   "source": [
    "ipcDataExplorer.spikes_df[['aclu', 'fragile_linear_neuron_IDX', 'neuron_IDX', 'old_fragile_linear_neuron_IDX']] ## GOOD: after rebuilding the 'fragile_linear_neuron_IDX' and 'neuron_IDX' columns now match as expected."
   ]
  },
  {
   "cell_type": "code",
   "execution_count": null,
   "id": "fa2dc6a4-97f6-4dc1-86b7-477ab0f7ec1d",
   "metadata": {
    "pycharm": {
     "is_executing": false,
     "name": "#%%\n"
    }
   },
   "outputs": [],
   "source": [
    "ipcDataExplorer.neuron_ids"
   ]
  },
  {
   "cell_type": "code",
   "execution_count": null,
   "id": "5d819b67-053a-4fe1-89e1-26a183be6e9f",
   "metadata": {
    "pycharm": {
     "is_executing": false,
     "name": "#%%\n"
    }
   },
   "outputs": [],
   "source": [
    "# ipcDataExplorer.update_active_spikes(\n",
    "ipcDataExplorer.update_spikes()"
   ]
  },
  {
   "cell_type": "code",
   "execution_count": null,
   "id": "ea8ef463-a283-4d0b-a9bd-8a57823c22ec",
   "metadata": {
    "pycharm": {
     "is_executing": false,
     "name": "#%%\n"
    }
   },
   "outputs": [],
   "source": [
    "## Rebuild the IDXs\n",
    "ipcDataExplorer.spikes_df.spikes._obj, neuron_id_to_new_IDX_map_new_method = ipcDataExplorer.spikes_df.spikes.rebuild_fragile_linear_neuron_IDXs(debug_print=True)\n",
    "new_neuron_IDXs = list(neuron_id_to_new_IDX_map_new_method.values())"
   ]
  },
  {
   "cell_type": "code",
   "execution_count": null,
   "id": "c515da07-d574-4d9c-8b77-1bdbbc80a2c9",
   "metadata": {
    "pycharm": {
     "is_executing": false,
     "name": "#%%\n"
    }
   },
   "outputs": [],
   "source": [
    "ipcDataExplorer.params.cell_spike_opaque_colors_dict # this is what spikes_df's 'R', 'G', 'B' columns set from.\n",
    "# keys are neuron_IDX format"
   ]
  },
  {
   "cell_type": "code",
   "execution_count": null,
   "id": "e925ff62-a230-4907-92a7-1f43b0cca1fb",
   "metadata": {
    "pycharm": {
     "is_executing": false,
     "name": "#%%\n"
    }
   },
   "outputs": [],
   "source": [
    "# Disable the bar on the docks:\n",
    "dDisplayItem1 = root_dockAreaWindow.dynamic_display_dict['Dock1 - Controls']['Dock1 - Controls']['dock']\n",
    "dDisplayItem2 = root_dockAreaWindow.dynamic_display_dict['Dock2 - Content']['Dock2 - Content']['dock']\n",
    "\n",
    "dDisplayItem1.hideTitleBar()\n",
    "dDisplayItem2.hideTitleBar()"
   ]
  },
  {
   "cell_type": "code",
   "execution_count": null,
   "id": "f1eef3b5-5827-4deb-b165-6df85bce61e4",
   "metadata": {
    "pycharm": {
     "is_executing": false,
     "name": "#%%\n"
    }
   },
   "outputs": [],
   "source": [
    "ipcDataExplorer.params.end_button_helper_obj.btn_show_all_callback(True)"
   ]
  },
  {
   "cell_type": "code",
   "execution_count": null,
   "id": "f48ba047-fc62-4846-ad1c-69649990098d",
   "metadata": {
    "pycharm": {
     "is_executing": false,
     "name": "#%%\n"
    }
   },
   "outputs": [],
   "source": [
    "# ipcDataExplorer.update_tuning_curve_configs()\n",
    "ipcDataExplorer.update_neuron_render_configs()"
   ]
  },
  {
   "cell_type": "code",
   "execution_count": null,
   "id": "d1c59dcb-0bcf-4212-8c7b-dce729909565",
   "metadata": {
    "pycharm": {
     "is_executing": false,
     "name": "#%%\n"
    },
    "scrolled": true
   },
   "outputs": [],
   "source": [
    "# ipcDataExplorer.params.cell_spike_colors_dict\n",
    "# ipcDataExplorer.active_neuron_render_configs\n",
    "\n",
    "active_placefields = ipcDataExplorer.params.active_epoch_placefields\n",
    "# ipcDataExplorer.params.pf_color\n",
    "pf_colors = ipcDataExplorer.params.pf_colors\n",
    "if np.shape(pf_colors)[1] > 3:\n",
    "    opaque_pf_colors = pf_colors[0:3,:].copy() # get only the RGB values, discarding any potnential alpha information\n",
    "else:\n",
    "    opaque_pf_colors = pf_colors.copy()\n",
    "\n",
    "occupancy = active_placefields.ratemap.occupancy.copy()\n",
    "# curr_tuning_curves = active_placefields.ratemap.tuning_curves.copy() # (39, 59, 21)\n",
    "curr_tuning_curves = active_placefields.ratemap.normalized_tuning_curves.copy() # (39, 59, 21)\n",
    "good_placefield_neuronIDs = ipcDataExplorer.params.pf_unit_ids\n",
    "# np.shape(curr_tuning_curves) # (39, 59, 21)\n",
    "# np.isnan(curr_tuning_curves)\n",
    "# np.count_nonzero(np.isnan(curr_tuning_curves))\n",
    "\n",
    "\n",
    "# Never Visited Mask\n",
    "# occupancy"
   ]
  },
  {
   "cell_type": "code",
   "execution_count": null,
   "id": "35581810-d1b5-4098-9d63-c110ace2cda7",
   "metadata": {
    "pycharm": {
     "is_executing": false,
     "name": "#%%\n"
    },
    "scrolled": true
   },
   "outputs": [],
   "source": [
    "# never_visited_occupancy_mask\n",
    "i = 0\n",
    "curr_active_neuron_ID = good_placefield_neuronIDs[i]\n",
    "curr_active_neuron_color = pf_colors[:, i]\n",
    "curr_active_neuron_opaque_color = opaque_pf_colors[:,i]\n",
    "curr_active_neuron_pf_identifier = 'pf[{}]'.format(curr_active_neuron_ID)\n",
    "curr_active_neuron_tuning_Curve = np.squeeze(curr_tuning_curves[i,:,:]).T.copy() # A single tuning curve, (21, 59)\n",
    "# curr_active_neuron_tuning_Curve"
   ]
  },
  {
   "cell_type": "code",
   "execution_count": null,
   "id": "391ba34c-757b-4270-b7b4-6d15bcc605a9",
   "metadata": {
    "pycharm": {
     "is_executing": false,
     "name": "#%%\n"
    }
   },
   "outputs": [],
   "source": [
    "curr_active_plot_actor = ipcDataExplorer.plots['tuningCurvePlotActors'][i]\n",
    "curr_active_plot_data = ipcDataExplorer.plots_data['tuningCurvePlotData'][i]\n",
    "curr_active_plot_data\n",
    "pdata_currActiveNeuronTuningCurve = curr_active_plot_data['pdata_currActiveNeuronTuningCurve'] # StructuredGrid\n",
    "\n",
    "# Test Extracting Points:\n",
    "curr_mesh_extracted_pts = pdata_currActiveNeuronTuningCurve.extract_points(pdata_currActiveNeuronTuningCurve.points[:, 2] > 0)\n",
    "type(curr_mesh_extracted_pts) # UnstructuredGrid"
   ]
  },
  {
   "cell_type": "code",
   "execution_count": null,
   "id": "3ceec384-e5bb-4140-99a0-c5066b0ef05e",
   "metadata": {
    "pycharm": {
     "is_executing": false,
     "name": "#%%\n"
    },
    "scrolled": true
   },
   "outputs": [],
   "source": [
    "# Add labels to points on the yz plane (where x == 0)\n",
    "points = pdata_currActiveNeuronTuningCurve.points\n",
    "# mask = points[:, 0] == 0\n",
    "mask = points[:, 2] > 0.1\n",
    "pActiveTuningCurvesPlotter.add_point_labels(points[mask], points[mask].tolist(), point_size=20, font_size=36)"
   ]
  },
  {
   "cell_type": "code",
   "execution_count": null,
   "id": "ac2979d7-5d5d-4984-bdbe-a6f7006b03a8",
   "metadata": {
    "pycharm": {
     "is_executing": false,
     "name": "#%%\n"
    },
    "scrolled": true
   },
   "outputs": [],
   "source": [
    "np.shape(never_visited_occupancy_mask) # (59, 21)\n",
    "np.sum(curr_active_neuron_tuning_Curve[~never_visited_occupancy_mask.T]) # (735,), 7.9040396441924194\n",
    "curr_active_neuron_tuning_Curve[~never_visited_occupancy_mask.T] = np.nan # set non-visited locations to NaN\n",
    "# NOTE: the sum of all visited locations is 36.44356525201446 and those non-visited locations is 7.9040396441924194\n",
    "curr_active_neuron_tuning_Curve"
   ]
  },
  {
   "cell_type": "code",
   "execution_count": null,
   "id": "6ee82014-0295-4c1a-94d7-7986b1cf8d02",
   "metadata": {
    "pycharm": {
     "is_executing": false,
     "name": "#%%\n"
    },
    "scrolled": true
   },
   "outputs": [],
   "source": [
    "curr_active_pipeline.active_configs[active_config_name].keys()"
   ]
  },
  {
   "cell_type": "code",
   "execution_count": null,
   "id": "5d16525f-8079-4241-87a5-940a4b0bca90",
   "metadata": {
    "pycharm": {
     "is_executing": false,
     "name": "#%%\n"
    },
    "scrolled": true
   },
   "outputs": [],
   "source": [
    "\n",
    "updated_video_output_config = curr_active_pipeline.active_configs[active_config_name]['video_output_config']\n",
    "updated_video_output_config.active_frame_range = np.arange(100, 480, 1)\n",
    "updated_video_output_config"
   ]
  },
  {
   "cell_type": "code",
   "execution_count": null,
   "id": "46f6fda6-b3c2-44e1-871a-72b136edd617",
   "metadata": {
    "pycharm": {
     "is_executing": false,
     "name": "#%%\n"
    },
    "scrolled": true
   },
   "outputs": [],
   "source": [
    "# Enable video output by setting: active_is_video_output_mode\n",
    "updated_video_output_config.active_is_video_output_mode = True\n"
   ]
  },
  {
   "cell_type": "code",
   "execution_count": null,
   "id": "42e9d25a-98b4-4769-bc7d-7e4b1f1868e3",
   "metadata": {
    "pycharm": {
     "is_executing": false,
     "name": "#%%\n"
    },
    "scrolled": true
   },
   "outputs": [],
   "source": [
    "import pyvista as pv\n",
    "from pyvista import examples\n",
    "# Download skybox\n",
    "cubemap = examples.download_sky_box_cube_map()\n",
    "ipspikesDataExplorer.p.add_actor(cubemap.to_skybox())\n",
    "ipspikesDataExplorer.p.set_environment_texture(cubemap)  # For reflecting the environment off the mesh"
   ]
  },
  {
   "cell_type": "code",
   "execution_count": null,
   "id": "6cd25037-40c1-4192-9a5b-5f6c4ec2850d",
   "metadata": {
    "pycharm": {
     "is_executing": false,
     "name": "#%%\n"
    },
    "scrolled": true
   },
   "outputs": [],
   "source": [
    "ipspikesDataExplorer.p.enable_shadows()"
   ]
  },
  {
   "cell_type": "code",
   "execution_count": null,
   "id": "843dbbfb-ff6e-42cd-9d10-936cba53adc4",
   "metadata": {
    "pycharm": {
     "is_executing": false,
     "name": "#%%\n"
    },
    "scrolled": true
   },
   "outputs": [],
   "source": [
    "ipspikesDataExplorer.p.render()"
   ]
  },
  {
   "cell_type": "code",
   "execution_count": null,
   "id": "ab74897c-df19-4af9-9e98-a73cbeebd56e",
   "metadata": {
    "pycharm": {
     "is_executing": false,
     "name": "#%%\n"
    },
    "scrolled": true
   },
   "outputs": [],
   "source": [
    "# recent_spikes_mesh.\n",
    "ipspikesDataExplorer.params.longer_spikes_window.duration_seconds = 10.0"
   ]
  },
  {
   "cell_type": "code",
   "execution_count": null,
   "id": "622347fd-9722-4017-a75e-4f1b2aa9afe1",
   "metadata": {
    "pycharm": {
     "is_executing": false,
     "name": "#%%\n"
    },
    "scrolled": true
   },
   "outputs": [],
   "source": [
    "ipspikesDataExplorer.p.enable_depth_peeling(number_of_peels=6, occlusion_ratio=0) # Supposedly helps with translucency"
   ]
  },
  {
   "cell_type": "code",
   "execution_count": null,
   "id": "fbf101d4-2ae4-44f1-81ea-be10a78c0086",
   "metadata": {
    "pycharm": {
     "is_executing": false,
     "name": "#%%\n"
    },
    "scrolled": true
   },
   "outputs": [],
   "source": [
    "# spike_raster_window.spikes_window.on_window_changed()\n",
    "# spike_raster_window.spikes_window.update_window_start(500.0) # doesn't update anything\n",
    "# spike_raster_window.spike_raster_plt_2d.spikes_window.update_window_start(500.0) # doesn't update anything\n",
    "spike_raster_window.spike_raster_plt_2d.update_scroll_window_region(500.0, 700.0, block_signals=False)"
   ]
  },
  {
   "cell_type": "code",
   "execution_count": null,
   "id": "528139f7-d4ee-4a56-b20c-a957b322abdc",
   "metadata": {
    "pycharm": {
     "is_executing": false,
     "name": "#%%\n"
    },
    "scrolled": true
   },
   "outputs": [],
   "source": [
    "# spike_raster_window.spike_3d_to_2d_window_connection.disconnect(spike_raster_window.spike_raster_plt_3d.spikes_window.update_window_start_end)\n",
    "spike_raster_window.spike_raster_plt_2d.window_scrolled.disconnect(spike_raster_window.spike_raster_plt_3d.spikes_window.update_window_start_end)"
   ]
  },
  {
   "cell_type": "code",
   "execution_count": null,
   "id": "7a43771d-61c9-4485-a985-01e4dc662fc6",
   "metadata": {
    "pycharm": {
     "is_executing": false,
     "name": "#%%\n"
    },
    "scrolled": true
   },
   "outputs": [],
   "source": [
    "spike_raster_window.spike_raster_plt_2d.window_scrolled.disconnect()"
   ]
  },
  {
   "cell_type": "code",
   "execution_count": null,
   "id": "1e0693e0-a8a6-4d37-9ad1-3a34c225b02e",
   "metadata": {
    "pycharm": {
     "is_executing": false,
     "name": "#%%\n"
    },
    "scrolled": true
   },
   "outputs": [],
   "source": [
    "spike_raster_window.spike_raster_plt_2d.ui.scroll_window_region.sigRegionChanged.disconnect()"
   ]
  },
  {
   "cell_type": "code",
   "execution_count": null,
   "id": "73a8efe2-c97a-47ee-8241-e9ac1cbfab4d",
   "metadata": {
    "pycharm": {
     "is_executing": false,
     "name": "#%%\n"
    },
    "scrolled": true
   },
   "outputs": [],
   "source": [
    "## Need to the spike indicies that are currently visible in the raster window to programmatically update ipspikesDataExplorer's displayed spikes.\n",
    "# active_epoch_session.flattened_spiketrains.time_slice(curr_lap_spike_t_seconds.values[0], curr_lap_spike_t_seconds.values[-1]).spikes_df\n",
    "# spike_raster_window.spike_raster_plt_2d.spikes_window\n",
    "# curr_win_start, curr_win_end = spike_raster_window.spike_raster_plt_3d.spikes_window.active_time_window\n",
    "# spike_raster_window.spike_raster_plt_3d.spikes_window.active_windowed_df\n",
    "\n",
    "# spike_raster_window.spike_raster_plt_3d.spikes_window.active_windowed_df.index\n",
    "# ipspikesDataExplorer.params.curr_view_window_length_samples # 299\n",
    "# np.shape(ipspikesDataExplorer.params.pre_computed_window_sample_indicies) # (51157, 299)\n",
    "\n",
    "# np.shape(ipspikesDataExplorer.params.active_trail_opacity_values) # (299,)\n",
    "## Hopefully ipspikesDataExplorer's slider will adjust automatically?"
   ]
  },
  {
   "cell_type": "code",
   "execution_count": null,
   "id": "44f54da9-25c1-49dc-b692-fd5f602beecd",
   "metadata": {
    "pycharm": {
     "is_executing": false,
     "name": "#%%\n"
    },
    "scrolled": true
   },
   "outputs": [],
   "source": [
    "## Test disabling the user-slider:\n",
    "# ipspikesDataExplorer.interface_properties\n",
    "# interactive_timestamp_slider_actor\n",
    "# add_slider_widget\n",
    "\n",
    "## When building widgets:\n",
    "# self.p.add_callback(self.interface_properties, interval=16)  # to be smooth on 60Hz\n",
    "\n",
    "# Removes all slider widgets:\n",
    "# ipspikesDataExplorer.p.clear_slider_widgets()\n",
    "# ipspikesDataExplorer.p.clear_button_widgets() # removes the play/pause toggle checkbox so that it can be driven externally\n",
    "# ipspikesDataExplorer.p.update()\n",
    "# ipspikesDataExplorer.p.render()\n",
    "\n",
    "# ipspikesDataExplorer.p.button_widgets\n",
    "# ipspikesDataExplorer.p.receivers()\n",
    "\n",
    "# For the callback, it looks like I can check the timer here:\n",
    "callback_timer = ipspikesDataExplorer.p._callback_timer  # QTimer\n",
    "callback_timer.isActive()\n",
    "# callback_timer.isSignalConnected()\n",
    "# callback_timer.stop()\n",
    "\n",
    "ipspikesDataExplorer"
   ]
  },
  {
   "cell_type": "code",
   "execution_count": null,
   "id": "b13c74b9-65e1-40a6-81c0-f1cda66a324f",
   "metadata": {
    "pycharm": {
     "is_executing": false,
     "name": "#%%\n"
    },
    "scrolled": true
   },
   "outputs": [],
   "source": [
    "spike_raster_window.animation_active_time_window.window_duration"
   ]
  },
  {
   "cell_type": "code",
   "execution_count": null,
   "id": "6e9568e1-ae37-44f4-8326-c88362601889",
   "metadata": {
    "pycharm": {
     "is_executing": false,
     "name": "#%%\n"
    },
    "scrolled": true
   },
   "outputs": [],
   "source": [
    "# Get the times that fall within the current plot window:\n",
    "curr_win_start, curr_win_end = spike_raster_window.spike_raster_plt_3d.spikes_window.active_time_window\n",
    "# np.shape(ipspikesDataExplorer.t) # (51455,)\n",
    "\n",
    "# active_window_sample_indicies\n",
    "active_included_all_window_position_indicies = ((ipspikesDataExplorer.t > curr_win_start) & (ipspikesDataExplorer.t < curr_win_end)) # Two Sided Range Mode\n",
    "# active_included_all_window_position_indicies\n",
    "print(f'np.shape(active_included_all_window_position_indicies): {np.shape(active_included_all_window_position_indicies)}') # (51455,)\n",
    "\n",
    "# active_included_all_window_position_indicies = np.where(active_included_all_window_position_indicies) # was a boolean area, but get the indices where true instead\n",
    "active_included_all_window_position_indicies = np.squeeze(active_included_all_window_position_indicies.nonzero()) # was a boolean area, but get the indices where true instead.  (1106,)\n",
    "print(f'np.shape(active_included_all_window_position_indicies): {np.shape(active_included_all_window_position_indicies)}; active_included_all_window_position_indicies: {active_included_all_window_position_indicies}')\n",
    "\n",
    "active_num_samples = len(active_included_all_window_position_indicies)\n",
    "\n",
    "## TODO: I think active_included_all_window_position_indicies better be the same length as .params.active_trail_opacity_values and .params.active_trail_size_values\n",
    "# ipspikesDataExplorer.params.curr_view_window_length_samples\n",
    "\n",
    "max_num_samples = ipspikesDataExplorer.params.curr_view_window_length_samples # 299\n",
    "if active_num_samples > max_num_samples:\n",
    "    print(f'len(active_included_all_window_position_indicies) ({active_num_samples}) > max_num_samples ({max_num_samples}). Cutting.')\n",
    "    active_included_all_window_position_indicies = active_included_all_window_position_indicies[-max_num_samples:] # get only the last (meaning most recent) max_num_samples samples from the indicies that should be displayed\n",
    "    active_num_samples = max_num_samples # cut down to the max number of samples\n",
    "    \n",
    "print(f'np.shape(active_included_all_window_position_indicies): {np.shape(active_included_all_window_position_indicies)}, active_num_samples: {active_num_samples}') # np.shape(active_included_all_window_position_indicies): (1, 1106), active_num_samples: 1    \n",
    "\n",
    "# print(f'np.shape(active_included_all_window_position_indicies): {np.shape(active_included_all_window_position_indicies)}, active_num_samples: {active_num_samples}')    \n",
    "# ipspikesDataExplorer.x[active_included_all_window_position_indicies], ipspikesDataExplorer.y[active_included_all_window_position_indicies], ipspikesDataExplorer.z_fixed[-active_num_samples:]\n",
    "\n",
    "## Animal Position and Location Trail Plotting:\n",
    "ipspikesDataExplorer.perform_plot_location_trail('animal_location_trail', ipspikesDataExplorer.x[active_included_all_window_position_indicies], ipspikesDataExplorer.y[active_included_all_window_position_indicies], ipspikesDataExplorer.z_fixed[-active_num_samples:],\n",
    "                                     trail_fade_values=ipspikesDataExplorer.params.active_trail_opacity_values, trail_point_size_values=ipspikesDataExplorer.params.active_trail_size_values,\n",
    "                                     render=False)\n",
    "\n",
    "## Animal Current Position:\n",
    "curr_animal_point = [ipspikesDataExplorer.x[active_included_all_window_position_indicies[-1]], ipspikesDataExplorer.y[active_included_all_window_position_indicies[-1]], ipspikesDataExplorer.z_fixed[-1]]\n",
    "ipspikesDataExplorer.perform_plot_location_point('animal_current_location_point', curr_animal_point, render=False)\n",
    "\n",
    "\n",
    "\n",
    "# curr_time_fixedSegments = ipspikesDataExplorer.t[active_window_sample_indicies] # New Way"
   ]
  },
  {
   "cell_type": "code",
   "execution_count": null,
   "id": "c88ef53b-5282-4c49-80bc-83ca9ae6ab8b",
   "metadata": {
    "pycharm": {
     "is_executing": false,
     "name": "#%%\n"
    },
    "scrolled": true
   },
   "outputs": [],
   "source": [
    "curr_win_start, curr_win_end = spike_raster_window.spike_raster_plt_3d.spikes_window.active_time_window\n",
    "ipspikesDataExplorer.on_active_window_update_mesh(curr_win_start, curr_win_end, enable_position_mesh_updates=True, render=True)\n",
    "\n",
    "# ipspikesDataExplorer.on_programmatic_data_update(self, active_included_all_historical_indicies=None, active_included_recent_only_indicies=None, active_window_sample_indicies=None, curr_animal_point=None)\n",
    "\n",
    "### Lap Example of programmatic updating:\n",
    "# curr_lap_id = 0\n",
    "\n",
    "# curr_lap_t_start, curr_lap_t_stop = get_lap_times(curr_lap_id)\n",
    "# curr_lap_subsession = lap_specific_subsessions[curr_lap_id]\n",
    "# curr_lap_dataframe = lap_specific_dataframes[curr_lap_id] # the subset dataframe for this lap\n",
    "# curr_lap_spike_t_seconds = curr_lap_dataframe.t_seconds\n",
    "# curr_lap_spike_indicies = lap_spike_indicies[curr_lap_id] # all spike indicies that occured within the lap\n",
    "# curr_lap_position_traces = curr_lap_subsession.position.traces # the animal positions that were traversed during this lap\n",
    "\n",
    "# curr_lap_num_spikes = len(curr_lap_spike_indicies)\n",
    "# print('lap[{}]: ({}, {}): {} spikes.'.format(curr_lap_id, curr_lap_t_start, curr_lap_t_stop, curr_lap_num_spikes))\n",
    "\n",
    "# ipspikesDataExplorer.on_programmatic_data_update(active_included_all_historical_indicies=curr_lap_spike_indicies, active_included_recent_only_indicies=curr_lap_spike_indicies) # index 145937 is out of bounds for axis 0 with size 19647\n",
    "# ipspikesDataExplorer.on_programmatic_data_update(active_included_all_historical_indicies=curr_lap_spike_t_seconds, active_included_recent_only_indicies=curr_lap_spike_t_seconds) # \n",
    "# ipspikesDataExplorer.on_programmatic_data_update(active_included_all_historical_indicies=curr_lap_spike_t_seconds.values, active_included_recent_only_indicies=curr_lap_spike_t_seconds.values) # "
   ]
  },
  {
   "cell_type": "code",
   "execution_count": null,
   "id": "4cffabec-1266-482a-9018-c458e6dfa3f2",
   "metadata": {
    "pycharm": {
     "is_executing": false,
     "name": "#%%\n"
    },
    "scrolled": true
   },
   "outputs": [],
   "source": [
    "## Can Programmaticallyt set the visibility on the different plotted elements:\n",
    "ipspikesDataExplorer.toggle_plot_visibility('spikes_main_historical')\n",
    "# ipspikesDataExplorer.toggle_plot_visibility('spikes_main_recent_only')\n",
    "# ipspikesDataExplorer.toggle_plot_visibility('animal_location_trail')\n",
    "# ipspikesDataExplorer.toggle_plot_visibility('animal_current_location_point')\n",
    "# toggle_visibility(ipspikesDataExplorer.spikes_main_recent_only)\n",
    "# toggle_visibility(ipspikesDataExplorer.animal_location_trail)\n",
    "# toggle_visibility(ipspikesDataExplorer.animal_current_location_point)"
   ]
  },
  {
   "cell_type": "code",
   "execution_count": null,
   "id": "2740e3d9-2072-44f1-86a8-4a558d307a37",
   "metadata": {
    "pycharm": {
     "is_executing": false,
     "name": "#%%\n"
    }
   },
   "outputs": [],
   "source": [
    "import pyvista as pv\n",
    "from pyvistaqt import BackgroundPlotter\n",
    "\n",
    "## Test Adding Points:\n",
    "\n",
    "\n",
    "# curr_mesh_extracted_pts # UnstructuredGrid\n",
    "curr_points_actor = curr_mesh_extracted_pts.plot(show_edges=True, line_width=3, point_size=20, )\n",
    "\n",
    "pl = BackgroundPlotter()\n",
    "curr_points_actor = pl.add_points(curr_mesh_extracted_pts, render_points_as_spheres=True, point_size=2.0, color='black')\n",
    "pl.show()\n"
   ]
  },
  {
   "cell_type": "markdown",
   "id": "a07d8a4d-3339-4f57-bb2e-3c62c181f77e",
   "metadata": {
    "pycharm": {
     "name": "#%%\n"
    },
    "tags": []
   },
   "source": [
    "# Individual Plotting Tests:"
   ]
  },
  {
   "cell_type": "markdown",
   "id": "08c07005-5574-41bc-9e5c-f9c82818df2e",
   "metadata": {
    "tags": []
   },
   "source": [
    "### Common Config"
   ]
  },
  {
   "cell_type": "code",
   "execution_count": null,
   "id": "41bb2696-e565-47a1-9ebb-b0c61efa4702",
   "metadata": {
    "scrolled": true
   },
   "outputs": [],
   "source": [
    "## MATPLOTLIB Imports:\n",
    "import matplotlib\n",
    "# configure backend here\n",
    "matplotlib.use('Qt5Agg')\n",
    "# backend_qt5agg\n",
    "\n",
    "import matplotlib.pyplot as plt\n",
    "# display matplotlib figures in a qt backed window. Works in Jupyter notebooks\n",
    "from matplotlib.backends import backend_pdf, backend_pgf, backend_ps\n",
    "from datetime import datetime # for getting the current date to set the ouptut folder name\n",
    "from neuropy.utils.matplotlib_helpers import enumTuningMap2DPlotVariables # for getting the variant name from the dict\n",
    "from pyphocorehelpers.plotting.figure_management import PhoActiveFigureManager2D, capture_new_figures_decorator\n",
    "fig_man = PhoActiveFigureManager2D(name=f'fig_man') # Initialize a new figure manager\n",
    "\n",
    "from pyphoplacecellanalysis.General.Mixins.ExportHelpers import export_pyqtgraph_plot\n",
    "from PendingNotebookCode import _build_programmatic_display_function_testing_pdf_metadata\n",
    "from pyphoplacecellanalysis.GUI.PyQtPlot.Widgets.DockAreaWrapper import DockAreaWrapper\n",
    "\n",
    "## OPTIONS/SETTINGS:\n",
    "enable_saving_to_disk = True\n",
    "# enable_saving_to_disk = False\n",
    "# open_folders_in_system_file_manager = True\n",
    "open_folders_in_system_file_manager = False\n",
    "\n",
    "## Old Individual Plotting Function Configs, still used as of 2022-08-10:\n",
    "# figure_format_config = dict(subplots=(20, 8), max_screen_figure_size=(2256, 2048)) # bad way\n",
    "figure_format_config = dict(subplots=(None, 8), max_screen_figure_size=(None, 1868)) # good way\n",
    "# figure_format_config = dict(subplots=(20, 8), max_screen_figure_size=(None, 1868))\n",
    "\n",
    "# figure_format_config = dict(subplots=(6, 6), max_screen_figure_size=(2256, 2048)) # bad way\n",
    "# RowColTuple(subplots[0], subplots[1])\n",
    "\n",
    "## Add explicit column/row widths to fix window sizing issue:\n",
    "# figure_format_config = (dict(fig_column_width=1.0, fig_row_height=1.0) | figure_format_config)\n",
    "figure_format_config = (dict(fig_column_width=5.0, fig_row_height=5.0) | figure_format_config)\n",
    "\n",
    "## Add additional default options:\n",
    "figure_format_config = (dict(enable_spike_overlay=False, debug_print=True, enable_saving_to_disk=enable_saving_to_disk) | figure_format_config)\n",
    "\n",
    "\n",
    "# plots_fig_nums_dict: a dictionary of the indicies for each plot\n",
    "plots_fig_nums_dict = {filter_name:((float(i+1)*10.0) + np.array([0, 1])) for i, filter_name in enumerate(curr_active_pipeline.active_config_names)} # {'maze1': array([10, 11]), 'maze2': array([20, 21])}\n",
    "\n",
    "curr_fig_save_path = curr_active_config.plotting_config.get_figure_save_path()\n",
    "print(f'Old Individual Plotting Function Figure Output path: {str(curr_fig_save_path)}')\n",
    "if open_folders_in_system_file_manager:\n",
    "    reveal_in_system_file_manager(curr_fig_save_path)\n",
    "\n",
    "## PDF Output, NOTE this is single plot stuff: uses active_config_name\n",
    "filter_name = active_config_name\n",
    "\n",
    "out_day_date_folder_name = datetime.today().strftime('%Y-%m-%d') # A string with the day's date like '2022-01-16'\n",
    "_build_pdf_pages_output_info, programmatic_display_function_testing_output_parent_path = _build_programmatic_display_function_testing_pdf_metadata(curr_active_pipeline, filter_name=filter_name,\n",
    "                                                                                                                                             out_path=Path(r'C:\\Users\\pho\\repos\\PhoPy3DPositionAnalysis2021\\EXTERNAL\\Screenshots\\ProgrammaticDisplayFunctionTesting').joinpath(out_day_date_folder_name))\n",
    "print(f'Figure Output path: {str(programmatic_display_function_testing_output_parent_path)}')\n",
    "if open_folders_in_system_file_manager:\n",
    "    reveal_in_system_file_manager(programmatic_display_function_testing_output_parent_path)"
   ]
  },
  {
   "cell_type": "markdown",
   "id": "0ea41eed-55e1-4a46-8b2a-5215be482212",
   "metadata": {
    "jp-MarkdownHeadingCollapsed": true,
    "tags": []
   },
   "source": [
    "### Utility:"
   ]
  },
  {
   "cell_type": "code",
   "execution_count": null,
   "id": "82de15b7-8404-43f5-89f0-dd54d3538233",
   "metadata": {
    "scrolled": true
   },
   "outputs": [],
   "source": [
    "# Reload display functions:\n",
    "curr_active_pipeline.reload_default_display_functions()\n",
    "curr_active_pipeline.registered_display_function_names # ['_display_1d_placefield_validations', '_display_2d_placefield_result_plot_ratemaps_2D', '_display_2d_placefield_result_plot_raw', '_display_normal', '_display_placemaps_pyqtplot_2D', '_display_decoder_result', '_display_plot_most_likely_position_comparisons', '_display_two_step_decoder_prediction_error_2D', '_display_two_step_decoder_prediction_error_animated_2D', '_display_spike_rasters_pyqtplot_2D', '_display_spike_rasters_pyqtplot_3D', '_display_spike_rasters_pyqtplot_3D_with_2D_controls', '_display_spike_rasters_vedo_3D', '_display_spike_rasters_vedo_3D_with_2D_controls', '_display_spike_rasters_window', '_display_speed_vs_PFoverlapDensity_plots', '_display_3d_image_plotter', '_display_3d_interactive_custom_data_explorer', '_display_3d_interactive_spike_and_behavior_browser', '_display_3d_interactive_tuning_curves_plotter']\n",
    "print(curr_active_pipeline.registered_display_function_names)"
   ]
  },
  {
   "cell_type": "code",
   "execution_count": null,
   "id": "49254b40-041b-4733-ab30-0ab6f0396d72",
   "metadata": {
    "scrolled": true
   },
   "outputs": [],
   "source": [
    "## Test getting figure save paths:\n",
    "_test_fig_path = curr_active_config.plotting_config.get_figure_save_path('test')\n",
    "print(f'_test_fig_path: {_test_fig_path}\\n\\t exists? {_test_fig_path.exists()}')"
   ]
  },
  {
   "cell_type": "code",
   "execution_count": null,
   "id": "42f3eb11-e517-4e2e-8886-168f8c284cbf",
   "metadata": {},
   "outputs": [],
   "source": [
    "%matplotlib --list \n",
    "# Available matplotlib backends: ['tk', 'gtk', 'gtk3', 'gtk4', 'wx', 'qt4', 'qt5', 'qt6', 'qt', 'osx', 'nbagg', 'notebook', 'agg', 'svg', 'pdf', 'ps', 'inline', 'ipympl', 'widget']"
   ]
  },
  {
   "cell_type": "code",
   "execution_count": null,
   "id": "832c0030-b46b-4c62-961d-b6b69272d8a6",
   "metadata": {},
   "outputs": [],
   "source": [
    "%matplotlib qt\n",
    "## NOTE THAT ONCE THIS IS SET TO qt, it cannot be undone!"
   ]
  },
  {
   "cell_type": "code",
   "execution_count": null,
   "id": "bbf98252-9741-43fd-a2d3-1f9e9f4a62a3",
   "metadata": {
    "scrolled": true
   },
   "outputs": [],
   "source": [
    "fig_man.close_all()"
   ]
  },
  {
   "cell_type": "code",
   "execution_count": null,
   "id": "110a1826-5774-410e-b80f-c635d46dddf0",
   "metadata": {
    "scrolled": true
   },
   "outputs": [],
   "source": [
    "extant_figs_dict = fig_man.figures_dict\n",
    "extant_fig_nums = fig_man.figure_nums\n",
    "fig_num_figure_still_exists = [plt.fignum_exists(a_fig_num) for a_fig_num in extant_fig_nums]\n",
    "fig_num_figure_still_exists #     # Figure is still opened or is closed\n",
    "# if plt.fignum_exists(<figure number>):\n",
    "#     # Figure is still opened\n",
    "# else:\n",
    "#     # Figure is closed\n",
    "extant_figs_dict\n",
    "\n",
    "# mpl.rcParams['toolbar'] = 'None'"
   ]
  },
  {
   "cell_type": "code",
   "execution_count": null,
   "id": "9f00bfb6-1902-471d-9b5f-f343be47408b",
   "metadata": {
    "scrolled": true
   },
   "outputs": [],
   "source": [
    "fig_man.reshow_figure(extant_figs_dict[10])"
   ]
  },
  {
   "cell_type": "markdown",
   "id": "6abc004f-a5d9-4979-8cde-f202597ba1ba",
   "metadata": {
    "pycharm": {
     "name": "#%%\n"
    },
    "tags": []
   },
   "source": [
    "## Old Individual Plotting Functions:"
   ]
  },
  {
   "cell_type": "markdown",
   "id": "7da1e6c6-57ee-4242-95bd-2099edd1fcbd",
   "metadata": {
    "tags": []
   },
   "source": [
    "### 🔜👁️‍🗨️ Plots for each maze:\n",
    "🔜 NEXT STEP: TODO: 2022-08-10 - Got the ratemaps plotting working for all filters and those combined into a single window (with items docked) using `_build_docked_pf_2D_figures_widget`. Now need to add more plots, like the `DecoderPlotSelectorWidget`"
   ]
  },
  {
   "cell_type": "code",
   "execution_count": null,
   "id": "6e1c71d6-2db8-4718-bb99-7b745db2088c",
   "metadata": {},
   "outputs": [],
   "source": [
    "\"\"\" Recreates code such as:\n",
    "filter_name = 'maze1'\n",
    "curr_active_pipeline.display('_display_2d_placefield_result_plot_ratemaps_2D', filter_name, plot_variable=enumTuningMap2DPlotVariables.SPIKES_MAPS, fignum=plots_fig_nums_dict[filter_name][0], **figure_format_config) # works!\n",
    "curr_active_pipeline.display('_display_2d_placefield_result_plot_ratemaps_2D', filter_name, plot_variable=enumTuningMap2DPlotVariables.TUNING_MAPS, fignum=plots_fig_nums_dict[filter_name][1], **figure_format_config) \n",
    "\n",
    "For all filters\n",
    "\"\"\"\n",
    "import matplotlib as mpl\n",
    "\n",
    "# @capture_new_figures_decorator\n",
    "def _display_specified__display_2d_placefield_result_plot_ratemaps_2D(filter_name):\n",
    "    active_filter_pf_2D_figures = {}\n",
    "    # active_filter_pf_2D_figures['SPIKES_MAPS'] = curr_active_pipeline.display('_display_2d_placefield_result_plot_ratemaps_2D', filter_name, plot_variable=enumTuningMap2DPlotVariables.SPIKES_MAPS, fignum=plots_fig_nums_dict[filter_name][0], **figure_format_config)[0]\n",
    "    active_filter_pf_2D_figures['TUNING_MAPS'] = curr_active_pipeline.display('_display_2d_placefield_result_plot_ratemaps_2D', filter_name, plot_variable=enumTuningMap2DPlotVariables.TUNING_MAPS, fignum=plots_fig_nums_dict[filter_name][1], **figure_format_config)[0]\n",
    "    return active_filter_pf_2D_figures\n",
    "\n",
    "active_pf_2D_figures = {}\n",
    "## Plots for each maze programmatically:\n",
    "\n",
    "_bak_rcParams = mpl.rcParams.copy()\n",
    "mpl.rcParams['toolbar'] = 'None' # disable toolbars\n",
    "\n",
    "for i, filter_name in enumerate(curr_active_pipeline.active_config_names):\n",
    "    active_pf_2D_figures[filter_name] = _display_specified__display_2d_placefield_result_plot_ratemaps_2D(filter_name=filter_name)\n",
    "\n",
    "mpl.rcParams = _bak_rcParams # restore previous rcParams\n",
    "\n",
    "    \n",
    "# active_pf_2D_figures\n",
    "# {'maze1': {'SPIKES_MAPS': <Figure size 1728x1080 with 88 Axes>,\n",
    "#   'TUNING_MAPS': <Figure size 1728x1080 with 88 Axes>},\n",
    "#  'maze2': {'SPIKES_MAPS': <Figure size 1728x864 with 71 Axes>,\n",
    "#   'TUNING_MAPS': <Figure size 1728x864 with 71 Axes>}}"
   ]
  },
  {
   "cell_type": "markdown",
   "id": "79d5295c-1007-490a-a954-893c2cc32247",
   "metadata": {
    "jp-MarkdownHeadingCollapsed": true,
    "tags": []
   },
   "source": [
    "#### Position Decoder Plot"
   ]
  },
  {
   "cell_type": "code",
   "execution_count": null,
   "id": "82bbf5d3-3b46-4d8b-8e99-30c3fe494757",
   "metadata": {},
   "outputs": [],
   "source": [
    "from pyphoplacecellanalysis.GUI.Qt.DecoderPlotSelectorControls.DecoderPlotSelectorWidget import DecoderPlotSelectorWidget\n",
    "\n",
    "widget = DecoderPlotSelectorWidget()\n",
    "widget.show()"
   ]
  },
  {
   "cell_type": "code",
   "execution_count": null,
   "id": "a940a130-4de1-4666-9fe4-882ac0916514",
   "metadata": {},
   "outputs": [],
   "source": [
    "## Not yet working:\n",
    "plotted_variable_name = 'p_x_given_n' # Tries to get the user-provided variable name, otherwise defaults to 'p_x_given_n'\n",
    "\n",
    "curr_fig = widget.resultplot_figureCanvas.figure\n",
    "curr_fig.clear()\n",
    "widget.ax.set_title(f'debug_two_step: {plotted_variable_name}')\n",
    "\n",
    "## Get value:\n",
    "\"\"\" captures active_one_step_decoder, active_two_step_decoder \"\"\"\n",
    "override_variable_value = None\n",
    "if override_variable_value is None:\n",
    "    try:\n",
    "        variable_value = active_two_step_decoder[widget.variable_name]\n",
    "    except (TypeError, KeyError):\n",
    "        # fallback to the one_step_decoder\n",
    "        variable_value = getattr(active_one_step_decoder, widget.variable_name, None)\n",
    "else:\n",
    "    # if override_variable_value is set, ignore the input info and use it.\n",
    "    variable_value = override_variable_value\n",
    "\n",
    "num_frames = np.shape(variable_value)[-1]\n",
    "debug_print = True\n",
    "if debug_print:\n",
    "    print(f'_temp_debug_two_step_plots_animated_imshow: variable_name=\"{widget.variable_name}\", np.shape: {np.shape(variable_value)}, num_frames: {num_frames}')\n",
    "\n",
    "# widget.ui.imv.setImage(variable_value) # despite the name, 'xvals' actually refers to assigning each frame a time value\n",
    "widget.ui.imv.setImage(variable_value.T.copy(), xvals=active_one_step_decoder.active_time_window_centers, autoLevels=True, autoHistogramRange=True, autoRange=True) # despite the name, 'xvals' actually refers to assigning each frame a time value\n",
    "cmap = pg.colormap.get('jet','matplotlib') # prepare a linear color map\n",
    "widget.ui.imv.setColorMap(cmap)"
   ]
  },
  {
   "cell_type": "markdown",
   "id": "898106c7-5f62-4f68-aba3-d762a5d2b69c",
   "metadata": {
    "tags": []
   },
   "source": [
    "#### Build Output Docked Window"
   ]
  },
  {
   "cell_type": "code",
   "execution_count": null,
   "id": "ede9d9c6-b63d-47b2-b8db-cb1b98c6f7b4",
   "metadata": {},
   "outputs": [],
   "source": [
    "from pyphoplacecellanalysis.GUI.PyQtPlot.Widgets.DockAreaWrapper import NestedDockAreaWidget\n",
    "\n",
    "\n",
    "def _build_docked_pf_2D_figures_widget(active_pf_2D_figures, should_nest_figures_on_filter=True, debug_print=False):\n",
    "    \"\"\" Combines the active_pf_2D individual figures into a single widget, with each item being docked and modifiable.\n",
    "    Requies figures to already be created and passed in the appropriate format.\n",
    "    \n",
    "    # TODO: On close should close the figure handles that are currently open. Can use figure_manager to do this.\n",
    "    \n",
    "    \n",
    "    # TODO: Shouldnt' this be a widget instead of a function? Maybe it doesn't matter though.\n",
    "    \n",
    "    if should_nest_figures_on_filter is True, the figures are docked in a nested dockarea for each filter (e.g. ['maze1', 'maze2']. Otherwise they are returned flat.\n",
    "        \n",
    "    Unique to nested:\n",
    "        all_nested_dock_area_widgets = {}\n",
    "        all_nested_dock_area_widget_display_items = {}\n",
    "\n",
    "\n",
    "    Usage:\n",
    "    \n",
    "        def _display_specified__display_2d_placefield_result_plot_ratemaps_2D(filter_name):\n",
    "            active_filter_pf_2D_figures = {}\n",
    "            active_filter_pf_2D_figures['SPIKES_MAPS'] = curr_active_pipeline.display('_display_2d_placefield_result_plot_ratemaps_2D', filter_name, plot_variable=enumTuningMap2DPlotVariables.SPIKES_MAPS, fignum=plots_fig_nums_dict[filter_name][0], **figure_format_config)[0]\n",
    "            active_filter_pf_2D_figures['TUNING_MAPS'] = curr_active_pipeline.display('_display_2d_placefield_result_plot_ratemaps_2D', filter_name, plot_variable=enumTuningMap2DPlotVariables.TUNING_MAPS, fignum=plots_fig_nums_dict[filter_name][1], **figure_format_config)[0]\n",
    "            return active_filter_pf_2D_figures\n",
    "\n",
    "        active_pf_2D_figures = {}\n",
    "        ## Plots for each maze programmatically:\n",
    "        for i, filter_name in enumerate(curr_active_pipeline.active_config_names):\n",
    "            active_pf_2D_figures[filter_name] = _display_specified__display_2d_placefield_result_plot_ratemaps_2D(filter_name=filter_name)\n",
    "\n",
    "        active_pf_2D_figures\n",
    "        # {'maze1': {'SPIKES_MAPS': <Figure size 1728x1080 with 88 Axes>,\n",
    "        #   'TUNING_MAPS': <Figure size 1728x1080 with 88 Axes>},\n",
    "        #  'maze2': {'SPIKES_MAPS': <Figure size 1728x864 with 71 Axes>,\n",
    "        #   'TUNING_MAPS': <Figure size 1728x864 with 71 Axes>}}\n",
    "\n",
    "        win, all_dock_display_items, all_nested_dock_area_widgets, all_nested_dock_area_widget_display_items = _build_docked_pf_2D_figures_widget(active_pf_2D_figures, should_nest_figures_on_filter=True, debug_print=False)\n",
    "\n",
    "    \"\"\"\n",
    "    min_width = 500\n",
    "    min_height = 500\n",
    "    win, app = DockAreaWrapper._build_default_dockAreaWindow(title='active_pf_2D_figures', defer_show=False)\n",
    "\n",
    "    all_dock_display_items = {}\n",
    "    all_item_widths_list = []\n",
    "    all_item_heights_list = []\n",
    "\n",
    "    if should_nest_figures_on_filter:\n",
    "        all_nested_dock_area_widgets = {}\n",
    "        all_nested_dock_area_widget_display_items = {}\n",
    "\n",
    "        _last_dock_outer_nested_item = None\n",
    "        for filter_name, a_figures_dict in active_pf_2D_figures.items():\n",
    "            # For each filter, create a new NestedDockAreaWidget\n",
    "            all_nested_dock_area_widgets[filter_name] = NestedDockAreaWidget()\n",
    "            # Once done with a given filter, add its nested dockarea widget to the window\n",
    "            if _last_dock_outer_nested_item is not None:\n",
    "                #NOTE: to stack two dock widgets on top of each other, do area.moveDock(d6, 'above', d4)   ## move d6 to stack on top of d4\n",
    "                dockAddLocationOpts = ['above', _last_dock_outer_nested_item] # position relative to the _last_dock_outer_nested_item for this figure\n",
    "            else:\n",
    "                dockAddLocationOpts = ['bottom'] #no previous dock for this filter, so use absolute positioning\n",
    "            nested_out_widget_key = f'Nested Outer Widget: {filter_name}'\n",
    "            if debug_print:\n",
    "                print(f'nested_out_widget_key: {nested_out_widget_key}')\n",
    "            _, dDisplayItem = win.add_display_dock(nested_out_widget_key, dockSize=(min_width, min_height), dockIsClosable=False, widget=all_nested_dock_area_widgets[filter_name], dockAddLocationOpts=dockAddLocationOpts)\n",
    "            all_nested_dock_area_widget_display_items[filter_name] = dDisplayItem\n",
    "            _last_dock_outer_nested_item = dDisplayItem\n",
    "\n",
    "            ## Add the sub-items for this filter:\n",
    "            _last_dock_item = None\n",
    "            for a_figure_name, a_figure in a_figures_dict.items():\n",
    "                # individual figures\n",
    "                figure_key = f'{filter_name}_{a_figure_name}'\n",
    "                if debug_print:\n",
    "                    print(f'figure_key: {figure_key}')\n",
    "                fig_window = a_figure.canvas.window()\n",
    "                fig_geom = fig_window.window().geometry() # get the QTCore PyRect object\n",
    "                fig_x, fig_y, fig_width, fig_height = fig_geom.getRect() # Note: dx & dy refer to width and height\n",
    "                all_item_widths_list.append(fig_width)\n",
    "                all_item_heights_list.append(fig_height)\n",
    "\n",
    "                # Add the dock and keep the display item:\n",
    "                if _last_dock_item is not None:\n",
    "                    dockAddLocationOpts = ['above', _last_dock_item] # position relative to the _last_dock_item for this figure\n",
    "                else:\n",
    "                    dockAddLocationOpts = ['bottom'] #no previous dock for this filter, so use absolute positioning\n",
    "                _, dDisplayItem = all_nested_dock_area_widgets[filter_name].add_display_dock(figure_key, dockSize=(fig_width, fig_height), dockIsClosable=False, widget=fig_window, dockAddLocationOpts=dockAddLocationOpts)\n",
    "                dDisplayItem.setOrientation('horizontal') # want orientation of outer dockarea to be opposite of that of the inner one. # 'auto', 'horizontal', or 'vertical'.\n",
    "                all_dock_display_items[figure_key] = dDisplayItem\n",
    "                _last_dock_item = dDisplayItem\n",
    "\n",
    "    else:\n",
    "        ## Flat (non-nested)\n",
    "        all_nested_dock_area_widgets = None\n",
    "        all_nested_dock_area_widget_display_items = None\n",
    "        \n",
    "        for filter_name, a_figures_dict in active_pf_2D_figures.items():\n",
    "            _last_dock_item = None\n",
    "            for a_figure_name, a_figure in a_figures_dict.items():\n",
    "                # individual figures\n",
    "                figure_key = f'{filter_name}_{a_figure_name}'\n",
    "                if debug_print:\n",
    "                    print(f'figure_key: {figure_key}')\n",
    "                fig_window = a_figure.canvas.window()\n",
    "                fig_geom = fig_window.window().geometry() # get the QTCore PyRect object\n",
    "                fig_x, fig_y, fig_width, fig_height = fig_geom.getRect() # Note: dx & dy refer to width and height\n",
    "                all_item_widths_list.append(fig_width)\n",
    "                all_item_heights_list.append(fig_height)\n",
    "                \n",
    "                # Add the dock and keep the display item:\n",
    "                if _last_dock_item is not None:\n",
    "                    #NOTE: to stack two dock widgets on top of each other, do area.moveDock(d6, 'above', d4)   ## move d6 to stack on top of d4\n",
    "                    dockAddLocationOpts = ['above', _last_dock_item] # position relative to the _last_dock_item for this figure\n",
    "                else:\n",
    "                    dockAddLocationOpts = ['bottom'] #no previous dock for this filter, so use absolute positioning\n",
    "                _, dDisplayItem = win.add_display_dock(figure_key, dockSize=(fig_width, fig_height), dockIsClosable=False, widget=fig_window, dockAddLocationOpts=dockAddLocationOpts)\n",
    "                all_dock_display_items[figure_key] = dDisplayItem\n",
    "\n",
    "                _last_dock_item = dDisplayItem\n",
    "\n",
    "    # Resize window to largest figure size:\n",
    "    all_item_widths_list = np.array(all_item_widths_list)\n",
    "    all_item_heights_list = np.array(all_item_heights_list)\n",
    "    max_width = np.max(all_item_widths_list)\n",
    "    max_height = np.max(all_item_heights_list)\n",
    "    win.resize(max_width, max_height)\n",
    "    \n",
    "    return win, all_dock_display_items, all_nested_dock_area_widgets, all_nested_dock_area_widget_display_items\n",
    "    \n",
    "    \n",
    "win, all_dock_display_items, all_nested_dock_area_widgets, all_nested_dock_area_widget_display_items = _build_docked_pf_2D_figures_widget(active_pf_2D_figures, should_nest_figures_on_filter=True, debug_print=False)"
   ]
  },
  {
   "cell_type": "markdown",
   "id": "0dc8720a-ff1b-4c2d-b849-18c7936d4a66",
   "metadata": {},
   "source": [
    "## 👁️‍🗨️ Extracts the sizing/placefield layout logic from the neuropy.plotting.ratemaps so that it isn't matplotlib specific."
   ]
  },
  {
   "cell_type": "code",
   "execution_count": null,
   "id": "b5029575-ac58-4c47-88b1-3b8665d8374f",
   "metadata": {},
   "outputs": [],
   "source": [
    "from neuropy.utils.misc import RowColTuple # compute_paginated_grid_config\n",
    "from neuropy.plotting.ratemaps import _perform_plot_advanced_2D, _perform_compute_required_figure_sizes\n",
    "\n",
    "def _final_wrapped_determine_placefield_2D_layout(xbin, ybin, included_unit_indicies, subplots:RowColTuple=(40, 3), fig_column_width:float=8.0, fig_row_height:float=1.0, resolution_multiplier:float=1.0, max_screen_figure_size=(None, None), last_figure_subplots_same_layout=True, debug_print:bool=False):\n",
    "    \"\"\"\n",
    "    \n",
    "    Major outputs:\n",
    "    \n",
    "    \n",
    "    (curr_fig_page_grid_size.num_rows, curr_fig_page_grid_size.num_columns)\n",
    "    \n",
    "    \n",
    "    Usage Example:\n",
    "        nfigures, num_pages, included_combined_indicies_pages, page_grid_sizes, data_aspect_ratio, page_figure_sizes = _final_wrapped_determine_placefield_2D_layout(xbin=active_pf_2D.xbin, ybin=active_pf_2D.ybin, included_unit_indicies=np.arange(active_pf_2D.ratemap.n_neurons), subplots=(40, 3), fig_column_width=8.0, fig_row_height=1.0, resolution_multiplier=1.0, max_screen_figure_size=(None, None), last_figure_subplots_same_layout=True, debug_print=True)\n",
    "        \n",
    "        print(f'nfigures: {nfigures}\\ndata_aspect_ratio: {data_aspect_ratio}')\n",
    "        # Loop through each page/figure that's required:\n",
    "        for page_fig_ind, page_fig_size, page_grid_size in zip(np.arange(nfigures), page_figure_sizes, page_grid_sizes):\n",
    "            print(f'\\tpage_fig_ind: {page_fig_ind}, page_fig_size: {page_fig_size}, page_grid_size: {page_grid_size}')\n",
    "               \n",
    "        \n",
    "    \"\"\"\n",
    "    nfigures, num_pages, included_combined_indicies_pages, page_grid_sizes, data_aspect_ratio = _perform_plot_advanced_2D(xbin=xbin, ybin=ybin, included_unit_indicies=included_unit_indicies, subplots=subplots, last_figure_subplots_same_layout=last_figure_subplots_same_layout)\n",
    "    if resolution_multiplier is None:\n",
    "        resolution_multiplier = 1.0\n",
    "\n",
    "    page_figure_sizes = []\n",
    "    for fig_ind in range(nfigures):\n",
    "        # Dynamic Figure Sizing: \n",
    "        curr_fig_page_grid_size = page_grid_sizes[fig_ind]\n",
    "        ## active_figure_size is the primary output\n",
    "        active_figure_size = _perform_compute_required_figure_sizes(curr_fig_page_grid_size, data_aspect_ratio=data_aspect_ratio, fig_column_width=fig_column_width, fig_row_height=fig_row_height, resolution_multiplier=resolution_multiplier, max_screen_figure_size=max_screen_figure_size, debug_print=debug_print)\n",
    "        page_figure_sizes.append(active_figure_size)\n",
    "        \n",
    "    return nfigures, num_pages, included_combined_indicies_pages, page_grid_sizes, data_aspect_ratio, page_figure_sizes\n",
    "\n",
    "\n",
    "nfigures, num_pages, included_combined_indicies_pages, page_grid_sizes, data_aspect_ratio, page_figure_sizes = _final_wrapped_determine_placefield_2D_layout(xbin=active_pf_2D.xbin, ybin=active_pf_2D.ybin, included_unit_indicies=np.arange(active_pf_2D.ratemap.n_neurons), subplots=(40, 3), fig_column_width=8.0, fig_row_height=1.0, resolution_multiplier=1.0, max_screen_figure_size=(None, None), last_figure_subplots_same_layout=True, debug_print=True)"
   ]
  },
  {
   "cell_type": "code",
   "execution_count": null,
   "id": "53d54a78-a72d-4988-8eea-019c6abfb049",
   "metadata": {},
   "outputs": [],
   "source": [
    "# print(f'nfigures: {nfigures}\\ndata_aspect_ratio: {data_aspect_ratio}\\nincluded_combined_indicies_pages: {included_combined_indicies_pages}\\npage_grid_sizes: {page_grid_sizes}\\npage_figure_sizes: {page_figure_sizes}')\n",
    "print(f'nfigures: {nfigures}\\ndata_aspect_ratio: {data_aspect_ratio}')\n",
    "# Loop through each page/figure that's required:\n",
    "for page_fig_ind, page_fig_size, page_grid_size in zip(np.arange(nfigures), page_figure_sizes, page_grid_sizes):\n",
    "    print(f'\\tpage_fig_ind: {page_fig_ind}, page_fig_size: {page_fig_size}, page_grid_size: {page_grid_size}')\n",
    "    # print(f'\\tincluded_combined_indicies_pages: {included_combined_indicies_pages}\\npage_grid_sizes: {page_grid_sizes}\\npage_figure_sizes: {page_figure_sizes}')\n",
    "    \n",
    "# \\nincluded_combined_indicies_pages: {included_combined_indicies_pages}\\npage_grid_sizes: {page_grid_sizes}\\npage_figure_sizes: {page_figure_sizes}\n"
   ]
  },
  {
   "cell_type": "code",
   "execution_count": null,
   "id": "5346225d-301a-4477-9ca5-c4a255d48cba",
   "metadata": {},
   "outputs": [],
   "source": [
    "# active_pf_2D.ratemap.neuron_ids\n",
    "# active_pf_2D.included_neuron_IDXs # None!\n",
    "# active_pf_2D.included_neuron_IDs # array([[  2,   4,   5,   6,   7,   9,  12,  13,  14,  20,  26,  28,  31,  34,  35,  36,  38,  40,  42,  43,  44,  45,  46,  47,  50,  51,  52,  53,  54,  56,  58,  59,  61,  62,  69,  70,  71,  73,  80,  82,  86,  89,  90,  95,  99, 100, 101, 102, 103, 106, 107, 108, 109, 111, 112, 113, 114, 115, 117, 118, 120, 128, 129, 131, 133, 135, 140, 141]])\n",
    "active_pf_2D._included_thresh_neurons_indx\n",
    "# np.arange(len(active_pf_2D.included_neuron_IDs))\n",
    "np.arange(active_pf_2D.ratemap.n_neurons)\n"
   ]
  },
  {
   "cell_type": "code",
   "execution_count": null,
   "id": "16887559-2196-4ca0-b7e7-f6b3766837a5",
   "metadata": {},
   "outputs": [],
   "source": [
    "from pyphoplacecellanalysis.GUI.Qt.DecoderPlotSelectorControls.DecoderPlotSelectorWidget import DecoderPlotSelectorWidget\n",
    "\n",
    "widget = DecoderPlotSelectorWidget()\n",
    "widget.show()\n",
    "\n",
    "win.add_display_dock(identifier='Position Decoder', widget=widget)"
   ]
  },
  {
   "cell_type": "markdown",
   "id": "f7538285-c967-4101-bfba-04aad923d8b7",
   "metadata": {
    "jp-MarkdownHeadingCollapsed": true,
    "tags": []
   },
   "source": [
    "### 🐞 Planning Helper Dock"
   ]
  },
  {
   "cell_type": "code",
   "execution_count": null,
   "id": "5936fb3a-d197-4a77-8c6c-2dc1076c40c7",
   "metadata": {},
   "outputs": [],
   "source": [
    "from pyphoplacecellanalysis.GUI.PyQtPlot.Widgets.DockPlanningHelperWidget.DockPlanningHelperWidget import DockPlanningHelperWidget"
   ]
  },
  {
   "cell_type": "code",
   "execution_count": null,
   "id": "a113d225-7c4e-4930-a24b-780c6eea19a7",
   "metadata": {},
   "outputs": [],
   "source": [
    "test_dock_planning_widget = DockPlanningHelperWidget(dock_title='Test Dock Widget 1', dock_id='Test Dock Widget 1')\n",
    "win.add_display_dock(identifier=test_dock_planning_widget.identifier, widget=test_dock_planning_widget)"
   ]
  },
  {
   "cell_type": "code",
   "execution_count": null,
   "id": "ee2d207b-b7d3-4888-b36c-204f642243ac",
   "metadata": {},
   "outputs": [],
   "source": [
    "# test_dock_planning_widget.parent()\n",
    "test_dock_planning_widget.embedding_dock_item"
   ]
  },
  {
   "cell_type": "code",
   "execution_count": null,
   "id": "5ccb3166-7c7b-4819-a4ad-312b640e205e",
   "metadata": {},
   "outputs": [],
   "source": [
    "test_dock_planning_widget.embedding_dock_item.area # DockArea \n",
    "# test_dock_planning_widget.embedding_dock_item.orig_area # DockArea "
   ]
  },
  {
   "cell_type": "code",
   "execution_count": null,
   "id": "e76811ed-fbc6-42b7-ad06-3c005ae28395",
   "metadata": {},
   "outputs": [],
   "source": [
    "test_dock_planning_widget.embedding_dock_item.setOrientation"
   ]
  },
  {
   "cell_type": "code",
   "execution_count": null,
   "id": "23aba576-59af-4b38-bdf9-9e2724de7a90",
   "metadata": {},
   "outputs": [],
   "source": [
    "test_dock_planning_widget, test_dock_item = win.create_planning_helper_dock()\n",
    "test_dock_planning_widget"
   ]
  },
  {
   "cell_type": "code",
   "execution_count": null,
   "id": "b5e84893-91e2-4912-9b7c-cea2a86a7490",
   "metadata": {},
   "outputs": [],
   "source": [
    "win.ui"
   ]
  },
  {
   "cell_type": "code",
   "execution_count": null,
   "id": "d243fe6b-e671-425f-aab5-263710e3d905",
   "metadata": {},
   "outputs": [],
   "source": [
    "test_dock_planning_widget2, test_dock_item2 = win.create_planning_helper_dock()\n",
    "test_dock_planning_widget2"
   ]
  },
  {
   "cell_type": "code",
   "execution_count": null,
   "id": "eb962b66-4cf7-43a4-af7d-86da2ebc3fdd",
   "metadata": {},
   "outputs": [],
   "source": [
    "# curr_display_dock_planning_helper_widgets = win.displayDockArea.findChildren(DockPlanningHelperWidget, QtCore.QRegExp(\".*\"), QtCore.Qt.FindChildrenRecursively)\n",
    "# curr_display_dock_planning_helper_widgets\n",
    "\n",
    "curr_display_dock_planning_helper_widgets = win.displayDockArea.findChildren(DockPlanningHelperWidget, QtCore.QRegExp(\".*\"), QtCore.Qt.FindChildrenRecursively)\n",
    "# curr_display_dock_planning_helper_widgets\n",
    "# win.connection_man\n",
    "for a_child_helper_widget in curr_display_dock_planning_helper_widgets:\n",
    "    a_child_helper_widget.action_create_new_dock.connect(perform_create_new_relative_dock)"
   ]
  },
  {
   "cell_type": "code",
   "execution_count": null,
   "id": "3b56ee65-cdf1-4c41-8d3f-c1c606e71b13",
   "metadata": {},
   "outputs": [],
   "source": [
    "win.dynamic_display_dict"
   ]
  },
  {
   "cell_type": "code",
   "execution_count": null,
   "id": "39804039-9497-4d57-9d2c-0fc28c7bd0e0",
   "metadata": {},
   "outputs": [],
   "source": [
    "win.dynamic_display_dict['Test Dock Widget 1']\n",
    "\n",
    "\n",
    "\n",
    "# \"dock\"\n",
    "# \"widget\""
   ]
  },
  {
   "cell_type": "code",
   "execution_count": null,
   "id": "3dee8b08-42bf-4b5a-9c76-b7b3a3a3119a",
   "metadata": {},
   "outputs": [],
   "source": [
    "from pyphoplacecellanalysis.External.pyqtgraph.dockarea.Dock import Dock\n",
    "\n",
    "# curr_display_dock_items = win.displayDockArea.children()\n",
    "# curr_display_dock_items = win.displayDockArea.findChildren(Dock)\n",
    "curr_display_dock_items = win.displayDockArea.findChildren(Dock, QtCore.QRegExp(\".*\"), QtCore.Qt.FindChildrenRecursively)\n",
    "curr_display_dock_items"
   ]
  },
  {
   "cell_type": "code",
   "execution_count": null,
   "id": "fd70cccf-6468-4832-ae39-9a2bb1d059d6",
   "metadata": {},
   "outputs": [],
   "source": [
    "win.find_display_dock('Test Dock Widget 1')"
   ]
  },
  {
   "cell_type": "code",
   "execution_count": null,
   "id": "8521ad06-6218-4d62-bed3-77f22461454e",
   "metadata": {},
   "outputs": [],
   "source": [
    "dock_item_titles = [a_dock_item.title() for a_dock_item in curr_display_dock_items]\n",
    "dock_item_titles\n",
    "# [a_dock_item for a_dock_item in curr_display_dock_items]"
   ]
  },
  {
   "cell_type": "code",
   "execution_count": null,
   "id": "2573ec63-4864-4f8b-b826-2492ec6dd1a6",
   "metadata": {},
   "outputs": [],
   "source": [
    "first_dock_item = curr_display_dock_items[0]"
   ]
  },
  {
   "cell_type": "code",
   "execution_count": null,
   "id": "ecb638a2-2cd7-4122-939a-431146284dc6",
   "metadata": {},
   "outputs": [],
   "source": [
    "first_dock_item.title() # \n",
    "# first_dock_item.setTitle\n",
    "first_dock_item.geometry() # PyQt5.QtCore.QRect(0, 792, 842, 786)"
   ]
  },
  {
   "cell_type": "code",
   "execution_count": null,
   "id": "13ede0a2-2283-4aad-bb96-7adae4437e33",
   "metadata": {},
   "outputs": [],
   "source": [
    "first_dock_item.frameGeometry() # PyQt5.QtCore.QRect(0, 792, 842, 786)\n",
    "first_dock_item.widgets # list, e.g. [<pyphoplacecellanalysis.GUI.PyQtPlot.Widgets.DockPlanningHelperWidget.DockPlanningHelperWidget.DockPlanningHelperWidget at 0x1d6b2a1b820>]\n",
    "first_dock_item.name()\n"
   ]
  },
  {
   "cell_type": "markdown",
   "id": "2c5931d5-08ff-4e74-83e7-b123c8e8892c",
   "metadata": {
    "tags": []
   },
   "source": [
    "## Systematic Display Function Testing"
   ]
  },
  {
   "cell_type": "markdown",
   "id": "6f70f924-ee90-4679-bdba-d0f6ba3b7715",
   "metadata": {},
   "source": [
    "### Matplotlib-based plots:"
   ]
  },
  {
   "cell_type": "code",
   "execution_count": null,
   "id": "89d7a04e-6f04-42ab-9a7c-58b4f48976bd",
   "metadata": {
    "pycharm": {
     "name": "#%%\n"
    }
   },
   "outputs": [],
   "source": [
    "%%capture\n",
    "#The above hides the output in JupyterLab Notebooks, must be first line in the cell to hide the output of\n",
    "curr_display_function_name = '_display_1d_placefield_validations'\n",
    "built_pdf_metadata, curr_pdf_save_path = _build_pdf_pages_output_info(curr_display_function_name)\n",
    "with backend_pdf.PdfPages(curr_pdf_save_path, keep_empty=False, metadata=built_pdf_metadata) as pdf:\n",
    "    # plt.ioff() # disable displaying the plots inline in the Jupyter-lab notebook. NOTE: does not work in Jupyter-Lab, figures still show\n",
    "    plots = curr_active_pipeline.display(curr_display_function_name, active_config_name) # works, but generates a TON of plots!\n",
    "    # plt.ion()\n",
    "    for fig_idx, a_fig in enumerate(plots):\n",
    "        # print(f'saving fig: {fig_idx+1}/{len(plots)}')\n",
    "        pdf.savefig(a_fig)\n",
    "        # pdf.savefig(a_fig, transparent=True)\n",
    "    # When no figure is specified the current figure is saved\n",
    "    # pdf.savefig()"
   ]
  },
  {
   "cell_type": "code",
   "execution_count": null,
   "id": "e063f67f-a950-4b2f-95e7-e9d3242de25c",
   "metadata": {
    "scrolled": true
   },
   "outputs": [],
   "source": [
    "%%capture\n",
    "curr_display_function_name = '_display_2d_placefield_result_plot_raw'\n",
    "built_pdf_metadata, curr_pdf_save_path = _build_pdf_pages_output_info(curr_display_function_name)\n",
    "with backend_pdf.PdfPages(curr_pdf_save_path, keep_empty=False, metadata=built_pdf_metadata) as pdf:\n",
    "    a_fig = curr_active_pipeline.display(curr_display_function_name, filter_name)\n",
    "    pdf.savefig(a_fig)\n",
    "\n",
    "# Issue with unexpected kwargs passed to plots. Solve generally.\n",
    "# TypeError: plot_raw() got an unexpected keyword argument 'enable_saving_to_disk'"
   ]
  },
  {
   "cell_type": "code",
   "execution_count": null,
   "id": "ce7bf897-29e9-4fa8-9be8-ba2562fa29f4",
   "metadata": {
    "scrolled": true
   },
   "outputs": [],
   "source": [
    "figure_format_config"
   ]
  },
  {
   "cell_type": "code",
   "execution_count": null,
   "id": "c7a1dead-0443-4456-ad42-7093133b98c3",
   "metadata": {
    "scrolled": true
   },
   "outputs": [],
   "source": [
    "# %%capture\n",
    "curr_display_function_name = '_display_normal'\n",
    "built_pdf_metadata, curr_pdf_save_path = _build_pdf_pages_output_info(curr_display_function_name)\n",
    "with backend_pdf.PdfPages(curr_pdf_save_path, keep_empty=False, metadata=built_pdf_metadata) as pdf:\n",
    "    # fig0, figList1 = curr_active_pipeline.display(curr_display_function_name, filter_name, debug_print=False, enable_saving_to_disk=enable_saving_to_disk)\n",
    "    fig0, figList1 = curr_active_pipeline.display(curr_display_function_name, filter_name, **figure_format_config)\n",
    "    plots = [fig0, *figList1]\n",
    "    for a_fig in plots:\n",
    "        pdf.savefig(a_fig)"
   ]
  },
  {
   "cell_type": "code",
   "execution_count": null,
   "id": "3106bd7c-0785-4807-91a8-81c157dc7f7c",
   "metadata": {
    "scrolled": true
   },
   "outputs": [],
   "source": [
    "curr_active_pipeline.filtered_session_names"
   ]
  },
  {
   "cell_type": "code",
   "execution_count": null,
   "id": "8c897525-0d60-42f0-b97a-5507ddd956bd",
   "metadata": {
    "scrolled": true
   },
   "outputs": [],
   "source": [
    "curr_display_function_name = '_display_2d_placefield_result_plot_ratemaps_2D'\n",
    "built_pdf_metadata, curr_pdf_save_path = _build_pdf_pages_output_info(curr_display_function_name)\n",
    "out_fig_list = []\n",
    "figure_format_config['enable_saving_to_disk'] = False # don't use the in-built figure export/saving to disk functionality as we want to wrap the output figure with the Pdf saving, not write to a .png\n",
    "with backend_pdf.PdfPages(curr_pdf_save_path, keep_empty=False, metadata=built_pdf_metadata) as pdf:    \n",
    "    for filter_name in curr_active_pipeline.filtered_session_names:\n",
    "        print(f'filter_name: {filter_name}')\n",
    "        out_fig_list.extend(curr_active_pipeline.display(curr_display_function_name, filter_name, plot_variable=enumTuningMap2DPlotVariables.SPIKES_MAPS, fignum=plots_fig_nums_dict[filter_name][0], **figure_format_config)) # works!\n",
    "        out_fig_list.extend(curr_active_pipeline.display(curr_display_function_name, filter_name, plot_variable=enumTuningMap2DPlotVariables.TUNING_MAPS, fignum=plots_fig_nums_dict[filter_name][1], **figure_format_config))\n",
    "        for a_fig in out_fig_list:\n",
    "            pdf.savefig(a_fig)"
   ]
  },
  {
   "cell_type": "code",
   "execution_count": null,
   "id": "208ccda9-0c1a-4743-8ad7-3c7a90f96c04",
   "metadata": {
    "scrolled": true
   },
   "outputs": [],
   "source": [
    "%%capture\n",
    "curr_display_function_name = '_display_decoder_result'\n",
    "built_pdf_metadata, curr_pdf_save_path = _build_pdf_pages_output_info(curr_display_function_name)\n",
    "with backend_pdf.PdfPages(curr_pdf_save_path, keep_empty=False, metadata=built_pdf_metadata) as pdf:\n",
    "    plots = curr_active_pipeline.display(curr_display_function_name, filter_name)\n",
    "    print(plots)\n",
    "    # pdf.savefig(a_fig)"
   ]
  },
  {
   "cell_type": "markdown",
   "id": "0be6f5f0-f4d0-4ce6-acde-c78e23847386",
   "metadata": {
    "tags": []
   },
   "source": [
    "### PyQtGraph-based plots:"
   ]
  },
  {
   "cell_type": "markdown",
   "id": "7b235e17-740d-45ed-8e39-d88c2a2b995e",
   "metadata": {},
   "source": [
    "#### PyQtGraph-based Pf2D Viewers:"
   ]
  },
  {
   "cell_type": "code",
   "execution_count": null,
   "id": "6908b968-6730-4f67-985b-0d9df9daed3e",
   "metadata": {},
   "outputs": [],
   "source": [
    "from pyphoplacecellanalysis.GUI.PyQtPlot.BinnedImageRenderingWindow import BasicBinnedImageRenderingWindow, add_bin_ticks, build_binned_imageItem\n",
    "\n",
    "def display_all_pf_2D_pyqtgraph_binned_image_rendering(active_pf_2D):\n",
    "    # active_xbins = active_pf_2D.xbin\n",
    "    # active_ybins = active_pf_2D.ybin\n",
    "    \n",
    "    # # *bin_indicies:\n",
    "    # xbin_indicies = active_pf_2D.xbin_labels -1\n",
    "    # ybin_indicies = active_pf_2D.ybin_labels -1\n",
    "    # active_xbins = xbin_indicies\n",
    "    # active_ybins = ybin_indicies\n",
    "    \n",
    "    # *bin_centers: these seem to work\n",
    "    active_xbins = active_pf_2D.xbin_centers\n",
    "    active_ybins = active_pf_2D.ybin_centers\n",
    "    \n",
    "    out = BasicBinnedImageRenderingWindow(active_eloy_analysis.avg_2D_speed_per_pos, active_xbins, active_ybins, name='avg_velocity', title=\"Avg Velocity per Pos (X, Y)\", variable_label='Avg Velocity')\n",
    "    out.add_data(row=2, col=0, matrix=active_eloy_analysis.pf_overlapDensity_2D, xbins=active_xbins, ybins=active_ybins, name='pf_overlapDensity', title='pf overlapDensity metric', variable_label='pf overlapDensity')\n",
    "    out.add_data(row=3, col=0, matrix=active_pf_2D.ratemap.occupancy, xbins=active_xbins, ybins=active_ybins, name='occupancy_seconds', title='Seconds Occupancy', variable_label='seconds')\n",
    "    out.add_data(row=4, col=0, matrix=active_simpler_pf_densities_analysis.n_neurons_meeting_firing_critiera_by_position_bins_2D, xbins=active_xbins, ybins=active_ybins, name='n_neurons_meeting_firing_critiera_by_position_bins_2D', title='# neurons > 1Hz per Pos (X, Y)', variable_label='# neurons')\n",
    "    # out.add_data(row=5, col=0, matrix=active_peak_prominence_2d_results.peak_counts.raw, xbins=active_pf_2D.xbin_labels, ybins=active_pf_2D.ybin_labels, name='pf_peak_counts_map', title='# pf peaks per Pos (X, Y)', variable_label='# pf peaks')\n",
    "    # out.add_data(row=6, col=0, matrix=active_peak_prominence_2d_results.peak_counts.gaussian_blurred, xbins=active_pf_2D.xbin_labels, ybins=active_pf_2D.ybin_labels, name='pf_peak_counts_map_blurred gaussian', title='Gaussian blurred # pf peaks per Pos (X, Y)', variable_label='Gaussian blurred # pf peaks')\n",
    "    out.add_data(row=5, col=0, matrix=active_peak_prominence_2d_results.peak_counts.raw, xbins=active_xbins, ybins=active_ybins, name='pf_peak_counts_map', title='# pf peaks per Pos (X, Y)', variable_label='# pf peaks')\n",
    "    out.add_data(row=6, col=0, matrix=active_peak_prominence_2d_results.peak_counts.gaussian_blurred, xbins=active_xbins, ybins=active_ybins, name='pf_peak_counts_map_blurred gaussian', title='Gaussian blurred # pf peaks per Pos (X, Y)', variable_label='Gaussian blurred # pf peaks')\n",
    "\n",
    "    return out\n",
    "    \n",
    "out_all_eloy_pf_density_fig = display_all_eloy_pf_density_measures_results(active_pf_2D, active_eloy_analysis, active_simpler_pf_densities_analysis, active_peak_prominence_2d_results)"
   ]
  },
  {
   "cell_type": "code",
   "execution_count": null,
   "id": "32258d00-3271-4d2f-9233-58d7ea4d70e5",
   "metadata": {},
   "outputs": [],
   "source": [
    "from pyphoplacecellanalysis.Pho2D.PyQtPlots.plot_placefields import _pyqtplot_build_image_bounds_extent\n",
    "from pyphocorehelpers.geometry_helpers import compute_data_aspect_ratio, compute_data_extent\n",
    "from pyphocorehelpers.indexing_helpers import compute_paginated_grid_config\n",
    "from pyphoplacecellanalysis.GUI.PyQtPlot.pyqtplot_basic import pyqtplot_common_setup\n",
    "from pyphoplacecellanalysis.GUI.Qt.Mixins.PhoMainAppWindowBase import PhoMainAppWindowBase\n",
    "\n",
    "def _temp_pyqtplot_plot_image_array(xbin_edges, ybin_edges, images, occupancy, max_num_columns = 5, drop_below_threshold: float=0.0000001, enable_LUT_Histogram=False, app=None, parent_root_widget=None, root_render_widget=None, debug_print=False):\n",
    "    \"\"\" Plots an array of images provided in 'images' argument\n",
    "    images should be an nd.array with dimensions like: (10, 63, 63), where (N_Images, X_Dim, Y_Dim)\n",
    "        or (2, 5, 63, 63), where (N_Rows, N_Cols, X_Dim, Y_Dim)\n",
    "        \n",
    "    Example:\n",
    "        # Get flat list of images:\n",
    "        images = active_one_step_decoder.ratemap.normalized_tuning_curves # (43, 63, 63)\n",
    "        # images = active_one_step_decoder.ratemap.normalized_tuning_curves[0:40,:,:] # (43, 63, 63)\n",
    "        occupancy = active_one_step_decoder.ratemap.occupancy\n",
    "\n",
    "        app, win, plot_array, img_item_array, other_components_array = pyqtplot_plot_image_array(active_one_step_decoder.xbin, active_one_step_decoder.ybin, images, occupancy)\n",
    "        win.show()\n",
    "    \"\"\"\n",
    "    \n",
    "    # pg.setConfigOptions(imageAxisOrder='row-major')\n",
    "    root_render_widget, parent_root_widget, app = pyqtplot_common_setup(f'_temp_pyqtplot_plot_image_array: {np.shape(images)}', app=app, parent_root_widget=parent_root_widget, root_render_widget=root_render_widget)\n",
    "    pg.setConfigOptions(imageAxisOrder='col-major')\n",
    "    \n",
    "    # cmap = pg.ColorMap(pos=np.linspace(0.0, 1.0, 6), color=colors)\n",
    "    cmap = pg.colormap.get('jet','matplotlib') # prepare a linear color map\n",
    "\n",
    "    image_bounds_extent, x_range, y_range = _pyqtplot_build_image_bounds_extent(xbin_edges, ybin_edges, margin=2.0, debug_print=debug_print)\n",
    "    # image_aspect_ratio, image_width_height_tuple = compute_data_aspect_ratio(x_range, y_range)\n",
    "    # print(f'image_aspect_ratio: {image_aspect_ratio} - xScale/yScale: {float(image_width_height_tuple.width) / float(image_width_height_tuple.height)}')\n",
    "    \n",
    "    # Compute Images:\n",
    "    included_unit_indicies = np.arange(np.shape(images)[0]) # include all unless otherwise specified\n",
    "    nMapsToShow = len(included_unit_indicies)\n",
    "\n",
    "    # Paging Management: Constrain the subplots values to just those that you need\n",
    "    subplot_no_pagination_configuration, included_combined_indicies_pages, page_grid_sizes = compute_paginated_grid_config(nMapsToShow, max_num_columns=max_num_columns, max_subplots_per_page=None, data_indicies=included_unit_indicies, last_figure_subplots_same_layout=True)\n",
    "    page_idx = 0 # page_idx is zero here because we only have one page:\n",
    "    \n",
    "    img_item_array = []\n",
    "    other_components_array = []\n",
    "    plot_array = []\n",
    "\n",
    "    for (a_linear_index, curr_row, curr_col, curr_included_unit_index) in included_combined_indicies_pages[page_idx]:\n",
    "        # Need to convert to page specific:\n",
    "        curr_page_relative_linear_index = np.mod(a_linear_index, int(page_grid_sizes[page_idx].num_rows * page_grid_sizes[page_idx].num_columns))\n",
    "        curr_page_relative_row = np.mod(curr_row, page_grid_sizes[page_idx].num_rows)\n",
    "        curr_page_relative_col = np.mod(curr_col, page_grid_sizes[page_idx].num_columns)\n",
    "        is_first_column = (curr_page_relative_col == 0)\n",
    "        is_first_row = (curr_page_relative_row == 0)\n",
    "        is_last_column = (curr_page_relative_col == (page_grid_sizes[page_idx].num_columns-1))\n",
    "        is_last_row = (curr_page_relative_row == (page_grid_sizes[page_idx].num_rows-1))\n",
    "        if debug_print:\n",
    "            print(f'a_linear_index: {a_linear_index}, curr_page_relative_linear_index: {curr_page_relative_linear_index}, curr_row: {curr_row}, curr_col: {curr_col}, curr_page_relative_row: {curr_page_relative_row}, curr_page_relative_col: {curr_page_relative_col}, curr_included_unit_index: {curr_included_unit_index}')\n",
    "\n",
    "        neuron_IDX = curr_included_unit_index\n",
    "        curr_cell_identifier_string = f'Cell[{neuron_IDX}]'\n",
    "        curr_plot_identifier_string = f'pyqtplot_plot_image_array.{curr_cell_identifier_string}'\n",
    "\n",
    "        image = np.squeeze(images[a_linear_index,:,:])\n",
    "        # Pre-filter the data:\n",
    "        with np.errstate(divide='ignore', invalid='ignore'):\n",
    "            image = np.array(image.copy()) / np.nanmax(image) # note scaling by maximum here!\n",
    "            if drop_below_threshold is not None:\n",
    "                image[np.where(occupancy < drop_below_threshold)] = np.nan # null out the occupancy\n",
    "\n",
    "        # Build the image item:\n",
    "        img_item = pg.ImageItem(image=image, levels=(0,1))\n",
    "        #     # Viewbox version:\n",
    "        #     # vb = layout.addViewBox(lockAspect=False)\n",
    "        #     # # Build the ImageItem (which I'm guessing is like pg.ImageView) to add the image\n",
    "        #     # imv = pg.ImageItem() # Create it with the current image\n",
    "        #     # vb.addItem(imv) # add the item to the view box: why do we need the wrapping view box?\n",
    "        #     # vb.autoRange()\n",
    "        \n",
    "        # # plot mode:\n",
    "        curr_plot = root_render_widget.addPlot(row=curr_row, col=curr_col, name=curr_plot_identifier_string, title=curr_cell_identifier_string)\n",
    "        curr_plot.showAxes(False)\n",
    "        if is_last_row:\n",
    "            curr_plot.showAxes('x', True)\n",
    "            curr_plot.showAxis('bottom', show=True)\n",
    "        else:\n",
    "            curr_plot.showAxes('x', False)\n",
    "            curr_plot.showAxis('bottom', show=False)\n",
    "            \n",
    "        if is_first_column:\n",
    "            curr_plot.showAxes('y', True)\n",
    "            curr_plot.showAxis('left', show=True)\n",
    "        else:\n",
    "            curr_plot.showAxes('y', False)\n",
    "            curr_plot.showAxis('left', show=False)\n",
    "        \n",
    "        curr_plot.hideButtons() # Hides the auto-scale button\n",
    "        \n",
    "        curr_plot.addItem(img_item, defaultPadding=0.0)  # add ImageItem to PlotItem\n",
    "        # curr_plot.setAspectLocked(lock=True, ratio=image_aspect_ratio)\n",
    "        # curr_plot.showAxes(True)\n",
    "        # curr_plot.showGrid(True, True, 0.7)\n",
    "        # curr_plot.setLabel('bottom', \"Label to test offset\")\n",
    "        \n",
    "        # # Overlay cell identifier text:\n",
    "        # curr_label = pg.TextItem(f'Cell[{neuron_IDX}]', color=(230, 230, 230))\n",
    "        # curr_label.setPos(30, 60)\n",
    "        # curr_label.setParentItem(img_item)\n",
    "        # # curr_plot.addItem(curr_label, ignoreBounds=True)\n",
    "        # curr_plot.addItem(curr_label)\n",
    "\n",
    "        # Update the image:\n",
    "        img_item.setImage(image, rect=image_bounds_extent, autoLevels=False) # rect: [x, y, w, h]\n",
    "        img_item.setLookupTable(cmap.getLookupTable(nPts=256), update=False)\n",
    "\n",
    "        # curr_plot.set\n",
    "        # margin = 2.0\n",
    "        # curr_plot.setXRange(global_min_x-margin, global_max_x+margin)\n",
    "        # curr_plot.setYRange(global_min_y-margin, global_max_y+margin)\n",
    "        # curr_plot.setXRange(*x_range)\n",
    "        # curr_plot.setYRange(*y_range)\n",
    "        curr_plot.setRange(xRange=x_range, yRange=y_range, padding=0.0, update=False, disableAutoRange=True)\n",
    "        # Sets only the panning limits:\n",
    "        curr_plot.setLimits(xMin=x_range[0], xMax=x_range[-1], yMin=y_range[0], yMax=y_range[-1])\n",
    "        # Link Axes to previous item:\n",
    "        if a_linear_index > 0:\n",
    "            prev_plot_item = plot_array[a_linear_index-1]\n",
    "            curr_plot.setXLink(prev_plot_item)\n",
    "            curr_plot.setYLink(prev_plot_item)\n",
    "            \n",
    "            \n",
    "        # Interactive Color Bar:\n",
    "        bar = pg.ColorBarItem(values= (0, 1), colorMap=cmap, width=5, interactive=False) # prepare interactive color bar\n",
    "        # Have ColorBarItem control colors of img and appear in 'plot':\n",
    "        bar.setImageItem(img_item, insert_in=curr_plot)\n",
    "        \n",
    "        \n",
    "\n",
    "        img_item_array.append(img_item)\n",
    "        plot_array.append(curr_plot)\n",
    "        other_components_array.append({'color_bar':bar})\n",
    "        \n",
    "    # Post images loop:\n",
    "    \n",
    "    enable_show = False\n",
    "    \n",
    "    if parent_root_widget is not None:\n",
    "        if enable_show:\n",
    "            parent_root_widget.show()\n",
    "        \n",
    "        parent_root_widget.setWindowTitle('pyqtplot image array')\n",
    "\n",
    "    # pg.exec()\n",
    "    return app, parent_root_widget, root_render_widget, plot_array, img_item_array, other_components_array"
   ]
  },
  {
   "cell_type": "code",
   "execution_count": null,
   "id": "02043c26-72f7-4966-ba7e-a8d1dd30a35d",
   "metadata": {},
   "outputs": [],
   "source": [
    "images = active_one_step_decoder.ratemap.normalized_tuning_curves\n",
    "images.shape # (66, 41, 63)"
   ]
  },
  {
   "cell_type": "code",
   "execution_count": null,
   "id": "ba3c2f13-c19c-4e0d-8f49-59459980bf17",
   "metadata": {},
   "outputs": [],
   "source": [
    "# Get the decoders from the computation result:\n",
    "# active_one_step_decoder = computation_result.computed_data['pf2D_Decoder'] # doesn't actually require the Decoder, could just use computation_result.computed_data['pf2D']            \n",
    "# Get flat list of images:\n",
    "images = active_one_step_decoder.ratemap.normalized_tuning_curves # (43, 63, 63)\n",
    "# images = active_one_step_decoder.ratemap.normalized_tuning_curves[0:40,:,:] # (43, 63, 63)\n",
    "occupancy = active_one_step_decoder.ratemap.occupancy\n",
    "# app, parent_root_widget, root_render_widget, plot_array, img_item_array, other_components_array = pyqtplot_plot_image_array(active_one_step_decoder.xbin, active_one_step_decoder.ybin, images, occupancy, \n",
    "#                                                                         app=None, parent_root_widget=None, root_render_widget=None, max_num_columns=8)\n",
    "\n",
    "app, parent_root_widget, root_render_widget, plot_array, img_item_array, other_components_array = _temp_pyqtplot_plot_image_array(active_one_step_decoder.xbin, active_one_step_decoder.ybin, images, occupancy, \n",
    "                                                                        app=None, parent_root_widget=None, root_render_widget=None, max_num_columns=8)\n",
    "\n",
    "\n",
    "\n",
    "\n",
    "parent_root_widget.show()"
   ]
  },
  {
   "cell_type": "markdown",
   "id": "34852f9f-58a4-4e87-8e63-ccd8bee8c835",
   "metadata": {},
   "source": [
    "#### Decoder Plots:"
   ]
  },
  {
   "cell_type": "code",
   "execution_count": null,
   "id": "f0c49ccf",
   "metadata": {
    "pycharm": {
     "name": "#%%\n"
    }
   },
   "outputs": [],
   "source": [
    "curr_active_pipeline.display('_display_two_step_decoder_prediction_error_animated_2D', active_config_name, variable_name='p_x_given_n')"
   ]
  },
  {
   "cell_type": "code",
   "execution_count": null,
   "id": "61f43c17-baff-4d1f-9b8b-5620c1c1529b",
   "metadata": {
    "pycharm": {
     "name": "#%%\n"
    }
   },
   "outputs": [],
   "source": [
    "## This plot looks phenominal, and the slider works!\n",
    "curr_active_pipeline.display('_display_two_step_decoder_prediction_error_2D', active_config_name, variable_name='p_x_given_n') # works!"
   ]
  },
  {
   "cell_type": "code",
   "execution_count": null,
   "id": "8d36faf2-93e3-4e3c-8637-5d5f1cf65cd0",
   "metadata": {
    "pycharm": {
     "name": "#%%\n"
    }
   },
   "outputs": [],
   "source": [
    "curr_active_pipeline.display('_display_two_step_decoder_prediction_error_2D', active_config_name, variable_name='p_x_given_n_and_x_prev') # this one doesn't work!"
   ]
  },
  {
   "cell_type": "code",
   "execution_count": null,
   "id": "3b3d2b94-2c5e-4af7-b41b-79e7c88ff075",
   "metadata": {},
   "outputs": [],
   "source": [
    "# Get the decoders from the computation result:\n",
    "# active_one_step_decoder = computation_result.computed_data['pf2D_Decoder']\n",
    "# active_two_step_decoder = computation_result.computed_data.get('pf2D_TwoStepDecoder', None)\n",
    "# active_measured_positions = computation_result.sess.position.to_dataframe()\n",
    "\n",
    "active_one_step_decoder # BayesianPlacemapPositionDecoder\n",
    "active_two_step_decoder\n",
    "\n",
    "\n",
    "## SAVE OUT THE RESULTS of the decoder:"
   ]
  },
  {
   "cell_type": "code",
   "execution_count": null,
   "id": "a8d72d58-5163-423c-ac25-8d8942ade8f3",
   "metadata": {},
   "outputs": [],
   "source": [
    "active_one_step_decoder"
   ]
  },
  {
   "cell_type": "code",
   "execution_count": null,
   "id": "54b4ba3d-11f4-4b7f-b909-98b024981ed7",
   "metadata": {},
   "outputs": [],
   "source": [
    "active_two_step_decoder"
   ]
  },
  {
   "cell_type": "code",
   "execution_count": null,
   "id": "027f3d8b-0f02-4adf-94e6-78a9f35ab7ad",
   "metadata": {},
   "outputs": [],
   "source": [
    "active_one_step_decoder.active_time_window_centers.shape"
   ]
  },
  {
   "cell_type": "code",
   "execution_count": null,
   "id": "ded85c7a-a5a8-4b62-8d09-1d23f500c45d",
   "metadata": {},
   "outputs": [],
   "source": [
    "active_one_step_decoder.flat_position_size"
   ]
  },
  {
   "cell_type": "markdown",
   "id": "512852c6-ef77-4fc1-ab1b-aa8b7eb17b3e",
   "metadata": {
    "pycharm": {
     "name": "#%%\n"
    }
   },
   "source": [
    "### 🔜 2022-08-10 👁️‍🗨️ NOW: Plot animal positions on the computed posteriors:\n",
    "The process of plotting the animal position on the decoder plot needs to be refined. Currently it works by re-implementing \n",
    "\n",
    "🔜 NEXT STEP: TODO: Make a \"Datasource\" like approach perhaps to provide the actual animal position at each point in time?\n",
    "🐞🔜 BUG TODO: Noticed that for Bapun Day5 data, it looks like the current position point is being plotted incorrectly (it doesn't even move across the space much)"
   ]
  },
  {
   "cell_type": "code",
   "execution_count": null,
   "id": "ee882017-15af-4c21-a838-e8d88f503b92",
   "metadata": {
    "pycharm": {
     "name": "#%%\n"
    }
   },
   "outputs": [],
   "source": [
    "## Get the current positions at each of the time_window_centers:\n",
    "# active_resampled_measured_positions\n",
    "time_binned_pos_df = active_computed_data.extended_stats.time_binned_position_df\n",
    "active_resampled_pos_df = time_binned_pos_df  # 1717 rows × 16 columns\n",
    "active_resampled_measured_positions = active_resampled_pos_df[['x','y']].to_numpy() # The measured positions resampled (interpolated) at the window centers. \n",
    "# np.shape(active_resampled_measured_positions) # (1911, 2)\n",
    "active_one_step_decoder.active_time_window_centers.shape # (1911,)\n",
    "\n",
    "# Note this has 2900 rows × 24 columns and active_one_step_decoder.active_time_window_centers.shape is (2892,) for some reason. Shouldn't they be the same?"
   ]
  },
  {
   "cell_type": "code",
   "execution_count": null,
   "id": "0dd6ff81-42cb-4695-bc20-7b049faaa13b",
   "metadata": {
    "pycharm": {
     "name": "#%%\n"
    }
   },
   "outputs": [],
   "source": [
    "# active_one_step_decoder.active_time_window_centers"
   ]
  },
  {
   "cell_type": "code",
   "execution_count": null,
   "id": "91e82f88-bec4-43d2-b699-c8c17bda7770",
   "metadata": {
    "pycharm": {
     "name": "#%%\n"
    }
   },
   "outputs": [],
   "source": [
    "# np.array(active_two_step_decoder.flat_all_x).shape # (3969, 2)"
   ]
  },
  {
   "cell_type": "code",
   "execution_count": null,
   "id": "cf002ab2-9e5a-45ed-9a4b-8ccb5366a9dd",
   "metadata": {
    "pycharm": {
     "name": "#%%\n"
    }
   },
   "outputs": [],
   "source": [
    "# active_resampled_pos_df\n",
    "sub_df = pd.DataFrame({'t': active_one_step_decoder.active_time_window_centers, 'x':active_resampled_pos_df.x.to_numpy(), 'y':active_resampled_pos_df.x.to_numpy()})\n",
    "sub_df"
   ]
  },
  {
   "cell_type": "code",
   "execution_count": null,
   "id": "88aa04ca-ce4c-47ec-a8ec-3a2be7a862ed",
   "metadata": {},
   "outputs": [],
   "source": [
    "import matplotlib.pyplot as plt\n",
    "from matplotlib.widgets import Slider\n",
    "\n",
    "## Copied from DecoderPredictionError.py to modify with adding nearest animal position at each timestep:\n",
    "def _temp_debug_two_step_plots_animated_imshow(active_one_step_decoder, active_two_step_decoder, variable_name='p_x_given_n_and_x_prev', override_variable_value=None, update_callback_function=None):\n",
    "    \"\"\"Matplotlib-based imshow plot with interactive slider for displaying two-step bayesian decoding results\n",
    "\n",
    "    ## Added _update_measured_animal_position_point(...)\n",
    "    DEPENDS ON active_computed_data.extended_stats.time_binned_position_df\n",
    "    \n",
    "    Args:\n",
    "        active_one_step_decoder ([type]): [description]\n",
    "        active_two_step_decoder ([type]): [description]\n",
    "        variable_name (str, optional): [description]. Defaults to 'p_x_given_n_and_x_prev'.\n",
    "        override_variable_value ([type], optional): [description]. Defaults to None.\n",
    "        update_callback_function ([type], optional): [description]. Defaults to None.\n",
    "    \"\"\"\n",
    "    if override_variable_value is None:\n",
    "        try:\n",
    "            variable_value = active_two_step_decoder[variable_name]\n",
    "        except (TypeError, KeyError):\n",
    "            # fallback to the one_step_decoder\n",
    "            variable_value = getattr(active_one_step_decoder, variable_name, None)\n",
    "    else:\n",
    "        # if override_variable_value is set, ignore the input info and use it.\n",
    "        variable_value = override_variable_value\n",
    "\n",
    "    num_frames = np.shape(variable_value)[-1]\n",
    "    debug_print = False\n",
    "    if debug_print:\n",
    "        print(f'_temp_debug_two_step_plots_animated_imshow: variable_name=\"{variable_name}\", np.shape: {np.shape(variable_value)}, num_frames: {num_frames}')\n",
    "\n",
    "    fig, ax = plt.subplots(ncols=1, nrows=1, num=f'debug_two_step_animated: variable_name={variable_name}', figsize=(15,15), clear=True, constrained_layout=False)\n",
    "    plt.subplots_adjust(left=0.25, bottom=0.25)\n",
    "\n",
    "    frame = 0\n",
    "    \n",
    "    # Get extents:    \n",
    "    xmin, xmax, ymin, ymax = (active_one_step_decoder.xbin[0], active_one_step_decoder.xbin[-1], active_one_step_decoder.ybin[0], active_one_step_decoder.ybin[-1])\n",
    "    x_first_extent = (xmin, xmax, ymin, ymax) # traditional order of the extant axes\n",
    "    active_extent = x_first_extent # for 'x == horizontal orientation'\n",
    "    # active_extent = y_first_extent # for 'x == vertical orientation'\n",
    "\n",
    "    main_plot_kwargs = {\n",
    "        'origin': 'lower',\n",
    "        'cmap': 'turbo',\n",
    "        'extent': active_extent,\n",
    "        # 'aspect':'auto',\n",
    "    }\n",
    "\n",
    "    curr_val = variable_value[:,:,frame] # untranslated output:\n",
    "    curr_val = np.swapaxes(curr_val, 0, 1) # x_horizontal_matrix: swap the first two axes while leaving the last intact. Returns a view into the matrix so it doesn't modify the value\n",
    "    \n",
    "    im_out = ax.imshow(curr_val, **main_plot_kwargs)\n",
    "    \n",
    "    ## Setup Auxillary Plots:\n",
    "    active_resampled_pos_df = active_computed_data.extended_stats.time_binned_position_df  # 1717 rows × 16 columns\n",
    "    active_resampled_measured_positions = active_resampled_pos_df[['x','y']].to_numpy() # The measured positions resampled (interpolated) at the window centers. \n",
    "    measured_point = np.squeeze(active_resampled_measured_positions[frame,:])\n",
    "    ## decided on using scatter\n",
    "    # measured_positions_scatter = ax.scatter(measured_point[0], measured_point[1], color='white') # PathCollection\n",
    "    measured_positions_scatter, = ax.plot(measured_point[0], measured_point[1], color='white', marker='o', ls='') # PathCollection\n",
    "    \n",
    "    def _update_measured_animal_position_point(time_window_idx, ax=None):\n",
    "        \"\"\" captures `active_resampled_measured_positions` and `measured_positions_scatter` \"\"\"\n",
    "        measured_point = np.squeeze(active_resampled_measured_positions[time_window_idx,:])\n",
    "        ## TODO: this would need to use set_offsets(...) if we wanted to stick with scatter plot.\n",
    "        measured_positions_scatter.set_xdata(measured_point[0])\n",
    "        measured_positions_scatter.set_ydata(measured_point[1])\n",
    "    \n",
    "    # for 'x == horizontal orientation':\n",
    "    ax.set_xlabel('x')\n",
    "    ax.set_ylabel('y')\n",
    "    \n",
    "    # ax.axis(\"off\")\n",
    "    plt.title(f'debug_two_step: {variable_name}')\n",
    "\n",
    "    axcolor = 'lightgoldenrodyellow'\n",
    "    axframe = plt.axes([0.25, 0.1, 0.65, 0.03], facecolor=axcolor)\n",
    "    sframe = Slider(axframe, 'Frame', 0, num_frames-1, valinit=2, valfmt='%d') # MATPLOTLIB Slider\n",
    "\n",
    "    def update(val):\n",
    "        new_frame = int(np.around(sframe.val))\n",
    "        # print(f'new_frame: {new_frame}')\n",
    "        curr_val = variable_value[:,:,new_frame] # untranslated output:\n",
    "        curr_val = np.swapaxes(curr_val, 0, 1) # x_horizontal_matrix: swap the first two axes while leaving the last intact. Returns a view into the matrix so it doesn't modify the value\n",
    "        im_out.set_data(curr_val)\n",
    "        # ax.relim()\n",
    "        # ax.autoscale_view()\n",
    "        _update_measured_animal_position_point(new_frame, ax=ax)\n",
    "        \n",
    "        if update_callback_function is not None:\n",
    "            update_callback_function(new_frame, ax=ax)\n",
    "        plt.draw()\n",
    "\n",
    "    sframe.on_changed(update)\n",
    "    plt.draw()\n",
    "    # plt.show()\n",
    "    \n",
    "\n",
    "# Get the decoders from the computation result:\n",
    "# active_one_step_decoder = computation_result.computed_data['pf2D_Decoder']\n",
    "# active_two_step_decoder = computation_result.computed_data.get('pf2D_TwoStepDecoder', None)\n",
    "# active_measured_positions = computation_result.sess.position.to_dataframe()\n",
    "\n",
    "\n",
    "# active_resampled_pos_df = active_computed_data.extended_stats.time_binned_position_df  # 1717 rows × 16 columns\n",
    "\n",
    "# Simple plot type 1:\n",
    "# plotted_variable_name = kwargs.get('variable_name', 'p_x_given_n') # Tries to get the user-provided variable name, otherwise defaults to 'p_x_given_n'\n",
    "plotted_variable_name = 'p_x_given_n' # Tries to get the user-provided variable name, otherwise defaults to 'p_x_given_n'\n",
    "_temp_debug_two_step_plots_animated_imshow(active_one_step_decoder, active_two_step_decoder, variable_name=plotted_variable_name) # Works"
   ]
  },
  {
   "cell_type": "code",
   "execution_count": null,
   "id": "a6804403-805b-43ef-9472-2f675afffcf8",
   "metadata": {},
   "outputs": [],
   "source": []
  },
  {
   "cell_type": "code",
   "execution_count": null,
   "id": "b7e56234-3b2a-4cce-bbd9-e838961bc5be",
   "metadata": {},
   "outputs": [],
   "source": []
  },
  {
   "cell_type": "code",
   "execution_count": null,
   "id": "321f990c-369d-4ccd-9364-27dca96670ed",
   "metadata": {},
   "outputs": [],
   "source": []
  },
  {
   "cell_type": "code",
   "execution_count": null,
   "id": "f2cb3da6-2dcb-49fa-90d8-2da25bd219e7",
   "metadata": {},
   "outputs": [],
   "source": []
  },
  {
   "cell_type": "code",
   "execution_count": null,
   "id": "cdb238c2-598a-4141-9900-bb21005ab37a",
   "metadata": {},
   "outputs": [],
   "source": []
  },
  {
   "cell_type": "code",
   "execution_count": null,
   "id": "5249ee97-6127-4815-b0a9-63adc3c7b858",
   "metadata": {
    "scrolled": true
   },
   "outputs": [],
   "source": [
    "curr_display_function_name = '_display_spike_rasters_pyqtplot_2D'\n",
    "curr_active_pipeline.display(curr_display_function_name, filter_name, debug_print=False, enable_saving_to_disk=enable_saving_to_disk) "
   ]
  },
  {
   "cell_type": "code",
   "execution_count": null,
   "id": "76ecbf71-92fb-41ac-ae91-704815fa401d",
   "metadata": {
    "scrolled": true
   },
   "outputs": [],
   "source": [
    "## Works, displays my velocity/density result for both 2D and 1D:\n",
    "# out_plot_1D, out_plot_2D = curr_active_pipeline.display('_display_speed_vs_PFoverlapDensity_plots', active_config_name)\n",
    "curr_display_function_name = '_display_speed_vs_PFoverlapDensity_plots'\n",
    "plots = curr_active_pipeline.display(curr_display_function_name, filter_name)\n",
    "plots"
   ]
  },
  {
   "cell_type": "code",
   "execution_count": null,
   "id": "fbd02754-3805-4b72-ac7f-bc3840a35ffb",
   "metadata": {
    "tags": []
   },
   "outputs": [],
   "source": [
    "curr_display_function_name = '_display_placemaps_pyqtplot_2D'\n",
    "out_plots = curr_active_pipeline.display(curr_display_function_name, filter_name, max_num_columns=8)    \n",
    "out_plots[1].show()"
   ]
  },
  {
   "cell_type": "code",
   "execution_count": null,
   "id": "14d5f6ae-ed25-49fe-a0f7-3ba17b0b97c7",
   "metadata": {
    "tags": []
   },
   "outputs": [],
   "source": [
    "out_plots[1].show()"
   ]
  },
  {
   "cell_type": "code",
   "execution_count": null,
   "id": "ccf8a87e-a8b0-4154-8808-335457f05d76",
   "metadata": {
    "tags": []
   },
   "outputs": [],
   "source": [
    "out_plots[1].close()"
   ]
  },
  {
   "cell_type": "code",
   "execution_count": null,
   "id": "4d0f0334-c55b-47e3-9566-24fa03d5b6b5",
   "metadata": {
    "tags": []
   },
   "outputs": [],
   "source": [
    "## KNOWN BAD, locks up, do not execute:\n",
    "curr_display_function_name = 'display_firing_rate_trends'\n",
    "plots = curr_active_pipeline.display(curr_display_function_name, filter_name)"
   ]
  },
  {
   "cell_type": "code",
   "execution_count": null,
   "id": "92072248-64cf-4ccf-93b0-f20104cf15c2",
   "metadata": {
    "tags": []
   },
   "outputs": [],
   "source": [
    "# a_plot = plots[0] # PlotWidget \n",
    "# a_plot_item = a_plot.plotItem # PlotItem\n",
    "# a_plot.scene() # GraphicsScene\n",
    "export_pyqtgraph_plot(plots[0])"
   ]
  },
  {
   "cell_type": "markdown",
   "id": "3fcfe3c2-0531-48ca-88c9-e291377650c4",
   "metadata": {
    "tags": []
   },
   "source": [
    "### 3D (PyVista/Vedo/etc)-based plots:"
   ]
  },
  {
   "cell_type": "code",
   "execution_count": null,
   "id": "b0beb5b7-aa10-464e-a0a5-17682f66829b",
   "metadata": {
    "pycharm": {
     "is_executing": false,
     "name": "#%%\n"
    }
   },
   "outputs": [],
   "source": [
    "curr_active_pipeline.display('_display_3d_interactive_spike_and_behavior_browser', active_config_name) # this works now!"
   ]
  },
  {
   "cell_type": "code",
   "execution_count": null,
   "id": "ade9db56-3c6a-4216-ac7a-b763dfb42541",
   "metadata": {
    "pycharm": {
     "is_executing": false,
     "name": "#%%\n"
    }
   },
   "outputs": [],
   "source": [
    "display_dict = curr_active_pipeline.display('_display_3d_interactive_custom_data_explorer', active_config_name) # does not work, missing color info?\n",
    "iplapsDataExplorer = display_dict['iplapsDataExplorer']\n",
    "# plotter is available at\n",
    "p = display_dict['plotter']\n",
    "iplapsDataExplorer"
   ]
  },
  {
   "cell_type": "code",
   "execution_count": null,
   "id": "701c4ecf-15c2-4197-927f-8f1a63c7ac20",
   "metadata": {},
   "outputs": [],
   "source": [
    "# curr_kdiba_pipeline.display(DefaultDisplayFunctions._display_3d_interactive_custom_data_explorer, 'maze1') # works!\n",
    "curr_active_pipeline.display('_display_3d_interactive_tuning_curves_plotter', 'maze') # works!"
   ]
  },
  {
   "cell_type": "markdown",
   "id": "469c4171-ea23-4f0f-bcc0-a7ab3544dfbe",
   "metadata": {
    "tags": []
   },
   "source": [
    "\n",
    "# 🔜👁️‍🗨️ Testing: Position Decoding:"
   ]
  },
  {
   "cell_type": "markdown",
   "id": "c545afc1-63d6-4f45-a186-5acae5b2dab3",
   "metadata": {},
   "source": [
    "<!-- % $$\\int_{a}^b f(x)dx$$ -->\n",
    "<!-- Euler's identity: $ e^{i \\pi} + 1 = 0 $ -->\n",
    "\n",
    "## One-step Bayesian Decoder:\n",
    "$$P(\\overrightarrow{x}_{t}|\\overrightarrow{n}_{t})$$\n",
    "\n",
    "$$P(\\overrightarrow{n}|\\overrightarrow{x})$$ : probability for the numbers of spikes $\\overrightarrow{n}$ to occur given we know the animal is at location $\\overrightarrow{x}$\n",
    "\n",
    "## Two-step Bayesian Decoder:\n",
    "$$P(\\overrightarrow{x}_{t}|\\overrightarrow{n}_{t}, \\overrightarrow{x}_{t-1}) = k P(\\overrightarrow{x}_{t}|\\overrightarrow{n}_{t}) P(\\overrightarrow{x}_{t-1}|\\overrightarrow{x}_{t})$$"
   ]
  },
  {
   "cell_type": "code",
   "execution_count": null,
   "id": "bb746dff-6733-4da2-99b5-7e683cd3d62c",
   "metadata": {},
   "outputs": [],
   "source": [
    "active_one_step_decoder # <BayesianPlacemapPositionDecoder: dict_keys(['time_bin_size', 'pf', 'spikes_df', 'debug_print', 'neuron_IDXs', 'neuron_IDs',\n",
    "# 'F', 'P_x', 'unit_specific_time_binned_spike_counts', 'time_window_edges', 'time_window_edges_binning_info', 'total_spike_counts_per_window', 'time_window_centers', 'time_window_center_binning_info',\n",
    "# 'flat_p_x_given_n', 'p_x_given_n', 'most_likely_position_flat_indicies', 'most_likely_position_indicies']);>\n",
    "\n",
    "# 'pf', 'spikes_df', 'neuron_IDXs', 'neuron_IDs'\n",
    "# 'time_bin_size', 'time_window_edges', 'time_window_edges', 'time_window_edges_binning_info', 'time_window_centers', 'time_window_center_binning_info'\n",
    "# 'F', 'P_x', 'unit_specific_time_binned_spike_counts', 'total_spike_counts_per_window'\n",
    "\n",
    "\n",
    "from pyphocorehelpers.print_helpers import print_value_overview_only, print_keys_if_possible, debug_dump_object_member_shapes\n",
    "\n",
    "debug_dump_object_member_shapes(active_one_step_decoder)\n",
    "# time_bin_size:\t||\tSCALAR\t||\t<class 'float'>\n",
    "# pf:\t||\tSCALAR\t||\t<class 'neuropy.analyses.placefields.PfND'>\n",
    "# spikes_df:\t||\tshape: (76405, 19)\t||\t<class 'pandas.core.frame.DataFrame'>\n",
    "# debug_print:\t||\tSCALAR\t||\t<class 'bool'>\n",
    "# neuron_IDXs:\t||\tshape: (64,)\t||\t<class 'numpy.ndarray'>\n",
    "# neuron_IDs:\t||\tshape: (64,)\t||\t<class 'list'>\n",
    "# F:\t||\tshape: (2542, 64)\t||\t<class 'numpy.ndarray'>\n",
    "# P_x:\t||\tshape: (2542, 1)\t||\t<class 'numpy.ndarray'>\n",
    "# unit_specific_time_binned_spike_counts:\t||\tshape: (64, 1297)\t||\t<class 'numpy.ndarray'>\n",
    "# time_window_edges:\t||\tshape: (1298,)\t||\t<class 'numpy.ndarray'>\n",
    "# time_window_edges_binning_info:\t||\tSCALAR\t||\t<class 'pyphocorehelpers.indexing_helpers.BinningInfo'>\n",
    "# total_spike_counts_per_window:\t||\tshape: (1297,)\t||\t<class 'numpy.ndarray'>\n",
    "# time_window_centers:\t||\tshape: (1297,)\t||\t<class 'numpy.ndarray'>\n",
    "# time_window_center_binning_info:\t||\tSCALAR\t||\t<class 'pyphocorehelpers.indexing_helpers.BinningInfo'>\n",
    "# flat_p_x_given_n:\t||\tshape: (2542, 1297)\t||\t<class 'numpy.ndarray'>\n",
    "# p_x_given_n:\t||\tshape: (41, 62, 1297)\t||\t<class 'numpy.ndarray'>\n",
    "# most_likely_position_flat_indicies:\t||\tshape: (1297,)\t||\t<class 'numpy.ndarray'>\n",
    "# most_likely_position_indicies:\t||\tshape: (2, 1297)\t||\t<class 'numpy.ndarray'>\n"
   ]
  },
  {
   "cell_type": "code",
   "execution_count": null,
   "id": "1942a3f8-1397-4090-8a20-38606bcba266",
   "metadata": {},
   "outputs": [],
   "source": [
    "print(list(active_two_step_decoder.keys())) # ['xbin', 'ybin', 'avg_speed_per_pos', 'K', 'V', 'sigma_t_all', 'flat_sigma_t_all', 'C', 'k', 'all_x', 'flat_all_x', 'original_all_x_shape', 'flat_p_x_given_n_and_x_prev', 'p_x_given_n_and_x_prev', 'most_likely_position_indicies', 'most_likely_positions', 'all_scaling_factors_k', 'most_likely_position_flat_indicies']"
   ]
  },
  {
   "cell_type": "code",
   "execution_count": null,
   "id": "e1c891c1-3041-42cb-b74b-76d3cf23d86a",
   "metadata": {},
   "outputs": [],
   "source": [
    "t = active_one_step_decoder.time_window_centers # get time window centers (n_time_window_centers,)\n",
    "t"
   ]
  },
  {
   "cell_type": "code",
   "execution_count": null,
   "id": "fa61200b-7338-409a-b1f1-a48919e3837e",
   "metadata": {},
   "outputs": [],
   "source": [
    "compute_data_aspect_ratio(active_one_step_decoder.xbin, active_one_step_decoder.ybin)"
   ]
  },
  {
   "cell_type": "code",
   "execution_count": null,
   "id": "510d7474-c998-443b-9fdd-a6e14ed0dce4",
   "metadata": {},
   "outputs": [],
   "source": [
    "last_window_index = np.searchsorted(t, 9000.0, side='left') # side='left' ensures that no future values (later than 't') are ever returned\n",
    "last_window_index"
   ]
  },
  {
   "cell_type": "code",
   "execution_count": null,
   "id": "78f1be68-bf07-4212-b94c-70d1f78dd1ec",
   "metadata": {},
   "outputs": [],
   "source": [
    "t[last_window_index]"
   ]
  },
  {
   "cell_type": "code",
   "execution_count": null,
   "id": "553d6c87-4626-4fea-bbdf-35914fe4ace5",
   "metadata": {},
   "outputs": [],
   "source": [
    "TimeSynchronizedPositionDecoderPlotter"
   ]
  },
  {
   "cell_type": "code",
   "execution_count": null,
   "id": "05d34612-9cf8-4999-9db0-61ed617ed9e0",
   "metadata": {},
   "outputs": [],
   "source": [
    "# unit_specific_time_binned_spike_counts # (n_neurons, n_time_window_centers)\n",
    "# total_spike_counts_per_window # (n_time_window_centers,)\n",
    "# F (n_flattened_x_bins, n_neurons)\n",
    "# flat_p_x_given_n # (n_flattened_x_bins, n_time_window_centers)\n",
    "# p_x_given_n # (41, 63, n_time_window_centers) ## PRIMARY OUTPUT of one_step_decoder\n",
    "p_x_given_n = active_one_step_decoder.p_x_given_n.copy()"
   ]
  },
  {
   "cell_type": "code",
   "execution_count": null,
   "id": "ab245b01-3a31-4077-9d09-388d9e4c9406",
   "metadata": {},
   "outputs": [],
   "source": []
  },
  {
   "cell_type": "code",
   "execution_count": null,
   "id": "4c2f0cee-e796-45ea-9ab9-2b4304ca78dd",
   "metadata": {},
   "outputs": [],
   "source": [
    "## This plot looks phenominal, and the slider works!\n",
    "curr_active_pipeline.display('_display_two_step_decoder_prediction_error_2D', active_config_name, variable_name='p_x_given_n') # works!"
   ]
  },
  {
   "cell_type": "code",
   "execution_count": null,
   "id": "42bf2841-78f5-4a02-8789-68b11f2b2f0a",
   "metadata": {},
   "outputs": [],
   "source": [
    "# active_two_step_decoder['most_likely_positions'].shape # (2, 1717)\n",
    "\n",
    "active_two_step_decoder['most_likely_position_indicies'].shape # (2, 1717)\n",
    "np.max(active_two_step_decoder['most_likely_position_indicies'], axis=1) # array([0, 1])\n",
    "active_two_step_decoder['most_likely_position_indicies']\n",
    "# active_two_step_decoder['p_x_given_n_and_x_prev'].shape # (59, 21, 1717)\n",
    "\n",
    "# np.nanmax(active_two_step_decoder['p_x_given_n_and_x_prev'], axis=(1, 2)) # (59,)\n",
    "# np.nanmax(active_two_step_decoder['p_x_given_n_and_x_prev'], axis=-1).shape # (59, 21)\n",
    "\n",
    "# np.nanmax(active_two_step_decoder['p_x_given_n_and_x_prev'], axis=-1)\n",
    "# np.max(active_two_step_decoder['most_likely_positions'], axis=1) # array([ 36.30101033, 128.49991842])\n",
    "\n",
    "\n",
    "# np.max(active_one_step_decoder.most_likely_positions, axis=0) # array([244.02731273, 148.3231301 ])"
   ]
  },
  {
   "cell_type": "markdown",
   "id": "93be34e2-9062-4e08-bedb-0d7ec4ceca9c",
   "metadata": {},
   "source": [
    "## PyQtPlot Exploration"
   ]
  },
  {
   "cell_type": "code",
   "execution_count": null,
   "id": "d50024a2-484f-4144-a998-9588eec784dd",
   "metadata": {},
   "outputs": [],
   "source": [
    "from pyphoplacecellanalysis.GUI.PyQtPlot.pyqtplot_basic import pyqtplot_common_setup\n",
    "from pyphoplacecellanalysis.GUI.Qt.Mixins.PhoMainAppWindowBase import PhoMainAppWindowBase\n",
    "from pyphoplacecellanalysis.Pho2D.PyQtPlots.plot_placefields import _pyqtplot_build_image_bounds_extent\n",
    "\n",
    "\n",
    "\n",
    "# def pyqtplot_plot_time_dependent_image(xbin_edges, ybin_edges, time_bin_centers, image, enable_LUT_Histogram=False, app=None, parent_root_widget=None, root_render_widget=None, debug_print=False):\n",
    "#     \"\"\" Single image plot using pyqtplot: \n",
    "#     Holy crap! It actually works to plot the maze, and the adjustable slider works as well!\n",
    "    \n",
    "#     # Example: test single image plot:\n",
    "#         curr_im = np.squeeze(active_one_step_decoder.ratemap.normalized_tuning_curves[0,:,:]) # (43, 63, 63)\n",
    "#         app, win, imv = pyqtplot_plot_image(active_one_step_decoder.xbin, active_one_step_decoder.ybin, curr_im)\n",
    "#         win.show()\n",
    "#     \"\"\"\n",
    "#     # Interpret image data as row-major instead of col-major\n",
    "#     pg.setConfigOptions(imageAxisOrder='row-major')\n",
    "#     if app is None:\n",
    "#         app = pg.mkQApp(\"pyqtplot_plot_time_dependent_image Figure\")\n",
    "\n",
    "#     if root_render_widget is None:\n",
    "#         if parent_root_widget is None:\n",
    "#             # Create window to hold the image:\n",
    "\n",
    "#             # parent_root_widget = QtGui.QMainWindow()\n",
    "#             parent_root_widget = PhoMainAppWindowBase()\n",
    "#             parent_root_widget.resize(800,800)\n",
    "\n",
    "#         # Build a single image view to display the image:\n",
    "#         root_render_widget = pg.ImageView()\n",
    "#         parent_root_widget.setCentralWidget(root_render_widget)\n",
    "#         # imv.setImage(image, xvals=np.linspace(1., 3., data.shape[0]))\n",
    "#         parent_root_widget.show()\n",
    "#         parent_root_widget.setWindowTitle('pyqtplot time_dependent image')\n",
    "\n",
    "#     ## Display the data and assign each frame a time value from 1.0 to 3.0\n",
    "#     # root_render_widget.setImage(image, xvals=time_bin_centers)\n",
    "#     root_render_widget.setImage(image)\n",
    "#     # Set the color map:\n",
    "#     # cmap = pg.ColorMap(pos=np.linspace(0.0, 1.0, 6), color=colors)\n",
    "#     cmap = pg.colormap.get('jet','matplotlib') # prepare a linear color map\n",
    "#     root_render_widget.setColorMap(cmap)\n",
    "#     return app, parent_root_widget, root_render_widget\n",
    "    \n",
    "\n",
    "app, win, imv = pyqtplot_plot_time_dependent_image(active_one_step_decoder.xbin, active_one_step_decoder.ybin, active_one_step_decoder.time_window_centers, active_one_step_decoder.p_x_given_n.copy())\n",
    "win.show()"
   ]
  },
  {
   "cell_type": "code",
   "execution_count": null,
   "id": "dd799456-c889-481c-a217-bfb4609123c6",
   "metadata": {},
   "outputs": [],
   "source": []
  },
  {
   "cell_type": "code",
   "execution_count": null,
   "id": "d9a03947-f66f-44de-87fb-797410474d23",
   "metadata": {},
   "outputs": [],
   "source": [
    "from pyphoplacecellanalysis.Pho2D.PyQtPlots.plot_placefields import pyqtplot_plot_image_array, pyqtplot_plot_image\n",
    "app, win, imv = pyqtplot_plot_image(active_one_step_decoder.xbin, active_one_step_decoder.ybin, active_one_step_decoder.p_x_given_n.copy())\n",
    "win.show()"
   ]
  },
  {
   "cell_type": "code",
   "execution_count": null,
   "id": "ceaa72f8-fc5e-4f19-9d37-40d81b31d9b2",
   "metadata": {},
   "outputs": [],
   "source": [
    "from pyphoplacecellanalysis.Pho2D.PyQtPlots.plot_placefields import pyqtplot_plot_image_array, pyqtplot_plot_image\n",
    "\n",
    "# test single image plot:\n",
    "curr_im = np.squeeze(active_one_step_decoder.ratemap.normalized_tuning_curves[0,:,:].T) # (43, 63, 63)\n",
    "app, win, imv = pyqtplot_plot_image(active_one_step_decoder.xbin, active_one_step_decoder.ybin, curr_im)\n",
    "win.show()"
   ]
  },
  {
   "cell_type": "markdown",
   "id": "d94ac6af-9c53-4d2d-9b3e-32a939acb346",
   "metadata": {
    "jp-MarkdownHeadingCollapsed": true,
    "tags": []
   },
   "source": [
    "## Placefield Overlap Detection:"
   ]
  },
  {
   "cell_type": "code",
   "execution_count": null,
   "id": "bd695e68-fdb2-4994-aaed-98b38327698a",
   "metadata": {},
   "outputs": [],
   "source": [
    "# Test Placefield Overlap Detection:\n",
    "def compute_placefield_overlap(pf):\n",
    "    return np.squeeze(np.prod(pf, axis=0))\n",
    "\n",
    "\n",
    "active_pf_overlap_results = curr_active_pipeline.computation_results[active_config_name].computed_data['placefield_overlap']\n",
    "all_pairwise_neuron_IDs_combinations = active_pf_overlap_results['all_pairwise_neuron_IDs_combinations']\n",
    "total_pairwise_overlaps = active_pf_overlap_results['total_pairwise_overlaps']\n",
    "all_pairwise_overlaps = active_pf_overlap_results['all_pairwise_overlaps']\n",
    "\n",
    "print_keys_if_possible('active_pf_overlap_results', active_pf_overlap_results)"
   ]
  },
  {
   "cell_type": "code",
   "execution_count": null,
   "id": "503eefc7-973b-47ef-b39d-3e200f4753bf",
   "metadata": {},
   "outputs": [],
   "source": [
    "# active_placefield_overlap\n",
    "# total_pairwise_overlaps\n",
    "# all_pairwise_overlaps\n",
    "\n",
    "\n",
    "# top_pairwise_overlaps = all_pairwise_overlaps[0:9,:,:]\n",
    "\n",
    "top_pairwise_overlaps = np.squeeze(all_pairwise_overlaps[2,:,:])\n",
    "\n",
    "from pyphoplacecellanalysis.GUI.PyQtPlot.pyqtplot_Matrix import MatrixRenderingWindow\n",
    "print(f'np.shape(top_pairwise_overlaps): {np.shape(top_pairwise_overlaps)}')\n",
    "pg.mkQApp(\"Correlation matrix display\")\n",
    "main_window = MatrixRenderingWindow(matrix=top_pairwise_overlaps, columns=[f'{i}' for i in np.arange(np.shape(top_pairwise_overlaps)[-1])])\n",
    "\n",
    "# compute_placefield_overlap(active_one_step_decoder.pf.ratemap.normalized_tuning_curves)"
   ]
  },
  {
   "cell_type": "markdown",
   "id": "956ba612-a388-4927-bffa-d2914ad63d3d",
   "metadata": {
    "tags": []
   },
   "source": [
    "# Pho Scratch Workspace"
   ]
  },
  {
   "cell_type": "markdown",
   "id": "906620ba-f022-4f7b-9ff4-10ebad786ca6",
   "metadata": {
    "jp-MarkdownHeadingCollapsed": true,
    "tags": []
   },
   "source": [
    "## Working firing rates fresh from spikes_df"
   ]
  },
  {
   "cell_type": "code",
   "execution_count": null,
   "id": "4aca2fa8-26b6-4ae3-900a-8c28ca8c6274",
   "metadata": {},
   "outputs": [],
   "source": [
    "print(f'time_bin_size_seconds: {time_bin_size_seconds}')\n",
    "\n",
    "active_filter_name = 'maze1'\n",
    "active_spikes_df = curr_active_pipeline.filtered_sessions[active_filter_name].spikes_df.copy()\n",
    "print(f'active_filter_name: {active_filter_name}')\n",
    "unit_specific_binned_spike_rate, max_spike_rates, time_window_edges, time_window_edges_binning_info = simple_time_binned_firing_rates(active_spikes_df)\n",
    "print(f'\\tmax_spike_rates: {max_spike_rates.to_numpy()}')"
   ]
  },
  {
   "cell_type": "code",
   "execution_count": null,
   "id": "a612ad94-d833-4fa4-8b16-e8d5e2d61619",
   "metadata": {},
   "outputs": [],
   "source": [
    "active_filter_name = 'maze2'\n",
    "active_spikes_df = curr_active_pipeline.filtered_sessions[active_filter_name].spikes_df.copy()\n",
    "print(f'active_filter_name: {active_filter_name}')\n",
    "unit_specific_binned_spike_rate, max_spike_rates, time_window_edges, time_window_edges_binning_info = simple_time_binned_firing_rates(active_spikes_df)\n",
    "print(f'\\tmax_spike_rates: {max_spike_rates.to_numpy()}')"
   ]
  },
  {
   "cell_type": "code",
   "execution_count": null,
   "id": "f9070046-1a19-424a-8b9d-05f9e3e44066",
   "metadata": {},
   "outputs": [],
   "source": [
    "active_filter_name = 'maze'\n",
    "active_spikes_df = curr_active_pipeline.filtered_sessions[active_filter_name].spikes_df.copy()\n",
    "print(f'active_filter_name: {active_filter_name}')\n",
    "unit_specific_binned_spike_rate, max_spike_rates, time_window_edges, time_window_edges_binning_info = simple_time_binned_firing_rates(active_spikes_df)\n",
    "print(f'\\tmax_spike_rates: {max_spike_rates.to_numpy()}')"
   ]
  },
  {
   "cell_type": "markdown",
   "id": "b3beb83c-bbc8-41e7-8ce3-5b36ae7da5dc",
   "metadata": {},
   "source": [
    "KDiba Data:\n",
    "time_bin_size_seconds: 0.5\n",
    "active_filter_name: maze1\n",
    "\tmax_spike_rates: [28 30 32 24 34 16 36 26 22 36 32 30 88 60 28 26 40 40 26 44 36 26 38 14 22 24 10 22 40 24 24 26 18 48 40 14 38 20 48 44]\n",
    "active_filter_name: maze2\n",
    "\tmax_spike_rates: [6 10 8 18 30 6 18 14 12 14 24 4 10 48 24 12 6 16 16 16 32 26 14 10 14 10 6 12 30 12 4 16 22 18 20 4 10 6 36 24]\n",
    "active_filter_name: maze\n",
    "\tmax_spike_rates: [28 30 32 24 34 16 36 26 22 36 32 30 88 60 28 26 40 40 26 44 36 32 38 14 22 24 10 22 40 24 24 26 20 48 40 14 38 20 48 44]\n"
   ]
  },
  {
   "cell_type": "code",
   "execution_count": null,
   "id": "4255db2b-2371-456d-81d2-d0523f4baf2b",
   "metadata": {},
   "outputs": [],
   "source": [
    "unit_specific_binned_spike_counts"
   ]
  },
  {
   "cell_type": "markdown",
   "id": "3ade57d9-0761-4c29-a9f3-159de108134d",
   "metadata": {},
   "source": [
    "time_bin_size_seconds: 0.25\n",
    "\tmax_spike_rates: [36 36 36 36 60 20 40 48 40 48 40 44 100 92 36 32 80 52 32 48 52 36 68 24 44 36 16 32 44 36 48 36 36 52 48 28 40 24 72 52]\n",
    "\n",
    "time_bin_size_seconds: 0.5\n",
    "\tmax_spike_rates: [28 30 32 24 34 16 36 26 22 36 32 30 88 60 28 26 40 40 26 44 36 26 38 14 22 24 10 22 40 24 24 26 18 48 40 14 38 20 48 44]\n",
    "    \n",
    "time_bin_size_seconds: 1.0\n",
    "\tmax_spike_rates: [16 21 18 17 22 12 22 18 16 25 25 25 65 48 19 20 30 32 20 30 24 21 26 8 11 17 5 14 30 14 17 25 11 30 26 11 27 10 37 38]\n",
    "\n",
    "time_bin_size_seconds: 10.0\n",
    "\tmax_spike_rates: # array([3.6, 5.6, 2.5, 6.2, 7.2, 2.3, 7.4, 4.8, 3.3, 5.2, 15.3, 4.3, 21.8, 12.4, 7.5, 5.4, 4.8, 4.3, 4.9, 6, 9.5, 7.7, 2.6, 2.3, 4.1, 2.8, 1.3, 5.1, 11.5, 5.1, 3.2, 9.4, 3.7, 8.8, 9.7, 2.9, 5.2, 1.7, 12, 5.9])\n",
    "    # Filtered pf only spikes: array([2.6, 3.9, 2, 3.6, 3.8, 1.3, 3.7, 1.8, 2, 2.6, 2.3, 1.4, 5.7, 6.1, 3.1, 2.7, 4.9, 3.3, 3.9, 3.3, 5.9, 2.7, 2.6, 1.4, 1.4, 2.9, 1, 2.3, 5.4, 2.4, 0.9, 3.6, 1.4, 4.5, 3.4, 0.8, 2.8, 1.1, 2.6, 4.9])"
   ]
  },
  {
   "cell_type": "code",
   "execution_count": null,
   "id": "9da6709d-07a5-441f-8380-fae8e7de2b3e",
   "metadata": {},
   "outputs": [],
   "source": [
    "# active_computation_results[filter_name]\n",
    "active_firing_rate_trends = active_computed_data['firing_rate_trends']\n",
    "active_firing_rate_trends.keys() # ['active_rolling_window_times', 'mean_firing_rates', 'desired_window_length_seconds', 'desired_window_length_bins', 'active_firing_rates_df', 'moving_mean_firing_rates_df']"
   ]
  },
  {
   "cell_type": "code",
   "execution_count": null,
   "id": "9c1bbd85-7b2b-482d-a18d-1f0f707b2bfe",
   "metadata": {},
   "outputs": [],
   "source": [
    "moving_mean_firing_rates_df = active_firing_rate_trends['moving_mean_firing_rates_df']\n",
    "moving_mean_firing_rates_df"
   ]
  },
  {
   "cell_type": "markdown",
   "id": "e0ccae49-e366-4dae-bf34-f3e4a1a0968b",
   "metadata": {
    "tags": []
   },
   "source": [
    "## New 2022-07-31 Firing Rate Across-Session Printing with explicit time binning"
   ]
  },
  {
   "cell_type": "code",
   "execution_count": null,
   "id": "2f3ca698-606e-450e-9414-f1462960f12a",
   "metadata": {},
   "outputs": [],
   "source": [
    "from pyphocorehelpers.general_helpers import CodeConversion\n",
    "from pyphocorehelpers.print_helpers import document_active_variables, print_keys_if_possible\n",
    "# CodeConversion"
   ]
  },
  {
   "cell_type": "code",
   "execution_count": null,
   "id": "9872383b-c592-40d0-87da-f96b6b3dcfb0",
   "metadata": {},
   "outputs": [],
   "source": [
    "# print_keys_if_possible('active_firing_rate_trends', active_firing_rate_trends, additional_excluded_item_classes=['pandas.core.series.Series'])\n",
    "print_keys_if_possible('active_firing_rate_trends', active_firing_rate_trends)"
   ]
  },
  {
   "cell_type": "code",
   "execution_count": null,
   "id": "263000e9-c219-4466-b340-1a80da6f499f",
   "metadata": {},
   "outputs": [],
   "source": [
    "### Reformat long class strings to suscint class names:\n",
    "import re ## required for strip_type_str_to_classname(...)\n",
    "\n",
    "def _format_curr_value(depth_string, curr_key, type_string, type_name):\n",
    "    return f\"{depth_string}['{curr_key}']: {type_name}\"\n",
    "        \n",
    "print_keys_if_possible('active_firing_rate_trends', active_firing_rate_trends, custom_item_formatter=_format_curr_value)"
   ]
  },
  {
   "cell_type": "code",
   "execution_count": null,
   "id": "27be304d-782a-4f23-85e7-82197b462574",
   "metadata": {},
   "outputs": [],
   "source": [
    "document_active_variables(active_firing_rate_trends, enable_print=True)"
   ]
  },
  {
   "cell_type": "code",
   "execution_count": null,
   "id": "98a36da3-730a-43d0-808b-8b4ac2c5d4bf",
   "metadata": {},
   "outputs": [],
   "source": [
    "active_firing_rate_trends = curr_active_pipeline.computation_results[active_config_name].computed_data.get('firing_rate_trends', None)"
   ]
  },
  {
   "cell_type": "code",
   "execution_count": null,
   "id": "35466cc7-79f3-4abb-9524-50406dabaa5b",
   "metadata": {},
   "outputs": [],
   "source": [
    "active_firing_rate_trends.all_session_spikes."
   ]
  },
  {
   "cell_type": "code",
   "execution_count": null,
   "id": "44fc3383-f07e-4d56-b4e3-43e1a388bb68",
   "metadata": {},
   "outputs": [],
   "source": [
    "def _print_active_firing_rate_trends_result_overview(active_firing_rate_trends):\n",
    "    def _print_single_result(a_trends_set):\n",
    "        # a_trends_set['time_window_edges']\n",
    "        # a_trends_set['time_window_edges_binning_info']\n",
    "        binned_rates = a_trends_set['time_binned_unit_specific_binned_spike_rate']\n",
    "        mins = a_trends_set['min_spike_rates'].to_numpy()\n",
    "        means = binned_rates.mean().to_numpy()\n",
    "        medians = a_trends_set['median_spike_rates'].to_numpy()\n",
    "        maxs = a_trends_set['max_spike_rates'].to_numpy()\n",
    "        # print(f\"\\t\\tmins: {mins}\") # all zero, which is reasonable I suppose\n",
    "        print(f\"\\t\\tmeans: {means}\") # non-zero, which is good.\n",
    "        # print(f\"\\t\\tmedians: {medians}\") # also all zero, which doesn't seem super reasonable\n",
    "        print(f\"\\t\\tmaxs: {maxs}\")\n",
    "    print(f\"time_bin_size_seconds: {active_firing_rate_trends['time_bin_size_seconds']}\")\n",
    "    print(f\"\\tall_session_spikes: \")\n",
    "    _print_single_result(active_firing_rate_trends['all_session_spikes'])\n",
    "    print(f\"\\tpf_included_spikes_only: \")\n",
    "    _print_single_result(active_firing_rate_trends['pf_included_spikes_only'])\n",
    "    \n",
    "\n",
    "_print_active_firing_rate_trends_result_overview(active_firing_rate_trends)"
   ]
  },
  {
   "cell_type": "code",
   "execution_count": null,
   "id": "46a16a5b-5c10-464d-9976-f57d2e11b783",
   "metadata": {},
   "outputs": [],
   "source": [
    "computation_result_names = list(curr_active_pipeline.computation_results.keys()) # ['maze1', 'maze2']\n",
    "for a_result_name, a_computation_result in curr_active_pipeline.computation_results.items():\n",
    "    print(f'>> {a_result_name}') ## e.g. 'maze1'\n",
    "    active_firing_rate_trends = a_computation_result.computed_data.get('firing_rate_trends', None)\n",
    "    _print_active_firing_rate_trends_result_overview(active_firing_rate_trends)\n",
    "\n",
    "\n",
    "# def across_epoch_computation_function(computation_results):\n",
    "#     \"\"\" an example of a function that operates across all computation_results. Computed after all computations are complete. \"\"\"\n"
   ]
  },
  {
   "cell_type": "markdown",
   "id": "6bdb4bac-056c-418e-a2bb-a4c2f2f7b85a",
   "metadata": {
    "jp-MarkdownHeadingCollapsed": true,
    "tags": []
   },
   "source": [
    "## Compute the firing rates in the windows corresponding to the sampling rate of the position bins, or better yet for the entire duration spent in a single position bin (splitting on bin-index changes"
   ]
  },
  {
   "cell_type": "code",
   "execution_count": null,
   "id": "92b1e85c-ad46-498d-b868-7697330b3e9a",
   "metadata": {},
   "outputs": [],
   "source": [
    "from neuropy.utils.mixins.binning_helpers import build_df_discretized_binned_position_columns\n",
    "active_pf_2D.filtered_spikes_df, (xbin, ybin), bin_info = build_df_discretized_binned_position_columns(active_pf_2D.filtered_spikes_df.copy(), bin_values=(active_pf_2D.xbin, active_pf_2D.ybin), active_computation_config=active_computation_config, force_recompute=False, debug_print=False)\n",
    "bin_info['mode'] = active_pf_2D.bin_info['mode'] # get the original mode used to compute the bins\n",
    "active_pf_2D.bin_info = bin_info # replace the bin_info with the updated version\n",
    "# active_pf_2D.filtered_spikes_df"
   ]
  },
  {
   "cell_type": "code",
   "execution_count": null,
   "id": "f624acea-07ed-4f39-9610-c2608240fe36",
   "metadata": {},
   "outputs": [],
   "source": [
    "# sess.spikes_df # no 'binned_x' column\n",
    "active_pf_2D.filtered_spikes_df"
   ]
  },
  {
   "cell_type": "code",
   "execution_count": null,
   "id": "1c0df89f-1c6b-4343-a6fd-db40a491108e",
   "metadata": {},
   "outputs": [],
   "source": [
    "#### Need to compute the best-known transition times between position bins for all spikes as not to truncate the starts/ends of the bins (which would happen if doing a single cell at a time)\n",
    "# active_df.binned_x\n",
    "active_df['_binned_x_transitions'] = active_df['binned_x'].diff()\n",
    "active_df_filtered_binned_x_transitions_only = active_df[active_df['_binned_x_transitions'] != 0] # get only the transition points (for binned_x)\n",
    "active_df_filtered_binned_x_transitions_only\n",
    "\n",
    "active_df_filtered_binned_x_transitions_only = active_df_filtered_binned_x_transitions_only[['t_rel_seconds', 'binned_x']]\n",
    "# Get durations spent in the bin:\n",
    "active_df_filtered_binned_x_transitions_only['bin_occupied_duration'] = active_df_filtered_binned_x_transitions_only['t_rel_seconds'].diff() # How long the animal spent in this bin before transitioning (along its axis)\n",
    "active_df_filtered_binned_x_transitions_only\n"
   ]
  },
  {
   "cell_type": "code",
   "execution_count": null,
   "id": "79e719f7-199a-4f0b-abb1-9426771afb3b",
   "metadata": {},
   "outputs": [],
   "source": [
    "transition_start_spike_index = active_df_filtered_binned_x_transitions_only.index\n",
    "transition_end_spike_index = transition_start_spike_index - 1 # the end of each occurs at the time of the previous one"
   ]
  },
  {
   "cell_type": "code",
   "execution_count": null,
   "id": "93538d28-dd33-4f70-964d-d0b1e2eed0e6",
   "metadata": {},
   "outputs": [],
   "source": [
    "#### In general, for each neuron, get the spikes that occured during each bin_occupation_event 'i' (from t_rel_seconds[i] to (t_rel_seconds[i] + bin_occupied_duration[i])) and divide by the bin_occupied_duration[i]\n",
    "# This will give the bin_occupation_event's spike_rate for each neuron which we can filter on (to find the neuron's that fire > 1Hz for this bin_occupation_event)\n",
    "\n",
    "\"\"\"\n",
    "Along a given axis (x or y), an animal occupies a single bin at each time given by (binned_x or binned_y). \n",
    "When the animal changes bins and a transition occurs along a given axis, it is said to terminate the occupation of the previous bin and start the occupation of the new bin.\n",
    "\n",
    "These (start_t, bin_occupied_duration, binned_x) tuples denote a unique event, termed a `bin_occupation_event`.\n",
    "\n",
    "Within a given bin_occupation_event each neuron has an instantaneous bin firing rate given by: (number of spikes it fired during the event) / bin_occupied_duration\n",
    "\n",
    "\"\"\""
   ]
  },
  {
   "cell_type": "markdown",
   "id": "188d6f5f-d947-4f08-8822-49a9c9082e12",
   "metadata": {
    "tags": []
   },
   "source": [
    "## Change to simplier non-time-dependent version:"
   ]
  },
  {
   "cell_type": "code",
   "execution_count": null,
   "id": "186ad30e-0bd1-4ea2-a466-1733afb6467a",
   "metadata": {},
   "outputs": [],
   "source": [
    "# Plot from the active_simpler_pf_densities_analysis\n",
    "out_app, out_win, out_imageView = pyqtplot_plot_image(active_pf_2D_dt.xbin_labels, active_pf_2D_dt.ybin_labels, active_simpler_pf_densities_analysis.n_neurons_meeting_firing_critiera_by_position_bins_2D)"
   ]
  },
  {
   "cell_type": "code",
   "execution_count": null,
   "id": "dc13c704-bb9f-4e78-8df5-5c036bc90282",
   "metadata": {},
   "outputs": [],
   "source": [
    "# out = BinnedImageRenderingWindow(active_pf_2D_dt.curr_firing_maps_matrix, active_pf_2D_dt.xbin_labels, active_pf_2D_dt.ybin_labels)\n",
    "out = BasicBinnedImageRenderingWindow(active_pf_2D_dt.curr_firing_maps_matrix, active_pf_2D_dt.xbin_labels, active_pf_2D_dt.ybin_labels)\n",
    "# pyqtplot_plot_image(active_pf_2D_dt.xbin_labels, active_pf_2D_dt.ybin_labels, active_pf_2D_dt.curr_firing_maps_matrix)"
   ]
  },
  {
   "cell_type": "code",
   "execution_count": null,
   "id": "4640c635-505b-4260-873e-2a74750949c4",
   "metadata": {},
   "outputs": [],
   "source": [
    "# Compute the updated counts:\n",
    "current_spike_per_unit_per_bin_counts = active_df.value_counts(subset=['fragile_linear_neuron_IDX', 'binned_x', 'binned_y'], normalize=False, sort=False, ascending=True, dropna=True) # dropna=True\n",
    "current_spike_per_unit_per_bin_counts # pandas.core.series.Series"
   ]
  },
  {
   "cell_type": "code",
   "execution_count": null,
   "id": "1827525d-84aa-49ca-b6f5-833a8b60b0db",
   "metadata": {},
   "outputs": [],
   "source": [
    "type(current_spike_per_unit_per_bin_counts) # pandas.core.series.Series\n",
    "# current_spike_per_unit_per_bin_counts[0]\n",
    "\n",
    "pd.DataFrame(current_spike_per_unit_per_bin_counts)"
   ]
  },
  {
   "cell_type": "code",
   "execution_count": null,
   "id": "3a9c5ac1-7d8d-4b22-b23b-13834535e62c",
   "metadata": {},
   "outputs": [],
   "source": [
    "debug_print = True\n",
    "for (fragile_linear_neuron_IDX, xbin_label, ybin_label), count in current_spike_per_unit_per_bin_counts.iteritems():\n",
    "    if debug_print:\n",
    "        print(f'fragile_linear_neuron_IDX: {fragile_linear_neuron_IDX}, xbin_label: {xbin_label}, ybin_label: {ybin_label}, count: {count}')\n",
    "    try:\n",
    "        last_firing_maps_matrix[fragile_linear_neuron_IDX, xbin_label-1, ybin_label-1] += count\n",
    "    except IndexError as e:\n",
    "        print(f'e: {e}\\n active_current_spike_df: {np.shape(active_current_spike_df)}, current_spike_per_unit_per_bin_counts: {np.shape(current_spike_per_unit_per_bin_counts)}\\n last_firing_maps_matrix: {np.shape(last_firing_maps_matrix)}\\n count: {count}')\n",
    "        print(f' last_firing_maps_matrix[fragile_linear_neuron_IDX: {fragile_linear_neuron_IDX}, (xbin_label-1): {xbin_label-1}, (ybin_label-1): {ybin_label-1}] += count: {count}')\n",
    "        raise e\n",
    "        "
   ]
  },
  {
   "cell_type": "code",
   "execution_count": null,
   "id": "887c0848-4672-409d-af60-d110e96b92a4",
   "metadata": {},
   "outputs": [],
   "source": [
    "## Now want it arranged by-bin instead of by-neuron:\n",
    "\n",
    "\n",
    "## LATER: Also need to collapse over all binned_y for each binned_x (marginalize) - I think"
   ]
  },
  {
   "cell_type": "markdown",
   "id": "d6f4a4e8-4ffc-4f8b-85f9-e0e98bc309e2",
   "metadata": {
    "tags": []
   },
   "source": [
    "## Get 2D Heatmaps of Velocity and Occupancy working:\n",
    "NOTE: This works great, and is the best figure for overall Eloy pf_Density/velocity analyeses."
   ]
  },
  {
   "cell_type": "code",
   "execution_count": null,
   "id": "bb049fc0-6fd7-40de-80b3-b74576db9cda",
   "metadata": {},
   "outputs": [],
   "source": [
    "from pyphoplacecellanalysis.GUI.PyQtPlot.BinnedImageRenderingWindow import BasicBinnedImageRenderingWindow, add_bin_ticks, build_binned_imageItem\n",
    "\n",
    "def display_all_eloy_pf_density_measures_results(active_pf_2D, active_eloy_analysis, active_simpler_pf_densities_analysis, active_peak_prominence_2d_results):\n",
    "    # active_xbins = active_pf_2D.xbin\n",
    "    # active_ybins = active_pf_2D.ybin\n",
    "    \n",
    "    # # *bin_indicies:\n",
    "    # xbin_indicies = active_pf_2D.xbin_labels -1\n",
    "    # ybin_indicies = active_pf_2D.ybin_labels -1\n",
    "    # active_xbins = xbin_indicies\n",
    "    # active_ybins = ybin_indicies\n",
    "    \n",
    "    # *bin_centers: these seem to work\n",
    "    active_xbins = active_pf_2D.xbin_centers\n",
    "    active_ybins = active_pf_2D.ybin_centers\n",
    "    \n",
    "    out = BasicBinnedImageRenderingWindow(active_eloy_analysis.avg_2D_speed_per_pos, active_xbins, active_ybins, name='avg_velocity', title=\"Avg Velocity per Pos (X, Y)\", variable_label='Avg Velocity')\n",
    "    out.add_data(row=2, col=0, matrix=active_eloy_analysis.pf_overlapDensity_2D, xbins=active_xbins, ybins=active_ybins, name='pf_overlapDensity', title='pf overlapDensity metric', variable_label='pf overlapDensity')\n",
    "    out.add_data(row=3, col=0, matrix=active_pf_2D.ratemap.occupancy, xbins=active_xbins, ybins=active_ybins, name='occupancy_seconds', title='Seconds Occupancy', variable_label='seconds')\n",
    "    out.add_data(row=4, col=0, matrix=active_simpler_pf_densities_analysis.n_neurons_meeting_firing_critiera_by_position_bins_2D, xbins=active_xbins, ybins=active_ybins, name='n_neurons_meeting_firing_critiera_by_position_bins_2D', title='# neurons > 1Hz per Pos (X, Y)', variable_label='# neurons')\n",
    "    # out.add_data(row=5, col=0, matrix=active_peak_prominence_2d_results.peak_counts.raw, xbins=active_pf_2D.xbin_labels, ybins=active_pf_2D.ybin_labels, name='pf_peak_counts_map', title='# pf peaks per Pos (X, Y)', variable_label='# pf peaks')\n",
    "    # out.add_data(row=6, col=0, matrix=active_peak_prominence_2d_results.peak_counts.gaussian_blurred, xbins=active_pf_2D.xbin_labels, ybins=active_pf_2D.ybin_labels, name='pf_peak_counts_map_blurred gaussian', title='Gaussian blurred # pf peaks per Pos (X, Y)', variable_label='Gaussian blurred # pf peaks')\n",
    "    out.add_data(row=5, col=0, matrix=active_peak_prominence_2d_results.peak_counts.raw, xbins=active_xbins, ybins=active_ybins, name='pf_peak_counts_map', title='# pf peaks per Pos (X, Y)', variable_label='# pf peaks')\n",
    "    out.add_data(row=6, col=0, matrix=active_peak_prominence_2d_results.peak_counts.gaussian_blurred, xbins=active_xbins, ybins=active_ybins, name='pf_peak_counts_map_blurred gaussian', title='Gaussian blurred # pf peaks per Pos (X, Y)', variable_label='Gaussian blurred # pf peaks')\n",
    "\n",
    "    return out\n",
    "    \n",
    "out_all_eloy_pf_density_fig = display_all_eloy_pf_density_measures_results(active_pf_2D, active_eloy_analysis, active_simpler_pf_densities_analysis, active_peak_prominence_2d_results)"
   ]
  },
  {
   "cell_type": "code",
   "execution_count": null,
   "id": "81e89336-3cb6-48a1-819b-18018b528172",
   "metadata": {},
   "outputs": [],
   "source": [
    "out_all_eloy_pf_density_fig.close()"
   ]
  },
  {
   "cell_type": "markdown",
   "id": "24d12a65-a8d5-43ed-aab5-d6f143fbde58",
   "metadata": {
    "jp-MarkdownHeadingCollapsed": true,
    "tags": []
   },
   "source": [
    "## Test getting prominences with peak_prominence2d"
   ]
  },
  {
   "cell_type": "code",
   "execution_count": null,
   "id": "06220324-167f-4817-a520-d9204abdb5e5",
   "metadata": {
    "scrolled": true,
    "tags": []
   },
   "outputs": [],
   "source": [
    "curr_display_function_name = '_display_pf_peak_prominence2d_default_quadrant_plots'\n",
    "out_figs, out_axes, out_idxs = curr_active_pipeline.display(curr_display_function_name, active_config_name) "
   ]
  },
  {
   "cell_type": "code",
   "execution_count": null,
   "id": "d171d2cc-3554-400f-a18b-c37448f8f450",
   "metadata": {
    "scrolled": true,
    "tags": []
   },
   "outputs": [],
   "source": [
    "curr_display_function_name = 'plot_Prominence'\n",
    "built_pdf_metadata, curr_pdf_save_path = _build_pdf_pages_output_info(curr_display_function_name)\n",
    "with backend_pdf.PdfPages(curr_pdf_save_path, keep_empty=False, metadata=built_pdf_metadata) as pdf:\n",
    "    for an_idx, a_fig in zip(active_peak_prominence_2d_results.neuron_extended_ids, out_figs):\n",
    "        a_fig.suptitle(f'neuron: {an_idx.id}', fontsize=16)\n",
    "        pdf.savefig(a_fig)"
   ]
  },
  {
   "cell_type": "code",
   "execution_count": null,
   "id": "0c0931b4-c50e-4238-a934-35a1c71fa71f",
   "metadata": {
    "scrolled": true,
    "tags": []
   },
   "outputs": [],
   "source": [
    "curr_display_function_name = '_display_pf_peak_prominence2d_plots'\n",
    "figure, ax = curr_active_pipeline.display(curr_display_function_name, active_config_name, neuron_id=2) "
   ]
  },
  {
   "cell_type": "markdown",
   "id": "115ecb17-a0d2-44d1-9797-ef342c84e74c",
   "metadata": {
    "jp-MarkdownHeadingCollapsed": true,
    "tags": []
   },
   "source": [
    "# Quantitatively Analyzing the prominence computation results\n",
    "For a single neuron:\n",
    "Care about:\n",
    " - Pf Num of Peaks: expresses whether a cell responds selectively to a single location, is bi-modal, tri-modal, etc.\n",
    " - Peak Locations: (to determine the number of peaks per bin or region)\n",
    " - Peak Prominences/Relative heights\n",
    "   Pf Sizes: defined by our bounding boxes\n",
    "   Stability??\n",
    "\n",
    "QuantPeakResult"
   ]
  },
  {
   "cell_type": "code",
   "execution_count": null,
   "id": "10e0ca25-4ba8-4327-9d18-5b420648cb28",
   "metadata": {},
   "outputs": [],
   "source": [
    "list(active_peak_prominence_2d_results.keys())\n",
    "active_peak_prominence_2d_results.filtered_flat_peaks_df.columns # ['neuron_id', 'neuron_peak_firing_rate', 'summit_idx', 'summit_slice_idx', 'slice_level_multiplier', 'summit_slice_level', 'peak_relative_height', 'peak_prominence', 'peak_center_x', 'peak_center_y', 'summit_slice_x_width', 'summit_slice_y_width', 'summit_slice_center_x', 'summit_slice_center_y', 'peak_height', 'peak_center_binned_x', 'peak_center_binned_y', 'peak_center_avg_speed', 'peak_nearest_directional_boundary_bins', 'peak_nearest_directional_boundary_displacements', 'peak_nearest_directional_boundary_distances', 'nearest_directional_boundary_direction_idx', 'nearest_directional_boundary_direction_distance', 'nearest_x_boundary_distance', 'nearest_y_boundary_distance']"
   ]
  },
  {
   "cell_type": "markdown",
   "id": "c9607cb7-30e8-4d82-bfe2-c07693871572",
   "metadata": {
    "jp-MarkdownHeadingCollapsed": true,
    "tags": []
   },
   "source": [
    "### Test distance to boundary by computing the distance to the nearest never-occupied bin"
   ]
  },
  {
   "cell_type": "code",
   "execution_count": null,
   "id": "fa1c106e-4dee-4ba1-a29c-ce4324fe73f6",
   "metadata": {},
   "outputs": [],
   "source": [
    "# active_peak_prominence_2d_results.filtered_flat_peaks_df\n",
    "# active_eloy_analysis.avg_2D_speed_per_pos\n",
    "# active_peak_prominence_2d_results.filtered_flat_peaks_df\n",
    "subfiltered_peaks_df = active_peak_prominence_2d_results.filtered_flat_peaks_df[active_peak_prominence_2d_results.filtered_flat_peaks_df['summit_idx']==1].copy()\n",
    "subfiltered_peaks_df"
   ]
  },
  {
   "cell_type": "code",
   "execution_count": null,
   "id": "5b6d3bf5-f91f-492b-b05d-6fa339dbb869",
   "metadata": {},
   "outputs": [],
   "source": [
    "# # correlated with 'summit_slice_x_width', 'summit_slice_y_width'\n",
    "x_distances = subfiltered_peaks_df['nearest_x_boundary_distance'].values # find the distance to nearest wall vertically\n",
    "y_distances = subfiltered_peaks_df['nearest_y_boundary_distance'].values # find the distance to nearest wall horizontally\n",
    "x_widths = subfiltered_peaks_df['summit_slice_x_width'].values\n",
    "y_widths = subfiltered_peaks_df['summit_slice_y_width'].values\n",
    "# Convert the pf widths in cm to fractional number of bins\"\n",
    "x_width_num_bins = x_widths / float(active_pf_2D.bin_info['xstep'])\n",
    "y_width_num_bins = y_widths / float(active_pf_2D.bin_info['ystep'])\n",
    "\n",
    "peak_center_xy_points_pos_list = subfiltered_peaks_df[['peak_center_x', 'peak_center_y']].values\n",
    "slice_center_xy_points_pos_list = subfiltered_peaks_df[['summit_slice_center_x', 'summit_slice_center_y']].values\n",
    "slice_center_xy_points_pos_list.shape # (40, 2)\n",
    "\n",
    "peak_aclu = subfiltered_peaks_df.neuron_id.values"
   ]
  },
  {
   "cell_type": "code",
   "execution_count": null,
   "id": "a6adc4b9-b850-4253-98bc-6be9c24dbc71",
   "metadata": {},
   "outputs": [],
   "source": [
    "import matplotlib.pyplot as plt\n",
    "\n",
    "## Plots for analyzing the distance from ends of maze:\n",
    "fig, ax = plt.subplots(num=10, clear=True)\n",
    "im = ax.scatter(x_distances, x_width_num_bins)\n",
    "im2 = ax.scatter(x_distances, y_width_num_bins, c='r')\n",
    "lgd = ax.legend(['x_size', 'y_size'])\n",
    "ax.set_xlabel('distance from nearest x boundary [# bins]')\n",
    "ax.set_ylabel('placefield width [# bins]')\n",
    "fig.show()"
   ]
  },
  {
   "cell_type": "code",
   "execution_count": null,
   "id": "03ea421c-f6a3-4bd7-b81c-54dba18b7749",
   "metadata": {},
   "outputs": [],
   "source": [
    "## Plots for analyzing the distance from sides of track\n",
    "fig, ax = plt.subplots(num=11, clear=True)\n",
    "im = ax.scatter(y_distances, x_width_num_bins)\n",
    "im2 = ax.scatter(y_distances, y_width_num_bins, c='r')\n",
    "lgd = ax.legend(['x_size', 'y_size'])\n",
    "ax.set_xlabel('distance from nearest y boundary [# bins]')\n",
    "ax.set_ylabel('placefield width [# bins]')\n",
    "fig.show()"
   ]
  },
  {
   "cell_type": "markdown",
   "id": "759e7c3c-d7cd-44e6-bad9-84eb10d8c549",
   "metadata": {
    "jp-MarkdownHeadingCollapsed": true,
    "tags": []
   },
   "source": [
    "## Render a figure to display the computed distances and their relations to the widths:"
   ]
  },
  {
   "cell_type": "markdown",
   "id": "55f8fc02-1bdc-4c50-b538-c64c7205ed02",
   "metadata": {
    "tags": []
   },
   "source": [
    "### Trying to add annotations to the normal 2D MATPLOTLIB heatmaps with `annotate` command:"
   ]
  },
  {
   "cell_type": "code",
   "execution_count": null,
   "id": "963a6bf2-d6e9-4157-a00a-ce351251cf54",
   "metadata": {},
   "outputs": [],
   "source": [
    "## NEW DICT FORMAT:\n",
    "# 1 point for each neuron_id:\n",
    "peaks_overlay_points_data_dict = {aclu:dict(is_enabled=True, points_data=peak_center_xy_points_pos_list[aclu == peak_aclu,:], plot_opts={'markersize': 22, 'marker': '*', 'markeredgecolor': 'grey', 'linestyle': 'none', 'markerfacecolor': 'white', 'alpha': 0.85, 'label': 'peaks_overlay_points'},\n",
    "                                                                             scatter_opts={'s': 22, 'c': 'white', 'alpha': 0.85, 'marker': '*', 'label': 'peaks_overlay_sc'}, plots={}) for aclu in peak_aclu} # active_pf_2D.included_neuron_IDs\n",
    "slice_center_overlay_points_data_dict = {aclu:dict(is_enabled=True, points_data=slice_center_xy_points_pos_list[aclu == peak_aclu,:], plot_opts={'markersize': 20, 'marker': '^', 'markeredgecolor': 'grey', 'linestyle': 'none', 'markerfacecolor': 'white', 'alpha': 0.8, 'label': 'slice_center_overlay_points'},\n",
    "                                                                             scatter_opts={'s': 20, 'c': 'white', 'alpha': 0.8, 'marker': '^', 'label': 'slice_center_overlay_sc'}, plots={}) for aclu in peak_aclu} # active_pf_2D.included_neuron_IDs\n",
    "\n",
    "extended_overlay_points_datasource_dicts = {'peaks_overlay_points': peaks_overlay_points_data_dict, 'slice_center_overlay_points': slice_center_overlay_points_data_dict}\n",
    "\n",
    "# filter_name = 'maze1'\n",
    "figure_format_config['enable_saving_to_disk'] = False\n",
    "# curr_active_pipeline.display('_display_2d_placefield_result_plot_ratemaps_2D', filter_name, plot_variable=enumTuningMap2DPlotVariables.SPIKES_MAPS, fignum=plots_fig_nums_dict[filter_name][0], **figure_format_config) # works!\n",
    "curr_active_pipeline.display('_display_2d_placefield_result_plot_ratemaps_2D', filter_name, plot_variable=enumTuningMap2DPlotVariables.TUNING_MAPS, fignum=plots_fig_nums_dict[filter_name][1], **figure_format_config, extended_overlay_points_datasource_dicts=extended_overlay_points_datasource_dicts)"
   ]
  },
  {
   "cell_type": "code",
   "execution_count": null,
   "id": "947e8786-8dd7-4e67-ae4e-5ebc71af0e20",
   "metadata": {},
   "outputs": [],
   "source": [
    "curr_display_function_name = '_display_normal'\n",
    "built_pdf_metadata, curr_pdf_save_path = _build_pdf_pages_output_info(curr_display_function_name)\n",
    "with backend_pdf.PdfPages(curr_pdf_save_path, keep_empty=False, metadata=built_pdf_metadata) as pdf:\n",
    "    fig0, figList1 = curr_active_pipeline.display(curr_display_function_name, filter_name, debug_print=False, enable_saving_to_disk=False, extended_overlay_points_datasource_dicts=extended_overlay_points_datasource_dicts)\n",
    "    plots = [fig0, *figList1]\n",
    "    for a_fig in plots:\n",
    "        pdf.savefig(a_fig)"
   ]
  },
  {
   "cell_type": "code",
   "execution_count": null,
   "id": "eaaf86b9-9fee-4ea6-b9f2-01e94eb7d86d",
   "metadata": {},
   "outputs": [],
   "source": [
    "fig = figList1[0]\n",
    "ax_list = fig.axes\n",
    "\n",
    "curr_neuron_IDX = 0\n",
    "curr_ax = ax_list[curr_neuron_IDX]\n",
    "curr_peak_center = peak_center_xy_points_pos_list[curr_neuron_IDX, :]\n",
    "curr_edge_pos = \n",
    "\n",
    "# curr_ax_peak_center_point_annotation = curr_ax.annotate('EXAMPLETEXT', curr_peak_center)\n",
    "curr_ax.annotate('', tuple(curr_peak_center), (0.4, 0.8), arrowprops={'arrowstyle':'<->'})\n",
    "\n",
    "# curr_ax.annotate('', (0.4, 0.2), (0.4, 0.8), arrowprops={'arrowstyle':'<->'})"
   ]
  },
  {
   "cell_type": "code",
   "execution_count": null,
   "id": "73604250-798e-47d4-a92d-f6272c40f82a",
   "metadata": {},
   "outputs": [],
   "source": [
    "from pyphoplacecellanalysis.GUI.PyQtPlot.BinnedImageRenderingWindow import BasicBinnedImageRenderingWindow, add_bin_ticks, build_binned_imageItem\n",
    "\n",
    "# out.add_data(row=5, col=0, matrix=active_peak_prominence_2d_results.peak_counts.raw, xbins=active_xbins, ybins=active_ybins, name='pf_peak_counts_map', title='# pf peaks per Pos (X, Y)', variable_label='# pf peaks')\n",
    "\n",
    "\n",
    "# # *bin_centers: these seem to work\n",
    "# active_xbins = active_pf_2D.xbin_centers\n",
    "# active_ybins = active_pf_2D.ybin_centers\n",
    "\n",
    "\n",
    "# out.add_data(row=5, col=0, matrix=active_peak_prominence_2d_results.peak_counts.raw, xbins=active_xbins, ybins=active_ybins, name='pf_peak_counts_map', title='# pf peaks per Pos (X, Y)', variable_label='# pf peaks')\n",
    "# out = BasicBinnedImageRenderingWindow(active_eloy_analysis.avg_2D_speed_per_pos, active_xbins, active_ybins, name='avg_velocity', title=\"Avg Velocity per Pos (X, Y)\", variable_label='Avg Velocity')\n",
    "# out.add_data(row=2, col=0, matrix=active_eloy_analysis.pf_overlapDensity_2D, xbins=active_xbins, ybins=active_ybins, name='pf_overlapDensity', title='pf overlapDensity metric', variable_label='pf overlapDensity')"
   ]
  },
  {
   "cell_type": "markdown",
   "id": "3fc92a85-6741-4e46-aff1-438f1236aa8b",
   "metadata": {
    "jp-MarkdownHeadingCollapsed": true,
    "tags": []
   },
   "source": [
    "### Use Pandas' df.corr() method"
   ]
  },
  {
   "cell_type": "code",
   "execution_count": null,
   "id": "1c503212-2cb4-4243-beb8-505012ffc9c9",
   "metadata": {
    "scrolled": true,
    "tags": []
   },
   "outputs": [],
   "source": [
    "subset_variable_names = ['neuron_peak_firing_rate', 'summit_slice_level', 'peak_relative_height', 'peak_prominence', 'peak_center_x', 'peak_center_y', 'summit_slice_x_width', 'summit_slice_y_width', 'summit_slice_center_x', 'summit_slice_center_y', 'peak_height', 'peak_center_avg_speed']\n",
    "active_input_matrix = active_peak_prominence_2d_results.filtered_flat_peaks_df[subset_variable_names].copy()\n",
    "\n",
    "# active_corr_matrix = active_input_matrix.corr(method='pearson') # default\n",
    "active_corr_matrix = active_input_matrix.corr(method='spearman') # spearman\n",
    "active_corr_matrix"
   ]
  },
  {
   "cell_type": "code",
   "execution_count": null,
   "id": "f0c0ea5e-97b0-4d48-a695-e10618c31cf3",
   "metadata": {
    "tags": []
   },
   "outputs": [],
   "source": [
    "## Plot correlation matrix using imshow:\n",
    "import matplotlib\n",
    "%matplotlib inline\n",
    "import matplotlib.pyplot as plt\n",
    "\n",
    "def _plot_df_correlation_matrix(active_corr_matrix):\n",
    "    \"\"\"\n",
    "    Usage:\n",
    "        subset_variable_names = ['neuron_peak_firing_rate', 'summit_slice_level', 'peak_relative_height', 'peak_prominence', 'peak_center_x', 'peak_center_y', 'summit_slice_x_width', 'summit_slice_y_width', 'summit_slice_center_x', 'summit_slice_center_y', 'peak_height', 'peak_center_avg_speed']\n",
    "        active_input_matrix = active_peak_prominence_2d_results.filtered_flat_peaks_df[subset_variable_names].copy()\n",
    "\n",
    "        # active_corr_matrix = active_input_matrix.corr(method='pearson') # default\n",
    "        active_corr_matrix = active_input_matrix.corr(method='spearman') # spearman\n",
    "        fig, ax, im = _plot_df_correlation_matrix(active_corr_matrix)\n",
    "        \n",
    "    \"\"\"\n",
    "    corr_matrix = active_corr_matrix.copy().round(decimals=2)\n",
    "    matrix_column_names = corr_matrix.columns\n",
    "    n_columns = len(matrix_column_names)\n",
    "\n",
    "    fig, ax = plt.subplots()\n",
    "    im = ax.imshow(corr_matrix)\n",
    "    im.set_clim(-1, 1)\n",
    "    ax.grid(False)\n",
    "    ax.xaxis.set(ticks=tuple(np.arange(n_columns)), ticklabels=tuple(matrix_column_names))\n",
    "    ax.yaxis.set(ticks=tuple(np.arange(n_columns)), ticklabels=tuple(matrix_column_names))\n",
    "    plt.xticks(rotation=45, ha='right')\n",
    "    # ax.set_ylim(2.5, -0.5)\n",
    "    ## Add Labels:\n",
    "    for i in range(n_columns):\n",
    "        for j in range(n_columns):\n",
    "            ax.text(j, i, corr_matrix.iat[i, j], ha='center', va='center', color='r')\n",
    "            # ax.text(j, i, corr_matrix[i, j], ha='center', va='center', color='r')\n",
    "\n",
    "    cbar = ax.figure.colorbar(im, ax=ax, format='% .2f')\n",
    "    plt.show()\n",
    "    return fig, ax, im\n",
    "\n",
    "fig, ax, im = _plot_df_correlation_matrix(active_corr_matrix)"
   ]
  },
  {
   "cell_type": "code",
   "execution_count": null,
   "id": "8f84cdae-1e42-44d2-9ee0-7c202e4ffe76",
   "metadata": {
    "scrolled": true,
    "tags": []
   },
   "outputs": [],
   "source": [
    "from pyphocorehelpers.general_helpers import get_arguments_as_optional_dict, CodeConversion, inspect_callable_arguments\n",
    "\n",
    "# CodeConversion.get_arguments_as_optional_dict(size=3, mode='constant') # , **({'size': 3, 'mode': 'constant'} | kwargs)\n",
    "# CodeConversion.get_arguments_as_optional_dict(sigma=3) # , **({'sigma': 3} | kwargs)\n",
    "# CodeConversion.get_arguments_as_optional_dict(slice_level_multiplier=0.5, minimum_included_peak_height=0.2) # , **({'slice_level_multiplier': 0.5, 'minimum_included_peak_height': 0.2} | kwargs)\n",
    "\n",
    "# # _perform_pf_find_ratemap_peaks_peak_prominence2d_computation(...): optional arguments\n",
    "# {'summits_analysis':{'slice_level_multiplier': 0.5, 'minimum_included_peak_height': 0.2},\n",
    "#  'uniform_filter':{'size': 3, 'mode': 'constant'},\n",
    "#  'gaussian_filter':{'sigma': 3}}\n",
    "\n",
    "\n",
    "pf_summits_analysis_peak_counts_results = active_peak_prominence_2d_results.peak_counts"
   ]
  },
  {
   "cell_type": "code",
   "execution_count": null,
   "id": "52a636e9-aefb-4818-8e2e-66712b9b64fc",
   "metadata": {},
   "outputs": [],
   "source": [
    "## Renders the active_peak_prominence_2d_results.peak_counts with varying methods of blurring:\n",
    "pf_summits_analysis_peak_counts_results = active_peak_prominence_2d_results.peak_counts\n",
    "out_peak_counts_fig = BasicBinnedImageRenderingWindow(pf_summits_analysis_peak_counts_results.raw, active_pf_2D.xbin_labels, active_pf_2D.ybin_labels, name='pf_peak_counts_map', title=\"# pf peaks per Pos (X, Y)\", variable_label='# pf peaks')\n",
    "out_peak_counts_fig.add_data(row=5, col=0, matrix=pf_summits_analysis_peak_counts_results.uniform_blurred, xbins=active_pf_2D.xbin_labels, ybins=active_pf_2D.ybin_labels, name='pf_peak_counts_map_blurred', title='blurred # pf peaks per Pos (X, Y)', variable_label='blurred # pf peaks')\n",
    "out_peak_counts_fig.add_data(row=6, col=0, matrix=pf_summits_analysis_peak_counts_results.gaussian_blurred, xbins=active_pf_2D.xbin_labels, ybins=active_pf_2D.ybin_labels, name='pf_peak_counts_map_blurred gaussian', title='Gaussian blurred # pf peaks per Pos (X, Y)', variable_label='Gaussian blurred # pf peaks')"
   ]
  },
  {
   "cell_type": "code",
   "execution_count": null,
   "id": "3f1e9e54-a749-4da1-8855-b800afc563cf",
   "metadata": {},
   "outputs": [],
   "source": [
    "## Add to existing plot:\n",
    "out.add_data(row=5, col=0, matrix=active_peak_prominence_2d_results.peak_counts.raw, xbins=active_pf_2D.xbin_labels, ybins=active_pf_2D.ybin_labels, name='pf_peak_counts_map', title='# pf peaks per Pos (X, Y)', variable_label='# pf peaks')\n",
    "out.add_data(row=6, col=0, matrix=active_peak_prominence_2d_results.peak_counts.gaussian_blurred, xbins=active_pf_2D.xbin_labels, ybins=active_pf_2D.ybin_labels, name='pf_peak_counts_map_blurred gaussian', title='Gaussian blurred # pf peaks per Pos (X, Y)', variable_label='Gaussian blurred # pf peaks')"
   ]
  },
  {
   "cell_type": "code",
   "execution_count": null,
   "id": "a4aad3fb-d100-4bef-accc-529b8fd3c2c0",
   "metadata": {},
   "outputs": [],
   "source": [
    "## TODO: now that I have an filtered_summits_analysis_df['peak_center_avg_speed'] associated with each peak, can now look at things like:\n",
    "# size vs. avg_speed\n",
    "# ??DENSITY?? vs. avg speed\n",
    "\n",
    "# Find non-NAN speeds only:\n",
    "good_indicies = np.isfinite(active_eloy_analysis.avg_2D_speed_per_pos)\n",
    "masked_avg_2D_speed_per_pos = np.ma.array(active_eloy_analysis.avg_2D_speed_per_pos, mask=~good_indicies)\n",
    "masked_peak_counts_gaussian_blurred = np.ma.array(active_peak_prominence_2d_results.peak_counts.gaussian_blurred, mask=~good_indicies)\n",
    "\n",
    "## Compute correlation between pf_peak_counts_map_blurred_gaussian and \n",
    "from scipy import signal\n",
    "# METHOD 0: Fill in the missing values with the mean:\n",
    "# filled_avg_2D_speed_per_pos = masked_avg_2D_speed_per_pos.filled(masked_avg_2D_speed_per_pos.mean())\n",
    "# filled_peak_counts_gaussian_blurred = masked_peak_counts_gaussian_blurred.filled(masked_peak_counts_gaussian_blurred.mean())\n",
    "# METHOD 1: Fill in the missing values with zeros:\n",
    "filled_avg_2D_speed_per_pos = masked_avg_2D_speed_per_pos.filled(0.0)\n",
    "filled_peak_counts_gaussian_blurred = masked_peak_counts_gaussian_blurred.filled(0.0)\n",
    "\n",
    "## Compute the correlation\n",
    "corr = signal.correlate2d(filled_peak_counts_gaussian_blurred, filled_avg_2D_speed_per_pos, boundary='symm', mode='same')\n",
    "## Show the corr plot in the open out_peak_counts_fig \n",
    "out.add_data(row=7, col=0, matrix=corr, xbins=active_pf_2D.xbin_labels, ybins=active_pf_2D.ybin_labels, name='correlate2d(gauss_peak_counts, avg_2d_speed)', title='correlate2d(gauss_peak_counts, avg_2d_speed) per Pos (X, Y)', variable_label='corr')"
   ]
  },
  {
   "cell_type": "code",
   "execution_count": null,
   "id": "5d7d7f30-5f3e-45e5-b6ee-b3fa28b3f88c",
   "metadata": {},
   "outputs": [],
   "source": [
    "## Flatten all valid indicies of each variable to a matrix, to compute the relation between the variables as if each position was a separate independent sample\n",
    "def compute_flattened_finite_variable_vectors(xbins, ybins, avg_2D_speed_per_pos, matrix):\n",
    "    \"\"\" Flatten all valid indicies of each variable to a matrix, to compute the relation between the variables as if each position was a separate independent sample \n",
    "    Inputs:\n",
    "        avg_2D_speed_per_pos: TODO: refactor, basically just the matrix with NaNs in it\n",
    "        matrix: a matrix of the same size as avg_2D_speed_per_pos with either no NaNs or at worst NaNs in the same positions as avg_2D_speed_per_pos\n",
    "    \n",
    "    Usage:\n",
    "        \n",
    "good_indicies, flat_valid_xbin_centers, flat_valid_ybin_centers, flat_valid_avg_2D_speed_per_pos, flat_valid_peak_counts_gaussian_blurred = compute_flattened_finite_variable_vectors(xbins=active_peak_prominence_2d_results.xx, ybins=active_peak_prominence_2d_results.yy, avg_2D_speed_per_pos=active_eloy_analysis.avg_2D_speed_per_pos, matrix=pf_summits_analysis_peak_counts_results.gaussian_blurred)\n",
    "    \"\"\"\n",
    "    # Find non-NAN speeds only:\n",
    "    good_indicies = np.isfinite(avg_2D_speed_per_pos)\n",
    "\n",
    "    flat_valid_avg_2D_speed_per_pos = avg_2D_speed_per_pos[good_indicies].flatten()\n",
    "    flat_valid_peak_counts_gaussian_blurred = matrix[good_indicies].flatten()\n",
    "\n",
    "    # Build the mesh of flattened x and y positions for each bin\n",
    "    n_xbins = np.shape(avg_2D_speed_per_pos)[0] \n",
    "    n_ybins = np.shape(avg_2D_speed_per_pos)[1]\n",
    "    x_pos_mat = np.repeat(np.atleast_2d(xbins), axis=0, repeats=n_ybins).T #.shape # (7, 60)\n",
    "    y_pos_mat = np.repeat(np.atleast_2d(ybins).T, axis=1, repeats=n_xbins).T\n",
    "    assert np.shape(x_pos_mat) == np.shape(y_pos_mat) == np.shape(avg_2D_speed_per_pos)\n",
    "    flat_valid_xbin_centers = x_pos_mat[good_indicies].flatten()\n",
    "    flat_valid_ybin_centers = y_pos_mat[good_indicies].flatten()\n",
    "    assert np.shape(flat_valid_xbin_centers) == np.shape(flat_valid_ybin_centers) == np.shape(flat_valid_peak_counts_gaussian_blurred)\n",
    "    return good_indicies, flat_valid_xbin_centers, flat_valid_ybin_centers, flat_valid_avg_2D_speed_per_pos, flat_valid_peak_counts_gaussian_blurred\n",
    "\n",
    "good_indicies, flat_valid_xbin_centers, flat_valid_ybin_centers, flat_valid_avg_2D_speed_per_pos, flat_valid_peak_counts_gaussian_blurred = compute_flattened_finite_variable_vectors(xbins=active_peak_prominence_2d_results.xx, ybins=active_peak_prominence_2d_results.yy, avg_2D_speed_per_pos=active_eloy_analysis.avg_2D_speed_per_pos, matrix=active_peak_prominence_2d_results.peak_counts.gaussian_blurred)"
   ]
  },
  {
   "cell_type": "code",
   "execution_count": null,
   "id": "47fb67fb-f284-41e5-8dc0-b5015297c60c",
   "metadata": {},
   "outputs": [],
   "source": [
    "import scipy.stats"
   ]
  },
  {
   "cell_type": "markdown",
   "id": "2acce724-6a4f-4764-80e2-aa5a9b9ceded",
   "metadata": {
    "jp-MarkdownHeadingCollapsed": true,
    "tags": []
   },
   "source": [
    "### Linear Correlations"
   ]
  },
  {
   "cell_type": "code",
   "execution_count": null,
   "id": "f06a986a-2054-4d47-860b-a1d8d8fbf643",
   "metadata": {},
   "outputs": [],
   "source": [
    "from scipy.stats import linregress\n",
    "\n",
    "x = flat_valid_avg_2D_speed_per_pos.copy()\n",
    "y = flat_valid_peak_counts_gaussian_blurred.copy()\n",
    "result = linregress(x, y)\n",
    "print(f'y = {result.slope:.6f}x + {result.intercept:.6f}')\n",
    "# print(result.intercept, result.intercept_stderr)\n",
    "print(f'p: {result.pvalue}')\n",
    "print(f\"R-squared: {result.rvalue**2:.6f}\")\n",
    "\n",
    "## Calculate 95% confidence interval on slope and intercept:\n",
    "# Two-sided inverse Students t-distribution\n",
    "# p - probability, df - degrees of freedom\n",
    "from scipy.stats import t\n",
    "\n",
    "tinv = lambda p, df: abs(t.ppf(p/2, df))\n",
    "ts = tinv(0.05, len(x)-2)\n",
    "print(f\"slope (95%): {result.slope:.6f} +/- {ts*result.stderr:.6f}\")\n",
    "print(f\"intercept (95%): {result.intercept:.6f}\"\n",
    "      f\" +/- {ts*result.intercept_stderr:.6f}\")"
   ]
  },
  {
   "cell_type": "code",
   "execution_count": null,
   "id": "fe904efd-8665-428b-b5d9-77115995559e",
   "metadata": {},
   "outputs": [],
   "source": [
    "## Plot linear regression outputs:\n",
    "import matplotlib\n",
    "%matplotlib inline\n",
    "import matplotlib.pyplot as plt\n",
    "plt.plot(x, y, 'o', label='original data')\n",
    "plt.xlabel('Velocity cm/sec')\n",
    "plt.ylabel('blurred peak count')\n",
    "plt.title('Linear Regressionf for animal speed vs. blurred peak count')\n",
    "plt.plot(x, result.intercept + result.slope*x, 'r', label='fitted line')\n",
    "plt.legend()\n",
    "plt.show()"
   ]
  },
  {
   "cell_type": "markdown",
   "id": "f9d2b65b-4f2a-4e8b-89a4-d7edb386ce75",
   "metadata": {
    "jp-MarkdownHeadingCollapsed": true,
    "tags": []
   },
   "source": [
    "### Rank Correlations"
   ]
  },
  {
   "cell_type": "code",
   "execution_count": null,
   "id": "aa6419ec-d897-47d8-97e3-2bb95701afa6",
   "metadata": {},
   "outputs": [],
   "source": [
    "x = flat_valid_avg_2D_speed_per_pos.copy()\n",
    "y = flat_valid_peak_counts_gaussian_blurred.copy()\n",
    "# scipy.stats.rankdata(flat_valid_avg_2D_speed_per_pos)\n",
    "rho, p = scipy.stats.spearmanr(x, y)\n",
    "print(f'spearman rho: {rho:.6f}, p={p:.6f}')"
   ]
  },
  {
   "cell_type": "code",
   "execution_count": null,
   "id": "ff751c95-8863-49c5-ba58-44d3a9759455",
   "metadata": {},
   "outputs": [],
   "source": [
    "tau, p = scipy.stats.kendalltau(x, y)\n",
    "print(f'kendalltau kau: {tau:.6f}, p={p:.6f}')"
   ]
  },
  {
   "cell_type": "markdown",
   "id": "942c1178-4200-42be-86eb-3ed5da66974d",
   "metadata": {
    "jp-MarkdownHeadingCollapsed": true,
    "tags": []
   },
   "source": [
    "## Testing Variable Viewers"
   ]
  },
  {
   "cell_type": "code",
   "execution_count": null,
   "id": "a23eabdc-2380-4f3e-92a2-5e5e631640d5",
   "metadata": {},
   "outputs": [],
   "source": [
    "from pyphocorehelpers.gui.tkinter.tk_tree_view import tk_tree_view"
   ]
  },
  {
   "cell_type": "code",
   "execution_count": null,
   "id": "9bb18c64-ada3-47b3-a8eb-3a3b5efcc2ca",
   "metadata": {},
   "outputs": [],
   "source": [
    "def visualise_dict(d, lvl=0):\n",
    "    # go through the dictionary alphabetically \n",
    "    for k in sorted(d):\n",
    "        # print the table header if we're at the beginning\n",
    "        if lvl == 0 and k == sorted(d)[0]:\n",
    "            print('{:<25} {:<15} {:<10}'.format('KEY','LEVEL','TYPE'))\n",
    "            print('-'*79)\n",
    "\n",
    "        indent = '  '*lvl # indent the table to visualise hierarchy\n",
    "        t = str(type(d[k]))\n",
    "\n",
    "        # print details of each entry\n",
    "        print(\"{:<25} {:<15} {:<10}\".format(indent+str(k),lvl,t))\n",
    "\n",
    "        # if the entry is a dictionary\n",
    "        if type(d[k])==dict:\n",
    "            # visualise THAT dictionary with +1 indent\n",
    "            visualise_dict(d[k],lvl+1)"
   ]
  },
  {
   "cell_type": "code",
   "execution_count": null,
   "id": "2e011369-eb23-4480-81af-d845d2d8e7a9",
   "metadata": {},
   "outputs": [],
   "source": [
    "from pyphocorehelpers.print_helpers import print_value_overview_only, print_keys_if_possible, pprint, debug_dump_object_member_shapes"
   ]
  },
  {
   "cell_type": "code",
   "execution_count": null,
   "id": "a0cc1d39-d2c1-42e3-9597-de6d22d2b33f",
   "metadata": {},
   "outputs": [],
   "source": [
    "# tk_tree_view(peaks[1])\n",
    "# tk_tree_view(peaks)\n",
    "\n",
    "# tk_tree_view(ipcDataExplorer.plots.to_dict())\n",
    "visualise_dict(ipcDataExplorer.plots)"
   ]
  },
  {
   "cell_type": "code",
   "execution_count": null,
   "id": "588008aa-5d3b-47de-bb19-ae880861302b",
   "metadata": {},
   "outputs": [],
   "source": [
    "str(type(tuningCurvePlotData[2]['pdata_currActiveNeuronTuningCurve']))\n",
    "\n",
    "# pyvista.core.pointset.StructuredGrid"
   ]
  },
  {
   "cell_type": "code",
   "execution_count": null,
   "id": "992502de-1bee-4160-ad1c-70d82fe47433",
   "metadata": {},
   "outputs": [],
   "source": [
    "# print_keys_if_possible('plots_data', ipcDataExplorer.plots_data) # RenderPlotsData\n",
    "tuningCurvePlotData = ipcDataExplorer.plots_data['tuningCurvePlotData']\n",
    "# - tuningCurvePlotData: <class 'indexed.IndexedOrderedDict'>\n",
    "# \t- 2: <class 'dict'>\n",
    "# \t\t- curr_active_neuron_ID: <class 'numpy.int32'>\n",
    "# \t\t- curr_active_neuron_pf_identifier: <class 'str'>\n",
    "# \t\t- curr_active_neuron_tuning_Curve: <class 'numpy.ndarray'> - (29, 64)\n",
    "# \t\t- pdata_currActiveNeuronTuningCurve: <class 'pyvista.core.pointset.StructuredGrid'> - OMITTED TYPE WITH NO SHAPE\n",
    "# \t\t- pdata_currActiveNeuronTuningCurve_Points: <class 'pyvista.core.pointset.UnstructuredGrid'> - OMITTED TYPE WITH NO SHAPE\n",
    "# \t\t- lut: <class 'vtkmodules.vtkCommonCore.vtkLookupTable'>\n",
    "        \n",
    "# 'occupancyPlotData'\n",
    "# tuningCurvePlotData.shape\n",
    "print_keys_if_possible('tuningCurvePlotData', tuningCurvePlotData) # RenderPlotsData"
   ]
  },
  {
   "cell_type": "code",
   "execution_count": null,
   "id": "c5772862-44a8-4858-96c4-41d067d8167e",
   "metadata": {},
   "outputs": [],
   "source": [
    "print_keys_if_possible('ipcDataExplorer.plots', ipcDataExplorer.plots, additional_excluded_item_classes=[\"<class 'vtkmodules.vtkRenderingOpenGL2.vtkOpenGLActor'>\", \"<class 'vtkmodules.vtkRenderingAnnotation.vtkLegendBoxActor'>\"]) # RenderPlots\n",
    "# pcDataExplorer.plots: <class 'pyphocorehelpers.DataStructure.general_parameter_containers.RenderPlots'>\n",
    "# \t- name: <class 'str'>\n",
    "# \t- occupancyPlotActor: <class 'NoneType'>\n",
    "# \t- maze_bg: <class 'vtkmodules.vtkRenderingOpenGL2.vtkOpenGLActor'> - OMITTED TYPE WITH NO SHAPE\n",
    "# \t- tuningCurvePlotActors: <class 'indexed.IndexedOrderedDict'>\n",
    "# \t\t- 2: <class 'pyphocorehelpers.gui.PyVista.CascadingDynamicPlotsList.CascadingDynamicPlotsList'>\n",
    "# \t\t\t- main: <class 'vtkmodules.vtkRenderingOpenGL2.vtkOpenGLActor'> - OMITTED TYPE WITH NO SHAPE\n",
    "# \t\t\t- points: <class 'vtkmodules.vtkRenderingOpenGL2.vtkOpenGLActor'> - OMITTED TYPE WITH NO SHAPE\n",
    "#           ...\n",
    "#         - 64: <class 'pyphocorehelpers.gui.PyVista.CascadingDynamicPlotsList.CascadingDynamicPlotsList'>\n",
    "# \t\t\t- main: <class 'vtkmodules.vtkRenderingOpenGL2.vtkOpenGLActor'> - OMITTED TYPE WITH NO SHAPE\n",
    "# \t\t\t- points: <class 'vtkmodules.vtkRenderingOpenGL2.vtkOpenGLActor'> - OMITTED TYPE WITH NO SHAPE\n",
    "# \t- tuningCurvePlotLegendActor: <class 'vtkmodules.vtkRenderingAnnotation.vtkLegendBoxActor'> - OMITTED TYPE WITH NO SHAPE\n",
    "# \t- spikes_pf_active: <class 'vtkmodules.vtkRenderingOpenGL2.vtkOpenGLActor'> - OMITTED TYPE WITH NO SHAPE\n",
    "        \n",
    "active_tuning_curve_plot_actors = ipcDataExplorer.plots['tuningCurvePlotActors']\n"
   ]
  },
  {
   "cell_type": "code",
   "execution_count": null,
   "id": "058cd8e9-7ab0-43f6-a637-2ccdc8a4c433",
   "metadata": {},
   "outputs": [],
   "source": [
    "debug_dump_object_member_shapes(tuningCurvePlotData)"
   ]
  },
  {
   "cell_type": "code",
   "execution_count": null,
   "id": "fa2d5c06-ca30-4a3d-9198-95678bec99ea",
   "metadata": {},
   "outputs": [],
   "source": [
    "visualise_dict(ipcDataExplorer.plots, lvl=1)"
   ]
  },
  {
   "cell_type": "code",
   "execution_count": null,
   "id": "fa7bfd15-f0da-49fb-b796-d66f4072c4cb",
   "metadata": {},
   "outputs": [],
   "source": [
    "active_neuron_id = 2\n",
    "tuning_curve_is_visible = ipcDataExplorer.plots['tuningCurvePlotActors'][active_neuron_id].main.GetVisibility()\n",
    "tuning_curve_is_visible"
   ]
  },
  {
   "cell_type": "code",
   "execution_count": null,
   "id": "e7e0e0bf-c80b-4a3d-842e-46a29f488d08",
   "metadata": {},
   "outputs": [],
   "source": [
    "# ipcDataExplorer.p.remove_actor(contours_mesh)"
   ]
  },
  {
   "cell_type": "markdown",
   "id": "0aa19041-694d-441e-a42a-b977988ecb06",
   "metadata": {
    "jp-MarkdownHeadingCollapsed": true,
    "tags": []
   },
   "source": [
    "## Vedo display of contours testing"
   ]
  },
  {
   "cell_type": "code",
   "execution_count": null,
   "id": "4f69797c-6760-4311-a8b3-2e88519485c5",
   "metadata": {},
   "outputs": [],
   "source": [
    "plt = plot(active_peak_prominence_2d_results.xx, active_peak_prominence_2d_results.yy, slab, c='summer') # use a colormap\n",
    "show(plt, viewup='z').close()"
   ]
  },
  {
   "cell_type": "code",
   "execution_count": null,
   "id": "f27024f6-0b89-4411-983c-563bfe3b4986",
   "metadata": {},
   "outputs": [],
   "source": [
    "'''Draw a z = f(x,y) surface specified as\n",
    "a string or as a reference to an external function.\n",
    "Red points indicate where the function does not exist!'''\n",
    "from vedo import dataurl, sin, cos, log, show, Text2D\n",
    "from vedo.pyplot import plot\n",
    "\n",
    "doc = Text2D(__doc__, pos='bottom-left', c='darkgreen', font='Quikhand')\n",
    "\n",
    "############################################################### REAL\n",
    "def f(x, y):\n",
    "    return sin(2*x*y) * cos(3*y)/2\n",
    "f1 = plot(f, c='summer') # use a colormap\n",
    "\n",
    "# red dots are shown where the function does not exist (y>x):\n",
    "def f(x, y):\n",
    "    return sin(3*x) * log(x-y)/3\n",
    "f2 = plot(f, texture=dataurl+'textures/paper3.jpg')\n",
    "\n",
    "# specify x and y ranges and z vertical limits:\n",
    "def f(x, y):\n",
    "    return log(x**2+y**2-1)\n",
    "f3 = plot(\n",
    "    f,\n",
    "    xlim=[-2,2],\n",
    "    ylim=[-1,8],\n",
    "    zlim=[-1,None],\n",
    "    texture=dataurl+'textures/paper1.jpg',\n",
    ")\n",
    "\n",
    "show([(f1, 'y = sin(2*x*y) * cos(3*y) /2', doc),\n",
    "      (f2, 'y = sin(3*x)*log(x-y)/3'),\n",
    "      (f3, 'y = log(x**2+y**2-1)'),\n",
    "     ], N=3, sharecam=False,\n",
    ").close()\n",
    "\n",
    "############################################################## COMPLEX\n",
    "comment = \"\"\"Vertical axis shows the real part of complex z:\n",
    "    z = sin(log(x\\doty))\n",
    "Color map the value of the imaginary part\n",
    "(green=positive, purple=negative)\"\"\"\n",
    "\n",
    "plt = plot(lambda x,y: sin(log(x*y))/25, mode='complex')\n",
    "\n",
    "show(plt, comment, viewup='z').close()"
   ]
  },
  {
   "cell_type": "code",
   "execution_count": null,
   "id": "f3535fc5-5806-4435-a2ee-96134abb2b44",
   "metadata": {},
   "outputs": [],
   "source": [
    "isol = mesh0.isolines(n=10).color('w')\n",
    "isob = mesh0.isobands(n=5).addScalarBar(title=\"H=Elevation\")\n",
    "\n",
    "# make a copy and interpolate the Scalars from points to cells\n",
    "mesh1 = mesh0.clone(deep=False).mapPointsToCells()\n",
    "printc('Mesh cell arrays :', mesh1.celldata.keys())\n",
    "\n",
    "gvecs = mesh1.gradient(on='cells')\n",
    "cc = mesh1.cellCenters()\n",
    "ars = Arrows(cc, cc + gvecs*0.01, c='bone_r').lighting('off')\n",
    "ars.addScalarBar3D(title='|\\nablaH|~\\dot~0.01 [arb.units]')\n",
    "\n",
    "# colormap the gradient magnitude directly on the mesh\n",
    "mesh2 = mesh1.clone(deep=False).lw(0.1).cmap('jet', mag(gvecs), on='cells')\n",
    "mesh2.addScalarBar3D(title='|\\nablaH| [arb.units]')\n",
    "\n",
    "plt = Plotter(N=4, size=(1200,900), axes=11)\n",
    "plt.at(0).show(mesh0, isol, __doc__)\n",
    "plt.at(1).show(isob)\n",
    "plt.at(2).show(mesh1, isol, ars, \"Arrows=\\nablaH\")\n",
    "plt.at(3).show(mesh2, \"Color=|\\nablaH|\")\n",
    "plt.interactive().close()"
   ]
  },
  {
   "cell_type": "markdown",
   "id": "a7d8b658-d56f-4ed5-abf5-c0331c6b5595",
   "metadata": {
    "tags": []
   },
   "source": [
    "# 2022-08-02 - New Simple Time-Dependent Placefield Overhaul\n",
    "Idea: use simple dataframes and operations on them to easily get the placefield results for a given time range."
   ]
  },
  {
   "cell_type": "code",
   "execution_count": null,
   "id": "4d797ecb-f440-4838-9cb4-284cb0f4bcee",
   "metadata": {},
   "outputs": [],
   "source": [
    "from scipy.ndimage import gaussian_filter\n",
    "from neuropy.core.ratemap import Ratemap\n",
    "from neuropy.analyses.placefields import _normalized_occupancy\n",
    "from neuropy.analyses.time_dependent_placefields import PfND_TimeDependent"
   ]
  },
  {
   "cell_type": "code",
   "execution_count": null,
   "id": "d52aa91d-1c15-4f88-a20c-9b4bee0350dc",
   "metadata": {},
   "outputs": [],
   "source": [
    "PfND_TimeDependent.should_smooth_spatial_occupancy_map"
   ]
  },
  {
   "cell_type": "code",
   "execution_count": null,
   "id": "b84dca36-d4c3-46c3-83e0-c1b99e2e78c9",
   "metadata": {},
   "outputs": [],
   "source": [
    "PfND_TimeDependent.should_smooth_spikes_map"
   ]
  },
  {
   "cell_type": "code",
   "execution_count": null,
   "id": "f1d40d1d-e710-41e8-8229-f7698ca47919",
   "metadata": {},
   "outputs": [],
   "source": [
    "from neuropy.analyses.time_dependent_placefields import PfND_TimeDependent\n",
    "\n",
    "## Test arbitrarily slicing by first _test_arbitrary_end_time seconds\n",
    "_test_arbitrary_start_time = 0.0\n",
    "# _test_arbitrary_end_time = 60.0 * 10.0\n",
    "_test_arbitrary_end_time = 2000.0 # end of session\n",
    "\n",
    "# out_dict = PfND_TimeDependent.perform_time_range_computation(spikes_df, pos_df, position_srate, xbin, ybin, start_time, end_time, included_neuron_IDs, active_computation_config)\n",
    "out_dict = PfND_TimeDependent.perform_time_range_computation(sess.spikes_df, sess.position.to_dataframe(), position_srate=sess.position_sampling_rate,\n",
    "                                                             xbin=active_pf_2D.xbin, ybin=active_pf_2D.ybin,\n",
    "                                                             start_time=_test_arbitrary_start_time, end_time=_test_arbitrary_end_time,\n",
    "                                                             included_neuron_IDs=active_pf_2D.included_neuron_IDs, active_computation_config=curr_active_config.computation_config, override_smooth=(0.0, 0.0))\n",
    "# out_dict\n",
    "# out_dict.seconds_occupancy\n",
    "# out_dict.smoothed_spikes_maps_matrix\n",
    "# with np.printoptions(edgeitems=9, formatter=dict(float=lambda x: \"%.3g\" % x)):\n",
    "#     print(out_dict.occupancy_weighted_tuning_maps_matrix)\n",
    "# print(out_dict.occupancy_weighted_tuning_maps_matrix)"
   ]
  },
  {
   "cell_type": "code",
   "execution_count": null,
   "id": "234cd789-b01f-4b08-af40-a5528a8ab128",
   "metadata": {},
   "outputs": [],
   "source": [
    "np.max(out_dict.seconds_occupancy)"
   ]
  },
  {
   "cell_type": "code",
   "execution_count": null,
   "id": "57bb116a-baa5-417c-a15a-8b5da52edb19",
   "metadata": {},
   "outputs": [],
   "source": [
    "np.sum(out_dict.seconds_occupancy)"
   ]
  },
  {
   "cell_type": "code",
   "execution_count": null,
   "id": "d66bccd5-edca-44b8-86cc-e4a520accd20",
   "metadata": {},
   "outputs": [],
   "source": [
    "np.max(out_dict.smoothed_spikes_maps_matrix) # 114"
   ]
  },
  {
   "cell_type": "code",
   "execution_count": null,
   "id": "ea8afea6-ec15-41e4-b315-639552102cba",
   "metadata": {},
   "outputs": [],
   "source": [
    "np.sum(out_dict.smoothed_spikes_maps_matrix, (1,2)) # num spikes per map"
   ]
  },
  {
   "cell_type": "code",
   "execution_count": null,
   "id": "e6968c09-fd8f-4e80-bf47-243d13246f39",
   "metadata": {},
   "outputs": [],
   "source": [
    "np.sum(out_dict.spikes_maps_matrix, (1,2)) # num spikes per map"
   ]
  },
  {
   "cell_type": "code",
   "execution_count": null,
   "id": "765f26c7-9468-4d76-b763-c7e1183f9f90",
   "metadata": {},
   "outputs": [],
   "source": [
    "np.max(out_dict.occupancy_weighted_tuning_maps_matrix, (1,2))"
   ]
  },
  {
   "cell_type": "code",
   "execution_count": null,
   "id": "fb9e3dd8-084f-4a4b-9701-c0fcdb7987ba",
   "metadata": {},
   "outputs": [],
   "source": [
    "np.sum(out_dict.occupancy_weighted_tuning_maps_matrix, (1,2)) # array([inf, inf, inf, inf, inf, inf, inf, inf, inf, inf, inf, 1.79769e+308, inf, inf, inf, inf, inf, inf, inf, inf, inf, inf, inf, inf, inf, inf, 1.79769e+308, inf, inf, inf, 17.443, inf, inf, inf, inf, inf, inf, 1.79769e+308, inf, inf])"
   ]
  },
  {
   "cell_type": "code",
   "execution_count": null,
   "id": "8df88870-91fc-426a-a28f-fb934ebebecb",
   "metadata": {},
   "outputs": [],
   "source": [
    "from pyphoplacecellanalysis.Pho2D.PyQtPlots.plot_placefields import pyqtplot_plot_image_array, pyqtplot_common_setup\n",
    "# Get flat list of images:\n",
    "# images = occupancy_weighted_tuning_maps_matrix # (43, 63, 63)\n",
    "# occupancy = seconds_occupancy\n",
    "\n",
    "\n",
    "# out_dict.smoothed_spikes_maps_matrix\n",
    "\n",
    "images = out_dict.occupancy_weighted_tuning_maps_matrix # (43, 63, 63)\n",
    "occupancy = out_dict.seconds_occupancy\n",
    "\n",
    "# images = active_pf_2D_dt.ratemap.tuning_curves # (43, 63, 63)\n",
    "# images = active_pf_2D_dt.curr_occupancy_weighted_tuning_maps_matrix[active_pf_2D_dt._included_thresh_neurons_indx,:,:] # (43, 63, 63)\n",
    "# images = active_pf_2D_dt.curr_smoothed_spikes_maps_matrix[active_pf_2D_dt._included_thresh_neurons_indx,:,:] # (43, 63, 63)\n",
    "# images = active_one_step_decoder.ratemap.normalized_tuning_curves[0:40,:,:] # (43, 63, 63)\n",
    "# occupancy = active_pf_2D_dt.ratemap.occupancy\n",
    "# occupancy = active_pf_2D_dt.curr_seconds_occupancy\n",
    "app, parent_root_widget, root_render_widget, plot_array, img_item_array, other_components_array = pyqtplot_plot_image_array(active_pf_2D_dt.xbin, active_pf_2D_dt.ybin, images, occupancy, \n",
    "                                                                        app=None, parent_root_widget=None, root_render_widget=None)\n",
    "\n",
    "parent_root_widget.show()"
   ]
  },
  {
   "cell_type": "code",
   "execution_count": null,
   "id": "d06013c2-70ba-42ce-b81b-2a36e282c4d8",
   "metadata": {},
   "outputs": [],
   "source": [
    "active_pf_2D_dt.update(t=40.0, should_snapshot=False)"
   ]
  },
  {
   "cell_type": "code",
   "execution_count": null,
   "id": "02b7a7d9-e829-4b76-8e91-51d4f50db817",
   "metadata": {},
   "outputs": [],
   "source": [
    "active_pf_2D_dt.snapshot()"
   ]
  },
  {
   "cell_type": "code",
   "execution_count": null,
   "id": "e3e94322-bcec-4e7b-8cb8-dc35f9cb0149",
   "metadata": {},
   "outputs": [],
   "source": [
    "# Bin the x, y positions\n",
    "active_pf_2D.build_position_df_discretized_binned_positions(active_pos_df="
   ]
  },
  {
   "cell_type": "code",
   "execution_count": null,
   "id": "33d93b15-0b39-4cf7-a4cf-2371ff7ce59f",
   "metadata": {},
   "outputs": [],
   "source": [
    "from pyphocorehelpers.general_helpers import CodeConversion"
   ]
  },
  {
   "cell_type": "code",
   "execution_count": null,
   "id": "42be281c-d423-4986-ac01-73c6a6fb0a50",
   "metadata": {},
   "outputs": [],
   "source": [
    "CodeConversion.convert_defn_lines_to_dictionary(multiline_dict_defn=\"\"\"{'num_position_samples_occupancy': num_position_samples_occupancy, 'seconds_occupancy': seconds_occupancy,\n",
    "         'spikes_maps_matrix': spikes_maps_matrix, 'smoothed_spikes_maps_matrix': smoothed_spikes_maps_matrix,\n",
    "         'occupancy_weighted_tuning_maps_matrix':occupancy_weighted_tuning_maps_matrix}\"\"\")"
   ]
  },
  {
   "cell_type": "code",
   "execution_count": null,
   "id": "44c3c606-d8f8-4be8-8bba-e30ade248cc2",
   "metadata": {},
   "outputs": [],
   "source": []
  },
  {
   "cell_type": "markdown",
   "id": "d9a26588-42d9-420b-9e16-bf38ceff4383",
   "metadata": {},
   "source": [
    "## 2022-08-12 - 2D Velocity per timestep"
   ]
  },
  {
   "cell_type": "code",
   "execution_count": null,
   "id": "f8edd6aa-ac0b-44a7-a855-ca00b93614b7",
   "metadata": {},
   "outputs": [],
   "source": [
    "sess.position.to_dataframe()"
   ]
  },
  {
   "cell_type": "code",
   "execution_count": null,
   "id": "6247a348-1ff6-4b71-b692-c3cf34afb41a",
   "metadata": {},
   "outputs": [],
   "source": []
  }
 ],
 "metadata": {
  "interpreter": {
   "hash": "bb76371bb80daaa456787a5f74a5afc9bd3e021c2669334ff0bb72cb94135a74"
  },
  "kernelspec": {
   "display_name": "Python [conda env:phoviz_ultimate]",
   "language": "python",
   "name": "conda-env-phoviz_ultimate-py"
  },
  "language_info": {
   "codemirror_mode": {
    "name": "ipython",
    "version": 3
   },
   "file_extension": ".py",
   "mimetype": "text/x-python",
   "name": "python",
   "nbconvert_exporter": "python",
   "pygments_lexer": "ipython3",
   "version": "3.9.13"
  },
  "scenes_data": {
   "active_scene": "Default Scene",
   "init_scene": null,
   "scenes": [
    "Default Scene"
   ]
  },
  "toc-autonumbering": true,
  "toc-showcode": false,
  "toc-showmarkdowntxt": false,
  "toc-showtags": false
 },
 "nbformat": 4,
 "nbformat_minor": 5
}
