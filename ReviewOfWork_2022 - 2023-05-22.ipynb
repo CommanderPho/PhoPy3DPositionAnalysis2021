{
 "cells": [
  {
   "cell_type": "code",
   "execution_count": 1,
   "id": "0056bc66-7629-4ef7-8c87-f28f8fcd9dc8",
   "metadata": {
    "autorun": true,
    "tags": [
     "imports",
     "REQUIRED",
     "ACTIVE"
    ]
   },
   "outputs": [
    {
     "name": "stdout",
     "output_type": "stream",
     "text": [
      "Automatic pdb calling has been turned OFF\n",
      "build_module_logger(module_name=\"Spike3D.pipeline\"):\n",
      "\t Module logger com.PhoHale.Spike3D.pipeline has file logging enabled and will log to EXTERNAL\\TESTING\\Logging\\debug_com.PhoHale.Spike3D.pipeline.log\n"
     ]
    }
   ],
   "source": [
    "%config IPCompleter.use_jedi = False\n",
    "%pdb off\n",
    "%load_ext viztracer\n",
    "from viztracer import VizTracer\n",
    "%load_ext autoreload\n",
    "%autoreload 3\n",
    "import sys\n",
    "from pathlib import Path\n",
    "\n",
    "# required to enable non-blocking interaction:\n",
    "%gui qt5\n",
    "\n",
    "from copy import deepcopy\n",
    "from numba import jit\n",
    "import numpy as np\n",
    "import pandas as pd\n",
    "\n",
    "# Pho's Formatting Preferences\n",
    "# from pyphocorehelpers.preferences_helpers import set_pho_preferences, set_pho_preferences_concise, set_pho_preferences_verbose\n",
    "# set_pho_preferences_concise()\n",
    "\n",
    "## Pho's Custom Libraries:\n",
    "from pyphocorehelpers.general_helpers import CodeConversion\n",
    "from pyphocorehelpers.function_helpers import function_attributes\n",
    "from pyphocorehelpers.print_helpers import print_keys_if_possible, print_value_overview_only, document_active_variables, objsize, print_object_memory_usage, debug_dump_object_member_shapes, TypePrintMode\n",
    "from pyphocorehelpers.print_helpers import get_now_day_str, get_now_time_str, get_now_time_precise_str\n",
    "from pyphocorehelpers.programming_helpers import IPythonHelpers\n",
    "from pyphocorehelpers.Filesystem.path_helpers import find_first_extant_path\n",
    "\n",
    "# NeuroPy (Diba Lab Python Repo) Loading\n",
    "# from neuropy import core\n",
    "from neuropy.analyses.placefields import PlacefieldComputationParameters\n",
    "from neuropy.core.epoch import NamedTimerange, Epoch\n",
    "from neuropy.core.ratemap import Ratemap\n",
    "from neuropy.core.session.Formats.BaseDataSessionFormats import DataSessionFormatRegistryHolder\n",
    "from neuropy.core.session.Formats.Specific.BapunDataSessionFormat import BapunDataSessionFormatRegisteredClass\n",
    "from neuropy.core.session.Formats.Specific.KDibaOldDataSessionFormat import KDibaOldDataSessionFormatRegisteredClass\n",
    "from neuropy.core.session.Formats.Specific.RachelDataSessionFormat import RachelDataSessionFormat\n",
    "from neuropy.core.session.Formats.Specific.HiroDataSessionFormat import HiroDataSessionFormatRegisteredClass\n",
    "\n",
    "## For computation parameters:\n",
    "from neuropy.analyses.placefields import PlacefieldComputationParameters\n",
    "from neuropy.utils.dynamic_container import DynamicContainer\n",
    "from neuropy.utils.result_context import IdentifyingContext\n",
    "from neuropy.core.session.Formats.BaseDataSessionFormats import find_local_session_paths\n",
    "from neuropy.core.neurons import NeuronType\n",
    "\n",
    "# pyPhoPlaceCellAnalysis:\n",
    "from pyphoplacecellanalysis.General.Pipeline.NeuropyPipeline import NeuropyPipeline # get_neuron_identities\n",
    "from pyphoplacecellanalysis.General.Mixins.ExportHelpers import export_pyqtgraph_plot, create_daily_programmatic_display_function_testing_folder_if_needed, session_context_to_relative_path\n",
    "from pyphoplacecellanalysis.General.Batch.NonInteractiveWrapper import batch_load_session, batch_extended_computations, SessionBatchProgress, batch_programmatic_figures, batch_extended_programmatic_figures\n",
    "from pyphoplacecellanalysis.General.Pipeline.NeuropyPipeline import PipelineSavingScheme\n",
    "from pyphoplacecellanalysis.Pho2D.matplotlib.visualize_heatmap import visualize_heatmap\n",
    "\n",
    "# from PendingNotebookCode import _perform_batch_plot, _build_batch_plot_kwargs\n",
    "\n",
    "session_batch_status = {}\n",
    "session_batch_errors = {}\n",
    "enable_saving_to_disk = False\n",
    "\n",
    "global_data_root_parent_path = find_first_extant_path([Path(r'W:\\Data'), Path(r'/media/MAX/Data'), Path(r'/Volumes/MoverNew/data'), Path(r'/home/halechr/turbo/Data')])\n",
    "assert global_data_root_parent_path.exists(), f\"global_data_root_parent_path: {global_data_root_parent_path} does not exist! Is the right computer's config commented out above?\""
   ]
  },
  {
   "attachments": {},
   "cell_type": "markdown",
   "id": "a1538e2a-4e39-4d11-90b5-a9fef9258058",
   "metadata": {
    "tags": [
     "REQUIRED",
     "ACTIVE"
    ]
   },
   "source": [
    "# Load Pipeline"
   ]
  },
  {
   "cell_type": "code",
   "execution_count": 2,
   "id": "f917bad9-8fe7-4882-b83b-71cf878fffd2",
   "metadata": {
    "tags": [
     "load",
     "REQUIRED"
    ]
   },
   "outputs": [],
   "source": [
    "# ==================================================================================================================== #\n",
    "# Load Data                                                                                                            #\n",
    "# ==================================================================================================================== #\n",
    "\n",
    "active_data_mode_name = 'kdiba'\n",
    "\n",
    "## Data must be pre-processed using the MATLAB script located here: \n",
    "#     neuropy/data_session_pre_processing_scripts/KDIBA/IIDataMat_Export_ToPython_2022_08_01.m\n",
    "# From pre-computed .mat files:\n",
    "\n",
    "local_session_root_parent_context = IdentifyingContext(format_name=active_data_mode_name) # , animal_name='', configuration_name='one', session_name=self.session_name\n",
    "local_session_root_parent_path = global_data_root_parent_path.joinpath('KDIBA')\n",
    "\n",
    "good_contexts_list = [IdentifyingContext(format_name='kdiba',animal='gor01',exper_name='one',session_name='2006-6-08_14-26-15'),\n",
    "    IdentifyingContext(format_name='kdiba',animal='gor01',exper_name='one',session_name='2006-6-09_1-22-43'),\n",
    "    IdentifyingContext(format_name='kdiba',animal='gor01',exper_name='one',session_name='2006-6-12_15-55-31'),\n",
    "    IdentifyingContext(format_name='kdiba',animal='gor01',exper_name='one',session_name='2006-6-13_14-42-6'),\n",
    "    IdentifyingContext(format_name='kdiba',animal='gor01',exper_name='two',session_name='2006-6-07_16-40-19'),\n",
    "    IdentifyingContext(format_name='kdiba',animal='gor01',exper_name='two',session_name='2006-6-12_16-53-46'),\n",
    "    IdentifyingContext(format_name='kdiba',animal='vvp01',exper_name='one',session_name='2006-4-09_17-29-30')]\n"
   ]
  },
  {
   "cell_type": "code",
   "execution_count": 4,
   "id": "d13e68b4-03e0-4388-a35c-87a352a6e6b3",
   "metadata": {
    "tags": [
     "load",
     "single_session",
     "REQUIRED"
    ]
   },
   "outputs": [
    {
     "name": "stdout",
     "output_type": "stream",
     "text": [
      "Automatic pdb calling has been turned OFF\n",
      "basedir: W:\\Data\\KDIBA\\gor01\\one\\2006-6-09_1-22-43\n",
      "Loading loaded session pickle file results : W:\\Data\\KDIBA\\gor01\\one\\2006-6-09_1-22-43\\loadedSessPickle.pkl... done.\n",
      "Loading pickled pipeline success: W:\\Data\\KDIBA\\gor01\\one\\2006-6-09_1-22-43\\loadedSessPickle.pkl.\n",
      "property already present in pickled version. No need to save.\n",
      "using provided computation_functions_name_whitelist: ['_perform_baseline_placefield_computation', '_perform_extended_statistics_computation', '_perform_position_decoding_computation', '_perform_firing_rate_trends_computation', '_perform_pf_find_ratemap_peaks_computation', '_perform_two_step_position_decoding_computation']\n",
      "WARNING: skipping computation because overwrite_extant_results=False and active_computation_results[maze1] already exists and is non-None\n",
      "\t TODO: this will prevent recomputation even when the blacklist/whitelist or computation function definitions change. Rework so that this is smarter.\n",
      "updating computation_results...\n",
      "done.\n",
      "WARNING: skipping computation because overwrite_extant_results=False and active_computation_results[maze2] already exists and is non-None\n",
      "\t TODO: this will prevent recomputation even when the blacklist/whitelist or computation function definitions change. Rework so that this is smarter.\n",
      "updating computation_results...\n",
      "done.\n",
      "WARNING: skipping computation because overwrite_extant_results=False and active_computation_results[maze] already exists and is non-None\n",
      "\t TODO: this will prevent recomputation even when the blacklist/whitelist or computation function definitions change. Rework so that this is smarter.\n",
      "updating computation_results...\n",
      "done.\n",
      "WARNING: saving_mode is SKIP_SAVING so pipeline will not be saved despite calling .save_pipeline(...).\n",
      "saving_mode.shouldSave == False, so not saving at the end of batch_load_session\n"
     ]
    }
   ],
   "source": [
    "%pdb off\n",
    "# %%viztracer\n",
    "\n",
    "curr_context = good_contexts_list[1] # select the session from all of the good sessions here.\n",
    "local_session_parent_path = local_session_root_parent_path.joinpath(curr_context.animal, curr_context.exper_name) # 'gor01', 'one' - probably not needed anymore\n",
    "basedir = local_session_parent_path.joinpath(curr_context.session_name).resolve()\n",
    "print(f'basedir: {str(basedir)}')\n",
    "\n",
    "# # # Read if possible:\n",
    "saving_mode = PipelineSavingScheme.SKIP_SAVING\n",
    "force_reload = False\n",
    "\n",
    "#Force write:\n",
    "# saving_mode = PipelineSavingScheme.OVERWRITE_IN_PLACE # PipelineSavingScheme.OVERWRITE_IN_PLACE\n",
    "# force_reload = True\n",
    "\n",
    "    # ==================================================================================================================== #\n",
    "    # Load Pipeline                                                                                                        #\n",
    "    # ==================================================================================================================== #\n",
    "# with VizTracer(output_file=f\"viztracer_{get_now_time_str()}-full_session_LOO_decoding_analysis.json\", min_duration=200, tracer_entries=3000000, ignore_frozen=True) as tracer:\n",
    "# epoch_name_whitelist = ['maze']\n",
    "epoch_name_whitelist = None\n",
    "active_computation_functions_name_whitelist=[#'_perform_estimated_epochs_computation', \n",
    "                                            '_perform_baseline_placefield_computation',\n",
    "                                        # '_perform_time_dependent_placefield_computation',\n",
    "                                        '_perform_extended_statistics_computation',\n",
    "                                        '_perform_position_decoding_computation', \n",
    "                                        '_perform_firing_rate_trends_computation',\n",
    "                                        '_perform_pf_find_ratemap_peaks_computation',\n",
    "                                        # '_perform_time_dependent_pf_sequential_surprise_computation'\n",
    "                                        '_perform_two_step_position_decoding_computation',\n",
    "                                        # '_perform_recursive_latent_placefield_decoding'\n",
    "                                    ]\n",
    "# active_computation_functions_name_whitelist=['_perform_baseline_placefield_computation']\n",
    "curr_active_pipeline = batch_load_session(global_data_root_parent_path, active_data_mode_name, basedir, epoch_name_whitelist=epoch_name_whitelist,\n",
    "                                        computation_functions_name_whitelist=active_computation_functions_name_whitelist,\n",
    "                                        saving_mode=saving_mode, force_reload=force_reload,\n",
    "                                        skip_extended_batch_computations=True, debug_print=False, fail_on_exception=True)\n",
    "\n",
    "# 6m 1.1s\n"
   ]
  },
  {
   "cell_type": "code",
   "execution_count": null,
   "id": "028a16a4",
   "metadata": {},
   "outputs": [],
   "source": [
    "# short_laps.n_epochs: 40, long_laps.n_epochs: 40\n",
    "# short_replays.n_epochs: 181, long_replays.n_epochs: 222"
   ]
  },
  {
   "cell_type": "code",
   "execution_count": 5,
   "id": "3a29b890",
   "metadata": {},
   "outputs": [],
   "source": [
    "## Post Compute Validate 2023-05-16:\n",
    "from pyphoplacecellanalysis.General.Pipeline.Stages.ComputationFunctions.MultiContextComputationFunctions.LongShortTrackComputations import LongShortPipelineTests\n",
    "\n",
    "def post_compute_validate(curr_active_pipeline):\n",
    "\t\"\"\" 2023-05-16 - Ensures that the laps are used for the placefield computation epochs, the number of bins are the same between the long and short tracks. \"\"\"\n",
    "\tLongShortPipelineTests(curr_active_pipeline=curr_active_pipeline).validate()\n",
    "\n",
    "post_compute_validate(curr_active_pipeline)"
   ]
  },
  {
   "cell_type": "code",
   "execution_count": null,
   "id": "b5205eda",
   "metadata": {},
   "outputs": [],
   "source": [
    "from attrs import define, field, Factory\n",
    "\n",
    "\n",
    "class SessionDataSource:\n",
    "\t\"\"\" SessionDataSource is outer namespace class \"\"\" \n",
    "\n",
    "\t@define\n",
    "\tclass loadedFromFile:\n",
    "\t\t\"\"\"docstring for loadedFromFile \"\"\" \n",
    "\t\tfile: Path\n",
    "\t\t\n",
    "\t@define\n",
    "\tclass estimatedFromComputation:\n",
    "\t\tcomputation_name: str\n",
    "\t\tparameters: dict\n",
    "\n",
    "\n",
    "SessionDataSource.loadedFromFile(file='test.npz')\n",
    "SessionDataSource.estimatedFromComputation(computation_name='estimate_PBEs', parameters={})\n",
    "\n",
    "\n"
   ]
  },
  {
   "cell_type": "code",
   "execution_count": null,
   "id": "2659b06d",
   "metadata": {},
   "outputs": [],
   "source": [
    "sess = curr_active_pipeline.sess\n",
    "sess.config # SessionConfig\n",
    "sess.config.validate()\n",
    "\n",
    "\n",
    "## Add the optional files to the session spec:\n",
    "# Now have access to proper session.recinfo.dat_filename and session.recinfo.eeg_filename:\n",
    "# session.config.session_spec.optional_files.insert(0, SessionFileSpec('{}'+session.recinfo.eeg_filename.suffix, session.recinfo.eeg_filename.stem, 'The .eeg binary data file', cls._load_eegfile))\n",
    "# session.config.validate()\n",
    "# ## Execute it:\n",
    "# _eeg_file_spec = session.config.resolved_optional_filespecs_dict[session.recinfo.eeg_filename]\n",
    "# session = _eeg_file_spec.session_load_callback(session.recinfo.eeg_filename, session)\n",
    "# loaded_file_record_list.append(session.recinfo.eeg_filename)"
   ]
  },
  {
   "cell_type": "code",
   "execution_count": null,
   "id": "072b14fc",
   "metadata": {},
   "outputs": [],
   "source": [
    "sess.config.to_dict()"
   ]
  },
  {
   "cell_type": "code",
   "execution_count": null,
   "id": "839522bf",
   "metadata": {},
   "outputs": [],
   "source": [
    "lap_estimation_parameters = DynamicContainer(N=20, should_backup_extant_laps_obj=True) # Passed as arguments to `sess.replace_session_laps_with_estimates(...)`\n",
    "PBE_estimation_parameters = DynamicContainer(sigma=0.030, thresh=(0, 1.5), min_dur=0.030, merge_dur=0.100, max_dur=0.300) # NewPaper's Parameters        \n",
    "replay_estimation_parameters = DynamicContainer(require_intersecting_epoch=None, min_epoch_included_duration=0.06, max_epoch_included_duration=None, maximum_speed_thresh=None, min_inclusion_fr_active_thresh=0.01, min_num_unique_aclu_inclusions=3)\n",
    "\n",
    "# TODO 2023-05-22: Write the parameters somewhere:\n",
    "sess.config.post_load_computations = DynamicContainer(epoch_estimation_parameters=DynamicContainer.init_from_dict({\n",
    "    'laps': lap_estimation_parameters,\n",
    "    'PBEs': PBE_estimation_parameters,\n",
    "    'replays': replay_estimation_parameters\n",
    "}))\n"
   ]
  },
  {
   "cell_type": "code",
   "execution_count": null,
   "id": "eae1659b",
   "metadata": {},
   "outputs": [],
   "source": [
    "sess.config.validate()"
   ]
  },
  {
   "cell_type": "code",
   "execution_count": 6,
   "id": "326d35c9",
   "metadata": {},
   "outputs": [
    {
     "name": "stdout",
     "output_type": "stream",
     "text": [
      "short_laps.n_epochs: 40, long_laps.n_epochs: 42\n",
      "short_replays.n_epochs: 87, long_replays.n_epochs: 133\n"
     ]
    }
   ],
   "source": [
    "long_epoch_name, short_epoch_name, global_epoch_name = curr_active_pipeline.find_LongShortGlobal_epoch_names()\n",
    "long_session, short_session, global_session = [curr_active_pipeline.filtered_sessions[an_epoch_name] for an_epoch_name in [long_epoch_name, short_epoch_name, global_epoch_name]]\n",
    "long_results, short_results, global_results = [curr_active_pipeline.computation_results[an_epoch_name]['computed_data'] for an_epoch_name in [long_epoch_name, short_epoch_name, global_epoch_name]]\n",
    "long_pf1D, short_pf1D, global_pf1D = long_results.pf1D, short_results.pf1D, global_results.pf1D\n",
    "long_pf2D, short_pf2D, global_pf2D = long_results.pf2D, short_results.pf2D, global_results.pf2D\n",
    "\n",
    "# Get existing laps from session:\n",
    "long_laps, short_laps, global_laps = [curr_active_pipeline.filtered_sessions[an_epoch_name].laps.as_epoch_obj() for an_epoch_name in [long_epoch_name, short_epoch_name, global_epoch_name]]\n",
    "long_replays, short_replays, global_replays = [Epoch(curr_active_pipeline.filtered_sessions[an_epoch_name].replay.epochs.get_valid_df()) for an_epoch_name in [long_epoch_name, short_epoch_name, global_epoch_name]]\n",
    "# short_laps.n_epochs: 40, long_laps.n_epochs: 40\n",
    "# short_replays.n_epochs: 6, long_replays.n_epochs: 8\n",
    "\n",
    "print(f'short_laps.n_epochs: {short_laps.n_epochs}, long_laps.n_epochs: {long_laps.n_epochs}')\n",
    "print(f'short_replays.n_epochs: {short_replays.n_epochs}, long_replays.n_epochs: {long_replays.n_epochs}')"
   ]
  },
  {
   "cell_type": "code",
   "execution_count": null,
   "id": "05e78382",
   "metadata": {},
   "outputs": [],
   "source": [
    "# , '_perform_position_decoding_computation'\n",
    "\n",
    "    # '_perform_baseline_placefield_computation',\n",
    "    # '_perform_time_dependent_placefield_computation',\n",
    "    # '_perform_extended_statistics_computation',\n",
    "    # '_perform_position_decoding_computation', \n",
    "    # '_perform_firing_rate_trends_computation',\n",
    "    # '_perform_pf_find_ratemap_peaks_computation',\n",
    "    # '_perform_time_dependent_pf_sequential_surprise_computation'\n",
    "    # '_perform_two_step_position_decoding_computation',\n",
    "    # '_perform_recursive_latent_placefield_decoding'\n",
    "\n",
    "# '_perform_estimated_epochs_computation', \n",
    "curr_active_pipeline.perform_specific_computation(computation_functions_name_whitelist=['_perform_extended_statistics_computation', '_perform_firing_rate_trends_computation', '_perform_pf_find_ratemap_peaks_computation'],\n",
    "                                                  fail_on_exception=True, debug_print=False) # fail_on_exception MUST be True or error handling is all messed up\n",
    "\n",
    "\n"
   ]
  },
  {
   "cell_type": "code",
   "execution_count": null,
   "id": "b1497652",
   "metadata": {},
   "outputs": [],
   "source": [
    "## Reconcile incompatible definitions of replay across the field?\n"
   ]
  },
  {
   "cell_type": "code",
   "execution_count": null,
   "id": "c8eaa7af",
   "metadata": {},
   "outputs": [],
   "source": [
    "\n",
    "# 2023-01-* - Call extended computations to build `_display_short_long_firing_rate_index_comparison` figures:\n",
    "extended_computations_include_whitelist=['long_short_fr_indicies_analyses', 'jonathan_firing_rate_analysis', 'long_short_decoding_analyses'] # do only specifiedl\n",
    "# extended_computations_include_whitelist=['long_short_fr_indicies_analyses', 'jonathan_firing_rate_analysis'] # do only specifiedl\n",
    "newly_computed_values = batch_extended_computations(curr_active_pipeline, include_whitelist=extended_computations_include_whitelist, include_global_functions=True, fail_on_exception=True, progress_print=True, force_recompute=True, debug_print=False)\n",
    "\n",
    "# 10m 29.5s"
   ]
  },
  {
   "cell_type": "code",
   "execution_count": null,
   "id": "b2c1e9f5",
   "metadata": {},
   "outputs": [],
   "source": [
    "curr_active_pipeline.save_pipeline(saving_mode=PipelineSavingScheme.TEMP_THEN_OVERWRITE) # AttributeError: 'PfND_TimeDependent' object has no attribute '_included_thresh_neurons_indx'\n",
    "# TypeError: cannot pickle 'MplMultiTab' object\n",
    "# PicklingError: Can't pickle .set_closure_cell at 0x000002BF248F50D0>: it's not found as attr._compat.make_set_closure_cell..set_closure_cell"
   ]
  },
  {
   "cell_type": "code",
   "execution_count": null,
   "id": "99ac569c",
   "metadata": {},
   "outputs": [],
   "source": [
    "curr_active_pipeline.save_global_computation_results() # PicklingError: Can't pickle .set_closure_cell at 0x000002BF248F50D0>: it's not found as attr._compat.make_set_closure_cell..set_closure_cell"
   ]
  },
  {
   "cell_type": "code",
   "execution_count": null,
   "id": "339ebf32",
   "metadata": {},
   "outputs": [],
   "source": [
    "curr_active_pipeline.save_pipeline(saving_mode=PipelineSavingScheme.OVERWRITE_IN_PLACE)"
   ]
  },
  {
   "cell_type": "code",
   "execution_count": 7,
   "id": "e46c92b4",
   "metadata": {},
   "outputs": [
    {
     "name": "stdout",
     "output_type": "stream",
     "text": [
      "Loading loaded session pickle file results : W:\\Data\\KDIBA\\gor01\\one\\2006-6-09_1-22-43\\output\\global_computation_results.pkl... done.\n"
     ]
    }
   ],
   "source": [
    "curr_active_pipeline.load_pickled_global_computation_results()"
   ]
  },
  {
   "attachments": {},
   "cell_type": "markdown",
   "id": "c850782f",
   "metadata": {},
   "source": [
    "# End Run"
   ]
  },
  {
   "cell_type": "code",
   "execution_count": null,
   "id": "64c6d71b",
   "metadata": {},
   "outputs": [],
   "source": [
    "## TODO 2025-05-16 - These computation_kwargs_lists don't get passed in?\n",
    "# time_bin_size=0.025\n",
    "decoding_time_bin_size=0.02\n",
    "curr_active_pipeline.perform_specific_computation(computation_functions_name_whitelist=['_perform_long_short_decoding_analyses'], computation_kwargs_list=[dict(decoding_time_bin_size=decoding_time_bin_size, perform_cache_load=False)], fail_on_exception=True, debug_print=False) # fail_on_exception MUST be True or error handling is all messed up \n",
    "\n",
    "# , decoding_time_bin_size = 0.02\n",
    "\n",
    "\n",
    "# 10m 2.8s"
   ]
  },
  {
   "cell_type": "code",
   "execution_count": 8,
   "id": "dda48261",
   "metadata": {},
   "outputs": [],
   "source": [
    "## long_short_decoding_analyses:\n",
    "curr_long_short_decoding_analyses = curr_active_pipeline.global_computation_results.computed_data['long_short_leave_one_out_decoding_analysis']\n",
    "## Extract variables from results object:\n",
    "long_one_step_decoder_1D, short_one_step_decoder_1D, long_replays, short_replays, global_replays, long_shared_aclus_only_decoder, short_shared_aclus_only_decoder, shared_aclus, long_short_pf_neurons_diff, n_neurons, long_results_obj, short_results_obj, is_global = curr_long_short_decoding_analyses.long_decoder, curr_long_short_decoding_analyses.short_decoder, curr_long_short_decoding_analyses.long_replays, curr_long_short_decoding_analyses.short_replays, curr_long_short_decoding_analyses.global_replays, curr_long_short_decoding_analyses.long_shared_aclus_only_decoder, curr_long_short_decoding_analyses.short_shared_aclus_only_decoder, curr_long_short_decoding_analyses.shared_aclus, curr_long_short_decoding_analyses.long_short_pf_neurons_diff, curr_long_short_decoding_analyses.n_neurons, curr_long_short_decoding_analyses.long_results_obj, curr_long_short_decoding_analyses.short_results_obj, curr_long_short_decoding_analyses.is_global\n"
   ]
  },
  {
   "cell_type": "code",
   "execution_count": 9,
   "id": "be3571fd",
   "metadata": {},
   "outputs": [],
   "source": [
    "# (long_one_step_decoder_1D, short_one_step_decoder_1D), (long_one_step_decoder_2D, short_one_step_decoder_2D) = compute_short_long_constrained_decoders(curr_active_pipeline, recalculate_anyway=True)\n",
    "long_epoch_name, short_epoch_name, global_epoch_name = curr_active_pipeline.find_LongShortGlobal_epoch_names()\n",
    "long_epoch_context, short_epoch_context, global_epoch_context = [curr_active_pipeline.filtered_contexts[a_name] for a_name in (long_epoch_name, short_epoch_name, global_epoch_name)]\n",
    "long_session, short_session, global_session = [curr_active_pipeline.filtered_sessions[an_epoch_name] for an_epoch_name in [long_epoch_name, short_epoch_name, global_epoch_name]]\n",
    "long_results, short_results, global_results = [curr_active_pipeline.computation_results[an_epoch_name]['computed_data'] for an_epoch_name in [long_epoch_name, short_epoch_name, global_epoch_name]]\n",
    "long_pf1D, short_pf1D, global_pf1D = long_results.pf1D, short_results.pf1D, global_results.pf1D\n",
    "long_pf2D, short_pf2D, global_pf2D = long_results.pf2D, short_results.pf2D, global_results.pf2D\n",
    "decoding_time_bin_size = long_one_step_decoder_1D.time_bin_size # 1.0/30.0 # 0.03333333333333333"
   ]
  },
  {
   "cell_type": "code",
   "execution_count": null,
   "id": "9e589a68",
   "metadata": {},
   "outputs": [],
   "source": []
  },
  {
   "cell_type": "code",
   "execution_count": 10,
   "id": "f2eaef73",
   "metadata": {},
   "outputs": [
    {
     "data": {
      "text/plain": [
       "WindowsPath('W:/Data/KDIBA/gor01/one/2006-6-09_1-22-43/output')"
      ]
     },
     "execution_count": 10,
     "metadata": {},
     "output_type": "execute_result"
    }
   ],
   "source": [
    "global_session.get_output_path()"
   ]
  },
  {
   "cell_type": "code",
   "execution_count": null,
   "id": "074889cb",
   "metadata": {},
   "outputs": [],
   "source": [
    "long_results_obj.active_filter_epochs"
   ]
  },
  {
   "cell_type": "code",
   "execution_count": null,
   "id": "1f004af7",
   "metadata": {},
   "outputs": [],
   "source": [
    "curr_active_pipeline.global_computation_results.computed_data['long_short_fr_indicies_analysis'].long_mean_replays_frs\n",
    "curr_active_pipeline.global_computation_results.computed_data['long_short_fr_indicies_analysis'].short_mean_replays_frs\n",
    "\n",
    "# curr_active_pipeline.global_computation_results.computed_data.long_short_fr_indicies_analysis\n"
   ]
  },
  {
   "cell_type": "code",
   "execution_count": null,
   "id": "5af84b0f",
   "metadata": {},
   "outputs": [],
   "source": [
    "from neuropy.core.neurons import NeuronType\n",
    "\n",
    "# rate_remapping_df.to_clipboard(index=False)\n",
    "# rate_remapping_df.to_csv(f'C:/Users/pho/repos/Spike3DWorkEnv/Spike3D/data/rate_remapping_df.csv', index=False)\n",
    "\n",
    "# rate_remapping_df = pd.read_csv(f'C:/Users/pho/repos/Spike3DWorkEnv/Spike3D/data/rate_remapping_df.csv')\n",
    "# rate_remapping_df\n",
    "\n",
    "from pyphoplacecellanalysis.General.Pipeline.Stages.ComputationFunctions.MultiContextComputationFunctions.LongShortTrackComputations import compute_rate_remapping_stats\n",
    "rate_remapping_df = compute_rate_remapping_stats(curr_active_pipeline.global_computation_results.computed_data.long_short_fr_indicies_analysis, global_session.neurons.aclu_to_neuron_type_map, considerable_remapping_threshold=0.7)\n",
    "rate_remapping_df"
   ]
  },
  {
   "cell_type": "code",
   "execution_count": null,
   "id": "c4dece40",
   "metadata": {},
   "outputs": [],
   "source": [
    "high_remapping_cells_only = rate_remapping_df[rate_remapping_df['has_considerable_remapping']] \n",
    "high_remapping_cells_only"
   ]
  },
  {
   "cell_type": "code",
   "execution_count": null,
   "id": "4fa8168b",
   "metadata": {},
   "outputs": [],
   "source": [
    "# rate_remapping_df.to_clipboard()\n",
    "rate_remapping_df"
   ]
  },
  {
   "cell_type": "code",
   "execution_count": null,
   "id": "b9003439",
   "metadata": {},
   "outputs": [],
   "source": [
    "# Extract rr_* variables from rate_remapping_df\n",
    "rr_aclus = rate_remapping_df.index.values\n",
    "rr_laps, rr_replays, rr_skew, rr_neuron_type = [rate_remapping_df[n].values for n in ['laps', 'replays', 'skew', 'neuron_type']]\n"
   ]
  },
  {
   "cell_type": "code",
   "execution_count": null,
   "id": "79483e2d",
   "metadata": {},
   "outputs": [],
   "source": [
    "# Plot using Paginator:\n",
    "import matplotlib.pyplot as plt\n",
    "%matplotlib qt\n",
    "\n",
    "from pyphoplacecellanalysis.General.Pipeline.Stages.DisplayFunctions.MultiContextComparingDisplayFunctions.LongShortTrackComparingDisplayFunctions import RateRemappingPaginatedFigureController\n",
    "\n",
    "## Paginated multi-plot\n",
    "active_identifying_session_ctx = curr_active_pipeline.sess.get_context()\n",
    "_out_rr_pagination_controller = RateRemappingPaginatedFigureController.init_from_rr_data(rr_aclus, rr_laps, rr_replays, rr_neuron_type, max_subplots_per_page=20, a_name='TestRateRemappingPaginatedFigureController', active_context=active_identifying_session_ctx)\n",
    "a_paginator = _out_rr_pagination_controller.plots_data.paginator"
   ]
  },
  {
   "cell_type": "code",
   "execution_count": null,
   "id": "e164482f",
   "metadata": {},
   "outputs": [],
   "source": [
    "\n",
    "# Set window icon to make it distinguishable in task bar:\n",
    "from silx.gui.icons import getQIcon\n",
    "_out_rr_pagination_controller.ui.mw.setWindowIcon(getQIcon('plot-window')) # QtGui.QIcon('icon.png')\n"
   ]
  },
  {
   "cell_type": "code",
   "execution_count": null,
   "id": "230c905a",
   "metadata": {},
   "outputs": [],
   "source": [
    "curr_active_pipeline.global_computation_results"
   ]
  },
  {
   "attachments": {},
   "cell_type": "markdown",
   "id": "a16a3469",
   "metadata": {},
   "source": [
    "# Weird Plotting Stuff"
   ]
  },
  {
   "cell_type": "code",
   "execution_count": 18,
   "id": "6688edf5",
   "metadata": {},
   "outputs": [
    {
     "name": "stdout",
     "output_type": "stream",
     "text": [
      "build_module_logger(module_name=\"Spike3D.display.SpikeRasterBase\"):\n",
      "\t Module logger com.PhoHale.Spike3D.display.SpikeRasterBase has file logging enabled and will log to EXTERNAL\\TESTING\\Logging\\debug_com.PhoHale.Spike3D.display.SpikeRasterBase.log\n",
      "driver with key Spike2DRaster already exists and is a different object. Disambiguating name...\n",
      "\t proposed_driver_name is now Spike2DRaster_1\n",
      "driver with key Spike2DRaster already exists and is a different object. Disambiguating name...\n",
      "\t proposed_driver_name is now Spike2DRaster_1\n",
      "active_pf_2D_dt is None! Skipping Create Paired Widget Menu...\n"
     ]
    },
    {
     "ename": "KeyError",
     "evalue": "'create_linked_widget'",
     "output_type": "error",
     "traceback": [
      "\u001b[1;31m---------------------------------------------------------------------------\u001b[0m",
      "\u001b[1;31mKeyError\u001b[0m                                  Traceback (most recent call last)",
      "Cell \u001b[1;32mIn[18], line 2\u001b[0m\n\u001b[0;32m      1\u001b[0m active_identifying_filtered_session_ctx \u001b[39m=\u001b[39m global_epoch_context\n\u001b[1;32m----> 2\u001b[0m display_output \u001b[39m=\u001b[39m curr_active_pipeline\u001b[39m.\u001b[39;49mdisplay(\u001b[39m'\u001b[39;49m\u001b[39m_display_spike_rasters_window\u001b[39;49m\u001b[39m'\u001b[39;49m, active_identifying_filtered_session_ctx, type_of_3d_plotter\u001b[39m=\u001b[39;49m\u001b[39mNone\u001b[39;49;00m) \u001b[39m# , type_of_3d_plotter=None\u001b[39;00m\n\u001b[0;32m      3\u001b[0m spike_raster_window \u001b[39m=\u001b[39m display_output[\u001b[39m'\u001b[39m\u001b[39mspike_raster_window\u001b[39m\u001b[39m'\u001b[39m]\n\u001b[0;32m      4\u001b[0m \u001b[39m# Extras:\u001b[39;00m\n",
      "File \u001b[1;32m~\\repos\\Spike3DWorkEnv\\pyPhoPlaceCellAnalysis\\src\\pyphoplacecellanalysis\\General\\Pipeline\\Stages\\Display.py:409\u001b[0m, in \u001b[0;36mPipelineWithDisplayPipelineStageMixin.display\u001b[1;34m(self, display_function, active_session_configuration_context, **kwargs)\u001b[0m\n\u001b[0;32m    405\u001b[0m active_display_fn_identifying_ctx \u001b[39m=\u001b[39m active_session_configuration_context\u001b[39m.\u001b[39madding_context(\u001b[39m'\u001b[39m\u001b[39mdisplay_fn\u001b[39m\u001b[39m'\u001b[39m, display_fn_name\u001b[39m=\u001b[39mdisplay_fn_name) \u001b[39m# display_fn_name should be like '_display_1d_placefields'\u001b[39;00m\n\u001b[0;32m    407\u001b[0m \u001b[39m# Add the display outputs to the active context. Each display function should return a structure like: dict(fig=active_figure, ax=ax_pf_1D)\u001b[39;00m\n\u001b[0;32m    408\u001b[0m \u001b[39m# owning_pipeline.display_output[active_display_fn_identifying_ctx] = (active_figure, ax_pf_1D)\u001b[39;00m\n\u001b[1;32m--> 409\u001b[0m curr_display_output \u001b[39m=\u001b[39m display_function(\u001b[39mself\u001b[39m\u001b[39m.\u001b[39mcomputation_results[active_session_configuration_name], \u001b[39mself\u001b[39m\u001b[39m.\u001b[39mactive_configs[active_session_configuration_name], owning_pipeline\u001b[39m=\u001b[39m\u001b[39mself\u001b[39m, active_config_name\u001b[39m=\u001b[39mactive_session_configuration_name, \u001b[39m*\u001b[39m\u001b[39m*\u001b[39mkwargs)\n\u001b[0;32m    410\u001b[0m \u001b[39mself\u001b[39m\u001b[39m.\u001b[39mdisplay_output[active_display_fn_identifying_ctx] \u001b[39m=\u001b[39m curr_display_output \u001b[39m# sets the internal display reference to that item\u001b[39;00m\n\u001b[0;32m    412\u001b[0m \u001b[39mreturn\u001b[39;00m curr_display_output\n",
      "File \u001b[1;32m~\\repos\\Spike3DWorkEnv\\pyPhoPlaceCellAnalysis\\src\\pyphoplacecellanalysis\\General\\Pipeline\\Stages\\DisplayFunctions\\SpikeRasters.py:134\u001b[0m, in \u001b[0;36mSpikeRastersDisplayFunctions._display_spike_rasters_window\u001b[1;34m(computation_result, active_config, enable_saving_to_disk, **kwargs)\u001b[0m\n\u001b[0;32m    131\u001b[0m spike_raster_window\u001b[39m.\u001b[39msetWindowTitle(\u001b[39mf\u001b[39m\u001b[39m'\u001b[39m\u001b[39mSpike Raster Window - \u001b[39m\u001b[39m{\u001b[39;00mactive_config_name\u001b[39m}\u001b[39;00m\u001b[39m - \u001b[39m\u001b[39m{\u001b[39;00m\u001b[39mstr\u001b[39m(computation_result\u001b[39m.\u001b[39msess\u001b[39m.\u001b[39mfilePrefix\u001b[39m.\u001b[39mresolve())\u001b[39m}\u001b[39;00m\u001b[39m'\u001b[39m)\n\u001b[0;32m    133\u001b[0m \u001b[39m## Build the additional menus:\u001b[39;00m\n\u001b[1;32m--> 134\u001b[0m output_references \u001b[39m=\u001b[39m _build_additional_window_menus(spike_raster_window, owning_pipeline_reference, computation_result, active_display_fn_identifying_ctx)\n\u001b[0;32m    136\u001b[0m \u001b[39mreturn\u001b[39;00m {\u001b[39m'\u001b[39m\u001b[39mspike_raster_plt_2d\u001b[39m\u001b[39m'\u001b[39m:spike_raster_window\u001b[39m.\u001b[39mspike_raster_plt_2d, \u001b[39m'\u001b[39m\u001b[39mspike_raster_plt_3d\u001b[39m\u001b[39m'\u001b[39m:spike_raster_window\u001b[39m.\u001b[39mspike_raster_plt_3d, \u001b[39m'\u001b[39m\u001b[39mspike_raster_window\u001b[39m\u001b[39m'\u001b[39m: spike_raster_window}\n",
      "File \u001b[1;32m~\\repos\\Spike3DWorkEnv\\pyPhoPlaceCellAnalysis\\src\\pyphoplacecellanalysis\\General\\Pipeline\\Stages\\DisplayFunctions\\SpikeRasters.py:536\u001b[0m, in \u001b[0;36m_build_additional_window_menus\u001b[1;34m(spike_raster_window, owning_pipeline_reference, computation_result, active_display_fn_identifying_ctx)\u001b[0m\n\u001b[0;32m    533\u001b[0m     \u001b[39mprint\u001b[39m(\u001b[39mf\u001b[39m\u001b[39m'\u001b[39m\u001b[39mactive_pf_2D_dt is None! Skipping Create Paired Widget Menu...\u001b[39m\u001b[39m'\u001b[39m)\n\u001b[0;32m    534\u001b[0m     _createLinkedWidget_menu_provider \u001b[39m=\u001b[39m \u001b[39mNone\u001b[39;00m\n\u001b[1;32m--> 536\u001b[0m spike_raster_window\u001b[39m.\u001b[39;49mmain_menu_window\u001b[39m.\u001b[39;49mui\u001b[39m.\u001b[39;49mmenus\u001b[39m.\u001b[39;49mglobal_window_menus\u001b[39m.\u001b[39;49mcreate_linked_widget\u001b[39m.\u001b[39mmenu_provider_obj \u001b[39m=\u001b[39m _createLinkedWidget_menu_provider\n\u001b[0;32m    538\u001b[0m output_references \u001b[39m=\u001b[39m output_references\u001b[39m.\u001b[39mextend([curr_main_menu_window, menuConnections, connections_actions_dict,\n\u001b[0;32m    539\u001b[0m     curr_main_menu_window, menuCreateNewConnectedWidget, createNewConnected_actions_dict,\n\u001b[0;32m    540\u001b[0m     _debug_menu_provider,\n\u001b[0;32m    541\u001b[0m     _docked_menu_provider,\n\u001b[0;32m    542\u001b[0m     _createLinkedWidget_menu_provider\n\u001b[0;32m    543\u001b[0m ])\n\u001b[0;32m    544\u001b[0m \u001b[39mreturn\u001b[39;00m output_references\n",
      "File \u001b[1;32m~\\repos\\Spike3DWorkEnv\\pyPhoCoreHelpers\\src\\pyphocorehelpers\\DataStructure\\dynamic_parameters.py:98\u001b[0m, in \u001b[0;36mDynamicParameters.__getattr__\u001b[1;34m(self, item)\u001b[0m\n\u001b[0;32m     95\u001b[0m     \u001b[39mprint\u001b[39m(\u001b[39mf\u001b[39m\u001b[39m'\u001b[39m\u001b[39mDynamicParameters.__getattr__(self, item): item \u001b[39m\u001b[39m{\u001b[39;00mitem\u001b[39m}\u001b[39;00m\u001b[39m'\u001b[39m)\n\u001b[0;32m     96\u001b[0m \u001b[39mtry\u001b[39;00m:\n\u001b[0;32m     97\u001b[0m     \u001b[39m# try to return the value of the dictionary \u001b[39;00m\n\u001b[1;32m---> 98\u001b[0m     \u001b[39mreturn\u001b[39;00m \u001b[39mself\u001b[39;49m[item]\n\u001b[0;32m     99\u001b[0m \u001b[39mexcept\u001b[39;00m \u001b[39mKeyError\u001b[39;00m \u001b[39mas\u001b[39;00m err:\n\u001b[0;32m    100\u001b[0m     \u001b[39mif\u001b[39;00m DynamicParameters\u001b[39m.\u001b[39mdebug_enabled:\n",
      "File \u001b[1;32m~\\repos\\Spike3DWorkEnv\\pyPhoCoreHelpers\\src\\pyphocorehelpers\\DataStructure\\dynamic_parameters.py:36\u001b[0m, in \u001b[0;36mDynamicParameters.__getitem__\u001b[1;34m(self, key)\u001b[0m\n\u001b[0;32m     34\u001b[0m \u001b[39mif\u001b[39;00m DynamicParameters\u001b[39m.\u001b[39mdebug_enabled:\n\u001b[0;32m     35\u001b[0m     \u001b[39mprint\u001b[39m(\u001b[39mf\u001b[39m\u001b[39m'\u001b[39m\u001b[39mDynamicParameters.__getitem__(self, key): key \u001b[39m\u001b[39m{\u001b[39;00mkey\u001b[39m}\u001b[39;00m\u001b[39m'\u001b[39m)\n\u001b[1;32m---> 36\u001b[0m \u001b[39mreturn\u001b[39;00m \u001b[39mself\u001b[39;49m\u001b[39m.\u001b[39;49m_mapping[key]\n",
      "\u001b[1;31mKeyError\u001b[0m: 'create_linked_widget'"
     ]
    },
    {
     "name": "stdout",
     "output_type": "stream",
     "text": [
      "_run_delayed_gui_load_code() called!\n",
      "recomputing specific epoch decoding for computation_tuple_key = ('replay', 0.03333333333333333, 2)\n",
      "filter_epochs string: \"replay\"\n",
      "clear_all_matplotlib_plots()\n",
      "num_plot_items: 2\n",
      "plotting item\n",
      "plotting item\n",
      "num_plot_items: 2\n",
      "plotting item\n",
      "plotting item\n",
      "on_jump_combo_series_changed(series_name: PBEs)\n",
      "on_jump_next_series_item(): curr_jump_series_name: PBEs\n",
      "curr_time_window: (45.43866900503179, 60.43866900503179), next_target_jump_time: 93.925\n",
      "on_jump_next_series_item(): curr_jump_series_name: PBEs\n",
      "curr_time_window: (93.925, 108.925), next_target_jump_time: 102.921\n",
      "on_jump_next_series_item(): curr_jump_series_name: PBEs\n",
      "curr_time_window: (102.921, 117.921), next_target_jump_time: 104.46900000000001\n",
      "on_jump_next_series_item(): curr_jump_series_name: PBEs\n",
      "curr_time_window: (104.46900000000001, 119.46900000000001), next_target_jump_time: 105.39\n",
      "on_jump_next_series_item(): curr_jump_series_name: PBEs\n",
      "curr_time_window: (105.39, 120.39), next_target_jump_time: 114.813\n",
      "on_jump_next_series_item(): curr_jump_series_name: PBEs\n",
      "curr_time_window: (114.813, 129.813), next_target_jump_time: 120.629\n",
      "on_jump_next_series_item(): curr_jump_series_name: PBEs\n",
      "curr_time_window: (120.629, 135.62900000000002), next_target_jump_time: 121.662\n",
      "on_jump_next_series_item(): curr_jump_series_name: PBEs\n",
      "curr_time_window: (121.662, 136.662), next_target_jump_time: 124.291\n",
      "on_jump_next_series_item(): curr_jump_series_name: PBEs\n",
      "curr_time_window: (124.291, 139.291), next_target_jump_time: 125.05\n",
      "on_jump_next_series_item(): curr_jump_series_name: PBEs\n",
      "curr_time_window: (125.05, 140.05), next_target_jump_time: 125.646\n",
      "on_jump_next_series_item(): curr_jump_series_name: PBEs\n",
      "curr_time_window: (125.646, 140.64600000000002), next_target_jump_time: 132.504\n",
      "on_jump_next_series_item(): curr_jump_series_name: PBEs\n",
      "curr_time_window: (132.504, 147.504), next_target_jump_time: 136.209\n",
      "on_jump_next_series_item(): curr_jump_series_name: PBEs\n",
      "curr_time_window: (136.209, 151.209), next_target_jump_time: 138.873\n",
      "on_jump_next_series_item(): curr_jump_series_name: PBEs\n",
      "curr_time_window: (138.873, 153.873), next_target_jump_time: 139.593\n",
      "on_jump_next_series_item(): curr_jump_series_name: PBEs\n",
      "curr_time_window: (139.593, 154.593), next_target_jump_time: 142.857\n",
      "on_jump_next_series_item(): curr_jump_series_name: PBEs\n",
      "curr_time_window: (142.857, 157.857), next_target_jump_time: 144.26500000000001\n",
      "on_jump_next_series_item(): curr_jump_series_name: PBEs\n",
      "curr_time_window: (144.26500000000001, 159.26500000000001), next_target_jump_time: 146.278\n",
      "on_jump_next_series_item(): curr_jump_series_name: PBEs\n",
      "curr_time_window: (146.278, 161.278), next_target_jump_time: 158.81\n",
      "on_jump_next_series_item(): curr_jump_series_name: PBEs\n",
      "curr_time_window: (158.81, 173.81), next_target_jump_time: 159.39600000000002\n",
      "on_jump_next_series_item(): curr_jump_series_name: PBEs\n",
      "curr_time_window: (158.81, 173.81), next_target_jump_time: 159.39600000000002\n",
      "on_jump_next_series_item(): curr_jump_series_name: PBEs\n",
      "curr_time_window: (159.39600000000002, 174.39600000000002), next_target_jump_time: 161.088\n",
      "on_jump_next_series_item(): curr_jump_series_name: PBEs\n",
      "curr_time_window: (161.088, 176.088), next_target_jump_time: 161.63400000000001\n",
      "on_jump_next_series_item(): curr_jump_series_name: PBEs\n",
      "curr_time_window: (161.63400000000001, 176.63400000000001), next_target_jump_time: 162.703\n",
      "on_jump_next_series_item(): curr_jump_series_name: PBEs\n",
      "curr_time_window: (161.63400000000001, 176.63400000000001), next_target_jump_time: 162.703\n",
      "on_jump_next_series_item(): curr_jump_series_name: PBEs\n",
      "curr_time_window: (161.63400000000001, 176.63400000000001), next_target_jump_time: 162.703\n",
      "on_jump_next_series_item(): curr_jump_series_name: PBEs\n",
      "curr_time_window: (162.703, 177.703), next_target_jump_time: 169.925\n",
      "on_jump_next_series_item(): curr_jump_series_name: PBEs\n",
      "curr_time_window: (169.925, 184.925), next_target_jump_time: 181.364\n",
      "on_jump_next_series_item(): curr_jump_series_name: PBEs\n",
      "curr_time_window: (169.925, 184.925), next_target_jump_time: 181.364\n",
      "on_jump_next_series_item(): curr_jump_series_name: PBEs\n",
      "curr_time_window: (181.364, 196.364), next_target_jump_time: 188.668\n",
      "on_jump_next_series_item(): curr_jump_series_name: PBEs\n",
      "curr_time_window: (188.668, 203.668), next_target_jump_time: 198.239\n",
      "on_jump_next_series_item(): curr_jump_series_name: PBEs\n",
      "curr_time_window: (198.239, 213.239), next_target_jump_time: 198.871\n",
      "on_jump_next_series_item(): curr_jump_series_name: PBEs\n",
      "curr_time_window: (198.239, 213.239), next_target_jump_time: 198.871\n",
      "on_jump_next_series_item(): curr_jump_series_name: PBEs\n",
      "curr_time_window: (198.871, 213.871), next_target_jump_time: 199.3\n"
     ]
    }
   ],
   "source": [
    "active_identifying_filtered_session_ctx = global_epoch_context\n",
    "display_output = curr_active_pipeline.display('_display_spike_rasters_window', active_identifying_filtered_session_ctx, type_of_3d_plotter=None) # , type_of_3d_plotter=None\n",
    "spike_raster_window = display_output['spike_raster_window']\n",
    "# Extras:\n",
    "active_2d_plot = spike_raster_window.spike_raster_plt_2d # <pyphoplacecellanalysis.GUI.PyQtPlot.Widgets.SpikeRasterWidgets.Spike2DRaster.Spike2DRaster at 0x196c7244280>\n",
    "active_3d_plot = spike_raster_window.spike_raster_plt_3d # <pyphoplacecellanalysis.GUI.PyQtPlot.Widgets.SpikeRasterWidgets.Spike2DRaster.Spike2DRaster at 0x196c7244280>\n",
    "main_graphics_layout_widget = active_2d_plot.ui.main_graphics_layout_widget # GraphicsLayoutWidget\n",
    "main_plot_widget = active_2d_plot.plots.main_plot_widget # PlotItem\n",
    "background_static_scroll_plot_widget = active_2d_plot.plots.background_static_scroll_window_plot # PlotItem\n",
    "\n",
    "# _plot_obj"
   ]
  },
  {
   "cell_type": "code",
   "execution_count": null,
   "id": "f98203a4",
   "metadata": {},
   "outputs": [],
   "source": [
    "curr_active_pipeline.reload_default_display_functions()\n",
    "curr_active_pipeline.plot._display_jonathan_interactive_replay_firing_rate_comparison\n"
   ]
  },
  {
   "cell_type": "code",
   "execution_count": null,
   "id": "636806ee",
   "metadata": {},
   "outputs": [],
   "source": [
    "curr_active_pipeline.plot._display_batch_pho_jonathan_replay_firing_rate_comparison()\n"
   ]
  },
  {
   "cell_type": "code",
   "execution_count": null,
   "id": "fd820a45",
   "metadata": {},
   "outputs": [],
   "source": [
    "curr_active_pipeline.plot._display_short_long_firing_rate_index_comparison()\n"
   ]
  },
  {
   "cell_type": "code",
   "execution_count": null,
   "id": "fafcd248",
   "metadata": {},
   "outputs": [],
   "source": [
    "active_identifying_session_ctx, active_session_figures_out_path, active_out_figures_list = batch_programmatic_figures(curr_active_pipeline)"
   ]
  },
  {
   "cell_type": "code",
   "execution_count": null,
   "id": "e60597ba",
   "metadata": {},
   "outputs": [],
   "source": [
    "# import pyflakes\n",
    "# Fixed but requires 'pyflakes' for code editor, which I removed. ModuleNotFoundError: No module named 'pyflakes'\n",
    "active_identifying_session_ctx = curr_active_pipeline.sess.get_context() # 'bapun_RatN_Day4_2019-10-15_11-30-06'\n",
    "display_output = curr_active_pipeline.display('_display_context_nested_docks', active_identifying_session_ctx, enable_gui=True, debug_print=False) # returns {'master_dock_win': master_dock_win, 'app': app, 'out_items': out_items}\n",
    "master_dock_win = display_output['master_dock_win']\n",
    "app = display_output['app']\n",
    "out_items = display_output['out_items']\n",
    "\n",
    "# _display_short_long_firing_rate_index_comparison"
   ]
  },
  {
   "cell_type": "code",
   "execution_count": null,
   "id": "bc5cdbc9",
   "metadata": {},
   "outputs": [],
   "source": [
    "from pyphocorehelpers.programming_helpers import IPythonHelpers\n",
    "\n",
    "long_short_fr_indicies_analysis_results = curr_active_pipeline.global_computation_results.computed_data['long_short_fr_indicies_analysis']\n",
    "x_frs_index, y_frs_index = long_short_fr_indicies_analysis_results['x_frs_index'], long_short_fr_indicies_analysis_results['y_frs_index'] # use the all_results_dict as the computed data value\n",
    "active_context = long_short_fr_indicies_analysis_results['active_context']\n",
    "# IPythonHelpers.cell_vars(lambda: globals())"
   ]
  },
  {
   "cell_type": "code",
   "execution_count": null,
   "id": "39f99839",
   "metadata": {},
   "outputs": [],
   "source": [
    "long_short_fr_indicies_df = pd.DataFrame({'aclu': list(x_frs_index.keys()), 'replay_fr_idx': list(x_frs_index.values()), 'laps_fr_idx': list(y_frs_index.values())}) # , columns=['aclu','replay_frs']\n",
    "long_short_fr_indicies_df.set_index('aclu', inplace=True)\n",
    "# long_short_fr_indicies_df\n",
    "# long_short_fr_indicies_df.to_clipboard()\n",
    "long_short_fr_indicies_df"
   ]
  },
  {
   "cell_type": "code",
   "execution_count": null,
   "id": "58696b73",
   "metadata": {},
   "outputs": [],
   "source": [
    "long_short_fr_indicies_analysis_results"
   ]
  },
  {
   "cell_type": "code",
   "execution_count": null,
   "id": "26804fbe",
   "metadata": {},
   "outputs": [],
   "source": [
    "from pyphoplacecellanalysis.General.Mixins.CrossComputationComparisonHelpers import build_neurons_color_map # for plot_short_v_long_pf1D_comparison\n",
    "\n",
    "# Get existing long/short decoders from the cell under \"# 2023-02-24 Decoders\"\n",
    "long_decoder, short_decoder = deepcopy(long_one_step_decoder_1D), deepcopy(short_one_step_decoder_1D)\n",
    "assert np.all(long_decoder.xbin == short_decoder.xbin)"
   ]
  },
  {
   "attachments": {},
   "cell_type": "markdown",
   "id": "a7742482",
   "metadata": {},
   "source": [
    "## 2023-05-01 - Test my interneuron hypothesis by looking at interneurons across the long/short divide\n",
    "\n",
    " 1. Interneuron identity should be best determinant of active environment.\n",
    "\n",
    " 2. Do people know anything about interneurons that activate in a given environment? For example, to interneurons activate alongside pyramidal cells when replaying a given environment?\n",
    "\n",
    " 3. \n"
   ]
  },
  {
   "cell_type": "code",
   "execution_count": null,
   "id": "0fe17e34",
   "metadata": {},
   "outputs": [],
   "source": [
    "# global_results.pf1D_dt.reset()\n",
    "# global_results.pf2D_dt.reset()\n",
    "# global_results.all_attributes\n",
    "\n",
    "list(curr_active_pipeline.global_computation_results.computed_data.jonathan_firing_rate_analysis.keys())\n",
    "\n",
    "curr_active_pipeline.global_computation_results.computed_data.long_short"
   ]
  },
  {
   "cell_type": "code",
   "execution_count": null,
   "id": "32b7df38",
   "metadata": {},
   "outputs": [],
   "source": [
    "\n",
    "\n",
    "# 1. Interneuron identity should be best determinant of active environment.\n",
    "\n",
    "# 2. Do people know anything about interneurons that activate in a given environment? For example, to interneurons activate alongside pyramidal cells when replaying a given environment?\n",
    "\n",
    "# 3. \n",
    "# global_results.pf1D_dt.reset()\n",
    "# global_results.pf2D_dt.reset()\n",
    "# global_results.all_attributes\n",
    "\n",
    "list(curr_active_pipeline.global_computation_results.computed_data.jonathan_firing_rate_analysis.keys())\n",
    "\n",
    "curr_active_pipeline.global_computation_results.computed_data.long_short"
   ]
  },
  {
   "cell_type": "code",
   "execution_count": null,
   "id": "4a2d06a7",
   "metadata": {},
   "outputs": [],
   "source": [
    "from pyphoplacecellanalysis.General.Pipeline.Stages.ComputationFunctions.MultiContextComputationFunctions.LongShortTrackComputations import JonathanFiringRateAnalysisResult\n",
    "\n",
    "jonathan_firing_rate_analysis_result = JonathanFiringRateAnalysisResult(**curr_active_pipeline.global_computation_results.computed_data.jonathan_firing_rate_analysis.to_dict())\n",
    "\n",
    "# jonathan_firing_rate_analysis_result.neuron_replay_stats_df.to_clipboard()"
   ]
  },
  {
   "cell_type": "code",
   "execution_count": null,
   "id": "33ac6c8d",
   "metadata": {},
   "outputs": [],
   "source": [
    "jonathan_firing_rate_analysis_result.rdf.rdf"
   ]
  },
  {
   "cell_type": "code",
   "execution_count": null,
   "id": "bdc9c2e5",
   "metadata": {},
   "outputs": [],
   "source": [
    "jonathan_firing_rate_analysis_result.time_binned_instantaneous_unit_specific_spike_rate.time_bins #.shape"
   ]
  },
  {
   "cell_type": "code",
   "execution_count": null,
   "id": "785ca961",
   "metadata": {},
   "outputs": [],
   "source": [
    "\n",
    "%matplotlib qt\n",
    "instantaneous_fr_df = deepcopy(jonathan_firing_rate_analysis_result.time_binned_instantaneous_unit_specific_spike_rate.instantaneous_unit_specific_spike_rate_values)\n",
    "instantaneous_fr_df['t'] = jonathan_firing_rate_analysis_result.time_binned_instantaneous_unit_specific_spike_rate.time_bins\n",
    "instantaneous_fr_df #.plot()\n",
    "\n",
    "smoothed_instantaneous_fr_df = instantaneous_fr_df.ewm(span=60).mean()\n",
    "\n",
    "\n",
    "smoothed_instantaneous_fr_df.plot(x='t')\n",
    "plt.title(\"Instantaneous Firing Rates\")\n",
    "plt.xlabel('time')\n",
    "plt.ylabel('Firing Rate (Hz)')"
   ]
  },
  {
   "cell_type": "code",
   "execution_count": null,
   "id": "345b3cca",
   "metadata": {},
   "outputs": [],
   "source": [
    "instantaneous_fr_df.set_index('t').to_clipboard()"
   ]
  },
  {
   "cell_type": "code",
   "execution_count": null,
   "id": "c7ff9bb5",
   "metadata": {},
   "outputs": [],
   "source": [
    "## Require placefield presence on either the long or the short\n",
    "jonathan_firing_rate_analysis_result.neuron_replay_stats_df = jonathan_firing_rate_analysis_result.neuron_replay_stats_df[np.logical_or(jonathan_firing_rate_analysis_result.neuron_replay_stats_df['has_long_pf'], jonathan_firing_rate_analysis_result.neuron_replay_stats_df['has_short_pf'])]"
   ]
  },
  {
   "cell_type": "code",
   "execution_count": null,
   "id": "87851fff",
   "metadata": {},
   "outputs": [],
   "source": [
    "jonathan_firing_rate_analysis_result.neuron_replay_stats_df[np.logical_or(jonathan_firing_rate_analysis_result.neuron_replay_stats_df['has_long_pf'], jonathan_firing_rate_analysis_result.neuron_replay_stats_df['has_short_pf'])].index.to_numpy()"
   ]
  },
  {
   "attachments": {},
   "cell_type": "markdown",
   "id": "8de2e3da",
   "metadata": {},
   "source": [
    "# 2023-05-19 - Testing S-only emergence, L-only replays in S, peak position remappings "
   ]
  },
  {
   "cell_type": "code",
   "execution_count": 12,
   "id": "d082385f",
   "metadata": {},
   "outputs": [
    {
     "data": {
      "text/html": [
       "<div>\n",
       "<style scoped>\n",
       "    .dataframe tbody tr th:only-of-type {\n",
       "        vertical-align: middle;\n",
       "    }\n",
       "\n",
       "    .dataframe tbody tr th {\n",
       "        vertical-align: top;\n",
       "    }\n",
       "\n",
       "    .dataframe thead th {\n",
       "        text-align: right;\n",
       "    }\n",
       "</style>\n",
       "<table border=\"1\" class=\"dataframe\">\n",
       "  <thead>\n",
       "    <tr style=\"text-align: right;\">\n",
       "      <th></th>\n",
       "      <th>long_pf_peak_x</th>\n",
       "      <th>has_long_pf</th>\n",
       "      <th>short_pf_peak_x</th>\n",
       "      <th>has_short_pf</th>\n",
       "      <th>has_na</th>\n",
       "      <th>track_membership</th>\n",
       "      <th>long_non_replay_mean</th>\n",
       "      <th>short_non_replay_mean</th>\n",
       "      <th>non_replay_diff</th>\n",
       "      <th>long_replay_mean</th>\n",
       "      <th>short_replay_mean</th>\n",
       "      <th>replay_diff</th>\n",
       "      <th>long_mean</th>\n",
       "      <th>short_mean</th>\n",
       "      <th>mean_diff</th>\n",
       "      <th>neuron_IDX</th>\n",
       "      <th>num_replays</th>\n",
       "      <th>long_num_replays</th>\n",
       "      <th>short_num_replays</th>\n",
       "      <th>neuron_type</th>\n",
       "    </tr>\n",
       "  </thead>\n",
       "  <tbody>\n",
       "    <tr>\n",
       "      <th>2</th>\n",
       "      <td>45.539</td>\n",
       "      <td>True</td>\n",
       "      <td>21.539</td>\n",
       "      <td>True</td>\n",
       "      <td>False</td>\n",
       "      <td>SplitPartitionMembership.SHARED</td>\n",
       "      <td>2.111165</td>\n",
       "      <td>0.826043</td>\n",
       "      <td>-1.285122</td>\n",
       "      <td>9.419966</td>\n",
       "      <td>12.129732</td>\n",
       "      <td>2.709767</td>\n",
       "      <td>5.765565</td>\n",
       "      <td>6.477888</td>\n",
       "      <td>0.712322</td>\n",
       "      <td>0</td>\n",
       "      <td>39</td>\n",
       "      <td>21</td>\n",
       "      <td>18</td>\n",
       "      <td>NeuronType.PYRAMIDAL</td>\n",
       "    </tr>\n",
       "    <tr>\n",
       "      <th>3</th>\n",
       "      <td>21.539</td>\n",
       "      <td>True</td>\n",
       "      <td>53.539</td>\n",
       "      <td>True</td>\n",
       "      <td>False</td>\n",
       "      <td>SplitPartitionMembership.SHARED</td>\n",
       "      <td>0.709792</td>\n",
       "      <td>0.333481</td>\n",
       "      <td>-0.376310</td>\n",
       "      <td>7.915933</td>\n",
       "      <td>10.622657</td>\n",
       "      <td>2.706724</td>\n",
       "      <td>4.312862</td>\n",
       "      <td>5.478069</td>\n",
       "      <td>1.165207</td>\n",
       "      <td>1</td>\n",
       "      <td>36</td>\n",
       "      <td>28</td>\n",
       "      <td>8</td>\n",
       "      <td>NeuronType.PYRAMIDAL</td>\n",
       "    </tr>\n",
       "    <tr>\n",
       "      <th>4</th>\n",
       "      <td>21.539</td>\n",
       "      <td>True</td>\n",
       "      <td>25.539</td>\n",
       "      <td>True</td>\n",
       "      <td>False</td>\n",
       "      <td>SplitPartitionMembership.SHARED</td>\n",
       "      <td>0.372396</td>\n",
       "      <td>0.807778</td>\n",
       "      <td>0.435383</td>\n",
       "      <td>6.655968</td>\n",
       "      <td>11.029759</td>\n",
       "      <td>4.373791</td>\n",
       "      <td>3.514182</td>\n",
       "      <td>5.918769</td>\n",
       "      <td>2.404587</td>\n",
       "      <td>2</td>\n",
       "      <td>43</td>\n",
       "      <td>12</td>\n",
       "      <td>31</td>\n",
       "      <td>NeuronType.PYRAMIDAL</td>\n",
       "    </tr>\n",
       "    <tr>\n",
       "      <th>5</th>\n",
       "      <td>21.539</td>\n",
       "      <td>True</td>\n",
       "      <td>25.539</td>\n",
       "      <td>True</td>\n",
       "      <td>False</td>\n",
       "      <td>SplitPartitionMembership.SHARED</td>\n",
       "      <td>0.420996</td>\n",
       "      <td>0.399660</td>\n",
       "      <td>-0.021336</td>\n",
       "      <td>13.032412</td>\n",
       "      <td>11.500303</td>\n",
       "      <td>-1.532109</td>\n",
       "      <td>6.726704</td>\n",
       "      <td>5.949981</td>\n",
       "      <td>-0.776722</td>\n",
       "      <td>3</td>\n",
       "      <td>25</td>\n",
       "      <td>18</td>\n",
       "      <td>7</td>\n",
       "      <td>NeuronType.PYRAMIDAL</td>\n",
       "    </tr>\n",
       "    <tr>\n",
       "      <th>6</th>\n",
       "      <td>NaN</td>\n",
       "      <td>False</td>\n",
       "      <td>67.539</td>\n",
       "      <td>True</td>\n",
       "      <td>True</td>\n",
       "      <td>SplitPartitionMembership.RIGHT_ONLY</td>\n",
       "      <td>0.967555</td>\n",
       "      <td>0.801983</td>\n",
       "      <td>-0.165572</td>\n",
       "      <td>9.153765</td>\n",
       "      <td>12.468529</td>\n",
       "      <td>3.314764</td>\n",
       "      <td>5.060660</td>\n",
       "      <td>6.635256</td>\n",
       "      <td>1.574596</td>\n",
       "      <td>4</td>\n",
       "      <td>24</td>\n",
       "      <td>9</td>\n",
       "      <td>15</td>\n",
       "      <td>NeuronType.PYRAMIDAL</td>\n",
       "    </tr>\n",
       "    <tr>\n",
       "      <th>...</th>\n",
       "      <td>...</td>\n",
       "      <td>...</td>\n",
       "      <td>...</td>\n",
       "      <td>...</td>\n",
       "      <td>...</td>\n",
       "      <td>...</td>\n",
       "      <td>...</td>\n",
       "      <td>...</td>\n",
       "      <td>...</td>\n",
       "      <td>...</td>\n",
       "      <td>...</td>\n",
       "      <td>...</td>\n",
       "      <td>...</td>\n",
       "      <td>...</td>\n",
       "      <td>...</td>\n",
       "      <td>...</td>\n",
       "      <td>...</td>\n",
       "      <td>...</td>\n",
       "      <td>...</td>\n",
       "      <td>...</td>\n",
       "    </tr>\n",
       "    <tr>\n",
       "      <th>100</th>\n",
       "      <td>31.539</td>\n",
       "      <td>True</td>\n",
       "      <td>NaN</td>\n",
       "      <td>False</td>\n",
       "      <td>True</td>\n",
       "      <td>SplitPartitionMembership.LEFT_ONLY</td>\n",
       "      <td>0.482039</td>\n",
       "      <td>0.751379</td>\n",
       "      <td>0.269340</td>\n",
       "      <td>12.922660</td>\n",
       "      <td>12.127507</td>\n",
       "      <td>-0.795153</td>\n",
       "      <td>6.702349</td>\n",
       "      <td>6.439443</td>\n",
       "      <td>-0.262906</td>\n",
       "      <td>98</td>\n",
       "      <td>39</td>\n",
       "      <td>23</td>\n",
       "      <td>16</td>\n",
       "      <td>NeuronType.PYRAMIDAL</td>\n",
       "    </tr>\n",
       "    <tr>\n",
       "      <th>101</th>\n",
       "      <td>99.539</td>\n",
       "      <td>True</td>\n",
       "      <td>45.539</td>\n",
       "      <td>True</td>\n",
       "      <td>False</td>\n",
       "      <td>SplitPartitionMembership.SHARED</td>\n",
       "      <td>2.475606</td>\n",
       "      <td>1.173262</td>\n",
       "      <td>-1.302344</td>\n",
       "      <td>10.338524</td>\n",
       "      <td>8.004560</td>\n",
       "      <td>-2.333965</td>\n",
       "      <td>6.407065</td>\n",
       "      <td>4.588911</td>\n",
       "      <td>-1.818154</td>\n",
       "      <td>99</td>\n",
       "      <td>45</td>\n",
       "      <td>30</td>\n",
       "      <td>15</td>\n",
       "      <td>NeuronType.PYRAMIDAL</td>\n",
       "    </tr>\n",
       "    <tr>\n",
       "      <th>102</th>\n",
       "      <td>NaN</td>\n",
       "      <td>False</td>\n",
       "      <td>NaN</td>\n",
       "      <td>False</td>\n",
       "      <td>True</td>\n",
       "      <td>SplitPartitionMembership.SHARED</td>\n",
       "      <td>1.734430</td>\n",
       "      <td>2.431680</td>\n",
       "      <td>0.697250</td>\n",
       "      <td>22.092323</td>\n",
       "      <td>23.284896</td>\n",
       "      <td>1.192573</td>\n",
       "      <td>11.913377</td>\n",
       "      <td>12.858288</td>\n",
       "      <td>0.944912</td>\n",
       "      <td>100</td>\n",
       "      <td>99</td>\n",
       "      <td>60</td>\n",
       "      <td>39</td>\n",
       "      <td>NeuronType.INTERNEURONS</td>\n",
       "    </tr>\n",
       "    <tr>\n",
       "      <th>103</th>\n",
       "      <td>91.539</td>\n",
       "      <td>True</td>\n",
       "      <td>75.539</td>\n",
       "      <td>True</td>\n",
       "      <td>False</td>\n",
       "      <td>SplitPartitionMembership.SHARED</td>\n",
       "      <td>0.721834</td>\n",
       "      <td>0.366788</td>\n",
       "      <td>-0.355046</td>\n",
       "      <td>10.231135</td>\n",
       "      <td>8.539997</td>\n",
       "      <td>-1.691138</td>\n",
       "      <td>5.476485</td>\n",
       "      <td>4.453393</td>\n",
       "      <td>-1.023092</td>\n",
       "      <td>101</td>\n",
       "      <td>48</td>\n",
       "      <td>31</td>\n",
       "      <td>17</td>\n",
       "      <td>NeuronType.PYRAMIDAL</td>\n",
       "    </tr>\n",
       "    <tr>\n",
       "      <th>104</th>\n",
       "      <td>21.539</td>\n",
       "      <td>True</td>\n",
       "      <td>73.539</td>\n",
       "      <td>True</td>\n",
       "      <td>False</td>\n",
       "      <td>SplitPartitionMembership.SHARED</td>\n",
       "      <td>2.758045</td>\n",
       "      <td>2.368544</td>\n",
       "      <td>-0.389501</td>\n",
       "      <td>10.421393</td>\n",
       "      <td>13.747521</td>\n",
       "      <td>3.326128</td>\n",
       "      <td>6.589719</td>\n",
       "      <td>8.058033</td>\n",
       "      <td>1.468314</td>\n",
       "      <td>102</td>\n",
       "      <td>105</td>\n",
       "      <td>61</td>\n",
       "      <td>44</td>\n",
       "      <td>NeuronType.PYRAMIDAL</td>\n",
       "    </tr>\n",
       "  </tbody>\n",
       "</table>\n",
       "<p>103 rows × 20 columns</p>\n",
       "</div>"
      ],
      "text/plain": [
       "     long_pf_peak_x  has_long_pf  short_pf_peak_x  has_short_pf  has_na  \\\n",
       "2            45.539         True           21.539          True   False   \n",
       "3            21.539         True           53.539          True   False   \n",
       "4            21.539         True           25.539          True   False   \n",
       "5            21.539         True           25.539          True   False   \n",
       "6               NaN        False           67.539          True    True   \n",
       "..              ...          ...              ...           ...     ...   \n",
       "100          31.539         True              NaN         False    True   \n",
       "101          99.539         True           45.539          True   False   \n",
       "102             NaN        False              NaN         False    True   \n",
       "103          91.539         True           75.539          True   False   \n",
       "104          21.539         True           73.539          True   False   \n",
       "\n",
       "                        track_membership  long_non_replay_mean  \\\n",
       "2        SplitPartitionMembership.SHARED              2.111165   \n",
       "3        SplitPartitionMembership.SHARED              0.709792   \n",
       "4        SplitPartitionMembership.SHARED              0.372396   \n",
       "5        SplitPartitionMembership.SHARED              0.420996   \n",
       "6    SplitPartitionMembership.RIGHT_ONLY              0.967555   \n",
       "..                                   ...                   ...   \n",
       "100   SplitPartitionMembership.LEFT_ONLY              0.482039   \n",
       "101      SplitPartitionMembership.SHARED              2.475606   \n",
       "102      SplitPartitionMembership.SHARED              1.734430   \n",
       "103      SplitPartitionMembership.SHARED              0.721834   \n",
       "104      SplitPartitionMembership.SHARED              2.758045   \n",
       "\n",
       "     short_non_replay_mean  non_replay_diff  long_replay_mean  \\\n",
       "2                 0.826043        -1.285122          9.419966   \n",
       "3                 0.333481        -0.376310          7.915933   \n",
       "4                 0.807778         0.435383          6.655968   \n",
       "5                 0.399660        -0.021336         13.032412   \n",
       "6                 0.801983        -0.165572          9.153765   \n",
       "..                     ...              ...               ...   \n",
       "100               0.751379         0.269340         12.922660   \n",
       "101               1.173262        -1.302344         10.338524   \n",
       "102               2.431680         0.697250         22.092323   \n",
       "103               0.366788        -0.355046         10.231135   \n",
       "104               2.368544        -0.389501         10.421393   \n",
       "\n",
       "     short_replay_mean  replay_diff  long_mean  short_mean  mean_diff  \\\n",
       "2            12.129732     2.709767   5.765565    6.477888   0.712322   \n",
       "3            10.622657     2.706724   4.312862    5.478069   1.165207   \n",
       "4            11.029759     4.373791   3.514182    5.918769   2.404587   \n",
       "5            11.500303    -1.532109   6.726704    5.949981  -0.776722   \n",
       "6            12.468529     3.314764   5.060660    6.635256   1.574596   \n",
       "..                 ...          ...        ...         ...        ...   \n",
       "100          12.127507    -0.795153   6.702349    6.439443  -0.262906   \n",
       "101           8.004560    -2.333965   6.407065    4.588911  -1.818154   \n",
       "102          23.284896     1.192573  11.913377   12.858288   0.944912   \n",
       "103           8.539997    -1.691138   5.476485    4.453393  -1.023092   \n",
       "104          13.747521     3.326128   6.589719    8.058033   1.468314   \n",
       "\n",
       "     neuron_IDX  num_replays  long_num_replays  short_num_replays  \\\n",
       "2             0           39                21                 18   \n",
       "3             1           36                28                  8   \n",
       "4             2           43                12                 31   \n",
       "5             3           25                18                  7   \n",
       "6             4           24                 9                 15   \n",
       "..          ...          ...               ...                ...   \n",
       "100          98           39                23                 16   \n",
       "101          99           45                30                 15   \n",
       "102         100           99                60                 39   \n",
       "103         101           48                31                 17   \n",
       "104         102          105                61                 44   \n",
       "\n",
       "                 neuron_type  \n",
       "2       NeuronType.PYRAMIDAL  \n",
       "3       NeuronType.PYRAMIDAL  \n",
       "4       NeuronType.PYRAMIDAL  \n",
       "5       NeuronType.PYRAMIDAL  \n",
       "6       NeuronType.PYRAMIDAL  \n",
       "..                       ...  \n",
       "100     NeuronType.PYRAMIDAL  \n",
       "101     NeuronType.PYRAMIDAL  \n",
       "102  NeuronType.INTERNEURONS  \n",
       "103     NeuronType.PYRAMIDAL  \n",
       "104     NeuronType.PYRAMIDAL  \n",
       "\n",
       "[103 rows x 20 columns]"
      ]
     },
     "execution_count": 12,
     "metadata": {},
     "output_type": "execute_result"
    }
   ],
   "source": [
    "from pyphoplacecellanalysis.General.Pipeline.Stages.ComputationFunctions.MultiContextComputationFunctions.LongShortTrackComputations import JonathanFiringRateAnalysisResult\n",
    "\n",
    "jonathan_firing_rate_analysis_result = JonathanFiringRateAnalysisResult(**curr_active_pipeline.global_computation_results.computed_data.jonathan_firing_rate_analysis.to_dict())\n",
    "neuron_replay_stats_df = jonathan_firing_rate_analysis_result.neuron_replay_stats_df.copy()\n",
    "neuron_replay_stats_df"
   ]
  },
  {
   "cell_type": "code",
   "execution_count": 13,
   "id": "d23e5131",
   "metadata": {},
   "outputs": [
    {
     "data": {
      "text/html": [
       "<div>\n",
       "<style scoped>\n",
       "    .dataframe tbody tr th:only-of-type {\n",
       "        vertical-align: middle;\n",
       "    }\n",
       "\n",
       "    .dataframe tbody tr th {\n",
       "        vertical-align: top;\n",
       "    }\n",
       "\n",
       "    .dataframe thead th {\n",
       "        text-align: right;\n",
       "    }\n",
       "</style>\n",
       "<table border=\"1\" class=\"dataframe\">\n",
       "  <thead>\n",
       "    <tr style=\"text-align: right;\">\n",
       "      <th></th>\n",
       "      <th>long_pf_peak_x</th>\n",
       "      <th>has_long_pf</th>\n",
       "      <th>short_pf_peak_x</th>\n",
       "      <th>has_short_pf</th>\n",
       "      <th>has_na</th>\n",
       "      <th>track_membership</th>\n",
       "      <th>long_non_replay_mean</th>\n",
       "      <th>short_non_replay_mean</th>\n",
       "      <th>non_replay_diff</th>\n",
       "      <th>long_replay_mean</th>\n",
       "      <th>short_replay_mean</th>\n",
       "      <th>replay_diff</th>\n",
       "      <th>long_mean</th>\n",
       "      <th>short_mean</th>\n",
       "      <th>mean_diff</th>\n",
       "      <th>neuron_IDX</th>\n",
       "      <th>num_replays</th>\n",
       "      <th>long_num_replays</th>\n",
       "      <th>short_num_replays</th>\n",
       "      <th>neuron_type</th>\n",
       "    </tr>\n",
       "  </thead>\n",
       "  <tbody>\n",
       "    <tr>\n",
       "      <th>6</th>\n",
       "      <td>NaN</td>\n",
       "      <td>False</td>\n",
       "      <td>67.539</td>\n",
       "      <td>True</td>\n",
       "      <td>True</td>\n",
       "      <td>SplitPartitionMembership.RIGHT_ONLY</td>\n",
       "      <td>0.967555</td>\n",
       "      <td>0.801983</td>\n",
       "      <td>-0.165572</td>\n",
       "      <td>9.153765</td>\n",
       "      <td>12.468529</td>\n",
       "      <td>3.314764</td>\n",
       "      <td>5.060660</td>\n",
       "      <td>6.635256</td>\n",
       "      <td>1.574596</td>\n",
       "      <td>4</td>\n",
       "      <td>24</td>\n",
       "      <td>9</td>\n",
       "      <td>15</td>\n",
       "      <td>NeuronType.PYRAMIDAL</td>\n",
       "    </tr>\n",
       "    <tr>\n",
       "      <th>57</th>\n",
       "      <td>NaN</td>\n",
       "      <td>False</td>\n",
       "      <td>21.539</td>\n",
       "      <td>True</td>\n",
       "      <td>True</td>\n",
       "      <td>SplitPartitionMembership.RIGHT_ONLY</td>\n",
       "      <td>1.527926</td>\n",
       "      <td>1.689177</td>\n",
       "      <td>0.161251</td>\n",
       "      <td>13.696831</td>\n",
       "      <td>17.005049</td>\n",
       "      <td>3.308218</td>\n",
       "      <td>7.612378</td>\n",
       "      <td>9.347113</td>\n",
       "      <td>1.734735</td>\n",
       "      <td>55</td>\n",
       "      <td>37</td>\n",
       "      <td>19</td>\n",
       "      <td>18</td>\n",
       "      <td>NeuronType.PYRAMIDAL</td>\n",
       "    </tr>\n",
       "  </tbody>\n",
       "</table>\n",
       "</div>"
      ],
      "text/plain": [
       "    long_pf_peak_x  has_long_pf  short_pf_peak_x  has_short_pf  has_na  \\\n",
       "6              NaN        False           67.539          True    True   \n",
       "57             NaN        False           21.539          True    True   \n",
       "\n",
       "                       track_membership  long_non_replay_mean  \\\n",
       "6   SplitPartitionMembership.RIGHT_ONLY              0.967555   \n",
       "57  SplitPartitionMembership.RIGHT_ONLY              1.527926   \n",
       "\n",
       "    short_non_replay_mean  non_replay_diff  long_replay_mean  \\\n",
       "6                0.801983        -0.165572          9.153765   \n",
       "57               1.689177         0.161251         13.696831   \n",
       "\n",
       "    short_replay_mean  replay_diff  long_mean  short_mean  mean_diff  \\\n",
       "6           12.468529     3.314764   5.060660    6.635256   1.574596   \n",
       "57          17.005049     3.308218   7.612378    9.347113   1.734735   \n",
       "\n",
       "    neuron_IDX  num_replays  long_num_replays  short_num_replays  \\\n",
       "6            4           24                 9                 15   \n",
       "57          55           37                19                 18   \n",
       "\n",
       "             neuron_type  \n",
       "6   NeuronType.PYRAMIDAL  \n",
       "57  NeuronType.PYRAMIDAL  "
      ]
     },
     "execution_count": 13,
     "metadata": {},
     "output_type": "execute_result"
    }
   ],
   "source": [
    "\n",
    "from pyphoplacecellanalysis.General.Mixins.CrossComputationComparisonHelpers import SplitPartitionMembership, SetPartition\n",
    "## 2023-05-19 - Get S-only pfs\n",
    "is_S_pf_only = np.logical_and(np.logical_not(neuron_replay_stats_df['has_long_pf']), neuron_replay_stats_df['has_short_pf'])\n",
    "is_S_only = neuron_replay_stats_df.track_membership == SplitPartitionMembership.RIGHT_ONLY\n",
    "assert (is_S_pf_only == is_S_only).all()\n",
    "S_only_aclus = neuron_replay_stats_df.index[is_S_only].to_numpy()\n",
    "neuron_replay_stats_df[is_S_pf_only]\n"
   ]
  },
  {
   "cell_type": "code",
   "execution_count": 14,
   "id": "3bc5b2a5",
   "metadata": {},
   "outputs": [
    {
     "data": {
      "text/html": [
       "<div>\n",
       "<style scoped>\n",
       "    .dataframe tbody tr th:only-of-type {\n",
       "        vertical-align: middle;\n",
       "    }\n",
       "\n",
       "    .dataframe tbody tr th {\n",
       "        vertical-align: top;\n",
       "    }\n",
       "\n",
       "    .dataframe thead th {\n",
       "        text-align: right;\n",
       "    }\n",
       "</style>\n",
       "<table border=\"1\" class=\"dataframe\">\n",
       "  <thead>\n",
       "    <tr style=\"text-align: right;\">\n",
       "      <th></th>\n",
       "      <th>long_pf_peak_x</th>\n",
       "      <th>has_long_pf</th>\n",
       "      <th>short_pf_peak_x</th>\n",
       "      <th>has_short_pf</th>\n",
       "      <th>has_na</th>\n",
       "      <th>track_membership</th>\n",
       "      <th>long_non_replay_mean</th>\n",
       "      <th>short_non_replay_mean</th>\n",
       "      <th>non_replay_diff</th>\n",
       "      <th>long_replay_mean</th>\n",
       "      <th>short_replay_mean</th>\n",
       "      <th>replay_diff</th>\n",
       "      <th>long_mean</th>\n",
       "      <th>short_mean</th>\n",
       "      <th>mean_diff</th>\n",
       "      <th>neuron_IDX</th>\n",
       "      <th>num_replays</th>\n",
       "      <th>long_num_replays</th>\n",
       "      <th>short_num_replays</th>\n",
       "      <th>neuron_type</th>\n",
       "    </tr>\n",
       "  </thead>\n",
       "  <tbody>\n",
       "    <tr>\n",
       "      <th>26</th>\n",
       "      <td>21.539</td>\n",
       "      <td>True</td>\n",
       "      <td>NaN</td>\n",
       "      <td>False</td>\n",
       "      <td>True</td>\n",
       "      <td>SplitPartitionMembership.LEFT_ONLY</td>\n",
       "      <td>6.823766</td>\n",
       "      <td>4.128664</td>\n",
       "      <td>-2.695101</td>\n",
       "      <td>28.198629</td>\n",
       "      <td>18.940918</td>\n",
       "      <td>-9.257710</td>\n",
       "      <td>17.511197</td>\n",
       "      <td>11.534791</td>\n",
       "      <td>-5.976406</td>\n",
       "      <td>24</td>\n",
       "      <td>85</td>\n",
       "      <td>54</td>\n",
       "      <td>31</td>\n",
       "      <td>NeuronType.PYRAMIDAL</td>\n",
       "    </tr>\n",
       "    <tr>\n",
       "      <th>100</th>\n",
       "      <td>31.539</td>\n",
       "      <td>True</td>\n",
       "      <td>NaN</td>\n",
       "      <td>False</td>\n",
       "      <td>True</td>\n",
       "      <td>SplitPartitionMembership.LEFT_ONLY</td>\n",
       "      <td>0.482039</td>\n",
       "      <td>0.751379</td>\n",
       "      <td>0.269340</td>\n",
       "      <td>12.922660</td>\n",
       "      <td>12.127507</td>\n",
       "      <td>-0.795153</td>\n",
       "      <td>6.702349</td>\n",
       "      <td>6.439443</td>\n",
       "      <td>-0.262906</td>\n",
       "      <td>98</td>\n",
       "      <td>39</td>\n",
       "      <td>23</td>\n",
       "      <td>16</td>\n",
       "      <td>NeuronType.PYRAMIDAL</td>\n",
       "    </tr>\n",
       "  </tbody>\n",
       "</table>\n",
       "</div>"
      ],
      "text/plain": [
       "     long_pf_peak_x  has_long_pf  short_pf_peak_x  has_short_pf  has_na  \\\n",
       "26           21.539         True              NaN         False    True   \n",
       "100          31.539         True              NaN         False    True   \n",
       "\n",
       "                       track_membership  long_non_replay_mean  \\\n",
       "26   SplitPartitionMembership.LEFT_ONLY              6.823766   \n",
       "100  SplitPartitionMembership.LEFT_ONLY              0.482039   \n",
       "\n",
       "     short_non_replay_mean  non_replay_diff  long_replay_mean  \\\n",
       "26                4.128664        -2.695101         28.198629   \n",
       "100               0.751379         0.269340         12.922660   \n",
       "\n",
       "     short_replay_mean  replay_diff  long_mean  short_mean  mean_diff  \\\n",
       "26           18.940918    -9.257710  17.511197   11.534791  -5.976406   \n",
       "100          12.127507    -0.795153   6.702349    6.439443  -0.262906   \n",
       "\n",
       "     neuron_IDX  num_replays  long_num_replays  short_num_replays  \\\n",
       "26           24           85                54                 31   \n",
       "100          98           39                23                 16   \n",
       "\n",
       "              neuron_type  \n",
       "26   NeuronType.PYRAMIDAL  \n",
       "100  NeuronType.PYRAMIDAL  "
      ]
     },
     "execution_count": 14,
     "metadata": {},
     "output_type": "execute_result"
    }
   ],
   "source": [
    "\n",
    "## Show L-only pfs stop replaying on S\n",
    "is_L_pf_only = np.logical_and(np.logical_not(neuron_replay_stats_df['has_short_pf']), neuron_replay_stats_df['has_long_pf'])\n",
    "is_L_only = neuron_replay_stats_df.track_membership == SplitPartitionMembership.LEFT_ONLY\n",
    "assert (is_L_pf_only == is_L_only).all()\n",
    "L_only_aclus = neuron_replay_stats_df.index[is_L_only].to_numpy()\n",
    "neuron_replay_stats_df[is_L_only]\n",
    "\n",
    "\n",
    "## For ('kdiba', 'gor01', 'one', '2006-6-09_1-22-43') - Have L-only cells [24, 98] that have ['short_num_replays'] = [8, 7]. We were hoping that there would be few to no replays on the S-track that involved L-only cells."
   ]
  },
  {
   "cell_type": "code",
   "execution_count": null,
   "id": "5b3bdd19",
   "metadata": {},
   "outputs": [],
   "source": [
    "curr_context"
   ]
  },
  {
   "cell_type": "code",
   "execution_count": null,
   "id": "4d8566f2",
   "metadata": {},
   "outputs": [],
   "source": [
    "jonathan_firing_rate_analysis_result.neuron_replay_stats_df.to_clipboard()"
   ]
  },
  {
   "cell_type": "code",
   "execution_count": 16,
   "id": "10cdb9f2",
   "metadata": {},
   "outputs": [
    {
     "name": "stdout",
     "output_type": "stream",
     "text": [
      "Evening sorted values: [  3.67612648   5.50890168   5.70161534   6.65596805   6.94224636\n",
      "   7.91593304   8.0424354    8.29490639   8.73258871   8.76331448\n",
      "   8.93666419   9.00233196   9.02779616   9.0713879    9.0772763\n",
      "   9.15376463   9.28891887   9.41996556   9.55527136   9.96681927\n",
      "  10.11616074  10.18051429  10.19442822  10.23113537  10.26707005\n",
      "  10.28537092  10.33852445  10.4126913   10.42139339  10.56313577\n",
      "  10.76918668  10.83400915  10.96731044  11.01026136  11.2720626\n",
      "  11.31995002  11.34259373  11.70252825  12.04643481  12.19902828\n",
      "  12.20904067  12.4513087   12.52803271  12.5471436   12.87392065\n",
      "  12.92265972  12.95908041  13.03241157  13.09906134  13.15708204\n",
      "  13.17252147  13.30646807  13.34994272  13.57143078  13.61587631\n",
      "  13.69683091  13.99538999  14.09430377  14.12421604  14.25217512\n",
      "  14.30622266  14.39450192  14.6466851   14.90821315  15.01550158\n",
      "  15.18496363  15.27947861  15.44732592  15.592008    15.63948497\n",
      "  15.8327383   15.91722499  16.2212395   16.27864374  16.43505824\n",
      "  16.49413731  16.77937594  16.81077992  16.83993806  17.10704457\n",
      "  17.6646538   17.92470507  19.37443371  19.78576399  19.97734327\n",
      "  19.99304545  20.38927324  20.94945553  22.09232293  22.14340483\n",
      "  23.204076    28.19862862  28.81078782  32.19336399  54.85493203\n",
      "  55.27100131  57.92100408  60.11156669  60.44897691  62.46207324\n",
      "  66.30380476  79.14151229 129.67460407]\n",
      "Morning sorted values: [ 4.21604714  5.2076726   6.26019777  6.91827107  8.00455976  8.03139444\n",
      "  8.52285367  8.5399975   8.6573514   8.71901041  8.76248818  8.87944236\n",
      "  8.88813006  8.90002761  9.00684009  9.18046954  9.24223845  9.64739727\n",
      "  9.65837571  9.66511283  9.92695729 10.13679638 10.2616652  10.27771144\n",
      " 10.27815525 10.62265671 10.79240615 10.86225101 10.8773242  10.8783798\n",
      " 10.92387133 11.02975892 11.09972029 11.16683544 11.3240071  11.35439671\n",
      " 11.45396797 11.50030287 11.97270529 11.97944362 11.99931689 12.12750704\n",
      " 12.12973207 12.17057718 12.24538122 12.299629   12.32525243 12.33116544\n",
      " 12.46852894 12.77788392 13.02187866 13.06127252 13.19090399 13.31372508\n",
      " 13.49700499 13.52608072 13.64186233 13.74752105 13.75233566 14.01691715\n",
      " 14.57704916 14.6591801  14.67667594 15.00548062 15.01491122 15.12914973\n",
      " 15.29095241 15.40463625 15.44480963 15.56094066 15.59561916 15.84879702\n",
      " 15.86320403 15.91238363 16.06814593 16.65245913 17.0050487  17.18158702\n",
      " 18.04296038 18.09987527 18.12347938 18.13879036 18.23022298 18.35496278\n",
      " 18.9409183  19.54981382 19.86298251 20.02452422 20.7092797  20.71540018\n",
      " 21.53667964 23.2848958  23.63003984 30.11210998 48.28028178 55.82443595\n",
      " 55.9634457  60.66520194 62.69379055 65.24811112 66.67690561 73.97652043\n",
      " 79.84560749]\n",
      "Difference sorted values: [ 1.22362571e+01  9.32716663e+00  9.29355879e+00  9.05721378e+00\n",
      "  7.91936098e+00  7.67271567e+00  7.28947023e+00  6.56533892e+00\n",
      "  6.47054194e+00  6.46896185e+00  6.28214277e+00  5.90952442e+00\n",
      "  4.77278647e+00  4.53431225e+00  4.37379087e+00  4.25719360e+00\n",
      "  3.94173364e+00  3.64174301e+00  3.48206673e+00  3.35820144e+00\n",
      "  3.32612767e+00  3.31476431e+00  3.30821779e+00  3.03658283e+00\n",
      "  2.74207430e+00  2.72286647e+00  2.70976651e+00  2.70672367e+00\n",
      "  2.46015182e+00  2.31438890e+00  1.90641928e+00  1.87604784e+00\n",
      "  1.84831026e+00  1.54556655e+00  1.54363419e+00  1.46663689e+00\n",
      "  1.30132216e+00  1.20302233e+00  1.19257287e+00  9.29636190e-01\n",
      "  8.55569397e-01  8.25586882e-01  5.53434644e-01  6.72369789e-02\n",
      "  3.04657295e-02 -1.47198379e-01 -1.50642814e-01 -2.75894924e-01\n",
      " -3.96078689e-01 -4.00788811e-01 -4.32414698e-01 -6.02802671e-01\n",
      " -6.83024579e-01 -7.95152675e-01 -9.61982897e-01 -1.02483160e+00\n",
      " -1.10490138e+00 -1.14410583e+00 -1.24495014e+00 -1.30715118e+00\n",
      " -1.53210870e+00 -1.59872550e+00 -1.69113788e+00 -1.76234658e+00\n",
      " -1.79687131e+00 -1.80268533e+00 -1.86880118e+00 -1.87123855e+00\n",
      " -1.90578437e+00 -1.99762265e+00 -2.08476630e+00 -2.25048288e+00\n",
      " -2.33396469e+00 -2.49479630e+00 -2.67024807e+00 -2.81707853e+00\n",
      " -3.08533968e+00 -3.13313898e+00 -3.22652338e+00 -3.29478164e+00\n",
      " -3.30070470e+00 -3.55128108e+00 -3.58420604e+00 -3.66770123e+00\n",
      " -3.68618700e+00 -3.80902230e+00 -4.16297188e+00 -4.39862434e+00\n",
      " -4.45412351e+00 -4.48553121e+00 -4.58745454e+00 -5.63951355e+00\n",
      " -5.82030580e+00 -6.07525889e+00 -6.57465025e+00 -8.49710951e+00\n",
      " -8.56332415e+00 -9.25771032e+00 -1.07463827e+01 -1.18993720e+01\n",
      " -1.38934012e+01 -1.57612961e+01 -4.98289966e+01]\n",
      "Backend Qt5Agg is interactive backend. Turning interactive mode on.\n"
     ]
    },
    {
     "ename": "TypeError",
     "evalue": "Index(...) must be called with a collection of some kind, 'evening' was passed",
     "output_type": "error",
     "traceback": [
      "\u001b[1;31m---------------------------------------------------------------------------\u001b[0m",
      "\u001b[1;31mTypeError\u001b[0m                                 Traceback (most recent call last)",
      "Cell \u001b[1;32mIn[16], line 4\u001b[0m\n\u001b[0;32m      1\u001b[0m \u001b[39mfrom\u001b[39;00m \u001b[39mpyphoplacecellanalysis\u001b[39;00m\u001b[39m.\u001b[39;00m\u001b[39mGeneral\u001b[39;00m\u001b[39m.\u001b[39;00m\u001b[39mPipeline\u001b[39;00m\u001b[39m.\u001b[39;00m\u001b[39mStages\u001b[39;00m\u001b[39m.\u001b[39;00m\u001b[39mComputationFunctions\u001b[39;00m\u001b[39m.\u001b[39;00m\u001b[39mMultiContextComputationFunctions\u001b[39;00m\u001b[39m.\u001b[39;00m\u001b[39mLongShortTrackComputations\u001b[39;00m \u001b[39mimport\u001b[39;00m compute_evening_morning_parition\n\u001b[0;32m      3\u001b[0m difference_sorted_aclus, evening_sorted_aclus, morning_sorted_aclus \u001b[39m=\u001b[39m compute_evening_morning_parition(neuron_replay_stats_df, debug_print\u001b[39m=\u001b[39m\u001b[39mTrue\u001b[39;00m)\n\u001b[1;32m----> 4\u001b[0m sorted_neuron_replay_stats_df \u001b[39m=\u001b[39m neuron_replay_stats_df\u001b[39m.\u001b[39;49mreindex(difference_sorted_aclus)\u001b[39m.\u001b[39mcopy() \u001b[39m# This seems to work to re-sort the dataframe by the sort indicies\u001b[39;00m\n\u001b[0;32m      5\u001b[0m sorted_neuron_replay_stats_df\n",
      "File \u001b[1;32mc:\\Users\\pho\\AppData\\Local\\pypoetry\\Cache\\virtualenvs\\spike3d-WtdfU5rp-py3.9\\lib\\site-packages\\pandas\\util\\_decorators.py:347\u001b[0m, in \u001b[0;36mrewrite_axis_style_signature.<locals>.decorate.<locals>.wrapper\u001b[1;34m(*args, **kwargs)\u001b[0m\n\u001b[0;32m    345\u001b[0m \u001b[39m@wraps\u001b[39m(func)\n\u001b[0;32m    346\u001b[0m \u001b[39mdef\u001b[39;00m \u001b[39mwrapper\u001b[39m(\u001b[39m*\u001b[39margs, \u001b[39m*\u001b[39m\u001b[39m*\u001b[39mkwargs) \u001b[39m-\u001b[39m\u001b[39m>\u001b[39m Callable[\u001b[39m.\u001b[39m\u001b[39m.\u001b[39m\u001b[39m.\u001b[39m, Any]:\n\u001b[1;32m--> 347\u001b[0m     \u001b[39mreturn\u001b[39;00m func(\u001b[39m*\u001b[39margs, \u001b[39m*\u001b[39m\u001b[39m*\u001b[39mkwargs)\n",
      "File \u001b[1;32mc:\\Users\\pho\\AppData\\Local\\pypoetry\\Cache\\virtualenvs\\spike3d-WtdfU5rp-py3.9\\lib\\site-packages\\pandas\\core\\frame.py:5205\u001b[0m, in \u001b[0;36mDataFrame.reindex\u001b[1;34m(self, *args, **kwargs)\u001b[0m\n\u001b[0;32m   5203\u001b[0m kwargs\u001b[39m.\u001b[39mpop(\u001b[39m\"\u001b[39m\u001b[39maxis\u001b[39m\u001b[39m\"\u001b[39m, \u001b[39mNone\u001b[39;00m)\n\u001b[0;32m   5204\u001b[0m kwargs\u001b[39m.\u001b[39mpop(\u001b[39m\"\u001b[39m\u001b[39mlabels\u001b[39m\u001b[39m\"\u001b[39m, \u001b[39mNone\u001b[39;00m)\n\u001b[1;32m-> 5205\u001b[0m \u001b[39mreturn\u001b[39;00m \u001b[39msuper\u001b[39m()\u001b[39m.\u001b[39mreindex(\u001b[39m*\u001b[39m\u001b[39m*\u001b[39mkwargs)\n",
      "File \u001b[1;32mc:\\Users\\pho\\AppData\\Local\\pypoetry\\Cache\\virtualenvs\\spike3d-WtdfU5rp-py3.9\\lib\\site-packages\\pandas\\core\\generic.py:5289\u001b[0m, in \u001b[0;36mNDFrame.reindex\u001b[1;34m(self, *args, **kwargs)\u001b[0m\n\u001b[0;32m   5286\u001b[0m     \u001b[39mreturn\u001b[39;00m \u001b[39mself\u001b[39m\u001b[39m.\u001b[39m_reindex_multi(axes, copy, fill_value)\n\u001b[0;32m   5288\u001b[0m \u001b[39m# perform the reindex on the axes\u001b[39;00m\n\u001b[1;32m-> 5289\u001b[0m \u001b[39mreturn\u001b[39;00m \u001b[39mself\u001b[39;49m\u001b[39m.\u001b[39;49m_reindex_axes(\n\u001b[0;32m   5290\u001b[0m     axes, level, limit, tolerance, method, fill_value, copy\n\u001b[0;32m   5291\u001b[0m )\u001b[39m.\u001b[39m__finalize__(\u001b[39mself\u001b[39m, method\u001b[39m=\u001b[39m\u001b[39m\"\u001b[39m\u001b[39mreindex\u001b[39m\u001b[39m\"\u001b[39m)\n",
      "File \u001b[1;32mc:\\Users\\pho\\AppData\\Local\\pypoetry\\Cache\\virtualenvs\\spike3d-WtdfU5rp-py3.9\\lib\\site-packages\\pandas\\core\\frame.py:5004\u001b[0m, in \u001b[0;36mDataFrame._reindex_axes\u001b[1;34m(self, axes, level, limit, tolerance, method, fill_value, copy)\u001b[0m\n\u001b[0;32m   5002\u001b[0m index \u001b[39m=\u001b[39m axes[\u001b[39m\"\u001b[39m\u001b[39mindex\u001b[39m\u001b[39m\"\u001b[39m]\n\u001b[0;32m   5003\u001b[0m \u001b[39mif\u001b[39;00m index \u001b[39mis\u001b[39;00m \u001b[39mnot\u001b[39;00m \u001b[39mNone\u001b[39;00m:\n\u001b[1;32m-> 5004\u001b[0m     frame \u001b[39m=\u001b[39m frame\u001b[39m.\u001b[39;49m_reindex_index(\n\u001b[0;32m   5005\u001b[0m         index, method, copy, level, fill_value, limit, tolerance\n\u001b[0;32m   5006\u001b[0m     )\n\u001b[0;32m   5008\u001b[0m \u001b[39mreturn\u001b[39;00m frame\n",
      "File \u001b[1;32mc:\\Users\\pho\\AppData\\Local\\pypoetry\\Cache\\virtualenvs\\spike3d-WtdfU5rp-py3.9\\lib\\site-packages\\pandas\\core\\frame.py:5020\u001b[0m, in \u001b[0;36mDataFrame._reindex_index\u001b[1;34m(self, new_index, method, copy, level, fill_value, limit, tolerance)\u001b[0m\n\u001b[0;32m   5010\u001b[0m \u001b[39mdef\u001b[39;00m \u001b[39m_reindex_index\u001b[39m(\n\u001b[0;32m   5011\u001b[0m     \u001b[39mself\u001b[39m,\n\u001b[0;32m   5012\u001b[0m     new_index,\n\u001b[1;32m   (...)\u001b[0m\n\u001b[0;32m   5018\u001b[0m     tolerance\u001b[39m=\u001b[39m\u001b[39mNone\u001b[39;00m,\n\u001b[0;32m   5019\u001b[0m ):\n\u001b[1;32m-> 5020\u001b[0m     new_index, indexer \u001b[39m=\u001b[39m \u001b[39mself\u001b[39;49m\u001b[39m.\u001b[39;49mindex\u001b[39m.\u001b[39;49mreindex(\n\u001b[0;32m   5021\u001b[0m         new_index, method\u001b[39m=\u001b[39;49mmethod, level\u001b[39m=\u001b[39;49mlevel, limit\u001b[39m=\u001b[39;49mlimit, tolerance\u001b[39m=\u001b[39;49mtolerance\n\u001b[0;32m   5022\u001b[0m     )\n\u001b[0;32m   5023\u001b[0m     \u001b[39mreturn\u001b[39;00m \u001b[39mself\u001b[39m\u001b[39m.\u001b[39m_reindex_with_indexers(\n\u001b[0;32m   5024\u001b[0m         {\u001b[39m0\u001b[39m: [new_index, indexer]},\n\u001b[0;32m   5025\u001b[0m         copy\u001b[39m=\u001b[39mcopy,\n\u001b[0;32m   5026\u001b[0m         fill_value\u001b[39m=\u001b[39mfill_value,\n\u001b[0;32m   5027\u001b[0m         allow_dups\u001b[39m=\u001b[39m\u001b[39mFalse\u001b[39;00m,\n\u001b[0;32m   5028\u001b[0m     )\n",
      "File \u001b[1;32mc:\\Users\\pho\\AppData\\Local\\pypoetry\\Cache\\virtualenvs\\spike3d-WtdfU5rp-py3.9\\lib\\site-packages\\pandas\\core\\indexes\\base.py:4393\u001b[0m, in \u001b[0;36mIndex.reindex\u001b[1;34m(self, target, method, level, limit, tolerance)\u001b[0m\n\u001b[0;32m   4391\u001b[0m     target \u001b[39m=\u001b[39m idx[:\u001b[39m0\u001b[39m]\n\u001b[0;32m   4392\u001b[0m \u001b[39melse\u001b[39;00m:\n\u001b[1;32m-> 4393\u001b[0m     target \u001b[39m=\u001b[39m ensure_index(target)\n\u001b[0;32m   4395\u001b[0m \u001b[39mif\u001b[39;00m level \u001b[39mis\u001b[39;00m \u001b[39mnot\u001b[39;00m \u001b[39mNone\u001b[39;00m \u001b[39mand\u001b[39;00m (\n\u001b[0;32m   4396\u001b[0m     \u001b[39misinstance\u001b[39m(\u001b[39mself\u001b[39m, ABCMultiIndex) \u001b[39mor\u001b[39;00m \u001b[39misinstance\u001b[39m(target, ABCMultiIndex)\n\u001b[0;32m   4397\u001b[0m ):\n\u001b[0;32m   4398\u001b[0m     \u001b[39mif\u001b[39;00m method \u001b[39mis\u001b[39;00m \u001b[39mnot\u001b[39;00m \u001b[39mNone\u001b[39;00m:\n",
      "File \u001b[1;32mc:\\Users\\pho\\AppData\\Local\\pypoetry\\Cache\\virtualenvs\\spike3d-WtdfU5rp-py3.9\\lib\\site-packages\\pandas\\core\\indexes\\base.py:7333\u001b[0m, in \u001b[0;36mensure_index\u001b[1;34m(index_like, copy)\u001b[0m\n\u001b[0;32m   7331\u001b[0m         \u001b[39mreturn\u001b[39;00m Index\u001b[39m.\u001b[39m_with_infer(index_like, copy\u001b[39m=\u001b[39mcopy, tupleize_cols\u001b[39m=\u001b[39m\u001b[39mFalse\u001b[39;00m)\n\u001b[0;32m   7332\u001b[0m \u001b[39melse\u001b[39;00m:\n\u001b[1;32m-> 7333\u001b[0m     \u001b[39mreturn\u001b[39;00m Index\u001b[39m.\u001b[39;49m_with_infer(index_like, copy\u001b[39m=\u001b[39;49mcopy)\n",
      "File \u001b[1;32mc:\\Users\\pho\\AppData\\Local\\pypoetry\\Cache\\virtualenvs\\spike3d-WtdfU5rp-py3.9\\lib\\site-packages\\pandas\\core\\indexes\\base.py:716\u001b[0m, in \u001b[0;36mIndex._with_infer\u001b[1;34m(cls, *args, **kwargs)\u001b[0m\n\u001b[0;32m    714\u001b[0m \u001b[39mwith\u001b[39;00m warnings\u001b[39m.\u001b[39mcatch_warnings():\n\u001b[0;32m    715\u001b[0m     warnings\u001b[39m.\u001b[39mfilterwarnings(\u001b[39m\"\u001b[39m\u001b[39mignore\u001b[39m\u001b[39m\"\u001b[39m, \u001b[39m\"\u001b[39m\u001b[39m.*the Index constructor\u001b[39m\u001b[39m\"\u001b[39m, \u001b[39mFutureWarning\u001b[39;00m)\n\u001b[1;32m--> 716\u001b[0m     result \u001b[39m=\u001b[39m \u001b[39mcls\u001b[39m(\u001b[39m*\u001b[39margs, \u001b[39m*\u001b[39m\u001b[39m*\u001b[39mkwargs)\n\u001b[0;32m    718\u001b[0m \u001b[39mif\u001b[39;00m result\u001b[39m.\u001b[39mdtype \u001b[39m==\u001b[39m _dtype_obj \u001b[39mand\u001b[39;00m \u001b[39mnot\u001b[39;00m result\u001b[39m.\u001b[39m_is_multi:\n\u001b[0;32m    719\u001b[0m     \u001b[39m# error: Argument 1 to \"maybe_convert_objects\" has incompatible type\u001b[39;00m\n\u001b[0;32m    720\u001b[0m     \u001b[39m# \"Union[ExtensionArray, ndarray[Any, Any]]\"; expected\u001b[39;00m\n\u001b[0;32m    721\u001b[0m     \u001b[39m# \"ndarray[Any, Any]\"\u001b[39;00m\n\u001b[0;32m    722\u001b[0m     values \u001b[39m=\u001b[39m lib\u001b[39m.\u001b[39mmaybe_convert_objects(result\u001b[39m.\u001b[39m_values)  \u001b[39m# type: ignore[arg-type]\u001b[39;00m\n",
      "File \u001b[1;32mc:\\Users\\pho\\AppData\\Local\\pypoetry\\Cache\\virtualenvs\\spike3d-WtdfU5rp-py3.9\\lib\\site-packages\\pandas\\core\\indexes\\base.py:545\u001b[0m, in \u001b[0;36mIndex.__new__\u001b[1;34m(cls, data, dtype, copy, name, tupleize_cols, **kwargs)\u001b[0m\n\u001b[0;32m    542\u001b[0m     \u001b[39mreturn\u001b[39;00m klass\u001b[39m.\u001b[39m_simple_new(arr, name)\n\u001b[0;32m    544\u001b[0m \u001b[39melif\u001b[39;00m is_scalar(data):\n\u001b[1;32m--> 545\u001b[0m     \u001b[39mraise\u001b[39;00m \u001b[39mcls\u001b[39m\u001b[39m.\u001b[39m_scalar_data_error(data)\n\u001b[0;32m    546\u001b[0m \u001b[39melif\u001b[39;00m \u001b[39mhasattr\u001b[39m(data, \u001b[39m\"\u001b[39m\u001b[39m__array__\u001b[39m\u001b[39m\"\u001b[39m):\n\u001b[0;32m    547\u001b[0m     \u001b[39mreturn\u001b[39;00m Index(np\u001b[39m.\u001b[39masarray(data), dtype\u001b[39m=\u001b[39mdtype, copy\u001b[39m=\u001b[39mcopy, name\u001b[39m=\u001b[39mname, \u001b[39m*\u001b[39m\u001b[39m*\u001b[39mkwargs)\n",
      "\u001b[1;31mTypeError\u001b[0m: Index(...) must be called with a collection of some kind, 'evening' was passed"
     ]
    }
   ],
   "source": [
    "from pyphoplacecellanalysis.General.Pipeline.Stages.ComputationFunctions.MultiContextComputationFunctions.LongShortTrackComputations import compute_evening_morning_parition\n",
    "\n",
    "difference_sorted_aclus, evening_sorted_aclus, morning_sorted_aclus = compute_evening_morning_parition(neuron_replay_stats_df, debug_print=True)\n",
    "sorted_neuron_replay_stats_df = neuron_replay_stats_df.reindex(difference_sorted_aclus).copy() # This seems to work to re-sort the dataframe by the sort indicies\n",
    "sorted_neuron_replay_stats_df"
   ]
  },
  {
   "cell_type": "code",
   "execution_count": null,
   "id": "0504f8e4",
   "metadata": {},
   "outputs": [],
   "source": [
    "from pyphocorehelpers.indexing_helpers import partition\n",
    "\n",
    "# Split the replay stats based on the neuron types:\n",
    "unique_included_neuron_types, (pyr_neuron_replay_stats_df, contaminated_neuron_replay_stats_df, interneuron_neuron_replay_stats_df) = partition(jonathan_firing_rate_analysis_result.neuron_replay_stats_df, 'neuron_type')\n",
    "pyr_neuron_replay_stats_df"
   ]
  },
  {
   "cell_type": "code",
   "execution_count": null,
   "id": "7524856f",
   "metadata": {},
   "outputs": [],
   "source": [
    "from neuropy.core.neurons import NeuronType\n",
    "\n",
    "%matplotlib qt\n",
    "# Look at replays during ripples vs. those not during ripples. Also potentially PBEs vs. not PBEs.\n",
    "\n",
    "# NeuronType.from_any_string_series(['pyr','intr'])\n",
    "'pyr','cont','intr'\n",
    "\n",
    "active_identifying_session_ctx = curr_active_pipeline.sess.get_context() # 'bapun_RatN_Day4_2019-10-15_11-30-06'\n",
    "curr_active_pipeline.display('_display_jonathan_interactive_replay_firing_rate_comparison', active_identifying_session_ctx, included_neuron_types=NeuronType.from_any_string_series(['pyr'])) # only the pyramidal neurons"
   ]
  },
  {
   "cell_type": "code",
   "execution_count": null,
   "id": "bc7ebf69",
   "metadata": {},
   "outputs": [],
   "source": [
    "curr_active_pipeline.reload_default_display_functions()"
   ]
  },
  {
   "cell_type": "code",
   "execution_count": null,
   "id": "68f61971",
   "metadata": {},
   "outputs": [],
   "source": [
    "curr_active_pipeline.display('_display_jonathan_interactive_replay_firing_rate_comparison', active_identifying_session_ctx, included_neuron_types=NeuronType.from_any_string_series(['intr']), require_placefield=False) # only the pyramidal neurons"
   ]
  },
  {
   "cell_type": "code",
   "execution_count": null,
   "id": "0859e13d",
   "metadata": {},
   "outputs": [],
   "source": [
    "from pyphoplacecellanalysis.General.Mixins.CrossComputationComparisonHelpers import build_replays_custom_scatter_markers, CustomScatterMarkerMode\n",
    "\n",
    "_curr_included_aclus = jonathan_firing_rate_analysis_result.neuron_replay_stats_df[np.logical_or(jonathan_firing_rate_analysis_result.neuron_replay_stats_df['has_long_pf'], jonathan_firing_rate_analysis_result.neuron_replay_stats_df['has_short_pf'])].index.to_numpy()\n",
    "_curr_output = curr_active_pipeline.display('_display_batch_pho_jonathan_replay_firing_rate_comparison', active_identifying_session_ctx, included_unit_neuron_IDs=_curr_included_aclus, marker_split_mode=CustomScatterMarkerMode.NoSplit)"
   ]
  },
  {
   "attachments": {},
   "cell_type": "markdown",
   "id": "d69eed8a",
   "metadata": {},
   "source": [
    "## 2023-04-13 - Shuffled Surprise\n",
    "\"\"\" \n",
    "Relevant Functions:\n",
    "`perform_full_session_leave_one_out_decoding_analysis`:\n",
    "\t`perform_leave_one_aclu_out_decoding_analysis`:\tfrom pyphoplacecellanalysis.Analysis.Decoder.decoder_result import perform_leave_one_aclu_out_decoding_analysis\n",
    "\t`_analyze_leave_one_out_decoding_results`: from pyphoplacecellanalysis.General.Pipeline.Stages.ComputationFunctions.DefaultComputationFunctions import _analyze_leave_one_out_decoding_results\n",
    "\"\"\"\n"
   ]
  },
  {
   "cell_type": "code",
   "execution_count": null,
   "id": "0aac42d4",
   "metadata": {},
   "outputs": [],
   "source": [
    "# 2023-04-18 - Refactored into decoder_result\n",
    "result, result_df, result_df_grouped = long_results_obj.result, long_results_obj.result_df, long_results_obj.result_df_grouped"
   ]
  },
  {
   "cell_type": "code",
   "execution_count": null,
   "id": "9bfe57a8",
   "metadata": {},
   "outputs": [],
   "source": [
    "curr_active_pipeline.global_computation_results"
   ]
  },
  {
   "cell_type": "code",
   "execution_count": null,
   "id": "c107570f",
   "metadata": {},
   "outputs": [],
   "source": [
    "from pyphoplacecellanalysis.Analysis.Decoder.decoder_result import DiagnosticDistanceMetricFigure\n",
    "\n",
    "## Render the internactive slider that allows selecting the timebin index to debug\n",
    "n_timebins = np.sum(long_results_obj.all_epochs_num_epoch_time_bins)\n",
    "timebinned_neuron_info = long_results_obj.timebinned_neuron_info\n",
    "result = long_results_obj.new_result\n",
    "active_fig_obj, update_function = DiagnosticDistanceMetricFigure.build_interactive_diagnostic_distance_metric_figure(long_results_obj, timebinned_neuron_info, result)\n",
    "active_fig_obj.integer_slider(n_timebins=n_timebins, update_func=update_function)"
   ]
  },
  {
   "cell_type": "code",
   "execution_count": null,
   "id": "7670bfae",
   "metadata": {},
   "outputs": [],
   "source": [
    "\n",
    "# 1. Get set of cells active in a given time bin, for each compute the surprise of its placefield with the leave-one-out decoded posterior.\n",
    "\n",
    "# 2. From the remainder of cells (those not active), randomly choose one to grab the placefield of and compute the surprise with that and the same posterior.\n",
    "\n",
    "# Expectation: The cells that are included in the time bin are expected to have a lower surprise (be less correlated with) the posterior."
   ]
  },
  {
   "cell_type": "code",
   "execution_count": null,
   "id": "e8ff50bc",
   "metadata": {
    "notebookRunGroups": {
     "groupValue": ""
    }
   },
   "outputs": [],
   "source": [
    "from pyphoplacecellanalysis.Pho2D.PyQtPlots.Extensions.pyqtgraph_helpers import build_pyqtgraph_epoch_indicator_regions # Add session indicators to pyqtgraph plot\n",
    "from pyphoplacecellanalysis.General.Pipeline.Stages.DisplayFunctions.MultiContextComparingDisplayFunctions.LongShortTrackComparingDisplayFunctions import _helper_add_long_short_session_indicator_regions\n",
    "\n",
    "from pyphocorehelpers.print_helpers import generate_html_string\n",
    "# Long Short\n",
    "# TODO 2023-04-18 - Can Refactor in terms of `plot_long_short_any_values`?\n",
    "\n",
    "import pyphoplacecellanalysis.External.pyqtgraph as pg\n",
    "# 'time_bin_indices': valid_time_bin_indicies, 'posterior_to_pf_mean_surprise': one_left_out_posterior_to_pf_surprises_mean, 'posterior_to_scrambled_pf_mean_surprise': one_left_out_posterior_to_scrambled_pf_surprises_mean}\n",
    "from pyphoplacecellanalysis.General.Pipeline.Stages.DisplayFunctions.MultiContextComparingDisplayFunctions.LongShortTrackComparingDisplayFunctions import plot_long_short_expected_vs_observed_firing_rates\n",
    "from pyphoplacecellanalysis.General.Pipeline.Stages.DisplayFunctions.MultiContextComparingDisplayFunctions.LongShortTrackComparingDisplayFunctions import plot_long_short_surprise_difference_plot"
   ]
  },
  {
   "cell_type": "code",
   "execution_count": null,
   "id": "c1692fd1",
   "metadata": {
    "tags": [
     "active"
    ]
   },
   "outputs": [],
   "source": [
    "win, plots = plot_long_short_surprise_difference_plot(curr_active_pipeline, long_results_obj, short_results_obj, long_epoch_name, short_epoch_name)\n"
   ]
  },
  {
   "cell_type": "code",
   "execution_count": null,
   "id": "118c3089",
   "metadata": {},
   "outputs": [],
   "source": []
  },
  {
   "cell_type": "code",
   "execution_count": null,
   "id": "893964b2",
   "metadata": {},
   "outputs": [],
   "source": [
    "long_results_obj\n",
    "short_results_obj"
   ]
  },
  {
   "cell_type": "code",
   "execution_count": null,
   "id": "bae2e695",
   "metadata": {
    "tags": [
     "active"
    ]
   },
   "outputs": [],
   "source": [
    "win, plots_tuple, legend = plot_long_short_expected_vs_observed_firing_rates(long_results_obj, short_results_obj, limit_aclus=list(S_only_aclus))\n",
    "long_epoch_indicator_region_items, short_epoch_indicator_region_items = _helper_add_long_short_session_indicator_regions(win, long_epoch=curr_active_pipeline.filtered_epochs[long_epoch_name], short_epoch=curr_active_pipeline.filtered_epochs[short_epoch_name])"
   ]
  },
  {
   "cell_type": "code",
   "execution_count": null,
   "id": "df4efa5c",
   "metadata": {},
   "outputs": [],
   "source": [
    "long_results_obj\n"
   ]
  },
  {
   "cell_type": "code",
   "execution_count": null,
   "id": "e2a84888",
   "metadata": {},
   "outputs": [],
   "source": [
    "a_plot = self.plots['difference__long']  # PlotDataItem \n",
    "a_curve = a_plot.curve # PlotCurveItem "
   ]
  },
  {
   "cell_type": "code",
   "execution_count": null,
   "id": "3a8e78da",
   "metadata": {},
   "outputs": [],
   "source": [
    "a_plot.sigPointsClicked\n",
    "# a_plot.sigPointsHovered"
   ]
  },
  {
   "cell_type": "code",
   "execution_count": null,
   "id": "fe350d0a",
   "metadata": {},
   "outputs": [],
   "source": [
    "curve.curve.setClickable(True)"
   ]
  },
  {
   "cell_type": "code",
   "execution_count": null,
   "id": "2377c753",
   "metadata": {},
   "outputs": [],
   "source": [
    "# Will make all plots clickable\n",
    "clickedPen = pg.mkPen('#DDD', width=2)\n",
    "lastClicked = []\n",
    "def _test_scatter_plot_clicked(plot, points):\n",
    "\tglobal lastClicked\n",
    "\tfor p in lastClicked:\n",
    "\t\tp.resetPen()\n",
    "\tprint(\"clicked points\", points)\n",
    "\tfor p in points:\n",
    "\t\tp.setPen(clickedPen)\n",
    "\tlastClicked = points\n",
    "\n",
    "main_scatter_clicked_connection = a_plot.sigClicked.connect(_test_scatter_plot_clicked)"
   ]
  },
  {
   "cell_type": "code",
   "execution_count": null,
   "id": "8e83d358",
   "metadata": {},
   "outputs": [],
   "source": [
    "lastClicked, clickedPen, (main_scatter_hovered_connection, main_scatter_clicked_connection) = _helper_make_scatterplot_clickable(a_plot)"
   ]
  },
  {
   "cell_type": "code",
   "execution_count": null,
   "id": "a9d54370",
   "metadata": {},
   "outputs": [],
   "source": [
    "# Need to map from time_bin_indicies to times\n",
    "a_plot = self.plots['difference'] # PlotDataItem \n",
    "# a_plot.setLa\n",
    "# win.graphicsItem().setLabel(axis='left', text='Normal v. Random - Surprise (Custom)')\n",
    "\n",
    "# # Set the plot title with a LaTeX formula\n",
    "# title = pg.LabelItem(justify='center')\n",
    "# title.setText(r'<font size=\"4\">JSD Surprise Diff: $\\fn{JSD}{\\matr{pf}_{i}, \\Pr{\\vec{x}_{t}|\\vec{n}_{t}}} - \\fn{JSD}{\\matr{pf}_{j}, \\Pr{\\vec{x}_{t}|\\vec{n}_{t}}}$</font>')\n",
    "# win.addItem(title)\n",
    "\n",
    "# win.graphicsItem().setLabel(axis='top', text=r'$\\fn{JSD}{\\matr{pf}_{i}, \\Pr{\\vec{x}_{t}|\\vec{n}_{t}}} - \\fn{JSD}{\\matr{pf}_{j}, \\Pr{\\vec{x}_{t}|\\vec{n}_{t}}}$')"
   ]
  },
  {
   "cell_type": "code",
   "execution_count": null,
   "id": "0f55bb1b",
   "metadata": {},
   "outputs": [],
   "source": [
    "from pyphoplacecellanalysis.General.Mixins.ExportHelpers import export_pyqtgraph_plot # works pretty well seemingly\n",
    "\n",
    "export_pyqtgraph_plot(win)\n",
    "# pg.setConfigOption('leftTitle', 'MathText')\n",
    "# win.setTitle(r'JSD(p_x_given_n, pf[<font size=\"4\"><b><span style=\"color:red;\">i</span></b></font>]) - JSD(p_x_given_n, pf[<font size=\"4\"><b>j</b></font>]) where <font size=\"4\"><b>j</b></font> non-firing')\n",
    "\n",
    "# win.setTitle(generate_html_string(f'JSD(p_x_given_n, pf[{i_str}]) - JSD(p_x_given_n, pf[{j_str}]) where {j_str} non-firing', font_size=8))\n",
    "\n",
    "# r'$\\fn{JSD}{\\matr{pf}_{i}, \\Pr{\\vec{x}_{t}|\\vec{n}_{t}}} - \\fn{JSD}{\\matr{pf}_{j}, \\Pr{\\vec{x}_{t}|\\vec{n}_{t}}}$'\n",
    "# title_str"
   ]
  },
  {
   "cell_type": "code",
   "execution_count": null,
   "id": "b315f1e7",
   "metadata": {},
   "outputs": [],
   "source": [
    "from pyqtgraph.GraphicsScene import exportDialog\n",
    "\n",
    "# active_item = active_fig_obj.win\n",
    "active_item = active_fig_obj.plot_dict['curr_cell_pf_curve']['plot_item']\n",
    "exportDialog = exportDialog.ExportDialog(active_item.scene())\n",
    "exportDialog.show(active_item)"
   ]
  },
  {
   "cell_type": "code",
   "execution_count": null,
   "id": "1ea2e239",
   "metadata": {},
   "outputs": [],
   "source": [
    "active_fig_obj.plot_dict['curr_cell_pf_curve']['plot_item']"
   ]
  },
  {
   "cell_type": "code",
   "execution_count": null,
   "id": "e586e32d",
   "metadata": {},
   "outputs": [],
   "source": [
    "curr_active_pipeline.filtered_epochs[short_epoch_name].t_stop"
   ]
  },
  {
   "cell_type": "code",
   "execution_count": null,
   "id": "0e7c5219",
   "metadata": {},
   "outputs": [],
   "source": [
    "curr_active_pipeline.filtered_epochs[long_epoch_name].start_end_times"
   ]
  },
  {
   "attachments": {},
   "cell_type": "markdown",
   "id": "1f996fd9",
   "metadata": {},
   "source": [
    "## Pre 2023-04-13"
   ]
  },
  {
   "cell_type": "code",
   "execution_count": null,
   "id": "33b6ac25",
   "metadata": {},
   "outputs": [],
   "source": [
    "import matplotlib\n",
    "import matplotlib.pyplot as plt\n",
    "%matplotlib qt\n",
    "\n",
    "from pyphoplacecellanalysis.Analysis.Decoder.decoder_result import plot_kourosh_activity_style_figure\n",
    "\n",
    "from neuropy.core.neurons import NeuronType\n",
    "# # Include only pyramidal aclus:\n",
    "# print(f'all shared_aclus: {len(shared_aclus)}\\nshared_aclus: {shared_aclus}')\n",
    "# shared_aclu_neuron_type = long_session.neurons.neuron_type[np.isin(long_session.neurons.neuron_ids, shared_aclus)]\n",
    "# assert len(shared_aclu_neuron_type) == len(shared_aclus)\n",
    "# # Find only the aclus that are pyramidal:\n",
    "# is_shared_aclu_pyramidal = (shared_aclu_neuron_type == NeuronType.PYRAMIDAL)\n",
    "# pyramidal_only_shared_aclus = shared_aclus[is_shared_aclu_pyramidal]\n",
    "# print(f'num pyramidal_only_shared_aclus: {len(pyramidal_only_shared_aclus)}\\npyramidal_only_shared_aclus: {pyramidal_only_shared_aclus}')\n",
    "\n",
    "\n",
    "## Drop Pyramidal but don't use only shared aclus:\n",
    "all_aclus = deepcopy(long_session.neurons.neuron_ids)\n",
    "neuron_type = long_session.neurons.neuron_type\n",
    "assert len(neuron_type) == len(all_aclus)\n",
    "# Find only the aclus that are pyramidal:\n",
    "is_aclu_pyramidal = (neuron_type == NeuronType.PYRAMIDAL)\n",
    "pyramidal_only_all_aclus = all_aclus[is_aclu_pyramidal]\n",
    "print(f'num pyramidal_only_all_aclus: {len(pyramidal_only_all_aclus)}\\npyramidal_only_all_aclus: {pyramidal_only_all_aclus}')\n",
    "\n",
    "is_aclu_interneuron = (neuron_type == NeuronType.INTERNEURONS)\n",
    "interneuron_only_all_aclus = all_aclus[is_aclu_interneuron]\n",
    "print(f'num interneuron_only_all_aclus: {len(interneuron_only_all_aclus)}\\ninterneurons: {interneuron_only_all_aclus}')\n",
    "\n",
    "# app, win, plots, plots_data = plot_kourosh_activity_style_figure(long_results_obj, long_session, shared_aclus, epoch_idx=5, callout_epoch_IDXs=[0,1,2,3], skip_rendering_callouts=True)\n",
    "# app, win, plots, plots_data = plot_kourosh_activity_style_figure(long_results_obj, long_session, pyramidal_only_shared_aclus, epoch_idx=2, callout_epoch_IDXs=[0,4], skip_rendering_callouts=False)\n",
    "app, win, plots, plots_data = plot_kourosh_activity_style_figure(long_results_obj, long_session, pyramidal_only_all_aclus, epoch_idx=6, callout_epoch_IDXs=[2,4,6], skip_rendering_callouts=False)"
   ]
  },
  {
   "cell_type": "code",
   "execution_count": null,
   "id": "985977d8",
   "metadata": {},
   "outputs": [],
   "source": [
    "\n",
    "# Use the Jupyter Index Thing\n",
    "from pyphoplacecellanalysis.Analysis.Decoder.decoder_result import DiagnosticDistanceMetricFigure\n",
    "\n",
    "## Render the internactive slider that allows selecting the timebin index to debug\n",
    "n_timebins = np.sum(long_results_obj.all_epochs_num_epoch_time_bins)\n",
    "timebinned_neuron_info = long_results_obj.timebinned_neuron_info\n",
    "result = long_results_obj.new_result\n",
    "active_fig_obj, update_function = DiagnosticDistanceMetricFigure.build_interactive_diagnostic_distance_metric_figure(long_results_obj, timebinned_neuron_info, result)\n",
    "active_fig_obj.integer_slider(n_timebins=n_timebins, update_func=update_function)"
   ]
  },
  {
   "cell_type": "code",
   "execution_count": null,
   "id": "3e1aa692",
   "metadata": {},
   "outputs": [],
   "source": [
    "active_fig_obj.export()"
   ]
  },
  {
   "cell_type": "code",
   "execution_count": null,
   "id": "5ea983fe",
   "metadata": {},
   "outputs": [],
   "source": [
    "app, win, self.plots, self.plots_data = plot_kourosh_activity_style_figure(long_results_obj, long_session, pyramidal_only_all_aclus, epoch_idx=11, callout_epoch_IDXs=[0,1,2, 3, 4, 5], skip_rendering_callouts=False)"
   ]
  },
  {
   "attachments": {},
   "cell_type": "markdown",
   "id": "f519e392",
   "metadata": {},
   "source": [
    "# 2023-04-13 Show Surprise "
   ]
  },
  {
   "cell_type": "code",
   "execution_count": null,
   "id": "b417bb4e",
   "metadata": {},
   "outputs": [],
   "source": [
    "import pyphoplacecellanalysis.External.pyqtgraph as pg\n",
    "from pyphoplacecellanalysis.General.Pipeline.Stages.DisplayFunctions.MultiContextComparingDisplayFunctions.MultiContextComparingDisplayFunctions import plot_long_short, plot_long_short_any_values, plot_long_short_expected_vs_observed_firing_rates, _helper_add_long_short_session_indicator_regions\n",
    "# plot_long_short(long_results_obj, short_results_obj)"
   ]
  },
  {
   "cell_type": "code",
   "execution_count": null,
   "id": "feefc5f9",
   "metadata": {},
   "outputs": [],
   "source": [
    "plot_long_short_any_values(long_results_obj=long_results_obj, short_results_obj=short_results_obj)"
   ]
  },
  {
   "cell_type": "code",
   "execution_count": null,
   "id": "f6b8a7ec",
   "metadata": {},
   "outputs": [],
   "source": [
    "plot_long_short_expected_vs_observed_firing_rates(long_results_obj=long_results_obj, short_results_obj=short_results_obj, limit_aclus=[89]) # 4, 89, 28, 97"
   ]
  },
  {
   "cell_type": "code",
   "execution_count": null,
   "id": "1bdf68bc",
   "metadata": {},
   "outputs": [],
   "source": [
    "x_fn = lambda a_results_obj: a_results_obj.all_epochs_decoded_epoch_time_bins_mean[:,0]\n",
    "# y_fn = lambda a_results_obj: a_results_obj.all_epochs_all_cells_one_left_out_posterior_to_scrambled_pf_surprises_mean\n",
    "y_fn = lambda a_results_obj: a_results_obj.all_epochs_all_cells_one_left_out_posterior_to_pf_surprises_mean\n",
    "# y_fn = lambda a_results_obj: a_results_obj.all_epochs_computed_one_left_out_posterior_to_pf_surprises\n",
    "\n",
    "# (time_bins, neurons), (epochs, neurons), (epochs)\n",
    "# all_epochs_computed_one_left_out_posterior_to_pf_surprises, all_epochs_computed_cell_one_left_out_posterior_to_pf_surprises_mean, all_epochs_all_cells_one_left_out_posterior_to_pf_surprises_mean\n",
    "win, plots_tuple, legend = plot_long_short_any_values(long_results_obj, short_results_obj, x=x_fn, y=y_fn, limit_aclus=[20])"
   ]
  },
  {
   "attachments": {},
   "cell_type": "markdown",
   "id": "2fe80559",
   "metadata": {},
   "source": [
    "# 2023-04-13 - Find Good looking epochs:"
   ]
  },
  {
   "cell_type": "code",
   "execution_count": null,
   "id": "5fa9a519",
   "metadata": {},
   "outputs": [],
   "source": [
    "import matplotlib.pyplot as plt\n",
    "%matplotlib qt\n",
    "\n",
    "from pyphocorehelpers.plotting.figure_management import PhoActiveFigureManager2D\n",
    "from pyphoplacecellanalysis.GUI.Qt.Mixins.PaginationMixins import PaginatedFigureController\n",
    "from pyphoplacecellanalysis.Pho2D.stacked_epoch_slices import DecodedEpochSlicesPaginatedFigureController\n",
    "\n",
    "active_identifying_session_ctx = curr_active_pipeline.sess.get_context()\n",
    "_out_pagination_controller = DecodedEpochSlicesPaginatedFigureController.init_from_decoder_data(long_results_obj.active_filter_epochs, long_results_obj.all_included_filter_epochs_decoder_result, \n",
    "\txbin=long_results_obj.original_1D_decoder.xbin, global_pos_df=global_session.position.df, a_name='TestDecodedEpochSlicesPaginationController', active_context=active_identifying_session_ctx,  max_subplots_per_page=10)\n",
    "# _out_pagination_controller"
   ]
  },
  {
   "cell_type": "code",
   "execution_count": null,
   "id": "b27c2059",
   "metadata": {},
   "outputs": [],
   "source": [
    "# Make sure the replays don't occur during the laps.\n",
    "# from_PortionInterval,\n",
    "\n",
    "## Get both as PortionIntervals to check for overlaps:\n",
    "replays = curr_active_pipeline.sess.replay.epochs.to_PortionInterval()\n",
    "laps = curr_active_pipeline.sess.laps.as_epoch_obj().to_PortionInterval() #.epochs.to_PortionInterval()\n",
    "non_lap_replays = Epoch.from_PortionInterval(replays.difference(laps)) ## Exclude anything that occcurs during the laps themselves.\n",
    "curr_active_pipeline.sess.replay = non_lap_replays.to_dataframe() # Update the session's replay epochs from those that don't intersect the laps.\n",
    "\n",
    "\n",
    "print(f'len(replays): {len(replays)}, len(laps): {len(laps)}, len(non_lap_replays): {non_lap_replays.n_epochs}')"
   ]
  },
  {
   "cell_type": "code",
   "execution_count": null,
   "id": "17f0354d",
   "metadata": {},
   "outputs": [],
   "source": [
    "laps.complement()"
   ]
  },
  {
   "cell_type": "code",
   "execution_count": null,
   "id": "24c4cbad",
   "metadata": {},
   "outputs": [],
   "source": [
    "curr_active_pipeline.sess.replay.metadata"
   ]
  },
  {
   "cell_type": "code",
   "execution_count": null,
   "id": "7564cf73",
   "metadata": {},
   "outputs": [],
   "source": []
  },
  {
   "cell_type": "code",
   "execution_count": null,
   "id": "eac99889",
   "metadata": {},
   "outputs": [],
   "source": [
    "# _perform_estimated_epochs_computation\n",
    "curr_active_pipeline.reload_default_computation_functions()"
   ]
  },
  {
   "cell_type": "code",
   "execution_count": null,
   "id": "44d3c591",
   "metadata": {},
   "outputs": [],
   "source": [
    "curr_active_pipeline.perform_specific_computation(active_computation_params=, enabled_filter_names=None, computation_functions_name_whitelist=['_perform_estimated_epochs_computation'])"
   ]
  },
  {
   "cell_type": "code",
   "execution_count": null,
   "id": "aa14005f",
   "metadata": {},
   "outputs": [],
   "source": [
    "_out_pagination_controller.params.debug_print = True\n",
    "_pagination_widget = _out_pagination_controller.ui.mw.ui.paginator_controller_widget\n",
    "_pagination_widget"
   ]
  },
  {
   "cell_type": "code",
   "execution_count": null,
   "id": "9d526f51",
   "metadata": {},
   "outputs": [],
   "source": [
    "# .\n",
    "\n",
    "current_page_idx = _out_pagination_controller.ui.mw.ui.paginator_controller_widget.current_page_idx\n",
    "curr_page_data_indicies, curr_page_data_items =  _out_pagination_controller.plots_data.paginator.get_page_data(page_idx=current_page_idx)\n",
    "print(f'current_page_idx: {current_page_idx}, curr_page_data_indicies: {curr_page_data_indicies}')\n"
   ]
  },
  {
   "cell_type": "code",
   "execution_count": null,
   "id": "6c30bfe4",
   "metadata": {},
   "outputs": [],
   "source": [
    "_out_pagination_controller.on_paginator_control_widget_jump_to_page(3)\n"
   ]
  },
  {
   "cell_type": "code",
   "execution_count": null,
   "id": "4a1ace00",
   "metadata": {},
   "outputs": [],
   "source": [
    "from pyphocorehelpers.indexing_helpers import safe_find_index_in_list\n",
    "\n",
    "def _get_current_page_data_indicies():\n",
    "\t\"\"\" captures `ui.mw.ui.paginator_controller_widget.current_page_idx`, `plots_data.paginator` \"\"\"\n",
    "\tcurrent_page_idx = _out_pagination_controller.ui.mw.ui.paginator_controller_widget.current_page_idx\n",
    "\tcurr_page_data_indicies, curr_page_data_items =  _out_pagination_controller.plots_data.paginator.get_page_data(page_idx=current_page_idx)\n",
    "\treturn current_page_idx, curr_page_data_indicies"
   ]
  },
  {
   "cell_type": "code",
   "execution_count": null,
   "id": "e810bced",
   "metadata": {},
   "outputs": [],
   "source": [
    "posterior_containers = filter_epochs_decoder_result.marginal_x_list.copy()\n",
    "\n",
    "[a_marginal_x_list.p_x_given_n for a_marginal_x_list in filter_epochs_decoder_result.marginal_x_list]\n",
    "[a_marginal_x_list.most_likely_positions_1D for a_marginal_x_list in filter_epochs_decoder_result.marginal_x_list]\n",
    "\n",
    "posterior_containers\n",
    "# posterior_containers = np.array(filter_epochs_decoder_result.marginal_x_list.copy())"
   ]
  },
  {
   "cell_type": "code",
   "execution_count": null,
   "id": "079f7a60",
   "metadata": {},
   "outputs": [],
   "source": [
    "included_page_data_indicies, (curr_page_active_filter_epochs, curr_page_epoch_labels, curr_page_time_bin_containers, curr_page_posterior_containers) = epoch_slices_paginator.get_page_data(page_idx=1)\n",
    "# included_page_data_indicies, (curr_page_active_filter_epochs, curr_page_epoch_labels, curr_page_time_bin_containers) = epoch_slices_paginator.get_page_data(page_idx=1)\n",
    "included_page_data_indicies\n",
    "curr_page_posterior_containers[0].p_x_given_n\n"
   ]
  },
  {
   "cell_type": "code",
   "execution_count": null,
   "id": "559ffa23",
   "metadata": {},
   "outputs": [],
   "source": [
    "from pyphoplacecellanalysis.Analysis.Decoder.reconstruction import DecodedFilterEpochsResult\n",
    "from pyphocorehelpers.indexing_helpers import safe_len\n",
    "\n",
    "# {k:safe_len(v) for k,v in filter_epochs_decoder_result.__dict__.items() if (safe_len(v) or 0) > 0}\n",
    "\n",
    "## Only get the items that are num_filter_epochs long:\n",
    "epoch_splittable_items = {k:v for k,v in filter_epochs_decoder_result.__dict__.items() if (safe_len(v) or 0) == filter_epochs_decoder_result.num_filter_epochs}\n",
    "# epoch_splittable_items\n",
    "epoch_splittable_item_names = list(epoch_splittable_items.keys())\n",
    "# print(epoch_splittable_item_names)\n",
    "# ('most_likely_positions_list', 'p_x_given_n_list', 'marginal_x_list', 'marginal_y_list', 'most_likely_position_indicies_list', 'spkcount', 'nbins', 'time_bin_containers', 'time_bin_edges')\n",
    "# epoch_splittable_item_values = [epoch_splittable_items[k] for k in ('most_likely_positions_list', 'p_x_given_n_list', 'marginal_x_list', 'marginal_y_list', 'most_likely_position_indicies_list', 'nbins', 'time_bin_containers', 'time_bin_edges')]\n",
    "epoch_splittable_item_values = [epoch_splittable_items[k] for k in ('epoch_description_list','time_bin_containers','marginal_x_list')]\n",
    "# epoch_splittable_item_values"
   ]
  },
  {
   "cell_type": "code",
   "execution_count": null,
   "id": "4ed0656a",
   "metadata": {},
   "outputs": [],
   "source": [
    "# [23, 27, 29, ]\n",
    "[16, 17, 18, 20, 21, 22, 23, 25, 26, 29]\n"
   ]
  },
  {
   "attachments": {},
   "cell_type": "markdown",
   "id": "7e6526e9",
   "metadata": {},
   "source": [
    "# 2023-03-28 - Playing around with older computations/visualizations from the `_display_short_long_firing_rate_index_comparison` era:"
   ]
  },
  {
   "attachments": {},
   "cell_type": "markdown",
   "id": "5d2e9eb6",
   "metadata": {},
   "source": [
    "\n",
    "2023-04-20 - Encountered issue with the replays in session '2006-6-08_14-26-15' where they are duplicated exactly twice, like the first half of the rows are legitimate entries and the second half are directly repeated versions of the first with the only difference appearing to be the 'epoch_id' column changes from 1 to 2. 'rel_id' column seems incorrect but different for some reason. It must be how the MATLAB script exports the values.\n",
    "\n",
    "Also when I'm looking at only the `short_session.replay` there are many non-2 'epoch_id' values, which is strange. \n",
    "\n",
    "TODO: It could have something to do with Jonathan's code maybe? Because the 'replay_r' and 'replay_p' columns he added are different. SEEMS FALSE. It's this way even without running Jonathan's code, although the values might have been saved later?\n",
    "\tAlso flat_replay_idx jumps from 689 to 1087 at the transition from epoch_id 1 to 2\n",
    "\n",
    "UPDATE: the 'replay_r' and 'replay_p' columns aren't from Joanthan, they're in the original .replay_info.mat that's imported!\n"
   ]
  },
  {
   "attachments": {},
   "cell_type": "markdown",
   "id": "1a13cccd",
   "metadata": {},
   "source": [
    "# Plot long|short firing rate index using 'long_short_fr_indicies_analyses':"
   ]
  },
  {
   "cell_type": "code",
   "execution_count": null,
   "id": "caab469b",
   "metadata": {},
   "outputs": [],
   "source": [
    "# fig_save_parent_path = Path(r'E:\\Dropbox (Personal)\\Active\\Kamran Diba Lab\\Results from 2023-01-20 - LongShort Firing Rate Indicies')\n",
    "## Get the output path (active_session_figures_out_path) for this session (and all of its filtered_contexts as well):\n",
    "active_identifying_session_ctx = curr_active_pipeline.sess.get_context() # 'bapun_RatN_Day4_2019-10-15_11-30-06'\n",
    "figures_parent_out_path = create_daily_programmatic_display_function_testing_folder_if_needed()\n",
    "active_session_figures_out_path = session_context_to_relative_path(figures_parent_out_path, active_identifying_session_ctx)\n",
    "print(f'curr_session_parent_out_path: {active_session_figures_out_path}')\n",
    "active_session_figures_out_path.mkdir(parents=True, exist_ok=True) # make folder if needed\n",
    "curr_active_pipeline.display('_display_short_long_firing_rate_index_comparison', curr_active_pipeline.sess.get_context(), fig_save_parent_path=active_session_figures_out_path)\n",
    "# plt.close() # closes the current figure"
   ]
  },
  {
   "cell_type": "code",
   "execution_count": null,
   "id": "a71511c3",
   "metadata": {},
   "outputs": [],
   "source": [
    "curr_active_pipeline.display('_display_short_long_firing_rate_index_comparison', long_short_fr_indicies_analysis_results['active_context'], fig_save_parent_path=None)\n"
   ]
  },
  {
   "cell_type": "code",
   "execution_count": null,
   "id": "53e5e3dc",
   "metadata": {},
   "outputs": [],
   "source": [
    "import matplotlib\n",
    "# configure backend here\n",
    "# matplotlib.use('Qt5Agg')\n",
    "# backend_qt5agg\n",
    "matplotlib.use('Qt5Agg') # non-interactive backend ## 2022-08-16 - Surprisingly this works to make the matplotlib figures render only to .png file, not appear on the screen!\n",
    "from pyphoplacecellanalysis.General.Pipeline.Stages.DisplayFunctions.MultiContextComparingDisplayFunctions.LongShortTrackComparingDisplayFunctions import _plot_long_short_firing_rate_indicies\n",
    "\n",
    "\n",
    "# Plot long|short firing rate index:\n",
    "long_short_fr_indicies_analysis_results = curr_active_pipeline.global_computation_results.computed_data['long_short_fr_indicies_analysis']\n",
    "x_frs_index, y_frs_index = long_short_fr_indicies_analysis_results['x_frs_index'], long_short_fr_indicies_analysis_results['y_frs_index'] # use the all_results_dict as the computed data value\n",
    "active_context = long_short_fr_indicies_analysis_results['active_context']\n",
    "fig, _temp_full_fig_save_path = _plot_long_short_firing_rate_indicies(x_frs_index, y_frs_index, active_context, fig_save_parent_path=None, debug_print=False)\n",
    "fig.show()"
   ]
  },
  {
   "cell_type": "code",
   "execution_count": null,
   "id": "e8fcb225",
   "metadata": {},
   "outputs": [],
   "source": [
    "ax = plt.gca()\n"
   ]
  },
  {
   "cell_type": "code",
   "execution_count": null,
   "id": "4f7a776e",
   "metadata": {},
   "outputs": [],
   "source": [
    "ax.spines[['top', 'right']].set_visible(True)"
   ]
  },
  {
   "cell_type": "code",
   "execution_count": null,
   "id": "0165676b",
   "metadata": {},
   "outputs": [],
   "source": [
    "# curr_active_pipeline.perform_specific_computation(computation_functions_name_whitelist=['_perform_long_short_firing_rate_analyses'], fail_on_exception=True, debug_print=False) # fail_on_exception MUST be True or error handling is all messed up \n",
    "long_short_fr_indicies_analysis_results = curr_active_pipeline.global_computation_results.computed_data['long_short_fr_indicies_analysis']\n",
    "x_frs_index, y_frs_index = long_short_fr_indicies_analysis_results['x_frs_index'], long_short_fr_indicies_analysis_results['y_frs_index'] # use the all_results_dict as the computed data value\n",
    "active_context = long_short_fr_indicies_analysis_results['active_context']\n",
    "long_short_fr_indicies_analysis_results"
   ]
  },
  {
   "cell_type": "code",
   "execution_count": null,
   "id": "d17b7ada",
   "metadata": {},
   "outputs": [],
   "source": []
  },
  {
   "attachments": {},
   "cell_type": "markdown",
   "id": "e0409e08",
   "metadata": {},
   "source": [
    "# Other Programmatic Figures"
   ]
  },
  {
   "cell_type": "code",
   "execution_count": null,
   "id": "3ecc42a2",
   "metadata": {},
   "outputs": [],
   "source": [
    "batch_extended_programmatic_figures(curr_active_pipeline=curr_active_pipeline)"
   ]
  },
  {
   "cell_type": "code",
   "execution_count": null,
   "id": "4289a4c9",
   "metadata": {},
   "outputs": [],
   "source": [
    "batch_programmatic_figures(curr_active_pipeline=curr_active_pipeline)"
   ]
  },
  {
   "cell_type": "code",
   "execution_count": null,
   "id": "5977e9df",
   "metadata": {},
   "outputs": [],
   "source": [
    "# Output the 2D placefields for my presentation\n",
    "from neuropy.core.neuron_identities import PlotStringBrevityModeEnum\n",
    "from neuropy.plotting.ratemaps import BackgroundRenderingOptions"
   ]
  },
  {
   "cell_type": "code",
   "execution_count": null,
   "id": "64cbba87",
   "metadata": {},
   "outputs": [],
   "source": [
    "\n",
    "# '_display_2d_placefield_result_plot_ratemaps_2D'\n",
    "# %matplotlib inline\n",
    "%matplotlib qt\n",
    "# curr_active_pipeline.display('_display_2d_placefield_result_plot_ratemaps_2D', long_epoch_context) # MatplotlibRenderPlots\n"
   ]
  },
  {
   "cell_type": "code",
   "execution_count": null,
   "id": "48029c22",
   "metadata": {},
   "outputs": [],
   "source": [
    "\n",
    "# long_pf2D.plot_occupancy()\n",
    "_out = short_one_step_decoder_2D.pf.plot_ratemaps_2D(included_unit_neuron_IDs=[2,4,5], bg_rendering_mode=BackgroundRenderingOptions.EMPTY, use_special_overlayed_title=False, missing_aclu_string_formatter=None, debug_print=False, brev_mode=PlotStringBrevityModeEnum.NONE)\n",
    "\n",
    "## Single column output: subplots=(None, 9)\n"
   ]
  },
  {
   "cell_type": "code",
   "execution_count": null,
   "id": "14977e80",
   "metadata": {},
   "outputs": [],
   "source": [
    "# %%capture\n",
    "active_display_to_pdf_fn(curr_active_pipeline, curr_display_function_name='_display_1d_placefields', debug_print=False) # 🟢✅ Now seems to be working and saving to PDF!! Still using matplotlib.use('Qt5Agg') mode and plots still appear."
   ]
  },
  {
   "cell_type": "code",
   "execution_count": null,
   "id": "c2686e3f",
   "metadata": {},
   "outputs": [],
   "source": [
    "long_shared_aclus_only_decoder.pf.plot_occupancy()"
   ]
  },
  {
   "cell_type": "code",
   "execution_count": null,
   "id": "37ae6c7f",
   "metadata": {},
   "outputs": [],
   "source": [
    "%matplotlib qt\n",
    "long_one_step_decoder_2D.pf.plot_occupancy()"
   ]
  },
  {
   "cell_type": "code",
   "execution_count": null,
   "id": "a8006610",
   "metadata": {},
   "outputs": [],
   "source": [
    "long_one_step_decoder_2D.pf.plot_ratemaps_2D()"
   ]
  },
  {
   "cell_type": "code",
   "execution_count": null,
   "id": "d49dcc7e",
   "metadata": {},
   "outputs": [],
   "source": [
    "# curr_active_pipeline.display('_display_short_long_pf1D_comparison', active_session_configuration_context=global_epoch_context, single_figure=False)\n",
    "\n",
    "short_one_step_decoder_1D"
   ]
  },
  {
   "cell_type": "code",
   "execution_count": null,
   "id": "402834bd",
   "metadata": {},
   "outputs": [],
   "source": [
    "%matplotlib qt\n",
    "active_identifying_session_ctx = curr_active_pipeline.sess.get_context() # 'bapun_RatN_Day4_2019-10-15_11-30-06'\n",
    "\n",
    "long_single_cell_pfmap_processing_fn = None\n",
    "short_single_cell_pfmap_processing_fn = None\n",
    "\n",
    "# long_single_cell_pfmap_processing_fn = lambda i, aclu, pfmap: 0.5 * pfmap # flip over the y-axis\n",
    "# short_single_cell_pfmap_processing_fn = lambda i, aclu, pfmap: -0.5 * pfmap # flip over the y-axis\n",
    "\n",
    "# pad = 1\n",
    "# long_single_cell_pfmap_processing_fn = lambda i, aclu, pfmap: (0.5 * pfmap) + (0.5*pad) # shift the baseline up by half\n",
    "# short_single_cell_pfmap_processing_fn = lambda i, aclu, pfmap: (-0.5 * pfmap * pad) + (0.5*pad) # flip over the y-axis, shift the baseline down by half\n",
    "\n",
    "# pad = 1\n",
    "# long_single_cell_pfmap_processing_fn = lambda i, aclu, pfmap: (0.5 * pfmap * pad) + (0.5*pad) # shift the baseline up by half\n",
    "# short_single_cell_pfmap_processing_fn = lambda i, aclu, pfmap: (0.5 * pfmap * pad) + (0.5*pad) # flip over the y-axis, shift the baseline down by half\n",
    "# long_single_cell_pfmap_processing_fn = lambda i, aclu, pfmap: (0.5 * pfmap * pad) # shift the baseline up by half\n",
    "# short_single_cell_pfmap_processing_fn = lambda i, aclu, pfmap: (0.5 * pfmap * pad) # flip over the y-axis, shift the baseline down by half\n",
    "\n",
    "\n",
    "# long_single_cell_pfmap_processing_fn = lambda i, aclu, pfmap: (1.0 * pfmap * pad) # shift the baseline up by half\n",
    "# short_single_cell_pfmap_processing_fn = lambda i, aclu, pfmap: (-1.0 * pfmap * pad) + (1.0*pad) # this does not work and results in short being fully filled. I think this is because the fill_between gets reversed since everything is below baseline\n",
    "\n",
    "sort_idx = None\n",
    "\n",
    "out = curr_active_pipeline.display('_display_short_long_pf1D_comparison', active_identifying_session_ctx, single_figure=False, debug_print=False, fignum='Short v Long pf1D Comparison',\n",
    "                                   long_kwargs={'sortby': sort_idx, 'single_cell_pfmap_processing_fn': long_single_cell_pfmap_processing_fn},\n",
    "                                   short_kwargs={'sortby': sort_idx, 'single_cell_pfmap_processing_fn': short_single_cell_pfmap_processing_fn, 'curve_hatch_style': {'hatch':'///', 'edgecolor':'k'}},\n",
    "                                  )\n",
    "\n",
    "# ax = out.axes[0]"
   ]
  },
  {
   "cell_type": "code",
   "execution_count": null,
   "id": "d0cfbb30",
   "metadata": {},
   "outputs": [],
   "source": [
    "sort_idx = np.argsort(product_overlap_scalars_df.prod_overlap.to_numpy())[::-1] # the `[::-1]` term reverses the array, which by defaul is returned in ascending order and we want descending\n",
    "sort_idx"
   ]
  },
  {
   "cell_type": "code",
   "execution_count": null,
   "id": "fe831b56",
   "metadata": {},
   "outputs": [],
   "source": [
    "\n",
    "\n",
    "curr_ratemap = long_one_step_decoder_1D.pf.ratemap\n",
    "curr_ratemap.get_sort_indicies()\n",
    "# .pf1D.ratemap"
   ]
  },
  {
   "cell_type": "code",
   "execution_count": null,
   "id": "23228854",
   "metadata": {},
   "outputs": [],
   "source": [
    "# Create `master_dock_win` - centralized plot output window to collect individual figures/controls in (2022-08-18)\n",
    "\n",
    "active_identifying_session_ctx = curr_active_pipeline.filtered_contexts['maze']\n",
    "display_output = curr_active_pipeline.display('_display_context_nested_docks', active_identifying_session_ctx, enable_gui=False, debug_print=True) # returns {'master_dock_win': master_dock_win, 'app': app, 'out_items': out_items}\n",
    "master_dock_win = display_output['master_dock_win']\n",
    "app = display_output['app']\n",
    "out_items = display_output['out_items']\n",
    "\n",
    "# def _get_curr_figure_format_config():\n",
    "# \t\"\"\" Aims to fetch the current figure_format_config and context from the figure_format_config widget:    \n",
    "# \tImplicitly captures: `out_items`, `active_config_name`, `active_identifying_filtered_session_ctx` \n",
    "# \t\"\"\"\n",
    "# \t## Get the figure_format_config from the figure_format_config widget:\n",
    "# \t# Fetch the context from the GUI:\n",
    "# \t_curr_gui_session_ctx, _curr_gui_out_display_items = out_items[active_config_name]\n",
    "# \t_curr_gui_figure_format_config_widget = _curr_gui_out_display_items[active_identifying_filtered_session_ctx.adding_context('display_fn', display_fn_name='figure_format_config_widget')] # [0] is seemingly not needed to unpack the tuple\n",
    "# \tif _curr_gui_figure_format_config_widget is not None:\n",
    "# \t\t# has GUI for config\n",
    "# \t\tfigure_format_config = _curr_gui_figure_format_config_widget.figure_format_config\n",
    "# \telse:\n",
    "# \t\t# has non-GUI provider of figure_format_config\n",
    "# \t\tfigure_format_config = _curr_gui_figure_format_config_widget.figure_format_config\n",
    "\n",
    "# \tif debug_print:\n",
    "# \t\tprint(f'recovered gui figure_format_config: {figure_format_config}')\n",
    "\n",
    "# \treturn figure_format_config\n",
    "\n",
    "# figure_format_config = _get_curr_figure_format_config()"
   ]
  },
  {
   "attachments": {},
   "cell_type": "markdown",
   "id": "b1e8629a",
   "metadata": {},
   "source": [
    "# 2023-04-27 - Idea: Candidate Replay \"Quality\" Metric\n",
    "Observed that I visually distinguish \"good\" replays from bad ones based on their mostly-monotonically increasing nature.\n",
    "\n",
    "#### They don't have to:\n",
    "\tSpan the whole track\n",
    "\tStart or end at an end-cap\n",
    "\tIncrease linearly\n",
    "\n",
    "#### The algorithm must:\n",
    "\ttolerate ocasional jumps in an otherwise linear sequence\n",
    "\tallow sequences to \"start\" only halfway through. They should extract out the coherent sequence\n",
    "\n",
    "#### Ideas:\n",
    "\t- just a linear fit\n",
    "\t- a monotonicity check using some sort of cumulative sum over the differences in position.\n",
    "\t- \"radon transform\"?"
   ]
  },
  {
   "attachments": {},
   "cell_type": "markdown",
   "id": "de511aa5",
   "metadata": {},
   "source": [
    "# 2023-05-02 - Session Validation Check Info\n",
    "Generate info about the number of laps detected, the duration, the number of cells, the number of replays, etc for the active session so that it can be ensured that there wasn't an error that is messing up the analysis."
   ]
  },
  {
   "cell_type": "code",
   "execution_count": null,
   "id": "15697281",
   "metadata": {},
   "outputs": [],
   "source": [
    "curr_active_pipeline.active_sess_config"
   ]
  },
  {
   "attachments": {},
   "cell_type": "markdown",
   "id": "d5045805",
   "metadata": {},
   "source": [
    "# Pipeline Comprehensive:\n"
   ]
  },
  {
   "cell_type": "code",
   "execution_count": null,
   "id": "8c49561b",
   "metadata": {},
   "outputs": [],
   "source": [
    "## Top level objects:\n",
    "curr_active_pipeline.active_sess_config\n",
    "curr_active_pipeline.sess\n",
    "\n",
    "\n",
    "\n",
    "# Function of config names or contexts:\n",
    "curr_active_pipeline.filtered_contexts\n",
    "\n",
    "curr_active_pipeline.filtered_sessions\n",
    "curr_active_pipeline.active_configs # each is a `InteractivePlaceCellConfig` type object\n",
    "\tcurr_active_pipeline._stage.active_configs['maze1']\n",
    "\n",
    "\n",
    "\n",
    "curr_active_pipeline.computation_results\n",
    "\n",
    "\n",
    "curr_active_pipeline.global_computation_results\n",
    "\n"
   ]
  },
  {
   "cell_type": "code",
   "execution_count": null,
   "id": "05560f86",
   "metadata": {},
   "outputs": [],
   "source": [
    "from neuropy.core.epoch import EpochsAccessor, Epoch\n",
    "\n",
    "sess = curr_active_pipeline.sess\n",
    "# sess.replay.epochs.debug_print_info('replays')\n",
    "\n",
    "\n",
    "def debug_print_session_epochs_info(sess, session_name:str):\n",
    "\t\"\"\" \n",
    "\n",
    "\tExample:\n",
    "\t\tdebug_print_session_epochs_info(curr_active_pipeline.sess, 'sess')\n",
    "\t\tdebug_print_session_epochs_info(long_session, 'long_session')\n",
    "\t\tdebug_print_session_epochs_info(short_session, 'short_session')\n",
    "\t\tdebug_print_session_epochs_info(global_session, 'global_session')\n",
    "\n",
    "\tsess:\n",
    "\t\tnum replays: 1729\n",
    "\t\tnum laps: 80\n",
    "\tlong_session:\n",
    "\t\tnum replays: 661\n",
    "\t\tnum laps: 40\n",
    "\tshort_session:\n",
    "\t\tnum replays: 1068\n",
    "\t\tnum laps: 40\n",
    "\tglobal_session:\n",
    "\t\tnum replays: 1729\n",
    "\t\tnum laps: 80\n",
    "\t\t\n",
    "\t\n",
    "\t\"\"\"\t\n",
    "\n",
    "\treplays_df = sess.replay\n",
    "\tlaps_df = sess.laps.as_epoch_obj().to_dataframe()\n",
    "\tprint(f'{session_name}:')\n",
    "\tprint(f'\\tnum replays: {replays_df.epochs.n_epochs}')\n",
    "\tprint(f'\\tnum laps: {laps_df.epochs.n_epochs}')\n",
    "\n",
    "# (long_one_step_decoder_1D, short_one_step_decoder_1D), (long_one_step_decoder_2D, short_one_step_decoder_2D) = compute_short_long_constrained_decoders(curr_active_pipeline, recalculate_anyway=True)\n",
    "long_epoch_name, short_epoch_name, global_epoch_name = curr_active_pipeline.find_LongShortGlobal_epoch_names()\n",
    "long_epoch_context, short_epoch_context, global_epoch_context = [curr_active_pipeline.filtered_contexts[a_name] for a_name in (long_epoch_name, short_epoch_name, global_epoch_name)]\n",
    "long_session, short_session, global_session = [curr_active_pipeline.filtered_sessions[an_epoch_name] for an_epoch_name in [long_epoch_name, short_epoch_name, global_epoch_name]]\n",
    "# long_results, short_results, global_results = [curr_active_pipeline.computation_results[an_epoch_name]['computed_data'] for an_epoch_name in [long_epoch_name, short_epoch_name, global_epoch_name]]\n",
    "# long_pf1D, short_pf1D, global_pf1D = long_results.pf1D, short_results.pf1D, global_results.pf1D\n",
    "# long_pf2D, short_pf2D, global_pf2D = long_results.pf2D, short_results.pf2D, global_results.pf2D\n",
    "# decoding_time_bin_size = long_one_step_decoder_1D.time_bin_size # 1.0/30.0 # 0.03333333333333333\n",
    "\n",
    "\n",
    "\n",
    "debug_print_session_epochs_info(curr_active_pipeline.sess, 'sess')\n",
    "debug_print_session_epochs_info(long_session, 'long_session')\n",
    "debug_print_session_epochs_info(short_session, 'short_session')\n",
    "debug_print_session_epochs_info(global_session, 'global_session')\n",
    "\n",
    "\n",
    "# epoch_df = sess.laps.to_dataframe()\n",
    "\n",
    "# epoch_df.epochs.n_epochs\n",
    "\n",
    "\n",
    "# epoch_name = 'laps'\n",
    "# num_epochs = epoch_df.epochs.n_epochs # np.shape(epoch_df)[0]\n",
    "# print(f'num {epoch_name}: {num_epochs}')\n",
    "\n",
    "# sess.replay.to_dataframe()\n",
    "\n",
    "# def debug_print_session_epochs_info(num_updated_total_items: int, num_original_total_items: int, item_label=None, subsession_name=None):\n",
    "#     print('{}/{} total {} remain in subsession {}'.format(num_updated_total_items, num_original_total_items, (item_label or \"items\"), (subsession_name or \"\")))\n",
    "\n",
    "# debug_print_subsession_epochs_differences(num_updated_total_items=len(long_session.replay), num_original_total_items=len(long_session.replay_backup), item_label='replays', subsession_name='\"long\"')\n",
    "# debug_print_subsession_epochs_differences(num_updated_total_items=len(short_session.replay), num_original_total_items=len(short_session.replay_backup), item_label='replays', subsession_name='\"short\"')\n",
    "\n"
   ]
  },
  {
   "cell_type": "code",
   "execution_count": null,
   "id": "ed69eafd",
   "metadata": {},
   "outputs": [],
   "source": [
    "\n",
    "def debug_print_subsession_epochs_differences(num_updated_total_items: int, num_original_total_items: int, item_label=None, subsession_name=None):\n",
    "    print('{}/{} total {} remain in subsession {}'.format(num_updated_total_items, num_original_total_items, (item_label or \"items\"), (subsession_name or \"\")))\n",
    "\n",
    "debug_print_subsession_epochs_differences(num_updated_total_items=len(long_session.replay), num_original_total_items=len(long_session.replay_backup), item_label='replays', subsession_name='\"long\"')\n",
    "debug_print_subsession_epochs_differences(num_updated_total_items=len(short_session.replay), num_original_total_items=len(short_session.replay_backup), item_label='replays', subsession_name='\"short\"')\n"
   ]
  },
  {
   "cell_type": "code",
   "execution_count": null,
   "id": "c5e67e5a",
   "metadata": {},
   "outputs": [],
   "source": [
    "debug_print_subsession_epochs_differences(num_updated_total_items=len(long_session.laps), num_original_total_items=len(long_session.replay_backup), item_label='laps', subsession_name='\"long\"')\n",
    "debug_print_subsession_epochs_differences(num_updated_total_items=len(short_session.laps), num_original_total_items=len(short_session.replay_backup), item_label='laps', subsession_name='\"short\"')\n"
   ]
  },
  {
   "cell_type": "code",
   "execution_count": null,
   "id": "56308516",
   "metadata": {},
   "outputs": [],
   "source": [
    "# Session Comprehensive:\n",
    "sess = curr_active_pipeline.sess\n",
    "\n",
    "sess.\n",
    "# sess.panel_dataframes_overview()\n",
    "\n",
    "## Visual:\n",
    "# SyntaxError('invalid syntax', ('<string>', 1, 1, '<bound method DataSession.panel_dataframes_overview of DataSession(2006-6-07_16-40-19.xml)>'))\n",
    "# pn.extension(comms='ipywidgets')"
   ]
  },
  {
   "cell_type": "code",
   "execution_count": null,
   "id": "f714aa79",
   "metadata": {},
   "outputs": [],
   "source": [
    "before_num_rows = self.n_epochs        \n",
    "filtered_epochs = convert_PortionInterval_to_epochs_df(_convert_start_end_tuples_list_to_PortionInterval(zip(self.starts, self.stops)))\n",
    "after_num_rows = np.shape(filtered_epochs)[0]\n",
    "changed_num_rows = after_num_rows - before_num_rows\n",
    "print(f'Dataframe Changed from {before_num_rows} -> {after_num_rows} ({changed_num_rows = })')"
   ]
  },
  {
   "cell_type": "code",
   "execution_count": null,
   "id": "c8caf529",
   "metadata": {},
   "outputs": [],
   "source": [
    "from neuropy.utils.debug_helpers import debug_print_placefield, debug_print_spike_counts, debug_print_subsession_neuron_differences, print_aligned_columns\n",
    "from neuropy.utils.misc import print_seconds_human_readable\n",
    "\n",
    "debug_print_spike_counts(global_session)"
   ]
  },
  {
   "cell_type": "code",
   "execution_count": null,
   "id": "80205471",
   "metadata": {},
   "outputs": [],
   "source": [
    "from pyphoplacecellanalysis.General.Mixins.CrossComputationComparisonHelpers import _compare_computation_results\n",
    "# curr_active_pipeline.computation_results\n",
    "# pf_neurons_diff = _compare_computation_results(curr_active_pipeline.computation_results.maze1_PYR, curr_active_pipeline.computation_results.maze2_PYR)\n",
    "pf_neurons_diff = _compare_computation_results(long_results, short_results)\n",
    "pf_neurons_diff"
   ]
  },
  {
   "cell_type": "code",
   "execution_count": null,
   "id": "0000ecb5",
   "metadata": {},
   "outputs": [],
   "source": [
    "print(pf_neurons_diff)"
   ]
  },
  {
   "attachments": {},
   "cell_type": "markdown",
   "id": "7125b9f7",
   "metadata": {},
   "source": [
    "### Plotting Validations"
   ]
  },
  {
   "cell_type": "code",
   "execution_count": null,
   "id": "0b942014",
   "metadata": {},
   "outputs": [],
   "source": [
    "%matplotlib qt\n",
    "short_one_step_decoder_1D.pf.plot_ratemaps_1D()"
   ]
  },
  {
   "cell_type": "code",
   "execution_count": null,
   "id": "8bfe7eb9",
   "metadata": {},
   "outputs": [],
   "source": [
    "short_results.pf1D_Decoder.pf.plot_ratemaps_1D()"
   ]
  },
  {
   "cell_type": "code",
   "execution_count": null,
   "id": "2bed5960",
   "metadata": {},
   "outputs": [],
   "source": [
    "short_results.pf2D_Decoder.pf.plot_ratemaps_2D()\n",
    "short_one_step_decoder_2D.pf.plot_ratemaps_2D()"
   ]
  },
  {
   "cell_type": "code",
   "execution_count": null,
   "id": "a7ea99e3",
   "metadata": {},
   "outputs": [],
   "source": [
    "%matplotlib qt\n",
    "long_session.plot_laps_2d()"
   ]
  },
  {
   "cell_type": "code",
   "execution_count": null,
   "id": "a0d18bc8",
   "metadata": {},
   "outputs": [],
   "source": [
    "from pyphoplacecellanalysis.PhoPositionalData.plotting.laps import plot_laps_2d\n",
    "\n",
    "%matplotlib qt\n",
    "fig, out_axes_list = plot_laps_2d(global_session, legacy_plotting_mode=False)\n",
    "out_axes_list[0].set_title('New Pho Position Thresholding Estimated Laps')\n",
    "fig.canvas.manager.set_window_title('New Pho Position Thresholding Estimated Laps')"
   ]
  },
  {
   "cell_type": "code",
   "execution_count": null,
   "id": "cae2e3a2",
   "metadata": {},
   "outputs": [],
   "source": [
    "## Laps \n",
    "from pyphoplacecellanalysis.GUI.PyVista.InteractivePlotter.Mixins.LapsVisualizationMixin import LapsVisualizationMixin\n",
    "\n",
    "curr_position_df, lap_specific_position_dfs = LapsVisualizationMixin._compute_laps_specific_position_dfs(curr_active_pipeline.sess)\n",
    "lap_specific_position_dfs = [curr_position_df.groupby('lap').get_group(i)[['t','x','y','lin_pos']] for i in curr_active_pipeline.sess.laps.lap_id] # dataframes split for each ID:\n",
    "laps_position_times_list = [np.squeeze(lap_pos_df[['t']].to_numpy()) for lap_pos_df in lap_specific_position_dfs]\n",
    "laps_position_traces_list = [lap_pos_df[['x','y']].to_numpy().T for lap_pos_df in lap_specific_position_dfs]\n",
    "## Build Epochs:\n",
    "epochs = curr_active_pipeline.sess.laps.to_dataframe()\n",
    "epoch_slices = epochs[['start', 'stop']].to_numpy()\n",
    "epoch_description_list = [f'lap {epoch_tuple.lap_id} (maze: {epoch_tuple.maze_id}, direction: {epoch_tuple.lap_dir})' for epoch_tuple in epochs[['lap_id','maze_id','lap_dir']].itertuples()]\n",
    "# print(f'epoch_description_list: {epoch_description_list}') # epoch_descriptions: ['lap 41 (maze: 2, direction: 1)', 'lap 42 (maze: 2, direction: 0)', 'lap 43 (maze: 2, direction: 1)', 'lap 44 (maze: 2, direction: 0)', 'lap 45 (maze: 2, direction: 1)', 'lap 46 (maze: 2, direction: 0)', 'lap 47 (maze: 2, direction: 1)', 'lap 48 (maze: 2, direction: 0)', 'lap 49 (maze: 2, direction: 1)', 'lap 50 (maze: 2, direction: 0)', 'lap 51 (maze: 2, direction: 1)', 'lap 52 (maze: 2, direction: 0)', 'lap 53 (maze: 2, direction: 1)', 'lap 54 (maze: 2, direction: 0)', 'lap 55 (maze: 2, direction: 1)', 'lap 56 (maze: 2, direction: 0)', 'lap 57 (maze: 2, direction: 1)', 'lap 58 (maze: 2, direction: 0)', 'lap 59 (maze: 2, direction: 1)', 'lap 60 (maze: 2, direction: 0)', 'lap 61 (maze: 2, direction: 1)', 'lap 62 (maze: 2, direction: 0)', 'lap 63 (maze: 2, direction: 1)', 'lap 64 (maze: 2, direction: 0)', 'lap 65 (maze: 2, direction: 1)', 'lap 66 (maze: 2, direction: 0)', 'lap 67 (maze: 2, direction: 1)', 'lap 68 (maze: 2, direction: 0)', 'lap 69 (maze: 2, direction: 1)', 'lap 70 (maze: 2, direction: 0)', 'lap 71 (maze: 2, direction: 1)', 'lap 72 (maze: 2, direction: 0)', 'lap 73 (maze: 2, direction: 1)', 'lap 74 (maze: 2, direction: 0)', 'lap 75 (maze: 2, direction: 1)', 'lap 76 (maze: 2, direction: 0)', 'lap 77 (maze: 2, direction: 1)', 'lap 78 (maze: 2, direction: 0)', 'lap 79 (maze: 2, direction: 1)']\n",
    "# -"
   ]
  }
 ],
 "metadata": {
  "kernelspec": {
   "display_name": "spike3d-poetry",
   "language": "python",
   "name": "spike3d-poetry"
  },
  "language_info": {
   "codemirror_mode": {
    "name": "ipython",
    "version": 3
   },
   "file_extension": ".py",
   "mimetype": "text/x-python",
   "name": "python",
   "nbconvert_exporter": "python",
   "pygments_lexer": "ipython3",
   "version": "3.9.13"
  },
  "toc-showmarkdowntxt": false,
  "toc-showtags": false
 },
 "nbformat": 4,
 "nbformat_minor": 5
}
