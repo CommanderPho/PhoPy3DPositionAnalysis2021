{
 "cells": [
  {
   "cell_type": "code",
   "execution_count": 1,
   "id": "42773a01-50f7-4ebd-818e-e8a44f614ad5",
   "metadata": {
    "tags": []
   },
   "outputs": [],
   "source": [
    "%config IPCompleter.use_jedi = False\n",
    "%pdb off\n",
    "# %load_ext viztracer\n",
    "# from viztracer import VizTracer\n",
    "%load_ext autoreload\n",
    "%autoreload 2\n",
    "import sys\n",
    "import traceback # for stack trace formatting\n",
    "import importlib\n",
    "from pathlib import Path\n",
    "import os"
   ]
  },
  {
   "cell_type": "code",
   "execution_count": 5,
   "id": "af3560f4-d81e-45b3-861c-8e052cdd30b4",
   "metadata": {
    "tags": []
   },
   "outputs": [],
   "source": [
    "import re\n",
    "from enum import Enum\n",
    "\n",
    "script_dir = Path('scripts') # Path(os.path.dirname(os.path.abspath(__file__))) # /home/halechr/repos/Spike3D/scripts\n",
    "print(f'script_dir: {script_dir}')\n",
    "root_dir = script_dir.parent # Spike3D root repo dir\n",
    "os.chdir(root_dir)"
   ]
  },
  {
   "cell_type": "code",
   "execution_count": 6,
   "id": "98cd61f5-2b89-4840-9f84-403dfacf5245",
   "metadata": {
    "tags": []
   },
   "outputs": [],
   "source": [
    "def insert_text(source_file, insert_text_str:str, output_file, insertion_string:str='<INSERT_HERE>'):\n",
    "    \"\"\"Inserts the text from insert_text_str into the source_file at the insertion_string, and saves the result to output_file.\n",
    "\n",
    "    Args:\n",
    "        source_file (_type_): _description_\n",
    "        insert_text_str (str): _description_\n",
    "        output_file (_type_): _description_\n",
    "        insertion_string (str, optional): _description_. Defaults to '<INSERT_HERE>'.\n",
    "    \"\"\"\n",
    "    # Load the source text\n",
    "    with open(source_file, 'r') as f:\n",
    "        source_text = f.read()\n",
    "\n",
    "    # Find the insertion point in the source text\n",
    "    insert_index = source_text.find(insertion_string)\n",
    "\n",
    "    # Insert the text\n",
    "    updated_text = source_text[:insert_index] + insert_text_str + source_text[insert_index:]\n",
    "\n",
    "    # Save the updated text to the output file\n",
    "    with open(output_file, 'w') as f:\n",
    "        f.write(updated_text)\n",
    "\n",
    "def insert_text_from_file(source_file, insert_file, output_file, insertion_string:str='<INSERT_HERE>'):\n",
    "    \"\"\" Wraps insert_text, but loads the insert_text from a file instead of a string. \"\"\"\n",
    "    # Load the insert text\n",
    "    with open(insert_file, 'r') as f:\n",
    "        insert_text_str = f.read()\n",
    "    insert_text(source_file, insert_text_str, output_file, insertion_string)\n",
    "\n",
    "\n",
    "# ==================================================================================================================== #\n",
    "# Project versioning:                                                                                                  #\n",
    "# ==================================================================================================================== #\n",
    "\n",
    "# pyproject_files = {'release':'pyproject_release.toml', 'dev':'pyproject_dev.toml'}\n",
    "\n",
    "class VersionType(Enum):\n",
    "    \"\"\"Docstring for VersionType.\"\"\"\n",
    "    RELEASE = \"release\"\n",
    "    dev = \"dev\"\n",
    "    \n",
    "    @property\n",
    "    def pyproject_template_file(self):\n",
    "        \"\"\"The pyproject_exclusive_text property.\"\"\"\n",
    "        filename = {'release': \"templating/pyproject_template_release.toml_fragment\",\n",
    "        'dev': \"templating/pyproject_template_dev.toml_fragment\"}\n",
    "        if self.name == VersionType.RELEASE.name:\n",
    "            return filename['release']\n",
    "        elif self.name == VersionType.dev.name:\n",
    "            return filename['dev']\n",
    "        else:\n",
    "            raise ValueError(f\"VersionType {self.name} not recognized.\")\n",
    "\n",
    "    @property\n",
    "    def pyproject_exclusive_text(self):\n",
    "        \"\"\"The pyproject_exclusive_text property.\"\"\"\n",
    "        _pyproject_exclusive_text_dict = {'release': \"\"\"[tool.poetry.group.local.dependencies]\n",
    "        neuropy = {path = \"../NeuroPy\", develop=true} # , extras = [\"acceleration\"]\n",
    "        pyphocorehelpers = {path = \"../pyPhoCoreHelpers\", develop=true}\n",
    "        pyphoplacecellanalysis = {path = \"../pyPhoPlaceCellAnalysis\", develop=true}\"\"\",\n",
    "        'dev': \"\"\"[tool.poetry.group.local.dependencies]\n",
    "        neuropy = {path = \"../NeuroPy\", develop=true} # , extras = [\"acceleration\"]\n",
    "        pyphocorehelpers = {path = \"../pyPhoCoreHelpers\", develop=true}\n",
    "        pyphoplacecellanalysis = {path = \"../pyPhoPlaceCellAnalysis\", develop=true}\"\"\"}\n",
    "        if self.name == VersionType.RELEASE.name:\n",
    "            return _pyproject_exclusive_text_dict['release']\n",
    "        elif self.name == VersionType.dev.name:\n",
    "            return _pyproject_exclusive_text_dict['dev']\n",
    "        else:\n",
    "            raise ValueError(f\"VersionType {self.name} not recognized.\")\n",
    "    \n",
    "    @classmethod\n",
    "    def init_from_is_release(cls, is_release: bool):\n",
    "        if is_release:\n",
    "            return cls.RELEASE\n",
    "        else:\n",
    "            return cls.dev"
   ]
  },
  {
   "cell_type": "code",
   "execution_count": 191,
   "id": "197f0632-1ec2-4d68-b630-9dd9eefd3ae0",
   "metadata": {
    "tags": []
   },
   "outputs": [],
   "source": [
    "def replace_text_in_file(file_path, regex_pattern, replacement_string, debug_print=False):\n",
    "    with open(file_path, 'r') as file:\n",
    "        file_content = file.read()\n",
    "\n",
    "    if debug_print:\n",
    "        print(f\"====================== Read from file ({file_path}) ======================:\\n{file_content}\")\n",
    "    \n",
    "    # updated_content = re.sub(regex_pattern, replacement_string, file_content, flags=re.MULTILINE)\n",
    "    target_replace_strings = re.findall(regex_pattern, file_content, re.MULTILINE)\n",
    "    assert len(target_replace_strings) == 1\n",
    "    target_replace_string = target_replace_strings[0]\n",
    "    if debug_print:\n",
    "        print(f'Replacing:\\n{target_replace_string}')\n",
    "        print(f\"====================== replacing ======================:\\n{target_replace_string}\\n\\n====================== with replacement string ====================== :\\n{replacement_string}\\n\\n\")\n",
    "    updated_content = file_content.replace(target_replace_string, replacement_string, 1)\n",
    "    if debug_print:\n",
    "        print(updated_content)\n",
    "\n",
    "    if debug_print:\n",
    "        print(f\"======================  updated_content ====================== :\\n{updated_content}\\n\\n\")\n",
    "        print(f\"====================== saving to {file_path}...\")\n",
    "    with open(file_path, 'w') as file:\n",
    "        file.write(updated_content)"
   ]
  },
  {
   "cell_type": "code",
   "execution_count": 192,
   "id": "d2e0c2b8-4d70-471b-96c2-44784023308d",
   "metadata": {
    "tags": []
   },
   "outputs": [],
   "source": [
    "def build_pyproject_toml_file(repo_path, is_release=False, pyproject_template_file_name = 'templating/pyproject_template.toml_template', pyproject_final_file_name = 'pyproject.toml', debug_print=True):\n",
    "    \"\"\" Builds the complete final pyproject.toml file from the pyproject_template.toml_template for the current version (release or dev)\n",
    "\n",
    "    from Spike3D.scripts.setup_dependent_repos import build_pyproject_toml_file\n",
    "    build_pyproject_toml_file(\"C:/Users/pho/repos/Spike3DWorkEnv/pyPhoPlaceCellAnalysis\")\n",
    "\n",
    "    \"\"\"\n",
    "    os.chdir(repo_path)\n",
    "    curr_version = VersionType.init_from_is_release(is_release)\n",
    "    if debug_print:\n",
    "        print(f'Templating: Building pyproject.toml for {curr_version.name} version in {repo_path}...')\n",
    "        # insert_text(pyproject_template_file_name, curr_version.pyproject_exclusive_text, pyproject_final_file_name, insertion_string='<INSERT_HERE>')\n",
    "        print(f\"\\tpyproject_template_file_name: {pyproject_template_file_name},\\n\\tcurr_version.pyproject_template_file: {curr_version.pyproject_template_file},\\n\\tpyproject_final_file_name: {pyproject_final_file_name},\\n\\tinsertion_string='<INSERT_HERE>'\")\n",
    "        # insert_text_from_file(pyproject_template_file_name, curr_version.pyproject_template_file, pyproject_final_file_name, insertion_string='<INSERT_HERE>')\n",
    "\n",
    "    # remote_dependencies_regex = r\"^\\[tool\\.poetry\\.group\\.remote\\.dependencies\\]\\n((?:.+\\n)+?)\\n\"\n",
    "    # remote_dependencies_regex = r\"^(\\s*\\[tool\\.poetry\\.group\\.remote\\.dependencies\\]\\n(?:.+\\n)*\\n)\"\n",
    "    remote_dependencies_regex = r\"^(\\s*\\[tool\\.poetry\\.group\\.remote\\.dependencies\\]\\n(?:.+\\n)*)\\n\\[?\"\n",
    "    # Load the insert text\n",
    "    with open(curr_version.pyproject_template_file, 'r') as f:\n",
    "        insert_text_str = f.read()\n",
    "        \n",
    "    if not insert_text_str.startswith('\\n'):\n",
    "        # Add a leading newline if the loaded text doesn't already have one\n",
    "        insert_text_str = '\\n' + insert_text_str\n",
    "    if not insert_text_str.endswith('\\n\\n'):\n",
    "        # Add a trailing newline if the loaded text doesn't already have one\n",
    "        insert_text_str = insert_text_str + '\\n'\n",
    "    \n",
    "    if debug_print:\n",
    "        print(insert_text_str)\n",
    "    \n",
    "    replace_text_in_file(pyproject_final_file_name, remote_dependencies_regex, insert_text_str, debug_print=debug_print)"
   ]
  },
  {
   "cell_type": "code",
   "execution_count": 138,
   "id": "2f639ec4-f0e4-41ef-9b9f-0ff09e102df2",
   "metadata": {},
   "outputs": [],
   "source": [
    "remote_dependencies_regex = r\"^\\[tool\\.poetry\\.group\\.remote\\.dependencies\\]\\n((?:.+\\n)+?)\\n\"\n",
    "pyproject_template_file_name = 'templating/pyproject_template.toml_template'\n",
    "pyproject_final_file_name = 'pyproject.toml'\n"
   ]
  },
  {
   "cell_type": "code",
   "execution_count": 193,
   "id": "77284a64-8122-4fb6-a186-dd21b519418d",
   "metadata": {},
   "outputs": [],
   "source": [
    "test_repo_path = Path(\"C:/Users/pho/repos/Spike3DWorkEnv/pyPhoPlaceCellAnalysis\")\n",
    "# test_repo_path = Path(\"C:/Users/pho/repos/Spike3DWorkEnv/pyPhoCoreHelpers\")"
   ]
  },
  {
   "cell_type": "code",
   "execution_count": 194,
   "id": "41150fd0-7b4f-45a5-9b8c-c39af916010c",
   "metadata": {},
   "outputs": [],
   "source": [
    "build_pyproject_toml_file(test_repo_path, is_release=False, debug_print=False)"
   ]
  },
  {
   "cell_type": "code",
   "execution_count": 164,
   "id": "3f474f19-61b9-4a20-aa6f-53a3491986ac",
   "metadata": {},
   "outputs": [
    {
     "data": {
      "text/plain": [
       "'C:\\\\Users\\\\pho\\\\repos\\\\Spike3DWorkEnv\\\\pyPhoCoreHelpers\\\\pyproject.toml'"
      ]
     },
     "execution_count": 164,
     "metadata": {},
     "output_type": "execute_result"
    }
   ],
   "source": [
    "file_path = str(Path(test_repo_path).joinpath(pyproject_final_file_name).resolve())\n",
    "file_path"
   ]
  },
  {
   "cell_type": "code",
   "execution_count": 80,
   "id": "378b1eac-a108-49eb-b99a-9eb8661607cf",
   "metadata": {},
   "outputs": [],
   "source": [
    " "
   ]
  },
  {
   "cell_type": "code",
   "execution_count": 165,
   "id": "9d777f2f-0df5-4ac6-95d0-19659b4412d2",
   "metadata": {
    "scrolled": true,
    "tags": []
   },
   "outputs": [
    {
     "name": "stdout",
     "output_type": "stream",
     "text": [
      "[tool.poetry]\n",
      "name = \"pyphocorehelpers\"\n",
      "version = \"0.0.2\"\n",
      "description = \"A collection of generally useful python code by Pho Hale\"\n",
      "authors = [\"Pho Hale <CommanderPho@users.noreply.github.com>\"]\n",
      "readme = \"README.md\"\n",
      "\n",
      "[tool.poetry.dependencies]\n",
      "python = \">=3.9,<3.11\"\n",
      "objsize = \"^0.6.1\"\n",
      "indexed = \"^1.3.0\"\n",
      "PyQt5Singleton = \"^0.1\"\n",
      "h5py = \"^3.8.0\"\n",
      "QtPy = \"^2.1.0\"\n",
      "PyQt5-sip = \"^12.11.1\"\n",
      "numpy = \"^1.23.2\"\n",
      "pandas = \"^1.5.1\"\n",
      "\n",
      "ansi2html = \"^1.8.0\"\n",
      "numba = \"^0.56.4\"\n",
      "\n",
      "[tool.poetry.group.dev.dependencies]\n",
      "importlib-metadata = \"^6.0.0\"\n",
      "\n",
      "\n",
      "[tool.poetry.group.viz.dependencies]\n",
      "pyvista = \"^0.38.0\"\n",
      "matplotlib = \"^3.6.3\"\n",
      "vedo = \"^2023.4.3\"\n",
      "hdf5plugin = \"^4.1.1\"\n",
      "silx = \"^1.1.2\"\n",
      "vtk = \"^9.2.5\"\n",
      "\n",
      "[tool.poetry.group.remote.dependencies]\n",
      "neuropy = {git = \"https://github.com/CommanderPho/NeuroPy.git\"} # , rev = \"main\", extras = [\"acceleration\"]\n",
      "\n",
      "[build-system]\n",
      "requires = [\"poetry-core\"]\n",
      "build-backend = \"poetry.core.masonry.api\"\n",
      "\n"
     ]
    }
   ],
   "source": [
    "with open(file_path, 'r') as file:\n",
    "    file_content = file.read()\n",
    "print(file_content)"
   ]
  },
  {
   "cell_type": "code",
   "execution_count": 166,
   "id": "2de3e377-5aa4-457e-bceb-ff065cbb01f2",
   "metadata": {
    "scrolled": true,
    "tags": []
   },
   "outputs": [
    {
     "name": "stdout",
     "output_type": "stream",
     "text": [
      "\n",
      "[tool.poetry.group.remote.dependencies]\n",
      "neuropy = {git = \"https://github.com/CommanderPho/NeuroPy.git\"} # , rev = \"main\", extras = [\"acceleration\"]\n",
      "\n"
     ]
    }
   ],
   "source": [
    "is_release = True\n",
    "curr_version = VersionType.init_from_is_release(is_release)\n",
    "# remote_dependencies_regex = r\"^\\[tool\\.poetry\\.group\\.remote\\.dependencies\\]\\n((?:.+\\n)+?)\\n\"\n",
    "# remote_dependencies_regex = r\"^(\\s*\\[tool\\.poetry\\.group\\.remote\\.dependencies\\]\\n(?:.+\\n)*\\n)\"\n",
    "remote_dependencies_regex = r\"^(\\s*\\[tool\\.poetry\\.group\\.remote\\.dependencies\\]\\n(?:.+\\n)*)\\n\\[?\"\n",
    "# Load the insert text\n",
    "with open(curr_version.pyproject_template_file, 'r') as f:\n",
    "    insert_text_str = f.read()\n",
    "if not insert_text_str.startswith('\\n'):\n",
    "    # Add a leading newline if the loaded text doesn't already have one\n",
    "    insert_text_str = '\\n' + insert_text_str\n",
    "if not insert_text_str.endswith('\\n\\n'):\n",
    "    # Add a trailing newline if the loaded text doesn't already have one\n",
    "    insert_text_str = insert_text_str + '\\n'\n",
    "print(insert_text_str)"
   ]
  },
  {
   "cell_type": "code",
   "execution_count": 167,
   "id": "5fb1a317-e2f6-4c75-8a76-853f9eef88ff",
   "metadata": {
    "tags": []
   },
   "outputs": [
    {
     "data": {
      "text/plain": [
       "['\\n[tool.poetry.group.remote.dependencies]\\nneuropy = {git = \"https://github.com/CommanderPho/NeuroPy.git\"} # , rev = \"main\", extras = [\"acceleration\"]\\n']"
      ]
     },
     "execution_count": 167,
     "metadata": {},
     "output_type": "execute_result"
    }
   ],
   "source": [
    "test_remote_dependencies_regex = remote_dependencies_regex\n",
    "# test_remote_dependencies_regex = r'^\\\\[tool\\\\.poetry\\\\.group\\\\.remote\\\\.dependencies\\\\]\\\\n((?:.+\\n)+?)\\\\n'\n",
    "# test_remote_dependencies_regex = r\"\\n^\\s*\\[tool\\.poetry\\.group\\.remote\\.dependencies\\]\\n((?:\\s+.+\\n)+)\"\n",
    "# test_remote_dependencies_regex = r\"^(\\s*\\[tool\\.poetry\\.group\\.remote\\.dependencies\\]\\n(?:.+\\n)*\\n)\"\n",
    "\n",
    "re.findall(pattern=test_remote_dependencies_regex, string=file_content, flags=re.MULTILINE)"
   ]
  },
  {
   "cell_type": "code",
   "execution_count": 176,
   "id": "71fa2f97-ae21-46fd-b475-31adcdd6ebed",
   "metadata": {
    "tags": []
   },
   "outputs": [],
   "source": [
    "target_replace_strings = re.findall(test_remote_dependencies_regex, file_content, re.MULTILINE)\n",
    "assert len(target_replace_strings) == 1\n",
    "target_replace_string = target_replace_strings[0]\n",
    "target_replace_string\n",
    "\n",
    "updated_content = file_content.replace(target_replace_string, insert_text_str, 1)\n",
    "print(updated_content)"
   ]
  },
  {
   "cell_type": "code",
   "execution_count": 173,
   "id": "1b59d455-5b28-401a-a951-2644c39a5608",
   "metadata": {
    "tags": []
   },
   "outputs": [],
   "source": [
    "re.match(test_remote_dependencies_regex, file_content, re.MULTILINE)"
   ]
  },
  {
   "cell_type": "code",
   "execution_count": 169,
   "id": "47693105-0211-423b-b059-64a7be84d899",
   "metadata": {
    "tags": []
   },
   "outputs": [
    {
     "name": "stdout",
     "output_type": "stream",
     "text": [
      "[tool.poetry]\n",
      "name = \"pyphocorehelpers\"\n",
      "version = \"0.0.2\"\n",
      "description = \"A collection of generally useful python code by Pho Hale\"\n",
      "authors = [\"Pho Hale <CommanderPho@users.noreply.github.com>\"]\n",
      "readme = \"README.md\"\n",
      "\n",
      "[tool.poetry.dependencies]\n",
      "python = \">=3.9,<3.11\"\n",
      "objsize = \"^0.6.1\"\n",
      "indexed = \"^1.3.0\"\n",
      "PyQt5Singleton = \"^0.1\"\n",
      "h5py = \"^3.8.0\"\n",
      "QtPy = \"^2.1.0\"\n",
      "PyQt5-sip = \"^12.11.1\"\n",
      "numpy = \"^1.23.2\"\n",
      "pandas = \"^1.5.1\"\n",
      "\n",
      "ansi2html = \"^1.8.0\"\n",
      "numba = \"^0.56.4\"\n",
      "\n",
      "[tool.poetry.group.dev.dependencies]\n",
      "importlib-metadata = \"^6.0.0\"\n",
      "\n",
      "\n",
      "[tool.poetry.group.viz.dependencies]\n",
      "pyvista = \"^0.38.0\"\n",
      "matplotlib = \"^3.6.3\"\n",
      "vedo = \"^2023.4.3\"\n",
      "hdf5plugin = \"^4.1.1\"\n",
      "silx = \"^1.1.2\"\n",
      "vtk = \"^9.2.5\"\n",
      "\n",
      "[tool.poetry.group.remote.dependencies]\n",
      "neuropy = {git = \"https://github.com/CommanderPho/NeuroPy.git\"} # , rev = \"main\", extras = [\"acceleration\"]\n",
      "build-system]\n",
      "requires = [\"poetry-core\"]\n",
      "build-backend = \"poetry.core.masonry.api\"\n",
      "\n"
     ]
    }
   ],
   "source": [
    "updated_content = re.sub(test_remote_dependencies_regex, insert_text_str, file_content, flags=re.MULTILINE)\n",
    "print(updated_content)"
   ]
  },
  {
   "cell_type": "code",
   "execution_count": null,
   "id": "77c4d49e-f8ab-447d-b34b-b82d5286da7e",
   "metadata": {},
   "outputs": [],
   "source": []
  },
  {
   "cell_type": "code",
   "execution_count": 48,
   "id": "49623c62-4b7a-4f91-991f-f80c8c726c91",
   "metadata": {
    "tags": []
   },
   "outputs": [
    {
     "name": "stdout",
     "output_type": "stream",
     "text": [
      "[]\n"
     ]
    }
   ],
   "source": [
    "import re\n",
    "\n",
    "text = \"\"\"\n",
    "[tool.poetry.group.remote.dependencies]\n",
    "requests = \"^2.25.1\"\n",
    "numpy = \"^1.20.1\"\n",
    "\"\"\"\n",
    "\n",
    "regex = r\"^\\[tool\\.poetry\\.group\\.remote\\.dependencies\\]\\n((?:.+\\n)+?)\\n\"\n",
    "matches = re.findall(regex, text, re.MULTILINE)\n",
    "\n",
    "print(matches)\n"
   ]
  },
  {
   "cell_type": "code",
   "execution_count": 51,
   "id": "bfbffe79-9191-4ad4-8894-cfacb4e2db6a",
   "metadata": {
    "tags": []
   },
   "outputs": [
    {
     "name": "stdout",
     "output_type": "stream",
     "text": [
      "['  [tool.poetry.group.remote.dependencies]\\n  requests = \"^2.25.1\"\\n  numpy = \"^1.20.1\"\\n']\n"
     ]
    }
   ],
   "source": [
    "import re\n",
    "\n",
    "text = \"\"\"\n",
    "  [tool.poetry.group.remote.dependencies]\n",
    "  requests = \"^2.25.1\"\n",
    "  numpy = \"^1.20.1\"\n",
    "\"\"\"\n",
    "\n",
    "regex = r\"\\n^(\\s*\\[tool\\.poetry\\.group\\.remote\\.dependencies\\]\\n(?:\\s*.+\\s*\\n)+)\"\n",
    "matches = re.findall(regex, text, re.MULTILINE)\n",
    "\n",
    "print(matches)\n"
   ]
  },
  {
   "cell_type": "code",
   "execution_count": null,
   "id": "9a240cdc-8d84-4e17-9ed8-7da1b9f8677f",
   "metadata": {},
   "outputs": [],
   "source": []
  }
 ],
 "metadata": {
  "kernelspec": {
   "display_name": "spike3d-poetry",
   "language": "python",
   "name": "spike3d-poetry"
  },
  "language_info": {
   "codemirror_mode": {
    "name": "ipython",
    "version": 3
   },
   "file_extension": ".py",
   "mimetype": "text/x-python",
   "name": "python",
   "nbconvert_exporter": "python",
   "pygments_lexer": "ipython3",
   "version": "3.9.13"
  }
 },
 "nbformat": 4,
 "nbformat_minor": 5
}
