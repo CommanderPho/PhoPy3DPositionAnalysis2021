{
 "cells": [
  {
   "cell_type": "code",
   "execution_count": 7,
   "id": "0056bc66-7629-4ef7-8c87-f28f8fcd9dc8",
   "metadata": {
    "autorun": true,
    "tags": [
     "imports",
     "REQUIRED",
     "ACTIVE"
    ]
   },
   "outputs": [
    {
     "name": "stdout",
     "output_type": "stream",
     "text": [
      "Automatic pdb calling has been turned OFF\n",
      "The autoreload extension is already loaded. To reload it, use:\n",
      "  %reload_ext autoreload\n"
     ]
    }
   ],
   "source": [
    "%config IPCompleter.use_jedi = False\n",
    "%pdb off\n",
    "%load_ext autoreload\n",
    "%autoreload 3\n",
    "from pathlib import Path\n",
    "import pathlib\n",
    "import numpy as np\n",
    "import pandas as pd\n",
    "\n",
    "# required to enable non-blocking interaction:\n",
    "%gui qt5\n",
    "\n",
    "## Pho's Custom Libraries:\n",
    "from pyphocorehelpers.Filesystem.path_helpers import find_first_extant_path\n",
    "from pyphocorehelpers.function_helpers import function_attributes\n",
    "\n",
    "# pyPhoPlaceCellAnalysis:\n",
    "# NeuroPy (Diba Lab Python Repo) Loading\n",
    "from neuropy.core.session.Formats.BaseDataSessionFormats import DataSessionFormatRegistryHolder\n",
    "from neuropy.core.session.Formats.Specific.BapunDataSessionFormat import BapunDataSessionFormatRegisteredClass\n",
    "from neuropy.core.session.Formats.Specific.KDibaOldDataSessionFormat import KDibaOldDataSessionFormatRegisteredClass\n",
    "from neuropy.core.session.Formats.Specific.RachelDataSessionFormat import RachelDataSessionFormat\n",
    "from neuropy.core.session.Formats.Specific.HiroDataSessionFormat import HiroDataSessionFormatRegisteredClass\n",
    "\n",
    "## For computation parameters:\n",
    "from neuropy.utils.result_context import IdentifyingContext\n",
    "from neuropy.core.session.Formats.BaseDataSessionFormats import find_local_session_paths\n",
    "\n",
    "# from PendingNotebookCode import _perform_batch_plot, _build_batch_plot_kwargs\n",
    "# from pyphoplacecellanalysis.General.Batch.NonInteractiveProcessing import batch_load_session, batch_extended_computations, SessionBatchProgress, batch_programmatic_figures, batch_extended_programmatic_figures\n",
    "# from pyphoplacecellanalysis.General.Pipeline.NeuropyPipeline import PipelineSavingScheme\n",
    "from pyphoplacecellanalysis.General.Pipeline.Stages.Loading import saveData, loadData\n",
    "import pyphoplacecellanalysis.General.Batch.runBatch\n",
    "from pyphoplacecellanalysis.General.Batch.runBatch import BatchRun, BatchResultDataframeAccessor, run_diba_batch, BatchComputationProcessOptions, BatchSessionCompletionHandler\n",
    "from pyphoplacecellanalysis.General.Pipeline.NeuropyPipeline import PipelineSavingScheme\n",
    "from pyphoplacecellanalysis.General.Model.user_annotations import UserAnnotationsManager\n",
    "\n",
    "# from pyphocorehelpers.Filesystem.path_helpers import set_posix_windows"
   ]
  },
  {
   "cell_type": "code",
   "execution_count": 8,
   "id": "8ef5938c",
   "metadata": {
    "tags": []
   },
   "outputs": [],
   "source": [
    "# active_global_batch_result_filename='global_batch_result_2023-07-12.pkl'\n",
    "# active_global_batch_result_filename='global_batch_result_2023-07-07.pkl'\n",
    "# active_global_batch_result_filename='global_batch_result_2023-07-07_extra.pkl'\n",
    "active_global_batch_result_filename='global_batch_result_2023-07-20_lab.pkl'\n",
    "debug_print = False\n",
    "enable_neptune = False\n",
    "\n",
    "if enable_neptune:\n",
    "    import neptune # for logging progress and results\n",
    "    from neptune.types import File\n",
    "    from pyphoplacecellanalysis.General.Batch.NeptuneAiHelpers import set_environment_variables, neptune_output_figures\n",
    "    neptune_kwargs = {'project':\"commander.pho/PhoDibaLongShort2023\",\n",
    "    'api_token':\"eyJhcGlfYWRkcmVzcyI6Imh0dHBzOi8vYXBwLm5lcHR1bmUuYWkiLCJhcGlfdXJsIjoiaHR0cHM6Ly9hcHAubmVwdHVuZS5haSIsImFwaV9rZXkiOiIxOGIxODU2My1lZTNhLTQ2ZWMtOTkzNS02ZTRmNzM5YmNjNjIifQ==\"}\n",
    "    set_environment_variables(neptune_kwargs)"
   ]
  },
  {
   "cell_type": "code",
   "execution_count": 9,
   "id": "fd2d3eda-cb38-464a-a90a-df4df90d5893",
   "metadata": {
    "tags": []
   },
   "outputs": [
    {
     "name": "stdout",
     "output_type": "stream",
     "text": [
      "Loading loaded session pickle file results : /media/MAX/Data/global_batch_result_2023-07-20_lab.pkl... done.\n",
      "Failure loading /media/MAX/Data/global_batch_result_2023-07-20_lab.pkl.\n",
      "creating new batch_run\n",
      "local_session_names_list: ['2006-6-07_11-26-53', '2006-6-08_14-26-15', '2006-6-09_1-22-43', '2006-6-09_3-23-37', '2006-6-12_15-55-31', '2006-6-13_14-42-6']\n",
      "local_session_names_list: ['2006-6-07_16-40-19', '2006-6-08_15-46-47', '2006-6-08_21-16-25', '2006-6-09_22-24-40', '2006-6-12_16-53-46', '2006-6-13_15-22-3']\n",
      "local_session_names_list: ['2006-4-09_17-29-30', '2006-4-10_12-25-50', '2006-4-10_21-2-40', '2006-4-11_15-16-59', '2006-4-12_14-39-31', '2006-4-12_17-53-55', '2006-4-16_15-12-23', '2006-4-17_12-33-47', '2006-4-18_13-6-1', '2006-4-18_15-23-32', '2006-4-19_13-34-40', '2006-4-19_16-48-9', '2006-4-21_10-24-35', '2006-4-25_14-28-51', '2006-4-25_17-17-6', '2006-4-26_13-22-13', '2006-4-27_14-43-12', '2006-4-28_12-17-27', '2006-4-28_16-48-29']\n",
      "local_session_names_list: ['2006-4-09_16-40-54', '2006-4-10_12-58-3', '2006-4-10_19-11-57', '2006-4-11_12-48-38', '2006-4-11_16-2-46', '2006-4-12_14-59-23', '2006-4-12_15-25-59', '2006-4-16_14-49-24', '2006-4-16_18-47-52', '2006-4-17_12-52-15', '2006-4-18_13-28-57', '2006-4-18_15-38-2', '2006-4-19_13-50-7', '2006-4-19_16-37-40', '2006-4-21_11-19-2', '2006-4-25_13-20-55', '2006-4-25_17-33-28', '2006-4-26_13-51-50', '2006-4-27_18-21-57', '2006-4-28_12-38-13', '2006-4-28_17-6-14']\n",
      "local_session_names_list: ['11-02_17-46-44', '11-02_19-28-0', '11-03_12-3-25', '11-03_21-26-8', '11-05_19-26-43', '11-09_11-43-50', '11-09_12-15-3', '11-09_21-17-16', '11-09_22-4-5', '11-19_12-35-59', '11-19_13-2-0', '11-19_13-55-7', 'fet11-01_12-58-54', 'fet11-03_11-0-53', 'fet11-03_20-28-3', 'fet11-04_21-20-3', 'redundant', 'showclus', 'sleep', 'tmaze']\n",
      "Saving (file mode 'w+b') saved session pickle file results : /media/MAX/Data/global_batch_result_2023-07-20_lab.pkl... done.\n"
     ]
    },
    {
     "ename": "KeyError",
     "evalue": "'context_minimal_name'",
     "output_type": "error",
     "traceback": [
      "\u001b[0;31m---------------------------------------------------------------------------\u001b[0m",
      "\u001b[0;31mKeyError\u001b[0m                                  Traceback (most recent call last)",
      "File \u001b[0;32m~/repos/Spike3D/.venv/lib/python3.9/site-packages/pandas/core/indexes/base.py:3802\u001b[0m, in \u001b[0;36mIndex.get_loc\u001b[0;34m(self, key, method, tolerance)\u001b[0m\n\u001b[1;32m   3801\u001b[0m \u001b[39mtry\u001b[39;00m:\n\u001b[0;32m-> 3802\u001b[0m     \u001b[39mreturn\u001b[39;00m \u001b[39mself\u001b[39;49m\u001b[39m.\u001b[39;49m_engine\u001b[39m.\u001b[39;49mget_loc(casted_key)\n\u001b[1;32m   3803\u001b[0m \u001b[39mexcept\u001b[39;00m \u001b[39mKeyError\u001b[39;00m \u001b[39mas\u001b[39;00m err:\n",
      "File \u001b[0;32m~/repos/Spike3D/.venv/lib/python3.9/site-packages/pandas/_libs/index.pyx:138\u001b[0m, in \u001b[0;36mpandas._libs.index.IndexEngine.get_loc\u001b[0;34m()\u001b[0m\n",
      "File \u001b[0;32m~/repos/Spike3D/.venv/lib/python3.9/site-packages/pandas/_libs/index.pyx:165\u001b[0m, in \u001b[0;36mpandas._libs.index.IndexEngine.get_loc\u001b[0;34m()\u001b[0m\n",
      "File \u001b[0;32mpandas/_libs/hashtable_class_helper.pxi:5745\u001b[0m, in \u001b[0;36mpandas._libs.hashtable.PyObjectHashTable.get_item\u001b[0;34m()\u001b[0m\n",
      "File \u001b[0;32mpandas/_libs/hashtable_class_helper.pxi:5753\u001b[0m, in \u001b[0;36mpandas._libs.hashtable.PyObjectHashTable.get_item\u001b[0;34m()\u001b[0m\n",
      "\u001b[0;31mKeyError\u001b[0m: 'context_minimal_name'",
      "\nThe above exception was the direct cause of the following exception:\n",
      "\u001b[0;31mKeyError\u001b[0m                                  Traceback (most recent call last)",
      "Cell \u001b[0;32mIn[9], line 32\u001b[0m\n\u001b[1;32m     28\u001b[0m global_batch_run \u001b[39m=\u001b[39m BatchRun\u001b[39m.\u001b[39mtry_init_from_file(global_data_root_parent_path, active_global_batch_result_filename\u001b[39m=\u001b[39mactive_global_batch_result_filename,\n\u001b[1;32m     29\u001b[0m \t\t\t\t\t\tskip_root_path_conversion\u001b[39m=\u001b[39m\u001b[39mFalse\u001b[39;00m, debug_print\u001b[39m=\u001b[39mdebug_print) \u001b[39m# on_needs_create_callback_fn=run_diba_batch\u001b[39;00m\n\u001b[1;32m     31\u001b[0m batch_progress_df \u001b[39m=\u001b[39m global_batch_run\u001b[39m.\u001b[39mto_dataframe(expand_context\u001b[39m=\u001b[39m\u001b[39mTrue\u001b[39;00m, good_only\u001b[39m=\u001b[39m\u001b[39mFalse\u001b[39;00m) \u001b[39m# all\u001b[39;00m\n\u001b[0;32m---> 32\u001b[0m good_only_batch_progress_df \u001b[39m=\u001b[39m global_batch_run\u001b[39m.\u001b[39;49mto_dataframe(expand_context\u001b[39m=\u001b[39;49m\u001b[39mTrue\u001b[39;49;00m, good_only\u001b[39m=\u001b[39;49m\u001b[39mTrue\u001b[39;49;00m)\n\u001b[1;32m     33\u001b[0m batch_progress_df\u001b[39m.\u001b[39mbatch_results\u001b[39m.\u001b[39mbuild_all_columns()\n\u001b[1;32m     34\u001b[0m good_only_batch_progress_df\u001b[39m.\u001b[39mbatch_results\u001b[39m.\u001b[39mbuild_all_columns()\n",
      "File \u001b[0;32m~/repos/pyPhoPlaceCellAnalysis/src/pyphoplacecellanalysis/General/Batch/runBatch.py:118\u001b[0m, in \u001b[0;36mBatchRun.to_dataframe\u001b[0;34m(self, expand_context, good_only)\u001b[0m\n\u001b[1;32m    116\u001b[0m \u001b[39m\u001b[39m\u001b[39m\"\"\"Get a dataframe representation of BatchRun.\"\"\"\u001b[39;00m\n\u001b[1;32m    117\u001b[0m out_df \u001b[39m=\u001b[39m BatchResultDataframeAccessor\u001b[39m.\u001b[39minit_from_BatchRun(\u001b[39mself\u001b[39m, expand_context\u001b[39m=\u001b[39mexpand_context, good_only\u001b[39m=\u001b[39mgood_only)\n\u001b[0;32m--> 118\u001b[0m out_df \u001b[39m=\u001b[39m out_df\u001b[39m.\u001b[39;49mbatch_results\u001b[39m.\u001b[39;49mbuild_all_columns() \u001b[39m# this uses the same accessor.\u001b[39;00m\n\u001b[1;32m    119\u001b[0m \u001b[39mreturn\u001b[39;00m out_df\n",
      "File \u001b[0;32m~/repos/pyPhoPlaceCellAnalysis/src/pyphoplacecellanalysis/General/Batch/runBatch.py:492\u001b[0m, in \u001b[0;36mBatchResultDataframeAccessor.build_all_columns\u001b[0;34m(self)\u001b[0m\n\u001b[1;32m    490\u001b[0m \u001b[39mself\u001b[39m\u001b[39m.\u001b[39m_build_output_files_list()\n\u001b[1;32m    491\u001b[0m \u001b[39mself\u001b[39m\u001b[39m.\u001b[39m_build_ripple_result_path()\n\u001b[0;32m--> 492\u001b[0m \u001b[39mself\u001b[39;49m\u001b[39m.\u001b[39;49m_build_minimal_session_identifiers_list()\n\u001b[1;32m    493\u001b[0m \u001b[39m## TODO: append to the non-dataframe object?\u001b[39;00m\n\u001b[1;32m    494\u001b[0m user_is_replay_good_annotations \u001b[39m=\u001b[39m UserAnnotationsManager\u001b[39m.\u001b[39mget_user_annotations()\n",
      "File \u001b[0;32m~/repos/pyPhoPlaceCellAnalysis/src/pyphoplacecellanalysis/General/Batch/runBatch.py:587\u001b[0m, in \u001b[0;36mBatchResultDataframeAccessor._build_minimal_session_identifiers_list\u001b[0;34m(self)\u001b[0m\n\u001b[1;32m    583\u001b[0m \u001b[39mfor\u001b[39;00m animal, session_mapping \u001b[39min\u001b[39;00m animal_session_mapping\u001b[39m.\u001b[39mitems():\n\u001b[1;32m    584\u001b[0m     \u001b[39m# df.loc[df['animal'] == animal, 'session_name'] = df.loc[df['animal'] == animal, 'session_name'].replace(session_mapping)\u001b[39;00m\n\u001b[1;32m    585\u001b[0m     df\u001b[39m.\u001b[39mloc[df[\u001b[39m'\u001b[39m\u001b[39manimal\u001b[39m\u001b[39m'\u001b[39m] \u001b[39m==\u001b[39m animal, \u001b[39m'\u001b[39m\u001b[39mcontext_minimal_name\u001b[39m\u001b[39m'\u001b[39m] \u001b[39m=\u001b[39m df\u001b[39m.\u001b[39mloc[df[\u001b[39m'\u001b[39m\u001b[39manimal\u001b[39m\u001b[39m'\u001b[39m] \u001b[39m==\u001b[39m animal, \u001b[39m'\u001b[39m\u001b[39msession_name\u001b[39m\u001b[39m'\u001b[39m]\u001b[39m.\u001b[39mreplace(session_mapping)\n\u001b[0;32m--> 587\u001b[0m \u001b[39mreturn\u001b[39;00m df[\u001b[39m'\u001b[39;49m\u001b[39mcontext_minimal_name\u001b[39;49m\u001b[39m'\u001b[39;49m]\n",
      "File \u001b[0;32m~/repos/Spike3D/.venv/lib/python3.9/site-packages/pandas/core/frame.py:3807\u001b[0m, in \u001b[0;36mDataFrame.__getitem__\u001b[0;34m(self, key)\u001b[0m\n\u001b[1;32m   3805\u001b[0m \u001b[39mif\u001b[39;00m \u001b[39mself\u001b[39m\u001b[39m.\u001b[39mcolumns\u001b[39m.\u001b[39mnlevels \u001b[39m>\u001b[39m \u001b[39m1\u001b[39m:\n\u001b[1;32m   3806\u001b[0m     \u001b[39mreturn\u001b[39;00m \u001b[39mself\u001b[39m\u001b[39m.\u001b[39m_getitem_multilevel(key)\n\u001b[0;32m-> 3807\u001b[0m indexer \u001b[39m=\u001b[39m \u001b[39mself\u001b[39;49m\u001b[39m.\u001b[39;49mcolumns\u001b[39m.\u001b[39;49mget_loc(key)\n\u001b[1;32m   3808\u001b[0m \u001b[39mif\u001b[39;00m is_integer(indexer):\n\u001b[1;32m   3809\u001b[0m     indexer \u001b[39m=\u001b[39m [indexer]\n",
      "File \u001b[0;32m~/repos/Spike3D/.venv/lib/python3.9/site-packages/pandas/core/indexes/base.py:3804\u001b[0m, in \u001b[0;36mIndex.get_loc\u001b[0;34m(self, key, method, tolerance)\u001b[0m\n\u001b[1;32m   3802\u001b[0m     \u001b[39mreturn\u001b[39;00m \u001b[39mself\u001b[39m\u001b[39m.\u001b[39m_engine\u001b[39m.\u001b[39mget_loc(casted_key)\n\u001b[1;32m   3803\u001b[0m \u001b[39mexcept\u001b[39;00m \u001b[39mKeyError\u001b[39;00m \u001b[39mas\u001b[39;00m err:\n\u001b[0;32m-> 3804\u001b[0m     \u001b[39mraise\u001b[39;00m \u001b[39mKeyError\u001b[39;00m(key) \u001b[39mfrom\u001b[39;00m \u001b[39merr\u001b[39;00m\n\u001b[1;32m   3805\u001b[0m \u001b[39mexcept\u001b[39;00m \u001b[39mTypeError\u001b[39;00m:\n\u001b[1;32m   3806\u001b[0m     \u001b[39m# If we have a listlike key, _check_indexing_error will raise\u001b[39;00m\n\u001b[1;32m   3807\u001b[0m     \u001b[39m#  InvalidIndexError. Otherwise we fall through and re-raise\u001b[39;00m\n\u001b[1;32m   3808\u001b[0m     \u001b[39m#  the TypeError.\u001b[39;00m\n\u001b[1;32m   3809\u001b[0m     \u001b[39mself\u001b[39m\u001b[39m.\u001b[39m_check_indexing_error(key)\n",
      "\u001b[0;31mKeyError\u001b[0m: 'context_minimal_name'"
     ]
    }
   ],
   "source": [
    "\"\"\" \n",
    "from pyphoplacecellanalysis.General.Batch.runBatch import main, BatchRun, run_diba_batch, run_specific_batch\n",
    "\n",
    "\"\"\"\n",
    "known_global_data_root_parent_paths = [Path(r'W:\\Data'), Path(r'/media/MAX/Data'), Path(r'/Volumes/MoverNew/data'), Path(r'/home/halechr/turbo/Data'), Path(r'/nfs/turbo/umms-kdiba/Data')]\n",
    "global_data_root_parent_path = find_first_extant_path(known_global_data_root_parent_paths)\n",
    "assert global_data_root_parent_path.exists(), f\"global_data_root_parent_path: {global_data_root_parent_path} does not exist! Is the right computer's config commented out above?\"\n",
    "\n",
    "## NEPTUNE:\n",
    "if enable_neptune:\n",
    "\tproject = neptune.init_project(**neptune_kwargs)\n",
    "\tproject[\"general/global_batch_result_filename\"] = active_global_batch_result_filename\n",
    "\tproject[\"general/global_data_root_parent_path\"] = global_data_root_parent_path.as_posix()\n",
    "\n",
    "## TODO: load the batch result initially:\n",
    "\n",
    "## Build Pickle Path:\n",
    "global_batch_result_file_path = Path(global_data_root_parent_path).joinpath(active_global_batch_result_filename).resolve() # Use Default\n",
    "\n",
    "if enable_neptune:\n",
    "\trun = neptune.init_run() # rember to run.stop()\n",
    "\trun['parameters/global_batch_result_file_path'] = global_batch_result_file_path.as_posix()\n",
    "\t# project[\"general/data_analysis\"].upload(\"data_analysis.ipynb\")\n",
    "\trun[\"dataset/latest\"].track_files(f\"file://{global_batch_result_file_path}\") # \"s3://datasets/images\"\n",
    "\n",
    "# try to load an existing batch result:\n",
    "# with set_posix_windows():\n",
    "global_batch_run = BatchRun.try_init_from_file(global_data_root_parent_path, active_global_batch_result_filename=active_global_batch_result_filename,\n",
    "\t\t\t\t\t\tskip_root_path_conversion=False, debug_print=debug_print) # on_needs_create_callback_fn=run_diba_batch\n",
    "\n",
    "batch_progress_df = global_batch_run.to_dataframe(expand_context=True, good_only=False) # all\n",
    "good_only_batch_progress_df = global_batch_run.to_dataframe(expand_context=True, good_only=True)\n",
    "batch_progress_df.batch_results.build_all_columns()\n",
    "good_only_batch_progress_df.batch_results.build_all_columns()\n",
    "if enable_neptune:\n",
    "\trun[\"dataset/global_batch_run_progress_df\"].upload(File.as_html(batch_progress_df)) # \"path/to/test_preds.csv\"\n",
    "\trun[\"dataset/global_batch_run_good_only_df\"].upload(File.as_html(good_only_batch_progress_df)) # \"path/to/test_preds.csv\"\n",
    "\n",
    "with pd.option_context('display.max_rows', None, 'display.max_columns', None):  # more options can be specified also\n",
    "    # display(batch_progress_df)\n",
    "    display(good_only_batch_progress_df)"
   ]
  },
  {
   "cell_type": "code",
   "execution_count": null,
   "id": "3f001aa6",
   "metadata": {},
   "outputs": [],
   "source": [
    "df = deepcopy(good_only_batch_progress_df)\n",
    "df.batch_results._build_minimal_session_identifiers_list()\n",
    "df\n"
   ]
  },
  {
   "cell_type": "code",
   "execution_count": 10,
   "id": "b52a3e8f",
   "metadata": {},
   "outputs": [
    {
     "ename": "NameError",
     "evalue": "name 'df' is not defined",
     "output_type": "error",
     "traceback": [
      "\u001b[0;31m---------------------------------------------------------------------------\u001b[0m",
      "\u001b[0;31mNameError\u001b[0m                                 Traceback (most recent call last)",
      "Cell \u001b[0;32mIn[10], line 5\u001b[0m\n\u001b[1;32m      1\u001b[0m \u001b[39m## Get Uniques:\u001b[39;00m\n\u001b[1;32m      2\u001b[0m \u001b[39m# good_only_batch_progress_df['format_name']\u001b[39;00m\n\u001b[1;32m      3\u001b[0m \u001b[39m# good_only_batch_progress_df['animal']\u001b[39;00m\n\u001b[1;32m      4\u001b[0m \u001b[39m# Reset index to work with columns\u001b[39;00m\n\u001b[0;32m----> 5\u001b[0m df\u001b[39m.\u001b[39mreset_index(inplace\u001b[39m=\u001b[39m\u001b[39mTrue\u001b[39;00m)\n\u001b[1;32m      7\u001b[0m \u001b[39m# Extract unique values for each column\u001b[39;00m\n\u001b[1;32m      8\u001b[0m unique_format_names \u001b[39m=\u001b[39m df[\u001b[39m'\u001b[39m\u001b[39mformat_name\u001b[39m\u001b[39m'\u001b[39m]\u001b[39m.\u001b[39munique()\n",
      "\u001b[0;31mNameError\u001b[0m: name 'df' is not defined"
     ]
    }
   ],
   "source": [
    "## Get Uniques:\n",
    "# good_only_batch_progress_df['format_name']\n",
    "# good_only_batch_progress_df['animal']\n",
    "# Reset index to work with columns\n",
    "df.reset_index(inplace=True)\n",
    "\n",
    "# Extract unique values for each column\n",
    "unique_format_names = df['format_name'].unique()\n",
    "unique_animals = df['animal'].unique()\n",
    "unique_exper_names = df['exper_name'].unique()\n",
    "unique_session_names = df['session_name'].unique()\n",
    "\n",
    "# Create mapping to shorthand notation for each column\n",
    "format_name_mapping = {name: f'f{i}' for i, name in enumerate(unique_format_names)}\n",
    "animal_mapping = {name: f'a{i}' for i, name in enumerate(unique_animals)}\n",
    "exper_name_mapping = {name: f'e{i}' for i, name in enumerate(unique_exper_names)}\n",
    "session_name_mapping = {name: f's{i}' for i, name in enumerate(unique_session_names)}\n",
    "\n",
    "# df['format_name'].replace(format_name_mapping, inplace=True)\n",
    "# df['animal'].replace(animal_mapping, inplace=True)\n",
    "# df['exper_name'].replace(exper_name_mapping, inplace=True)\n",
    "# df['session_name'].replace(session_name_mapping, inplace=True)\n",
    "\n",
    "\n",
    "\n",
    "\n",
    "# df['context_minimal_name'] = [f\"{animal_mapping[ctx.animal]}{exper_name_mapping[ctx.exper_name]}{session_name_mapping[ctx.session_name]}\" for ctx in df['context']] # no [one, two]\n",
    "\n",
    "## Working one method:\n",
    "# df['context_minimal_name'] = [f\"{animal_mapping[ctx.animal]}{session_name_mapping[ctx.session_name]}\" for ctx in df['context']]\n",
    "\n",
    "\n",
    "# # Set the first four columns as a multi-index\n",
    "# df.set_index(['format_name', 'animal', 'exper_name', 'session_name'], inplace=True)\n",
    "\n",
    "# # Sort the DataFrame by the multi-index\n",
    "# df.sort_index(inplace=True)\n",
    "\n",
    "df.head()\n",
    "# Define a function to create a hierarchical mapping\n",
    "def create_nested_mapping(df, parent_col, child_col):\n",
    "    mapping = {}\n",
    "    unique_parents = df[parent_col].unique()\n",
    "    \n",
    "    for i, parent in enumerate(unique_parents):\n",
    "        subset = df[df[parent_col] == parent]\n",
    "        unique_children = subset[child_col].unique()\n",
    "        child_mapping = {child: f'{parent[0]}{i}{child_col[0]}{j}' for j, child in enumerate(unique_children)}\n",
    "        mapping[parent] = child_mapping\n",
    "    \n",
    "    return mapping\n",
    "\n",
    "\"\"\" \n",
    "{'gor01': {'2006-6-08_14-26-15': 'g0s0',\n",
    "   '2006-6-12_15-55-31': 'g0s1',\n",
    "   '2006-6-13_14-42-6': 'g0s2',\n",
    "   '2006-6-07_16-40-19': 'g0s3',\n",
    "   '2006-6-08_21-16-25': 'g0s4',\n",
    "   '2006-6-09_22-24-40': 'g0s5',\n",
    "   '2006-6-12_16-53-46': 'g0s6',\n",
    "   '2006-6-13_15-22-3': 'g0s7'},\n",
    "  'vvp01': {'2006-4-10_12-25-50': 'v1s0',\n",
    "   '2006-4-09_16-40-54': 'v1s1',\n",
    "   '2006-4-10_12-58-3': 'v1s2',\n",
    "   '2006-4-12_15-25-59': 'v1s3',\n",
    "   '2006-4-16_18-47-52': 'v1s4',\n",
    "   '2006-4-17_12-52-15': 'v1s5',\n",
    "   '2006-4-25_13-20-55': 'v1s6',\n",
    "   '2006-4-28_12-38-13': 'v1s7'},\n",
    "  'pin01': {'11-02_17-46-44': 'p2s0',\n",
    "   '11-02_19-28-0': 'p2s1',\n",
    "   '11-03_12-3-25': 'p2s2',\n",
    "   '11-09_11-43-50': 'p2s3',\n",
    "   '11-09_12-15-3': 'p2s4',\n",
    "   '11-09_21-17-16': 'p2s5',\n",
    "   '11-09_22-4-5': 'p2s6',\n",
    "   'fet11-01_12-58-54': 'p2s7',\n",
    "   'fet11-03_20-28-3': 'p2s8'}})\n",
    "\n",
    "\"\"\"\n",
    "# Create a mapping for 'session_name' within each 'animal'\n",
    "# animal_session_mapping = {animal: {session: f'{animal[0]}{i}s{j}' for j, session in enumerate(df[df['animal'] == animal]['session_name'].unique())} for i, animal in enumerate(df['animal'].unique())} # 'g0s0'\n",
    "animal_session_mapping = {animal: {session: f'{animal_mapping[animal]}s{j}' for j, session in enumerate(df[df['animal'] == animal]['session_name'].unique())} for i, animal in enumerate(df['animal'].unique())} # 'g0s0'\n",
    "\n",
    "# Replace original values with shorthand notation\n",
    "for animal, session_mapping in animal_session_mapping.items():\n",
    "    # df.loc[df['animal'] == animal, 'session_name'] = df.loc[df['animal'] == animal, 'session_name'].replace(session_mapping)\n",
    "    df.loc[df['animal'] == animal, 'context_minimal_name'] = df.loc[df['animal'] == animal, 'session_name'].replace(session_mapping)\n",
    "\n",
    "# Drop 'exper_name' column as it's not needed\n",
    "df.drop(columns='exper_name', inplace=True)\n",
    "\n",
    "# Display the updated DataFrame and the mappings\n",
    "# df.head()\n",
    "\n",
    "df\n",
    "\n",
    "\n",
    "# # Create a nested mapping for 'exper_name' within each 'animal'\n",
    "# # animal_exper_mapping = create_nested_mapping(df, 'animal', 'exper_name')\n",
    "# animal_session_name_mapping = create_nested_mapping(df, 'animal', 'session_name')\n",
    "\n",
    "# # Create a nested mapping for 'session_name' within each 'exper_name' within each 'animal'\n",
    "# animal_exper_session_mapping = {animal: create_nested_mapping(df[df['animal'] == animal], 'exper_name', 'session_name') for animal in df['animal'].unique()}\n",
    "\n",
    "# # Replace original values with shorthand notation\n",
    "# for animal, exper_mapping in animal_exper_mapping.items():\n",
    "#     df.loc[df['animal'] == animal, 'exper_name'] = df.loc[df['animal'] == animal, 'exper_name'].replace(exper_mapping)\n",
    "    \n",
    "# for animal, exper_session_mapping in animal_exper_session_mapping.items():\n",
    "#     for exper, session_mapping in exper_session_mapping.items():\n",
    "#         df.loc[(df['animal'] == animal) & (df['exper_name'] == exper), 'session_name'] = df.loc[(df['animal'] == animal) & (df['exper_name'] == exper), 'session_name'].replace(session_mapping)\n",
    "\n",
    "# # Display the updated DataFrame and the mappings\n",
    "# df.head(), animal_exper_mapping, animal_exper_session_mapping\n"
   ]
  },
  {
   "cell_type": "code",
   "execution_count": null,
   "id": "b9b9568c",
   "metadata": {},
   "outputs": [],
   "source": [
    "df.head()"
   ]
  },
  {
   "cell_type": "code",
   "execution_count": null,
   "id": "af480a8a",
   "metadata": {},
   "outputs": [],
   "source": [
    "# Export CSV:\n",
    "# pickle path is: `global_batch_result_file_path`\n",
    "global_batch_result_CSV_export_file_path = Path(global_data_root_parent_path).joinpath(active_global_batch_result_filename.replace('.pkl', '.csv')).resolve() # Use Default\n",
    "print(f'global_batch_result_CSV_export_file_path: {global_batch_result_CSV_export_file_path}')\n",
    "good_only_batch_progress_df.to_csv(global_batch_result_CSV_export_file_path)\n",
    "            "
   ]
  },
  {
   "cell_type": "code",
   "execution_count": null,
   "id": "3f3684b4",
   "metadata": {},
   "outputs": [],
   "source": [
    "important_column_names = ['context', 'basedirs', 'n_long_laps', 'n_long_replays', 'n_short_laps', 'n_short_replays', 'is_ready', 'has_user_replay_annotations']\n",
    "# file_column_names = ['basedirs', 'global_computation_result_file', 'loaded_session_pickle_file', 'ripple_result_file']\n",
    "good_only_batch_progress_df[important_column_names]\n",
    "\n",
    "# change is_ready to show why it isn't ready.\n",
    "# batch_progress_df['is_ready'] = np.logical_and(batch_progress_df['has_user_replay_annotations'], batch_progress_df['is_ready'])\n",
    "\n",
    "included_session_contexts = batch_progress_df[np.logical_and(batch_progress_df['has_user_replay_annotations'], batch_progress_df['is_ready'])]['context'].to_numpy().tolist()\n",
    "included_session_contexts"
   ]
  },
  {
   "cell_type": "markdown",
   "id": "c12f42b4",
   "metadata": {
    "jp-MarkdownHeadingCollapsed": true,
    "tags": []
   },
   "source": [
    "# Build `global_batch_run` pre-loading results (before execution)"
   ]
  },
  {
   "cell_type": "code",
   "execution_count": 14,
   "id": "496a7c6a",
   "metadata": {
    "tags": []
   },
   "outputs": [
    {
     "name": "stdout",
     "output_type": "stream",
     "text": [
      "resusing extant_batch_run: BatchRun(global_data_root_parent_path=PosixPath('/media/MAX/Data'), session_batch_status={IdentifyingContext<('kdiba', 'gor01', 'one', '2006-6-07_11-26-53')>: <SessionBatchProgress.NOT_STARTED: 'NOT_STARTED'>, IdentifyingContext<('kdiba', 'gor01', 'one', '2006-6-08_14-26-15')>: <SessionBatchProgress.NOT_STARTED: 'NOT_STARTED'>, IdentifyingContext<('kdiba', 'gor01', 'one', '2006-6-09_1-22-43')>: <SessionBatchProgress.NOT_STARTED: 'NOT_STARTED'>, IdentifyingContext<('kdiba', 'gor01', 'one', '2006-6-09_3-23-37')>: <SessionBatchProgress.NOT_STARTED: 'NOT_STARTED'>, IdentifyingContext<('kdiba', 'gor01', 'one', '2006-6-12_15-55-31')>: <SessionBatchProgress.NOT_STARTED: 'NOT_STARTED'>, IdentifyingContext<('kdiba', 'gor01', 'one', '2006-6-13_14-42-6')>: <SessionBatchProgress.NOT_STARTED: 'NOT_STARTED'>, IdentifyingContext<('kdiba', 'gor01', 'two', '2006-6-07_16-40-19')>: <SessionBatchProgress.NOT_STARTED: 'NOT_STARTED'>, IdentifyingContext<('kdiba', 'gor01', 'two', '2006-6-08_15-46-47')>: <SessionBatchProgress.NOT_STARTED: 'NOT_STARTED'>, IdentifyingContext<('kdiba', 'gor01', 'two', '2006-6-08_21-16-25')>: <SessionBatchProgress.NOT_STARTED: 'NOT_STARTED'>, IdentifyingContext<('kdiba', 'gor01', 'two', '2006-6-09_22-24-40')>: <SessionBatchProgress.NOT_STARTED: 'NOT_STARTED'>, IdentifyingContext<('kdiba', 'gor01', 'two', '2006-6-12_16-53-46')>: <SessionBatchProgress.NOT_STARTED: 'NOT_STARTED'>, IdentifyingContext<('kdiba', 'gor01', 'two', '2006-6-13_15-22-3')>: <SessionBatchProgress.NOT_STARTED: 'NOT_STARTED'>, IdentifyingContext<('kdiba', 'vvp01', 'one', '2006-4-09_17-29-30')>: <SessionBatchProgress.NOT_STARTED: 'NOT_STARTED'>, IdentifyingContext<('kdiba', 'vvp01', 'one', '2006-4-10_12-25-50')>: <SessionBatchProgress.NOT_STARTED: 'NOT_STARTED'>, IdentifyingContext<('kdiba', 'vvp01', 'one', '2006-4-10_21-2-40')>: <SessionBatchProgress.NOT_STARTED: 'NOT_STARTED'>, IdentifyingContext<('kdiba', 'vvp01', 'one', '2006-4-11_15-16-59')>: <SessionBatchProgress.NOT_STARTED: 'NOT_STARTED'>, IdentifyingContext<('kdiba', 'vvp01', 'one', '2006-4-12_14-39-31')>: <SessionBatchProgress.NOT_STARTED: 'NOT_STARTED'>, IdentifyingContext<('kdiba', 'vvp01', 'one', '2006-4-12_17-53-55')>: <SessionBatchProgress.NOT_STARTED: 'NOT_STARTED'>, IdentifyingContext<('kdiba', 'vvp01', 'one', '2006-4-16_15-12-23')>: <SessionBatchProgress.NOT_STARTED: 'NOT_STARTED'>, IdentifyingContext<('kdiba', 'vvp01', 'one', '2006-4-17_12-33-47')>: <SessionBatchProgress.NOT_STARTED: 'NOT_STARTED'>, IdentifyingContext<('kdiba', 'vvp01', 'one', '2006-4-18_13-6-1')>: <SessionBatchProgress.NOT_STARTED: 'NOT_STARTED'>, IdentifyingContext<('kdiba', 'vvp01', 'one', '2006-4-18_15-23-32')>: <SessionBatchProgress.NOT_STARTED: 'NOT_STARTED'>, IdentifyingContext<('kdiba', 'vvp01', 'one', '2006-4-19_13-34-40')>: <SessionBatchProgress.NOT_STARTED: 'NOT_STARTED'>, IdentifyingContext<('kdiba', 'vvp01', 'one', '2006-4-19_16-48-9')>: <SessionBatchProgress.NOT_STARTED: 'NOT_STARTED'>, IdentifyingContext<('kdiba', 'vvp01', 'one', '2006-4-21_10-24-35')>: <SessionBatchProgress.NOT_STARTED: 'NOT_STARTED'>, IdentifyingContext<('kdiba', 'vvp01', 'one', '2006-4-25_14-28-51')>: <SessionBatchProgress.NOT_STARTED: 'NOT_STARTED'>, IdentifyingContext<('kdiba', 'vvp01', 'one', '2006-4-25_17-17-6')>: <SessionBatchProgress.NOT_STARTED: 'NOT_STARTED'>, IdentifyingContext<('kdiba', 'vvp01', 'one', '2006-4-26_13-22-13')>: <SessionBatchProgress.NOT_STARTED: 'NOT_STARTED'>, IdentifyingContext<('kdiba', 'vvp01', 'one', '2006-4-27_14-43-12')>: <SessionBatchProgress.NOT_STARTED: 'NOT_STARTED'>, IdentifyingContext<('kdiba', 'vvp01', 'one', '2006-4-28_12-17-27')>: <SessionBatchProgress.NOT_STARTED: 'NOT_STARTED'>, IdentifyingContext<('kdiba', 'vvp01', 'one', '2006-4-28_16-48-29')>: <SessionBatchProgress.NOT_STARTED: 'NOT_STARTED'>, IdentifyingContext<('kdiba', 'vvp01', 'two', '2006-4-09_16-40-54')>: <SessionBatchProgress.NOT_STARTED: 'NOT_STARTED'>, IdentifyingContext<('kdiba', 'vvp01', 'two', '2006-4-10_12-58-3')>: <SessionBatchProgress.NOT_STARTED: 'NOT_STARTED'>, IdentifyingContext<('kdiba', 'vvp01', 'two', '2006-4-10_19-11-57')>: <SessionBatchProgress.NOT_STARTED: 'NOT_STARTED'>, IdentifyingContext<('kdiba', 'vvp01', 'two', '2006-4-11_12-48-38')>: <SessionBatchProgress.NOT_STARTED: 'NOT_STARTED'>, IdentifyingContext<('kdiba', 'vvp01', 'two', '2006-4-11_16-2-46')>: <SessionBatchProgress.NOT_STARTED: 'NOT_STARTED'>, IdentifyingContext<('kdiba', 'vvp01', 'two', '2006-4-12_14-59-23')>: <SessionBatchProgress.NOT_STARTED: 'NOT_STARTED'>, IdentifyingContext<('kdiba', 'vvp01', 'two', '2006-4-12_15-25-59')>: <SessionBatchProgress.NOT_STARTED: 'NOT_STARTED'>, IdentifyingContext<('kdiba', 'vvp01', 'two', '2006-4-16_14-49-24')>: <SessionBatchProgress.NOT_STARTED: 'NOT_STARTED'>, IdentifyingContext<('kdiba', 'vvp01', 'two', '2006-4-16_18-47-52')>: <SessionBatchProgress.NOT_STARTED: 'NOT_STARTED'>, IdentifyingContext<('kdiba', 'vvp01', 'two', '2006-4-17_12-52-15')>: <SessionBatchProgress.NOT_STARTED: 'NOT_STARTED'>, IdentifyingContext<('kdiba', 'vvp01', 'two', '2006-4-18_13-28-57')>: <SessionBatchProgress.NOT_STARTED: 'NOT_STARTED'>, IdentifyingContext<('kdiba', 'vvp01', 'two', '2006-4-18_15-38-2')>: <SessionBatchProgress.NOT_STARTED: 'NOT_STARTED'>, IdentifyingContext<('kdiba', 'vvp01', 'two', '2006-4-19_13-50-7')>: <SessionBatchProgress.NOT_STARTED: 'NOT_STARTED'>, IdentifyingContext<('kdiba', 'vvp01', 'two', '2006-4-19_16-37-40')>: <SessionBatchProgress.NOT_STARTED: 'NOT_STARTED'>, IdentifyingContext<('kdiba', 'vvp01', 'two', '2006-4-21_11-19-2')>: <SessionBatchProgress.NOT_STARTED: 'NOT_STARTED'>, IdentifyingContext<('kdiba', 'vvp01', 'two', '2006-4-25_13-20-55')>: <SessionBatchProgress.NOT_STARTED: 'NOT_STARTED'>, IdentifyingContext<('kdiba', 'vvp01', 'two', '2006-4-25_17-33-28')>: <SessionBatchProgress.NOT_STARTED: 'NOT_STARTED'>, IdentifyingContext<('kdiba', 'vvp01', 'two', '2006-4-26_13-51-50')>: <SessionBatchProgress.NOT_STARTED: 'NOT_STARTED'>, IdentifyingContext<('kdiba', 'vvp01', 'two', '2006-4-27_18-21-57')>: <SessionBatchProgress.NOT_STARTED: 'NOT_STARTED'>, IdentifyingContext<('kdiba', 'vvp01', 'two', '2006-4-28_12-38-13')>: <SessionBatchProgress.NOT_STARTED: 'NOT_STARTED'>, IdentifyingContext<('kdiba', 'vvp01', 'two', '2006-4-28_17-6-14')>: <SessionBatchProgress.NOT_STARTED: 'NOT_STARTED'>, IdentifyingContext<('kdiba', 'pin01', 'one', '11-02_17-46-44')>: <SessionBatchProgress.NOT_STARTED: 'NOT_STARTED'>, IdentifyingContext<('kdiba', 'pin01', 'one', '11-02_19-28-0')>: <SessionBatchProgress.NOT_STARTED: 'NOT_STARTED'>, IdentifyingContext<('kdiba', 'pin01', 'one', '11-03_12-3-25')>: <SessionBatchProgress.NOT_STARTED: 'NOT_STARTED'>, IdentifyingContext<('kdiba', 'pin01', 'one', '11-03_21-26-8')>: <SessionBatchProgress.NOT_STARTED: 'NOT_STARTED'>, IdentifyingContext<('kdiba', 'pin01', 'one', '11-05_19-26-43')>: <SessionBatchProgress.NOT_STARTED: 'NOT_STARTED'>, IdentifyingContext<('kdiba', 'pin01', 'one', '11-09_11-43-50')>: <SessionBatchProgress.NOT_STARTED: 'NOT_STARTED'>, IdentifyingContext<('kdiba', 'pin01', 'one', '11-09_12-15-3')>: <SessionBatchProgress.NOT_STARTED: 'NOT_STARTED'>, IdentifyingContext<('kdiba', 'pin01', 'one', '11-09_21-17-16')>: <SessionBatchProgress.NOT_STARTED: 'NOT_STARTED'>, IdentifyingContext<('kdiba', 'pin01', 'one', '11-09_22-4-5')>: <SessionBatchProgress.NOT_STARTED: 'NOT_STARTED'>, IdentifyingContext<('kdiba', 'pin01', 'one', '11-19_12-35-59')>: <SessionBatchProgress.NOT_STARTED: 'NOT_STARTED'>, IdentifyingContext<('kdiba', 'pin01', 'one', '11-19_13-2-0')>: <SessionBatchProgress.NOT_STARTED: 'NOT_STARTED'>, IdentifyingContext<('kdiba', 'pin01', 'one', '11-19_13-55-7')>: <SessionBatchProgress.NOT_STARTED: 'NOT_STARTED'>, IdentifyingContext<('kdiba', 'pin01', 'one', 'fet11-01_12-58-54')>: <SessionBatchProgress.NOT_STARTED: 'NOT_STARTED'>, IdentifyingContext<('kdiba', 'pin01', 'one', 'fet11-03_11-0-53')>: <SessionBatchProgress.NOT_STARTED: 'NOT_STARTED'>, IdentifyingContext<('kdiba', 'pin01', 'one', 'fet11-03_20-28-3')>: <SessionBatchProgress.NOT_STARTED: 'NOT_STARTED'>, IdentifyingContext<('kdiba', 'pin01', 'one', 'fet11-04_21-20-3')>: <SessionBatchProgress.NOT_STARTED: 'NOT_STARTED'>, IdentifyingContext<('kdiba', 'pin01', 'one', 'redundant')>: <SessionBatchProgress.NOT_STARTED: 'NOT_STARTED'>, IdentifyingContext<('kdiba', 'pin01', 'one', 'showclus')>: <SessionBatchProgress.NOT_STARTED: 'NOT_STARTED'>, IdentifyingContext<('kdiba', 'pin01', 'one', 'sleep')>: <SessionBatchProgress.NOT_STARTED: 'NOT_STARTED'>, IdentifyingContext<('kdiba', 'pin01', 'one', 'tmaze')>: <SessionBatchProgress.NOT_STARTED: 'NOT_STARTED'>}, session_batch_basedirs={IdentifyingContext<('kdiba', 'gor01', 'one', '2006-6-07_11-26-53')>: PosixPath('/media/MAX/Data/KDIBA/gor01/one/2006-6-07_11-26-53'), IdentifyingContext<('kdiba', 'gor01', 'one', '2006-6-08_14-26-15')>: PosixPath('/media/MAX/Data/KDIBA/gor01/one/2006-6-08_14-26-15'), IdentifyingContext<('kdiba', 'gor01', 'one', '2006-6-09_1-22-43')>: PosixPath('/media/MAX/Data/KDIBA/gor01/one/2006-6-09_1-22-43'), IdentifyingContext<('kdiba', 'gor01', 'one', '2006-6-09_3-23-37')>: PosixPath('/media/MAX/Data/KDIBA/gor01/one/2006-6-09_3-23-37'), IdentifyingContext<('kdiba', 'gor01', 'one', '2006-6-12_15-55-31')>: PosixPath('/media/MAX/Data/KDIBA/gor01/one/2006-6-12_15-55-31'), IdentifyingContext<('kdiba', 'gor01', 'one', '2006-6-13_14-42-6')>: PosixPath('/media/MAX/Data/KDIBA/gor01/one/2006-6-13_14-42-6'), IdentifyingContext<('kdiba', 'gor01', 'two', '2006-6-07_16-40-19')>: PosixPath('/media/MAX/Data/KDIBA/gor01/two/2006-6-07_16-40-19'), IdentifyingContext<('kdiba', 'gor01', 'two', '2006-6-08_15-46-47')>: PosixPath('/media/MAX/Data/KDIBA/gor01/two/2006-6-08_15-46-47'), IdentifyingContext<('kdiba', 'gor01', 'two', '2006-6-08_21-16-25')>: PosixPath('/media/MAX/Data/KDIBA/gor01/two/2006-6-08_21-16-25'), IdentifyingContext<('kdiba', 'gor01', 'two', '2006-6-09_22-24-40')>: PosixPath('/media/MAX/Data/KDIBA/gor01/two/2006-6-09_22-24-40'), IdentifyingContext<('kdiba', 'gor01', 'two', '2006-6-12_16-53-46')>: PosixPath('/media/MAX/Data/KDIBA/gor01/two/2006-6-12_16-53-46'), IdentifyingContext<('kdiba', 'gor01', 'two', '2006-6-13_15-22-3')>: PosixPath('/media/MAX/Data/KDIBA/gor01/two/2006-6-13_15-22-3'), IdentifyingContext<('kdiba', 'vvp01', 'one', '2006-4-09_17-29-30')>: PosixPath('/media/MAX/Data/KDIBA/vvp01/one/2006-4-09_17-29-30'), IdentifyingContext<('kdiba', 'vvp01', 'one', '2006-4-10_12-25-50')>: PosixPath('/media/MAX/Data/KDIBA/vvp01/one/2006-4-10_12-25-50'), IdentifyingContext<('kdiba', 'vvp01', 'one', '2006-4-10_21-2-40')>: PosixPath('/media/MAX/Data/KDIBA/vvp01/one/2006-4-10_21-2-40'), IdentifyingContext<('kdiba', 'vvp01', 'one', '2006-4-11_15-16-59')>: PosixPath('/media/MAX/Data/KDIBA/vvp01/one/2006-4-11_15-16-59'), IdentifyingContext<('kdiba', 'vvp01', 'one', '2006-4-12_14-39-31')>: PosixPath('/media/MAX/Data/KDIBA/vvp01/one/2006-4-12_14-39-31'), IdentifyingContext<('kdiba', 'vvp01', 'one', '2006-4-12_17-53-55')>: PosixPath('/media/MAX/Data/KDIBA/vvp01/one/2006-4-12_17-53-55'), IdentifyingContext<('kdiba', 'vvp01', 'one', '2006-4-16_15-12-23')>: PosixPath('/media/MAX/Data/KDIBA/vvp01/one/2006-4-16_15-12-23'), IdentifyingContext<('kdiba', 'vvp01', 'one', '2006-4-17_12-33-47')>: PosixPath('/media/MAX/Data/KDIBA/vvp01/one/2006-4-17_12-33-47'), IdentifyingContext<('kdiba', 'vvp01', 'one', '2006-4-18_13-6-1')>: PosixPath('/media/MAX/Data/KDIBA/vvp01/one/2006-4-18_13-6-1'), IdentifyingContext<('kdiba', 'vvp01', 'one', '2006-4-18_15-23-32')>: PosixPath('/media/MAX/Data/KDIBA/vvp01/one/2006-4-18_15-23-32'), IdentifyingContext<('kdiba', 'vvp01', 'one', '2006-4-19_13-34-40')>: PosixPath('/media/MAX/Data/KDIBA/vvp01/one/2006-4-19_13-34-40'), IdentifyingContext<('kdiba', 'vvp01', 'one', '2006-4-19_16-48-9')>: PosixPath('/media/MAX/Data/KDIBA/vvp01/one/2006-4-19_16-48-9'), IdentifyingContext<('kdiba', 'vvp01', 'one', '2006-4-21_10-24-35')>: PosixPath('/media/MAX/Data/KDIBA/vvp01/one/2006-4-21_10-24-35'), IdentifyingContext<('kdiba', 'vvp01', 'one', '2006-4-25_14-28-51')>: PosixPath('/media/MAX/Data/KDIBA/vvp01/one/2006-4-25_14-28-51'), IdentifyingContext<('kdiba', 'vvp01', 'one', '2006-4-25_17-17-6')>: PosixPath('/media/MAX/Data/KDIBA/vvp01/one/2006-4-25_17-17-6'), IdentifyingContext<('kdiba', 'vvp01', 'one', '2006-4-26_13-22-13')>: PosixPath('/media/MAX/Data/KDIBA/vvp01/one/2006-4-26_13-22-13'), IdentifyingContext<('kdiba', 'vvp01', 'one', '2006-4-27_14-43-12')>: PosixPath('/media/MAX/Data/KDIBA/vvp01/one/2006-4-27_14-43-12'), IdentifyingContext<('kdiba', 'vvp01', 'one', '2006-4-28_12-17-27')>: PosixPath('/media/MAX/Data/KDIBA/vvp01/one/2006-4-28_12-17-27'), IdentifyingContext<('kdiba', 'vvp01', 'one', '2006-4-28_16-48-29')>: PosixPath('/media/MAX/Data/KDIBA/vvp01/one/2006-4-28_16-48-29'), IdentifyingContext<('kdiba', 'vvp01', 'two', '2006-4-09_16-40-54')>: PosixPath('/media/MAX/Data/KDIBA/vvp01/two/2006-4-09_16-40-54'), IdentifyingContext<('kdiba', 'vvp01', 'two', '2006-4-10_12-58-3')>: PosixPath('/media/MAX/Data/KDIBA/vvp01/two/2006-4-10_12-58-3'), IdentifyingContext<('kdiba', 'vvp01', 'two', '2006-4-10_19-11-57')>: PosixPath('/media/MAX/Data/KDIBA/vvp01/two/2006-4-10_19-11-57'), IdentifyingContext<('kdiba', 'vvp01', 'two', '2006-4-11_12-48-38')>: PosixPath('/media/MAX/Data/KDIBA/vvp01/two/2006-4-11_12-48-38'), IdentifyingContext<('kdiba', 'vvp01', 'two', '2006-4-11_16-2-46')>: PosixPath('/media/MAX/Data/KDIBA/vvp01/two/2006-4-11_16-2-46'), IdentifyingContext<('kdiba', 'vvp01', 'two', '2006-4-12_14-59-23')>: PosixPath('/media/MAX/Data/KDIBA/vvp01/two/2006-4-12_14-59-23'), IdentifyingContext<('kdiba', 'vvp01', 'two', '2006-4-12_15-25-59')>: PosixPath('/media/MAX/Data/KDIBA/vvp01/two/2006-4-12_15-25-59'), IdentifyingContext<('kdiba', 'vvp01', 'two', '2006-4-16_14-49-24')>: PosixPath('/media/MAX/Data/KDIBA/vvp01/two/2006-4-16_14-49-24'), IdentifyingContext<('kdiba', 'vvp01', 'two', '2006-4-16_18-47-52')>: PosixPath('/media/MAX/Data/KDIBA/vvp01/two/2006-4-16_18-47-52'), IdentifyingContext<('kdiba', 'vvp01', 'two', '2006-4-17_12-52-15')>: PosixPath('/media/MAX/Data/KDIBA/vvp01/two/2006-4-17_12-52-15'), IdentifyingContext<('kdiba', 'vvp01', 'two', '2006-4-18_13-28-57')>: PosixPath('/media/MAX/Data/KDIBA/vvp01/two/2006-4-18_13-28-57'), IdentifyingContext<('kdiba', 'vvp01', 'two', '2006-4-18_15-38-2')>: PosixPath('/media/MAX/Data/KDIBA/vvp01/two/2006-4-18_15-38-2'), IdentifyingContext<('kdiba', 'vvp01', 'two', '2006-4-19_13-50-7')>: PosixPath('/media/MAX/Data/KDIBA/vvp01/two/2006-4-19_13-50-7'), IdentifyingContext<('kdiba', 'vvp01', 'two', '2006-4-19_16-37-40')>: PosixPath('/media/MAX/Data/KDIBA/vvp01/two/2006-4-19_16-37-40'), IdentifyingContext<('kdiba', 'vvp01', 'two', '2006-4-21_11-19-2')>: PosixPath('/media/MAX/Data/KDIBA/vvp01/two/2006-4-21_11-19-2'), IdentifyingContext<('kdiba', 'vvp01', 'two', '2006-4-25_13-20-55')>: PosixPath('/media/MAX/Data/KDIBA/vvp01/two/2006-4-25_13-20-55'), IdentifyingContext<('kdiba', 'vvp01', 'two', '2006-4-25_17-33-28')>: PosixPath('/media/MAX/Data/KDIBA/vvp01/two/2006-4-25_17-33-28'), IdentifyingContext<('kdiba', 'vvp01', 'two', '2006-4-26_13-51-50')>: PosixPath('/media/MAX/Data/KDIBA/vvp01/two/2006-4-26_13-51-50'), IdentifyingContext<('kdiba', 'vvp01', 'two', '2006-4-27_18-21-57')>: PosixPath('/media/MAX/Data/KDIBA/vvp01/two/2006-4-27_18-21-57'), IdentifyingContext<('kdiba', 'vvp01', 'two', '2006-4-28_12-38-13')>: PosixPath('/media/MAX/Data/KDIBA/vvp01/two/2006-4-28_12-38-13'), IdentifyingContext<('kdiba', 'vvp01', 'two', '2006-4-28_17-6-14')>: PosixPath('/media/MAX/Data/KDIBA/vvp01/two/2006-4-28_17-6-14'), IdentifyingContext<('kdiba', 'pin01', 'one', '11-02_17-46-44')>: PosixPath('/media/MAX/Data/KDIBA/pin01/one/11-02_17-46-44'), IdentifyingContext<('kdiba', 'pin01', 'one', '11-02_19-28-0')>: PosixPath('/media/MAX/Data/KDIBA/pin01/one/11-02_19-28-0'), IdentifyingContext<('kdiba', 'pin01', 'one', '11-03_12-3-25')>: PosixPath('/media/MAX/Data/KDIBA/pin01/one/11-03_12-3-25'), IdentifyingContext<('kdiba', 'pin01', 'one', '11-03_21-26-8')>: PosixPath('/media/MAX/Data/KDIBA/pin01/one/11-03_21-26-8'), IdentifyingContext<('kdiba', 'pin01', 'one', '11-05_19-26-43')>: PosixPath('/media/MAX/Data/KDIBA/pin01/one/11-05_19-26-43'), IdentifyingContext<('kdiba', 'pin01', 'one', '11-09_11-43-50')>: PosixPath('/media/MAX/Data/KDIBA/pin01/one/11-09_11-43-50'), IdentifyingContext<('kdiba', 'pin01', 'one', '11-09_12-15-3')>: PosixPath('/media/MAX/Data/KDIBA/pin01/one/11-09_12-15-3'), IdentifyingContext<('kdiba', 'pin01', 'one', '11-09_21-17-16')>: PosixPath('/media/MAX/Data/KDIBA/pin01/one/11-09_21-17-16'), IdentifyingContext<('kdiba', 'pin01', 'one', '11-09_22-4-5')>: PosixPath('/media/MAX/Data/KDIBA/pin01/one/11-09_22-4-5'), IdentifyingContext<('kdiba', 'pin01', 'one', '11-19_12-35-59')>: PosixPath('/media/MAX/Data/KDIBA/pin01/one/11-19_12-35-59'), IdentifyingContext<('kdiba', 'pin01', 'one', '11-19_13-2-0')>: PosixPath('/media/MAX/Data/KDIBA/pin01/one/11-19_13-2-0'), IdentifyingContext<('kdiba', 'pin01', 'one', '11-19_13-55-7')>: PosixPath('/media/MAX/Data/KDIBA/pin01/one/11-19_13-55-7'), IdentifyingContext<('kdiba', 'pin01', 'one', 'fet11-01_12-58-54')>: PosixPath('/media/MAX/Data/KDIBA/pin01/one/fet11-01_12-58-54'), IdentifyingContext<('kdiba', 'pin01', 'one', 'fet11-03_11-0-53')>: PosixPath('/media/MAX/Data/KDIBA/pin01/one/fet11-03_11-0-53'), IdentifyingContext<('kdiba', 'pin01', 'one', 'fet11-03_20-28-3')>: PosixPath('/media/MAX/Data/KDIBA/pin01/one/fet11-03_20-28-3'), IdentifyingContext<('kdiba', 'pin01', 'one', 'fet11-04_21-20-3')>: PosixPath('/media/MAX/Data/KDIBA/pin01/one/fet11-04_21-20-3'), IdentifyingContext<('kdiba', 'pin01', 'one', 'redundant')>: PosixPath('/media/MAX/Data/KDIBA/pin01/one/redundant'), IdentifyingContext<('kdiba', 'pin01', 'one', 'showclus')>: PosixPath('/media/MAX/Data/KDIBA/pin01/one/showclus'), IdentifyingContext<('kdiba', 'pin01', 'one', 'sleep')>: PosixPath('/media/MAX/Data/KDIBA/pin01/one/sleep'), IdentifyingContext<('kdiba', 'pin01', 'one', 'tmaze')>: PosixPath('/media/MAX/Data/KDIBA/pin01/one/tmaze')}, session_batch_errors={IdentifyingContext<('kdiba', 'gor01', 'one', '2006-6-07_11-26-53')>: None, IdentifyingContext<('kdiba', 'gor01', 'one', '2006-6-08_14-26-15')>: None, IdentifyingContext<('kdiba', 'gor01', 'one', '2006-6-09_1-22-43')>: None, IdentifyingContext<('kdiba', 'gor01', 'one', '2006-6-09_3-23-37')>: None, IdentifyingContext<('kdiba', 'gor01', 'one', '2006-6-12_15-55-31')>: None, IdentifyingContext<('kdiba', 'gor01', 'one', '2006-6-13_14-42-6')>: None, IdentifyingContext<('kdiba', 'gor01', 'two', '2006-6-07_16-40-19')>: None, IdentifyingContext<('kdiba', 'gor01', 'two', '2006-6-08_15-46-47')>: None, IdentifyingContext<('kdiba', 'gor01', 'two', '2006-6-08_21-16-25')>: None, IdentifyingContext<('kdiba', 'gor01', 'two', '2006-6-09_22-24-40')>: None, IdentifyingContext<('kdiba', 'gor01', 'two', '2006-6-12_16-53-46')>: None, IdentifyingContext<('kdiba', 'gor01', 'two', '2006-6-13_15-22-3')>: None, IdentifyingContext<('kdiba', 'vvp01', 'one', '2006-4-09_17-29-30')>: None, IdentifyingContext<('kdiba', 'vvp01', 'one', '2006-4-10_12-25-50')>: None, IdentifyingContext<('kdiba', 'vvp01', 'one', '2006-4-10_21-2-40')>: None, IdentifyingContext<('kdiba', 'vvp01', 'one', '2006-4-11_15-16-59')>: None, IdentifyingContext<('kdiba', 'vvp01', 'one', '2006-4-12_14-39-31')>: None, IdentifyingContext<('kdiba', 'vvp01', 'one', '2006-4-12_17-53-55')>: None, IdentifyingContext<('kdiba', 'vvp01', 'one', '2006-4-16_15-12-23')>: None, IdentifyingContext<('kdiba', 'vvp01', 'one', '2006-4-17_12-33-47')>: None, IdentifyingContext<('kdiba', 'vvp01', 'one', '2006-4-18_13-6-1')>: None, IdentifyingContext<('kdiba', 'vvp01', 'one', '2006-4-18_15-23-32')>: None, IdentifyingContext<('kdiba', 'vvp01', 'one', '2006-4-19_13-34-40')>: None, IdentifyingContext<('kdiba', 'vvp01', 'one', '2006-4-19_16-48-9')>: None, IdentifyingContext<('kdiba', 'vvp01', 'one', '2006-4-21_10-24-35')>: None, IdentifyingContext<('kdiba', 'vvp01', 'one', '2006-4-25_14-28-51')>: None, IdentifyingContext<('kdiba', 'vvp01', 'one', '2006-4-25_17-17-6')>: None, IdentifyingContext<('kdiba', 'vvp01', 'one', '2006-4-26_13-22-13')>: None, IdentifyingContext<('kdiba', 'vvp01', 'one', '2006-4-27_14-43-12')>: None, IdentifyingContext<('kdiba', 'vvp01', 'one', '2006-4-28_12-17-27')>: None, IdentifyingContext<('kdiba', 'vvp01', 'one', '2006-4-28_16-48-29')>: None, IdentifyingContext<('kdiba', 'vvp01', 'two', '2006-4-09_16-40-54')>: None, IdentifyingContext<('kdiba', 'vvp01', 'two', '2006-4-10_12-58-3')>: None, IdentifyingContext<('kdiba', 'vvp01', 'two', '2006-4-10_19-11-57')>: None, IdentifyingContext<('kdiba', 'vvp01', 'two', '2006-4-11_12-48-38')>: None, IdentifyingContext<('kdiba', 'vvp01', 'two', '2006-4-11_16-2-46')>: None, IdentifyingContext<('kdiba', 'vvp01', 'two', '2006-4-12_14-59-23')>: None, IdentifyingContext<('kdiba', 'vvp01', 'two', '2006-4-12_15-25-59')>: None, IdentifyingContext<('kdiba', 'vvp01', 'two', '2006-4-16_14-49-24')>: None, IdentifyingContext<('kdiba', 'vvp01', 'two', '2006-4-16_18-47-52')>: None, IdentifyingContext<('kdiba', 'vvp01', 'two', '2006-4-17_12-52-15')>: None, IdentifyingContext<('kdiba', 'vvp01', 'two', '2006-4-18_13-28-57')>: None, IdentifyingContext<('kdiba', 'vvp01', 'two', '2006-4-18_15-38-2')>: None, IdentifyingContext<('kdiba', 'vvp01', 'two', '2006-4-19_13-50-7')>: None, IdentifyingContext<('kdiba', 'vvp01', 'two', '2006-4-19_16-37-40')>: None, IdentifyingContext<('kdiba', 'vvp01', 'two', '2006-4-21_11-19-2')>: None, IdentifyingContext<('kdiba', 'vvp01', 'two', '2006-4-25_13-20-55')>: None, IdentifyingContext<('kdiba', 'vvp01', 'two', '2006-4-25_17-33-28')>: None, IdentifyingContext<('kdiba', 'vvp01', 'two', '2006-4-26_13-51-50')>: None, IdentifyingContext<('kdiba', 'vvp01', 'two', '2006-4-27_18-21-57')>: None, IdentifyingContext<('kdiba', 'vvp01', 'two', '2006-4-28_12-38-13')>: None, IdentifyingContext<('kdiba', 'vvp01', 'two', '2006-4-28_17-6-14')>: None, IdentifyingContext<('kdiba', 'pin01', 'one', '11-02_17-46-44')>: None, IdentifyingContext<('kdiba', 'pin01', 'one', '11-02_19-28-0')>: None, IdentifyingContext<('kdiba', 'pin01', 'one', '11-03_12-3-25')>: None, IdentifyingContext<('kdiba', 'pin01', 'one', '11-03_21-26-8')>: None, IdentifyingContext<('kdiba', 'pin01', 'one', '11-05_19-26-43')>: None, IdentifyingContext<('kdiba', 'pin01', 'one', '11-09_11-43-50')>: None, IdentifyingContext<('kdiba', 'pin01', 'one', '11-09_12-15-3')>: None, IdentifyingContext<('kdiba', 'pin01', 'one', '11-09_21-17-16')>: None, IdentifyingContext<('kdiba', 'pin01', 'one', '11-09_22-4-5')>: None, IdentifyingContext<('kdiba', 'pin01', 'one', '11-19_12-35-59')>: None, IdentifyingContext<('kdiba', 'pin01', 'one', '11-19_13-2-0')>: None, IdentifyingContext<('kdiba', 'pin01', 'one', '11-19_13-55-7')>: None, IdentifyingContext<('kdiba', 'pin01', 'one', 'fet11-01_12-58-54')>: None, IdentifyingContext<('kdiba', 'pin01', 'one', 'fet11-03_11-0-53')>: None, IdentifyingContext<('kdiba', 'pin01', 'one', 'fet11-03_20-28-3')>: None, IdentifyingContext<('kdiba', 'pin01', 'one', 'fet11-04_21-20-3')>: None, IdentifyingContext<('kdiba', 'pin01', 'one', 'redundant')>: None, IdentifyingContext<('kdiba', 'pin01', 'one', 'showclus')>: None, IdentifyingContext<('kdiba', 'pin01', 'one', 'sleep')>: None, IdentifyingContext<('kdiba', 'pin01', 'one', 'tmaze')>: None}, session_batch_outputs={IdentifyingContext<('kdiba', 'gor01', 'one', '2006-6-07_11-26-53')>: None, IdentifyingContext<('kdiba', 'gor01', 'one', '2006-6-08_14-26-15')>: None, IdentifyingContext<('kdiba', 'gor01', 'one', '2006-6-09_1-22-43')>: None, IdentifyingContext<('kdiba', 'gor01', 'one', '2006-6-09_3-23-37')>: None, IdentifyingContext<('kdiba', 'gor01', 'one', '2006-6-12_15-55-31')>: None, IdentifyingContext<('kdiba', 'gor01', 'one', '2006-6-13_14-42-6')>: None, IdentifyingContext<('kdiba', 'gor01', 'two', '2006-6-07_16-40-19')>: None, IdentifyingContext<('kdiba', 'gor01', 'two', '2006-6-08_15-46-47')>: None, IdentifyingContext<('kdiba', 'gor01', 'two', '2006-6-08_21-16-25')>: None, IdentifyingContext<('kdiba', 'gor01', 'two', '2006-6-09_22-24-40')>: None, IdentifyingContext<('kdiba', 'gor01', 'two', '2006-6-12_16-53-46')>: None, IdentifyingContext<('kdiba', 'gor01', 'two', '2006-6-13_15-22-3')>: None, IdentifyingContext<('kdiba', 'vvp01', 'one', '2006-4-09_17-29-30')>: None, IdentifyingContext<('kdiba', 'vvp01', 'one', '2006-4-10_12-25-50')>: None, IdentifyingContext<('kdiba', 'vvp01', 'one', '2006-4-10_21-2-40')>: None, IdentifyingContext<('kdiba', 'vvp01', 'one', '2006-4-11_15-16-59')>: None, IdentifyingContext<('kdiba', 'vvp01', 'one', '2006-4-12_14-39-31')>: None, IdentifyingContext<('kdiba', 'vvp01', 'one', '2006-4-12_17-53-55')>: None, IdentifyingContext<('kdiba', 'vvp01', 'one', '2006-4-16_15-12-23')>: None, IdentifyingContext<('kdiba', 'vvp01', 'one', '2006-4-17_12-33-47')>: None, IdentifyingContext<('kdiba', 'vvp01', 'one', '2006-4-18_13-6-1')>: None, IdentifyingContext<('kdiba', 'vvp01', 'one', '2006-4-18_15-23-32')>: None, IdentifyingContext<('kdiba', 'vvp01', 'one', '2006-4-19_13-34-40')>: None, IdentifyingContext<('kdiba', 'vvp01', 'one', '2006-4-19_16-48-9')>: None, IdentifyingContext<('kdiba', 'vvp01', 'one', '2006-4-21_10-24-35')>: None, IdentifyingContext<('kdiba', 'vvp01', 'one', '2006-4-25_14-28-51')>: None, IdentifyingContext<('kdiba', 'vvp01', 'one', '2006-4-25_17-17-6')>: None, IdentifyingContext<('kdiba', 'vvp01', 'one', '2006-4-26_13-22-13')>: None, IdentifyingContext<('kdiba', 'vvp01', 'one', '2006-4-27_14-43-12')>: None, IdentifyingContext<('kdiba', 'vvp01', 'one', '2006-4-28_12-17-27')>: None, IdentifyingContext<('kdiba', 'vvp01', 'one', '2006-4-28_16-48-29')>: None, IdentifyingContext<('kdiba', 'vvp01', 'two', '2006-4-09_16-40-54')>: None, IdentifyingContext<('kdiba', 'vvp01', 'two', '2006-4-10_12-58-3')>: None, IdentifyingContext<('kdiba', 'vvp01', 'two', '2006-4-10_19-11-57')>: None, IdentifyingContext<('kdiba', 'vvp01', 'two', '2006-4-11_12-48-38')>: None, IdentifyingContext<('kdiba', 'vvp01', 'two', '2006-4-11_16-2-46')>: None, IdentifyingContext<('kdiba', 'vvp01', 'two', '2006-4-12_14-59-23')>: None, IdentifyingContext<('kdiba', 'vvp01', 'two', '2006-4-12_15-25-59')>: None, IdentifyingContext<('kdiba', 'vvp01', 'two', '2006-4-16_14-49-24')>: None, IdentifyingContext<('kdiba', 'vvp01', 'two', '2006-4-16_18-47-52')>: None, IdentifyingContext<('kdiba', 'vvp01', 'two', '2006-4-17_12-52-15')>: None, IdentifyingContext<('kdiba', 'vvp01', 'two', '2006-4-18_13-28-57')>: None, IdentifyingContext<('kdiba', 'vvp01', 'two', '2006-4-18_15-38-2')>: None, IdentifyingContext<('kdiba', 'vvp01', 'two', '2006-4-19_13-50-7')>: None, IdentifyingContext<('kdiba', 'vvp01', 'two', '2006-4-19_16-37-40')>: None, IdentifyingContext<('kdiba', 'vvp01', 'two', '2006-4-21_11-19-2')>: None, IdentifyingContext<('kdiba', 'vvp01', 'two', '2006-4-25_13-20-55')>: None, IdentifyingContext<('kdiba', 'vvp01', 'two', '2006-4-25_17-33-28')>: None, IdentifyingContext<('kdiba', 'vvp01', 'two', '2006-4-26_13-51-50')>: None, IdentifyingContext<('kdiba', 'vvp01', 'two', '2006-4-27_18-21-57')>: None, IdentifyingContext<('kdiba', 'vvp01', 'two', '2006-4-28_12-38-13')>: None, IdentifyingContext<('kdiba', 'vvp01', 'two', '2006-4-28_17-6-14')>: None, IdentifyingContext<('kdiba', 'pin01', 'one', '11-02_17-46-44')>: None, IdentifyingContext<('kdiba', 'pin01', 'one', '11-02_19-28-0')>: None, IdentifyingContext<('kdiba', 'pin01', 'one', '11-03_12-3-25')>: None, IdentifyingContext<('kdiba', 'pin01', 'one', '11-03_21-26-8')>: None, IdentifyingContext<('kdiba', 'pin01', 'one', '11-05_19-26-43')>: None, IdentifyingContext<('kdiba', 'pin01', 'one', '11-09_11-43-50')>: None, IdentifyingContext<('kdiba', 'pin01', 'one', '11-09_12-15-3')>: None, IdentifyingContext<('kdiba', 'pin01', 'one', '11-09_21-17-16')>: None, IdentifyingContext<('kdiba', 'pin01', 'one', '11-09_22-4-5')>: None, IdentifyingContext<('kdiba', 'pin01', 'one', '11-19_12-35-59')>: None, IdentifyingContext<('kdiba', 'pin01', 'one', '11-19_13-2-0')>: None, IdentifyingContext<('kdiba', 'pin01', 'one', '11-19_13-55-7')>: None, IdentifyingContext<('kdiba', 'pin01', 'one', 'fet11-01_12-58-54')>: None, IdentifyingContext<('kdiba', 'pin01', 'one', 'fet11-03_11-0-53')>: None, IdentifyingContext<('kdiba', 'pin01', 'one', 'fet11-03_20-28-3')>: None, IdentifyingContext<('kdiba', 'pin01', 'one', 'fet11-04_21-20-3')>: None, IdentifyingContext<('kdiba', 'pin01', 'one', 'redundant')>: None, IdentifyingContext<('kdiba', 'pin01', 'one', 'showclus')>: None, IdentifyingContext<('kdiba', 'pin01', 'one', 'sleep')>: None, IdentifyingContext<('kdiba', 'pin01', 'one', 'tmaze')>: None}, enable_saving_to_disk=False)\n",
      "local_session_names_list: ['2006-6-07_11-26-53', '2006-6-08_14-26-15', '2006-6-09_1-22-43', '2006-6-09_3-23-37', '2006-6-12_15-55-31', '2006-6-13_14-42-6']\n",
      "EXTANT SESSION! curr_session_context: kdiba_gor01_one_2006-6-07_11-26-53 curr_session_status: SessionBatchProgress.NOT_STARTED, curr_session_errors: None\n",
      "EXTANT SESSION! curr_session_context: kdiba_gor01_one_2006-6-08_14-26-15 curr_session_status: SessionBatchProgress.NOT_STARTED, curr_session_errors: None\n",
      "EXTANT SESSION! curr_session_context: kdiba_gor01_one_2006-6-09_1-22-43 curr_session_status: SessionBatchProgress.NOT_STARTED, curr_session_errors: None\n",
      "EXTANT SESSION! curr_session_context: kdiba_gor01_one_2006-6-09_3-23-37 curr_session_status: SessionBatchProgress.NOT_STARTED, curr_session_errors: None\n",
      "EXTANT SESSION! curr_session_context: kdiba_gor01_one_2006-6-12_15-55-31 curr_session_status: SessionBatchProgress.NOT_STARTED, curr_session_errors: None\n",
      "EXTANT SESSION! curr_session_context: kdiba_gor01_one_2006-6-13_14-42-6 curr_session_status: SessionBatchProgress.NOT_STARTED, curr_session_errors: None\n",
      "local_session_names_list: ['2006-6-07_16-40-19', '2006-6-08_15-46-47', '2006-6-08_21-16-25', '2006-6-09_22-24-40', '2006-6-12_16-53-46', '2006-6-13_15-22-3']\n",
      "EXTANT SESSION! curr_session_context: kdiba_gor01_two_2006-6-07_16-40-19 curr_session_status: SessionBatchProgress.NOT_STARTED, curr_session_errors: None\n",
      "EXTANT SESSION! curr_session_context: kdiba_gor01_two_2006-6-08_15-46-47 curr_session_status: SessionBatchProgress.NOT_STARTED, curr_session_errors: None\n",
      "EXTANT SESSION! curr_session_context: kdiba_gor01_two_2006-6-08_21-16-25 curr_session_status: SessionBatchProgress.NOT_STARTED, curr_session_errors: None\n",
      "EXTANT SESSION! curr_session_context: kdiba_gor01_two_2006-6-09_22-24-40 curr_session_status: SessionBatchProgress.NOT_STARTED, curr_session_errors: None\n",
      "EXTANT SESSION! curr_session_context: kdiba_gor01_two_2006-6-12_16-53-46 curr_session_status: SessionBatchProgress.NOT_STARTED, curr_session_errors: None\n",
      "EXTANT SESSION! curr_session_context: kdiba_gor01_two_2006-6-13_15-22-3 curr_session_status: SessionBatchProgress.NOT_STARTED, curr_session_errors: None\n",
      "local_session_names_list: ['2006-4-09_17-29-30', '2006-4-10_12-25-50', '2006-4-10_21-2-40', '2006-4-11_15-16-59', '2006-4-12_14-39-31', '2006-4-12_17-53-55', '2006-4-16_15-12-23', '2006-4-17_12-33-47', '2006-4-18_13-6-1', '2006-4-18_15-23-32', '2006-4-19_13-34-40', '2006-4-19_16-48-9', '2006-4-21_10-24-35', '2006-4-25_14-28-51', '2006-4-25_17-17-6', '2006-4-26_13-22-13', '2006-4-27_14-43-12', '2006-4-28_12-17-27', '2006-4-28_16-48-29']\n",
      "EXTANT SESSION! curr_session_context: kdiba_vvp01_one_2006-4-09_17-29-30 curr_session_status: SessionBatchProgress.NOT_STARTED, curr_session_errors: None\n",
      "EXTANT SESSION! curr_session_context: kdiba_vvp01_one_2006-4-10_12-25-50 curr_session_status: SessionBatchProgress.NOT_STARTED, curr_session_errors: None\n",
      "EXTANT SESSION! curr_session_context: kdiba_vvp01_one_2006-4-10_21-2-40 curr_session_status: SessionBatchProgress.NOT_STARTED, curr_session_errors: None\n",
      "EXTANT SESSION! curr_session_context: kdiba_vvp01_one_2006-4-11_15-16-59 curr_session_status: SessionBatchProgress.NOT_STARTED, curr_session_errors: None\n",
      "EXTANT SESSION! curr_session_context: kdiba_vvp01_one_2006-4-12_14-39-31 curr_session_status: SessionBatchProgress.NOT_STARTED, curr_session_errors: None\n",
      "EXTANT SESSION! curr_session_context: kdiba_vvp01_one_2006-4-12_17-53-55 curr_session_status: SessionBatchProgress.NOT_STARTED, curr_session_errors: None\n",
      "EXTANT SESSION! curr_session_context: kdiba_vvp01_one_2006-4-16_15-12-23 curr_session_status: SessionBatchProgress.NOT_STARTED, curr_session_errors: None\n",
      "EXTANT SESSION! curr_session_context: kdiba_vvp01_one_2006-4-17_12-33-47 curr_session_status: SessionBatchProgress.NOT_STARTED, curr_session_errors: None\n",
      "EXTANT SESSION! curr_session_context: kdiba_vvp01_one_2006-4-18_13-6-1 curr_session_status: SessionBatchProgress.NOT_STARTED, curr_session_errors: None\n",
      "EXTANT SESSION! curr_session_context: kdiba_vvp01_one_2006-4-18_15-23-32 curr_session_status: SessionBatchProgress.NOT_STARTED, curr_session_errors: None\n",
      "EXTANT SESSION! curr_session_context: kdiba_vvp01_one_2006-4-19_13-34-40 curr_session_status: SessionBatchProgress.NOT_STARTED, curr_session_errors: None\n",
      "EXTANT SESSION! curr_session_context: kdiba_vvp01_one_2006-4-19_16-48-9 curr_session_status: SessionBatchProgress.NOT_STARTED, curr_session_errors: None\n",
      "EXTANT SESSION! curr_session_context: kdiba_vvp01_one_2006-4-21_10-24-35 curr_session_status: SessionBatchProgress.NOT_STARTED, curr_session_errors: None\n",
      "EXTANT SESSION! curr_session_context: kdiba_vvp01_one_2006-4-25_14-28-51 curr_session_status: SessionBatchProgress.NOT_STARTED, curr_session_errors: None\n",
      "EXTANT SESSION! curr_session_context: kdiba_vvp01_one_2006-4-25_17-17-6 curr_session_status: SessionBatchProgress.NOT_STARTED, curr_session_errors: None\n",
      "EXTANT SESSION! curr_session_context: kdiba_vvp01_one_2006-4-26_13-22-13 curr_session_status: SessionBatchProgress.NOT_STARTED, curr_session_errors: None\n",
      "EXTANT SESSION! curr_session_context: kdiba_vvp01_one_2006-4-27_14-43-12 curr_session_status: SessionBatchProgress.NOT_STARTED, curr_session_errors: None\n",
      "EXTANT SESSION! curr_session_context: kdiba_vvp01_one_2006-4-28_12-17-27 curr_session_status: SessionBatchProgress.NOT_STARTED, curr_session_errors: None\n",
      "EXTANT SESSION! curr_session_context: kdiba_vvp01_one_2006-4-28_16-48-29 curr_session_status: SessionBatchProgress.NOT_STARTED, curr_session_errors: None\n",
      "local_session_names_list: ['2006-4-09_16-40-54', '2006-4-10_12-58-3', '2006-4-10_19-11-57', '2006-4-11_12-48-38', '2006-4-11_16-2-46', '2006-4-12_14-59-23', '2006-4-12_15-25-59', '2006-4-16_14-49-24', '2006-4-16_18-47-52', '2006-4-17_12-52-15', '2006-4-18_13-28-57', '2006-4-18_15-38-2', '2006-4-19_13-50-7', '2006-4-19_16-37-40', '2006-4-21_11-19-2', '2006-4-25_13-20-55', '2006-4-25_17-33-28', '2006-4-26_13-51-50', '2006-4-27_18-21-57', '2006-4-28_12-38-13', '2006-4-28_17-6-14']\n",
      "EXTANT SESSION! curr_session_context: kdiba_vvp01_two_2006-4-09_16-40-54 curr_session_status: SessionBatchProgress.NOT_STARTED, curr_session_errors: None\n",
      "EXTANT SESSION! curr_session_context: kdiba_vvp01_two_2006-4-10_12-58-3 curr_session_status: SessionBatchProgress.NOT_STARTED, curr_session_errors: None\n",
      "EXTANT SESSION! curr_session_context: kdiba_vvp01_two_2006-4-10_19-11-57 curr_session_status: SessionBatchProgress.NOT_STARTED, curr_session_errors: None\n",
      "EXTANT SESSION! curr_session_context: kdiba_vvp01_two_2006-4-11_12-48-38 curr_session_status: SessionBatchProgress.NOT_STARTED, curr_session_errors: None\n",
      "EXTANT SESSION! curr_session_context: kdiba_vvp01_two_2006-4-11_16-2-46 curr_session_status: SessionBatchProgress.NOT_STARTED, curr_session_errors: None\n",
      "EXTANT SESSION! curr_session_context: kdiba_vvp01_two_2006-4-12_14-59-23 curr_session_status: SessionBatchProgress.NOT_STARTED, curr_session_errors: None\n",
      "EXTANT SESSION! curr_session_context: kdiba_vvp01_two_2006-4-12_15-25-59 curr_session_status: SessionBatchProgress.NOT_STARTED, curr_session_errors: None\n",
      "EXTANT SESSION! curr_session_context: kdiba_vvp01_two_2006-4-16_14-49-24 curr_session_status: SessionBatchProgress.NOT_STARTED, curr_session_errors: None\n",
      "EXTANT SESSION! curr_session_context: kdiba_vvp01_two_2006-4-16_18-47-52 curr_session_status: SessionBatchProgress.NOT_STARTED, curr_session_errors: None\n",
      "EXTANT SESSION! curr_session_context: kdiba_vvp01_two_2006-4-17_12-52-15 curr_session_status: SessionBatchProgress.NOT_STARTED, curr_session_errors: None\n",
      "EXTANT SESSION! curr_session_context: kdiba_vvp01_two_2006-4-18_13-28-57 curr_session_status: SessionBatchProgress.NOT_STARTED, curr_session_errors: None\n",
      "EXTANT SESSION! curr_session_context: kdiba_vvp01_two_2006-4-18_15-38-2 curr_session_status: SessionBatchProgress.NOT_STARTED, curr_session_errors: None\n",
      "EXTANT SESSION! curr_session_context: kdiba_vvp01_two_2006-4-19_13-50-7 curr_session_status: SessionBatchProgress.NOT_STARTED, curr_session_errors: None\n",
      "EXTANT SESSION! curr_session_context: kdiba_vvp01_two_2006-4-19_16-37-40 curr_session_status: SessionBatchProgress.NOT_STARTED, curr_session_errors: None\n",
      "EXTANT SESSION! curr_session_context: kdiba_vvp01_two_2006-4-21_11-19-2 curr_session_status: SessionBatchProgress.NOT_STARTED, curr_session_errors: None\n",
      "EXTANT SESSION! curr_session_context: kdiba_vvp01_two_2006-4-25_13-20-55 curr_session_status: SessionBatchProgress.NOT_STARTED, curr_session_errors: None\n",
      "EXTANT SESSION! curr_session_context: kdiba_vvp01_two_2006-4-25_17-33-28 curr_session_status: SessionBatchProgress.NOT_STARTED, curr_session_errors: None\n",
      "EXTANT SESSION! curr_session_context: kdiba_vvp01_two_2006-4-26_13-51-50 curr_session_status: SessionBatchProgress.NOT_STARTED, curr_session_errors: None\n",
      "EXTANT SESSION! curr_session_context: kdiba_vvp01_two_2006-4-27_18-21-57 curr_session_status: SessionBatchProgress.NOT_STARTED, curr_session_errors: None\n",
      "EXTANT SESSION! curr_session_context: kdiba_vvp01_two_2006-4-28_12-38-13 curr_session_status: SessionBatchProgress.NOT_STARTED, curr_session_errors: None\n",
      "EXTANT SESSION! curr_session_context: kdiba_vvp01_two_2006-4-28_17-6-14 curr_session_status: SessionBatchProgress.NOT_STARTED, curr_session_errors: None\n",
      "local_session_names_list: ['11-02_17-46-44', '11-02_19-28-0', '11-03_12-3-25', '11-03_21-26-8', '11-05_19-26-43', '11-09_11-43-50', '11-09_12-15-3', '11-09_21-17-16', '11-09_22-4-5', '11-19_12-35-59', '11-19_13-2-0', '11-19_13-55-7', 'fet11-01_12-58-54', 'fet11-03_11-0-53', 'fet11-03_20-28-3', 'fet11-04_21-20-3', 'redundant', 'showclus', 'sleep', 'tmaze']\n",
      "EXTANT SESSION! curr_session_context: kdiba_pin01_one_11-02_17-46-44 curr_session_status: SessionBatchProgress.NOT_STARTED, curr_session_errors: None\n",
      "EXTANT SESSION! curr_session_context: kdiba_pin01_one_11-02_19-28-0 curr_session_status: SessionBatchProgress.NOT_STARTED, curr_session_errors: None\n",
      "EXTANT SESSION! curr_session_context: kdiba_pin01_one_11-03_12-3-25 curr_session_status: SessionBatchProgress.NOT_STARTED, curr_session_errors: None\n",
      "EXTANT SESSION! curr_session_context: kdiba_pin01_one_11-03_21-26-8 curr_session_status: SessionBatchProgress.NOT_STARTED, curr_session_errors: None\n",
      "EXTANT SESSION! curr_session_context: kdiba_pin01_one_11-05_19-26-43 curr_session_status: SessionBatchProgress.NOT_STARTED, curr_session_errors: None\n",
      "EXTANT SESSION! curr_session_context: kdiba_pin01_one_11-09_11-43-50 curr_session_status: SessionBatchProgress.NOT_STARTED, curr_session_errors: None\n",
      "EXTANT SESSION! curr_session_context: kdiba_pin01_one_11-09_12-15-3 curr_session_status: SessionBatchProgress.NOT_STARTED, curr_session_errors: None\n",
      "EXTANT SESSION! curr_session_context: kdiba_pin01_one_11-09_21-17-16 curr_session_status: SessionBatchProgress.NOT_STARTED, curr_session_errors: None\n",
      "EXTANT SESSION! curr_session_context: kdiba_pin01_one_11-09_22-4-5 curr_session_status: SessionBatchProgress.NOT_STARTED, curr_session_errors: None\n",
      "EXTANT SESSION! curr_session_context: kdiba_pin01_one_11-19_12-35-59 curr_session_status: SessionBatchProgress.NOT_STARTED, curr_session_errors: None\n",
      "EXTANT SESSION! curr_session_context: kdiba_pin01_one_11-19_13-2-0 curr_session_status: SessionBatchProgress.NOT_STARTED, curr_session_errors: None\n",
      "EXTANT SESSION! curr_session_context: kdiba_pin01_one_11-19_13-55-7 curr_session_status: SessionBatchProgress.NOT_STARTED, curr_session_errors: None\n",
      "EXTANT SESSION! curr_session_context: kdiba_pin01_one_fet11-01_12-58-54 curr_session_status: SessionBatchProgress.NOT_STARTED, curr_session_errors: None\n",
      "EXTANT SESSION! curr_session_context: kdiba_pin01_one_fet11-03_11-0-53 curr_session_status: SessionBatchProgress.NOT_STARTED, curr_session_errors: None\n",
      "EXTANT SESSION! curr_session_context: kdiba_pin01_one_fet11-03_20-28-3 curr_session_status: SessionBatchProgress.NOT_STARTED, curr_session_errors: None\n",
      "EXTANT SESSION! curr_session_context: kdiba_pin01_one_fet11-04_21-20-3 curr_session_status: SessionBatchProgress.NOT_STARTED, curr_session_errors: None\n",
      "EXTANT SESSION! curr_session_context: kdiba_pin01_one_redundant curr_session_status: SessionBatchProgress.NOT_STARTED, curr_session_errors: None\n",
      "EXTANT SESSION! curr_session_context: kdiba_pin01_one_showclus curr_session_status: SessionBatchProgress.NOT_STARTED, curr_session_errors: None\n",
      "EXTANT SESSION! curr_session_context: kdiba_pin01_one_sleep curr_session_status: SessionBatchProgress.NOT_STARTED, curr_session_errors: None\n",
      "EXTANT SESSION! curr_session_context: kdiba_pin01_one_tmaze curr_session_status: SessionBatchProgress.NOT_STARTED, curr_session_errors: None\n"
     ]
    },
    {
     "data": {
      "text/plain": [
       "BatchRun(global_data_root_parent_path=PosixPath('/media/MAX/Data'), session_batch_status={IdentifyingContext<('kdiba', 'gor01', 'one', '2006-6-07_11-26-53')>: <SessionBatchProgress.NOT_STARTED: 'NOT_STARTED'>, IdentifyingContext<('kdiba', 'gor01', 'one', '2006-6-08_14-26-15')>: <SessionBatchProgress.NOT_STARTED: 'NOT_STARTED'>, IdentifyingContext<('kdiba', 'gor01', 'one', '2006-6-09_1-22-43')>: <SessionBatchProgress.NOT_STARTED: 'NOT_STARTED'>, IdentifyingContext<('kdiba', 'gor01', 'one', '2006-6-09_3-23-37')>: <SessionBatchProgress.NOT_STARTED: 'NOT_STARTED'>, IdentifyingContext<('kdiba', 'gor01', 'one', '2006-6-12_15-55-31')>: <SessionBatchProgress.NOT_STARTED: 'NOT_STARTED'>, IdentifyingContext<('kdiba', 'gor01', 'one', '2006-6-13_14-42-6')>: <SessionBatchProgress.NOT_STARTED: 'NOT_STARTED'>, IdentifyingContext<('kdiba', 'gor01', 'two', '2006-6-07_16-40-19')>: <SessionBatchProgress.NOT_STARTED: 'NOT_STARTED'>, IdentifyingContext<('kdiba', 'gor01', 'two', '2006-6-08_15-46-47')>: <SessionBatchProgress.NOT_STARTED: 'NOT_STARTED'>, IdentifyingContext<('kdiba', 'gor01', 'two', '2006-6-08_21-16-25')>: <SessionBatchProgress.NOT_STARTED: 'NOT_STARTED'>, IdentifyingContext<('kdiba', 'gor01', 'two', '2006-6-09_22-24-40')>: <SessionBatchProgress.NOT_STARTED: 'NOT_STARTED'>, IdentifyingContext<('kdiba', 'gor01', 'two', '2006-6-12_16-53-46')>: <SessionBatchProgress.NOT_STARTED: 'NOT_STARTED'>, IdentifyingContext<('kdiba', 'gor01', 'two', '2006-6-13_15-22-3')>: <SessionBatchProgress.NOT_STARTED: 'NOT_STARTED'>, IdentifyingContext<('kdiba', 'vvp01', 'one', '2006-4-09_17-29-30')>: <SessionBatchProgress.NOT_STARTED: 'NOT_STARTED'>, IdentifyingContext<('kdiba', 'vvp01', 'one', '2006-4-10_12-25-50')>: <SessionBatchProgress.NOT_STARTED: 'NOT_STARTED'>, IdentifyingContext<('kdiba', 'vvp01', 'one', '2006-4-10_21-2-40')>: <SessionBatchProgress.NOT_STARTED: 'NOT_STARTED'>, IdentifyingContext<('kdiba', 'vvp01', 'one', '2006-4-11_15-16-59')>: <SessionBatchProgress.NOT_STARTED: 'NOT_STARTED'>, IdentifyingContext<('kdiba', 'vvp01', 'one', '2006-4-12_14-39-31')>: <SessionBatchProgress.NOT_STARTED: 'NOT_STARTED'>, IdentifyingContext<('kdiba', 'vvp01', 'one', '2006-4-12_17-53-55')>: <SessionBatchProgress.NOT_STARTED: 'NOT_STARTED'>, IdentifyingContext<('kdiba', 'vvp01', 'one', '2006-4-16_15-12-23')>: <SessionBatchProgress.NOT_STARTED: 'NOT_STARTED'>, IdentifyingContext<('kdiba', 'vvp01', 'one', '2006-4-17_12-33-47')>: <SessionBatchProgress.NOT_STARTED: 'NOT_STARTED'>, IdentifyingContext<('kdiba', 'vvp01', 'one', '2006-4-18_13-6-1')>: <SessionBatchProgress.NOT_STARTED: 'NOT_STARTED'>, IdentifyingContext<('kdiba', 'vvp01', 'one', '2006-4-18_15-23-32')>: <SessionBatchProgress.NOT_STARTED: 'NOT_STARTED'>, IdentifyingContext<('kdiba', 'vvp01', 'one', '2006-4-19_13-34-40')>: <SessionBatchProgress.NOT_STARTED: 'NOT_STARTED'>, IdentifyingContext<('kdiba', 'vvp01', 'one', '2006-4-19_16-48-9')>: <SessionBatchProgress.NOT_STARTED: 'NOT_STARTED'>, IdentifyingContext<('kdiba', 'vvp01', 'one', '2006-4-21_10-24-35')>: <SessionBatchProgress.NOT_STARTED: 'NOT_STARTED'>, IdentifyingContext<('kdiba', 'vvp01', 'one', '2006-4-25_14-28-51')>: <SessionBatchProgress.NOT_STARTED: 'NOT_STARTED'>, IdentifyingContext<('kdiba', 'vvp01', 'one', '2006-4-25_17-17-6')>: <SessionBatchProgress.NOT_STARTED: 'NOT_STARTED'>, IdentifyingContext<('kdiba', 'vvp01', 'one', '2006-4-26_13-22-13')>: <SessionBatchProgress.NOT_STARTED: 'NOT_STARTED'>, IdentifyingContext<('kdiba', 'vvp01', 'one', '2006-4-27_14-43-12')>: <SessionBatchProgress.NOT_STARTED: 'NOT_STARTED'>, IdentifyingContext<('kdiba', 'vvp01', 'one', '2006-4-28_12-17-27')>: <SessionBatchProgress.NOT_STARTED: 'NOT_STARTED'>, IdentifyingContext<('kdiba', 'vvp01', 'one', '2006-4-28_16-48-29')>: <SessionBatchProgress.NOT_STARTED: 'NOT_STARTED'>, IdentifyingContext<('kdiba', 'vvp01', 'two', '2006-4-09_16-40-54')>: <SessionBatchProgress.NOT_STARTED: 'NOT_STARTED'>, IdentifyingContext<('kdiba', 'vvp01', 'two', '2006-4-10_12-58-3')>: <SessionBatchProgress.NOT_STARTED: 'NOT_STARTED'>, IdentifyingContext<('kdiba', 'vvp01', 'two', '2006-4-10_19-11-57')>: <SessionBatchProgress.NOT_STARTED: 'NOT_STARTED'>, IdentifyingContext<('kdiba', 'vvp01', 'two', '2006-4-11_12-48-38')>: <SessionBatchProgress.NOT_STARTED: 'NOT_STARTED'>, IdentifyingContext<('kdiba', 'vvp01', 'two', '2006-4-11_16-2-46')>: <SessionBatchProgress.NOT_STARTED: 'NOT_STARTED'>, IdentifyingContext<('kdiba', 'vvp01', 'two', '2006-4-12_14-59-23')>: <SessionBatchProgress.NOT_STARTED: 'NOT_STARTED'>, IdentifyingContext<('kdiba', 'vvp01', 'two', '2006-4-12_15-25-59')>: <SessionBatchProgress.NOT_STARTED: 'NOT_STARTED'>, IdentifyingContext<('kdiba', 'vvp01', 'two', '2006-4-16_14-49-24')>: <SessionBatchProgress.NOT_STARTED: 'NOT_STARTED'>, IdentifyingContext<('kdiba', 'vvp01', 'two', '2006-4-16_18-47-52')>: <SessionBatchProgress.NOT_STARTED: 'NOT_STARTED'>, IdentifyingContext<('kdiba', 'vvp01', 'two', '2006-4-17_12-52-15')>: <SessionBatchProgress.NOT_STARTED: 'NOT_STARTED'>, IdentifyingContext<('kdiba', 'vvp01', 'two', '2006-4-18_13-28-57')>: <SessionBatchProgress.NOT_STARTED: 'NOT_STARTED'>, IdentifyingContext<('kdiba', 'vvp01', 'two', '2006-4-18_15-38-2')>: <SessionBatchProgress.NOT_STARTED: 'NOT_STARTED'>, IdentifyingContext<('kdiba', 'vvp01', 'two', '2006-4-19_13-50-7')>: <SessionBatchProgress.NOT_STARTED: 'NOT_STARTED'>, IdentifyingContext<('kdiba', 'vvp01', 'two', '2006-4-19_16-37-40')>: <SessionBatchProgress.NOT_STARTED: 'NOT_STARTED'>, IdentifyingContext<('kdiba', 'vvp01', 'two', '2006-4-21_11-19-2')>: <SessionBatchProgress.NOT_STARTED: 'NOT_STARTED'>, IdentifyingContext<('kdiba', 'vvp01', 'two', '2006-4-25_13-20-55')>: <SessionBatchProgress.NOT_STARTED: 'NOT_STARTED'>, IdentifyingContext<('kdiba', 'vvp01', 'two', '2006-4-25_17-33-28')>: <SessionBatchProgress.NOT_STARTED: 'NOT_STARTED'>, IdentifyingContext<('kdiba', 'vvp01', 'two', '2006-4-26_13-51-50')>: <SessionBatchProgress.NOT_STARTED: 'NOT_STARTED'>, IdentifyingContext<('kdiba', 'vvp01', 'two', '2006-4-27_18-21-57')>: <SessionBatchProgress.NOT_STARTED: 'NOT_STARTED'>, IdentifyingContext<('kdiba', 'vvp01', 'two', '2006-4-28_12-38-13')>: <SessionBatchProgress.NOT_STARTED: 'NOT_STARTED'>, IdentifyingContext<('kdiba', 'vvp01', 'two', '2006-4-28_17-6-14')>: <SessionBatchProgress.NOT_STARTED: 'NOT_STARTED'>, IdentifyingContext<('kdiba', 'pin01', 'one', '11-02_17-46-44')>: <SessionBatchProgress.NOT_STARTED: 'NOT_STARTED'>, IdentifyingContext<('kdiba', 'pin01', 'one', '11-02_19-28-0')>: <SessionBatchProgress.NOT_STARTED: 'NOT_STARTED'>, IdentifyingContext<('kdiba', 'pin01', 'one', '11-03_12-3-25')>: <SessionBatchProgress.NOT_STARTED: 'NOT_STARTED'>, IdentifyingContext<('kdiba', 'pin01', 'one', '11-03_21-26-8')>: <SessionBatchProgress.NOT_STARTED: 'NOT_STARTED'>, IdentifyingContext<('kdiba', 'pin01', 'one', '11-05_19-26-43')>: <SessionBatchProgress.NOT_STARTED: 'NOT_STARTED'>, IdentifyingContext<('kdiba', 'pin01', 'one', '11-09_11-43-50')>: <SessionBatchProgress.NOT_STARTED: 'NOT_STARTED'>, IdentifyingContext<('kdiba', 'pin01', 'one', '11-09_12-15-3')>: <SessionBatchProgress.NOT_STARTED: 'NOT_STARTED'>, IdentifyingContext<('kdiba', 'pin01', 'one', '11-09_21-17-16')>: <SessionBatchProgress.NOT_STARTED: 'NOT_STARTED'>, IdentifyingContext<('kdiba', 'pin01', 'one', '11-09_22-4-5')>: <SessionBatchProgress.NOT_STARTED: 'NOT_STARTED'>, IdentifyingContext<('kdiba', 'pin01', 'one', '11-19_12-35-59')>: <SessionBatchProgress.NOT_STARTED: 'NOT_STARTED'>, IdentifyingContext<('kdiba', 'pin01', 'one', '11-19_13-2-0')>: <SessionBatchProgress.NOT_STARTED: 'NOT_STARTED'>, IdentifyingContext<('kdiba', 'pin01', 'one', '11-19_13-55-7')>: <SessionBatchProgress.NOT_STARTED: 'NOT_STARTED'>, IdentifyingContext<('kdiba', 'pin01', 'one', 'fet11-01_12-58-54')>: <SessionBatchProgress.NOT_STARTED: 'NOT_STARTED'>, IdentifyingContext<('kdiba', 'pin01', 'one', 'fet11-03_11-0-53')>: <SessionBatchProgress.NOT_STARTED: 'NOT_STARTED'>, IdentifyingContext<('kdiba', 'pin01', 'one', 'fet11-03_20-28-3')>: <SessionBatchProgress.NOT_STARTED: 'NOT_STARTED'>, IdentifyingContext<('kdiba', 'pin01', 'one', 'fet11-04_21-20-3')>: <SessionBatchProgress.NOT_STARTED: 'NOT_STARTED'>, IdentifyingContext<('kdiba', 'pin01', 'one', 'redundant')>: <SessionBatchProgress.NOT_STARTED: 'NOT_STARTED'>, IdentifyingContext<('kdiba', 'pin01', 'one', 'showclus')>: <SessionBatchProgress.NOT_STARTED: 'NOT_STARTED'>, IdentifyingContext<('kdiba', 'pin01', 'one', 'sleep')>: <SessionBatchProgress.NOT_STARTED: 'NOT_STARTED'>, IdentifyingContext<('kdiba', 'pin01', 'one', 'tmaze')>: <SessionBatchProgress.NOT_STARTED: 'NOT_STARTED'>}, session_batch_basedirs={IdentifyingContext<('kdiba', 'gor01', 'one', '2006-6-07_11-26-53')>: PosixPath('/media/MAX/Data/KDIBA/gor01/one/2006-6-07_11-26-53'), IdentifyingContext<('kdiba', 'gor01', 'one', '2006-6-08_14-26-15')>: PosixPath('/media/MAX/Data/KDIBA/gor01/one/2006-6-08_14-26-15'), IdentifyingContext<('kdiba', 'gor01', 'one', '2006-6-09_1-22-43')>: PosixPath('/media/MAX/Data/KDIBA/gor01/one/2006-6-09_1-22-43'), IdentifyingContext<('kdiba', 'gor01', 'one', '2006-6-09_3-23-37')>: PosixPath('/media/MAX/Data/KDIBA/gor01/one/2006-6-09_3-23-37'), IdentifyingContext<('kdiba', 'gor01', 'one', '2006-6-12_15-55-31')>: PosixPath('/media/MAX/Data/KDIBA/gor01/one/2006-6-12_15-55-31'), IdentifyingContext<('kdiba', 'gor01', 'one', '2006-6-13_14-42-6')>: PosixPath('/media/MAX/Data/KDIBA/gor01/one/2006-6-13_14-42-6'), IdentifyingContext<('kdiba', 'gor01', 'two', '2006-6-07_16-40-19')>: PosixPath('/media/MAX/Data/KDIBA/gor01/two/2006-6-07_16-40-19'), IdentifyingContext<('kdiba', 'gor01', 'two', '2006-6-08_15-46-47')>: PosixPath('/media/MAX/Data/KDIBA/gor01/two/2006-6-08_15-46-47'), IdentifyingContext<('kdiba', 'gor01', 'two', '2006-6-08_21-16-25')>: PosixPath('/media/MAX/Data/KDIBA/gor01/two/2006-6-08_21-16-25'), IdentifyingContext<('kdiba', 'gor01', 'two', '2006-6-09_22-24-40')>: PosixPath('/media/MAX/Data/KDIBA/gor01/two/2006-6-09_22-24-40'), IdentifyingContext<('kdiba', 'gor01', 'two', '2006-6-12_16-53-46')>: PosixPath('/media/MAX/Data/KDIBA/gor01/two/2006-6-12_16-53-46'), IdentifyingContext<('kdiba', 'gor01', 'two', '2006-6-13_15-22-3')>: PosixPath('/media/MAX/Data/KDIBA/gor01/two/2006-6-13_15-22-3'), IdentifyingContext<('kdiba', 'vvp01', 'one', '2006-4-09_17-29-30')>: PosixPath('/media/MAX/Data/KDIBA/vvp01/one/2006-4-09_17-29-30'), IdentifyingContext<('kdiba', 'vvp01', 'one', '2006-4-10_12-25-50')>: PosixPath('/media/MAX/Data/KDIBA/vvp01/one/2006-4-10_12-25-50'), IdentifyingContext<('kdiba', 'vvp01', 'one', '2006-4-10_21-2-40')>: PosixPath('/media/MAX/Data/KDIBA/vvp01/one/2006-4-10_21-2-40'), IdentifyingContext<('kdiba', 'vvp01', 'one', '2006-4-11_15-16-59')>: PosixPath('/media/MAX/Data/KDIBA/vvp01/one/2006-4-11_15-16-59'), IdentifyingContext<('kdiba', 'vvp01', 'one', '2006-4-12_14-39-31')>: PosixPath('/media/MAX/Data/KDIBA/vvp01/one/2006-4-12_14-39-31'), IdentifyingContext<('kdiba', 'vvp01', 'one', '2006-4-12_17-53-55')>: PosixPath('/media/MAX/Data/KDIBA/vvp01/one/2006-4-12_17-53-55'), IdentifyingContext<('kdiba', 'vvp01', 'one', '2006-4-16_15-12-23')>: PosixPath('/media/MAX/Data/KDIBA/vvp01/one/2006-4-16_15-12-23'), IdentifyingContext<('kdiba', 'vvp01', 'one', '2006-4-17_12-33-47')>: PosixPath('/media/MAX/Data/KDIBA/vvp01/one/2006-4-17_12-33-47'), IdentifyingContext<('kdiba', 'vvp01', 'one', '2006-4-18_13-6-1')>: PosixPath('/media/MAX/Data/KDIBA/vvp01/one/2006-4-18_13-6-1'), IdentifyingContext<('kdiba', 'vvp01', 'one', '2006-4-18_15-23-32')>: PosixPath('/media/MAX/Data/KDIBA/vvp01/one/2006-4-18_15-23-32'), IdentifyingContext<('kdiba', 'vvp01', 'one', '2006-4-19_13-34-40')>: PosixPath('/media/MAX/Data/KDIBA/vvp01/one/2006-4-19_13-34-40'), IdentifyingContext<('kdiba', 'vvp01', 'one', '2006-4-19_16-48-9')>: PosixPath('/media/MAX/Data/KDIBA/vvp01/one/2006-4-19_16-48-9'), IdentifyingContext<('kdiba', 'vvp01', 'one', '2006-4-21_10-24-35')>: PosixPath('/media/MAX/Data/KDIBA/vvp01/one/2006-4-21_10-24-35'), IdentifyingContext<('kdiba', 'vvp01', 'one', '2006-4-25_14-28-51')>: PosixPath('/media/MAX/Data/KDIBA/vvp01/one/2006-4-25_14-28-51'), IdentifyingContext<('kdiba', 'vvp01', 'one', '2006-4-25_17-17-6')>: PosixPath('/media/MAX/Data/KDIBA/vvp01/one/2006-4-25_17-17-6'), IdentifyingContext<('kdiba', 'vvp01', 'one', '2006-4-26_13-22-13')>: PosixPath('/media/MAX/Data/KDIBA/vvp01/one/2006-4-26_13-22-13'), IdentifyingContext<('kdiba', 'vvp01', 'one', '2006-4-27_14-43-12')>: PosixPath('/media/MAX/Data/KDIBA/vvp01/one/2006-4-27_14-43-12'), IdentifyingContext<('kdiba', 'vvp01', 'one', '2006-4-28_12-17-27')>: PosixPath('/media/MAX/Data/KDIBA/vvp01/one/2006-4-28_12-17-27'), IdentifyingContext<('kdiba', 'vvp01', 'one', '2006-4-28_16-48-29')>: PosixPath('/media/MAX/Data/KDIBA/vvp01/one/2006-4-28_16-48-29'), IdentifyingContext<('kdiba', 'vvp01', 'two', '2006-4-09_16-40-54')>: PosixPath('/media/MAX/Data/KDIBA/vvp01/two/2006-4-09_16-40-54'), IdentifyingContext<('kdiba', 'vvp01', 'two', '2006-4-10_12-58-3')>: PosixPath('/media/MAX/Data/KDIBA/vvp01/two/2006-4-10_12-58-3'), IdentifyingContext<('kdiba', 'vvp01', 'two', '2006-4-10_19-11-57')>: PosixPath('/media/MAX/Data/KDIBA/vvp01/two/2006-4-10_19-11-57'), IdentifyingContext<('kdiba', 'vvp01', 'two', '2006-4-11_12-48-38')>: PosixPath('/media/MAX/Data/KDIBA/vvp01/two/2006-4-11_12-48-38'), IdentifyingContext<('kdiba', 'vvp01', 'two', '2006-4-11_16-2-46')>: PosixPath('/media/MAX/Data/KDIBA/vvp01/two/2006-4-11_16-2-46'), IdentifyingContext<('kdiba', 'vvp01', 'two', '2006-4-12_14-59-23')>: PosixPath('/media/MAX/Data/KDIBA/vvp01/two/2006-4-12_14-59-23'), IdentifyingContext<('kdiba', 'vvp01', 'two', '2006-4-12_15-25-59')>: PosixPath('/media/MAX/Data/KDIBA/vvp01/two/2006-4-12_15-25-59'), IdentifyingContext<('kdiba', 'vvp01', 'two', '2006-4-16_14-49-24')>: PosixPath('/media/MAX/Data/KDIBA/vvp01/two/2006-4-16_14-49-24'), IdentifyingContext<('kdiba', 'vvp01', 'two', '2006-4-16_18-47-52')>: PosixPath('/media/MAX/Data/KDIBA/vvp01/two/2006-4-16_18-47-52'), IdentifyingContext<('kdiba', 'vvp01', 'two', '2006-4-17_12-52-15')>: PosixPath('/media/MAX/Data/KDIBA/vvp01/two/2006-4-17_12-52-15'), IdentifyingContext<('kdiba', 'vvp01', 'two', '2006-4-18_13-28-57')>: PosixPath('/media/MAX/Data/KDIBA/vvp01/two/2006-4-18_13-28-57'), IdentifyingContext<('kdiba', 'vvp01', 'two', '2006-4-18_15-38-2')>: PosixPath('/media/MAX/Data/KDIBA/vvp01/two/2006-4-18_15-38-2'), IdentifyingContext<('kdiba', 'vvp01', 'two', '2006-4-19_13-50-7')>: PosixPath('/media/MAX/Data/KDIBA/vvp01/two/2006-4-19_13-50-7'), IdentifyingContext<('kdiba', 'vvp01', 'two', '2006-4-19_16-37-40')>: PosixPath('/media/MAX/Data/KDIBA/vvp01/two/2006-4-19_16-37-40'), IdentifyingContext<('kdiba', 'vvp01', 'two', '2006-4-21_11-19-2')>: PosixPath('/media/MAX/Data/KDIBA/vvp01/two/2006-4-21_11-19-2'), IdentifyingContext<('kdiba', 'vvp01', 'two', '2006-4-25_13-20-55')>: PosixPath('/media/MAX/Data/KDIBA/vvp01/two/2006-4-25_13-20-55'), IdentifyingContext<('kdiba', 'vvp01', 'two', '2006-4-25_17-33-28')>: PosixPath('/media/MAX/Data/KDIBA/vvp01/two/2006-4-25_17-33-28'), IdentifyingContext<('kdiba', 'vvp01', 'two', '2006-4-26_13-51-50')>: PosixPath('/media/MAX/Data/KDIBA/vvp01/two/2006-4-26_13-51-50'), IdentifyingContext<('kdiba', 'vvp01', 'two', '2006-4-27_18-21-57')>: PosixPath('/media/MAX/Data/KDIBA/vvp01/two/2006-4-27_18-21-57'), IdentifyingContext<('kdiba', 'vvp01', 'two', '2006-4-28_12-38-13')>: PosixPath('/media/MAX/Data/KDIBA/vvp01/two/2006-4-28_12-38-13'), IdentifyingContext<('kdiba', 'vvp01', 'two', '2006-4-28_17-6-14')>: PosixPath('/media/MAX/Data/KDIBA/vvp01/two/2006-4-28_17-6-14'), IdentifyingContext<('kdiba', 'pin01', 'one', '11-02_17-46-44')>: PosixPath('/media/MAX/Data/KDIBA/pin01/one/11-02_17-46-44'), IdentifyingContext<('kdiba', 'pin01', 'one', '11-02_19-28-0')>: PosixPath('/media/MAX/Data/KDIBA/pin01/one/11-02_19-28-0'), IdentifyingContext<('kdiba', 'pin01', 'one', '11-03_12-3-25')>: PosixPath('/media/MAX/Data/KDIBA/pin01/one/11-03_12-3-25'), IdentifyingContext<('kdiba', 'pin01', 'one', '11-03_21-26-8')>: PosixPath('/media/MAX/Data/KDIBA/pin01/one/11-03_21-26-8'), IdentifyingContext<('kdiba', 'pin01', 'one', '11-05_19-26-43')>: PosixPath('/media/MAX/Data/KDIBA/pin01/one/11-05_19-26-43'), IdentifyingContext<('kdiba', 'pin01', 'one', '11-09_11-43-50')>: PosixPath('/media/MAX/Data/KDIBA/pin01/one/11-09_11-43-50'), IdentifyingContext<('kdiba', 'pin01', 'one', '11-09_12-15-3')>: PosixPath('/media/MAX/Data/KDIBA/pin01/one/11-09_12-15-3'), IdentifyingContext<('kdiba', 'pin01', 'one', '11-09_21-17-16')>: PosixPath('/media/MAX/Data/KDIBA/pin01/one/11-09_21-17-16'), IdentifyingContext<('kdiba', 'pin01', 'one', '11-09_22-4-5')>: PosixPath('/media/MAX/Data/KDIBA/pin01/one/11-09_22-4-5'), IdentifyingContext<('kdiba', 'pin01', 'one', '11-19_12-35-59')>: PosixPath('/media/MAX/Data/KDIBA/pin01/one/11-19_12-35-59'), IdentifyingContext<('kdiba', 'pin01', 'one', '11-19_13-2-0')>: PosixPath('/media/MAX/Data/KDIBA/pin01/one/11-19_13-2-0'), IdentifyingContext<('kdiba', 'pin01', 'one', '11-19_13-55-7')>: PosixPath('/media/MAX/Data/KDIBA/pin01/one/11-19_13-55-7'), IdentifyingContext<('kdiba', 'pin01', 'one', 'fet11-01_12-58-54')>: PosixPath('/media/MAX/Data/KDIBA/pin01/one/fet11-01_12-58-54'), IdentifyingContext<('kdiba', 'pin01', 'one', 'fet11-03_11-0-53')>: PosixPath('/media/MAX/Data/KDIBA/pin01/one/fet11-03_11-0-53'), IdentifyingContext<('kdiba', 'pin01', 'one', 'fet11-03_20-28-3')>: PosixPath('/media/MAX/Data/KDIBA/pin01/one/fet11-03_20-28-3'), IdentifyingContext<('kdiba', 'pin01', 'one', 'fet11-04_21-20-3')>: PosixPath('/media/MAX/Data/KDIBA/pin01/one/fet11-04_21-20-3'), IdentifyingContext<('kdiba', 'pin01', 'one', 'redundant')>: PosixPath('/media/MAX/Data/KDIBA/pin01/one/redundant'), IdentifyingContext<('kdiba', 'pin01', 'one', 'showclus')>: PosixPath('/media/MAX/Data/KDIBA/pin01/one/showclus'), IdentifyingContext<('kdiba', 'pin01', 'one', 'sleep')>: PosixPath('/media/MAX/Data/KDIBA/pin01/one/sleep'), IdentifyingContext<('kdiba', 'pin01', 'one', 'tmaze')>: PosixPath('/media/MAX/Data/KDIBA/pin01/one/tmaze')}, session_batch_errors={IdentifyingContext<('kdiba', 'gor01', 'one', '2006-6-07_11-26-53')>: None, IdentifyingContext<('kdiba', 'gor01', 'one', '2006-6-08_14-26-15')>: None, IdentifyingContext<('kdiba', 'gor01', 'one', '2006-6-09_1-22-43')>: None, IdentifyingContext<('kdiba', 'gor01', 'one', '2006-6-09_3-23-37')>: None, IdentifyingContext<('kdiba', 'gor01', 'one', '2006-6-12_15-55-31')>: None, IdentifyingContext<('kdiba', 'gor01', 'one', '2006-6-13_14-42-6')>: None, IdentifyingContext<('kdiba', 'gor01', 'two', '2006-6-07_16-40-19')>: None, IdentifyingContext<('kdiba', 'gor01', 'two', '2006-6-08_15-46-47')>: None, IdentifyingContext<('kdiba', 'gor01', 'two', '2006-6-08_21-16-25')>: None, IdentifyingContext<('kdiba', 'gor01', 'two', '2006-6-09_22-24-40')>: None, IdentifyingContext<('kdiba', 'gor01', 'two', '2006-6-12_16-53-46')>: None, IdentifyingContext<('kdiba', 'gor01', 'two', '2006-6-13_15-22-3')>: None, IdentifyingContext<('kdiba', 'vvp01', 'one', '2006-4-09_17-29-30')>: None, IdentifyingContext<('kdiba', 'vvp01', 'one', '2006-4-10_12-25-50')>: None, IdentifyingContext<('kdiba', 'vvp01', 'one', '2006-4-10_21-2-40')>: None, IdentifyingContext<('kdiba', 'vvp01', 'one', '2006-4-11_15-16-59')>: None, IdentifyingContext<('kdiba', 'vvp01', 'one', '2006-4-12_14-39-31')>: None, IdentifyingContext<('kdiba', 'vvp01', 'one', '2006-4-12_17-53-55')>: None, IdentifyingContext<('kdiba', 'vvp01', 'one', '2006-4-16_15-12-23')>: None, IdentifyingContext<('kdiba', 'vvp01', 'one', '2006-4-17_12-33-47')>: None, IdentifyingContext<('kdiba', 'vvp01', 'one', '2006-4-18_13-6-1')>: None, IdentifyingContext<('kdiba', 'vvp01', 'one', '2006-4-18_15-23-32')>: None, IdentifyingContext<('kdiba', 'vvp01', 'one', '2006-4-19_13-34-40')>: None, IdentifyingContext<('kdiba', 'vvp01', 'one', '2006-4-19_16-48-9')>: None, IdentifyingContext<('kdiba', 'vvp01', 'one', '2006-4-21_10-24-35')>: None, IdentifyingContext<('kdiba', 'vvp01', 'one', '2006-4-25_14-28-51')>: None, IdentifyingContext<('kdiba', 'vvp01', 'one', '2006-4-25_17-17-6')>: None, IdentifyingContext<('kdiba', 'vvp01', 'one', '2006-4-26_13-22-13')>: None, IdentifyingContext<('kdiba', 'vvp01', 'one', '2006-4-27_14-43-12')>: None, IdentifyingContext<('kdiba', 'vvp01', 'one', '2006-4-28_12-17-27')>: None, IdentifyingContext<('kdiba', 'vvp01', 'one', '2006-4-28_16-48-29')>: None, IdentifyingContext<('kdiba', 'vvp01', 'two', '2006-4-09_16-40-54')>: None, IdentifyingContext<('kdiba', 'vvp01', 'two', '2006-4-10_12-58-3')>: None, IdentifyingContext<('kdiba', 'vvp01', 'two', '2006-4-10_19-11-57')>: None, IdentifyingContext<('kdiba', 'vvp01', 'two', '2006-4-11_12-48-38')>: None, IdentifyingContext<('kdiba', 'vvp01', 'two', '2006-4-11_16-2-46')>: None, IdentifyingContext<('kdiba', 'vvp01', 'two', '2006-4-12_14-59-23')>: None, IdentifyingContext<('kdiba', 'vvp01', 'two', '2006-4-12_15-25-59')>: None, IdentifyingContext<('kdiba', 'vvp01', 'two', '2006-4-16_14-49-24')>: None, IdentifyingContext<('kdiba', 'vvp01', 'two', '2006-4-16_18-47-52')>: None, IdentifyingContext<('kdiba', 'vvp01', 'two', '2006-4-17_12-52-15')>: None, IdentifyingContext<('kdiba', 'vvp01', 'two', '2006-4-18_13-28-57')>: None, IdentifyingContext<('kdiba', 'vvp01', 'two', '2006-4-18_15-38-2')>: None, IdentifyingContext<('kdiba', 'vvp01', 'two', '2006-4-19_13-50-7')>: None, IdentifyingContext<('kdiba', 'vvp01', 'two', '2006-4-19_16-37-40')>: None, IdentifyingContext<('kdiba', 'vvp01', 'two', '2006-4-21_11-19-2')>: None, IdentifyingContext<('kdiba', 'vvp01', 'two', '2006-4-25_13-20-55')>: None, IdentifyingContext<('kdiba', 'vvp01', 'two', '2006-4-25_17-33-28')>: None, IdentifyingContext<('kdiba', 'vvp01', 'two', '2006-4-26_13-51-50')>: None, IdentifyingContext<('kdiba', 'vvp01', 'two', '2006-4-27_18-21-57')>: None, IdentifyingContext<('kdiba', 'vvp01', 'two', '2006-4-28_12-38-13')>: None, IdentifyingContext<('kdiba', 'vvp01', 'two', '2006-4-28_17-6-14')>: None, IdentifyingContext<('kdiba', 'pin01', 'one', '11-02_17-46-44')>: None, IdentifyingContext<('kdiba', 'pin01', 'one', '11-02_19-28-0')>: None, IdentifyingContext<('kdiba', 'pin01', 'one', '11-03_12-3-25')>: None, IdentifyingContext<('kdiba', 'pin01', 'one', '11-03_21-26-8')>: None, IdentifyingContext<('kdiba', 'pin01', 'one', '11-05_19-26-43')>: None, IdentifyingContext<('kdiba', 'pin01', 'one', '11-09_11-43-50')>: None, IdentifyingContext<('kdiba', 'pin01', 'one', '11-09_12-15-3')>: None, IdentifyingContext<('kdiba', 'pin01', 'one', '11-09_21-17-16')>: None, IdentifyingContext<('kdiba', 'pin01', 'one', '11-09_22-4-5')>: None, IdentifyingContext<('kdiba', 'pin01', 'one', '11-19_12-35-59')>: None, IdentifyingContext<('kdiba', 'pin01', 'one', '11-19_13-2-0')>: None, IdentifyingContext<('kdiba', 'pin01', 'one', '11-19_13-55-7')>: None, IdentifyingContext<('kdiba', 'pin01', 'one', 'fet11-01_12-58-54')>: None, IdentifyingContext<('kdiba', 'pin01', 'one', 'fet11-03_11-0-53')>: None, IdentifyingContext<('kdiba', 'pin01', 'one', 'fet11-03_20-28-3')>: None, IdentifyingContext<('kdiba', 'pin01', 'one', 'fet11-04_21-20-3')>: None, IdentifyingContext<('kdiba', 'pin01', 'one', 'redundant')>: None, IdentifyingContext<('kdiba', 'pin01', 'one', 'showclus')>: None, IdentifyingContext<('kdiba', 'pin01', 'one', 'sleep')>: None, IdentifyingContext<('kdiba', 'pin01', 'one', 'tmaze')>: None}, session_batch_outputs={IdentifyingContext<('kdiba', 'gor01', 'one', '2006-6-07_11-26-53')>: None, IdentifyingContext<('kdiba', 'gor01', 'one', '2006-6-08_14-26-15')>: None, IdentifyingContext<('kdiba', 'gor01', 'one', '2006-6-09_1-22-43')>: None, IdentifyingContext<('kdiba', 'gor01', 'one', '2006-6-09_3-23-37')>: None, IdentifyingContext<('kdiba', 'gor01', 'one', '2006-6-12_15-55-31')>: None, IdentifyingContext<('kdiba', 'gor01', 'one', '2006-6-13_14-42-6')>: None, IdentifyingContext<('kdiba', 'gor01', 'two', '2006-6-07_16-40-19')>: None, IdentifyingContext<('kdiba', 'gor01', 'two', '2006-6-08_15-46-47')>: None, IdentifyingContext<('kdiba', 'gor01', 'two', '2006-6-08_21-16-25')>: None, IdentifyingContext<('kdiba', 'gor01', 'two', '2006-6-09_22-24-40')>: None, IdentifyingContext<('kdiba', 'gor01', 'two', '2006-6-12_16-53-46')>: None, IdentifyingContext<('kdiba', 'gor01', 'two', '2006-6-13_15-22-3')>: None, IdentifyingContext<('kdiba', 'vvp01', 'one', '2006-4-09_17-29-30')>: None, IdentifyingContext<('kdiba', 'vvp01', 'one', '2006-4-10_12-25-50')>: None, IdentifyingContext<('kdiba', 'vvp01', 'one', '2006-4-10_21-2-40')>: None, IdentifyingContext<('kdiba', 'vvp01', 'one', '2006-4-11_15-16-59')>: None, IdentifyingContext<('kdiba', 'vvp01', 'one', '2006-4-12_14-39-31')>: None, IdentifyingContext<('kdiba', 'vvp01', 'one', '2006-4-12_17-53-55')>: None, IdentifyingContext<('kdiba', 'vvp01', 'one', '2006-4-16_15-12-23')>: None, IdentifyingContext<('kdiba', 'vvp01', 'one', '2006-4-17_12-33-47')>: None, IdentifyingContext<('kdiba', 'vvp01', 'one', '2006-4-18_13-6-1')>: None, IdentifyingContext<('kdiba', 'vvp01', 'one', '2006-4-18_15-23-32')>: None, IdentifyingContext<('kdiba', 'vvp01', 'one', '2006-4-19_13-34-40')>: None, IdentifyingContext<('kdiba', 'vvp01', 'one', '2006-4-19_16-48-9')>: None, IdentifyingContext<('kdiba', 'vvp01', 'one', '2006-4-21_10-24-35')>: None, IdentifyingContext<('kdiba', 'vvp01', 'one', '2006-4-25_14-28-51')>: None, IdentifyingContext<('kdiba', 'vvp01', 'one', '2006-4-25_17-17-6')>: None, IdentifyingContext<('kdiba', 'vvp01', 'one', '2006-4-26_13-22-13')>: None, IdentifyingContext<('kdiba', 'vvp01', 'one', '2006-4-27_14-43-12')>: None, IdentifyingContext<('kdiba', 'vvp01', 'one', '2006-4-28_12-17-27')>: None, IdentifyingContext<('kdiba', 'vvp01', 'one', '2006-4-28_16-48-29')>: None, IdentifyingContext<('kdiba', 'vvp01', 'two', '2006-4-09_16-40-54')>: None, IdentifyingContext<('kdiba', 'vvp01', 'two', '2006-4-10_12-58-3')>: None, IdentifyingContext<('kdiba', 'vvp01', 'two', '2006-4-10_19-11-57')>: None, IdentifyingContext<('kdiba', 'vvp01', 'two', '2006-4-11_12-48-38')>: None, IdentifyingContext<('kdiba', 'vvp01', 'two', '2006-4-11_16-2-46')>: None, IdentifyingContext<('kdiba', 'vvp01', 'two', '2006-4-12_14-59-23')>: None, IdentifyingContext<('kdiba', 'vvp01', 'two', '2006-4-12_15-25-59')>: None, IdentifyingContext<('kdiba', 'vvp01', 'two', '2006-4-16_14-49-24')>: None, IdentifyingContext<('kdiba', 'vvp01', 'two', '2006-4-16_18-47-52')>: None, IdentifyingContext<('kdiba', 'vvp01', 'two', '2006-4-17_12-52-15')>: None, IdentifyingContext<('kdiba', 'vvp01', 'two', '2006-4-18_13-28-57')>: None, IdentifyingContext<('kdiba', 'vvp01', 'two', '2006-4-18_15-38-2')>: None, IdentifyingContext<('kdiba', 'vvp01', 'two', '2006-4-19_13-50-7')>: None, IdentifyingContext<('kdiba', 'vvp01', 'two', '2006-4-19_16-37-40')>: None, IdentifyingContext<('kdiba', 'vvp01', 'two', '2006-4-21_11-19-2')>: None, IdentifyingContext<('kdiba', 'vvp01', 'two', '2006-4-25_13-20-55')>: None, IdentifyingContext<('kdiba', 'vvp01', 'two', '2006-4-25_17-33-28')>: None, IdentifyingContext<('kdiba', 'vvp01', 'two', '2006-4-26_13-51-50')>: None, IdentifyingContext<('kdiba', 'vvp01', 'two', '2006-4-27_18-21-57')>: None, IdentifyingContext<('kdiba', 'vvp01', 'two', '2006-4-28_12-38-13')>: None, IdentifyingContext<('kdiba', 'vvp01', 'two', '2006-4-28_17-6-14')>: None, IdentifyingContext<('kdiba', 'pin01', 'one', '11-02_17-46-44')>: None, IdentifyingContext<('kdiba', 'pin01', 'one', '11-02_19-28-0')>: None, IdentifyingContext<('kdiba', 'pin01', 'one', '11-03_12-3-25')>: None, IdentifyingContext<('kdiba', 'pin01', 'one', '11-03_21-26-8')>: None, IdentifyingContext<('kdiba', 'pin01', 'one', '11-05_19-26-43')>: None, IdentifyingContext<('kdiba', 'pin01', 'one', '11-09_11-43-50')>: None, IdentifyingContext<('kdiba', 'pin01', 'one', '11-09_12-15-3')>: None, IdentifyingContext<('kdiba', 'pin01', 'one', '11-09_21-17-16')>: None, IdentifyingContext<('kdiba', 'pin01', 'one', '11-09_22-4-5')>: None, IdentifyingContext<('kdiba', 'pin01', 'one', '11-19_12-35-59')>: None, IdentifyingContext<('kdiba', 'pin01', 'one', '11-19_13-2-0')>: None, IdentifyingContext<('kdiba', 'pin01', 'one', '11-19_13-55-7')>: None, IdentifyingContext<('kdiba', 'pin01', 'one', 'fet11-01_12-58-54')>: None, IdentifyingContext<('kdiba', 'pin01', 'one', 'fet11-03_11-0-53')>: None, IdentifyingContext<('kdiba', 'pin01', 'one', 'fet11-03_20-28-3')>: None, IdentifyingContext<('kdiba', 'pin01', 'one', 'fet11-04_21-20-3')>: None, IdentifyingContext<('kdiba', 'pin01', 'one', 'redundant')>: None, IdentifyingContext<('kdiba', 'pin01', 'one', 'showclus')>: None, IdentifyingContext<('kdiba', 'pin01', 'one', 'sleep')>: None, IdentifyingContext<('kdiba', 'pin01', 'one', 'tmaze')>: None}, enable_saving_to_disk=False)"
      ]
     },
     "execution_count": 14,
     "metadata": {},
     "output_type": "execute_result"
    }
   ],
   "source": [
    "# global_batch_result = loadData('global_batch_result.pkl')\n",
    "global_batch_run = run_diba_batch(global_data_root_parent_path, execute_all=False, extant_batch_run=global_batch_run, debug_print=False)\n",
    "# print(f'global_batch_result: {global_batch_run}')\n",
    "global_batch_run"
   ]
  },
  {
   "cell_type": "markdown",
   "id": "ab824348",
   "metadata": {
    "tags": []
   },
   "source": [
    "# Run Batch Executions/Computations"
   ]
  },
  {
   "cell_type": "code",
   "execution_count": 15,
   "id": "2bd73b8d",
   "metadata": {
    "scrolled": true,
    "tags": []
   },
   "outputs": [],
   "source": [
    "## I got it doing the bare-minimum loading and computations, so it should be ready to update the laps and constraint the placefields to those. Then we should be able to set up the replays at the same time.\n",
    "# finally, we then finish by computing.\n",
    "\n",
    "included_session_contexts = batch_progress_df[np.logical_and(batch_progress_df['has_user_replay_annotations'], batch_progress_df['is_ready'])]['context'].to_numpy().tolist()\n",
    "# included_session_contexts\n",
    "\n",
    "# No Reloading\n",
    "# result_handler = BatchSessionCompletionHandler(force_reload_all=False,\n",
    "#                                                 session_computations_options=BatchComputationProcessOptions(should_load=True, should_compute=False, should_save=False),\n",
    "#                                                 global_computations_options=BatchComputationProcessOptions(should_load=True, should_compute=False, should_save=False),\n",
    "#                                                 should_perform_figure_generation_to_file=False, saving_mode=PipelineSavingScheme.SKIP_SAVING, force_global_recompute=False)\n",
    "\n",
    "# Forced Reloading:\n",
    "result_handler = BatchSessionCompletionHandler(force_reload_all=True,\n",
    "                                                session_computations_options=BatchComputationProcessOptions(should_load=False, should_compute=True, should_save=True),\n",
    "                                                global_computations_options=BatchComputationProcessOptions(should_load=False, should_compute=True, should_save=True),\n",
    "                                                should_perform_figure_generation_to_file=False, saving_mode=PipelineSavingScheme.OVERWRITE_IN_PLACE, force_global_recompute=True)\n",
    "\n",
    "multiprocessing_kwargs = dict(use_multiprocessing=False, num_processes=1)\n",
    "# multiprocessing_kwargs = dict(use_multiprocessing=True, num_processes=4)\n",
    "\n",
    "## Execute with the custom arguments.\n",
    "active_computation_functions_name_includelist=['_perform_baseline_placefield_computation',\n",
    "                                        # '_perform_time_dependent_placefield_computation',\n",
    "                                        '_perform_extended_statistics_computation',\n",
    "                                        '_perform_position_decoding_computation', \n",
    "                                        '_perform_firing_rate_trends_computation',\n",
    "                                        '_perform_pf_find_ratemap_peaks_computation',\n",
    "                                        # '_perform_time_dependent_pf_sequential_surprise_computation'\n",
    "                                        '_perform_two_step_position_decoding_computation',\n",
    "                                        # '_perform_recursive_latent_placefield_decoding'\n",
    "                                    ]\n",
    "# active_computation_functions_name_includelist=['_perform_baseline_placefield_computation']\n",
    "global_batch_run.execute_all(force_reload=result_handler.force_reload_all, saving_mode=result_handler.saving_mode, skip_extended_batch_computations=True, post_run_callback_fn=result_handler.on_complete_success_execution_session,\n",
    "                             fail_on_exception=False, included_session_contexts=included_session_contexts,\n",
    "                                                                                        **{'computation_functions_name_includelist': active_computation_functions_name_includelist,\n",
    "                                                                                            'active_session_computation_configs': None,\n",
    "                                                                                            'allow_processing_previously_completed': True}, **multiprocessing_kwargs) # can override `active_session_computation_configs` if we want to set custom ones like only the laps.)\n",
    "\n",
    "# 4m 39.8s"
   ]
  },
  {
   "cell_type": "code",
   "execution_count": null,
   "id": "7714fb35-7e2f-4bc3-8598-f768b05fd6c4",
   "metadata": {
    "tags": []
   },
   "outputs": [],
   "source": [
    "# Can override the output filepath like this:\n",
    "active_global_batch_result_filename='global_batch_result_2023-07-19.pkl'\n",
    "global_batch_result_file_path = Path(global_data_root_parent_path).joinpath(active_global_batch_result_filename).resolve() # Use Default"
   ]
  },
  {
   "cell_type": "code",
   "execution_count": null,
   "id": "a8ab00d2-66a4-4087-81ed-7db2aec94aaf",
   "metadata": {
    "tags": []
   },
   "outputs": [],
   "source": [
    "# Save to file:\n",
    "saveData(global_batch_result_file_path, global_batch_run) # Update the global batch run dictionary"
   ]
  },
  {
   "cell_type": "code",
   "execution_count": null,
   "id": "511725ed-4794-44f4-b398-cf25dcb06201",
   "metadata": {
    "tags": []
   },
   "outputs": [],
   "source": [
    "# list(global_batch_run.session_batch_outputs.keys())\n",
    "\n",
    "# Somewhere in there there are `InstantaneousSpikeRateGroupsComputation` results to extract\n",
    "across_sessions_instantaneous_fr_dict = {} # InstantaneousSpikeRateGroupsComputation\n",
    "\n",
    "for a_ctxt, a_result in global_batch_run.session_batch_outputs.items():\n",
    "    if a_result is not None:\n",
    "        a_good_result = a_result.get('across_sessions_batch_results', {}).get('inst_fr_comps', None)\n",
    "        if a_good_result is not None:\n",
    "            across_sessions_instantaneous_fr_dict[a_ctxt] = a_good_result\n",
    "            # print(a_result['across_sessions_batch_results']['inst_fr_comps'])\n",
    "            \n",
    "num_sessions = len(across_sessions_instantaneous_fr_dict)\n",
    "print(f'num_sessions: {num_sessions}')\n",
    "# When done, `result_handler.across_sessions_instantaneous_fr_dict` is now equivalent to what it would have been before. It can be saved using the normal `.save_across_sessions_data(...)`"
   ]
  },
  {
   "cell_type": "code",
   "execution_count": null,
   "id": "b2131bc6-efb9-4768-87de-374d857c8227",
   "metadata": {
    "tags": []
   },
   "outputs": [],
   "source": [
    "inst_fr_output_filename='across_session_result_long_short_inst_firing_rate_2023-07-19.pkl'\n",
    "global_batch_result_inst_fr_file_path = Path(global_data_root_parent_path).joinpath(inst_fr_output_filename).resolve() # Use Default\n",
    "print(f'global_batch_result_inst_fr_file_path: {global_batch_result_inst_fr_file_path}')\n",
    "# Save the all sessions instantaneous firing rate dict to the path:\n",
    "saveData(global_batch_result_inst_fr_file_path, across_sessions_instantaneous_fr_dict)"
   ]
  },
  {
   "cell_type": "code",
   "execution_count": null,
   "id": "cf462d87-76a1-4a3b-b077-5215f433deb2",
   "metadata": {},
   "outputs": [],
   "source": [
    "## Save the instantaneous firing rate results dict: (# Dict[IdentifyingContext] = InstantaneousSpikeRateGroupsComputation)\n",
    "#TODO 2023-07-12 10:12: - [ ] New save way after we save out current result and reload\n",
    "result_handler.save_across_sessions_data(global_data_root_parent_path=global_data_root_parent_path, inst_fr_output_filename='across_session_result_long_short_inst_firing_rate_2023-07-19.pkl')\n",
    "num_sessions = len(result_handler.across_sessions_instantaneous_fr_dict)\n",
    "print(f'num_sessions: {num_sessions}')"
   ]
  },
  {
   "cell_type": "markdown",
   "id": "be651cc7",
   "metadata": {
    "tags": []
   },
   "source": [
    "# 2023-07-14 - Load Saved across-sessions-data and testing Batch-computed inst_firing_rates:"
   ]
  },
  {
   "cell_type": "code",
   "execution_count": null,
   "id": "28ad5bf6",
   "metadata": {},
   "outputs": [],
   "source": [
    "from neuropy.utils.matplotlib_helpers import matplotlib_configuration_update\n",
    "from pyphoplacecellanalysis.General.Batch.PhoDiba2023Paper import PaperFigureTwo, InstantaneousSpikeRateGroupsComputation\n",
    "from pyphoplacecellanalysis.General.Pipeline.Stages.ComputationFunctions.SpikeAnalysis import SpikeRateTrends\n",
    "\n",
    "## Load the saved across-session results:\n",
    "# inst_fr_output_filename = 'long_short_inst_firing_rate_result_handlers_2023-07-12.pkl'\n",
    "# inst_fr_output_filename = 'across_session_result_long_short_inst_firing_rate.pkl'\n",
    "inst_fr_output_filename='across_session_result_long_short_inst_firing_rate_2023-07-19.pkl'\n",
    "across_session_inst_fr_computation, across_sessions_instantaneous_fr_dict, across_sessions_instantaneous_frs_list = BatchSessionCompletionHandler.load_across_sessions_data(global_data_root_parent_path=global_data_root_parent_path, inst_fr_output_filename=inst_fr_output_filename)\n",
    "# across_sessions_instantaneous_fr_dict = loadData(global_batch_result_inst_fr_file_path)\n",
    "num_sessions = len(across_sessions_instantaneous_fr_dict)\n",
    "print(f'num_sessions: {num_sessions}')"
   ]
  },
  {
   "cell_type": "code",
   "execution_count": null,
   "id": "63258151",
   "metadata": {},
   "outputs": [],
   "source": [
    "## Aggregate across all of the sessions to build a new combined `InstantaneousSpikeRateGroupsComputation`, which can be used to plot the \"PaperFigureTwo\", bar plots for many sessions.\n",
    "global_multi_session_context = IdentifyingContext(format_name='kdiba', num_sessions=num_sessions) # some global context across all of the sessions, not sure what to put here.\n",
    "\n",
    "# To correctly aggregate results across sessions, it only makes sense to combine entries at the `.cell_agg_inst_fr_list` variable and lower (as the number of cells can be added across sessions, treated as unique for each session).\n",
    "\n",
    "## Display the aggregate across sessions:\n",
    "_out_fig_2 = PaperFigureTwo(instantaneous_time_bin_size_seconds=0.01) # WARNING: we didn't save this info\n",
    "_out_fig_2.computation_result = across_session_inst_fr_computation\n",
    "_out_fig_2.active_identifying_session_ctx = across_session_inst_fr_computation.active_identifying_session_ctx\n",
    "# Set callback, the only self-specific property\n",
    "# _out_fig_2._pipeline_file_callback_fn = curr_active_pipeline.output_figure # lambda args, kwargs: self.write_to_file(args, kwargs, curr_active_pipeline)"
   ]
  },
  {
   "cell_type": "code",
   "execution_count": null,
   "id": "96c498f8",
   "metadata": {},
   "outputs": [],
   "source": [
    "from pyphoplacecellanalysis.General.Mixins.ExportHelpers import FigureOutputManager, FigureOutputLocation, ContextToPathMode\n",
    "\n",
    "registered_output_files = {}\n",
    "\n",
    "def output_figure(final_context: IdentifyingContext, fig, write_vector_format:bool=False, write_png:bool=True, debug_print=True):\n",
    "    \"\"\" outputs the figure using the provided context. \"\"\"\n",
    "    from pyphoplacecellanalysis.General.Mixins.ExportHelpers import build_and_write_to_file\n",
    "    def register_output_file(output_path, output_metadata=None):\n",
    "        \"\"\" registers a new output file for the pipeline \"\"\"\n",
    "        print(f'register_output_file(output_path: {output_path}, ...)')\n",
    "        registered_output_files[output_path] = output_metadata or {}\n",
    "\n",
    "    fig_out_man = FigureOutputManager(figure_output_location=FigureOutputLocation.DAILY_PROGRAMMATIC_OUTPUT_FOLDER, context_to_path_mode=ContextToPathMode.HIERARCHY_UNIQUE)\n",
    "    active_out_figure_paths = build_and_write_to_file(fig, final_context, fig_out_man, write_vector_format=write_vector_format, write_png=write_png, register_output_file_fn=register_output_file)\n",
    "    return active_out_figure_paths, final_context\n",
    "\n",
    "\n",
    "# Set callback, the only self-specific property\n",
    "_out_fig_2._pipeline_file_callback_fn = output_figure"
   ]
  },
  {
   "cell_type": "code",
   "execution_count": null,
   "id": "a694ec1c",
   "metadata": {},
   "outputs": [],
   "source": [
    "# Showing\n",
    "restore_previous_matplotlib_settings_callback = matplotlib_configuration_update(is_interactive=True, backend='Qt5Agg')\n",
    "# Perform interactive Matplotlib operations with 'Qt5Agg' backend\n",
    "_fig_2_theta_out, _fig_2_replay_out = _out_fig_2.display(active_context=global_multi_session_context, title_modifier_fn=lambda original_title: f\"{original_title} ({num_sessions} sessions)\", save_figure=True)\n",
    "\t\n",
    "_out_fig_2.perform_save()"
   ]
  },
  {
   "cell_type": "markdown",
   "id": "32781c8b",
   "metadata": {
    "jp-MarkdownHeadingCollapsed": true,
    "tags": []
   },
   "source": [
    "## Single Session testing:\n"
   ]
  },
  {
   "cell_type": "code",
   "execution_count": null,
   "id": "9311a987",
   "metadata": {},
   "outputs": [],
   "source": [
    "_test_out = global_batch_run.execute_session(session_context=curr_sess_context, force_reload=True, skip_extended_batch_computations=True, computation_functions_name_includelist =['_perform_baseline_placefield_computation'], active_session_computation_configs=None) # can override `active_session_computation_configs` if we want to set custom ones like only the laps.)\n",
    "_test_out\n",
    "\n",
    "# global_batch_run.execute_session(session_context=curr_sess_context, force_reload=True, skip_extended_batch_computations=True, **{'computation_functions_name_includelist': ['_perform_baseline_placefield_computation'], 'active_session_computation_configs': None}) # can override `active_session_computation_configs` if we want to set custom ones like only the laps.)\n",
    "\n",
    "# 23.5s"
   ]
  },
  {
   "cell_type": "code",
   "execution_count": null,
   "id": "ddf2bb67",
   "metadata": {
    "tags": []
   },
   "outputs": [],
   "source": [
    "\n",
    "full_good_dirs = [k for k, v in global_batch_run.session_batch_errors.items() if v is None]\n",
    "bad_dirs = [k for k, v in global_batch_run.session_batch_errors.items() if v is not None]\n",
    "full_good_dirs\n",
    "bad_dirs"
   ]
  },
  {
   "cell_type": "code",
   "execution_count": null,
   "id": "9d5f73f9",
   "metadata": {
    "tags": []
   },
   "outputs": [],
   "source": [
    "global_batch_run.session_batch_status"
   ]
  },
  {
   "cell_type": "code",
   "execution_count": null,
   "id": "0dcad70a",
   "metadata": {},
   "outputs": [],
   "source": [
    "global_batch_run.session_batch_status\n",
    "global_batch_run.session_batch_errors"
   ]
  },
  {
   "cell_type": "markdown",
   "id": "15faf2bb",
   "metadata": {
    "tags": []
   },
   "source": [
    "# Get good sessions for use in the specific session processing notebook:"
   ]
  },
  {
   "cell_type": "code",
   "execution_count": null,
   "id": "ed516134",
   "metadata": {
    "tags": []
   },
   "outputs": [],
   "source": [
    "batch_progress_df = global_batch_run.to_dataframe(expand_context=True, good_only=False) # all\n",
    "good_only_batch_progress_df = global_batch_run.to_dataframe(expand_context=True, good_only=True)\n",
    "good_only_batch_progress_df"
   ]
  },
  {
   "cell_type": "code",
   "execution_count": null,
   "id": "bdf02efc",
   "metadata": {
    "tags": []
   },
   "outputs": [],
   "source": [
    "## Get the list of sessions that are completely ready to process:\n",
    "full_good_ready_to_process_sessions = list(good_only_batch_progress_df['context'].to_numpy())\n",
    "full_good_ready_to_process_sessions\n",
    "# Get good sessions for use in the specific session processing notebook:"
   ]
  },
  {
   "cell_type": "code",
   "execution_count": null,
   "id": "8f1ad809",
   "metadata": {
    "tags": []
   },
   "outputs": [],
   "source": [
    "run[\"good_sessions_list\"].extend(full_good_ready_to_process_sessions)"
   ]
  },
  {
   "cell_type": "code",
   "execution_count": null,
   "id": "c636e3b9",
   "metadata": {
    "tags": []
   },
   "outputs": [],
   "source": [
    "run.stop()\n",
    "project.stop()"
   ]
  },
  {
   "cell_type": "code",
   "execution_count": null,
   "id": "8caf1322",
   "metadata": {
    "tags": []
   },
   "outputs": [],
   "source": [
    "\n",
    "print(\",\\n\".join([ctx.get_initialization_code_string() for ctx in full_good_ready_to_process_sessions])) # List definitions\n",
    "\n",
    "# [IdentifyingContext(format_name='kdiba',animal='gor01',exper_name='one',session_name='2006-6-08_14-26-15'),\n",
    "# IdentifyingContext(format_name='kdiba',animal='gor01',exper_name='one',session_name='2006-6-09_1-22-43'),\n",
    "# IdentifyingContext(format_name='kdiba',animal='gor01',exper_name='one',session_name='2006-6-12_15-55-31'),\n",
    "# IdentifyingContext(format_name='kdiba',animal='gor01',exper_name='one',session_name='2006-6-13_14-42-6'),\n",
    "# IdentifyingContext(format_name='kdiba',animal='gor01',exper_name='two',session_name='2006-6-07_16-40-19'),\n",
    "# IdentifyingContext(format_name='kdiba',animal='gor01',exper_name='two',session_name='2006-6-12_16-53-46'),\n",
    "# IdentifyingContext(format_name='kdiba',animal='vvp01',exper_name='one',session_name='2006-4-09_17-29-30')]"
   ]
  },
  {
   "cell_type": "code",
   "execution_count": null,
   "id": "ee5a4bfe",
   "metadata": {
    "tags": []
   },
   "outputs": [],
   "source": [
    "print(\"\\ncurr_context = \".join([ctx.get_initialization_code_string() for ctx in full_good_ready_to_process_sessions])) # Line definitions\n",
    "\n",
    "# curr_context = IdentifyingContext(format_name='kdiba',animal='gor01',exper_name='one',session_name='2006-6-08_14-26-15')\n",
    "# curr_context = IdentifyingContext(format_name='kdiba',animal='gor01',exper_name='one',session_name='2006-6-09_1-22-43')\n",
    "# curr_context = IdentifyingContext(format_name='kdiba',animal='gor01',exper_name='one',session_name='2006-6-12_15-55-31')\n",
    "# curr_context = IdentifyingContext(format_name='kdiba',animal='gor01',exper_name='one',session_name='2006-6-13_14-42-6')\n",
    "# curr_context = IdentifyingContext(format_name='kdiba',animal='gor01',exper_name='two',session_name='2006-6-07_16-40-19')\n",
    "# curr_context = IdentifyingContext(format_name='kdiba',animal='gor01',exper_name='two',session_name='2006-6-12_16-53-46')\n",
    "# curr_context = IdentifyingContext(format_name='kdiba',animal='vvp01',exper_name='one',session_name='2006-4-09_17-29-30')"
   ]
  },
  {
   "cell_type": "code",
   "execution_count": null,
   "id": "e5689d1d-6400-4f87-be0e-a184a1d5bee4",
   "metadata": {
    "tags": []
   },
   "outputs": [],
   "source": [
    "good_only_batch_progress_df"
   ]
  },
  {
   "cell_type": "code",
   "execution_count": null,
   "id": "7c82aedf-b024-4f07-b1a9-350730b4db8c",
   "metadata": {
    "tags": []
   },
   "outputs": [],
   "source": [
    "from datetime import datetime\n",
    "\n",
    "# datetime object containing current date and time\n",
    "save_time = datetime.now()\n",
    " \n",
    "print(\"save_time =\", save_time)\n",
    "\n",
    "# dd/mm/YY H:M:S\n",
    "dt_string = save_time.strftime(\"%Y-%m-%d_%I-%M%p\")\n",
    "print(\"date and time =\", dt_string)"
   ]
  },
  {
   "cell_type": "code",
   "execution_count": null,
   "id": "ac7bc6bd-5b34-41d0-b906-b0ad9927b08d",
   "metadata": {
    "tags": []
   },
   "outputs": [],
   "source": [
    "## Get output file paths:\n",
    "completed_pipeline_filename = 'loadedSessPickle.pkl'\n",
    "completed_global_computations_filename = 'outputs/global_computation_results.pkl'\n",
    "\n",
    "full_good_ready_to_process_session_paths = list(good_only_batch_progress_df['basedirs'].to_numpy())\n",
    "session_paths_output_folders = [sess_path.joinpath('outputs').resolve() for sess_path in full_good_ready_to_process_session_paths]\n",
    "\n",
    "\n",
    "\n",
    "completed_pipeline_file_paths = [sess_path.joinpath(completed_pipeline_filename).resolve() for sess_path in full_good_ready_to_process_session_paths]\n",
    "completed_global_computations_file_paths = [sess_path.joinpath(completed_global_computations_filename).resolve() for sess_path in full_good_ready_to_process_session_paths]\n",
    "completed_global_computations_file_paths"
   ]
  }
 ],
 "metadata": {
  "kernelspec": {
   "display_name": "Python 3 (ipykernel)",
   "language": "python",
   "name": "python3"
  },
  "language_info": {
   "codemirror_mode": {
    "name": "ipython",
    "version": 3
   },
   "file_extension": ".py",
   "mimetype": "text/x-python",
   "name": "python",
   "nbconvert_exporter": "python",
   "pygments_lexer": "ipython3",
   "version": "3.9.13"
  },
  "toc-showmarkdowntxt": false,
  "toc-showtags": false
 },
 "nbformat": 4,
 "nbformat_minor": 5
}
